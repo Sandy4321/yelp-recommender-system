{
 "cells": [
  {
   "cell_type": "markdown",
   "metadata": {
    "nbpresent": {
     "id": "b9298927-8339-493e-a961-d6738f2a24d9"
    },
    "run_control": {
     "frozen": false,
     "read_only": false
    }
   },
   "source": [
    "# Using Pandas read_json function:"
   ]
  },
  {
   "cell_type": "code",
   "execution_count": 1,
   "metadata": {
    "ExecuteTime": {
     "end_time": "2017-02-01T17:19:24.056555",
     "start_time": "2017-02-01T17:19:23.321082"
    },
    "collapsed": true,
    "nbpresent": {
     "id": "7d1823d2-e566-42f2-8cd7-189b930a466e"
    },
    "run_control": {
     "frozen": false,
     "read_only": false
    }
   },
   "outputs": [],
   "source": [
    "import pandas as pd\n",
    "import numpy as np\n",
    "import matplotlib.pyplot as plt\n",
    "from scipy.optimize import minimize"
   ]
  },
  {
   "cell_type": "code",
   "execution_count": 2,
   "metadata": {
    "ExecuteTime": {
     "end_time": "2017-02-01T17:21:05.460955",
     "start_time": "2017-02-01T17:19:24.058035"
    },
    "collapsed": false,
    "nbpresent": {
     "id": "9218107c-758c-4804-b329-5b24878a7ca7"
    },
    "run_control": {
     "frozen": false,
     "read_only": false
    }
   },
   "outputs": [],
   "source": [
    "with open('yelp_dataset/yelp_academic_dataset_review.json') as file:\n",
    "        review = pd.read_json(file, lines = True)\n",
    "\n",
    "with open('yelp_dataset/yelp_academic_dataset_business.json') as file:\n",
    "        business = pd.read_json(file, lines = True)\n",
    "\n",
    "with open('yelp_dataset/yelp_academic_dataset_user.json') as file:\n",
    "        user = pd.read_json(file, lines = True)"
   ]
  },
  {
   "cell_type": "code",
   "execution_count": 3,
   "metadata": {
    "ExecuteTime": {
     "end_time": "2017-02-01T17:21:05.467473",
     "start_time": "2017-02-01T17:21:05.462960"
    },
    "collapsed": true,
    "nbpresent": {
     "id": "f5efde52-8126-4f63-b5bd-bfda847d36a0"
    },
    "run_control": {
     "frozen": false,
     "read_only": false
    }
   },
   "outputs": [],
   "source": [
    "# with open('yelp_dataset/yelp_academic_dataset_tip.json') as file:\n",
    "#         tip = pd.read_json(file, lines = True)\n",
    "\n",
    "# with open('yelp_dataset/yelp_academic_dataset_checkin.json') as file:\n",
    "#         checkin = pd.read_json(file, lines = True)\n",
    "\n",
    "# dfs = ['tip', 'review', 'business', 'checkin', 'user']"
   ]
  },
  {
   "cell_type": "markdown",
   "metadata": {
    "nbpresent": {
     "id": "d4dd6ee2-19e8-4620-b413-e6aea6c5e295"
    },
    "run_control": {
     "frozen": false,
     "read_only": false
    }
   },
   "source": [
    "tip:  ['business_id' 'date' 'likes' 'text' 'type' 'user_id'] \n",
    "\n",
    "review:  ['business_id' 'date' 'review_id' 'stars' 'text' 'type' 'user_id' 'votes'] \n",
    "\n",
    "business:  ['attributes' 'business_id' 'categories' 'city' 'full_address' 'hours'\n",
    " 'latitude' 'longitude' 'name' 'neighborhoods' 'open' 'review_count'\n",
    " 'stars' 'state' 'type'] \n",
    " \n",
    "checkin:  ['business_id' 'checkin_info' 'type'] \n",
    "\n",
    "user:  ['average_stars' 'compliments' 'elite' 'fans' 'friends' 'name'\n",
    " 'review_count' 'type' 'user_id' 'votes' 'yelping_since']"
   ]
  },
  {
   "cell_type": "markdown",
   "metadata": {
    "ExecuteTime": {
     "end_time": "2017-01-16T10:51:16.522572",
     "start_time": "2017-01-16T10:51:16.519063"
    },
    "nbpresent": {
     "id": "20af1a3d-9b4a-4968-8303-4e8c81e30581"
    },
    "run_control": {
     "frozen": false,
     "read_only": false
    }
   },
   "source": [
    "# Building a recommender system\n",
    "First, get the relevant data: user-business stars... create matrices Y, R\n",
    "\n",
    "** Y ** that contains #business as rows, #user as columns, values = stars\n",
    "\n",
    "** R ** same size as Y, values = 1 if a user has rated a business **\n",
    "\n"
   ]
  },
  {
   "cell_type": "markdown",
   "metadata": {
    "ExecuteTime": {
     "end_time": "2017-01-16T11:37:05.223228",
     "start_time": "2017-01-16T11:37:05.219214"
    },
    "collapsed": true,
    "nbpresent": {
     "id": "a5a7565b-440a-4112-9058-6bb40c2c303c"
    },
    "run_control": {
     "frozen": false,
     "read_only": false
    }
   },
   "source": [
    "# Need to determine businesses and users to include in the model"
   ]
  },
  {
   "cell_type": "markdown",
   "metadata": {
    "run_control": {
     "frozen": false,
     "read_only": false
    }
   },
   "source": [
    "## Drop businesses and users with review counts less than 20"
   ]
  },
  {
   "cell_type": "code",
   "execution_count": 4,
   "metadata": {
    "ExecuteTime": {
     "end_time": "2017-02-01T17:21:06.032562",
     "start_time": "2017-02-01T17:21:05.469979"
    },
    "collapsed": false,
    "run_control": {
     "frozen": false,
     "read_only": false
    }
   },
   "outputs": [],
   "source": [
    "user = user[user.review_count > 20]"
   ]
  },
  {
   "cell_type": "code",
   "execution_count": 5,
   "metadata": {
    "ExecuteTime": {
     "end_time": "2017-02-01T17:21:06.213043",
     "start_time": "2017-02-01T17:21:06.034568"
    },
    "collapsed": true,
    "run_control": {
     "frozen": false,
     "read_only": false
    }
   },
   "outputs": [],
   "source": [
    "business = business[business.review_count > 20]"
   ]
  },
  {
   "cell_type": "code",
   "execution_count": 6,
   "metadata": {
    "ExecuteTime": {
     "end_time": "2017-02-01T17:21:06.228584",
     "start_time": "2017-02-01T17:21:06.215549"
    },
    "collapsed": false,
    "run_control": {
     "frozen": false,
     "read_only": false
    }
   },
   "outputs": [
    {
     "data": {
      "text/plain": [
       "state\n",
       "AZ     10754\n",
       "BW       133\n",
       "CA         3\n",
       "EDH      525\n",
       "FIF        1\n",
       "IL       253\n",
       "MLN       15\n",
       "NC      1897\n",
       "NV      8645\n",
       "ON        85\n",
       "PA      1315\n",
       "QC      1125\n",
       "RP         1\n",
       "SC        68\n",
       "TX         1\n",
       "WI       858\n",
       "XGL        1\n",
       "dtype: int64"
      ]
     },
     "execution_count": 6,
     "metadata": {},
     "output_type": "execute_result"
    }
   ],
   "source": [
    "business.groupby('state').size()"
   ]
  },
  {
   "cell_type": "markdown",
   "metadata": {
    "run_control": {
     "frozen": false,
     "read_only": false
    }
   },
   "source": [
    "## Drop states with less than 20 businesses (recommend within state if #>20)"
   ]
  },
  {
   "cell_type": "code",
   "execution_count": 7,
   "metadata": {
    "ExecuteTime": {
     "end_time": "2017-02-01T17:21:06.277214",
     "start_time": "2017-02-01T17:21:06.230590"
    },
    "collapsed": false,
    "run_control": {
     "frozen": false,
     "read_only": false
    }
   },
   "outputs": [],
   "source": [
    "business = business.groupby('state').filter(lambda r: len(r) > 20)"
   ]
  },
  {
   "cell_type": "code",
   "execution_count": 8,
   "metadata": {
    "ExecuteTime": {
     "end_time": "2017-02-01T17:21:06.290749",
     "start_time": "2017-02-01T17:21:06.279218"
    },
    "collapsed": false,
    "run_control": {
     "frozen": false,
     "read_only": false
    }
   },
   "outputs": [
    {
     "data": {
      "text/plain": [
       "state\n",
       "AZ     10754\n",
       "BW       133\n",
       "EDH      525\n",
       "IL       253\n",
       "NC      1897\n",
       "NV      8645\n",
       "ON        85\n",
       "PA      1315\n",
       "QC      1125\n",
       "SC        68\n",
       "WI       858\n",
       "dtype: int64"
      ]
     },
     "execution_count": 8,
     "metadata": {},
     "output_type": "execute_result"
    }
   ],
   "source": [
    "business.groupby('state').size()"
   ]
  },
  {
   "cell_type": "markdown",
   "metadata": {
    "ExecuteTime": {
     "end_time": "2017-01-16T11:47:59.941636",
     "start_time": "2017-01-16T11:47:59.938127"
    },
    "collapsed": true,
    "nbpresent": {
     "id": "c749e340-fbf1-4c2d-b4c2-3e196960d547"
    },
    "run_control": {
     "frozen": false,
     "read_only": false
    }
   },
   "source": [
    "## Merge review+business+user"
   ]
  },
  {
   "cell_type": "code",
   "execution_count": 9,
   "metadata": {
    "ExecuteTime": {
     "end_time": "2017-02-01T17:21:12.269444",
     "start_time": "2017-02-01T17:21:06.293268"
    },
    "collapsed": true,
    "run_control": {
     "frozen": false,
     "read_only": false
    }
   },
   "outputs": [],
   "source": [
    "rev_biz_usr = pd.merge(pd.merge(review, business, on='business_id'), user, on='user_id')"
   ]
  },
  {
   "cell_type": "code",
   "execution_count": 10,
   "metadata": {
    "ExecuteTime": {
     "end_time": "2017-02-01T17:21:12.276474",
     "start_time": "2017-02-01T17:21:12.270926"
    },
    "collapsed": false,
    "run_control": {
     "frozen": false,
     "read_only": false
    }
   },
   "outputs": [
    {
     "data": {
      "text/plain": [
       "(1251142, 32)"
      ]
     },
     "execution_count": 10,
     "metadata": {},
     "output_type": "execute_result"
    }
   ],
   "source": [
    "rev_biz_usr.shape"
   ]
  },
  {
   "cell_type": "markdown",
   "metadata": {
    "run_control": {
     "frozen": false,
     "read_only": false
    }
   },
   "source": [
    "### Remove not needed columns from the dataframe, to reduce memory use:"
   ]
  },
  {
   "cell_type": "code",
   "execution_count": 11,
   "metadata": {
    "ExecuteTime": {
     "end_time": "2017-02-01T17:21:12.283481",
     "start_time": "2017-02-01T17:21:12.278948"
    },
    "collapsed": false,
    "nbpresent": {
     "id": "5df73afa-8def-4186-b57c-8a453aa25899"
    },
    "run_control": {
     "frozen": false,
     "read_only": false
    }
   },
   "outputs": [],
   "source": [
    "col_drop = rev_biz_usr.columns.difference(['business_id', 'user_id', 'stars_x'])"
   ]
  },
  {
   "cell_type": "code",
   "execution_count": 12,
   "metadata": {
    "ExecuteTime": {
     "end_time": "2017-02-01T17:21:14.430310",
     "start_time": "2017-02-01T17:21:12.285969"
    },
    "collapsed": false,
    "nbpresent": {
     "id": "a969e096-2df4-4c2e-a812-c7e75d751c23"
    },
    "run_control": {
     "frozen": false,
     "read_only": false
    }
   },
   "outputs": [],
   "source": [
    "rev_biz_usr.drop(col_drop, axis=1, inplace=True)"
   ]
  },
  {
   "cell_type": "code",
   "execution_count": 13,
   "metadata": {
    "ExecuteTime": {
     "end_time": "2017-02-01T17:21:14.438312",
     "start_time": "2017-02-01T17:21:14.432299"
    },
    "collapsed": false,
    "run_control": {
     "frozen": false,
     "read_only": false
    }
   },
   "outputs": [
    {
     "data": {
      "text/plain": [
       "(1251142, 3)"
      ]
     },
     "execution_count": 13,
     "metadata": {},
     "output_type": "execute_result"
    }
   ],
   "source": [
    "rev_biz_usr.shape"
   ]
  },
  {
   "cell_type": "markdown",
   "metadata": {
    "run_control": {
     "frozen": false,
     "read_only": false
    }
   },
   "source": [
    "### drop users and businesses with less than 20 reviews in the review dataframe  \n",
    "**RUN multiple times until steady state**"
   ]
  },
  {
   "cell_type": "code",
   "execution_count": 14,
   "metadata": {
    "ExecuteTime": {
     "end_time": "2017-02-01T17:21:14.444348",
     "start_time": "2017-02-01T17:21:14.440319"
    },
    "collapsed": false,
    "run_control": {
     "frozen": false,
     "read_only": false
    }
   },
   "outputs": [],
   "source": [
    "#rev_biz_usr.groupby('user_id').size().reset_index(name='count').sort_values(by='count', ascending=True)"
   ]
  },
  {
   "cell_type": "code",
   "execution_count": 15,
   "metadata": {
    "ExecuteTime": {
     "end_time": "2017-02-01T17:21:54.223290",
     "start_time": "2017-02-01T17:21:14.446342"
    },
    "collapsed": false,
    "run_control": {
     "frozen": false,
     "read_only": false
    }
   },
   "outputs": [
    {
     "data": {
      "text/plain": [
       "(487156, 3)"
      ]
     },
     "execution_count": 15,
     "metadata": {},
     "output_type": "execute_result"
    }
   ],
   "source": [
    "for _ in range(8):\n",
    "    rev_biz_usr = rev_biz_usr.groupby('business_id').filter(lambda r: len(r) >= 20)\n",
    "    \n",
    "    rev_biz_usr = rev_biz_usr.groupby('user_id').filter(lambda r: len(r) >= 20)\n",
    "    \n",
    "\n",
    "rev_biz_usr.shape # (487156, 32)"
   ]
  },
  {
   "cell_type": "markdown",
   "metadata": {
    "run_control": {
     "frozen": false,
     "read_only": false
    }
   },
   "source": [
    "### Convert dtype of stars to int32 instead of int64 (since their values are from 1-5), also to reduce memory use:"
   ]
  },
  {
   "cell_type": "code",
   "execution_count": 16,
   "metadata": {
    "ExecuteTime": {
     "end_time": "2017-02-01T17:21:54.232815",
     "start_time": "2017-02-01T17:21:54.225269"
    },
    "collapsed": true,
    "run_control": {
     "frozen": false,
     "read_only": false
    }
   },
   "outputs": [],
   "source": [
    "rev_biz_usr.stars_x = rev_biz_usr.stars_x.astype(int)"
   ]
  },
  {
   "cell_type": "markdown",
   "metadata": {
    "run_control": {
     "frozen": false,
     "read_only": false
    }
   },
   "source": [
    "## Pivoting the table needed for the recommender system algorithm"
   ]
  },
  {
   "cell_type": "markdown",
   "metadata": {
    "nbpresent": {
     "id": "a6e028c8-dede-4e9d-8d97-ffaccd1b973d"
    },
    "run_control": {
     "frozen": false,
     "read_only": false
    }
   },
   "source": [
    "#### Before filtering users and businesses, the following pivot table gave an error due to out of memory, not negagtive dimensions. However, after reducing dataset, the pivoted table fits in my laptop's 32GB memory (total code occupying nearly 8GB):\n",
    "memory needed before reducing the dataset, assuming 8 bytes per value is:\n",
    "686556 x 85539 x 8 / 1024 / 1024/ 1024 = 438 GB"
   ]
  },
  {
   "cell_type": "code",
   "execution_count": 17,
   "metadata": {
    "ExecuteTime": {
     "end_time": "2017-02-01T17:21:54.500528",
     "start_time": "2017-02-01T17:21:54.235799"
    },
    "collapsed": false,
    "run_control": {
     "frozen": false,
     "read_only": false
    }
   },
   "outputs": [
    {
     "data": {
      "text/plain": [
       "0.6321526765823364"
      ]
     },
     "execution_count": 17,
     "metadata": {},
     "output_type": "execute_result"
    }
   ],
   "source": [
    "# memory requirements for pivoting the table after reducing the dataset is still large ~ 27.5 GB\n",
    "# Now the table can fit in memory ~ 1.33 GB\n",
    "len(rev_biz_usr.business_id.unique()) * len(rev_biz_usr.user_id.unique()) * 8 / 1024/1024/1024"
   ]
  },
  {
   "cell_type": "code",
   "execution_count": 18,
   "metadata": {
    "ExecuteTime": {
     "end_time": "2017-02-01T17:21:54.511045",
     "start_time": "2017-02-01T17:21:54.503009"
    },
    "collapsed": false,
    "run_control": {
     "frozen": false,
     "read_only": false
    },
    "scrolled": true
   },
   "outputs": [
    {
     "data": {
      "text/plain": [
       "Index          3897248\n",
       "business_id    3897248\n",
       "stars_x        1948624\n",
       "user_id        3897248\n",
       "dtype: int64"
      ]
     },
     "execution_count": 18,
     "metadata": {},
     "output_type": "execute_result"
    }
   ],
   "source": [
    "rev_biz_usr.memory_usage()"
   ]
  },
  {
   "cell_type": "markdown",
   "metadata": {
    "run_control": {
     "frozen": false,
     "read_only": false
    }
   },
   "source": [
    "### Note that some users rated the same business multiple times, pivot table will save the average value, which is acceptable"
   ]
  },
  {
   "cell_type": "code",
   "execution_count": 19,
   "metadata": {
    "ExecuteTime": {
     "end_time": "2017-02-01T17:21:54.517069",
     "start_time": "2017-02-01T17:21:54.513035"
    },
    "collapsed": false,
    "run_control": {
     "frozen": false,
     "read_only": false
    },
    "scrolled": true
   },
   "outputs": [],
   "source": [
    "#ev_biz_usr[(rev_biz_usr.business_id == '-584fn2GxYe9sLsgN2WeQA') & (rev_biz_usr.user_id == 'qqtmFGhyyHc37coT4qJxaw')]"
   ]
  },
  {
   "cell_type": "code",
   "execution_count": 20,
   "metadata": {
    "ExecuteTime": {
     "end_time": "2017-02-01T17:21:54.522580",
     "start_time": "2017-02-01T17:21:54.519053"
    },
    "collapsed": false,
    "run_control": {
     "frozen": false,
     "read_only": false
    },
    "scrolled": true
   },
   "outputs": [],
   "source": [
    "#review[(review.business_id == '-584fn2GxYe9sLsgN2WeQA') & (review.user_id == 'qqtmFGhyyHc37coT4qJxaw')]"
   ]
  },
  {
   "cell_type": "markdown",
   "metadata": {
    "ExecuteTime": {
     "end_time": "2017-01-18T16:58:13.410448",
     "start_time": "2017-01-18T16:58:13.406438"
    },
    "run_control": {
     "frozen": false,
     "read_only": false
    }
   },
   "source": [
    "## The Y Matrix for the recommender system"
   ]
  },
  {
   "cell_type": "markdown",
   "metadata": {
    "run_control": {
     "frozen": false,
     "read_only": false
    }
   },
   "source": [
    "### Do not fill NaNs with zeros as zeros occupy more memory than NaNs, and the pivoting command will run out of memory."
   ]
  },
  {
   "cell_type": "code",
   "execution_count": 21,
   "metadata": {
    "ExecuteTime": {
     "end_time": "2017-02-01T17:21:56.479792",
     "start_time": "2017-02-01T17:21:54.524575"
    },
    "collapsed": false,
    "nbpresent": {
     "id": "f6b531f5-994c-4b30-a75e-5319c6dc0595"
    },
    "run_control": {
     "frozen": false,
     "read_only": false
    },
    "scrolled": true
   },
   "outputs": [],
   "source": [
    "Y = pd.pivot_table(rev_biz_usr, index='business_id', columns='user_id', values='stars_x')#, fill_value=0)"
   ]
  },
  {
   "cell_type": "code",
   "execution_count": 22,
   "metadata": {
    "ExecuteTime": {
     "end_time": "2017-02-01T17:21:56.491824",
     "start_time": "2017-02-01T17:21:56.481270"
    },
    "collapsed": false,
    "run_control": {
     "frozen": false,
     "read_only": false
    }
   },
   "outputs": [
    {
     "data": {
      "text/plain": [
       "4.666666666666667"
      ]
     },
     "execution_count": 22,
     "metadata": {},
     "output_type": "execute_result"
    }
   ],
   "source": [
    "Y.loc['-584fn2GxYe9sLsgN2WeQA', 'qqtmFGhyyHc37coT4qJxaw']"
   ]
  },
  {
   "cell_type": "code",
   "execution_count": 23,
   "metadata": {
    "ExecuteTime": {
     "end_time": "2017-02-01T17:21:56.499333",
     "start_time": "2017-02-01T17:21:56.493804"
    },
    "collapsed": false,
    "run_control": {
     "frozen": false,
     "read_only": false
    }
   },
   "outputs": [
    {
     "data": {
      "text/plain": [
       "(8208, 10337)"
      ]
     },
     "execution_count": 23,
     "metadata": {},
     "output_type": "execute_result"
    }
   ],
   "source": [
    "Y.shape # before dropna: (8208, 10337)"
   ]
  },
  {
   "cell_type": "markdown",
   "metadata": {
    "run_control": {
     "frozen": false,
     "read_only": false
    }
   },
   "source": [
    "### Remove users and bussiness with less than 20 entries in the Y matrix. Some users have more than one review for the same business. this is different than removing businesses or users with less than 20 reviews"
   ]
  },
  {
   "cell_type": "code",
   "execution_count": 24,
   "metadata": {
    "ExecuteTime": {
     "end_time": "2017-02-01T17:21:56.506840",
     "start_time": "2017-02-01T17:21:56.501327"
    },
    "collapsed": false,
    "run_control": {
     "frozen": false,
     "read_only": false
    }
   },
   "outputs": [
    {
     "data": {
      "text/plain": [
       "(8208, 10337)"
      ]
     },
     "execution_count": 24,
     "metadata": {},
     "output_type": "execute_result"
    }
   ],
   "source": [
    "Y.shape"
   ]
  },
  {
   "cell_type": "code",
   "execution_count": 25,
   "metadata": {
    "ExecuteTime": {
     "end_time": "2017-02-01T17:22:06.157065",
     "start_time": "2017-02-01T17:21:56.509345"
    },
    "collapsed": false,
    "run_control": {
     "frozen": false,
     "read_only": false
    }
   },
   "outputs": [
    {
     "data": {
      "text/plain": [
       "(7360, 9234)"
      ]
     },
     "execution_count": 25,
     "metadata": {},
     "output_type": "execute_result"
    }
   ],
   "source": [
    "# REPEAT A FEW TIME UNTIL WE GET A STABLE SHAPE of (7360, 9234)\n",
    "for _ in range(10):\n",
    "    Y = Y.dropna(thresh=20, axis=1)\n",
    "    Y = Y.dropna(thresh=20, axis=0)\n",
    "Y.shape"
   ]
  },
  {
   "cell_type": "code",
   "execution_count": 26,
   "metadata": {
    "ExecuteTime": {
     "end_time": "2017-02-01T17:22:06.352559",
     "start_time": "2017-02-01T17:22:06.159044"
    },
    "collapsed": false,
    "run_control": {
     "frozen": false,
     "read_only": false
    },
    "scrolled": true
   },
   "outputs": [
    {
     "data": {
      "text/plain": [
       "0"
      ]
     },
     "execution_count": 26,
     "metadata": {},
     "output_type": "execute_result"
    }
   ],
   "source": [
    "(Y.count(axis=1) < 20).sum()"
   ]
  },
  {
   "cell_type": "code",
   "execution_count": 27,
   "metadata": {
    "ExecuteTime": {
     "end_time": "2017-02-01T17:22:06.545577",
     "start_time": "2017-02-01T17:22:06.355065"
    },
    "collapsed": false,
    "run_control": {
     "frozen": false,
     "read_only": false
    }
   },
   "outputs": [
    {
     "data": {
      "text/plain": [
       "20"
      ]
     },
     "execution_count": 27,
     "metadata": {},
     "output_type": "execute_result"
    }
   ],
   "source": [
    "Y.count(axis=0).min()"
   ]
  },
  {
   "cell_type": "code",
   "execution_count": 28,
   "metadata": {
    "ExecuteTime": {
     "end_time": "2017-02-01T17:22:06.742096",
     "start_time": "2017-02-01T17:22:06.547078"
    },
    "collapsed": false,
    "run_control": {
     "frozen": false,
     "read_only": false
    }
   },
   "outputs": [
    {
     "data": {
      "text/plain": [
       "423296"
      ]
     },
     "execution_count": 28,
     "metadata": {},
     "output_type": "execute_result"
    }
   ],
   "source": [
    "Y.count().sum()"
   ]
  },
  {
   "cell_type": "code",
   "execution_count": 29,
   "metadata": {
    "ExecuteTime": {
     "end_time": "2017-02-01T17:22:07.493683",
     "start_time": "2017-02-01T17:22:06.744101"
    },
    "collapsed": false,
    "run_control": {
     "frozen": false,
     "read_only": false
    }
   },
   "outputs": [
    {
     "data": {
      "text/plain": [
       "67538944"
      ]
     },
     "execution_count": 29,
     "metadata": {},
     "output_type": "execute_result"
    }
   ],
   "source": [
    "Y.isnull().sum().sum()"
   ]
  },
  {
   "cell_type": "code",
   "execution_count": 30,
   "metadata": {
    "ExecuteTime": {
     "end_time": "2017-02-01T17:22:07.855120",
     "start_time": "2017-02-01T17:22:07.495666"
    },
    "collapsed": false,
    "run_control": {
     "frozen": false,
     "read_only": false
    },
    "scrolled": true
   },
   "outputs": [
    {
     "data": {
      "text/plain": [
       "0.5064129829406738"
      ]
     },
     "execution_count": 30,
     "metadata": {},
     "output_type": "execute_result"
    }
   ],
   "source": [
    "Y.memory_usage().sum()/1024/1024/1024 # in GB"
   ]
  },
  {
   "cell_type": "code",
   "execution_count": 31,
   "metadata": {
    "ExecuteTime": {
     "end_time": "2017-02-01T17:22:07.861136",
     "start_time": "2017-02-01T17:22:07.857634"
    },
    "collapsed": false,
    "run_control": {
     "frozen": false,
     "read_only": false
    }
   },
   "outputs": [],
   "source": [
    "# len(rev_biz_usr.business_id.unique()) , len(rev_biz_usr.user_id.unique())"
   ]
  },
  {
   "cell_type": "markdown",
   "metadata": {
    "run_control": {
     "frozen": false,
     "read_only": false
    }
   },
   "source": [
    "# Split the data as training and test sets:\n",
    "\n",
    "Select a random number of columns (30% of total)users, and remove some of the given ratings (-> nan)\n"
   ]
  },
  {
   "cell_type": "code",
   "execution_count": 32,
   "metadata": {
    "ExecuteTime": {
     "end_time": "2017-02-01T17:22:07.871168",
     "start_time": "2017-02-01T17:22:07.863142"
    },
    "collapsed": false,
    "run_control": {
     "frozen": false,
     "read_only": false
    }
   },
   "outputs": [],
   "source": [
    "test_split_ratio = 0.3\n",
    "test_size = int(Y.shape[1] * test_split_ratio)\n",
    "train_size = Y.shape[1] - test_size\n",
    "# rand_test_user_mask = random.sample(range(Y.shape[1]), test_size)\n",
    "rand_column_mask = np.random.choice(Y.shape[1], test_size, replace=False)"
   ]
  },
  {
   "cell_type": "code",
   "execution_count": 33,
   "metadata": {
    "ExecuteTime": {
     "end_time": "2017-02-01T17:22:08.225130",
     "start_time": "2017-02-01T17:22:07.873168"
    },
    "collapsed": false,
    "run_control": {
     "frozen": false,
     "read_only": false
    }
   },
   "outputs": [],
   "source": [
    "# Since number of reviews by each user is > 20, select 5 ratings as test per test user\n",
    "Y_test = Y.iloc[:,rand_column_mask].copy()"
   ]
  },
  {
   "cell_type": "code",
   "execution_count": 34,
   "metadata": {
    "ExecuteTime": {
     "end_time": "2017-02-01T17:22:10.051665",
     "start_time": "2017-02-01T17:22:08.227109"
    },
    "collapsed": false,
    "run_control": {
     "frozen": false,
     "read_only": false
    }
   },
   "outputs": [],
   "source": [
    "# Tried to define a function to mask random values in each column and apply it to the DF.\n",
    "# However, the function is applied (by design) twice to the first column, resulting in an error\n",
    "# Better use a simple for loop\n",
    "\n",
    "for col in Y_test:\n",
    "    mask_size = 5\n",
    "    mask = np.random.choice(Y_test[col].notnull().nonzero()[0], mask_size, replace=False)\n",
    "    Y_test[col][mask] = np.nan"
   ]
  },
  {
   "cell_type": "code",
   "execution_count": 35,
   "metadata": {
    "ExecuteTime": {
     "end_time": "2017-02-01T17:22:10.111786",
     "start_time": "2017-02-01T17:22:10.053129"
    },
    "collapsed": false,
    "run_control": {
     "frozen": false,
     "read_only": false
    }
   },
   "outputs": [
    {
     "data": {
      "text/plain": [
       "113372"
      ]
     },
     "execution_count": 35,
     "metadata": {},
     "output_type": "execute_result"
    }
   ],
   "source": [
    "Y_test.count().sum()"
   ]
  },
  {
   "cell_type": "markdown",
   "metadata": {
    "run_control": {
     "frozen": false,
     "read_only": false
    }
   },
   "source": [
    "## Locations of test values"
   ]
  },
  {
   "cell_type": "code",
   "execution_count": 36,
   "metadata": {
    "ExecuteTime": {
     "end_time": "2017-02-01T17:22:11.253009",
     "start_time": "2017-02-01T17:22:10.113790"
    },
    "collapsed": false,
    "run_control": {
     "frozen": false,
     "read_only": false
    }
   },
   "outputs": [],
   "source": [
    "value_locations_premask = Y.iloc[:,rand_column_mask][Y.iloc[:,rand_column_mask].notnull()].stack().index.tolist()"
   ]
  },
  {
   "cell_type": "code",
   "execution_count": 37,
   "metadata": {
    "ExecuteTime": {
     "end_time": "2017-02-01T17:22:12.128638",
     "start_time": "2017-02-01T17:22:11.254989"
    },
    "collapsed": false,
    "run_control": {
     "frozen": false,
     "read_only": false
    }
   },
   "outputs": [],
   "source": [
    "value_locations_masked = Y_test[Y_test.notnull()].stack().index.tolist()"
   ]
  },
  {
   "cell_type": "code",
   "execution_count": 38,
   "metadata": {
    "ExecuteTime": {
     "end_time": "2017-02-01T17:22:12.199328",
     "start_time": "2017-02-01T17:22:12.130141"
    },
    "collapsed": false,
    "run_control": {
     "frozen": false,
     "read_only": false
    }
   },
   "outputs": [],
   "source": [
    "test_values_locations = list(set(value_locations_premask) - set(value_locations_masked))"
   ]
  },
  {
   "cell_type": "code",
   "execution_count": 39,
   "metadata": {
    "ExecuteTime": {
     "end_time": "2017-02-01T17:22:12.210881",
     "start_time": "2017-02-01T17:22:12.201351"
    },
    "collapsed": false,
    "run_control": {
     "frozen": false,
     "read_only": false
    }
   },
   "outputs": [],
   "source": [
    "# Convert to dataframe in order to be able to use during lookup operation, which requires list of rows, and list of columns\n",
    "test_values_locations = pd.DataFrame.from_records(test_values_locations, columns=['business_id', 'user_id'])"
   ]
  },
  {
   "cell_type": "code",
   "execution_count": 40,
   "metadata": {
    "ExecuteTime": {
     "end_time": "2017-02-01T17:22:12.241973",
     "start_time": "2017-02-01T17:22:12.212860"
    },
    "collapsed": false,
    "run_control": {
     "frozen": false,
     "read_only": false
    }
   },
   "outputs": [],
   "source": [
    "# Get location positions:\n",
    "query_rows = test_values_locations.business_id\n",
    "rows = Y.index.values\n",
    "sidx = np.argsort(rows)\n",
    "row_ids = sidx[np.searchsorted(rows,query_rows,sorter=sidx)]"
   ]
  },
  {
   "cell_type": "code",
   "execution_count": 41,
   "metadata": {
    "ExecuteTime": {
     "end_time": "2017-02-01T17:22:12.272520",
     "start_time": "2017-02-01T17:22:12.244446"
    },
    "collapsed": false,
    "run_control": {
     "frozen": false,
     "read_only": false
    }
   },
   "outputs": [],
   "source": [
    "# Get location positions:\n",
    "query_cols = test_values_locations.user_id\n",
    "cols = Y.columns.values\n",
    "sidx = np.argsort(cols)\n",
    "col_ids = sidx[np.searchsorted(cols,query_cols,sorter=sidx)]"
   ]
  },
  {
   "cell_type": "code",
   "execution_count": 42,
   "metadata": {
    "ExecuteTime": {
     "end_time": "2017-02-01T17:22:12.280566",
     "start_time": "2017-02-01T17:22:12.274525"
    },
    "collapsed": false,
    "run_control": {
     "frozen": false,
     "read_only": false
    }
   },
   "outputs": [
    {
     "data": {
      "text/plain": [
       "array([3699, 5163, 9026, 4716,  915], dtype=int64)"
      ]
     },
     "execution_count": 42,
     "metadata": {},
     "output_type": "execute_result"
    }
   ],
   "source": [
    "col_ids[0:5]"
   ]
  },
  {
   "cell_type": "code",
   "execution_count": 43,
   "metadata": {
    "ExecuteTime": {
     "end_time": "2017-02-01T17:22:12.288588",
     "start_time": "2017-02-01T17:22:12.282548"
    },
    "collapsed": false,
    "run_control": {
     "frozen": false,
     "read_only": false
    }
   },
   "outputs": [
    {
     "data": {
      "text/plain": [
       "915"
      ]
     },
     "execution_count": 43,
     "metadata": {},
     "output_type": "execute_result"
    }
   ],
   "source": [
    "Y.columns.get_loc(test_values_locations.user_id[4])"
   ]
  },
  {
   "cell_type": "code",
   "execution_count": 44,
   "metadata": {
    "ExecuteTime": {
     "end_time": "2017-02-01T17:22:12.297098",
     "start_time": "2017-02-01T17:22:12.290570"
    },
    "collapsed": false,
    "run_control": {
     "frozen": false,
     "read_only": false
    }
   },
   "outputs": [
    {
     "data": {
      "text/plain": [
       "1968"
      ]
     },
     "execution_count": 44,
     "metadata": {},
     "output_type": "execute_result"
    }
   ],
   "source": [
    "Y.index.get_loc(test_values_locations.business_id[3])"
   ]
  },
  {
   "cell_type": "code",
   "execution_count": 45,
   "metadata": {
    "ExecuteTime": {
     "end_time": "2017-02-01T17:22:12.306610",
     "start_time": "2017-02-01T17:22:12.299091"
    },
    "collapsed": false,
    "run_control": {
     "frozen": false,
     "read_only": false
    }
   },
   "outputs": [
    {
     "data": {
      "text/plain": [
       "array([3699, 5163, 9026, ..., 2190, 7222, 2359], dtype=int64)"
      ]
     },
     "execution_count": 45,
     "metadata": {},
     "output_type": "execute_result"
    }
   ],
   "source": [
    "col_ids"
   ]
  },
  {
   "cell_type": "markdown",
   "metadata": {
    "run_control": {
     "frozen": false,
     "read_only": false
    }
   },
   "source": [
    "## Get test values "
   ]
  },
  {
   "cell_type": "code",
   "execution_count": 46,
   "metadata": {
    "ExecuteTime": {
     "end_time": "2017-02-01T17:22:12.320146",
     "start_time": "2017-02-01T17:22:12.309117"
    },
    "collapsed": false,
    "run_control": {
     "frozen": false,
     "read_only": false
    },
    "scrolled": true
   },
   "outputs": [
    {
     "data": {
      "text/plain": [
       "array([ 4.,  5.,  4., ...,  4.,  2.,  3.])"
      ]
     },
     "execution_count": 46,
     "metadata": {},
     "output_type": "execute_result"
    }
   ],
   "source": [
    "Y.lookup(test_values_locations.business_id, test_values_locations.user_id)"
   ]
  },
  {
   "cell_type": "code",
   "execution_count": 47,
   "metadata": {
    "ExecuteTime": {
     "end_time": "2017-02-01T17:22:12.328177",
     "start_time": "2017-02-01T17:22:12.322154"
    },
    "collapsed": false,
    "run_control": {
     "frozen": false,
     "read_only": false
    }
   },
   "outputs": [
    {
     "data": {
      "text/plain": [
       "array([ 4.,  5.,  4., ...,  4.,  2.,  3.])"
      ]
     },
     "execution_count": 47,
     "metadata": {},
     "output_type": "execute_result"
    }
   ],
   "source": [
    "Y.values[row_ids, col_ids]"
   ]
  },
  {
   "cell_type": "markdown",
   "metadata": {
    "run_control": {
     "frozen": false,
     "read_only": false
    }
   },
   "source": [
    "## Verify masking procedeure"
   ]
  },
  {
   "cell_type": "markdown",
   "metadata": {
    "run_control": {
     "frozen": false,
     "read_only": false
    }
   },
   "source": [
    "To test the masking steps:  \n",
    "Test sample size = 0.3 * Original Size = 0.3 * 9234 = 2770  \n",
    "Randomly pick 5 notnan values from these columns and set them to nan  \n",
    "Number of nans should increase by 2770 * 5 = 13850"
   ]
  },
  {
   "cell_type": "code",
   "execution_count": 48,
   "metadata": {
    "ExecuteTime": {
     "end_time": "2017-02-01T17:22:12.338209",
     "start_time": "2017-02-01T17:22:12.330175"
    },
    "collapsed": false,
    "run_control": {
     "frozen": false,
     "read_only": false
    }
   },
   "outputs": [
    {
     "data": {
      "text/plain": [
       "13850"
      ]
     },
     "execution_count": 48,
     "metadata": {},
     "output_type": "execute_result"
    }
   ],
   "source": [
    "int(Y.shape[1]*0.3) * 5"
   ]
  },
  {
   "cell_type": "code",
   "execution_count": 49,
   "metadata": {
    "ExecuteTime": {
     "end_time": "2017-02-01T17:22:12.563795",
     "start_time": "2017-02-01T17:22:12.340201"
    },
    "collapsed": false,
    "run_control": {
     "frozen": false,
     "read_only": false
    }
   },
   "outputs": [
    {
     "data": {
      "text/plain": [
       "127222"
      ]
     },
     "execution_count": 49,
     "metadata": {},
     "output_type": "execute_result"
    }
   ],
   "source": [
    "Y.iloc[:,rand_column_mask].count().sum()"
   ]
  },
  {
   "cell_type": "code",
   "execution_count": 50,
   "metadata": {
    "ExecuteTime": {
     "end_time": "2017-02-01T17:22:12.623455",
     "start_time": "2017-02-01T17:22:12.565300"
    },
    "collapsed": false,
    "run_control": {
     "frozen": false,
     "read_only": false
    }
   },
   "outputs": [
    {
     "data": {
      "text/plain": [
       "113372"
      ]
     },
     "execution_count": 50,
     "metadata": {},
     "output_type": "execute_result"
    }
   ],
   "source": [
    "Y_test.count().sum()"
   ]
  },
  {
   "cell_type": "code",
   "execution_count": 51,
   "metadata": {
    "ExecuteTime": {
     "end_time": "2017-02-01T17:22:12.910216",
     "start_time": "2017-02-01T17:22:12.625458"
    },
    "collapsed": false,
    "run_control": {
     "frozen": false,
     "read_only": false
    }
   },
   "outputs": [
    {
     "data": {
      "text/plain": [
       "13850"
      ]
     },
     "execution_count": 51,
     "metadata": {},
     "output_type": "execute_result"
    }
   ],
   "source": [
    "Y.iloc[:,rand_column_mask].count().sum() - Y_test.count().sum()"
   ]
  },
  {
   "cell_type": "markdown",
   "metadata": {
    "run_control": {
     "frozen": false,
     "read_only": false
    }
   },
   "source": [
    "# Now insert the new Nans into the original Y matrix"
   ]
  },
  {
   "cell_type": "code",
   "execution_count": 52,
   "metadata": {
    "ExecuteTime": {
     "end_time": "2017-02-01T17:22:13.271677",
     "start_time": "2017-02-01T17:22:12.912222"
    },
    "collapsed": true,
    "run_control": {
     "frozen": false,
     "read_only": false
    }
   },
   "outputs": [],
   "source": [
    "Y_test_original = Y.iloc[:,rand_column_mask].copy()"
   ]
  },
  {
   "cell_type": "code",
   "execution_count": 53,
   "metadata": {
    "ExecuteTime": {
     "end_time": "2017-02-01T17:22:14.044734",
     "start_time": "2017-02-01T17:22:13.273683"
    },
    "collapsed": false,
    "run_control": {
     "frozen": false,
     "read_only": false
    }
   },
   "outputs": [],
   "source": [
    "Y.iloc[:,rand_column_mask] = Y_test.copy()"
   ]
  },
  {
   "cell_type": "code",
   "execution_count": 54,
   "metadata": {
    "ExecuteTime": {
     "end_time": "2017-02-01T17:22:14.243264",
     "start_time": "2017-02-01T17:22:14.046238"
    },
    "collapsed": false,
    "run_control": {
     "frozen": false,
     "read_only": false
    }
   },
   "outputs": [
    {
     "data": {
      "text/plain": [
       "409446"
      ]
     },
     "execution_count": 54,
     "metadata": {},
     "output_type": "execute_result"
    }
   ],
   "source": [
    "Y.count().sum()"
   ]
  },
  {
   "cell_type": "markdown",
   "metadata": {
    "run_control": {
     "frozen": false,
     "read_only": false
    }
   },
   "source": [
    "## The R Matrix for the recommender system"
   ]
  },
  {
   "cell_type": "code",
   "execution_count": 55,
   "metadata": {
    "ExecuteTime": {
     "end_time": "2017-02-01T17:22:14.248302",
     "start_time": "2017-02-01T17:22:14.245276"
    },
    "collapsed": true,
    "run_control": {
     "frozen": false,
     "read_only": false
    }
   },
   "outputs": [],
   "source": [
    "# The R matrix shold be based on the new Y matrix"
   ]
  },
  {
   "cell_type": "code",
   "execution_count": 56,
   "metadata": {
    "ExecuteTime": {
     "end_time": "2017-02-01T17:22:14.347037",
     "start_time": "2017-02-01T17:22:14.250280"
    },
    "collapsed": false,
    "run_control": {
     "frozen": false,
     "read_only": false
    }
   },
   "outputs": [],
   "source": [
    "R = Y.notnull()"
   ]
  },
  {
   "cell_type": "code",
   "execution_count": 57,
   "metadata": {
    "ExecuteTime": {
     "end_time": "2017-02-01T17:22:14.973205",
     "start_time": "2017-02-01T17:22:14.348542"
    },
    "collapsed": false,
    "run_control": {
     "frozen": false,
     "read_only": false
    }
   },
   "outputs": [
    {
     "data": {
      "text/plain": [
       "409446"
      ]
     },
     "execution_count": 57,
     "metadata": {},
     "output_type": "execute_result"
    }
   ],
   "source": [
    "R.sum().sum()"
   ]
  },
  {
   "cell_type": "code",
   "execution_count": 58,
   "metadata": {
    "ExecuteTime": {
     "end_time": "2017-02-01T17:22:14.980234",
     "start_time": "2017-02-01T17:22:14.975209"
    },
    "collapsed": false,
    "run_control": {
     "frozen": false,
     "read_only": false
    }
   },
   "outputs": [
    {
     "data": {
      "text/plain": [
       "(7360, 9234)"
      ]
     },
     "execution_count": 58,
     "metadata": {},
     "output_type": "execute_result"
    }
   ],
   "source": [
    "R.shape"
   ]
  },
  {
   "cell_type": "code",
   "execution_count": 59,
   "metadata": {
    "ExecuteTime": {
     "end_time": "2017-02-01T17:22:15.340203",
     "start_time": "2017-02-01T17:22:14.982228"
    },
    "collapsed": false,
    "run_control": {
     "frozen": false,
     "read_only": false
    }
   },
   "outputs": [
    {
     "data": {
      "text/plain": [
       "64.8699951171875"
      ]
     },
     "execution_count": 59,
     "metadata": {},
     "output_type": "execute_result"
    }
   ],
   "source": [
    "R.memory_usage().sum()/1024/1024 # 170 MB"
   ]
  },
  {
   "cell_type": "markdown",
   "metadata": {
    "run_control": {
     "frozen": false,
     "read_only": false
    }
   },
   "source": [
    "### To find the mean of Y rows using the 1s in R\n",
    "**For accessing reviewed items only using R**"
   ]
  },
  {
   "cell_type": "code",
   "execution_count": 60,
   "metadata": {
    "ExecuteTime": {
     "end_time": "2017-02-01T17:22:15.347202",
     "start_time": "2017-02-01T17:22:15.341685"
    },
    "collapsed": false,
    "run_control": {
     "frozen": false,
     "read_only": false
    }
   },
   "outputs": [
    {
     "data": {
      "text/plain": [
       "0.0028156811782542777"
      ]
     },
     "execution_count": 60,
     "metadata": {},
     "output_type": "execute_result"
    }
   ],
   "source": [
    "R.iloc[1,:].mean()"
   ]
  },
  {
   "cell_type": "code",
   "execution_count": 61,
   "metadata": {
    "ExecuteTime": {
     "end_time": "2017-02-01T17:22:15.357751",
     "start_time": "2017-02-01T17:22:15.349224"
    },
    "collapsed": false,
    "run_control": {
     "frozen": false,
     "read_only": false
    }
   },
   "outputs": [
    {
     "data": {
      "text/plain": [
       "4.0"
      ]
     },
     "execution_count": 61,
     "metadata": {},
     "output_type": "execute_result"
    }
   ],
   "source": [
    "Y.iloc[1,list(R.iloc[1,:])].mean()"
   ]
  },
  {
   "cell_type": "code",
   "execution_count": 62,
   "metadata": {
    "ExecuteTime": {
     "end_time": "2017-02-01T17:22:15.368278",
     "start_time": "2017-02-01T17:22:15.360233"
    },
    "collapsed": false,
    "run_control": {
     "frozen": false,
     "read_only": false
    }
   },
   "outputs": [
    {
     "data": {
      "text/plain": [
       "business_id\n",
       "--5jkZ3-nUPZxUvtcbr8Uw    4.470588\n",
       "--BlvDO_RG2yElKu9XA1_g    4.000000\n",
       "--UE_y6auTgq3FXlvUMkbw    3.333333\n",
       "--pOlFxITWnhzc7SHSIP0A    4.080357\n",
       "-0Ackw6MF82PXO9f9Jh_Kg    3.397959\n",
       "-0Oh0BEtQEC9OmmzZ_H5Bg    4.486486\n",
       "dtype: float64"
      ]
     },
     "execution_count": 62,
     "metadata": {},
     "output_type": "execute_result"
    }
   ],
   "source": [
    "Y.iloc[:6,:].mean(axis=1)"
   ]
  },
  {
   "cell_type": "markdown",
   "metadata": {
    "run_control": {
     "frozen": false,
     "read_only": false
    }
   },
   "source": [
    "# Define the Cost Function\n",
    "Initializing the parameters ($\\theta$, X)\n",
    "\n",
    "$\\theta$: Model parameter \n",
    "\n",
    "X: model features\n",
    "\n",
    "$Y = X * \\theta^T$\n",
    "\n",
    "for non zero values of R\n",
    "\n",
    "$\\theta$ shape = #users * #features\n",
    "\n",
    "X shape = #business * #features\n",
    "\n",
    "Y shape = #business * #users\n",
    "\n",
    "Choose number of features = 100"
   ]
  },
  {
   "cell_type": "code",
   "execution_count": 63,
   "metadata": {
    "ExecuteTime": {
     "end_time": "2017-02-01T17:22:15.382813",
     "start_time": "2017-02-01T17:22:15.370260"
    },
    "collapsed": false,
    "run_control": {
     "frozen": false,
     "read_only": false
    }
   },
   "outputs": [],
   "source": [
    "def cost(params, Y, R, num_business, num_user, num_features, lamda):\n",
    "    # lamda is the regularization coefficient lambda (python keyword)\n",
    "    # Convert the dataframe to ndarray, fill nans with zeros, and leave the answer array for easier linear algebra operations\n",
    "#     Y_mat = np.nan_to_num(Y.as_matrix())\n",
    "#     R_mat = np.nan_to_num(R.as_matrix())\n",
    "\n",
    "    # unfold X and theta from the 1D params array\n",
    "    X = np.reshape(params[:num_business*num_features], (num_business, num_features))\n",
    "    theta = np.reshape(params[num_business*num_features:], (num_user, num_features))    \n",
    "    \n",
    "    J = 0.5*np.sum(pow((X@theta.T - Y)*R,2)) + lamda/2*(np.sum(pow(theta,2)) + np.sum(pow(X,2)))\n",
    "    \n",
    "    X_grad = (X@theta.T - Y)*R@theta + lamda*X\n",
    "    theta_grad = (X@theta.T - Y).T * R.T@X + lamda*theta\n",
    "    \n",
    "    grad = np.concatenate((np.ravel(X_grad), np.ravel(theta_grad)))\n",
    "    print('The cost is currently equal to.........', J)\n",
    "    return J, grad\n",
    "    "
   ]
  },
  {
   "cell_type": "code",
   "execution_count": 64,
   "metadata": {
    "ExecuteTime": {
     "end_time": "2017-02-01T17:22:15.388329",
     "start_time": "2017-02-01T17:22:15.384798"
    },
    "collapsed": false,
    "run_control": {
     "frozen": false,
     "read_only": false
    },
    "scrolled": true
   },
   "outputs": [],
   "source": [
    "# J, grad = cost(params, np.nan_to_num(Y.as_matrix()), np.nan_to_num(R.as_matrix()), num_business, num_user, num_features, 0)\n",
    "# J"
   ]
  },
  {
   "cell_type": "code",
   "execution_count": 65,
   "metadata": {
    "ExecuteTime": {
     "end_time": "2017-02-01T17:22:15.394824",
     "start_time": "2017-02-01T17:22:15.390314"
    },
    "collapsed": false,
    "run_control": {
     "frozen": false,
     "read_only": false
    }
   },
   "outputs": [],
   "source": [
    "# checking some numpy matrix operations\n",
    "# a = np.array([[1.,2],[3,4]])\n",
    "# print('a=', a)\n",
    "\n",
    "# b = np.array([[5,6],[7,8]])\n",
    "# print('b=', b)\n",
    "\n",
    "# print('*', a*b)\n",
    "\n",
    "# print('@',a@b)\n",
    "\n",
    "# c = np.asmatrix(a)\n",
    "# print('c=', c)\n",
    "\n",
    "# print('*', c*b)\n",
    "\n",
    "# np.sum(c)"
   ]
  },
  {
   "cell_type": "markdown",
   "metadata": {
    "run_control": {
     "frozen": false,
     "read_only": false
    }
   },
   "source": [
    "# Set the number of features, number of businesses and users:"
   ]
  },
  {
   "cell_type": "code",
   "execution_count": 66,
   "metadata": {
    "ExecuteTime": {
     "end_time": "2017-02-01T17:22:15.400880",
     "start_time": "2017-02-01T17:22:15.396830"
    },
    "collapsed": true,
    "run_control": {
     "frozen": false,
     "read_only": false
    }
   },
   "outputs": [],
   "source": [
    "num_features = 75\n",
    "num_business = Y.shape[0]\n",
    "num_user = Y.shape[1]"
   ]
  },
  {
   "cell_type": "markdown",
   "metadata": {
    "run_control": {
     "frozen": false,
     "read_only": false
    }
   },
   "source": [
    "# Initialize and train the model:\n",
    "\n"
   ]
  },
  {
   "cell_type": "code",
   "execution_count": 67,
   "metadata": {
    "ExecuteTime": {
     "end_time": "2017-02-01T17:22:19.228081",
     "start_time": "2017-02-01T17:22:15.403347"
    },
    "collapsed": false,
    "run_control": {
     "frozen": false,
     "read_only": false
    }
   },
   "outputs": [],
   "source": [
    "lamda = 10\n",
    "\n",
    "X = np.random.randn(num_business, num_features)\n",
    "theta = np.random.randn(num_user, num_features)\n",
    "params = np.concatenate((np.ravel(X), np.ravel(theta)))\n",
    "\n",
    "Y_mat = Y.as_matrix()\n",
    "\n",
    "Ymean = np.nanmean(Y_mat, axis=1, keepdims=True)\n",
    "\n",
    "Y_mat = np.nan_to_num(Y_mat)\n",
    "R_mat = np.nan_to_num(R.as_matrix())\n",
    "\n",
    "# Ymean = np.zeros((num_business, 1))  \n",
    "# Ynorm = np.zeros((num_business, num_user))\n",
    "\n",
    "Ynorm = np.nan_to_num(Y.subtract(Y.mean(axis=1), axis=0).as_matrix())\n",
    "\n",
    "# for i in range(num_business):  \n",
    "#     idx = np.where(R_mat[i,:] == 1)[0]\n",
    "#     Ymean[i] = Y.iloc[i,idx].mean()\n",
    "#     Ynorm[i,idx] = Y.iloc[i,idx] - Ymean[i]\n",
    "\n",
    "# Ynorm = Y - Y.mean()"
   ]
  },
  {
   "cell_type": "markdown",
   "metadata": {},
   "source": [
    "## Training the model"
   ]
  },
  {
   "cell_type": "code",
   "execution_count": 68,
   "metadata": {
    "ExecuteTime": {
     "end_time": "2017-02-01T17:30:48.807475",
     "start_time": "2017-02-01T17:22:19.230088"
    },
    "collapsed": false,
    "run_control": {
     "frozen": false,
     "read_only": false
    },
    "scrolled": true
   },
   "outputs": [
    {
     "name": "stdout",
     "output_type": "stream",
     "text": [
      "The cost is currently equal to......... 21740329.9498\n",
      "The cost is currently equal to......... 21740329.9498\n",
      "The cost is currently equal to......... 21628871.0204\n",
      "The cost is currently equal to......... 21189144.8104\n",
      "The cost is currently equal to......... 19525437.8871\n",
      "The cost is currently equal to......... 14238465.7367\n",
      "The cost is currently equal to......... 7124778.21317\n",
      "The cost is currently equal to......... 133033088.684\n",
      "The cost is currently equal to......... 4700622.7259\n",
      "The cost is currently equal to......... 5202328.5101\n",
      "The cost is currently equal to......... 3815436.77828\n",
      "The cost is currently equal to......... 3001260.24726\n",
      "The cost is currently equal to......... 2405573.53845\n",
      "The cost is currently equal to......... 2218520.28836\n",
      "The cost is currently equal to......... 2025291.7327\n",
      "The cost is currently equal to......... 1762754.46516\n",
      "The cost is currently equal to......... 1379423.45268\n",
      "The cost is currently equal to......... 7536800.25375\n",
      "The cost is currently equal to......... 1250238.23228\n",
      "The cost is currently equal to......... 931844.117668\n",
      "The cost is currently equal to......... 1538458.38917\n",
      "The cost is currently equal to......... 803249.8187\n",
      "The cost is currently equal to......... 782841.696075\n",
      "The cost is currently equal to......... 735386.958061\n",
      "The cost is currently equal to......... 672573.708095\n",
      "The cost is currently equal to......... 585396.575078\n",
      "The cost is currently equal to......... 482789.84227\n",
      "The cost is currently equal to......... 718159.640822\n",
      "The cost is currently equal to......... 394840.108823\n",
      "The cost is currently equal to......... 341005.85934\n",
      "The cost is currently equal to......... 318399.679397\n",
      "The cost is currently equal to......... 285745.496595\n",
      "The cost is currently equal to......... 278168.755618\n",
      "The cost is currently equal to......... 256920.037135\n",
      "The cost is currently equal to......... 226562.460867\n",
      "The cost is currently equal to......... 222687.823865\n",
      "The cost is currently equal to......... 199561.236699\n",
      "The cost is currently equal to......... 200139.246745\n",
      "The cost is currently equal to......... 191773.308116\n",
      "The cost is currently equal to......... 183932.530081\n",
      "The cost is currently equal to......... 180438.727582\n",
      "The cost is currently equal to......... 179311.000022\n",
      "The cost is currently equal to......... 180507.028567\n",
      "The cost is currently equal to......... 177291.81251\n",
      "The cost is currently equal to......... 175451.96089\n",
      "The cost is currently equal to......... 175339.727476\n",
      "The cost is currently equal to......... 174487.818621\n",
      "The cost is currently equal to......... 173415.92735\n",
      "The cost is currently equal to......... 172709.926898\n",
      "The cost is currently equal to......... 173929.208738\n",
      "The cost is currently equal to......... 172512.423649\n",
      "The cost is currently equal to......... 172193.699523\n",
      "The cost is currently equal to......... 172009.96049\n",
      "The cost is currently equal to......... 171582.178731\n",
      "The cost is currently equal to......... 171671.936633\n",
      "The cost is currently equal to......... 171385.346232\n",
      "The cost is currently equal to......... 171133.788347\n",
      "The cost is currently equal to......... 170932.616904\n",
      "The cost is currently equal to......... 170864.783968\n",
      "The cost is currently equal to......... 170810.001687\n",
      "The cost is currently equal to......... 170629.172004\n",
      "The cost is currently equal to......... 170579.524168\n",
      "The cost is currently equal to......... 170414.954046\n",
      "The cost is currently equal to......... 170361.563583\n",
      "The cost is currently equal to......... 170315.689636\n",
      "The cost is currently equal to......... 170171.909391\n",
      "The cost is currently equal to......... 170137.779723\n",
      "The cost is currently equal to......... 170017.677084\n",
      "The cost is currently equal to......... 170069.126658\n",
      "The cost is currently equal to......... 169967.244352\n",
      "The cost is currently equal to......... 169882.736693\n",
      "The cost is currently equal to......... 169817.8899\n",
      "The cost is currently equal to......... 169747.975668\n",
      "The cost is currently equal to......... 169719.620535\n",
      "The cost is currently equal to......... 169675.261261\n",
      "The cost is currently equal to......... 169655.385917\n",
      "The cost is currently equal to......... 169558.962068\n",
      "The cost is currently equal to......... 169529.453606\n",
      "The cost is currently equal to......... 169358.639075\n",
      "The cost is currently equal to......... 169270.864276\n",
      "The cost is currently equal to......... 169242.415012\n",
      "The cost is currently equal to......... 169209.243247\n",
      "The cost is currently equal to......... 169173.93652\n",
      "The cost is currently equal to......... 169125.421101\n",
      "The cost is currently equal to......... 169074.538558\n",
      "The cost is currently equal to......... 169017.401067\n",
      "The cost is currently equal to......... 169022.737376\n",
      "The cost is currently equal to......... 168989.87389\n",
      "The cost is currently equal to......... 168987.654591\n",
      "The cost is currently equal to......... 168975.289594\n",
      "The cost is currently equal to......... 168950.006041\n",
      "The cost is currently equal to......... 168923.601986\n",
      "The cost is currently equal to......... 168850.319715\n",
      "The cost is currently equal to......... 168836.584017\n",
      "The cost is currently equal to......... 168738.85718\n",
      "The cost is currently equal to......... 168691.53824\n",
      "The cost is currently equal to......... 168673.870701\n",
      "The cost is currently equal to......... 168661.074924\n",
      "The cost is currently equal to......... 168637.446543\n",
      "The cost is currently equal to......... 168615.994958\n",
      "The cost is currently equal to......... 168611.558214\n",
      "The cost is currently equal to......... 168591.378323\n",
      "The cost is currently equal to......... 168571.6821\n",
      "The cost is currently equal to......... 168547.324375\n",
      "The cost is currently equal to......... 168534.454218\n",
      "The cost is currently equal to......... 168530.625582\n",
      "The cost is currently equal to......... 168516.021899\n",
      "The cost is currently equal to......... 168503.140904\n",
      "The cost is currently equal to......... 168486.958241\n",
      "The cost is currently equal to......... 168469.780728\n",
      "The cost is currently equal to......... 168453.487333\n",
      "The cost is currently equal to......... 168448.839025\n",
      "The cost is currently equal to......... 168443.947938\n",
      "The cost is currently equal to......... 168431.764724\n",
      "The cost is currently equal to......... 168421.186892\n",
      "The cost is currently equal to......... 168412.91513\n",
      "The cost is currently equal to......... 168402.416453\n",
      "The cost is currently equal to......... 168395.772239\n",
      "The cost is currently equal to......... 168399.484108\n",
      "The cost is currently equal to......... 168393.147889\n",
      "The cost is currently equal to......... 168389.247517\n",
      "The cost is currently equal to......... 168388.141475\n",
      "The cost is currently equal to......... 168389.042659\n",
      "The cost is currently equal to......... 168385.818143\n",
      "The cost is currently equal to......... 168382.722574\n",
      "The cost is currently equal to......... 168378.75852\n",
      "The cost is currently equal to......... 168371.977764\n",
      "The cost is currently equal to......... 168365.679367\n",
      "The cost is currently equal to......... 168347.932649\n",
      "The cost is currently equal to......... 168326.031403\n",
      "The cost is currently equal to......... 168351.020074\n",
      "The cost is currently equal to......... 168318.965403\n",
      "The cost is currently equal to......... 168317.574051\n",
      "The cost is currently equal to......... 168315.01551\n",
      "The cost is currently equal to......... 168310.369992\n",
      "The cost is currently equal to......... 168305.103364\n",
      "The cost is currently equal to......... 168300.125238\n",
      "The cost is currently equal to......... 168294.149353\n",
      "The cost is currently equal to......... 168288.332967\n",
      "The cost is currently equal to......... 168283.807798\n",
      "The cost is currently equal to......... 168280.23203\n",
      "The cost is currently equal to......... 168274.915636\n",
      "The cost is currently equal to......... 168273.39334\n",
      "The cost is currently equal to......... 168267.182354\n",
      "The cost is currently equal to......... 168261.423503\n",
      "The cost is currently equal to......... 168255.795929\n",
      "The cost is currently equal to......... 168249.690209\n",
      "The cost is currently equal to......... 168244.194246\n",
      "The cost is currently equal to......... 168238.817666\n",
      "The cost is currently equal to......... 168232.697174\n",
      "The cost is currently equal to......... 168229.166803\n",
      "The cost is currently equal to......... 168228.370261\n"
     ]
    }
   ],
   "source": [
    "fmin = minimize(fun=cost, x0=params, args=(Ynorm, R_mat, num_business, num_user, num_features, lamda),  \n",
    "                method='CG', jac=True, options={'maxiter': 100})\n",
    "X = np.matrix(np.reshape(fmin.x[:num_business * num_features], (num_business, num_features)))  \n",
    "theta = np.matrix(np.reshape(fmin.x[num_business * num_features:], (num_user, num_features)))"
   ]
  },
  {
   "cell_type": "code",
   "execution_count": 69,
   "metadata": {
    "ExecuteTime": {
     "end_time": "2017-02-01T17:30:48.813993",
     "start_time": "2017-02-01T17:30:48.809481"
    },
    "collapsed": true,
    "run_control": {
     "frozen": false,
     "read_only": false
    }
   },
   "outputs": [],
   "source": [
    "## lamda = 10:\n",
    "# For 100 features after 20 iterations cost = 271'813 @ 2m 8s\n",
    "# For 50 features after 20 iterations cost = 186'694 @ 1m 0s\n",
    "# For 50 features after 100 iterations cost = 168'915 @ 8m 37s\n",
    "## lamda = 1:\n",
    "# For 50 features after 20 iterations cost = 142325 @ 2m 0s (might be overfitting)\n",
    "## lambda = 10\n",
    "# For 75 features after 100 iterations cost = 168131 @ 7m 55s \n",
    "\n",
    "## NOTE: nmubers will vary slightly every run due to randomness of algorithm (and selected masks)"
   ]
  },
  {
   "cell_type": "markdown",
   "metadata": {
    "run_control": {
     "frozen": false,
     "read_only": false
    }
   },
   "source": [
    "# Get the Predictions"
   ]
  },
  {
   "cell_type": "code",
   "execution_count": 70,
   "metadata": {
    "ExecuteTime": {
     "end_time": "2017-02-01T17:30:49.352425",
     "start_time": "2017-02-01T17:30:48.815999"
    },
    "collapsed": true,
    "run_control": {
     "frozen": false,
     "read_only": false
    }
   },
   "outputs": [],
   "source": [
    "predictions = X * theta.T + Ymean"
   ]
  },
  {
   "cell_type": "code",
   "execution_count": 71,
   "metadata": {
    "ExecuteTime": {
     "end_time": "2017-02-01T17:30:49.359444",
     "start_time": "2017-02-01T17:30:49.354431"
    },
    "collapsed": false,
    "run_control": {
     "frozen": false,
     "read_only": false
    }
   },
   "outputs": [
    {
     "data": {
      "text/plain": [
       "4.4016381077234596"
      ]
     },
     "execution_count": 71,
     "metadata": {},
     "output_type": "execute_result"
    }
   ],
   "source": [
    "predictions[0,162]"
   ]
  },
  {
   "cell_type": "markdown",
   "metadata": {
    "run_control": {
     "frozen": false,
     "read_only": false
    }
   },
   "source": [
    "# Evaluate Recommender System"
   ]
  },
  {
   "cell_type": "code",
   "execution_count": 72,
   "metadata": {
    "ExecuteTime": {
     "end_time": "2017-02-01T17:30:49.378995",
     "start_time": "2017-02-01T17:30:49.361449"
    },
    "collapsed": false,
    "run_control": {
     "frozen": false,
     "read_only": false
    }
   },
   "outputs": [
    {
     "data": {
      "text/plain": [
       "array([ nan,  nan,  nan, ...,  nan,  nan,  nan])"
      ]
     },
     "execution_count": 72,
     "metadata": {},
     "output_type": "execute_result"
    }
   ],
   "source": [
    "Y.lookup(test_values_locations.business_id, test_values_locations.user_id)"
   ]
  },
  {
   "cell_type": "code",
   "execution_count": 73,
   "metadata": {
    "ExecuteTime": {
     "end_time": "2017-02-01T17:30:49.387519",
     "start_time": "2017-02-01T17:30:49.380500"
    },
    "collapsed": false,
    "run_control": {
     "frozen": false,
     "read_only": false
    }
   },
   "outputs": [
    {
     "data": {
      "text/plain": [
       "array([ nan,  nan,  nan, ...,  nan,  nan,  nan])"
      ]
     },
     "execution_count": 73,
     "metadata": {},
     "output_type": "execute_result"
    }
   ],
   "source": [
    "Y.values[row_ids, col_ids]"
   ]
  },
  {
   "cell_type": "code",
   "execution_count": 74,
   "metadata": {
    "ExecuteTime": {
     "end_time": "2017-02-01T17:30:49.410078",
     "start_time": "2017-02-01T17:30:49.390025"
    },
    "collapsed": false,
    "run_control": {
     "frozen": false,
     "read_only": false
    }
   },
   "outputs": [
    {
     "data": {
      "text/plain": [
       "array([ 4.,  5.,  4., ...,  4.,  2.,  3.])"
      ]
     },
     "execution_count": 74,
     "metadata": {},
     "output_type": "execute_result"
    }
   ],
   "source": [
    "Y_test_original.lookup(test_values_locations.business_id, test_values_locations.user_id)"
   ]
  },
  {
   "cell_type": "code",
   "execution_count": 75,
   "metadata": {
    "ExecuteTime": {
     "end_time": "2017-02-01T17:30:49.419604",
     "start_time": "2017-02-01T17:30:49.412085"
    },
    "collapsed": false,
    "run_control": {
     "frozen": false,
     "read_only": false
    }
   },
   "outputs": [
    {
     "data": {
      "text/plain": [
       "matrix([[ 4.01282738,  3.76417574,  3.77143136, ...,  3.69329666,\n",
       "          3.64789552,  3.45656567]])"
      ]
     },
     "execution_count": 75,
     "metadata": {},
     "output_type": "execute_result"
    }
   ],
   "source": [
    "predictions[row_ids, col_ids]"
   ]
  },
  {
   "cell_type": "markdown",
   "metadata": {
    "run_control": {
     "frozen": false,
     "read_only": false
    }
   },
   "source": [
    "## To Clip the predictions between 1 and 5, use the clip function:"
   ]
  },
  {
   "cell_type": "code",
   "execution_count": 76,
   "metadata": {
    "ExecuteTime": {
     "end_time": "2017-02-01T17:30:49.464725",
     "start_time": "2017-02-01T17:30:49.421610"
    },
    "collapsed": false,
    "run_control": {
     "frozen": false,
     "read_only": false
    }
   },
   "outputs": [
    {
     "data": {
      "text/plain": [
       "6.8213900859206777"
      ]
     },
     "execution_count": 76,
     "metadata": {},
     "output_type": "execute_result"
    }
   ],
   "source": [
    "predictions.max()"
   ]
  },
  {
   "cell_type": "code",
   "execution_count": 77,
   "metadata": {
    "ExecuteTime": {
     "end_time": "2017-02-01T17:30:49.691852",
     "start_time": "2017-02-01T17:30:49.466228"
    },
    "collapsed": false,
    "run_control": {
     "frozen": false,
     "read_only": false
    }
   },
   "outputs": [
    {
     "data": {
      "text/plain": [
       "matrix([[ 4.49501671,  4.57283063,  4.48017446, ...,  4.4968212 ,\n",
       "          4.52064318,  4.45102625],\n",
       "        [ 4.0503156 ,  3.86951599,  4.13330578, ...,  3.97869645,\n",
       "          3.97426887,  4.00515903],\n",
       "        [ 3.39304792,  3.23398279,  3.3959406 , ...,  3.33000046,\n",
       "          3.31332783,  3.34771972],\n",
       "        ..., \n",
       "        [ 4.03920711,  4.03543473,  4.01444194, ...,  3.93090652,\n",
       "          4.00406214,  3.93804946],\n",
       "        [ 3.60798599,  3.42121166,  3.45235704, ...,  3.46736743,\n",
       "          3.60977756,  3.5146927 ],\n",
       "        [ 4.22811564,  4.08016095,  4.18746174, ...,  4.12299539,\n",
       "          4.2605593 ,  4.13285829]])"
      ]
     },
     "execution_count": 77,
     "metadata": {},
     "output_type": "execute_result"
    }
   ],
   "source": [
    "predictions.clip(1, 5)"
   ]
  },
  {
   "cell_type": "markdown",
   "metadata": {
    "run_control": {
     "frozen": false,
     "read_only": false
    }
   },
   "source": [
    "## Find the mean squared error (MSE) for the test set"
   ]
  },
  {
   "cell_type": "markdown",
   "metadata": {
    "ExecuteTime": {
     "end_time": "2017-01-29T22:36:29.259125",
     "start_time": "2017-01-29T22:36:29.255634"
    },
    "run_control": {
     "frozen": false,
     "read_only": false
    }
   },
   "source": [
    "### With clipping the values to [1, 5] and rounding the results to nearest integer"
   ]
  },
  {
   "cell_type": "code",
   "execution_count": 78,
   "metadata": {
    "ExecuteTime": {
     "end_time": "2017-02-01T17:30:49.707395",
     "start_time": "2017-02-01T17:30:49.693833"
    },
    "collapsed": false,
    "run_control": {
     "frozen": false,
     "read_only": false
    }
   },
   "outputs": [
    {
     "data": {
      "text/plain": [
       "1.1304298636181309"
      ]
     },
     "execution_count": 78,
     "metadata": {},
     "output_type": "execute_result"
    }
   ],
   "source": [
    "np.mean(np.power((np.round(predictions[row_ids, col_ids].clip(1,5)) - Y_test_original.lookup(test_values_locations.business_id, test_values_locations.user_id)),2))"
   ]
  },
  {
   "cell_type": "code",
   "execution_count": 79,
   "metadata": {
    "ExecuteTime": {
     "end_time": "2017-02-01T17:30:49.711883",
     "start_time": "2017-02-01T17:30:49.708892"
    },
    "collapsed": true,
    "run_control": {
     "frozen": false,
     "read_only": false
    }
   },
   "outputs": [],
   "source": [
    "# for 50 features lambda 1, 20 iterations, the MSE is 2.59\n",
    "# for 75 features lambda 10, 100 iterations, the MSE is 1.15"
   ]
  },
  {
   "cell_type": "markdown",
   "metadata": {
    "ExecuteTime": {
     "end_time": "2017-01-29T22:36:56.966329",
     "start_time": "2017-01-29T22:36:56.963323"
    },
    "run_control": {
     "frozen": false,
     "read_only": false
    }
   },
   "source": [
    "### With clipping but without rounding the results"
   ]
  },
  {
   "cell_type": "code",
   "execution_count": 80,
   "metadata": {
    "ExecuteTime": {
     "end_time": "2017-02-01T17:30:49.727447",
     "start_time": "2017-02-01T17:30:49.713386"
    },
    "collapsed": false,
    "run_control": {
     "frozen": false,
     "read_only": false
    },
    "scrolled": true
   },
   "outputs": [
    {
     "data": {
      "text/plain": [
       "1.0553228197254483"
      ]
     },
     "execution_count": 80,
     "metadata": {},
     "output_type": "execute_result"
    }
   ],
   "source": [
    "np.mean(np.power((predictions[row_ids, col_ids].clip(1,5) - Y_test_original.lookup(test_values_locations.business_id, test_values_locations.user_id)),2))"
   ]
  },
  {
   "cell_type": "code",
   "execution_count": 81,
   "metadata": {
    "ExecuteTime": {
     "end_time": "2017-02-01T17:30:49.731935",
     "start_time": "2017-02-01T17:30:49.728927"
    },
    "collapsed": true,
    "run_control": {
     "frozen": false,
     "read_only": false
    }
   },
   "outputs": [],
   "source": [
    "# for 50 features lambda 1, 20 iterations, the MSE is 2.51\n",
    "# for 75 features lambda 10, 100 iterations, the MSE is 1.07"
   ]
  },
  {
   "cell_type": "markdown",
   "metadata": {
    "run_control": {
     "frozen": false,
     "read_only": false
    }
   },
   "source": [
    "### Without clipping nor rounding:"
   ]
  },
  {
   "cell_type": "code",
   "execution_count": 82,
   "metadata": {
    "ExecuteTime": {
     "end_time": "2017-02-01T17:30:49.747055",
     "start_time": "2017-02-01T17:30:49.733441"
    },
    "collapsed": false,
    "run_control": {
     "frozen": false,
     "read_only": false
    }
   },
   "outputs": [
    {
     "data": {
      "text/plain": [
       "1.055420163371853"
      ]
     },
     "execution_count": 82,
     "metadata": {},
     "output_type": "execute_result"
    }
   ],
   "source": [
    "np.mean(np.power((predictions[row_ids, col_ids] - Y_test_original.lookup(test_values_locations.business_id, test_values_locations.user_id)),2))"
   ]
  },
  {
   "cell_type": "code",
   "execution_count": 83,
   "metadata": {
    "ExecuteTime": {
     "end_time": "2017-02-01T17:30:49.752067",
     "start_time": "2017-02-01T17:30:49.748555"
    },
    "collapsed": true,
    "run_control": {
     "frozen": false,
     "read_only": false
    }
   },
   "outputs": [],
   "source": [
    "# for 50 features lambda 1, 20 iterations, the MSE is 3.83\n",
    "# for 75 features lambda 10, 100 iterations, the MSE is 1.07"
   ]
  },
  {
   "cell_type": "markdown",
   "metadata": {
    "run_control": {
     "frozen": false,
     "read_only": false
    }
   },
   "source": [
    "## Acuracy: not a good measure for recommendation systems"
   ]
  },
  {
   "cell_type": "code",
   "execution_count": 84,
   "metadata": {
    "ExecuteTime": {
     "end_time": "2017-02-01T17:30:49.769613",
     "start_time": "2017-02-01T17:30:49.755092"
    },
    "collapsed": false,
    "run_control": {
     "frozen": false,
     "read_only": false
    }
   },
   "outputs": [
    {
     "data": {
      "text/plain": [
       "array([ 0.36584838])"
      ]
     },
     "execution_count": 84,
     "metadata": {},
     "output_type": "execute_result"
    }
   ],
   "source": [
    "(np.round(predictions[row_ids, col_ids]) == Y_test_original.lookup(test_values_locations.business_id, test_values_locations.user_id)).sum()/row_ids.shape"
   ]
  },
  {
   "cell_type": "code",
   "execution_count": 85,
   "metadata": {
    "ExecuteTime": {
     "end_time": "2017-02-01T17:30:49.774128",
     "start_time": "2017-02-01T17:30:49.771096"
    },
    "collapsed": true,
    "run_control": {
     "frozen": false,
     "read_only": false
    }
   },
   "outputs": [],
   "source": [
    "# for 50 features lambda 1, 20 iterations, the accuracy is 0.02275\n",
    "# for 75 features lambda 10, 100 iterations, the accuracy is 0.36383"
   ]
  },
  {
   "cell_type": "markdown",
   "metadata": {
    "run_control": {
     "frozen": false,
     "read_only": false
    }
   },
   "source": [
    "## Another Evaluation metric: \n",
    "If predictions >= 3 and Original test value also >= 3, then the recommendation is correct, the same for values < 3 \n",
    "\n",
    "otherwise, the recommendation is incorrect \n",
    "\n",
    "Can use precision/recall/F1 score\n"
   ]
  },
  {
   "cell_type": "code",
   "execution_count": 86,
   "metadata": {
    "ExecuteTime": {
     "end_time": "2017-02-01T17:30:49.797686",
     "start_time": "2017-02-01T17:30:49.776108"
    },
    "collapsed": false,
    "run_control": {
     "frozen": false,
     "read_only": false
    }
   },
   "outputs": [
    {
     "data": {
      "text/plain": [
       "0.87927797833935017"
      ]
     },
     "execution_count": 86,
     "metadata": {},
     "output_type": "execute_result"
    }
   ],
   "source": [
    "# Accuracy:\n",
    "((np.round(predictions[row_ids, col_ids]) >= 3) & (Y_test_original.lookup(test_values_locations.business_id, test_values_locations.user_id) >= 3) | \n",
    " (predictions[row_ids, col_ids] < 3) & (Y_test_original.lookup(test_values_locations.business_id, test_values_locations.user_id) < 3)).mean()"
   ]
  },
  {
   "cell_type": "code",
   "execution_count": 87,
   "metadata": {
    "ExecuteTime": {
     "end_time": "2017-02-01T17:30:49.802178",
     "start_time": "2017-02-01T17:30:49.799671"
    },
    "collapsed": true,
    "run_control": {
     "frozen": false,
     "read_only": false
    }
   },
   "outputs": [],
   "source": [
    "# for 50 features lambda 1, 20 iterations, the accuracy is 0.75466\n",
    "# for 75 features lambda 10, 100 iterations, the accuracy is 0.87740"
   ]
  },
  {
   "cell_type": "markdown",
   "metadata": {
    "run_control": {
     "frozen": false,
     "read_only": false
    }
   },
   "source": [
    "## Evaluate the whole Y matrix (the not null values)"
   ]
  },
  {
   "cell_type": "code",
   "execution_count": 88,
   "metadata": {
    "ExecuteTime": {
     "end_time": "2017-02-01T17:30:54.148559",
     "start_time": "2017-02-01T17:30:49.804684"
    },
    "collapsed": true,
    "run_control": {
     "frozen": false,
     "read_only": false
    }
   },
   "outputs": [],
   "source": [
    "# Find label locations (business, user) of rated businesses\n",
    "all_value_idx = Y[Y.notnull()].stack().index.tolist()"
   ]
  },
  {
   "cell_type": "code",
   "execution_count": 89,
   "metadata": {
    "ExecuteTime": {
     "end_time": "2017-02-01T17:30:54.195223",
     "start_time": "2017-02-01T17:30:54.150564"
    },
    "collapsed": false,
    "run_control": {
     "frozen": false,
     "read_only": false
    }
   },
   "outputs": [
    {
     "data": {
      "text/plain": [
       "[('--5jkZ3-nUPZxUvtcbr8Uw', '0BT613A1PBxuwxUzjEb6VQ'),\n",
       " ('--5jkZ3-nUPZxUvtcbr8Uw', '2dWZiZonDmR2rDoBrqYOFQ'),\n",
       " ('--5jkZ3-nUPZxUvtcbr8Uw', '7QfecHRoPxw-Uu2GMkGyzQ'),\n",
       " ('--5jkZ3-nUPZxUvtcbr8Uw', '8DEtfP9Fmp5X1DG6iTtXnQ'),\n",
       " ('--5jkZ3-nUPZxUvtcbr8Uw', '8KKUnoYOGRs8nMQLbwoFfA'),\n",
       " ('--5jkZ3-nUPZxUvtcbr8Uw', 'ARP1hjIwpYOGdQAg7iEBqA'),\n",
       " ('--5jkZ3-nUPZxUvtcbr8Uw', 'BWPbFAPZIv_Prl_ib88jpw'),\n",
       " ('--5jkZ3-nUPZxUvtcbr8Uw', 'BZSM6JL92epbwz-Oj3u8KQ'),\n",
       " ('--5jkZ3-nUPZxUvtcbr8Uw', 'Br9mpMhkVunsp8Un5GpYWA'),\n",
       " ('--5jkZ3-nUPZxUvtcbr8Uw', 'Cp-PV8rsypbO-xBrQ6KmQg'),\n",
       " ('--5jkZ3-nUPZxUvtcbr8Uw', 'CwkdQfIWMLFPpa14i8it9g'),\n",
       " ('--5jkZ3-nUPZxUvtcbr8Uw', 'F6QsMoJdvtohlbnST-fDyQ'),\n",
       " ('--5jkZ3-nUPZxUvtcbr8Uw', 'JHmO-lVrHA0njKnQnZ8qLA'),\n",
       " ('--5jkZ3-nUPZxUvtcbr8Uw', 'JpNMQXWX1Z2904D1BGl_Og'),\n",
       " ('--5jkZ3-nUPZxUvtcbr8Uw', 'Ki71iAFTxsPPQfX430c99Q'),\n",
       " ('--5jkZ3-nUPZxUvtcbr8Uw', 'Kqvfep2mxS10S50FbVDi4Q'),\n",
       " ('--5jkZ3-nUPZxUvtcbr8Uw', 'NNdfPF-UhvLB8FxbsuSC5A'),\n",
       " ('--5jkZ3-nUPZxUvtcbr8Uw', 'OpN1MhESDpc4_mPpx2Pd9Q'),\n",
       " ('--5jkZ3-nUPZxUvtcbr8Uw', 'P1fXuGmbdTz_jfEZLbWYcA'),\n",
       " ('--5jkZ3-nUPZxUvtcbr8Uw', 'QAtL9roCZeqQlLDB-Ara7g'),\n",
       " ('--5jkZ3-nUPZxUvtcbr8Uw', 'ST8Yzlk2MqKlcaLqL2djBg'),\n",
       " ('--5jkZ3-nUPZxUvtcbr8Uw', 'X1C6Ufo9Y0OxoxORBYPOLA'),\n",
       " ('--5jkZ3-nUPZxUvtcbr8Uw', 'X8Kwao6QzXNIjoaXyrGO5g'),\n",
       " ('--5jkZ3-nUPZxUvtcbr8Uw', 'XTFE2ERq7YvaqGUgQYzVNA'),\n",
       " ('--5jkZ3-nUPZxUvtcbr8Uw', 'Z_si9YlkrwzPN114kOCMIQ'),\n",
       " ('--5jkZ3-nUPZxUvtcbr8Uw', 'a8gpBi7biN9VAoJwKgl3Xw'),\n",
       " ('--5jkZ3-nUPZxUvtcbr8Uw', 'hB0XY4B9ps6ALpBD2k_ZgQ'),\n",
       " ('--5jkZ3-nUPZxUvtcbr8Uw', 'kffxYQVQsEpF1DVlQlcGCg'),\n",
       " ('--5jkZ3-nUPZxUvtcbr8Uw', 'kugDSIQMepXHDTFnkcB9mg'),\n",
       " ('--5jkZ3-nUPZxUvtcbr8Uw', 'p1F6Unak4Wlj0CouSEO6aQ'),\n",
       " ('--5jkZ3-nUPZxUvtcbr8Uw', 'qKqvVFP6PmxlS7-u0xjs3g'),\n",
       " ('--5jkZ3-nUPZxUvtcbr8Uw', 'sDyaN_3DEZyhnJPUFIwoEg'),\n",
       " ('--5jkZ3-nUPZxUvtcbr8Uw', 't6cniYnYdM9uUoW4CXaSzA'),\n",
       " ('--5jkZ3-nUPZxUvtcbr8Uw', 'uOdEsOgPW48Ky4j8U8CEcw'),\n",
       " ('--BlvDO_RG2yElKu9XA1_g', '0bNXP9quoJEgyVZu9ipGgQ'),\n",
       " ('--BlvDO_RG2yElKu9XA1_g', '3uR5YTXgW4hatuFnaNxSGg'),\n",
       " ('--BlvDO_RG2yElKu9XA1_g', '4CgusCZkipvUhvBZrRD46w'),\n",
       " ('--BlvDO_RG2yElKu9XA1_g', '90a6z--_CUrl84aCzZyPsg'),\n",
       " ('--BlvDO_RG2yElKu9XA1_g', '9MJAacmjxtctbI3xncsK5Q'),\n",
       " ('--BlvDO_RG2yElKu9XA1_g', 'B_gXPNJkP9zeH7qshbwK2w'),\n",
       " ('--BlvDO_RG2yElKu9XA1_g', 'BatP9LqtEkiww0owJIf_jg'),\n",
       " ('--BlvDO_RG2yElKu9XA1_g', 'GoymUzKqvET2QOZkIWZi9w'),\n",
       " ('--BlvDO_RG2yElKu9XA1_g', 'HPxji3cX5H460ECCgtnGHw'),\n",
       " ('--BlvDO_RG2yElKu9XA1_g', 'Jr11o_s3zIkKtOM8a8H8rw'),\n",
       " ('--BlvDO_RG2yElKu9XA1_g', 'MRpr7424VPPicEVPcj7RCg'),\n",
       " ('--BlvDO_RG2yElKu9XA1_g', 'O4AFqy0d3v2LlJ31Z0khiA'),\n",
       " ('--BlvDO_RG2yElKu9XA1_g', 'RHLKZQWKlfraZcFNjJYxpQ'),\n",
       " ('--BlvDO_RG2yElKu9XA1_g', 'RsUNADZTrJ5xFXVMXJC1MQ'),\n",
       " ('--BlvDO_RG2yElKu9XA1_g', 'TPqXQMBaRdn7wYUP_diphQ'),\n",
       " ('--BlvDO_RG2yElKu9XA1_g', 'VexAJmqOClKzm8KbY7xs5g'),\n",
       " ('--BlvDO_RG2yElKu9XA1_g', 'YLE6GoJ61fb0QBF7JTkaJg'),\n",
       " ('--BlvDO_RG2yElKu9XA1_g', 'aanQAeF8EDsbZ6l5YddEsQ'),\n",
       " ('--BlvDO_RG2yElKu9XA1_g', 'btLssxZq0qOFKKBbYP8L6w'),\n",
       " ('--BlvDO_RG2yElKu9XA1_g', 'cSAACR699NuLMqBPuKL8nw'),\n",
       " ('--BlvDO_RG2yElKu9XA1_g', 'faVvuyxRutEkKX1hK1GuQA'),\n",
       " ('--BlvDO_RG2yElKu9XA1_g', 'omGocLsyIYeiHPviDOAa3w'),\n",
       " ('--BlvDO_RG2yElKu9XA1_g', 'p3QX1ZoFOCrin4ojNOVkBg'),\n",
       " ('--BlvDO_RG2yElKu9XA1_g', 'pDSMS-IW5wyZK0XBi4jnDw'),\n",
       " ('--BlvDO_RG2yElKu9XA1_g', 'zHgmWv6NbwZepUSqA_FlLw'),\n",
       " ('--BlvDO_RG2yElKu9XA1_g', 'zRnoNCqk0DG3iOQxtpVXug'),\n",
       " ('--UE_y6auTgq3FXlvUMkbw', '2UC3rwRm6swuNFt_GhKOhw'),\n",
       " ('--UE_y6auTgq3FXlvUMkbw', '57tPrvg7i2R3QjsxTiY-Xg'),\n",
       " ('--UE_y6auTgq3FXlvUMkbw', '63Pop3d15pTuHZ7qoex46w'),\n",
       " ('--UE_y6auTgq3FXlvUMkbw', '6QhWTugzBJ3cdv2N4WZcSA'),\n",
       " ('--UE_y6auTgq3FXlvUMkbw', '9Ify25DK87s5_u2EhK0_Rg'),\n",
       " ('--UE_y6auTgq3FXlvUMkbw', '9OZH1Ecw-qUkCW5MS0NefA'),\n",
       " ('--UE_y6auTgq3FXlvUMkbw', 'D1G8W0SgCbsKTv7cAqKcNg'),\n",
       " ('--UE_y6auTgq3FXlvUMkbw', 'DLu1Bum8EXNE62xno-v0VA'),\n",
       " ('--UE_y6auTgq3FXlvUMkbw', 'Hys6HzKi24j2809kI_7dKA'),\n",
       " ('--UE_y6auTgq3FXlvUMkbw', 'J_q8jN623uew8ZzMChXBCA'),\n",
       " ('--UE_y6auTgq3FXlvUMkbw', 'KSS6v5fcZNoelu4eEZCFcw'),\n",
       " ('--UE_y6auTgq3FXlvUMkbw', 'L_1ldS4LQxCt7cVN1tfWAQ'),\n",
       " ('--UE_y6auTgq3FXlvUMkbw', 'LhgQq1x4n9ardg1PFo8vgg'),\n",
       " ('--UE_y6auTgq3FXlvUMkbw', 'MSuyK2p8G9hEqyWf5IgnYQ'),\n",
       " ('--UE_y6auTgq3FXlvUMkbw', 'N_cH3QA_eXXmnzz-nzEeKA'),\n",
       " ('--UE_y6auTgq3FXlvUMkbw', 'NkWH_i-Ubu6LE317wG6yfQ'),\n",
       " ('--UE_y6auTgq3FXlvUMkbw', 'QcGi0cDzzGLb3LmiI33Psg'),\n",
       " ('--UE_y6auTgq3FXlvUMkbw', 'RSExP0-Boucr4QyIEzZi0A'),\n",
       " ('--UE_y6auTgq3FXlvUMkbw', 'T_wjLgPOPXry7Bea4MzoVQ'),\n",
       " ('--UE_y6auTgq3FXlvUMkbw', 'TckShYnQa0eD3WQxdoE3GQ'),\n",
       " ('--UE_y6auTgq3FXlvUMkbw', 'UD7Y1CqfY6mDmRwIuCf6nA'),\n",
       " ('--UE_y6auTgq3FXlvUMkbw', 'UZhNbC4E31-Hjx7SVA3hdw'),\n",
       " ('--UE_y6auTgq3FXlvUMkbw', 'UnGPr6ZnGe9YOSZRopnS5g'),\n",
       " ('--UE_y6auTgq3FXlvUMkbw', 'WzaaorVCmUTQvu4mScunNg'),\n",
       " ('--UE_y6auTgq3FXlvUMkbw', 'Z-TW_TppnxT4TkFeavNaQw'),\n",
       " ('--UE_y6auTgq3FXlvUMkbw', '_vS9qNQvx8wVUOIkj4qfAg'),\n",
       " ('--UE_y6auTgq3FXlvUMkbw', 'dapbOj1WwSchUr-7V63IBg'),\n",
       " ('--UE_y6auTgq3FXlvUMkbw', 'e7iHB7gZbVuD-UvJVKe3cQ'),\n",
       " ('--UE_y6auTgq3FXlvUMkbw', 'es9l0E8GJT4eWyCTSU4C2A'),\n",
       " ('--UE_y6auTgq3FXlvUMkbw', 'gtJJBaQwTwE45NnNF0coVA'),\n",
       " ('--UE_y6auTgq3FXlvUMkbw', 'hru2IDwSyN61sgWPtJw_hA'),\n",
       " ('--UE_y6auTgq3FXlvUMkbw', 'iSJLdur495--oPDE0b1Vpw'),\n",
       " ('--UE_y6auTgq3FXlvUMkbw', 'j2UOrL-m5tvtqKXV4-RkYw'),\n",
       " ('--UE_y6auTgq3FXlvUMkbw', 'jJ0Sn00IBzKzlJGSktE1aQ'),\n",
       " ('--UE_y6auTgq3FXlvUMkbw', 'lh4K6-KALpqgJ3mZOUBN4w'),\n",
       " ('--UE_y6auTgq3FXlvUMkbw', 'nx2PS25Qe3MCEFUdO_XOtw'),\n",
       " ('--UE_y6auTgq3FXlvUMkbw', 'o9XGClSBzCsQxbcCzTPdnQ'),\n",
       " ('--UE_y6auTgq3FXlvUMkbw', 'q7MrNVt1FE23rwtWmPYWHg'),\n",
       " ('--UE_y6auTgq3FXlvUMkbw', 'qPGLUQUG43b3aBZKDUBlMw'),\n",
       " ('--UE_y6auTgq3FXlvUMkbw', 'rGaYsX8fzbjpAAqSm62UOA'),\n",
       " ('--UE_y6auTgq3FXlvUMkbw', 'rONxiM8Hafy5kba3ZLoCbA'),\n",
       " ('--UE_y6auTgq3FXlvUMkbw', 'u2F_wCshIRLCKO0Un2R3ow'),\n",
       " ('--UE_y6auTgq3FXlvUMkbw', 'ukrBUZXE5K1J57FI7ve_RQ'),\n",
       " ('--UE_y6auTgq3FXlvUMkbw', 'ulik60Aw4MMl3fKi78B_fg'),\n",
       " ('--UE_y6auTgq3FXlvUMkbw', 'z5ap03HKlU_9sWjIjFN0Eg'),\n",
       " ('--pOlFxITWnhzc7SHSIP0A', '-_1ctLaz3jhPYc12hKXsEQ'),\n",
       " ('--pOlFxITWnhzc7SHSIP0A', '3Kn23qXbgPFmtV-CbHPJ2A'),\n",
       " ('--pOlFxITWnhzc7SHSIP0A', '4bIXGkoeMczOe6goszBJkQ'),\n",
       " ('--pOlFxITWnhzc7SHSIP0A', '5hhvqWu2vCo4HSKFw4H0pQ'),\n",
       " ('--pOlFxITWnhzc7SHSIP0A', '6f9xCzChuA5eBoxoR6EmAQ'),\n",
       " ('--pOlFxITWnhzc7SHSIP0A', '6n1Gb-yHpw4ke0oSAFOOnQ'),\n",
       " ('--pOlFxITWnhzc7SHSIP0A', '9P_5UGjc3t3Bo_yJ5A7iAQ'),\n",
       " ('--pOlFxITWnhzc7SHSIP0A', 'A6bPFcUjuuayRBoyybedDQ'),\n",
       " ('--pOlFxITWnhzc7SHSIP0A', 'E4cWjfDvTwKwhgXoZDwlBA'),\n",
       " ('--pOlFxITWnhzc7SHSIP0A', 'ETCwKbo2RBSDoLtIGW96eg'),\n",
       " ('--pOlFxITWnhzc7SHSIP0A', 'HZtUdfqNNi3Klqadu7247w'),\n",
       " ('--pOlFxITWnhzc7SHSIP0A', 'He6ZibRNyBAGvC-QHOrPkw'),\n",
       " ('--pOlFxITWnhzc7SHSIP0A', 'I1WILQ2Ok1U8igHUE9iIdQ'),\n",
       " ('--pOlFxITWnhzc7SHSIP0A', 'JCDjFVSmtF8oLyVj07fUSg'),\n",
       " ('--pOlFxITWnhzc7SHSIP0A', 'JG4BZ6PWmhB3XHgpRKaicQ'),\n",
       " ('--pOlFxITWnhzc7SHSIP0A', 'JLxAeGv8JCxYOlAxkDYGsQ'),\n",
       " ('--pOlFxITWnhzc7SHSIP0A', 'Kybm9SJyOfEgDAXFUPRdCQ'),\n",
       " ('--pOlFxITWnhzc7SHSIP0A', 'M6MieaY1qYTjv40qUrhAmQ'),\n",
       " ('--pOlFxITWnhzc7SHSIP0A', 'NESzjLpjWixicUlFd5Oxtw'),\n",
       " ('--pOlFxITWnhzc7SHSIP0A', 'OXzYyZSHo9Dl6Qd0s_o2Ig'),\n",
       " ('--pOlFxITWnhzc7SHSIP0A', 'PDVT8Lshz0z6Cy4A4Ee3zA'),\n",
       " ('--pOlFxITWnhzc7SHSIP0A', 'PMBwthnhhwL8Rw8Alis8Ew'),\n",
       " ('--pOlFxITWnhzc7SHSIP0A', 'PkE0DYXSfnWmpjmvlCER_A'),\n",
       " ('--pOlFxITWnhzc7SHSIP0A', 'PpkKVodWC0sdn74TbHQLzA'),\n",
       " ('--pOlFxITWnhzc7SHSIP0A', 'SC9GM-QpmR8x1Ga3reIb_w'),\n",
       " ('--pOlFxITWnhzc7SHSIP0A', 'Suk3mDCt1WPNdKpuTaxZnQ'),\n",
       " ('--pOlFxITWnhzc7SHSIP0A', 'Ty9Hlih7lscLIwWp4oaeXQ'),\n",
       " ('--pOlFxITWnhzc7SHSIP0A', 'UmCAhWcU_abaaESenKUiLw'),\n",
       " ('--pOlFxITWnhzc7SHSIP0A', 'UtVpoTzxnhkWk5eIyON6WQ'),\n",
       " ('--pOlFxITWnhzc7SHSIP0A', 'VS2eqJXJIGNwkD6IGY031Q'),\n",
       " ('--pOlFxITWnhzc7SHSIP0A', 'VhI6xyylcAxi0wOy2HOX3w'),\n",
       " ('--pOlFxITWnhzc7SHSIP0A', 'ZQU0VKHqCBpoU5SYx454KQ'),\n",
       " ('--pOlFxITWnhzc7SHSIP0A', 'aezHXN4Vw6n8JYtN9zI7NQ'),\n",
       " ('--pOlFxITWnhzc7SHSIP0A', 'cZjX4HsWB8mTLHI4uhbB-g'),\n",
       " ('--pOlFxITWnhzc7SHSIP0A', 'd4-0-wEjkANvDuuq9SmmKw'),\n",
       " ('--pOlFxITWnhzc7SHSIP0A', 'dJlo6PovBYJk6zCkd7Y10Q'),\n",
       " ('--pOlFxITWnhzc7SHSIP0A', 'dXkJ91eJ60KppeHC9dmavA'),\n",
       " ('--pOlFxITWnhzc7SHSIP0A', 'daOPsL58Yz0DaBtuGtod-w'),\n",
       " ('--pOlFxITWnhzc7SHSIP0A', 'dufkE7-rD8qURGEkOE172g'),\n",
       " ('--pOlFxITWnhzc7SHSIP0A', 'eppXd18fTZSY5d7etGre4g'),\n",
       " ('--pOlFxITWnhzc7SHSIP0A', 'h6ANB0LnT4vAELRSj_uAOg'),\n",
       " ('--pOlFxITWnhzc7SHSIP0A', 'hEFiiqzLHkqNSePBD2jnqA'),\n",
       " ('--pOlFxITWnhzc7SHSIP0A', 'iXw0rFSizCrA5n4bpELiPQ'),\n",
       " ('--pOlFxITWnhzc7SHSIP0A', 'kzTw297vLneC9KgZv92MwA'),\n",
       " ('--pOlFxITWnhzc7SHSIP0A', 'l4nJ5rCyw_qaFiO0-NLhtw'),\n",
       " ('--pOlFxITWnhzc7SHSIP0A', 'mTKWYLN9PmqF7UflA7tnPQ'),\n",
       " ('--pOlFxITWnhzc7SHSIP0A', 'nHsj0cHOiroAsmDfF50BtA'),\n",
       " ('--pOlFxITWnhzc7SHSIP0A', 'oqk2nivNciQDKL11Q2O7QA'),\n",
       " ('--pOlFxITWnhzc7SHSIP0A', 'rHdD5wi1iL5R3SR4MngfjA'),\n",
       " ('--pOlFxITWnhzc7SHSIP0A', 'tha1bsWQNbDTnHYMk48vGA'),\n",
       " ('--pOlFxITWnhzc7SHSIP0A', 'ts7EG6Zv2zdMDg29nyqGfA'),\n",
       " ('--pOlFxITWnhzc7SHSIP0A', 'u6uKeOcA8MB1SPvuVlP0uA'),\n",
       " ('--pOlFxITWnhzc7SHSIP0A', 'uJDeOEoqsdQihpSwUfVLdg'),\n",
       " ('--pOlFxITWnhzc7SHSIP0A', 'uL7TIJ56Eb9Rx4nkt2ej_Q'),\n",
       " ('--pOlFxITWnhzc7SHSIP0A', 'wiSyra98q3ZZwfXMvCWu0Q'),\n",
       " ('--pOlFxITWnhzc7SHSIP0A', 'z89zLtkHdvYwMw7ikLAigw'),\n",
       " ('-0Ackw6MF82PXO9f9Jh_Kg', '-AXrmhjaQ8PbZJFe5V9Hjw'),\n",
       " ('-0Ackw6MF82PXO9f9Jh_Kg', '1Un-MiG32ww25kTNxPxCug'),\n",
       " ('-0Ackw6MF82PXO9f9Jh_Kg', '2D2PBuvLtxA0G7OxM_IWqQ'),\n",
       " ('-0Ackw6MF82PXO9f9Jh_Kg', '2bAbL28lhrnyOlYiZ8yMdg'),\n",
       " ('-0Ackw6MF82PXO9f9Jh_Kg', '3P8YxDrEdFuzZcnEafVDBA'),\n",
       " ('-0Ackw6MF82PXO9f9Jh_Kg', '3nbqYfQfn1hC4gDWAV6_mg'),\n",
       " ('-0Ackw6MF82PXO9f9Jh_Kg', '3sWSeGT-5fQ2Z6uAW78VMA'),\n",
       " ('-0Ackw6MF82PXO9f9Jh_Kg', '4BZbyy12azmRsZErsiTWwQ'),\n",
       " ('-0Ackw6MF82PXO9f9Jh_Kg', '5Fd93L51CcW9oiJxPPfgEQ'),\n",
       " ('-0Ackw6MF82PXO9f9Jh_Kg', '6BI2XAnVHwhH8LiheWHQqw'),\n",
       " ('-0Ackw6MF82PXO9f9Jh_Kg', '7aY-XYK4q7ueEv2-oDgaHA'),\n",
       " ('-0Ackw6MF82PXO9f9Jh_Kg', '7h7IlYzn2j2b7AH-801EtQ'),\n",
       " ('-0Ackw6MF82PXO9f9Jh_Kg', 'Asi2hACYNaZkK916a8YbBw'),\n",
       " ('-0Ackw6MF82PXO9f9Jh_Kg', 'BlLKSPOVNVozkOMFYNHdYw'),\n",
       " ('-0Ackw6MF82PXO9f9Jh_Kg', 'CcTiVSitn50PDxHuy9dV7Q'),\n",
       " ('-0Ackw6MF82PXO9f9Jh_Kg', 'DS6Gi20MMMA5KP6rRdey9w'),\n",
       " ('-0Ackw6MF82PXO9f9Jh_Kg', 'DxJ87tigSia0ga5YMj6AeQ'),\n",
       " ('-0Ackw6MF82PXO9f9Jh_Kg', 'GDORQxUWjO5wSETJ782FMQ'),\n",
       " ('-0Ackw6MF82PXO9f9Jh_Kg', 'GJsvq6TXHSol66a3H8SOfw'),\n",
       " ('-0Ackw6MF82PXO9f9Jh_Kg', 'IWdbAR6CrCrq0cYEgQX08w'),\n",
       " ('-0Ackw6MF82PXO9f9Jh_Kg', 'IrzHAVpjBUSLnnrY5jG2OQ'),\n",
       " ('-0Ackw6MF82PXO9f9Jh_Kg', 'Iu3Jo9ROp2IWC9FwtWOaUQ'),\n",
       " ('-0Ackw6MF82PXO9f9Jh_Kg', 'JEfRjBaNqdInGz2_Zx3mxQ'),\n",
       " ('-0Ackw6MF82PXO9f9Jh_Kg', 'LPmph859UUDQTXU5XaZGtQ'),\n",
       " ('-0Ackw6MF82PXO9f9Jh_Kg', 'N7wNlo3_EaHUWHiFDyGh5g'),\n",
       " ('-0Ackw6MF82PXO9f9Jh_Kg', 'NjOYSgr2LNMoSPi4e140Ig'),\n",
       " ('-0Ackw6MF82PXO9f9Jh_Kg', 'P-kkhXZpL_hUN8Zu3t7BDQ'),\n",
       " ('-0Ackw6MF82PXO9f9Jh_Kg', 'P3zg5hDD28V2XQwcnoJ_Lw'),\n",
       " ('-0Ackw6MF82PXO9f9Jh_Kg', 'Q3fOGZT4YlIZu1gLDooxrA'),\n",
       " ('-0Ackw6MF82PXO9f9Jh_Kg', 'RaCj9KJeiy0W3uQd-Bj6Ng'),\n",
       " ('-0Ackw6MF82PXO9f9Jh_Kg', 'T7emU3xCiPYnickSWN2y5g'),\n",
       " ('-0Ackw6MF82PXO9f9Jh_Kg', 'VrDppoXuilvABpjYqxBNjg'),\n",
       " ('-0Ackw6MF82PXO9f9Jh_Kg', 'WmAyExqSWoiYZ5XEqpk_Uw'),\n",
       " ('-0Ackw6MF82PXO9f9Jh_Kg', 'XHkzCzmIAB3DnjQO7v6jww'),\n",
       " ('-0Ackw6MF82PXO9f9Jh_Kg', 'YAjMnT_aU3pNDgYO-rUUFg'),\n",
       " ('-0Ackw6MF82PXO9f9Jh_Kg', 'ap4taRzgmqmEvAe_x-tQYg'),\n",
       " ('-0Ackw6MF82PXO9f9Jh_Kg', 'bf2Y2uOcgwCA3XZDMNW7SA'),\n",
       " ('-0Ackw6MF82PXO9f9Jh_Kg', 'hRdhlyNVtVvcf7oLn2J1Xw'),\n",
       " ('-0Ackw6MF82PXO9f9Jh_Kg', 'k5p3YP1ZjCa8ZS3xqXgBug'),\n",
       " ('-0Ackw6MF82PXO9f9Jh_Kg', 'mO2Qw9O4oTHio4TlaHTSfw'),\n",
       " ('-0Ackw6MF82PXO9f9Jh_Kg', 'mrIiiPUsp4CIt1fPNzsDfg'),\n",
       " ('-0Ackw6MF82PXO9f9Jh_Kg', 'psf7Etrt3azIdhMhoPKmpA'),\n",
       " ('-0Ackw6MF82PXO9f9Jh_Kg', 'puEh1nAiAwxgNkPJFmlN7w'),\n",
       " ('-0Ackw6MF82PXO9f9Jh_Kg', 'qhOMHfr_rrcdRFIZcIU7Dg'),\n",
       " ('-0Ackw6MF82PXO9f9Jh_Kg', 'tGMgfgBXibTtE_SFtelKNw'),\n",
       " ('-0Ackw6MF82PXO9f9Jh_Kg', 'vpfVuYOBech1P220ho1KFA'),\n",
       " ('-0Ackw6MF82PXO9f9Jh_Kg', 'vsR6VM-x-phiOsjU6QQEuA'),\n",
       " ('-0Ackw6MF82PXO9f9Jh_Kg', 'ydaYTc4HzEbByz4HhNzC0w'),\n",
       " ('-0Ackw6MF82PXO9f9Jh_Kg', 'zdd-2iKL09VLFMrOVNI4-Q'),\n",
       " ('-0Oh0BEtQEC9OmmzZ_H5Bg', '-M8nC6CF0ESYI20Zkhjplg'),\n",
       " ('-0Oh0BEtQEC9OmmzZ_H5Bg', '45b5rr4_gTTBCYQqeXGt9Q'),\n",
       " ('-0Oh0BEtQEC9OmmzZ_H5Bg', '4xg7zKItKzrPiZnt9bpeoQ'),\n",
       " ('-0Oh0BEtQEC9OmmzZ_H5Bg', '60i9h-gPKH1f0YC_bZXDhg'),\n",
       " ('-0Oh0BEtQEC9OmmzZ_H5Bg', '6ZoAjSFzK-zbdCjgUE4r2Q'),\n",
       " ('-0Oh0BEtQEC9OmmzZ_H5Bg', '7_NytWPdEBfpiqFSyQEKwA'),\n",
       " ('-0Oh0BEtQEC9OmmzZ_H5Bg', '7dVb_A9s34R-EVQYetmLCA'),\n",
       " ('-0Oh0BEtQEC9OmmzZ_H5Bg', 'BjxA4zrE0Jy1jh5SQLkLlA'),\n",
       " ('-0Oh0BEtQEC9OmmzZ_H5Bg', 'CYHX8nnPoqclfWSsl1JWnA'),\n",
       " ('-0Oh0BEtQEC9OmmzZ_H5Bg', 'Ce3r59dubVnVxSPAfetr2w'),\n",
       " ('-0Oh0BEtQEC9OmmzZ_H5Bg', 'DwU7KVfebA70AlVtX0iOWw'),\n",
       " ('-0Oh0BEtQEC9OmmzZ_H5Bg', 'E5qFR0RBQBoXx8FbrOkdbw'),\n",
       " ('-0Oh0BEtQEC9OmmzZ_H5Bg', 'H1lVApo6vxkozQIA2FoaHQ'),\n",
       " ('-0Oh0BEtQEC9OmmzZ_H5Bg', 'IDHrwv_RCildFvmfWTkj5Q'),\n",
       " ('-0Oh0BEtQEC9OmmzZ_H5Bg', 'JIHbz6V2TJ6ho0yUaBsckQ'),\n",
       " ('-0Oh0BEtQEC9OmmzZ_H5Bg', 'NEM5_z4ImMeaa24zmOwBrw'),\n",
       " ('-0Oh0BEtQEC9OmmzZ_H5Bg', 'ODhV53XhesCBLJVfGsJGNA'),\n",
       " ('-0Oh0BEtQEC9OmmzZ_H5Bg', 'OOxLwlNadygUwL_aG8KnSQ'),\n",
       " ('-0Oh0BEtQEC9OmmzZ_H5Bg', 'OgF3ZL2aDJhzCj9uLRpyQA'),\n",
       " ('-0Oh0BEtQEC9OmmzZ_H5Bg', 'OpN1MhESDpc4_mPpx2Pd9Q'),\n",
       " ('-0Oh0BEtQEC9OmmzZ_H5Bg', 'RsUNADZTrJ5xFXVMXJC1MQ'),\n",
       " ('-0Oh0BEtQEC9OmmzZ_H5Bg', 'RyX1dtn2eACiehBSj7rxEw'),\n",
       " ('-0Oh0BEtQEC9OmmzZ_H5Bg', 'VtMiUqswOapKPTXf1FIE7g'),\n",
       " ('-0Oh0BEtQEC9OmmzZ_H5Bg', 'YSf4D_rt75nnb_gRgYLY_A'),\n",
       " ('-0Oh0BEtQEC9OmmzZ_H5Bg', 'cAs84AMuiSsgzlWv3JP1uQ'),\n",
       " ('-0Oh0BEtQEC9OmmzZ_H5Bg', 'eXFNV1o6x7oWRP6V_tf5BA'),\n",
       " ('-0Oh0BEtQEC9OmmzZ_H5Bg', 'oAfKMcbHzxD1qMo90ksCMA'),\n",
       " ('-0Oh0BEtQEC9OmmzZ_H5Bg', 'p7dvahRPZIWL7T6pFA_0dg'),\n",
       " ('-0Oh0BEtQEC9OmmzZ_H5Bg', 'poVxDmOPrxbnmvKp6eCs3Q'),\n",
       " ('-0Oh0BEtQEC9OmmzZ_H5Bg', 'qfKtIq30I6wzbokZ4IZ7VQ'),\n",
       " ('-0Oh0BEtQEC9OmmzZ_H5Bg', 'tYZx5cXF69edwIAdtf-PYA'),\n",
       " ('-0Oh0BEtQEC9OmmzZ_H5Bg', 'teO4xBunbWqYpClcc5wxwQ'),\n",
       " ('-0Oh0BEtQEC9OmmzZ_H5Bg', 'uZbTb-u-GVjTa2gtQfry5g'),\n",
       " ('-0Oh0BEtQEC9OmmzZ_H5Bg', 'vy0nm2MYGayJ2JcRtfaWxg'),\n",
       " ('-0Oh0BEtQEC9OmmzZ_H5Bg', 'wUEp87FqOB9ew27Iz6zk_w'),\n",
       " ('-0Oh0BEtQEC9OmmzZ_H5Bg', 'xFYguuRPof7hLuWfLbQEZA'),\n",
       " ('-0Oh0BEtQEC9OmmzZ_H5Bg', 'xuVvzfQ583-brRngrMYhbw'),\n",
       " ('-0ZDRoepf3gwd9fpsw1bRQ', '6n1Gb-yHpw4ke0oSAFOOnQ'),\n",
       " ('-0ZDRoepf3gwd9fpsw1bRQ', 'GLJazgesK2b_mRYQaEc8rA'),\n",
       " ('-0ZDRoepf3gwd9fpsw1bRQ', 'LP0bl3GKToABt3lnpSvA2w'),\n",
       " ('-0ZDRoepf3gwd9fpsw1bRQ', 'LRd5CZ8tkdV2Pa4Zz2pSbw'),\n",
       " ('-0ZDRoepf3gwd9fpsw1bRQ', 'M-TwsqjrGVH9-qyw2KcvdQ'),\n",
       " ('-0ZDRoepf3gwd9fpsw1bRQ', 'MOaDlqJ6wWvnJN4wGqreqw'),\n",
       " ('-0ZDRoepf3gwd9fpsw1bRQ', 'NESzjLpjWixicUlFd5Oxtw'),\n",
       " ('-0ZDRoepf3gwd9fpsw1bRQ', 'QJLI1ifWAs-JV8ArBg_Y6w'),\n",
       " ('-0ZDRoepf3gwd9fpsw1bRQ', 'QlOc_cKy_7Fs-Pg0vi9NAg'),\n",
       " ('-0ZDRoepf3gwd9fpsw1bRQ', 'W6LTsXcY1R76M9EdeN0G6A'),\n",
       " ('-0ZDRoepf3gwd9fpsw1bRQ', 'XeDbXueGKrfMLyIG45QIOg'),\n",
       " ('-0ZDRoepf3gwd9fpsw1bRQ', 'ZcEstCa4fDhNXrkZ8_Gh0Q'),\n",
       " ('-0ZDRoepf3gwd9fpsw1bRQ', '_X0Xt2z5Q7GESxxRzvy4_g'),\n",
       " ('-0ZDRoepf3gwd9fpsw1bRQ', 'cxTh9xxqbs-m8Paq6jAumg'),\n",
       " ('-0ZDRoepf3gwd9fpsw1bRQ', 'd1bRcn4uVYN7ONDRO_s9IQ'),\n",
       " ('-0ZDRoepf3gwd9fpsw1bRQ', 'gExkcQH-gW8UUV34VTnK_Q'),\n",
       " ('-0ZDRoepf3gwd9fpsw1bRQ', 'lpZtfD-vCqUER1yGKEvUPw'),\n",
       " ('-0ZDRoepf3gwd9fpsw1bRQ', 'ovzXqT-2ZBaKX282t8WrIg'),\n",
       " ('-0ZDRoepf3gwd9fpsw1bRQ', 'qlYjP4O4BJXE9XaF9MqTYA'),\n",
       " ('-0ZDRoepf3gwd9fpsw1bRQ', 'svkcc6NiBYPp2wfqRo1FQw'),\n",
       " ('-0ZDRoepf3gwd9fpsw1bRQ', 'tf_e7UpwE9PntjCGa7NWig'),\n",
       " ('-0ZDRoepf3gwd9fpsw1bRQ', 'tha1bsWQNbDTnHYMk48vGA'),\n",
       " ('-0ZDRoepf3gwd9fpsw1bRQ', 'vjW8zjAsCTFWhhUb6-HyBA'),\n",
       " ('-1ERbsOf9XOC9wGbZYFr7g', '-G73-qB8IHAawJEJkwr7pA'),\n",
       " ('-1ERbsOf9XOC9wGbZYFr7g', '05b8Uk-4rgyCDlBx7e0rMQ'),\n",
       " ('-1ERbsOf9XOC9wGbZYFr7g', '0HnPDzem6Yx7i0a-jklk1Q'),\n",
       " ('-1ERbsOf9XOC9wGbZYFr7g', '1aN5gfWMNfLkFMkNr60P-A'),\n",
       " ('-1ERbsOf9XOC9wGbZYFr7g', '2Rotfagl1PfMaLxMuNA_VQ'),\n",
       " ('-1ERbsOf9XOC9wGbZYFr7g', '2l2lRFuHLdyGjAuusqPDag'),\n",
       " ('-1ERbsOf9XOC9wGbZYFr7g', '38JK-SfO9NkAGs1RwlH2Gw'),\n",
       " ('-1ERbsOf9XOC9wGbZYFr7g', '42W2_gxwX7sWcpn_ea2f6A'),\n",
       " ('-1ERbsOf9XOC9wGbZYFr7g', '6l_ATA06SBvvPDMvMiKQgw'),\n",
       " ('-1ERbsOf9XOC9wGbZYFr7g', '8UA0UcT-5hucroSxnHZWeg'),\n",
       " ('-1ERbsOf9XOC9wGbZYFr7g', '9A2-wSoBUxlMd3LwmlGrrQ'),\n",
       " ('-1ERbsOf9XOC9wGbZYFr7g', 'CD2126M9pqK80sAPY0Wu_w'),\n",
       " ('-1ERbsOf9XOC9wGbZYFr7g', 'CbY45zEM2jdopLOoUkOL8Q'),\n",
       " ('-1ERbsOf9XOC9wGbZYFr7g', 'EaVmK7PPnV5TAEvB_tg-sw'),\n",
       " ('-1ERbsOf9XOC9wGbZYFr7g', 'FFfeFVf1bICg4FEubiF-Dw'),\n",
       " ('-1ERbsOf9XOC9wGbZYFr7g', 'FeufuarJRBpDs4IEZaXcbg'),\n",
       " ('-1ERbsOf9XOC9wGbZYFr7g', 'GL8QryVyVRgxKpKjIoW_ig'),\n",
       " ('-1ERbsOf9XOC9wGbZYFr7g', 'GPIV41wpKGS5XNvQeBtYjQ'),\n",
       " ('-1ERbsOf9XOC9wGbZYFr7g', 'HtKDIcnUK9FKWmJjrT65-g'),\n",
       " ('-1ERbsOf9XOC9wGbZYFr7g', 'Iu3Jo9ROp2IWC9FwtWOaUQ'),\n",
       " ('-1ERbsOf9XOC9wGbZYFr7g', 'Lo4auWwU5mV87pDkuozu4A'),\n",
       " ('-1ERbsOf9XOC9wGbZYFr7g', 'M-O0tasOl0SGiUsxdO5cZw'),\n",
       " ('-1ERbsOf9XOC9wGbZYFr7g', 'Mhlo8hKUnTbk2zTREqGgMA'),\n",
       " ('-1ERbsOf9XOC9wGbZYFr7g', 'T-b619yiMFLJuDYjmrjbXg'),\n",
       " ('-1ERbsOf9XOC9wGbZYFr7g', 'UEYmdOJORe0vD0H0i5PyMg'),\n",
       " ('-1ERbsOf9XOC9wGbZYFr7g', 'UL7WSQULfYNpxaOi_wS9pw'),\n",
       " ('-1ERbsOf9XOC9wGbZYFr7g', 'Vi77s0AS-cIzPoBq5AbEaQ'),\n",
       " ('-1ERbsOf9XOC9wGbZYFr7g', 'Z0e50zAZ7VhLyop4G8MLCQ'),\n",
       " ('-1ERbsOf9XOC9wGbZYFr7g', '_J2QO7SGgR1Fzs0bKLDIFQ'),\n",
       " ('-1ERbsOf9XOC9wGbZYFr7g', '__nLCwboY2RhiLd6hVSexQ'),\n",
       " ('-1ERbsOf9XOC9wGbZYFr7g', 'dqpp_QWTVMpUBtFRdpZ7gw'),\n",
       " ('-1ERbsOf9XOC9wGbZYFr7g', 'dz1dFc2jo6Sq5jvSnCzjMQ'),\n",
       " ('-1ERbsOf9XOC9wGbZYFr7g', 'eIntLM-mK4OxcO5kfUw5dg'),\n",
       " ('-1ERbsOf9XOC9wGbZYFr7g', 'g1a4OLgGSWMLOGEwcsb3fQ'),\n",
       " ('-1ERbsOf9XOC9wGbZYFr7g', 'i12pkZvWH4elKnoeVvRT7A'),\n",
       " ('-1ERbsOf9XOC9wGbZYFr7g', 'k3itmpGK28_JGNXnAo8W6Q'),\n",
       " ('-1ERbsOf9XOC9wGbZYFr7g', 'oOayyTrVO-PbVeXXsh_JEQ'),\n",
       " ('-1ERbsOf9XOC9wGbZYFr7g', 'olM9Qkh8dnW3sw8vW0CPWg'),\n",
       " ('-1ERbsOf9XOC9wGbZYFr7g', 'ou-yGrDISZPfe9gDqXMIXw'),\n",
       " ('-1ERbsOf9XOC9wGbZYFr7g', 'pnEzSccoQlXf5ZvOCAw_XA'),\n",
       " ('-1ERbsOf9XOC9wGbZYFr7g', 'q6rtK--sgc0JoGQyf7CuRg'),\n",
       " ('-1ERbsOf9XOC9wGbZYFr7g', 'spua98OQihmtKuhZXeyUaw'),\n",
       " ('-1ERbsOf9XOC9wGbZYFr7g', 'vjyPJBAkpiWonAMVuUEKJA'),\n",
       " ('-1ERbsOf9XOC9wGbZYFr7g', 'w779yXXXfA79zJcqqBPqUw'),\n",
       " ('-1ERbsOf9XOC9wGbZYFr7g', 'xQpO4Jfi-Np3HLmJrQAe0Q'),\n",
       " ('-1ERbsOf9XOC9wGbZYFr7g', 'xj6NkHKs40GSnhRrWOuzUQ'),\n",
       " ('-1bOb2izeJBZjHC7NWxiPA', '100Df1wcVrl9rJgB7EG6xw'),\n",
       " ('-1bOb2izeJBZjHC7NWxiPA', '1cR5-LZcSYcACxhGe3DEVA'),\n",
       " ('-1bOb2izeJBZjHC7NWxiPA', '2KyJLMY3jmASmwtnmlBuvw'),\n",
       " ('-1bOb2izeJBZjHC7NWxiPA', '8Fhyi6U9-3OZC0j8DY3TPQ'),\n",
       " ('-1bOb2izeJBZjHC7NWxiPA', '9tXL9eJNIi9SL5pdCYeyZQ'),\n",
       " ('-1bOb2izeJBZjHC7NWxiPA', '9uuPzUWC1m_TnMUV9kXu9g'),\n",
       " ('-1bOb2izeJBZjHC7NWxiPA', 'AYGHNy8gPxl2Q-etTT3hZw'),\n",
       " ('-1bOb2izeJBZjHC7NWxiPA', 'BV8c4QZEzvPWA00ZqJp-jQ'),\n",
       " ('-1bOb2izeJBZjHC7NWxiPA', 'CZ2c7VGCAFYuJdhwsqRChQ'),\n",
       " ('-1bOb2izeJBZjHC7NWxiPA', 'E5qFR0RBQBoXx8FbrOkdbw'),\n",
       " ('-1bOb2izeJBZjHC7NWxiPA', 'F6QsMoJdvtohlbnST-fDyQ'),\n",
       " ('-1bOb2izeJBZjHC7NWxiPA', 'GP-h9colXgkT79BW7aDJeg'),\n",
       " ('-1bOb2izeJBZjHC7NWxiPA', 'HWi8ntFMy81BVjAsgAwbrQ'),\n",
       " ('-1bOb2izeJBZjHC7NWxiPA', 'HY9qpAamqLXFoa7xMwNntg'),\n",
       " ('-1bOb2izeJBZjHC7NWxiPA', 'Hi7VohxSS5OBt98w4j8t4A'),\n",
       " ('-1bOb2izeJBZjHC7NWxiPA', 'JkMOQaMjlBHMqp6gj-hL3w'),\n",
       " ('-1bOb2izeJBZjHC7NWxiPA', 'K568ApQJB1-0F4jOncooNw'),\n",
       " ('-1bOb2izeJBZjHC7NWxiPA', 'KPfcgOxFwP6atMOsDdJ3OQ'),\n",
       " ('-1bOb2izeJBZjHC7NWxiPA', 'O6gv84PCivRYWp52Nlr2hg'),\n",
       " ('-1bOb2izeJBZjHC7NWxiPA', 'QBQlErZajdIyXX84dvFUnQ'),\n",
       " ('-1bOb2izeJBZjHC7NWxiPA', 'RtXYLYuI5qReCOSqTGDXOQ'),\n",
       " ('-1bOb2izeJBZjHC7NWxiPA', 'Ry48Bta6spNowOkiMNC_xg'),\n",
       " ('-1bOb2izeJBZjHC7NWxiPA', 'THYIqfnLV54VZ_v2hCfq2Q'),\n",
       " ('-1bOb2izeJBZjHC7NWxiPA', 'XxA5k_iyzf9HdvPMp_J27w'),\n",
       " ('-1bOb2izeJBZjHC7NWxiPA', '_8b_Jg3LPUL7P2WzZp5QXQ'),\n",
       " ('-1bOb2izeJBZjHC7NWxiPA', 'bl69-2c_Amf4SGqoAmANig'),\n",
       " ('-1bOb2izeJBZjHC7NWxiPA', 'bmDivXQy-KB4_dPIS9ZA8w'),\n",
       " ('-1bOb2izeJBZjHC7NWxiPA', 'btfv0CFoDX6vJCPms6-Irg'),\n",
       " ('-1bOb2izeJBZjHC7NWxiPA', 'cg4em4uXe5ab5qH7pB01gg'),\n",
       " ('-1bOb2izeJBZjHC7NWxiPA', 'e-GOQDdx_pPSi_dHJ87oKQ'),\n",
       " ('-1bOb2izeJBZjHC7NWxiPA', 'gGNAr-cmCQUgA9B0QjVqAg'),\n",
       " ('-1bOb2izeJBZjHC7NWxiPA', 'hDlSSyDreM9xY4yQWPm54w'),\n",
       " ('-1bOb2izeJBZjHC7NWxiPA', 'hFtlFksrcLaWHGPNa6SmeA'),\n",
       " ('-1bOb2izeJBZjHC7NWxiPA', 'hQ1rEj-8VY9vFYYNsjXoxQ'),\n",
       " ('-1bOb2izeJBZjHC7NWxiPA', 'ioTuTA_pI-ZgiM4uISDQPg'),\n",
       " ('-1bOb2izeJBZjHC7NWxiPA', 'j472C2lnLtcdyXz4qA0YrA'),\n",
       " ('-1bOb2izeJBZjHC7NWxiPA', 'kffxYQVQsEpF1DVlQlcGCg'),\n",
       " ('-1bOb2izeJBZjHC7NWxiPA', 'kk05snSafuIFK0lsxoMNzA'),\n",
       " ('-1bOb2izeJBZjHC7NWxiPA', 'l53FUDHRHLg7BQ89KgAtxQ'),\n",
       " ('-1bOb2izeJBZjHC7NWxiPA', 'mxwQi0rr25dIvHUaCs7EFQ'),\n",
       " ('-1bOb2izeJBZjHC7NWxiPA', 'oSvQ_t8qNWp_s7s26AOgtw'),\n",
       " ('-1bOb2izeJBZjHC7NWxiPA', 'q9zdZyN95FNX9Q9vJK_jWg'),\n",
       " ('-1bOb2izeJBZjHC7NWxiPA', 'qyy2X0sjuwcikplzdATfGg'),\n",
       " ('-1bOb2izeJBZjHC7NWxiPA', 'ru1AtKcp7Ch80-KkJbQyJg'),\n",
       " ('-1bOb2izeJBZjHC7NWxiPA', 'u-M4jMYKXsj-l1BYdyNpRQ'),\n",
       " ('-1bOb2izeJBZjHC7NWxiPA', 'w4suxL1zlxsihVlugZZDAQ'),\n",
       " ('-1bOb2izeJBZjHC7NWxiPA', 'xkTbpCc-YhU8-EXZDA7u0g'),\n",
       " ('-1bOb2izeJBZjHC7NWxiPA', 'ysBQMZiuZ7VSu_YAh-lE0Q'),\n",
       " ('-1lvWTeV_RI1weq8FTnPRw', '10dhZs996tBtJq2nd_mcRg'),\n",
       " ('-1lvWTeV_RI1weq8FTnPRw', '2UC3rwRm6swuNFt_GhKOhw'),\n",
       " ('-1lvWTeV_RI1weq8FTnPRw', '57tPrvg7i2R3QjsxTiY-Xg'),\n",
       " ('-1lvWTeV_RI1weq8FTnPRw', '5eBYTs1PL2lPy-ng6co5yA'),\n",
       " ('-1lvWTeV_RI1weq8FTnPRw', 'Ai1t-UCf0ElszaDajWlnwg'),\n",
       " ('-1lvWTeV_RI1weq8FTnPRw', 'JbWnXwjLaO1kncUkQOMajg'),\n",
       " ('-1lvWTeV_RI1weq8FTnPRw', 'K1oHkXNn1ZRmdnSN5AFsGw'),\n",
       " ('-1lvWTeV_RI1weq8FTnPRw', 'L_ZCrE7g1l_yzzNTmS8u8g'),\n",
       " ('-1lvWTeV_RI1weq8FTnPRw', 'Nhvkukz5MECqEUQVfh6A6w'),\n",
       " ('-1lvWTeV_RI1weq8FTnPRw', 'NkWH_i-Ubu6LE317wG6yfQ'),\n",
       " ('-1lvWTeV_RI1weq8FTnPRw', 'RSExP0-Boucr4QyIEzZi0A'),\n",
       " ('-1lvWTeV_RI1weq8FTnPRw', 'UnGPr6ZnGe9YOSZRopnS5g'),\n",
       " ('-1lvWTeV_RI1weq8FTnPRw', 'b9WOuVFcnHxEGYXWdCeIVA'),\n",
       " ('-1lvWTeV_RI1weq8FTnPRw', 'go2dZIDfrEBqfsGKnA4m7g'),\n",
       " ('-1lvWTeV_RI1weq8FTnPRw', 'hFhHmfwRPkN81NJZkrnRjQ'),\n",
       " ('-1lvWTeV_RI1weq8FTnPRw', 'jfvv8uvdSJYa5NWEAloxpQ'),\n",
       " ('-1lvWTeV_RI1weq8FTnPRw', 'lh4K6-KALpqgJ3mZOUBN4w'),\n",
       " ('-1lvWTeV_RI1weq8FTnPRw', 'nEYPahVwXGD2Pjvgkm7QqQ'),\n",
       " ('-1lvWTeV_RI1weq8FTnPRw', 'y9Q2mHM8av_2fiqvvers-Q'),\n",
       " ('-1lvWTeV_RI1weq8FTnPRw', 'z5Y8aIWjwyaa0110WAZorg'),\n",
       " ('-1tQu_yKCOgOj-WtXmMYIA', '1GctU54Fu5vePOpg-RAI8Q'),\n",
       " ('-1tQu_yKCOgOj-WtXmMYIA', '5XfAUaix9pBTgreBG79I9Q'),\n",
       " ('-1tQu_yKCOgOj-WtXmMYIA', '6xrk6A61OWwOtmQAErZTvA'),\n",
       " ('-1tQu_yKCOgOj-WtXmMYIA', '7x3-B0yaO_hqXm42VKStzw'),\n",
       " ('-1tQu_yKCOgOj-WtXmMYIA', '8l351svY2y1yX5LFm8H3vQ'),\n",
       " ('-1tQu_yKCOgOj-WtXmMYIA', '9sygeXb0FMcUFyjhopN49Q'),\n",
       " ('-1tQu_yKCOgOj-WtXmMYIA', 'Aj29RhdOWiaZ5q3FMj_lAw'),\n",
       " ('-1tQu_yKCOgOj-WtXmMYIA', 'B-mWdlaF3Ct7XtnZVIAGZg'),\n",
       " ('-1tQu_yKCOgOj-WtXmMYIA', 'B5xxPxit_ga3UXiiQ7O-Uw'),\n",
       " ('-1tQu_yKCOgOj-WtXmMYIA', 'CWqDJ99YEXmqrbXNy7NHLQ'),\n",
       " ('-1tQu_yKCOgOj-WtXmMYIA', 'EgxV8qTrxd4AH_kphKtagA'),\n",
       " ('-1tQu_yKCOgOj-WtXmMYIA', 'G3VAaHJMDOfODFk_xHFWTw'),\n",
       " ('-1tQu_yKCOgOj-WtXmMYIA', 'IGKeaC4zBGGbIZTBOYdUVg'),\n",
       " ('-1tQu_yKCOgOj-WtXmMYIA', 'KoKaA5HoQa_-Z-Sm8YC4ow'),\n",
       " ('-1tQu_yKCOgOj-WtXmMYIA', 'LRn__BXFBmHka4HX2iuikA'),\n",
       " ('-1tQu_yKCOgOj-WtXmMYIA', 'MvteA_wOszf3gffkM_CKDQ'),\n",
       " ('-1tQu_yKCOgOj-WtXmMYIA', 'Mwqg2idMELX87TRGvi6bPQ'),\n",
       " ('-1tQu_yKCOgOj-WtXmMYIA', 'N8liZH8KKXuBLRGWMgVjTA'),\n",
       " ('-1tQu_yKCOgOj-WtXmMYIA', 'ND6DMIKxM8Q1ShEMZuA5rA'),\n",
       " ('-1tQu_yKCOgOj-WtXmMYIA', 'O0M67gJRWwVSGnnsF5aVqA'),\n",
       " ('-1tQu_yKCOgOj-WtXmMYIA', 'OQcQobX4jeyniUUOjQABxg'),\n",
       " ('-1tQu_yKCOgOj-WtXmMYIA', 'P2FD7E392y01VcBVWli6og'),\n",
       " ('-1tQu_yKCOgOj-WtXmMYIA', 'PNNTE3-u1pnfodLbHlF3tw'),\n",
       " ('-1tQu_yKCOgOj-WtXmMYIA', 'PQhnVoe0n6ELH5lfwprHKg'),\n",
       " ('-1tQu_yKCOgOj-WtXmMYIA', 'PRcfYRZGxTPFQgFqpnvp0Q'),\n",
       " ('-1tQu_yKCOgOj-WtXmMYIA', 'PlRa4Mjmo1Qppt2D19_0cw'),\n",
       " ('-1tQu_yKCOgOj-WtXmMYIA', 'QEPAhwPFhRwnsgzJgJPYPA'),\n",
       " ('-1tQu_yKCOgOj-WtXmMYIA', 'QMnKC-8Me2MPysWgQzTkdw'),\n",
       " ('-1tQu_yKCOgOj-WtXmMYIA', 'QhtTrWSAt-KGyEnkSZZb4g'),\n",
       " ('-1tQu_yKCOgOj-WtXmMYIA', 'ST-pgG7BsmULkIyqcah6zA'),\n",
       " ('-1tQu_yKCOgOj-WtXmMYIA', 'UL7WSQULfYNpxaOi_wS9pw'),\n",
       " ('-1tQu_yKCOgOj-WtXmMYIA', 'UMAs1Tzg9tGCuwNnz6K7_Q'),\n",
       " ('-1tQu_yKCOgOj-WtXmMYIA', 'VHxulgyzd1Ftr6Aq3UgfwA'),\n",
       " ('-1tQu_yKCOgOj-WtXmMYIA', 'VKQkwyGzN-GYVMB6kAhPMQ'),\n",
       " ('-1tQu_yKCOgOj-WtXmMYIA', 'Ynu8aZO7mopygHywhUAekg'),\n",
       " ('-1tQu_yKCOgOj-WtXmMYIA', 'ZHAaOdWzZJ_SEjIng4MZBg'),\n",
       " ('-1tQu_yKCOgOj-WtXmMYIA', 'ZTk05PSFDo8csT0YKmwYnQ'),\n",
       " ('-1tQu_yKCOgOj-WtXmMYIA', 'b3wY6lLmqqYUl0AHzdPKgQ'),\n",
       " ('-1tQu_yKCOgOj-WtXmMYIA', 'bKMvjHdaq_4lNPyuXeKzyw'),\n",
       " ('-1tQu_yKCOgOj-WtXmMYIA', 'bf2Y2uOcgwCA3XZDMNW7SA'),\n",
       " ('-1tQu_yKCOgOj-WtXmMYIA', 'ehV2bbIj5w-Y7aOCmsDZ0w'),\n",
       " ('-1tQu_yKCOgOj-WtXmMYIA', 'fzPHZzdGgiEaKT-j42K1yQ'),\n",
       " ('-1tQu_yKCOgOj-WtXmMYIA', 'gqcpNd8NyV4_HU0CpGMuhA'),\n",
       " ('-1tQu_yKCOgOj-WtXmMYIA', 'hRXu6-MJhuhPF5jvYCoVrg'),\n",
       " ('-1tQu_yKCOgOj-WtXmMYIA', 'i12pkZvWH4elKnoeVvRT7A'),\n",
       " ('-1tQu_yKCOgOj-WtXmMYIA', 'ia1nTRAQEaFWv0cwADeK7g'),\n",
       " ('-1tQu_yKCOgOj-WtXmMYIA', 'muvcUzT4CyXD5MKxGN8SSA'),\n",
       " ('-1tQu_yKCOgOj-WtXmMYIA', 'pohOrw04qI6sIX07ZpuIGQ'),\n",
       " ('-1tQu_yKCOgOj-WtXmMYIA', 'qzb1AwNqJbVly1Cm2ziY6A'),\n",
       " ('-1tQu_yKCOgOj-WtXmMYIA', 'rjd3TA9fTNRRKkZ-BLlarA'),\n",
       " ('-1tQu_yKCOgOj-WtXmMYIA', 'rzHZ3iYVQe_8h2e42DbUsw'),\n",
       " ('-1tQu_yKCOgOj-WtXmMYIA', 'sCt0ThPjS0bidnx9-u3OoA'),\n",
       " ('-1tQu_yKCOgOj-WtXmMYIA', 'uFjo2KVq3BlBRqoo9se-ZQ'),\n",
       " ('-1tQu_yKCOgOj-WtXmMYIA', 'ue7ak2JMORJXyor0MmW3Jw'),\n",
       " ('-1tQu_yKCOgOj-WtXmMYIA', 'w-m8f8bn20iNNKc6k-R7ig'),\n",
       " ('-1tQu_yKCOgOj-WtXmMYIA', 'wbIU917ctOGp8-NdeVxIWw'),\n",
       " ('-1tQu_yKCOgOj-WtXmMYIA', 'x3t9jU7yIwsGbdsrm9Fg-w'),\n",
       " ('-1tQu_yKCOgOj-WtXmMYIA', 'xMigC1uS2tFanbGcG--sYA'),\n",
       " ('-1tQu_yKCOgOj-WtXmMYIA', 'xOL4L2B8XKFUIC_dQOgh1Q'),\n",
       " ('-1tQu_yKCOgOj-WtXmMYIA', 'xsavzkTWCziXDQwXeZt3iA'),\n",
       " ('-2n-OHbbwIv3SY8RP9bgTQ', '-ANkfLbDf8aiBQ7vywIL6w'),\n",
       " ('-2n-OHbbwIv3SY8RP9bgTQ', '-K3ZjROK0ml2P-Rk7ttHzA'),\n",
       " ('-2n-OHbbwIv3SY8RP9bgTQ', '-XfJ0wZcTakfHtjb8alXsw'),\n",
       " ('-2n-OHbbwIv3SY8RP9bgTQ', '-ZBV14rN7PvIBNuTZI7sjQ'),\n",
       " ('-2n-OHbbwIv3SY8RP9bgTQ', '0duVb6iU3QOiFDRpSiOfKA'),\n",
       " ('-2n-OHbbwIv3SY8RP9bgTQ', '0y9qZZLauQ3sPp-G-NcE7Q'),\n",
       " ('-2n-OHbbwIv3SY8RP9bgTQ', '0zVI2BY9q4ry5u5JhIlZyA'),\n",
       " ('-2n-OHbbwIv3SY8RP9bgTQ', '1X4vP8jG-EhpkF73yuJPmQ'),\n",
       " ('-2n-OHbbwIv3SY8RP9bgTQ', '1pdc68EvKqOhxBhtrIIG2A'),\n",
       " ('-2n-OHbbwIv3SY8RP9bgTQ', '2BVPZZgv-LEBGUdkW325uA'),\n",
       " ('-2n-OHbbwIv3SY8RP9bgTQ', '2EFfBwZSQKgZSsC4eeq03g'),\n",
       " ('-2n-OHbbwIv3SY8RP9bgTQ', '2J0ShTCTUqSULHxIr7wy0A'),\n",
       " ('-2n-OHbbwIv3SY8RP9bgTQ', '2rlBbFPHyZjXSFSE8r551w'),\n",
       " ('-2n-OHbbwIv3SY8RP9bgTQ', '3KCu4c1IOZsUla9pqQc48A'),\n",
       " ('-2n-OHbbwIv3SY8RP9bgTQ', '3auTHeW0hMUHO-_XbmsFTA'),\n",
       " ('-2n-OHbbwIv3SY8RP9bgTQ', '42g4FeE8w1scpowvVb809Q'),\n",
       " ('-2n-OHbbwIv3SY8RP9bgTQ', '46xrtwjJidLUkqd-XOYg7w'),\n",
       " ('-2n-OHbbwIv3SY8RP9bgTQ', '4I20VXHPK2V3pY8yTYm6sA'),\n",
       " ('-2n-OHbbwIv3SY8RP9bgTQ', '54ruPtv7T-BlWUg6q4OXrw'),\n",
       " ('-2n-OHbbwIv3SY8RP9bgTQ', '57LhN8-B5Gjnso6ogOmM0g'),\n",
       " ('-2n-OHbbwIv3SY8RP9bgTQ', '58PgPEDGX8hLNNVbvCc8cw'),\n",
       " ('-2n-OHbbwIv3SY8RP9bgTQ', '5lq4LkrviYgQ4LJNsBYHcA'),\n",
       " ('-2n-OHbbwIv3SY8RP9bgTQ', '5m6BSB5HJNyJwsdNHAPN4Q'),\n",
       " ('-2n-OHbbwIv3SY8RP9bgTQ', '5uH0xiqIaF_0BSWiglZPJg'),\n",
       " ('-2n-OHbbwIv3SY8RP9bgTQ', '5w2jfKmIopYpWD1bXqVi5A'),\n",
       " ('-2n-OHbbwIv3SY8RP9bgTQ', '6YfNPJx3hiNUM5oA2k1R0Q'),\n",
       " ('-2n-OHbbwIv3SY8RP9bgTQ', '6xrk6A61OWwOtmQAErZTvA'),\n",
       " ('-2n-OHbbwIv3SY8RP9bgTQ', '7e_ZAEu3pJIhOcqikTkOVQ'),\n",
       " ('-2n-OHbbwIv3SY8RP9bgTQ', '7gMsfouCnpNRQ8U-ovBKJw'),\n",
       " ('-2n-OHbbwIv3SY8RP9bgTQ', '7iO7qVaIgPGcQkJNryS-Mg'),\n",
       " ('-2n-OHbbwIv3SY8RP9bgTQ', '7x3-B0yaO_hqXm42VKStzw'),\n",
       " ('-2n-OHbbwIv3SY8RP9bgTQ', '8T0evnkvRaTomru7ghPGeg'),\n",
       " ('-2n-OHbbwIv3SY8RP9bgTQ', '8YEndFDktmgebMCYlnlhGg'),\n",
       " ('-2n-OHbbwIv3SY8RP9bgTQ', '9VLkQJJBieggMLk_3l5FLQ'),\n",
       " ('-2n-OHbbwIv3SY8RP9bgTQ', '9XPgaXr0cq3CGEpY3G3IJQ'),\n",
       " ('-2n-OHbbwIv3SY8RP9bgTQ', 'AMaiA4EVbEQ4tm1FsYPdbg'),\n",
       " ('-2n-OHbbwIv3SY8RP9bgTQ', 'AVsGQ953vbOTq4m9e81_ig'),\n",
       " ('-2n-OHbbwIv3SY8RP9bgTQ', 'AZHup0_NTWo2H_cd3ZKL6Q'),\n",
       " ('-2n-OHbbwIv3SY8RP9bgTQ', 'AdFpuH7MSin8cKmpT3IbCA'),\n",
       " ('-2n-OHbbwIv3SY8RP9bgTQ', 'AgtFQVxo-PGQVsOdY6Nvdg'),\n",
       " ('-2n-OHbbwIv3SY8RP9bgTQ', 'B-mWdlaF3Ct7XtnZVIAGZg'),\n",
       " ('-2n-OHbbwIv3SY8RP9bgTQ', 'B5xxPxit_ga3UXiiQ7O-Uw'),\n",
       " ('-2n-OHbbwIv3SY8RP9bgTQ', 'BN99keJ3sks1YLHBPY3u7w'),\n",
       " ('-2n-OHbbwIv3SY8RP9bgTQ', 'Bd26eetCpGkFTX--KoOxkQ'),\n",
       " ('-2n-OHbbwIv3SY8RP9bgTQ', 'Bf_3lZAWvB3rclxGRuXpbA'),\n",
       " ('-2n-OHbbwIv3SY8RP9bgTQ', 'C4WMKcNSxiqy95hDzsQAhg'),\n",
       " ('-2n-OHbbwIv3SY8RP9bgTQ', 'CBU_h5_-4kVpCPJvfaF_pg'),\n",
       " ('-2n-OHbbwIv3SY8RP9bgTQ', 'CWoA0NAsrsrF9VJ6nUpewg'),\n",
       " ('-2n-OHbbwIv3SY8RP9bgTQ', 'CfXtDbLPFH2CkONh1aDcXg'),\n",
       " ('-2n-OHbbwIv3SY8RP9bgTQ', 'Cw3UMmYeqqx1u4HIWaWw3w'),\n",
       " ('-2n-OHbbwIv3SY8RP9bgTQ', 'DEceDCEAbyMuHzE98MtY3A'),\n",
       " ('-2n-OHbbwIv3SY8RP9bgTQ', 'DInIFTmJWQR-SYL7EcPdbA'),\n",
       " ('-2n-OHbbwIv3SY8RP9bgTQ', 'DqZQKC8CDVCUxerxTt9Daw'),\n",
       " ('-2n-OHbbwIv3SY8RP9bgTQ', 'EA4DUm9DW20r3No1sixMbg'),\n",
       " ('-2n-OHbbwIv3SY8RP9bgTQ', 'EAsQ5R656xsM-NJ1pKGNUg'),\n",
       " ('-2n-OHbbwIv3SY8RP9bgTQ', 'EDPucJOSBzuZqg8mqBAp7Q'),\n",
       " ('-2n-OHbbwIv3SY8RP9bgTQ', 'EENe59mZsIqNrqpqMHm4dA'),\n",
       " ('-2n-OHbbwIv3SY8RP9bgTQ', 'EKJVvRrFZiBjbkp6OcF4AQ'),\n",
       " ('-2n-OHbbwIv3SY8RP9bgTQ', 'E_KAdo61uMDvIvqFcOX1Gw'),\n",
       " ('-2n-OHbbwIv3SY8RP9bgTQ', 'EhcZKrQJIS226xdm_qJ71w'),\n",
       " ('-2n-OHbbwIv3SY8RP9bgTQ', 'EjhVxYFeMUYimoImjMduzQ'),\n",
       " ('-2n-OHbbwIv3SY8RP9bgTQ', 'FC-GbgPCTKPGYRhsftjOqg'),\n",
       " ('-2n-OHbbwIv3SY8RP9bgTQ', 'FE891sOKvscJDfckmPmAAw'),\n",
       " ('-2n-OHbbwIv3SY8RP9bgTQ', 'FFjHdQL152Dj-z4Az1oRPA'),\n",
       " ('-2n-OHbbwIv3SY8RP9bgTQ', 'FaR5dMfPJrNJ2llVu4tM_Q'),\n",
       " ('-2n-OHbbwIv3SY8RP9bgTQ', 'FbdB9KXyuvT8rC_zmqRSuQ'),\n",
       " ('-2n-OHbbwIv3SY8RP9bgTQ', 'G3NuvANiCbBi3qm9OnYc-A'),\n",
       " ('-2n-OHbbwIv3SY8RP9bgTQ', 'Gqwllb04HqnPMZfIxfl8Bw'),\n",
       " ('-2n-OHbbwIv3SY8RP9bgTQ', 'GzCK2q4opam7eeyqlUDywg'),\n",
       " ('-2n-OHbbwIv3SY8RP9bgTQ', 'He2K5rZceWrOf8ShpeX23g'),\n",
       " ('-2n-OHbbwIv3SY8RP9bgTQ', 'HlVqy-Mv0FnhMbHz1W57yA'),\n",
       " ('-2n-OHbbwIv3SY8RP9bgTQ', 'HmOlCg682hbhu6_0Dc6z7g'),\n",
       " ('-2n-OHbbwIv3SY8RP9bgTQ', 'HnbRoBXIDHONocrG61IqxA'),\n",
       " ('-2n-OHbbwIv3SY8RP9bgTQ', 'HvfgiWOSk7p3BaEsjkOMQw'),\n",
       " ('-2n-OHbbwIv3SY8RP9bgTQ', 'Hw41XohE7-9g2ICWm77eXw'),\n",
       " ('-2n-OHbbwIv3SY8RP9bgTQ', 'IF1oemfjhwzXXWSaWDC15w'),\n",
       " ('-2n-OHbbwIv3SY8RP9bgTQ', 'IJJ1nCtBQVujChSKlg_QhA'),\n",
       " ('-2n-OHbbwIv3SY8RP9bgTQ', 'J3SnO1QkK6D37q18lVh02A'),\n",
       " ('-2n-OHbbwIv3SY8RP9bgTQ', 'JLl4qyEs8lCWxtLzGwuLkQ'),\n",
       " ('-2n-OHbbwIv3SY8RP9bgTQ', 'KOGgZ66tSU_j_Ivt2znGDA'),\n",
       " ('-2n-OHbbwIv3SY8RP9bgTQ', 'KOI1cDE5lZsv-kCOYLlzLA'),\n",
       " ('-2n-OHbbwIv3SY8RP9bgTQ', 'KRI1kCT7SY6XMX9fBALQYA'),\n",
       " ('-2n-OHbbwIv3SY8RP9bgTQ', 'Kq199LP7rle0SZBYQZmhhw'),\n",
       " ('-2n-OHbbwIv3SY8RP9bgTQ', 'L1pW7368hbsoGT7oMnz9JA'),\n",
       " ('-2n-OHbbwIv3SY8RP9bgTQ', 'Lak_dFs8cEFJkS5aC9owGw'),\n",
       " ('-2n-OHbbwIv3SY8RP9bgTQ', 'LkY1nuEqnUMHiMn9auDd5A'),\n",
       " ('-2n-OHbbwIv3SY8RP9bgTQ', 'LnRG0MlAdOs7cnLKbRv4BA'),\n",
       " ('-2n-OHbbwIv3SY8RP9bgTQ', 'Ly72PZoHkGZUVWgLH8W2-A'),\n",
       " ('-2n-OHbbwIv3SY8RP9bgTQ', 'M5654oz7KI1dRdI6og6flA'),\n",
       " ('-2n-OHbbwIv3SY8RP9bgTQ', 'MuF1JfULuUwed_QqYjQazg'),\n",
       " ('-2n-OHbbwIv3SY8RP9bgTQ', 'N4YJSuyAsloDpqwxYfMrHA'),\n",
       " ('-2n-OHbbwIv3SY8RP9bgTQ', 'NijrDmccBqD1th8iWIFSsg'),\n",
       " ('-2n-OHbbwIv3SY8RP9bgTQ', 'Njphjhi6V2nCnR1RxhkG2Q'),\n",
       " ('-2n-OHbbwIv3SY8RP9bgTQ', 'Nky3oNpprLdskqK3ivCkGQ'),\n",
       " ('-2n-OHbbwIv3SY8RP9bgTQ', 'Nz8zk34zJkeP6uSoEfqVpg'),\n",
       " ('-2n-OHbbwIv3SY8RP9bgTQ', 'Oa2GOM0oMhVxbfh-53N88w'),\n",
       " ('-2n-OHbbwIv3SY8RP9bgTQ', 'Osxzw4UoVahfJXzsSNi5xA'),\n",
       " ('-2n-OHbbwIv3SY8RP9bgTQ', 'Ot6PMbyWmzYMYS8miApFAA'),\n",
       " ('-2n-OHbbwIv3SY8RP9bgTQ', 'P79_ZHeXWQgbNRG54rw1EQ'),\n",
       " ('-2n-OHbbwIv3SY8RP9bgTQ', 'P9fLKFLsFycIIG8iwIlSiA'),\n",
       " ('-2n-OHbbwIv3SY8RP9bgTQ', 'PRcfYRZGxTPFQgFqpnvp0Q'),\n",
       " ('-2n-OHbbwIv3SY8RP9bgTQ', 'PTY5DM38QqeqbKSyfb9lww'),\n",
       " ('-2n-OHbbwIv3SY8RP9bgTQ', 'PV5voYSD43Cn_3gHmxG7DA'),\n",
       " ('-2n-OHbbwIv3SY8RP9bgTQ', 'Qx9MnE4R-g70HyF468O8dA'),\n",
       " ('-2n-OHbbwIv3SY8RP9bgTQ', 'QxbCdWRE7gOuo0p1NFKolg'),\n",
       " ('-2n-OHbbwIv3SY8RP9bgTQ', 'ROIVjjosfGK9jmiTTSU-pw'),\n",
       " ('-2n-OHbbwIv3SY8RP9bgTQ', 'RT6sRtEXqk1_NHaQyo3n-Q'),\n",
       " ('-2n-OHbbwIv3SY8RP9bgTQ', 'RdMfsYb8dTZQYoxU-3OIFg'),\n",
       " ('-2n-OHbbwIv3SY8RP9bgTQ', 'SlmDWYRp56UWknWw9Pz4pw'),\n",
       " ('-2n-OHbbwIv3SY8RP9bgTQ', 'TNMIYXoC6eancS2TcvhWEw'),\n",
       " ('-2n-OHbbwIv3SY8RP9bgTQ', 'Tkbhkxi6uikVv7YzlzPgRA'),\n",
       " ('-2n-OHbbwIv3SY8RP9bgTQ', 'UHPHGCYBMLIvKr7d-8Opww'),\n",
       " ('-2n-OHbbwIv3SY8RP9bgTQ', 'UPtysDF6cUDUxq2KY-6Dcg'),\n",
       " ('-2n-OHbbwIv3SY8RP9bgTQ', 'VH16pzDUZ763trRZirqT5w'),\n",
       " ('-2n-OHbbwIv3SY8RP9bgTQ', 'VJjlRu2Hg2VgaN1P2GVdbA'),\n",
       " ('-2n-OHbbwIv3SY8RP9bgTQ', 'W-hPWK-F7OzfM-rXMMBpsw'),\n",
       " ('-2n-OHbbwIv3SY8RP9bgTQ', 'WYSgraaT4xrzigSmwDCsRg'),\n",
       " ('-2n-OHbbwIv3SY8RP9bgTQ', 'WmAyExqSWoiYZ5XEqpk_Uw'),\n",
       " ('-2n-OHbbwIv3SY8RP9bgTQ', 'WmL9RRDjTO7oru2ywyVEEQ'),\n",
       " ('-2n-OHbbwIv3SY8RP9bgTQ', 'XTE0t9SQ0K-5ahqVp_wiYg'),\n",
       " ('-2n-OHbbwIv3SY8RP9bgTQ', 'XhcM4_Tzxr05wjbYCrBhPw'),\n",
       " ('-2n-OHbbwIv3SY8RP9bgTQ', 'YPVy6s2pQVtWSjR6BimtJg'),\n",
       " ('-2n-OHbbwIv3SY8RP9bgTQ', 'YbL9gA8iE3AxtOrey_XukQ'),\n",
       " ('-2n-OHbbwIv3SY8RP9bgTQ', 'YyPncV7fwWflne10BiCf6Q'),\n",
       " ('-2n-OHbbwIv3SY8RP9bgTQ', 'ZHZecnm385z0q6-dx0RSzA'),\n",
       " ('-2n-OHbbwIv3SY8RP9bgTQ', 'ZY1qKEWM8mUYTpyQYXfxKg'),\n",
       " ('-2n-OHbbwIv3SY8RP9bgTQ', 'ZtFf2ervN53wKa-NoccTpA'),\n",
       " ('-2n-OHbbwIv3SY8RP9bgTQ', 'ZvvxtxeTad9t3ZoxdNYe_g'),\n",
       " ('-2n-OHbbwIv3SY8RP9bgTQ', '_C2IH3mQPZWrBdra_Zrq0Q'),\n",
       " ('-2n-OHbbwIv3SY8RP9bgTQ', '_QX4t-scgBgG2wJ3V8Y-2A'),\n",
       " ('-2n-OHbbwIv3SY8RP9bgTQ', 'aprrNxu7TgDtSEKNtgygtg'),\n",
       " ('-2n-OHbbwIv3SY8RP9bgTQ', 'b4uFPtRcwAuFQhc2EopePw'),\n",
       " ('-2n-OHbbwIv3SY8RP9bgTQ', 'bEOf20giEPtmtiYRTp10Jw'),\n",
       " ('-2n-OHbbwIv3SY8RP9bgTQ', 'bNrr3RJGMO_gOrKpDudP9Q'),\n",
       " ('-2n-OHbbwIv3SY8RP9bgTQ', 'bf2Y2uOcgwCA3XZDMNW7SA'),\n",
       " ('-2n-OHbbwIv3SY8RP9bgTQ', 'biifI-JRFI-2IfAA9TdZ-w'),\n",
       " ('-2n-OHbbwIv3SY8RP9bgTQ', 'cH-RV8qS7M5Kg0cENqiU-Q'),\n",
       " ('-2n-OHbbwIv3SY8RP9bgTQ', 'dEFBM__-WLwfojHPhwa5VA'),\n",
       " ('-2n-OHbbwIv3SY8RP9bgTQ', 'dqpp_QWTVMpUBtFRdpZ7gw'),\n",
       " ('-2n-OHbbwIv3SY8RP9bgTQ', 'dwhyaxMHSdwAGsANdNrxnQ'),\n",
       " ('-2n-OHbbwIv3SY8RP9bgTQ', 'eD9VAnbyW3a1Vg3bfLoX9w'),\n",
       " ('-2n-OHbbwIv3SY8RP9bgTQ', 'eK0tzr8Oh0LhpG22v_Fj_g'),\n",
       " ('-2n-OHbbwIv3SY8RP9bgTQ', 'ePyH2VOpnJhMMSDvv46Ujw'),\n",
       " ('-2n-OHbbwIv3SY8RP9bgTQ', 'f5vgLcoKpFcTvD4lOUxcTQ'),\n",
       " ('-2n-OHbbwIv3SY8RP9bgTQ', 'ff1T6JPPfz3kwujmJ4Jw7Q'),\n",
       " ('-2n-OHbbwIv3SY8RP9bgTQ', 'fgYkHiNSY_uyMRoU633aeA'),\n",
       " ('-2n-OHbbwIv3SY8RP9bgTQ', 'fm5-O3_otnzaAFHYH4pYRw'),\n",
       " ('-2n-OHbbwIv3SY8RP9bgTQ', 'fuxwfk8b4-p1oVPVx9v3rQ'),\n",
       " ('-2n-OHbbwIv3SY8RP9bgTQ', 'fwsJGulnozT2U6FefsLiFw'),\n",
       " ('-2n-OHbbwIv3SY8RP9bgTQ', 'gXvP7LWHZJhoP7njsJ97dw'),\n",
       " ('-2n-OHbbwIv3SY8RP9bgTQ', 'ghxfRXPGpvQtFZGYoSGbcw'),\n",
       " ('-2n-OHbbwIv3SY8RP9bgTQ', 'gl2G7T_-B3kLJOcmoRZNeA'),\n",
       " ('-2n-OHbbwIv3SY8RP9bgTQ', 'hTSY6GKey36WxoWKDR_r0A'),\n",
       " ('-2n-OHbbwIv3SY8RP9bgTQ', 'hY4gS8WfSUgBySKnoDUdrA'),\n",
       " ('-2n-OHbbwIv3SY8RP9bgTQ', 'i8KMQX7nekLSCzb_DVb6yA'),\n",
       " ('-2n-OHbbwIv3SY8RP9bgTQ', 'iGomG4ZgDIkpcL5uvXIj4g'),\n",
       " ('-2n-OHbbwIv3SY8RP9bgTQ', 'iLybO2Ah12R4ejowFCOfLw'),\n",
       " ('-2n-OHbbwIv3SY8RP9bgTQ', 'ijVrgg3-AIkcR7LHUTtt_w'),\n",
       " ('-2n-OHbbwIv3SY8RP9bgTQ', 'jB-jmupliZ40B6a9-h1TGQ'),\n",
       " ('-2n-OHbbwIv3SY8RP9bgTQ', 'jLadSL623Ca5iDcIHK676Q'),\n",
       " ('-2n-OHbbwIv3SY8RP9bgTQ', 'jMhh2HOWeFGBe57mDXCaQA'),\n",
       " ('-2n-OHbbwIv3SY8RP9bgTQ', 'jlbPUcCRiXlMtarzi9sW5w'),\n",
       " ('-2n-OHbbwIv3SY8RP9bgTQ', 'jlgEAcUtJjMNA-RQseM0Rw'),\n",
       " ('-2n-OHbbwIv3SY8RP9bgTQ', 'jqiDWycSAWIhSHIfN_PjAw'),\n",
       " ('-2n-OHbbwIv3SY8RP9bgTQ', 'jv-ICiy4CzYM84_5DXWIpA'),\n",
       " ('-2n-OHbbwIv3SY8RP9bgTQ', 'k5p3YP1ZjCa8ZS3xqXgBug'),\n",
       " ('-2n-OHbbwIv3SY8RP9bgTQ', 'lrQfSNnNMw3C90WowGVUnQ'),\n",
       " ('-2n-OHbbwIv3SY8RP9bgTQ', 'muvcUzT4CyXD5MKxGN8SSA'),\n",
       " ('-2n-OHbbwIv3SY8RP9bgTQ', 'n-bUaPHAfi5wge36axLP0Q'),\n",
       " ('-2n-OHbbwIv3SY8RP9bgTQ', 'nRUke0vqaTzdzY-vIk-m9Q'),\n",
       " ('-2n-OHbbwIv3SY8RP9bgTQ', 'nYKao-8w_IOj4Mv8QWb2vg'),\n",
       " ('-2n-OHbbwIv3SY8RP9bgTQ', 'ngUiYmG59Vbhgjx2RH4mww'),\n",
       " ('-2n-OHbbwIv3SY8RP9bgTQ', 'nvtGOilRudNHkusp8Y546w'),\n",
       " ('-2n-OHbbwIv3SY8RP9bgTQ', 'oBmLhOsrubS-SnHc-B7MHA'),\n",
       " ('-2n-OHbbwIv3SY8RP9bgTQ', 'oMnzDh86ilR6i_d2cQxHcQ'),\n",
       " ('-2n-OHbbwIv3SY8RP9bgTQ', 'oOayyTrVO-PbVeXXsh_JEQ'),\n",
       " ('-2n-OHbbwIv3SY8RP9bgTQ', 'oRA5ppvW0wMnMeCWpDYo7A'),\n",
       " ('-2n-OHbbwIv3SY8RP9bgTQ', 'orxwdyuvc5jxZBypYpWVDg'),\n",
       " ('-2n-OHbbwIv3SY8RP9bgTQ', 'p03i60W0IHPRCKCBcW1Jtw'),\n",
       " ('-2n-OHbbwIv3SY8RP9bgTQ', 'pVxaBEaPyDvS_WxO6jJFpg'),\n",
       " ('-2n-OHbbwIv3SY8RP9bgTQ', 'pfrGhASSk9MW1KogIZMqrQ'),\n",
       " ('-2n-OHbbwIv3SY8RP9bgTQ', 'q4KBfYFqCj4G3OBMXdYsfw'),\n",
       " ('-2n-OHbbwIv3SY8RP9bgTQ', 'qLoI0lFbGJCOBGyvbPR2gw'),\n",
       " ('-2n-OHbbwIv3SY8RP9bgTQ', 'qXzyeA8mgR3EfXaza7lcNQ'),\n",
       " ('-2n-OHbbwIv3SY8RP9bgTQ', 'qqtmFGhyyHc37coT4qJxaw'),\n",
       " ('-2n-OHbbwIv3SY8RP9bgTQ', 'qyy2X0sjuwcikplzdATfGg'),\n",
       " ('-2n-OHbbwIv3SY8RP9bgTQ', 'rXXbSOG1yx9s-c-YpJz4YQ'),\n",
       " ('-2n-OHbbwIv3SY8RP9bgTQ', 'rzHZ3iYVQe_8h2e42DbUsw'),\n",
       " ('-2n-OHbbwIv3SY8RP9bgTQ', 'sN5sIPTkSF6N0gw1CQeTVw'),\n",
       " ('-2n-OHbbwIv3SY8RP9bgTQ', 'segRxemFobkHWDBIkMb4Qg'),\n",
       " ('-2n-OHbbwIv3SY8RP9bgTQ', 'tGMgfgBXibTtE_SFtelKNw'),\n",
       " ('-2n-OHbbwIv3SY8RP9bgTQ', 'uPcR2D5dyvLlgvdEMgitUg'),\n",
       " ('-2n-OHbbwIv3SY8RP9bgTQ', 'ucKJFC8_cVK0NbW5uk4xTQ'),\n",
       " ('-2n-OHbbwIv3SY8RP9bgTQ', 'urQxpxxdIqZtlMzPYpK5cw'),\n",
       " ('-2n-OHbbwIv3SY8RP9bgTQ', 'vpfVuYOBech1P220ho1KFA'),\n",
       " ('-2n-OHbbwIv3SY8RP9bgTQ', 'vsR6VM-x-phiOsjU6QQEuA'),\n",
       " ('-2n-OHbbwIv3SY8RP9bgTQ', 'wOWztTvjFaLiw-1cfa7cnw'),\n",
       " ('-2n-OHbbwIv3SY8RP9bgTQ', 'wY05e7eTtMLvkg0bcZ6zwA'),\n",
       " ('-2n-OHbbwIv3SY8RP9bgTQ', 'wf-kXtB1zpzz5VBiMSqDxQ'),\n",
       " ('-2n-OHbbwIv3SY8RP9bgTQ', 'xV1hf20ZFDSoaMZmwLoHNg'),\n",
       " ('-2n-OHbbwIv3SY8RP9bgTQ', 'xj6NkHKs40GSnhRrWOuzUQ'),\n",
       " ('-2n-OHbbwIv3SY8RP9bgTQ', 'xoJmsnZLd2ysI5w4A85r5Q'),\n",
       " ('-2n-OHbbwIv3SY8RP9bgTQ', 'ymG1JEiSZKPOwo5GeBPEFQ'),\n",
       " ('-2n-OHbbwIv3SY8RP9bgTQ', 'zw8b_u1zuAYO2JgALq5UGw'),\n",
       " ('-36CwMJZJigqPMYrx9BJzw', '2og8bPmCjlj5RreNzRGL9A'),\n",
       " ('-36CwMJZJigqPMYrx9BJzw', '3MbuK8sBX0GNFd4WKeVHCg'),\n",
       " ('-36CwMJZJigqPMYrx9BJzw', '3ddgt3q1NYDgD-83G3-kew'),\n",
       " ('-36CwMJZJigqPMYrx9BJzw', '42g4FeE8w1scpowvVb809Q'),\n",
       " ('-36CwMJZJigqPMYrx9BJzw', '5UGZ1myD3tgNEihsY7zuKA'),\n",
       " ('-36CwMJZJigqPMYrx9BJzw', '5hBsVMJOc8sXMPt8S3NjmA'),\n",
       " ('-36CwMJZJigqPMYrx9BJzw', '5mHPtvzOpfT_FUp6F-AJKw'),\n",
       " ('-36CwMJZJigqPMYrx9BJzw', '7h7IlYzn2j2b7AH-801EtQ'),\n",
       " ('-36CwMJZJigqPMYrx9BJzw', '8CinQayKdMRI3JbCcfa9wA'),\n",
       " ('-36CwMJZJigqPMYrx9BJzw', 'A5v672a60tAPAwYjYNngKw'),\n",
       " ('-36CwMJZJigqPMYrx9BJzw', 'AMaiA4EVbEQ4tm1FsYPdbg'),\n",
       " ('-36CwMJZJigqPMYrx9BJzw', 'F8pTi7KgaL-tjXOYEXQcMQ'),\n",
       " ('-36CwMJZJigqPMYrx9BJzw', 'FKOcIu_mK2rqLyWm5MqCkQ'),\n",
       " ('-36CwMJZJigqPMYrx9BJzw', 'FMKpRPcko3VHWj1YuHOuAQ'),\n",
       " ('-36CwMJZJigqPMYrx9BJzw', 'Gmgh8dF9wzybtfwCtnaGoA'),\n",
       " ('-36CwMJZJigqPMYrx9BJzw', 'J0SEk_wHYZkqJLRlVcvRnQ'),\n",
       " ('-36CwMJZJigqPMYrx9BJzw', 'Kq199LP7rle0SZBYQZmhhw'),\n",
       " ('-36CwMJZJigqPMYrx9BJzw', 'NQ1FQJvmmpdt2Amll84gMA'),\n",
       " ('-36CwMJZJigqPMYrx9BJzw', 'OsE7rfPZqpfjJZJeiANQUQ'),\n",
       " ('-36CwMJZJigqPMYrx9BJzw', 'Pbtl5zDW5r8DfvduiEl7Jw'),\n",
       " ('-36CwMJZJigqPMYrx9BJzw', 'PlRa4Mjmo1Qppt2D19_0cw'),\n",
       " ('-36CwMJZJigqPMYrx9BJzw', 'Ps1Db9zOatoF_76FZNO5CQ'),\n",
       " ('-36CwMJZJigqPMYrx9BJzw', 'QbR_YeJUIyEMpnDHCR6QDA'),\n",
       " ('-36CwMJZJigqPMYrx9BJzw', 'Rpgyk5ljNeQ2kWhaYRVELQ'),\n",
       " ('-36CwMJZJigqPMYrx9BJzw', 'TOmZtoICPC554B0TFNczyw'),\n",
       " ('-36CwMJZJigqPMYrx9BJzw', 'UDOe7JEQDTNMMaMO4X8zYQ'),\n",
       " ('-36CwMJZJigqPMYrx9BJzw', 'VUF3nyOc-yKdnWxOHM0RuA'),\n",
       " ('-36CwMJZJigqPMYrx9BJzw', 'VVfrXmdlKwcYAPduosC0Ig'),\n",
       " ('-36CwMJZJigqPMYrx9BJzw', 'VvrOVlFzCbkOVX4PsF3BOw'),\n",
       " ('-36CwMJZJigqPMYrx9BJzw', 'WcoAg3PrPUshNa0EBScPJA'),\n",
       " ('-36CwMJZJigqPMYrx9BJzw', 'WnsPLkIKlGvp4h7OdTEskg'),\n",
       " ('-36CwMJZJigqPMYrx9BJzw', 'YAkSGD9vjQiGZ7QPGBp-Yw'),\n",
       " ('-36CwMJZJigqPMYrx9BJzw', 'Zuqri2nyntU1bzfDaFU_fw'),\n",
       " ('-36CwMJZJigqPMYrx9BJzw', 'bMpF5OPrf916Y0Gu13VIMg'),\n",
       " ('-36CwMJZJigqPMYrx9BJzw', 'bvxME2B6t2AdSLdZSLaAbw'),\n",
       " ('-36CwMJZJigqPMYrx9BJzw', 'cvqEWBbHpRIkjqalvWANWw'),\n",
       " ('-36CwMJZJigqPMYrx9BJzw', 'dBxiDix_jf7Fh1QSY2uwEQ'),\n",
       " ('-36CwMJZJigqPMYrx9BJzw', 'hwCzBS6H66yCcMoIX4HXTg'),\n",
       " ('-36CwMJZJigqPMYrx9BJzw', 'i8KMQX7nekLSCzb_DVb6yA'),\n",
       " ('-36CwMJZJigqPMYrx9BJzw', 'iHbJlgmSTdZro6j8od1Phw'),\n",
       " ('-36CwMJZJigqPMYrx9BJzw', 'j_R81tns71fV58H65wShkg'),\n",
       " ('-36CwMJZJigqPMYrx9BJzw', 'k_5vdNtNqoxbI4hwd4syoA'),\n",
       " ('-36CwMJZJigqPMYrx9BJzw', 'ndTSxAa_Guy7Oz_tg3VmQA'),\n",
       " ('-36CwMJZJigqPMYrx9BJzw', 'pbg100Utbrz-Rc1siHyeIw'),\n",
       " ('-36CwMJZJigqPMYrx9BJzw', 'riz4ifpVnanXlvsHK5IrKg'),\n",
       " ('-36CwMJZJigqPMYrx9BJzw', 'sLxyYIYCorS-pTtUU4VLuw'),\n",
       " ('-36CwMJZJigqPMYrx9BJzw', 'wlyLr1GzvQFS-UW0_XknWg'),\n",
       " ('-36CwMJZJigqPMYrx9BJzw', 'xATZSxO5r4fWHQhyvostrg'),\n",
       " ('-36CwMJZJigqPMYrx9BJzw', 'zDmT_05ayFG25kMJgbtdtA'),\n",
       " ('-36CwMJZJigqPMYrx9BJzw', 'zIWHwd2lpPVegydJtauKxg'),\n",
       " ('-3WVw1TNQbPBzaKCaQQ1AQ', '-QT_e-7VSun5c2z85k_k5A'),\n",
       " ('-3WVw1TNQbPBzaKCaQQ1AQ', '-weRL-FCmlR07rjcJguwew'),\n",
       " ('-3WVw1TNQbPBzaKCaQQ1AQ', '02mA_muC-5A_Oe_tv8tg0g'),\n",
       " ('-3WVw1TNQbPBzaKCaQQ1AQ', '08_x9Um9czH-fYCUNZfSEQ'),\n",
       " ('-3WVw1TNQbPBzaKCaQQ1AQ', '0oRtnPHtvZIE1UNxCDDTPw'),\n",
       " ('-3WVw1TNQbPBzaKCaQQ1AQ', '0qIsBt4EzBDCKrIviV55Ew'),\n",
       " ('-3WVw1TNQbPBzaKCaQQ1AQ', '0rOIvxlURdppFMU9u5Ep5w'),\n",
       " ('-3WVw1TNQbPBzaKCaQQ1AQ', '100Df1wcVrl9rJgB7EG6xw'),\n",
       " ('-3WVw1TNQbPBzaKCaQQ1AQ', '12Hx_yFzAIdNSHU5tzbbQQ'),\n",
       " ('-3WVw1TNQbPBzaKCaQQ1AQ', '1g8Crb6WGQUsA2l2X3yVGA'),\n",
       " ('-3WVw1TNQbPBzaKCaQQ1AQ', '1uhipArheEVbwWyoAbKAGg'),\n",
       " ('-3WVw1TNQbPBzaKCaQQ1AQ', '2AbBZM7n9EMwa0nK1yl0CA'),\n",
       " ('-3WVw1TNQbPBzaKCaQQ1AQ', '2BzcoI6Kiq-2RQ9EUFR5Tw'),\n",
       " ('-3WVw1TNQbPBzaKCaQQ1AQ', '2LCrT_BOJvGV4xi_lmoRcA'),\n",
       " ('-3WVw1TNQbPBzaKCaQQ1AQ', '2uz3B-11DieFlELzqUCAlw'),\n",
       " ('-3WVw1TNQbPBzaKCaQQ1AQ', '2zRxVpcvfoVBUVJVEsuj8Q'),\n",
       " ('-3WVw1TNQbPBzaKCaQQ1AQ', '3gIfcQq5KxAegwCPXc83cQ'),\n",
       " ('-3WVw1TNQbPBzaKCaQQ1AQ', '43NCZMFc_guSFBbo9g_0rw'),\n",
       " ('-3WVw1TNQbPBzaKCaQQ1AQ', '4EdjIhe1Q0OkC76hP2e3Ow'),\n",
       " ('-3WVw1TNQbPBzaKCaQQ1AQ', '4UUIpbOTPmu43wuC2aSGkg'),\n",
       " ('-3WVw1TNQbPBzaKCaQQ1AQ', '4lkTIhTuMhLprQprGlTRlA'),\n",
       " ('-3WVw1TNQbPBzaKCaQQ1AQ', '6e7pZofhDuIlD_rX2oYirQ'),\n",
       " ('-3WVw1TNQbPBzaKCaQQ1AQ', '7-ly4LI9XWLXkFiM2vHxrw'),\n",
       " ('-3WVw1TNQbPBzaKCaQQ1AQ', '7F-DVLnGmC5hHPUVfSfxDw'),\n",
       " ('-3WVw1TNQbPBzaKCaQQ1AQ', '7cR92zkDv4W3kqzii6axvg'),\n",
       " ('-3WVw1TNQbPBzaKCaQQ1AQ', '7zDqr2I0-xpw9HF5Ha54cA'),\n",
       " ('-3WVw1TNQbPBzaKCaQQ1AQ', '8j3sObCxxUA7iHzhxXj_KQ'),\n",
       " ('-3WVw1TNQbPBzaKCaQQ1AQ', '8p8HZNmrkUBtMx_vmW9dNQ'),\n",
       " ('-3WVw1TNQbPBzaKCaQQ1AQ', '9bP3urjM__IP5csFh9ZsuQ'),\n",
       " ('-3WVw1TNQbPBzaKCaQQ1AQ', '9ebaAGLVIgGKpDLFwmvaiQ'),\n",
       " ('-3WVw1TNQbPBzaKCaQQ1AQ', 'AZuecYaQ7aVpt3mXxmCcSw'),\n",
       " ('-3WVw1TNQbPBzaKCaQQ1AQ', 'AcErO3j0GFTXbdJHbuD2-Q'),\n",
       " ('-3WVw1TNQbPBzaKCaQQ1AQ', 'Aggpf1EWooD85fhOhoRxPg'),\n",
       " ('-3WVw1TNQbPBzaKCaQQ1AQ', 'AnH84g9V10x41CXmCvcaFg'),\n",
       " ('-3WVw1TNQbPBzaKCaQQ1AQ', 'Ayx_wLGPjTVPIYoFerF82Q'),\n",
       " ('-3WVw1TNQbPBzaKCaQQ1AQ', 'C8ZTiwa7qWoPSMIivTeSfw'),\n",
       " ('-3WVw1TNQbPBzaKCaQQ1AQ', 'D30Zx1lFfgOPsFJDA5WgTA'),\n",
       " ('-3WVw1TNQbPBzaKCaQQ1AQ', 'DJIwm4UCnM-SOxXbARjPsQ'),\n",
       " ('-3WVw1TNQbPBzaKCaQQ1AQ', 'DP-ZeMS81oTQBPHeKkhw1A'),\n",
       " ('-3WVw1TNQbPBzaKCaQQ1AQ', 'DghMl81bONCh5ELnrgn4Fw'),\n",
       " ('-3WVw1TNQbPBzaKCaQQ1AQ', 'EaPbAu2q7Om6cXF9bqUG5Q'),\n",
       " ('-3WVw1TNQbPBzaKCaQQ1AQ', 'EacK6XwZjsTD6QYSIRlJ7Q'),\n",
       " ('-3WVw1TNQbPBzaKCaQQ1AQ', 'F3MuccVKGKuWM34d1epDLg'),\n",
       " ('-3WVw1TNQbPBzaKCaQQ1AQ', 'GP-h9colXgkT79BW7aDJeg'),\n",
       " ('-3WVw1TNQbPBzaKCaQQ1AQ', 'GeGDZ02UfARKBRl7LqKZuA'),\n",
       " ('-3WVw1TNQbPBzaKCaQQ1AQ', 'GrSixRnGIxNUJ1Cn5DNX9A'),\n",
       " ('-3WVw1TNQbPBzaKCaQQ1AQ', 'GubdNFoDAsiwE6bWIr97cQ'),\n",
       " ('-3WVw1TNQbPBzaKCaQQ1AQ', 'HuGmiFh9v-YxY9FUGx2xHg'),\n",
       " ('-3WVw1TNQbPBzaKCaQQ1AQ', 'IjafRfMSAQpInLlw-Vi0Cg'),\n",
       " ('-3WVw1TNQbPBzaKCaQQ1AQ', 'JWEVvmf4DMaZbLZNk_1dMA'),\n",
       " ('-3WVw1TNQbPBzaKCaQQ1AQ', 'KBpoIbLAQcEfMbmPIWFpiA'),\n",
       " ('-3WVw1TNQbPBzaKCaQQ1AQ', 'KI4sBf9jWLs4aGm_mIsFQA'),\n",
       " ('-3WVw1TNQbPBzaKCaQQ1AQ', 'KvWny9qUZJKrqo_LYesgSg'),\n",
       " ('-3WVw1TNQbPBzaKCaQQ1AQ', 'Lr6hbHj23X3q6m35mjMWOQ'),\n",
       " ('-3WVw1TNQbPBzaKCaQQ1AQ', 'M6oU3OBf_E6gqlfkLGlStQ'),\n",
       " ('-3WVw1TNQbPBzaKCaQQ1AQ', 'MLaaZKZiNkLqeBOH5y98GA'),\n",
       " ('-3WVw1TNQbPBzaKCaQQ1AQ', 'N7lSh49zQ13sG3Jpa9E6cw'),\n",
       " ('-3WVw1TNQbPBzaKCaQQ1AQ', 'NopyXj4o5FfGsioMNvCMqw'),\n",
       " ('-3WVw1TNQbPBzaKCaQQ1AQ', 'ODhV53XhesCBLJVfGsJGNA'),\n",
       " ('-3WVw1TNQbPBzaKCaQQ1AQ', 'PKuaSU63uQHAmZeQRS_gWg'),\n",
       " ('-3WVw1TNQbPBzaKCaQQ1AQ', 'QT-7jpsEuCR-pFro59KBtQ'),\n",
       " ('-3WVw1TNQbPBzaKCaQQ1AQ', 'QrOSr8bzAjpIgyNftDLUBg'),\n",
       " ('-3WVw1TNQbPBzaKCaQQ1AQ', 'Qvr5glP5aUctOvUbBWVKVA'),\n",
       " ('-3WVw1TNQbPBzaKCaQQ1AQ', 'RAWy3YCE-jwfyuGvwzUaqQ'),\n",
       " ('-3WVw1TNQbPBzaKCaQQ1AQ', 'RxfFQxUtSIGYwTKU_rvAeg'),\n",
       " ('-3WVw1TNQbPBzaKCaQQ1AQ', 'RyX1dtn2eACiehBSj7rxEw'),\n",
       " ('-3WVw1TNQbPBzaKCaQQ1AQ', 'RyzzI97Vq4IelbSp5wwGtg'),\n",
       " ('-3WVw1TNQbPBzaKCaQQ1AQ', 'S3bvMOL50vgS_8-TtlGi4w'),\n",
       " ('-3WVw1TNQbPBzaKCaQQ1AQ', 'THYIqfnLV54VZ_v2hCfq2Q'),\n",
       " ('-3WVw1TNQbPBzaKCaQQ1AQ', 'UoBfwbXaixelZBghbJ2cSg'),\n",
       " ('-3WVw1TNQbPBzaKCaQQ1AQ', 'VBEbhE0ISjg6xowGNiGmgQ'),\n",
       " ('-3WVw1TNQbPBzaKCaQQ1AQ', 'WJkmgkrSPMHTfDTD3VgqqA'),\n",
       " ('-3WVw1TNQbPBzaKCaQQ1AQ', 'W_QXYA7A0IhMrvbckz7eVg'),\n",
       " ('-3WVw1TNQbPBzaKCaQQ1AQ', 'W_R-gVF8OHNrIhtmyhDnyg'),\n",
       " ('-3WVw1TNQbPBzaKCaQQ1AQ', 'XBHJCDzNh--mBhJkzyM_iA'),\n",
       " ('-3WVw1TNQbPBzaKCaQQ1AQ', 'X_kPh3nt0AJPNPHye2rTlA'),\n",
       " ('-3WVw1TNQbPBzaKCaQQ1AQ', 'Xe3roFVZWGe1ABkuhN9UCg'),\n",
       " ('-3WVw1TNQbPBzaKCaQQ1AQ', 'Z02XdD0muEz2FFQKPERMYQ'),\n",
       " ('-3WVw1TNQbPBzaKCaQQ1AQ', 'ZD-EVptauNE0vaszVPIOgA'),\n",
       " ('-3WVw1TNQbPBzaKCaQQ1AQ', '_GVAV2LjUWEs9fGjslex_A'),\n",
       " ('-3WVw1TNQbPBzaKCaQQ1AQ', '_PzSNcfrCjeBxSLXRoMmgQ'),\n",
       " ('-3WVw1TNQbPBzaKCaQQ1AQ', '_cfkppu33JhdiZknBSM50A'),\n",
       " ('-3WVw1TNQbPBzaKCaQQ1AQ', '_p9EnnLQg6KDlIRU2fYEJA'),\n",
       " ('-3WVw1TNQbPBzaKCaQQ1AQ', 'a1DUUGOKHbjuoL_Z90AnuQ'),\n",
       " ('-3WVw1TNQbPBzaKCaQQ1AQ', 'aJxjuUfwmdoUlY9wMvRvzg'),\n",
       " ('-3WVw1TNQbPBzaKCaQQ1AQ', 'aLTl_OkLo0BFRxdz1n6sYA'),\n",
       " ('-3WVw1TNQbPBzaKCaQQ1AQ', 'aaHyqSTcpdkismEP0bj0rQ'),\n",
       " ('-3WVw1TNQbPBzaKCaQQ1AQ', 'adbGzWWooOw2C0mqUic10A'),\n",
       " ('-3WVw1TNQbPBzaKCaQQ1AQ', 'ajEWtu_h76FDdEDxwdTWmg'),\n",
       " ('-3WVw1TNQbPBzaKCaQQ1AQ', 'b0a6nLH0c8p5WJy1w7aO6Q'),\n",
       " ('-3WVw1TNQbPBzaKCaQQ1AQ', 'bkPFUCENKOYFDit-eV2PSw'),\n",
       " ('-3WVw1TNQbPBzaKCaQQ1AQ', 'bl69-2c_Amf4SGqoAmANig'),\n",
       " ('-3WVw1TNQbPBzaKCaQQ1AQ', 'dqmXlUQyDh6d5U2_Zjb-Iw'),\n",
       " ('-3WVw1TNQbPBzaKCaQQ1AQ', 'eryLfrk7fabe8G1HPBkNAg'),\n",
       " ('-3WVw1TNQbPBzaKCaQQ1AQ', 'f5nCzPxSauEc811_Zt5k4A'),\n",
       " ('-3WVw1TNQbPBzaKCaQQ1AQ', 'fczQCSmaWF78toLEmb0Zsw'),\n",
       " ('-3WVw1TNQbPBzaKCaQQ1AQ', 'fySRKhGmZtVBr6SsxWCHaQ'),\n",
       " ('-3WVw1TNQbPBzaKCaQQ1AQ', 'gcyEUr4DXcbjnGRAWFtfAQ'),\n",
       " ('-3WVw1TNQbPBzaKCaQQ1AQ', 'gq_G5VCDziyEV2-bzGuqzw'),\n",
       " ('-3WVw1TNQbPBzaKCaQQ1AQ', 'hFh2O43n69ne6kjxeMVGSg'),\n",
       " ('-3WVw1TNQbPBzaKCaQQ1AQ', 'hFtlFksrcLaWHGPNa6SmeA'),\n",
       " ('-3WVw1TNQbPBzaKCaQQ1AQ', 'hXA-SSp0qMdohIKl8dUuWQ'),\n",
       " ('-3WVw1TNQbPBzaKCaQQ1AQ', 'hcctCQy3bdZMezrUKkZLtA'),\n",
       " ('-3WVw1TNQbPBzaKCaQQ1AQ', 'hn_DclKLzdxABRGGAuqKgg'),\n",
       " ('-3WVw1TNQbPBzaKCaQQ1AQ', 'i94JgBKT4T7pGco7W1S0OA'),\n",
       " ('-3WVw1TNQbPBzaKCaQQ1AQ', 'itn1IcuJSiFb8z34Zv5yGQ'),\n",
       " ('-3WVw1TNQbPBzaKCaQQ1AQ', 'iwWBF3nKoRMoy1sbkLJwvg'),\n",
       " ('-3WVw1TNQbPBzaKCaQQ1AQ', 'jAO9zgmbTXk4LaTxdSP_TA'),\n",
       " ('-3WVw1TNQbPBzaKCaQQ1AQ', 'jWvzAN1czxypi-GM1KY62g'),\n",
       " ('-3WVw1TNQbPBzaKCaQQ1AQ', 'jopndPrv-H5KW2CfScnw9A'),\n",
       " ('-3WVw1TNQbPBzaKCaQQ1AQ', 'jqVeTSin5GeRm0ceSg-PBA'),\n",
       " ('-3WVw1TNQbPBzaKCaQQ1AQ', 'kG5qfayYnULas_kNgKxwWQ'),\n",
       " ('-3WVw1TNQbPBzaKCaQQ1AQ', 'kSyETvyqGhEVwNWbCrIX7Q'),\n",
       " ('-3WVw1TNQbPBzaKCaQQ1AQ', 'kffxYQVQsEpF1DVlQlcGCg'),\n",
       " ('-3WVw1TNQbPBzaKCaQQ1AQ', 'lC4X2crUuxT9Ac9BlOX4Uw'),\n",
       " ('-3WVw1TNQbPBzaKCaQQ1AQ', 'lLY75QmKzN-qxmey_AzcyQ'),\n",
       " ('-3WVw1TNQbPBzaKCaQQ1AQ', 'lPaYMDmJbAnv_3pmZH_inw'),\n",
       " ('-3WVw1TNQbPBzaKCaQQ1AQ', 'm21EE2_CqPzpXdKsYsbVIA'),\n",
       " ('-3WVw1TNQbPBzaKCaQQ1AQ', 'm7vtKWpZ9wdEQ95wJxrMrg'),\n",
       " ('-3WVw1TNQbPBzaKCaQQ1AQ', 'milzi9DDC_g-GyVY_rLgTA'),\n",
       " ('-3WVw1TNQbPBzaKCaQQ1AQ', 'n-2gSytw4x3Q_rbweZnfuQ'),\n",
       " ('-3WVw1TNQbPBzaKCaQQ1AQ', 'n3Jk5bX72a9_dWGekwqmPA'),\n",
       " ('-3WVw1TNQbPBzaKCaQQ1AQ', 'nCu2AQILfu5uLE7Dk4m4Vg'),\n",
       " ('-3WVw1TNQbPBzaKCaQQ1AQ', 'nP_vZUqkoajeBC4qTV0Mlg'),\n",
       " ('-3WVw1TNQbPBzaKCaQQ1AQ', 'o8J-ergbGYjrUy85I_rxzw'),\n",
       " ('-3WVw1TNQbPBzaKCaQQ1AQ', 'oXkbuOiN9HDS3WgOQONfRg'),\n",
       " ('-3WVw1TNQbPBzaKCaQQ1AQ', 'rIkxXjBKAeKKSYfLMgocLA'),\n",
       " ('-3WVw1TNQbPBzaKCaQQ1AQ', 'sMIOqXFpm6XuBlaokNdpAA'),\n",
       " ('-3WVw1TNQbPBzaKCaQQ1AQ', 'saiZmxzBIowJbMgPBW1Now'),\n",
       " ('-3WVw1TNQbPBzaKCaQQ1AQ', 'uCfdp7AH45qanhjzWhYZsw'),\n",
       " ('-3WVw1TNQbPBzaKCaQQ1AQ', 'vhxFLqRok6r-D_aQz0s-JQ'),\n",
       " ('-3WVw1TNQbPBzaKCaQQ1AQ', 'vsXP832M0kOxKpfduD7dWw'),\n",
       " ('-3WVw1TNQbPBzaKCaQQ1AQ', 'wC1CPV5bf--bDLtlhNSPLg'),\n",
       " ('-3WVw1TNQbPBzaKCaQQ1AQ', 'wUEp87FqOB9ew27Iz6zk_w'),\n",
       " ('-3WVw1TNQbPBzaKCaQQ1AQ', 'wcOqMTV92kxOornA42KyoA'),\n",
       " ('-3WVw1TNQbPBzaKCaQQ1AQ', 'x8y1nxyvDJ7fOySblW8mww'),\n",
       " ('-3WVw1TNQbPBzaKCaQQ1AQ', 'xB9Yze6uC1mJXEzA8wpWSw'),\n",
       " ('-3WVw1TNQbPBzaKCaQQ1AQ', 'y0BOBHqoMaqkOjLn_zvYQg'),\n",
       " ('-3WVw1TNQbPBzaKCaQQ1AQ', 'z2aIK__6KMpQBx1czvv8BA'),\n",
       " ('-3WVw1TNQbPBzaKCaQQ1AQ', 'zn81QpflLDUaGZkCMUowCg'),\n",
       " ('-3xbryp44xhpN4BohxXDdQ', '-W5cmxmNtDeLiJ4c_Zxojg'),\n",
       " ('-3xbryp44xhpN4BohxXDdQ', '-kIvLyWpY17aRa0vPp-RmA'),\n",
       " ('-3xbryp44xhpN4BohxXDdQ', '0ouMuScWJ3GuNtWEmmsziw'),\n",
       " ('-3xbryp44xhpN4BohxXDdQ', '1ywdfDnRYTJLj_L3FeCN0g'),\n",
       " ('-3xbryp44xhpN4BohxXDdQ', '2qgjgzarF6jvIkpprvF9pg'),\n",
       " ('-3xbryp44xhpN4BohxXDdQ', '4E_nPWw89FLFHdNsEgMH-g'),\n",
       " ('-3xbryp44xhpN4BohxXDdQ', '52hYzmoL4yUFyc9Ct1Zukg'),\n",
       " ('-3xbryp44xhpN4BohxXDdQ', '588oY8EejEFCr-ym_2TR0Q'),\n",
       " ('-3xbryp44xhpN4BohxXDdQ', '7zJeiY6YGosO7jakhlK91A'),\n",
       " ('-3xbryp44xhpN4BohxXDdQ', '81hpuEdYu2C4hp6oL7EPZw'),\n",
       " ('-3xbryp44xhpN4BohxXDdQ', '8LOfSX768pyIupTVHQOuTQ'),\n",
       " ('-3xbryp44xhpN4BohxXDdQ', 'E4HbTIHd9PVjUnEKpysaLw'),\n",
       " ('-3xbryp44xhpN4BohxXDdQ', 'FlvjjF7oqRZoJ0_muODRgA'),\n",
       " ('-3xbryp44xhpN4BohxXDdQ', 'G4O27ezNFD2dD-bymdzZ3g'),\n",
       " ('-3xbryp44xhpN4BohxXDdQ', 'GclKzrLecMvhq7hQpzP_cA'),\n",
       " ('-3xbryp44xhpN4BohxXDdQ', 'GzOZ2iuyzT3cwYk49Vb8dA'),\n",
       " ('-3xbryp44xhpN4BohxXDdQ', 'I1Qj9NnnTEXQpEqQqGV6WA'),\n",
       " ('-3xbryp44xhpN4BohxXDdQ', 'JVeCUlDmcwJ3pteEdmzeHg'),\n",
       " ('-3xbryp44xhpN4BohxXDdQ', 'KvWny9qUZJKrqo_LYesgSg'),\n",
       " ('-3xbryp44xhpN4BohxXDdQ', 'MUHoBFzwRoXpCpgYSN8KRA'),\n",
       " ('-3xbryp44xhpN4BohxXDdQ', 'N69-RgMXqRaZbIBbx2eH2w'),\n",
       " ('-3xbryp44xhpN4BohxXDdQ', 'PzTP2RCSdBrZLbaxXgZ3kA'),\n",
       " ('-3xbryp44xhpN4BohxXDdQ', 'QSQeU6bDea42m6yH_pOQ8A'),\n",
       " ('-3xbryp44xhpN4BohxXDdQ', 'SHlkGMta-B3lXzlQBtrUvg'),\n",
       " ('-3xbryp44xhpN4BohxXDdQ', 'VD4E91XNSP8_B5fit__u8w'),\n",
       " ('-3xbryp44xhpN4BohxXDdQ', 'VYrcEmzV6JtkpnKDinaqEQ'),\n",
       " ('-3xbryp44xhpN4BohxXDdQ', 'XFLeKAsj3UKv5VPoIQjdIw'),\n",
       " ('-3xbryp44xhpN4BohxXDdQ', 'ZZxAeeKT-W2D8Ieplzu1nQ'),\n",
       " ('-3xbryp44xhpN4BohxXDdQ', 'ZwZ_fm6s2TeR45X8rGYfPA'),\n",
       " ('-3xbryp44xhpN4BohxXDdQ', '_LsbT_uW0UE6rhsWiAIrsg'),\n",
       " ('-3xbryp44xhpN4BohxXDdQ', '_gZjcAu7mQEzyZsYeqfIMA'),\n",
       " ('-3xbryp44xhpN4BohxXDdQ', 'adY0jMsMhaD7nsO7F7ue4Q'),\n",
       " ('-3xbryp44xhpN4BohxXDdQ', 'bomxdD965gZr9j4iuUIqjw'),\n",
       " ('-3xbryp44xhpN4BohxXDdQ', 'bswV-wIGU9Bw4mbxSPdykg'),\n",
       " ('-3xbryp44xhpN4BohxXDdQ', 'btfv0CFoDX6vJCPms6-Irg'),\n",
       " ('-3xbryp44xhpN4BohxXDdQ', 'cJ8sSqRh7CKpNpQaBB2uSg'),\n",
       " ('-3xbryp44xhpN4BohxXDdQ', 'cSAACR699NuLMqBPuKL8nw'),\n",
       " ('-3xbryp44xhpN4BohxXDdQ', 'czsmQRXhXy-S40cKpEk0Lg'),\n",
       " ('-3xbryp44xhpN4BohxXDdQ', 'fgrzZ0wl3M1D9nLAygAtuQ'),\n",
       " ('-3xbryp44xhpN4BohxXDdQ', 'fksrAfKZYrhCzOjUIoFudw'),\n",
       " ('-3xbryp44xhpN4BohxXDdQ', 'h7v_M_0-YVpSVZ2WD7FpAA'),\n",
       " ('-3xbryp44xhpN4BohxXDdQ', 'hFh2O43n69ne6kjxeMVGSg'),\n",
       " ('-3xbryp44xhpN4BohxXDdQ', 'hRdhlyNVtVvcf7oLn2J1Xw'),\n",
       " ('-3xbryp44xhpN4BohxXDdQ', 'huE7A2WBkTJTyEr2K8Owzw'),\n",
       " ('-3xbryp44xhpN4BohxXDdQ', 'k6ZQA3DJ2EfZJMmadBlWNw'),\n",
       " ('-3xbryp44xhpN4BohxXDdQ', 'kMwq6s0ROH4Zjn4mHCxejw'),\n",
       " ('-3xbryp44xhpN4BohxXDdQ', 'lS1yBzrxGoYY-k2auRMAMA'),\n",
       " ('-3xbryp44xhpN4BohxXDdQ', 'lgYDQKLxFyX74M0KfSOIjA'),\n",
       " ('-3xbryp44xhpN4BohxXDdQ', 'lmiDCrmas8TxRsbIGZX9Pg'),\n",
       " ('-3xbryp44xhpN4BohxXDdQ', 'mCMEbr78s4sFEG1ve_OhYQ'),\n",
       " ('-3xbryp44xhpN4BohxXDdQ', 'n4RSdI67_8z-8OXE5lwoIA'),\n",
       " ('-3xbryp44xhpN4BohxXDdQ', 'nP2HH7Qe5UtSsjeEH3NZuQ'),\n",
       " ('-3xbryp44xhpN4BohxXDdQ', 'r7_VklTHwA0a1GMLiHbAyw'),\n",
       " ('-3xbryp44xhpN4BohxXDdQ', 'rLtl8ZkDX5vH5nAx9C3q5Q'),\n",
       " ('-3xbryp44xhpN4BohxXDdQ', 'tHz9cWxwSfcP4qRaPIHvww'),\n",
       " ('-3xbryp44xhpN4BohxXDdQ', 'tmTxuDadTVc-KFyhvPuseQ'),\n",
       " ('-3xbryp44xhpN4BohxXDdQ', 'vK0-o9jIxY1wpJWHOySpDQ'),\n",
       " ('-3xbryp44xhpN4BohxXDdQ', 'wNqwKWaRjClmcKsoJJRFow'),\n",
       " ('-3xbryp44xhpN4BohxXDdQ', 'xMOxea5qgjhb2QjfIltKdA'),\n",
       " ('-3xbryp44xhpN4BohxXDdQ', 'yEdoJsi3f0IEar6FOHgwjw'),\n",
       " ('-3xbryp44xhpN4BohxXDdQ', 'zs9EphhkXylrxHCzxhC_ag'),\n",
       " ('-4A5xmN21zi_TXnUESauUQ', '-UNKM08X9Bh0CHMwN6O2gA'),\n",
       " ('-4A5xmN21zi_TXnUESauUQ', '0AK16f_pNjdBGNjpjk7Xvg'),\n",
       " ('-4A5xmN21zi_TXnUESauUQ', '0bNXP9quoJEgyVZu9ipGgQ'),\n",
       " ('-4A5xmN21zi_TXnUESauUQ', '16djaKDikBivsWVKtYTchA'),\n",
       " ('-4A5xmN21zi_TXnUESauUQ', '1EThs7Vakny7bGBRQk6x2w'),\n",
       " ('-4A5xmN21zi_TXnUESauUQ', '1JlPVFzAp6kIUVph80EKjw'),\n",
       " ('-4A5xmN21zi_TXnUESauUQ', '2FtCOwNwd6UsBgScSc1_Ug'),\n",
       " ('-4A5xmN21zi_TXnUESauUQ', '2Mm0BC0bN7BJiOUWf9GW3A'),\n",
       " ('-4A5xmN21zi_TXnUESauUQ', '2h0A-NirfNl2p2SquFWYHQ'),\n",
       " ('-4A5xmN21zi_TXnUESauUQ', '3TGup17SCV6uHsifmTKirg'),\n",
       " ('-4A5xmN21zi_TXnUESauUQ', '3U2qakfROY1qoAtcyRJc_w'),\n",
       " ('-4A5xmN21zi_TXnUESauUQ', '47zERAXIAs4LDWM_OE7gxw'),\n",
       " ('-4A5xmN21zi_TXnUESauUQ', '4n8ZSc3caCOJ_gSjlHqPOA'),\n",
       " ('-4A5xmN21zi_TXnUESauUQ', '4ozupHULqGyO42s3zNUzOQ'),\n",
       " ('-4A5xmN21zi_TXnUESauUQ', '5HEYxH5vtO7ZNoNBnibbzA'),\n",
       " ('-4A5xmN21zi_TXnUESauUQ', '6APehMlb8BvvVY8kvVRYUw'),\n",
       " ('-4A5xmN21zi_TXnUESauUQ', '6EORc3auy_M-8LhgL2r4-w'),\n",
       " ('-4A5xmN21zi_TXnUESauUQ', '7FCQyCvu6My5WkKsLInVKw'),\n",
       " ('-4A5xmN21zi_TXnUESauUQ', '7aQvAhgpdXqkTQEp8b8Szw'),\n",
       " ('-4A5xmN21zi_TXnUESauUQ', '7bdCfESkLLta4vwxO5tyHw'),\n",
       " ('-4A5xmN21zi_TXnUESauUQ', '7bz7S7nQU9kMenVcPsCC_w'),\n",
       " ('-4A5xmN21zi_TXnUESauUQ', '7cqS0TZkUUcLhcMkACSXcg'),\n",
       " ('-4A5xmN21zi_TXnUESauUQ', '7zDqr2I0-xpw9HF5Ha54cA'),\n",
       " ('-4A5xmN21zi_TXnUESauUQ', '8KKUnoYOGRs8nMQLbwoFfA'),\n",
       " ('-4A5xmN21zi_TXnUESauUQ', '9MJAacmjxtctbI3xncsK5Q'),\n",
       " ('-4A5xmN21zi_TXnUESauUQ', '9SZBVZ-mxebOVa1BlWFtWw'),\n",
       " ('-4A5xmN21zi_TXnUESauUQ', '9UNGbiE9k0fvMpCMJp0Gww'),\n",
       " ('-4A5xmN21zi_TXnUESauUQ', '9Z05mtXrXJ-22PElwp1ahA'),\n",
       " ('-4A5xmN21zi_TXnUESauUQ', '9dx-Atgssn3g71cOVVhuNA'),\n",
       " ('-4A5xmN21zi_TXnUESauUQ', '9zuPDV5lge3dBTtYOHYvJQ'),\n",
       " ('-4A5xmN21zi_TXnUESauUQ', 'A9S8rLw35WF4sMCoCYrl3A'),\n",
       " ('-4A5xmN21zi_TXnUESauUQ', 'AMqz-URZwF-LPjEJ2qKLzw'),\n",
       " ('-4A5xmN21zi_TXnUESauUQ', 'APLIPfq1Rf8QyhHHk2uAyA'),\n",
       " ('-4A5xmN21zi_TXnUESauUQ', 'AkJFqLqHHAKY3H5R8p7cPQ'),\n",
       " ('-4A5xmN21zi_TXnUESauUQ', 'B8t1hkG4EX7ar4r9PCEJMA'),\n",
       " ('-4A5xmN21zi_TXnUESauUQ', 'BWPbFAPZIv_Prl_ib88jpw'),\n",
       " ('-4A5xmN21zi_TXnUESauUQ', 'BZSM6JL92epbwz-Oj3u8KQ'),\n",
       " ('-4A5xmN21zi_TXnUESauUQ', 'BjwXX-sChcjx2E55B_7rXg'),\n",
       " ('-4A5xmN21zi_TXnUESauUQ', 'C8ZTiwa7qWoPSMIivTeSfw'),\n",
       " ('-4A5xmN21zi_TXnUESauUQ', 'Cp-PV8rsypbO-xBrQ6KmQg'),\n",
       " ('-4A5xmN21zi_TXnUESauUQ', 'CtuoM6_Im-xBZMAqPKMQ8A'),\n",
       " ('-4A5xmN21zi_TXnUESauUQ', 'CuiLmQpUszzhLqGifzKHiQ'),\n",
       " ('-4A5xmN21zi_TXnUESauUQ', 'D5J4mKahKvUBJUTWanZwdA'),\n",
       " ('-4A5xmN21zi_TXnUESauUQ', 'DfJ8B8T1fgNA6_ZT-aeUlQ'),\n",
       " ('-4A5xmN21zi_TXnUESauUQ', 'EA5JiRv7RocRiKFTaCUHCw'),\n",
       " ('-4A5xmN21zi_TXnUESauUQ', 'EGiAtB4sgZhDdYpRkDneig'),\n",
       " ('-4A5xmN21zi_TXnUESauUQ', 'EP3cGJvYiuOwumerwADplg'),\n",
       " ('-4A5xmN21zi_TXnUESauUQ', 'FAxy_JuEOhhZl3C10LMY1A'),\n",
       " ('-4A5xmN21zi_TXnUESauUQ', 'FDvk3ZhF5qJVlsGqqIndLA'),\n",
       " ('-4A5xmN21zi_TXnUESauUQ', 'FKViOrC8nGcyUH8HNuBFgA'),\n",
       " ('-4A5xmN21zi_TXnUESauUQ', 'Fgpm_uoRYBi3lg6OLRM4gw'),\n",
       " ('-4A5xmN21zi_TXnUESauUQ', 'FyY_lBFItdSHgRagaTVu5Q'),\n",
       " ('-4A5xmN21zi_TXnUESauUQ', 'GNCh2HzSVYsS12o76qtUiQ'),\n",
       " ('-4A5xmN21zi_TXnUESauUQ', 'GRgBu4K7GOb3354esp_xkg'),\n",
       " ('-4A5xmN21zi_TXnUESauUQ', 'H7NH96DxC4cUuBBCeMLa7g'),\n",
       " ('-4A5xmN21zi_TXnUESauUQ', 'HRmeBNs6ZpByoh6_rONZzw'),\n",
       " ('-4A5xmN21zi_TXnUESauUQ', 'Hb49IsEZltm85wLz3uMrmw'),\n",
       " ('-4A5xmN21zi_TXnUESauUQ', 'I5MumqKdvisU378muyB4yw'),\n",
       " ('-4A5xmN21zi_TXnUESauUQ', 'IzpuiSZBhZssnBG-zqlyvQ'),\n",
       " ('-4A5xmN21zi_TXnUESauUQ', 'JgDkCER12uiv4lbpmkZ9VA'),\n",
       " ('-4A5xmN21zi_TXnUESauUQ', 'JlCjjf4H8rs2_lkj7xWRZA'),\n",
       " ('-4A5xmN21zi_TXnUESauUQ', 'K0euQLFAcKhQPZ6JxGAryg'),\n",
       " ('-4A5xmN21zi_TXnUESauUQ', 'Ki71iAFTxsPPQfX430c99Q'),\n",
       " ('-4A5xmN21zi_TXnUESauUQ', 'L9-X4KASFfdhOeVeYSDgvA'),\n",
       " ('-4A5xmN21zi_TXnUESauUQ', 'LdhwY7eudLlx1KFQQe9GwA'),\n",
       " ('-4A5xmN21zi_TXnUESauUQ', 'LqgGgWi3FLHBViX9tmZ9sw'),\n",
       " ('-4A5xmN21zi_TXnUESauUQ', 'LwfP-eD5RvdxR2Upr6ReOw'),\n",
       " ('-4A5xmN21zi_TXnUESauUQ', 'MOpFJnB5HyXdXW1sMwz7Bg'),\n",
       " ('-4A5xmN21zi_TXnUESauUQ', 'MRIPbO8Vqx36eLdKmTg8aw'),\n",
       " ('-4A5xmN21zi_TXnUESauUQ', 'O3F9oWq1WAVdw7v6RMTBAA'),\n",
       " ('-4A5xmN21zi_TXnUESauUQ', 'OOxLwlNadygUwL_aG8KnSQ'),\n",
       " ('-4A5xmN21zi_TXnUESauUQ', 'P1fXuGmbdTz_jfEZLbWYcA'),\n",
       " ('-4A5xmN21zi_TXnUESauUQ', 'P2kVk4cIWyK4e4h14RhK-Q'),\n",
       " ('-4A5xmN21zi_TXnUESauUQ', 'PKwZWyQxR-O14RzZirkndg'),\n",
       " ('-4A5xmN21zi_TXnUESauUQ', 'PNAkqna65eJq8Od5dl1iDA'),\n",
       " ('-4A5xmN21zi_TXnUESauUQ', 'PO1H81tZBIjRK84sWpCsVQ'),\n",
       " ('-4A5xmN21zi_TXnUESauUQ', 'QHdHXy73PHc-XDGP7vvQlg'),\n",
       " ('-4A5xmN21zi_TXnUESauUQ', 'QWDy_aciIuQJlgmxiyJ-Gg'),\n",
       " ('-4A5xmN21zi_TXnUESauUQ', 'Qvr5glP5aUctOvUbBWVKVA'),\n",
       " ('-4A5xmN21zi_TXnUESauUQ', 'QxKjiAVoyl7qo-VYekHuDw'),\n",
       " ('-4A5xmN21zi_TXnUESauUQ', 'ST8Yzlk2MqKlcaLqL2djBg'),\n",
       " ('-4A5xmN21zi_TXnUESauUQ', 'T2xLn3YJooQNVl3pG7_ryg'),\n",
       " ('-4A5xmN21zi_TXnUESauUQ', 'TQk12TubEuI_6ldf2bjemQ'),\n",
       " ('-4A5xmN21zi_TXnUESauUQ', 'Tb9wutjuM6VciBJ95k_a7Q'),\n",
       " ('-4A5xmN21zi_TXnUESauUQ', 'U14IHoSXcztl-4PjyY0pug'),\n",
       " ('-4A5xmN21zi_TXnUESauUQ', 'U2Ez3lMr3CHuNl8NFww4QA'),\n",
       " ('-4A5xmN21zi_TXnUESauUQ', 'U8ayzBXrBzgjdrCYOzwNOg'),\n",
       " ('-4A5xmN21zi_TXnUESauUQ', 'UHWSMoTUnoBuUgujsYIXhw'),\n",
       " ('-4A5xmN21zi_TXnUESauUQ', 'Uj40Euddax8Tla63PqEIMw'),\n",
       " ('-4A5xmN21zi_TXnUESauUQ', 'UsULgP4bKA8RMzs8dQzcsA'),\n",
       " ('-4A5xmN21zi_TXnUESauUQ', 'WehCZQtQu96-VL6RawV_BQ'),\n",
       " ('-4A5xmN21zi_TXnUESauUQ', 'Wh4MXndOJFw4bC4bDideHQ'),\n",
       " ('-4A5xmN21zi_TXnUESauUQ', 'XTFE2ERq7YvaqGUgQYzVNA'),\n",
       " ('-4A5xmN21zi_TXnUESauUQ', 'X_kPh3nt0AJPNPHye2rTlA'),\n",
       " ('-4A5xmN21zi_TXnUESauUQ', 'Y7KS04okqSFAbg1NyImHkQ'),\n",
       " ('-4A5xmN21zi_TXnUESauUQ', 'YPwFl3RCRwr-kyN-890STA'),\n",
       " ('-4A5xmN21zi_TXnUESauUQ', 'Yoa2y89jR7tAnWRLSDca7Q'),\n",
       " ('-4A5xmN21zi_TXnUESauUQ', 'YrbcT9CB_kW3RQutizG4Uw'),\n",
       " ('-4A5xmN21zi_TXnUESauUQ', 'ZW8jy6ehrNzn9A5iCubVGg'),\n",
       " ('-4A5xmN21zi_TXnUESauUQ', 'Zcx66YAlgyClDEhi5W86Hg'),\n",
       " ('-4A5xmN21zi_TXnUESauUQ', 'Znu5KKqytHfmjbXfQo3f4Q'),\n",
       " ...]"
      ]
     },
     "execution_count": 89,
     "metadata": {},
     "output_type": "execute_result"
    }
   ],
   "source": [
    "all_value_idx"
   ]
  },
  {
   "cell_type": "code",
   "execution_count": 90,
   "metadata": {
    "ExecuteTime": {
     "end_time": "2017-02-01T17:30:54.254880",
     "start_time": "2017-02-01T17:30:54.197727"
    },
    "collapsed": true,
    "run_control": {
     "frozen": false,
     "read_only": false
    }
   },
   "outputs": [],
   "source": [
    "all_value_idx = pd.DataFrame.from_records(all_value_idx, columns=['business_id', 'user_id'])"
   ]
  },
  {
   "cell_type": "code",
   "execution_count": 91,
   "metadata": {
    "ExecuteTime": {
     "end_time": "2017-02-01T17:30:54.416810",
     "start_time": "2017-02-01T17:30:54.256885"
    },
    "collapsed": false,
    "run_control": {
     "frozen": false,
     "read_only": false
    }
   },
   "outputs": [],
   "source": [
    "query_r = all_value_idx.business_id\n",
    "r = Y.index.values\n",
    "aridx = np.argsort(r)\n",
    "all_row_ids = aridx[np.searchsorted(r,query_r,sorter=aridx)]"
   ]
  },
  {
   "cell_type": "code",
   "execution_count": 92,
   "metadata": {
    "ExecuteTime": {
     "end_time": "2017-02-01T17:30:54.851982",
     "start_time": "2017-02-01T17:30:54.418817"
    },
    "collapsed": false,
    "run_control": {
     "frozen": false,
     "read_only": false
    }
   },
   "outputs": [],
   "source": [
    "query_c = all_value_idx.user_id\n",
    "c = Y.columns.values\n",
    "acidx = np.argsort(c)\n",
    "all_col_ids = acidx[np.searchsorted(c,query_c,sorter=acidx)]"
   ]
  },
  {
   "cell_type": "code",
   "execution_count": 93,
   "metadata": {
    "ExecuteTime": {
     "end_time": "2017-02-01T17:30:55.088153",
     "start_time": "2017-02-01T17:30:54.853489"
    },
    "collapsed": false,
    "run_control": {
     "frozen": false,
     "read_only": false
    }
   },
   "outputs": [
    {
     "data": {
      "text/plain": [
       "0.94412449993405723"
      ]
     },
     "execution_count": 93,
     "metadata": {},
     "output_type": "execute_result"
    }
   ],
   "source": [
    "((np.round(predictions[all_row_ids, all_col_ids]) >= 3) & (Y.lookup(all_value_idx.business_id, all_value_idx.user_id) >= 3) | \n",
    " (predictions[all_row_ids, all_col_ids] < 3) & (Y.lookup(all_value_idx.business_id, all_value_idx.user_id) < 3)).mean()"
   ]
  },
  {
   "cell_type": "code",
   "execution_count": 94,
   "metadata": {
    "ExecuteTime": {
     "end_time": "2017-02-01T17:30:55.093166",
     "start_time": "2017-02-01T17:30:55.090157"
    },
    "collapsed": true,
    "run_control": {
     "frozen": false,
     "read_only": false
    }
   },
   "outputs": [],
   "source": [
    "# for 50 features lambda 1, 20 iterations, the accuracy is 0.9878\n",
    "# for 75 features lambda 10, 100 iterations, the accuracy is 0.9442"
   ]
  },
  {
   "cell_type": "code",
   "execution_count": 95,
   "metadata": {
    "ExecuteTime": {
     "end_time": "2017-02-01T17:30:55.257627",
     "start_time": "2017-02-01T17:30:55.095672"
    },
    "collapsed": false,
    "run_control": {
     "frozen": false,
     "read_only": false
    }
   },
   "outputs": [
    {
     "data": {
      "image/png": "[encoded data removed]",
      "text/plain": [
       "<matplotlib.figure.Figure at 0x28b34b96240>"
      ]
     },
     "metadata": {},
     "output_type": "display_data"
    }
   ],
   "source": [
    "i = 0\n",
    "plt.plot(predictions[np.argsort(np.ravel(predictions[:,i]))[::-1], i])\n",
    "plt.show()"
   ]
  },
  {
   "cell_type": "markdown",
   "metadata": {
    "run_control": {
     "frozen": false,
     "read_only": false
    }
   },
   "source": [
    "# Conclusion of Performance:\n",
    "* **The overall accuracy of the dataset, including the masked values is about 98.8% (maybe overfitting) or 94.4%**\n",
    "\n",
    "* **The recommender system model captures the ratings with a good accuracy based on hit or miss evaluation**\n",
    "\n",
    "* **The performance on the test set was better with 75 features, lambda=10, 100 iterations with an MSE = 1.07**"
   ]
  },
  {
   "cell_type": "markdown",
   "metadata": {
    "run_control": {
     "frozen": false,
     "read_only": false
    }
   },
   "source": [
    "# Recommend businesses to users"
   ]
  },
  {
   "cell_type": "code",
   "execution_count": 96,
   "metadata": {
    "ExecuteTime": {
     "end_time": "2017-02-01T17:30:55.267146",
     "start_time": "2017-02-01T17:30:55.259609"
    },
    "collapsed": false,
    "run_control": {
     "frozen": false,
     "read_only": false
    }
   },
   "outputs": [],
   "source": [
    "# The recommend function take the Y matrix, and predictions matrix and the user_id\n",
    "# Returns: the recommended businesses (in desc sorted order), business_id and business index positions\n",
    "def recommend(Y, predictions, user_id):\n",
    "    # get index position of user_id\n",
    "    user_idx = Y.columns.get_loc(user_id)    \n",
    "    # find index positions of non reviewed businesses for this user:\n",
    "    all_recommendation_indices = np.squeeze(np.asarray(np.argsort(predictions[:,user_idx], axis=0)[::-1]))\n",
    "    # find reviewed businesses, find predictions(recommendations) for our user, return businesses in descending sorted order\n",
    "    # remove reviewed businesses from recommendations\n",
    "    rated_businesses = [Y.loc[:,user_id].index.get_loc(i) for i in Y.loc[:,user_id][Y.loc[:,user_id].notnull()].index.tolist()]\n",
    "    all_recommendation_indices = all_recommendation_indices[~np.in1d(all_recommendation_indices,rated_businesses)]\n",
    "    return Y.index[all_recommendation_indices], all_recommendation_indices\n"
   ]
  },
  {
   "cell_type": "code",
   "execution_count": 97,
   "metadata": {
    "ExecuteTime": {
     "end_time": "2017-02-01T17:30:55.286205",
     "start_time": "2017-02-01T17:30:55.269636"
    },
    "collapsed": false,
    "run_control": {
     "frozen": false,
     "read_only": false
    }
   },
   "outputs": [],
   "source": [
    "recommended_business_names, recommended_business_idx = recommend(Y, predictions, Y.columns[1])"
   ]
  },
  {
   "cell_type": "markdown",
   "metadata": {},
   "source": [
    "## Set business_id as index for the business dataframe"
   ]
  },
  {
   "cell_type": "code",
   "execution_count": 98,
   "metadata": {
    "ExecuteTime": {
     "end_time": "2017-02-01T17:30:55.299715",
     "start_time": "2017-02-01T17:30:55.287683"
    },
    "collapsed": false,
    "run_control": {
     "frozen": false,
     "read_only": false
    }
   },
   "outputs": [],
   "source": [
    "# This could have been done from the beginning, keeping the business_id index\n",
    "business.set_index('business_id', drop=False, verify_integrity=True, inplace=True)"
   ]
  },
  {
   "cell_type": "code",
   "execution_count": 99,
   "metadata": {
    "ExecuteTime": {
     "end_time": "2017-02-01T17:30:55.351352",
     "start_time": "2017-02-01T17:30:55.301721"
    },
    "collapsed": false,
    "run_control": {
     "frozen": false,
     "read_only": false
    },
    "scrolled": true
   },
   "outputs": [
    {
     "data": {
      "text/html": [
       "<div>\n",
       "<table border=\"1\" class=\"dataframe\">\n",
       "  <thead>\n",
       "    <tr style=\"text-align: right;\">\n",
       "      <th></th>\n",
       "      <th>attributes</th>\n",
       "      <th>business_id</th>\n",
       "      <th>categories</th>\n",
       "      <th>city</th>\n",
       "      <th>full_address</th>\n",
       "      <th>hours</th>\n",
       "      <th>latitude</th>\n",
       "      <th>longitude</th>\n",
       "      <th>name</th>\n",
       "      <th>neighborhoods</th>\n",
       "      <th>open</th>\n",
       "      <th>review_count</th>\n",
       "      <th>stars</th>\n",
       "      <th>state</th>\n",
       "      <th>type</th>\n",
       "    </tr>\n",
       "    <tr>\n",
       "      <th>business_id</th>\n",
       "      <th></th>\n",
       "      <th></th>\n",
       "      <th></th>\n",
       "      <th></th>\n",
       "      <th></th>\n",
       "      <th></th>\n",
       "      <th></th>\n",
       "      <th></th>\n",
       "      <th></th>\n",
       "      <th></th>\n",
       "      <th></th>\n",
       "      <th></th>\n",
       "      <th></th>\n",
       "      <th></th>\n",
       "      <th></th>\n",
       "    </tr>\n",
       "  </thead>\n",
       "  <tbody>\n",
       "    <tr>\n",
       "      <th>lliksv-tglfUz1T3B3vgvA</th>\n",
       "      <td>{'Noise Level': 'average', 'Ambience': {'casua...</td>\n",
       "      <td>lliksv-tglfUz1T3B3vgvA</td>\n",
       "      <td>[Thai, Restaurants]</td>\n",
       "      <td>Las Vegas</td>\n",
       "      <td>953 E Sahara Ave\\nSte A5\\nEastside\\nLas Vegas,...</td>\n",
       "      <td>{'Sunday': {'close': '22:00', 'open': '17:30'}...</td>\n",
       "      <td>36.143767</td>\n",
       "      <td>-115.140885</td>\n",
       "      <td>Lotus of Siam</td>\n",
       "      <td>[Eastside, Downtown]</td>\n",
       "      <td>True</td>\n",
       "      <td>3225</td>\n",
       "      <td>4.0</td>\n",
       "      <td>NV</td>\n",
       "      <td>business</td>\n",
       "    </tr>\n",
       "    <tr>\n",
       "      <th>mQde7KRomOQoUyPGTqeXhA</th>\n",
       "      <td>{}</td>\n",
       "      <td>mQde7KRomOQoUyPGTqeXhA</td>\n",
       "      <td>[Animal Shelters, Veterinarians, Pet Stores, P...</td>\n",
       "      <td>Phoenix</td>\n",
       "      <td>1521 W Dobbins Rd\\nPhoenix, AZ 85041</td>\n",
       "      <td>{'Sunday': {'close': '18:00', 'open': '11:00'}...</td>\n",
       "      <td>33.362442</td>\n",
       "      <td>-112.092663</td>\n",
       "      <td>Arizona Humane Society</td>\n",
       "      <td>[]</td>\n",
       "      <td>True</td>\n",
       "      <td>64</td>\n",
       "      <td>4.5</td>\n",
       "      <td>AZ</td>\n",
       "      <td>business</td>\n",
       "    </tr>\n",
       "    <tr>\n",
       "      <th>GmzpzmxinfLMw5OXQKFEBQ</th>\n",
       "      <td>{'Noise Level': 'average', 'Ambience': {'casua...</td>\n",
       "      <td>GmzpzmxinfLMw5OXQKFEBQ</td>\n",
       "      <td>[Barbeque, Restaurants]</td>\n",
       "      <td>Phoenix</td>\n",
       "      <td>4301 E University Dr\\nPhoenix, AZ 85034</td>\n",
       "      <td>{'Wednesday': {'close': '16:00', 'open': '11:0...</td>\n",
       "      <td>33.421587</td>\n",
       "      <td>-111.989088</td>\n",
       "      <td>Little Miss BBQ</td>\n",
       "      <td>[]</td>\n",
       "      <td>True</td>\n",
       "      <td>944</td>\n",
       "      <td>5.0</td>\n",
       "      <td>AZ</td>\n",
       "      <td>business</td>\n",
       "    </tr>\n",
       "  </tbody>\n",
       "</table>\n",
       "</div>"
      ],
      "text/plain": [
       "                                                               attributes  \\\n",
       "business_id                                                                 \n",
       "lliksv-tglfUz1T3B3vgvA  {'Noise Level': 'average', 'Ambience': {'casua...   \n",
       "mQde7KRomOQoUyPGTqeXhA                                                 {}   \n",
       "GmzpzmxinfLMw5OXQKFEBQ  {'Noise Level': 'average', 'Ambience': {'casua...   \n",
       "\n",
       "                                   business_id  \\\n",
       "business_id                                      \n",
       "lliksv-tglfUz1T3B3vgvA  lliksv-tglfUz1T3B3vgvA   \n",
       "mQde7KRomOQoUyPGTqeXhA  mQde7KRomOQoUyPGTqeXhA   \n",
       "GmzpzmxinfLMw5OXQKFEBQ  GmzpzmxinfLMw5OXQKFEBQ   \n",
       "\n",
       "                                                               categories  \\\n",
       "business_id                                                                 \n",
       "lliksv-tglfUz1T3B3vgvA                                [Thai, Restaurants]   \n",
       "mQde7KRomOQoUyPGTqeXhA  [Animal Shelters, Veterinarians, Pet Stores, P...   \n",
       "GmzpzmxinfLMw5OXQKFEBQ                            [Barbeque, Restaurants]   \n",
       "\n",
       "                             city  \\\n",
       "business_id                         \n",
       "lliksv-tglfUz1T3B3vgvA  Las Vegas   \n",
       "mQde7KRomOQoUyPGTqeXhA    Phoenix   \n",
       "GmzpzmxinfLMw5OXQKFEBQ    Phoenix   \n",
       "\n",
       "                                                             full_address  \\\n",
       "business_id                                                                 \n",
       "lliksv-tglfUz1T3B3vgvA  953 E Sahara Ave\\nSte A5\\nEastside\\nLas Vegas,...   \n",
       "mQde7KRomOQoUyPGTqeXhA               1521 W Dobbins Rd\\nPhoenix, AZ 85041   \n",
       "GmzpzmxinfLMw5OXQKFEBQ            4301 E University Dr\\nPhoenix, AZ 85034   \n",
       "\n",
       "                                                                    hours  \\\n",
       "business_id                                                                 \n",
       "lliksv-tglfUz1T3B3vgvA  {'Sunday': {'close': '22:00', 'open': '17:30'}...   \n",
       "mQde7KRomOQoUyPGTqeXhA  {'Sunday': {'close': '18:00', 'open': '11:00'}...   \n",
       "GmzpzmxinfLMw5OXQKFEBQ  {'Wednesday': {'close': '16:00', 'open': '11:0...   \n",
       "\n",
       "                         latitude   longitude                    name  \\\n",
       "business_id                                                             \n",
       "lliksv-tglfUz1T3B3vgvA  36.143767 -115.140885           Lotus of Siam   \n",
       "mQde7KRomOQoUyPGTqeXhA  33.362442 -112.092663  Arizona Humane Society   \n",
       "GmzpzmxinfLMw5OXQKFEBQ  33.421587 -111.989088         Little Miss BBQ   \n",
       "\n",
       "                               neighborhoods  open  review_count  stars state  \\\n",
       "business_id                                                                     \n",
       "lliksv-tglfUz1T3B3vgvA  [Eastside, Downtown]  True          3225    4.0    NV   \n",
       "mQde7KRomOQoUyPGTqeXhA                    []  True            64    4.5    AZ   \n",
       "GmzpzmxinfLMw5OXQKFEBQ                    []  True           944    5.0    AZ   \n",
       "\n",
       "                            type  \n",
       "business_id                       \n",
       "lliksv-tglfUz1T3B3vgvA  business  \n",
       "mQde7KRomOQoUyPGTqeXhA  business  \n",
       "GmzpzmxinfLMw5OXQKFEBQ  business  "
      ]
     },
     "execution_count": 99,
     "metadata": {},
     "output_type": "execute_result"
    }
   ],
   "source": [
    "business.loc[recommended_business_names][:3]"
   ]
  },
  {
   "cell_type": "markdown",
   "metadata": {
    "run_control": {
     "frozen": false,
     "read_only": false
    }
   },
   "source": [
    "## Filtering Recommendations to only businesses within states that user had been to (based on user reviewed businesses)"
   ]
  },
  {
   "cell_type": "code",
   "execution_count": 100,
   "metadata": {
    "ExecuteTime": {
     "end_time": "2017-02-01T17:30:55.580821",
     "start_time": "2017-02-01T17:30:55.352870"
    },
    "collapsed": false,
    "run_control": {
     "frozen": false,
     "read_only": false
    }
   },
   "outputs": [
    {
     "data": {
      "text/html": [
       "<div>\n",
       "<table border=\"1\" class=\"dataframe\">\n",
       "  <thead>\n",
       "    <tr style=\"text-align: right;\">\n",
       "      <th></th>\n",
       "      <th>attributes</th>\n",
       "      <th>business_id</th>\n",
       "      <th>categories</th>\n",
       "      <th>city</th>\n",
       "      <th>full_address</th>\n",
       "      <th>hours</th>\n",
       "      <th>latitude</th>\n",
       "      <th>longitude</th>\n",
       "      <th>name</th>\n",
       "      <th>neighborhoods</th>\n",
       "      <th>open</th>\n",
       "      <th>review_count</th>\n",
       "      <th>stars</th>\n",
       "      <th>state</th>\n",
       "      <th>type</th>\n",
       "    </tr>\n",
       "    <tr>\n",
       "      <th>business_id</th>\n",
       "      <th></th>\n",
       "      <th></th>\n",
       "      <th></th>\n",
       "      <th></th>\n",
       "      <th></th>\n",
       "      <th></th>\n",
       "      <th></th>\n",
       "      <th></th>\n",
       "      <th></th>\n",
       "      <th></th>\n",
       "      <th></th>\n",
       "      <th></th>\n",
       "      <th></th>\n",
       "      <th></th>\n",
       "      <th></th>\n",
       "    </tr>\n",
       "  </thead>\n",
       "  <tbody>\n",
       "    <tr>\n",
       "      <th>lliksv-tglfUz1T3B3vgvA</th>\n",
       "      <td>{'Noise Level': 'average', 'Ambience': {'casua...</td>\n",
       "      <td>lliksv-tglfUz1T3B3vgvA</td>\n",
       "      <td>[Thai, Restaurants]</td>\n",
       "      <td>Las Vegas</td>\n",
       "      <td>953 E Sahara Ave\\nSte A5\\nEastside\\nLas Vegas,...</td>\n",
       "      <td>{'Sunday': {'close': '22:00', 'open': '17:30'}...</td>\n",
       "      <td>36.143767</td>\n",
       "      <td>-115.140885</td>\n",
       "      <td>Lotus of Siam</td>\n",
       "      <td>[Eastside, Downtown]</td>\n",
       "      <td>True</td>\n",
       "      <td>3225</td>\n",
       "      <td>4.0</td>\n",
       "      <td>NV</td>\n",
       "      <td>business</td>\n",
       "    </tr>\n",
       "    <tr>\n",
       "      <th>mQde7KRomOQoUyPGTqeXhA</th>\n",
       "      <td>{}</td>\n",
       "      <td>mQde7KRomOQoUyPGTqeXhA</td>\n",
       "      <td>[Animal Shelters, Veterinarians, Pet Stores, P...</td>\n",
       "      <td>Phoenix</td>\n",
       "      <td>1521 W Dobbins Rd\\nPhoenix, AZ 85041</td>\n",
       "      <td>{'Sunday': {'close': '18:00', 'open': '11:00'}...</td>\n",
       "      <td>33.362442</td>\n",
       "      <td>-112.092663</td>\n",
       "      <td>Arizona Humane Society</td>\n",
       "      <td>[]</td>\n",
       "      <td>True</td>\n",
       "      <td>64</td>\n",
       "      <td>4.5</td>\n",
       "      <td>AZ</td>\n",
       "      <td>business</td>\n",
       "    </tr>\n",
       "    <tr>\n",
       "      <th>GmzpzmxinfLMw5OXQKFEBQ</th>\n",
       "      <td>{'Noise Level': 'average', 'Ambience': {'casua...</td>\n",
       "      <td>GmzpzmxinfLMw5OXQKFEBQ</td>\n",
       "      <td>[Barbeque, Restaurants]</td>\n",
       "      <td>Phoenix</td>\n",
       "      <td>4301 E University Dr\\nPhoenix, AZ 85034</td>\n",
       "      <td>{'Wednesday': {'close': '16:00', 'open': '11:0...</td>\n",
       "      <td>33.421587</td>\n",
       "      <td>-111.989088</td>\n",
       "      <td>Little Miss BBQ</td>\n",
       "      <td>[]</td>\n",
       "      <td>True</td>\n",
       "      <td>944</td>\n",
       "      <td>5.0</td>\n",
       "      <td>AZ</td>\n",
       "      <td>business</td>\n",
       "    </tr>\n",
       "    <tr>\n",
       "      <th>CZBYYCb4xBwNlSIYNc6Eiw</th>\n",
       "      <td>{'Accepts Credit Cards': True, 'Parking': {'st...</td>\n",
       "      <td>CZBYYCb4xBwNlSIYNc6Eiw</td>\n",
       "      <td>[Active Life, Hiking]</td>\n",
       "      <td>Apache Junction</td>\n",
       "      <td>6109 N. Apache Trail\\nApache Junction, AZ 85219</td>\n",
       "      <td>{}</td>\n",
       "      <td>33.461401</td>\n",
       "      <td>-111.485730</td>\n",
       "      <td>Siphon Draw Trail inc. Flatiron, Superstition ...</td>\n",
       "      <td>[]</td>\n",
       "      <td>True</td>\n",
       "      <td>49</td>\n",
       "      <td>5.0</td>\n",
       "      <td>AZ</td>\n",
       "      <td>business</td>\n",
       "    </tr>\n",
       "    <tr>\n",
       "      <th>AtjsjFzalWqJ7S9DUFQ4bw</th>\n",
       "      <td>{'Noise Level': 'very_loud', 'Ambience': {'cas...</td>\n",
       "      <td>AtjsjFzalWqJ7S9DUFQ4bw</td>\n",
       "      <td>[Hotels &amp; Travel, Arts &amp; Entertainment, Casino...</td>\n",
       "      <td>Las Vegas</td>\n",
       "      <td>3708 Las Vegas Blvd S\\nThe Strip\\nLas Vegas, N...</td>\n",
       "      <td>{'Sunday': {'close': '00:00', 'open': '00:00'}...</td>\n",
       "      <td>36.109915</td>\n",
       "      <td>-115.174642</td>\n",
       "      <td>The Cosmopolitan of Las Vegas</td>\n",
       "      <td>[The Strip]</td>\n",
       "      <td>True</td>\n",
       "      <td>3228</td>\n",
       "      <td>4.0</td>\n",
       "      <td>NV</td>\n",
       "      <td>business</td>\n",
       "    </tr>\n",
       "    <tr>\n",
       "      <th>nYer89hXYAoddMEKTxw7kA</th>\n",
       "      <td>{'Good for Kids': False}</td>\n",
       "      <td>nYer89hXYAoddMEKTxw7kA</td>\n",
       "      <td>[Yelp Events, Local Flavor]</td>\n",
       "      <td>Phoenix</td>\n",
       "      <td>FilmBar\\n815 N 2nd St\\nPhoenix, AZ 85004</td>\n",
       "      <td>{}</td>\n",
       "      <td>33.457106</td>\n",
       "      <td>-112.071074</td>\n",
       "      <td>Yelp's Secret Cinema: Made In Arizona</td>\n",
       "      <td>[]</td>\n",
       "      <td>True</td>\n",
       "      <td>38</td>\n",
       "      <td>5.0</td>\n",
       "      <td>AZ</td>\n",
       "      <td>business</td>\n",
       "    </tr>\n",
       "    <tr>\n",
       "      <th>qrjPKkSPzodIfP0kW1mtEw</th>\n",
       "      <td>{'Price Range': 2, 'Wheelchair Accessible': Tr...</td>\n",
       "      <td>qrjPKkSPzodIfP0kW1mtEw</td>\n",
       "      <td>[Hair Salons, Skin Care, Hair Removal, Beauty ...</td>\n",
       "      <td>Scottsdale</td>\n",
       "      <td>4328 N Wells Fargo Ave\\nSte 2\\nScottsdale, AZ ...</td>\n",
       "      <td>{'Sunday': {'close': '18:00', 'open': '10:00'}...</td>\n",
       "      <td>33.499149</td>\n",
       "      <td>-111.923063</td>\n",
       "      <td>Salon D'Shayn</td>\n",
       "      <td>[]</td>\n",
       "      <td>True</td>\n",
       "      <td>230</td>\n",
       "      <td>4.5</td>\n",
       "      <td>AZ</td>\n",
       "      <td>business</td>\n",
       "    </tr>\n",
       "    <tr>\n",
       "      <th>qcF6SHcGRML7gihfpNl_zA</th>\n",
       "      <td>{'Wheelchair Accessible': True, 'Parking': {'s...</td>\n",
       "      <td>qcF6SHcGRML7gihfpNl_zA</td>\n",
       "      <td>[Skin Care, Threading Services, Laser Hair Rem...</td>\n",
       "      <td>Las Vegas</td>\n",
       "      <td>2960 S Durango Dr\\nSte 112\\nWestside\\nLas Vega...</td>\n",
       "      <td>{'Sunday': {'close': '18:00', 'open': '11:00'}...</td>\n",
       "      <td>36.135543</td>\n",
       "      <td>-115.277850</td>\n",
       "      <td>Fabulous Eyebrow Threading</td>\n",
       "      <td>[Westside]</td>\n",
       "      <td>True</td>\n",
       "      <td>413</td>\n",
       "      <td>5.0</td>\n",
       "      <td>NV</td>\n",
       "      <td>business</td>\n",
       "    </tr>\n",
       "    <tr>\n",
       "      <th>84NQRcMC0ldIC86yRw0vpA</th>\n",
       "      <td>{'Price Range': 1, 'Wheelchair Accessible': Tr...</td>\n",
       "      <td>84NQRcMC0ldIC86yRw0vpA</td>\n",
       "      <td>[Food, Ice Cream &amp; Frozen Yogurt, Gelato, Dess...</td>\n",
       "      <td>Mesa</td>\n",
       "      <td>5251 E Brown Rd\\nSte 104\\nMesa, AZ 85205</td>\n",
       "      <td>{'Sunday': {'close': '20:30', 'open': '14:00'}...</td>\n",
       "      <td>33.437338</td>\n",
       "      <td>-111.717932</td>\n",
       "      <td>Gelato Dolce Vita</td>\n",
       "      <td>[]</td>\n",
       "      <td>True</td>\n",
       "      <td>178</td>\n",
       "      <td>5.0</td>\n",
       "      <td>AZ</td>\n",
       "      <td>business</td>\n",
       "    </tr>\n",
       "    <tr>\n",
       "      <th>9ylfrWjdX6CltGs_Qcv7Ng</th>\n",
       "      <td>{'Parking': {'street': False, 'validated': Fal...</td>\n",
       "      <td>9ylfrWjdX6CltGs_Qcv7Ng</td>\n",
       "      <td>[Active Life, Arts &amp; Entertainment, Stadiums &amp;...</td>\n",
       "      <td>Pittsburgh</td>\n",
       "      <td>115 Federal St\\nNorth Side\\nPittsburgh, PA 15272</td>\n",
       "      <td>{}</td>\n",
       "      <td>40.446899</td>\n",
       "      <td>-80.005687</td>\n",
       "      <td>PNC Park</td>\n",
       "      <td>[North Side]</td>\n",
       "      <td>True</td>\n",
       "      <td>403</td>\n",
       "      <td>4.5</td>\n",
       "      <td>PA</td>\n",
       "      <td>business</td>\n",
       "    </tr>\n",
       "    <tr>\n",
       "      <th>a-VGlZ06IaFTCX0vd0xm-A</th>\n",
       "      <td>{}</td>\n",
       "      <td>a-VGlZ06IaFTCX0vd0xm-A</td>\n",
       "      <td>[Churches, Religious Organizations]</td>\n",
       "      <td>Henderson</td>\n",
       "      <td>1001 New Beginnings Dr\\nHenderson, NV 89011</td>\n",
       "      <td>{'Sunday': {'close': '15:00', 'open': '08:30'}...</td>\n",
       "      <td>36.080529</td>\n",
       "      <td>-115.038136</td>\n",
       "      <td>Central Church - Henderson</td>\n",
       "      <td>[]</td>\n",
       "      <td>True</td>\n",
       "      <td>76</td>\n",
       "      <td>4.5</td>\n",
       "      <td>NV</td>\n",
       "      <td>business</td>\n",
       "    </tr>\n",
       "    <tr>\n",
       "      <th>Y_P4hdBnB5TZD3-nsi9-jQ</th>\n",
       "      <td>{'Accepts Credit Cards': True}</td>\n",
       "      <td>Y_P4hdBnB5TZD3-nsi9-jQ</td>\n",
       "      <td>[Automotive, Parking]</td>\n",
       "      <td>Phoenix</td>\n",
       "      <td>3150 S 48th st\\nPhoenix, AZ 85040</td>\n",
       "      <td>{'Sunday': {'close': '00:00', 'open': '00:00'}...</td>\n",
       "      <td>33.419917</td>\n",
       "      <td>-111.980971</td>\n",
       "      <td>Blue Sky Airport Parking</td>\n",
       "      <td>[]</td>\n",
       "      <td>True</td>\n",
       "      <td>159</td>\n",
       "      <td>4.5</td>\n",
       "      <td>AZ</td>\n",
       "      <td>business</td>\n",
       "    </tr>\n",
       "    <tr>\n",
       "      <th>cA9cTalUXibyWZZYjh-kiQ</th>\n",
       "      <td>{'Accepts Credit Cards': True, 'By Appointment...</td>\n",
       "      <td>cA9cTalUXibyWZZYjh-kiQ</td>\n",
       "      <td>[Local Services, Damage Restoration, Air Duct ...</td>\n",
       "      <td>Las Vegas</td>\n",
       "      <td>8985 S Durango Dr\\nSouthwest\\nLas Vegas, NV 89113</td>\n",
       "      <td>{'Sunday': {'close': '15:00', 'open': '10:00'}...</td>\n",
       "      <td>36.025675</td>\n",
       "      <td>-115.279201</td>\n",
       "      <td>Carpet Monkey Of Las Vegas</td>\n",
       "      <td>[Southwest]</td>\n",
       "      <td>True</td>\n",
       "      <td>273</td>\n",
       "      <td>5.0</td>\n",
       "      <td>NV</td>\n",
       "      <td>business</td>\n",
       "    </tr>\n",
       "    <tr>\n",
       "      <th>_tYT5_N3zCwrpkdfVhqrnw</th>\n",
       "      <td>{'Wheelchair Accessible': True, 'Accepts Credi...</td>\n",
       "      <td>_tYT5_N3zCwrpkdfVhqrnw</td>\n",
       "      <td>[Paint &amp; Sip, Art Classes, Arts &amp; Entertainmen...</td>\n",
       "      <td>Scottsdale</td>\n",
       "      <td>4165 N Craftsman Ct\\nScottsdale, AZ 85251</td>\n",
       "      <td>{'Sunday': {'close': '14:00', 'open': '10:00'}...</td>\n",
       "      <td>33.496715</td>\n",
       "      <td>-111.927408</td>\n",
       "      <td>The Brush Bar</td>\n",
       "      <td>[]</td>\n",
       "      <td>True</td>\n",
       "      <td>77</td>\n",
       "      <td>5.0</td>\n",
       "      <td>AZ</td>\n",
       "      <td>business</td>\n",
       "    </tr>\n",
       "    <tr>\n",
       "      <th>f8luua75t2Is5iP6nxcXQQ</th>\n",
       "      <td>{'Price Range': 1, 'Wheelchair Accessible': Tr...</td>\n",
       "      <td>f8luua75t2Is5iP6nxcXQQ</td>\n",
       "      <td>[Food, Ice Cream &amp; Frozen Yogurt]</td>\n",
       "      <td>Goodyear</td>\n",
       "      <td>14175 W Indian School Rd\\nSte A-5\\nGoodyear, A...</td>\n",
       "      <td>{'Wednesday': {'close': '22:00', 'open': '11:0...</td>\n",
       "      <td>33.484449</td>\n",
       "      <td>-112.364198</td>\n",
       "      <td>Yogurtini</td>\n",
       "      <td>[]</td>\n",
       "      <td>True</td>\n",
       "      <td>53</td>\n",
       "      <td>5.0</td>\n",
       "      <td>AZ</td>\n",
       "      <td>business</td>\n",
       "    </tr>\n",
       "    <tr>\n",
       "      <th>OwBPjUz2o0J5K3DzcHkBtg</th>\n",
       "      <td>{'Noise Level': 'average', 'Ambience': {'casua...</td>\n",
       "      <td>OwBPjUz2o0J5K3DzcHkBtg</td>\n",
       "      <td>[Sushi Bars, Japanese, Restaurants]</td>\n",
       "      <td>Las Vegas</td>\n",
       "      <td>7377 S Jones Blvd\\nSte 116\\nSouthwest\\nLas Veg...</td>\n",
       "      <td>{'Wednesday': {'close': '22:00', 'open': '17:0...</td>\n",
       "      <td>36.055244</td>\n",
       "      <td>-115.225870</td>\n",
       "      <td>Soho Japanese Restaurant</td>\n",
       "      <td>[Southwest]</td>\n",
       "      <td>True</td>\n",
       "      <td>1102</td>\n",
       "      <td>4.5</td>\n",
       "      <td>NV</td>\n",
       "      <td>business</td>\n",
       "    </tr>\n",
       "    <tr>\n",
       "      <th>4bnLfKXorJ9HVmt7Oc8lcw</th>\n",
       "      <td>{'Good for Kids': False}</td>\n",
       "      <td>4bnLfKXorJ9HVmt7Oc8lcw</td>\n",
       "      <td>[Local Flavor]</td>\n",
       "      <td>Phoenix</td>\n",
       "      <td>La Grande Orange Bake Shop\\n4410 N 40th St\\nPh...</td>\n",
       "      <td>{}</td>\n",
       "      <td>33.502139</td>\n",
       "      <td>-111.995748</td>\n",
       "      <td>CMYE: Yelp's Sweet Bake-In at La Grande Orange...</td>\n",
       "      <td>[]</td>\n",
       "      <td>True</td>\n",
       "      <td>34</td>\n",
       "      <td>5.0</td>\n",
       "      <td>AZ</td>\n",
       "      <td>business</td>\n",
       "    </tr>\n",
       "    <tr>\n",
       "      <th>QBHcPkoRsPb68Oq7zRj44A</th>\n",
       "      <td>{'Noise Level': 'average', 'Ambience': {'casua...</td>\n",
       "      <td>QBHcPkoRsPb68Oq7zRj44A</td>\n",
       "      <td>[Food, Desserts, Shaved Ice, Food Trucks]</td>\n",
       "      <td>Henderson</td>\n",
       "      <td>898 S Boulder Hwy\\nHenderson, NV 89015</td>\n",
       "      <td>{'Sunday': {'close': '20:00', 'open': '12:00'}...</td>\n",
       "      <td>36.025234</td>\n",
       "      <td>-114.965485</td>\n",
       "      <td>Frost Bites Shavery</td>\n",
       "      <td>[]</td>\n",
       "      <td>False</td>\n",
       "      <td>72</td>\n",
       "      <td>5.0</td>\n",
       "      <td>NV</td>\n",
       "      <td>business</td>\n",
       "    </tr>\n",
       "    <tr>\n",
       "      <th>JXUX_oiCrfHm6b1sbqQd7A</th>\n",
       "      <td>{'Noise Level': 'quiet', 'Ambience': {'casual'...</td>\n",
       "      <td>JXUX_oiCrfHm6b1sbqQd7A</td>\n",
       "      <td>[Food, Poke]</td>\n",
       "      <td>North Las Vegas</td>\n",
       "      <td>655 W Craig Rd\\nSte 118\\nNorth Las Vegas, NV 8...</td>\n",
       "      <td>{'Sunday': {'close': '17:00', 'open': '10:00'}...</td>\n",
       "      <td>36.238246</td>\n",
       "      <td>-115.150921</td>\n",
       "      <td>Poke Express</td>\n",
       "      <td>[]</td>\n",
       "      <td>True</td>\n",
       "      <td>387</td>\n",
       "      <td>5.0</td>\n",
       "      <td>NV</td>\n",
       "      <td>business</td>\n",
       "    </tr>\n",
       "    <tr>\n",
       "      <th>1hY0Q3BYDq6CJDQay2xRQA</th>\n",
       "      <td>{'Wheelchair Accessible': True, 'Accepts Credi...</td>\n",
       "      <td>1hY0Q3BYDq6CJDQay2xRQA</td>\n",
       "      <td>[Health Markets, Food, Shopping, Vitamins &amp; Su...</td>\n",
       "      <td>Las Vegas</td>\n",
       "      <td>9680 S Eastern Ave\\nSte 120\\nSoutheast\\nLas Ve...</td>\n",
       "      <td>{'Sunday': {'close': '21:00', 'open': '09:00'}...</td>\n",
       "      <td>36.013838</td>\n",
       "      <td>-115.117968</td>\n",
       "      <td>Vegas Discount Nutrition</td>\n",
       "      <td>[Southeast]</td>\n",
       "      <td>True</td>\n",
       "      <td>223</td>\n",
       "      <td>5.0</td>\n",
       "      <td>NV</td>\n",
       "      <td>business</td>\n",
       "    </tr>\n",
       "    <tr>\n",
       "      <th>Us-93TD-lG_kVJzDPvmppw</th>\n",
       "      <td>{'Accepts Credit Cards': True}</td>\n",
       "      <td>Us-93TD-lG_kVJzDPvmppw</td>\n",
       "      <td>[Local Services, Carpet Cleaning]</td>\n",
       "      <td>Phoenix</td>\n",
       "      <td>5444 E Camelback Rd\\nPhoenix, AZ 85018</td>\n",
       "      <td>{'Sunday': {'close': '00:00', 'open': '00:00'}...</td>\n",
       "      <td>33.501848</td>\n",
       "      <td>-111.964967</td>\n",
       "      <td>I Clean Carpets</td>\n",
       "      <td>[]</td>\n",
       "      <td>True</td>\n",
       "      <td>250</td>\n",
       "      <td>5.0</td>\n",
       "      <td>AZ</td>\n",
       "      <td>business</td>\n",
       "    </tr>\n",
       "    <tr>\n",
       "      <th>3AoCAj24yffBkl1vh9lkuQ</th>\n",
       "      <td>{'Wheelchair Accessible': True, 'Accepts Credi...</td>\n",
       "      <td>3AoCAj24yffBkl1vh9lkuQ</td>\n",
       "      <td>[Automotive, Auto Customization, Auto Glass Se...</td>\n",
       "      <td>Las Vegas</td>\n",
       "      <td>4510 W Diablo Dr\\nSte A102\\nLas Vegas, NV 89118</td>\n",
       "      <td>{'Monday': {'close': '18:30', 'open': '08:00'}...</td>\n",
       "      <td>36.090223</td>\n",
       "      <td>-115.202364</td>\n",
       "      <td>Eco-Tint</td>\n",
       "      <td>[]</td>\n",
       "      <td>True</td>\n",
       "      <td>376</td>\n",
       "      <td>5.0</td>\n",
       "      <td>NV</td>\n",
       "      <td>business</td>\n",
       "    </tr>\n",
       "    <tr>\n",
       "      <th>hrnvVr3hmb2oD3oUnJrNSw</th>\n",
       "      <td>{'Noise Level': 'average', 'Coat Check': True,...</td>\n",
       "      <td>hrnvVr3hmb2oD3oUnJrNSw</td>\n",
       "      <td>[Arts &amp; Entertainment, Performing Arts, Music ...</td>\n",
       "      <td>Tempe</td>\n",
       "      <td>700 W Rio Salado Pkwy\\nTempe, AZ 85281</td>\n",
       "      <td>{'Wednesday': {'close': '18:00', 'open': '10:0...</td>\n",
       "      <td>33.431771</td>\n",
       "      <td>-111.948574</td>\n",
       "      <td>Tempe Center for the Arts</td>\n",
       "      <td>[]</td>\n",
       "      <td>True</td>\n",
       "      <td>54</td>\n",
       "      <td>4.5</td>\n",
       "      <td>AZ</td>\n",
       "      <td>business</td>\n",
       "    </tr>\n",
       "    <tr>\n",
       "      <th>RHIIMuvu6xPNHxtZv_QWHg</th>\n",
       "      <td>{'Accepts Credit Cards': True, 'Wi-Fi': 'paid'...</td>\n",
       "      <td>RHIIMuvu6xPNHxtZv_QWHg</td>\n",
       "      <td>[Hotels &amp; Travel, Event Planning &amp; Services, V...</td>\n",
       "      <td>Las Vegas</td>\n",
       "      <td>3752 Las Vegas Blvd S\\nThe Strip\\nLas Vegas, N...</td>\n",
       "      <td>{'Sunday': {'close': '00:00', 'open': '00:00'}...</td>\n",
       "      <td>36.106212</td>\n",
       "      <td>-115.174213</td>\n",
       "      <td>Mandarin Oriental, Las Vegas</td>\n",
       "      <td>[The Strip]</td>\n",
       "      <td>True</td>\n",
       "      <td>473</td>\n",
       "      <td>4.5</td>\n",
       "      <td>NV</td>\n",
       "      <td>business</td>\n",
       "    </tr>\n",
       "    <tr>\n",
       "      <th>QnAzW6KMSciUcuJ20oI3Bw</th>\n",
       "      <td>{'Noise Level': 'average', 'Ambience': {'casua...</td>\n",
       "      <td>QnAzW6KMSciUcuJ20oI3Bw</td>\n",
       "      <td>[American (Traditional), Pizza, Salad, Restaur...</td>\n",
       "      <td>Gilbert</td>\n",
       "      <td>3000 E Ray Rd\\nBldg 1\\nGilbert, AZ 85296</td>\n",
       "      <td>{'Sunday': {'close': '21:00', 'open': '08:00'}...</td>\n",
       "      <td>33.321062</td>\n",
       "      <td>-111.723919</td>\n",
       "      <td>Joe's Farm Grill</td>\n",
       "      <td>[]</td>\n",
       "      <td>True</td>\n",
       "      <td>1368</td>\n",
       "      <td>4.0</td>\n",
       "      <td>AZ</td>\n",
       "      <td>business</td>\n",
       "    </tr>\n",
       "    <tr>\n",
       "      <th>8clKtz2RxFRDLnzZwMgA4w</th>\n",
       "      <td>{}</td>\n",
       "      <td>8clKtz2RxFRDLnzZwMgA4w</td>\n",
       "      <td>[Pet Services, Pet Boarding/Pet Sitting, Pets]</td>\n",
       "      <td>Las Vegas</td>\n",
       "      <td>5175 S Valley View Blvd\\nLas Vegas, NV 89118</td>\n",
       "      <td>{'Sunday': {'close': '19:00', 'open': '07:00'}...</td>\n",
       "      <td>36.095841</td>\n",
       "      <td>-115.190338</td>\n",
       "      <td>Camp Bow Wow Las Vegas</td>\n",
       "      <td>[]</td>\n",
       "      <td>True</td>\n",
       "      <td>127</td>\n",
       "      <td>4.5</td>\n",
       "      <td>NV</td>\n",
       "      <td>business</td>\n",
       "    </tr>\n",
       "    <tr>\n",
       "      <th>Q9pYlR8ckKpbLe1fn8apGg</th>\n",
       "      <td>{'Accepts Credit Cards': True}</td>\n",
       "      <td>Q9pYlR8ckKpbLe1fn8apGg</td>\n",
       "      <td>[Auto Repair, Automotive]</td>\n",
       "      <td>Las Vegas</td>\n",
       "      <td>544 E Silverado Ranch Blvd\\nSte 104\\nSoutheast...</td>\n",
       "      <td>{'Monday': {'close': '17:00', 'open': '08:00'}...</td>\n",
       "      <td>36.013730</td>\n",
       "      <td>-115.151623</td>\n",
       "      <td>Professional Brake Service</td>\n",
       "      <td>[Southeast]</td>\n",
       "      <td>True</td>\n",
       "      <td>184</td>\n",
       "      <td>5.0</td>\n",
       "      <td>NV</td>\n",
       "      <td>business</td>\n",
       "    </tr>\n",
       "    <tr>\n",
       "      <th>RPDbyZWiN_ayXevgko0zOA</th>\n",
       "      <td>{'Noise Level': 'average', 'Ambience': {'casua...</td>\n",
       "      <td>RPDbyZWiN_ayXevgko0zOA</td>\n",
       "      <td>[Korean, Barbeque, Restaurants]</td>\n",
       "      <td>Las Vegas</td>\n",
       "      <td>5808 spring mountain rd\\nSte 101\\nChinatown\\nL...</td>\n",
       "      <td>{'Sunday': {'close': '04:00', 'open': '11:30'}...</td>\n",
       "      <td>36.126006</td>\n",
       "      <td>-115.222520</td>\n",
       "      <td>Hobak Korean BBQ</td>\n",
       "      <td>[Chinatown]</td>\n",
       "      <td>True</td>\n",
       "      <td>542</td>\n",
       "      <td>5.0</td>\n",
       "      <td>NV</td>\n",
       "      <td>business</td>\n",
       "    </tr>\n",
       "    <tr>\n",
       "      <th>02CV16hndzI60LuI2kDkOA</th>\n",
       "      <td>{'Accepts Credit Cards': True, 'By Appointment...</td>\n",
       "      <td>02CV16hndzI60LuI2kDkOA</td>\n",
       "      <td>[Movers, Local Services, Home Services, Self S...</td>\n",
       "      <td>Phoenix</td>\n",
       "      <td>2330 N 31st Ave\\nPhoenix, AZ 85009</td>\n",
       "      <td>{'Sunday': {'close': '17:30', 'open': '08:30'}...</td>\n",
       "      <td>33.474558</td>\n",
       "      <td>-112.126114</td>\n",
       "      <td>Camelback Moving</td>\n",
       "      <td>[]</td>\n",
       "      <td>True</td>\n",
       "      <td>311</td>\n",
       "      <td>4.5</td>\n",
       "      <td>AZ</td>\n",
       "      <td>business</td>\n",
       "    </tr>\n",
       "    <tr>\n",
       "      <th>b7GM0x9zZU5gq1aXErUf7Q</th>\n",
       "      <td>{'Noise Level': 'quiet', 'Ambience': {'casual'...</td>\n",
       "      <td>b7GM0x9zZU5gq1aXErUf7Q</td>\n",
       "      <td>[Bakeries, Food, Cafes, Chocolatiers &amp; Shops, ...</td>\n",
       "      <td>Phoenix</td>\n",
       "      <td>Biltmore Fashion Park\\n2502 E Camelback, Ste 1...</td>\n",
       "      <td>{'Sunday': {'close': '18:00', 'open': '12:00'}...</td>\n",
       "      <td>33.508269</td>\n",
       "      <td>-112.031716</td>\n",
       "      <td>Julia Baker Confections</td>\n",
       "      <td>[]</td>\n",
       "      <td>False</td>\n",
       "      <td>76</td>\n",
       "      <td>4.5</td>\n",
       "      <td>AZ</td>\n",
       "      <td>business</td>\n",
       "    </tr>\n",
       "    <tr>\n",
       "      <th>...</th>\n",
       "      <td>...</td>\n",
       "      <td>...</td>\n",
       "      <td>...</td>\n",
       "      <td>...</td>\n",
       "      <td>...</td>\n",
       "      <td>...</td>\n",
       "      <td>...</td>\n",
       "      <td>...</td>\n",
       "      <td>...</td>\n",
       "      <td>...</td>\n",
       "      <td>...</td>\n",
       "      <td>...</td>\n",
       "      <td>...</td>\n",
       "      <td>...</td>\n",
       "      <td>...</td>\n",
       "    </tr>\n",
       "    <tr>\n",
       "      <th>siatNcf5O_vH0sL6OdvYLQ</th>\n",
       "      <td>{'Accepts Credit Cards': True, 'Price Range': ...</td>\n",
       "      <td>siatNcf5O_vH0sL6OdvYLQ</td>\n",
       "      <td>[Shopping Centers, Shopping]</td>\n",
       "      <td>Phoenix</td>\n",
       "      <td>1703 W Bethany Home Rd\\nPhoenix, AZ 85015</td>\n",
       "      <td>{'Sunday': {'close': '18:00', 'open': '11:00'}...</td>\n",
       "      <td>33.522433</td>\n",
       "      <td>-112.096296</td>\n",
       "      <td>Christown Spectrum</td>\n",
       "      <td>[]</td>\n",
       "      <td>True</td>\n",
       "      <td>41</td>\n",
       "      <td>2.5</td>\n",
       "      <td>AZ</td>\n",
       "      <td>business</td>\n",
       "    </tr>\n",
       "    <tr>\n",
       "      <th>dNyjWz6CnYvrhPnpqNV5NA</th>\n",
       "      <td>{'Good for Kids': True}</td>\n",
       "      <td>dNyjWz6CnYvrhPnpqNV5NA</td>\n",
       "      <td>[Arts &amp; Entertainment, Festivals]</td>\n",
       "      <td>Scottsdale</td>\n",
       "      <td>7555 N Pima Rd\\nScottsdale, AZ 85258</td>\n",
       "      <td>{}</td>\n",
       "      <td>33.546608</td>\n",
       "      <td>-111.890686</td>\n",
       "      <td>Street Eats Festival</td>\n",
       "      <td>[]</td>\n",
       "      <td>True</td>\n",
       "      <td>90</td>\n",
       "      <td>2.0</td>\n",
       "      <td>AZ</td>\n",
       "      <td>business</td>\n",
       "    </tr>\n",
       "    <tr>\n",
       "      <th>TmTB0Nel-U_zOr04OTUreA</th>\n",
       "      <td>{'Accepts Credit Cards': True}</td>\n",
       "      <td>TmTB0Nel-U_zOr04OTUreA</td>\n",
       "      <td>[Local Services, Shipping Centers, Post Office...</td>\n",
       "      <td>Las Vegas</td>\n",
       "      <td>455 E Pebble Rd\\nSoutheast\\nLas Vegas, NV 89123</td>\n",
       "      <td>{'Wednesday': {'close': '17:00', 'open': '08:3...</td>\n",
       "      <td>36.027059</td>\n",
       "      <td>-115.153343</td>\n",
       "      <td>US Post Office</td>\n",
       "      <td>[Southeast]</td>\n",
       "      <td>True</td>\n",
       "      <td>75</td>\n",
       "      <td>1.5</td>\n",
       "      <td>NV</td>\n",
       "      <td>business</td>\n",
       "    </tr>\n",
       "    <tr>\n",
       "      <th>Ca_u-CVUEswSkdmW0oscvA</th>\n",
       "      <td>{}</td>\n",
       "      <td>Ca_u-CVUEswSkdmW0oscvA</td>\n",
       "      <td>[Hotels &amp; Travel, Car Rental]</td>\n",
       "      <td>Las Vegas</td>\n",
       "      <td>Mccarran Int'L Airport\\n7135 Gillespie Street\\...</td>\n",
       "      <td>{}</td>\n",
       "      <td>36.060061</td>\n",
       "      <td>-115.165044</td>\n",
       "      <td>Dollar Rent A Car</td>\n",
       "      <td>[Southeast]</td>\n",
       "      <td>True</td>\n",
       "      <td>289</td>\n",
       "      <td>2.0</td>\n",
       "      <td>NV</td>\n",
       "      <td>business</td>\n",
       "    </tr>\n",
       "    <tr>\n",
       "      <th>erBoatMp1TFi_NPxTigp6w</th>\n",
       "      <td>{'BYOB': False, 'Price Range': 2, 'Accepts Cre...</td>\n",
       "      <td>erBoatMp1TFi_NPxTigp6w</td>\n",
       "      <td>[Mexican, Restaurants]</td>\n",
       "      <td>Scottsdale</td>\n",
       "      <td>7135 E Camelback Rd\\nScottsdale, AZ 85251</td>\n",
       "      <td>{}</td>\n",
       "      <td>33.501982</td>\n",
       "      <td>-111.927618</td>\n",
       "      <td>Pink Taco</td>\n",
       "      <td>[]</td>\n",
       "      <td>False</td>\n",
       "      <td>55</td>\n",
       "      <td>2.5</td>\n",
       "      <td>AZ</td>\n",
       "      <td>business</td>\n",
       "    </tr>\n",
       "    <tr>\n",
       "      <th>bdsKG7MQIMmZ73lgOaTZ0A</th>\n",
       "      <td>{'Noise Level': 'average', 'Ambience': {'casua...</td>\n",
       "      <td>bdsKG7MQIMmZ73lgOaTZ0A</td>\n",
       "      <td>[Asian Fusion, Restaurants]</td>\n",
       "      <td>Las Vegas</td>\n",
       "      <td>3545 Las Vegas Blvd S\\nThe Strip\\nLas Vegas, N...</td>\n",
       "      <td>{'Sunday': {'close': '00:00', 'open': '12:00'}...</td>\n",
       "      <td>36.117748</td>\n",
       "      <td>-115.170475</td>\n",
       "      <td>FAME</td>\n",
       "      <td>[The Strip]</td>\n",
       "      <td>False</td>\n",
       "      <td>93</td>\n",
       "      <td>2.0</td>\n",
       "      <td>NV</td>\n",
       "      <td>business</td>\n",
       "    </tr>\n",
       "    <tr>\n",
       "      <th>EF5vR_UUavzPjtgMYFCg5Q</th>\n",
       "      <td>{'Noise Level': 'very_loud', 'Ambience': {'cas...</td>\n",
       "      <td>EF5vR_UUavzPjtgMYFCg5Q</td>\n",
       "      <td>[Mexican, Restaurants]</td>\n",
       "      <td>Las Vegas</td>\n",
       "      <td>Flamingo Hotel\\n3555 Las Vegas Blvd S\\nThe Str...</td>\n",
       "      <td>{'Sunday': {'close': '02:00', 'open': '08:00'}...</td>\n",
       "      <td>36.127615</td>\n",
       "      <td>-115.170364</td>\n",
       "      <td>Carlos' N' Charlie's</td>\n",
       "      <td>[The Strip]</td>\n",
       "      <td>True</td>\n",
       "      <td>272</td>\n",
       "      <td>2.0</td>\n",
       "      <td>NV</td>\n",
       "      <td>business</td>\n",
       "    </tr>\n",
       "    <tr>\n",
       "      <th>nIkJ9z9GM2mthq80s3l0Mg</th>\n",
       "      <td>{'Wheelchair Accessible': True, 'Accepts Credi...</td>\n",
       "      <td>nIkJ9z9GM2mthq80s3l0Mg</td>\n",
       "      <td>[Food, Department Stores, Grocery, Fashion, Sh...</td>\n",
       "      <td>Phoenix</td>\n",
       "      <td>1607 W Bethany Home Rd\\nPhoenix, AZ 85015</td>\n",
       "      <td>{}</td>\n",
       "      <td>33.522307</td>\n",
       "      <td>-112.092979</td>\n",
       "      <td>Walmart Supercenter</td>\n",
       "      <td>[]</td>\n",
       "      <td>True</td>\n",
       "      <td>104</td>\n",
       "      <td>2.0</td>\n",
       "      <td>AZ</td>\n",
       "      <td>business</td>\n",
       "    </tr>\n",
       "    <tr>\n",
       "      <th>qdCbbg7FyD6mzf0L_g64uA</th>\n",
       "      <td>{'Noise Level': 'average', 'Ambience': {'casua...</td>\n",
       "      <td>qdCbbg7FyD6mzf0L_g64uA</td>\n",
       "      <td>[Burgers, Fast Food, Chicken Wings, Restaurants]</td>\n",
       "      <td>Las Vegas</td>\n",
       "      <td>7925 S Rainbow Blvd\\nSouthwest\\nLas Vegas, NV ...</td>\n",
       "      <td>{}</td>\n",
       "      <td>36.044874</td>\n",
       "      <td>-115.243900</td>\n",
       "      <td>Church's Chicken</td>\n",
       "      <td>[Southwest]</td>\n",
       "      <td>True</td>\n",
       "      <td>80</td>\n",
       "      <td>2.0</td>\n",
       "      <td>NV</td>\n",
       "      <td>business</td>\n",
       "    </tr>\n",
       "    <tr>\n",
       "      <th>6sqAj_mXmYkZ3UKsyRGGHQ</th>\n",
       "      <td>{'Noise Level': 'average', 'Ambience': {'casua...</td>\n",
       "      <td>6sqAj_mXmYkZ3UKsyRGGHQ</td>\n",
       "      <td>[Hotels &amp; Travel, Arts &amp; Entertainment, Casino...</td>\n",
       "      <td>Las Vegas</td>\n",
       "      <td>18 E Fremont St\\nDowntown\\nLas Vegas, NV 89101</td>\n",
       "      <td>{}</td>\n",
       "      <td>36.172075</td>\n",
       "      <td>-115.145689</td>\n",
       "      <td>Las Vegas Club Hotel &amp; Casino</td>\n",
       "      <td>[Downtown]</td>\n",
       "      <td>False</td>\n",
       "      <td>98</td>\n",
       "      <td>2.0</td>\n",
       "      <td>NV</td>\n",
       "      <td>business</td>\n",
       "    </tr>\n",
       "    <tr>\n",
       "      <th>aEol06ruyQJZYlDMPJGfUg</th>\n",
       "      <td>{'Wheelchair Accessible': True, 'Alcohol': 'no...</td>\n",
       "      <td>aEol06ruyQJZYlDMPJGfUg</td>\n",
       "      <td>[Bakeries, Food]</td>\n",
       "      <td>Las Vegas</td>\n",
       "      <td>Downtown Summerlin\\n2010 Festival Plaza, 150\\n...</td>\n",
       "      <td>{'Sunday': {'close': '19:00', 'open': '11:00'}...</td>\n",
       "      <td>36.154862</td>\n",
       "      <td>-115.331429</td>\n",
       "      <td>Wonderland Bakery</td>\n",
       "      <td>[South Summerlin]</td>\n",
       "      <td>True</td>\n",
       "      <td>75</td>\n",
       "      <td>2.5</td>\n",
       "      <td>NV</td>\n",
       "      <td>business</td>\n",
       "    </tr>\n",
       "    <tr>\n",
       "      <th>8z-v_pn00BcnrWs9bacYUQ</th>\n",
       "      <td>{'Accepts Credit Cards': True, 'Wi-Fi': 'paid'...</td>\n",
       "      <td>8z-v_pn00BcnrWs9bacYUQ</td>\n",
       "      <td>[Hotels &amp; Travel, Arts &amp; Entertainment, Casino...</td>\n",
       "      <td>Las Vegas</td>\n",
       "      <td>The Quad Las Vegas Resort &amp; Casino\\n3535 S Las...</td>\n",
       "      <td>{'Sunday': {'close': '00:00', 'open': '00:00'}...</td>\n",
       "      <td>36.123843</td>\n",
       "      <td>-115.170220</td>\n",
       "      <td>The Quad Las Vegas Resort &amp; Casino</td>\n",
       "      <td>[The Strip]</td>\n",
       "      <td>False</td>\n",
       "      <td>609</td>\n",
       "      <td>2.0</td>\n",
       "      <td>NV</td>\n",
       "      <td>business</td>\n",
       "    </tr>\n",
       "    <tr>\n",
       "      <th>_G5pDGRJL0mhLRgIViW2sA</th>\n",
       "      <td>{'Alcohol': 'full_bar', 'Price Range': 3, 'Whe...</td>\n",
       "      <td>_G5pDGRJL0mhLRgIViW2sA</td>\n",
       "      <td>[Arts &amp; Entertainment, Performing Arts]</td>\n",
       "      <td>Las Vegas</td>\n",
       "      <td>Luxor Las Vegas\\n3900 Las Vegas Blvd S\\nThe St...</td>\n",
       "      <td>{'Sunday': {'close': '22:00', 'open': '12:00'}...</td>\n",
       "      <td>36.095580</td>\n",
       "      <td>-115.175818</td>\n",
       "      <td>Cirque du Soleil - Criss Angel Believe</td>\n",
       "      <td>[The Strip]</td>\n",
       "      <td>False</td>\n",
       "      <td>833</td>\n",
       "      <td>1.5</td>\n",
       "      <td>NV</td>\n",
       "      <td>business</td>\n",
       "    </tr>\n",
       "    <tr>\n",
       "      <th>67-DcR8Npwuc9lRph194cw</th>\n",
       "      <td>{'Noise Level': 'very_loud', 'Ambience': {'cas...</td>\n",
       "      <td>67-DcR8Npwuc9lRph194cw</td>\n",
       "      <td>[Arts &amp; Entertainment, Restaurants, Festivals,...</td>\n",
       "      <td>Las Vegas</td>\n",
       "      <td>628 W Craig Rd\\nLas Vegas, NV 89032</td>\n",
       "      <td>{}</td>\n",
       "      <td>36.241289</td>\n",
       "      <td>-115.149580</td>\n",
       "      <td>San Gennaro Feast</td>\n",
       "      <td>[]</td>\n",
       "      <td>True</td>\n",
       "      <td>85</td>\n",
       "      <td>2.5</td>\n",
       "      <td>NV</td>\n",
       "      <td>business</td>\n",
       "    </tr>\n",
       "    <tr>\n",
       "      <th>XoitWJUjHcdBl9GqHTsdjw</th>\n",
       "      <td>{'Noise Level': 'average', 'Ambience': {'casua...</td>\n",
       "      <td>XoitWJUjHcdBl9GqHTsdjw</td>\n",
       "      <td>[American (Traditional), Southern, Restaurants]</td>\n",
       "      <td>Las Vegas</td>\n",
       "      <td>6593 Las Vegas Blvd S\\nSoutheast\\nLas Vegas, N...</td>\n",
       "      <td>{}</td>\n",
       "      <td>36.067199</td>\n",
       "      <td>-115.172232</td>\n",
       "      <td>Ranch House Kitchen</td>\n",
       "      <td>[Southeast]</td>\n",
       "      <td>False</td>\n",
       "      <td>69</td>\n",
       "      <td>2.0</td>\n",
       "      <td>NV</td>\n",
       "      <td>business</td>\n",
       "    </tr>\n",
       "    <tr>\n",
       "      <th>26ecLqpDHrB3socZGfDuhQ</th>\n",
       "      <td>{}</td>\n",
       "      <td>26ecLqpDHrB3socZGfDuhQ</td>\n",
       "      <td>[Hotels &amp; Travel, Travel Services, Tours, Tran...</td>\n",
       "      <td>Las Vegas</td>\n",
       "      <td>1550 S Industrial Rd\\nDowntown\\nLas Vegas, NV ...</td>\n",
       "      <td>{'Sunday': {'close': '00:00', 'open': '00:00'}...</td>\n",
       "      <td>36.154658</td>\n",
       "      <td>-115.159219</td>\n",
       "      <td>Showtime Tours</td>\n",
       "      <td>[Downtown]</td>\n",
       "      <td>True</td>\n",
       "      <td>358</td>\n",
       "      <td>1.5</td>\n",
       "      <td>NV</td>\n",
       "      <td>business</td>\n",
       "    </tr>\n",
       "    <tr>\n",
       "      <th>lRALdho4l9cpiw9WdGkV1A</th>\n",
       "      <td>{}</td>\n",
       "      <td>lRALdho4l9cpiw9WdGkV1A</td>\n",
       "      <td>[Hotels &amp; Travel, Airlines, Transportation]</td>\n",
       "      <td>Mesa</td>\n",
       "      <td>5835 S Sossaman Rd\\nMesa, AZ 85212</td>\n",
       "      <td>{}</td>\n",
       "      <td>33.309792</td>\n",
       "      <td>-111.669200</td>\n",
       "      <td>Allegiant</td>\n",
       "      <td>[]</td>\n",
       "      <td>True</td>\n",
       "      <td>166</td>\n",
       "      <td>1.5</td>\n",
       "      <td>AZ</td>\n",
       "      <td>business</td>\n",
       "    </tr>\n",
       "    <tr>\n",
       "      <th>K5kU2IN6mXvMo-Cx0oQFZg</th>\n",
       "      <td>{'Noise Level': 'loud', 'Ambience': {'casual':...</td>\n",
       "      <td>K5kU2IN6mXvMo-Cx0oQFZg</td>\n",
       "      <td>[Mexican, Restaurants]</td>\n",
       "      <td>Glendale</td>\n",
       "      <td>6770 N Sunrise Blvd\\nSte G109\\nGlendale, AZ 85303</td>\n",
       "      <td>{'Sunday': {'close': '02:00', 'open': '11:00'}...</td>\n",
       "      <td>33.533158</td>\n",
       "      <td>-112.260384</td>\n",
       "      <td>Calico Jack's</td>\n",
       "      <td>[]</td>\n",
       "      <td>True</td>\n",
       "      <td>174</td>\n",
       "      <td>1.5</td>\n",
       "      <td>AZ</td>\n",
       "      <td>business</td>\n",
       "    </tr>\n",
       "    <tr>\n",
       "      <th>KVYSUfN89b-nih-_9HhF6g</th>\n",
       "      <td>{'Noise Level': 'very_loud', 'Ambience': {'cas...</td>\n",
       "      <td>KVYSUfN89b-nih-_9HhF6g</td>\n",
       "      <td>[Bars, American (New), Nightlife, Dance Clubs,...</td>\n",
       "      <td>Glendale</td>\n",
       "      <td>9425 W Coyotes Blvd\\nGlendale, AZ 85305</td>\n",
       "      <td>{'Sunday': {'close': '02:00', 'open': '11:00'}...</td>\n",
       "      <td>33.533049</td>\n",
       "      <td>-112.262036</td>\n",
       "      <td>McFadden's Restaurant &amp; Saloon</td>\n",
       "      <td>[]</td>\n",
       "      <td>True</td>\n",
       "      <td>311</td>\n",
       "      <td>1.5</td>\n",
       "      <td>AZ</td>\n",
       "      <td>business</td>\n",
       "    </tr>\n",
       "    <tr>\n",
       "      <th>0InQd9vuhRc98OksC3Ks8Q</th>\n",
       "      <td>{'Noise Level': 'average', 'Ambience': {'casua...</td>\n",
       "      <td>0InQd9vuhRc98OksC3Ks8Q</td>\n",
       "      <td>[American (Traditional), Buffets, Restaurants]</td>\n",
       "      <td>Las Vegas</td>\n",
       "      <td>Excalibur Hotel Casino\\n3850 Las Vegas Blvd S\\...</td>\n",
       "      <td>{'Sunday': {'close': '22:00', 'open': '07:00'}...</td>\n",
       "      <td>36.098878</td>\n",
       "      <td>-115.175641</td>\n",
       "      <td>Buffet Roundtable</td>\n",
       "      <td>[The Strip]</td>\n",
       "      <td>False</td>\n",
       "      <td>190</td>\n",
       "      <td>2.0</td>\n",
       "      <td>NV</td>\n",
       "      <td>business</td>\n",
       "    </tr>\n",
       "    <tr>\n",
       "      <th>gnafBL9EZE1kn0xD7Yf3_w</th>\n",
       "      <td>{'Good for Kids': False}</td>\n",
       "      <td>gnafBL9EZE1kn0xD7Yf3_w</td>\n",
       "      <td>[Arts &amp; Entertainment, Performing Arts]</td>\n",
       "      <td>Las Vegas</td>\n",
       "      <td>Treasure Island\\n3300 Las Vegas Blvd S\\nThe St...</td>\n",
       "      <td>{}</td>\n",
       "      <td>36.124823</td>\n",
       "      <td>-115.171971</td>\n",
       "      <td>Sirens of Treasure Island</td>\n",
       "      <td>[The Strip]</td>\n",
       "      <td>False</td>\n",
       "      <td>143</td>\n",
       "      <td>2.0</td>\n",
       "      <td>NV</td>\n",
       "      <td>business</td>\n",
       "    </tr>\n",
       "    <tr>\n",
       "      <th>vKtMsWeAaThimXGo9Ic_Og</th>\n",
       "      <td>{'Accepts Credit Cards': True}</td>\n",
       "      <td>vKtMsWeAaThimXGo9Ic_Og</td>\n",
       "      <td>[Professional Services, Home Services, Home Au...</td>\n",
       "      <td>Charlotte</td>\n",
       "      <td>316 E Morehead St\\nSouth End\\nCharlotte, NC 28203</td>\n",
       "      <td>{'Sunday': {'close': '18:00', 'open': '12:00'}...</td>\n",
       "      <td>35.218730</td>\n",
       "      <td>-80.849720</td>\n",
       "      <td>Time Warner Cable</td>\n",
       "      <td>[South End, Dilworth]</td>\n",
       "      <td>True</td>\n",
       "      <td>91</td>\n",
       "      <td>1.5</td>\n",
       "      <td>NC</td>\n",
       "      <td>business</td>\n",
       "    </tr>\n",
       "    <tr>\n",
       "      <th>wyqwO4ZqZyRR6pGk1pTBrA</th>\n",
       "      <td>{}</td>\n",
       "      <td>wyqwO4ZqZyRR6pGk1pTBrA</td>\n",
       "      <td>[Hotels &amp; Travel, Car Rental]</td>\n",
       "      <td>Las Vegas</td>\n",
       "      <td>7135 Gilespie St\\nSoutheast\\nLas Vegas, NV 89119</td>\n",
       "      <td>{'Sunday': {'close': '00:00', 'open': '00:00'}...</td>\n",
       "      <td>36.060061</td>\n",
       "      <td>-115.165044</td>\n",
       "      <td>Payless Car Rental</td>\n",
       "      <td>[Southeast]</td>\n",
       "      <td>True</td>\n",
       "      <td>474</td>\n",
       "      <td>1.5</td>\n",
       "      <td>NV</td>\n",
       "      <td>business</td>\n",
       "    </tr>\n",
       "    <tr>\n",
       "      <th>cSYSUZ3YbwR_RTughnoy5A</th>\n",
       "      <td>{'Wheelchair Accessible': True, 'Accepts Credi...</td>\n",
       "      <td>cSYSUZ3YbwR_RTughnoy5A</td>\n",
       "      <td>[Shopping Centers, Shopping]</td>\n",
       "      <td>Phoenix</td>\n",
       "      <td>9617 N Metro Pkwy W\\nPhoenix, AZ 85051</td>\n",
       "      <td>{'Sunday': {'close': '18:00', 'open': '11:00'}...</td>\n",
       "      <td>33.576494</td>\n",
       "      <td>-112.120861</td>\n",
       "      <td>Metrocenter Mall</td>\n",
       "      <td>[]</td>\n",
       "      <td>True</td>\n",
       "      <td>125</td>\n",
       "      <td>2.0</td>\n",
       "      <td>AZ</td>\n",
       "      <td>business</td>\n",
       "    </tr>\n",
       "    <tr>\n",
       "      <th>PEyRw3HOWcDnd2XHRLq5RQ</th>\n",
       "      <td>{'Good for Kids': False}</td>\n",
       "      <td>PEyRw3HOWcDnd2XHRLq5RQ</td>\n",
       "      <td>[Arts &amp; Entertainment, Festivals]</td>\n",
       "      <td>Glendale</td>\n",
       "      <td>5812 W Glendale Ave\\nGlendale, AZ 85301</td>\n",
       "      <td>{}</td>\n",
       "      <td>33.539228</td>\n",
       "      <td>-112.184329</td>\n",
       "      <td>Glendale's Best Street Food Festival</td>\n",
       "      <td>[]</td>\n",
       "      <td>True</td>\n",
       "      <td>49</td>\n",
       "      <td>1.5</td>\n",
       "      <td>AZ</td>\n",
       "      <td>business</td>\n",
       "    </tr>\n",
       "    <tr>\n",
       "      <th>3e9IUI5Dt-ktDKEQNkENVA</th>\n",
       "      <td>{'Price Range': 1, 'Wheelchair Accessible': Tr...</td>\n",
       "      <td>3e9IUI5Dt-ktDKEQNkENVA</td>\n",
       "      <td>[Food, Department Stores, Grocery, Fashion, Sh...</td>\n",
       "      <td>Phoenix</td>\n",
       "      <td>3721 E Thomas Rd\\nPhoenix, AZ 85018</td>\n",
       "      <td>{}</td>\n",
       "      <td>33.479007</td>\n",
       "      <td>-112.000813</td>\n",
       "      <td>Walmart Supercenter</td>\n",
       "      <td>[]</td>\n",
       "      <td>True</td>\n",
       "      <td>100</td>\n",
       "      <td>1.5</td>\n",
       "      <td>AZ</td>\n",
       "      <td>business</td>\n",
       "    </tr>\n",
       "    <tr>\n",
       "      <th>GQ6bCvYZxdGY6ZQyeZFeVg</th>\n",
       "      <td>{'Accepts Credit Cards': True, 'By Appointment...</td>\n",
       "      <td>GQ6bCvYZxdGY6ZQyeZFeVg</td>\n",
       "      <td>[Professional Services, Television Service Pro...</td>\n",
       "      <td>Las Vegas</td>\n",
       "      <td>1700 Vegas Dr\\nLas Vegas, NV 89106</td>\n",
       "      <td>{'Wednesday': {'close': '21:00', 'open': '07:0...</td>\n",
       "      <td>36.189293</td>\n",
       "      <td>-115.162965</td>\n",
       "      <td>Cox Communications</td>\n",
       "      <td>[]</td>\n",
       "      <td>True</td>\n",
       "      <td>253</td>\n",
       "      <td>1.5</td>\n",
       "      <td>NV</td>\n",
       "      <td>business</td>\n",
       "    </tr>\n",
       "    <tr>\n",
       "      <th>UuBZkKnckkRmYt3jFn2gaQ</th>\n",
       "      <td>{'Noise Level': 'loud', 'Ambience': {'casual':...</td>\n",
       "      <td>UuBZkKnckkRmYt3jFn2gaQ</td>\n",
       "      <td>[Casinos, Arts &amp; Entertainment, American (New)...</td>\n",
       "      <td>Las Vegas</td>\n",
       "      <td>Circus Circus Las Vegas\\n2800 Las Vegas Blvd S...</td>\n",
       "      <td>{'Sunday': {'close': '21:00', 'open': '16:30'}...</td>\n",
       "      <td>36.137667</td>\n",
       "      <td>-115.164659</td>\n",
       "      <td>Circus Buffet</td>\n",
       "      <td>[The Strip]</td>\n",
       "      <td>True</td>\n",
       "      <td>272</td>\n",
       "      <td>2.0</td>\n",
       "      <td>NV</td>\n",
       "      <td>business</td>\n",
       "    </tr>\n",
       "    <tr>\n",
       "      <th>CJ8IURVsHxTIu2Kzp2Kumw</th>\n",
       "      <td>{'Noise Level': 'average', 'Ambience': {'casua...</td>\n",
       "      <td>CJ8IURVsHxTIu2Kzp2Kumw</td>\n",
       "      <td>[Buffets, Restaurants]</td>\n",
       "      <td>Las Vegas</td>\n",
       "      <td>Imperial Palace Hotel &amp; Casino\\n3535 Las Vegas...</td>\n",
       "      <td>{'Sunday': {'close': '21:00', 'open': '07:00'}...</td>\n",
       "      <td>36.118346</td>\n",
       "      <td>-115.170129</td>\n",
       "      <td>Emperor's Buffet</td>\n",
       "      <td>[The Strip]</td>\n",
       "      <td>False</td>\n",
       "      <td>57</td>\n",
       "      <td>1.5</td>\n",
       "      <td>NV</td>\n",
       "      <td>business</td>\n",
       "    </tr>\n",
       "    <tr>\n",
       "      <th>inDYSqSDMyrfBhOZc702rw</th>\n",
       "      <td>{'Accepts Credit Cards': True, 'By Appointment...</td>\n",
       "      <td>inDYSqSDMyrfBhOZc702rw</td>\n",
       "      <td>[Professional Services, Television Service Pro...</td>\n",
       "      <td>Phoenix</td>\n",
       "      <td>Phoenix, AZ 85027</td>\n",
       "      <td>{'Sunday': {'close': '00:00', 'open': '00:00'}...</td>\n",
       "      <td>33.678238</td>\n",
       "      <td>-112.101291</td>\n",
       "      <td>Cox Communications</td>\n",
       "      <td>[]</td>\n",
       "      <td>True</td>\n",
       "      <td>517</td>\n",
       "      <td>1.5</td>\n",
       "      <td>AZ</td>\n",
       "      <td>business</td>\n",
       "    </tr>\n",
       "  </tbody>\n",
       "</table>\n",
       "<p>7235 rows × 15 columns</p>\n",
       "</div>"
      ],
      "text/plain": [
       "                                                               attributes  \\\n",
       "business_id                                                                 \n",
       "lliksv-tglfUz1T3B3vgvA  {'Noise Level': 'average', 'Ambience': {'casua...   \n",
       "mQde7KRomOQoUyPGTqeXhA                                                 {}   \n",
       "GmzpzmxinfLMw5OXQKFEBQ  {'Noise Level': 'average', 'Ambience': {'casua...   \n",
       "CZBYYCb4xBwNlSIYNc6Eiw  {'Accepts Credit Cards': True, 'Parking': {'st...   \n",
       "AtjsjFzalWqJ7S9DUFQ4bw  {'Noise Level': 'very_loud', 'Ambience': {'cas...   \n",
       "nYer89hXYAoddMEKTxw7kA                           {'Good for Kids': False}   \n",
       "qrjPKkSPzodIfP0kW1mtEw  {'Price Range': 2, 'Wheelchair Accessible': Tr...   \n",
       "qcF6SHcGRML7gihfpNl_zA  {'Wheelchair Accessible': True, 'Parking': {'s...   \n",
       "84NQRcMC0ldIC86yRw0vpA  {'Price Range': 1, 'Wheelchair Accessible': Tr...   \n",
       "9ylfrWjdX6CltGs_Qcv7Ng  {'Parking': {'street': False, 'validated': Fal...   \n",
       "a-VGlZ06IaFTCX0vd0xm-A                                                 {}   \n",
       "Y_P4hdBnB5TZD3-nsi9-jQ                     {'Accepts Credit Cards': True}   \n",
       "cA9cTalUXibyWZZYjh-kiQ  {'Accepts Credit Cards': True, 'By Appointment...   \n",
       "_tYT5_N3zCwrpkdfVhqrnw  {'Wheelchair Accessible': True, 'Accepts Credi...   \n",
       "f8luua75t2Is5iP6nxcXQQ  {'Price Range': 1, 'Wheelchair Accessible': Tr...   \n",
       "OwBPjUz2o0J5K3DzcHkBtg  {'Noise Level': 'average', 'Ambience': {'casua...   \n",
       "4bnLfKXorJ9HVmt7Oc8lcw                           {'Good for Kids': False}   \n",
       "QBHcPkoRsPb68Oq7zRj44A  {'Noise Level': 'average', 'Ambience': {'casua...   \n",
       "JXUX_oiCrfHm6b1sbqQd7A  {'Noise Level': 'quiet', 'Ambience': {'casual'...   \n",
       "1hY0Q3BYDq6CJDQay2xRQA  {'Wheelchair Accessible': True, 'Accepts Credi...   \n",
       "Us-93TD-lG_kVJzDPvmppw                     {'Accepts Credit Cards': True}   \n",
       "3AoCAj24yffBkl1vh9lkuQ  {'Wheelchair Accessible': True, 'Accepts Credi...   \n",
       "hrnvVr3hmb2oD3oUnJrNSw  {'Noise Level': 'average', 'Coat Check': True,...   \n",
       "RHIIMuvu6xPNHxtZv_QWHg  {'Accepts Credit Cards': True, 'Wi-Fi': 'paid'...   \n",
       "QnAzW6KMSciUcuJ20oI3Bw  {'Noise Level': 'average', 'Ambience': {'casua...   \n",
       "8clKtz2RxFRDLnzZwMgA4w                                                 {}   \n",
       "Q9pYlR8ckKpbLe1fn8apGg                     {'Accepts Credit Cards': True}   \n",
       "RPDbyZWiN_ayXevgko0zOA  {'Noise Level': 'average', 'Ambience': {'casua...   \n",
       "02CV16hndzI60LuI2kDkOA  {'Accepts Credit Cards': True, 'By Appointment...   \n",
       "b7GM0x9zZU5gq1aXErUf7Q  {'Noise Level': 'quiet', 'Ambience': {'casual'...   \n",
       "...                                                                   ...   \n",
       "siatNcf5O_vH0sL6OdvYLQ  {'Accepts Credit Cards': True, 'Price Range': ...   \n",
       "dNyjWz6CnYvrhPnpqNV5NA                            {'Good for Kids': True}   \n",
       "TmTB0Nel-U_zOr04OTUreA                     {'Accepts Credit Cards': True}   \n",
       "Ca_u-CVUEswSkdmW0oscvA                                                 {}   \n",
       "erBoatMp1TFi_NPxTigp6w  {'BYOB': False, 'Price Range': 2, 'Accepts Cre...   \n",
       "bdsKG7MQIMmZ73lgOaTZ0A  {'Noise Level': 'average', 'Ambience': {'casua...   \n",
       "EF5vR_UUavzPjtgMYFCg5Q  {'Noise Level': 'very_loud', 'Ambience': {'cas...   \n",
       "nIkJ9z9GM2mthq80s3l0Mg  {'Wheelchair Accessible': True, 'Accepts Credi...   \n",
       "qdCbbg7FyD6mzf0L_g64uA  {'Noise Level': 'average', 'Ambience': {'casua...   \n",
       "6sqAj_mXmYkZ3UKsyRGGHQ  {'Noise Level': 'average', 'Ambience': {'casua...   \n",
       "aEol06ruyQJZYlDMPJGfUg  {'Wheelchair Accessible': True, 'Alcohol': 'no...   \n",
       "8z-v_pn00BcnrWs9bacYUQ  {'Accepts Credit Cards': True, 'Wi-Fi': 'paid'...   \n",
       "_G5pDGRJL0mhLRgIViW2sA  {'Alcohol': 'full_bar', 'Price Range': 3, 'Whe...   \n",
       "67-DcR8Npwuc9lRph194cw  {'Noise Level': 'very_loud', 'Ambience': {'cas...   \n",
       "XoitWJUjHcdBl9GqHTsdjw  {'Noise Level': 'average', 'Ambience': {'casua...   \n",
       "26ecLqpDHrB3socZGfDuhQ                                                 {}   \n",
       "lRALdho4l9cpiw9WdGkV1A                                                 {}   \n",
       "K5kU2IN6mXvMo-Cx0oQFZg  {'Noise Level': 'loud', 'Ambience': {'casual':...   \n",
       "KVYSUfN89b-nih-_9HhF6g  {'Noise Level': 'very_loud', 'Ambience': {'cas...   \n",
       "0InQd9vuhRc98OksC3Ks8Q  {'Noise Level': 'average', 'Ambience': {'casua...   \n",
       "gnafBL9EZE1kn0xD7Yf3_w                           {'Good for Kids': False}   \n",
       "vKtMsWeAaThimXGo9Ic_Og                     {'Accepts Credit Cards': True}   \n",
       "wyqwO4ZqZyRR6pGk1pTBrA                                                 {}   \n",
       "cSYSUZ3YbwR_RTughnoy5A  {'Wheelchair Accessible': True, 'Accepts Credi...   \n",
       "PEyRw3HOWcDnd2XHRLq5RQ                           {'Good for Kids': False}   \n",
       "3e9IUI5Dt-ktDKEQNkENVA  {'Price Range': 1, 'Wheelchair Accessible': Tr...   \n",
       "GQ6bCvYZxdGY6ZQyeZFeVg  {'Accepts Credit Cards': True, 'By Appointment...   \n",
       "UuBZkKnckkRmYt3jFn2gaQ  {'Noise Level': 'loud', 'Ambience': {'casual':...   \n",
       "CJ8IURVsHxTIu2Kzp2Kumw  {'Noise Level': 'average', 'Ambience': {'casua...   \n",
       "inDYSqSDMyrfBhOZc702rw  {'Accepts Credit Cards': True, 'By Appointment...   \n",
       "\n",
       "                                   business_id  \\\n",
       "business_id                                      \n",
       "lliksv-tglfUz1T3B3vgvA  lliksv-tglfUz1T3B3vgvA   \n",
       "mQde7KRomOQoUyPGTqeXhA  mQde7KRomOQoUyPGTqeXhA   \n",
       "GmzpzmxinfLMw5OXQKFEBQ  GmzpzmxinfLMw5OXQKFEBQ   \n",
       "CZBYYCb4xBwNlSIYNc6Eiw  CZBYYCb4xBwNlSIYNc6Eiw   \n",
       "AtjsjFzalWqJ7S9DUFQ4bw  AtjsjFzalWqJ7S9DUFQ4bw   \n",
       "nYer89hXYAoddMEKTxw7kA  nYer89hXYAoddMEKTxw7kA   \n",
       "qrjPKkSPzodIfP0kW1mtEw  qrjPKkSPzodIfP0kW1mtEw   \n",
       "qcF6SHcGRML7gihfpNl_zA  qcF6SHcGRML7gihfpNl_zA   \n",
       "84NQRcMC0ldIC86yRw0vpA  84NQRcMC0ldIC86yRw0vpA   \n",
       "9ylfrWjdX6CltGs_Qcv7Ng  9ylfrWjdX6CltGs_Qcv7Ng   \n",
       "a-VGlZ06IaFTCX0vd0xm-A  a-VGlZ06IaFTCX0vd0xm-A   \n",
       "Y_P4hdBnB5TZD3-nsi9-jQ  Y_P4hdBnB5TZD3-nsi9-jQ   \n",
       "cA9cTalUXibyWZZYjh-kiQ  cA9cTalUXibyWZZYjh-kiQ   \n",
       "_tYT5_N3zCwrpkdfVhqrnw  _tYT5_N3zCwrpkdfVhqrnw   \n",
       "f8luua75t2Is5iP6nxcXQQ  f8luua75t2Is5iP6nxcXQQ   \n",
       "OwBPjUz2o0J5K3DzcHkBtg  OwBPjUz2o0J5K3DzcHkBtg   \n",
       "4bnLfKXorJ9HVmt7Oc8lcw  4bnLfKXorJ9HVmt7Oc8lcw   \n",
       "QBHcPkoRsPb68Oq7zRj44A  QBHcPkoRsPb68Oq7zRj44A   \n",
       "JXUX_oiCrfHm6b1sbqQd7A  JXUX_oiCrfHm6b1sbqQd7A   \n",
       "1hY0Q3BYDq6CJDQay2xRQA  1hY0Q3BYDq6CJDQay2xRQA   \n",
       "Us-93TD-lG_kVJzDPvmppw  Us-93TD-lG_kVJzDPvmppw   \n",
       "3AoCAj24yffBkl1vh9lkuQ  3AoCAj24yffBkl1vh9lkuQ   \n",
       "hrnvVr3hmb2oD3oUnJrNSw  hrnvVr3hmb2oD3oUnJrNSw   \n",
       "RHIIMuvu6xPNHxtZv_QWHg  RHIIMuvu6xPNHxtZv_QWHg   \n",
       "QnAzW6KMSciUcuJ20oI3Bw  QnAzW6KMSciUcuJ20oI3Bw   \n",
       "8clKtz2RxFRDLnzZwMgA4w  8clKtz2RxFRDLnzZwMgA4w   \n",
       "Q9pYlR8ckKpbLe1fn8apGg  Q9pYlR8ckKpbLe1fn8apGg   \n",
       "RPDbyZWiN_ayXevgko0zOA  RPDbyZWiN_ayXevgko0zOA   \n",
       "02CV16hndzI60LuI2kDkOA  02CV16hndzI60LuI2kDkOA   \n",
       "b7GM0x9zZU5gq1aXErUf7Q  b7GM0x9zZU5gq1aXErUf7Q   \n",
       "...                                        ...   \n",
       "siatNcf5O_vH0sL6OdvYLQ  siatNcf5O_vH0sL6OdvYLQ   \n",
       "dNyjWz6CnYvrhPnpqNV5NA  dNyjWz6CnYvrhPnpqNV5NA   \n",
       "TmTB0Nel-U_zOr04OTUreA  TmTB0Nel-U_zOr04OTUreA   \n",
       "Ca_u-CVUEswSkdmW0oscvA  Ca_u-CVUEswSkdmW0oscvA   \n",
       "erBoatMp1TFi_NPxTigp6w  erBoatMp1TFi_NPxTigp6w   \n",
       "bdsKG7MQIMmZ73lgOaTZ0A  bdsKG7MQIMmZ73lgOaTZ0A   \n",
       "EF5vR_UUavzPjtgMYFCg5Q  EF5vR_UUavzPjtgMYFCg5Q   \n",
       "nIkJ9z9GM2mthq80s3l0Mg  nIkJ9z9GM2mthq80s3l0Mg   \n",
       "qdCbbg7FyD6mzf0L_g64uA  qdCbbg7FyD6mzf0L_g64uA   \n",
       "6sqAj_mXmYkZ3UKsyRGGHQ  6sqAj_mXmYkZ3UKsyRGGHQ   \n",
       "aEol06ruyQJZYlDMPJGfUg  aEol06ruyQJZYlDMPJGfUg   \n",
       "8z-v_pn00BcnrWs9bacYUQ  8z-v_pn00BcnrWs9bacYUQ   \n",
       "_G5pDGRJL0mhLRgIViW2sA  _G5pDGRJL0mhLRgIViW2sA   \n",
       "67-DcR8Npwuc9lRph194cw  67-DcR8Npwuc9lRph194cw   \n",
       "XoitWJUjHcdBl9GqHTsdjw  XoitWJUjHcdBl9GqHTsdjw   \n",
       "26ecLqpDHrB3socZGfDuhQ  26ecLqpDHrB3socZGfDuhQ   \n",
       "lRALdho4l9cpiw9WdGkV1A  lRALdho4l9cpiw9WdGkV1A   \n",
       "K5kU2IN6mXvMo-Cx0oQFZg  K5kU2IN6mXvMo-Cx0oQFZg   \n",
       "KVYSUfN89b-nih-_9HhF6g  KVYSUfN89b-nih-_9HhF6g   \n",
       "0InQd9vuhRc98OksC3Ks8Q  0InQd9vuhRc98OksC3Ks8Q   \n",
       "gnafBL9EZE1kn0xD7Yf3_w  gnafBL9EZE1kn0xD7Yf3_w   \n",
       "vKtMsWeAaThimXGo9Ic_Og  vKtMsWeAaThimXGo9Ic_Og   \n",
       "wyqwO4ZqZyRR6pGk1pTBrA  wyqwO4ZqZyRR6pGk1pTBrA   \n",
       "cSYSUZ3YbwR_RTughnoy5A  cSYSUZ3YbwR_RTughnoy5A   \n",
       "PEyRw3HOWcDnd2XHRLq5RQ  PEyRw3HOWcDnd2XHRLq5RQ   \n",
       "3e9IUI5Dt-ktDKEQNkENVA  3e9IUI5Dt-ktDKEQNkENVA   \n",
       "GQ6bCvYZxdGY6ZQyeZFeVg  GQ6bCvYZxdGY6ZQyeZFeVg   \n",
       "UuBZkKnckkRmYt3jFn2gaQ  UuBZkKnckkRmYt3jFn2gaQ   \n",
       "CJ8IURVsHxTIu2Kzp2Kumw  CJ8IURVsHxTIu2Kzp2Kumw   \n",
       "inDYSqSDMyrfBhOZc702rw  inDYSqSDMyrfBhOZc702rw   \n",
       "\n",
       "                                                               categories  \\\n",
       "business_id                                                                 \n",
       "lliksv-tglfUz1T3B3vgvA                                [Thai, Restaurants]   \n",
       "mQde7KRomOQoUyPGTqeXhA  [Animal Shelters, Veterinarians, Pet Stores, P...   \n",
       "GmzpzmxinfLMw5OXQKFEBQ                            [Barbeque, Restaurants]   \n",
       "CZBYYCb4xBwNlSIYNc6Eiw                              [Active Life, Hiking]   \n",
       "AtjsjFzalWqJ7S9DUFQ4bw  [Hotels & Travel, Arts & Entertainment, Casino...   \n",
       "nYer89hXYAoddMEKTxw7kA                        [Yelp Events, Local Flavor]   \n",
       "qrjPKkSPzodIfP0kW1mtEw  [Hair Salons, Skin Care, Hair Removal, Beauty ...   \n",
       "qcF6SHcGRML7gihfpNl_zA  [Skin Care, Threading Services, Laser Hair Rem...   \n",
       "84NQRcMC0ldIC86yRw0vpA  [Food, Ice Cream & Frozen Yogurt, Gelato, Dess...   \n",
       "9ylfrWjdX6CltGs_Qcv7Ng  [Active Life, Arts & Entertainment, Stadiums &...   \n",
       "a-VGlZ06IaFTCX0vd0xm-A                [Churches, Religious Organizations]   \n",
       "Y_P4hdBnB5TZD3-nsi9-jQ                              [Automotive, Parking]   \n",
       "cA9cTalUXibyWZZYjh-kiQ  [Local Services, Damage Restoration, Air Duct ...   \n",
       "_tYT5_N3zCwrpkdfVhqrnw  [Paint & Sip, Art Classes, Arts & Entertainmen...   \n",
       "f8luua75t2Is5iP6nxcXQQ                  [Food, Ice Cream & Frozen Yogurt]   \n",
       "OwBPjUz2o0J5K3DzcHkBtg                [Sushi Bars, Japanese, Restaurants]   \n",
       "4bnLfKXorJ9HVmt7Oc8lcw                                     [Local Flavor]   \n",
       "QBHcPkoRsPb68Oq7zRj44A          [Food, Desserts, Shaved Ice, Food Trucks]   \n",
       "JXUX_oiCrfHm6b1sbqQd7A                                       [Food, Poke]   \n",
       "1hY0Q3BYDq6CJDQay2xRQA  [Health Markets, Food, Shopping, Vitamins & Su...   \n",
       "Us-93TD-lG_kVJzDPvmppw                  [Local Services, Carpet Cleaning]   \n",
       "3AoCAj24yffBkl1vh9lkuQ  [Automotive, Auto Customization, Auto Glass Se...   \n",
       "hrnvVr3hmb2oD3oUnJrNSw  [Arts & Entertainment, Performing Arts, Music ...   \n",
       "RHIIMuvu6xPNHxtZv_QWHg  [Hotels & Travel, Event Planning & Services, V...   \n",
       "QnAzW6KMSciUcuJ20oI3Bw  [American (Traditional), Pizza, Salad, Restaur...   \n",
       "8clKtz2RxFRDLnzZwMgA4w     [Pet Services, Pet Boarding/Pet Sitting, Pets]   \n",
       "Q9pYlR8ckKpbLe1fn8apGg                          [Auto Repair, Automotive]   \n",
       "RPDbyZWiN_ayXevgko0zOA                    [Korean, Barbeque, Restaurants]   \n",
       "02CV16hndzI60LuI2kDkOA  [Movers, Local Services, Home Services, Self S...   \n",
       "b7GM0x9zZU5gq1aXErUf7Q  [Bakeries, Food, Cafes, Chocolatiers & Shops, ...   \n",
       "...                                                                   ...   \n",
       "siatNcf5O_vH0sL6OdvYLQ                       [Shopping Centers, Shopping]   \n",
       "dNyjWz6CnYvrhPnpqNV5NA                  [Arts & Entertainment, Festivals]   \n",
       "TmTB0Nel-U_zOr04OTUreA  [Local Services, Shipping Centers, Post Office...   \n",
       "Ca_u-CVUEswSkdmW0oscvA                      [Hotels & Travel, Car Rental]   \n",
       "erBoatMp1TFi_NPxTigp6w                             [Mexican, Restaurants]   \n",
       "bdsKG7MQIMmZ73lgOaTZ0A                        [Asian Fusion, Restaurants]   \n",
       "EF5vR_UUavzPjtgMYFCg5Q                             [Mexican, Restaurants]   \n",
       "nIkJ9z9GM2mthq80s3l0Mg  [Food, Department Stores, Grocery, Fashion, Sh...   \n",
       "qdCbbg7FyD6mzf0L_g64uA   [Burgers, Fast Food, Chicken Wings, Restaurants]   \n",
       "6sqAj_mXmYkZ3UKsyRGGHQ  [Hotels & Travel, Arts & Entertainment, Casino...   \n",
       "aEol06ruyQJZYlDMPJGfUg                                   [Bakeries, Food]   \n",
       "8z-v_pn00BcnrWs9bacYUQ  [Hotels & Travel, Arts & Entertainment, Casino...   \n",
       "_G5pDGRJL0mhLRgIViW2sA            [Arts & Entertainment, Performing Arts]   \n",
       "67-DcR8Npwuc9lRph194cw  [Arts & Entertainment, Restaurants, Festivals,...   \n",
       "XoitWJUjHcdBl9GqHTsdjw    [American (Traditional), Southern, Restaurants]   \n",
       "26ecLqpDHrB3socZGfDuhQ  [Hotels & Travel, Travel Services, Tours, Tran...   \n",
       "lRALdho4l9cpiw9WdGkV1A        [Hotels & Travel, Airlines, Transportation]   \n",
       "K5kU2IN6mXvMo-Cx0oQFZg                             [Mexican, Restaurants]   \n",
       "KVYSUfN89b-nih-_9HhF6g  [Bars, American (New), Nightlife, Dance Clubs,...   \n",
       "0InQd9vuhRc98OksC3Ks8Q     [American (Traditional), Buffets, Restaurants]   \n",
       "gnafBL9EZE1kn0xD7Yf3_w            [Arts & Entertainment, Performing Arts]   \n",
       "vKtMsWeAaThimXGo9Ic_Og  [Professional Services, Home Services, Home Au...   \n",
       "wyqwO4ZqZyRR6pGk1pTBrA                      [Hotels & Travel, Car Rental]   \n",
       "cSYSUZ3YbwR_RTughnoy5A                       [Shopping Centers, Shopping]   \n",
       "PEyRw3HOWcDnd2XHRLq5RQ                  [Arts & Entertainment, Festivals]   \n",
       "3e9IUI5Dt-ktDKEQNkENVA  [Food, Department Stores, Grocery, Fashion, Sh...   \n",
       "GQ6bCvYZxdGY6ZQyeZFeVg  [Professional Services, Television Service Pro...   \n",
       "UuBZkKnckkRmYt3jFn2gaQ  [Casinos, Arts & Entertainment, American (New)...   \n",
       "CJ8IURVsHxTIu2Kzp2Kumw                             [Buffets, Restaurants]   \n",
       "inDYSqSDMyrfBhOZc702rw  [Professional Services, Television Service Pro...   \n",
       "\n",
       "                                   city  \\\n",
       "business_id                               \n",
       "lliksv-tglfUz1T3B3vgvA        Las Vegas   \n",
       "mQde7KRomOQoUyPGTqeXhA          Phoenix   \n",
       "GmzpzmxinfLMw5OXQKFEBQ          Phoenix   \n",
       "CZBYYCb4xBwNlSIYNc6Eiw  Apache Junction   \n",
       "AtjsjFzalWqJ7S9DUFQ4bw        Las Vegas   \n",
       "nYer89hXYAoddMEKTxw7kA          Phoenix   \n",
       "qrjPKkSPzodIfP0kW1mtEw       Scottsdale   \n",
       "qcF6SHcGRML7gihfpNl_zA        Las Vegas   \n",
       "84NQRcMC0ldIC86yRw0vpA             Mesa   \n",
       "9ylfrWjdX6CltGs_Qcv7Ng       Pittsburgh   \n",
       "a-VGlZ06IaFTCX0vd0xm-A        Henderson   \n",
       "Y_P4hdBnB5TZD3-nsi9-jQ          Phoenix   \n",
       "cA9cTalUXibyWZZYjh-kiQ        Las Vegas   \n",
       "_tYT5_N3zCwrpkdfVhqrnw       Scottsdale   \n",
       "f8luua75t2Is5iP6nxcXQQ         Goodyear   \n",
       "OwBPjUz2o0J5K3DzcHkBtg        Las Vegas   \n",
       "4bnLfKXorJ9HVmt7Oc8lcw          Phoenix   \n",
       "QBHcPkoRsPb68Oq7zRj44A        Henderson   \n",
       "JXUX_oiCrfHm6b1sbqQd7A  North Las Vegas   \n",
       "1hY0Q3BYDq6CJDQay2xRQA        Las Vegas   \n",
       "Us-93TD-lG_kVJzDPvmppw          Phoenix   \n",
       "3AoCAj24yffBkl1vh9lkuQ        Las Vegas   \n",
       "hrnvVr3hmb2oD3oUnJrNSw            Tempe   \n",
       "RHIIMuvu6xPNHxtZv_QWHg        Las Vegas   \n",
       "QnAzW6KMSciUcuJ20oI3Bw          Gilbert   \n",
       "8clKtz2RxFRDLnzZwMgA4w        Las Vegas   \n",
       "Q9pYlR8ckKpbLe1fn8apGg        Las Vegas   \n",
       "RPDbyZWiN_ayXevgko0zOA        Las Vegas   \n",
       "02CV16hndzI60LuI2kDkOA          Phoenix   \n",
       "b7GM0x9zZU5gq1aXErUf7Q          Phoenix   \n",
       "...                                 ...   \n",
       "siatNcf5O_vH0sL6OdvYLQ          Phoenix   \n",
       "dNyjWz6CnYvrhPnpqNV5NA       Scottsdale   \n",
       "TmTB0Nel-U_zOr04OTUreA        Las Vegas   \n",
       "Ca_u-CVUEswSkdmW0oscvA        Las Vegas   \n",
       "erBoatMp1TFi_NPxTigp6w       Scottsdale   \n",
       "bdsKG7MQIMmZ73lgOaTZ0A        Las Vegas   \n",
       "EF5vR_UUavzPjtgMYFCg5Q        Las Vegas   \n",
       "nIkJ9z9GM2mthq80s3l0Mg          Phoenix   \n",
       "qdCbbg7FyD6mzf0L_g64uA        Las Vegas   \n",
       "6sqAj_mXmYkZ3UKsyRGGHQ        Las Vegas   \n",
       "aEol06ruyQJZYlDMPJGfUg        Las Vegas   \n",
       "8z-v_pn00BcnrWs9bacYUQ        Las Vegas   \n",
       "_G5pDGRJL0mhLRgIViW2sA        Las Vegas   \n",
       "67-DcR8Npwuc9lRph194cw        Las Vegas   \n",
       "XoitWJUjHcdBl9GqHTsdjw        Las Vegas   \n",
       "26ecLqpDHrB3socZGfDuhQ        Las Vegas   \n",
       "lRALdho4l9cpiw9WdGkV1A             Mesa   \n",
       "K5kU2IN6mXvMo-Cx0oQFZg         Glendale   \n",
       "KVYSUfN89b-nih-_9HhF6g         Glendale   \n",
       "0InQd9vuhRc98OksC3Ks8Q        Las Vegas   \n",
       "gnafBL9EZE1kn0xD7Yf3_w        Las Vegas   \n",
       "vKtMsWeAaThimXGo9Ic_Og        Charlotte   \n",
       "wyqwO4ZqZyRR6pGk1pTBrA        Las Vegas   \n",
       "cSYSUZ3YbwR_RTughnoy5A          Phoenix   \n",
       "PEyRw3HOWcDnd2XHRLq5RQ         Glendale   \n",
       "3e9IUI5Dt-ktDKEQNkENVA          Phoenix   \n",
       "GQ6bCvYZxdGY6ZQyeZFeVg        Las Vegas   \n",
       "UuBZkKnckkRmYt3jFn2gaQ        Las Vegas   \n",
       "CJ8IURVsHxTIu2Kzp2Kumw        Las Vegas   \n",
       "inDYSqSDMyrfBhOZc702rw          Phoenix   \n",
       "\n",
       "                                                             full_address  \\\n",
       "business_id                                                                 \n",
       "lliksv-tglfUz1T3B3vgvA  953 E Sahara Ave\\nSte A5\\nEastside\\nLas Vegas,...   \n",
       "mQde7KRomOQoUyPGTqeXhA               1521 W Dobbins Rd\\nPhoenix, AZ 85041   \n",
       "GmzpzmxinfLMw5OXQKFEBQ            4301 E University Dr\\nPhoenix, AZ 85034   \n",
       "CZBYYCb4xBwNlSIYNc6Eiw    6109 N. Apache Trail\\nApache Junction, AZ 85219   \n",
       "AtjsjFzalWqJ7S9DUFQ4bw  3708 Las Vegas Blvd S\\nThe Strip\\nLas Vegas, N...   \n",
       "nYer89hXYAoddMEKTxw7kA           FilmBar\\n815 N 2nd St\\nPhoenix, AZ 85004   \n",
       "qrjPKkSPzodIfP0kW1mtEw  4328 N Wells Fargo Ave\\nSte 2\\nScottsdale, AZ ...   \n",
       "qcF6SHcGRML7gihfpNl_zA  2960 S Durango Dr\\nSte 112\\nWestside\\nLas Vega...   \n",
       "84NQRcMC0ldIC86yRw0vpA           5251 E Brown Rd\\nSte 104\\nMesa, AZ 85205   \n",
       "9ylfrWjdX6CltGs_Qcv7Ng   115 Federal St\\nNorth Side\\nPittsburgh, PA 15272   \n",
       "a-VGlZ06IaFTCX0vd0xm-A        1001 New Beginnings Dr\\nHenderson, NV 89011   \n",
       "Y_P4hdBnB5TZD3-nsi9-jQ                  3150 S 48th st\\nPhoenix, AZ 85040   \n",
       "cA9cTalUXibyWZZYjh-kiQ  8985 S Durango Dr\\nSouthwest\\nLas Vegas, NV 89113   \n",
       "_tYT5_N3zCwrpkdfVhqrnw          4165 N Craftsman Ct\\nScottsdale, AZ 85251   \n",
       "f8luua75t2Is5iP6nxcXQQ  14175 W Indian School Rd\\nSte A-5\\nGoodyear, A...   \n",
       "OwBPjUz2o0J5K3DzcHkBtg  7377 S Jones Blvd\\nSte 116\\nSouthwest\\nLas Veg...   \n",
       "4bnLfKXorJ9HVmt7Oc8lcw  La Grande Orange Bake Shop\\n4410 N 40th St\\nPh...   \n",
       "QBHcPkoRsPb68Oq7zRj44A             898 S Boulder Hwy\\nHenderson, NV 89015   \n",
       "JXUX_oiCrfHm6b1sbqQd7A  655 W Craig Rd\\nSte 118\\nNorth Las Vegas, NV 8...   \n",
       "1hY0Q3BYDq6CJDQay2xRQA  9680 S Eastern Ave\\nSte 120\\nSoutheast\\nLas Ve...   \n",
       "Us-93TD-lG_kVJzDPvmppw             5444 E Camelback Rd\\nPhoenix, AZ 85018   \n",
       "3AoCAj24yffBkl1vh9lkuQ    4510 W Diablo Dr\\nSte A102\\nLas Vegas, NV 89118   \n",
       "hrnvVr3hmb2oD3oUnJrNSw             700 W Rio Salado Pkwy\\nTempe, AZ 85281   \n",
       "RHIIMuvu6xPNHxtZv_QWHg  3752 Las Vegas Blvd S\\nThe Strip\\nLas Vegas, N...   \n",
       "QnAzW6KMSciUcuJ20oI3Bw           3000 E Ray Rd\\nBldg 1\\nGilbert, AZ 85296   \n",
       "8clKtz2RxFRDLnzZwMgA4w       5175 S Valley View Blvd\\nLas Vegas, NV 89118   \n",
       "Q9pYlR8ckKpbLe1fn8apGg  544 E Silverado Ranch Blvd\\nSte 104\\nSoutheast...   \n",
       "RPDbyZWiN_ayXevgko0zOA  5808 spring mountain rd\\nSte 101\\nChinatown\\nL...   \n",
       "02CV16hndzI60LuI2kDkOA                 2330 N 31st Ave\\nPhoenix, AZ 85009   \n",
       "b7GM0x9zZU5gq1aXErUf7Q  Biltmore Fashion Park\\n2502 E Camelback, Ste 1...   \n",
       "...                                                                   ...   \n",
       "siatNcf5O_vH0sL6OdvYLQ          1703 W Bethany Home Rd\\nPhoenix, AZ 85015   \n",
       "dNyjWz6CnYvrhPnpqNV5NA               7555 N Pima Rd\\nScottsdale, AZ 85258   \n",
       "TmTB0Nel-U_zOr04OTUreA    455 E Pebble Rd\\nSoutheast\\nLas Vegas, NV 89123   \n",
       "Ca_u-CVUEswSkdmW0oscvA  Mccarran Int'L Airport\\n7135 Gillespie Street\\...   \n",
       "erBoatMp1TFi_NPxTigp6w          7135 E Camelback Rd\\nScottsdale, AZ 85251   \n",
       "bdsKG7MQIMmZ73lgOaTZ0A  3545 Las Vegas Blvd S\\nThe Strip\\nLas Vegas, N...   \n",
       "EF5vR_UUavzPjtgMYFCg5Q  Flamingo Hotel\\n3555 Las Vegas Blvd S\\nThe Str...   \n",
       "nIkJ9z9GM2mthq80s3l0Mg          1607 W Bethany Home Rd\\nPhoenix, AZ 85015   \n",
       "qdCbbg7FyD6mzf0L_g64uA  7925 S Rainbow Blvd\\nSouthwest\\nLas Vegas, NV ...   \n",
       "6sqAj_mXmYkZ3UKsyRGGHQ     18 E Fremont St\\nDowntown\\nLas Vegas, NV 89101   \n",
       "aEol06ruyQJZYlDMPJGfUg  Downtown Summerlin\\n2010 Festival Plaza, 150\\n...   \n",
       "8z-v_pn00BcnrWs9bacYUQ  The Quad Las Vegas Resort & Casino\\n3535 S Las...   \n",
       "_G5pDGRJL0mhLRgIViW2sA  Luxor Las Vegas\\n3900 Las Vegas Blvd S\\nThe St...   \n",
       "67-DcR8Npwuc9lRph194cw                628 W Craig Rd\\nLas Vegas, NV 89032   \n",
       "XoitWJUjHcdBl9GqHTsdjw  6593 Las Vegas Blvd S\\nSoutheast\\nLas Vegas, N...   \n",
       "26ecLqpDHrB3socZGfDuhQ  1550 S Industrial Rd\\nDowntown\\nLas Vegas, NV ...   \n",
       "lRALdho4l9cpiw9WdGkV1A                 5835 S Sossaman Rd\\nMesa, AZ 85212   \n",
       "K5kU2IN6mXvMo-Cx0oQFZg  6770 N Sunrise Blvd\\nSte G109\\nGlendale, AZ 85303   \n",
       "KVYSUfN89b-nih-_9HhF6g            9425 W Coyotes Blvd\\nGlendale, AZ 85305   \n",
       "0InQd9vuhRc98OksC3Ks8Q  Excalibur Hotel Casino\\n3850 Las Vegas Blvd S\\...   \n",
       "gnafBL9EZE1kn0xD7Yf3_w  Treasure Island\\n3300 Las Vegas Blvd S\\nThe St...   \n",
       "vKtMsWeAaThimXGo9Ic_Og  316 E Morehead St\\nSouth End\\nCharlotte, NC 28203   \n",
       "wyqwO4ZqZyRR6pGk1pTBrA   7135 Gilespie St\\nSoutheast\\nLas Vegas, NV 89119   \n",
       "cSYSUZ3YbwR_RTughnoy5A             9617 N Metro Pkwy W\\nPhoenix, AZ 85051   \n",
       "PEyRw3HOWcDnd2XHRLq5RQ            5812 W Glendale Ave\\nGlendale, AZ 85301   \n",
       "3e9IUI5Dt-ktDKEQNkENVA                3721 E Thomas Rd\\nPhoenix, AZ 85018   \n",
       "GQ6bCvYZxdGY6ZQyeZFeVg                 1700 Vegas Dr\\nLas Vegas, NV 89106   \n",
       "UuBZkKnckkRmYt3jFn2gaQ  Circus Circus Las Vegas\\n2800 Las Vegas Blvd S...   \n",
       "CJ8IURVsHxTIu2Kzp2Kumw  Imperial Palace Hotel & Casino\\n3535 Las Vegas...   \n",
       "inDYSqSDMyrfBhOZc702rw                                  Phoenix, AZ 85027   \n",
       "\n",
       "                                                                    hours  \\\n",
       "business_id                                                                 \n",
       "lliksv-tglfUz1T3B3vgvA  {'Sunday': {'close': '22:00', 'open': '17:30'}...   \n",
       "mQde7KRomOQoUyPGTqeXhA  {'Sunday': {'close': '18:00', 'open': '11:00'}...   \n",
       "GmzpzmxinfLMw5OXQKFEBQ  {'Wednesday': {'close': '16:00', 'open': '11:0...   \n",
       "CZBYYCb4xBwNlSIYNc6Eiw                                                 {}   \n",
       "AtjsjFzalWqJ7S9DUFQ4bw  {'Sunday': {'close': '00:00', 'open': '00:00'}...   \n",
       "nYer89hXYAoddMEKTxw7kA                                                 {}   \n",
       "qrjPKkSPzodIfP0kW1mtEw  {'Sunday': {'close': '18:00', 'open': '10:00'}...   \n",
       "qcF6SHcGRML7gihfpNl_zA  {'Sunday': {'close': '18:00', 'open': '11:00'}...   \n",
       "84NQRcMC0ldIC86yRw0vpA  {'Sunday': {'close': '20:30', 'open': '14:00'}...   \n",
       "9ylfrWjdX6CltGs_Qcv7Ng                                                 {}   \n",
       "a-VGlZ06IaFTCX0vd0xm-A  {'Sunday': {'close': '15:00', 'open': '08:30'}...   \n",
       "Y_P4hdBnB5TZD3-nsi9-jQ  {'Sunday': {'close': '00:00', 'open': '00:00'}...   \n",
       "cA9cTalUXibyWZZYjh-kiQ  {'Sunday': {'close': '15:00', 'open': '10:00'}...   \n",
       "_tYT5_N3zCwrpkdfVhqrnw  {'Sunday': {'close': '14:00', 'open': '10:00'}...   \n",
       "f8luua75t2Is5iP6nxcXQQ  {'Wednesday': {'close': '22:00', 'open': '11:0...   \n",
       "OwBPjUz2o0J5K3DzcHkBtg  {'Wednesday': {'close': '22:00', 'open': '17:0...   \n",
       "4bnLfKXorJ9HVmt7Oc8lcw                                                 {}   \n",
       "QBHcPkoRsPb68Oq7zRj44A  {'Sunday': {'close': '20:00', 'open': '12:00'}...   \n",
       "JXUX_oiCrfHm6b1sbqQd7A  {'Sunday': {'close': '17:00', 'open': '10:00'}...   \n",
       "1hY0Q3BYDq6CJDQay2xRQA  {'Sunday': {'close': '21:00', 'open': '09:00'}...   \n",
       "Us-93TD-lG_kVJzDPvmppw  {'Sunday': {'close': '00:00', 'open': '00:00'}...   \n",
       "3AoCAj24yffBkl1vh9lkuQ  {'Monday': {'close': '18:30', 'open': '08:00'}...   \n",
       "hrnvVr3hmb2oD3oUnJrNSw  {'Wednesday': {'close': '18:00', 'open': '10:0...   \n",
       "RHIIMuvu6xPNHxtZv_QWHg  {'Sunday': {'close': '00:00', 'open': '00:00'}...   \n",
       "QnAzW6KMSciUcuJ20oI3Bw  {'Sunday': {'close': '21:00', 'open': '08:00'}...   \n",
       "8clKtz2RxFRDLnzZwMgA4w  {'Sunday': {'close': '19:00', 'open': '07:00'}...   \n",
       "Q9pYlR8ckKpbLe1fn8apGg  {'Monday': {'close': '17:00', 'open': '08:00'}...   \n",
       "RPDbyZWiN_ayXevgko0zOA  {'Sunday': {'close': '04:00', 'open': '11:30'}...   \n",
       "02CV16hndzI60LuI2kDkOA  {'Sunday': {'close': '17:30', 'open': '08:30'}...   \n",
       "b7GM0x9zZU5gq1aXErUf7Q  {'Sunday': {'close': '18:00', 'open': '12:00'}...   \n",
       "...                                                                   ...   \n",
       "siatNcf5O_vH0sL6OdvYLQ  {'Sunday': {'close': '18:00', 'open': '11:00'}...   \n",
       "dNyjWz6CnYvrhPnpqNV5NA                                                 {}   \n",
       "TmTB0Nel-U_zOr04OTUreA  {'Wednesday': {'close': '17:00', 'open': '08:3...   \n",
       "Ca_u-CVUEswSkdmW0oscvA                                                 {}   \n",
       "erBoatMp1TFi_NPxTigp6w                                                 {}   \n",
       "bdsKG7MQIMmZ73lgOaTZ0A  {'Sunday': {'close': '00:00', 'open': '12:00'}...   \n",
       "EF5vR_UUavzPjtgMYFCg5Q  {'Sunday': {'close': '02:00', 'open': '08:00'}...   \n",
       "nIkJ9z9GM2mthq80s3l0Mg                                                 {}   \n",
       "qdCbbg7FyD6mzf0L_g64uA                                                 {}   \n",
       "6sqAj_mXmYkZ3UKsyRGGHQ                                                 {}   \n",
       "aEol06ruyQJZYlDMPJGfUg  {'Sunday': {'close': '19:00', 'open': '11:00'}...   \n",
       "8z-v_pn00BcnrWs9bacYUQ  {'Sunday': {'close': '00:00', 'open': '00:00'}...   \n",
       "_G5pDGRJL0mhLRgIViW2sA  {'Sunday': {'close': '22:00', 'open': '12:00'}...   \n",
       "67-DcR8Npwuc9lRph194cw                                                 {}   \n",
       "XoitWJUjHcdBl9GqHTsdjw                                                 {}   \n",
       "26ecLqpDHrB3socZGfDuhQ  {'Sunday': {'close': '00:00', 'open': '00:00'}...   \n",
       "lRALdho4l9cpiw9WdGkV1A                                                 {}   \n",
       "K5kU2IN6mXvMo-Cx0oQFZg  {'Sunday': {'close': '02:00', 'open': '11:00'}...   \n",
       "KVYSUfN89b-nih-_9HhF6g  {'Sunday': {'close': '02:00', 'open': '11:00'}...   \n",
       "0InQd9vuhRc98OksC3Ks8Q  {'Sunday': {'close': '22:00', 'open': '07:00'}...   \n",
       "gnafBL9EZE1kn0xD7Yf3_w                                                 {}   \n",
       "vKtMsWeAaThimXGo9Ic_Og  {'Sunday': {'close': '18:00', 'open': '12:00'}...   \n",
       "wyqwO4ZqZyRR6pGk1pTBrA  {'Sunday': {'close': '00:00', 'open': '00:00'}...   \n",
       "cSYSUZ3YbwR_RTughnoy5A  {'Sunday': {'close': '18:00', 'open': '11:00'}...   \n",
       "PEyRw3HOWcDnd2XHRLq5RQ                                                 {}   \n",
       "3e9IUI5Dt-ktDKEQNkENVA                                                 {}   \n",
       "GQ6bCvYZxdGY6ZQyeZFeVg  {'Wednesday': {'close': '21:00', 'open': '07:0...   \n",
       "UuBZkKnckkRmYt3jFn2gaQ  {'Sunday': {'close': '21:00', 'open': '16:30'}...   \n",
       "CJ8IURVsHxTIu2Kzp2Kumw  {'Sunday': {'close': '21:00', 'open': '07:00'}...   \n",
       "inDYSqSDMyrfBhOZc702rw  {'Sunday': {'close': '00:00', 'open': '00:00'}...   \n",
       "\n",
       "                         latitude   longitude  \\\n",
       "business_id                                     \n",
       "lliksv-tglfUz1T3B3vgvA  36.143767 -115.140885   \n",
       "mQde7KRomOQoUyPGTqeXhA  33.362442 -112.092663   \n",
       "GmzpzmxinfLMw5OXQKFEBQ  33.421587 -111.989088   \n",
       "CZBYYCb4xBwNlSIYNc6Eiw  33.461401 -111.485730   \n",
       "AtjsjFzalWqJ7S9DUFQ4bw  36.109915 -115.174642   \n",
       "nYer89hXYAoddMEKTxw7kA  33.457106 -112.071074   \n",
       "qrjPKkSPzodIfP0kW1mtEw  33.499149 -111.923063   \n",
       "qcF6SHcGRML7gihfpNl_zA  36.135543 -115.277850   \n",
       "84NQRcMC0ldIC86yRw0vpA  33.437338 -111.717932   \n",
       "9ylfrWjdX6CltGs_Qcv7Ng  40.446899  -80.005687   \n",
       "a-VGlZ06IaFTCX0vd0xm-A  36.080529 -115.038136   \n",
       "Y_P4hdBnB5TZD3-nsi9-jQ  33.419917 -111.980971   \n",
       "cA9cTalUXibyWZZYjh-kiQ  36.025675 -115.279201   \n",
       "_tYT5_N3zCwrpkdfVhqrnw  33.496715 -111.927408   \n",
       "f8luua75t2Is5iP6nxcXQQ  33.484449 -112.364198   \n",
       "OwBPjUz2o0J5K3DzcHkBtg  36.055244 -115.225870   \n",
       "4bnLfKXorJ9HVmt7Oc8lcw  33.502139 -111.995748   \n",
       "QBHcPkoRsPb68Oq7zRj44A  36.025234 -114.965485   \n",
       "JXUX_oiCrfHm6b1sbqQd7A  36.238246 -115.150921   \n",
       "1hY0Q3BYDq6CJDQay2xRQA  36.013838 -115.117968   \n",
       "Us-93TD-lG_kVJzDPvmppw  33.501848 -111.964967   \n",
       "3AoCAj24yffBkl1vh9lkuQ  36.090223 -115.202364   \n",
       "hrnvVr3hmb2oD3oUnJrNSw  33.431771 -111.948574   \n",
       "RHIIMuvu6xPNHxtZv_QWHg  36.106212 -115.174213   \n",
       "QnAzW6KMSciUcuJ20oI3Bw  33.321062 -111.723919   \n",
       "8clKtz2RxFRDLnzZwMgA4w  36.095841 -115.190338   \n",
       "Q9pYlR8ckKpbLe1fn8apGg  36.013730 -115.151623   \n",
       "RPDbyZWiN_ayXevgko0zOA  36.126006 -115.222520   \n",
       "02CV16hndzI60LuI2kDkOA  33.474558 -112.126114   \n",
       "b7GM0x9zZU5gq1aXErUf7Q  33.508269 -112.031716   \n",
       "...                           ...         ...   \n",
       "siatNcf5O_vH0sL6OdvYLQ  33.522433 -112.096296   \n",
       "dNyjWz6CnYvrhPnpqNV5NA  33.546608 -111.890686   \n",
       "TmTB0Nel-U_zOr04OTUreA  36.027059 -115.153343   \n",
       "Ca_u-CVUEswSkdmW0oscvA  36.060061 -115.165044   \n",
       "erBoatMp1TFi_NPxTigp6w  33.501982 -111.927618   \n",
       "bdsKG7MQIMmZ73lgOaTZ0A  36.117748 -115.170475   \n",
       "EF5vR_UUavzPjtgMYFCg5Q  36.127615 -115.170364   \n",
       "nIkJ9z9GM2mthq80s3l0Mg  33.522307 -112.092979   \n",
       "qdCbbg7FyD6mzf0L_g64uA  36.044874 -115.243900   \n",
       "6sqAj_mXmYkZ3UKsyRGGHQ  36.172075 -115.145689   \n",
       "aEol06ruyQJZYlDMPJGfUg  36.154862 -115.331429   \n",
       "8z-v_pn00BcnrWs9bacYUQ  36.123843 -115.170220   \n",
       "_G5pDGRJL0mhLRgIViW2sA  36.095580 -115.175818   \n",
       "67-DcR8Npwuc9lRph194cw  36.241289 -115.149580   \n",
       "XoitWJUjHcdBl9GqHTsdjw  36.067199 -115.172232   \n",
       "26ecLqpDHrB3socZGfDuhQ  36.154658 -115.159219   \n",
       "lRALdho4l9cpiw9WdGkV1A  33.309792 -111.669200   \n",
       "K5kU2IN6mXvMo-Cx0oQFZg  33.533158 -112.260384   \n",
       "KVYSUfN89b-nih-_9HhF6g  33.533049 -112.262036   \n",
       "0InQd9vuhRc98OksC3Ks8Q  36.098878 -115.175641   \n",
       "gnafBL9EZE1kn0xD7Yf3_w  36.124823 -115.171971   \n",
       "vKtMsWeAaThimXGo9Ic_Og  35.218730  -80.849720   \n",
       "wyqwO4ZqZyRR6pGk1pTBrA  36.060061 -115.165044   \n",
       "cSYSUZ3YbwR_RTughnoy5A  33.576494 -112.120861   \n",
       "PEyRw3HOWcDnd2XHRLq5RQ  33.539228 -112.184329   \n",
       "3e9IUI5Dt-ktDKEQNkENVA  33.479007 -112.000813   \n",
       "GQ6bCvYZxdGY6ZQyeZFeVg  36.189293 -115.162965   \n",
       "UuBZkKnckkRmYt3jFn2gaQ  36.137667 -115.164659   \n",
       "CJ8IURVsHxTIu2Kzp2Kumw  36.118346 -115.170129   \n",
       "inDYSqSDMyrfBhOZc702rw  33.678238 -112.101291   \n",
       "\n",
       "                                                                     name  \\\n",
       "business_id                                                                 \n",
       "lliksv-tglfUz1T3B3vgvA                                      Lotus of Siam   \n",
       "mQde7KRomOQoUyPGTqeXhA                             Arizona Humane Society   \n",
       "GmzpzmxinfLMw5OXQKFEBQ                                    Little Miss BBQ   \n",
       "CZBYYCb4xBwNlSIYNc6Eiw  Siphon Draw Trail inc. Flatiron, Superstition ...   \n",
       "AtjsjFzalWqJ7S9DUFQ4bw                      The Cosmopolitan of Las Vegas   \n",
       "nYer89hXYAoddMEKTxw7kA              Yelp's Secret Cinema: Made In Arizona   \n",
       "qrjPKkSPzodIfP0kW1mtEw                                      Salon D'Shayn   \n",
       "qcF6SHcGRML7gihfpNl_zA                         Fabulous Eyebrow Threading   \n",
       "84NQRcMC0ldIC86yRw0vpA                                  Gelato Dolce Vita   \n",
       "9ylfrWjdX6CltGs_Qcv7Ng                                           PNC Park   \n",
       "a-VGlZ06IaFTCX0vd0xm-A                         Central Church - Henderson   \n",
       "Y_P4hdBnB5TZD3-nsi9-jQ                           Blue Sky Airport Parking   \n",
       "cA9cTalUXibyWZZYjh-kiQ                         Carpet Monkey Of Las Vegas   \n",
       "_tYT5_N3zCwrpkdfVhqrnw                                      The Brush Bar   \n",
       "f8luua75t2Is5iP6nxcXQQ                                          Yogurtini   \n",
       "OwBPjUz2o0J5K3DzcHkBtg                           Soho Japanese Restaurant   \n",
       "4bnLfKXorJ9HVmt7Oc8lcw  CMYE: Yelp's Sweet Bake-In at La Grande Orange...   \n",
       "QBHcPkoRsPb68Oq7zRj44A                                Frost Bites Shavery   \n",
       "JXUX_oiCrfHm6b1sbqQd7A                                       Poke Express   \n",
       "1hY0Q3BYDq6CJDQay2xRQA                           Vegas Discount Nutrition   \n",
       "Us-93TD-lG_kVJzDPvmppw                                    I Clean Carpets   \n",
       "3AoCAj24yffBkl1vh9lkuQ                                           Eco-Tint   \n",
       "hrnvVr3hmb2oD3oUnJrNSw                          Tempe Center for the Arts   \n",
       "RHIIMuvu6xPNHxtZv_QWHg                       Mandarin Oriental, Las Vegas   \n",
       "QnAzW6KMSciUcuJ20oI3Bw                                   Joe's Farm Grill   \n",
       "8clKtz2RxFRDLnzZwMgA4w                             Camp Bow Wow Las Vegas   \n",
       "Q9pYlR8ckKpbLe1fn8apGg                         Professional Brake Service   \n",
       "RPDbyZWiN_ayXevgko0zOA                                   Hobak Korean BBQ   \n",
       "02CV16hndzI60LuI2kDkOA                                   Camelback Moving   \n",
       "b7GM0x9zZU5gq1aXErUf7Q                            Julia Baker Confections   \n",
       "...                                                                   ...   \n",
       "siatNcf5O_vH0sL6OdvYLQ                                 Christown Spectrum   \n",
       "dNyjWz6CnYvrhPnpqNV5NA                               Street Eats Festival   \n",
       "TmTB0Nel-U_zOr04OTUreA                                     US Post Office   \n",
       "Ca_u-CVUEswSkdmW0oscvA                                  Dollar Rent A Car   \n",
       "erBoatMp1TFi_NPxTigp6w                                          Pink Taco   \n",
       "bdsKG7MQIMmZ73lgOaTZ0A                                               FAME   \n",
       "EF5vR_UUavzPjtgMYFCg5Q                               Carlos' N' Charlie's   \n",
       "nIkJ9z9GM2mthq80s3l0Mg                                Walmart Supercenter   \n",
       "qdCbbg7FyD6mzf0L_g64uA                                   Church's Chicken   \n",
       "6sqAj_mXmYkZ3UKsyRGGHQ                      Las Vegas Club Hotel & Casino   \n",
       "aEol06ruyQJZYlDMPJGfUg                                  Wonderland Bakery   \n",
       "8z-v_pn00BcnrWs9bacYUQ                 The Quad Las Vegas Resort & Casino   \n",
       "_G5pDGRJL0mhLRgIViW2sA             Cirque du Soleil - Criss Angel Believe   \n",
       "67-DcR8Npwuc9lRph194cw                                  San Gennaro Feast   \n",
       "XoitWJUjHcdBl9GqHTsdjw                                Ranch House Kitchen   \n",
       "26ecLqpDHrB3socZGfDuhQ                                     Showtime Tours   \n",
       "lRALdho4l9cpiw9WdGkV1A                                          Allegiant   \n",
       "K5kU2IN6mXvMo-Cx0oQFZg                                      Calico Jack's   \n",
       "KVYSUfN89b-nih-_9HhF6g                     McFadden's Restaurant & Saloon   \n",
       "0InQd9vuhRc98OksC3Ks8Q                                  Buffet Roundtable   \n",
       "gnafBL9EZE1kn0xD7Yf3_w                          Sirens of Treasure Island   \n",
       "vKtMsWeAaThimXGo9Ic_Og                                  Time Warner Cable   \n",
       "wyqwO4ZqZyRR6pGk1pTBrA                                 Payless Car Rental   \n",
       "cSYSUZ3YbwR_RTughnoy5A                                   Metrocenter Mall   \n",
       "PEyRw3HOWcDnd2XHRLq5RQ               Glendale's Best Street Food Festival   \n",
       "3e9IUI5Dt-ktDKEQNkENVA                                Walmart Supercenter   \n",
       "GQ6bCvYZxdGY6ZQyeZFeVg                                 Cox Communications   \n",
       "UuBZkKnckkRmYt3jFn2gaQ                                      Circus Buffet   \n",
       "CJ8IURVsHxTIu2Kzp2Kumw                                   Emperor's Buffet   \n",
       "inDYSqSDMyrfBhOZc702rw                                 Cox Communications   \n",
       "\n",
       "                                neighborhoods   open  review_count  stars  \\\n",
       "business_id                                                                 \n",
       "lliksv-tglfUz1T3B3vgvA   [Eastside, Downtown]   True          3225    4.0   \n",
       "mQde7KRomOQoUyPGTqeXhA                     []   True            64    4.5   \n",
       "GmzpzmxinfLMw5OXQKFEBQ                     []   True           944    5.0   \n",
       "CZBYYCb4xBwNlSIYNc6Eiw                     []   True            49    5.0   \n",
       "AtjsjFzalWqJ7S9DUFQ4bw            [The Strip]   True          3228    4.0   \n",
       "nYer89hXYAoddMEKTxw7kA                     []   True            38    5.0   \n",
       "qrjPKkSPzodIfP0kW1mtEw                     []   True           230    4.5   \n",
       "qcF6SHcGRML7gihfpNl_zA             [Westside]   True           413    5.0   \n",
       "84NQRcMC0ldIC86yRw0vpA                     []   True           178    5.0   \n",
       "9ylfrWjdX6CltGs_Qcv7Ng           [North Side]   True           403    4.5   \n",
       "a-VGlZ06IaFTCX0vd0xm-A                     []   True            76    4.5   \n",
       "Y_P4hdBnB5TZD3-nsi9-jQ                     []   True           159    4.5   \n",
       "cA9cTalUXibyWZZYjh-kiQ            [Southwest]   True           273    5.0   \n",
       "_tYT5_N3zCwrpkdfVhqrnw                     []   True            77    5.0   \n",
       "f8luua75t2Is5iP6nxcXQQ                     []   True            53    5.0   \n",
       "OwBPjUz2o0J5K3DzcHkBtg            [Southwest]   True          1102    4.5   \n",
       "4bnLfKXorJ9HVmt7Oc8lcw                     []   True            34    5.0   \n",
       "QBHcPkoRsPb68Oq7zRj44A                     []  False            72    5.0   \n",
       "JXUX_oiCrfHm6b1sbqQd7A                     []   True           387    5.0   \n",
       "1hY0Q3BYDq6CJDQay2xRQA            [Southeast]   True           223    5.0   \n",
       "Us-93TD-lG_kVJzDPvmppw                     []   True           250    5.0   \n",
       "3AoCAj24yffBkl1vh9lkuQ                     []   True           376    5.0   \n",
       "hrnvVr3hmb2oD3oUnJrNSw                     []   True            54    4.5   \n",
       "RHIIMuvu6xPNHxtZv_QWHg            [The Strip]   True           473    4.5   \n",
       "QnAzW6KMSciUcuJ20oI3Bw                     []   True          1368    4.0   \n",
       "8clKtz2RxFRDLnzZwMgA4w                     []   True           127    4.5   \n",
       "Q9pYlR8ckKpbLe1fn8apGg            [Southeast]   True           184    5.0   \n",
       "RPDbyZWiN_ayXevgko0zOA            [Chinatown]   True           542    5.0   \n",
       "02CV16hndzI60LuI2kDkOA                     []   True           311    4.5   \n",
       "b7GM0x9zZU5gq1aXErUf7Q                     []  False            76    4.5   \n",
       "...                                       ...    ...           ...    ...   \n",
       "siatNcf5O_vH0sL6OdvYLQ                     []   True            41    2.5   \n",
       "dNyjWz6CnYvrhPnpqNV5NA                     []   True            90    2.0   \n",
       "TmTB0Nel-U_zOr04OTUreA            [Southeast]   True            75    1.5   \n",
       "Ca_u-CVUEswSkdmW0oscvA            [Southeast]   True           289    2.0   \n",
       "erBoatMp1TFi_NPxTigp6w                     []  False            55    2.5   \n",
       "bdsKG7MQIMmZ73lgOaTZ0A            [The Strip]  False            93    2.0   \n",
       "EF5vR_UUavzPjtgMYFCg5Q            [The Strip]   True           272    2.0   \n",
       "nIkJ9z9GM2mthq80s3l0Mg                     []   True           104    2.0   \n",
       "qdCbbg7FyD6mzf0L_g64uA            [Southwest]   True            80    2.0   \n",
       "6sqAj_mXmYkZ3UKsyRGGHQ             [Downtown]  False            98    2.0   \n",
       "aEol06ruyQJZYlDMPJGfUg      [South Summerlin]   True            75    2.5   \n",
       "8z-v_pn00BcnrWs9bacYUQ            [The Strip]  False           609    2.0   \n",
       "_G5pDGRJL0mhLRgIViW2sA            [The Strip]  False           833    1.5   \n",
       "67-DcR8Npwuc9lRph194cw                     []   True            85    2.5   \n",
       "XoitWJUjHcdBl9GqHTsdjw            [Southeast]  False            69    2.0   \n",
       "26ecLqpDHrB3socZGfDuhQ             [Downtown]   True           358    1.5   \n",
       "lRALdho4l9cpiw9WdGkV1A                     []   True           166    1.5   \n",
       "K5kU2IN6mXvMo-Cx0oQFZg                     []   True           174    1.5   \n",
       "KVYSUfN89b-nih-_9HhF6g                     []   True           311    1.5   \n",
       "0InQd9vuhRc98OksC3Ks8Q            [The Strip]  False           190    2.0   \n",
       "gnafBL9EZE1kn0xD7Yf3_w            [The Strip]  False           143    2.0   \n",
       "vKtMsWeAaThimXGo9Ic_Og  [South End, Dilworth]   True            91    1.5   \n",
       "wyqwO4ZqZyRR6pGk1pTBrA            [Southeast]   True           474    1.5   \n",
       "cSYSUZ3YbwR_RTughnoy5A                     []   True           125    2.0   \n",
       "PEyRw3HOWcDnd2XHRLq5RQ                     []   True            49    1.5   \n",
       "3e9IUI5Dt-ktDKEQNkENVA                     []   True           100    1.5   \n",
       "GQ6bCvYZxdGY6ZQyeZFeVg                     []   True           253    1.5   \n",
       "UuBZkKnckkRmYt3jFn2gaQ            [The Strip]   True           272    2.0   \n",
       "CJ8IURVsHxTIu2Kzp2Kumw            [The Strip]  False            57    1.5   \n",
       "inDYSqSDMyrfBhOZc702rw                     []   True           517    1.5   \n",
       "\n",
       "                       state      type  \n",
       "business_id                             \n",
       "lliksv-tglfUz1T3B3vgvA    NV  business  \n",
       "mQde7KRomOQoUyPGTqeXhA    AZ  business  \n",
       "GmzpzmxinfLMw5OXQKFEBQ    AZ  business  \n",
       "CZBYYCb4xBwNlSIYNc6Eiw    AZ  business  \n",
       "AtjsjFzalWqJ7S9DUFQ4bw    NV  business  \n",
       "nYer89hXYAoddMEKTxw7kA    AZ  business  \n",
       "qrjPKkSPzodIfP0kW1mtEw    AZ  business  \n",
       "qcF6SHcGRML7gihfpNl_zA    NV  business  \n",
       "84NQRcMC0ldIC86yRw0vpA    AZ  business  \n",
       "9ylfrWjdX6CltGs_Qcv7Ng    PA  business  \n",
       "a-VGlZ06IaFTCX0vd0xm-A    NV  business  \n",
       "Y_P4hdBnB5TZD3-nsi9-jQ    AZ  business  \n",
       "cA9cTalUXibyWZZYjh-kiQ    NV  business  \n",
       "_tYT5_N3zCwrpkdfVhqrnw    AZ  business  \n",
       "f8luua75t2Is5iP6nxcXQQ    AZ  business  \n",
       "OwBPjUz2o0J5K3DzcHkBtg    NV  business  \n",
       "4bnLfKXorJ9HVmt7Oc8lcw    AZ  business  \n",
       "QBHcPkoRsPb68Oq7zRj44A    NV  business  \n",
       "JXUX_oiCrfHm6b1sbqQd7A    NV  business  \n",
       "1hY0Q3BYDq6CJDQay2xRQA    NV  business  \n",
       "Us-93TD-lG_kVJzDPvmppw    AZ  business  \n",
       "3AoCAj24yffBkl1vh9lkuQ    NV  business  \n",
       "hrnvVr3hmb2oD3oUnJrNSw    AZ  business  \n",
       "RHIIMuvu6xPNHxtZv_QWHg    NV  business  \n",
       "QnAzW6KMSciUcuJ20oI3Bw    AZ  business  \n",
       "8clKtz2RxFRDLnzZwMgA4w    NV  business  \n",
       "Q9pYlR8ckKpbLe1fn8apGg    NV  business  \n",
       "RPDbyZWiN_ayXevgko0zOA    NV  business  \n",
       "02CV16hndzI60LuI2kDkOA    AZ  business  \n",
       "b7GM0x9zZU5gq1aXErUf7Q    AZ  business  \n",
       "...                      ...       ...  \n",
       "siatNcf5O_vH0sL6OdvYLQ    AZ  business  \n",
       "dNyjWz6CnYvrhPnpqNV5NA    AZ  business  \n",
       "TmTB0Nel-U_zOr04OTUreA    NV  business  \n",
       "Ca_u-CVUEswSkdmW0oscvA    NV  business  \n",
       "erBoatMp1TFi_NPxTigp6w    AZ  business  \n",
       "bdsKG7MQIMmZ73lgOaTZ0A    NV  business  \n",
       "EF5vR_UUavzPjtgMYFCg5Q    NV  business  \n",
       "nIkJ9z9GM2mthq80s3l0Mg    AZ  business  \n",
       "qdCbbg7FyD6mzf0L_g64uA    NV  business  \n",
       "6sqAj_mXmYkZ3UKsyRGGHQ    NV  business  \n",
       "aEol06ruyQJZYlDMPJGfUg    NV  business  \n",
       "8z-v_pn00BcnrWs9bacYUQ    NV  business  \n",
       "_G5pDGRJL0mhLRgIViW2sA    NV  business  \n",
       "67-DcR8Npwuc9lRph194cw    NV  business  \n",
       "XoitWJUjHcdBl9GqHTsdjw    NV  business  \n",
       "26ecLqpDHrB3socZGfDuhQ    NV  business  \n",
       "lRALdho4l9cpiw9WdGkV1A    AZ  business  \n",
       "K5kU2IN6mXvMo-Cx0oQFZg    AZ  business  \n",
       "KVYSUfN89b-nih-_9HhF6g    AZ  business  \n",
       "0InQd9vuhRc98OksC3Ks8Q    NV  business  \n",
       "gnafBL9EZE1kn0xD7Yf3_w    NV  business  \n",
       "vKtMsWeAaThimXGo9Ic_Og    NC  business  \n",
       "wyqwO4ZqZyRR6pGk1pTBrA    NV  business  \n",
       "cSYSUZ3YbwR_RTughnoy5A    AZ  business  \n",
       "PEyRw3HOWcDnd2XHRLq5RQ    AZ  business  \n",
       "3e9IUI5Dt-ktDKEQNkENVA    AZ  business  \n",
       "GQ6bCvYZxdGY6ZQyeZFeVg    NV  business  \n",
       "UuBZkKnckkRmYt3jFn2gaQ    NV  business  \n",
       "CJ8IURVsHxTIu2Kzp2Kumw    NV  business  \n",
       "inDYSqSDMyrfBhOZc702rw    AZ  business  \n",
       "\n",
       "[7235 rows x 15 columns]"
      ]
     },
     "execution_count": 100,
     "metadata": {},
     "output_type": "execute_result"
    }
   ],
   "source": [
    "business.loc[recommended_business_names] # regardless of the state"
   ]
  },
  {
   "cell_type": "code",
   "execution_count": 101,
   "metadata": {
    "ExecuteTime": {
     "end_time": "2017-02-01T17:30:55.586334",
     "start_time": "2017-02-01T17:30:55.582824"
    },
    "collapsed": false,
    "run_control": {
     "frozen": false,
     "read_only": false
    }
   },
   "outputs": [],
   "source": [
    "user_id = Y.columns[1]"
   ]
  },
  {
   "cell_type": "code",
   "execution_count": 102,
   "metadata": {
    "ExecuteTime": {
     "end_time": "2017-02-01T17:30:55.606386",
     "start_time": "2017-02-01T17:30:55.590849"
    },
    "collapsed": false,
    "run_control": {
     "frozen": false,
     "read_only": false
    }
   },
   "outputs": [
    {
     "data": {
      "text/plain": [
       "array(['AZ', 'NV'], dtype=object)"
      ]
     },
     "execution_count": 102,
     "metadata": {},
     "output_type": "execute_result"
    }
   ],
   "source": [
    "user_states = business.loc[Y.iloc[:,1][Y.iloc[:,1].notnull()].index].state.unique()\n",
    "user_states"
   ]
  },
  {
   "cell_type": "code",
   "execution_count": 103,
   "metadata": {
    "ExecuteTime": {
     "end_time": "2017-02-01T17:30:55.640478",
     "start_time": "2017-02-01T17:30:55.608895"
    },
    "collapsed": false,
    "run_control": {
     "frozen": false,
     "read_only": false
    }
   },
   "outputs": [
    {
     "data": {
      "text/plain": [
       "state\n",
       "AZ    3206\n",
       "NC     536\n",
       "NV    3111\n",
       "PA     372\n",
       "QC       4\n",
       "SC       5\n",
       "WI       1\n",
       "dtype: int64"
      ]
     },
     "execution_count": 103,
     "metadata": {},
     "output_type": "execute_result"
    }
   ],
   "source": [
    "business.loc[recommended_business_names].groupby('state').size()"
   ]
  },
  {
   "cell_type": "markdown",
   "metadata": {
    "run_control": {
     "frozen": false,
     "read_only": false
    }
   },
   "source": [
    "## Business recommeded to a user"
   ]
  },
  {
   "cell_type": "code",
   "execution_count": 104,
   "metadata": {
    "ExecuteTime": {
     "end_time": "2017-02-01T17:30:55.863071",
     "start_time": "2017-02-01T17:30:55.641982"
    },
    "collapsed": false,
    "run_control": {
     "frozen": false,
     "read_only": false
    },
    "scrolled": true
   },
   "outputs": [
    {
     "data": {
      "text/html": [
       "<div>\n",
       "<table border=\"1\" class=\"dataframe\">\n",
       "  <thead>\n",
       "    <tr style=\"text-align: right;\">\n",
       "      <th></th>\n",
       "      <th>attributes</th>\n",
       "      <th>business_id</th>\n",
       "      <th>categories</th>\n",
       "      <th>city</th>\n",
       "      <th>full_address</th>\n",
       "      <th>hours</th>\n",
       "      <th>latitude</th>\n",
       "      <th>longitude</th>\n",
       "      <th>name</th>\n",
       "      <th>neighborhoods</th>\n",
       "      <th>open</th>\n",
       "      <th>review_count</th>\n",
       "      <th>stars</th>\n",
       "      <th>state</th>\n",
       "      <th>type</th>\n",
       "    </tr>\n",
       "    <tr>\n",
       "      <th>business_id</th>\n",
       "      <th></th>\n",
       "      <th></th>\n",
       "      <th></th>\n",
       "      <th></th>\n",
       "      <th></th>\n",
       "      <th></th>\n",
       "      <th></th>\n",
       "      <th></th>\n",
       "      <th></th>\n",
       "      <th></th>\n",
       "      <th></th>\n",
       "      <th></th>\n",
       "      <th></th>\n",
       "      <th></th>\n",
       "      <th></th>\n",
       "    </tr>\n",
       "  </thead>\n",
       "  <tbody>\n",
       "    <tr>\n",
       "      <th>lliksv-tglfUz1T3B3vgvA</th>\n",
       "      <td>{'Noise Level': 'average', 'Ambience': {'casua...</td>\n",
       "      <td>lliksv-tglfUz1T3B3vgvA</td>\n",
       "      <td>[Thai, Restaurants]</td>\n",
       "      <td>Las Vegas</td>\n",
       "      <td>953 E Sahara Ave\\nSte A5\\nEastside\\nLas Vegas,...</td>\n",
       "      <td>{'Sunday': {'close': '22:00', 'open': '17:30'}...</td>\n",
       "      <td>36.143767</td>\n",
       "      <td>-115.140885</td>\n",
       "      <td>Lotus of Siam</td>\n",
       "      <td>[Eastside, Downtown]</td>\n",
       "      <td>True</td>\n",
       "      <td>3225</td>\n",
       "      <td>4.0</td>\n",
       "      <td>NV</td>\n",
       "      <td>business</td>\n",
       "    </tr>\n",
       "    <tr>\n",
       "      <th>mQde7KRomOQoUyPGTqeXhA</th>\n",
       "      <td>{}</td>\n",
       "      <td>mQde7KRomOQoUyPGTqeXhA</td>\n",
       "      <td>[Animal Shelters, Veterinarians, Pet Stores, P...</td>\n",
       "      <td>Phoenix</td>\n",
       "      <td>1521 W Dobbins Rd\\nPhoenix, AZ 85041</td>\n",
       "      <td>{'Sunday': {'close': '18:00', 'open': '11:00'}...</td>\n",
       "      <td>33.362442</td>\n",
       "      <td>-112.092663</td>\n",
       "      <td>Arizona Humane Society</td>\n",
       "      <td>[]</td>\n",
       "      <td>True</td>\n",
       "      <td>64</td>\n",
       "      <td>4.5</td>\n",
       "      <td>AZ</td>\n",
       "      <td>business</td>\n",
       "    </tr>\n",
       "    <tr>\n",
       "      <th>GmzpzmxinfLMw5OXQKFEBQ</th>\n",
       "      <td>{'Noise Level': 'average', 'Ambience': {'casua...</td>\n",
       "      <td>GmzpzmxinfLMw5OXQKFEBQ</td>\n",
       "      <td>[Barbeque, Restaurants]</td>\n",
       "      <td>Phoenix</td>\n",
       "      <td>4301 E University Dr\\nPhoenix, AZ 85034</td>\n",
       "      <td>{'Wednesday': {'close': '16:00', 'open': '11:0...</td>\n",
       "      <td>33.421587</td>\n",
       "      <td>-111.989088</td>\n",
       "      <td>Little Miss BBQ</td>\n",
       "      <td>[]</td>\n",
       "      <td>True</td>\n",
       "      <td>944</td>\n",
       "      <td>5.0</td>\n",
       "      <td>AZ</td>\n",
       "      <td>business</td>\n",
       "    </tr>\n",
       "    <tr>\n",
       "      <th>CZBYYCb4xBwNlSIYNc6Eiw</th>\n",
       "      <td>{'Accepts Credit Cards': True, 'Parking': {'st...</td>\n",
       "      <td>CZBYYCb4xBwNlSIYNc6Eiw</td>\n",
       "      <td>[Active Life, Hiking]</td>\n",
       "      <td>Apache Junction</td>\n",
       "      <td>6109 N. Apache Trail\\nApache Junction, AZ 85219</td>\n",
       "      <td>{}</td>\n",
       "      <td>33.461401</td>\n",
       "      <td>-111.485730</td>\n",
       "      <td>Siphon Draw Trail inc. Flatiron, Superstition ...</td>\n",
       "      <td>[]</td>\n",
       "      <td>True</td>\n",
       "      <td>49</td>\n",
       "      <td>5.0</td>\n",
       "      <td>AZ</td>\n",
       "      <td>business</td>\n",
       "    </tr>\n",
       "    <tr>\n",
       "      <th>AtjsjFzalWqJ7S9DUFQ4bw</th>\n",
       "      <td>{'Noise Level': 'very_loud', 'Ambience': {'cas...</td>\n",
       "      <td>AtjsjFzalWqJ7S9DUFQ4bw</td>\n",
       "      <td>[Hotels &amp; Travel, Arts &amp; Entertainment, Casino...</td>\n",
       "      <td>Las Vegas</td>\n",
       "      <td>3708 Las Vegas Blvd S\\nThe Strip\\nLas Vegas, N...</td>\n",
       "      <td>{'Sunday': {'close': '00:00', 'open': '00:00'}...</td>\n",
       "      <td>36.109915</td>\n",
       "      <td>-115.174642</td>\n",
       "      <td>The Cosmopolitan of Las Vegas</td>\n",
       "      <td>[The Strip]</td>\n",
       "      <td>True</td>\n",
       "      <td>3228</td>\n",
       "      <td>4.0</td>\n",
       "      <td>NV</td>\n",
       "      <td>business</td>\n",
       "    </tr>\n",
       "    <tr>\n",
       "      <th>nYer89hXYAoddMEKTxw7kA</th>\n",
       "      <td>{'Good for Kids': False}</td>\n",
       "      <td>nYer89hXYAoddMEKTxw7kA</td>\n",
       "      <td>[Yelp Events, Local Flavor]</td>\n",
       "      <td>Phoenix</td>\n",
       "      <td>FilmBar\\n815 N 2nd St\\nPhoenix, AZ 85004</td>\n",
       "      <td>{}</td>\n",
       "      <td>33.457106</td>\n",
       "      <td>-112.071074</td>\n",
       "      <td>Yelp's Secret Cinema: Made In Arizona</td>\n",
       "      <td>[]</td>\n",
       "      <td>True</td>\n",
       "      <td>38</td>\n",
       "      <td>5.0</td>\n",
       "      <td>AZ</td>\n",
       "      <td>business</td>\n",
       "    </tr>\n",
       "    <tr>\n",
       "      <th>qrjPKkSPzodIfP0kW1mtEw</th>\n",
       "      <td>{'Price Range': 2, 'Wheelchair Accessible': Tr...</td>\n",
       "      <td>qrjPKkSPzodIfP0kW1mtEw</td>\n",
       "      <td>[Hair Salons, Skin Care, Hair Removal, Beauty ...</td>\n",
       "      <td>Scottsdale</td>\n",
       "      <td>4328 N Wells Fargo Ave\\nSte 2\\nScottsdale, AZ ...</td>\n",
       "      <td>{'Sunday': {'close': '18:00', 'open': '10:00'}...</td>\n",
       "      <td>33.499149</td>\n",
       "      <td>-111.923063</td>\n",
       "      <td>Salon D'Shayn</td>\n",
       "      <td>[]</td>\n",
       "      <td>True</td>\n",
       "      <td>230</td>\n",
       "      <td>4.5</td>\n",
       "      <td>AZ</td>\n",
       "      <td>business</td>\n",
       "    </tr>\n",
       "    <tr>\n",
       "      <th>qcF6SHcGRML7gihfpNl_zA</th>\n",
       "      <td>{'Wheelchair Accessible': True, 'Parking': {'s...</td>\n",
       "      <td>qcF6SHcGRML7gihfpNl_zA</td>\n",
       "      <td>[Skin Care, Threading Services, Laser Hair Rem...</td>\n",
       "      <td>Las Vegas</td>\n",
       "      <td>2960 S Durango Dr\\nSte 112\\nWestside\\nLas Vega...</td>\n",
       "      <td>{'Sunday': {'close': '18:00', 'open': '11:00'}...</td>\n",
       "      <td>36.135543</td>\n",
       "      <td>-115.277850</td>\n",
       "      <td>Fabulous Eyebrow Threading</td>\n",
       "      <td>[Westside]</td>\n",
       "      <td>True</td>\n",
       "      <td>413</td>\n",
       "      <td>5.0</td>\n",
       "      <td>NV</td>\n",
       "      <td>business</td>\n",
       "    </tr>\n",
       "    <tr>\n",
       "      <th>84NQRcMC0ldIC86yRw0vpA</th>\n",
       "      <td>{'Price Range': 1, 'Wheelchair Accessible': Tr...</td>\n",
       "      <td>84NQRcMC0ldIC86yRw0vpA</td>\n",
       "      <td>[Food, Ice Cream &amp; Frozen Yogurt, Gelato, Dess...</td>\n",
       "      <td>Mesa</td>\n",
       "      <td>5251 E Brown Rd\\nSte 104\\nMesa, AZ 85205</td>\n",
       "      <td>{'Sunday': {'close': '20:30', 'open': '14:00'}...</td>\n",
       "      <td>33.437338</td>\n",
       "      <td>-111.717932</td>\n",
       "      <td>Gelato Dolce Vita</td>\n",
       "      <td>[]</td>\n",
       "      <td>True</td>\n",
       "      <td>178</td>\n",
       "      <td>5.0</td>\n",
       "      <td>AZ</td>\n",
       "      <td>business</td>\n",
       "    </tr>\n",
       "    <tr>\n",
       "      <th>a-VGlZ06IaFTCX0vd0xm-A</th>\n",
       "      <td>{}</td>\n",
       "      <td>a-VGlZ06IaFTCX0vd0xm-A</td>\n",
       "      <td>[Churches, Religious Organizations]</td>\n",
       "      <td>Henderson</td>\n",
       "      <td>1001 New Beginnings Dr\\nHenderson, NV 89011</td>\n",
       "      <td>{'Sunday': {'close': '15:00', 'open': '08:30'}...</td>\n",
       "      <td>36.080529</td>\n",
       "      <td>-115.038136</td>\n",
       "      <td>Central Church - Henderson</td>\n",
       "      <td>[]</td>\n",
       "      <td>True</td>\n",
       "      <td>76</td>\n",
       "      <td>4.5</td>\n",
       "      <td>NV</td>\n",
       "      <td>business</td>\n",
       "    </tr>\n",
       "    <tr>\n",
       "      <th>Y_P4hdBnB5TZD3-nsi9-jQ</th>\n",
       "      <td>{'Accepts Credit Cards': True}</td>\n",
       "      <td>Y_P4hdBnB5TZD3-nsi9-jQ</td>\n",
       "      <td>[Automotive, Parking]</td>\n",
       "      <td>Phoenix</td>\n",
       "      <td>3150 S 48th st\\nPhoenix, AZ 85040</td>\n",
       "      <td>{'Sunday': {'close': '00:00', 'open': '00:00'}...</td>\n",
       "      <td>33.419917</td>\n",
       "      <td>-111.980971</td>\n",
       "      <td>Blue Sky Airport Parking</td>\n",
       "      <td>[]</td>\n",
       "      <td>True</td>\n",
       "      <td>159</td>\n",
       "      <td>4.5</td>\n",
       "      <td>AZ</td>\n",
       "      <td>business</td>\n",
       "    </tr>\n",
       "    <tr>\n",
       "      <th>cA9cTalUXibyWZZYjh-kiQ</th>\n",
       "      <td>{'Accepts Credit Cards': True, 'By Appointment...</td>\n",
       "      <td>cA9cTalUXibyWZZYjh-kiQ</td>\n",
       "      <td>[Local Services, Damage Restoration, Air Duct ...</td>\n",
       "      <td>Las Vegas</td>\n",
       "      <td>8985 S Durango Dr\\nSouthwest\\nLas Vegas, NV 89113</td>\n",
       "      <td>{'Sunday': {'close': '15:00', 'open': '10:00'}...</td>\n",
       "      <td>36.025675</td>\n",
       "      <td>-115.279201</td>\n",
       "      <td>Carpet Monkey Of Las Vegas</td>\n",
       "      <td>[Southwest]</td>\n",
       "      <td>True</td>\n",
       "      <td>273</td>\n",
       "      <td>5.0</td>\n",
       "      <td>NV</td>\n",
       "      <td>business</td>\n",
       "    </tr>\n",
       "    <tr>\n",
       "      <th>_tYT5_N3zCwrpkdfVhqrnw</th>\n",
       "      <td>{'Wheelchair Accessible': True, 'Accepts Credi...</td>\n",
       "      <td>_tYT5_N3zCwrpkdfVhqrnw</td>\n",
       "      <td>[Paint &amp; Sip, Art Classes, Arts &amp; Entertainmen...</td>\n",
       "      <td>Scottsdale</td>\n",
       "      <td>4165 N Craftsman Ct\\nScottsdale, AZ 85251</td>\n",
       "      <td>{'Sunday': {'close': '14:00', 'open': '10:00'}...</td>\n",
       "      <td>33.496715</td>\n",
       "      <td>-111.927408</td>\n",
       "      <td>The Brush Bar</td>\n",
       "      <td>[]</td>\n",
       "      <td>True</td>\n",
       "      <td>77</td>\n",
       "      <td>5.0</td>\n",
       "      <td>AZ</td>\n",
       "      <td>business</td>\n",
       "    </tr>\n",
       "    <tr>\n",
       "      <th>f8luua75t2Is5iP6nxcXQQ</th>\n",
       "      <td>{'Price Range': 1, 'Wheelchair Accessible': Tr...</td>\n",
       "      <td>f8luua75t2Is5iP6nxcXQQ</td>\n",
       "      <td>[Food, Ice Cream &amp; Frozen Yogurt]</td>\n",
       "      <td>Goodyear</td>\n",
       "      <td>14175 W Indian School Rd\\nSte A-5\\nGoodyear, A...</td>\n",
       "      <td>{'Wednesday': {'close': '22:00', 'open': '11:0...</td>\n",
       "      <td>33.484449</td>\n",
       "      <td>-112.364198</td>\n",
       "      <td>Yogurtini</td>\n",
       "      <td>[]</td>\n",
       "      <td>True</td>\n",
       "      <td>53</td>\n",
       "      <td>5.0</td>\n",
       "      <td>AZ</td>\n",
       "      <td>business</td>\n",
       "    </tr>\n",
       "    <tr>\n",
       "      <th>OwBPjUz2o0J5K3DzcHkBtg</th>\n",
       "      <td>{'Noise Level': 'average', 'Ambience': {'casua...</td>\n",
       "      <td>OwBPjUz2o0J5K3DzcHkBtg</td>\n",
       "      <td>[Sushi Bars, Japanese, Restaurants]</td>\n",
       "      <td>Las Vegas</td>\n",
       "      <td>7377 S Jones Blvd\\nSte 116\\nSouthwest\\nLas Veg...</td>\n",
       "      <td>{'Wednesday': {'close': '22:00', 'open': '17:0...</td>\n",
       "      <td>36.055244</td>\n",
       "      <td>-115.225870</td>\n",
       "      <td>Soho Japanese Restaurant</td>\n",
       "      <td>[Southwest]</td>\n",
       "      <td>True</td>\n",
       "      <td>1102</td>\n",
       "      <td>4.5</td>\n",
       "      <td>NV</td>\n",
       "      <td>business</td>\n",
       "    </tr>\n",
       "    <tr>\n",
       "      <th>4bnLfKXorJ9HVmt7Oc8lcw</th>\n",
       "      <td>{'Good for Kids': False}</td>\n",
       "      <td>4bnLfKXorJ9HVmt7Oc8lcw</td>\n",
       "      <td>[Local Flavor]</td>\n",
       "      <td>Phoenix</td>\n",
       "      <td>La Grande Orange Bake Shop\\n4410 N 40th St\\nPh...</td>\n",
       "      <td>{}</td>\n",
       "      <td>33.502139</td>\n",
       "      <td>-111.995748</td>\n",
       "      <td>CMYE: Yelp's Sweet Bake-In at La Grande Orange...</td>\n",
       "      <td>[]</td>\n",
       "      <td>True</td>\n",
       "      <td>34</td>\n",
       "      <td>5.0</td>\n",
       "      <td>AZ</td>\n",
       "      <td>business</td>\n",
       "    </tr>\n",
       "    <tr>\n",
       "      <th>QBHcPkoRsPb68Oq7zRj44A</th>\n",
       "      <td>{'Noise Level': 'average', 'Ambience': {'casua...</td>\n",
       "      <td>QBHcPkoRsPb68Oq7zRj44A</td>\n",
       "      <td>[Food, Desserts, Shaved Ice, Food Trucks]</td>\n",
       "      <td>Henderson</td>\n",
       "      <td>898 S Boulder Hwy\\nHenderson, NV 89015</td>\n",
       "      <td>{'Sunday': {'close': '20:00', 'open': '12:00'}...</td>\n",
       "      <td>36.025234</td>\n",
       "      <td>-114.965485</td>\n",
       "      <td>Frost Bites Shavery</td>\n",
       "      <td>[]</td>\n",
       "      <td>False</td>\n",
       "      <td>72</td>\n",
       "      <td>5.0</td>\n",
       "      <td>NV</td>\n",
       "      <td>business</td>\n",
       "    </tr>\n",
       "    <tr>\n",
       "      <th>JXUX_oiCrfHm6b1sbqQd7A</th>\n",
       "      <td>{'Noise Level': 'quiet', 'Ambience': {'casual'...</td>\n",
       "      <td>JXUX_oiCrfHm6b1sbqQd7A</td>\n",
       "      <td>[Food, Poke]</td>\n",
       "      <td>North Las Vegas</td>\n",
       "      <td>655 W Craig Rd\\nSte 118\\nNorth Las Vegas, NV 8...</td>\n",
       "      <td>{'Sunday': {'close': '17:00', 'open': '10:00'}...</td>\n",
       "      <td>36.238246</td>\n",
       "      <td>-115.150921</td>\n",
       "      <td>Poke Express</td>\n",
       "      <td>[]</td>\n",
       "      <td>True</td>\n",
       "      <td>387</td>\n",
       "      <td>5.0</td>\n",
       "      <td>NV</td>\n",
       "      <td>business</td>\n",
       "    </tr>\n",
       "    <tr>\n",
       "      <th>1hY0Q3BYDq6CJDQay2xRQA</th>\n",
       "      <td>{'Wheelchair Accessible': True, 'Accepts Credi...</td>\n",
       "      <td>1hY0Q3BYDq6CJDQay2xRQA</td>\n",
       "      <td>[Health Markets, Food, Shopping, Vitamins &amp; Su...</td>\n",
       "      <td>Las Vegas</td>\n",
       "      <td>9680 S Eastern Ave\\nSte 120\\nSoutheast\\nLas Ve...</td>\n",
       "      <td>{'Sunday': {'close': '21:00', 'open': '09:00'}...</td>\n",
       "      <td>36.013838</td>\n",
       "      <td>-115.117968</td>\n",
       "      <td>Vegas Discount Nutrition</td>\n",
       "      <td>[Southeast]</td>\n",
       "      <td>True</td>\n",
       "      <td>223</td>\n",
       "      <td>5.0</td>\n",
       "      <td>NV</td>\n",
       "      <td>business</td>\n",
       "    </tr>\n",
       "    <tr>\n",
       "      <th>Us-93TD-lG_kVJzDPvmppw</th>\n",
       "      <td>{'Accepts Credit Cards': True}</td>\n",
       "      <td>Us-93TD-lG_kVJzDPvmppw</td>\n",
       "      <td>[Local Services, Carpet Cleaning]</td>\n",
       "      <td>Phoenix</td>\n",
       "      <td>5444 E Camelback Rd\\nPhoenix, AZ 85018</td>\n",
       "      <td>{'Sunday': {'close': '00:00', 'open': '00:00'}...</td>\n",
       "      <td>33.501848</td>\n",
       "      <td>-111.964967</td>\n",
       "      <td>I Clean Carpets</td>\n",
       "      <td>[]</td>\n",
       "      <td>True</td>\n",
       "      <td>250</td>\n",
       "      <td>5.0</td>\n",
       "      <td>AZ</td>\n",
       "      <td>business</td>\n",
       "    </tr>\n",
       "    <tr>\n",
       "      <th>3AoCAj24yffBkl1vh9lkuQ</th>\n",
       "      <td>{'Wheelchair Accessible': True, 'Accepts Credi...</td>\n",
       "      <td>3AoCAj24yffBkl1vh9lkuQ</td>\n",
       "      <td>[Automotive, Auto Customization, Auto Glass Se...</td>\n",
       "      <td>Las Vegas</td>\n",
       "      <td>4510 W Diablo Dr\\nSte A102\\nLas Vegas, NV 89118</td>\n",
       "      <td>{'Monday': {'close': '18:30', 'open': '08:00'}...</td>\n",
       "      <td>36.090223</td>\n",
       "      <td>-115.202364</td>\n",
       "      <td>Eco-Tint</td>\n",
       "      <td>[]</td>\n",
       "      <td>True</td>\n",
       "      <td>376</td>\n",
       "      <td>5.0</td>\n",
       "      <td>NV</td>\n",
       "      <td>business</td>\n",
       "    </tr>\n",
       "    <tr>\n",
       "      <th>hrnvVr3hmb2oD3oUnJrNSw</th>\n",
       "      <td>{'Noise Level': 'average', 'Coat Check': True,...</td>\n",
       "      <td>hrnvVr3hmb2oD3oUnJrNSw</td>\n",
       "      <td>[Arts &amp; Entertainment, Performing Arts, Music ...</td>\n",
       "      <td>Tempe</td>\n",
       "      <td>700 W Rio Salado Pkwy\\nTempe, AZ 85281</td>\n",
       "      <td>{'Wednesday': {'close': '18:00', 'open': '10:0...</td>\n",
       "      <td>33.431771</td>\n",
       "      <td>-111.948574</td>\n",
       "      <td>Tempe Center for the Arts</td>\n",
       "      <td>[]</td>\n",
       "      <td>True</td>\n",
       "      <td>54</td>\n",
       "      <td>4.5</td>\n",
       "      <td>AZ</td>\n",
       "      <td>business</td>\n",
       "    </tr>\n",
       "    <tr>\n",
       "      <th>RHIIMuvu6xPNHxtZv_QWHg</th>\n",
       "      <td>{'Accepts Credit Cards': True, 'Wi-Fi': 'paid'...</td>\n",
       "      <td>RHIIMuvu6xPNHxtZv_QWHg</td>\n",
       "      <td>[Hotels &amp; Travel, Event Planning &amp; Services, V...</td>\n",
       "      <td>Las Vegas</td>\n",
       "      <td>3752 Las Vegas Blvd S\\nThe Strip\\nLas Vegas, N...</td>\n",
       "      <td>{'Sunday': {'close': '00:00', 'open': '00:00'}...</td>\n",
       "      <td>36.106212</td>\n",
       "      <td>-115.174213</td>\n",
       "      <td>Mandarin Oriental, Las Vegas</td>\n",
       "      <td>[The Strip]</td>\n",
       "      <td>True</td>\n",
       "      <td>473</td>\n",
       "      <td>4.5</td>\n",
       "      <td>NV</td>\n",
       "      <td>business</td>\n",
       "    </tr>\n",
       "    <tr>\n",
       "      <th>QnAzW6KMSciUcuJ20oI3Bw</th>\n",
       "      <td>{'Noise Level': 'average', 'Ambience': {'casua...</td>\n",
       "      <td>QnAzW6KMSciUcuJ20oI3Bw</td>\n",
       "      <td>[American (Traditional), Pizza, Salad, Restaur...</td>\n",
       "      <td>Gilbert</td>\n",
       "      <td>3000 E Ray Rd\\nBldg 1\\nGilbert, AZ 85296</td>\n",
       "      <td>{'Sunday': {'close': '21:00', 'open': '08:00'}...</td>\n",
       "      <td>33.321062</td>\n",
       "      <td>-111.723919</td>\n",
       "      <td>Joe's Farm Grill</td>\n",
       "      <td>[]</td>\n",
       "      <td>True</td>\n",
       "      <td>1368</td>\n",
       "      <td>4.0</td>\n",
       "      <td>AZ</td>\n",
       "      <td>business</td>\n",
       "    </tr>\n",
       "    <tr>\n",
       "      <th>8clKtz2RxFRDLnzZwMgA4w</th>\n",
       "      <td>{}</td>\n",
       "      <td>8clKtz2RxFRDLnzZwMgA4w</td>\n",
       "      <td>[Pet Services, Pet Boarding/Pet Sitting, Pets]</td>\n",
       "      <td>Las Vegas</td>\n",
       "      <td>5175 S Valley View Blvd\\nLas Vegas, NV 89118</td>\n",
       "      <td>{'Sunday': {'close': '19:00', 'open': '07:00'}...</td>\n",
       "      <td>36.095841</td>\n",
       "      <td>-115.190338</td>\n",
       "      <td>Camp Bow Wow Las Vegas</td>\n",
       "      <td>[]</td>\n",
       "      <td>True</td>\n",
       "      <td>127</td>\n",
       "      <td>4.5</td>\n",
       "      <td>NV</td>\n",
       "      <td>business</td>\n",
       "    </tr>\n",
       "    <tr>\n",
       "      <th>Q9pYlR8ckKpbLe1fn8apGg</th>\n",
       "      <td>{'Accepts Credit Cards': True}</td>\n",
       "      <td>Q9pYlR8ckKpbLe1fn8apGg</td>\n",
       "      <td>[Auto Repair, Automotive]</td>\n",
       "      <td>Las Vegas</td>\n",
       "      <td>544 E Silverado Ranch Blvd\\nSte 104\\nSoutheast...</td>\n",
       "      <td>{'Monday': {'close': '17:00', 'open': '08:00'}...</td>\n",
       "      <td>36.013730</td>\n",
       "      <td>-115.151623</td>\n",
       "      <td>Professional Brake Service</td>\n",
       "      <td>[Southeast]</td>\n",
       "      <td>True</td>\n",
       "      <td>184</td>\n",
       "      <td>5.0</td>\n",
       "      <td>NV</td>\n",
       "      <td>business</td>\n",
       "    </tr>\n",
       "    <tr>\n",
       "      <th>RPDbyZWiN_ayXevgko0zOA</th>\n",
       "      <td>{'Noise Level': 'average', 'Ambience': {'casua...</td>\n",
       "      <td>RPDbyZWiN_ayXevgko0zOA</td>\n",
       "      <td>[Korean, Barbeque, Restaurants]</td>\n",
       "      <td>Las Vegas</td>\n",
       "      <td>5808 spring mountain rd\\nSte 101\\nChinatown\\nL...</td>\n",
       "      <td>{'Sunday': {'close': '04:00', 'open': '11:30'}...</td>\n",
       "      <td>36.126006</td>\n",
       "      <td>-115.222520</td>\n",
       "      <td>Hobak Korean BBQ</td>\n",
       "      <td>[Chinatown]</td>\n",
       "      <td>True</td>\n",
       "      <td>542</td>\n",
       "      <td>5.0</td>\n",
       "      <td>NV</td>\n",
       "      <td>business</td>\n",
       "    </tr>\n",
       "    <tr>\n",
       "      <th>02CV16hndzI60LuI2kDkOA</th>\n",
       "      <td>{'Accepts Credit Cards': True, 'By Appointment...</td>\n",
       "      <td>02CV16hndzI60LuI2kDkOA</td>\n",
       "      <td>[Movers, Local Services, Home Services, Self S...</td>\n",
       "      <td>Phoenix</td>\n",
       "      <td>2330 N 31st Ave\\nPhoenix, AZ 85009</td>\n",
       "      <td>{'Sunday': {'close': '17:30', 'open': '08:30'}...</td>\n",
       "      <td>33.474558</td>\n",
       "      <td>-112.126114</td>\n",
       "      <td>Camelback Moving</td>\n",
       "      <td>[]</td>\n",
       "      <td>True</td>\n",
       "      <td>311</td>\n",
       "      <td>4.5</td>\n",
       "      <td>AZ</td>\n",
       "      <td>business</td>\n",
       "    </tr>\n",
       "    <tr>\n",
       "      <th>b7GM0x9zZU5gq1aXErUf7Q</th>\n",
       "      <td>{'Noise Level': 'quiet', 'Ambience': {'casual'...</td>\n",
       "      <td>b7GM0x9zZU5gq1aXErUf7Q</td>\n",
       "      <td>[Bakeries, Food, Cafes, Chocolatiers &amp; Shops, ...</td>\n",
       "      <td>Phoenix</td>\n",
       "      <td>Biltmore Fashion Park\\n2502 E Camelback, Ste 1...</td>\n",
       "      <td>{'Sunday': {'close': '18:00', 'open': '12:00'}...</td>\n",
       "      <td>33.508269</td>\n",
       "      <td>-112.031716</td>\n",
       "      <td>Julia Baker Confections</td>\n",
       "      <td>[]</td>\n",
       "      <td>False</td>\n",
       "      <td>76</td>\n",
       "      <td>4.5</td>\n",
       "      <td>AZ</td>\n",
       "      <td>business</td>\n",
       "    </tr>\n",
       "    <tr>\n",
       "      <th>XfVGU6WGZKc867spn2TImw</th>\n",
       "      <td>{'Noise Level': 'average', 'Ambience': {'casua...</td>\n",
       "      <td>XfVGU6WGZKc867spn2TImw</td>\n",
       "      <td>[Italian, Pizza, Sandwiches, Restaurants]</td>\n",
       "      <td>Phoenix</td>\n",
       "      <td>705 N 1st St\\nSte 120\\nPhoenix, AZ 85004</td>\n",
       "      <td>{'Sunday': {'close': '22:00', 'open': '17:00'}...</td>\n",
       "      <td>33.455871</td>\n",
       "      <td>-112.072283</td>\n",
       "      <td>Pomo Pizzeria - Downtown Phoenix</td>\n",
       "      <td>[]</td>\n",
       "      <td>True</td>\n",
       "      <td>521</td>\n",
       "      <td>4.5</td>\n",
       "      <td>AZ</td>\n",
       "      <td>business</td>\n",
       "    </tr>\n",
       "    <tr>\n",
       "      <th>...</th>\n",
       "      <td>...</td>\n",
       "      <td>...</td>\n",
       "      <td>...</td>\n",
       "      <td>...</td>\n",
       "      <td>...</td>\n",
       "      <td>...</td>\n",
       "      <td>...</td>\n",
       "      <td>...</td>\n",
       "      <td>...</td>\n",
       "      <td>...</td>\n",
       "      <td>...</td>\n",
       "      <td>...</td>\n",
       "      <td>...</td>\n",
       "      <td>...</td>\n",
       "      <td>...</td>\n",
       "    </tr>\n",
       "    <tr>\n",
       "      <th>ipNveHQxPlRmgSe9CSt9dw</th>\n",
       "      <td>{'Coat Check': False, 'Noise Level': 'average'...</td>\n",
       "      <td>ipNveHQxPlRmgSe9CSt9dw</td>\n",
       "      <td>[Arts &amp; Entertainment, Music Venues, Bars, Cas...</td>\n",
       "      <td>Fort McDowell</td>\n",
       "      <td>10424 N Fort Mcdowell Rd\\nFort McDowell, AZ 85264</td>\n",
       "      <td>{}</td>\n",
       "      <td>33.582272</td>\n",
       "      <td>-111.680414</td>\n",
       "      <td>Fort Mcdowell Casino</td>\n",
       "      <td>[]</td>\n",
       "      <td>True</td>\n",
       "      <td>85</td>\n",
       "      <td>2.5</td>\n",
       "      <td>AZ</td>\n",
       "      <td>business</td>\n",
       "    </tr>\n",
       "    <tr>\n",
       "      <th>siatNcf5O_vH0sL6OdvYLQ</th>\n",
       "      <td>{'Accepts Credit Cards': True, 'Price Range': ...</td>\n",
       "      <td>siatNcf5O_vH0sL6OdvYLQ</td>\n",
       "      <td>[Shopping Centers, Shopping]</td>\n",
       "      <td>Phoenix</td>\n",
       "      <td>1703 W Bethany Home Rd\\nPhoenix, AZ 85015</td>\n",
       "      <td>{'Sunday': {'close': '18:00', 'open': '11:00'}...</td>\n",
       "      <td>33.522433</td>\n",
       "      <td>-112.096296</td>\n",
       "      <td>Christown Spectrum</td>\n",
       "      <td>[]</td>\n",
       "      <td>True</td>\n",
       "      <td>41</td>\n",
       "      <td>2.5</td>\n",
       "      <td>AZ</td>\n",
       "      <td>business</td>\n",
       "    </tr>\n",
       "    <tr>\n",
       "      <th>dNyjWz6CnYvrhPnpqNV5NA</th>\n",
       "      <td>{'Good for Kids': True}</td>\n",
       "      <td>dNyjWz6CnYvrhPnpqNV5NA</td>\n",
       "      <td>[Arts &amp; Entertainment, Festivals]</td>\n",
       "      <td>Scottsdale</td>\n",
       "      <td>7555 N Pima Rd\\nScottsdale, AZ 85258</td>\n",
       "      <td>{}</td>\n",
       "      <td>33.546608</td>\n",
       "      <td>-111.890686</td>\n",
       "      <td>Street Eats Festival</td>\n",
       "      <td>[]</td>\n",
       "      <td>True</td>\n",
       "      <td>90</td>\n",
       "      <td>2.0</td>\n",
       "      <td>AZ</td>\n",
       "      <td>business</td>\n",
       "    </tr>\n",
       "    <tr>\n",
       "      <th>TmTB0Nel-U_zOr04OTUreA</th>\n",
       "      <td>{'Accepts Credit Cards': True}</td>\n",
       "      <td>TmTB0Nel-U_zOr04OTUreA</td>\n",
       "      <td>[Local Services, Shipping Centers, Post Office...</td>\n",
       "      <td>Las Vegas</td>\n",
       "      <td>455 E Pebble Rd\\nSoutheast\\nLas Vegas, NV 89123</td>\n",
       "      <td>{'Wednesday': {'close': '17:00', 'open': '08:3...</td>\n",
       "      <td>36.027059</td>\n",
       "      <td>-115.153343</td>\n",
       "      <td>US Post Office</td>\n",
       "      <td>[Southeast]</td>\n",
       "      <td>True</td>\n",
       "      <td>75</td>\n",
       "      <td>1.5</td>\n",
       "      <td>NV</td>\n",
       "      <td>business</td>\n",
       "    </tr>\n",
       "    <tr>\n",
       "      <th>Ca_u-CVUEswSkdmW0oscvA</th>\n",
       "      <td>{}</td>\n",
       "      <td>Ca_u-CVUEswSkdmW0oscvA</td>\n",
       "      <td>[Hotels &amp; Travel, Car Rental]</td>\n",
       "      <td>Las Vegas</td>\n",
       "      <td>Mccarran Int'L Airport\\n7135 Gillespie Street\\...</td>\n",
       "      <td>{}</td>\n",
       "      <td>36.060061</td>\n",
       "      <td>-115.165044</td>\n",
       "      <td>Dollar Rent A Car</td>\n",
       "      <td>[Southeast]</td>\n",
       "      <td>True</td>\n",
       "      <td>289</td>\n",
       "      <td>2.0</td>\n",
       "      <td>NV</td>\n",
       "      <td>business</td>\n",
       "    </tr>\n",
       "    <tr>\n",
       "      <th>erBoatMp1TFi_NPxTigp6w</th>\n",
       "      <td>{'BYOB': False, 'Price Range': 2, 'Accepts Cre...</td>\n",
       "      <td>erBoatMp1TFi_NPxTigp6w</td>\n",
       "      <td>[Mexican, Restaurants]</td>\n",
       "      <td>Scottsdale</td>\n",
       "      <td>7135 E Camelback Rd\\nScottsdale, AZ 85251</td>\n",
       "      <td>{}</td>\n",
       "      <td>33.501982</td>\n",
       "      <td>-111.927618</td>\n",
       "      <td>Pink Taco</td>\n",
       "      <td>[]</td>\n",
       "      <td>False</td>\n",
       "      <td>55</td>\n",
       "      <td>2.5</td>\n",
       "      <td>AZ</td>\n",
       "      <td>business</td>\n",
       "    </tr>\n",
       "    <tr>\n",
       "      <th>bdsKG7MQIMmZ73lgOaTZ0A</th>\n",
       "      <td>{'Noise Level': 'average', 'Ambience': {'casua...</td>\n",
       "      <td>bdsKG7MQIMmZ73lgOaTZ0A</td>\n",
       "      <td>[Asian Fusion, Restaurants]</td>\n",
       "      <td>Las Vegas</td>\n",
       "      <td>3545 Las Vegas Blvd S\\nThe Strip\\nLas Vegas, N...</td>\n",
       "      <td>{'Sunday': {'close': '00:00', 'open': '12:00'}...</td>\n",
       "      <td>36.117748</td>\n",
       "      <td>-115.170475</td>\n",
       "      <td>FAME</td>\n",
       "      <td>[The Strip]</td>\n",
       "      <td>False</td>\n",
       "      <td>93</td>\n",
       "      <td>2.0</td>\n",
       "      <td>NV</td>\n",
       "      <td>business</td>\n",
       "    </tr>\n",
       "    <tr>\n",
       "      <th>EF5vR_UUavzPjtgMYFCg5Q</th>\n",
       "      <td>{'Noise Level': 'very_loud', 'Ambience': {'cas...</td>\n",
       "      <td>EF5vR_UUavzPjtgMYFCg5Q</td>\n",
       "      <td>[Mexican, Restaurants]</td>\n",
       "      <td>Las Vegas</td>\n",
       "      <td>Flamingo Hotel\\n3555 Las Vegas Blvd S\\nThe Str...</td>\n",
       "      <td>{'Sunday': {'close': '02:00', 'open': '08:00'}...</td>\n",
       "      <td>36.127615</td>\n",
       "      <td>-115.170364</td>\n",
       "      <td>Carlos' N' Charlie's</td>\n",
       "      <td>[The Strip]</td>\n",
       "      <td>True</td>\n",
       "      <td>272</td>\n",
       "      <td>2.0</td>\n",
       "      <td>NV</td>\n",
       "      <td>business</td>\n",
       "    </tr>\n",
       "    <tr>\n",
       "      <th>nIkJ9z9GM2mthq80s3l0Mg</th>\n",
       "      <td>{'Wheelchair Accessible': True, 'Accepts Credi...</td>\n",
       "      <td>nIkJ9z9GM2mthq80s3l0Mg</td>\n",
       "      <td>[Food, Department Stores, Grocery, Fashion, Sh...</td>\n",
       "      <td>Phoenix</td>\n",
       "      <td>1607 W Bethany Home Rd\\nPhoenix, AZ 85015</td>\n",
       "      <td>{}</td>\n",
       "      <td>33.522307</td>\n",
       "      <td>-112.092979</td>\n",
       "      <td>Walmart Supercenter</td>\n",
       "      <td>[]</td>\n",
       "      <td>True</td>\n",
       "      <td>104</td>\n",
       "      <td>2.0</td>\n",
       "      <td>AZ</td>\n",
       "      <td>business</td>\n",
       "    </tr>\n",
       "    <tr>\n",
       "      <th>qdCbbg7FyD6mzf0L_g64uA</th>\n",
       "      <td>{'Noise Level': 'average', 'Ambience': {'casua...</td>\n",
       "      <td>qdCbbg7FyD6mzf0L_g64uA</td>\n",
       "      <td>[Burgers, Fast Food, Chicken Wings, Restaurants]</td>\n",
       "      <td>Las Vegas</td>\n",
       "      <td>7925 S Rainbow Blvd\\nSouthwest\\nLas Vegas, NV ...</td>\n",
       "      <td>{}</td>\n",
       "      <td>36.044874</td>\n",
       "      <td>-115.243900</td>\n",
       "      <td>Church's Chicken</td>\n",
       "      <td>[Southwest]</td>\n",
       "      <td>True</td>\n",
       "      <td>80</td>\n",
       "      <td>2.0</td>\n",
       "      <td>NV</td>\n",
       "      <td>business</td>\n",
       "    </tr>\n",
       "    <tr>\n",
       "      <th>6sqAj_mXmYkZ3UKsyRGGHQ</th>\n",
       "      <td>{'Noise Level': 'average', 'Ambience': {'casua...</td>\n",
       "      <td>6sqAj_mXmYkZ3UKsyRGGHQ</td>\n",
       "      <td>[Hotels &amp; Travel, Arts &amp; Entertainment, Casino...</td>\n",
       "      <td>Las Vegas</td>\n",
       "      <td>18 E Fremont St\\nDowntown\\nLas Vegas, NV 89101</td>\n",
       "      <td>{}</td>\n",
       "      <td>36.172075</td>\n",
       "      <td>-115.145689</td>\n",
       "      <td>Las Vegas Club Hotel &amp; Casino</td>\n",
       "      <td>[Downtown]</td>\n",
       "      <td>False</td>\n",
       "      <td>98</td>\n",
       "      <td>2.0</td>\n",
       "      <td>NV</td>\n",
       "      <td>business</td>\n",
       "    </tr>\n",
       "    <tr>\n",
       "      <th>aEol06ruyQJZYlDMPJGfUg</th>\n",
       "      <td>{'Wheelchair Accessible': True, 'Alcohol': 'no...</td>\n",
       "      <td>aEol06ruyQJZYlDMPJGfUg</td>\n",
       "      <td>[Bakeries, Food]</td>\n",
       "      <td>Las Vegas</td>\n",
       "      <td>Downtown Summerlin\\n2010 Festival Plaza, 150\\n...</td>\n",
       "      <td>{'Sunday': {'close': '19:00', 'open': '11:00'}...</td>\n",
       "      <td>36.154862</td>\n",
       "      <td>-115.331429</td>\n",
       "      <td>Wonderland Bakery</td>\n",
       "      <td>[South Summerlin]</td>\n",
       "      <td>True</td>\n",
       "      <td>75</td>\n",
       "      <td>2.5</td>\n",
       "      <td>NV</td>\n",
       "      <td>business</td>\n",
       "    </tr>\n",
       "    <tr>\n",
       "      <th>8z-v_pn00BcnrWs9bacYUQ</th>\n",
       "      <td>{'Accepts Credit Cards': True, 'Wi-Fi': 'paid'...</td>\n",
       "      <td>8z-v_pn00BcnrWs9bacYUQ</td>\n",
       "      <td>[Hotels &amp; Travel, Arts &amp; Entertainment, Casino...</td>\n",
       "      <td>Las Vegas</td>\n",
       "      <td>The Quad Las Vegas Resort &amp; Casino\\n3535 S Las...</td>\n",
       "      <td>{'Sunday': {'close': '00:00', 'open': '00:00'}...</td>\n",
       "      <td>36.123843</td>\n",
       "      <td>-115.170220</td>\n",
       "      <td>The Quad Las Vegas Resort &amp; Casino</td>\n",
       "      <td>[The Strip]</td>\n",
       "      <td>False</td>\n",
       "      <td>609</td>\n",
       "      <td>2.0</td>\n",
       "      <td>NV</td>\n",
       "      <td>business</td>\n",
       "    </tr>\n",
       "    <tr>\n",
       "      <th>_G5pDGRJL0mhLRgIViW2sA</th>\n",
       "      <td>{'Alcohol': 'full_bar', 'Price Range': 3, 'Whe...</td>\n",
       "      <td>_G5pDGRJL0mhLRgIViW2sA</td>\n",
       "      <td>[Arts &amp; Entertainment, Performing Arts]</td>\n",
       "      <td>Las Vegas</td>\n",
       "      <td>Luxor Las Vegas\\n3900 Las Vegas Blvd S\\nThe St...</td>\n",
       "      <td>{'Sunday': {'close': '22:00', 'open': '12:00'}...</td>\n",
       "      <td>36.095580</td>\n",
       "      <td>-115.175818</td>\n",
       "      <td>Cirque du Soleil - Criss Angel Believe</td>\n",
       "      <td>[The Strip]</td>\n",
       "      <td>False</td>\n",
       "      <td>833</td>\n",
       "      <td>1.5</td>\n",
       "      <td>NV</td>\n",
       "      <td>business</td>\n",
       "    </tr>\n",
       "    <tr>\n",
       "      <th>67-DcR8Npwuc9lRph194cw</th>\n",
       "      <td>{'Noise Level': 'very_loud', 'Ambience': {'cas...</td>\n",
       "      <td>67-DcR8Npwuc9lRph194cw</td>\n",
       "      <td>[Arts &amp; Entertainment, Restaurants, Festivals,...</td>\n",
       "      <td>Las Vegas</td>\n",
       "      <td>628 W Craig Rd\\nLas Vegas, NV 89032</td>\n",
       "      <td>{}</td>\n",
       "      <td>36.241289</td>\n",
       "      <td>-115.149580</td>\n",
       "      <td>San Gennaro Feast</td>\n",
       "      <td>[]</td>\n",
       "      <td>True</td>\n",
       "      <td>85</td>\n",
       "      <td>2.5</td>\n",
       "      <td>NV</td>\n",
       "      <td>business</td>\n",
       "    </tr>\n",
       "    <tr>\n",
       "      <th>XoitWJUjHcdBl9GqHTsdjw</th>\n",
       "      <td>{'Noise Level': 'average', 'Ambience': {'casua...</td>\n",
       "      <td>XoitWJUjHcdBl9GqHTsdjw</td>\n",
       "      <td>[American (Traditional), Southern, Restaurants]</td>\n",
       "      <td>Las Vegas</td>\n",
       "      <td>6593 Las Vegas Blvd S\\nSoutheast\\nLas Vegas, N...</td>\n",
       "      <td>{}</td>\n",
       "      <td>36.067199</td>\n",
       "      <td>-115.172232</td>\n",
       "      <td>Ranch House Kitchen</td>\n",
       "      <td>[Southeast]</td>\n",
       "      <td>False</td>\n",
       "      <td>69</td>\n",
       "      <td>2.0</td>\n",
       "      <td>NV</td>\n",
       "      <td>business</td>\n",
       "    </tr>\n",
       "    <tr>\n",
       "      <th>26ecLqpDHrB3socZGfDuhQ</th>\n",
       "      <td>{}</td>\n",
       "      <td>26ecLqpDHrB3socZGfDuhQ</td>\n",
       "      <td>[Hotels &amp; Travel, Travel Services, Tours, Tran...</td>\n",
       "      <td>Las Vegas</td>\n",
       "      <td>1550 S Industrial Rd\\nDowntown\\nLas Vegas, NV ...</td>\n",
       "      <td>{'Sunday': {'close': '00:00', 'open': '00:00'}...</td>\n",
       "      <td>36.154658</td>\n",
       "      <td>-115.159219</td>\n",
       "      <td>Showtime Tours</td>\n",
       "      <td>[Downtown]</td>\n",
       "      <td>True</td>\n",
       "      <td>358</td>\n",
       "      <td>1.5</td>\n",
       "      <td>NV</td>\n",
       "      <td>business</td>\n",
       "    </tr>\n",
       "    <tr>\n",
       "      <th>lRALdho4l9cpiw9WdGkV1A</th>\n",
       "      <td>{}</td>\n",
       "      <td>lRALdho4l9cpiw9WdGkV1A</td>\n",
       "      <td>[Hotels &amp; Travel, Airlines, Transportation]</td>\n",
       "      <td>Mesa</td>\n",
       "      <td>5835 S Sossaman Rd\\nMesa, AZ 85212</td>\n",
       "      <td>{}</td>\n",
       "      <td>33.309792</td>\n",
       "      <td>-111.669200</td>\n",
       "      <td>Allegiant</td>\n",
       "      <td>[]</td>\n",
       "      <td>True</td>\n",
       "      <td>166</td>\n",
       "      <td>1.5</td>\n",
       "      <td>AZ</td>\n",
       "      <td>business</td>\n",
       "    </tr>\n",
       "    <tr>\n",
       "      <th>K5kU2IN6mXvMo-Cx0oQFZg</th>\n",
       "      <td>{'Noise Level': 'loud', 'Ambience': {'casual':...</td>\n",
       "      <td>K5kU2IN6mXvMo-Cx0oQFZg</td>\n",
       "      <td>[Mexican, Restaurants]</td>\n",
       "      <td>Glendale</td>\n",
       "      <td>6770 N Sunrise Blvd\\nSte G109\\nGlendale, AZ 85303</td>\n",
       "      <td>{'Sunday': {'close': '02:00', 'open': '11:00'}...</td>\n",
       "      <td>33.533158</td>\n",
       "      <td>-112.260384</td>\n",
       "      <td>Calico Jack's</td>\n",
       "      <td>[]</td>\n",
       "      <td>True</td>\n",
       "      <td>174</td>\n",
       "      <td>1.5</td>\n",
       "      <td>AZ</td>\n",
       "      <td>business</td>\n",
       "    </tr>\n",
       "    <tr>\n",
       "      <th>KVYSUfN89b-nih-_9HhF6g</th>\n",
       "      <td>{'Noise Level': 'very_loud', 'Ambience': {'cas...</td>\n",
       "      <td>KVYSUfN89b-nih-_9HhF6g</td>\n",
       "      <td>[Bars, American (New), Nightlife, Dance Clubs,...</td>\n",
       "      <td>Glendale</td>\n",
       "      <td>9425 W Coyotes Blvd\\nGlendale, AZ 85305</td>\n",
       "      <td>{'Sunday': {'close': '02:00', 'open': '11:00'}...</td>\n",
       "      <td>33.533049</td>\n",
       "      <td>-112.262036</td>\n",
       "      <td>McFadden's Restaurant &amp; Saloon</td>\n",
       "      <td>[]</td>\n",
       "      <td>True</td>\n",
       "      <td>311</td>\n",
       "      <td>1.5</td>\n",
       "      <td>AZ</td>\n",
       "      <td>business</td>\n",
       "    </tr>\n",
       "    <tr>\n",
       "      <th>0InQd9vuhRc98OksC3Ks8Q</th>\n",
       "      <td>{'Noise Level': 'average', 'Ambience': {'casua...</td>\n",
       "      <td>0InQd9vuhRc98OksC3Ks8Q</td>\n",
       "      <td>[American (Traditional), Buffets, Restaurants]</td>\n",
       "      <td>Las Vegas</td>\n",
       "      <td>Excalibur Hotel Casino\\n3850 Las Vegas Blvd S\\...</td>\n",
       "      <td>{'Sunday': {'close': '22:00', 'open': '07:00'}...</td>\n",
       "      <td>36.098878</td>\n",
       "      <td>-115.175641</td>\n",
       "      <td>Buffet Roundtable</td>\n",
       "      <td>[The Strip]</td>\n",
       "      <td>False</td>\n",
       "      <td>190</td>\n",
       "      <td>2.0</td>\n",
       "      <td>NV</td>\n",
       "      <td>business</td>\n",
       "    </tr>\n",
       "    <tr>\n",
       "      <th>gnafBL9EZE1kn0xD7Yf3_w</th>\n",
       "      <td>{'Good for Kids': False}</td>\n",
       "      <td>gnafBL9EZE1kn0xD7Yf3_w</td>\n",
       "      <td>[Arts &amp; Entertainment, Performing Arts]</td>\n",
       "      <td>Las Vegas</td>\n",
       "      <td>Treasure Island\\n3300 Las Vegas Blvd S\\nThe St...</td>\n",
       "      <td>{}</td>\n",
       "      <td>36.124823</td>\n",
       "      <td>-115.171971</td>\n",
       "      <td>Sirens of Treasure Island</td>\n",
       "      <td>[The Strip]</td>\n",
       "      <td>False</td>\n",
       "      <td>143</td>\n",
       "      <td>2.0</td>\n",
       "      <td>NV</td>\n",
       "      <td>business</td>\n",
       "    </tr>\n",
       "    <tr>\n",
       "      <th>wyqwO4ZqZyRR6pGk1pTBrA</th>\n",
       "      <td>{}</td>\n",
       "      <td>wyqwO4ZqZyRR6pGk1pTBrA</td>\n",
       "      <td>[Hotels &amp; Travel, Car Rental]</td>\n",
       "      <td>Las Vegas</td>\n",
       "      <td>7135 Gilespie St\\nSoutheast\\nLas Vegas, NV 89119</td>\n",
       "      <td>{'Sunday': {'close': '00:00', 'open': '00:00'}...</td>\n",
       "      <td>36.060061</td>\n",
       "      <td>-115.165044</td>\n",
       "      <td>Payless Car Rental</td>\n",
       "      <td>[Southeast]</td>\n",
       "      <td>True</td>\n",
       "      <td>474</td>\n",
       "      <td>1.5</td>\n",
       "      <td>NV</td>\n",
       "      <td>business</td>\n",
       "    </tr>\n",
       "    <tr>\n",
       "      <th>cSYSUZ3YbwR_RTughnoy5A</th>\n",
       "      <td>{'Wheelchair Accessible': True, 'Accepts Credi...</td>\n",
       "      <td>cSYSUZ3YbwR_RTughnoy5A</td>\n",
       "      <td>[Shopping Centers, Shopping]</td>\n",
       "      <td>Phoenix</td>\n",
       "      <td>9617 N Metro Pkwy W\\nPhoenix, AZ 85051</td>\n",
       "      <td>{'Sunday': {'close': '18:00', 'open': '11:00'}...</td>\n",
       "      <td>33.576494</td>\n",
       "      <td>-112.120861</td>\n",
       "      <td>Metrocenter Mall</td>\n",
       "      <td>[]</td>\n",
       "      <td>True</td>\n",
       "      <td>125</td>\n",
       "      <td>2.0</td>\n",
       "      <td>AZ</td>\n",
       "      <td>business</td>\n",
       "    </tr>\n",
       "    <tr>\n",
       "      <th>PEyRw3HOWcDnd2XHRLq5RQ</th>\n",
       "      <td>{'Good for Kids': False}</td>\n",
       "      <td>PEyRw3HOWcDnd2XHRLq5RQ</td>\n",
       "      <td>[Arts &amp; Entertainment, Festivals]</td>\n",
       "      <td>Glendale</td>\n",
       "      <td>5812 W Glendale Ave\\nGlendale, AZ 85301</td>\n",
       "      <td>{}</td>\n",
       "      <td>33.539228</td>\n",
       "      <td>-112.184329</td>\n",
       "      <td>Glendale's Best Street Food Festival</td>\n",
       "      <td>[]</td>\n",
       "      <td>True</td>\n",
       "      <td>49</td>\n",
       "      <td>1.5</td>\n",
       "      <td>AZ</td>\n",
       "      <td>business</td>\n",
       "    </tr>\n",
       "    <tr>\n",
       "      <th>3e9IUI5Dt-ktDKEQNkENVA</th>\n",
       "      <td>{'Price Range': 1, 'Wheelchair Accessible': Tr...</td>\n",
       "      <td>3e9IUI5Dt-ktDKEQNkENVA</td>\n",
       "      <td>[Food, Department Stores, Grocery, Fashion, Sh...</td>\n",
       "      <td>Phoenix</td>\n",
       "      <td>3721 E Thomas Rd\\nPhoenix, AZ 85018</td>\n",
       "      <td>{}</td>\n",
       "      <td>33.479007</td>\n",
       "      <td>-112.000813</td>\n",
       "      <td>Walmart Supercenter</td>\n",
       "      <td>[]</td>\n",
       "      <td>True</td>\n",
       "      <td>100</td>\n",
       "      <td>1.5</td>\n",
       "      <td>AZ</td>\n",
       "      <td>business</td>\n",
       "    </tr>\n",
       "    <tr>\n",
       "      <th>GQ6bCvYZxdGY6ZQyeZFeVg</th>\n",
       "      <td>{'Accepts Credit Cards': True, 'By Appointment...</td>\n",
       "      <td>GQ6bCvYZxdGY6ZQyeZFeVg</td>\n",
       "      <td>[Professional Services, Television Service Pro...</td>\n",
       "      <td>Las Vegas</td>\n",
       "      <td>1700 Vegas Dr\\nLas Vegas, NV 89106</td>\n",
       "      <td>{'Wednesday': {'close': '21:00', 'open': '07:0...</td>\n",
       "      <td>36.189293</td>\n",
       "      <td>-115.162965</td>\n",
       "      <td>Cox Communications</td>\n",
       "      <td>[]</td>\n",
       "      <td>True</td>\n",
       "      <td>253</td>\n",
       "      <td>1.5</td>\n",
       "      <td>NV</td>\n",
       "      <td>business</td>\n",
       "    </tr>\n",
       "    <tr>\n",
       "      <th>UuBZkKnckkRmYt3jFn2gaQ</th>\n",
       "      <td>{'Noise Level': 'loud', 'Ambience': {'casual':...</td>\n",
       "      <td>UuBZkKnckkRmYt3jFn2gaQ</td>\n",
       "      <td>[Casinos, Arts &amp; Entertainment, American (New)...</td>\n",
       "      <td>Las Vegas</td>\n",
       "      <td>Circus Circus Las Vegas\\n2800 Las Vegas Blvd S...</td>\n",
       "      <td>{'Sunday': {'close': '21:00', 'open': '16:30'}...</td>\n",
       "      <td>36.137667</td>\n",
       "      <td>-115.164659</td>\n",
       "      <td>Circus Buffet</td>\n",
       "      <td>[The Strip]</td>\n",
       "      <td>True</td>\n",
       "      <td>272</td>\n",
       "      <td>2.0</td>\n",
       "      <td>NV</td>\n",
       "      <td>business</td>\n",
       "    </tr>\n",
       "    <tr>\n",
       "      <th>CJ8IURVsHxTIu2Kzp2Kumw</th>\n",
       "      <td>{'Noise Level': 'average', 'Ambience': {'casua...</td>\n",
       "      <td>CJ8IURVsHxTIu2Kzp2Kumw</td>\n",
       "      <td>[Buffets, Restaurants]</td>\n",
       "      <td>Las Vegas</td>\n",
       "      <td>Imperial Palace Hotel &amp; Casino\\n3535 Las Vegas...</td>\n",
       "      <td>{'Sunday': {'close': '21:00', 'open': '07:00'}...</td>\n",
       "      <td>36.118346</td>\n",
       "      <td>-115.170129</td>\n",
       "      <td>Emperor's Buffet</td>\n",
       "      <td>[The Strip]</td>\n",
       "      <td>False</td>\n",
       "      <td>57</td>\n",
       "      <td>1.5</td>\n",
       "      <td>NV</td>\n",
       "      <td>business</td>\n",
       "    </tr>\n",
       "    <tr>\n",
       "      <th>inDYSqSDMyrfBhOZc702rw</th>\n",
       "      <td>{'Accepts Credit Cards': True, 'By Appointment...</td>\n",
       "      <td>inDYSqSDMyrfBhOZc702rw</td>\n",
       "      <td>[Professional Services, Television Service Pro...</td>\n",
       "      <td>Phoenix</td>\n",
       "      <td>Phoenix, AZ 85027</td>\n",
       "      <td>{'Sunday': {'close': '00:00', 'open': '00:00'}...</td>\n",
       "      <td>33.678238</td>\n",
       "      <td>-112.101291</td>\n",
       "      <td>Cox Communications</td>\n",
       "      <td>[]</td>\n",
       "      <td>True</td>\n",
       "      <td>517</td>\n",
       "      <td>1.5</td>\n",
       "      <td>AZ</td>\n",
       "      <td>business</td>\n",
       "    </tr>\n",
       "  </tbody>\n",
       "</table>\n",
       "<p>6317 rows × 15 columns</p>\n",
       "</div>"
      ],
      "text/plain": [
       "                                                               attributes  \\\n",
       "business_id                                                                 \n",
       "lliksv-tglfUz1T3B3vgvA  {'Noise Level': 'average', 'Ambience': {'casua...   \n",
       "mQde7KRomOQoUyPGTqeXhA                                                 {}   \n",
       "GmzpzmxinfLMw5OXQKFEBQ  {'Noise Level': 'average', 'Ambience': {'casua...   \n",
       "CZBYYCb4xBwNlSIYNc6Eiw  {'Accepts Credit Cards': True, 'Parking': {'st...   \n",
       "AtjsjFzalWqJ7S9DUFQ4bw  {'Noise Level': 'very_loud', 'Ambience': {'cas...   \n",
       "nYer89hXYAoddMEKTxw7kA                           {'Good for Kids': False}   \n",
       "qrjPKkSPzodIfP0kW1mtEw  {'Price Range': 2, 'Wheelchair Accessible': Tr...   \n",
       "qcF6SHcGRML7gihfpNl_zA  {'Wheelchair Accessible': True, 'Parking': {'s...   \n",
       "84NQRcMC0ldIC86yRw0vpA  {'Price Range': 1, 'Wheelchair Accessible': Tr...   \n",
       "a-VGlZ06IaFTCX0vd0xm-A                                                 {}   \n",
       "Y_P4hdBnB5TZD3-nsi9-jQ                     {'Accepts Credit Cards': True}   \n",
       "cA9cTalUXibyWZZYjh-kiQ  {'Accepts Credit Cards': True, 'By Appointment...   \n",
       "_tYT5_N3zCwrpkdfVhqrnw  {'Wheelchair Accessible': True, 'Accepts Credi...   \n",
       "f8luua75t2Is5iP6nxcXQQ  {'Price Range': 1, 'Wheelchair Accessible': Tr...   \n",
       "OwBPjUz2o0J5K3DzcHkBtg  {'Noise Level': 'average', 'Ambience': {'casua...   \n",
       "4bnLfKXorJ9HVmt7Oc8lcw                           {'Good for Kids': False}   \n",
       "QBHcPkoRsPb68Oq7zRj44A  {'Noise Level': 'average', 'Ambience': {'casua...   \n",
       "JXUX_oiCrfHm6b1sbqQd7A  {'Noise Level': 'quiet', 'Ambience': {'casual'...   \n",
       "1hY0Q3BYDq6CJDQay2xRQA  {'Wheelchair Accessible': True, 'Accepts Credi...   \n",
       "Us-93TD-lG_kVJzDPvmppw                     {'Accepts Credit Cards': True}   \n",
       "3AoCAj24yffBkl1vh9lkuQ  {'Wheelchair Accessible': True, 'Accepts Credi...   \n",
       "hrnvVr3hmb2oD3oUnJrNSw  {'Noise Level': 'average', 'Coat Check': True,...   \n",
       "RHIIMuvu6xPNHxtZv_QWHg  {'Accepts Credit Cards': True, 'Wi-Fi': 'paid'...   \n",
       "QnAzW6KMSciUcuJ20oI3Bw  {'Noise Level': 'average', 'Ambience': {'casua...   \n",
       "8clKtz2RxFRDLnzZwMgA4w                                                 {}   \n",
       "Q9pYlR8ckKpbLe1fn8apGg                     {'Accepts Credit Cards': True}   \n",
       "RPDbyZWiN_ayXevgko0zOA  {'Noise Level': 'average', 'Ambience': {'casua...   \n",
       "02CV16hndzI60LuI2kDkOA  {'Accepts Credit Cards': True, 'By Appointment...   \n",
       "b7GM0x9zZU5gq1aXErUf7Q  {'Noise Level': 'quiet', 'Ambience': {'casual'...   \n",
       "XfVGU6WGZKc867spn2TImw  {'Noise Level': 'average', 'Ambience': {'casua...   \n",
       "...                                                                   ...   \n",
       "ipNveHQxPlRmgSe9CSt9dw  {'Coat Check': False, 'Noise Level': 'average'...   \n",
       "siatNcf5O_vH0sL6OdvYLQ  {'Accepts Credit Cards': True, 'Price Range': ...   \n",
       "dNyjWz6CnYvrhPnpqNV5NA                            {'Good for Kids': True}   \n",
       "TmTB0Nel-U_zOr04OTUreA                     {'Accepts Credit Cards': True}   \n",
       "Ca_u-CVUEswSkdmW0oscvA                                                 {}   \n",
       "erBoatMp1TFi_NPxTigp6w  {'BYOB': False, 'Price Range': 2, 'Accepts Cre...   \n",
       "bdsKG7MQIMmZ73lgOaTZ0A  {'Noise Level': 'average', 'Ambience': {'casua...   \n",
       "EF5vR_UUavzPjtgMYFCg5Q  {'Noise Level': 'very_loud', 'Ambience': {'cas...   \n",
       "nIkJ9z9GM2mthq80s3l0Mg  {'Wheelchair Accessible': True, 'Accepts Credi...   \n",
       "qdCbbg7FyD6mzf0L_g64uA  {'Noise Level': 'average', 'Ambience': {'casua...   \n",
       "6sqAj_mXmYkZ3UKsyRGGHQ  {'Noise Level': 'average', 'Ambience': {'casua...   \n",
       "aEol06ruyQJZYlDMPJGfUg  {'Wheelchair Accessible': True, 'Alcohol': 'no...   \n",
       "8z-v_pn00BcnrWs9bacYUQ  {'Accepts Credit Cards': True, 'Wi-Fi': 'paid'...   \n",
       "_G5pDGRJL0mhLRgIViW2sA  {'Alcohol': 'full_bar', 'Price Range': 3, 'Whe...   \n",
       "67-DcR8Npwuc9lRph194cw  {'Noise Level': 'very_loud', 'Ambience': {'cas...   \n",
       "XoitWJUjHcdBl9GqHTsdjw  {'Noise Level': 'average', 'Ambience': {'casua...   \n",
       "26ecLqpDHrB3socZGfDuhQ                                                 {}   \n",
       "lRALdho4l9cpiw9WdGkV1A                                                 {}   \n",
       "K5kU2IN6mXvMo-Cx0oQFZg  {'Noise Level': 'loud', 'Ambience': {'casual':...   \n",
       "KVYSUfN89b-nih-_9HhF6g  {'Noise Level': 'very_loud', 'Ambience': {'cas...   \n",
       "0InQd9vuhRc98OksC3Ks8Q  {'Noise Level': 'average', 'Ambience': {'casua...   \n",
       "gnafBL9EZE1kn0xD7Yf3_w                           {'Good for Kids': False}   \n",
       "wyqwO4ZqZyRR6pGk1pTBrA                                                 {}   \n",
       "cSYSUZ3YbwR_RTughnoy5A  {'Wheelchair Accessible': True, 'Accepts Credi...   \n",
       "PEyRw3HOWcDnd2XHRLq5RQ                           {'Good for Kids': False}   \n",
       "3e9IUI5Dt-ktDKEQNkENVA  {'Price Range': 1, 'Wheelchair Accessible': Tr...   \n",
       "GQ6bCvYZxdGY6ZQyeZFeVg  {'Accepts Credit Cards': True, 'By Appointment...   \n",
       "UuBZkKnckkRmYt3jFn2gaQ  {'Noise Level': 'loud', 'Ambience': {'casual':...   \n",
       "CJ8IURVsHxTIu2Kzp2Kumw  {'Noise Level': 'average', 'Ambience': {'casua...   \n",
       "inDYSqSDMyrfBhOZc702rw  {'Accepts Credit Cards': True, 'By Appointment...   \n",
       "\n",
       "                                   business_id  \\\n",
       "business_id                                      \n",
       "lliksv-tglfUz1T3B3vgvA  lliksv-tglfUz1T3B3vgvA   \n",
       "mQde7KRomOQoUyPGTqeXhA  mQde7KRomOQoUyPGTqeXhA   \n",
       "GmzpzmxinfLMw5OXQKFEBQ  GmzpzmxinfLMw5OXQKFEBQ   \n",
       "CZBYYCb4xBwNlSIYNc6Eiw  CZBYYCb4xBwNlSIYNc6Eiw   \n",
       "AtjsjFzalWqJ7S9DUFQ4bw  AtjsjFzalWqJ7S9DUFQ4bw   \n",
       "nYer89hXYAoddMEKTxw7kA  nYer89hXYAoddMEKTxw7kA   \n",
       "qrjPKkSPzodIfP0kW1mtEw  qrjPKkSPzodIfP0kW1mtEw   \n",
       "qcF6SHcGRML7gihfpNl_zA  qcF6SHcGRML7gihfpNl_zA   \n",
       "84NQRcMC0ldIC86yRw0vpA  84NQRcMC0ldIC86yRw0vpA   \n",
       "a-VGlZ06IaFTCX0vd0xm-A  a-VGlZ06IaFTCX0vd0xm-A   \n",
       "Y_P4hdBnB5TZD3-nsi9-jQ  Y_P4hdBnB5TZD3-nsi9-jQ   \n",
       "cA9cTalUXibyWZZYjh-kiQ  cA9cTalUXibyWZZYjh-kiQ   \n",
       "_tYT5_N3zCwrpkdfVhqrnw  _tYT5_N3zCwrpkdfVhqrnw   \n",
       "f8luua75t2Is5iP6nxcXQQ  f8luua75t2Is5iP6nxcXQQ   \n",
       "OwBPjUz2o0J5K3DzcHkBtg  OwBPjUz2o0J5K3DzcHkBtg   \n",
       "4bnLfKXorJ9HVmt7Oc8lcw  4bnLfKXorJ9HVmt7Oc8lcw   \n",
       "QBHcPkoRsPb68Oq7zRj44A  QBHcPkoRsPb68Oq7zRj44A   \n",
       "JXUX_oiCrfHm6b1sbqQd7A  JXUX_oiCrfHm6b1sbqQd7A   \n",
       "1hY0Q3BYDq6CJDQay2xRQA  1hY0Q3BYDq6CJDQay2xRQA   \n",
       "Us-93TD-lG_kVJzDPvmppw  Us-93TD-lG_kVJzDPvmppw   \n",
       "3AoCAj24yffBkl1vh9lkuQ  3AoCAj24yffBkl1vh9lkuQ   \n",
       "hrnvVr3hmb2oD3oUnJrNSw  hrnvVr3hmb2oD3oUnJrNSw   \n",
       "RHIIMuvu6xPNHxtZv_QWHg  RHIIMuvu6xPNHxtZv_QWHg   \n",
       "QnAzW6KMSciUcuJ20oI3Bw  QnAzW6KMSciUcuJ20oI3Bw   \n",
       "8clKtz2RxFRDLnzZwMgA4w  8clKtz2RxFRDLnzZwMgA4w   \n",
       "Q9pYlR8ckKpbLe1fn8apGg  Q9pYlR8ckKpbLe1fn8apGg   \n",
       "RPDbyZWiN_ayXevgko0zOA  RPDbyZWiN_ayXevgko0zOA   \n",
       "02CV16hndzI60LuI2kDkOA  02CV16hndzI60LuI2kDkOA   \n",
       "b7GM0x9zZU5gq1aXErUf7Q  b7GM0x9zZU5gq1aXErUf7Q   \n",
       "XfVGU6WGZKc867spn2TImw  XfVGU6WGZKc867spn2TImw   \n",
       "...                                        ...   \n",
       "ipNveHQxPlRmgSe9CSt9dw  ipNveHQxPlRmgSe9CSt9dw   \n",
       "siatNcf5O_vH0sL6OdvYLQ  siatNcf5O_vH0sL6OdvYLQ   \n",
       "dNyjWz6CnYvrhPnpqNV5NA  dNyjWz6CnYvrhPnpqNV5NA   \n",
       "TmTB0Nel-U_zOr04OTUreA  TmTB0Nel-U_zOr04OTUreA   \n",
       "Ca_u-CVUEswSkdmW0oscvA  Ca_u-CVUEswSkdmW0oscvA   \n",
       "erBoatMp1TFi_NPxTigp6w  erBoatMp1TFi_NPxTigp6w   \n",
       "bdsKG7MQIMmZ73lgOaTZ0A  bdsKG7MQIMmZ73lgOaTZ0A   \n",
       "EF5vR_UUavzPjtgMYFCg5Q  EF5vR_UUavzPjtgMYFCg5Q   \n",
       "nIkJ9z9GM2mthq80s3l0Mg  nIkJ9z9GM2mthq80s3l0Mg   \n",
       "qdCbbg7FyD6mzf0L_g64uA  qdCbbg7FyD6mzf0L_g64uA   \n",
       "6sqAj_mXmYkZ3UKsyRGGHQ  6sqAj_mXmYkZ3UKsyRGGHQ   \n",
       "aEol06ruyQJZYlDMPJGfUg  aEol06ruyQJZYlDMPJGfUg   \n",
       "8z-v_pn00BcnrWs9bacYUQ  8z-v_pn00BcnrWs9bacYUQ   \n",
       "_G5pDGRJL0mhLRgIViW2sA  _G5pDGRJL0mhLRgIViW2sA   \n",
       "67-DcR8Npwuc9lRph194cw  67-DcR8Npwuc9lRph194cw   \n",
       "XoitWJUjHcdBl9GqHTsdjw  XoitWJUjHcdBl9GqHTsdjw   \n",
       "26ecLqpDHrB3socZGfDuhQ  26ecLqpDHrB3socZGfDuhQ   \n",
       "lRALdho4l9cpiw9WdGkV1A  lRALdho4l9cpiw9WdGkV1A   \n",
       "K5kU2IN6mXvMo-Cx0oQFZg  K5kU2IN6mXvMo-Cx0oQFZg   \n",
       "KVYSUfN89b-nih-_9HhF6g  KVYSUfN89b-nih-_9HhF6g   \n",
       "0InQd9vuhRc98OksC3Ks8Q  0InQd9vuhRc98OksC3Ks8Q   \n",
       "gnafBL9EZE1kn0xD7Yf3_w  gnafBL9EZE1kn0xD7Yf3_w   \n",
       "wyqwO4ZqZyRR6pGk1pTBrA  wyqwO4ZqZyRR6pGk1pTBrA   \n",
       "cSYSUZ3YbwR_RTughnoy5A  cSYSUZ3YbwR_RTughnoy5A   \n",
       "PEyRw3HOWcDnd2XHRLq5RQ  PEyRw3HOWcDnd2XHRLq5RQ   \n",
       "3e9IUI5Dt-ktDKEQNkENVA  3e9IUI5Dt-ktDKEQNkENVA   \n",
       "GQ6bCvYZxdGY6ZQyeZFeVg  GQ6bCvYZxdGY6ZQyeZFeVg   \n",
       "UuBZkKnckkRmYt3jFn2gaQ  UuBZkKnckkRmYt3jFn2gaQ   \n",
       "CJ8IURVsHxTIu2Kzp2Kumw  CJ8IURVsHxTIu2Kzp2Kumw   \n",
       "inDYSqSDMyrfBhOZc702rw  inDYSqSDMyrfBhOZc702rw   \n",
       "\n",
       "                                                               categories  \\\n",
       "business_id                                                                 \n",
       "lliksv-tglfUz1T3B3vgvA                                [Thai, Restaurants]   \n",
       "mQde7KRomOQoUyPGTqeXhA  [Animal Shelters, Veterinarians, Pet Stores, P...   \n",
       "GmzpzmxinfLMw5OXQKFEBQ                            [Barbeque, Restaurants]   \n",
       "CZBYYCb4xBwNlSIYNc6Eiw                              [Active Life, Hiking]   \n",
       "AtjsjFzalWqJ7S9DUFQ4bw  [Hotels & Travel, Arts & Entertainment, Casino...   \n",
       "nYer89hXYAoddMEKTxw7kA                        [Yelp Events, Local Flavor]   \n",
       "qrjPKkSPzodIfP0kW1mtEw  [Hair Salons, Skin Care, Hair Removal, Beauty ...   \n",
       "qcF6SHcGRML7gihfpNl_zA  [Skin Care, Threading Services, Laser Hair Rem...   \n",
       "84NQRcMC0ldIC86yRw0vpA  [Food, Ice Cream & Frozen Yogurt, Gelato, Dess...   \n",
       "a-VGlZ06IaFTCX0vd0xm-A                [Churches, Religious Organizations]   \n",
       "Y_P4hdBnB5TZD3-nsi9-jQ                              [Automotive, Parking]   \n",
       "cA9cTalUXibyWZZYjh-kiQ  [Local Services, Damage Restoration, Air Duct ...   \n",
       "_tYT5_N3zCwrpkdfVhqrnw  [Paint & Sip, Art Classes, Arts & Entertainmen...   \n",
       "f8luua75t2Is5iP6nxcXQQ                  [Food, Ice Cream & Frozen Yogurt]   \n",
       "OwBPjUz2o0J5K3DzcHkBtg                [Sushi Bars, Japanese, Restaurants]   \n",
       "4bnLfKXorJ9HVmt7Oc8lcw                                     [Local Flavor]   \n",
       "QBHcPkoRsPb68Oq7zRj44A          [Food, Desserts, Shaved Ice, Food Trucks]   \n",
       "JXUX_oiCrfHm6b1sbqQd7A                                       [Food, Poke]   \n",
       "1hY0Q3BYDq6CJDQay2xRQA  [Health Markets, Food, Shopping, Vitamins & Su...   \n",
       "Us-93TD-lG_kVJzDPvmppw                  [Local Services, Carpet Cleaning]   \n",
       "3AoCAj24yffBkl1vh9lkuQ  [Automotive, Auto Customization, Auto Glass Se...   \n",
       "hrnvVr3hmb2oD3oUnJrNSw  [Arts & Entertainment, Performing Arts, Music ...   \n",
       "RHIIMuvu6xPNHxtZv_QWHg  [Hotels & Travel, Event Planning & Services, V...   \n",
       "QnAzW6KMSciUcuJ20oI3Bw  [American (Traditional), Pizza, Salad, Restaur...   \n",
       "8clKtz2RxFRDLnzZwMgA4w     [Pet Services, Pet Boarding/Pet Sitting, Pets]   \n",
       "Q9pYlR8ckKpbLe1fn8apGg                          [Auto Repair, Automotive]   \n",
       "RPDbyZWiN_ayXevgko0zOA                    [Korean, Barbeque, Restaurants]   \n",
       "02CV16hndzI60LuI2kDkOA  [Movers, Local Services, Home Services, Self S...   \n",
       "b7GM0x9zZU5gq1aXErUf7Q  [Bakeries, Food, Cafes, Chocolatiers & Shops, ...   \n",
       "XfVGU6WGZKc867spn2TImw          [Italian, Pizza, Sandwiches, Restaurants]   \n",
       "...                                                                   ...   \n",
       "ipNveHQxPlRmgSe9CSt9dw  [Arts & Entertainment, Music Venues, Bars, Cas...   \n",
       "siatNcf5O_vH0sL6OdvYLQ                       [Shopping Centers, Shopping]   \n",
       "dNyjWz6CnYvrhPnpqNV5NA                  [Arts & Entertainment, Festivals]   \n",
       "TmTB0Nel-U_zOr04OTUreA  [Local Services, Shipping Centers, Post Office...   \n",
       "Ca_u-CVUEswSkdmW0oscvA                      [Hotels & Travel, Car Rental]   \n",
       "erBoatMp1TFi_NPxTigp6w                             [Mexican, Restaurants]   \n",
       "bdsKG7MQIMmZ73lgOaTZ0A                        [Asian Fusion, Restaurants]   \n",
       "EF5vR_UUavzPjtgMYFCg5Q                             [Mexican, Restaurants]   \n",
       "nIkJ9z9GM2mthq80s3l0Mg  [Food, Department Stores, Grocery, Fashion, Sh...   \n",
       "qdCbbg7FyD6mzf0L_g64uA   [Burgers, Fast Food, Chicken Wings, Restaurants]   \n",
       "6sqAj_mXmYkZ3UKsyRGGHQ  [Hotels & Travel, Arts & Entertainment, Casino...   \n",
       "aEol06ruyQJZYlDMPJGfUg                                   [Bakeries, Food]   \n",
       "8z-v_pn00BcnrWs9bacYUQ  [Hotels & Travel, Arts & Entertainment, Casino...   \n",
       "_G5pDGRJL0mhLRgIViW2sA            [Arts & Entertainment, Performing Arts]   \n",
       "67-DcR8Npwuc9lRph194cw  [Arts & Entertainment, Restaurants, Festivals,...   \n",
       "XoitWJUjHcdBl9GqHTsdjw    [American (Traditional), Southern, Restaurants]   \n",
       "26ecLqpDHrB3socZGfDuhQ  [Hotels & Travel, Travel Services, Tours, Tran...   \n",
       "lRALdho4l9cpiw9WdGkV1A        [Hotels & Travel, Airlines, Transportation]   \n",
       "K5kU2IN6mXvMo-Cx0oQFZg                             [Mexican, Restaurants]   \n",
       "KVYSUfN89b-nih-_9HhF6g  [Bars, American (New), Nightlife, Dance Clubs,...   \n",
       "0InQd9vuhRc98OksC3Ks8Q     [American (Traditional), Buffets, Restaurants]   \n",
       "gnafBL9EZE1kn0xD7Yf3_w            [Arts & Entertainment, Performing Arts]   \n",
       "wyqwO4ZqZyRR6pGk1pTBrA                      [Hotels & Travel, Car Rental]   \n",
       "cSYSUZ3YbwR_RTughnoy5A                       [Shopping Centers, Shopping]   \n",
       "PEyRw3HOWcDnd2XHRLq5RQ                  [Arts & Entertainment, Festivals]   \n",
       "3e9IUI5Dt-ktDKEQNkENVA  [Food, Department Stores, Grocery, Fashion, Sh...   \n",
       "GQ6bCvYZxdGY6ZQyeZFeVg  [Professional Services, Television Service Pro...   \n",
       "UuBZkKnckkRmYt3jFn2gaQ  [Casinos, Arts & Entertainment, American (New)...   \n",
       "CJ8IURVsHxTIu2Kzp2Kumw                             [Buffets, Restaurants]   \n",
       "inDYSqSDMyrfBhOZc702rw  [Professional Services, Television Service Pro...   \n",
       "\n",
       "                                   city  \\\n",
       "business_id                               \n",
       "lliksv-tglfUz1T3B3vgvA        Las Vegas   \n",
       "mQde7KRomOQoUyPGTqeXhA          Phoenix   \n",
       "GmzpzmxinfLMw5OXQKFEBQ          Phoenix   \n",
       "CZBYYCb4xBwNlSIYNc6Eiw  Apache Junction   \n",
       "AtjsjFzalWqJ7S9DUFQ4bw        Las Vegas   \n",
       "nYer89hXYAoddMEKTxw7kA          Phoenix   \n",
       "qrjPKkSPzodIfP0kW1mtEw       Scottsdale   \n",
       "qcF6SHcGRML7gihfpNl_zA        Las Vegas   \n",
       "84NQRcMC0ldIC86yRw0vpA             Mesa   \n",
       "a-VGlZ06IaFTCX0vd0xm-A        Henderson   \n",
       "Y_P4hdBnB5TZD3-nsi9-jQ          Phoenix   \n",
       "cA9cTalUXibyWZZYjh-kiQ        Las Vegas   \n",
       "_tYT5_N3zCwrpkdfVhqrnw       Scottsdale   \n",
       "f8luua75t2Is5iP6nxcXQQ         Goodyear   \n",
       "OwBPjUz2o0J5K3DzcHkBtg        Las Vegas   \n",
       "4bnLfKXorJ9HVmt7Oc8lcw          Phoenix   \n",
       "QBHcPkoRsPb68Oq7zRj44A        Henderson   \n",
       "JXUX_oiCrfHm6b1sbqQd7A  North Las Vegas   \n",
       "1hY0Q3BYDq6CJDQay2xRQA        Las Vegas   \n",
       "Us-93TD-lG_kVJzDPvmppw          Phoenix   \n",
       "3AoCAj24yffBkl1vh9lkuQ        Las Vegas   \n",
       "hrnvVr3hmb2oD3oUnJrNSw            Tempe   \n",
       "RHIIMuvu6xPNHxtZv_QWHg        Las Vegas   \n",
       "QnAzW6KMSciUcuJ20oI3Bw          Gilbert   \n",
       "8clKtz2RxFRDLnzZwMgA4w        Las Vegas   \n",
       "Q9pYlR8ckKpbLe1fn8apGg        Las Vegas   \n",
       "RPDbyZWiN_ayXevgko0zOA        Las Vegas   \n",
       "02CV16hndzI60LuI2kDkOA          Phoenix   \n",
       "b7GM0x9zZU5gq1aXErUf7Q          Phoenix   \n",
       "XfVGU6WGZKc867spn2TImw          Phoenix   \n",
       "...                                 ...   \n",
       "ipNveHQxPlRmgSe9CSt9dw    Fort McDowell   \n",
       "siatNcf5O_vH0sL6OdvYLQ          Phoenix   \n",
       "dNyjWz6CnYvrhPnpqNV5NA       Scottsdale   \n",
       "TmTB0Nel-U_zOr04OTUreA        Las Vegas   \n",
       "Ca_u-CVUEswSkdmW0oscvA        Las Vegas   \n",
       "erBoatMp1TFi_NPxTigp6w       Scottsdale   \n",
       "bdsKG7MQIMmZ73lgOaTZ0A        Las Vegas   \n",
       "EF5vR_UUavzPjtgMYFCg5Q        Las Vegas   \n",
       "nIkJ9z9GM2mthq80s3l0Mg          Phoenix   \n",
       "qdCbbg7FyD6mzf0L_g64uA        Las Vegas   \n",
       "6sqAj_mXmYkZ3UKsyRGGHQ        Las Vegas   \n",
       "aEol06ruyQJZYlDMPJGfUg        Las Vegas   \n",
       "8z-v_pn00BcnrWs9bacYUQ        Las Vegas   \n",
       "_G5pDGRJL0mhLRgIViW2sA        Las Vegas   \n",
       "67-DcR8Npwuc9lRph194cw        Las Vegas   \n",
       "XoitWJUjHcdBl9GqHTsdjw        Las Vegas   \n",
       "26ecLqpDHrB3socZGfDuhQ        Las Vegas   \n",
       "lRALdho4l9cpiw9WdGkV1A             Mesa   \n",
       "K5kU2IN6mXvMo-Cx0oQFZg         Glendale   \n",
       "KVYSUfN89b-nih-_9HhF6g         Glendale   \n",
       "0InQd9vuhRc98OksC3Ks8Q        Las Vegas   \n",
       "gnafBL9EZE1kn0xD7Yf3_w        Las Vegas   \n",
       "wyqwO4ZqZyRR6pGk1pTBrA        Las Vegas   \n",
       "cSYSUZ3YbwR_RTughnoy5A          Phoenix   \n",
       "PEyRw3HOWcDnd2XHRLq5RQ         Glendale   \n",
       "3e9IUI5Dt-ktDKEQNkENVA          Phoenix   \n",
       "GQ6bCvYZxdGY6ZQyeZFeVg        Las Vegas   \n",
       "UuBZkKnckkRmYt3jFn2gaQ        Las Vegas   \n",
       "CJ8IURVsHxTIu2Kzp2Kumw        Las Vegas   \n",
       "inDYSqSDMyrfBhOZc702rw          Phoenix   \n",
       "\n",
       "                                                             full_address  \\\n",
       "business_id                                                                 \n",
       "lliksv-tglfUz1T3B3vgvA  953 E Sahara Ave\\nSte A5\\nEastside\\nLas Vegas,...   \n",
       "mQde7KRomOQoUyPGTqeXhA               1521 W Dobbins Rd\\nPhoenix, AZ 85041   \n",
       "GmzpzmxinfLMw5OXQKFEBQ            4301 E University Dr\\nPhoenix, AZ 85034   \n",
       "CZBYYCb4xBwNlSIYNc6Eiw    6109 N. Apache Trail\\nApache Junction, AZ 85219   \n",
       "AtjsjFzalWqJ7S9DUFQ4bw  3708 Las Vegas Blvd S\\nThe Strip\\nLas Vegas, N...   \n",
       "nYer89hXYAoddMEKTxw7kA           FilmBar\\n815 N 2nd St\\nPhoenix, AZ 85004   \n",
       "qrjPKkSPzodIfP0kW1mtEw  4328 N Wells Fargo Ave\\nSte 2\\nScottsdale, AZ ...   \n",
       "qcF6SHcGRML7gihfpNl_zA  2960 S Durango Dr\\nSte 112\\nWestside\\nLas Vega...   \n",
       "84NQRcMC0ldIC86yRw0vpA           5251 E Brown Rd\\nSte 104\\nMesa, AZ 85205   \n",
       "a-VGlZ06IaFTCX0vd0xm-A        1001 New Beginnings Dr\\nHenderson, NV 89011   \n",
       "Y_P4hdBnB5TZD3-nsi9-jQ                  3150 S 48th st\\nPhoenix, AZ 85040   \n",
       "cA9cTalUXibyWZZYjh-kiQ  8985 S Durango Dr\\nSouthwest\\nLas Vegas, NV 89113   \n",
       "_tYT5_N3zCwrpkdfVhqrnw          4165 N Craftsman Ct\\nScottsdale, AZ 85251   \n",
       "f8luua75t2Is5iP6nxcXQQ  14175 W Indian School Rd\\nSte A-5\\nGoodyear, A...   \n",
       "OwBPjUz2o0J5K3DzcHkBtg  7377 S Jones Blvd\\nSte 116\\nSouthwest\\nLas Veg...   \n",
       "4bnLfKXorJ9HVmt7Oc8lcw  La Grande Orange Bake Shop\\n4410 N 40th St\\nPh...   \n",
       "QBHcPkoRsPb68Oq7zRj44A             898 S Boulder Hwy\\nHenderson, NV 89015   \n",
       "JXUX_oiCrfHm6b1sbqQd7A  655 W Craig Rd\\nSte 118\\nNorth Las Vegas, NV 8...   \n",
       "1hY0Q3BYDq6CJDQay2xRQA  9680 S Eastern Ave\\nSte 120\\nSoutheast\\nLas Ve...   \n",
       "Us-93TD-lG_kVJzDPvmppw             5444 E Camelback Rd\\nPhoenix, AZ 85018   \n",
       "3AoCAj24yffBkl1vh9lkuQ    4510 W Diablo Dr\\nSte A102\\nLas Vegas, NV 89118   \n",
       "hrnvVr3hmb2oD3oUnJrNSw             700 W Rio Salado Pkwy\\nTempe, AZ 85281   \n",
       "RHIIMuvu6xPNHxtZv_QWHg  3752 Las Vegas Blvd S\\nThe Strip\\nLas Vegas, N...   \n",
       "QnAzW6KMSciUcuJ20oI3Bw           3000 E Ray Rd\\nBldg 1\\nGilbert, AZ 85296   \n",
       "8clKtz2RxFRDLnzZwMgA4w       5175 S Valley View Blvd\\nLas Vegas, NV 89118   \n",
       "Q9pYlR8ckKpbLe1fn8apGg  544 E Silverado Ranch Blvd\\nSte 104\\nSoutheast...   \n",
       "RPDbyZWiN_ayXevgko0zOA  5808 spring mountain rd\\nSte 101\\nChinatown\\nL...   \n",
       "02CV16hndzI60LuI2kDkOA                 2330 N 31st Ave\\nPhoenix, AZ 85009   \n",
       "b7GM0x9zZU5gq1aXErUf7Q  Biltmore Fashion Park\\n2502 E Camelback, Ste 1...   \n",
       "XfVGU6WGZKc867spn2TImw           705 N 1st St\\nSte 120\\nPhoenix, AZ 85004   \n",
       "...                                                                   ...   \n",
       "ipNveHQxPlRmgSe9CSt9dw  10424 N Fort Mcdowell Rd\\nFort McDowell, AZ 85264   \n",
       "siatNcf5O_vH0sL6OdvYLQ          1703 W Bethany Home Rd\\nPhoenix, AZ 85015   \n",
       "dNyjWz6CnYvrhPnpqNV5NA               7555 N Pima Rd\\nScottsdale, AZ 85258   \n",
       "TmTB0Nel-U_zOr04OTUreA    455 E Pebble Rd\\nSoutheast\\nLas Vegas, NV 89123   \n",
       "Ca_u-CVUEswSkdmW0oscvA  Mccarran Int'L Airport\\n7135 Gillespie Street\\...   \n",
       "erBoatMp1TFi_NPxTigp6w          7135 E Camelback Rd\\nScottsdale, AZ 85251   \n",
       "bdsKG7MQIMmZ73lgOaTZ0A  3545 Las Vegas Blvd S\\nThe Strip\\nLas Vegas, N...   \n",
       "EF5vR_UUavzPjtgMYFCg5Q  Flamingo Hotel\\n3555 Las Vegas Blvd S\\nThe Str...   \n",
       "nIkJ9z9GM2mthq80s3l0Mg          1607 W Bethany Home Rd\\nPhoenix, AZ 85015   \n",
       "qdCbbg7FyD6mzf0L_g64uA  7925 S Rainbow Blvd\\nSouthwest\\nLas Vegas, NV ...   \n",
       "6sqAj_mXmYkZ3UKsyRGGHQ     18 E Fremont St\\nDowntown\\nLas Vegas, NV 89101   \n",
       "aEol06ruyQJZYlDMPJGfUg  Downtown Summerlin\\n2010 Festival Plaza, 150\\n...   \n",
       "8z-v_pn00BcnrWs9bacYUQ  The Quad Las Vegas Resort & Casino\\n3535 S Las...   \n",
       "_G5pDGRJL0mhLRgIViW2sA  Luxor Las Vegas\\n3900 Las Vegas Blvd S\\nThe St...   \n",
       "67-DcR8Npwuc9lRph194cw                628 W Craig Rd\\nLas Vegas, NV 89032   \n",
       "XoitWJUjHcdBl9GqHTsdjw  6593 Las Vegas Blvd S\\nSoutheast\\nLas Vegas, N...   \n",
       "26ecLqpDHrB3socZGfDuhQ  1550 S Industrial Rd\\nDowntown\\nLas Vegas, NV ...   \n",
       "lRALdho4l9cpiw9WdGkV1A                 5835 S Sossaman Rd\\nMesa, AZ 85212   \n",
       "K5kU2IN6mXvMo-Cx0oQFZg  6770 N Sunrise Blvd\\nSte G109\\nGlendale, AZ 85303   \n",
       "KVYSUfN89b-nih-_9HhF6g            9425 W Coyotes Blvd\\nGlendale, AZ 85305   \n",
       "0InQd9vuhRc98OksC3Ks8Q  Excalibur Hotel Casino\\n3850 Las Vegas Blvd S\\...   \n",
       "gnafBL9EZE1kn0xD7Yf3_w  Treasure Island\\n3300 Las Vegas Blvd S\\nThe St...   \n",
       "wyqwO4ZqZyRR6pGk1pTBrA   7135 Gilespie St\\nSoutheast\\nLas Vegas, NV 89119   \n",
       "cSYSUZ3YbwR_RTughnoy5A             9617 N Metro Pkwy W\\nPhoenix, AZ 85051   \n",
       "PEyRw3HOWcDnd2XHRLq5RQ            5812 W Glendale Ave\\nGlendale, AZ 85301   \n",
       "3e9IUI5Dt-ktDKEQNkENVA                3721 E Thomas Rd\\nPhoenix, AZ 85018   \n",
       "GQ6bCvYZxdGY6ZQyeZFeVg                 1700 Vegas Dr\\nLas Vegas, NV 89106   \n",
       "UuBZkKnckkRmYt3jFn2gaQ  Circus Circus Las Vegas\\n2800 Las Vegas Blvd S...   \n",
       "CJ8IURVsHxTIu2Kzp2Kumw  Imperial Palace Hotel & Casino\\n3535 Las Vegas...   \n",
       "inDYSqSDMyrfBhOZc702rw                                  Phoenix, AZ 85027   \n",
       "\n",
       "                                                                    hours  \\\n",
       "business_id                                                                 \n",
       "lliksv-tglfUz1T3B3vgvA  {'Sunday': {'close': '22:00', 'open': '17:30'}...   \n",
       "mQde7KRomOQoUyPGTqeXhA  {'Sunday': {'close': '18:00', 'open': '11:00'}...   \n",
       "GmzpzmxinfLMw5OXQKFEBQ  {'Wednesday': {'close': '16:00', 'open': '11:0...   \n",
       "CZBYYCb4xBwNlSIYNc6Eiw                                                 {}   \n",
       "AtjsjFzalWqJ7S9DUFQ4bw  {'Sunday': {'close': '00:00', 'open': '00:00'}...   \n",
       "nYer89hXYAoddMEKTxw7kA                                                 {}   \n",
       "qrjPKkSPzodIfP0kW1mtEw  {'Sunday': {'close': '18:00', 'open': '10:00'}...   \n",
       "qcF6SHcGRML7gihfpNl_zA  {'Sunday': {'close': '18:00', 'open': '11:00'}...   \n",
       "84NQRcMC0ldIC86yRw0vpA  {'Sunday': {'close': '20:30', 'open': '14:00'}...   \n",
       "a-VGlZ06IaFTCX0vd0xm-A  {'Sunday': {'close': '15:00', 'open': '08:30'}...   \n",
       "Y_P4hdBnB5TZD3-nsi9-jQ  {'Sunday': {'close': '00:00', 'open': '00:00'}...   \n",
       "cA9cTalUXibyWZZYjh-kiQ  {'Sunday': {'close': '15:00', 'open': '10:00'}...   \n",
       "_tYT5_N3zCwrpkdfVhqrnw  {'Sunday': {'close': '14:00', 'open': '10:00'}...   \n",
       "f8luua75t2Is5iP6nxcXQQ  {'Wednesday': {'close': '22:00', 'open': '11:0...   \n",
       "OwBPjUz2o0J5K3DzcHkBtg  {'Wednesday': {'close': '22:00', 'open': '17:0...   \n",
       "4bnLfKXorJ9HVmt7Oc8lcw                                                 {}   \n",
       "QBHcPkoRsPb68Oq7zRj44A  {'Sunday': {'close': '20:00', 'open': '12:00'}...   \n",
       "JXUX_oiCrfHm6b1sbqQd7A  {'Sunday': {'close': '17:00', 'open': '10:00'}...   \n",
       "1hY0Q3BYDq6CJDQay2xRQA  {'Sunday': {'close': '21:00', 'open': '09:00'}...   \n",
       "Us-93TD-lG_kVJzDPvmppw  {'Sunday': {'close': '00:00', 'open': '00:00'}...   \n",
       "3AoCAj24yffBkl1vh9lkuQ  {'Monday': {'close': '18:30', 'open': '08:00'}...   \n",
       "hrnvVr3hmb2oD3oUnJrNSw  {'Wednesday': {'close': '18:00', 'open': '10:0...   \n",
       "RHIIMuvu6xPNHxtZv_QWHg  {'Sunday': {'close': '00:00', 'open': '00:00'}...   \n",
       "QnAzW6KMSciUcuJ20oI3Bw  {'Sunday': {'close': '21:00', 'open': '08:00'}...   \n",
       "8clKtz2RxFRDLnzZwMgA4w  {'Sunday': {'close': '19:00', 'open': '07:00'}...   \n",
       "Q9pYlR8ckKpbLe1fn8apGg  {'Monday': {'close': '17:00', 'open': '08:00'}...   \n",
       "RPDbyZWiN_ayXevgko0zOA  {'Sunday': {'close': '04:00', 'open': '11:30'}...   \n",
       "02CV16hndzI60LuI2kDkOA  {'Sunday': {'close': '17:30', 'open': '08:30'}...   \n",
       "b7GM0x9zZU5gq1aXErUf7Q  {'Sunday': {'close': '18:00', 'open': '12:00'}...   \n",
       "XfVGU6WGZKc867spn2TImw  {'Sunday': {'close': '22:00', 'open': '17:00'}...   \n",
       "...                                                                   ...   \n",
       "ipNveHQxPlRmgSe9CSt9dw                                                 {}   \n",
       "siatNcf5O_vH0sL6OdvYLQ  {'Sunday': {'close': '18:00', 'open': '11:00'}...   \n",
       "dNyjWz6CnYvrhPnpqNV5NA                                                 {}   \n",
       "TmTB0Nel-U_zOr04OTUreA  {'Wednesday': {'close': '17:00', 'open': '08:3...   \n",
       "Ca_u-CVUEswSkdmW0oscvA                                                 {}   \n",
       "erBoatMp1TFi_NPxTigp6w                                                 {}   \n",
       "bdsKG7MQIMmZ73lgOaTZ0A  {'Sunday': {'close': '00:00', 'open': '12:00'}...   \n",
       "EF5vR_UUavzPjtgMYFCg5Q  {'Sunday': {'close': '02:00', 'open': '08:00'}...   \n",
       "nIkJ9z9GM2mthq80s3l0Mg                                                 {}   \n",
       "qdCbbg7FyD6mzf0L_g64uA                                                 {}   \n",
       "6sqAj_mXmYkZ3UKsyRGGHQ                                                 {}   \n",
       "aEol06ruyQJZYlDMPJGfUg  {'Sunday': {'close': '19:00', 'open': '11:00'}...   \n",
       "8z-v_pn00BcnrWs9bacYUQ  {'Sunday': {'close': '00:00', 'open': '00:00'}...   \n",
       "_G5pDGRJL0mhLRgIViW2sA  {'Sunday': {'close': '22:00', 'open': '12:00'}...   \n",
       "67-DcR8Npwuc9lRph194cw                                                 {}   \n",
       "XoitWJUjHcdBl9GqHTsdjw                                                 {}   \n",
       "26ecLqpDHrB3socZGfDuhQ  {'Sunday': {'close': '00:00', 'open': '00:00'}...   \n",
       "lRALdho4l9cpiw9WdGkV1A                                                 {}   \n",
       "K5kU2IN6mXvMo-Cx0oQFZg  {'Sunday': {'close': '02:00', 'open': '11:00'}...   \n",
       "KVYSUfN89b-nih-_9HhF6g  {'Sunday': {'close': '02:00', 'open': '11:00'}...   \n",
       "0InQd9vuhRc98OksC3Ks8Q  {'Sunday': {'close': '22:00', 'open': '07:00'}...   \n",
       "gnafBL9EZE1kn0xD7Yf3_w                                                 {}   \n",
       "wyqwO4ZqZyRR6pGk1pTBrA  {'Sunday': {'close': '00:00', 'open': '00:00'}...   \n",
       "cSYSUZ3YbwR_RTughnoy5A  {'Sunday': {'close': '18:00', 'open': '11:00'}...   \n",
       "PEyRw3HOWcDnd2XHRLq5RQ                                                 {}   \n",
       "3e9IUI5Dt-ktDKEQNkENVA                                                 {}   \n",
       "GQ6bCvYZxdGY6ZQyeZFeVg  {'Wednesday': {'close': '21:00', 'open': '07:0...   \n",
       "UuBZkKnckkRmYt3jFn2gaQ  {'Sunday': {'close': '21:00', 'open': '16:30'}...   \n",
       "CJ8IURVsHxTIu2Kzp2Kumw  {'Sunday': {'close': '21:00', 'open': '07:00'}...   \n",
       "inDYSqSDMyrfBhOZc702rw  {'Sunday': {'close': '00:00', 'open': '00:00'}...   \n",
       "\n",
       "                         latitude   longitude  \\\n",
       "business_id                                     \n",
       "lliksv-tglfUz1T3B3vgvA  36.143767 -115.140885   \n",
       "mQde7KRomOQoUyPGTqeXhA  33.362442 -112.092663   \n",
       "GmzpzmxinfLMw5OXQKFEBQ  33.421587 -111.989088   \n",
       "CZBYYCb4xBwNlSIYNc6Eiw  33.461401 -111.485730   \n",
       "AtjsjFzalWqJ7S9DUFQ4bw  36.109915 -115.174642   \n",
       "nYer89hXYAoddMEKTxw7kA  33.457106 -112.071074   \n",
       "qrjPKkSPzodIfP0kW1mtEw  33.499149 -111.923063   \n",
       "qcF6SHcGRML7gihfpNl_zA  36.135543 -115.277850   \n",
       "84NQRcMC0ldIC86yRw0vpA  33.437338 -111.717932   \n",
       "a-VGlZ06IaFTCX0vd0xm-A  36.080529 -115.038136   \n",
       "Y_P4hdBnB5TZD3-nsi9-jQ  33.419917 -111.980971   \n",
       "cA9cTalUXibyWZZYjh-kiQ  36.025675 -115.279201   \n",
       "_tYT5_N3zCwrpkdfVhqrnw  33.496715 -111.927408   \n",
       "f8luua75t2Is5iP6nxcXQQ  33.484449 -112.364198   \n",
       "OwBPjUz2o0J5K3DzcHkBtg  36.055244 -115.225870   \n",
       "4bnLfKXorJ9HVmt7Oc8lcw  33.502139 -111.995748   \n",
       "QBHcPkoRsPb68Oq7zRj44A  36.025234 -114.965485   \n",
       "JXUX_oiCrfHm6b1sbqQd7A  36.238246 -115.150921   \n",
       "1hY0Q3BYDq6CJDQay2xRQA  36.013838 -115.117968   \n",
       "Us-93TD-lG_kVJzDPvmppw  33.501848 -111.964967   \n",
       "3AoCAj24yffBkl1vh9lkuQ  36.090223 -115.202364   \n",
       "hrnvVr3hmb2oD3oUnJrNSw  33.431771 -111.948574   \n",
       "RHIIMuvu6xPNHxtZv_QWHg  36.106212 -115.174213   \n",
       "QnAzW6KMSciUcuJ20oI3Bw  33.321062 -111.723919   \n",
       "8clKtz2RxFRDLnzZwMgA4w  36.095841 -115.190338   \n",
       "Q9pYlR8ckKpbLe1fn8apGg  36.013730 -115.151623   \n",
       "RPDbyZWiN_ayXevgko0zOA  36.126006 -115.222520   \n",
       "02CV16hndzI60LuI2kDkOA  33.474558 -112.126114   \n",
       "b7GM0x9zZU5gq1aXErUf7Q  33.508269 -112.031716   \n",
       "XfVGU6WGZKc867spn2TImw  33.455871 -112.072283   \n",
       "...                           ...         ...   \n",
       "ipNveHQxPlRmgSe9CSt9dw  33.582272 -111.680414   \n",
       "siatNcf5O_vH0sL6OdvYLQ  33.522433 -112.096296   \n",
       "dNyjWz6CnYvrhPnpqNV5NA  33.546608 -111.890686   \n",
       "TmTB0Nel-U_zOr04OTUreA  36.027059 -115.153343   \n",
       "Ca_u-CVUEswSkdmW0oscvA  36.060061 -115.165044   \n",
       "erBoatMp1TFi_NPxTigp6w  33.501982 -111.927618   \n",
       "bdsKG7MQIMmZ73lgOaTZ0A  36.117748 -115.170475   \n",
       "EF5vR_UUavzPjtgMYFCg5Q  36.127615 -115.170364   \n",
       "nIkJ9z9GM2mthq80s3l0Mg  33.522307 -112.092979   \n",
       "qdCbbg7FyD6mzf0L_g64uA  36.044874 -115.243900   \n",
       "6sqAj_mXmYkZ3UKsyRGGHQ  36.172075 -115.145689   \n",
       "aEol06ruyQJZYlDMPJGfUg  36.154862 -115.331429   \n",
       "8z-v_pn00BcnrWs9bacYUQ  36.123843 -115.170220   \n",
       "_G5pDGRJL0mhLRgIViW2sA  36.095580 -115.175818   \n",
       "67-DcR8Npwuc9lRph194cw  36.241289 -115.149580   \n",
       "XoitWJUjHcdBl9GqHTsdjw  36.067199 -115.172232   \n",
       "26ecLqpDHrB3socZGfDuhQ  36.154658 -115.159219   \n",
       "lRALdho4l9cpiw9WdGkV1A  33.309792 -111.669200   \n",
       "K5kU2IN6mXvMo-Cx0oQFZg  33.533158 -112.260384   \n",
       "KVYSUfN89b-nih-_9HhF6g  33.533049 -112.262036   \n",
       "0InQd9vuhRc98OksC3Ks8Q  36.098878 -115.175641   \n",
       "gnafBL9EZE1kn0xD7Yf3_w  36.124823 -115.171971   \n",
       "wyqwO4ZqZyRR6pGk1pTBrA  36.060061 -115.165044   \n",
       "cSYSUZ3YbwR_RTughnoy5A  33.576494 -112.120861   \n",
       "PEyRw3HOWcDnd2XHRLq5RQ  33.539228 -112.184329   \n",
       "3e9IUI5Dt-ktDKEQNkENVA  33.479007 -112.000813   \n",
       "GQ6bCvYZxdGY6ZQyeZFeVg  36.189293 -115.162965   \n",
       "UuBZkKnckkRmYt3jFn2gaQ  36.137667 -115.164659   \n",
       "CJ8IURVsHxTIu2Kzp2Kumw  36.118346 -115.170129   \n",
       "inDYSqSDMyrfBhOZc702rw  33.678238 -112.101291   \n",
       "\n",
       "                                                                     name  \\\n",
       "business_id                                                                 \n",
       "lliksv-tglfUz1T3B3vgvA                                      Lotus of Siam   \n",
       "mQde7KRomOQoUyPGTqeXhA                             Arizona Humane Society   \n",
       "GmzpzmxinfLMw5OXQKFEBQ                                    Little Miss BBQ   \n",
       "CZBYYCb4xBwNlSIYNc6Eiw  Siphon Draw Trail inc. Flatiron, Superstition ...   \n",
       "AtjsjFzalWqJ7S9DUFQ4bw                      The Cosmopolitan of Las Vegas   \n",
       "nYer89hXYAoddMEKTxw7kA              Yelp's Secret Cinema: Made In Arizona   \n",
       "qrjPKkSPzodIfP0kW1mtEw                                      Salon D'Shayn   \n",
       "qcF6SHcGRML7gihfpNl_zA                         Fabulous Eyebrow Threading   \n",
       "84NQRcMC0ldIC86yRw0vpA                                  Gelato Dolce Vita   \n",
       "a-VGlZ06IaFTCX0vd0xm-A                         Central Church - Henderson   \n",
       "Y_P4hdBnB5TZD3-nsi9-jQ                           Blue Sky Airport Parking   \n",
       "cA9cTalUXibyWZZYjh-kiQ                         Carpet Monkey Of Las Vegas   \n",
       "_tYT5_N3zCwrpkdfVhqrnw                                      The Brush Bar   \n",
       "f8luua75t2Is5iP6nxcXQQ                                          Yogurtini   \n",
       "OwBPjUz2o0J5K3DzcHkBtg                           Soho Japanese Restaurant   \n",
       "4bnLfKXorJ9HVmt7Oc8lcw  CMYE: Yelp's Sweet Bake-In at La Grande Orange...   \n",
       "QBHcPkoRsPb68Oq7zRj44A                                Frost Bites Shavery   \n",
       "JXUX_oiCrfHm6b1sbqQd7A                                       Poke Express   \n",
       "1hY0Q3BYDq6CJDQay2xRQA                           Vegas Discount Nutrition   \n",
       "Us-93TD-lG_kVJzDPvmppw                                    I Clean Carpets   \n",
       "3AoCAj24yffBkl1vh9lkuQ                                           Eco-Tint   \n",
       "hrnvVr3hmb2oD3oUnJrNSw                          Tempe Center for the Arts   \n",
       "RHIIMuvu6xPNHxtZv_QWHg                       Mandarin Oriental, Las Vegas   \n",
       "QnAzW6KMSciUcuJ20oI3Bw                                   Joe's Farm Grill   \n",
       "8clKtz2RxFRDLnzZwMgA4w                             Camp Bow Wow Las Vegas   \n",
       "Q9pYlR8ckKpbLe1fn8apGg                         Professional Brake Service   \n",
       "RPDbyZWiN_ayXevgko0zOA                                   Hobak Korean BBQ   \n",
       "02CV16hndzI60LuI2kDkOA                                   Camelback Moving   \n",
       "b7GM0x9zZU5gq1aXErUf7Q                            Julia Baker Confections   \n",
       "XfVGU6WGZKc867spn2TImw                   Pomo Pizzeria - Downtown Phoenix   \n",
       "...                                                                   ...   \n",
       "ipNveHQxPlRmgSe9CSt9dw                               Fort Mcdowell Casino   \n",
       "siatNcf5O_vH0sL6OdvYLQ                                 Christown Spectrum   \n",
       "dNyjWz6CnYvrhPnpqNV5NA                               Street Eats Festival   \n",
       "TmTB0Nel-U_zOr04OTUreA                                     US Post Office   \n",
       "Ca_u-CVUEswSkdmW0oscvA                                  Dollar Rent A Car   \n",
       "erBoatMp1TFi_NPxTigp6w                                          Pink Taco   \n",
       "bdsKG7MQIMmZ73lgOaTZ0A                                               FAME   \n",
       "EF5vR_UUavzPjtgMYFCg5Q                               Carlos' N' Charlie's   \n",
       "nIkJ9z9GM2mthq80s3l0Mg                                Walmart Supercenter   \n",
       "qdCbbg7FyD6mzf0L_g64uA                                   Church's Chicken   \n",
       "6sqAj_mXmYkZ3UKsyRGGHQ                      Las Vegas Club Hotel & Casino   \n",
       "aEol06ruyQJZYlDMPJGfUg                                  Wonderland Bakery   \n",
       "8z-v_pn00BcnrWs9bacYUQ                 The Quad Las Vegas Resort & Casino   \n",
       "_G5pDGRJL0mhLRgIViW2sA             Cirque du Soleil - Criss Angel Believe   \n",
       "67-DcR8Npwuc9lRph194cw                                  San Gennaro Feast   \n",
       "XoitWJUjHcdBl9GqHTsdjw                                Ranch House Kitchen   \n",
       "26ecLqpDHrB3socZGfDuhQ                                     Showtime Tours   \n",
       "lRALdho4l9cpiw9WdGkV1A                                          Allegiant   \n",
       "K5kU2IN6mXvMo-Cx0oQFZg                                      Calico Jack's   \n",
       "KVYSUfN89b-nih-_9HhF6g                     McFadden's Restaurant & Saloon   \n",
       "0InQd9vuhRc98OksC3Ks8Q                                  Buffet Roundtable   \n",
       "gnafBL9EZE1kn0xD7Yf3_w                          Sirens of Treasure Island   \n",
       "wyqwO4ZqZyRR6pGk1pTBrA                                 Payless Car Rental   \n",
       "cSYSUZ3YbwR_RTughnoy5A                                   Metrocenter Mall   \n",
       "PEyRw3HOWcDnd2XHRLq5RQ               Glendale's Best Street Food Festival   \n",
       "3e9IUI5Dt-ktDKEQNkENVA                                Walmart Supercenter   \n",
       "GQ6bCvYZxdGY6ZQyeZFeVg                                 Cox Communications   \n",
       "UuBZkKnckkRmYt3jFn2gaQ                                      Circus Buffet   \n",
       "CJ8IURVsHxTIu2Kzp2Kumw                                   Emperor's Buffet   \n",
       "inDYSqSDMyrfBhOZc702rw                                 Cox Communications   \n",
       "\n",
       "                               neighborhoods   open  review_count  stars  \\\n",
       "business_id                                                                \n",
       "lliksv-tglfUz1T3B3vgvA  [Eastside, Downtown]   True          3225    4.0   \n",
       "mQde7KRomOQoUyPGTqeXhA                    []   True            64    4.5   \n",
       "GmzpzmxinfLMw5OXQKFEBQ                    []   True           944    5.0   \n",
       "CZBYYCb4xBwNlSIYNc6Eiw                    []   True            49    5.0   \n",
       "AtjsjFzalWqJ7S9DUFQ4bw           [The Strip]   True          3228    4.0   \n",
       "nYer89hXYAoddMEKTxw7kA                    []   True            38    5.0   \n",
       "qrjPKkSPzodIfP0kW1mtEw                    []   True           230    4.5   \n",
       "qcF6SHcGRML7gihfpNl_zA            [Westside]   True           413    5.0   \n",
       "84NQRcMC0ldIC86yRw0vpA                    []   True           178    5.0   \n",
       "a-VGlZ06IaFTCX0vd0xm-A                    []   True            76    4.5   \n",
       "Y_P4hdBnB5TZD3-nsi9-jQ                    []   True           159    4.5   \n",
       "cA9cTalUXibyWZZYjh-kiQ           [Southwest]   True           273    5.0   \n",
       "_tYT5_N3zCwrpkdfVhqrnw                    []   True            77    5.0   \n",
       "f8luua75t2Is5iP6nxcXQQ                    []   True            53    5.0   \n",
       "OwBPjUz2o0J5K3DzcHkBtg           [Southwest]   True          1102    4.5   \n",
       "4bnLfKXorJ9HVmt7Oc8lcw                    []   True            34    5.0   \n",
       "QBHcPkoRsPb68Oq7zRj44A                    []  False            72    5.0   \n",
       "JXUX_oiCrfHm6b1sbqQd7A                    []   True           387    5.0   \n",
       "1hY0Q3BYDq6CJDQay2xRQA           [Southeast]   True           223    5.0   \n",
       "Us-93TD-lG_kVJzDPvmppw                    []   True           250    5.0   \n",
       "3AoCAj24yffBkl1vh9lkuQ                    []   True           376    5.0   \n",
       "hrnvVr3hmb2oD3oUnJrNSw                    []   True            54    4.5   \n",
       "RHIIMuvu6xPNHxtZv_QWHg           [The Strip]   True           473    4.5   \n",
       "QnAzW6KMSciUcuJ20oI3Bw                    []   True          1368    4.0   \n",
       "8clKtz2RxFRDLnzZwMgA4w                    []   True           127    4.5   \n",
       "Q9pYlR8ckKpbLe1fn8apGg           [Southeast]   True           184    5.0   \n",
       "RPDbyZWiN_ayXevgko0zOA           [Chinatown]   True           542    5.0   \n",
       "02CV16hndzI60LuI2kDkOA                    []   True           311    4.5   \n",
       "b7GM0x9zZU5gq1aXErUf7Q                    []  False            76    4.5   \n",
       "XfVGU6WGZKc867spn2TImw                    []   True           521    4.5   \n",
       "...                                      ...    ...           ...    ...   \n",
       "ipNveHQxPlRmgSe9CSt9dw                    []   True            85    2.5   \n",
       "siatNcf5O_vH0sL6OdvYLQ                    []   True            41    2.5   \n",
       "dNyjWz6CnYvrhPnpqNV5NA                    []   True            90    2.0   \n",
       "TmTB0Nel-U_zOr04OTUreA           [Southeast]   True            75    1.5   \n",
       "Ca_u-CVUEswSkdmW0oscvA           [Southeast]   True           289    2.0   \n",
       "erBoatMp1TFi_NPxTigp6w                    []  False            55    2.5   \n",
       "bdsKG7MQIMmZ73lgOaTZ0A           [The Strip]  False            93    2.0   \n",
       "EF5vR_UUavzPjtgMYFCg5Q           [The Strip]   True           272    2.0   \n",
       "nIkJ9z9GM2mthq80s3l0Mg                    []   True           104    2.0   \n",
       "qdCbbg7FyD6mzf0L_g64uA           [Southwest]   True            80    2.0   \n",
       "6sqAj_mXmYkZ3UKsyRGGHQ            [Downtown]  False            98    2.0   \n",
       "aEol06ruyQJZYlDMPJGfUg     [South Summerlin]   True            75    2.5   \n",
       "8z-v_pn00BcnrWs9bacYUQ           [The Strip]  False           609    2.0   \n",
       "_G5pDGRJL0mhLRgIViW2sA           [The Strip]  False           833    1.5   \n",
       "67-DcR8Npwuc9lRph194cw                    []   True            85    2.5   \n",
       "XoitWJUjHcdBl9GqHTsdjw           [Southeast]  False            69    2.0   \n",
       "26ecLqpDHrB3socZGfDuhQ            [Downtown]   True           358    1.5   \n",
       "lRALdho4l9cpiw9WdGkV1A                    []   True           166    1.5   \n",
       "K5kU2IN6mXvMo-Cx0oQFZg                    []   True           174    1.5   \n",
       "KVYSUfN89b-nih-_9HhF6g                    []   True           311    1.5   \n",
       "0InQd9vuhRc98OksC3Ks8Q           [The Strip]  False           190    2.0   \n",
       "gnafBL9EZE1kn0xD7Yf3_w           [The Strip]  False           143    2.0   \n",
       "wyqwO4ZqZyRR6pGk1pTBrA           [Southeast]   True           474    1.5   \n",
       "cSYSUZ3YbwR_RTughnoy5A                    []   True           125    2.0   \n",
       "PEyRw3HOWcDnd2XHRLq5RQ                    []   True            49    1.5   \n",
       "3e9IUI5Dt-ktDKEQNkENVA                    []   True           100    1.5   \n",
       "GQ6bCvYZxdGY6ZQyeZFeVg                    []   True           253    1.5   \n",
       "UuBZkKnckkRmYt3jFn2gaQ           [The Strip]   True           272    2.0   \n",
       "CJ8IURVsHxTIu2Kzp2Kumw           [The Strip]  False            57    1.5   \n",
       "inDYSqSDMyrfBhOZc702rw                    []   True           517    1.5   \n",
       "\n",
       "                       state      type  \n",
       "business_id                             \n",
       "lliksv-tglfUz1T3B3vgvA    NV  business  \n",
       "mQde7KRomOQoUyPGTqeXhA    AZ  business  \n",
       "GmzpzmxinfLMw5OXQKFEBQ    AZ  business  \n",
       "CZBYYCb4xBwNlSIYNc6Eiw    AZ  business  \n",
       "AtjsjFzalWqJ7S9DUFQ4bw    NV  business  \n",
       "nYer89hXYAoddMEKTxw7kA    AZ  business  \n",
       "qrjPKkSPzodIfP0kW1mtEw    AZ  business  \n",
       "qcF6SHcGRML7gihfpNl_zA    NV  business  \n",
       "84NQRcMC0ldIC86yRw0vpA    AZ  business  \n",
       "a-VGlZ06IaFTCX0vd0xm-A    NV  business  \n",
       "Y_P4hdBnB5TZD3-nsi9-jQ    AZ  business  \n",
       "cA9cTalUXibyWZZYjh-kiQ    NV  business  \n",
       "_tYT5_N3zCwrpkdfVhqrnw    AZ  business  \n",
       "f8luua75t2Is5iP6nxcXQQ    AZ  business  \n",
       "OwBPjUz2o0J5K3DzcHkBtg    NV  business  \n",
       "4bnLfKXorJ9HVmt7Oc8lcw    AZ  business  \n",
       "QBHcPkoRsPb68Oq7zRj44A    NV  business  \n",
       "JXUX_oiCrfHm6b1sbqQd7A    NV  business  \n",
       "1hY0Q3BYDq6CJDQay2xRQA    NV  business  \n",
       "Us-93TD-lG_kVJzDPvmppw    AZ  business  \n",
       "3AoCAj24yffBkl1vh9lkuQ    NV  business  \n",
       "hrnvVr3hmb2oD3oUnJrNSw    AZ  business  \n",
       "RHIIMuvu6xPNHxtZv_QWHg    NV  business  \n",
       "QnAzW6KMSciUcuJ20oI3Bw    AZ  business  \n",
       "8clKtz2RxFRDLnzZwMgA4w    NV  business  \n",
       "Q9pYlR8ckKpbLe1fn8apGg    NV  business  \n",
       "RPDbyZWiN_ayXevgko0zOA    NV  business  \n",
       "02CV16hndzI60LuI2kDkOA    AZ  business  \n",
       "b7GM0x9zZU5gq1aXErUf7Q    AZ  business  \n",
       "XfVGU6WGZKc867spn2TImw    AZ  business  \n",
       "...                      ...       ...  \n",
       "ipNveHQxPlRmgSe9CSt9dw    AZ  business  \n",
       "siatNcf5O_vH0sL6OdvYLQ    AZ  business  \n",
       "dNyjWz6CnYvrhPnpqNV5NA    AZ  business  \n",
       "TmTB0Nel-U_zOr04OTUreA    NV  business  \n",
       "Ca_u-CVUEswSkdmW0oscvA    NV  business  \n",
       "erBoatMp1TFi_NPxTigp6w    AZ  business  \n",
       "bdsKG7MQIMmZ73lgOaTZ0A    NV  business  \n",
       "EF5vR_UUavzPjtgMYFCg5Q    NV  business  \n",
       "nIkJ9z9GM2mthq80s3l0Mg    AZ  business  \n",
       "qdCbbg7FyD6mzf0L_g64uA    NV  business  \n",
       "6sqAj_mXmYkZ3UKsyRGGHQ    NV  business  \n",
       "aEol06ruyQJZYlDMPJGfUg    NV  business  \n",
       "8z-v_pn00BcnrWs9bacYUQ    NV  business  \n",
       "_G5pDGRJL0mhLRgIViW2sA    NV  business  \n",
       "67-DcR8Npwuc9lRph194cw    NV  business  \n",
       "XoitWJUjHcdBl9GqHTsdjw    NV  business  \n",
       "26ecLqpDHrB3socZGfDuhQ    NV  business  \n",
       "lRALdho4l9cpiw9WdGkV1A    AZ  business  \n",
       "K5kU2IN6mXvMo-Cx0oQFZg    AZ  business  \n",
       "KVYSUfN89b-nih-_9HhF6g    AZ  business  \n",
       "0InQd9vuhRc98OksC3Ks8Q    NV  business  \n",
       "gnafBL9EZE1kn0xD7Yf3_w    NV  business  \n",
       "wyqwO4ZqZyRR6pGk1pTBrA    NV  business  \n",
       "cSYSUZ3YbwR_RTughnoy5A    AZ  business  \n",
       "PEyRw3HOWcDnd2XHRLq5RQ    AZ  business  \n",
       "3e9IUI5Dt-ktDKEQNkENVA    AZ  business  \n",
       "GQ6bCvYZxdGY6ZQyeZFeVg    NV  business  \n",
       "UuBZkKnckkRmYt3jFn2gaQ    NV  business  \n",
       "CJ8IURVsHxTIu2Kzp2Kumw    NV  business  \n",
       "inDYSqSDMyrfBhOZc702rw    AZ  business  \n",
       "\n",
       "[6317 rows x 15 columns]"
      ]
     },
     "execution_count": 104,
     "metadata": {},
     "output_type": "execute_result"
    }
   ],
   "source": [
    "# business.loc[recommended_business_names][business.state.isin(user_states)]  # UserWarning: Boolean Series key will be reindexed to match DataFrame index.\n",
    "business.loc[recommended_business_names][business.loc[recommended_business_names].state.isin(user_states)]"
   ]
  },
  {
   "cell_type": "code",
   "execution_count": 105,
   "metadata": {
    "ExecuteTime": {
     "end_time": "2017-02-01T17:30:55.868585",
     "start_time": "2017-02-01T17:30:55.865579"
    },
    "collapsed": false,
    "run_control": {
     "frozen": false,
     "read_only": false
    }
   },
   "outputs": [],
   "source": [
    "# Get ordinal index position of businesses rated by user_id\n",
    "# [Y.loc[:,user_id].index.get_loc(i) for i in Y.loc[:,user_id][Y.loc[:,user_id].notnull()].index.tolist()]"
   ]
  },
  {
   "cell_type": "code",
   "execution_count": 106,
   "metadata": {
    "ExecuteTime": {
     "end_time": "2017-02-01T17:30:55.875603",
     "start_time": "2017-02-01T17:30:55.871096"
    },
    "collapsed": false,
    "run_control": {
     "frozen": false,
     "read_only": false
    }
   },
   "outputs": [],
   "source": [
    "# We cant use rev_biz_usr because it contained some entries that were removed in the Y matrix\n",
    "# business.loc[rev_biz_usr[rev_biz_usr.user_id == user_id].business_id.unique()]"
   ]
  },
  {
   "cell_type": "code",
   "execution_count": 110,
   "metadata": {
    "ExecuteTime": {
     "end_time": "2017-02-01T17:34:50.377080",
     "start_time": "2017-02-01T17:34:50.331321"
    },
    "collapsed": false
   },
   "outputs": [
    {
     "data": {
      "text/plain": [
       "array([ 4. ,  4.5,  5. , ...,  2. ,  1.5,  1.5])"
      ]
     },
     "execution_count": 110,
     "metadata": {},
     "output_type": "execute_result"
    }
   ],
   "source": [
    "business.loc[recommended_business_names][business.loc[recommended_business_names].state.isin(user_states)].stars.values"
   ]
  },
  {
   "cell_type": "code",
   "execution_count": 114,
   "metadata": {
    "ExecuteTime": {
     "end_time": "2017-02-01T17:35:47.509527",
     "start_time": "2017-02-01T17:35:47.353549"
    },
    "collapsed": false
   },
   "outputs": [
    {
     "data": {
      "image/png": "[encoded data removed]",
      "text/plain": [
       "<matplotlib.figure.Figure at 0x28af4476320>"
      ]
     },
     "metadata": {},
     "output_type": "display_data"
    }
   ],
   "source": [
    "# Ratings of the top 30 recommended businesses\n",
    "plt.plot(business.loc[recommended_business_names][business.loc[recommended_business_names].state.isin(user_states)].stars.values[:30])\n",
    "plt.show()"
   ]
  },
  {
   "cell_type": "code",
   "execution_count": null,
   "metadata": {
    "collapsed": true
   },
   "outputs": [],
   "source": []
  }
 ],
 "metadata": {
  "anaconda-cloud": {},
  "celltoolbar": "Raw Cell Format",
  "kernelspec": {
   "display_name": "Python [conda root]",
   "language": "python",
   "name": "conda-root-py"
  },
  "language_info": {
   "codemirror_mode": {
    "name": "ipython",
    "version": 3
   },
   "file_extension": ".py",
   "mimetype": "text/x-python",
   "name": "python",
   "nbconvert_exporter": "python",
   "pygments_lexer": "ipython3",
   "version": "3.5.2"
  },
  "nbpresent": {
   "slides": {
    "44a7b797-e8ec-4ff1-a241-09b680ce442c": {
     "id": "44a7b797-e8ec-4ff1-a241-09b680ce442c",
     "prev": null,
     "regions": {
      "942895c2-5d21-478b-915f-532c3df32b70": {
       "attrs": {
        "height": 0.8,
        "width": 0.45,
        "x": 0.5,
        "y": 0.1
       },
       "id": "942895c2-5d21-478b-915f-532c3df32b70"
      },
      "d705ec05-9a89-40a4-84a3-429e28e36ce4": {
       "attrs": {
        "height": 0.8,
        "width": 0.45,
        "x": 0.05,
        "y": 0.1
       },
       "id": "d705ec05-9a89-40a4-84a3-429e28e36ce4"
      }
     }
    }
   },
   "themes": {}
  },
  "toc": {
   "colors": {
    "hover_highlight": "#DAA520",
    "running_highlight": "#FF0000",
    "selected_highlight": "#FFD700"
   },
   "moveMenuLeft": true,
   "nav_menu": {
    "height": "177px",
    "width": "252px"
   },
   "navigate_menu": true,
   "number_sections": true,
   "sideBar": false,
   "threshold": 4,
   "toc_cell": false,
   "toc_position": {
    "height": "333px",
    "left": "658px",
    "right": "278px",
    "top": "237px",
    "width": "600px"
   },
   "toc_section_display": "block",
   "toc_window_display": false
  }
 },
 "nbformat": 4,
 "nbformat_minor": 1
}
