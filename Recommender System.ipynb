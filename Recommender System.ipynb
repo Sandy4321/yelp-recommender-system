{
 "cells": [
  {
   "cell_type": "markdown",
   "metadata": {
    "nbpresent": {
     "id": "b9298927-8339-493e-a961-d6738f2a24d9"
    },
    "run_control": {
     "frozen": false,
     "read_only": false
    }
   },
   "source": [
    "# Using Pandas read_json function:"
   ]
  },
  {
   "cell_type": "code",
   "execution_count": 1,
   "metadata": {
    "ExecuteTime": {
     "end_time": "2017-01-29T01:31:08.273270",
     "start_time": "2017-01-29T01:31:07.403188"
    },
    "collapsed": true,
    "nbpresent": {
     "id": "7d1823d2-e566-42f2-8cd7-189b930a466e"
    },
    "run_control": {
     "frozen": false,
     "read_only": false
    }
   },
   "outputs": [],
   "source": [
    "import pandas as pd\n",
    "import numpy as np"
   ]
  },
  {
   "cell_type": "code",
   "execution_count": 2,
   "metadata": {
    "ExecuteTime": {
     "end_time": "2017-01-29T01:31:08.278772",
     "start_time": "2017-01-29T01:31:08.274751"
    },
    "collapsed": false,
    "nbpresent": {
     "id": "252f7b63-cfb1-4f62-a816-58f93ede1d0c"
    },
    "run_control": {
     "frozen": false,
     "read_only": false
    }
   },
   "outputs": [],
   "source": [
    "# with open('yelp_dataset/yelp_academic_dataset_tip.json') as file:\n",
    "#         tip = pd.read_json(file, lines = True)"
   ]
  },
  {
   "cell_type": "code",
   "execution_count": 3,
   "metadata": {
    "ExecuteTime": {
     "end_time": "2017-01-29T01:32:29.379696",
     "start_time": "2017-01-29T01:31:08.281268"
    },
    "collapsed": false,
    "nbpresent": {
     "id": "f3df8b94-48ec-4626-b6aa-bdd3b71d8d49"
    },
    "run_control": {
     "frozen": false,
     "read_only": false
    }
   },
   "outputs": [],
   "source": [
    "with open('yelp_dataset/yelp_academic_dataset_review.json') as file:\n",
    "        review = pd.read_json(file, lines = True)"
   ]
  },
  {
   "cell_type": "code",
   "execution_count": 4,
   "metadata": {
    "ExecuteTime": {
     "end_time": "2017-01-29T01:32:32.645591",
     "start_time": "2017-01-29T01:32:29.382673"
    },
    "collapsed": false,
    "nbpresent": {
     "id": "d53e23b5-1842-4aee-a016-61504bc42e0e"
    },
    "run_control": {
     "frozen": false,
     "read_only": false
    }
   },
   "outputs": [],
   "source": [
    "with open('yelp_dataset/yelp_academic_dataset_business.json') as file:\n",
    "        business = pd.read_json(file, lines = True)"
   ]
  },
  {
   "cell_type": "code",
   "execution_count": 5,
   "metadata": {
    "ExecuteTime": {
     "end_time": "2017-01-29T01:32:32.651584",
     "start_time": "2017-01-29T01:32:32.647572"
    },
    "collapsed": false,
    "nbpresent": {
     "id": "ce2660aa-526f-4ba5-9faa-ee3d625e7ec3"
    },
    "run_control": {
     "frozen": false,
     "read_only": false
    }
   },
   "outputs": [],
   "source": [
    "# with open('yelp_dataset/yelp_academic_dataset_checkin.json') as file:\n",
    "#         checkin = pd.read_json(file, lines = True)"
   ]
  },
  {
   "cell_type": "code",
   "execution_count": 6,
   "metadata": {
    "ExecuteTime": {
     "end_time": "2017-01-29T01:32:50.187355",
     "start_time": "2017-01-29T01:32:32.654089"
    },
    "collapsed": false,
    "nbpresent": {
     "id": "9218107c-758c-4804-b329-5b24878a7ca7"
    },
    "run_control": {
     "frozen": false,
     "read_only": false
    }
   },
   "outputs": [],
   "source": [
    "with open('yelp_dataset/yelp_academic_dataset_user.json') as file:\n",
    "        user = pd.read_json(file, lines = True)"
   ]
  },
  {
   "cell_type": "code",
   "execution_count": 6,
   "metadata": {
    "ExecuteTime": {
     "end_time": "2017-01-25T12:16:24.347241",
     "start_time": "2017-01-25T12:16:24.342728"
    },
    "collapsed": true,
    "nbpresent": {
     "id": "f5efde52-8126-4f63-b5bd-bfda847d36a0"
    },
    "run_control": {
     "frozen": false,
     "read_only": false
    }
   },
   "outputs": [],
   "source": [
    "# dfs = ['tip', 'review', 'business', 'checkin', 'user']"
   ]
  },
  {
   "cell_type": "markdown",
   "metadata": {
    "nbpresent": {
     "id": "d4dd6ee2-19e8-4620-b413-e6aea6c5e295"
    },
    "run_control": {
     "frozen": false,
     "read_only": true
    }
   },
   "source": [
    "tip:  ['business_id' 'date' 'likes' 'text' 'type' 'user_id']\n",
    "review:  ['business_id' 'date' 'review_id' 'stars' 'text' 'type' 'user_id' 'votes']\n",
    "business:  ['attributes' 'business_id' 'categories' 'city' 'full_address' 'hours'\n",
    " 'latitude' 'longitude' 'name' 'neighborhoods' 'open' 'review_count'\n",
    " 'stars' 'state' 'type']\n",
    "checkin:  ['business_id' 'checkin_info' 'type']\n",
    "user:  ['average_stars' 'compliments' 'elite' 'fans' 'friends' 'name'\n",
    " 'review_count' 'type' 'user_id' 'votes' 'yelping_since']"
   ]
  },
  {
   "cell_type": "markdown",
   "metadata": {
    "ExecuteTime": {
     "end_time": "2017-01-16T10:51:16.522572",
     "start_time": "2017-01-16T10:51:16.519063"
    },
    "nbpresent": {
     "id": "20af1a3d-9b4a-4968-8303-4e8c81e30581"
    },
    "run_control": {
     "frozen": false,
     "read_only": false
    }
   },
   "source": [
    "# Building a recommender system\n",
    "First, get the relevant data: user-business stars... create matrices Y, R\n",
    "\n",
    "** Y ** that contains #business as rows, #user as columns, values = stars\n",
    "\n",
    "** R ** same size as Y, values = 1 if a user has rated a business **\n",
    "\n"
   ]
  },
  {
   "cell_type": "markdown",
   "metadata": {
    "ExecuteTime": {
     "end_time": "2017-01-16T11:37:05.223228",
     "start_time": "2017-01-16T11:37:05.219214"
    },
    "collapsed": true,
    "nbpresent": {
     "id": "a5a7565b-440a-4112-9058-6bb40c2c303c"
    },
    "run_control": {
     "frozen": false,
     "read_only": false
    }
   },
   "source": [
    "# Need to determine businesses and users to include in the model"
   ]
  },
  {
   "cell_type": "markdown",
   "metadata": {
    "run_control": {
     "frozen": false,
     "read_only": false
    }
   },
   "source": [
    "## Drop businesses and users with review counts less than 20"
   ]
  },
  {
   "cell_type": "code",
   "execution_count": 7,
   "metadata": {
    "ExecuteTime": {
     "end_time": "2017-01-29T01:32:50.714256",
     "start_time": "2017-01-29T01:32:50.189360"
    },
    "collapsed": false,
    "run_control": {
     "frozen": false,
     "read_only": false
    }
   },
   "outputs": [],
   "source": [
    "user = user[user.review_count > 20]"
   ]
  },
  {
   "cell_type": "code",
   "execution_count": 8,
   "metadata": {
    "ExecuteTime": {
     "end_time": "2017-01-29T01:32:50.728794",
     "start_time": "2017-01-29T01:32:50.715762"
    },
    "collapsed": false,
    "run_control": {
     "frozen": false,
     "read_only": false
    }
   },
   "outputs": [
    {
     "data": {
      "text/plain": [
       "(148994, 11)"
      ]
     },
     "execution_count": 8,
     "metadata": {},
     "output_type": "execute_result"
    }
   ],
   "source": [
    "user.shape"
   ]
  },
  {
   "cell_type": "code",
   "execution_count": 9,
   "metadata": {
    "ExecuteTime": {
     "end_time": "2017-01-29T01:32:50.737820",
     "start_time": "2017-01-29T01:32:50.731306"
    },
    "collapsed": false,
    "run_control": {
     "frozen": false,
     "read_only": false
    }
   },
   "outputs": [
    {
     "data": {
      "text/plain": [
       "(85901, 15)"
      ]
     },
     "execution_count": 9,
     "metadata": {},
     "output_type": "execute_result"
    }
   ],
   "source": [
    "business.shape"
   ]
  },
  {
   "cell_type": "code",
   "execution_count": 10,
   "metadata": {
    "ExecuteTime": {
     "end_time": "2017-01-29T01:32:50.916294",
     "start_time": "2017-01-29T01:32:50.739825"
    },
    "collapsed": true,
    "run_control": {
     "frozen": false,
     "read_only": false
    }
   },
   "outputs": [],
   "source": [
    "business = business[business.review_count > 20]"
   ]
  },
  {
   "cell_type": "code",
   "execution_count": 11,
   "metadata": {
    "ExecuteTime": {
     "end_time": "2017-01-29T01:32:50.924827",
     "start_time": "2017-01-29T01:32:50.918801"
    },
    "collapsed": false,
    "run_control": {
     "frozen": false,
     "read_only": false
    }
   },
   "outputs": [
    {
     "data": {
      "text/plain": [
       "(25680, 15)"
      ]
     },
     "execution_count": 11,
     "metadata": {},
     "output_type": "execute_result"
    }
   ],
   "source": [
    "business.shape"
   ]
  },
  {
   "cell_type": "code",
   "execution_count": 12,
   "metadata": {
    "ExecuteTime": {
     "end_time": "2017-01-29T01:32:57.540176",
     "start_time": "2017-01-29T01:32:57.525651"
    },
    "collapsed": false,
    "run_control": {
     "frozen": false,
     "read_only": false
    }
   },
   "outputs": [
    {
     "data": {
      "text/plain": [
       "state\n",
       "AZ     10754\n",
       "BW       133\n",
       "CA         3\n",
       "EDH      525\n",
       "FIF        1\n",
       "IL       253\n",
       "MLN       15\n",
       "NC      1897\n",
       "NV      8645\n",
       "ON        85\n",
       "PA      1315\n",
       "QC      1125\n",
       "RP         1\n",
       "SC        68\n",
       "TX         1\n",
       "WI       858\n",
       "XGL        1\n",
       "dtype: int64"
      ]
     },
     "execution_count": 12,
     "metadata": {},
     "output_type": "execute_result"
    }
   ],
   "source": [
    "business.groupby('state').size()"
   ]
  },
  {
   "cell_type": "markdown",
   "metadata": {
    "run_control": {
     "frozen": false,
     "read_only": false
    }
   },
   "source": [
    "## Drop states with less than 20 businesses (recommend within state if #>20)"
   ]
  },
  {
   "cell_type": "code",
   "execution_count": 13,
   "metadata": {
    "ExecuteTime": {
     "end_time": "2017-01-29T01:32:58.926587",
     "start_time": "2017-01-29T01:32:58.877959"
    },
    "collapsed": false,
    "run_control": {
     "frozen": false,
     "read_only": false
    }
   },
   "outputs": [],
   "source": [
    "business = business.groupby('state').filter(lambda r: len(r) > 20)"
   ]
  },
  {
   "cell_type": "code",
   "execution_count": 14,
   "metadata": {
    "ExecuteTime": {
     "end_time": "2017-01-29T01:33:00.658926",
     "start_time": "2017-01-29T01:33:00.646393"
    },
    "collapsed": false,
    "run_control": {
     "frozen": false,
     "read_only": false
    }
   },
   "outputs": [
    {
     "data": {
      "text/plain": [
       "state\n",
       "AZ     10754\n",
       "BW       133\n",
       "EDH      525\n",
       "IL       253\n",
       "NC      1897\n",
       "NV      8645\n",
       "ON        85\n",
       "PA      1315\n",
       "QC      1125\n",
       "SC        68\n",
       "WI       858\n",
       "dtype: int64"
      ]
     },
     "execution_count": 14,
     "metadata": {},
     "output_type": "execute_result"
    }
   ],
   "source": [
    "business.groupby('state').size()"
   ]
  },
  {
   "cell_type": "code",
   "execution_count": 15,
   "metadata": {
    "ExecuteTime": {
     "end_time": "2017-01-29T01:33:03.533345",
     "start_time": "2017-01-29T01:33:03.528333"
    },
    "collapsed": false,
    "run_control": {
     "frozen": false,
     "read_only": false
    }
   },
   "outputs": [
    {
     "data": {
      "text/plain": [
       "(25658, 15)"
      ]
     },
     "execution_count": 15,
     "metadata": {},
     "output_type": "execute_result"
    }
   ],
   "source": [
    "business.shape"
   ]
  },
  {
   "cell_type": "code",
   "execution_count": 16,
   "metadata": {
    "ExecuteTime": {
     "end_time": "2017-01-29T01:33:05.184269",
     "start_time": "2017-01-29T01:33:05.181279"
    },
    "collapsed": false,
    "run_control": {
     "frozen": false,
     "read_only": false
    },
    "scrolled": false
   },
   "outputs": [],
   "source": [
    "# business.shape"
   ]
  },
  {
   "cell_type": "markdown",
   "metadata": {
    "ExecuteTime": {
     "end_time": "2017-01-16T11:47:59.941636",
     "start_time": "2017-01-16T11:47:59.938127"
    },
    "collapsed": true,
    "nbpresent": {
     "id": "c749e340-fbf1-4c2d-b4c2-3e196960d547"
    },
    "run_control": {
     "frozen": false,
     "read_only": false
    }
   },
   "source": [
    "## Merge review+business+user"
   ]
  },
  {
   "cell_type": "code",
   "execution_count": 17,
   "metadata": {
    "ExecuteTime": {
     "end_time": "2017-01-29T01:33:11.627989",
     "start_time": "2017-01-29T01:33:05.816605"
    },
    "collapsed": true,
    "run_control": {
     "frozen": false,
     "read_only": false
    }
   },
   "outputs": [],
   "source": [
    "rev_biz_usr = pd.merge(pd.merge(review, business, on='business_id'), user, on='user_id')"
   ]
  },
  {
   "cell_type": "code",
   "execution_count": 18,
   "metadata": {
    "ExecuteTime": {
     "end_time": "2017-01-29T01:33:11.634509",
     "start_time": "2017-01-29T01:33:11.629494"
    },
    "collapsed": false,
    "run_control": {
     "frozen": false,
     "read_only": false
    }
   },
   "outputs": [
    {
     "data": {
      "text/plain": [
       "(1251142, 32)"
      ]
     },
     "execution_count": 18,
     "metadata": {},
     "output_type": "execute_result"
    }
   ],
   "source": [
    "rev_biz_usr.shape"
   ]
  },
  {
   "cell_type": "markdown",
   "metadata": {
    "run_control": {
     "frozen": false,
     "read_only": false
    }
   },
   "source": [
    "### drop users and businesses with less than 20 reviews in the review dataframe  \n",
    "run multiple times until steady state"
   ]
  },
  {
   "cell_type": "code",
   "execution_count": 19,
   "metadata": {
    "ExecuteTime": {
     "end_time": "2017-01-26T11:39:56.182311",
     "start_time": "2017-01-26T11:39:56.178801"
    },
    "collapsed": false,
    "run_control": {
     "frozen": false,
     "read_only": false
    }
   },
   "outputs": [],
   "source": [
    "#rev_biz_usr.groupby('user_id').size().reset_index(name='count').sort_values(by='count', ascending=True)"
   ]
  },
  {
   "cell_type": "code",
   "execution_count": 39,
   "metadata": {
    "ExecuteTime": {
     "end_time": "2017-01-29T01:35:06.727143",
     "start_time": "2017-01-29T01:35:03.909899"
    },
    "collapsed": false,
    "run_control": {
     "frozen": false,
     "read_only": false
    }
   },
   "outputs": [],
   "source": [
    "rev_biz_usr = rev_biz_usr.groupby('business_id').filter(lambda r: len(r) >= 20)\n",
    "\n",
    "rev_biz_usr = rev_biz_usr.groupby('user_id').filter(lambda r: len(r) >= 20)"
   ]
  },
  {
   "cell_type": "code",
   "execution_count": 40,
   "metadata": {
    "ExecuteTime": {
     "end_time": "2017-01-29T01:35:06.733032",
     "start_time": "2017-01-29T01:35:06.728646"
    },
    "collapsed": false,
    "run_control": {
     "frozen": false,
     "read_only": false
    }
   },
   "outputs": [
    {
     "data": {
      "text/plain": [
       "(487156, 3)"
      ]
     },
     "execution_count": 40,
     "metadata": {},
     "output_type": "execute_result"
    }
   ],
   "source": [
    "rev_biz_usr.shape # (487156, 32)"
   ]
  },
  {
   "cell_type": "markdown",
   "metadata": {
    "run_control": {
     "frozen": false,
     "read_only": false
    }
   },
   "source": [
    "### Remove not needed columns from the dataframe, to reduce memory use:"
   ]
  },
  {
   "cell_type": "code",
   "execution_count": 41,
   "metadata": {
    "ExecuteTime": {
     "end_time": "2017-01-29T01:35:06.740069",
     "start_time": "2017-01-29T01:35:06.735056"
    },
    "collapsed": false,
    "nbpresent": {
     "id": "5df73afa-8def-4186-b57c-8a453aa25899"
    },
    "run_control": {
     "frozen": false,
     "read_only": false
    }
   },
   "outputs": [],
   "source": [
    "col_drop = rev_biz_usr.columns.difference(['business_id', 'user_id', 'stars_x'])"
   ]
  },
  {
   "cell_type": "code",
   "execution_count": 42,
   "metadata": {
    "ExecuteTime": {
     "end_time": "2017-01-29T01:35:06.805724",
     "start_time": "2017-01-29T01:35:06.742056"
    },
    "collapsed": false,
    "nbpresent": {
     "id": "a969e096-2df4-4c2e-a812-c7e75d751c23"
    },
    "run_control": {
     "frozen": false,
     "read_only": false
    }
   },
   "outputs": [],
   "source": [
    "rev_biz_usr.drop(col_drop, axis=1, inplace=True)"
   ]
  },
  {
   "cell_type": "code",
   "execution_count": 43,
   "metadata": {
    "ExecuteTime": {
     "end_time": "2017-01-29T01:35:06.814247",
     "start_time": "2017-01-29T01:35:06.807730"
    },
    "collapsed": false,
    "run_control": {
     "frozen": false,
     "read_only": false
    }
   },
   "outputs": [
    {
     "data": {
      "text/plain": [
       "(487156, 3)"
      ]
     },
     "execution_count": 43,
     "metadata": {},
     "output_type": "execute_result"
    }
   ],
   "source": [
    "rev_biz_usr.shape"
   ]
  },
  {
   "cell_type": "markdown",
   "metadata": {
    "run_control": {
     "frozen": false,
     "read_only": false
    }
   },
   "source": [
    "### Convert dtype of stars to int32 instead of int64 (since their values are from 1-5), also to reduce memory use:"
   ]
  },
  {
   "cell_type": "code",
   "execution_count": 44,
   "metadata": {
    "ExecuteTime": {
     "end_time": "2017-01-29T01:35:14.822452",
     "start_time": "2017-01-29T01:35:14.814426"
    },
    "collapsed": true,
    "run_control": {
     "frozen": false,
     "read_only": false
    }
   },
   "outputs": [],
   "source": [
    "rev_biz_usr.stars_x = rev_biz_usr.stars_x.astype(int)"
   ]
  },
  {
   "cell_type": "markdown",
   "metadata": {
    "run_control": {
     "frozen": false,
     "read_only": false
    }
   },
   "source": [
    "## Pivoting the table needed for the recommender system algorithm"
   ]
  },
  {
   "cell_type": "markdown",
   "metadata": {
    "nbpresent": {
     "id": "a6e028c8-dede-4e9d-8d97-ffaccd1b973d"
    },
    "run_control": {
     "frozen": false,
     "read_only": false
    }
   },
   "source": [
    "#### Before filtering users and businesses, the following pivot table gave an error due to out of memory, not negagtive dimensions. However, after reducing dataset, the pivoted table fits in my laptop's 32GB memory (total code occupying nearly 8GB):\n",
    "memory needed before reducing the dataset, assuming 8 bytes per value is:\n",
    "686556 x 85539 x 8 / 1024 / 1024/ 1024 = 438 GB"
   ]
  },
  {
   "cell_type": "code",
   "execution_count": 45,
   "metadata": {
    "ExecuteTime": {
     "end_time": "2017-01-29T01:35:17.186789",
     "start_time": "2017-01-29T01:35:16.943115"
    },
    "collapsed": false,
    "run_control": {
     "frozen": false,
     "read_only": false
    }
   },
   "outputs": [
    {
     "data": {
      "text/plain": [
       "0.6321526765823364"
      ]
     },
     "execution_count": 45,
     "metadata": {},
     "output_type": "execute_result"
    }
   ],
   "source": [
    "# memory requirements for pivoting the table after reducing the dataset is still large ~ 27.5 GB\n",
    "# Now the table can fit in memory ~ 1.33 GB\n",
    "len(rev_biz_usr.business_id.unique()) * len(rev_biz_usr.user_id.unique()) * 8 / 1024/1024/1024"
   ]
  },
  {
   "cell_type": "code",
   "execution_count": 46,
   "metadata": {
    "ExecuteTime": {
     "end_time": "2017-01-29T01:35:17.257315",
     "start_time": "2017-01-29T01:35:17.253326"
    },
    "collapsed": false,
    "nbpresent": {
     "id": "2f6255b2-6932-4961-ba44-81b95952bb89"
    },
    "run_control": {
     "frozen": false,
     "read_only": false
    },
    "scrolled": true
   },
   "outputs": [],
   "source": [
    "# rev_biz_usr.pivot(index='business_id', columns='user_id', values='stars_x')"
   ]
  },
  {
   "cell_type": "code",
   "execution_count": 47,
   "metadata": {
    "ExecuteTime": {
     "end_time": "2017-01-29T01:35:18.698749",
     "start_time": "2017-01-29T01:35:18.693736"
    },
    "collapsed": false,
    "run_control": {
     "frozen": false,
     "read_only": false
    }
   },
   "outputs": [
    {
     "data": {
      "text/plain": [
       "(487156, 3)"
      ]
     },
     "execution_count": 47,
     "metadata": {},
     "output_type": "execute_result"
    }
   ],
   "source": [
    "rev_biz_usr.shape"
   ]
  },
  {
   "cell_type": "code",
   "execution_count": 48,
   "metadata": {
    "ExecuteTime": {
     "end_time": "2017-01-29T01:35:19.253907",
     "start_time": "2017-01-29T01:35:19.245886"
    },
    "collapsed": false,
    "run_control": {
     "frozen": false,
     "read_only": false
    },
    "scrolled": true
   },
   "outputs": [
    {
     "data": {
      "text/plain": [
       "Index          3897248\n",
       "business_id    3897248\n",
       "stars_x        1948624\n",
       "user_id        3897248\n",
       "dtype: int64"
      ]
     },
     "execution_count": 48,
     "metadata": {},
     "output_type": "execute_result"
    }
   ],
   "source": [
    "rev_biz_usr.memory_usage()"
   ]
  },
  {
   "cell_type": "markdown",
   "metadata": {
    "run_control": {
     "frozen": false,
     "read_only": false
    }
   },
   "source": [
    "### Note that some users rated the same business multiple times, pivot table will save the average value, which is acceptable"
   ]
  },
  {
   "cell_type": "code",
   "execution_count": 49,
   "metadata": {
    "ExecuteTime": {
     "end_time": "2017-01-29T01:35:24.640904",
     "start_time": "2017-01-29T01:35:24.400928"
    },
    "collapsed": false,
    "run_control": {
     "frozen": false,
     "read_only": false
    },
    "scrolled": true
   },
   "outputs": [
    {
     "data": {
      "text/html": [
       "<div>\n",
       "<table border=\"1\" class=\"dataframe\">\n",
       "  <thead>\n",
       "    <tr style=\"text-align: right;\">\n",
       "      <th></th>\n",
       "      <th>business_id</th>\n",
       "      <th>stars_x</th>\n",
       "      <th>user_id</th>\n",
       "    </tr>\n",
       "  </thead>\n",
       "  <tbody>\n",
       "    <tr>\n",
       "      <th>649855</th>\n",
       "      <td>-584fn2GxYe9sLsgN2WeQA</td>\n",
       "      <td>5</td>\n",
       "      <td>qqtmFGhyyHc37coT4qJxaw</td>\n",
       "    </tr>\n",
       "    <tr>\n",
       "      <th>649856</th>\n",
       "      <td>-584fn2GxYe9sLsgN2WeQA</td>\n",
       "      <td>4</td>\n",
       "      <td>qqtmFGhyyHc37coT4qJxaw</td>\n",
       "    </tr>\n",
       "    <tr>\n",
       "      <th>649857</th>\n",
       "      <td>-584fn2GxYe9sLsgN2WeQA</td>\n",
       "      <td>5</td>\n",
       "      <td>qqtmFGhyyHc37coT4qJxaw</td>\n",
       "    </tr>\n",
       "  </tbody>\n",
       "</table>\n",
       "</div>"
      ],
      "text/plain": [
       "                   business_id  stars_x                 user_id\n",
       "649855  -584fn2GxYe9sLsgN2WeQA        5  qqtmFGhyyHc37coT4qJxaw\n",
       "649856  -584fn2GxYe9sLsgN2WeQA        4  qqtmFGhyyHc37coT4qJxaw\n",
       "649857  -584fn2GxYe9sLsgN2WeQA        5  qqtmFGhyyHc37coT4qJxaw"
      ]
     },
     "execution_count": 49,
     "metadata": {},
     "output_type": "execute_result"
    }
   ],
   "source": [
    "rev_biz_usr[(rev_biz_usr.business_id == '-584fn2GxYe9sLsgN2WeQA') & (rev_biz_usr.user_id == 'qqtmFGhyyHc37coT4qJxaw')]"
   ]
  },
  {
   "cell_type": "code",
   "execution_count": 50,
   "metadata": {
    "ExecuteTime": {
     "end_time": "2017-01-29T01:35:31.704075",
     "start_time": "2017-01-29T01:35:31.066757"
    },
    "collapsed": false,
    "run_control": {
     "frozen": false,
     "read_only": false
    },
    "scrolled": true
   },
   "outputs": [
    {
     "data": {
      "text/html": [
       "<div>\n",
       "<table border=\"1\" class=\"dataframe\">\n",
       "  <thead>\n",
       "    <tr style=\"text-align: right;\">\n",
       "      <th></th>\n",
       "      <th>business_id</th>\n",
       "      <th>date</th>\n",
       "      <th>review_id</th>\n",
       "      <th>stars</th>\n",
       "      <th>text</th>\n",
       "      <th>type</th>\n",
       "      <th>user_id</th>\n",
       "      <th>votes</th>\n",
       "    </tr>\n",
       "  </thead>\n",
       "  <tbody>\n",
       "    <tr>\n",
       "      <th>1053862</th>\n",
       "      <td>-584fn2GxYe9sLsgN2WeQA</td>\n",
       "      <td>2011-12-03</td>\n",
       "      <td>79Pag_9zldIyGxgsp8MwMQ</td>\n",
       "      <td>5</td>\n",
       "      <td>It had been many months since I ate a genuine ...</td>\n",
       "      <td>review</td>\n",
       "      <td>qqtmFGhyyHc37coT4qJxaw</td>\n",
       "      <td>{'cool': 4, 'useful': 7, 'funny': 1}</td>\n",
       "    </tr>\n",
       "    <tr>\n",
       "      <th>1053890</th>\n",
       "      <td>-584fn2GxYe9sLsgN2WeQA</td>\n",
       "      <td>2012-12-03</td>\n",
       "      <td>F0vCpCrXoomcSGSH87DHcw</td>\n",
       "      <td>4</td>\n",
       "      <td>Unfortunately, I am going to have to take Grea...</td>\n",
       "      <td>review</td>\n",
       "      <td>qqtmFGhyyHc37coT4qJxaw</td>\n",
       "      <td>{'cool': 5, 'useful': 5, 'funny': 4}</td>\n",
       "    </tr>\n",
       "    <tr>\n",
       "      <th>1053964</th>\n",
       "      <td>-584fn2GxYe9sLsgN2WeQA</td>\n",
       "      <td>2014-08-10</td>\n",
       "      <td>B5Qowrss3JnGKWag_CEIJw</td>\n",
       "      <td>5</td>\n",
       "      <td>It had been over 18 months since my last visit...</td>\n",
       "      <td>review</td>\n",
       "      <td>qqtmFGhyyHc37coT4qJxaw</td>\n",
       "      <td>{'cool': 2, 'useful': 2, 'funny': 1}</td>\n",
       "    </tr>\n",
       "  </tbody>\n",
       "</table>\n",
       "</div>"
      ],
      "text/plain": [
       "                    business_id       date               review_id  stars  \\\n",
       "1053862  -584fn2GxYe9sLsgN2WeQA 2011-12-03  79Pag_9zldIyGxgsp8MwMQ      5   \n",
       "1053890  -584fn2GxYe9sLsgN2WeQA 2012-12-03  F0vCpCrXoomcSGSH87DHcw      4   \n",
       "1053964  -584fn2GxYe9sLsgN2WeQA 2014-08-10  B5Qowrss3JnGKWag_CEIJw      5   \n",
       "\n",
       "                                                      text    type  \\\n",
       "1053862  It had been many months since I ate a genuine ...  review   \n",
       "1053890  Unfortunately, I am going to have to take Grea...  review   \n",
       "1053964  It had been over 18 months since my last visit...  review   \n",
       "\n",
       "                        user_id                                 votes  \n",
       "1053862  qqtmFGhyyHc37coT4qJxaw  {'cool': 4, 'useful': 7, 'funny': 1}  \n",
       "1053890  qqtmFGhyyHc37coT4qJxaw  {'cool': 5, 'useful': 5, 'funny': 4}  \n",
       "1053964  qqtmFGhyyHc37coT4qJxaw  {'cool': 2, 'useful': 2, 'funny': 1}  "
      ]
     },
     "execution_count": 50,
     "metadata": {},
     "output_type": "execute_result"
    }
   ],
   "source": [
    "review[(review.business_id == '-584fn2GxYe9sLsgN2WeQA') & (review.user_id == 'qqtmFGhyyHc37coT4qJxaw')]"
   ]
  },
  {
   "cell_type": "markdown",
   "metadata": {
    "ExecuteTime": {
     "end_time": "2017-01-18T16:58:13.410448",
     "start_time": "2017-01-18T16:58:13.406438"
    },
    "run_control": {
     "frozen": false,
     "read_only": false
    }
   },
   "source": [
    "## The Y Matrix for the recommender system"
   ]
  },
  {
   "cell_type": "markdown",
   "metadata": {
    "run_control": {
     "frozen": false,
     "read_only": false
    }
   },
   "source": [
    "### Do not fill NaNs with zeros as zeros occupy more memory than NaNs, and the pivoting command will run out of memory."
   ]
  },
  {
   "cell_type": "code",
   "execution_count": 51,
   "metadata": {
    "ExecuteTime": {
     "end_time": "2017-01-29T01:35:35.542116",
     "start_time": "2017-01-29T01:35:33.741666"
    },
    "collapsed": false,
    "nbpresent": {
     "id": "f6b531f5-994c-4b30-a75e-5319c6dc0595"
    },
    "run_control": {
     "frozen": false,
     "read_only": false
    },
    "scrolled": true
   },
   "outputs": [],
   "source": [
    "Y = pd.pivot_table(rev_biz_usr, index='business_id', columns='user_id', values='stars_x')#, fill_value=0)"
   ]
  },
  {
   "cell_type": "code",
   "execution_count": 52,
   "metadata": {
    "ExecuteTime": {
     "end_time": "2017-01-29T01:35:35.967535",
     "start_time": "2017-01-29T01:35:35.958528"
    },
    "collapsed": false,
    "run_control": {
     "frozen": false,
     "read_only": false
    }
   },
   "outputs": [
    {
     "data": {
      "text/plain": [
       "4.666666666666667"
      ]
     },
     "execution_count": 52,
     "metadata": {},
     "output_type": "execute_result"
    }
   ],
   "source": [
    "Y.loc['-584fn2GxYe9sLsgN2WeQA', 'qqtmFGhyyHc37coT4qJxaw']"
   ]
  },
  {
   "cell_type": "code",
   "execution_count": 53,
   "metadata": {
    "ExecuteTime": {
     "end_time": "2017-01-29T01:35:36.802265",
     "start_time": "2017-01-29T01:35:36.797755"
    },
    "collapsed": false,
    "run_control": {
     "frozen": false,
     "read_only": false
    }
   },
   "outputs": [
    {
     "data": {
      "text/plain": [
       "4.666666666666667"
      ]
     },
     "execution_count": 53,
     "metadata": {},
     "output_type": "execute_result"
    }
   ],
   "source": [
    "(5+4+5)/3"
   ]
  },
  {
   "cell_type": "code",
   "execution_count": 54,
   "metadata": {
    "ExecuteTime": {
     "end_time": "2017-01-29T01:35:39.442727",
     "start_time": "2017-01-29T01:35:39.438215"
    },
    "collapsed": false,
    "run_control": {
     "frozen": false,
     "read_only": false
    }
   },
   "outputs": [
    {
     "data": {
      "text/plain": [
       "(8208, 10337)"
      ]
     },
     "execution_count": 54,
     "metadata": {},
     "output_type": "execute_result"
    }
   ],
   "source": [
    "Y.shape # before dropna: (8208, 10337)"
   ]
  },
  {
   "cell_type": "code",
   "execution_count": 55,
   "metadata": {
    "ExecuteTime": {
     "end_time": "2017-01-29T01:35:40.213388",
     "start_time": "2017-01-29T01:35:39.695994"
    },
    "collapsed": false,
    "run_control": {
     "frozen": false,
     "read_only": false
    }
   },
   "outputs": [],
   "source": [
    "Y = Y.dropna(thresh=20, axis=1)"
   ]
  },
  {
   "cell_type": "code",
   "execution_count": 56,
   "metadata": {
    "ExecuteTime": {
     "end_time": "2017-01-29T01:35:40.220890",
     "start_time": "2017-01-29T01:35:40.214880"
    },
    "collapsed": false,
    "run_control": {
     "frozen": false,
     "read_only": false
    }
   },
   "outputs": [
    {
     "data": {
      "text/plain": [
       "(8208, 9773)"
      ]
     },
     "execution_count": 56,
     "metadata": {},
     "output_type": "execute_result"
    }
   ],
   "source": [
    "Y.shape"
   ]
  },
  {
   "cell_type": "code",
   "execution_count": 57,
   "metadata": {
    "ExecuteTime": {
     "end_time": "2017-01-29T01:35:40.815252",
     "start_time": "2017-01-29T01:35:40.290356"
    },
    "collapsed": false,
    "run_control": {
     "frozen": false,
     "read_only": false
    },
    "scrolled": true
   },
   "outputs": [],
   "source": [
    "Y = Y.dropna(thresh=20, axis=0)"
   ]
  },
  {
   "cell_type": "code",
   "execution_count": 58,
   "metadata": {
    "ExecuteTime": {
     "end_time": "2017-01-29T01:35:40.822270",
     "start_time": "2017-01-29T01:35:40.817258"
    },
    "collapsed": false,
    "run_control": {
     "frozen": false,
     "read_only": false
    }
   },
   "outputs": [
    {
     "data": {
      "text/plain": [
       "(7630, 9773)"
      ]
     },
     "execution_count": 58,
     "metadata": {},
     "output_type": "execute_result"
    }
   ],
   "source": [
    "Y.shape"
   ]
  },
  {
   "cell_type": "code",
   "execution_count": 67,
   "metadata": {
    "ExecuteTime": {
     "end_time": "2017-01-29T01:36:03.695367",
     "start_time": "2017-01-29T01:36:02.809422"
    },
    "collapsed": false,
    "run_control": {
     "frozen": false,
     "read_only": false
    }
   },
   "outputs": [
    {
     "data": {
      "text/plain": [
       "(7360, 9234)"
      ]
     },
     "execution_count": 67,
     "metadata": {},
     "output_type": "execute_result"
    }
   ],
   "source": [
    "# REPEAT A FEW TIME UNTIL WE GET A STABLE SHAPE of (7360, 9234)\n",
    "Y = Y.dropna(thresh=20, axis=1)\n",
    "Y = Y.dropna(thresh=20, axis=0)\n",
    "Y.shape"
   ]
  },
  {
   "cell_type": "code",
   "execution_count": 68,
   "metadata": {
    "ExecuteTime": {
     "end_time": "2017-01-29T01:36:05.305493",
     "start_time": "2017-01-29T01:36:05.302505"
    },
    "collapsed": false,
    "run_control": {
     "frozen": false,
     "read_only": false
    }
   },
   "outputs": [],
   "source": [
    "#Y.drop(Y.columns[Y.count(axis=0) < 20], axis=1)"
   ]
  },
  {
   "cell_type": "code",
   "execution_count": 69,
   "metadata": {
    "ExecuteTime": {
     "end_time": "2017-01-29T01:36:05.601432",
     "start_time": "2017-01-29T01:36:05.597903"
    },
    "collapsed": false,
    "run_control": {
     "frozen": false,
     "read_only": false
    },
    "scrolled": true
   },
   "outputs": [],
   "source": [
    "#Y.columns[Y.count(axis=0) < 20]"
   ]
  },
  {
   "cell_type": "code",
   "execution_count": 70,
   "metadata": {
    "ExecuteTime": {
     "end_time": "2017-01-29T01:36:06.352486",
     "start_time": "2017-01-29T01:36:06.165008"
    },
    "collapsed": false,
    "run_control": {
     "frozen": false,
     "read_only": false
    },
    "scrolled": true
   },
   "outputs": [
    {
     "data": {
      "text/plain": [
       "0"
      ]
     },
     "execution_count": 70,
     "metadata": {},
     "output_type": "execute_result"
    }
   ],
   "source": [
    "(Y.count(axis=1) < 20).sum()"
   ]
  },
  {
   "cell_type": "code",
   "execution_count": 71,
   "metadata": {
    "ExecuteTime": {
     "end_time": "2017-01-29T01:36:08.973171",
     "start_time": "2017-01-29T01:36:08.765621"
    },
    "collapsed": false,
    "run_control": {
     "frozen": false,
     "read_only": false
    }
   },
   "outputs": [
    {
     "data": {
      "text/plain": [
       "20"
      ]
     },
     "execution_count": 71,
     "metadata": {},
     "output_type": "execute_result"
    }
   ],
   "source": [
    "Y.count(axis=0).min()"
   ]
  },
  {
   "cell_type": "code",
   "execution_count": 72,
   "metadata": {
    "ExecuteTime": {
     "end_time": "2017-01-29T01:36:09.450918",
     "start_time": "2017-01-29T01:36:09.445402"
    },
    "collapsed": false,
    "run_control": {
     "frozen": false,
     "read_only": false
    }
   },
   "outputs": [
    {
     "data": {
      "text/plain": [
       "67962240"
      ]
     },
     "execution_count": 72,
     "metadata": {},
     "output_type": "execute_result"
    }
   ],
   "source": [
    "7360*9234"
   ]
  },
  {
   "cell_type": "code",
   "execution_count": 73,
   "metadata": {
    "ExecuteTime": {
     "end_time": "2017-01-29T01:36:10.146117",
     "start_time": "2017-01-29T01:36:09.949941"
    },
    "collapsed": false,
    "run_control": {
     "frozen": false,
     "read_only": false
    }
   },
   "outputs": [
    {
     "data": {
      "text/plain": [
       "423296"
      ]
     },
     "execution_count": 73,
     "metadata": {},
     "output_type": "execute_result"
    }
   ],
   "source": [
    "Y.count().sum()"
   ]
  },
  {
   "cell_type": "code",
   "execution_count": 74,
   "metadata": {
    "ExecuteTime": {
     "end_time": "2017-01-29T01:36:10.752459",
     "start_time": "2017-01-29T01:36:10.557425"
    },
    "collapsed": false,
    "run_control": {
     "frozen": false,
     "read_only": false
    }
   },
   "outputs": [
    {
     "data": {
      "text/plain": [
       "67538944"
      ]
     },
     "execution_count": 74,
     "metadata": {},
     "output_type": "execute_result"
    }
   ],
   "source": [
    "7360*9234 - Y.count().sum()"
   ]
  },
  {
   "cell_type": "code",
   "execution_count": 75,
   "metadata": {
    "ExecuteTime": {
     "end_time": "2017-01-29T01:36:11.844876",
     "start_time": "2017-01-29T01:36:11.124351"
    },
    "collapsed": false,
    "run_control": {
     "frozen": false,
     "read_only": false
    }
   },
   "outputs": [
    {
     "data": {
      "text/plain": [
       "67538944"
      ]
     },
     "execution_count": 75,
     "metadata": {},
     "output_type": "execute_result"
    }
   ],
   "source": [
    "Y.isnull().sum().sum()"
   ]
  },
  {
   "cell_type": "code",
   "execution_count": 76,
   "metadata": {
    "ExecuteTime": {
     "end_time": "2017-01-29T01:36:12.795568",
     "start_time": "2017-01-29T01:36:12.373939"
    },
    "collapsed": false,
    "run_control": {
     "frozen": false,
     "read_only": false
    },
    "scrolled": true
   },
   "outputs": [
    {
     "data": {
      "text/plain": [
       "0.5064129829406738"
      ]
     },
     "execution_count": 76,
     "metadata": {},
     "output_type": "execute_result"
    }
   ],
   "source": [
    "Y.memory_usage().sum()/1024/1024/1024"
   ]
  },
  {
   "cell_type": "code",
   "execution_count": 77,
   "metadata": {
    "ExecuteTime": {
     "end_time": "2017-01-29T01:36:14.081398",
     "start_time": "2017-01-29T01:36:14.078417"
    },
    "collapsed": false,
    "run_control": {
     "frozen": false,
     "read_only": false
    }
   },
   "outputs": [],
   "source": [
    "# len(rev_biz_usr.business_id.unique()) , len(rev_biz_usr.user_id.unique())"
   ]
  },
  {
   "cell_type": "markdown",
   "metadata": {
    "run_control": {
     "frozen": false,
     "read_only": false
    }
   },
   "source": [
    "# Split the data as training and test sets:\n",
    "\n",
    "Select a random number of columns (30% of total)users, and remove some of the given ratings (-> nan)\n"
   ]
  },
  {
   "cell_type": "code",
   "execution_count": 651,
   "metadata": {
    "ExecuteTime": {
     "end_time": "2017-01-25T20:44:39.681885",
     "start_time": "2017-01-25T20:44:39.675368"
    },
    "collapsed": false,
    "run_control": {
     "frozen": false,
     "read_only": false
    }
   },
   "outputs": [
    {
     "data": {
      "text/plain": [
       "array([2, 0, 1])"
      ]
     },
     "execution_count": 651,
     "metadata": {},
     "output_type": "execute_result"
    }
   ],
   "source": [
    "mask2 = np.random.choice(5, 3, replace=False)\n",
    "mask2"
   ]
  },
  {
   "cell_type": "code",
   "execution_count": 652,
   "metadata": {
    "ExecuteTime": {
     "end_time": "2017-01-25T20:44:46.675497",
     "start_time": "2017-01-25T20:44:46.661459"
    },
    "collapsed": false,
    "run_control": {
     "frozen": false,
     "read_only": false
    }
   },
   "outputs": [
    {
     "data": {
      "text/html": [
       "<div>\n",
       "<table border=\"1\" class=\"dataframe\">\n",
       "  <thead>\n",
       "    <tr style=\"text-align: right;\">\n",
       "      <th></th>\n",
       "      <th>0</th>\n",
       "      <th>1</th>\n",
       "      <th>2</th>\n",
       "      <th>3</th>\n",
       "      <th>4</th>\n",
       "    </tr>\n",
       "  </thead>\n",
       "  <tbody>\n",
       "    <tr>\n",
       "      <th>0</th>\n",
       "      <td>91</td>\n",
       "      <td>48</td>\n",
       "      <td>39</td>\n",
       "      <td>5</td>\n",
       "      <td>65</td>\n",
       "    </tr>\n",
       "    <tr>\n",
       "      <th>1</th>\n",
       "      <td>77</td>\n",
       "      <td>82</td>\n",
       "      <td>1</td>\n",
       "      <td>41</td>\n",
       "      <td>17</td>\n",
       "    </tr>\n",
       "    <tr>\n",
       "      <th>2</th>\n",
       "      <td>10</td>\n",
       "      <td>56</td>\n",
       "      <td>0</td>\n",
       "      <td>94</td>\n",
       "      <td>28</td>\n",
       "    </tr>\n",
       "    <tr>\n",
       "      <th>3</th>\n",
       "      <td>2</td>\n",
       "      <td>11</td>\n",
       "      <td>51</td>\n",
       "      <td>84</td>\n",
       "      <td>34</td>\n",
       "    </tr>\n",
       "    <tr>\n",
       "      <th>4</th>\n",
       "      <td>17</td>\n",
       "      <td>84</td>\n",
       "      <td>90</td>\n",
       "      <td>79</td>\n",
       "      <td>24</td>\n",
       "    </tr>\n",
       "  </tbody>\n",
       "</table>\n",
       "</div>"
      ],
      "text/plain": [
       "    0   1   2   3   4\n",
       "0  91  48  39   5  65\n",
       "1  77  82   1  41  17\n",
       "2  10  56   0  94  28\n",
       "3   2  11  51  84  34\n",
       "4  17  84  90  79  24"
      ]
     },
     "execution_count": 652,
     "metadata": {},
     "output_type": "execute_result"
    }
   ],
   "source": [
    "df = pd.DataFrame(np.random.randint(0, 100,(5,5)), columns=range(5))\n",
    "df.to"
   ]
  },
  {
   "cell_type": "code",
   "execution_count": 662,
   "metadata": {
    "ExecuteTime": {
     "end_time": "2017-01-25T20:46:54.228586",
     "start_time": "2017-01-25T20:46:54.221602"
    },
    "collapsed": false,
    "run_control": {
     "frozen": false,
     "read_only": false
    },
    "scrolled": true
   },
   "outputs": [
    {
     "data": {
      "text/plain": [
       "2    56\n",
       "0    48\n",
       "1    82\n",
       "Name: 1, dtype: int32"
      ]
     },
     "execution_count": 662,
     "metadata": {},
     "output_type": "execute_result"
    }
   ],
   "source": [
    "df.iloc[mask2,1]"
   ]
  },
  {
   "cell_type": "code",
   "execution_count": 78,
   "metadata": {
    "ExecuteTime": {
     "end_time": "2017-01-29T01:37:34.581442",
     "start_time": "2017-01-29T01:37:34.574409"
    },
    "collapsed": false,
    "run_control": {
     "frozen": false,
     "read_only": false
    }
   },
   "outputs": [],
   "source": [
    "test_split_ratio = 0.3\n",
    "test_size = int(Y.shape[1] * test_split_ratio)\n",
    "train_size = Y.shape[1] - test_size\n",
    "# rand_test_user_mask = random.sample(range(Y.shape[1]), test_size)\n",
    "rand_column_mask = np.random.choice(Y.shape[1], test_size, replace=False)"
   ]
  },
  {
   "cell_type": "code",
   "execution_count": 79,
   "metadata": {
    "ExecuteTime": {
     "end_time": "2017-01-29T01:37:47.232929",
     "start_time": "2017-01-29T01:37:46.877459"
    },
    "collapsed": false,
    "run_control": {
     "frozen": false,
     "read_only": false
    }
   },
   "outputs": [],
   "source": [
    "# Since number of reviews by each user is > 20, select 5 ratings as test per test user\n",
    "Y_test = Y.iloc[:,rand_column_mask].copy()"
   ]
  },
  {
   "cell_type": "code",
   "execution_count": 80,
   "metadata": {
    "ExecuteTime": {
     "end_time": "2017-01-29T01:39:33.144645",
     "start_time": "2017-01-29T01:39:31.366954"
    },
    "collapsed": false,
    "run_control": {
     "frozen": false,
     "read_only": false
    }
   },
   "outputs": [],
   "source": [
    "# Tried to define a function to mask random values in each column and apply it to the DF.\n",
    "# However, the function is applied (by design) twice to the first column, resulting in an error\n",
    "# Better use a simple for loop\n",
    "\n",
    "for col in Y_test:\n",
    "    mask_size = 5\n",
    "    mask = np.random.choice(Y_test[col].notnull().nonzero()[0], mask_size, replace=False)\n",
    "    Y_test[col][mask] = np.nan"
   ]
  },
  {
   "cell_type": "code",
   "execution_count": 81,
   "metadata": {
    "ExecuteTime": {
     "end_time": "2017-01-29T01:39:42.514194",
     "start_time": "2017-01-29T01:39:42.453529"
    },
    "collapsed": false,
    "run_control": {
     "frozen": false,
     "read_only": false
    }
   },
   "outputs": [
    {
     "data": {
      "text/plain": [
       "112499"
      ]
     },
     "execution_count": 81,
     "metadata": {},
     "output_type": "execute_result"
    }
   ],
   "source": [
    "Y_test.count().sum()"
   ]
  },
  {
   "cell_type": "markdown",
   "metadata": {},
   "source": [
    "## Locations of test values"
   ]
  },
  {
   "cell_type": "code",
   "execution_count": 125,
   "metadata": {
    "ExecuteTime": {
     "end_time": "2017-01-29T02:14:58.682995",
     "start_time": "2017-01-29T02:14:57.182333"
    },
    "collapsed": false
   },
   "outputs": [],
   "source": [
    "value_locations_premask = Y.iloc[:,rand_column_mask][Y.iloc[:,rand_column_mask].notnull()].stack().index.tolist()"
   ]
  },
  {
   "cell_type": "code",
   "execution_count": 124,
   "metadata": {
    "ExecuteTime": {
     "end_time": "2017-01-29T02:14:36.392363",
     "start_time": "2017-01-29T02:14:35.110604"
    },
    "collapsed": false
   },
   "outputs": [],
   "source": [
    "value_locations_masked = Y_test[Y_test.notnull()].stack().index.tolist()"
   ]
  },
  {
   "cell_type": "code",
   "execution_count": 219,
   "metadata": {
    "ExecuteTime": {
     "end_time": "2017-01-29T03:14:51.677691",
     "start_time": "2017-01-29T03:14:51.600988"
    },
    "collapsed": false
   },
   "outputs": [],
   "source": [
    "test_values_locations = list(set(value_locations_premask) - set(value_locations_masked))"
   ]
  },
  {
   "cell_type": "code",
   "execution_count": 240,
   "metadata": {
    "ExecuteTime": {
     "end_time": "2017-01-29T03:28:04.532635",
     "start_time": "2017-01-29T03:28:04.523104"
    },
    "collapsed": false
   },
   "outputs": [],
   "source": [
    "# Convert to dataframe in order to be able to use during lookup operation, which requires list of rows, and list of columns\n",
    "test_values_locations = pd.DataFrame.from_records(test_values_locations, columns=['business_id', 'user_id'])"
   ]
  },
  {
   "cell_type": "code",
   "execution_count": 285,
   "metadata": {
    "ExecuteTime": {
     "end_time": "2017-01-29T03:49:47.369671",
     "start_time": "2017-01-29T03:49:47.337578"
    },
    "collapsed": false
   },
   "outputs": [],
   "source": [
    "# Get location positions:\n",
    "query_rows = test_values_locations.business_id\n",
    "rows = Y.index.values\n",
    "sidx = np.argsort(row)\n",
    "row_ids = sidx[np.searchsorted(rows,query_rows,sorter=sidx)]"
   ]
  },
  {
   "cell_type": "code",
   "execution_count": 286,
   "metadata": {
    "ExecuteTime": {
     "end_time": "2017-01-29T03:49:48.327186",
     "start_time": "2017-01-29T03:49:48.296605"
    },
    "collapsed": false
   },
   "outputs": [],
   "source": [
    "# Get location positions:\n",
    "query_cols = test_values_locations.user_id\n",
    "cols = Y.columns.values\n",
    "sidx = np.argsort(cols)\n",
    "col_ids = sidx[np.searchsorted(cols,query_cols,sorter=sidx)]"
   ]
  },
  {
   "cell_type": "code",
   "execution_count": 288,
   "metadata": {
    "ExecuteTime": {
     "end_time": "2017-01-29T03:49:56.391012",
     "start_time": "2017-01-29T03:49:56.384502"
    },
    "collapsed": false
   },
   "outputs": [
    {
     "data": {
      "text/plain": [
       "array([4720, 4703, 3950, 5343, 7598], dtype=int64)"
      ]
     },
     "execution_count": 288,
     "metadata": {},
     "output_type": "execute_result"
    }
   ],
   "source": [
    "col_ids[0:5]"
   ]
  },
  {
   "cell_type": "code",
   "execution_count": 289,
   "metadata": {
    "ExecuteTime": {
     "end_time": "2017-01-29T03:50:35.472983",
     "start_time": "2017-01-29T03:50:35.465963"
    },
    "collapsed": false
   },
   "outputs": [
    {
     "data": {
      "text/plain": [
       "7598"
      ]
     },
     "execution_count": 289,
     "metadata": {},
     "output_type": "execute_result"
    }
   ],
   "source": [
    "Y.columns.get_loc(test_values_locations.user_id[4])"
   ]
  },
  {
   "cell_type": "code",
   "execution_count": 271,
   "metadata": {
    "ExecuteTime": {
     "end_time": "2017-01-29T03:44:53.903281",
     "start_time": "2017-01-29T03:44:53.897245"
    },
    "collapsed": false
   },
   "outputs": [
    {
     "data": {
      "text/plain": [
       "3769"
      ]
     },
     "execution_count": 271,
     "metadata": {},
     "output_type": "execute_result"
    }
   ],
   "source": [
    "Y.index.get_loc(test_values_locations.business_id[5])"
   ]
  },
  {
   "cell_type": "code",
   "execution_count": 278,
   "metadata": {
    "ExecuteTime": {
     "end_time": "2017-01-29T03:47:26.477928",
     "start_time": "2017-01-29T03:47:26.450354"
    },
    "collapsed": false
   },
   "outputs": [
    {
     "data": {
      "text/plain": [
       "array([6657, 3326, 3445, ..., 6669, 5411,  635], dtype=int64)"
      ]
     },
     "execution_count": 278,
     "metadata": {},
     "output_type": "execute_result"
    }
   ],
   "source": [
    "np.searchsorted(cols,query_cols,sorter=sidx)"
   ]
  },
  {
   "cell_type": "code",
   "execution_count": 314,
   "metadata": {
    "ExecuteTime": {
     "end_time": "2017-01-29T04:07:47.771917",
     "start_time": "2017-01-29T04:07:47.765902"
    },
    "collapsed": false
   },
   "outputs": [
    {
     "data": {
      "text/plain": [
       "array([4720, 4703, 3950, ..., 5898, 2179, 3966], dtype=int64)"
      ]
     },
     "execution_count": 314,
     "metadata": {},
     "output_type": "execute_result"
    }
   ],
   "source": [
    "col_ids"
   ]
  },
  {
   "cell_type": "markdown",
   "metadata": {},
   "source": [
    "## Get test values "
   ]
  },
  {
   "cell_type": "code",
   "execution_count": 364,
   "metadata": {
    "ExecuteTime": {
     "end_time": "2017-01-29T04:34:23.849666",
     "start_time": "2017-01-29T04:34:23.835623"
    },
    "collapsed": false,
    "scrolled": true
   },
   "outputs": [
    {
     "data": {
      "text/plain": [
       "array([ 3.,  5.,  5., ...,  5.,  2.,  4.])"
      ]
     },
     "execution_count": 364,
     "metadata": {},
     "output_type": "execute_result"
    }
   ],
   "source": [
    "(Y.lookup(test_values_locations.business_id, test_values_locations.user_id))"
   ]
  },
  {
   "cell_type": "code",
   "execution_count": 375,
   "metadata": {
    "ExecuteTime": {
     "end_time": "2017-01-29T04:39:02.621051",
     "start_time": "2017-01-29T04:39:02.612025"
    },
    "collapsed": false
   },
   "outputs": [
    {
     "data": {
      "text/plain": [
       "array([ 3.,  5.,  5., ...,  5.,  2.,  4.])"
      ]
     },
     "execution_count": 375,
     "metadata": {},
     "output_type": "execute_result"
    }
   ],
   "source": [
    "Y.values[row_ids, col_ids]"
   ]
  },
  {
   "cell_type": "markdown",
   "metadata": {
    "run_control": {
     "frozen": false,
     "read_only": false
    }
   },
   "source": [
    "To test the masking steps:  \n",
    "Test sample size = 0.3 * Original Size = 0.3 * 9234 = 2770  \n",
    "Randomly pick 5 notnan values from these columns and set them to nan  \n",
    "Number of nans should increase by 2770 * 5 = 13850"
   ]
  },
  {
   "cell_type": "code",
   "execution_count": 96,
   "metadata": {
    "ExecuteTime": {
     "end_time": "2017-01-29T01:53:45.685535",
     "start_time": "2017-01-29T01:53:45.680040"
    },
    "collapsed": false,
    "run_control": {
     "frozen": false,
     "read_only": false
    }
   },
   "outputs": [
    {
     "data": {
      "text/plain": [
       "13850"
      ]
     },
     "execution_count": 96,
     "metadata": {},
     "output_type": "execute_result"
    }
   ],
   "source": [
    "int(Y.shape[1]*0.3) * 5"
   ]
  },
  {
   "cell_type": "code",
   "execution_count": 97,
   "metadata": {
    "ExecuteTime": {
     "end_time": "2017-01-29T01:53:47.547877",
     "start_time": "2017-01-29T01:53:47.329271"
    },
    "collapsed": false,
    "run_control": {
     "frozen": false,
     "read_only": false
    }
   },
   "outputs": [
    {
     "data": {
      "text/plain": [
       "126349"
      ]
     },
     "execution_count": 97,
     "metadata": {},
     "output_type": "execute_result"
    }
   ],
   "source": [
    "Y.iloc[:,rand_column_mask].count().sum()"
   ]
  },
  {
   "cell_type": "code",
   "execution_count": 98,
   "metadata": {
    "ExecuteTime": {
     "end_time": "2017-01-29T01:53:50.706074",
     "start_time": "2017-01-29T01:53:50.646434"
    },
    "collapsed": false,
    "run_control": {
     "frozen": false,
     "read_only": false
    }
   },
   "outputs": [
    {
     "data": {
      "text/plain": [
       "112499"
      ]
     },
     "execution_count": 98,
     "metadata": {},
     "output_type": "execute_result"
    }
   ],
   "source": [
    "Y_test.count().sum()"
   ]
  },
  {
   "cell_type": "code",
   "execution_count": 99,
   "metadata": {
    "ExecuteTime": {
     "end_time": "2017-01-29T01:53:52.125623",
     "start_time": "2017-01-29T01:53:51.854391"
    },
    "collapsed": false,
    "run_control": {
     "frozen": false,
     "read_only": false
    }
   },
   "outputs": [
    {
     "data": {
      "text/plain": [
       "13850"
      ]
     },
     "execution_count": 99,
     "metadata": {},
     "output_type": "execute_result"
    }
   ],
   "source": [
    "Y.iloc[:,rand_column_mask].count().sum() - Y_test.count().sum()"
   ]
  },
  {
   "cell_type": "markdown",
   "metadata": {
    "run_control": {
     "frozen": false,
     "read_only": false
    }
   },
   "source": [
    "# Now insert the new Nans into the original Y matrix"
   ]
  },
  {
   "cell_type": "code",
   "execution_count": 125,
   "metadata": {
    "ExecuteTime": {
     "end_time": "2017-01-26T12:22:45.025367",
     "start_time": "2017-01-26T12:22:44.239164"
    },
    "collapsed": false,
    "run_control": {
     "frozen": false,
     "read_only": false
    }
   },
   "outputs": [],
   "source": [
    "Y.iloc[:,rand_column_mask] = Y_test.copy()"
   ]
  },
  {
   "cell_type": "code",
   "execution_count": 126,
   "metadata": {
    "ExecuteTime": {
     "end_time": "2017-01-26T12:22:46.030458",
     "start_time": "2017-01-26T12:22:45.837947"
    },
    "collapsed": false,
    "run_control": {
     "frozen": false,
     "read_only": false
    }
   },
   "outputs": [
    {
     "data": {
      "text/plain": [
       "409446"
      ]
     },
     "execution_count": 126,
     "metadata": {},
     "output_type": "execute_result"
    }
   ],
   "source": [
    "Y.count().sum()"
   ]
  },
  {
   "cell_type": "markdown",
   "metadata": {
    "run_control": {
     "frozen": false,
     "read_only": false
    }
   },
   "source": [
    "## The R Matrix for the recommender system"
   ]
  },
  {
   "cell_type": "code",
   "execution_count": 127,
   "metadata": {
    "ExecuteTime": {
     "end_time": "2017-01-26T12:22:51.550866",
     "start_time": "2017-01-26T12:22:51.547356"
    },
    "collapsed": true,
    "run_control": {
     "frozen": false,
     "read_only": false
    }
   },
   "outputs": [],
   "source": [
    "# The R matrix shold be based on the new Y matrix"
   ]
  },
  {
   "cell_type": "code",
   "execution_count": 128,
   "metadata": {
    "ExecuteTime": {
     "end_time": "2017-01-26T12:22:54.331648",
     "start_time": "2017-01-26T12:22:54.235850"
    },
    "collapsed": false,
    "run_control": {
     "frozen": false,
     "read_only": false
    }
   },
   "outputs": [],
   "source": [
    "R = Y.notnull()"
   ]
  },
  {
   "cell_type": "code",
   "execution_count": 129,
   "metadata": {
    "ExecuteTime": {
     "end_time": "2017-01-26T12:22:55.706390",
     "start_time": "2017-01-26T12:22:55.108786"
    },
    "collapsed": false,
    "run_control": {
     "frozen": false,
     "read_only": false
    }
   },
   "outputs": [
    {
     "data": {
      "text/plain": [
       "409446"
      ]
     },
     "execution_count": 129,
     "metadata": {},
     "output_type": "execute_result"
    }
   ],
   "source": [
    "R.sum().sum()"
   ]
  },
  {
   "cell_type": "code",
   "execution_count": 108,
   "metadata": {
    "ExecuteTime": {
     "end_time": "2017-01-26T11:45:04.809739",
     "start_time": "2017-01-26T11:45:04.719629"
    },
    "collapsed": true,
    "run_control": {
     "frozen": false,
     "read_only": false
    }
   },
   "outputs": [],
   "source": [
    "R = Y.notnull()"
   ]
  },
  {
   "cell_type": "code",
   "execution_count": 131,
   "metadata": {
    "ExecuteTime": {
     "end_time": "2017-01-26T12:26:26.665503",
     "start_time": "2017-01-26T12:26:26.660992"
    },
    "collapsed": false,
    "run_control": {
     "frozen": false,
     "read_only": false
    }
   },
   "outputs": [
    {
     "data": {
      "text/plain": [
       "(7360, 9234)"
      ]
     },
     "execution_count": 131,
     "metadata": {},
     "output_type": "execute_result"
    }
   ],
   "source": [
    "R.shape"
   ]
  },
  {
   "cell_type": "code",
   "execution_count": 130,
   "metadata": {
    "ExecuteTime": {
     "end_time": "2017-01-26T12:26:23.325081",
     "start_time": "2017-01-26T12:26:23.315055"
    },
    "collapsed": false,
    "run_control": {
     "frozen": false,
     "read_only": false
    }
   },
   "outputs": [
    {
     "data": {
      "text/html": [
       "<div>\n",
       "<table border=\"1\" class=\"dataframe\">\n",
       "  <thead>\n",
       "    <tr style=\"text-align: right;\">\n",
       "      <th>user_id</th>\n",
       "      <th>--4TkB_iDShmg41Y_QW9nw</th>\n",
       "      <th>--65q1FpAL_UQtVZ2PTGew</th>\n",
       "      <th>--VxRvXk3b8FwsSbC2Zpxw</th>\n",
       "    </tr>\n",
       "    <tr>\n",
       "      <th>business_id</th>\n",
       "      <th></th>\n",
       "      <th></th>\n",
       "      <th></th>\n",
       "    </tr>\n",
       "  </thead>\n",
       "  <tbody>\n",
       "    <tr>\n",
       "      <th>--5jkZ3-nUPZxUvtcbr8Uw</th>\n",
       "      <td>False</td>\n",
       "      <td>False</td>\n",
       "      <td>False</td>\n",
       "    </tr>\n",
       "    <tr>\n",
       "      <th>--BlvDO_RG2yElKu9XA1_g</th>\n",
       "      <td>False</td>\n",
       "      <td>False</td>\n",
       "      <td>False</td>\n",
       "    </tr>\n",
       "    <tr>\n",
       "      <th>--UE_y6auTgq3FXlvUMkbw</th>\n",
       "      <td>False</td>\n",
       "      <td>False</td>\n",
       "      <td>False</td>\n",
       "    </tr>\n",
       "  </tbody>\n",
       "</table>\n",
       "</div>"
      ],
      "text/plain": [
       "user_id                --4TkB_iDShmg41Y_QW9nw --65q1FpAL_UQtVZ2PTGew  \\\n",
       "business_id                                                            \n",
       "--5jkZ3-nUPZxUvtcbr8Uw                  False                  False   \n",
       "--BlvDO_RG2yElKu9XA1_g                  False                  False   \n",
       "--UE_y6auTgq3FXlvUMkbw                  False                  False   \n",
       "\n",
       "user_id                --VxRvXk3b8FwsSbC2Zpxw  \n",
       "business_id                                    \n",
       "--5jkZ3-nUPZxUvtcbr8Uw                  False  \n",
       "--BlvDO_RG2yElKu9XA1_g                  False  \n",
       "--UE_y6auTgq3FXlvUMkbw                  False  "
      ]
     },
     "execution_count": 130,
     "metadata": {},
     "output_type": "execute_result"
    }
   ],
   "source": [
    "R.iloc[:3,:3]"
   ]
  },
  {
   "cell_type": "code",
   "execution_count": 111,
   "metadata": {
    "ExecuteTime": {
     "end_time": "2017-01-26T11:45:12.737281",
     "start_time": "2017-01-26T11:45:12.201345"
    },
    "collapsed": false,
    "run_control": {
     "frozen": false,
     "read_only": false
    }
   },
   "outputs": [
    {
     "data": {
      "text/plain": [
       "423296"
      ]
     },
     "execution_count": 111,
     "metadata": {},
     "output_type": "execute_result"
    }
   ],
   "source": [
    "R.sum().sum()"
   ]
  },
  {
   "cell_type": "code",
   "execution_count": 132,
   "metadata": {
    "ExecuteTime": {
     "end_time": "2017-01-26T12:27:40.593127",
     "start_time": "2017-01-26T12:27:40.245215"
    },
    "collapsed": false,
    "run_control": {
     "frozen": false,
     "read_only": false
    }
   },
   "outputs": [
    {
     "data": {
      "text/plain": [
       "64.8699951171875"
      ]
     },
     "execution_count": 132,
     "metadata": {},
     "output_type": "execute_result"
    }
   ],
   "source": [
    "R.memory_usage().sum()/1024/1024 # 170 MB"
   ]
  },
  {
   "cell_type": "markdown",
   "metadata": {
    "run_control": {
     "frozen": false,
     "read_only": false
    }
   },
   "source": [
    "### To find the mean of Y rows using the 1s in R\n",
    "**For accessing reviewed items only using R**"
   ]
  },
  {
   "cell_type": "code",
   "execution_count": 114,
   "metadata": {
    "ExecuteTime": {
     "end_time": "2017-01-26T11:45:26.643311",
     "start_time": "2017-01-26T11:45:26.637313"
    },
    "collapsed": false,
    "run_control": {
     "frozen": false,
     "read_only": false
    }
   },
   "outputs": [
    {
     "data": {
      "text/plain": [
       "0.0029239766081871343"
      ]
     },
     "execution_count": 114,
     "metadata": {},
     "output_type": "execute_result"
    }
   ],
   "source": [
    "R.iloc[1,:].mean()"
   ]
  },
  {
   "cell_type": "code",
   "execution_count": 571,
   "metadata": {
    "ExecuteTime": {
     "end_time": "2017-01-25T19:49:44.543589",
     "start_time": "2017-01-25T19:49:44.537561"
    },
    "collapsed": false,
    "run_control": {
     "frozen": false,
     "read_only": false
    }
   },
   "outputs": [
    {
     "data": {
      "text/plain": [
       "[False, False, False, False, False]"
      ]
     },
     "execution_count": 571,
     "metadata": {},
     "output_type": "execute_result"
    }
   ],
   "source": [
    "list(R.iloc[1,1:6])"
   ]
  },
  {
   "cell_type": "code",
   "execution_count": 572,
   "metadata": {
    "ExecuteTime": {
     "end_time": "2017-01-25T19:49:45.772850",
     "start_time": "2017-01-25T19:49:45.762801"
    },
    "collapsed": false,
    "run_control": {
     "frozen": false,
     "read_only": false
    }
   },
   "outputs": [
    {
     "data": {
      "text/plain": [
       "4.0"
      ]
     },
     "execution_count": 572,
     "metadata": {},
     "output_type": "execute_result"
    }
   ],
   "source": [
    "Y.iloc[1,list(R.iloc[1,:])].mean()"
   ]
  },
  {
   "cell_type": "code",
   "execution_count": 177,
   "metadata": {
    "ExecuteTime": {
     "end_time": "2017-01-27T12:36:52.007959",
     "start_time": "2017-01-27T12:36:51.999938"
    },
    "collapsed": false,
    "run_control": {
     "frozen": false,
     "read_only": false
    }
   },
   "outputs": [
    {
     "data": {
      "text/plain": [
       "business_id\n",
       "--5jkZ3-nUPZxUvtcbr8Uw    4.484848\n",
       "--BlvDO_RG2yElKu9XA1_g    4.000000\n",
       "--UE_y6auTgq3FXlvUMkbw    3.377778\n",
       "--pOlFxITWnhzc7SHSIP0A    4.064815\n",
       "-0Ackw6MF82PXO9f9Jh_Kg    3.424528\n",
       "-0Oh0BEtQEC9OmmzZ_H5Bg    4.540541\n",
       "dtype: float64"
      ]
     },
     "execution_count": 177,
     "metadata": {},
     "output_type": "execute_result"
    }
   ],
   "source": [
    "Y.iloc[:6,:].mean(axis=1)"
   ]
  },
  {
   "cell_type": "markdown",
   "metadata": {
    "run_control": {
     "frozen": false,
     "read_only": false
    }
   },
   "source": [
    "# Set the number of features, number of businesses and users:"
   ]
  },
  {
   "cell_type": "code",
   "execution_count": 134,
   "metadata": {
    "ExecuteTime": {
     "end_time": "2017-01-26T12:28:20.179582",
     "start_time": "2017-01-26T12:28:20.175091"
    },
    "collapsed": true,
    "run_control": {
     "frozen": false,
     "read_only": false
    }
   },
   "outputs": [],
   "source": [
    "num_features = 100\n",
    "num_business = Y.shape[0]\n",
    "num_user = Y.shape[1]"
   ]
  },
  {
   "cell_type": "markdown",
   "metadata": {
    "run_control": {
     "frozen": false,
     "read_only": false
    }
   },
   "source": [
    "# Define the Cost Function\n",
    "Initializing the parameters ($\\theta$, X)\n",
    "\n",
    "$\\theta$: Model parameter \n",
    "\n",
    "X: model features\n",
    "\n",
    "$Y = X * \\theta^T$\n",
    "\n",
    "for non zero values of R\n",
    "\n",
    "$\\theta$ shape = #users * #features\n",
    "\n",
    "X shape = #business * #features\n",
    "\n",
    "Y shape = #business * #users\n",
    "\n",
    "Choose number of features = 100"
   ]
  },
  {
   "cell_type": "code",
   "execution_count": 464,
   "metadata": {
    "ExecuteTime": {
     "end_time": "2017-01-27T17:51:47.017723",
     "start_time": "2017-01-27T17:51:47.005691"
    },
    "collapsed": false,
    "run_control": {
     "frozen": false,
     "read_only": false
    }
   },
   "outputs": [],
   "source": [
    "def cost(params, Y, R, num_business, num_user, num_features, lamda):\n",
    "    # lamda is the regularization coefficient lambda (python keyword)\n",
    "    # Convert the dataframe to ndarray, fill nans with zeros, and leave the answer array for easier linear algebra operations\n",
    "#     Y_mat = np.nan_to_num(Y.as_matrix())\n",
    "#     R_mat = np.nan_to_num(R.as_matrix())\n",
    "\n",
    "    # unfold X and theta from the 1D params array\n",
    "    X = np.reshape(params[:num_business*num_features], (num_business, num_features))\n",
    "    theta = np.reshape(params[num_business*num_features:], (num_user, num_features))    \n",
    "    \n",
    "    J = 0.5*np.sum(pow((X@theta.T - Y)*R,2)) + lamda/2*(np.sum(pow(theta,2)) + np.sum(pow(X,2)))\n",
    "    \n",
    "    X_grad = (X@theta.T - Y)*R@theta + lamda*X\n",
    "    theta_grad = (X@theta.T - Y).T * R.T@X + lamda*theta\n",
    "    \n",
    "    grad = np.concatenate((np.ravel(X_grad), np.ravel(theta_grad)))\n",
    "    print('The cost is currently equal to.........', J)\n",
    "    return J, grad\n",
    "    "
   ]
  },
  {
   "cell_type": "code",
   "execution_count": 465,
   "metadata": {
    "ExecuteTime": {
     "end_time": "2017-01-27T17:51:58.088988",
     "start_time": "2017-01-27T17:51:54.300340"
    },
    "collapsed": false,
    "run_control": {
     "frozen": false,
     "read_only": false
    },
    "scrolled": true
   },
   "outputs": [
    {
     "name": "stdout",
     "output_type": "stream",
     "text": [
      "The cost is currently equal to......... user_id\n",
      "--4TkB_iDShmg41Y_QW9nw     1579.746721\n",
      "--65q1FpAL_UQtVZ2PTGew     5069.748460\n",
      "--VxRvXk3b8FwsSbC2Zpxw     1190.275631\n",
      "-0itF0VWVBe3k2AdfUReGA     2414.086425\n",
      "-2EuoueswhqEERWezJY8gw     1301.227227\n",
      "-2PFmYGWB6rQhZtRh6PlPA     3641.979564\n",
      "-2r-OO0dtcCQQ3BLYdHXlg     1944.016249\n",
      "-3HkgwyxVPf49MXM4dT8Tw     1837.270906\n",
      "-3TxtJo7vjXYM3ROugCO_Q     1839.552412\n",
      "-3akdU5UTDn6dwiTCO2cAw     3074.880855\n",
      "-3iCfNaLfDFNHbox8qQIdg      782.779018\n",
      "-3kLmioDGUc1eOsWEufKOQ     1102.846273\n",
      "-3yWpMtAHNQqJRFw1zev6w     1429.604089\n",
      "-4AMRN-7RtozD9s8ZsH04g     2337.811383\n",
      "-4ld1qpaBNLocSBe85jWnw    10287.792374\n",
      "-66ssufl05UYwJGSXfjKVg     2876.944763\n",
      "-7G86_mYaOTLEzuWoyiSdQ     1519.068509\n",
      "-8BqfYouq3o_UoazAQWwNw     3133.072678\n",
      "-8gRkiYaVm3zfoQ4pcg75w     2351.317342\n",
      "-9G7cH_cBwwgcJFLrSynRA     2005.403361\n",
      "-9ZYvyfXviqy-i6TrEp4qw     1096.448169\n",
      "-9mljS0O9mwdOnGv-Oea3Q     2235.300937\n",
      "-ANkfLbDf8aiBQ7vywIL6w     3807.958925\n",
      "-AXrmhjaQ8PbZJFe5V9Hjw     2268.342612\n",
      "-BVv1TDLLphHzgKw-eAJJQ     2326.709094\n",
      "-DLZvdwIXxpBKSV6YNsvdA     4009.914215\n",
      "-DRza4wuHHWfQx5HcG6qaw     5248.674348\n",
      "-DgPgVWE-pzo2i5mujSBhA     1058.726223\n",
      "-Dof9NwAoQwRM-GVPZk5zw     2568.760730\n",
      "-E6yYsngVZqIUHlX856sbw     1112.585736\n",
      "                              ...     \n",
      "zlKSUN5Ld6JdwUViuQAUgA     2011.965239\n",
      "zmAls0da_HiA14bzZrJoJA     1313.305609\n",
      "zn2Qd-M3lroZV3tqHgMQOA     2503.335112\n",
      "zn81QpflLDUaGZkCMUowCg     1800.149025\n",
      "znl5iVYdAUPRljPSZUu-tQ     2182.123085\n",
      "zo2PHkxPCVvyo9AoCwCb3g     5886.133827\n",
      "zoUPoAPQV7Qy0BFFpCqsRA     1012.566912\n",
      "zptl58gf928g4JOOP2N0-w     1833.914894\n",
      "zqHznU4iL06NziZIEGWHJw     3500.180663\n",
      "zqinrvXec9BBrTGpLILNPQ     2657.386901\n",
      "zqnAdayPsak5dbLF2gEvNw     3659.172496\n",
      "zs9EphhkXylrxHCzxhC_ag     1320.358260\n",
      "zs_GJibScPz5Cbz1hoNanQ     3158.211957\n",
      "zsvR-RUVTYedUUKkVe7Bkw     1030.942150\n",
      "zt_nfDcq20M1zYnb_RNcsg     2167.178456\n",
      "zu2NCMohhum-Rjxs-9I98g     1980.934419\n",
      "zulIXCHm9vaRsn7JO888HQ     1345.353006\n",
      "zuoeE7GdXXlCgr995ImWfQ     5621.614147\n",
      "zv7Gl0FamgYoJHdDGYAxfw     1371.486697\n",
      "zvJCcrpm2yOZrxKffwGQLA     1621.398850\n",
      "zw8b_u1zuAYO2JgALq5UGw      730.984332\n",
      "zwp0VJBl7aaTNtLmSUQlPA     1197.146733\n",
      "zwvDYqq9XZ02_qOKCL7Jbg     2684.070120\n",
      "zxcbfl2Yqp6U_8VEFeyu_A     2111.481444\n",
      "zxuq7MORAKtQL6b6LCxojg     1875.664344\n",
      "zy3nt9DdlkxDyjx9rzqOIg      885.609861\n",
      "zyNjl-MI6I_CLKHLEgcmtw     2030.642062\n",
      "zycqYaHhEjqIdkAYVSqQIA      984.188729\n",
      "zz4iaqRAIT-wju1J8wicgA     6413.914042\n",
      "zzmRKNph-pBHDL2qwGv9Fw      832.396766\n",
      "dtype: float64\n"
     ]
    },
    {
     "data": {
      "text/plain": [
       "user_id\n",
       "--4TkB_iDShmg41Y_QW9nw     1579.746721\n",
       "--65q1FpAL_UQtVZ2PTGew     5069.748460\n",
       "--VxRvXk3b8FwsSbC2Zpxw     1190.275631\n",
       "-0itF0VWVBe3k2AdfUReGA     2414.086425\n",
       "-2EuoueswhqEERWezJY8gw     1301.227227\n",
       "-2PFmYGWB6rQhZtRh6PlPA     3641.979564\n",
       "-2r-OO0dtcCQQ3BLYdHXlg     1944.016249\n",
       "-3HkgwyxVPf49MXM4dT8Tw     1837.270906\n",
       "-3TxtJo7vjXYM3ROugCO_Q     1839.552412\n",
       "-3akdU5UTDn6dwiTCO2cAw     3074.880855\n",
       "-3iCfNaLfDFNHbox8qQIdg      782.779018\n",
       "-3kLmioDGUc1eOsWEufKOQ     1102.846273\n",
       "-3yWpMtAHNQqJRFw1zev6w     1429.604089\n",
       "-4AMRN-7RtozD9s8ZsH04g     2337.811383\n",
       "-4ld1qpaBNLocSBe85jWnw    10287.792374\n",
       "-66ssufl05UYwJGSXfjKVg     2876.944763\n",
       "-7G86_mYaOTLEzuWoyiSdQ     1519.068509\n",
       "-8BqfYouq3o_UoazAQWwNw     3133.072678\n",
       "-8gRkiYaVm3zfoQ4pcg75w     2351.317342\n",
       "-9G7cH_cBwwgcJFLrSynRA     2005.403361\n",
       "-9ZYvyfXviqy-i6TrEp4qw     1096.448169\n",
       "-9mljS0O9mwdOnGv-Oea3Q     2235.300937\n",
       "-ANkfLbDf8aiBQ7vywIL6w     3807.958925\n",
       "-AXrmhjaQ8PbZJFe5V9Hjw     2268.342612\n",
       "-BVv1TDLLphHzgKw-eAJJQ     2326.709094\n",
       "-DLZvdwIXxpBKSV6YNsvdA     4009.914215\n",
       "-DRza4wuHHWfQx5HcG6qaw     5248.674348\n",
       "-DgPgVWE-pzo2i5mujSBhA     1058.726223\n",
       "-Dof9NwAoQwRM-GVPZk5zw     2568.760730\n",
       "-E6yYsngVZqIUHlX856sbw     1112.585736\n",
       "                              ...     \n",
       "zlKSUN5Ld6JdwUViuQAUgA     2011.965239\n",
       "zmAls0da_HiA14bzZrJoJA     1313.305609\n",
       "zn2Qd-M3lroZV3tqHgMQOA     2503.335112\n",
       "zn81QpflLDUaGZkCMUowCg     1800.149025\n",
       "znl5iVYdAUPRljPSZUu-tQ     2182.123085\n",
       "zo2PHkxPCVvyo9AoCwCb3g     5886.133827\n",
       "zoUPoAPQV7Qy0BFFpCqsRA     1012.566912\n",
       "zptl58gf928g4JOOP2N0-w     1833.914894\n",
       "zqHznU4iL06NziZIEGWHJw     3500.180663\n",
       "zqinrvXec9BBrTGpLILNPQ     2657.386901\n",
       "zqnAdayPsak5dbLF2gEvNw     3659.172496\n",
       "zs9EphhkXylrxHCzxhC_ag     1320.358260\n",
       "zs_GJibScPz5Cbz1hoNanQ     3158.211957\n",
       "zsvR-RUVTYedUUKkVe7Bkw     1030.942150\n",
       "zt_nfDcq20M1zYnb_RNcsg     2167.178456\n",
       "zu2NCMohhum-Rjxs-9I98g     1980.934419\n",
       "zulIXCHm9vaRsn7JO888HQ     1345.353006\n",
       "zuoeE7GdXXlCgr995ImWfQ     5621.614147\n",
       "zv7Gl0FamgYoJHdDGYAxfw     1371.486697\n",
       "zvJCcrpm2yOZrxKffwGQLA     1621.398850\n",
       "zw8b_u1zuAYO2JgALq5UGw      730.984332\n",
       "zwp0VJBl7aaTNtLmSUQlPA     1197.146733\n",
       "zwvDYqq9XZ02_qOKCL7Jbg     2684.070120\n",
       "zxcbfl2Yqp6U_8VEFeyu_A     2111.481444\n",
       "zxuq7MORAKtQL6b6LCxojg     1875.664344\n",
       "zy3nt9DdlkxDyjx9rzqOIg      885.609861\n",
       "zyNjl-MI6I_CLKHLEgcmtw     2030.642062\n",
       "zycqYaHhEjqIdkAYVSqQIA      984.188729\n",
       "zz4iaqRAIT-wju1J8wicgA     6413.914042\n",
       "zzmRKNph-pBHDL2qwGv9Fw      832.396766\n",
       "dtype: float64"
      ]
     },
     "execution_count": 465,
     "metadata": {},
     "output_type": "execute_result"
    }
   ],
   "source": [
    "J, grad = cost(params, Y, R, num_business, num_user, num_features, 0)\n",
    "J"
   ]
  },
  {
   "cell_type": "code",
   "execution_count": 466,
   "metadata": {
    "ExecuteTime": {
     "end_time": "2017-01-27T17:52:46.096656",
     "start_time": "2017-01-27T17:52:46.090641"
    },
    "collapsed": false,
    "run_control": {
     "frozen": false,
     "read_only": false
    }
   },
   "outputs": [
    {
     "data": {
      "text/plain": [
       "23654851.02342555"
      ]
     },
     "execution_count": 466,
     "metadata": {},
     "output_type": "execute_result"
    }
   ],
   "source": [
    "J.sum()"
   ]
  },
  {
   "cell_type": "code",
   "execution_count": 342,
   "metadata": {
    "ExecuteTime": {
     "end_time": "2017-01-20T13:46:18.603732",
     "start_time": "2017-01-20T13:46:18.597700"
    },
    "collapsed": false,
    "run_control": {
     "frozen": false,
     "read_only": false
    }
   },
   "outputs": [
    {
     "data": {
      "text/plain": [
       "10.0"
      ]
     },
     "execution_count": 342,
     "metadata": {},
     "output_type": "execute_result"
    }
   ],
   "source": [
    "# checking some numpy matrix operations\n",
    "a = np.array([[1.,2],[3,4]])\n",
    "print('a=', a)\n",
    "\n",
    "b = np.array([[5,6],[7,8]])\n",
    "print('b=', b)\n",
    "\n",
    "print(a*b)\n",
    "\n",
    "print(a@b)\n",
    "\n",
    "c = np.asmatrix(a)\n",
    "print('c=', c)\n",
    "\n",
    "print(c*b)\n",
    "\n",
    "np.sum(c)"
   ]
  },
  {
   "cell_type": "markdown",
   "metadata": {
    "ExecuteTime": {
     "end_time": "2017-01-20T11:53:03.370960",
     "start_time": "2017-01-20T11:53:03.367952"
    },
    "run_control": {
     "frozen": false,
     "read_only": false
    }
   },
   "source": [
    "# initialize X, $\\theta$"
   ]
  },
  {
   "cell_type": "code",
   "execution_count": 136,
   "metadata": {
    "ExecuteTime": {
     "end_time": "2017-01-26T13:26:56.305662",
     "start_time": "2017-01-26T13:26:56.247018"
    },
    "collapsed": false,
    "run_control": {
     "frozen": false,
     "read_only": false
    }
   },
   "outputs": [],
   "source": [
    "X = np.random.randn(num_business, num_features)\n",
    "theta = np.random.randn(num_user, num_features)\n",
    "\n",
    "params = np.concatenate((np.ravel(X), np.ravel(theta)))"
   ]
  },
  {
   "cell_type": "code",
   "execution_count": 138,
   "metadata": {
    "ExecuteTime": {
     "end_time": "2017-01-26T13:26:57.484307",
     "start_time": "2017-01-26T13:26:57.478792"
    },
    "collapsed": false,
    "run_control": {
     "frozen": false,
     "read_only": false
    }
   },
   "outputs": [
    {
     "data": {
      "text/plain": [
       "(1659400,)"
      ]
     },
     "execution_count": 138,
     "metadata": {},
     "output_type": "execute_result"
    }
   ],
   "source": [
    "params.shape"
   ]
  },
  {
   "cell_type": "code",
   "execution_count": 139,
   "metadata": {
    "ExecuteTime": {
     "end_time": "2017-01-26T13:26:58.706103",
     "start_time": "2017-01-26T13:26:58.701090"
    },
    "collapsed": false,
    "run_control": {
     "frozen": false,
     "read_only": false
    }
   },
   "outputs": [
    {
     "data": {
      "text/plain": [
       "((7360, 100), (9234, 100))"
      ]
     },
     "execution_count": 139,
     "metadata": {},
     "output_type": "execute_result"
    }
   ],
   "source": [
    "X.shape, theta.shape"
   ]
  },
  {
   "cell_type": "code",
   "execution_count": 210,
   "metadata": {
    "ExecuteTime": {
     "end_time": "2017-01-20T12:10:22.023717",
     "start_time": "2017-01-20T12:10:22.019696"
    },
    "collapsed": true,
    "run_control": {
     "frozen": false,
     "read_only": false
    }
   },
   "outputs": [],
   "source": [
    "# X1 = np.reshape(params[:num_business*num_features], (num_business, num_features))\n",
    "# theta1 = np.reshape(params[num_business*num_features:], (num_user, num_features))"
   ]
  },
  {
   "cell_type": "markdown",
   "metadata": {
    "run_control": {
     "frozen": false,
     "read_only": false
    }
   },
   "source": [
    "# Initialize and train the model:\n",
    "\n",
    "- Continue with parameter initialization, mean normalization, then find predictions\n",
    "- Split the dataset to evqaluate the model\n"
   ]
  },
  {
   "cell_type": "code",
   "execution_count": null,
   "metadata": {
    "collapsed": true,
    "run_control": {
     "frozen": false,
     "read_only": false
    }
   },
   "outputs": [],
   "source": [
    "from scipy.optimize import minimize"
   ]
  },
  {
   "cell_type": "code",
   "execution_count": 263,
   "metadata": {
    "ExecuteTime": {
     "end_time": "2017-01-27T15:57:56.381352",
     "start_time": "2017-01-27T15:57:56.374835"
    },
    "collapsed": false,
    "run_control": {
     "frozen": false,
     "read_only": false
    }
   },
   "outputs": [
    {
     "data": {
      "text/plain": [
       "array([ 670,  726,  761,  920, 1025, 1959, 2107, 2295, 2771, 2866, 2961,\n",
       "       3096, 3150, 3300, 3390, 4854, 4874, 5032, 5169, 5233, 5534, 5632,\n",
       "       6016, 6023, 6060, 6281, 6376, 6475, 6620, 6644, 6695, 6703, 6818,\n",
       "       6833, 7036, 7154, 7217, 7282, 7353, 7726, 7754, 7999, 8074, 8743,\n",
       "       8798, 8915, 8940], dtype=int64)"
      ]
     },
     "execution_count": 263,
     "metadata": {},
     "output_type": "execute_result"
    }
   ],
   "source": [
    "idx = np.where(R_mat[i,:] == 1)[0]\n",
    "idx"
   ]
  },
  {
   "cell_type": "code",
   "execution_count": 485,
   "metadata": {
    "ExecuteTime": {
     "end_time": "2017-01-27T18:07:49.395953",
     "start_time": "2017-01-27T18:07:45.035510"
    },
    "collapsed": false,
    "run_control": {
     "frozen": false,
     "read_only": false
    }
   },
   "outputs": [],
   "source": [
    "lamda = 10\n",
    "\n",
    "X = np.random.randn(num_business, num_features)\n",
    "theta = np.random.randn(num_user, num_features)\n",
    "params = np.concatenate((np.ravel(X), np.ravel(theta)))\n",
    "\n",
    "Y_mat = np.nan_to_num(Y.as_matrix())\n",
    "R_mat = np.nan_to_num(R.as_matrix())\n",
    "\n",
    "# Ymean = np.zeros((num_business, 1))  \n",
    "# Ynorm = np.zeros((num_business, num_user))\n",
    "Ymean = np.nanmean(Y_mat, axis=1, keepdims=True)\n",
    "Ynorm = np.nan_to_num(Y.subtract(Y.mean(axis=1), axis=0).as_matrix())\n",
    "\n",
    "# for i in range(num_business):  \n",
    "#     idx = np.where(R_mat[i,:] == 1)[0]\n",
    "#     Ymean[i] = Y.iloc[i,idx].mean()\n",
    "#     Ynorm[i,idx] = Y.iloc[i,idx] - Ymean[i]\n",
    "\n",
    "# Ynorm = Y - Y.mean()"
   ]
  },
  {
   "cell_type": "code",
   "execution_count": 486,
   "metadata": {
    "ExecuteTime": {
     "end_time": "2017-01-27T18:17:00.569685",
     "start_time": "2017-01-27T18:07:53.940167"
    },
    "collapsed": false,
    "run_control": {
     "frozen": false,
     "read_only": false
    }
   },
   "outputs": [
    {
     "name": "stdout",
     "output_type": "stream",
     "text": [
      "The cost is currently equal to......... 28893827.0573\n",
      "The cost is currently equal to......... 28893827.0573\n",
      "The cost is currently equal to......... 28757265.6785\n",
      "The cost is currently equal to......... 28217747.3649\n",
      "The cost is currently equal to......... 26164889.2655\n",
      "The cost is currently equal to......... 19488558.7857\n",
      "The cost is currently equal to......... 9526265.1544\n",
      "The cost is currently equal to......... 168949636.253\n",
      "The cost is currently equal to......... 6795635.23787\n",
      "The cost is currently equal to......... 8648479.80321\n",
      "The cost is currently equal to......... 5733474.09161\n",
      "The cost is currently equal to......... 4791139.39894\n",
      "The cost is currently equal to......... 3925059.0348\n",
      "The cost is currently equal to......... 3156379.7263\n",
      "The cost is currently equal to......... 4081936.40704\n",
      "The cost is currently equal to......... 2785793.27624\n",
      "The cost is currently equal to......... 2598065.25002\n",
      "The cost is currently equal to......... 2535677.70442\n",
      "The cost is currently equal to......... 2143305.94052\n",
      "The cost is currently equal to......... 1701464.84694\n",
      "The cost is currently equal to......... 2416676.70536\n",
      "The cost is currently equal to......... 1210365.19605\n",
      "The cost is currently equal to......... 1062336.41355\n",
      "The cost is currently equal to......... 941433.866048\n",
      "The cost is currently equal to......... 972978.351702\n",
      "The cost is currently equal to......... 830265.348483\n",
      "The cost is currently equal to......... 878811.603871\n",
      "The cost is currently equal to......... 788259.279554\n",
      "The cost is currently equal to......... 730985.682521\n",
      "The cost is currently equal to......... 709800.554517\n",
      "The cost is currently equal to......... 697602.773722\n",
      "The cost is currently equal to......... 642489.139669\n",
      "The cost is currently equal to......... 540039.668896\n",
      "The cost is currently equal to......... 425616.54442\n",
      "The cost is currently equal to......... 569515.175895\n",
      "The cost is currently equal to......... 385088.177935\n",
      "The cost is currently equal to......... 334885.919853\n",
      "The cost is currently equal to......... 294309.803471\n",
      "The cost is currently equal to......... 249648.944403\n",
      "The cost is currently equal to......... 210037.549443\n",
      "The cost is currently equal to......... 332489.968945\n",
      "The cost is currently equal to......... 198433.992572\n",
      "The cost is currently equal to......... 187931.70901\n",
      "The cost is currently equal to......... 181741.539237\n",
      "The cost is currently equal to......... 194234.529796\n",
      "The cost is currently equal to......... 179628.365052\n",
      "The cost is currently equal to......... 177568.707079\n",
      "The cost is currently equal to......... 174816.456578\n",
      "The cost is currently equal to......... 177061.158877\n",
      "The cost is currently equal to......... 173833.508231\n",
      "The cost is currently equal to......... 172922.153242\n",
      "The cost is currently equal to......... 172082.537454\n",
      "The cost is currently equal to......... 172029.869726\n",
      "The cost is currently equal to......... 171642.730185\n",
      "The cost is currently equal to......... 171135.024479\n",
      "The cost is currently equal to......... 170661.64192\n",
      "The cost is currently equal to......... 170396.293138\n",
      "The cost is currently equal to......... 170327.024175\n",
      "The cost is currently equal to......... 170097.881595\n",
      "The cost is currently equal to......... 169948.425442\n",
      "The cost is currently equal to......... 169727.332197\n",
      "The cost is currently equal to......... 169662.675948\n",
      "The cost is currently equal to......... 169728.464198\n",
      "The cost is currently equal to......... 169530.117367\n",
      "The cost is currently equal to......... 169409.529446\n",
      "The cost is currently equal to......... 169297.696992\n",
      "The cost is currently equal to......... 169163.012132\n",
      "The cost is currently equal to......... 169071.432435\n",
      "The cost is currently equal to......... 169065.6019\n",
      "The cost is currently equal to......... 169023.828874\n",
      "The cost is currently equal to......... 168950.667802\n",
      "The cost is currently equal to......... 168923.54983\n",
      "The cost is currently equal to......... 168891.5371\n",
      "The cost is currently equal to......... 168863.273413\n",
      "The cost is currently equal to......... 168829.391129\n",
      "The cost is currently equal to......... 168820.917218\n",
      "The cost is currently equal to......... 168774.93822\n",
      "The cost is currently equal to......... 168708.9809\n",
      "The cost is currently equal to......... 168694.687001\n",
      "The cost is currently equal to......... 168618.381953\n",
      "The cost is currently equal to......... 168534.758242\n",
      "The cost is currently equal to......... 168473.841166\n",
      "The cost is currently equal to......... 168442.918162\n",
      "The cost is currently equal to......... 168432.386107\n",
      "The cost is currently equal to......... 168377.730602\n",
      "The cost is currently equal to......... 168354.922454\n",
      "The cost is currently equal to......... 168343.002364\n",
      "The cost is currently equal to......... 168335.519811\n",
      "The cost is currently equal to......... 168323.399445\n",
      "The cost is currently equal to......... 168299.197155\n",
      "The cost is currently equal to......... 168281.871113\n",
      "The cost is currently equal to......... 168300.145391\n",
      "The cost is currently equal to......... 168276.118209\n",
      "The cost is currently equal to......... 168266.620945\n",
      "The cost is currently equal to......... 168260.132703\n",
      "The cost is currently equal to......... 168254.349973\n",
      "The cost is currently equal to......... 168250.311258\n",
      "The cost is currently equal to......... 168240.491709\n",
      "The cost is currently equal to......... 168223.959158\n",
      "The cost is currently equal to......... 168211.150709\n",
      "The cost is currently equal to......... 168184.944396\n",
      "The cost is currently equal to......... 168172.645231\n",
      "The cost is currently equal to......... 168167.682602\n",
      "The cost is currently equal to......... 168141.154026\n",
      "The cost is currently equal to......... 168131.257581\n",
      "The cost is currently equal to......... 168095.016772\n",
      "The cost is currently equal to......... 168061.290594\n",
      "The cost is currently equal to......... 168053.715902\n",
      "The cost is currently equal to......... 168042.06331\n",
      "The cost is currently equal to......... 168045.8365\n",
      "The cost is currently equal to......... 168033.190013\n",
      "The cost is currently equal to......... 168020.98135\n",
      "The cost is currently equal to......... 168022.26414\n",
      "The cost is currently equal to......... 168015.137471\n",
      "The cost is currently equal to......... 168007.879792\n",
      "The cost is currently equal to......... 168001.424316\n",
      "The cost is currently equal to......... 167995.83391\n",
      "The cost is currently equal to......... 167987.536649\n",
      "The cost is currently equal to......... 167985.168123\n",
      "The cost is currently equal to......... 167983.668806\n",
      "The cost is currently equal to......... 167979.378769\n",
      "The cost is currently equal to......... 167971.727459\n",
      "The cost is currently equal to......... 167967.033069\n",
      "The cost is currently equal to......... 167977.725851\n",
      "The cost is currently equal to......... 167965.917684\n",
      "The cost is currently equal to......... 167963.819097\n",
      "The cost is currently equal to......... 167958.507604\n",
      "The cost is currently equal to......... 167977.10684\n",
      "The cost is currently equal to......... 167956.842889\n",
      "The cost is currently equal to......... 167955.334573\n",
      "The cost is currently equal to......... 167952.647901\n",
      "The cost is currently equal to......... 167948.931529\n",
      "The cost is currently equal to......... 167941.773251\n",
      "The cost is currently equal to......... 167936.850892\n",
      "The cost is currently equal to......... 167935.393958\n",
      "The cost is currently equal to......... 167933.935892\n",
      "The cost is currently equal to......... 167929.205187\n",
      "The cost is currently equal to......... 167926.455498\n",
      "The cost is currently equal to......... 167920.902731\n",
      "The cost is currently equal to......... 167916.990231\n",
      "The cost is currently equal to......... 167910.781999\n",
      "The cost is currently equal to......... 167907.781504\n",
      "The cost is currently equal to......... 167902.403256\n",
      "The cost is currently equal to......... 167901.250577\n",
      "The cost is currently equal to......... 167898.092292\n",
      "The cost is currently equal to......... 167896.914279\n",
      "The cost is currently equal to......... 167893.455821\n",
      "The cost is currently equal to......... 167889.269483\n",
      "The cost is currently equal to......... 167885.168822\n",
      "The cost is currently equal to......... 167886.003004\n",
      "The cost is currently equal to......... 167883.290218\n",
      "The cost is currently equal to......... 167881.74161\n",
      "The cost is currently equal to......... 167879.881417\n",
      "The cost is currently equal to......... 167878.117191\n"
     ]
    }
   ],
   "source": [
    "params = np.concatenate((np.ravel(X), np.ravel(theta)))\n",
    "fmin = minimize(fun=cost, x0=params, args=(Ynorm, R_mat, num_business, num_user, num_features, lamda),  \n",
    "                method='CG', jac=True, options={'maxiter': 100})\n",
    "X = np.matrix(np.reshape(fmin.x[:num_business * num_features], (num_business, num_features)))  \n",
    "theta = np.matrix(np.reshape(fmin.x[num_business * num_features:], (num_user, num_features)))\n",
    "\n"
   ]
  },
  {
   "cell_type": "markdown",
   "metadata": {
    "run_control": {
     "frozen": false,
     "read_only": false
    }
   },
   "source": [
    "## Get Predictions"
   ]
  },
  {
   "cell_type": "code",
   "execution_count": 487,
   "metadata": {
    "ExecuteTime": {
     "end_time": "2017-01-27T18:17:01.197353",
     "start_time": "2017-01-27T18:17:00.574195"
    },
    "collapsed": true,
    "run_control": {
     "frozen": false,
     "read_only": false
    }
   },
   "outputs": [],
   "source": [
    "predictions = X * theta.T + Ymean"
   ]
  },
  {
   "cell_type": "code",
   "execution_count": 488,
   "metadata": {
    "ExecuteTime": {
     "end_time": "2017-01-27T18:17:01.214413",
     "start_time": "2017-01-27T18:17:01.199359"
    },
    "collapsed": false,
    "run_control": {
     "frozen": false,
     "read_only": false
    }
   },
   "outputs": [
    {
     "data": {
      "text/plain": [
       "matrix([[ 0.03219707,  0.08143545, -0.01909967, ...,  0.03826407,\n",
       "          0.03001919,  0.03025337],\n",
       "        [ 0.02934303, -0.10606007,  0.0897014 , ..., -0.01424757,\n",
       "         -0.0428075 ,  0.00801179],\n",
       "        [ 0.07108842,  0.02679396,  0.08252031, ..., -0.00527034,\n",
       "          0.10147134, -0.00545042],\n",
       "        ..., \n",
       "        [ 0.04187484,  0.15184913,  0.08107561, ...,  0.07901171,\n",
       "          0.18237418,  0.03491847],\n",
       "        [ 0.23712873, -0.10628723,  0.08764696, ...,  0.0498105 ,\n",
       "          0.11735341,  0.0549538 ],\n",
       "        [ 0.20585214,  0.04080691,  0.01113103, ...,  0.04272989,\n",
       "          0.1060568 ,  0.08648696]])"
      ]
     },
     "execution_count": 488,
     "metadata": {},
     "output_type": "execute_result"
    }
   ],
   "source": [
    "predictions"
   ]
  },
  {
   "cell_type": "markdown",
   "metadata": {
    "run_control": {
     "frozen": false,
     "read_only": false
    }
   },
   "source": [
    "## Evaluate Recommender System"
   ]
  },
  {
   "cell_type": "code",
   "execution_count": 489,
   "metadata": {
    "ExecuteTime": {
     "end_time": "2017-01-27T18:20:46.198414",
     "start_time": "2017-01-27T18:20:46.162296"
    },
    "collapsed": false,
    "run_control": {
     "frozen": false,
     "read_only": false
    }
   },
   "outputs": [
    {
     "data": {
      "text/plain": [
       "Index(['pIuq0cbN90agqm0z5pxF5A', 'v6VJhNpS6Snke33MqKBUhQ',\n",
       "       'FLdun6KWwAh-gC8VHVZGCw', 'qsdIra27jSpnmCNjJubnrQ',\n",
       "       'qnb62vcj2cNakytjEPunow', '8bwVOeK3Zylt6PnKf-KNnw',\n",
       "       'kkddWkOVA2FGgt4ejO1gqA', '3RsG7Fjx93YQyqwR0ONfkQ',\n",
       "       'xoBrFHHEzmXYNLwMEuc0TQ', 'F5WW6egmmUrIWRI_ZNpbEA',\n",
       "       ...\n",
       "       'eWxE1YjGYkeuJ-ymRAdwQA', 'LZJhdOO3PrHCQ4KeIncrCg',\n",
       "       'QSQeU6bDea42m6yH_pOQ8A', 'ilV4uebbkirD2AiNIouHhw',\n",
       "       'RyKF9WpyxDikoF6ADsHMDA', 'GPIV41wpKGS5XNvQeBtYjQ',\n",
       "       'LnZvcTBq8svbDnjGEEFZMA', '317zjwBsgGRcqP9hlhcGOw',\n",
       "       'ZzXsskFHBYlHigIC0mX9lg', 'SX5b6l8Isbi7VbjK-eilIQ'],\n",
       "      dtype='object', name='user_id', length=2770)"
      ]
     },
     "execution_count": 489,
     "metadata": {},
     "output_type": "execute_result"
    }
   ],
   "source": [
    "# compare the Y_test to predicted values\n",
    "Y_test.columns"
   ]
  },
  {
   "cell_type": "code",
   "execution_count": 496,
   "metadata": {
    "ExecuteTime": {
     "end_time": "2017-01-28T02:56:12.008493",
     "start_time": "2017-01-28T02:56:11.982923"
    },
    "collapsed": false,
    "run_control": {
     "frozen": false,
     "read_only": false
    }
   },
   "outputs": [
    {
     "data": {
      "text/html": [
       "<div>\n",
       "<table border=\"1\" class=\"dataframe\">\n",
       "  <thead>\n",
       "    <tr style=\"text-align: right;\">\n",
       "      <th>user_id</th>\n",
       "      <th>--4TkB_iDShmg41Y_QW9nw</th>\n",
       "      <th>--65q1FpAL_UQtVZ2PTGew</th>\n",
       "      <th>--VxRvXk3b8FwsSbC2Zpxw</th>\n",
       "      <th>-0itF0VWVBe3k2AdfUReGA</th>\n",
       "      <th>-2EuoueswhqEERWezJY8gw</th>\n",
       "      <th>-2PFmYGWB6rQhZtRh6PlPA</th>\n",
       "      <th>-2r-OO0dtcCQQ3BLYdHXlg</th>\n",
       "      <th>-3HkgwyxVPf49MXM4dT8Tw</th>\n",
       "      <th>-3TxtJo7vjXYM3ROugCO_Q</th>\n",
       "      <th>-3akdU5UTDn6dwiTCO2cAw</th>\n",
       "    </tr>\n",
       "    <tr>\n",
       "      <th>business_id</th>\n",
       "      <th></th>\n",
       "      <th></th>\n",
       "      <th></th>\n",
       "      <th></th>\n",
       "      <th></th>\n",
       "      <th></th>\n",
       "      <th></th>\n",
       "      <th></th>\n",
       "      <th></th>\n",
       "      <th></th>\n",
       "    </tr>\n",
       "  </thead>\n",
       "  <tbody>\n",
       "    <tr>\n",
       "      <th>--5jkZ3-nUPZxUvtcbr8Uw</th>\n",
       "      <td>NaN</td>\n",
       "      <td>NaN</td>\n",
       "      <td>NaN</td>\n",
       "      <td>NaN</td>\n",
       "      <td>NaN</td>\n",
       "      <td>NaN</td>\n",
       "      <td>NaN</td>\n",
       "      <td>NaN</td>\n",
       "      <td>NaN</td>\n",
       "      <td>NaN</td>\n",
       "    </tr>\n",
       "    <tr>\n",
       "      <th>--BlvDO_RG2yElKu9XA1_g</th>\n",
       "      <td>NaN</td>\n",
       "      <td>NaN</td>\n",
       "      <td>NaN</td>\n",
       "      <td>NaN</td>\n",
       "      <td>NaN</td>\n",
       "      <td>NaN</td>\n",
       "      <td>NaN</td>\n",
       "      <td>NaN</td>\n",
       "      <td>NaN</td>\n",
       "      <td>NaN</td>\n",
       "    </tr>\n",
       "    <tr>\n",
       "      <th>--UE_y6auTgq3FXlvUMkbw</th>\n",
       "      <td>NaN</td>\n",
       "      <td>NaN</td>\n",
       "      <td>NaN</td>\n",
       "      <td>NaN</td>\n",
       "      <td>NaN</td>\n",
       "      <td>NaN</td>\n",
       "      <td>NaN</td>\n",
       "      <td>NaN</td>\n",
       "      <td>NaN</td>\n",
       "      <td>NaN</td>\n",
       "    </tr>\n",
       "  </tbody>\n",
       "</table>\n",
       "</div>"
      ],
      "text/plain": [
       "user_id                 --4TkB_iDShmg41Y_QW9nw  --65q1FpAL_UQtVZ2PTGew  \\\n",
       "business_id                                                              \n",
       "--5jkZ3-nUPZxUvtcbr8Uw                     NaN                     NaN   \n",
       "--BlvDO_RG2yElKu9XA1_g                     NaN                     NaN   \n",
       "--UE_y6auTgq3FXlvUMkbw                     NaN                     NaN   \n",
       "\n",
       "user_id                 --VxRvXk3b8FwsSbC2Zpxw  -0itF0VWVBe3k2AdfUReGA  \\\n",
       "business_id                                                              \n",
       "--5jkZ3-nUPZxUvtcbr8Uw                     NaN                     NaN   \n",
       "--BlvDO_RG2yElKu9XA1_g                     NaN                     NaN   \n",
       "--UE_y6auTgq3FXlvUMkbw                     NaN                     NaN   \n",
       "\n",
       "user_id                 -2EuoueswhqEERWezJY8gw  -2PFmYGWB6rQhZtRh6PlPA  \\\n",
       "business_id                                                              \n",
       "--5jkZ3-nUPZxUvtcbr8Uw                     NaN                     NaN   \n",
       "--BlvDO_RG2yElKu9XA1_g                     NaN                     NaN   \n",
       "--UE_y6auTgq3FXlvUMkbw                     NaN                     NaN   \n",
       "\n",
       "user_id                 -2r-OO0dtcCQQ3BLYdHXlg  -3HkgwyxVPf49MXM4dT8Tw  \\\n",
       "business_id                                                              \n",
       "--5jkZ3-nUPZxUvtcbr8Uw                     NaN                     NaN   \n",
       "--BlvDO_RG2yElKu9XA1_g                     NaN                     NaN   \n",
       "--UE_y6auTgq3FXlvUMkbw                     NaN                     NaN   \n",
       "\n",
       "user_id                 -3TxtJo7vjXYM3ROugCO_Q  -3akdU5UTDn6dwiTCO2cAw  \n",
       "business_id                                                             \n",
       "--5jkZ3-nUPZxUvtcbr8Uw                     NaN                     NaN  \n",
       "--BlvDO_RG2yElKu9XA1_g                     NaN                     NaN  \n",
       "--UE_y6auTgq3FXlvUMkbw                     NaN                     NaN  "
      ]
     },
     "execution_count": 496,
     "metadata": {},
     "output_type": "execute_result"
    }
   ],
   "source": [
    "Y.iloc[:3,:10]"
   ]
  },
  {
   "cell_type": "code",
   "execution_count": 508,
   "metadata": {
    "ExecuteTime": {
     "end_time": "2017-01-28T03:05:05.326790",
     "start_time": "2017-01-28T03:05:05.318267"
    },
    "collapsed": false,
    "run_control": {
     "frozen": false,
     "read_only": false
    }
   },
   "outputs": [
    {
     "data": {
      "text/plain": [
       "matrix([[ 1.2509688 ],\n",
       "        [ 1.21844291],\n",
       "        [ 0.89994739],\n",
       "        ..., \n",
       "        [-0.48679954],\n",
       "        [-0.50355716],\n",
       "        [-0.9966353 ]])"
      ]
     },
     "execution_count": 508,
     "metadata": {},
     "output_type": "execute_result"
    }
   ],
   "source": [
    "predictions[predictions[:,1].argsort(axis=0)[::-1],1]"
   ]
  },
  {
   "cell_type": "code",
   "execution_count": 509,
   "metadata": {
    "ExecuteTime": {
     "end_time": "2017-01-28T03:05:54.071414",
     "start_time": "2017-01-28T03:05:54.064875"
    },
    "collapsed": false,
    "run_control": {
     "frozen": false,
     "read_only": false
    }
   },
   "outputs": [
    {
     "data": {
      "text/plain": [
       "1.2509687957789286"
      ]
     },
     "execution_count": 509,
     "metadata": {},
     "output_type": "execute_result"
    }
   ],
   "source": [
    "predictions[:,1].max()"
   ]
  },
  {
   "cell_type": "code",
   "execution_count": 511,
   "metadata": {
    "ExecuteTime": {
     "end_time": "2017-01-28T03:06:20.968481",
     "start_time": "2017-01-28T03:06:20.801035"
    },
    "collapsed": false,
    "run_control": {
     "frozen": false,
     "read_only": false
    }
   },
   "outputs": [
    {
     "data": {
      "text/plain": [
       "5.0"
      ]
     },
     "execution_count": 511,
     "metadata": {},
     "output_type": "execute_result"
    }
   ],
   "source": [
    "Y.iloc[:,1].max()"
   ]
  },
  {
   "cell_type": "code",
   "execution_count": null,
   "metadata": {
    "collapsed": true,
    "run_control": {
     "frozen": false,
     "read_only": false
    }
   },
   "outputs": [],
   "source": []
  },
  {
   "cell_type": "markdown",
   "metadata": {
    "run_control": {
     "frozen": false,
     "read_only": false
    }
   },
   "source": [
    "# Testing the cost function with Andrew Ng's Example"
   ]
  },
  {
   "cell_type": "code",
   "execution_count": 443,
   "metadata": {
    "ExecuteTime": {
     "end_time": "2017-01-27T17:19:12.055449",
     "start_time": "2017-01-27T17:19:11.963658"
    },
    "collapsed": false,
    "run_control": {
     "frozen": false,
     "read_only": false
    }
   },
   "outputs": [],
   "source": [
    "# Testing the cost function and implementation on a dataset with a known answer(Andrew Ng's)\n",
    "def testing():\n",
    "    from scipy.io import loadmat\n",
    "    data = loadmat('ex8_movies.mat')\n",
    "#     Y = data['Y']\n",
    "#     R = data['R']\n",
    "#     Y.shape, R.shape\n",
    "#     users = 4  \n",
    "#     movies = 5  \n",
    "#     features = 3\n",
    "\n",
    "#     params_data = loadmat('ex8_movieParams.mat')  \n",
    "#     X = params_data['X']  \n",
    "#     Theta = params_data['Theta']\n",
    "\n",
    "#     X_sub = X[:movies, :features]  \n",
    "#     Theta_sub = Theta[:users, :features]  \n",
    "#     Y_sub = Y[:movies, :users]  \n",
    "#     R_sub = R[:movies, :users]\n",
    "#     params = np.concatenate((np.ravel(X_sub), np.ravel(Theta_sub)))\n",
    "    \n",
    "\n",
    "    \n",
    "    movie_idx = {}  \n",
    "    f = open('movie_ids.txt')  \n",
    "    for line in f:  \n",
    "        tokens = line.split(' ')\n",
    "        tokens[-1] = tokens[-1][:-1]\n",
    "        movie_idx[int(tokens[0]) - 1] = ' '.join(tokens[1:])\n",
    "\n",
    "    ratings = np.zeros((1682, 1))\n",
    "\n",
    "    ratings[0] = 4  \n",
    "    ratings[6] = 3  \n",
    "    ratings[11] = 5  \n",
    "    ratings[53] = 4  \n",
    "    ratings[63] = 5  \n",
    "    ratings[65] = 3  \n",
    "    ratings[68] = 5  \n",
    "    ratings[97] = 2  \n",
    "    ratings[182] = 4  \n",
    "    ratings[225] = 5  \n",
    "    ratings[354] = 5\n",
    "    \n",
    "    R = data['R']\n",
    "    Y = data['Y']\n",
    "    Y = np.append(Y, ratings, axis=1)  \n",
    "    R = np.append(R, ratings != 0, axis=1)  \n",
    "    from scipy.optimize import minimize\n",
    "\n",
    "    movies = Y.shape[0]  \n",
    "    users = Y.shape[1]  \n",
    "    features = 10  \n",
    "    learning_rate = 10.\n",
    "\n",
    "    X = np.random.random(size=(movies, features))  \n",
    "    Theta = np.random.random(size=(users, features))  \n",
    "    params = np.concatenate((np.ravel(X), np.ravel(Theta)))\n",
    "\n",
    "    Ymean = np.zeros((movies, 1))  \n",
    "    Ynorm = np.zeros((movies, users))\n",
    "\n",
    "    for i in range(movies):  \n",
    "        idx = np.where(R[i,:] == 1)[0]\n",
    "        Ymean[i] = Y[i,idx].mean()\n",
    "        Ynorm[i,idx] = Y[i,idx] - Ymean[i]\n",
    "\n",
    "    fmin = minimize(fun=cost, x0=params, args=(Ynorm, R, movies, users, features, learning_rate),  \n",
    "                    method='CG', jac=True, options={'maxiter': 100, 'disp':True})\n",
    "    print(fmin)\n",
    "    X = np.matrix(np.reshape(fmin.x[:movies * features], (movies, features)))  \n",
    "    Theta = np.matrix(np.reshape(fmin.x[movies * features:], (users, features)))\n",
    "    \n",
    "    predictions = X * Theta.T\n",
    "    my_preds = predictions[:, -1] + Ymean\n",
    "    idx = np.argsort(my_preds, axis=0)[::-1]  \n",
    "    print(\"Top 10 movie predictions:\")  \n",
    "    for i in range(10):  \n",
    "        j = int(idx[i])\n",
    "        print('Predicted rating of {0} for movie {1}.'.format(str(float(my_preds[j])), movie_idx[j]))\n",
    "    #return cost(params, pd.DataFrame(Y_sub), pd.DataFrame(R_sub), features, 1.5)"
   ]
  },
  {
   "cell_type": "code",
   "execution_count": 444,
   "metadata": {
    "ExecuteTime": {
     "end_time": "2017-01-27T17:19:25.672902",
     "start_time": "2017-01-27T17:19:12.696603"
    },
    "collapsed": false,
    "run_control": {
     "frozen": false,
     "read_only": false
    },
    "scrolled": true
   },
   "outputs": [
    {
     "name": "stdout",
     "output_type": "stream",
     "text": [
      "The cost is currently equal to......... 434829.17492\n",
      "The cost is currently equal to......... 434829.17492\n",
      "The cost is currently equal to......... 408754.420477\n",
      "The cost is currently equal to......... 319567.708067\n",
      "The cost is currently equal to......... 141671.966108\n",
      "The cost is currently equal to......... 826367.504943\n",
      "The cost is currently equal to......... 104206.23712\n",
      "The cost is currently equal to......... 86914.1501693\n",
      "The cost is currently equal to......... 67517.3621203\n",
      "The cost is currently equal to......... 70794.9155707\n",
      "The cost is currently equal to......... 60246.3512986\n",
      "The cost is currently equal to......... 52793.4544583\n",
      "The cost is currently equal to......... 50083.9248201\n",
      "The cost is currently equal to......... 48203.6543201\n",
      "The cost is currently equal to......... 45924.5158052\n",
      "The cost is currently equal to......... 45100.3193639\n",
      "The cost is currently equal to......... 44979.2361376\n",
      "The cost is currently equal to......... 43544.4022095\n",
      "The cost is currently equal to......... 43015.027213\n",
      "The cost is currently equal to......... 42523.0173984\n",
      "The cost is currently equal to......... 41557.6378884\n",
      "The cost is currently equal to......... 41832.6850504\n",
      "The cost is currently equal to......... 41065.36779\n",
      "The cost is currently equal to......... 40547.1642301\n",
      "The cost is currently equal to......... 40337.4499047\n",
      "The cost is currently equal to......... 40219.9659658\n",
      "The cost is currently equal to......... 39949.7759889\n",
      "The cost is currently equal to......... 40080.0735641\n",
      "The cost is currently equal to......... 39832.5631529\n",
      "The cost is currently equal to......... 39680.9632615\n",
      "The cost is currently equal to......... 39608.300902\n",
      "The cost is currently equal to......... 39580.3043779\n",
      "The cost is currently equal to......... 39494.2243377\n",
      "The cost is currently equal to......... 39428.248508\n",
      "The cost is currently equal to......... 39367.4123875\n",
      "The cost is currently equal to......... 39294.4649524\n",
      "The cost is currently equal to......... 39263.5951103\n",
      "The cost is currently equal to......... 39248.1982662\n",
      "The cost is currently equal to......... 39225.962368\n",
      "The cost is currently equal to......... 39217.4547863\n",
      "The cost is currently equal to......... 39202.5401123\n",
      "The cost is currently equal to......... 39196.9390675\n",
      "The cost is currently equal to......... 39172.1769389\n",
      "The cost is currently equal to......... 39158.1968802\n",
      "The cost is currently equal to......... 39154.8890661\n",
      "The cost is currently equal to......... 39135.8748684\n",
      "The cost is currently equal to......... 39125.0338734\n",
      "The cost is currently equal to......... 39122.4389272\n",
      "The cost is currently equal to......... 39108.3068835\n",
      "The cost is currently equal to......... 39098.0734611\n",
      "The cost is currently equal to......... 39097.7887522\n",
      "The cost is currently equal to......... 39092.6978392\n",
      "The cost is currently equal to......... 39085.3768798\n",
      "The cost is currently equal to......... 39079.0552571\n",
      "The cost is currently equal to......... 39076.6895154\n",
      "The cost is currently equal to......... 39075.1408974\n",
      "The cost is currently equal to......... 39070.7610502\n",
      "The cost is currently equal to......... 39067.2274395\n",
      "The cost is currently equal to......... 39064.9509587\n",
      "The cost is currently equal to......... 39061.2923397\n",
      "The cost is currently equal to......... 39059.3246991\n",
      "The cost is currently equal to......... 39052.2558015\n",
      "The cost is currently equal to......... 39051.2089966\n",
      "The cost is currently equal to......... 39048.4096738\n",
      "The cost is currently equal to......... 39046.5874542\n",
      "The cost is currently equal to......... 39045.8687143\n",
      "The cost is currently equal to......... 39042.850077\n",
      "The cost is currently equal to......... 39039.3992467\n",
      "The cost is currently equal to......... 39034.8490024\n",
      "The cost is currently equal to......... 39034.2373493\n",
      "The cost is currently equal to......... 39032.3835428\n",
      "The cost is currently equal to......... 39029.0425841\n",
      "The cost is currently equal to......... 39025.8334791\n",
      "The cost is currently equal to......... 39023.2507082\n",
      "The cost is currently equal to......... 39019.6133102\n",
      "The cost is currently equal to......... 39017.8714992\n",
      "The cost is currently equal to......... 39017.2048003\n",
      "The cost is currently equal to......... 39021.1234466\n",
      "The cost is currently equal to......... 39016.5337033\n",
      "The cost is currently equal to......... 39015.6869462\n",
      "The cost is currently equal to......... 39014.7570268\n",
      "The cost is currently equal to......... 39013.3306246\n",
      "The cost is currently equal to......... 39012.8061876\n",
      "The cost is currently equal to......... 39010.0263545\n",
      "The cost is currently equal to......... 39009.5315058\n",
      "The cost is currently equal to......... 39007.2415912\n",
      "The cost is currently equal to......... 39009.730367\n",
      "The cost is currently equal to......... 39006.4579712\n",
      "The cost is currently equal to......... 39005.2977806\n",
      "The cost is currently equal to......... 39004.9749773\n",
      "The cost is currently equal to......... 39003.8125869\n",
      "The cost is currently equal to......... 39003.146698\n",
      "The cost is currently equal to......... 39002.9939536\n",
      "The cost is currently equal to......... 39001.9762999\n",
      "The cost is currently equal to......... 39001.6089731\n",
      "The cost is currently equal to......... 39001.3494358\n",
      "The cost is currently equal to......... 39000.9767036\n",
      "The cost is currently equal to......... 39000.9002589\n",
      "The cost is currently equal to......... 39000.3546994\n",
      "The cost is currently equal to......... 38999.5599755\n",
      "The cost is currently equal to......... 38999.3655243\n",
      "The cost is currently equal to......... 38998.1137047\n",
      "The cost is currently equal to......... 38996.6792835\n",
      "The cost is currently equal to......... 38994.8569752\n",
      "The cost is currently equal to......... 38993.4957456\n",
      "The cost is currently equal to......... 38992.8256017\n",
      "The cost is currently equal to......... 38992.579677\n",
      "The cost is currently equal to......... 38991.1153201\n",
      "The cost is currently equal to......... 38990.3650852\n",
      "The cost is currently equal to......... 38988.9048788\n",
      "The cost is currently equal to......... 38990.1906888\n",
      "The cost is currently equal to......... 38988.3916608\n",
      "The cost is currently equal to......... 38987.5026165\n",
      "The cost is currently equal to......... 38986.5701557\n",
      "The cost is currently equal to......... 38988.9672358\n",
      "The cost is currently equal to......... 38986.0138455\n",
      "The cost is currently equal to......... 38985.2375261\n",
      "The cost is currently equal to......... 38984.9711361\n",
      "The cost is currently equal to......... 38984.7649728\n",
      "The cost is currently equal to......... 38984.0753184\n",
      "The cost is currently equal to......... 38983.9068946\n",
      "The cost is currently equal to......... 38982.5673232\n",
      "The cost is currently equal to......... 38982.0134741\n",
      "The cost is currently equal to......... 38979.2932858\n",
      "The cost is currently equal to......... 38978.8497216\n",
      "The cost is currently equal to......... 38979.9076855\n",
      "The cost is currently equal to......... 38977.4586635\n",
      "The cost is currently equal to......... 38976.466562\n",
      "The cost is currently equal to......... 38976.2116291\n",
      "The cost is currently equal to......... 38975.8965417\n",
      "The cost is currently equal to......... 38975.1357829\n",
      "The cost is currently equal to......... 38974.9857806\n",
      "The cost is currently equal to......... 38974.7102129\n",
      "The cost is currently equal to......... 38974.3785649\n",
      "The cost is currently equal to......... 38973.9363453\n",
      "The cost is currently equal to......... 38973.4712003\n",
      "The cost is currently equal to......... 38973.2323172\n",
      "The cost is currently equal to......... 38973.1561838\n",
      "The cost is currently equal to......... 38972.9143223\n",
      "The cost is currently equal to......... 38972.5769776\n",
      "The cost is currently equal to......... 38972.2191156\n",
      "The cost is currently equal to......... 38972.0763843\n",
      "The cost is currently equal to......... 38971.9939601\n",
      "The cost is currently equal to......... 38971.8727788\n",
      "The cost is currently equal to......... 38971.8389584\n",
      "The cost is currently equal to......... 38971.6057878\n",
      "The cost is currently equal to......... 38971.5320212\n",
      "The cost is currently equal to......... 38971.0536039\n",
      "The cost is currently equal to......... 38970.8571542\n",
      "The cost is currently equal to......... 38969.8032219\n",
      "The cost is currently equal to......... 38969.4711534\n",
      "The cost is currently equal to......... 38969.2716141\n",
      "The cost is currently equal to......... 38968.6873126\n",
      "The cost is currently equal to......... 38967.7541221\n",
      "Warning: Maximum number of iterations has been exceeded.\n",
      "         Current function value: 38967.754122\n",
      "         Iterations: 100\n",
      "         Function evaluations: 153\n",
      "         Gradient evaluations: 153\n",
      "     fun: 38967.75412211966\n",
      "     jac: array([ 0.02578867,  0.07779672,  0.08979825, ...,  0.01828284,\n",
      "        0.02904954,  0.03389644])\n",
      " message: 'Maximum number of iterations has been exceeded.'\n",
      "    nfev: 153\n",
      "     nit: 100\n",
      "    njev: 153\n",
      "  status: 1\n",
      " success: False\n",
      "       x: array([ 0.59997592,  0.8960935 ,  0.43250488, ..., -0.05479102,\n",
      "       -0.12235213, -0.07836623])\n",
      "Top 10 movie predictions:\n",
      "Predicted rating of 5.00000319059781 for movie Prefontaine (1997).\n",
      "Predicted rating of 5.000001458407162 for movie Great Day in Harlem, A (1994).\n",
      "Predicted rating of 5.000000356818402 for movie Aiqing wansui (1994).\n",
      "Predicted rating of 5.000000263081312 for movie Marlene Dietrich: Shadow and Light (1996) .\n",
      "Predicted rating of 5.000000168835147 for movie Entertaining Angels: The Dorothy Day Story (1996).\n",
      "Predicted rating of 4.999999587242086 for movie They Made Me a Criminal (1939).\n",
      "Predicted rating of 4.999999578154717 for movie Someone Else's America (1995).\n",
      "Predicted rating of 4.999999539817084 for movie Saint of Fort Washington, The (1993).\n",
      "Predicted rating of 4.9999945176245895 for movie Santa with Muscles (1996).\n",
      "Predicted rating of 4.999991871263635 for movie Star Kid (1997).\n"
     ]
    }
   ],
   "source": [
    "testing()"
   ]
  },
  {
   "cell_type": "markdown",
   "metadata": {
    "run_control": {
     "frozen": false,
     "read_only": false
    }
   },
   "source": [
    "## Check some values after conversion"
   ]
  },
  {
   "cell_type": "code",
   "execution_count": 143,
   "metadata": {
    "ExecuteTime": {
     "end_time": "2017-01-19T17:19:59.068310",
     "start_time": "2017-01-19T17:19:59.061290"
    },
    "collapsed": false,
    "run_control": {
     "frozen": false,
     "read_only": false
    }
   },
   "outputs": [
    {
     "data": {
      "text/plain": [
       "nan"
      ]
     },
     "execution_count": 143,
     "metadata": {},
     "output_type": "execute_result"
    }
   ],
   "source": [
    "Y_mat[1,2]"
   ]
  },
  {
   "cell_type": "code",
   "execution_count": 160,
   "metadata": {
    "ExecuteTime": {
     "end_time": "2017-01-19T17:29:02.400378",
     "start_time": "2017-01-19T17:29:01.853871"
    },
    "collapsed": false,
    "run_control": {
     "frozen": false,
     "read_only": false
    }
   },
   "outputs": [
    {
     "data": {
      "text/plain": [
       "'--5jkZ3-nUPZxUvtcbr8Uw'"
      ]
     },
     "execution_count": 160,
     "metadata": {},
     "output_type": "execute_result"
    }
   ],
   "source": [
    "Y.first_valid_index()"
   ]
  },
  {
   "cell_type": "code",
   "execution_count": 170,
   "metadata": {
    "ExecuteTime": {
     "end_time": "2017-01-27T12:35:42.179432",
     "start_time": "2017-01-27T12:35:42.169418"
    },
    "collapsed": false,
    "run_control": {
     "frozen": false,
     "read_only": false
    }
   },
   "outputs": [
    {
     "data": {
      "text/plain": [
       "'0BT613A1PBxuwxUzjEb6VQ'"
      ]
     },
     "execution_count": 170,
     "metadata": {},
     "output_type": "execute_result"
    }
   ],
   "source": [
    "Y.loc['--5jkZ3-nUPZxUvtcbr8Uw'].first_valid_index()"
   ]
  },
  {
   "cell_type": "code",
   "execution_count": 169,
   "metadata": {
    "ExecuteTime": {
     "end_time": "2017-01-27T12:35:39.161506",
     "start_time": "2017-01-27T12:35:39.154487"
    },
    "collapsed": false,
    "run_control": {
     "frozen": false,
     "read_only": false
    }
   },
   "outputs": [
    {
     "data": {
      "text/plain": [
       "4.0"
      ]
     },
     "execution_count": 169,
     "metadata": {},
     "output_type": "execute_result"
    }
   ],
   "source": [
    "Y.loc['--5jkZ3-nUPZxUvtcbr8Uw','0BT613A1PBxuwxUzjEb6VQ']"
   ]
  },
  {
   "cell_type": "code",
   "execution_count": 167,
   "metadata": {
    "ExecuteTime": {
     "end_time": "2017-01-27T12:35:21.102005",
     "start_time": "2017-01-27T12:35:21.083958"
    },
    "collapsed": false,
    "run_control": {
     "frozen": false,
     "read_only": false
    }
   },
   "outputs": [
    {
     "data": {
      "text/plain": [
       "0"
      ]
     },
     "execution_count": 167,
     "metadata": {},
     "output_type": "execute_result"
    }
   ],
   "source": [
    "Y.index.get_loc('--5jkZ3-nUPZxUvtcbr8Uw')"
   ]
  },
  {
   "cell_type": "code",
   "execution_count": 168,
   "metadata": {
    "ExecuteTime": {
     "end_time": "2017-01-27T12:35:22.979682",
     "start_time": "2017-01-27T12:35:22.969656"
    },
    "collapsed": false,
    "run_control": {
     "frozen": false,
     "read_only": false
    }
   },
   "outputs": [
    {
     "data": {
      "text/plain": [
       "162"
      ]
     },
     "execution_count": 168,
     "metadata": {},
     "output_type": "execute_result"
    }
   ],
   "source": [
    "Y.loc['--5jkZ3-nUPZxUvtcbr8Uw'].index.get_loc('0BT613A1PBxuwxUzjEb6VQ')"
   ]
  },
  {
   "cell_type": "code",
   "execution_count": 187,
   "metadata": {
    "ExecuteTime": {
     "end_time": "2017-01-19T18:03:10.306400",
     "start_time": "2017-01-19T18:03:10.299883"
    },
    "collapsed": false,
    "run_control": {
     "frozen": false,
     "read_only": false
    }
   },
   "outputs": [
    {
     "data": {
      "text/plain": [
       "4.0"
      ]
     },
     "execution_count": 187,
     "metadata": {},
     "output_type": "execute_result"
    }
   ],
   "source": [
    "Y_mat[0,227]"
   ]
  },
  {
   "cell_type": "code",
   "execution_count": 171,
   "metadata": {
    "ExecuteTime": {
     "end_time": "2017-01-27T12:35:47.135300",
     "start_time": "2017-01-27T12:35:47.120246"
    },
    "collapsed": false,
    "run_control": {
     "frozen": false,
     "read_only": false
    }
   },
   "outputs": [
    {
     "ename": "NameError",
     "evalue": "name 'Y_mat' is not defined",
     "output_type": "error",
     "traceback": [
      "\u001b[0;31m---------------------------------------------------------------------------\u001b[0m",
      "\u001b[0;31mNameError\u001b[0m                                 Traceback (most recent call last)",
      "\u001b[0;32m<ipython-input-171-8b25dd9a8786>\u001b[0m in \u001b[0;36m<module>\u001b[0;34m()\u001b[0m\n\u001b[0;32m----> 1\u001b[0;31m \u001b[0mY_mat\u001b[0m\u001b[1;33m[\u001b[0m\u001b[1;36m0\u001b[0m\u001b[1;33m,\u001b[0m\u001b[1;36m0\u001b[0m\u001b[1;33m]\u001b[0m\u001b[1;33m\u001b[0m\u001b[0m\n\u001b[0m",
      "\u001b[0;31mNameError\u001b[0m: name 'Y_mat' is not defined"
     ]
    }
   ],
   "source": [
    "Y_mat[0,0]"
   ]
  },
  {
   "cell_type": "code",
   "execution_count": 171,
   "metadata": {
    "ExecuteTime": {
     "end_time": "2017-01-19T17:39:48.296479",
     "start_time": "2017-01-19T17:39:44.722592"
    },
    "collapsed": false,
    "run_control": {
     "frozen": false,
     "read_only": false
    },
    "scrolled": true
   },
   "outputs": [],
   "source": [
    "Y_mat = np.nan_to_num(Y_mat)"
   ]
  },
  {
   "cell_type": "code",
   "execution_count": 178,
   "metadata": {
    "ExecuteTime": {
     "end_time": "2017-01-19T17:41:14.778951",
     "start_time": "2017-01-19T17:41:14.427514"
    },
    "collapsed": false,
    "run_control": {
     "frozen": false,
     "read_only": false
    },
    "scrolled": true
   },
   "outputs": [
    {
     "data": {
      "text/plain": [
       "0"
      ]
     },
     "execution_count": 178,
     "metadata": {},
     "output_type": "execute_result"
    }
   ],
   "source": [
    "np.isnan(Y_mat).sum()"
   ]
  },
  {
   "cell_type": "markdown",
   "metadata": {
    "run_control": {
     "frozen": false,
     "read_only": false
    }
   },
   "source": [
    "# Using a sparse matrix:\n",
    "http://stackoverflow.com/questions/31661604/efficiently-create-sparse-pivot-tables-in-pandas"
   ]
  },
  {
   "cell_type": "code",
   "execution_count": 96,
   "metadata": {
    "ExecuteTime": {
     "end_time": "2017-01-18T15:33:24.219933",
     "start_time": "2017-01-18T15:33:22.116530"
    },
    "collapsed": false,
    "run_control": {
     "frozen": false,
     "read_only": false
    }
   },
   "outputs": [],
   "source": [
    "from scipy.sparse import csr_matrix\n",
    "\n",
    "users = list(sorted(rev_biz_usr.user_id.unique()))\n",
    "businesses = list(sorted(rev_biz_usr.business_id.unique()))\n",
    "\n",
    "stars = rev_biz_usr['stars_x'].tolist()\n",
    "row = rev_biz_usr.user_id.astype('category', categories=users).cat.codes\n",
    "col = rev_biz_usr.business_id.astype('category', categories=businesses).cat.codes\n",
    "sparse_matrix = csr_matrix((stars, (row, col)), shape=(len(users), len(businesses)))"
   ]
  },
  {
   "cell_type": "code",
   "execution_count": 37,
   "metadata": {
    "ExecuteTime": {
     "end_time": "2017-01-19T11:26:49.140819",
     "start_time": "2017-01-19T11:26:49.129809"
    },
    "collapsed": false,
    "run_control": {
     "frozen": false,
     "read_only": false
    }
   },
   "outputs": [
    {
     "ename": "NameError",
     "evalue": "name 'sparse_matrix' is not defined",
     "output_type": "error",
     "traceback": [
      "\u001b[0;31m---------------------------------------------------------------------------\u001b[0m",
      "\u001b[0;31mNameError\u001b[0m                                 Traceback (most recent call last)",
      "\u001b[0;32m<ipython-input-37-d3708ee28b70>\u001b[0m in \u001b[0;36m<module>\u001b[0;34m()\u001b[0m\n\u001b[0;32m----> 1\u001b[0;31m \u001b[0msparse_matrix\u001b[0m\u001b[1;33m\u001b[0m\u001b[0m\n\u001b[0m",
      "\u001b[0;31mNameError\u001b[0m: name 'sparse_matrix' is not defined"
     ]
    }
   ],
   "source": [
    "sparse_matrix"
   ]
  },
  {
   "cell_type": "code",
   "execution_count": 196,
   "metadata": {
    "ExecuteTime": {
     "end_time": "2017-01-17T19:33:53.795022",
     "start_time": "2017-01-17T19:33:53.790009"
    },
    "collapsed": false,
    "run_control": {
     "frozen": false,
     "read_only": false
    }
   },
   "outputs": [
    {
     "data": {
      "text/plain": [
       "<144265x25629 sparse matrix of type '<class 'numpy.int32'>'\n",
       "\twith 1201156 stored elements in Compressed Sparse Row format>"
      ]
     },
     "execution_count": 196,
     "metadata": {},
     "output_type": "execute_result"
    }
   ],
   "source": [
    "sparse_matrix"
   ]
  },
  {
   "cell_type": "code",
   "execution_count": 197,
   "metadata": {
    "ExecuteTime": {
     "end_time": "2017-01-17T19:33:57.078845",
     "start_time": "2017-01-17T19:33:57.073832"
    },
    "collapsed": false,
    "run_control": {
     "frozen": false,
     "read_only": false
    }
   },
   "outputs": [
    {
     "data": {
      "text/plain": [
       "144266"
      ]
     },
     "execution_count": 197,
     "metadata": {},
     "output_type": "execute_result"
    }
   ],
   "source": [
    "len(sparse_matrix.indptr)"
   ]
  },
  {
   "cell_type": "markdown",
   "metadata": {
    "run_control": {
     "frozen": false,
     "read_only": false
    }
   },
   "source": [
    "## The R matrix can be easily obtained by first converting the csr to coo and using the ij values"
   ]
  },
  {
   "cell_type": "markdown",
   "metadata": {
    "ExecuteTime": {
     "end_time": "2017-01-17T16:35:13.651326",
     "start_time": "2017-01-17T16:35:13.509950"
    },
    "run_control": {
     "frozen": false,
     "read_only": false
    }
   },
   "source": [
    "```\n",
    "sr_matrix.tocoo(copy=True)\n",
    "\n",
    "    Convert this matrix to COOrdinate format.\n",
    "\n",
    "    With copy=False, the data/indices may be shared between this matrix and the resultant coo_matrix.\n",
    "```"
   ]
  },
  {
   "cell_type": "code",
   "execution_count": 199,
   "metadata": {
    "ExecuteTime": {
     "end_time": "2017-01-17T19:34:24.547416",
     "start_time": "2017-01-17T19:34:24.530872"
    },
    "collapsed": true,
    "run_control": {
     "frozen": false,
     "read_only": false
    }
   },
   "outputs": [],
   "source": [
    "coo_mat = sparse_matrix.tocoo()"
   ]
  },
  {
   "cell_type": "code",
   "execution_count": 200,
   "metadata": {
    "ExecuteTime": {
     "end_time": "2017-01-17T19:34:25.371416",
     "start_time": "2017-01-17T19:34:25.366923"
    },
    "collapsed": false,
    "run_control": {
     "frozen": false,
     "read_only": false
    }
   },
   "outputs": [
    {
     "data": {
      "text/plain": [
       "1201156"
      ]
     },
     "execution_count": 200,
     "metadata": {},
     "output_type": "execute_result"
    }
   ],
   "source": [
    "len(coo_mat.row)"
   ]
  },
  {
   "cell_type": "code",
   "execution_count": 201,
   "metadata": {
    "ExecuteTime": {
     "end_time": "2017-01-17T19:34:28.831723",
     "start_time": "2017-01-17T19:34:27.769386"
    },
    "collapsed": false,
    "run_control": {
     "frozen": false,
     "read_only": false
    }
   },
   "outputs": [],
   "source": [
    "R = list(zip(coo_mat.row,coo_mat.col))"
   ]
  },
  {
   "cell_type": "code",
   "execution_count": 203,
   "metadata": {
    "ExecuteTime": {
     "end_time": "2017-01-17T19:35:05.462887",
     "start_time": "2017-01-17T19:35:05.224733"
    },
    "collapsed": false,
    "run_control": {
     "frozen": false,
     "read_only": false
    }
   },
   "outputs": [
    {
     "data": {
      "text/plain": [
       "[(0, 15977),\n",
       " (1, 6023),\n",
       " (1, 10013),\n",
       " (1, 12667),\n",
       " (1, 17546),\n",
       " (1, 19296),\n",
       " (1, 22532),\n",
       " (2, 24831),\n",
       " (3, 447),\n",
       " (3, 3221),\n",
       " (3, 8781),\n",
       " (3, 11898),\n",
       " (4, 652),\n",
       " (4, 4332),\n",
       " (4, 4645),\n",
       " (4, 4721),\n",
       " (4, 4984),\n",
       " (4, 5948),\n",
       " (4, 6324),\n",
       " (4, 7945),\n",
       " (4, 8192),\n",
       " (4, 9895),\n",
       " (4, 10773),\n",
       " (4, 10826),\n",
       " (4, 11546),\n",
       " (4, 12097),\n",
       " (4, 13059),\n",
       " (4, 13246),\n",
       " (4, 13502),\n",
       " (4, 13605),\n",
       " (4, 14262),\n",
       " (4, 14961),\n",
       " (4, 15180),\n",
       " (4, 15795),\n",
       " (4, 16131),\n",
       " (4, 16960),\n",
       " (4, 18093),\n",
       " (4, 18538),\n",
       " (4, 19564),\n",
       " (4, 19983),\n",
       " (4, 21848),\n",
       " (4, 23434),\n",
       " (5, 1484),\n",
       " (5, 1592),\n",
       " (5, 2213),\n",
       " (5, 2281),\n",
       " (5, 9698),\n",
       " (5, 10180),\n",
       " (5, 12386),\n",
       " (5, 14886),\n",
       " (5, 15513),\n",
       " (5, 18589),\n",
       " (5, 18843),\n",
       " (5, 22498),\n",
       " (5, 24981),\n",
       " (6, 363),\n",
       " (6, 814),\n",
       " (6, 831),\n",
       " (6, 874),\n",
       " (6, 900),\n",
       " (6, 972),\n",
       " (6, 1243),\n",
       " (6, 1571),\n",
       " (6, 1808),\n",
       " (6, 1831),\n",
       " (6, 1917),\n",
       " (6, 1931),\n",
       " (6, 2232),\n",
       " (6, 2613),\n",
       " (6, 2631),\n",
       " (6, 2694),\n",
       " (6, 3016),\n",
       " (6, 3102),\n",
       " (6, 3165),\n",
       " (6, 4110),\n",
       " (6, 4682),\n",
       " (6, 4711),\n",
       " (6, 4754),\n",
       " (6, 5099),\n",
       " (6, 5401),\n",
       " (6, 5603),\n",
       " (6, 5618),\n",
       " (6, 5707),\n",
       " (6, 5759),\n",
       " (6, 5940),\n",
       " (6, 5982),\n",
       " (6, 6196),\n",
       " (6, 6698),\n",
       " (6, 6717),\n",
       " (6, 6726),\n",
       " (6, 6821),\n",
       " (6, 6951),\n",
       " (6, 7156),\n",
       " (6, 7231),\n",
       " (6, 7348),\n",
       " (6, 7819),\n",
       " (6, 7829),\n",
       " (6, 8022),\n",
       " (6, 8034),\n",
       " (6, 8261),\n",
       " (6, 8373),\n",
       " (6, 8418),\n",
       " (6, 8544),\n",
       " (6, 9105),\n",
       " (6, 9117),\n",
       " (6, 9351),\n",
       " (6, 9386),\n",
       " (6, 9862),\n",
       " (6, 10785),\n",
       " (6, 10922),\n",
       " (6, 11220),\n",
       " (6, 12066),\n",
       " (6, 12462),\n",
       " (6, 12473),\n",
       " (6, 12515),\n",
       " (6, 12524),\n",
       " (6, 12610),\n",
       " (6, 12641),\n",
       " (6, 12679),\n",
       " (6, 12979),\n",
       " (6, 13147),\n",
       " (6, 13191),\n",
       " (6, 13522),\n",
       " (6, 13644),\n",
       " (6, 13908),\n",
       " (6, 13909),\n",
       " (6, 14328),\n",
       " (6, 14955),\n",
       " (6, 15055),\n",
       " (6, 15285),\n",
       " (6, 15470),\n",
       " (6, 15499),\n",
       " (6, 15652),\n",
       " (6, 16115),\n",
       " (6, 16135),\n",
       " (6, 16291),\n",
       " (6, 16418),\n",
       " (6, 16426),\n",
       " (6, 16580),\n",
       " (6, 16978),\n",
       " (6, 17017),\n",
       " (6, 17022),\n",
       " (6, 17075),\n",
       " (6, 17098),\n",
       " (6, 17426),\n",
       " (6, 17668),\n",
       " (6, 17672),\n",
       " (6, 18355),\n",
       " (6, 18643),\n",
       " (6, 18659),\n",
       " (6, 18927),\n",
       " (6, 18990),\n",
       " (6, 19011),\n",
       " (6, 19092),\n",
       " (6, 19166),\n",
       " (6, 19356),\n",
       " (6, 19660),\n",
       " (6, 20071),\n",
       " (6, 20140),\n",
       " (6, 20461),\n",
       " (6, 20693),\n",
       " (6, 20917),\n",
       " (6, 21044),\n",
       " (6, 21437),\n",
       " (6, 21678),\n",
       " (6, 21839),\n",
       " (6, 21857),\n",
       " (6, 21905),\n",
       " (6, 21976),\n",
       " (6, 22069),\n",
       " (6, 22100),\n",
       " (6, 22127),\n",
       " (6, 22232),\n",
       " (6, 22554),\n",
       " (6, 22711),\n",
       " (6, 22720),\n",
       " (6, 22898),\n",
       " (6, 22922),\n",
       " (6, 23243),\n",
       " (6, 24534),\n",
       " (6, 24555),\n",
       " (6, 24558),\n",
       " (6, 24561),\n",
       " (6, 24808),\n",
       " (6, 24951),\n",
       " (6, 25039),\n",
       " (6, 25091),\n",
       " (6, 25095),\n",
       " (6, 25109),\n",
       " (6, 25271),\n",
       " (6, 25569),\n",
       " (6, 25575),\n",
       " (6, 25611),\n",
       " (6, 25620),\n",
       " (7, 1113),\n",
       " (7, 7801),\n",
       " (7, 9403),\n",
       " (8, 151),\n",
       " (8, 5099),\n",
       " (8, 10012),\n",
       " (9, 572),\n",
       " (9, 2434),\n",
       " (9, 5105),\n",
       " (9, 8162),\n",
       " (9, 10846),\n",
       " (9, 11702),\n",
       " (9, 12370),\n",
       " (9, 13259),\n",
       " (9, 14307),\n",
       " (9, 17096),\n",
       " (9, 17964),\n",
       " (9, 20833),\n",
       " (10, 2111),\n",
       " (11, 458),\n",
       " (11, 2732),\n",
       " (11, 3318),\n",
       " (11, 4542),\n",
       " (11, 9257),\n",
       " (11, 14346),\n",
       " (11, 15211),\n",
       " (11, 16844),\n",
       " (11, 17813),\n",
       " (11, 17822),\n",
       " (11, 17920),\n",
       " (11, 18396),\n",
       " (11, 19670),\n",
       " (11, 21597),\n",
       " (11, 21758),\n",
       " (11, 22839),\n",
       " (11, 22894),\n",
       " (12, 6328),\n",
       " (12, 7629),\n",
       " (12, 17086),\n",
       " (13, 5645),\n",
       " (13, 22620),\n",
       " (13, 23165),\n",
       " (13, 25265),\n",
       " (14, 5705),\n",
       " (14, 7937),\n",
       " (14, 8847),\n",
       " (14, 11258),\n",
       " (14, 11509),\n",
       " (14, 13306),\n",
       " (14, 14392),\n",
       " (14, 15122),\n",
       " (14, 15178),\n",
       " (14, 15507),\n",
       " (14, 16356),\n",
       " (14, 25424),\n",
       " (15, 575),\n",
       " (15, 2213),\n",
       " (15, 2857),\n",
       " (15, 3186),\n",
       " (15, 5050),\n",
       " (15, 5486),\n",
       " (15, 6040),\n",
       " (15, 7572),\n",
       " (15, 7927),\n",
       " (15, 12860),\n",
       " (15, 13087),\n",
       " (15, 14348),\n",
       " (15, 17343),\n",
       " (15, 20189),\n",
       " (15, 20472),\n",
       " (15, 20779),\n",
       " (15, 21762),\n",
       " (15, 25370),\n",
       " (16, 176),\n",
       " (16, 1255),\n",
       " (17, 297),\n",
       " (17, 4413),\n",
       " (17, 5815),\n",
       " (17, 6325),\n",
       " (17, 7937),\n",
       " (17, 9905),\n",
       " (17, 10962),\n",
       " (17, 15352),\n",
       " (17, 19943),\n",
       " (17, 22015),\n",
       " (17, 23353),\n",
       " (17, 24870),\n",
       " (18, 1822),\n",
       " (19, 7800),\n",
       " (19, 20208),\n",
       " (20, 9333),\n",
       " (20, 14337),\n",
       " (20, 22123),\n",
       " (21, 3770),\n",
       " (21, 10928),\n",
       " (21, 12657),\n",
       " (21, 13958),\n",
       " (21, 15077),\n",
       " (21, 15158),\n",
       " (21, 19406),\n",
       " (21, 21880),\n",
       " (21, 22239),\n",
       " (21, 23839),\n",
       " (21, 24836),\n",
       " (22, 6932),\n",
       " (22, 11208),\n",
       " (22, 24728),\n",
       " (23, 368),\n",
       " (23, 3441),\n",
       " (23, 3763),\n",
       " (23, 3994),\n",
       " (23, 4709),\n",
       " (23, 5766),\n",
       " (23, 5982),\n",
       " (23, 6657),\n",
       " (23, 6874),\n",
       " (23, 8209),\n",
       " (23, 8536),\n",
       " (23, 8892),\n",
       " (23, 9309),\n",
       " (23, 9741),\n",
       " (23, 10108),\n",
       " (23, 10468),\n",
       " (23, 11161),\n",
       " (23, 11731),\n",
       " (23, 12372),\n",
       " (23, 14160),\n",
       " (23, 17068),\n",
       " (23, 17077),\n",
       " (23, 17436),\n",
       " (23, 18672),\n",
       " (23, 18852),\n",
       " (23, 19054),\n",
       " (23, 19987),\n",
       " (23, 20733),\n",
       " (23, 20890),\n",
       " (23, 22159),\n",
       " (23, 22263),\n",
       " (23, 23463),\n",
       " (23, 24654),\n",
       " (23, 24808),\n",
       " (23, 25574),\n",
       " (24, 13703),\n",
       " (25, 11243),\n",
       " (25, 12744),\n",
       " (25, 15313),\n",
       " (25, 24470),\n",
       " (26, 891),\n",
       " (26, 1177),\n",
       " (26, 1554),\n",
       " (26, 1559),\n",
       " (26, 7137),\n",
       " (26, 9718),\n",
       " (26, 9721),\n",
       " (26, 11469),\n",
       " (26, 13503),\n",
       " (26, 19480),\n",
       " (26, 20560),\n",
       " (26, 20671),\n",
       " (26, 21398),\n",
       " (26, 24870),\n",
       " (27, 11295),\n",
       " (28, 1798),\n",
       " (28, 5528),\n",
       " (28, 7782),\n",
       " (28, 8884),\n",
       " (28, 13159),\n",
       " (28, 13233),\n",
       " (28, 14333),\n",
       " (28, 15936),\n",
       " (28, 16729),\n",
       " (28, 17157),\n",
       " (28, 18392),\n",
       " (28, 18837),\n",
       " (28, 21178),\n",
       " (28, 21794),\n",
       " (28, 21961),\n",
       " (28, 22042),\n",
       " (28, 25113),\n",
       " (29, 41),\n",
       " (30, 3673),\n",
       " (31, 3960),\n",
       " (31, 8618),\n",
       " (31, 9236),\n",
       " (31, 10926),\n",
       " (31, 11243),\n",
       " (31, 12685),\n",
       " (31, 14348),\n",
       " (31, 15639),\n",
       " (31, 15677),\n",
       " (31, 16305),\n",
       " (31, 18708),\n",
       " (31, 23007),\n",
       " (31, 23317),\n",
       " (32, 1988),\n",
       " (32, 5869),\n",
       " (32, 7043),\n",
       " (32, 10868),\n",
       " (32, 11001),\n",
       " (32, 18489),\n",
       " (32, 22391),\n",
       " (32, 22976),\n",
       " (32, 23317),\n",
       " (33, 23081),\n",
       " (34, 11386),\n",
       " (35, 16305),\n",
       " (35, 20329),\n",
       " (35, 23978),\n",
       " (36, 7521),\n",
       " (36, 17108),\n",
       " (37, 76),\n",
       " (37, 250),\n",
       " (37, 16989),\n",
       " (38, 3),\n",
       " (38, 3270),\n",
       " (38, 3996),\n",
       " (38, 4739),\n",
       " (38, 7635),\n",
       " (38, 7651),\n",
       " (38, 8336),\n",
       " (38, 10061),\n",
       " (38, 11794),\n",
       " (38, 12848),\n",
       " (38, 14078),\n",
       " (38, 15169),\n",
       " (38, 15429),\n",
       " (38, 19818),\n",
       " (38, 21530),\n",
       " (38, 23132),\n",
       " (38, 24812),\n",
       " (39, 9093),\n",
       " (39, 14432),\n",
       " (40, 21653),\n",
       " (41, 1656),\n",
       " (41, 2441),\n",
       " (41, 6040),\n",
       " (41, 22620),\n",
       " (41, 23337),\n",
       " (42, 5905),\n",
       " (43, 18771),\n",
       " (44, 9307),\n",
       " (45, 1489),\n",
       " (45, 13507),\n",
       " (45, 25599),\n",
       " (46, 1248),\n",
       " (46, 6412),\n",
       " (46, 8046),\n",
       " (46, 13276),\n",
       " (47, 4851),\n",
       " (48, 7961),\n",
       " (49, 22725),\n",
       " (50, 250),\n",
       " (50, 384),\n",
       " (50, 596),\n",
       " (50, 872),\n",
       " (50, 897),\n",
       " (50, 1347),\n",
       " (50, 1417),\n",
       " (50, 1436),\n",
       " (50, 1748),\n",
       " (50, 2026),\n",
       " (50, 2353),\n",
       " (50, 2397),\n",
       " (50, 2467),\n",
       " (50, 3140),\n",
       " (50, 3142),\n",
       " (50, 3356),\n",
       " (50, 3473),\n",
       " (50, 3488),\n",
       " (50, 3853),\n",
       " (50, 4031),\n",
       " (50, 4206),\n",
       " (50, 4573),\n",
       " (50, 5110),\n",
       " (50, 5264),\n",
       " (50, 5275),\n",
       " (50, 6426),\n",
       " (50, 7169),\n",
       " (50, 7342),\n",
       " (50, 7403),\n",
       " (50, 8412),\n",
       " (50, 9573),\n",
       " (50, 9940),\n",
       " (50, 10016),\n",
       " (50, 10836),\n",
       " (50, 10967),\n",
       " (50, 11114),\n",
       " (50, 11564),\n",
       " (50, 11639),\n",
       " (50, 12123),\n",
       " (50, 12493),\n",
       " (50, 12695),\n",
       " (50, 12697),\n",
       " (50, 12782),\n",
       " (50, 12783),\n",
       " (50, 13673),\n",
       " (50, 14102),\n",
       " (50, 14227),\n",
       " (50, 14498),\n",
       " (50, 14557),\n",
       " (50, 14646),\n",
       " (50, 16165),\n",
       " (50, 16434),\n",
       " (50, 18411),\n",
       " (50, 18453),\n",
       " (50, 18511),\n",
       " (50, 18965),\n",
       " (50, 19076),\n",
       " (50, 19475),\n",
       " (50, 19853),\n",
       " (50, 19950),\n",
       " (50, 20053),\n",
       " (50, 20718),\n",
       " (50, 21303),\n",
       " (50, 21792),\n",
       " (50, 22261),\n",
       " (50, 22343),\n",
       " (50, 22365),\n",
       " (50, 22374),\n",
       " (50, 22496),\n",
       " (50, 22543),\n",
       " (50, 22832),\n",
       " (50, 23089),\n",
       " (50, 23990),\n",
       " (50, 24167),\n",
       " (50, 24373),\n",
       " (51, 313),\n",
       " (51, 1890),\n",
       " (51, 6155),\n",
       " (51, 9062),\n",
       " (51, 14609),\n",
       " (51, 15630),\n",
       " (51, 22620),\n",
       " (51, 23103),\n",
       " (52, 993),\n",
       " (52, 1274),\n",
       " (52, 3302),\n",
       " (52, 5664),\n",
       " (52, 7028),\n",
       " (52, 7487),\n",
       " (52, 7522),\n",
       " (52, 7864),\n",
       " (52, 8585),\n",
       " (52, 11027),\n",
       " (52, 11661),\n",
       " (52, 12206),\n",
       " (52, 15461),\n",
       " (52, 15617),\n",
       " (52, 16953),\n",
       " (52, 18929),\n",
       " (52, 20453),\n",
       " (52, 21616),\n",
       " (52, 22437),\n",
       " (52, 23831),\n",
       " (53, 3478),\n",
       " (54, 1113),\n",
       " (55, 13522),\n",
       " (55, 14371),\n",
       " (55, 17134),\n",
       " (56, 11122),\n",
       " (57, 1710),\n",
       " (57, 2969),\n",
       " (57, 4370),\n",
       " (57, 7240),\n",
       " (57, 8169),\n",
       " (57, 13243),\n",
       " (57, 19870),\n",
       " (57, 20668),\n",
       " (57, 21776),\n",
       " (57, 23999),\n",
       " (58, 24836),\n",
       " (59, 3803),\n",
       " (59, 6925),\n",
       " (60, 1545),\n",
       " (60, 16422),\n",
       " (60, 16769),\n",
       " (60, 17848),\n",
       " (60, 18121),\n",
       " (60, 20262),\n",
       " (60, 21023),\n",
       " (60, 22675),\n",
       " (60, 22859),\n",
       " (60, 24672),\n",
       " (61, 5692),\n",
       " (61, 14851),\n",
       " (61, 18073),\n",
       " (61, 24858),\n",
       " (62, 9009),\n",
       " (62, 15725),\n",
       " (63, 816),\n",
       " (63, 1321),\n",
       " (63, 1575),\n",
       " (63, 1700),\n",
       " (63, 2844),\n",
       " (63, 3713),\n",
       " (63, 4639),\n",
       " (63, 4723),\n",
       " (63, 4818),\n",
       " (63, 4994),\n",
       " (63, 6925),\n",
       " (63, 7390),\n",
       " (63, 7521),\n",
       " (63, 9751),\n",
       " (63, 11450),\n",
       " (63, 12032),\n",
       " (63, 12115),\n",
       " (63, 12303),\n",
       " (63, 12719),\n",
       " (63, 13356),\n",
       " (63, 15440),\n",
       " (63, 16239),\n",
       " (63, 16588),\n",
       " (63, 16996),\n",
       " (63, 17278),\n",
       " (63, 17945),\n",
       " (63, 19330),\n",
       " (63, 20415),\n",
       " (63, 23259),\n",
       " (63, 25124),\n",
       " (64, 2465),\n",
       " (64, 20061),\n",
       " (65, 25511),\n",
       " (66, 10663),\n",
       " (66, 13797),\n",
       " (66, 15800),\n",
       " (67, 337),\n",
       " (67, 2969),\n",
       " (67, 8565),\n",
       " (67, 19942),\n",
       " (67, 21532),\n",
       " (67, 22391),\n",
       " (67, 23310),\n",
       " (67, 24724),\n",
       " (67, 25048),\n",
       " (68, 1375),\n",
       " (68, 2902),\n",
       " (68, 4854),\n",
       " (68, 7754),\n",
       " (68, 11585),\n",
       " (68, 13432),\n",
       " (68, 14338),\n",
       " (68, 15557),\n",
       " (68, 16216),\n",
       " (68, 17249),\n",
       " (68, 18557),\n",
       " (68, 20836),\n",
       " (68, 23808),\n",
       " (68, 25116),\n",
       " (69, 463),\n",
       " (69, 6123),\n",
       " (69, 18693),\n",
       " (69, 23300),\n",
       " (70, 17948),\n",
       " (71, 22888),\n",
       " (72, 2395),\n",
       " (72, 2544),\n",
       " (72, 9004),\n",
       " (73, 2448),\n",
       " (73, 13020),\n",
       " (73, 22868),\n",
       " (74, 22620),\n",
       " (75, 12741),\n",
       " (75, 24470),\n",
       " (76, 13138),\n",
       " (76, 17536),\n",
       " (76, 22183),\n",
       " (77, 2265),\n",
       " (78, 20927),\n",
       " (79, 2919),\n",
       " (79, 9937),\n",
       " (80, 3803),\n",
       " (80, 7188),\n",
       " (80, 7428),\n",
       " (80, 8721),\n",
       " (80, 9236),\n",
       " (80, 10762),\n",
       " (80, 12389),\n",
       " (80, 13560),\n",
       " (80, 21330),\n",
       " (81, 11925),\n",
       " (81, 24736),\n",
       " (82, 1885),\n",
       " (82, 4920),\n",
       " (82, 5829),\n",
       " (82, 7521),\n",
       " (82, 8767),\n",
       " (82, 11295),\n",
       " (82, 13385),\n",
       " (82, 14446),\n",
       " (82, 15378),\n",
       " (82, 17108),\n",
       " (82, 19259),\n",
       " (82, 19518),\n",
       " (83, 14609),\n",
       " (84, 1954),\n",
       " (85, 1409),\n",
       " (85, 1842),\n",
       " (85, 4494),\n",
       " (85, 7456),\n",
       " (85, 14037),\n",
       " (85, 16084),\n",
       " (85, 18601),\n",
       " (86, 4730),\n",
       " (87, 5183),\n",
       " (87, 10928),\n",
       " (88, 5471),\n",
       " (89, 716),\n",
       " (89, 4388),\n",
       " (89, 6208),\n",
       " (89, 6638),\n",
       " (89, 13212),\n",
       " (89, 17086),\n",
       " (89, 19353),\n",
       " (89, 21007),\n",
       " (89, 23520),\n",
       " (89, 24375),\n",
       " (89, 25085),\n",
       " (90, 9562),\n",
       " (91, 2771),\n",
       " (91, 9809),\n",
       " (92, 1700),\n",
       " (92, 4824),\n",
       " (92, 5584),\n",
       " (92, 6608),\n",
       " (92, 12032),\n",
       " (92, 16449),\n",
       " (92, 19677),\n",
       " (93, 2265),\n",
       " (93, 5023),\n",
       " (93, 5059),\n",
       " (93, 10928),\n",
       " (93, 12380),\n",
       " (93, 14087),\n",
       " (93, 14614),\n",
       " (93, 19518),\n",
       " (93, 21337),\n",
       " (93, 24787),\n",
       " (93, 25204),\n",
       " (94, 938),\n",
       " (94, 1933),\n",
       " (94, 8420),\n",
       " (94, 8424),\n",
       " (94, 13390),\n",
       " (94, 19354),\n",
       " (95, 806),\n",
       " (95, 2299),\n",
       " (95, 2774),\n",
       " (95, 3061),\n",
       " (95, 4085),\n",
       " (95, 6701),\n",
       " (95, 8323),\n",
       " (95, 11051),\n",
       " (95, 11479),\n",
       " (95, 12653),\n",
       " (95, 13872),\n",
       " (95, 14717),\n",
       " (95, 14786),\n",
       " (95, 14859),\n",
       " (95, 14915),\n",
       " (95, 15069),\n",
       " (95, 15844),\n",
       " (95, 16646),\n",
       " (95, 17515),\n",
       " (95, 18590),\n",
       " (95, 20071),\n",
       " (95, 20964),\n",
       " (95, 22045),\n",
       " (96, 3131),\n",
       " (96, 4004),\n",
       " (96, 8722),\n",
       " (96, 12678),\n",
       " (96, 15893),\n",
       " (96, 23960),\n",
       " (97, 6900),\n",
       " (97, 16283),\n",
       " (97, 18708),\n",
       " (98, 1658),\n",
       " (98, 1766),\n",
       " (98, 3388),\n",
       " (98, 3793),\n",
       " (98, 3932),\n",
       " (98, 8668),\n",
       " (98, 9714),\n",
       " (98, 13225),\n",
       " (98, 18726),\n",
       " (98, 19583),\n",
       " (98, 19702),\n",
       " (98, 21336),\n",
       " (98, 21410),\n",
       " (99, 16345),\n",
       " (99, 22329),\n",
       " (100, 5829),\n",
       " (100, 6894),\n",
       " (100, 14446),\n",
       " (100, 24145),\n",
       " (100, 24416),\n",
       " (101, 3017),\n",
       " (101, 10683),\n",
       " (101, 12828),\n",
       " (101, 17931),\n",
       " (101, 20171),\n",
       " (101, 22391),\n",
       " (102, 6040),\n",
       " (102, 23165),\n",
       " (103, 15054),\n",
       " (104, 7565),\n",
       " (105, 363),\n",
       " (105, 2465),\n",
       " (105, 2570),\n",
       " (105, 2685),\n",
       " (105, 4071),\n",
       " (105, 4100),\n",
       " (105, 4114),\n",
       " (105, 4332),\n",
       " (105, 9297),\n",
       " (105, 10286),\n",
       " (105, 10866),\n",
       " (105, 10917),\n",
       " (105, 11161),\n",
       " (105, 12356),\n",
       " (105, 12979),\n",
       " (105, 13020),\n",
       " (105, 13484),\n",
       " (105, 15898),\n",
       " (105, 16006),\n",
       " (105, 16255),\n",
       " (105, 16698),\n",
       " (105, 17068),\n",
       " (105, 18054),\n",
       " (105, 18104),\n",
       " (105, 18300),\n",
       " (105, 19356),\n",
       " (105, 19787),\n",
       " (105, 20061),\n",
       " (105, 20429),\n",
       " (105, 21268),\n",
       " (105, 22943),\n",
       " (105, 24034),\n",
       " (105, 24741),\n",
       " (105, 24800),\n",
       " (105, 24804),\n",
       " (105, 25014),\n",
       " (105, 25265),\n",
       " (106, 8721),\n",
       " (106, 11930),\n",
       " (106, 12127),\n",
       " (106, 20908),\n",
       " (107, 2564),\n",
       " (107, 3144),\n",
       " (107, 9166),\n",
       " (107, 17775),\n",
       " (108, 21714),\n",
       " (109, 2969),\n",
       " (110, 5480),\n",
       " (110, 16424),\n",
       " (111, 15688),\n",
       " (111, 22314),\n",
       " (112, 5829),\n",
       " (112, 6093),\n",
       " (112, 20739),\n",
       " (113, 814),\n",
       " (113, 1541),\n",
       " (113, 1545),\n",
       " (113, 2265),\n",
       " (113, 2487),\n",
       " (113, 2557),\n",
       " (113, 2868),\n",
       " (113, 3233),\n",
       " (113, 3241),\n",
       " (113, 4029),\n",
       " (113, 4092),\n",
       " (113, 4602),\n",
       " (113, 4681),\n",
       " (113, 5434),\n",
       " (113, 5497),\n",
       " (113, 5656),\n",
       " (113, 6056),\n",
       " (113, 7261),\n",
       " (113, 7425),\n",
       " (113, 8031),\n",
       " (113, 8694),\n",
       " (113, 8934),\n",
       " (113, 9004),\n",
       " (113, 9081),\n",
       " (113, 9177),\n",
       " (113, 9318),\n",
       " (113, 9409),\n",
       " (113, 9625),\n",
       " (113, 9672),\n",
       " (113, 9682),\n",
       " (113, 9791),\n",
       " (113, 9923),\n",
       " (113, 10398),\n",
       " (113, 10750),\n",
       " (113, 11529),\n",
       " (113, 11930),\n",
       " (113, 12167),\n",
       " (113, 12274),\n",
       " (113, 12477),\n",
       " (113, 12629),\n",
       " (113, 12879),\n",
       " (113, 13254),\n",
       " (113, 13930),\n",
       " (113, 13936),\n",
       " (113, 14019),\n",
       " (113, 14244),\n",
       " (113, 14339),\n",
       " (113, 14695),\n",
       " (113, 15406),\n",
       " (113, 15432),\n",
       " (113, 15452),\n",
       " (113, 15561),\n",
       " (113, 15951),\n",
       " (113, 16799),\n",
       " (113, 17271),\n",
       " (113, 17393),\n",
       " (113, 18622),\n",
       " (113, 18930),\n",
       " (113, 19030),\n",
       " (113, 19120),\n",
       " (113, 19394),\n",
       " (113, 19806),\n",
       " (113, 19840),\n",
       " (113, 20411),\n",
       " (113, 20620),\n",
       " (113, 20658),\n",
       " (113, 20678),\n",
       " (113, 20779),\n",
       " (113, 20874),\n",
       " (113, 21364),\n",
       " (113, 21581),\n",
       " (113, 21755),\n",
       " (113, 21834),\n",
       " (113, 22012),\n",
       " (113, 22053),\n",
       " (113, 22145),\n",
       " (113, 22406),\n",
       " (113, 22476),\n",
       " (113, 22620),\n",
       " (113, 22870),\n",
       " (113, 23335),\n",
       " (113, 23382),\n",
       " (113, 23580),\n",
       " (113, 23715),\n",
       " (113, 24315),\n",
       " (113, 25208),\n",
       " (113, 25319),\n",
       " (113, 25332),\n",
       " (113, 25401),\n",
       " (113, 25599),\n",
       " (114, 59),\n",
       " (114, 133),\n",
       " (114, 1489),\n",
       " (114, 4169),\n",
       " (114, 7629),\n",
       " (114, 7897),\n",
       " (114, 11243),\n",
       " (114, 11473),\n",
       " (114, 13486),\n",
       " (114, 14878),\n",
       " (114, 16036),\n",
       " (114, 25599),\n",
       " (115, 2228),\n",
       " (115, 8532),\n",
       " (116, 13363),\n",
       " (116, 24896),\n",
       " (117, 6794),\n",
       " (117, 7663),\n",
       " (117, 8031),\n",
       " (117, 8061),\n",
       " (117, 12035),\n",
       " (117, 15041),\n",
       " (117, 17068),\n",
       " (117, 17343),\n",
       " (117, 17783),\n",
       " (117, 18253),\n",
       " (117, 18454),\n",
       " (117, 18698),\n",
       " (117, 23606),\n",
       " (117, 24395),\n",
       " (118, 5801),\n",
       " (119, 9236),\n",
       " (119, 14087),\n",
       " (120, 15812),\n",
       " (120, 22620),\n",
       " (121, 14840),\n",
       " (122, 7792),\n",
       " (123, 1489),\n",
       " (123, 6915),\n",
       " (123, 15452),\n",
       " (124, 18455),\n",
       " (125, 466),\n",
       " (125, 2786),\n",
       " (125, 3123),\n",
       " (125, 3960),\n",
       " (125, 7069),\n",
       " (125, 7521),\n",
       " (125, 9307),\n",
       " (125, 10684),\n",
       " (125, 13046),\n",
       " (125, 14564),\n",
       " (125, 23875),\n",
       " (125, 24044),\n",
       " (125, 25599),\n",
       " (126, 24728),\n",
       " (127, 15452),\n",
       " ...]"
      ]
     },
     "execution_count": 203,
     "metadata": {},
     "output_type": "execute_result"
    }
   ],
   "source": [
    "sorted(R)"
   ]
  },
  {
   "cell_type": "markdown",
   "metadata": {
    "nbpresent": {
     "id": "29dbc245-88e9-405b-bad8-b4541ea24b1b"
    },
    "run_control": {
     "frozen": false,
     "read_only": false
    }
   },
   "source": [
    "# Check if cities and distances between them may be used instead of distances between businesses\n",
    "\n",
    "##  No: cities are small, with distances that can be 3 miles"
   ]
  },
  {
   "cell_type": "markdown",
   "metadata": {
    "ExecuteTime": {
     "end_time": "2017-01-16T13:20:24.945581",
     "start_time": "2017-01-16T13:20:24.942048"
    },
    "nbpresent": {
     "id": "36eda043-28a6-4548-a4df-82f9dbd30046"
    },
    "run_control": {
     "frozen": false,
     "read_only": false
    }
   },
   "source": [
    "# assume 30 km as maximum distance willing to travel, to find vicinity within state"
   ]
  },
  {
   "cell_type": "code",
   "execution_count": 40,
   "metadata": {
    "ExecuteTime": {
     "end_time": "2017-01-17T00:50:52.347466",
     "start_time": "2017-01-17T00:50:52.339462"
    },
    "collapsed": false,
    "nbpresent": {
     "id": "ca3351cf-6305-40fb-bf75-c5e405f225ed"
    },
    "run_control": {
     "frozen": false,
     "read_only": false
    }
   },
   "outputs": [
    {
     "data": {
      "text/plain": [
       "(32.865882499999998, 56.033777299999997)"
      ]
     },
     "execution_count": 40,
     "metadata": {},
     "output_type": "execute_result"
    }
   ],
   "source": [
    "business.latitude.min(), business.latitude.max()"
   ]
  },
  {
   "cell_type": "code",
   "execution_count": 59,
   "metadata": {
    "ExecuteTime": {
     "end_time": "2017-01-17T01:05:23.185866",
     "start_time": "2017-01-17T01:05:23.177360"
    },
    "collapsed": false,
    "nbpresent": {
     "id": "dbe2518c-29ad-4d60-8b10-884c742fae2b"
    },
    "run_control": {
     "frozen": false,
     "read_only": false
    }
   },
   "outputs": [
    {
     "data": {
      "text/plain": [
       "(-115.38655, 8.5492494004572208)"
      ]
     },
     "execution_count": 59,
     "metadata": {},
     "output_type": "execute_result"
    }
   ],
   "source": [
    "business.longitude.min(), business.longitude.max()"
   ]
  },
  {
   "cell_type": "code",
   "execution_count": 41,
   "metadata": {
    "ExecuteTime": {
     "end_time": "2017-01-17T00:51:29.879005",
     "start_time": "2017-01-17T00:51:29.873509"
    },
    "collapsed": false,
    "nbpresent": {
     "id": "803fc052-f3c8-47ab-9f82-628da85ffb68"
    },
    "run_control": {
     "frozen": false,
     "read_only": false
    }
   },
   "outputs": [
    {
     "data": {
      "text/plain": [
       "60.77164272792849"
      ]
     },
     "execution_count": 41,
     "metadata": {},
     "output_type": "execute_result"
    }
   ],
   "source": [
    "vincenty((57, -71), (57, -72)).km"
   ]
  },
  {
   "cell_type": "code",
   "execution_count": 42,
   "metadata": {
    "ExecuteTime": {
     "end_time": "2017-01-17T00:51:42.759674",
     "start_time": "2017-01-17T00:51:42.753631"
    },
    "collapsed": false,
    "nbpresent": {
     "id": "b2e09784-ceb3-4c10-acef-8943ab611714"
    },
    "run_control": {
     "frozen": false,
     "read_only": false
    }
   },
   "outputs": [
    {
     "data": {
      "text/plain": [
       "94.49280502196765"
      ]
     },
     "execution_count": 42,
     "metadata": {},
     "output_type": "execute_result"
    }
   ],
   "source": [
    "vincenty((32, -71), (32, -72)).km"
   ]
  },
  {
   "cell_type": "code",
   "execution_count": 58,
   "metadata": {
    "ExecuteTime": {
     "end_time": "2017-01-17T01:03:16.089764",
     "start_time": "2017-01-17T01:03:16.083760"
    },
    "collapsed": false,
    "nbpresent": {
     "id": "fcd7c44e-9ad6-4631-8ae9-6e16f2d3ad8e"
    },
    "run_control": {
     "frozen": false,
     "read_only": false
    }
   },
   "outputs": [
    {
     "data": {
      "text/plain": [
       "78.8463347093115"
      ]
     },
     "execution_count": 58,
     "metadata": {},
     "output_type": "execute_result"
    }
   ],
   "source": [
    "vincenty((45, -71), (45, -72)).km"
   ]
  },
  {
   "cell_type": "markdown",
   "metadata": {
    "ExecuteTime": {
     "end_time": "2017-01-17T00:54:19.991268",
     "start_time": "2017-01-17T00:54:19.986255"
    },
    "nbpresent": {
     "id": "65c26e77-57da-4694-9280-3de203b7bea7"
    },
    "run_control": {
     "frozen": false,
     "read_only": false
    }
   },
   "source": [
    "for out dataset, businesses lie within latitudes 32 and 56 North\n",
    "\n",
    "where 1 degree in longitude ranges between 60 to 95 km\n",
    "\n",
    "so nearby business ( < 30) should also be within 0.5 degree of longitude (near 32N distances will be < 47km)\n",
    "\n",
    "for latitudes, one degree difference is about 110 km, so will adopt 0.3 difference to consider nearby businesses"
   ]
  },
  {
   "cell_type": "code",
   "execution_count": 53,
   "metadata": {
    "ExecuteTime": {
     "end_time": "2017-01-17T00:56:36.191396",
     "start_time": "2017-01-17T00:56:36.185887"
    },
    "collapsed": false,
    "nbpresent": {
     "id": "0ea1d239-0b7a-4225-9b54-5a011434d340"
    },
    "run_control": {
     "frozen": false,
     "read_only": false
    }
   },
   "outputs": [
    {
     "data": {
      "text/plain": [
       "111.12200826241184"
      ]
     },
     "execution_count": 53,
     "metadata": {},
     "output_type": "execute_result"
    }
   ],
   "source": [
    "vincenty((44, -71), (45, -71)).km"
   ]
  },
  {
   "cell_type": "code",
   "execution_count": 54,
   "metadata": {
    "ExecuteTime": {
     "end_time": "2017-01-17T00:57:19.192488",
     "start_time": "2017-01-17T00:57:19.186448"
    },
    "collapsed": false,
    "nbpresent": {
     "id": "a496656b-ee5d-45cc-9618-79b0dbd4838b"
    },
    "run_control": {
     "frozen": false,
     "read_only": false
    }
   },
   "outputs": [
    {
     "data": {
      "text/plain": [
       "111.12200826241184"
      ]
     },
     "execution_count": 54,
     "metadata": {},
     "output_type": "execute_result"
    }
   ],
   "source": [
    "vincenty((44, -70), (45, -70)).km"
   ]
  },
  {
   "cell_type": "code",
   "execution_count": 55,
   "metadata": {
    "ExecuteTime": {
     "end_time": "2017-01-17T00:57:19.192488",
     "start_time": "2017-01-17T00:57:19.186448"
    },
    "collapsed": false,
    "nbpresent": {
     "id": "fc96fc91-6588-4ba5-9b98-0a198791e3a5"
    },
    "run_control": {
     "frozen": false,
     "read_only": false
    }
   },
   "outputs": [
    {
     "data": {
      "text/plain": [
       "111.33269933263972"
      ]
     },
     "execution_count": 55,
     "metadata": {},
     "output_type": "execute_result"
    }
   ],
   "source": [
    "vincenty((55, -71), (56, -71)).km"
   ]
  },
  {
   "cell_type": "code",
   "execution_count": 56,
   "metadata": {
    "ExecuteTime": {
     "end_time": "2017-01-17T00:57:19.192488",
     "start_time": "2017-01-17T00:57:19.186448"
    },
    "collapsed": false,
    "nbpresent": {
     "id": "72d43d75-be30-4576-a6a0-aa089e283b29"
    },
    "run_control": {
     "frozen": false,
     "read_only": false
    }
   },
   "outputs": [
    {
     "data": {
      "text/plain": [
       "110.89560891986069"
      ]
     },
     "execution_count": 56,
     "metadata": {},
     "output_type": "execute_result"
    }
   ],
   "source": [
    "vincenty((32, -71), (33, -71)).km"
   ]
  },
  {
   "cell_type": "code",
   "execution_count": 65,
   "metadata": {
    "ExecuteTime": {
     "end_time": "2017-01-17T01:10:38.487376",
     "start_time": "2017-01-17T01:10:38.466330"
    },
    "collapsed": false,
    "nbpresent": {
     "id": "bc582ca3-9c96-413c-ba84-2f31a1f001fd"
    },
    "run_control": {
     "frozen": false,
     "read_only": false
    }
   },
   "outputs": [
    {
     "data": {
      "text/html": [
       "<div>\n",
       "<table border=\"1\" class=\"dataframe\">\n",
       "  <thead>\n",
       "    <tr style=\"text-align: right;\">\n",
       "      <th></th>\n",
       "      <th>attributes</th>\n",
       "      <th>business_id</th>\n",
       "      <th>categories</th>\n",
       "      <th>city</th>\n",
       "      <th>full_address</th>\n",
       "      <th>hours</th>\n",
       "      <th>latitude</th>\n",
       "      <th>longitude</th>\n",
       "      <th>name</th>\n",
       "      <th>neighborhoods</th>\n",
       "      <th>open</th>\n",
       "      <th>review_count</th>\n",
       "      <th>stars</th>\n",
       "      <th>state</th>\n",
       "      <th>type</th>\n",
       "    </tr>\n",
       "  </thead>\n",
       "  <tbody>\n",
       "    <tr>\n",
       "      <th>47693</th>\n",
       "      <td>{}</td>\n",
       "      <td>4Yh57FsAyvDtZsq5F7fCWg</td>\n",
       "      <td>[Hotels &amp; Travel, Public Transportation, Trans...</td>\n",
       "      <td>Inverkeithing</td>\n",
       "      <td>Boreland Rd\\nInverkeithing KY11 1NJ</td>\n",
       "      <td>{}</td>\n",
       "      <td>56.033777</td>\n",
       "      <td>-3.393267</td>\n",
       "      <td>Inverkeithing Railway Station</td>\n",
       "      <td>[]</td>\n",
       "      <td>True</td>\n",
       "      <td>3</td>\n",
       "      <td>3.0</td>\n",
       "      <td>FIF</td>\n",
       "      <td>business</td>\n",
       "    </tr>\n",
       "  </tbody>\n",
       "</table>\n",
       "</div>"
      ],
      "text/plain": [
       "      attributes             business_id  \\\n",
       "47693         {}  4Yh57FsAyvDtZsq5F7fCWg   \n",
       "\n",
       "                                              categories           city  \\\n",
       "47693  [Hotels & Travel, Public Transportation, Trans...  Inverkeithing   \n",
       "\n",
       "                              full_address hours   latitude  longitude  \\\n",
       "47693  Boreland Rd\\nInverkeithing KY11 1NJ    {}  56.033777  -3.393267   \n",
       "\n",
       "                                name neighborhoods  open  review_count  stars  \\\n",
       "47693  Inverkeithing Railway Station            []  True             3    3.0   \n",
       "\n",
       "      state      type  \n",
       "47693   FIF  business  "
      ]
     },
     "execution_count": 65,
     "metadata": {},
     "output_type": "execute_result"
    }
   ],
   "source": [
    "business[business.latitude > 56.033]"
   ]
  },
  {
   "cell_type": "code",
   "execution_count": 101,
   "metadata": {
    "ExecuteTime": {
     "end_time": "2017-01-17T17:31:48.558739",
     "start_time": "2017-01-17T17:31:48.398313"
    },
    "collapsed": false,
    "nbpresent": {
     "id": "bc4391c0-3c7f-4ab2-bdde-ace9d6097922"
    },
    "run_control": {
     "frozen": false,
     "read_only": false
    },
    "scrolled": true
   },
   "outputs": [
    {
     "data": {
      "text/plain": [
       "array(['PA', 'NC', 'SC', 'WI', 'IL', 'AZ', 'NV', 'QC', 'ON', 'EDH', 'MLN',\n",
       "       'BW'], dtype=object)"
      ]
     },
     "execution_count": 101,
     "metadata": {},
     "output_type": "execute_result"
    }
   ],
   "source": [
    "business.groupby(['state']).filter(lambda r: len(r) > 20).state.unique()"
   ]
  },
  {
   "cell_type": "code",
   "execution_count": 102,
   "metadata": {
    "ExecuteTime": {
     "end_time": "2017-01-17T17:31:59.164234",
     "start_time": "2017-01-17T17:31:59.045919"
    },
    "collapsed": false,
    "nbpresent": {
     "id": "73ccc3ef-d640-4367-80a2-c91132e4ebac"
    },
    "run_control": {
     "frozen": false,
     "read_only": false
    }
   },
   "outputs": [],
   "source": [
    "# ignore states with less than 20 businesses... we have 12 states with more than 20 businesses\n",
    "business_state = business.groupby(['state']).filter(lambda r: len(r) >= 20)"
   ]
  },
  {
   "cell_type": "code",
   "execution_count": 103,
   "metadata": {
    "ExecuteTime": {
     "end_time": "2017-01-17T17:32:02.432096",
     "start_time": "2017-01-17T17:32:02.406002"
    },
    "collapsed": false,
    "nbpresent": {
     "id": "da1e4244-773d-40d9-aa88-6d7e02602e29"
    },
    "run_control": {
     "frozen": false,
     "read_only": false
    }
   },
   "outputs": [
    {
     "data": {
      "text/plain": [
       "state\n",
       "AZ     36500\n",
       "BW      1055\n",
       "EDH     3297\n",
       "IL       808\n",
       "MLN      161\n",
       "NC      6835\n",
       "NV     23591\n",
       "ON       530\n",
       "PA      4086\n",
       "QC      5591\n",
       "SC       325\n",
       "WI      3066\n",
       "dtype: int64"
      ]
     },
     "execution_count": 103,
     "metadata": {},
     "output_type": "execute_result"
    }
   ],
   "source": [
    "business_state.groupby('state').size()"
   ]
  },
  {
   "cell_type": "code",
   "execution_count": 106,
   "metadata": {
    "ExecuteTime": {
     "end_time": "2017-01-17T17:33:03.006468",
     "start_time": "2017-01-17T17:33:03.000475"
    },
    "collapsed": false,
    "run_control": {
     "frozen": false,
     "read_only": false
    }
   },
   "outputs": [
    {
     "data": {
      "text/plain": [
       "(85845, 15)"
      ]
     },
     "execution_count": 106,
     "metadata": {},
     "output_type": "execute_result"
    }
   ],
   "source": [
    "business_state.shape"
   ]
  },
  {
   "cell_type": "code",
   "execution_count": 111,
   "metadata": {
    "ExecuteTime": {
     "end_time": "2017-01-17T17:34:34.911083",
     "start_time": "2017-01-17T17:34:34.832373"
    },
    "collapsed": false,
    "run_control": {
     "frozen": false,
     "read_only": false
    }
   },
   "outputs": [
    {
     "data": {
      "text/plain": [
       "attributes       25673\n",
       "business_id      25673\n",
       "categories       25673\n",
       "city             25673\n",
       "full_address     25673\n",
       "hours            25673\n",
       "latitude         25673\n",
       "longitude        25673\n",
       "name             25673\n",
       "neighborhoods    25673\n",
       "open             25673\n",
       "review_count     25673\n",
       "stars            25673\n",
       "state            25673\n",
       "type             25673\n",
       "dtype: int64"
      ]
     },
     "execution_count": 111,
     "metadata": {},
     "output_type": "execute_result"
    }
   ],
   "source": [
    "business_state[business_state.review_count > 20].count()"
   ]
  },
  {
   "cell_type": "code",
   "execution_count": 127,
   "metadata": {
    "ExecuteTime": {
     "end_time": "2017-01-17T03:04:23.806427",
     "start_time": "2017-01-17T03:04:21.878769"
    },
    "collapsed": false,
    "nbpresent": {
     "id": "0da6b673-7e0a-4df5-8001-ed1a67ed8368"
    },
    "run_control": {
     "frozen": false,
     "read_only": false
    },
    "scrolled": false
   },
   "outputs": [
    {
     "name": "stderr",
     "output_type": "stream",
     "text": [
      "C:\\Users\\ali_a\\Anaconda3\\lib\\site-packages\\ipykernel\\__main__.py:1: UserWarning: Boolean Series key will be reindexed to match DataFrame index.\n",
      "  if __name__ == '__main__':\n"
     ]
    },
    {
     "data": {
      "text/plain": [
       "247028"
      ]
     },
     "execution_count": 127,
     "metadata": {},
     "output_type": "execute_result"
    }
   ],
   "source": [
    "len(business_state[business.state == 'AZ'].merge(review, how='inner', left_on='business_id', right_on='business_id').user_id.unique())"
   ]
  },
  {
   "cell_type": "code",
   "execution_count": 168,
   "metadata": {
    "ExecuteTime": {
     "end_time": "2017-01-17T03:34:13.502544",
     "start_time": "2017-01-17T03:34:13.496489"
    },
    "collapsed": false,
    "nbpresent": {
     "id": "2e506b90-7384-4b90-81b4-8c38e650616a"
    },
    "run_control": {
     "frozen": false,
     "read_only": false
    }
   },
   "outputs": [
    {
     "data": {
      "text/plain": [
       "{'breakfast': False,\n",
       " 'brunch': False,\n",
       " 'dessert': False,\n",
       " 'dinner': False,\n",
       " 'latenight': False,\n",
       " 'lunch': True}"
      ]
     },
     "execution_count": 168,
     "metadata": {},
     "output_type": "execute_result"
    }
   ],
   "source": [
    "# To classify a business as Food:\n",
    "business.attributes.iloc[3]['Good For']"
   ]
  },
  {
   "cell_type": "code",
   "execution_count": 166,
   "metadata": {
    "ExecuteTime": {
     "end_time": "2017-01-17T03:33:54.216863",
     "start_time": "2017-01-17T03:33:54.209836"
    },
    "collapsed": false,
    "nbpresent": {
     "id": "076acc56-ab0b-410b-bcce-b43057e934bd"
    },
    "run_control": {
     "frozen": false,
     "read_only": false
    },
    "scrolled": false
   },
   "outputs": [
    {
     "data": {
      "text/plain": [
       "1"
      ]
     },
     "execution_count": 166,
     "metadata": {},
     "output_type": "execute_result"
    }
   ],
   "source": [
    "sum(business.attributes.iloc[3]['Good For'].values())"
   ]
  },
  {
   "cell_type": "code",
   "execution_count": 76,
   "metadata": {
    "ExecuteTime": {
     "end_time": "2017-01-17T01:13:24.912591",
     "start_time": "2017-01-17T01:13:24.904569"
    },
    "collapsed": false,
    "nbpresent": {
     "id": "3753c04e-32e1-4593-bccb-9f40afaf4989"
    },
    "run_control": {
     "frozen": false,
     "read_only": false
    }
   },
   "outputs": [
    {
     "data": {
      "text/plain": [
       "8.5492494004572208"
      ]
     },
     "execution_count": 76,
     "metadata": {},
     "output_type": "execute_result"
    }
   ],
   "source": [
    "business_state.longitude.max()"
   ]
  },
  {
   "cell_type": "code",
   "execution_count": 70,
   "metadata": {
    "ExecuteTime": {
     "end_time": "2017-01-17T01:12:14.134047",
     "start_time": "2017-01-17T01:12:14.130537"
    },
    "collapsed": false,
    "nbpresent": {
     "id": "981ae89e-0655-434f-a874-996256085418"
    },
    "run_control": {
     "frozen": false,
     "read_only": false
    }
   },
   "outputs": [],
   "source": [
    "business_groups = business_state.groupby('state')"
   ]
  },
  {
   "cell_type": "code",
   "execution_count": 71,
   "metadata": {
    "ExecuteTime": {
     "end_time": "2017-01-17T01:12:18.840890",
     "start_time": "2017-01-17T01:12:18.817327"
    },
    "collapsed": false,
    "nbpresent": {
     "id": "479f09b2-166f-4936-bba7-7dcd20f62790"
    },
    "run_control": {
     "frozen": false,
     "read_only": false
    }
   },
   "outputs": [],
   "source": [
    "group = business_groups.get_group('EDH')"
   ]
  },
  {
   "cell_type": "code",
   "execution_count": 72,
   "metadata": {
    "ExecuteTime": {
     "end_time": "2017-01-17T01:12:38.151193",
     "start_time": "2017-01-17T01:12:38.146175"
    },
    "collapsed": false,
    "nbpresent": {
     "id": "bd6d139f-1f6c-4581-a907-a9bf4bd3bbf7"
    },
    "run_control": {
     "frozen": false,
     "read_only": false
    },
    "scrolled": true
   },
   "outputs": [
    {
     "data": {
      "text/plain": [
       "56.000421000000003"
      ]
     },
     "execution_count": 72,
     "metadata": {},
     "output_type": "execute_result"
    }
   ],
   "source": [
    "group.latitude.max()"
   ]
  },
  {
   "cell_type": "code",
   "execution_count": 766,
   "metadata": {
    "ExecuteTime": {
     "end_time": "2017-01-16T22:41:07.278187",
     "start_time": "2017-01-16T18:36:06.543485"
    },
    "collapsed": false,
    "nbpresent": {
     "id": "85b02429-f118-42f6-9277-50ed4500a0b6"
    },
    "run_control": {
     "frozen": false,
     "read_only": false
    },
    "scrolled": true
   },
   "outputs": [
    {
     "ename": "KeyboardInterrupt",
     "evalue": "",
     "output_type": "error",
     "traceback": [
      "\u001b[0;31m---------------------------------------------------------------------------\u001b[0m",
      "\u001b[0;31mKeyboardInterrupt\u001b[0m                         Traceback (most recent call last)",
      "\u001b[0;32m<ipython-input-766-f8a55ad2fa48>\u001b[0m in \u001b[0;36m<module>\u001b[0;34m()\u001b[0m\n\u001b[1;32m     11\u001b[0m         \u001b[1;32mfor\u001b[0m \u001b[0mj\u001b[0m \u001b[1;32min\u001b[0m \u001b[0mrange\u001b[0m\u001b[1;33m(\u001b[0m\u001b[1;36m0\u001b[0m\u001b[1;33m,\u001b[0m \u001b[0mlen\u001b[0m\u001b[1;33m(\u001b[0m\u001b[0mnear_group\u001b[0m\u001b[1;33m)\u001b[0m\u001b[1;33m)\u001b[0m\u001b[1;33m:\u001b[0m\u001b[1;33m\u001b[0m\u001b[0m\n\u001b[1;32m     12\u001b[0m \u001b[1;33m\u001b[0m\u001b[0m\n\u001b[0;32m---> 13\u001b[0;31m             \u001b[0mdistance\u001b[0m \u001b[1;33m=\u001b[0m \u001b[0mvincenty\u001b[0m\u001b[1;33m(\u001b[0m\u001b[0mtuple\u001b[0m\u001b[1;33m(\u001b[0m\u001b[0mgroup\u001b[0m\u001b[1;33m.\u001b[0m\u001b[0miloc\u001b[0m\u001b[1;33m[\u001b[0m\u001b[0mi\u001b[0m\u001b[1;33m]\u001b[0m\u001b[1;33m[\u001b[0m\u001b[1;33m[\u001b[0m\u001b[1;34m'latitude'\u001b[0m\u001b[1;33m,\u001b[0m\u001b[1;34m'longitude'\u001b[0m\u001b[1;33m]\u001b[0m\u001b[1;33m]\u001b[0m\u001b[1;33m)\u001b[0m\u001b[1;33m,\u001b[0m \u001b[0mtuple\u001b[0m\u001b[1;33m(\u001b[0m\u001b[0mnear_group\u001b[0m\u001b[1;33m.\u001b[0m\u001b[0miloc\u001b[0m\u001b[1;33m[\u001b[0m\u001b[0mj\u001b[0m\u001b[1;33m]\u001b[0m\u001b[1;33m[\u001b[0m\u001b[1;33m[\u001b[0m\u001b[1;34m'latitude'\u001b[0m\u001b[1;33m,\u001b[0m\u001b[1;34m'longitude'\u001b[0m\u001b[1;33m]\u001b[0m\u001b[1;33m]\u001b[0m\u001b[1;33m)\u001b[0m\u001b[1;33m)\u001b[0m\u001b[1;33m.\u001b[0m\u001b[0mkm\u001b[0m\u001b[1;33m\u001b[0m\u001b[0m\n\u001b[0m\u001b[1;32m     14\u001b[0m             \u001b[1;32mif\u001b[0m \u001b[0mdistance\u001b[0m \u001b[1;33m<\u001b[0m \u001b[1;36m30\u001b[0m\u001b[1;33m:\u001b[0m\u001b[1;33m\u001b[0m\u001b[0m\n\u001b[1;32m     15\u001b[0m                 \u001b[0mc\u001b[0m \u001b[1;33m+=\u001b[0m \u001b[1;36m1\u001b[0m\u001b[1;33m\u001b[0m\u001b[0m\n",
      "\u001b[0;32mC:\\Users\\ali_a\\Anaconda3\\lib\\site-packages\\pandas\\core\\indexing.py\u001b[0m in \u001b[0;36m__getitem__\u001b[0;34m(self, key)\u001b[0m\n\u001b[1;32m   1310\u001b[0m             \u001b[1;32mreturn\u001b[0m \u001b[0mself\u001b[0m\u001b[1;33m.\u001b[0m\u001b[0m_getitem_tuple\u001b[0m\u001b[1;33m(\u001b[0m\u001b[0mkey\u001b[0m\u001b[1;33m)\u001b[0m\u001b[1;33m\u001b[0m\u001b[0m\n\u001b[1;32m   1311\u001b[0m         \u001b[1;32melse\u001b[0m\u001b[1;33m:\u001b[0m\u001b[1;33m\u001b[0m\u001b[0m\n\u001b[0;32m-> 1312\u001b[0;31m             \u001b[1;32mreturn\u001b[0m \u001b[0mself\u001b[0m\u001b[1;33m.\u001b[0m\u001b[0m_getitem_axis\u001b[0m\u001b[1;33m(\u001b[0m\u001b[0mkey\u001b[0m\u001b[1;33m,\u001b[0m \u001b[0maxis\u001b[0m\u001b[1;33m=\u001b[0m\u001b[1;36m0\u001b[0m\u001b[1;33m)\u001b[0m\u001b[1;33m\u001b[0m\u001b[0m\n\u001b[0m\u001b[1;32m   1313\u001b[0m \u001b[1;33m\u001b[0m\u001b[0m\n\u001b[1;32m   1314\u001b[0m     \u001b[1;32mdef\u001b[0m \u001b[0m_getitem_axis\u001b[0m\u001b[1;33m(\u001b[0m\u001b[0mself\u001b[0m\u001b[1;33m,\u001b[0m \u001b[0mkey\u001b[0m\u001b[1;33m,\u001b[0m \u001b[0maxis\u001b[0m\u001b[1;33m=\u001b[0m\u001b[1;36m0\u001b[0m\u001b[1;33m)\u001b[0m\u001b[1;33m:\u001b[0m\u001b[1;33m\u001b[0m\u001b[0m\n",
      "\u001b[0;32mC:\\Users\\ali_a\\Anaconda3\\lib\\site-packages\\pandas\\core\\indexing.py\u001b[0m in \u001b[0;36m_getitem_axis\u001b[0;34m(self, key, axis)\u001b[0m\n\u001b[1;32m   1628\u001b[0m                 \u001b[0mself\u001b[0m\u001b[1;33m.\u001b[0m\u001b[0m_is_valid_integer\u001b[0m\u001b[1;33m(\u001b[0m\u001b[0mkey\u001b[0m\u001b[1;33m,\u001b[0m \u001b[0maxis\u001b[0m\u001b[1;33m)\u001b[0m\u001b[1;33m\u001b[0m\u001b[0m\n\u001b[1;32m   1629\u001b[0m \u001b[1;33m\u001b[0m\u001b[0m\n\u001b[0;32m-> 1630\u001b[0;31m             \u001b[1;32mreturn\u001b[0m \u001b[0mself\u001b[0m\u001b[1;33m.\u001b[0m\u001b[0m_get_loc\u001b[0m\u001b[1;33m(\u001b[0m\u001b[0mkey\u001b[0m\u001b[1;33m,\u001b[0m \u001b[0maxis\u001b[0m\u001b[1;33m=\u001b[0m\u001b[0maxis\u001b[0m\u001b[1;33m)\u001b[0m\u001b[1;33m\u001b[0m\u001b[0m\n\u001b[0m\u001b[1;32m   1631\u001b[0m \u001b[1;33m\u001b[0m\u001b[0m\n\u001b[1;32m   1632\u001b[0m     \u001b[1;32mdef\u001b[0m \u001b[0m_convert_to_indexer\u001b[0m\u001b[1;33m(\u001b[0m\u001b[0mself\u001b[0m\u001b[1;33m,\u001b[0m \u001b[0mobj\u001b[0m\u001b[1;33m,\u001b[0m \u001b[0maxis\u001b[0m\u001b[1;33m=\u001b[0m\u001b[1;36m0\u001b[0m\u001b[1;33m,\u001b[0m \u001b[0mis_setter\u001b[0m\u001b[1;33m=\u001b[0m\u001b[1;32mFalse\u001b[0m\u001b[1;33m)\u001b[0m\u001b[1;33m:\u001b[0m\u001b[1;33m\u001b[0m\u001b[0m\n",
      "\u001b[0;32mC:\\Users\\ali_a\\Anaconda3\\lib\\site-packages\\pandas\\core\\indexing.py\u001b[0m in \u001b[0;36m_get_loc\u001b[0;34m(self, key, axis)\u001b[0m\n\u001b[1;32m    103\u001b[0m \u001b[1;33m\u001b[0m\u001b[0m\n\u001b[1;32m    104\u001b[0m     \u001b[1;32mdef\u001b[0m \u001b[0m_get_loc\u001b[0m\u001b[1;33m(\u001b[0m\u001b[0mself\u001b[0m\u001b[1;33m,\u001b[0m \u001b[0mkey\u001b[0m\u001b[1;33m,\u001b[0m \u001b[0maxis\u001b[0m\u001b[1;33m=\u001b[0m\u001b[1;36m0\u001b[0m\u001b[1;33m)\u001b[0m\u001b[1;33m:\u001b[0m\u001b[1;33m\u001b[0m\u001b[0m\n\u001b[0;32m--> 105\u001b[0;31m         \u001b[1;32mreturn\u001b[0m \u001b[0mself\u001b[0m\u001b[1;33m.\u001b[0m\u001b[0mobj\u001b[0m\u001b[1;33m.\u001b[0m\u001b[0m_ixs\u001b[0m\u001b[1;33m(\u001b[0m\u001b[0mkey\u001b[0m\u001b[1;33m,\u001b[0m \u001b[0maxis\u001b[0m\u001b[1;33m=\u001b[0m\u001b[0maxis\u001b[0m\u001b[1;33m)\u001b[0m\u001b[1;33m\u001b[0m\u001b[0m\n\u001b[0m\u001b[1;32m    106\u001b[0m \u001b[1;33m\u001b[0m\u001b[0m\n\u001b[1;32m    107\u001b[0m     \u001b[1;32mdef\u001b[0m \u001b[0m_slice\u001b[0m\u001b[1;33m(\u001b[0m\u001b[0mself\u001b[0m\u001b[1;33m,\u001b[0m \u001b[0mobj\u001b[0m\u001b[1;33m,\u001b[0m \u001b[0maxis\u001b[0m\u001b[1;33m=\u001b[0m\u001b[1;36m0\u001b[0m\u001b[1;33m,\u001b[0m \u001b[0mkind\u001b[0m\u001b[1;33m=\u001b[0m\u001b[1;32mNone\u001b[0m\u001b[1;33m)\u001b[0m\u001b[1;33m:\u001b[0m\u001b[1;33m\u001b[0m\u001b[0m\n",
      "\u001b[0;32mC:\\Users\\ali_a\\Anaconda3\\lib\\site-packages\\pandas\\core\\frame.py\u001b[0m in \u001b[0;36m_ixs\u001b[0;34m(self, i, axis)\u001b[0m\n\u001b[1;32m   1974\u001b[0m                     \u001b[0mcopy\u001b[0m \u001b[1;33m=\u001b[0m \u001b[1;32mTrue\u001b[0m\u001b[1;33m\u001b[0m\u001b[0m\n\u001b[1;32m   1975\u001b[0m                 \u001b[1;32melse\u001b[0m\u001b[1;33m:\u001b[0m\u001b[1;33m\u001b[0m\u001b[0m\n\u001b[0;32m-> 1976\u001b[0;31m                     \u001b[0mnew_values\u001b[0m \u001b[1;33m=\u001b[0m \u001b[0mself\u001b[0m\u001b[1;33m.\u001b[0m\u001b[0m_data\u001b[0m\u001b[1;33m.\u001b[0m\u001b[0mfast_xs\u001b[0m\u001b[1;33m(\u001b[0m\u001b[0mi\u001b[0m\u001b[1;33m)\u001b[0m\u001b[1;33m\u001b[0m\u001b[0m\n\u001b[0m\u001b[1;32m   1977\u001b[0m                     \u001b[1;32mif\u001b[0m \u001b[0mis_scalar\u001b[0m\u001b[1;33m(\u001b[0m\u001b[0mnew_values\u001b[0m\u001b[1;33m)\u001b[0m\u001b[1;33m:\u001b[0m\u001b[1;33m\u001b[0m\u001b[0m\n\u001b[1;32m   1978\u001b[0m                         \u001b[1;32mreturn\u001b[0m \u001b[0mnew_values\u001b[0m\u001b[1;33m\u001b[0m\u001b[0m\n",
      "\u001b[0;32mC:\\Users\\ali_a\\Anaconda3\\lib\\site-packages\\pandas\\core\\internals.py\u001b[0m in \u001b[0;36mfast_xs\u001b[0;34m(self, loc)\u001b[0m\n\u001b[1;32m   3507\u001b[0m             \u001b[1;31m# result[blk.mgr_locs] = blk._slice((slice(None), loc))\u001b[0m\u001b[1;33m\u001b[0m\u001b[1;33m\u001b[0m\u001b[0m\n\u001b[1;32m   3508\u001b[0m             \u001b[1;32mfor\u001b[0m \u001b[0mi\u001b[0m\u001b[1;33m,\u001b[0m \u001b[0mrl\u001b[0m \u001b[1;32min\u001b[0m \u001b[0menumerate\u001b[0m\u001b[1;33m(\u001b[0m\u001b[0mblk\u001b[0m\u001b[1;33m.\u001b[0m\u001b[0mmgr_locs\u001b[0m\u001b[1;33m)\u001b[0m\u001b[1;33m:\u001b[0m\u001b[1;33m\u001b[0m\u001b[0m\n\u001b[0;32m-> 3509\u001b[0;31m                 \u001b[0mresult\u001b[0m\u001b[1;33m[\u001b[0m\u001b[0mrl\u001b[0m\u001b[1;33m]\u001b[0m \u001b[1;33m=\u001b[0m \u001b[0mblk\u001b[0m\u001b[1;33m.\u001b[0m\u001b[0m_try_coerce_result\u001b[0m\u001b[1;33m(\u001b[0m\u001b[0mblk\u001b[0m\u001b[1;33m.\u001b[0m\u001b[0miget\u001b[0m\u001b[1;33m(\u001b[0m\u001b[1;33m(\u001b[0m\u001b[0mi\u001b[0m\u001b[1;33m,\u001b[0m \u001b[0mloc\u001b[0m\u001b[1;33m)\u001b[0m\u001b[1;33m)\u001b[0m\u001b[1;33m)\u001b[0m\u001b[1;33m\u001b[0m\u001b[0m\n\u001b[0m\u001b[1;32m   3510\u001b[0m \u001b[1;33m\u001b[0m\u001b[0m\n\u001b[1;32m   3511\u001b[0m         \u001b[1;32mreturn\u001b[0m \u001b[0mresult\u001b[0m\u001b[1;33m\u001b[0m\u001b[0m\n",
      "\u001b[0;31mKeyboardInterrupt\u001b[0m: "
     ]
    }
   ],
   "source": [
    "nearby ={}\n",
    "max_nearbies = 0\n",
    "\n",
    "business_groups = business_state.groupby('state')\n",
    "\n",
    "for name, group in business_groups:\n",
    "    for i in range(0, len(group)):\n",
    "        if group.latitude.iloc[i] < 80:\n",
    "            near_group = group[(group.latitude < (group.latitude.iloc[i] + 1)) & (group.latitude > (group.latitude.iloc[i] - 1)) & \n",
    "                          (group.longitude < (group.longitude.iloc[i] + 1)) & (group.longitude > (group.longitude.iloc[i] - 1))]\n",
    "        for j in range(0, len(near_group)):\n",
    "\n",
    "            distance = vincenty(tuple(group.iloc[i][['latitude','longitude']]), tuple(near_group.iloc[j][['latitude','longitude']])).km\n",
    "            if distance < 30:\n",
    "                c += 1\n",
    "                try:\n",
    "                    nearby[group.business_id.iloc[i]].extend([near_group.business_id.iloc[j]])\n",
    "                except KeyError as e:\n",
    "                    nearby[group.business_id.iloc[i]] = [near_group.business_id.iloc[j]]\n",
    "                try:\n",
    "                    nearby[near_group.business_id.iloc[j]].extend([group.business_id.iloc[i]])\n",
    "                except KeyError as e:\n",
    "                    nearby[near_group.business_id.iloc[j]] = [group.business_id.iloc[i]]\n",
    "        if max_nearbies < c:\n",
    "            max_nearbies = c\n",
    "    print (len(group))\n"
   ]
  },
  {
   "cell_type": "code",
   "execution_count": 755,
   "metadata": {
    "ExecuteTime": {
     "end_time": "2017-01-16T18:13:07.465834",
     "start_time": "2017-01-16T18:13:07.250740"
    },
    "collapsed": false,
    "nbpresent": {
     "id": "e68f9139-f0dc-4dea-a384-b210d94fdc79"
    },
    "run_control": {
     "frozen": false,
     "read_only": false
    }
   },
   "outputs": [
    {
     "data": {
      "text/html": [
       "<div>\n",
       "<table border=\"1\" class=\"dataframe\">\n",
       "  <thead>\n",
       "    <tr style=\"text-align: right;\">\n",
       "      <th></th>\n",
       "      <th>attributes</th>\n",
       "      <th>business_id</th>\n",
       "      <th>categories</th>\n",
       "      <th>city</th>\n",
       "      <th>full_address</th>\n",
       "      <th>hours</th>\n",
       "      <th>latitude</th>\n",
       "      <th>longitude</th>\n",
       "      <th>name</th>\n",
       "      <th>neighborhoods</th>\n",
       "      <th>open</th>\n",
       "      <th>review_count</th>\n",
       "      <th>stars</th>\n",
       "      <th>state</th>\n",
       "      <th>type</th>\n",
       "    </tr>\n",
       "  </thead>\n",
       "  <tbody>\n",
       "    <tr>\n",
       "      <th>0</th>\n",
       "      <td>{'Take-out': True, 'Has TV': False, 'Noise Lev...</td>\n",
       "      <td>5UmKMjUEUNdYWqANhGckJw</td>\n",
       "      <td>[Fast Food, Restaurants]</td>\n",
       "      <td>Dravosburg</td>\n",
       "      <td>4734 Lebanon Church Rd\\nDravosburg, PA 15034</td>\n",
       "      <td>{'Tuesday': {'open': '11:00', 'close': '21:00'...</td>\n",
       "      <td>40.354327</td>\n",
       "      <td>-79.900706</td>\n",
       "      <td>Mr Hoagie</td>\n",
       "      <td>[]</td>\n",
       "      <td>True</td>\n",
       "      <td>7</td>\n",
       "      <td>3.5</td>\n",
       "      <td>PA</td>\n",
       "      <td>business</td>\n",
       "    </tr>\n",
       "    <tr>\n",
       "      <th>1</th>\n",
       "      <td>{'Outdoor Seating': False, 'Good For Groups': ...</td>\n",
       "      <td>UsFtqoBl7naz8AVUBZMjQQ</td>\n",
       "      <td>[Nightlife]</td>\n",
       "      <td>Dravosburg</td>\n",
       "      <td>202 McClure St\\nDravosburg, PA 15034</td>\n",
       "      <td>{}</td>\n",
       "      <td>40.350553</td>\n",
       "      <td>-79.886814</td>\n",
       "      <td>Clancy's Pub</td>\n",
       "      <td>[]</td>\n",
       "      <td>True</td>\n",
       "      <td>5</td>\n",
       "      <td>3.0</td>\n",
       "      <td>PA</td>\n",
       "      <td>business</td>\n",
       "    </tr>\n",
       "    <tr>\n",
       "      <th>2</th>\n",
       "      <td>{'Good for Kids': True}</td>\n",
       "      <td>cE27W9VPgO88Qxe4ol6y_g</td>\n",
       "      <td>[Active Life, Mini Golf, Golf]</td>\n",
       "      <td>Bethel Park</td>\n",
       "      <td>1530 Hamilton Rd\\nBethel Park, PA 15234</td>\n",
       "      <td>{}</td>\n",
       "      <td>40.354115</td>\n",
       "      <td>-80.014660</td>\n",
       "      <td>Cool Springs Golf Center</td>\n",
       "      <td>[]</td>\n",
       "      <td>False</td>\n",
       "      <td>5</td>\n",
       "      <td>2.5</td>\n",
       "      <td>PA</td>\n",
       "      <td>business</td>\n",
       "    </tr>\n",
       "    <tr>\n",
       "      <th>3</th>\n",
       "      <td>{'Good For Groups': True, 'Has TV': True, 'Smo...</td>\n",
       "      <td>mVHrayjG3uZ_RLHkLj-AMg</td>\n",
       "      <td>[Bars, American (New), Nightlife, Lounges, Res...</td>\n",
       "      <td>Braddock</td>\n",
       "      <td>414 Hawkins Ave\\nBraddock, PA 15104</td>\n",
       "      <td>{'Tuesday': {'open': '10:00', 'close': '19:00'...</td>\n",
       "      <td>40.408830</td>\n",
       "      <td>-79.866211</td>\n",
       "      <td>Emil's Lounge</td>\n",
       "      <td>[]</td>\n",
       "      <td>True</td>\n",
       "      <td>26</td>\n",
       "      <td>4.5</td>\n",
       "      <td>PA</td>\n",
       "      <td>business</td>\n",
       "    </tr>\n",
       "    <tr>\n",
       "      <th>4</th>\n",
       "      <td>{'Parking': {'valet': False, 'validated': Fals...</td>\n",
       "      <td>mYSpR_SLPgUVymYOvTQd_Q</td>\n",
       "      <td>[Active Life, Golf]</td>\n",
       "      <td>Braddock</td>\n",
       "      <td>1000 Clubhouse Dr\\nBraddock, PA 15104</td>\n",
       "      <td>{'Thursday': {'open': '11:00', 'close': '20:00...</td>\n",
       "      <td>40.403405</td>\n",
       "      <td>-79.855782</td>\n",
       "      <td>Grand View Golf Club</td>\n",
       "      <td>[]</td>\n",
       "      <td>True</td>\n",
       "      <td>3</td>\n",
       "      <td>5.0</td>\n",
       "      <td>PA</td>\n",
       "      <td>business</td>\n",
       "    </tr>\n",
       "    <tr>\n",
       "      <th>5</th>\n",
       "      <td>{'Good For Groups': True, 'Has TV': True, 'Smo...</td>\n",
       "      <td>KayYbHCt-RkbGcPdGOThNg</td>\n",
       "      <td>[Bars, American (Traditional), Nightlife, Rest...</td>\n",
       "      <td>Carnegie</td>\n",
       "      <td>141 Hawthorne St\\nGreentree\\nCarnegie, PA 15106</td>\n",
       "      <td>{'Monday': {'open': '11:00', 'close': '02:00'}...</td>\n",
       "      <td>40.415486</td>\n",
       "      <td>-80.067549</td>\n",
       "      <td>Alexion's Bar &amp; Grill</td>\n",
       "      <td>[Greentree]</td>\n",
       "      <td>True</td>\n",
       "      <td>23</td>\n",
       "      <td>4.0</td>\n",
       "      <td>PA</td>\n",
       "      <td>business</td>\n",
       "    </tr>\n",
       "    <tr>\n",
       "      <th>6</th>\n",
       "      <td>{'Accepts Credit Cards': True}</td>\n",
       "      <td>b12U9TFESStdy7CsTtcOeg</td>\n",
       "      <td>[Auto Repair, Automotive, Tires]</td>\n",
       "      <td>Carnegie</td>\n",
       "      <td>718A Hope Hollow Rd\\nCarnegie, PA 15106</td>\n",
       "      <td>{'Monday': {'open': '07:30', 'close': '18:00'}...</td>\n",
       "      <td>40.394588</td>\n",
       "      <td>-80.084454</td>\n",
       "      <td>Flynn's Tire &amp; Auto Service</td>\n",
       "      <td>[]</td>\n",
       "      <td>True</td>\n",
       "      <td>9</td>\n",
       "      <td>2.5</td>\n",
       "      <td>PA</td>\n",
       "      <td>business</td>\n",
       "    </tr>\n",
       "    <tr>\n",
       "      <th>7</th>\n",
       "      <td>{'Good for Kids': True}</td>\n",
       "      <td>Sktj1eHQFuVa-M4bgnEh8g</td>\n",
       "      <td>[Active Life, Mini Golf]</td>\n",
       "      <td>Carnegie</td>\n",
       "      <td>920 Forsythe Rd\\nCarnegie\\nCarnegie, PA 15106</td>\n",
       "      <td>{}</td>\n",
       "      <td>40.405404</td>\n",
       "      <td>-80.076267</td>\n",
       "      <td>Forsythe Miniature Golf &amp; Snacks</td>\n",
       "      <td>[Carnegie]</td>\n",
       "      <td>False</td>\n",
       "      <td>4</td>\n",
       "      <td>4.0</td>\n",
       "      <td>PA</td>\n",
       "      <td>business</td>\n",
       "    </tr>\n",
       "    <tr>\n",
       "      <th>8</th>\n",
       "      <td>{}</td>\n",
       "      <td>3ZVKmuK2l7uXPE6lXY4Dbg</td>\n",
       "      <td>[Roofing, Home Services, Decks &amp; Railing, Cont...</td>\n",
       "      <td>Carnegie</td>\n",
       "      <td>8 Logan St\\nCarnegie\\nCarnegie, PA 15106</td>\n",
       "      <td>{}</td>\n",
       "      <td>40.406281</td>\n",
       "      <td>-80.090390</td>\n",
       "      <td>Quaker State Construction</td>\n",
       "      <td>[Carnegie]</td>\n",
       "      <td>True</td>\n",
       "      <td>3</td>\n",
       "      <td>2.5</td>\n",
       "      <td>PA</td>\n",
       "      <td>business</td>\n",
       "    </tr>\n",
       "    <tr>\n",
       "      <th>9</th>\n",
       "      <td>{}</td>\n",
       "      <td>QoDa50dc7g62xciFygXB9w</td>\n",
       "      <td>[Veterinarians, Pets]</td>\n",
       "      <td>Pittsburgh</td>\n",
       "      <td>2080 Greentree Rd\\nPittsburgh, PA 15220</td>\n",
       "      <td>{}</td>\n",
       "      <td>40.392207</td>\n",
       "      <td>-80.069134</td>\n",
       "      <td>Greentree Animal Clinic</td>\n",
       "      <td>[]</td>\n",
       "      <td>True</td>\n",
       "      <td>7</td>\n",
       "      <td>4.0</td>\n",
       "      <td>PA</td>\n",
       "      <td>business</td>\n",
       "    </tr>\n",
       "    <tr>\n",
       "      <th>10</th>\n",
       "      <td>{'Wi-Fi': 'free'}</td>\n",
       "      <td>1_lU0-eSWJCRvNGk78Zh9Q</td>\n",
       "      <td>[Libraries, Public Services &amp; Government]</td>\n",
       "      <td>Carnegie</td>\n",
       "      <td>300 Beechwood Ave\\nCarnegie\\nCarnegie, PA 15106</td>\n",
       "      <td>{}</td>\n",
       "      <td>40.406842</td>\n",
       "      <td>-80.085866</td>\n",
       "      <td>Carnegie Free Library</td>\n",
       "      <td>[Carnegie]</td>\n",
       "      <td>True</td>\n",
       "      <td>4</td>\n",
       "      <td>4.5</td>\n",
       "      <td>PA</td>\n",
       "      <td>business</td>\n",
       "    </tr>\n",
       "    <tr>\n",
       "      <th>11</th>\n",
       "      <td>{}</td>\n",
       "      <td>_qopVQ6_Mz6W7-Pmbi56GQ</td>\n",
       "      <td>[Automotive, Auto Parts &amp; Supplies]</td>\n",
       "      <td>Carnegie</td>\n",
       "      <td>1011 Washington Ave\\nCarnegie, PA 15106</td>\n",
       "      <td>{}</td>\n",
       "      <td>40.398353</td>\n",
       "      <td>-80.082452</td>\n",
       "      <td>Advance Auto Parts</td>\n",
       "      <td>[]</td>\n",
       "      <td>True</td>\n",
       "      <td>3</td>\n",
       "      <td>3.5</td>\n",
       "      <td>PA</td>\n",
       "      <td>business</td>\n",
       "    </tr>\n",
       "    <tr>\n",
       "      <th>12</th>\n",
       "      <td>{'Take-out': True, 'Good For Groups': True, 'P...</td>\n",
       "      <td>wJr6kSA5dchdgOdwH6dZ2w</td>\n",
       "      <td>[Burgers, Breakfast &amp; Brunch, American (Tradit...</td>\n",
       "      <td>Carnegie</td>\n",
       "      <td>2100 Washington Pike\\nCarnegie, PA 15106</td>\n",
       "      <td>{'Monday': {'open': '08:00', 'close': '02:00'}...</td>\n",
       "      <td>40.387512</td>\n",
       "      <td>-80.093215</td>\n",
       "      <td>Kings Family Restaurant</td>\n",
       "      <td>[]</td>\n",
       "      <td>True</td>\n",
       "      <td>10</td>\n",
       "      <td>3.5</td>\n",
       "      <td>PA</td>\n",
       "      <td>business</td>\n",
       "    </tr>\n",
       "    <tr>\n",
       "      <th>13</th>\n",
       "      <td>{'Parking': {'valet': False, 'validated': Fals...</td>\n",
       "      <td>yXuao0pFz1AxB21vJjDf5w</td>\n",
       "      <td>[Food, Grocery]</td>\n",
       "      <td>Carnegie</td>\n",
       "      <td>2100 Washington Pike\\nCarnegie, PA 15106</td>\n",
       "      <td>{'Monday': {'open': '00:00', 'close': '00:00'}...</td>\n",
       "      <td>40.387512</td>\n",
       "      <td>-80.093215</td>\n",
       "      <td>Shop N' Save</td>\n",
       "      <td>[]</td>\n",
       "      <td>True</td>\n",
       "      <td>5</td>\n",
       "      <td>4.0</td>\n",
       "      <td>PA</td>\n",
       "      <td>business</td>\n",
       "    </tr>\n",
       "    <tr>\n",
       "      <th>14</th>\n",
       "      <td>{}</td>\n",
       "      <td>LLJMI-_fSp6OYQuY4rwarw</td>\n",
       "      <td>[Automotive, Gas &amp; Service Stations]</td>\n",
       "      <td>Carnegie</td>\n",
       "      <td>341 E Main St\\nCarnegie\\nCarnegie, PA 15106</td>\n",
       "      <td>{}</td>\n",
       "      <td>40.409998</td>\n",
       "      <td>-80.083366</td>\n",
       "      <td>Knorr's Sunoco Service</td>\n",
       "      <td>[Carnegie]</td>\n",
       "      <td>True</td>\n",
       "      <td>3</td>\n",
       "      <td>3.5</td>\n",
       "      <td>PA</td>\n",
       "      <td>business</td>\n",
       "    </tr>\n",
       "    <tr>\n",
       "      <th>15</th>\n",
       "      <td>{'Accepts Credit Cards': True}</td>\n",
       "      <td>F04xyOUA2xnUoCiWpx9iJA</td>\n",
       "      <td>[Local Services, Dry Cleaning &amp; Laundry, Sewin...</td>\n",
       "      <td>Carnegie</td>\n",
       "      <td>Bower Hill Rd &amp; Vanadium Rd\\nCarnegie, PA 15106</td>\n",
       "      <td>{}</td>\n",
       "      <td>40.368825</td>\n",
       "      <td>-80.084354</td>\n",
       "      <td>Rossi Tailoring &amp; Cleaners</td>\n",
       "      <td>[]</td>\n",
       "      <td>True</td>\n",
       "      <td>3</td>\n",
       "      <td>3.0</td>\n",
       "      <td>PA</td>\n",
       "      <td>business</td>\n",
       "    </tr>\n",
       "    <tr>\n",
       "      <th>16</th>\n",
       "      <td>{}</td>\n",
       "      <td>Cdcus0NADzyY3XiJM2O5Sg</td>\n",
       "      <td>[Automotive, Gas &amp; Service Stations]</td>\n",
       "      <td>Carnegie</td>\n",
       "      <td>1927 E Railroad St\\nCarnegie, PA 15106</td>\n",
       "      <td>{}</td>\n",
       "      <td>40.388284</td>\n",
       "      <td>-80.089241</td>\n",
       "      <td>Heidelberg B P</td>\n",
       "      <td>[]</td>\n",
       "      <td>False</td>\n",
       "      <td>4</td>\n",
       "      <td>3.0</td>\n",
       "      <td>PA</td>\n",
       "      <td>business</td>\n",
       "    </tr>\n",
       "    <tr>\n",
       "      <th>17</th>\n",
       "      <td>{'Dogs Allowed': False, 'Good For Groups': Tru...</td>\n",
       "      <td>fNGIbpazjTRdXgwRY_NIXA</td>\n",
       "      <td>[Bars, American (Traditional), Nightlife, Loun...</td>\n",
       "      <td>Carnegie</td>\n",
       "      <td>1201 Washington Ave\\nCarnegie, PA 15106</td>\n",
       "      <td>{'Monday': {'open': '11:00', 'close': '23:00'}...</td>\n",
       "      <td>40.396469</td>\n",
       "      <td>-80.084942</td>\n",
       "      <td>Rocky's Lounge</td>\n",
       "      <td>[]</td>\n",
       "      <td>True</td>\n",
       "      <td>10</td>\n",
       "      <td>4.0</td>\n",
       "      <td>PA</td>\n",
       "      <td>business</td>\n",
       "    </tr>\n",
       "    <tr>\n",
       "      <th>18</th>\n",
       "      <td>{'Good For Groups': False, 'Has TV': True, 'Co...</td>\n",
       "      <td>b9WZJp5L1RZr4F1nxclOoQ</td>\n",
       "      <td>[Breakfast &amp; Brunch, Sandwiches, Restaurants]</td>\n",
       "      <td>Carnegie</td>\n",
       "      <td>1073 Washington Ave\\nCarnegie, PA 15106</td>\n",
       "      <td>{'Monday': {'open': '06:00', 'close': '14:30'}...</td>\n",
       "      <td>40.398001</td>\n",
       "      <td>-80.083458</td>\n",
       "      <td>Gab &amp; Eat</td>\n",
       "      <td>[]</td>\n",
       "      <td>True</td>\n",
       "      <td>69</td>\n",
       "      <td>4.5</td>\n",
       "      <td>PA</td>\n",
       "      <td>business</td>\n",
       "    </tr>\n",
       "    <tr>\n",
       "      <th>19</th>\n",
       "      <td>{'Take-out': True, 'Has TV': False, 'Noise Lev...</td>\n",
       "      <td>zaXDakTd3RXyOa7sMrUE1g</td>\n",
       "      <td>[Cafes, Restaurants]</td>\n",
       "      <td>Carnegie</td>\n",
       "      <td>202 3rd Ave\\nCarnegie\\nCarnegie, PA 15106</td>\n",
       "      <td>{'Monday': {'open': '07:00', 'close': '14:00'}...</td>\n",
       "      <td>40.404638</td>\n",
       "      <td>-80.089985</td>\n",
       "      <td>Barb's Country Junction Cafe</td>\n",
       "      <td>[Carnegie]</td>\n",
       "      <td>True</td>\n",
       "      <td>9</td>\n",
       "      <td>4.0</td>\n",
       "      <td>PA</td>\n",
       "      <td>business</td>\n",
       "    </tr>\n",
       "    <tr>\n",
       "      <th>20</th>\n",
       "      <td>{'Price Range': 2, 'Wi-Fi': 'free', 'Accepts C...</td>\n",
       "      <td>zgy27FSnvwdINfk5cXBIyQ</td>\n",
       "      <td>[Hotels &amp; Travel, Event Planning &amp; Services, H...</td>\n",
       "      <td>Carnegie</td>\n",
       "      <td>520 North Bell Avenue\\nCarnegie\\nCarnegie, PA ...</td>\n",
       "      <td>{'Monday': {'open': '00:00', 'close': '00:00'}...</td>\n",
       "      <td>40.417419</td>\n",
       "      <td>-80.088557</td>\n",
       "      <td>Extended Stay America - Pittsburgh - Carnegie</td>\n",
       "      <td>[Carnegie]</td>\n",
       "      <td>True</td>\n",
       "      <td>11</td>\n",
       "      <td>3.5</td>\n",
       "      <td>PA</td>\n",
       "      <td>business</td>\n",
       "    </tr>\n",
       "    <tr>\n",
       "      <th>21</th>\n",
       "      <td>{'Take-out': True, 'Has TV': True, 'Noise Leve...</td>\n",
       "      <td>WETE_LykpcnrC1sFcQ5EGg</td>\n",
       "      <td>[Pubs, Irish, Nightlife, Bars, Restaurants]</td>\n",
       "      <td>Carnegie</td>\n",
       "      <td>215 E Main St\\nCarnegie\\nCarnegie, PA 15106</td>\n",
       "      <td>{}</td>\n",
       "      <td>40.408670</td>\n",
       "      <td>-80.085279</td>\n",
       "      <td>Paddy's Pour House</td>\n",
       "      <td>[Carnegie]</td>\n",
       "      <td>False</td>\n",
       "      <td>8</td>\n",
       "      <td>3.5</td>\n",
       "      <td>PA</td>\n",
       "      <td>business</td>\n",
       "    </tr>\n",
       "    <tr>\n",
       "      <th>22</th>\n",
       "      <td>{}</td>\n",
       "      <td>6o3RK6rTcN3nw-j-r2nQmA</td>\n",
       "      <td>[Pizza, Restaurants]</td>\n",
       "      <td>Carnegie</td>\n",
       "      <td>231 E Main St\\nCarnegie\\nCarnegie, PA 15106</td>\n",
       "      <td>{'Monday': {'open': '11:00', 'close': '22:00'}...</td>\n",
       "      <td>40.408832</td>\n",
       "      <td>-80.084934</td>\n",
       "      <td>Porto Fino Pizzaria &amp; Gyro</td>\n",
       "      <td>[Carnegie]</td>\n",
       "      <td>True</td>\n",
       "      <td>4</td>\n",
       "      <td>2.5</td>\n",
       "      <td>PA</td>\n",
       "      <td>business</td>\n",
       "    </tr>\n",
       "    <tr>\n",
       "      <th>23</th>\n",
       "      <td>{'Accepts Credit Cards': False}</td>\n",
       "      <td>woOVJ0Z2f6XNCDntHA3b_g</td>\n",
       "      <td>[Local Services, Sewing &amp; Alterations]</td>\n",
       "      <td>Carnegie</td>\n",
       "      <td>117 E Mall Plz\\nCarnegie\\nCarnegie, PA 15106</td>\n",
       "      <td>{'Monday': {'open': '08:30', 'close': '19:00'}...</td>\n",
       "      <td>40.406871</td>\n",
       "      <td>-80.087605</td>\n",
       "      <td>Alteration World</td>\n",
       "      <td>[Carnegie]</td>\n",
       "      <td>True</td>\n",
       "      <td>10</td>\n",
       "      <td>4.5</td>\n",
       "      <td>PA</td>\n",
       "      <td>business</td>\n",
       "    </tr>\n",
       "    <tr>\n",
       "      <th>24</th>\n",
       "      <td>{'Take-out': True, 'Has TV': False, 'Noise Lev...</td>\n",
       "      <td>rv7CY8G_XibTx82YhuqQRw</td>\n",
       "      <td>[Restaurants]</td>\n",
       "      <td>Carnegie</td>\n",
       "      <td>Raceway Plz\\nCarnegie, PA 15106</td>\n",
       "      <td>{}</td>\n",
       "      <td>40.386891</td>\n",
       "      <td>-80.093704</td>\n",
       "      <td>Long John Silver's</td>\n",
       "      <td>[]</td>\n",
       "      <td>True</td>\n",
       "      <td>6</td>\n",
       "      <td>3.0</td>\n",
       "      <td>PA</td>\n",
       "      <td>business</td>\n",
       "    </tr>\n",
       "    <tr>\n",
       "      <th>25</th>\n",
       "      <td>{'By Appointment Only': True}</td>\n",
       "      <td>e_U_FnpdKVgNb4mUN2cU_Q</td>\n",
       "      <td>[Health &amp; Medical, Dentists, General Dentistry]</td>\n",
       "      <td>Carnegie</td>\n",
       "      <td>2323 Greentree Rd\\nCarnegie, PA 15106</td>\n",
       "      <td>{}</td>\n",
       "      <td>40.390760</td>\n",
       "      <td>-80.078657</td>\n",
       "      <td>Weinberg Lisa, DMD</td>\n",
       "      <td>[]</td>\n",
       "      <td>True</td>\n",
       "      <td>8</td>\n",
       "      <td>2.5</td>\n",
       "      <td>PA</td>\n",
       "      <td>business</td>\n",
       "    </tr>\n",
       "    <tr>\n",
       "      <th>26</th>\n",
       "      <td>{'Take-out': True, 'Has TV': True, 'Noise Leve...</td>\n",
       "      <td>SQ0j7bgSTazkVQlF5AnqyQ</td>\n",
       "      <td>[Chinese, Restaurants]</td>\n",
       "      <td>Carnegie</td>\n",
       "      <td>214 E Main St\\nCarnegie\\nCarnegie, PA 15106</td>\n",
       "      <td>{}</td>\n",
       "      <td>40.408347</td>\n",
       "      <td>-80.084962</td>\n",
       "      <td>Don Don Chinese Restaurant</td>\n",
       "      <td>[Carnegie]</td>\n",
       "      <td>True</td>\n",
       "      <td>10</td>\n",
       "      <td>2.5</td>\n",
       "      <td>PA</td>\n",
       "      <td>business</td>\n",
       "    </tr>\n",
       "    <tr>\n",
       "      <th>27</th>\n",
       "      <td>{}</td>\n",
       "      <td>LTXS986DAz-4jE_sV2Ui4w</td>\n",
       "      <td>[Veterinarians, Pets]</td>\n",
       "      <td>Heidelberg</td>\n",
       "      <td>1747 E Railroad St\\nHeidelberg, PA 15106</td>\n",
       "      <td>{'Monday': {'open': '09:00', 'close': '19:00'}...</td>\n",
       "      <td>40.390569</td>\n",
       "      <td>-80.087898</td>\n",
       "      <td>Chartiers Animal Hospital</td>\n",
       "      <td>[]</td>\n",
       "      <td>True</td>\n",
       "      <td>3</td>\n",
       "      <td>3.5</td>\n",
       "      <td>PA</td>\n",
       "      <td>business</td>\n",
       "    </tr>\n",
       "    <tr>\n",
       "      <th>28</th>\n",
       "      <td>{'Take-out': True, 'Has TV': False, 'Noise Lev...</td>\n",
       "      <td>wqu7ILomIOPSduRwoWp4AQ</td>\n",
       "      <td>[Breakfast &amp; Brunch, American (Traditional), D...</td>\n",
       "      <td>Pittsburgh</td>\n",
       "      <td>2180 Greentree Rd\\nPittsburgh, PA 15220</td>\n",
       "      <td>{'Monday': {'open': '00:00', 'close': '00:00'}...</td>\n",
       "      <td>40.391140</td>\n",
       "      <td>-80.073788</td>\n",
       "      <td>Denny's</td>\n",
       "      <td>[]</td>\n",
       "      <td>True</td>\n",
       "      <td>16</td>\n",
       "      <td>3.5</td>\n",
       "      <td>PA</td>\n",
       "      <td>business</td>\n",
       "    </tr>\n",
       "    <tr>\n",
       "      <th>29</th>\n",
       "      <td>{'Parking': {'valet': False, 'validated': Fals...</td>\n",
       "      <td>1u2NauOy8xDj7aFQET680A</td>\n",
       "      <td>[Active Life, Boxing, Gyms, Fitness &amp; Instruct...</td>\n",
       "      <td>Carnegie</td>\n",
       "      <td>100 Roessler Rd\\nCarnegie, PA 15106</td>\n",
       "      <td>{'Monday': {'open': '05:30', 'close': '22:00'}...</td>\n",
       "      <td>40.394305</td>\n",
       "      <td>-80.060154</td>\n",
       "      <td>Amerifit</td>\n",
       "      <td>[]</td>\n",
       "      <td>True</td>\n",
       "      <td>8</td>\n",
       "      <td>3.0</td>\n",
       "      <td>PA</td>\n",
       "      <td>business</td>\n",
       "    </tr>\n",
       "    <tr>\n",
       "      <th>...</th>\n",
       "      <td>...</td>\n",
       "      <td>...</td>\n",
       "      <td>...</td>\n",
       "      <td>...</td>\n",
       "      <td>...</td>\n",
       "      <td>...</td>\n",
       "      <td>...</td>\n",
       "      <td>...</td>\n",
       "      <td>...</td>\n",
       "      <td>...</td>\n",
       "      <td>...</td>\n",
       "      <td>...</td>\n",
       "      <td>...</td>\n",
       "      <td>...</td>\n",
       "      <td>...</td>\n",
       "    </tr>\n",
       "    <tr>\n",
       "      <th>85866</th>\n",
       "      <td>{'Accepts Credit Cards': True, 'Good for Kids'...</td>\n",
       "      <td>ceobxf5bpSmIZMWqwWad1w</td>\n",
       "      <td>[Soup, Sandwiches, Salad, Restaurants]</td>\n",
       "      <td>Tempe</td>\n",
       "      <td>Tempe Marketplace\\n2000 E Rio Salado Pkwy\\nTem...</td>\n",
       "      <td>{}</td>\n",
       "      <td>33.432927</td>\n",
       "      <td>-111.905575</td>\n",
       "      <td>Panera Bread</td>\n",
       "      <td>[]</td>\n",
       "      <td>True</td>\n",
       "      <td>9</td>\n",
       "      <td>2.5</td>\n",
       "      <td>AZ</td>\n",
       "      <td>business</td>\n",
       "    </tr>\n",
       "    <tr>\n",
       "      <th>85867</th>\n",
       "      <td>{'Take-out': True, 'Has TV': False, 'Noise Lev...</td>\n",
       "      <td>D-vMDv5NlLb9od6sqXtX8A</td>\n",
       "      <td>[Food, Fast Food, Asian Fusion, Poke, Restaura...</td>\n",
       "      <td>Las Vegas</td>\n",
       "      <td>6040 W Badura Ave\\nSte 150\\nSpring Valley\\nLas...</td>\n",
       "      <td>{'Monday': {'open': '11:00', 'close': '21:00'}...</td>\n",
       "      <td>36.062737</td>\n",
       "      <td>-115.223679</td>\n",
       "      <td>Soho Sushi Bowlrrito</td>\n",
       "      <td>[Spring Valley]</td>\n",
       "      <td>True</td>\n",
       "      <td>27</td>\n",
       "      <td>4.5</td>\n",
       "      <td>NV</td>\n",
       "      <td>business</td>\n",
       "    </tr>\n",
       "    <tr>\n",
       "      <th>85868</th>\n",
       "      <td>{'Parking': {'valet': False, 'validated': Fals...</td>\n",
       "      <td>xppcCbZet-xToM83enlieg</td>\n",
       "      <td>[Active Life, Dance Studios, Pilates, Yoga, Fi...</td>\n",
       "      <td>Las Vegas</td>\n",
       "      <td>4720 West Sahara Ave\\nWestside\\nLas Vegas, NV ...</td>\n",
       "      <td>{'Monday': {'open': '10:00', 'close': '20:00'}...</td>\n",
       "      <td>36.147556</td>\n",
       "      <td>-115.207116</td>\n",
       "      <td>DYP Dance And Fitness</td>\n",
       "      <td>[Westside]</td>\n",
       "      <td>True</td>\n",
       "      <td>7</td>\n",
       "      <td>5.0</td>\n",
       "      <td>NV</td>\n",
       "      <td>business</td>\n",
       "    </tr>\n",
       "    <tr>\n",
       "      <th>85869</th>\n",
       "      <td>{'Outdoor Seating': True, 'Has TV': True, 'Whe...</td>\n",
       "      <td>YoryL0t3x8T2wfD96Xs6Kw</td>\n",
       "      <td>[Adult Entertainment, Party &amp; Event Planning, ...</td>\n",
       "      <td>Las Vegas</td>\n",
       "      <td>The Strip\\nLas Vegas, NV</td>\n",
       "      <td>{'Monday': {'open': '00:00', 'close': '00:00'}...</td>\n",
       "      <td>36.133201</td>\n",
       "      <td>-115.164227</td>\n",
       "      <td>Chris Cowette - Vegas Club Promoter</td>\n",
       "      <td>[The Strip]</td>\n",
       "      <td>True</td>\n",
       "      <td>6</td>\n",
       "      <td>5.0</td>\n",
       "      <td>NV</td>\n",
       "      <td>business</td>\n",
       "    </tr>\n",
       "    <tr>\n",
       "      <th>85870</th>\n",
       "      <td>{'Take-out': True, 'Has TV': False, 'Noise Lev...</td>\n",
       "      <td>OqZhUPDGmzu_k8jiyEhX6g</td>\n",
       "      <td>[American (Traditional), Fast Food, Chicken Wi...</td>\n",
       "      <td>Chandler</td>\n",
       "      <td>4075 S Arizona Ave\\nChandler, AZ 85248</td>\n",
       "      <td>{'Monday': {'open': '09:00', 'close': '00:00'}...</td>\n",
       "      <td>33.246349</td>\n",
       "      <td>-111.840639</td>\n",
       "      <td>Raising Cane's</td>\n",
       "      <td>[]</td>\n",
       "      <td>True</td>\n",
       "      <td>13</td>\n",
       "      <td>4.0</td>\n",
       "      <td>AZ</td>\n",
       "      <td>business</td>\n",
       "    </tr>\n",
       "    <tr>\n",
       "      <th>85871</th>\n",
       "      <td>{'Parking': {'valet': False, 'validated': Fals...</td>\n",
       "      <td>EB7_p4M5whur3KWesXE6gw</td>\n",
       "      <td>[Active Life, Gyms, Trainers, Fitness &amp; Instru...</td>\n",
       "      <td>Las Vegas</td>\n",
       "      <td>4775 Quality Ct\\nLas Vegas, NV 89103</td>\n",
       "      <td>{'Monday': {'open': '05:00', 'close': '21:00'}...</td>\n",
       "      <td>36.105608</td>\n",
       "      <td>-115.205611</td>\n",
       "      <td>Kanoa Strength Gym</td>\n",
       "      <td>[]</td>\n",
       "      <td>True</td>\n",
       "      <td>5</td>\n",
       "      <td>5.0</td>\n",
       "      <td>NV</td>\n",
       "      <td>business</td>\n",
       "    </tr>\n",
       "    <tr>\n",
       "      <th>85873</th>\n",
       "      <td>{}</td>\n",
       "      <td>iFX50dGCzWkVyunSZUzoiw</td>\n",
       "      <td>[Bakeries, Bars, Food, Wine Bars, Nightlife, I...</td>\n",
       "      <td>Scottsdale</td>\n",
       "      <td>11485 N 136th St\\nScottsdale, AZ 85259</td>\n",
       "      <td>{'Tuesday': {'open': '17:00', 'close': '22:00'...</td>\n",
       "      <td>33.590790</td>\n",
       "      <td>-111.786674</td>\n",
       "      <td>CM2 Pizzeria &amp; Bakeshop</td>\n",
       "      <td>[]</td>\n",
       "      <td>True</td>\n",
       "      <td>6</td>\n",
       "      <td>5.0</td>\n",
       "      <td>AZ</td>\n",
       "      <td>business</td>\n",
       "    </tr>\n",
       "    <tr>\n",
       "      <th>85874</th>\n",
       "      <td>{'Outdoor Seating': True, 'Take-out': True, 'G...</td>\n",
       "      <td>5PGbTsWR0UN9QuzN2XljyQ</td>\n",
       "      <td>[Food, Coffee &amp; Tea]</td>\n",
       "      <td>Phoenix</td>\n",
       "      <td>718 N Central Ave\\nPhoenix, AZ 85004</td>\n",
       "      <td>{'Monday': {'open': '06:00', 'close': '00:00'}...</td>\n",
       "      <td>33.456388</td>\n",
       "      <td>-112.074092</td>\n",
       "      <td>The Grand Central Coffee Company</td>\n",
       "      <td>[]</td>\n",
       "      <td>True</td>\n",
       "      <td>16</td>\n",
       "      <td>4.0</td>\n",
       "      <td>AZ</td>\n",
       "      <td>business</td>\n",
       "    </tr>\n",
       "    <tr>\n",
       "      <th>85875</th>\n",
       "      <td>{}</td>\n",
       "      <td>xoMhBZHpY40EAyy6iQ_I-A</td>\n",
       "      <td>[Hair Salons, Hair Extensions, Nail Salons, Ey...</td>\n",
       "      <td>Las Vegas</td>\n",
       "      <td>8680 W Warm Springs Rd\\nSte 13\\nSouthwest\\nLas...</td>\n",
       "      <td>{'Monday': {'open': '08:00', 'close': '22:00'}...</td>\n",
       "      <td>36.056214</td>\n",
       "      <td>-115.281151</td>\n",
       "      <td>Sexy3D Extensions</td>\n",
       "      <td>[Southwest, Spring Valley]</td>\n",
       "      <td>True</td>\n",
       "      <td>7</td>\n",
       "      <td>5.0</td>\n",
       "      <td>NV</td>\n",
       "      <td>business</td>\n",
       "    </tr>\n",
       "    <tr>\n",
       "      <th>85878</th>\n",
       "      <td>{'Good for Kids': True}</td>\n",
       "      <td>5JDMpRduKnuPz-1OsF0I_A</td>\n",
       "      <td>[Local Flavor]</td>\n",
       "      <td>Las Vegas</td>\n",
       "      <td>300 Stewart Ave\\nDowntown\\nLas Vegas, NV 89101</td>\n",
       "      <td>{'Tuesday': {'open': '18:00', 'close': '20:00'}}</td>\n",
       "      <td>36.172815</td>\n",
       "      <td>-115.141243</td>\n",
       "      <td>YEE: \"Greed\" at The Mob Museum</td>\n",
       "      <td>[Downtown]</td>\n",
       "      <td>True</td>\n",
       "      <td>8</td>\n",
       "      <td>5.0</td>\n",
       "      <td>NV</td>\n",
       "      <td>business</td>\n",
       "    </tr>\n",
       "    <tr>\n",
       "      <th>85879</th>\n",
       "      <td>{}</td>\n",
       "      <td>C6_IoaDD3mddplTXdbKGEg</td>\n",
       "      <td>[Yelp Events, Local Flavor]</td>\n",
       "      <td>Charlotte</td>\n",
       "      <td>1608 East Blvd\\nDilworth\\nCharlotte, NC 28203</td>\n",
       "      <td>{}</td>\n",
       "      <td>35.199185</td>\n",
       "      <td>-80.841449</td>\n",
       "      <td>YEE: An Evening With Kid Cashew</td>\n",
       "      <td>[Dilworth]</td>\n",
       "      <td>True</td>\n",
       "      <td>32</td>\n",
       "      <td>5.0</td>\n",
       "      <td>NC</td>\n",
       "      <td>business</td>\n",
       "    </tr>\n",
       "    <tr>\n",
       "      <th>85880</th>\n",
       "      <td>{'Take-out': True, 'Has TV': False, 'Noise Lev...</td>\n",
       "      <td>UByngND8rAr6Qu2il34Qrw</td>\n",
       "      <td>[Sandwiches, Salad, Restaurants]</td>\n",
       "      <td>Scottsdale</td>\n",
       "      <td>16495 N Scottsdale Rd\\nSte 105\\nScottsdale, AZ...</td>\n",
       "      <td>{'Monday': {'open': '11:00', 'close': '19:00'}...</td>\n",
       "      <td>33.635558</td>\n",
       "      <td>-111.921071</td>\n",
       "      <td>The Chicken Scoop</td>\n",
       "      <td>[]</td>\n",
       "      <td>True</td>\n",
       "      <td>23</td>\n",
       "      <td>4.0</td>\n",
       "      <td>AZ</td>\n",
       "      <td>business</td>\n",
       "    </tr>\n",
       "    <tr>\n",
       "      <th>85881</th>\n",
       "      <td>{'Price Range': 3, 'Take-out': True, 'Has TV':...</td>\n",
       "      <td>FcvkAc_OTDOOLLEln3jlxA</td>\n",
       "      <td>[Asian Fusion, Sushi Bars, Japanese, Restaurants]</td>\n",
       "      <td>Phoenix</td>\n",
       "      <td>5538 N 7th St\\nSte 110\\nPhoenix, AZ 85014</td>\n",
       "      <td>{'Monday': {'open': '11:00', 'close': '22:00'}...</td>\n",
       "      <td>33.517942</td>\n",
       "      <td>-112.065448</td>\n",
       "      <td>Pure Sushi Colony</td>\n",
       "      <td>[]</td>\n",
       "      <td>True</td>\n",
       "      <td>18</td>\n",
       "      <td>4.0</td>\n",
       "      <td>AZ</td>\n",
       "      <td>business</td>\n",
       "    </tr>\n",
       "    <tr>\n",
       "      <th>85882</th>\n",
       "      <td>{'Parking': {'valet': False, 'validated': Fals...</td>\n",
       "      <td>h1aZ3B_i83ccUcjgtRfMaA</td>\n",
       "      <td>[Skin Care, Waxing, Hair Removal, Beauty &amp; Spas]</td>\n",
       "      <td>Scottsdale</td>\n",
       "      <td>3301 N Miller Rd\\nScottsdale, AZ 85251</td>\n",
       "      <td>{'Monday': {'open': '13:00', 'close': '19:00'}...</td>\n",
       "      <td>33.486405</td>\n",
       "      <td>-111.917149</td>\n",
       "      <td>Skin Awakened</td>\n",
       "      <td>[]</td>\n",
       "      <td>True</td>\n",
       "      <td>3</td>\n",
       "      <td>5.0</td>\n",
       "      <td>AZ</td>\n",
       "      <td>business</td>\n",
       "    </tr>\n",
       "    <tr>\n",
       "      <th>85883</th>\n",
       "      <td>{}</td>\n",
       "      <td>ieZDYoAEq0xV4budBDOU6w</td>\n",
       "      <td>[Real Estate, Home Services, Real Estate Agents]</td>\n",
       "      <td>Las Vegas</td>\n",
       "      <td>1200 South Fourth St\\nDowntown\\nLas Vegas, NV ...</td>\n",
       "      <td>{'Monday': {'open': '09:00', 'close': '00:00'}...</td>\n",
       "      <td>36.157447</td>\n",
       "      <td>-115.150340</td>\n",
       "      <td>Brad Winston, CPA/Realtor-King of Condos, Inc.</td>\n",
       "      <td>[Downtown]</td>\n",
       "      <td>True</td>\n",
       "      <td>4</td>\n",
       "      <td>5.0</td>\n",
       "      <td>NV</td>\n",
       "      <td>business</td>\n",
       "    </tr>\n",
       "    <tr>\n",
       "      <th>85884</th>\n",
       "      <td>{'Price Range': 1, 'Take-out': True, 'Has TV':...</td>\n",
       "      <td>BiufIB-tejW9JqJdxUZJ5w</td>\n",
       "      <td>[Sandwiches, Restaurants]</td>\n",
       "      <td>Phoenix</td>\n",
       "      <td>4910 East Ray Rd\\nPhoenix, AZ 85044</td>\n",
       "      <td>{'Monday': {'open': '10:00', 'close': '22:00'}...</td>\n",
       "      <td>33.320454</td>\n",
       "      <td>-111.977342</td>\n",
       "      <td>Pita Pit</td>\n",
       "      <td>[]</td>\n",
       "      <td>True</td>\n",
       "      <td>5</td>\n",
       "      <td>5.0</td>\n",
       "      <td>AZ</td>\n",
       "      <td>business</td>\n",
       "    </tr>\n",
       "    <tr>\n",
       "      <th>85885</th>\n",
       "      <td>{'Outdoor Seating': False, 'Take-out': True, '...</td>\n",
       "      <td>ECRjdXYLhGzQjCoZKeq6qg</td>\n",
       "      <td>[Sushi Bars, Japanese, Restaurants]</td>\n",
       "      <td>North Las Vegas</td>\n",
       "      <td>4210 W Craig Rd\\nSte 100\\nNorth Las Vegas, NV ...</td>\n",
       "      <td>{'Monday': {'open': '11:30', 'close': '22:00'}...</td>\n",
       "      <td>36.239686</td>\n",
       "      <td>-115.196967</td>\n",
       "      <td>Tokyo Sushi House II</td>\n",
       "      <td>[]</td>\n",
       "      <td>True</td>\n",
       "      <td>15</td>\n",
       "      <td>3.0</td>\n",
       "      <td>NV</td>\n",
       "      <td>business</td>\n",
       "    </tr>\n",
       "    <tr>\n",
       "      <th>85886</th>\n",
       "      <td>{'Take-out': True, 'Has TV': False, 'Noise Lev...</td>\n",
       "      <td>mCiSmiZ7iNI08F6dGXP7tw</td>\n",
       "      <td>[Food, Desserts, Restaurants, Bakeries, Sandwi...</td>\n",
       "      <td>Las Vegas</td>\n",
       "      <td>7100 W Craig Rd\\nNorthwest\\nLas Vegas, NV 89129</td>\n",
       "      <td>{'Monday': {'open': '07:00', 'close': '22:00'}...</td>\n",
       "      <td>36.240983</td>\n",
       "      <td>-115.249473</td>\n",
       "      <td>Kneaders Bakery &amp; Cafe</td>\n",
       "      <td>[Northwest]</td>\n",
       "      <td>True</td>\n",
       "      <td>24</td>\n",
       "      <td>3.5</td>\n",
       "      <td>NV</td>\n",
       "      <td>business</td>\n",
       "    </tr>\n",
       "    <tr>\n",
       "      <th>85887</th>\n",
       "      <td>{'Parking': {'valet': False, 'validated': Fals...</td>\n",
       "      <td>csnolzm2mzbsohha4jSi-g</td>\n",
       "      <td>[Food, Beer, Wine &amp; Spirits, Grocery, Shopping...</td>\n",
       "      <td>Phoenix</td>\n",
       "      <td>1311 E Bell Rd\\nPhoenix, AZ 85022</td>\n",
       "      <td>{'Monday': {'open': '09:00', 'close': '21:00'}...</td>\n",
       "      <td>33.639310</td>\n",
       "      <td>-112.054317</td>\n",
       "      <td>Frys Marketplace</td>\n",
       "      <td>[]</td>\n",
       "      <td>True</td>\n",
       "      <td>21</td>\n",
       "      <td>2.5</td>\n",
       "      <td>AZ</td>\n",
       "      <td>business</td>\n",
       "    </tr>\n",
       "    <tr>\n",
       "      <th>85888</th>\n",
       "      <td>{'Accepts Credit Cards': True}</td>\n",
       "      <td>0c5BWTHCjKyxh4461H14IQ</td>\n",
       "      <td>[Pet Services, Event Photography, Photographer...</td>\n",
       "      <td>Las Vegas</td>\n",
       "      <td>Downtown\\nLas Vegas, NV</td>\n",
       "      <td>{'Monday': {'open': '08:00', 'close': '20:00'}...</td>\n",
       "      <td>36.171909</td>\n",
       "      <td>-115.139969</td>\n",
       "      <td>Photobetty Photography</td>\n",
       "      <td>[Downtown]</td>\n",
       "      <td>True</td>\n",
       "      <td>3</td>\n",
       "      <td>5.0</td>\n",
       "      <td>NV</td>\n",
       "      <td>business</td>\n",
       "    </tr>\n",
       "    <tr>\n",
       "      <th>85889</th>\n",
       "      <td>{'Dogs Allowed': True, 'Take-out': True, 'Has ...</td>\n",
       "      <td>TFCPmrQj9PD1WvnZGYO85Q</td>\n",
       "      <td>[Breakfast &amp; Brunch, American (New), Ramen, Ja...</td>\n",
       "      <td>Phoenix</td>\n",
       "      <td>4350 E Camelback Rd\\nBldg I-100\\nPhoenix, AZ 8...</td>\n",
       "      <td>{'Monday': {'open': '07:00', 'close': '14:00'}...</td>\n",
       "      <td>33.510044</td>\n",
       "      <td>-111.987108</td>\n",
       "      <td>Chestnut</td>\n",
       "      <td>[]</td>\n",
       "      <td>True</td>\n",
       "      <td>168</td>\n",
       "      <td>3.5</td>\n",
       "      <td>AZ</td>\n",
       "      <td>business</td>\n",
       "    </tr>\n",
       "    <tr>\n",
       "      <th>85890</th>\n",
       "      <td>{'Price Range': 2, 'Take-out': True, 'Has TV':...</td>\n",
       "      <td>hNX62vEzvdVsMUMmYYHoPQ</td>\n",
       "      <td>[Bars, American (Traditional), Breakfast &amp; Bru...</td>\n",
       "      <td>Laveen</td>\n",
       "      <td>5020 W Baseline Rd\\nSte 123\\nLaveen, AZ 85339</td>\n",
       "      <td>{'Monday': {'open': '07:00', 'close': '23:00'}...</td>\n",
       "      <td>33.378922</td>\n",
       "      <td>-112.166458</td>\n",
       "      <td>Greathouse Sports Grill</td>\n",
       "      <td>[]</td>\n",
       "      <td>True</td>\n",
       "      <td>4</td>\n",
       "      <td>2.0</td>\n",
       "      <td>AZ</td>\n",
       "      <td>business</td>\n",
       "    </tr>\n",
       "    <tr>\n",
       "      <th>85891</th>\n",
       "      <td>{}</td>\n",
       "      <td>Tc_jU5vqV6208ElA6lNk-A</td>\n",
       "      <td>[Bars, Nightlife]</td>\n",
       "      <td>Glendale</td>\n",
       "      <td>6770 North Sunrise Blvd\\nSte G109\\nGlendale, A...</td>\n",
       "      <td>{}</td>\n",
       "      <td>33.532930</td>\n",
       "      <td>-112.260691</td>\n",
       "      <td>Bar Louie</td>\n",
       "      <td>[]</td>\n",
       "      <td>False</td>\n",
       "      <td>18</td>\n",
       "      <td>2.5</td>\n",
       "      <td>AZ</td>\n",
       "      <td>business</td>\n",
       "    </tr>\n",
       "    <tr>\n",
       "      <th>85892</th>\n",
       "      <td>{'Accepts Credit Cards': True}</td>\n",
       "      <td>ezB4DWv1MjWwjbIjVNAb9A</td>\n",
       "      <td>[Home Services, Real Estate, Apartments]</td>\n",
       "      <td>Las Vegas</td>\n",
       "      <td>304 E Silverado Ranch Blvd\\nSoutheast\\nLas Veg...</td>\n",
       "      <td>{'Monday': {'open': '09:00', 'close': '18:00'}...</td>\n",
       "      <td>36.014080</td>\n",
       "      <td>-115.159018</td>\n",
       "      <td>Lyric Apartments</td>\n",
       "      <td>[Southeast]</td>\n",
       "      <td>True</td>\n",
       "      <td>5</td>\n",
       "      <td>2.0</td>\n",
       "      <td>NV</td>\n",
       "      <td>business</td>\n",
       "    </tr>\n",
       "    <tr>\n",
       "      <th>85894</th>\n",
       "      <td>{'Parking': {'valet': False, 'validated': Fals...</td>\n",
       "      <td>BxqRovZ76pJudWJE1tNXbg</td>\n",
       "      <td>[Hair Salons, Makeup Artists, Beauty &amp; Spas]</td>\n",
       "      <td>Phoenix</td>\n",
       "      <td>505 W Dunlap Ave\\nPhoenix, AZ 85021</td>\n",
       "      <td>{}</td>\n",
       "      <td>33.567251</td>\n",
       "      <td>-112.081407</td>\n",
       "      <td>Aries Unisex Salon</td>\n",
       "      <td>[]</td>\n",
       "      <td>True</td>\n",
       "      <td>4</td>\n",
       "      <td>5.0</td>\n",
       "      <td>AZ</td>\n",
       "      <td>business</td>\n",
       "    </tr>\n",
       "    <tr>\n",
       "      <th>85895</th>\n",
       "      <td>{}</td>\n",
       "      <td>R4BA2eTM1jeIEq31EVlE4g</td>\n",
       "      <td>[Gift Shops, Flowers &amp; Gifts, Shopping, Souven...</td>\n",
       "      <td>Las Vegas</td>\n",
       "      <td>3377 S Las Vegas Blvd\\nSte 2020\\nThe Strip\\nLa...</td>\n",
       "      <td>{'Monday': {'open': '10:00', 'close': '23:00'}...</td>\n",
       "      <td>36.121243</td>\n",
       "      <td>-115.171349</td>\n",
       "      <td>Citta Delle Luci</td>\n",
       "      <td>[The Strip]</td>\n",
       "      <td>True</td>\n",
       "      <td>3</td>\n",
       "      <td>3.0</td>\n",
       "      <td>NV</td>\n",
       "      <td>business</td>\n",
       "    </tr>\n",
       "    <tr>\n",
       "      <th>85896</th>\n",
       "      <td>{'Accepts Credit Cards': True}</td>\n",
       "      <td>m7-3lyY0CJEhePfJKWtD3w</td>\n",
       "      <td>[Bridal, Fashion, Shopping, Formal Wear]</td>\n",
       "      <td>Las Vegas</td>\n",
       "      <td>3899 East Sunset Rd\\nSte 105\\nLas Vegas, NV 89120</td>\n",
       "      <td>{'Tuesday': {'open': '10:00', 'close': '18:00'...</td>\n",
       "      <td>36.070535</td>\n",
       "      <td>-115.089318</td>\n",
       "      <td>Bowties Bridal</td>\n",
       "      <td>[]</td>\n",
       "      <td>True</td>\n",
       "      <td>61</td>\n",
       "      <td>4.0</td>\n",
       "      <td>NV</td>\n",
       "      <td>business</td>\n",
       "    </tr>\n",
       "    <tr>\n",
       "      <th>85897</th>\n",
       "      <td>{'Take-out': True, 'Has TV': True, 'Noise Leve...</td>\n",
       "      <td>g0vvhkZWZKlwF8BUeSPaTA</td>\n",
       "      <td>[Mexican, Restaurants]</td>\n",
       "      <td>Goodyear</td>\n",
       "      <td>525 N Estrella Pkwy\\nSte 100\\nGoodyear, AZ 85338</td>\n",
       "      <td>{}</td>\n",
       "      <td>33.452205</td>\n",
       "      <td>-112.392009</td>\n",
       "      <td>Senor Taco</td>\n",
       "      <td>[]</td>\n",
       "      <td>True</td>\n",
       "      <td>89</td>\n",
       "      <td>3.5</td>\n",
       "      <td>AZ</td>\n",
       "      <td>business</td>\n",
       "    </tr>\n",
       "    <tr>\n",
       "      <th>85898</th>\n",
       "      <td>{}</td>\n",
       "      <td>46L_7y9QXffPpOaXNLX8hg</td>\n",
       "      <td>[Car Wash, Automotive]</td>\n",
       "      <td>Phoenix</td>\n",
       "      <td>9215 North 7th St\\nPhoenix, AZ 85020</td>\n",
       "      <td>{'Monday': {'open': '07:00', 'close': '18:00'}...</td>\n",
       "      <td>33.570417</td>\n",
       "      <td>-112.064854</td>\n",
       "      <td>Cobblestone Auto Spa</td>\n",
       "      <td>[]</td>\n",
       "      <td>True</td>\n",
       "      <td>7</td>\n",
       "      <td>3.0</td>\n",
       "      <td>AZ</td>\n",
       "      <td>business</td>\n",
       "    </tr>\n",
       "    <tr>\n",
       "      <th>85900</th>\n",
       "      <td>{}</td>\n",
       "      <td>DH2Ujt_hwcMBIz8VvCb0Lg</td>\n",
       "      <td>[Mexican, Restaurants]</td>\n",
       "      <td>Charlotte</td>\n",
       "      <td>Charlotte Douglas International Airport Termin...</td>\n",
       "      <td>{}</td>\n",
       "      <td>35.224223</td>\n",
       "      <td>-80.940290</td>\n",
       "      <td>Salsarita's Express</td>\n",
       "      <td>[]</td>\n",
       "      <td>True</td>\n",
       "      <td>57</td>\n",
       "      <td>2.5</td>\n",
       "      <td>NC</td>\n",
       "      <td>business</td>\n",
       "    </tr>\n",
       "  </tbody>\n",
       "</table>\n",
       "<p>72145 rows × 15 columns</p>\n",
       "</div>"
      ],
      "text/plain": [
       "                                              attributes  \\\n",
       "0      {'Take-out': True, 'Has TV': False, 'Noise Lev...   \n",
       "1      {'Outdoor Seating': False, 'Good For Groups': ...   \n",
       "2                                {'Good for Kids': True}   \n",
       "3      {'Good For Groups': True, 'Has TV': True, 'Smo...   \n",
       "4      {'Parking': {'valet': False, 'validated': Fals...   \n",
       "5      {'Good For Groups': True, 'Has TV': True, 'Smo...   \n",
       "6                         {'Accepts Credit Cards': True}   \n",
       "7                                {'Good for Kids': True}   \n",
       "8                                                     {}   \n",
       "9                                                     {}   \n",
       "10                                     {'Wi-Fi': 'free'}   \n",
       "11                                                    {}   \n",
       "12     {'Take-out': True, 'Good For Groups': True, 'P...   \n",
       "13     {'Parking': {'valet': False, 'validated': Fals...   \n",
       "14                                                    {}   \n",
       "15                        {'Accepts Credit Cards': True}   \n",
       "16                                                    {}   \n",
       "17     {'Dogs Allowed': False, 'Good For Groups': Tru...   \n",
       "18     {'Good For Groups': False, 'Has TV': True, 'Co...   \n",
       "19     {'Take-out': True, 'Has TV': False, 'Noise Lev...   \n",
       "20     {'Price Range': 2, 'Wi-Fi': 'free', 'Accepts C...   \n",
       "21     {'Take-out': True, 'Has TV': True, 'Noise Leve...   \n",
       "22                                                    {}   \n",
       "23                       {'Accepts Credit Cards': False}   \n",
       "24     {'Take-out': True, 'Has TV': False, 'Noise Lev...   \n",
       "25                         {'By Appointment Only': True}   \n",
       "26     {'Take-out': True, 'Has TV': True, 'Noise Leve...   \n",
       "27                                                    {}   \n",
       "28     {'Take-out': True, 'Has TV': False, 'Noise Lev...   \n",
       "29     {'Parking': {'valet': False, 'validated': Fals...   \n",
       "...                                                  ...   \n",
       "85866  {'Accepts Credit Cards': True, 'Good for Kids'...   \n",
       "85867  {'Take-out': True, 'Has TV': False, 'Noise Lev...   \n",
       "85868  {'Parking': {'valet': False, 'validated': Fals...   \n",
       "85869  {'Outdoor Seating': True, 'Has TV': True, 'Whe...   \n",
       "85870  {'Take-out': True, 'Has TV': False, 'Noise Lev...   \n",
       "85871  {'Parking': {'valet': False, 'validated': Fals...   \n",
       "85873                                                 {}   \n",
       "85874  {'Outdoor Seating': True, 'Take-out': True, 'G...   \n",
       "85875                                                 {}   \n",
       "85878                            {'Good for Kids': True}   \n",
       "85879                                                 {}   \n",
       "85880  {'Take-out': True, 'Has TV': False, 'Noise Lev...   \n",
       "85881  {'Price Range': 3, 'Take-out': True, 'Has TV':...   \n",
       "85882  {'Parking': {'valet': False, 'validated': Fals...   \n",
       "85883                                                 {}   \n",
       "85884  {'Price Range': 1, 'Take-out': True, 'Has TV':...   \n",
       "85885  {'Outdoor Seating': False, 'Take-out': True, '...   \n",
       "85886  {'Take-out': True, 'Has TV': False, 'Noise Lev...   \n",
       "85887  {'Parking': {'valet': False, 'validated': Fals...   \n",
       "85888                     {'Accepts Credit Cards': True}   \n",
       "85889  {'Dogs Allowed': True, 'Take-out': True, 'Has ...   \n",
       "85890  {'Price Range': 2, 'Take-out': True, 'Has TV':...   \n",
       "85891                                                 {}   \n",
       "85892                     {'Accepts Credit Cards': True}   \n",
       "85894  {'Parking': {'valet': False, 'validated': Fals...   \n",
       "85895                                                 {}   \n",
       "85896                     {'Accepts Credit Cards': True}   \n",
       "85897  {'Take-out': True, 'Has TV': True, 'Noise Leve...   \n",
       "85898                                                 {}   \n",
       "85900                                                 {}   \n",
       "\n",
       "                  business_id  \\\n",
       "0      5UmKMjUEUNdYWqANhGckJw   \n",
       "1      UsFtqoBl7naz8AVUBZMjQQ   \n",
       "2      cE27W9VPgO88Qxe4ol6y_g   \n",
       "3      mVHrayjG3uZ_RLHkLj-AMg   \n",
       "4      mYSpR_SLPgUVymYOvTQd_Q   \n",
       "5      KayYbHCt-RkbGcPdGOThNg   \n",
       "6      b12U9TFESStdy7CsTtcOeg   \n",
       "7      Sktj1eHQFuVa-M4bgnEh8g   \n",
       "8      3ZVKmuK2l7uXPE6lXY4Dbg   \n",
       "9      QoDa50dc7g62xciFygXB9w   \n",
       "10     1_lU0-eSWJCRvNGk78Zh9Q   \n",
       "11     _qopVQ6_Mz6W7-Pmbi56GQ   \n",
       "12     wJr6kSA5dchdgOdwH6dZ2w   \n",
       "13     yXuao0pFz1AxB21vJjDf5w   \n",
       "14     LLJMI-_fSp6OYQuY4rwarw   \n",
       "15     F04xyOUA2xnUoCiWpx9iJA   \n",
       "16     Cdcus0NADzyY3XiJM2O5Sg   \n",
       "17     fNGIbpazjTRdXgwRY_NIXA   \n",
       "18     b9WZJp5L1RZr4F1nxclOoQ   \n",
       "19     zaXDakTd3RXyOa7sMrUE1g   \n",
       "20     zgy27FSnvwdINfk5cXBIyQ   \n",
       "21     WETE_LykpcnrC1sFcQ5EGg   \n",
       "22     6o3RK6rTcN3nw-j-r2nQmA   \n",
       "23     woOVJ0Z2f6XNCDntHA3b_g   \n",
       "24     rv7CY8G_XibTx82YhuqQRw   \n",
       "25     e_U_FnpdKVgNb4mUN2cU_Q   \n",
       "26     SQ0j7bgSTazkVQlF5AnqyQ   \n",
       "27     LTXS986DAz-4jE_sV2Ui4w   \n",
       "28     wqu7ILomIOPSduRwoWp4AQ   \n",
       "29     1u2NauOy8xDj7aFQET680A   \n",
       "...                       ...   \n",
       "85866  ceobxf5bpSmIZMWqwWad1w   \n",
       "85867  D-vMDv5NlLb9od6sqXtX8A   \n",
       "85868  xppcCbZet-xToM83enlieg   \n",
       "85869  YoryL0t3x8T2wfD96Xs6Kw   \n",
       "85870  OqZhUPDGmzu_k8jiyEhX6g   \n",
       "85871  EB7_p4M5whur3KWesXE6gw   \n",
       "85873  iFX50dGCzWkVyunSZUzoiw   \n",
       "85874  5PGbTsWR0UN9QuzN2XljyQ   \n",
       "85875  xoMhBZHpY40EAyy6iQ_I-A   \n",
       "85878  5JDMpRduKnuPz-1OsF0I_A   \n",
       "85879  C6_IoaDD3mddplTXdbKGEg   \n",
       "85880  UByngND8rAr6Qu2il34Qrw   \n",
       "85881  FcvkAc_OTDOOLLEln3jlxA   \n",
       "85882  h1aZ3B_i83ccUcjgtRfMaA   \n",
       "85883  ieZDYoAEq0xV4budBDOU6w   \n",
       "85884  BiufIB-tejW9JqJdxUZJ5w   \n",
       "85885  ECRjdXYLhGzQjCoZKeq6qg   \n",
       "85886  mCiSmiZ7iNI08F6dGXP7tw   \n",
       "85887  csnolzm2mzbsohha4jSi-g   \n",
       "85888  0c5BWTHCjKyxh4461H14IQ   \n",
       "85889  TFCPmrQj9PD1WvnZGYO85Q   \n",
       "85890  hNX62vEzvdVsMUMmYYHoPQ   \n",
       "85891  Tc_jU5vqV6208ElA6lNk-A   \n",
       "85892  ezB4DWv1MjWwjbIjVNAb9A   \n",
       "85894  BxqRovZ76pJudWJE1tNXbg   \n",
       "85895  R4BA2eTM1jeIEq31EVlE4g   \n",
       "85896  m7-3lyY0CJEhePfJKWtD3w   \n",
       "85897  g0vvhkZWZKlwF8BUeSPaTA   \n",
       "85898  46L_7y9QXffPpOaXNLX8hg   \n",
       "85900  DH2Ujt_hwcMBIz8VvCb0Lg   \n",
       "\n",
       "                                              categories             city  \\\n",
       "0                               [Fast Food, Restaurants]       Dravosburg   \n",
       "1                                            [Nightlife]       Dravosburg   \n",
       "2                         [Active Life, Mini Golf, Golf]      Bethel Park   \n",
       "3      [Bars, American (New), Nightlife, Lounges, Res...         Braddock   \n",
       "4                                    [Active Life, Golf]         Braddock   \n",
       "5      [Bars, American (Traditional), Nightlife, Rest...         Carnegie   \n",
       "6                       [Auto Repair, Automotive, Tires]         Carnegie   \n",
       "7                               [Active Life, Mini Golf]         Carnegie   \n",
       "8      [Roofing, Home Services, Decks & Railing, Cont...         Carnegie   \n",
       "9                                  [Veterinarians, Pets]       Pittsburgh   \n",
       "10             [Libraries, Public Services & Government]         Carnegie   \n",
       "11                   [Automotive, Auto Parts & Supplies]         Carnegie   \n",
       "12     [Burgers, Breakfast & Brunch, American (Tradit...         Carnegie   \n",
       "13                                       [Food, Grocery]         Carnegie   \n",
       "14                  [Automotive, Gas & Service Stations]         Carnegie   \n",
       "15     [Local Services, Dry Cleaning & Laundry, Sewin...         Carnegie   \n",
       "16                  [Automotive, Gas & Service Stations]         Carnegie   \n",
       "17     [Bars, American (Traditional), Nightlife, Loun...         Carnegie   \n",
       "18         [Breakfast & Brunch, Sandwiches, Restaurants]         Carnegie   \n",
       "19                                  [Cafes, Restaurants]         Carnegie   \n",
       "20     [Hotels & Travel, Event Planning & Services, H...         Carnegie   \n",
       "21           [Pubs, Irish, Nightlife, Bars, Restaurants]         Carnegie   \n",
       "22                                  [Pizza, Restaurants]         Carnegie   \n",
       "23                [Local Services, Sewing & Alterations]         Carnegie   \n",
       "24                                         [Restaurants]         Carnegie   \n",
       "25       [Health & Medical, Dentists, General Dentistry]         Carnegie   \n",
       "26                                [Chinese, Restaurants]         Carnegie   \n",
       "27                                 [Veterinarians, Pets]       Heidelberg   \n",
       "28     [Breakfast & Brunch, American (Traditional), D...       Pittsburgh   \n",
       "29     [Active Life, Boxing, Gyms, Fitness & Instruct...         Carnegie   \n",
       "...                                                  ...              ...   \n",
       "85866             [Soup, Sandwiches, Salad, Restaurants]            Tempe   \n",
       "85867  [Food, Fast Food, Asian Fusion, Poke, Restaura...        Las Vegas   \n",
       "85868  [Active Life, Dance Studios, Pilates, Yoga, Fi...        Las Vegas   \n",
       "85869  [Adult Entertainment, Party & Event Planning, ...        Las Vegas   \n",
       "85870  [American (Traditional), Fast Food, Chicken Wi...         Chandler   \n",
       "85871  [Active Life, Gyms, Trainers, Fitness & Instru...        Las Vegas   \n",
       "85873  [Bakeries, Bars, Food, Wine Bars, Nightlife, I...       Scottsdale   \n",
       "85874                               [Food, Coffee & Tea]          Phoenix   \n",
       "85875  [Hair Salons, Hair Extensions, Nail Salons, Ey...        Las Vegas   \n",
       "85878                                     [Local Flavor]        Las Vegas   \n",
       "85879                        [Yelp Events, Local Flavor]        Charlotte   \n",
       "85880                   [Sandwiches, Salad, Restaurants]       Scottsdale   \n",
       "85881  [Asian Fusion, Sushi Bars, Japanese, Restaurants]          Phoenix   \n",
       "85882   [Skin Care, Waxing, Hair Removal, Beauty & Spas]       Scottsdale   \n",
       "85883   [Real Estate, Home Services, Real Estate Agents]        Las Vegas   \n",
       "85884                          [Sandwiches, Restaurants]          Phoenix   \n",
       "85885                [Sushi Bars, Japanese, Restaurants]  North Las Vegas   \n",
       "85886  [Food, Desserts, Restaurants, Bakeries, Sandwi...        Las Vegas   \n",
       "85887  [Food, Beer, Wine & Spirits, Grocery, Shopping...          Phoenix   \n",
       "85888  [Pet Services, Event Photography, Photographer...        Las Vegas   \n",
       "85889  [Breakfast & Brunch, American (New), Ramen, Ja...          Phoenix   \n",
       "85890  [Bars, American (Traditional), Breakfast & Bru...           Laveen   \n",
       "85891                                  [Bars, Nightlife]         Glendale   \n",
       "85892           [Home Services, Real Estate, Apartments]        Las Vegas   \n",
       "85894       [Hair Salons, Makeup Artists, Beauty & Spas]          Phoenix   \n",
       "85895  [Gift Shops, Flowers & Gifts, Shopping, Souven...        Las Vegas   \n",
       "85896           [Bridal, Fashion, Shopping, Formal Wear]        Las Vegas   \n",
       "85897                             [Mexican, Restaurants]         Goodyear   \n",
       "85898                             [Car Wash, Automotive]          Phoenix   \n",
       "85900                             [Mexican, Restaurants]        Charlotte   \n",
       "\n",
       "                                            full_address  \\\n",
       "0           4734 Lebanon Church Rd\\nDravosburg, PA 15034   \n",
       "1                   202 McClure St\\nDravosburg, PA 15034   \n",
       "2                1530 Hamilton Rd\\nBethel Park, PA 15234   \n",
       "3                    414 Hawkins Ave\\nBraddock, PA 15104   \n",
       "4                  1000 Clubhouse Dr\\nBraddock, PA 15104   \n",
       "5        141 Hawthorne St\\nGreentree\\nCarnegie, PA 15106   \n",
       "6                718A Hope Hollow Rd\\nCarnegie, PA 15106   \n",
       "7          920 Forsythe Rd\\nCarnegie\\nCarnegie, PA 15106   \n",
       "8               8 Logan St\\nCarnegie\\nCarnegie, PA 15106   \n",
       "9                2080 Greentree Rd\\nPittsburgh, PA 15220   \n",
       "10       300 Beechwood Ave\\nCarnegie\\nCarnegie, PA 15106   \n",
       "11               1011 Washington Ave\\nCarnegie, PA 15106   \n",
       "12              2100 Washington Pike\\nCarnegie, PA 15106   \n",
       "13              2100 Washington Pike\\nCarnegie, PA 15106   \n",
       "14           341 E Main St\\nCarnegie\\nCarnegie, PA 15106   \n",
       "15       Bower Hill Rd & Vanadium Rd\\nCarnegie, PA 15106   \n",
       "16                1927 E Railroad St\\nCarnegie, PA 15106   \n",
       "17               1201 Washington Ave\\nCarnegie, PA 15106   \n",
       "18               1073 Washington Ave\\nCarnegie, PA 15106   \n",
       "19             202 3rd Ave\\nCarnegie\\nCarnegie, PA 15106   \n",
       "20     520 North Bell Avenue\\nCarnegie\\nCarnegie, PA ...   \n",
       "21           215 E Main St\\nCarnegie\\nCarnegie, PA 15106   \n",
       "22           231 E Main St\\nCarnegie\\nCarnegie, PA 15106   \n",
       "23          117 E Mall Plz\\nCarnegie\\nCarnegie, PA 15106   \n",
       "24                       Raceway Plz\\nCarnegie, PA 15106   \n",
       "25                 2323 Greentree Rd\\nCarnegie, PA 15106   \n",
       "26           214 E Main St\\nCarnegie\\nCarnegie, PA 15106   \n",
       "27              1747 E Railroad St\\nHeidelberg, PA 15106   \n",
       "28               2180 Greentree Rd\\nPittsburgh, PA 15220   \n",
       "29                   100 Roessler Rd\\nCarnegie, PA 15106   \n",
       "...                                                  ...   \n",
       "85866  Tempe Marketplace\\n2000 E Rio Salado Pkwy\\nTem...   \n",
       "85867  6040 W Badura Ave\\nSte 150\\nSpring Valley\\nLas...   \n",
       "85868  4720 West Sahara Ave\\nWestside\\nLas Vegas, NV ...   \n",
       "85869                           The Strip\\nLas Vegas, NV   \n",
       "85870             4075 S Arizona Ave\\nChandler, AZ 85248   \n",
       "85871               4775 Quality Ct\\nLas Vegas, NV 89103   \n",
       "85873             11485 N 136th St\\nScottsdale, AZ 85259   \n",
       "85874               718 N Central Ave\\nPhoenix, AZ 85004   \n",
       "85875  8680 W Warm Springs Rd\\nSte 13\\nSouthwest\\nLas...   \n",
       "85878     300 Stewart Ave\\nDowntown\\nLas Vegas, NV 89101   \n",
       "85879      1608 East Blvd\\nDilworth\\nCharlotte, NC 28203   \n",
       "85880  16495 N Scottsdale Rd\\nSte 105\\nScottsdale, AZ...   \n",
       "85881          5538 N 7th St\\nSte 110\\nPhoenix, AZ 85014   \n",
       "85882             3301 N Miller Rd\\nScottsdale, AZ 85251   \n",
       "85883  1200 South Fourth St\\nDowntown\\nLas Vegas, NV ...   \n",
       "85884                4910 East Ray Rd\\nPhoenix, AZ 85044   \n",
       "85885  4210 W Craig Rd\\nSte 100\\nNorth Las Vegas, NV ...   \n",
       "85886    7100 W Craig Rd\\nNorthwest\\nLas Vegas, NV 89129   \n",
       "85887                  1311 E Bell Rd\\nPhoenix, AZ 85022   \n",
       "85888                            Downtown\\nLas Vegas, NV   \n",
       "85889  4350 E Camelback Rd\\nBldg I-100\\nPhoenix, AZ 8...   \n",
       "85890      5020 W Baseline Rd\\nSte 123\\nLaveen, AZ 85339   \n",
       "85891  6770 North Sunrise Blvd\\nSte G109\\nGlendale, A...   \n",
       "85892  304 E Silverado Ranch Blvd\\nSoutheast\\nLas Veg...   \n",
       "85894                505 W Dunlap Ave\\nPhoenix, AZ 85021   \n",
       "85895  3377 S Las Vegas Blvd\\nSte 2020\\nThe Strip\\nLa...   \n",
       "85896  3899 East Sunset Rd\\nSte 105\\nLas Vegas, NV 89120   \n",
       "85897   525 N Estrella Pkwy\\nSte 100\\nGoodyear, AZ 85338   \n",
       "85898               9215 North 7th St\\nPhoenix, AZ 85020   \n",
       "85900  Charlotte Douglas International Airport Termin...   \n",
       "\n",
       "                                                   hours   latitude  \\\n",
       "0      {'Tuesday': {'open': '11:00', 'close': '21:00'...  40.354327   \n",
       "1                                                     {}  40.350553   \n",
       "2                                                     {}  40.354115   \n",
       "3      {'Tuesday': {'open': '10:00', 'close': '19:00'...  40.408830   \n",
       "4      {'Thursday': {'open': '11:00', 'close': '20:00...  40.403405   \n",
       "5      {'Monday': {'open': '11:00', 'close': '02:00'}...  40.415486   \n",
       "6      {'Monday': {'open': '07:30', 'close': '18:00'}...  40.394588   \n",
       "7                                                     {}  40.405404   \n",
       "8                                                     {}  40.406281   \n",
       "9                                                     {}  40.392207   \n",
       "10                                                    {}  40.406842   \n",
       "11                                                    {}  40.398353   \n",
       "12     {'Monday': {'open': '08:00', 'close': '02:00'}...  40.387512   \n",
       "13     {'Monday': {'open': '00:00', 'close': '00:00'}...  40.387512   \n",
       "14                                                    {}  40.409998   \n",
       "15                                                    {}  40.368825   \n",
       "16                                                    {}  40.388284   \n",
       "17     {'Monday': {'open': '11:00', 'close': '23:00'}...  40.396469   \n",
       "18     {'Monday': {'open': '06:00', 'close': '14:30'}...  40.398001   \n",
       "19     {'Monday': {'open': '07:00', 'close': '14:00'}...  40.404638   \n",
       "20     {'Monday': {'open': '00:00', 'close': '00:00'}...  40.417419   \n",
       "21                                                    {}  40.408670   \n",
       "22     {'Monday': {'open': '11:00', 'close': '22:00'}...  40.408832   \n",
       "23     {'Monday': {'open': '08:30', 'close': '19:00'}...  40.406871   \n",
       "24                                                    {}  40.386891   \n",
       "25                                                    {}  40.390760   \n",
       "26                                                    {}  40.408347   \n",
       "27     {'Monday': {'open': '09:00', 'close': '19:00'}...  40.390569   \n",
       "28     {'Monday': {'open': '00:00', 'close': '00:00'}...  40.391140   \n",
       "29     {'Monday': {'open': '05:30', 'close': '22:00'}...  40.394305   \n",
       "...                                                  ...        ...   \n",
       "85866                                                 {}  33.432927   \n",
       "85867  {'Monday': {'open': '11:00', 'close': '21:00'}...  36.062737   \n",
       "85868  {'Monday': {'open': '10:00', 'close': '20:00'}...  36.147556   \n",
       "85869  {'Monday': {'open': '00:00', 'close': '00:00'}...  36.133201   \n",
       "85870  {'Monday': {'open': '09:00', 'close': '00:00'}...  33.246349   \n",
       "85871  {'Monday': {'open': '05:00', 'close': '21:00'}...  36.105608   \n",
       "85873  {'Tuesday': {'open': '17:00', 'close': '22:00'...  33.590790   \n",
       "85874  {'Monday': {'open': '06:00', 'close': '00:00'}...  33.456388   \n",
       "85875  {'Monday': {'open': '08:00', 'close': '22:00'}...  36.056214   \n",
       "85878   {'Tuesday': {'open': '18:00', 'close': '20:00'}}  36.172815   \n",
       "85879                                                 {}  35.199185   \n",
       "85880  {'Monday': {'open': '11:00', 'close': '19:00'}...  33.635558   \n",
       "85881  {'Monday': {'open': '11:00', 'close': '22:00'}...  33.517942   \n",
       "85882  {'Monday': {'open': '13:00', 'close': '19:00'}...  33.486405   \n",
       "85883  {'Monday': {'open': '09:00', 'close': '00:00'}...  36.157447   \n",
       "85884  {'Monday': {'open': '10:00', 'close': '22:00'}...  33.320454   \n",
       "85885  {'Monday': {'open': '11:30', 'close': '22:00'}...  36.239686   \n",
       "85886  {'Monday': {'open': '07:00', 'close': '22:00'}...  36.240983   \n",
       "85887  {'Monday': {'open': '09:00', 'close': '21:00'}...  33.639310   \n",
       "85888  {'Monday': {'open': '08:00', 'close': '20:00'}...  36.171909   \n",
       "85889  {'Monday': {'open': '07:00', 'close': '14:00'}...  33.510044   \n",
       "85890  {'Monday': {'open': '07:00', 'close': '23:00'}...  33.378922   \n",
       "85891                                                 {}  33.532930   \n",
       "85892  {'Monday': {'open': '09:00', 'close': '18:00'}...  36.014080   \n",
       "85894                                                 {}  33.567251   \n",
       "85895  {'Monday': {'open': '10:00', 'close': '23:00'}...  36.121243   \n",
       "85896  {'Tuesday': {'open': '10:00', 'close': '18:00'...  36.070535   \n",
       "85897                                                 {}  33.452205   \n",
       "85898  {'Monday': {'open': '07:00', 'close': '18:00'}...  33.570417   \n",
       "85900                                                 {}  35.224223   \n",
       "\n",
       "        longitude                                            name  \\\n",
       "0      -79.900706                                       Mr Hoagie   \n",
       "1      -79.886814                                    Clancy's Pub   \n",
       "2      -80.014660                        Cool Springs Golf Center   \n",
       "3      -79.866211                                   Emil's Lounge   \n",
       "4      -79.855782                            Grand View Golf Club   \n",
       "5      -80.067549                           Alexion's Bar & Grill   \n",
       "6      -80.084454                     Flynn's Tire & Auto Service   \n",
       "7      -80.076267                Forsythe Miniature Golf & Snacks   \n",
       "8      -80.090390                       Quaker State Construction   \n",
       "9      -80.069134                         Greentree Animal Clinic   \n",
       "10     -80.085866                           Carnegie Free Library   \n",
       "11     -80.082452                              Advance Auto Parts   \n",
       "12     -80.093215                         Kings Family Restaurant   \n",
       "13     -80.093215                                    Shop N' Save   \n",
       "14     -80.083366                          Knorr's Sunoco Service   \n",
       "15     -80.084354                      Rossi Tailoring & Cleaners   \n",
       "16     -80.089241                                  Heidelberg B P   \n",
       "17     -80.084942                                  Rocky's Lounge   \n",
       "18     -80.083458                                       Gab & Eat   \n",
       "19     -80.089985                    Barb's Country Junction Cafe   \n",
       "20     -80.088557   Extended Stay America - Pittsburgh - Carnegie   \n",
       "21     -80.085279                              Paddy's Pour House   \n",
       "22     -80.084934                      Porto Fino Pizzaria & Gyro   \n",
       "23     -80.087605                                Alteration World   \n",
       "24     -80.093704                              Long John Silver's   \n",
       "25     -80.078657                              Weinberg Lisa, DMD   \n",
       "26     -80.084962                      Don Don Chinese Restaurant   \n",
       "27     -80.087898                       Chartiers Animal Hospital   \n",
       "28     -80.073788                                         Denny's   \n",
       "29     -80.060154                                        Amerifit   \n",
       "...           ...                                             ...   \n",
       "85866 -111.905575                                    Panera Bread   \n",
       "85867 -115.223679                            Soho Sushi Bowlrrito   \n",
       "85868 -115.207116                           DYP Dance And Fitness   \n",
       "85869 -115.164227             Chris Cowette - Vegas Club Promoter   \n",
       "85870 -111.840639                                  Raising Cane's   \n",
       "85871 -115.205611                              Kanoa Strength Gym   \n",
       "85873 -111.786674                         CM2 Pizzeria & Bakeshop   \n",
       "85874 -112.074092                The Grand Central Coffee Company   \n",
       "85875 -115.281151                               Sexy3D Extensions   \n",
       "85878 -115.141243                  YEE: \"Greed\" at The Mob Museum   \n",
       "85879  -80.841449                 YEE: An Evening With Kid Cashew   \n",
       "85880 -111.921071                               The Chicken Scoop   \n",
       "85881 -112.065448                               Pure Sushi Colony   \n",
       "85882 -111.917149                                   Skin Awakened   \n",
       "85883 -115.150340  Brad Winston, CPA/Realtor-King of Condos, Inc.   \n",
       "85884 -111.977342                                        Pita Pit   \n",
       "85885 -115.196967                            Tokyo Sushi House II   \n",
       "85886 -115.249473                          Kneaders Bakery & Cafe   \n",
       "85887 -112.054317                                Frys Marketplace   \n",
       "85888 -115.139969                          Photobetty Photography   \n",
       "85889 -111.987108                                        Chestnut   \n",
       "85890 -112.166458                         Greathouse Sports Grill   \n",
       "85891 -112.260691                                       Bar Louie   \n",
       "85892 -115.159018                                Lyric Apartments   \n",
       "85894 -112.081407                              Aries Unisex Salon   \n",
       "85895 -115.171349                                Citta Delle Luci   \n",
       "85896 -115.089318                                  Bowties Bridal   \n",
       "85897 -112.392009                                      Senor Taco   \n",
       "85898 -112.064854                            Cobblestone Auto Spa   \n",
       "85900  -80.940290                             Salsarita's Express   \n",
       "\n",
       "                    neighborhoods   open  review_count  stars state      type  \n",
       "0                              []   True             7    3.5    PA  business  \n",
       "1                              []   True             5    3.0    PA  business  \n",
       "2                              []  False             5    2.5    PA  business  \n",
       "3                              []   True            26    4.5    PA  business  \n",
       "4                              []   True             3    5.0    PA  business  \n",
       "5                     [Greentree]   True            23    4.0    PA  business  \n",
       "6                              []   True             9    2.5    PA  business  \n",
       "7                      [Carnegie]  False             4    4.0    PA  business  \n",
       "8                      [Carnegie]   True             3    2.5    PA  business  \n",
       "9                              []   True             7    4.0    PA  business  \n",
       "10                     [Carnegie]   True             4    4.5    PA  business  \n",
       "11                             []   True             3    3.5    PA  business  \n",
       "12                             []   True            10    3.5    PA  business  \n",
       "13                             []   True             5    4.0    PA  business  \n",
       "14                     [Carnegie]   True             3    3.5    PA  business  \n",
       "15                             []   True             3    3.0    PA  business  \n",
       "16                             []  False             4    3.0    PA  business  \n",
       "17                             []   True            10    4.0    PA  business  \n",
       "18                             []   True            69    4.5    PA  business  \n",
       "19                     [Carnegie]   True             9    4.0    PA  business  \n",
       "20                     [Carnegie]   True            11    3.5    PA  business  \n",
       "21                     [Carnegie]  False             8    3.5    PA  business  \n",
       "22                     [Carnegie]   True             4    2.5    PA  business  \n",
       "23                     [Carnegie]   True            10    4.5    PA  business  \n",
       "24                             []   True             6    3.0    PA  business  \n",
       "25                             []   True             8    2.5    PA  business  \n",
       "26                     [Carnegie]   True            10    2.5    PA  business  \n",
       "27                             []   True             3    3.5    PA  business  \n",
       "28                             []   True            16    3.5    PA  business  \n",
       "29                             []   True             8    3.0    PA  business  \n",
       "...                           ...    ...           ...    ...   ...       ...  \n",
       "85866                          []   True             9    2.5    AZ  business  \n",
       "85867             [Spring Valley]   True            27    4.5    NV  business  \n",
       "85868                  [Westside]   True             7    5.0    NV  business  \n",
       "85869                 [The Strip]   True             6    5.0    NV  business  \n",
       "85870                          []   True            13    4.0    AZ  business  \n",
       "85871                          []   True             5    5.0    NV  business  \n",
       "85873                          []   True             6    5.0    AZ  business  \n",
       "85874                          []   True            16    4.0    AZ  business  \n",
       "85875  [Southwest, Spring Valley]   True             7    5.0    NV  business  \n",
       "85878                  [Downtown]   True             8    5.0    NV  business  \n",
       "85879                  [Dilworth]   True            32    5.0    NC  business  \n",
       "85880                          []   True            23    4.0    AZ  business  \n",
       "85881                          []   True            18    4.0    AZ  business  \n",
       "85882                          []   True             3    5.0    AZ  business  \n",
       "85883                  [Downtown]   True             4    5.0    NV  business  \n",
       "85884                          []   True             5    5.0    AZ  business  \n",
       "85885                          []   True            15    3.0    NV  business  \n",
       "85886                 [Northwest]   True            24    3.5    NV  business  \n",
       "85887                          []   True            21    2.5    AZ  business  \n",
       "85888                  [Downtown]   True             3    5.0    NV  business  \n",
       "85889                          []   True           168    3.5    AZ  business  \n",
       "85890                          []   True             4    2.0    AZ  business  \n",
       "85891                          []  False            18    2.5    AZ  business  \n",
       "85892                 [Southeast]   True             5    2.0    NV  business  \n",
       "85894                          []   True             4    5.0    AZ  business  \n",
       "85895                 [The Strip]   True             3    3.0    NV  business  \n",
       "85896                          []   True            61    4.0    NV  business  \n",
       "85897                          []   True            89    3.5    AZ  business  \n",
       "85898                          []   True             7    3.0    AZ  business  \n",
       "85900                          []   True            57    2.5    NC  business  \n",
       "\n",
       "[72145 rows x 15 columns]"
      ]
     },
     "execution_count": 755,
     "metadata": {},
     "output_type": "execute_result"
    }
   ],
   "source": [
    "business_state[(abs(business_state.latitude) < (business_state.latitude[0] + 1))]"
   ]
  },
  {
   "cell_type": "code",
   "execution_count": null,
   "metadata": {
    "ExecuteTime": {
     "start_time": "2017-01-16T22:56:14.999Z"
    },
    "collapsed": true,
    "nbpresent": {
     "id": "86065e35-84a1-4422-9262-9297c893b8ed"
    },
    "run_control": {
     "frozen": false,
     "read_only": false
    }
   },
   "outputs": [],
   "source": [
    "len(nearby)"
   ]
  },
  {
   "cell_type": "code",
   "execution_count": null,
   "metadata": {
    "collapsed": true,
    "nbpresent": {
     "id": "c958721d-dc6a-4df4-8add-71cd3672c177"
    },
    "run_control": {
     "frozen": false,
     "read_only": false
    }
   },
   "outputs": [],
   "source": [
    "import pickle\n",
    "# save the nearby dictionary as it take a long time to build\n",
    "with open('nearby_businesses_dict.pickle', 'wb') as handle:\n",
    "    pickle.dump(nearby, handle, protocol=pickle.HIGHEST_PROTOCOL)\n",
    "# To load the dictionary un-comment the following:___\n",
    "# with open('nearby_businesses_dict.pickle', 'rb') as handle:\n",
    "#     b = pickle.load(handle)"
   ]
  },
  {
   "cell_type": "code",
   "execution_count": null,
   "metadata": {
    "collapsed": true,
    "nbpresent": {
     "id": "af9dff89-7757-4094-9fb5-28accee7b4e2"
    },
    "run_control": {
     "frozen": false,
     "read_only": false
    }
   },
   "outputs": [],
   "source": []
  },
  {
   "cell_type": "code",
   "execution_count": 534,
   "metadata": {
    "ExecuteTime": {
     "end_time": "2017-01-16T14:08:06.290253",
     "start_time": "2017-01-16T14:04:21.928476"
    },
    "collapsed": false,
    "nbpresent": {
     "id": "011c8ad0-9450-41bb-b79b-85bc2efbb672"
    },
    "run_control": {
     "frozen": false,
     "read_only": false
    }
   },
   "outputs": [],
   "source": [
    "# nearby ={}\n",
    "# max_nearbies = 0\n",
    "# business_groups = business_state.groupby('state')\n",
    "# for group in business_groups:\n",
    "    \n",
    "    \n",
    "    \n",
    "# for i in range(0, len(business)):\n",
    "#     nearby[business.business_id.iloc[i]]=[]\n",
    "#     c = 0\n",
    "#     for j in range(0, len(business)):\n",
    "#         if i==j: continue\n",
    "#         distance = vincenty(tuple(business.iloc[i][['latitude','longitude']]), tuple(business.iloc[j][['latitude','longitude']])).km\n",
    "#         if distance < 30:\n",
    "#             c += 1\n",
    "#             nearby[business.business_id.iloc[i]].extend([business.business_id.iloc[j]])        \n",
    "#     if c > max_nearbies:\n",
    "#         max_nearbies = c"
   ]
  },
  {
   "cell_type": "code",
   "execution_count": null,
   "metadata": {
    "collapsed": true,
    "nbpresent": {
     "id": "ed6c67d3-39b3-4223-a9fb-4def19bf2a69"
    },
    "run_control": {
     "frozen": false,
     "read_only": false
    }
   },
   "outputs": [],
   "source": []
  },
  {
   "cell_type": "code",
   "execution_count": null,
   "metadata": {
    "collapsed": true,
    "nbpresent": {
     "id": "6e27fe5f-44cc-41aa-9122-fdf57f560b67"
    },
    "run_control": {
     "frozen": false,
     "read_only": false
    }
   },
   "outputs": [],
   "source": []
  },
  {
   "cell_type": "code",
   "execution_count": null,
   "metadata": {
    "collapsed": true,
    "nbpresent": {
     "id": "49ec5ae5-aa4b-4462-8003-b49dde3ccc17"
    },
    "run_control": {
     "frozen": false,
     "read_only": false
    }
   },
   "outputs": [],
   "source": []
  },
  {
   "cell_type": "code",
   "execution_count": null,
   "metadata": {
    "collapsed": true,
    "nbpresent": {
     "id": "e0452aa1-48de-4080-bcb7-27848c159b88"
    },
    "run_control": {
     "frozen": false,
     "read_only": false
    }
   },
   "outputs": [],
   "source": []
  },
  {
   "cell_type": "code",
   "execution_count": null,
   "metadata": {
    "collapsed": true,
    "nbpresent": {
     "id": "e395b5c6-7a74-4853-a039-22b430d795ff"
    },
    "run_control": {
     "frozen": false,
     "read_only": false
    }
   },
   "outputs": [],
   "source": []
  },
  {
   "cell_type": "code",
   "execution_count": null,
   "metadata": {
    "collapsed": true,
    "nbpresent": {
     "id": "505bc7e2-04ee-468e-bcfe-64893c53247b"
    },
    "run_control": {
     "frozen": false,
     "read_only": false
    }
   },
   "outputs": [],
   "source": []
  },
  {
   "cell_type": "code",
   "execution_count": null,
   "metadata": {
    "collapsed": true,
    "nbpresent": {
     "id": "cc36359e-00fa-4831-8808-169e108cd21f"
    },
    "run_control": {
     "frozen": false,
     "read_only": false
    }
   },
   "outputs": [],
   "source": []
  },
  {
   "cell_type": "code",
   "execution_count": null,
   "metadata": {
    "collapsed": true,
    "nbpresent": {
     "id": "031a68b7-7734-41a0-aacb-162e948019aa"
    },
    "run_control": {
     "frozen": false,
     "read_only": false
    }
   },
   "outputs": [],
   "source": []
  },
  {
   "cell_type": "code",
   "execution_count": null,
   "metadata": {
    "collapsed": true,
    "nbpresent": {
     "id": "6d00d214-e08d-4ae2-a34f-0b491192fa6b"
    },
    "run_control": {
     "frozen": false,
     "read_only": false
    }
   },
   "outputs": [],
   "source": []
  },
  {
   "cell_type": "code",
   "execution_count": 170,
   "metadata": {
    "ExecuteTime": {
     "end_time": "2017-01-17T03:58:24.816850",
     "start_time": "2017-01-17T03:58:24.811826"
    },
    "collapsed": false,
    "nbpresent": {
     "id": "3f4d13a9-1646-4049-b96c-b4c336565e4a"
    },
    "run_control": {
     "frozen": false,
     "read_only": false
    }
   },
   "outputs": [
    {
     "data": {
      "text/plain": [
       "'0.19.2'"
      ]
     },
     "execution_count": 170,
     "metadata": {},
     "output_type": "execute_result"
    }
   ],
   "source": [
    "pd.__version__"
   ]
  },
  {
   "cell_type": "code",
   "execution_count": null,
   "metadata": {
    "collapsed": true,
    "nbpresent": {
     "id": "2236c6cc-08e4-4faf-a79f-0ab40ffa1036"
    },
    "run_control": {
     "frozen": false,
     "read_only": false
    }
   },
   "outputs": [],
   "source": []
  }
 ],
 "metadata": {
  "anaconda-cloud": {},
  "celltoolbar": "Raw Cell Format",
  "kernelspec": {
   "display_name": "Python [conda root]",
   "language": "python",
   "name": "conda-root-py"
  },
  "language_info": {
   "codemirror_mode": {
    "name": "ipython",
    "version": 3
   },
   "file_extension": ".py",
   "mimetype": "text/x-python",
   "name": "python",
   "nbconvert_exporter": "python",
   "pygments_lexer": "ipython3",
   "version": "3.5.2"
  },
  "nbpresent": {
   "slides": {
    "44a7b797-e8ec-4ff1-a241-09b680ce442c": {
     "id": "44a7b797-e8ec-4ff1-a241-09b680ce442c",
     "prev": null,
     "regions": {
      "942895c2-5d21-478b-915f-532c3df32b70": {
       "attrs": {
        "height": 0.8,
        "width": 0.45,
        "x": 0.5,
        "y": 0.1
       },
       "id": "942895c2-5d21-478b-915f-532c3df32b70"
      },
      "d705ec05-9a89-40a4-84a3-429e28e36ce4": {
       "attrs": {
        "height": 0.8,
        "width": 0.45,
        "x": 0.05,
        "y": 0.1
       },
       "id": "d705ec05-9a89-40a4-84a3-429e28e36ce4"
      }
     }
    }
   },
   "themes": {}
  },
  "toc": {
   "colors": {
    "hover_highlight": "#DAA520",
    "running_highlight": "#FF0000",
    "selected_highlight": "#FFD700"
   },
   "moveMenuLeft": true,
   "nav_menu": {
    "height": "177px",
    "width": "252px"
   },
   "navigate_menu": true,
   "number_sections": true,
   "sideBar": false,
   "threshold": 4,
   "toc_cell": false,
   "toc_position": {
    "height": "333px",
    "left": "658px",
    "right": "278px",
    "top": "237px",
    "width": "600px"
   },
   "toc_section_display": "block",
   "toc_window_display": false
  }
 },
 "nbformat": 4,
 "nbformat_minor": 1
}
