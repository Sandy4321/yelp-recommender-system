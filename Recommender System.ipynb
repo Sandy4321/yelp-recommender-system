{
 "cells": [
  {
   "cell_type": "markdown",
   "metadata": {
    "nbpresent": {
     "id": "b9298927-8339-493e-a961-d6738f2a24d9"
    },
    "run_control": {
     "frozen": false,
     "read_only": false
    }
   },
   "source": [
    "# Using Pandas read_json function:"
   ]
  },
  {
   "cell_type": "code",
   "execution_count": 1,
   "metadata": {
    "ExecuteTime": {
     "end_time": "2017-01-31T12:45:27.606479",
     "start_time": "2017-01-31T12:45:26.338690"
    },
    "collapsed": true,
    "nbpresent": {
     "id": "7d1823d2-e566-42f2-8cd7-189b930a466e"
    },
    "run_control": {
     "frozen": false,
     "read_only": false
    }
   },
   "outputs": [],
   "source": [
    "import pandas as pd\n",
    "import numpy as np\n",
    "from scipy.optimize import minimize"
   ]
  },
  {
   "cell_type": "code",
   "execution_count": 3,
   "metadata": {
    "ExecuteTime": {
     "end_time": "2017-01-31T12:48:07.640514",
     "start_time": "2017-01-31T12:46:28.074128"
    },
    "collapsed": false,
    "nbpresent": {
     "id": "9218107c-758c-4804-b329-5b24878a7ca7"
    },
    "run_control": {
     "frozen": false,
     "read_only": false
    }
   },
   "outputs": [],
   "source": [
    "with open('yelp_dataset/yelp_academic_dataset_review.json') as file:\n",
    "        review = pd.read_json(file, lines = True)\n",
    "\n",
    "with open('yelp_dataset/yelp_academic_dataset_business.json') as file:\n",
    "        business = pd.read_json(file, lines = True)\n",
    "\n",
    "with open('yelp_dataset/yelp_academic_dataset_user.json') as file:\n",
    "        user = pd.read_json(file, lines = True)"
   ]
  },
  {
   "cell_type": "code",
   "execution_count": 7,
   "metadata": {
    "ExecuteTime": {
     "end_time": "2017-01-30T12:00:06.639388",
     "start_time": "2017-01-30T12:00:06.636332"
    },
    "collapsed": true,
    "nbpresent": {
     "id": "f5efde52-8126-4f63-b5bd-bfda847d36a0"
    },
    "run_control": {
     "frozen": false,
     "read_only": false
    }
   },
   "outputs": [],
   "source": [
    "# with open('yelp_dataset/yelp_academic_dataset_tip.json') as file:\n",
    "#         tip = pd.read_json(file, lines = True)\n",
    "\n",
    "# with open('yelp_dataset/yelp_academic_dataset_checkin.json') as file:\n",
    "#         checkin = pd.read_json(file, lines = True)\n",
    "\n",
    "# dfs = ['tip', 'review', 'business', 'checkin', 'user']"
   ]
  },
  {
   "cell_type": "markdown",
   "metadata": {
    "nbpresent": {
     "id": "d4dd6ee2-19e8-4620-b413-e6aea6c5e295"
    },
    "run_control": {
     "frozen": false,
     "read_only": true
    }
   },
   "source": [
    "tip:  ['business_id' 'date' 'likes' 'text' 'type' 'user_id']\n",
    "review:  ['business_id' 'date' 'review_id' 'stars' 'text' 'type' 'user_id' 'votes']\n",
    "business:  ['attributes' 'business_id' 'categories' 'city' 'full_address' 'hours'\n",
    " 'latitude' 'longitude' 'name' 'neighborhoods' 'open' 'review_count'\n",
    " 'stars' 'state' 'type']\n",
    "checkin:  ['business_id' 'checkin_info' 'type']\n",
    "user:  ['average_stars' 'compliments' 'elite' 'fans' 'friends' 'name'\n",
    " 'review_count' 'type' 'user_id' 'votes' 'yelping_since']"
   ]
  },
  {
   "cell_type": "markdown",
   "metadata": {
    "ExecuteTime": {
     "end_time": "2017-01-16T10:51:16.522572",
     "start_time": "2017-01-16T10:51:16.519063"
    },
    "nbpresent": {
     "id": "20af1a3d-9b4a-4968-8303-4e8c81e30581"
    },
    "run_control": {
     "frozen": false,
     "read_only": false
    }
   },
   "source": [
    "# Building a recommender system\n",
    "First, get the relevant data: user-business stars... create matrices Y, R\n",
    "\n",
    "** Y ** that contains #business as rows, #user as columns, values = stars\n",
    "\n",
    "** R ** same size as Y, values = 1 if a user has rated a business **\n",
    "\n"
   ]
  },
  {
   "cell_type": "markdown",
   "metadata": {
    "ExecuteTime": {
     "end_time": "2017-01-16T11:37:05.223228",
     "start_time": "2017-01-16T11:37:05.219214"
    },
    "collapsed": true,
    "nbpresent": {
     "id": "a5a7565b-440a-4112-9058-6bb40c2c303c"
    },
    "run_control": {
     "frozen": false,
     "read_only": false
    }
   },
   "source": [
    "# Need to determine businesses and users to include in the model"
   ]
  },
  {
   "cell_type": "markdown",
   "metadata": {
    "run_control": {
     "frozen": false,
     "read_only": false
    }
   },
   "source": [
    "## Drop businesses and users with review counts less than 20"
   ]
  },
  {
   "cell_type": "code",
   "execution_count": 4,
   "metadata": {
    "ExecuteTime": {
     "end_time": "2017-01-31T12:48:27.586300",
     "start_time": "2017-01-31T12:48:27.019321"
    },
    "collapsed": false,
    "run_control": {
     "frozen": false,
     "read_only": false
    }
   },
   "outputs": [],
   "source": [
    "user = user[user.review_count > 20]"
   ]
  },
  {
   "cell_type": "code",
   "execution_count": 5,
   "metadata": {
    "ExecuteTime": {
     "end_time": "2017-01-31T12:48:28.426554",
     "start_time": "2017-01-31T12:48:28.415044"
    },
    "collapsed": false,
    "run_control": {
     "frozen": false,
     "read_only": false
    }
   },
   "outputs": [
    {
     "data": {
      "text/plain": [
       "(148994, 11)"
      ]
     },
     "execution_count": 5,
     "metadata": {},
     "output_type": "execute_result"
    }
   ],
   "source": [
    "user.shape"
   ]
  },
  {
   "cell_type": "code",
   "execution_count": 6,
   "metadata": {
    "ExecuteTime": {
     "end_time": "2017-01-31T12:48:29.089745",
     "start_time": "2017-01-31T12:48:29.084216"
    },
    "collapsed": false,
    "run_control": {
     "frozen": false,
     "read_only": false
    }
   },
   "outputs": [
    {
     "data": {
      "text/plain": [
       "(85901, 15)"
      ]
     },
     "execution_count": 6,
     "metadata": {},
     "output_type": "execute_result"
    }
   ],
   "source": [
    "business.shape"
   ]
  },
  {
   "cell_type": "code",
   "execution_count": 7,
   "metadata": {
    "ExecuteTime": {
     "end_time": "2017-01-31T12:48:30.216845",
     "start_time": "2017-01-31T12:48:30.038891"
    },
    "collapsed": true,
    "run_control": {
     "frozen": false,
     "read_only": false
    }
   },
   "outputs": [],
   "source": [
    "business = business[business.review_count > 20]"
   ]
  },
  {
   "cell_type": "code",
   "execution_count": 8,
   "metadata": {
    "ExecuteTime": {
     "end_time": "2017-01-31T12:48:30.811147",
     "start_time": "2017-01-31T12:48:30.806157"
    },
    "collapsed": false,
    "run_control": {
     "frozen": false,
     "read_only": false
    }
   },
   "outputs": [
    {
     "data": {
      "text/plain": [
       "(25680, 15)"
      ]
     },
     "execution_count": 8,
     "metadata": {},
     "output_type": "execute_result"
    }
   ],
   "source": [
    "business.shape"
   ]
  },
  {
   "cell_type": "code",
   "execution_count": 9,
   "metadata": {
    "ExecuteTime": {
     "end_time": "2017-01-31T12:48:48.790997",
     "start_time": "2017-01-31T12:48:48.774982"
    },
    "collapsed": false,
    "run_control": {
     "frozen": false,
     "read_only": false
    }
   },
   "outputs": [
    {
     "data": {
      "text/plain": [
       "state\n",
       "AZ     10754\n",
       "BW       133\n",
       "CA         3\n",
       "EDH      525\n",
       "FIF        1\n",
       "IL       253\n",
       "MLN       15\n",
       "NC      1897\n",
       "NV      8645\n",
       "ON        85\n",
       "PA      1315\n",
       "QC      1125\n",
       "RP         1\n",
       "SC        68\n",
       "TX         1\n",
       "WI       858\n",
       "XGL        1\n",
       "dtype: int64"
      ]
     },
     "execution_count": 9,
     "metadata": {},
     "output_type": "execute_result"
    }
   ],
   "source": [
    "business.groupby('state').size()"
   ]
  },
  {
   "cell_type": "markdown",
   "metadata": {
    "run_control": {
     "frozen": false,
     "read_only": false
    }
   },
   "source": [
    "## Drop states with less than 20 businesses (recommend within state if #>20)"
   ]
  },
  {
   "cell_type": "code",
   "execution_count": 10,
   "metadata": {
    "ExecuteTime": {
     "end_time": "2017-01-31T12:48:50.515049",
     "start_time": "2017-01-31T12:48:50.456395"
    },
    "collapsed": false,
    "run_control": {
     "frozen": false,
     "read_only": false
    }
   },
   "outputs": [],
   "source": [
    "business = business.groupby('state').filter(lambda r: len(r) > 20)"
   ]
  },
  {
   "cell_type": "code",
   "execution_count": 11,
   "metadata": {
    "ExecuteTime": {
     "end_time": "2017-01-31T12:48:53.739157",
     "start_time": "2017-01-31T12:48:53.727125"
    },
    "collapsed": false,
    "run_control": {
     "frozen": false,
     "read_only": false
    }
   },
   "outputs": [
    {
     "data": {
      "text/plain": [
       "state\n",
       "AZ     10754\n",
       "BW       133\n",
       "EDH      525\n",
       "IL       253\n",
       "NC      1897\n",
       "NV      8645\n",
       "ON        85\n",
       "PA      1315\n",
       "QC      1125\n",
       "SC        68\n",
       "WI       858\n",
       "dtype: int64"
      ]
     },
     "execution_count": 11,
     "metadata": {},
     "output_type": "execute_result"
    }
   ],
   "source": [
    "business.groupby('state').size()"
   ]
  },
  {
   "cell_type": "code",
   "execution_count": 12,
   "metadata": {
    "ExecuteTime": {
     "end_time": "2017-01-31T12:48:57.244118",
     "start_time": "2017-01-31T12:48:57.238624"
    },
    "collapsed": false,
    "run_control": {
     "frozen": false,
     "read_only": false
    }
   },
   "outputs": [
    {
     "data": {
      "text/plain": [
       "(25658, 15)"
      ]
     },
     "execution_count": 12,
     "metadata": {},
     "output_type": "execute_result"
    }
   ],
   "source": [
    "business.shape"
   ]
  },
  {
   "cell_type": "markdown",
   "metadata": {
    "ExecuteTime": {
     "end_time": "2017-01-16T11:47:59.941636",
     "start_time": "2017-01-16T11:47:59.938127"
    },
    "collapsed": true,
    "nbpresent": {
     "id": "c749e340-fbf1-4c2d-b4c2-3e196960d547"
    },
    "run_control": {
     "frozen": false,
     "read_only": false
    }
   },
   "source": [
    "## Merge review+business+user"
   ]
  },
  {
   "cell_type": "code",
   "execution_count": 13,
   "metadata": {
    "ExecuteTime": {
     "end_time": "2017-01-31T12:49:06.033505",
     "start_time": "2017-01-31T12:49:00.279753"
    },
    "collapsed": true,
    "run_control": {
     "frozen": false,
     "read_only": false
    }
   },
   "outputs": [],
   "source": [
    "rev_biz_usr = pd.merge(pd.merge(review, business, on='business_id'), user, on='user_id')"
   ]
  },
  {
   "cell_type": "code",
   "execution_count": 14,
   "metadata": {
    "ExecuteTime": {
     "end_time": "2017-01-31T12:49:06.852496",
     "start_time": "2017-01-31T12:49:06.847483"
    },
    "collapsed": false,
    "run_control": {
     "frozen": false,
     "read_only": false
    }
   },
   "outputs": [
    {
     "data": {
      "text/plain": [
       "(1251142, 32)"
      ]
     },
     "execution_count": 14,
     "metadata": {},
     "output_type": "execute_result"
    }
   ],
   "source": [
    "rev_biz_usr.shape"
   ]
  },
  {
   "cell_type": "markdown",
   "metadata": {
    "run_control": {
     "frozen": false,
     "read_only": false
    }
   },
   "source": [
    "### Remove not needed columns from the dataframe, to reduce memory use:"
   ]
  },
  {
   "cell_type": "code",
   "execution_count": 15,
   "metadata": {
    "ExecuteTime": {
     "end_time": "2017-01-31T12:49:07.987366",
     "start_time": "2017-01-31T12:49:07.983351"
    },
    "collapsed": false,
    "nbpresent": {
     "id": "5df73afa-8def-4186-b57c-8a453aa25899"
    },
    "run_control": {
     "frozen": false,
     "read_only": false
    }
   },
   "outputs": [],
   "source": [
    "col_drop = rev_biz_usr.columns.difference(['business_id', 'user_id', 'stars_x'])"
   ]
  },
  {
   "cell_type": "code",
   "execution_count": 16,
   "metadata": {
    "ExecuteTime": {
     "end_time": "2017-01-31T12:49:11.440711",
     "start_time": "2017-01-31T12:49:09.446601"
    },
    "collapsed": false,
    "nbpresent": {
     "id": "a969e096-2df4-4c2e-a812-c7e75d751c23"
    },
    "run_control": {
     "frozen": false,
     "read_only": false
    }
   },
   "outputs": [],
   "source": [
    "rev_biz_usr.drop(col_drop, axis=1, inplace=True)"
   ]
  },
  {
   "cell_type": "code",
   "execution_count": 17,
   "metadata": {
    "ExecuteTime": {
     "end_time": "2017-01-31T12:49:11.447730",
     "start_time": "2017-01-31T12:49:11.442717"
    },
    "collapsed": false,
    "run_control": {
     "frozen": false,
     "read_only": false
    }
   },
   "outputs": [
    {
     "data": {
      "text/plain": [
       "(1251142, 3)"
      ]
     },
     "execution_count": 17,
     "metadata": {},
     "output_type": "execute_result"
    }
   ],
   "source": [
    "rev_biz_usr.shape"
   ]
  },
  {
   "cell_type": "markdown",
   "metadata": {
    "run_control": {
     "frozen": false,
     "read_only": false
    }
   },
   "source": [
    "### drop users and businesses with less than 20 reviews in the review dataframe  \n",
    "**RUN multiple times until steady state**"
   ]
  },
  {
   "cell_type": "code",
   "execution_count": 18,
   "metadata": {
    "ExecuteTime": {
     "end_time": "2017-01-31T12:49:24.089616",
     "start_time": "2017-01-31T12:49:24.086096"
    },
    "collapsed": false,
    "run_control": {
     "frozen": false,
     "read_only": false
    }
   },
   "outputs": [],
   "source": [
    "#rev_biz_usr.groupby('user_id').size().reset_index(name='count').sort_values(by='count', ascending=True)"
   ]
  },
  {
   "cell_type": "code",
   "execution_count": 19,
   "metadata": {
    "ExecuteTime": {
     "end_time": "2017-01-31T12:50:08.400645",
     "start_time": "2017-01-31T12:49:29.446615"
    },
    "collapsed": false,
    "run_control": {
     "frozen": false,
     "read_only": false
    }
   },
   "outputs": [
    {
     "data": {
      "text/plain": [
       "(487156, 3)"
      ]
     },
     "execution_count": 19,
     "metadata": {},
     "output_type": "execute_result"
    }
   ],
   "source": [
    "for _ in range(8):\n",
    "    rev_biz_usr = rev_biz_usr.groupby('business_id').filter(lambda r: len(r) >= 20)\n",
    "    \n",
    "    rev_biz_usr = rev_biz_usr.groupby('user_id').filter(lambda r: len(r) >= 20)\n",
    "    \n",
    "\n",
    "rev_biz_usr.shape # (487156, 32)"
   ]
  },
  {
   "cell_type": "markdown",
   "metadata": {
    "run_control": {
     "frozen": false,
     "read_only": false
    }
   },
   "source": [
    "### Convert dtype of stars to int32 instead of int64 (since their values are from 1-5), also to reduce memory use:"
   ]
  },
  {
   "cell_type": "code",
   "execution_count": 20,
   "metadata": {
    "ExecuteTime": {
     "end_time": "2017-01-31T12:50:15.356429",
     "start_time": "2017-01-31T12:50:15.349901"
    },
    "collapsed": true,
    "run_control": {
     "frozen": false,
     "read_only": false
    }
   },
   "outputs": [],
   "source": [
    "rev_biz_usr.stars_x = rev_biz_usr.stars_x.astype(int)"
   ]
  },
  {
   "cell_type": "markdown",
   "metadata": {
    "run_control": {
     "frozen": false,
     "read_only": false
    }
   },
   "source": [
    "## Pivoting the table needed for the recommender system algorithm"
   ]
  },
  {
   "cell_type": "markdown",
   "metadata": {
    "nbpresent": {
     "id": "a6e028c8-dede-4e9d-8d97-ffaccd1b973d"
    },
    "run_control": {
     "frozen": false,
     "read_only": false
    }
   },
   "source": [
    "#### Before filtering users and businesses, the following pivot table gave an error due to out of memory, not negagtive dimensions. However, after reducing dataset, the pivoted table fits in my laptop's 32GB memory (total code occupying nearly 8GB):\n",
    "memory needed before reducing the dataset, assuming 8 bytes per value is:\n",
    "686556 x 85539 x 8 / 1024 / 1024/ 1024 = 438 GB"
   ]
  },
  {
   "cell_type": "code",
   "execution_count": 21,
   "metadata": {
    "ExecuteTime": {
     "end_time": "2017-01-31T12:50:22.532313",
     "start_time": "2017-01-31T12:50:22.286183"
    },
    "collapsed": false,
    "run_control": {
     "frozen": false,
     "read_only": false
    }
   },
   "outputs": [
    {
     "data": {
      "text/plain": [
       "0.6321526765823364"
      ]
     },
     "execution_count": 21,
     "metadata": {},
     "output_type": "execute_result"
    }
   ],
   "source": [
    "# memory requirements for pivoting the table after reducing the dataset is still large ~ 27.5 GB\n",
    "# Now the table can fit in memory ~ 1.33 GB\n",
    "len(rev_biz_usr.business_id.unique()) * len(rev_biz_usr.user_id.unique()) * 8 / 1024/1024/1024"
   ]
  },
  {
   "cell_type": "code",
   "execution_count": 27,
   "metadata": {
    "ExecuteTime": {
     "end_time": "2017-01-30T12:02:06.553645",
     "start_time": "2017-01-30T12:02:06.546626"
    },
    "collapsed": false,
    "run_control": {
     "frozen": false,
     "read_only": false
    },
    "scrolled": true
   },
   "outputs": [
    {
     "data": {
      "text/plain": [
       "Index          3897248\n",
       "business_id    3897248\n",
       "stars_x        1948624\n",
       "user_id        3897248\n",
       "dtype: int64"
      ]
     },
     "execution_count": 27,
     "metadata": {},
     "output_type": "execute_result"
    }
   ],
   "source": [
    "rev_biz_usr.memory_usage()"
   ]
  },
  {
   "cell_type": "markdown",
   "metadata": {
    "run_control": {
     "frozen": false,
     "read_only": false
    }
   },
   "source": [
    "### Note that some users rated the same business multiple times, pivot table will save the average value, which is acceptable"
   ]
  },
  {
   "cell_type": "code",
   "execution_count": 28,
   "metadata": {
    "ExecuteTime": {
     "end_time": "2017-01-30T12:02:07.910428",
     "start_time": "2017-01-30T12:02:07.907423"
    },
    "collapsed": false,
    "run_control": {
     "frozen": false,
     "read_only": false
    },
    "scrolled": true
   },
   "outputs": [],
   "source": [
    "#ev_biz_usr[(rev_biz_usr.business_id == '-584fn2GxYe9sLsgN2WeQA') & (rev_biz_usr.user_id == 'qqtmFGhyyHc37coT4qJxaw')]"
   ]
  },
  {
   "cell_type": "code",
   "execution_count": 29,
   "metadata": {
    "ExecuteTime": {
     "end_time": "2017-01-30T12:02:08.133411",
     "start_time": "2017-01-30T12:02:08.130405"
    },
    "collapsed": false,
    "run_control": {
     "frozen": false,
     "read_only": false
    },
    "scrolled": true
   },
   "outputs": [],
   "source": [
    "#review[(review.business_id == '-584fn2GxYe9sLsgN2WeQA') & (review.user_id == 'qqtmFGhyyHc37coT4qJxaw')]"
   ]
  },
  {
   "cell_type": "markdown",
   "metadata": {
    "ExecuteTime": {
     "end_time": "2017-01-18T16:58:13.410448",
     "start_time": "2017-01-18T16:58:13.406438"
    },
    "run_control": {
     "frozen": false,
     "read_only": false
    }
   },
   "source": [
    "## The Y Matrix for the recommender system"
   ]
  },
  {
   "cell_type": "markdown",
   "metadata": {
    "run_control": {
     "frozen": false,
     "read_only": false
    }
   },
   "source": [
    "### Do not fill NaNs with zeros as zeros occupy more memory than NaNs, and the pivoting command will run out of memory."
   ]
  },
  {
   "cell_type": "code",
   "execution_count": 22,
   "metadata": {
    "ExecuteTime": {
     "end_time": "2017-01-31T12:50:33.568407",
     "start_time": "2017-01-31T12:50:31.750136"
    },
    "collapsed": false,
    "nbpresent": {
     "id": "f6b531f5-994c-4b30-a75e-5319c6dc0595"
    },
    "run_control": {
     "frozen": false,
     "read_only": false
    },
    "scrolled": true
   },
   "outputs": [],
   "source": [
    "Y = pd.pivot_table(rev_biz_usr, index='business_id', columns='user_id', values='stars_x')#, fill_value=0)"
   ]
  },
  {
   "cell_type": "code",
   "execution_count": 31,
   "metadata": {
    "ExecuteTime": {
     "end_time": "2017-01-30T12:02:11.771253",
     "start_time": "2017-01-30T12:02:11.760726"
    },
    "collapsed": false,
    "run_control": {
     "frozen": false,
     "read_only": false
    }
   },
   "outputs": [
    {
     "data": {
      "text/plain": [
       "4.666666666666667"
      ]
     },
     "execution_count": 31,
     "metadata": {},
     "output_type": "execute_result"
    }
   ],
   "source": [
    "Y.loc['-584fn2GxYe9sLsgN2WeQA', 'qqtmFGhyyHc37coT4qJxaw']"
   ]
  },
  {
   "cell_type": "code",
   "execution_count": 32,
   "metadata": {
    "ExecuteTime": {
     "end_time": "2017-01-30T12:02:13.416557",
     "start_time": "2017-01-30T12:02:13.411544"
    },
    "collapsed": false,
    "run_control": {
     "frozen": false,
     "read_only": false
    }
   },
   "outputs": [
    {
     "data": {
      "text/plain": [
       "(8208, 10337)"
      ]
     },
     "execution_count": 32,
     "metadata": {},
     "output_type": "execute_result"
    }
   ],
   "source": [
    "Y.shape # before dropna: (8208, 10337)"
   ]
  },
  {
   "cell_type": "code",
   "execution_count": 23,
   "metadata": {
    "ExecuteTime": {
     "end_time": "2017-01-31T12:50:41.172503",
     "start_time": "2017-01-31T12:50:40.630995"
    },
    "collapsed": false,
    "run_control": {
     "frozen": false,
     "read_only": false
    }
   },
   "outputs": [],
   "source": [
    "Y = Y.dropna(thresh=20, axis=1)"
   ]
  },
  {
   "cell_type": "code",
   "execution_count": 24,
   "metadata": {
    "ExecuteTime": {
     "end_time": "2017-01-31T12:50:44.580905",
     "start_time": "2017-01-31T12:50:44.574895"
    },
    "collapsed": false,
    "run_control": {
     "frozen": false,
     "read_only": false
    }
   },
   "outputs": [
    {
     "data": {
      "text/plain": [
       "(8208, 9773)"
      ]
     },
     "execution_count": 24,
     "metadata": {},
     "output_type": "execute_result"
    }
   ],
   "source": [
    "Y.shape"
   ]
  },
  {
   "cell_type": "code",
   "execution_count": 25,
   "metadata": {
    "ExecuteTime": {
     "end_time": "2017-01-31T12:50:47.432109",
     "start_time": "2017-01-31T12:50:46.934158"
    },
    "collapsed": false,
    "run_control": {
     "frozen": false,
     "read_only": false
    },
    "scrolled": true
   },
   "outputs": [],
   "source": [
    "Y = Y.dropna(thresh=20, axis=0)"
   ]
  },
  {
   "cell_type": "code",
   "execution_count": 26,
   "metadata": {
    "ExecuteTime": {
     "end_time": "2017-01-31T12:50:50.605167",
     "start_time": "2017-01-31T12:50:50.599151"
    },
    "collapsed": false,
    "run_control": {
     "frozen": false,
     "read_only": false
    }
   },
   "outputs": [
    {
     "data": {
      "text/plain": [
       "(7630, 9773)"
      ]
     },
     "execution_count": 26,
     "metadata": {},
     "output_type": "execute_result"
    }
   ],
   "source": [
    "Y.shape"
   ]
  },
  {
   "cell_type": "code",
   "execution_count": 31,
   "metadata": {
    "ExecuteTime": {
     "end_time": "2017-01-31T12:51:25.564553",
     "start_time": "2017-01-31T12:51:16.526278"
    },
    "collapsed": false,
    "run_control": {
     "frozen": false,
     "read_only": false
    }
   },
   "outputs": [
    {
     "data": {
      "text/plain": [
       "(7360, 9234)"
      ]
     },
     "execution_count": 31,
     "metadata": {},
     "output_type": "execute_result"
    }
   ],
   "source": [
    "# REPEAT A FEW TIME UNTIL WE GET A STABLE SHAPE of (7360, 9234)\n",
    "for _ in range(10):\n",
    "    Y = Y.dropna(thresh=20, axis=1)\n",
    "    Y = Y.dropna(thresh=20, axis=0)\n",
    "Y.shape"
   ]
  },
  {
   "cell_type": "code",
   "execution_count": 27,
   "metadata": {
    "ExecuteTime": {
     "end_time": "2017-01-31T12:50:58.283301",
     "start_time": "2017-01-31T12:50:58.279793"
    },
    "collapsed": false,
    "run_control": {
     "frozen": false,
     "read_only": false
    }
   },
   "outputs": [],
   "source": [
    "#Y.drop(Y.columns[Y.count(axis=0) < 20], axis=1)"
   ]
  },
  {
   "cell_type": "code",
   "execution_count": 28,
   "metadata": {
    "ExecuteTime": {
     "end_time": "2017-01-31T12:50:58.578163",
     "start_time": "2017-01-31T12:50:58.574654"
    },
    "collapsed": false,
    "run_control": {
     "frozen": false,
     "read_only": false
    },
    "scrolled": true
   },
   "outputs": [],
   "source": [
    "#Y.columns[Y.count(axis=0) < 20]"
   ]
  },
  {
   "cell_type": "code",
   "execution_count": 32,
   "metadata": {
    "ExecuteTime": {
     "end_time": "2017-01-31T12:51:35.165455",
     "start_time": "2017-01-31T12:51:34.983471"
    },
    "collapsed": false,
    "run_control": {
     "frozen": false,
     "read_only": false
    },
    "scrolled": true
   },
   "outputs": [
    {
     "data": {
      "text/plain": [
       "0"
      ]
     },
     "execution_count": 32,
     "metadata": {},
     "output_type": "execute_result"
    }
   ],
   "source": [
    "(Y.count(axis=1) < 20).sum()"
   ]
  },
  {
   "cell_type": "code",
   "execution_count": 33,
   "metadata": {
    "ExecuteTime": {
     "end_time": "2017-01-31T12:51:36.301479",
     "start_time": "2017-01-31T12:51:36.102432"
    },
    "collapsed": false,
    "run_control": {
     "frozen": false,
     "read_only": false
    }
   },
   "outputs": [
    {
     "data": {
      "text/plain": [
       "20"
      ]
     },
     "execution_count": 33,
     "metadata": {},
     "output_type": "execute_result"
    }
   ],
   "source": [
    "Y.count(axis=0).min()"
   ]
  },
  {
   "cell_type": "code",
   "execution_count": 34,
   "metadata": {
    "ExecuteTime": {
     "end_time": "2017-01-31T12:51:38.635478",
     "start_time": "2017-01-31T12:51:38.630464"
    },
    "collapsed": false,
    "run_control": {
     "frozen": false,
     "read_only": false
    }
   },
   "outputs": [
    {
     "data": {
      "text/plain": [
       "67962240"
      ]
     },
     "execution_count": 34,
     "metadata": {},
     "output_type": "execute_result"
    }
   ],
   "source": [
    "7360*9234"
   ]
  },
  {
   "cell_type": "code",
   "execution_count": 35,
   "metadata": {
    "ExecuteTime": {
     "end_time": "2017-01-31T12:51:40.436371",
     "start_time": "2017-01-31T12:51:40.239357"
    },
    "collapsed": false,
    "run_control": {
     "frozen": false,
     "read_only": false
    }
   },
   "outputs": [
    {
     "data": {
      "text/plain": [
       "423296"
      ]
     },
     "execution_count": 35,
     "metadata": {},
     "output_type": "execute_result"
    }
   ],
   "source": [
    "Y.count().sum()"
   ]
  },
  {
   "cell_type": "code",
   "execution_count": 36,
   "metadata": {
    "ExecuteTime": {
     "end_time": "2017-01-31T12:51:44.921669",
     "start_time": "2017-01-31T12:51:44.261412"
    },
    "collapsed": false,
    "run_control": {
     "frozen": false,
     "read_only": false
    }
   },
   "outputs": [
    {
     "data": {
      "text/plain": [
       "67538944"
      ]
     },
     "execution_count": 36,
     "metadata": {},
     "output_type": "execute_result"
    }
   ],
   "source": [
    "7360*9234 - Y.count().sum()"
   ]
  },
  {
   "cell_type": "code",
   "execution_count": 37,
   "metadata": {
    "ExecuteTime": {
     "end_time": "2017-01-31T12:51:46.535218",
     "start_time": "2017-01-31T12:51:45.790741"
    },
    "collapsed": false,
    "run_control": {
     "frozen": false,
     "read_only": false
    }
   },
   "outputs": [
    {
     "data": {
      "text/plain": [
       "67538944"
      ]
     },
     "execution_count": 37,
     "metadata": {},
     "output_type": "execute_result"
    }
   ],
   "source": [
    "Y.isnull().sum().sum()"
   ]
  },
  {
   "cell_type": "code",
   "execution_count": 38,
   "metadata": {
    "ExecuteTime": {
     "end_time": "2017-01-31T12:51:47.951990",
     "start_time": "2017-01-31T12:51:47.606060"
    },
    "collapsed": false,
    "run_control": {
     "frozen": false,
     "read_only": false
    },
    "scrolled": true
   },
   "outputs": [
    {
     "data": {
      "text/plain": [
       "0.5064129829406738"
      ]
     },
     "execution_count": 38,
     "metadata": {},
     "output_type": "execute_result"
    }
   ],
   "source": [
    "Y.memory_usage().sum()/1024/1024/1024"
   ]
  },
  {
   "cell_type": "code",
   "execution_count": 39,
   "metadata": {
    "ExecuteTime": {
     "end_time": "2017-01-31T12:51:48.939332",
     "start_time": "2017-01-31T12:51:48.935326"
    },
    "collapsed": false,
    "run_control": {
     "frozen": false,
     "read_only": false
    }
   },
   "outputs": [],
   "source": [
    "# len(rev_biz_usr.business_id.unique()) , len(rev_biz_usr.user_id.unique())"
   ]
  },
  {
   "cell_type": "markdown",
   "metadata": {
    "run_control": {
     "frozen": false,
     "read_only": false
    }
   },
   "source": [
    "# Split the data as training and test sets:\n",
    "\n",
    "Select a random number of columns (30% of total)users, and remove some of the given ratings (-> nan)\n"
   ]
  },
  {
   "cell_type": "code",
   "execution_count": 40,
   "metadata": {
    "ExecuteTime": {
     "end_time": "2017-01-31T12:51:52.868154",
     "start_time": "2017-01-31T12:51:52.861637"
    },
    "collapsed": false,
    "run_control": {
     "frozen": false,
     "read_only": false
    }
   },
   "outputs": [],
   "source": [
    "test_split_ratio = 0.3\n",
    "test_size = int(Y.shape[1] * test_split_ratio)\n",
    "train_size = Y.shape[1] - test_size\n",
    "# rand_test_user_mask = random.sample(range(Y.shape[1]), test_size)\n",
    "rand_column_mask = np.random.choice(Y.shape[1], test_size, replace=False)"
   ]
  },
  {
   "cell_type": "code",
   "execution_count": 41,
   "metadata": {
    "ExecuteTime": {
     "end_time": "2017-01-31T12:51:54.352444",
     "start_time": "2017-01-31T12:51:54.006777"
    },
    "collapsed": false,
    "run_control": {
     "frozen": false,
     "read_only": false
    }
   },
   "outputs": [],
   "source": [
    "# Since number of reviews by each user is > 20, select 5 ratings as test per test user\n",
    "Y_test = Y.iloc[:,rand_column_mask].copy()"
   ]
  },
  {
   "cell_type": "code",
   "execution_count": 42,
   "metadata": {
    "ExecuteTime": {
     "end_time": "2017-01-31T12:51:57.187169",
     "start_time": "2017-01-31T12:51:55.086630"
    },
    "collapsed": false,
    "run_control": {
     "frozen": false,
     "read_only": false
    }
   },
   "outputs": [],
   "source": [
    "# Tried to define a function to mask random values in each column and apply it to the DF.\n",
    "# However, the function is applied (by design) twice to the first column, resulting in an error\n",
    "# Better use a simple for loop\n",
    "\n",
    "for col in Y_test:\n",
    "    mask_size = 5\n",
    "    mask = np.random.choice(Y_test[col].notnull().nonzero()[0], mask_size, replace=False)\n",
    "    Y_test[col][mask] = np.nan"
   ]
  },
  {
   "cell_type": "code",
   "execution_count": 43,
   "metadata": {
    "ExecuteTime": {
     "end_time": "2017-01-31T12:51:57.251842",
     "start_time": "2017-01-31T12:51:57.188647"
    },
    "collapsed": false,
    "run_control": {
     "frozen": false,
     "read_only": false
    }
   },
   "outputs": [
    {
     "data": {
      "text/plain": [
       "111241"
      ]
     },
     "execution_count": 43,
     "metadata": {},
     "output_type": "execute_result"
    }
   ],
   "source": [
    "Y_test.count().sum()"
   ]
  },
  {
   "cell_type": "markdown",
   "metadata": {
    "run_control": {
     "frozen": false,
     "read_only": false
    }
   },
   "source": [
    "## Locations of test values"
   ]
  },
  {
   "cell_type": "code",
   "execution_count": 44,
   "metadata": {
    "ExecuteTime": {
     "end_time": "2017-01-31T12:52:00.967747",
     "start_time": "2017-01-31T12:51:59.838201"
    },
    "collapsed": false,
    "run_control": {
     "frozen": false,
     "read_only": false
    }
   },
   "outputs": [],
   "source": [
    "value_locations_premask = Y.iloc[:,rand_column_mask][Y.iloc[:,rand_column_mask].notnull()].stack().index.tolist()"
   ]
  },
  {
   "cell_type": "code",
   "execution_count": 45,
   "metadata": {
    "ExecuteTime": {
     "end_time": "2017-01-31T12:52:02.134514",
     "start_time": "2017-01-31T12:52:00.969725"
    },
    "collapsed": false,
    "run_control": {
     "frozen": false,
     "read_only": false
    }
   },
   "outputs": [],
   "source": [
    "value_locations_masked = Y_test[Y_test.notnull()].stack().index.tolist()"
   ]
  },
  {
   "cell_type": "code",
   "execution_count": 46,
   "metadata": {
    "ExecuteTime": {
     "end_time": "2017-01-31T12:52:02.209776",
     "start_time": "2017-01-31T12:52:02.136020"
    },
    "collapsed": false,
    "run_control": {
     "frozen": false,
     "read_only": false
    }
   },
   "outputs": [],
   "source": [
    "test_values_locations = list(set(value_locations_premask) - set(value_locations_masked))"
   ]
  },
  {
   "cell_type": "code",
   "execution_count": 47,
   "metadata": {
    "ExecuteTime": {
     "end_time": "2017-01-31T12:52:07.359828",
     "start_time": "2017-01-31T12:52:07.350302"
    },
    "collapsed": false,
    "run_control": {
     "frozen": false,
     "read_only": false
    }
   },
   "outputs": [],
   "source": [
    "# Convert to dataframe in order to be able to use during lookup operation, which requires list of rows, and list of columns\n",
    "test_values_locations = pd.DataFrame.from_records(test_values_locations, columns=['business_id', 'user_id'])"
   ]
  },
  {
   "cell_type": "code",
   "execution_count": 48,
   "metadata": {
    "ExecuteTime": {
     "end_time": "2017-01-31T12:52:11.555223",
     "start_time": "2017-01-31T12:52:11.526157"
    },
    "collapsed": false,
    "run_control": {
     "frozen": false,
     "read_only": false
    }
   },
   "outputs": [],
   "source": [
    "# Get location positions:\n",
    "query_rows = test_values_locations.business_id\n",
    "rows = Y.index.values\n",
    "sidx = np.argsort(rows)\n",
    "row_ids = sidx[np.searchsorted(rows,query_rows,sorter=sidx)]"
   ]
  },
  {
   "cell_type": "code",
   "execution_count": 49,
   "metadata": {
    "ExecuteTime": {
     "end_time": "2017-01-31T12:52:12.159528",
     "start_time": "2017-01-31T12:52:12.133960"
    },
    "collapsed": false,
    "run_control": {
     "frozen": false,
     "read_only": false
    }
   },
   "outputs": [],
   "source": [
    "# Get location positions:\n",
    "query_cols = test_values_locations.user_id\n",
    "cols = Y.columns.values\n",
    "sidx = np.argsort(cols)\n",
    "col_ids = sidx[np.searchsorted(cols,query_cols,sorter=sidx)]"
   ]
  },
  {
   "cell_type": "code",
   "execution_count": 50,
   "metadata": {
    "ExecuteTime": {
     "end_time": "2017-01-31T12:52:13.340731",
     "start_time": "2017-01-31T12:52:13.335220"
    },
    "collapsed": false,
    "run_control": {
     "frozen": false,
     "read_only": false
    }
   },
   "outputs": [
    {
     "data": {
      "text/plain": [
       "array([8583, 1827, 4885,  712, 8391], dtype=int64)"
      ]
     },
     "execution_count": 50,
     "metadata": {},
     "output_type": "execute_result"
    }
   ],
   "source": [
    "col_ids[0:5]"
   ]
  },
  {
   "cell_type": "code",
   "execution_count": 51,
   "metadata": {
    "ExecuteTime": {
     "end_time": "2017-01-31T12:52:14.540204",
     "start_time": "2017-01-31T12:52:14.533668"
    },
    "collapsed": false,
    "run_control": {
     "frozen": false,
     "read_only": false
    }
   },
   "outputs": [
    {
     "data": {
      "text/plain": [
       "8391"
      ]
     },
     "execution_count": 51,
     "metadata": {},
     "output_type": "execute_result"
    }
   ],
   "source": [
    "Y.columns.get_loc(test_values_locations.user_id[4])"
   ]
  },
  {
   "cell_type": "code",
   "execution_count": 52,
   "metadata": {
    "ExecuteTime": {
     "end_time": "2017-01-31T12:52:21.828980",
     "start_time": "2017-01-31T12:52:21.822942"
    },
    "collapsed": false,
    "run_control": {
     "frozen": false,
     "read_only": false
    }
   },
   "outputs": [
    {
     "data": {
      "text/plain": [
       "3295"
      ]
     },
     "execution_count": 52,
     "metadata": {},
     "output_type": "execute_result"
    }
   ],
   "source": [
    "Y.index.get_loc(test_values_locations.business_id[5])"
   ]
  },
  {
   "cell_type": "code",
   "execution_count": 53,
   "metadata": {
    "ExecuteTime": {
     "end_time": "2017-01-31T12:52:22.327121",
     "start_time": "2017-01-31T12:52:22.320602"
    },
    "collapsed": false,
    "run_control": {
     "frozen": false,
     "read_only": false
    }
   },
   "outputs": [
    {
     "data": {
      "text/plain": [
       "array([8583, 1827, 4885, ..., 4305,   28, 6399], dtype=int64)"
      ]
     },
     "execution_count": 53,
     "metadata": {},
     "output_type": "execute_result"
    }
   ],
   "source": [
    "col_ids"
   ]
  },
  {
   "cell_type": "markdown",
   "metadata": {
    "run_control": {
     "frozen": false,
     "read_only": false
    }
   },
   "source": [
    "## Get test values "
   ]
  },
  {
   "cell_type": "code",
   "execution_count": 54,
   "metadata": {
    "ExecuteTime": {
     "end_time": "2017-01-31T12:52:44.954767",
     "start_time": "2017-01-31T12:52:44.939207"
    },
    "collapsed": false,
    "run_control": {
     "frozen": false,
     "read_only": false
    },
    "scrolled": true
   },
   "outputs": [
    {
     "data": {
      "text/plain": [
       "array([ 4.,  4.,  3., ...,  2.,  4.,  5.])"
      ]
     },
     "execution_count": 54,
     "metadata": {},
     "output_type": "execute_result"
    }
   ],
   "source": [
    "Y.lookup(test_values_locations.business_id, test_values_locations.user_id)"
   ]
  },
  {
   "cell_type": "code",
   "execution_count": 55,
   "metadata": {
    "ExecuteTime": {
     "end_time": "2017-01-31T12:52:46.755090",
     "start_time": "2017-01-31T12:52:46.747070"
    },
    "collapsed": false,
    "run_control": {
     "frozen": false,
     "read_only": false
    }
   },
   "outputs": [
    {
     "data": {
      "text/plain": [
       "array([ 4.,  4.,  3., ...,  2.,  4.,  5.])"
      ]
     },
     "execution_count": 55,
     "metadata": {},
     "output_type": "execute_result"
    }
   ],
   "source": [
    "Y.values[row_ids, col_ids]"
   ]
  },
  {
   "cell_type": "markdown",
   "metadata": {
    "run_control": {
     "frozen": false,
     "read_only": false
    }
   },
   "source": [
    "## Verify masking procedeure"
   ]
  },
  {
   "cell_type": "markdown",
   "metadata": {
    "run_control": {
     "frozen": false,
     "read_only": false
    }
   },
   "source": [
    "To test the masking steps:  \n",
    "Test sample size = 0.3 * Original Size = 0.3 * 9234 = 2770  \n",
    "Randomly pick 5 notnan values from these columns and set them to nan  \n",
    "Number of nans should increase by 2770 * 5 = 13850"
   ]
  },
  {
   "cell_type": "code",
   "execution_count": 56,
   "metadata": {
    "ExecuteTime": {
     "end_time": "2017-01-31T12:53:01.867748",
     "start_time": "2017-01-31T12:53:01.862244"
    },
    "collapsed": false,
    "run_control": {
     "frozen": false,
     "read_only": false
    }
   },
   "outputs": [
    {
     "data": {
      "text/plain": [
       "13850"
      ]
     },
     "execution_count": 56,
     "metadata": {},
     "output_type": "execute_result"
    }
   ],
   "source": [
    "int(Y.shape[1]*0.3) * 5"
   ]
  },
  {
   "cell_type": "code",
   "execution_count": 57,
   "metadata": {
    "ExecuteTime": {
     "end_time": "2017-01-31T12:53:02.500798",
     "start_time": "2017-01-31T12:53:02.271120"
    },
    "collapsed": false,
    "run_control": {
     "frozen": false,
     "read_only": false
    }
   },
   "outputs": [
    {
     "data": {
      "text/plain": [
       "125091"
      ]
     },
     "execution_count": 57,
     "metadata": {},
     "output_type": "execute_result"
    }
   ],
   "source": [
    "Y.iloc[:,rand_column_mask].count().sum()"
   ]
  },
  {
   "cell_type": "code",
   "execution_count": 58,
   "metadata": {
    "ExecuteTime": {
     "end_time": "2017-01-31T12:53:03.047864",
     "start_time": "2017-01-31T12:53:02.983035"
    },
    "collapsed": false,
    "run_control": {
     "frozen": false,
     "read_only": false
    }
   },
   "outputs": [
    {
     "data": {
      "text/plain": [
       "111241"
      ]
     },
     "execution_count": 58,
     "metadata": {},
     "output_type": "execute_result"
    }
   ],
   "source": [
    "Y_test.count().sum()"
   ]
  },
  {
   "cell_type": "code",
   "execution_count": 59,
   "metadata": {
    "ExecuteTime": {
     "end_time": "2017-01-31T12:53:03.770630",
     "start_time": "2017-01-31T12:53:03.471335"
    },
    "collapsed": false,
    "run_control": {
     "frozen": false,
     "read_only": false
    }
   },
   "outputs": [
    {
     "data": {
      "text/plain": [
       "13850"
      ]
     },
     "execution_count": 59,
     "metadata": {},
     "output_type": "execute_result"
    }
   ],
   "source": [
    "Y.iloc[:,rand_column_mask].count().sum() - Y_test.count().sum()"
   ]
  },
  {
   "cell_type": "markdown",
   "metadata": {
    "run_control": {
     "frozen": false,
     "read_only": false
    }
   },
   "source": [
    "# Now insert the new Nans into the original Y matrix"
   ]
  },
  {
   "cell_type": "code",
   "execution_count": 60,
   "metadata": {
    "ExecuteTime": {
     "end_time": "2017-01-31T12:53:09.455989",
     "start_time": "2017-01-31T12:53:09.048829"
    },
    "collapsed": true,
    "run_control": {
     "frozen": false,
     "read_only": false
    }
   },
   "outputs": [],
   "source": [
    "Y_test_original = Y.iloc[:,rand_column_mask].copy()"
   ]
  },
  {
   "cell_type": "code",
   "execution_count": 61,
   "metadata": {
    "ExecuteTime": {
     "end_time": "2017-01-31T12:53:10.334398",
     "start_time": "2017-01-31T12:53:09.501667"
    },
    "collapsed": false,
    "run_control": {
     "frozen": false,
     "read_only": false
    }
   },
   "outputs": [],
   "source": [
    "Y.iloc[:,rand_column_mask] = Y_test.copy()"
   ]
  },
  {
   "cell_type": "code",
   "execution_count": 62,
   "metadata": {
    "ExecuteTime": {
     "end_time": "2017-01-31T12:53:10.560500",
     "start_time": "2017-01-31T12:53:10.336404"
    },
    "collapsed": false,
    "run_control": {
     "frozen": false,
     "read_only": false
    }
   },
   "outputs": [
    {
     "data": {
      "text/plain": [
       "409446"
      ]
     },
     "execution_count": 62,
     "metadata": {},
     "output_type": "execute_result"
    }
   ],
   "source": [
    "Y.count().sum()"
   ]
  },
  {
   "cell_type": "markdown",
   "metadata": {
    "run_control": {
     "frozen": false,
     "read_only": false
    }
   },
   "source": [
    "## The R Matrix for the recommender system"
   ]
  },
  {
   "cell_type": "code",
   "execution_count": 63,
   "metadata": {
    "ExecuteTime": {
     "end_time": "2017-01-31T12:53:14.450234",
     "start_time": "2017-01-31T12:53:14.446225"
    },
    "collapsed": true,
    "run_control": {
     "frozen": false,
     "read_only": false
    }
   },
   "outputs": [],
   "source": [
    "# The R matrix shold be based on the new Y matrix"
   ]
  },
  {
   "cell_type": "code",
   "execution_count": 64,
   "metadata": {
    "ExecuteTime": {
     "end_time": "2017-01-31T12:53:15.246962",
     "start_time": "2017-01-31T12:53:15.151731"
    },
    "collapsed": false,
    "run_control": {
     "frozen": false,
     "read_only": false
    }
   },
   "outputs": [],
   "source": [
    "R = Y.notnull()"
   ]
  },
  {
   "cell_type": "code",
   "execution_count": 65,
   "metadata": {
    "ExecuteTime": {
     "end_time": "2017-01-31T12:53:16.298892",
     "start_time": "2017-01-31T12:53:15.702155"
    },
    "collapsed": false,
    "run_control": {
     "frozen": false,
     "read_only": false
    }
   },
   "outputs": [
    {
     "data": {
      "text/plain": [
       "409446"
      ]
     },
     "execution_count": 65,
     "metadata": {},
     "output_type": "execute_result"
    }
   ],
   "source": [
    "R.sum().sum()"
   ]
  },
  {
   "cell_type": "code",
   "execution_count": 66,
   "metadata": {
    "ExecuteTime": {
     "end_time": "2017-01-31T12:53:18.516846",
     "start_time": "2017-01-31T12:53:18.510307"
    },
    "collapsed": false,
    "run_control": {
     "frozen": false,
     "read_only": false
    }
   },
   "outputs": [
    {
     "data": {
      "text/plain": [
       "(7360, 9234)"
      ]
     },
     "execution_count": 66,
     "metadata": {},
     "output_type": "execute_result"
    }
   ],
   "source": [
    "R.shape"
   ]
  },
  {
   "cell_type": "code",
   "execution_count": 67,
   "metadata": {
    "ExecuteTime": {
     "end_time": "2017-01-31T12:53:19.595915",
     "start_time": "2017-01-31T12:53:18.903558"
    },
    "collapsed": false,
    "run_control": {
     "frozen": false,
     "read_only": false
    }
   },
   "outputs": [
    {
     "data": {
      "text/plain": [
       "64.8699951171875"
      ]
     },
     "execution_count": 67,
     "metadata": {},
     "output_type": "execute_result"
    }
   ],
   "source": [
    "R.memory_usage().sum()/1024/1024 # 170 MB"
   ]
  },
  {
   "cell_type": "markdown",
   "metadata": {
    "run_control": {
     "frozen": false,
     "read_only": false
    }
   },
   "source": [
    "### To find the mean of Y rows using the 1s in R\n",
    "**For accessing reviewed items only using R**"
   ]
  },
  {
   "cell_type": "code",
   "execution_count": 68,
   "metadata": {
    "ExecuteTime": {
     "end_time": "2017-01-31T12:53:27.620803",
     "start_time": "2017-01-31T12:53:27.614284"
    },
    "collapsed": false,
    "run_control": {
     "frozen": false,
     "read_only": false
    }
   },
   "outputs": [
    {
     "data": {
      "text/plain": [
       "0.0028156811782542777"
      ]
     },
     "execution_count": 68,
     "metadata": {},
     "output_type": "execute_result"
    }
   ],
   "source": [
    "R.iloc[1,:].mean()"
   ]
  },
  {
   "cell_type": "code",
   "execution_count": 69,
   "metadata": {
    "ExecuteTime": {
     "end_time": "2017-01-31T12:53:33.394696",
     "start_time": "2017-01-31T12:53:33.383161"
    },
    "collapsed": false,
    "run_control": {
     "frozen": false,
     "read_only": false
    }
   },
   "outputs": [
    {
     "data": {
      "text/plain": [
       "4.0"
      ]
     },
     "execution_count": 69,
     "metadata": {},
     "output_type": "execute_result"
    }
   ],
   "source": [
    "Y.iloc[1,list(R.iloc[1,:])].mean()"
   ]
  },
  {
   "cell_type": "code",
   "execution_count": 70,
   "metadata": {
    "ExecuteTime": {
     "end_time": "2017-01-31T12:53:36.407099",
     "start_time": "2017-01-31T12:53:36.398596"
    },
    "collapsed": false,
    "run_control": {
     "frozen": false,
     "read_only": false
    }
   },
   "outputs": [
    {
     "data": {
      "text/plain": [
       "business_id\n",
       "--5jkZ3-nUPZxUvtcbr8Uw    4.470588\n",
       "--BlvDO_RG2yElKu9XA1_g    4.000000\n",
       "--UE_y6auTgq3FXlvUMkbw    3.377778\n",
       "--pOlFxITWnhzc7SHSIP0A    4.080357\n",
       "-0Ackw6MF82PXO9f9Jh_Kg    3.394231\n",
       "-0Oh0BEtQEC9OmmzZ_H5Bg    4.555556\n",
       "dtype: float64"
      ]
     },
     "execution_count": 70,
     "metadata": {},
     "output_type": "execute_result"
    }
   ],
   "source": [
    "Y.iloc[:6,:].mean(axis=1)"
   ]
  },
  {
   "cell_type": "markdown",
   "metadata": {
    "run_control": {
     "frozen": false,
     "read_only": false
    }
   },
   "source": [
    "# Define the Cost Function\n",
    "Initializing the parameters ($\\theta$, X)\n",
    "\n",
    "$\\theta$: Model parameter \n",
    "\n",
    "X: model features\n",
    "\n",
    "$Y = X * \\theta^T$\n",
    "\n",
    "for non zero values of R\n",
    "\n",
    "$\\theta$ shape = #users * #features\n",
    "\n",
    "X shape = #business * #features\n",
    "\n",
    "Y shape = #business * #users\n",
    "\n",
    "Choose number of features = 100"
   ]
  },
  {
   "cell_type": "code",
   "execution_count": 71,
   "metadata": {
    "ExecuteTime": {
     "end_time": "2017-01-31T12:53:46.630842",
     "start_time": "2017-01-31T12:53:46.618309"
    },
    "collapsed": false,
    "run_control": {
     "frozen": false,
     "read_only": false
    }
   },
   "outputs": [],
   "source": [
    "def cost(params, Y, R, num_business, num_user, num_features, lamda):\n",
    "    # lamda is the regularization coefficient lambda (python keyword)\n",
    "    # Convert the dataframe to ndarray, fill nans with zeros, and leave the answer array for easier linear algebra operations\n",
    "#     Y_mat = np.nan_to_num(Y.as_matrix())\n",
    "#     R_mat = np.nan_to_num(R.as_matrix())\n",
    "\n",
    "    # unfold X and theta from the 1D params array\n",
    "    X = np.reshape(params[:num_business*num_features], (num_business, num_features))\n",
    "    theta = np.reshape(params[num_business*num_features:], (num_user, num_features))    \n",
    "    \n",
    "    J = 0.5*np.sum(pow((X@theta.T - Y)*R,2)) + lamda/2*(np.sum(pow(theta,2)) + np.sum(pow(X,2)))\n",
    "    \n",
    "    X_grad = (X@theta.T - Y)*R@theta + lamda*X\n",
    "    theta_grad = (X@theta.T - Y).T * R.T@X + lamda*theta\n",
    "    \n",
    "    grad = np.concatenate((np.ravel(X_grad), np.ravel(theta_grad)))\n",
    "    print('The cost is currently equal to.........', J)\n",
    "    return J, grad\n",
    "    "
   ]
  },
  {
   "cell_type": "code",
   "execution_count": 157,
   "metadata": {
    "ExecuteTime": {
     "end_time": "2017-01-29T14:30:00.725737",
     "start_time": "2017-01-29T14:29:56.129315"
    },
    "collapsed": false,
    "run_control": {
     "frozen": false,
     "read_only": false
    },
    "scrolled": true
   },
   "outputs": [
    {
     "name": "stdout",
     "output_type": "stream",
     "text": [
      "The cost is currently equal to......... 7320488.93105\n"
     ]
    },
    {
     "data": {
      "text/plain": [
       "7320488.9310533069"
      ]
     },
     "execution_count": 157,
     "metadata": {},
     "output_type": "execute_result"
    }
   ],
   "source": [
    "J, grad = cost(params, np.nan_to_num(Y.as_matrix()), np.nan_to_num(R.as_matrix()), num_business, num_user, num_features, 0)\n",
    "J"
   ]
  },
  {
   "cell_type": "code",
   "execution_count": 104,
   "metadata": {
    "ExecuteTime": {
     "end_time": "2017-01-29T14:10:33.394488",
     "start_time": "2017-01-29T14:10:33.374437"
    },
    "collapsed": false,
    "run_control": {
     "frozen": false,
     "read_only": false
    }
   },
   "outputs": [
    {
     "name": "stdout",
     "output_type": "stream",
     "text": [
      "a= [[ 1.  2.]\n",
      " [ 3.  4.]]\n",
      "b= [[5 6]\n",
      " [7 8]]\n",
      "* [[  5.  12.]\n",
      " [ 21.  32.]]\n",
      "@ [[ 19.  22.]\n",
      " [ 43.  50.]]\n",
      "c= [[ 1.  2.]\n",
      " [ 3.  4.]]\n",
      "* [[ 19.  22.]\n",
      " [ 43.  50.]]\n"
     ]
    },
    {
     "data": {
      "text/plain": [
       "10.0"
      ]
     },
     "execution_count": 104,
     "metadata": {},
     "output_type": "execute_result"
    }
   ],
   "source": [
    "# checking some numpy matrix operations\n",
    "a = np.array([[1.,2],[3,4]])\n",
    "print('a=', a)\n",
    "\n",
    "b = np.array([[5,6],[7,8]])\n",
    "print('b=', b)\n",
    "\n",
    "print('*', a*b)\n",
    "\n",
    "print('@',a@b)\n",
    "\n",
    "c = np.asmatrix(a)\n",
    "print('c=', c)\n",
    "\n",
    "print('*', c*b)\n",
    "\n",
    "np.sum(c)"
   ]
  },
  {
   "cell_type": "markdown",
   "metadata": {
    "run_control": {
     "frozen": false,
     "read_only": false
    }
   },
   "source": [
    "# Set the number of features, number of businesses and users:"
   ]
  },
  {
   "cell_type": "code",
   "execution_count": 72,
   "metadata": {
    "ExecuteTime": {
     "end_time": "2017-01-31T12:53:58.448725",
     "start_time": "2017-01-31T12:53:58.444700"
    },
    "collapsed": true,
    "run_control": {
     "frozen": false,
     "read_only": false
    }
   },
   "outputs": [],
   "source": [
    "num_features = 75\n",
    "num_business = Y.shape[0]\n",
    "num_user = Y.shape[1]"
   ]
  },
  {
   "cell_type": "markdown",
   "metadata": {
    "run_control": {
     "frozen": false,
     "read_only": false
    }
   },
   "source": [
    "# Initialize and train the model:\n",
    "\n"
   ]
  },
  {
   "cell_type": "code",
   "execution_count": 73,
   "metadata": {
    "ExecuteTime": {
     "end_time": "2017-01-31T12:54:05.614110",
     "start_time": "2017-01-31T12:54:01.983298"
    },
    "collapsed": false,
    "run_control": {
     "frozen": false,
     "read_only": false
    }
   },
   "outputs": [],
   "source": [
    "lamda = 10\n",
    "\n",
    "X = np.random.randn(num_business, num_features)\n",
    "theta = np.random.randn(num_user, num_features)\n",
    "params = np.concatenate((np.ravel(X), np.ravel(theta)))\n",
    "\n",
    "Y_mat = Y.as_matrix()\n",
    "\n",
    "Ymean = np.nanmean(Y_mat, axis=1, keepdims=True)\n",
    "\n",
    "Y_mat = np.nan_to_num(Y_mat)\n",
    "R_mat = np.nan_to_num(R.as_matrix())\n",
    "\n",
    "# Ymean = np.zeros((num_business, 1))  \n",
    "# Ynorm = np.zeros((num_business, num_user))\n",
    "\n",
    "Ynorm = np.nan_to_num(Y.subtract(Y.mean(axis=1), axis=0).as_matrix())\n",
    "\n",
    "# for i in range(num_business):  \n",
    "#     idx = np.where(R_mat[i,:] == 1)[0]\n",
    "#     Ymean[i] = Y.iloc[i,idx].mean()\n",
    "#     Ynorm[i,idx] = Y.iloc[i,idx] - Ymean[i]\n",
    "\n",
    "# Ynorm = Y - Y.mean()"
   ]
  },
  {
   "cell_type": "code",
   "execution_count": 74,
   "metadata": {
    "ExecuteTime": {
     "end_time": "2017-01-31T12:54:05.622131",
     "start_time": "2017-01-31T12:54:05.616116"
    },
    "collapsed": false,
    "run_control": {
     "frozen": false,
     "read_only": false
    },
    "scrolled": false
   },
   "outputs": [
    {
     "data": {
      "text/plain": [
       "array([[ 4.47058824],\n",
       "       [ 4.        ],\n",
       "       [ 3.37777778],\n",
       "       [ 4.08035714],\n",
       "       [ 3.39423077]])"
      ]
     },
     "execution_count": 74,
     "metadata": {},
     "output_type": "execute_result"
    }
   ],
   "source": [
    "Ymean[:5]"
   ]
  },
  {
   "cell_type": "code",
   "execution_count": 75,
   "metadata": {
    "ExecuteTime": {
     "end_time": "2017-01-31T12:54:12.584638",
     "start_time": "2017-01-31T12:54:12.577640"
    },
    "collapsed": false,
    "run_control": {
     "frozen": false,
     "read_only": false
    }
   },
   "outputs": [
    {
     "data": {
      "text/plain": [
       "array([False, False, False, ..., False, False, False], dtype=bool)"
      ]
     },
     "execution_count": 75,
     "metadata": {},
     "output_type": "execute_result"
    }
   ],
   "source": [
    "(Y_mat[0,:] - Ymean[0]) == Ynorm[0,:]"
   ]
  },
  {
   "cell_type": "code",
   "execution_count": 76,
   "metadata": {
    "ExecuteTime": {
     "end_time": "2017-01-31T12:54:14.275752",
     "start_time": "2017-01-31T12:54:14.269736"
    },
    "collapsed": false,
    "run_control": {
     "frozen": false,
     "read_only": false
    }
   },
   "outputs": [
    {
     "data": {
      "text/plain": [
       "array([-4.47058824, -4.47058824, -4.47058824, ..., -4.47058824,\n",
       "       -4.47058824, -4.47058824])"
      ]
     },
     "execution_count": 76,
     "metadata": {},
     "output_type": "execute_result"
    }
   ],
   "source": [
    "Y_mat[0,:] - Ymean[0]"
   ]
  },
  {
   "cell_type": "code",
   "execution_count": 77,
   "metadata": {
    "ExecuteTime": {
     "end_time": "2017-01-31T12:54:16.455418",
     "start_time": "2017-01-31T12:54:16.110521"
    },
    "collapsed": false,
    "run_control": {
     "frozen": false,
     "read_only": false
    }
   },
   "outputs": [
    {
     "data": {
      "text/plain": [
       "(array([   0,    0,    0, ..., 7359, 7359, 7359], dtype=int64),\n",
       " array([ 162,  519, 1229, ..., 8743, 8798, 8940], dtype=int64))"
      ]
     },
     "execution_count": 77,
     "metadata": {},
     "output_type": "execute_result"
    }
   ],
   "source": [
    "np.where(R_mat == 1)"
   ]
  },
  {
   "cell_type": "code",
   "execution_count": 78,
   "metadata": {
    "ExecuteTime": {
     "end_time": "2017-01-31T12:54:17.723243",
     "start_time": "2017-01-31T12:54:17.717750"
    },
    "collapsed": false,
    "run_control": {
     "frozen": false,
     "read_only": false
    }
   },
   "outputs": [
    {
     "data": {
      "text/plain": [
       "-0.47058823529411775"
      ]
     },
     "execution_count": 78,
     "metadata": {},
     "output_type": "execute_result"
    }
   ],
   "source": [
    "Ynorm[0,162]"
   ]
  },
  {
   "cell_type": "code",
   "execution_count": 79,
   "metadata": {
    "ExecuteTime": {
     "end_time": "2017-01-31T12:54:18.613581",
     "start_time": "2017-01-31T12:54:18.608066"
    },
    "collapsed": false,
    "run_control": {
     "frozen": false,
     "read_only": false
    }
   },
   "outputs": [
    {
     "data": {
      "text/plain": [
       "-0.47058823529411775"
      ]
     },
     "execution_count": 79,
     "metadata": {},
     "output_type": "execute_result"
    }
   ],
   "source": [
    "Ynorm[0,162]"
   ]
  },
  {
   "cell_type": "code",
   "execution_count": 80,
   "metadata": {
    "ExecuteTime": {
     "end_time": "2017-01-31T12:54:19.548728",
     "start_time": "2017-01-31T12:54:19.543218"
    },
    "collapsed": false,
    "run_control": {
     "frozen": false,
     "read_only": false
    }
   },
   "outputs": [
    {
     "data": {
      "text/plain": [
       "4.0"
      ]
     },
     "execution_count": 80,
     "metadata": {},
     "output_type": "execute_result"
    }
   ],
   "source": [
    "Y_mat[0,162]"
   ]
  },
  {
   "cell_type": "code",
   "execution_count": 81,
   "metadata": {
    "ExecuteTime": {
     "end_time": "2017-01-31T12:54:23.037646",
     "start_time": "2017-01-31T12:54:23.031627"
    },
    "collapsed": false,
    "run_control": {
     "frozen": false,
     "read_only": false
    }
   },
   "outputs": [
    {
     "data": {
      "text/plain": [
       "array([-0.47058824])"
      ]
     },
     "execution_count": 81,
     "metadata": {},
     "output_type": "execute_result"
    }
   ],
   "source": [
    "4 - Ymean[0]"
   ]
  },
  {
   "cell_type": "code",
   "execution_count": 82,
   "metadata": {
    "ExecuteTime": {
     "end_time": "2017-01-31T12:54:25.300790",
     "start_time": "2017-01-31T12:54:25.042118"
    },
    "collapsed": false,
    "run_control": {
     "frozen": false,
     "read_only": false
    }
   },
   "outputs": [
    {
     "data": {
      "text/plain": [
       "-0.47058823529411775"
      ]
     },
     "execution_count": 82,
     "metadata": {},
     "output_type": "execute_result"
    }
   ],
   "source": [
    "(Y_mat- Ymean)[0, 162]"
   ]
  },
  {
   "cell_type": "code",
   "execution_count": 83,
   "metadata": {
    "ExecuteTime": {
     "end_time": "2017-01-31T13:02:54.162399",
     "start_time": "2017-01-31T12:54:33.694330"
    },
    "collapsed": false,
    "run_control": {
     "frozen": false,
     "read_only": false
    },
    "scrolled": false
   },
   "outputs": [
    {
     "name": "stdout",
     "output_type": "stream",
     "text": [
      "The cost is currently equal to......... 21800461.5217\n",
      "The cost is currently equal to......... 21800461.5217\n",
      "The cost is currently equal to......... 21688597.7811\n",
      "The cost is currently equal to......... 21247313.0883\n",
      "The cost is currently equal to......... 19578290.8395\n",
      "The cost is currently equal to......... 14281603.7077\n",
      "The cost is currently equal to......... 7183414.71401\n",
      "The cost is currently equal to......... 149420206.812\n",
      "The cost is currently equal to......... 4708787.45336\n",
      "The cost is currently equal to......... 4852638.8249\n",
      "The cost is currently equal to......... 3792910.69893\n",
      "The cost is currently equal to......... 2917079.17018\n",
      "The cost is currently equal to......... 2218355.3772\n",
      "The cost is currently equal to......... 2233268.97414\n",
      "The cost is currently equal to......... 1812837.1425\n",
      "The cost is currently equal to......... 1626101.92546\n",
      "The cost is currently equal to......... 1550503.50773\n",
      "The cost is currently equal to......... 1234212.29201\n",
      "The cost is currently equal to......... 945015.913982\n",
      "The cost is currently equal to......... 621864.008464\n",
      "The cost is currently equal to......... 406219.889416\n",
      "The cost is currently equal to......... 3530338.58795\n",
      "The cost is currently equal to......... 356284.182879\n",
      "The cost is currently equal to......... 310421.633776\n",
      "The cost is currently equal to......... 324018.457719\n",
      "The cost is currently equal to......... 292270.098598\n",
      "The cost is currently equal to......... 284233.713611\n",
      "The cost is currently equal to......... 280899.898198\n",
      "The cost is currently equal to......... 273165.242815\n",
      "The cost is currently equal to......... 260554.799422\n",
      "The cost is currently equal to......... 234579.540241\n",
      "The cost is currently equal to......... 210598.140448\n",
      "The cost is currently equal to......... 199596.250546\n",
      "The cost is currently equal to......... 199698.284934\n",
      "The cost is currently equal to......... 193112.770724\n",
      "The cost is currently equal to......... 188627.441215\n",
      "The cost is currently equal to......... 182676.643612\n",
      "The cost is currently equal to......... 179915.891571\n",
      "The cost is currently equal to......... 179456.339022\n",
      "The cost is currently equal to......... 178670.741462\n",
      "The cost is currently equal to......... 177614.265582\n",
      "The cost is currently equal to......... 175447.917429\n",
      "The cost is currently equal to......... 175352.0152\n",
      "The cost is currently equal to......... 174311.570376\n",
      "The cost is currently equal to......... 173225.407607\n",
      "The cost is currently equal to......... 172609.06072\n",
      "The cost is currently equal to......... 172453.49525\n",
      "The cost is currently equal to......... 172153.138639\n",
      "The cost is currently equal to......... 171973.409611\n",
      "The cost is currently equal to......... 171555.013306\n",
      "The cost is currently equal to......... 171191.662948\n",
      "The cost is currently equal to......... 170836.699119\n",
      "The cost is currently equal to......... 170492.614845\n",
      "The cost is currently equal to......... 170324.755068\n",
      "The cost is currently equal to......... 170261.276476\n",
      "The cost is currently equal to......... 170057.767413\n",
      "The cost is currently equal to......... 169910.418869\n",
      "The cost is currently equal to......... 169729.058277\n",
      "The cost is currently equal to......... 169596.501108\n",
      "The cost is currently equal to......... 169565.973584\n",
      "The cost is currently equal to......... 169520.75218\n",
      "The cost is currently equal to......... 169430.102009\n",
      "The cost is currently equal to......... 169411.437773\n",
      "The cost is currently equal to......... 169379.295116\n",
      "The cost is currently equal to......... 169345.647594\n",
      "The cost is currently equal to......... 169304.470521\n",
      "The cost is currently equal to......... 169242.134799\n",
      "The cost is currently equal to......... 169221.213724\n",
      "The cost is currently equal to......... 169153.19831\n",
      "The cost is currently equal to......... 169127.591471\n",
      "The cost is currently equal to......... 169110.951627\n",
      "The cost is currently equal to......... 169045.590128\n",
      "The cost is currently equal to......... 169019.305611\n",
      "The cost is currently equal to......... 168962.438729\n",
      "The cost is currently equal to......... 168945.256312\n",
      "The cost is currently equal to......... 168928.047814\n",
      "The cost is currently equal to......... 168872.616417\n",
      "The cost is currently equal to......... 168841.565233\n",
      "The cost is currently equal to......... 168798.222906\n",
      "The cost is currently equal to......... 168783.268559\n",
      "The cost is currently equal to......... 168875.347036\n",
      "The cost is currently equal to......... 168766.541991\n",
      "The cost is currently equal to......... 168741.240046\n",
      "The cost is currently equal to......... 168732.883722\n",
      "The cost is currently equal to......... 168701.415745\n",
      "The cost is currently equal to......... 168658.165441\n",
      "The cost is currently equal to......... 168639.769822\n",
      "The cost is currently equal to......... 168630.561042\n",
      "The cost is currently equal to......... 168601.466671\n",
      "The cost is currently equal to......... 168571.851421\n",
      "The cost is currently equal to......... 168545.307957\n",
      "The cost is currently equal to......... 168528.224513\n",
      "The cost is currently equal to......... 168502.636662\n",
      "The cost is currently equal to......... 168495.368337\n",
      "The cost is currently equal to......... 168454.876229\n",
      "The cost is currently equal to......... 168441.827499\n",
      "The cost is currently equal to......... 168430.502755\n",
      "The cost is currently equal to......... 168418.573543\n",
      "The cost is currently equal to......... 168414.287608\n",
      "The cost is currently equal to......... 168401.57537\n",
      "The cost is currently equal to......... 168396.372098\n",
      "The cost is currently equal to......... 168393.53009\n",
      "The cost is currently equal to......... 168385.179723\n",
      "The cost is currently equal to......... 168377.24382\n",
      "The cost is currently equal to......... 168368.848205\n",
      "The cost is currently equal to......... 168362.544773\n",
      "The cost is currently equal to......... 168356.66736\n",
      "The cost is currently equal to......... 168347.665582\n",
      "The cost is currently equal to......... 168344.370575\n",
      "The cost is currently equal to......... 168332.843706\n",
      "The cost is currently equal to......... 168324.567415\n",
      "The cost is currently equal to......... 168312.609511\n",
      "The cost is currently equal to......... 168309.890759\n",
      "The cost is currently equal to......... 168291.291854\n",
      "The cost is currently equal to......... 168298.502564\n",
      "The cost is currently equal to......... 168283.40008\n",
      "The cost is currently equal to......... 168278.256341\n",
      "The cost is currently equal to......... 168275.02747\n",
      "The cost is currently equal to......... 168269.793218\n",
      "The cost is currently equal to......... 168266.786778\n",
      "The cost is currently equal to......... 168260.89434\n",
      "The cost is currently equal to......... 168259.736854\n",
      "The cost is currently equal to......... 168257.597299\n",
      "The cost is currently equal to......... 168252.826784\n",
      "The cost is currently equal to......... 168251.732691\n",
      "The cost is currently equal to......... 168247.040691\n",
      "The cost is currently equal to......... 168247.627817\n",
      "The cost is currently equal to......... 168244.810949\n",
      "The cost is currently equal to......... 168241.289428\n",
      "The cost is currently equal to......... 168239.654022\n",
      "The cost is currently equal to......... 168233.682175\n",
      "The cost is currently equal to......... 168226.268702\n",
      "The cost is currently equal to......... 168219.620515\n",
      "The cost is currently equal to......... 168214.293114\n",
      "The cost is currently equal to......... 168205.437798\n",
      "The cost is currently equal to......... 168199.167626\n",
      "The cost is currently equal to......... 168177.901145\n",
      "The cost is currently equal to......... 168247.755383\n",
      "The cost is currently equal to......... 168173.795092\n",
      "The cost is currently equal to......... 168170.125029\n",
      "The cost is currently equal to......... 168171.369277\n",
      "The cost is currently equal to......... 168168.53836\n",
      "The cost is currently equal to......... 168166.64893\n",
      "The cost is currently equal to......... 168166.050605\n",
      "The cost is currently equal to......... 168165.517698\n",
      "The cost is currently equal to......... 168163.696895\n",
      "The cost is currently equal to......... 168162.706695\n",
      "The cost is currently equal to......... 168158.644282\n",
      "The cost is currently equal to......... 168157.722133\n",
      "The cost is currently equal to......... 168149.462\n",
      "The cost is currently equal to......... 168143.774393\n"
     ]
    }
   ],
   "source": [
    "fmin = minimize(fun=cost, x0=params, args=(Ynorm, R_mat, num_business, num_user, num_features, lamda),  \n",
    "                method='CG', jac=True, options={'maxiter': 100})\n",
    "X = np.matrix(np.reshape(fmin.x[:num_business * num_features], (num_business, num_features)))  \n",
    "theta = np.matrix(np.reshape(fmin.x[num_business * num_features:], (num_user, num_features)))"
   ]
  },
  {
   "cell_type": "code",
   "execution_count": 84,
   "metadata": {
    "ExecuteTime": {
     "end_time": "2017-01-31T13:02:54.168415",
     "start_time": "2017-01-31T13:02:54.164405"
    },
    "collapsed": true,
    "run_control": {
     "frozen": false,
     "read_only": false
    }
   },
   "outputs": [],
   "source": [
    "## lamda = 10:\n",
    "# For 100 features after 20 iterations cost = 271'813 @ 2m 8s\n",
    "# For 50 features after 20 iterations cost = 186'694 @ 1m 0s\n",
    "# For 50 features after 100 iterations cost = 168'915 @ 8m 37s\n",
    "## lamda = 1:\n",
    "# For 50 features after 20 iterations cost = 142325 @ 2m 0s (might be overfitting)\n",
    "## lambda = 10\n",
    "# For 75 features after 100 iterations cost = 168131 @ 7m 55s \n",
    "\n",
    "## NOTE: nmubers will vary slightly every run due to randomness of algorithm (and selected masks)"
   ]
  },
  {
   "cell_type": "markdown",
   "metadata": {
    "run_control": {
     "frozen": false,
     "read_only": false
    }
   },
   "source": [
    "## Get Predictions"
   ]
  },
  {
   "cell_type": "code",
   "execution_count": 85,
   "metadata": {
    "ExecuteTime": {
     "end_time": "2017-01-31T13:03:06.116419",
     "start_time": "2017-01-31T13:03:05.591040"
    },
    "collapsed": true,
    "run_control": {
     "frozen": false,
     "read_only": false
    }
   },
   "outputs": [],
   "source": [
    "predictions = X * theta.T + Ymean"
   ]
  },
  {
   "cell_type": "code",
   "execution_count": 86,
   "metadata": {
    "ExecuteTime": {
     "end_time": "2017-01-31T13:03:06.836459",
     "start_time": "2017-01-31T13:03:06.830461"
    },
    "collapsed": false,
    "run_control": {
     "frozen": false,
     "read_only": false
    }
   },
   "outputs": [
    {
     "data": {
      "text/plain": [
       "4.415002360458451"
      ]
     },
     "execution_count": 86,
     "metadata": {},
     "output_type": "execute_result"
    }
   ],
   "source": [
    "predictions[0,162]"
   ]
  },
  {
   "cell_type": "markdown",
   "metadata": {
    "run_control": {
     "frozen": false,
     "read_only": false
    }
   },
   "source": [
    "## Evaluate Recommender System"
   ]
  },
  {
   "cell_type": "code",
   "execution_count": 87,
   "metadata": {
    "ExecuteTime": {
     "end_time": "2017-01-31T13:03:21.576825",
     "start_time": "2017-01-31T13:03:21.558777"
    },
    "collapsed": false,
    "run_control": {
     "frozen": false,
     "read_only": false
    }
   },
   "outputs": [
    {
     "data": {
      "text/plain": [
       "array([ nan,  nan,  nan, ...,  nan,  nan,  nan])"
      ]
     },
     "execution_count": 87,
     "metadata": {},
     "output_type": "execute_result"
    }
   ],
   "source": [
    "Y.lookup(test_values_locations.business_id, test_values_locations.user_id)"
   ]
  },
  {
   "cell_type": "code",
   "execution_count": 88,
   "metadata": {
    "ExecuteTime": {
     "end_time": "2017-01-31T13:03:22.899651",
     "start_time": "2017-01-31T13:03:22.894137"
    },
    "collapsed": false,
    "run_control": {
     "frozen": false,
     "read_only": false
    }
   },
   "outputs": [
    {
     "data": {
      "text/plain": [
       "array([ nan,  nan,  nan, ...,  nan,  nan,  nan])"
      ]
     },
     "execution_count": 88,
     "metadata": {},
     "output_type": "execute_result"
    }
   ],
   "source": [
    "Y.values[row_ids, col_ids]"
   ]
  },
  {
   "cell_type": "code",
   "execution_count": 89,
   "metadata": {
    "ExecuteTime": {
     "end_time": "2017-01-31T13:03:24.047910",
     "start_time": "2017-01-31T13:03:24.029867"
    },
    "collapsed": false,
    "run_control": {
     "frozen": false,
     "read_only": false
    }
   },
   "outputs": [
    {
     "data": {
      "text/plain": [
       "array([ 4.,  4.,  3., ...,  2.,  4.,  5.])"
      ]
     },
     "execution_count": 89,
     "metadata": {},
     "output_type": "execute_result"
    }
   ],
   "source": [
    "Y_test_original.lookup(test_values_locations.business_id, test_values_locations.user_id)"
   ]
  },
  {
   "cell_type": "code",
   "execution_count": 90,
   "metadata": {
    "ExecuteTime": {
     "end_time": "2017-01-31T13:03:25.700316",
     "start_time": "2017-01-31T13:03:25.694286"
    },
    "collapsed": false,
    "run_control": {
     "frozen": false,
     "read_only": false
    }
   },
   "outputs": [
    {
     "data": {
      "text/plain": [
       "matrix([[ 3.92526264,  3.13800357,  3.87204815, ...,  3.94113499,\n",
       "          4.23404708,  3.96340884]])"
      ]
     },
     "execution_count": 90,
     "metadata": {},
     "output_type": "execute_result"
    }
   ],
   "source": [
    "predictions[row_ids, col_ids]"
   ]
  },
  {
   "cell_type": "markdown",
   "metadata": {
    "run_control": {
     "frozen": false,
     "read_only": false
    }
   },
   "source": [
    "### Clip the predictions between 1 and 5"
   ]
  },
  {
   "cell_type": "code",
   "execution_count": 91,
   "metadata": {
    "ExecuteTime": {
     "end_time": "2017-01-31T13:03:54.750810",
     "start_time": "2017-01-31T13:03:54.702657"
    },
    "collapsed": false,
    "run_control": {
     "frozen": false,
     "read_only": false
    }
   },
   "outputs": [
    {
     "data": {
      "text/plain": [
       "6.9013711340536732"
      ]
     },
     "execution_count": 91,
     "metadata": {},
     "output_type": "execute_result"
    }
   ],
   "source": [
    "predictions.max()"
   ]
  },
  {
   "cell_type": "code",
   "execution_count": 92,
   "metadata": {
    "ExecuteTime": {
     "end_time": "2017-01-31T13:03:57.298310",
     "start_time": "2017-01-31T13:03:57.078225"
    },
    "collapsed": false,
    "run_control": {
     "frozen": false,
     "read_only": false
    }
   },
   "outputs": [
    {
     "data": {
      "text/plain": [
       "matrix([[ 4.50541712,  4.54271425,  4.44293134, ...,  4.49141129,\n",
       "          4.51218372,  4.48135577],\n",
       "        [ 4.00715686,  3.88057918,  4.07902792, ...,  3.97875204,\n",
       "          3.9616234 ,  3.98717599],\n",
       "        [ 3.41543714,  3.43871509,  3.41601976, ...,  3.35078072,\n",
       "          3.48167802,  3.39752564],\n",
       "        ..., \n",
       "        [ 3.97337135,  3.96819508,  4.06677545, ...,  3.83352469,\n",
       "          4.0889653 ,  3.86815987],\n",
       "        [ 3.7207499 ,  3.50370535,  3.56689352, ...,  3.58329738,\n",
       "          3.55315565,  3.59334851],\n",
       "        [ 4.26555759,  4.10375464,  4.23368319, ...,  4.11564084,\n",
       "          4.2012103 ,  4.15814607]])"
      ]
     },
     "execution_count": 92,
     "metadata": {},
     "output_type": "execute_result"
    }
   ],
   "source": [
    "predictions.clip(1, 5)"
   ]
  },
  {
   "cell_type": "code",
   "execution_count": 104,
   "metadata": {
    "ExecuteTime": {
     "end_time": "2017-01-30T12:16:10.963163",
     "start_time": "2017-01-30T12:16:10.795314"
    },
    "collapsed": false,
    "run_control": {
     "frozen": false,
     "read_only": false
    }
   },
   "outputs": [
    {
     "ename": "NameError",
     "evalue": "name 'a' is not defined",
     "output_type": "error",
     "traceback": [
      "\u001b[0;31m---------------------------------------------------------------------------\u001b[0m",
      "\u001b[0;31mNameError\u001b[0m                                 Traceback (most recent call last)",
      "\u001b[0;32m<ipython-input-104-60b725f10c9c>\u001b[0m in \u001b[0;36m<module>\u001b[0;34m()\u001b[0m\n\u001b[0;32m----> 1\u001b[0;31m \u001b[0ma\u001b[0m\u001b[1;33m\u001b[0m\u001b[0m\n\u001b[0m",
      "\u001b[0;31mNameError\u001b[0m: name 'a' is not defined"
     ]
    }
   ],
   "source": [
    "a"
   ]
  },
  {
   "cell_type": "code",
   "execution_count": 458,
   "metadata": {
    "ExecuteTime": {
     "end_time": "2017-01-29T22:32:04.179365",
     "start_time": "2017-01-29T22:32:04.172869"
    },
    "collapsed": false,
    "run_control": {
     "frozen": false,
     "read_only": false
    }
   },
   "outputs": [
    {
     "data": {
      "text/plain": [
       "array([[ 1. ,  2. ],\n",
       "       [ 2.5,  2.5]])"
      ]
     },
     "execution_count": 458,
     "metadata": {},
     "output_type": "execute_result"
    }
   ],
   "source": [
    "a.clip(min=1, max=2.5)"
   ]
  },
  {
   "cell_type": "code",
   "execution_count": 460,
   "metadata": {
    "ExecuteTime": {
     "end_time": "2017-01-29T22:32:42.425405",
     "start_time": "2017-01-29T22:32:42.418887"
    },
    "collapsed": false,
    "run_control": {
     "frozen": false,
     "read_only": false
    }
   },
   "outputs": [
    {
     "data": {
      "text/plain": [
       "array([[ 1. ,  2. ],\n",
       "       [ 2.5,  2.5]])"
      ]
     },
     "execution_count": 460,
     "metadata": {},
     "output_type": "execute_result"
    }
   ],
   "source": [
    "a.clip(1,2.5)"
   ]
  },
  {
   "cell_type": "code",
   "execution_count": 459,
   "metadata": {
    "ExecuteTime": {
     "end_time": "2017-01-29T22:32:08.736553",
     "start_time": "2017-01-29T22:32:08.730537"
    },
    "collapsed": false,
    "run_control": {
     "frozen": false,
     "read_only": false
    }
   },
   "outputs": [
    {
     "data": {
      "text/plain": [
       "array([[ 1.,  2.],\n",
       "       [ 3.,  4.]])"
      ]
     },
     "execution_count": 459,
     "metadata": {},
     "output_type": "execute_result"
    }
   ],
   "source": [
    "a"
   ]
  },
  {
   "cell_type": "markdown",
   "metadata": {
    "run_control": {
     "frozen": false,
     "read_only": false
    }
   },
   "source": [
    "## Find the mean squared error (MSE) for the test set"
   ]
  },
  {
   "cell_type": "markdown",
   "metadata": {
    "ExecuteTime": {
     "end_time": "2017-01-29T22:36:29.259125",
     "start_time": "2017-01-29T22:36:29.255634"
    },
    "run_control": {
     "frozen": false,
     "read_only": false
    }
   },
   "source": [
    "### With clipping the values to [1, 5] and rounding the results to nearest integer"
   ]
  },
  {
   "cell_type": "code",
   "execution_count": 93,
   "metadata": {
    "ExecuteTime": {
     "end_time": "2017-01-31T13:04:06.599266",
     "start_time": "2017-01-31T13:04:06.583224"
    },
    "collapsed": false,
    "run_control": {
     "frozen": false,
     "read_only": false
    }
   },
   "outputs": [
    {
     "data": {
      "text/plain": [
       "1.1596351784997996"
      ]
     },
     "execution_count": 93,
     "metadata": {},
     "output_type": "execute_result"
    }
   ],
   "source": [
    "np.mean(np.power((np.round(predictions[row_ids, col_ids].clip(1,5)) - Y_test_original.lookup(test_values_locations.business_id, test_values_locations.user_id)),2))"
   ]
  },
  {
   "cell_type": "code",
   "execution_count": 94,
   "metadata": {
    "ExecuteTime": {
     "end_time": "2017-01-31T13:04:14.730332",
     "start_time": "2017-01-31T13:04:14.726823"
    },
    "collapsed": true,
    "run_control": {
     "frozen": false,
     "read_only": false
    }
   },
   "outputs": [],
   "source": [
    "# for 50 features lambda 1, 20 iterations, the MSE is 2.59\n",
    "# for 75 features lambda 10, 100 iterations, the MSE is 1.15"
   ]
  },
  {
   "cell_type": "markdown",
   "metadata": {
    "ExecuteTime": {
     "end_time": "2017-01-29T22:36:56.966329",
     "start_time": "2017-01-29T22:36:56.963323"
    },
    "run_control": {
     "frozen": false,
     "read_only": false
    }
   },
   "source": [
    "### With clipping but without rounding the results"
   ]
  },
  {
   "cell_type": "code",
   "execution_count": 95,
   "metadata": {
    "ExecuteTime": {
     "end_time": "2017-01-31T13:04:17.485257",
     "start_time": "2017-01-31T13:04:17.470213"
    },
    "collapsed": false,
    "run_control": {
     "frozen": false,
     "read_only": false
    },
    "scrolled": true
   },
   "outputs": [
    {
     "data": {
      "text/plain": [
       "1.0751433350870325"
      ]
     },
     "execution_count": 95,
     "metadata": {},
     "output_type": "execute_result"
    }
   ],
   "source": [
    "np.mean(np.power((predictions[row_ids, col_ids].clip(1,5) - Y_test_original.lookup(test_values_locations.business_id, test_values_locations.user_id)),2))"
   ]
  },
  {
   "cell_type": "code",
   "execution_count": 96,
   "metadata": {
    "ExecuteTime": {
     "end_time": "2017-01-31T13:04:21.234178",
     "start_time": "2017-01-31T13:04:21.230185"
    },
    "collapsed": true,
    "run_control": {
     "frozen": false,
     "read_only": false
    }
   },
   "outputs": [],
   "source": [
    "# for 50 features lambda 1, 20 iterations, the MSE is 2.51\n",
    "# for 75 features lambda 10, 100 iterations, the MSE is 1.07"
   ]
  },
  {
   "cell_type": "markdown",
   "metadata": {
    "run_control": {
     "frozen": false,
     "read_only": false
    }
   },
   "source": [
    "### Without clipping nor rounding:"
   ]
  },
  {
   "cell_type": "code",
   "execution_count": 396,
   "metadata": {
    "ExecuteTime": {
     "end_time": "2017-01-31T17:38:19.103309",
     "start_time": "2017-01-31T17:38:19.088752"
    },
    "collapsed": false,
    "run_control": {
     "frozen": false,
     "read_only": false
    }
   },
   "outputs": [
    {
     "data": {
      "text/plain": [
       "1.0751633619494474"
      ]
     },
     "execution_count": 396,
     "metadata": {},
     "output_type": "execute_result"
    }
   ],
   "source": [
    "np.mean(np.power((predictions[row_ids, col_ids] - Y_test_original.lookup(test_values_locations.business_id, test_values_locations.user_id)),2))"
   ]
  },
  {
   "cell_type": "code",
   "execution_count": 98,
   "metadata": {
    "ExecuteTime": {
     "end_time": "2017-01-31T13:04:32.897186",
     "start_time": "2017-01-31T13:04:32.894176"
    },
    "collapsed": true,
    "run_control": {
     "frozen": false,
     "read_only": false
    }
   },
   "outputs": [],
   "source": [
    "# for 50 features lambda 1, 20 iterations, the MSE is 3.83\n",
    "# for 75 features lambda 10, 100 iterations, the MSE is 1.07"
   ]
  },
  {
   "cell_type": "markdown",
   "metadata": {
    "run_control": {
     "frozen": false,
     "read_only": false
    }
   },
   "source": [
    "### Acuracy: not a good measure for recommendation systems"
   ]
  },
  {
   "cell_type": "code",
   "execution_count": 399,
   "metadata": {
    "ExecuteTime": {
     "end_time": "2017-01-31T17:39:18.092285",
     "start_time": "2017-01-31T17:39:18.076741"
    },
    "collapsed": false,
    "run_control": {
     "frozen": false,
     "read_only": false
    }
   },
   "outputs": [
    {
     "data": {
      "text/plain": [
       "array([ 0.36433213])"
      ]
     },
     "execution_count": 399,
     "metadata": {},
     "output_type": "execute_result"
    }
   ],
   "source": [
    "(np.round(predictions[row_ids, col_ids]) == Y_test_original.lookup(test_values_locations.business_id, test_values_locations.user_id)).sum()/row_ids.shape"
   ]
  },
  {
   "cell_type": "code",
   "execution_count": 100,
   "metadata": {
    "ExecuteTime": {
     "end_time": "2017-01-31T13:04:40.137479",
     "start_time": "2017-01-31T13:04:40.133448"
    },
    "collapsed": true,
    "run_control": {
     "frozen": false,
     "read_only": false
    }
   },
   "outputs": [],
   "source": [
    "# for 50 features lambda 1, 20 iterations, the accuracy is 0.02275\n",
    "# for 75 features lambda 10, 100 iterations, the accuracy is 0.36383"
   ]
  },
  {
   "cell_type": "markdown",
   "metadata": {
    "run_control": {
     "frozen": false,
     "read_only": false
    }
   },
   "source": [
    "## Another Evaluation metric: \n",
    "If predictions >= 3 and Original test value also >= 3, then the recommendation is correct, the same for values < 3 \n",
    "\n",
    "otherwise, the recommendation is incorrect \n",
    "\n",
    "Can use precision/recall/F1 score\n"
   ]
  },
  {
   "cell_type": "code",
   "execution_count": 400,
   "metadata": {
    "ExecuteTime": {
     "end_time": "2017-01-31T17:39:33.069028",
     "start_time": "2017-01-31T17:39:33.045467"
    },
    "collapsed": false,
    "run_control": {
     "frozen": false,
     "read_only": false
    }
   },
   "outputs": [
    {
     "data": {
      "text/plain": [
       "0.88115523465703971"
      ]
     },
     "execution_count": 400,
     "metadata": {},
     "output_type": "execute_result"
    }
   ],
   "source": [
    "# Accuracy:\n",
    "((np.round(predictions[row_ids, col_ids]) >= 3) & (Y_test_original.lookup(test_values_locations.business_id, test_values_locations.user_id) >= 3) | \n",
    " (predictions[row_ids, col_ids] < 3) & (Y_test_original.lookup(test_values_locations.business_id, test_values_locations.user_id) < 3)).mean()"
   ]
  },
  {
   "cell_type": "code",
   "execution_count": 102,
   "metadata": {
    "ExecuteTime": {
     "end_time": "2017-01-31T13:04:47.082467",
     "start_time": "2017-01-31T13:04:47.078448"
    },
    "collapsed": true,
    "run_control": {
     "frozen": false,
     "read_only": false
    }
   },
   "outputs": [],
   "source": [
    "# for 50 features lambda 1, 20 iterations, the accuracy is 0.75466\n",
    "# for 75 features lambda 10, 100 iterations, the accuracy is 0.87740"
   ]
  },
  {
   "cell_type": "code",
   "execution_count": 103,
   "metadata": {
    "ExecuteTime": {
     "end_time": "2017-01-31T13:04:47.363702",
     "start_time": "2017-01-31T13:04:47.358206"
    },
    "collapsed": false,
    "run_control": {
     "frozen": false,
     "read_only": false
    }
   },
   "outputs": [
    {
     "data": {
      "text/plain": [
       "True"
      ]
     },
     "execution_count": 103,
     "metadata": {},
     "output_type": "execute_result"
    }
   ],
   "source": [
    "(3 >= 3) & (4 > 3) | (2 < 3 and 4 < 3)"
   ]
  },
  {
   "cell_type": "code",
   "execution_count": 104,
   "metadata": {
    "ExecuteTime": {
     "end_time": "2017-01-31T13:04:51.990425",
     "start_time": "2017-01-31T13:04:51.984416"
    },
    "collapsed": false,
    "run_control": {
     "frozen": false,
     "read_only": false
    }
   },
   "outputs": [
    {
     "data": {
      "text/plain": [
       "(7359, 9231)"
      ]
     },
     "execution_count": 104,
     "metadata": {},
     "output_type": "execute_result"
    }
   ],
   "source": [
    "row_ids.max(), col_ids.max()"
   ]
  },
  {
   "cell_type": "code",
   "execution_count": 105,
   "metadata": {
    "ExecuteTime": {
     "end_time": "2017-01-31T13:04:53.155665",
     "start_time": "2017-01-31T13:04:53.149649"
    },
    "collapsed": false,
    "run_control": {
     "frozen": false,
     "read_only": false
    }
   },
   "outputs": [
    {
     "data": {
      "text/plain": [
       "(7360, 9234)"
      ]
     },
     "execution_count": 105,
     "metadata": {},
     "output_type": "execute_result"
    }
   ],
   "source": [
    "predictions.shape"
   ]
  },
  {
   "cell_type": "code",
   "execution_count": 106,
   "metadata": {
    "ExecuteTime": {
     "end_time": "2017-01-31T13:04:56.832556",
     "start_time": "2017-01-31T13:04:56.826056"
    },
    "collapsed": false,
    "run_control": {
     "frozen": false,
     "read_only": false
    },
    "scrolled": true
   },
   "outputs": [
    {
     "data": {
      "text/plain": [
       "Index(['-Q1iK37BSnImI8QX8XJJYA', 'WsJo2lfomyGzgIFmVtFgiw',\n",
       "       '_ZuylBniwr0G3xoZ5-IhNw', 'EVN484M7GZxhVpp61JgQBA',\n",
       "       'qLCpuCWCyPb4G2vN-WZz-Q', 'WXlEInb7eaWAyVAMVC80pw',\n",
       "       'O03iyqAESAwhys22uRH-xA', 'G4wAIuOxdjay-w4bWdobsQ',\n",
       "       'nEYPahVwXGD2Pjvgkm7QqQ', '7k2X7Wp8w4kJ1jc6GX4ynQ',\n",
       "       ...\n",
       "       'MXyfEWfYodSpdXHZyrePbA', 'lMPTQT0jf6-S7AxhMoOZzQ',\n",
       "       '3GteArKIVRlJZjjRqqwgaQ', 'OESKxoNFZcKl47NrOubgAQ',\n",
       "       '5XfAUaix9pBTgreBG79I9Q', 'Ouus3lC3Xk3YRGx4ptd_4A',\n",
       "       'ZrUZtLgLOn15v2NIZl-oKQ', 'U7hTZ-Vfh8d143I93ICRFA',\n",
       "       'kinoGZFz8LewNeYOqi9lwA', 'h5LCziBXelRkDhIHrq-xrg'],\n",
       "      dtype='object', name='user_id', length=2770)"
      ]
     },
     "execution_count": 106,
     "metadata": {},
     "output_type": "execute_result"
    }
   ],
   "source": [
    "# compare the Y_test to predicted values\n",
    "Y_test.columns"
   ]
  },
  {
   "cell_type": "code",
   "execution_count": 107,
   "metadata": {
    "ExecuteTime": {
     "end_time": "2017-01-31T13:04:58.807612",
     "start_time": "2017-01-31T13:04:58.800586"
    },
    "collapsed": false,
    "run_control": {
     "frozen": false,
     "read_only": false
    }
   },
   "outputs": [
    {
     "data": {
      "text/plain": [
       "matrix([[ 5.03969728],\n",
       "        [ 4.96583509],\n",
       "        [ 4.95477745],\n",
       "        ..., \n",
       "        [ 1.58107256],\n",
       "        [ 1.47060769],\n",
       "        [ 1.42348876]])"
      ]
     },
     "execution_count": 107,
     "metadata": {},
     "output_type": "execute_result"
    }
   ],
   "source": [
    "predictions[predictions[:,1].argsort(axis=0)[::-1],1]"
   ]
  },
  {
   "cell_type": "code",
   "execution_count": 108,
   "metadata": {
    "ExecuteTime": {
     "end_time": "2017-01-31T13:05:02.871577",
     "start_time": "2017-01-31T13:05:02.865561"
    },
    "collapsed": false,
    "run_control": {
     "frozen": false,
     "read_only": false
    }
   },
   "outputs": [
    {
     "data": {
      "text/plain": [
       "5.0396972849589634"
      ]
     },
     "execution_count": 108,
     "metadata": {},
     "output_type": "execute_result"
    }
   ],
   "source": [
    "predictions[:,1].max()"
   ]
  },
  {
   "cell_type": "code",
   "execution_count": 109,
   "metadata": {
    "ExecuteTime": {
     "end_time": "2017-01-31T13:05:04.841117",
     "start_time": "2017-01-31T13:05:04.830565"
    },
    "collapsed": false,
    "run_control": {
     "frozen": false,
     "read_only": false
    }
   },
   "outputs": [
    {
     "data": {
      "text/plain": [
       "5.0"
      ]
     },
     "execution_count": 109,
     "metadata": {},
     "output_type": "execute_result"
    }
   ],
   "source": [
    "Y.iloc[:,1].max()"
   ]
  },
  {
   "cell_type": "code",
   "execution_count": 110,
   "metadata": {
    "ExecuteTime": {
     "end_time": "2017-01-31T13:05:13.635825",
     "start_time": "2017-01-31T13:05:13.629808"
    },
    "collapsed": false,
    "run_control": {
     "frozen": false,
     "read_only": false
    }
   },
   "outputs": [
    {
     "data": {
      "text/plain": [
       "(7360, 9234)"
      ]
     },
     "execution_count": 110,
     "metadata": {},
     "output_type": "execute_result"
    }
   ],
   "source": [
    "predictions.shape"
   ]
  },
  {
   "cell_type": "markdown",
   "metadata": {
    "run_control": {
     "frozen": false,
     "read_only": false
    }
   },
   "source": [
    "## Evaluate the whole Y matrix (not null values)"
   ]
  },
  {
   "cell_type": "code",
   "execution_count": 277,
   "metadata": {
    "ExecuteTime": {
     "end_time": "2017-01-31T14:55:28.339670",
     "start_time": "2017-01-31T14:55:22.707350"
    },
    "collapsed": true,
    "run_control": {
     "frozen": false,
     "read_only": false
    }
   },
   "outputs": [],
   "source": [
    "# Find label locations (business, user) of rated businesses\n",
    "all_value_idx = Y[Y.notnull()].stack().index.tolist()"
   ]
  },
  {
   "cell_type": "code",
   "execution_count": 280,
   "metadata": {
    "ExecuteTime": {
     "end_time": "2017-01-31T14:55:54.661261",
     "start_time": "2017-01-31T14:55:54.626166"
    },
    "collapsed": false
   },
   "outputs": [
    {
     "data": {
      "text/html": [
       "<div>\n",
       "<table border=\"1\" class=\"dataframe\">\n",
       "  <thead>\n",
       "    <tr style=\"text-align: right;\">\n",
       "      <th></th>\n",
       "      <th>business_id</th>\n",
       "      <th>user_id</th>\n",
       "    </tr>\n",
       "  </thead>\n",
       "  <tbody>\n",
       "    <tr>\n",
       "      <th>0</th>\n",
       "      <td>--5jkZ3-nUPZxUvtcbr8Uw</td>\n",
       "      <td>0BT613A1PBxuwxUzjEb6VQ</td>\n",
       "    </tr>\n",
       "    <tr>\n",
       "      <th>1</th>\n",
       "      <td>--5jkZ3-nUPZxUvtcbr8Uw</td>\n",
       "      <td>2dWZiZonDmR2rDoBrqYOFQ</td>\n",
       "    </tr>\n",
       "    <tr>\n",
       "      <th>2</th>\n",
       "      <td>--5jkZ3-nUPZxUvtcbr8Uw</td>\n",
       "      <td>7QfecHRoPxw-Uu2GMkGyzQ</td>\n",
       "    </tr>\n",
       "    <tr>\n",
       "      <th>3</th>\n",
       "      <td>--5jkZ3-nUPZxUvtcbr8Uw</td>\n",
       "      <td>8DEtfP9Fmp5X1DG6iTtXnQ</td>\n",
       "    </tr>\n",
       "    <tr>\n",
       "      <th>4</th>\n",
       "      <td>--5jkZ3-nUPZxUvtcbr8Uw</td>\n",
       "      <td>8KKUnoYOGRs8nMQLbwoFfA</td>\n",
       "    </tr>\n",
       "    <tr>\n",
       "      <th>5</th>\n",
       "      <td>--5jkZ3-nUPZxUvtcbr8Uw</td>\n",
       "      <td>ARP1hjIwpYOGdQAg7iEBqA</td>\n",
       "    </tr>\n",
       "    <tr>\n",
       "      <th>6</th>\n",
       "      <td>--5jkZ3-nUPZxUvtcbr8Uw</td>\n",
       "      <td>BWPbFAPZIv_Prl_ib88jpw</td>\n",
       "    </tr>\n",
       "    <tr>\n",
       "      <th>7</th>\n",
       "      <td>--5jkZ3-nUPZxUvtcbr8Uw</td>\n",
       "      <td>BZSM6JL92epbwz-Oj3u8KQ</td>\n",
       "    </tr>\n",
       "    <tr>\n",
       "      <th>8</th>\n",
       "      <td>--5jkZ3-nUPZxUvtcbr8Uw</td>\n",
       "      <td>Br9mpMhkVunsp8Un5GpYWA</td>\n",
       "    </tr>\n",
       "    <tr>\n",
       "      <th>9</th>\n",
       "      <td>--5jkZ3-nUPZxUvtcbr8Uw</td>\n",
       "      <td>Cp-PV8rsypbO-xBrQ6KmQg</td>\n",
       "    </tr>\n",
       "    <tr>\n",
       "      <th>10</th>\n",
       "      <td>--5jkZ3-nUPZxUvtcbr8Uw</td>\n",
       "      <td>CwkdQfIWMLFPpa14i8it9g</td>\n",
       "    </tr>\n",
       "    <tr>\n",
       "      <th>11</th>\n",
       "      <td>--5jkZ3-nUPZxUvtcbr8Uw</td>\n",
       "      <td>F6QsMoJdvtohlbnST-fDyQ</td>\n",
       "    </tr>\n",
       "    <tr>\n",
       "      <th>12</th>\n",
       "      <td>--5jkZ3-nUPZxUvtcbr8Uw</td>\n",
       "      <td>JHmO-lVrHA0njKnQnZ8qLA</td>\n",
       "    </tr>\n",
       "    <tr>\n",
       "      <th>13</th>\n",
       "      <td>--5jkZ3-nUPZxUvtcbr8Uw</td>\n",
       "      <td>JpNMQXWX1Z2904D1BGl_Og</td>\n",
       "    </tr>\n",
       "    <tr>\n",
       "      <th>14</th>\n",
       "      <td>--5jkZ3-nUPZxUvtcbr8Uw</td>\n",
       "      <td>Ki71iAFTxsPPQfX430c99Q</td>\n",
       "    </tr>\n",
       "    <tr>\n",
       "      <th>15</th>\n",
       "      <td>--5jkZ3-nUPZxUvtcbr8Uw</td>\n",
       "      <td>Kqvfep2mxS10S50FbVDi4Q</td>\n",
       "    </tr>\n",
       "    <tr>\n",
       "      <th>16</th>\n",
       "      <td>--5jkZ3-nUPZxUvtcbr8Uw</td>\n",
       "      <td>NNdfPF-UhvLB8FxbsuSC5A</td>\n",
       "    </tr>\n",
       "    <tr>\n",
       "      <th>17</th>\n",
       "      <td>--5jkZ3-nUPZxUvtcbr8Uw</td>\n",
       "      <td>OpN1MhESDpc4_mPpx2Pd9Q</td>\n",
       "    </tr>\n",
       "    <tr>\n",
       "      <th>18</th>\n",
       "      <td>--5jkZ3-nUPZxUvtcbr8Uw</td>\n",
       "      <td>P1fXuGmbdTz_jfEZLbWYcA</td>\n",
       "    </tr>\n",
       "    <tr>\n",
       "      <th>19</th>\n",
       "      <td>--5jkZ3-nUPZxUvtcbr8Uw</td>\n",
       "      <td>QAtL9roCZeqQlLDB-Ara7g</td>\n",
       "    </tr>\n",
       "    <tr>\n",
       "      <th>20</th>\n",
       "      <td>--5jkZ3-nUPZxUvtcbr8Uw</td>\n",
       "      <td>ST8Yzlk2MqKlcaLqL2djBg</td>\n",
       "    </tr>\n",
       "    <tr>\n",
       "      <th>21</th>\n",
       "      <td>--5jkZ3-nUPZxUvtcbr8Uw</td>\n",
       "      <td>X1C6Ufo9Y0OxoxORBYPOLA</td>\n",
       "    </tr>\n",
       "    <tr>\n",
       "      <th>22</th>\n",
       "      <td>--5jkZ3-nUPZxUvtcbr8Uw</td>\n",
       "      <td>X8Kwao6QzXNIjoaXyrGO5g</td>\n",
       "    </tr>\n",
       "    <tr>\n",
       "      <th>23</th>\n",
       "      <td>--5jkZ3-nUPZxUvtcbr8Uw</td>\n",
       "      <td>XTFE2ERq7YvaqGUgQYzVNA</td>\n",
       "    </tr>\n",
       "    <tr>\n",
       "      <th>24</th>\n",
       "      <td>--5jkZ3-nUPZxUvtcbr8Uw</td>\n",
       "      <td>Z_si9YlkrwzPN114kOCMIQ</td>\n",
       "    </tr>\n",
       "    <tr>\n",
       "      <th>25</th>\n",
       "      <td>--5jkZ3-nUPZxUvtcbr8Uw</td>\n",
       "      <td>a8gpBi7biN9VAoJwKgl3Xw</td>\n",
       "    </tr>\n",
       "    <tr>\n",
       "      <th>26</th>\n",
       "      <td>--5jkZ3-nUPZxUvtcbr8Uw</td>\n",
       "      <td>hB0XY4B9ps6ALpBD2k_ZgQ</td>\n",
       "    </tr>\n",
       "    <tr>\n",
       "      <th>27</th>\n",
       "      <td>--5jkZ3-nUPZxUvtcbr8Uw</td>\n",
       "      <td>kffxYQVQsEpF1DVlQlcGCg</td>\n",
       "    </tr>\n",
       "    <tr>\n",
       "      <th>28</th>\n",
       "      <td>--5jkZ3-nUPZxUvtcbr8Uw</td>\n",
       "      <td>kugDSIQMepXHDTFnkcB9mg</td>\n",
       "    </tr>\n",
       "    <tr>\n",
       "      <th>29</th>\n",
       "      <td>--5jkZ3-nUPZxUvtcbr8Uw</td>\n",
       "      <td>p1F6Unak4Wlj0CouSEO6aQ</td>\n",
       "    </tr>\n",
       "    <tr>\n",
       "      <th>...</th>\n",
       "      <td>...</td>\n",
       "      <td>...</td>\n",
       "    </tr>\n",
       "    <tr>\n",
       "      <th>409416</th>\n",
       "      <td>zyvujnBGGpG3WWiDPkil9w</td>\n",
       "      <td>WRsNHFBaDZDVW9Qt0Vn1WQ</td>\n",
       "    </tr>\n",
       "    <tr>\n",
       "      <th>409417</th>\n",
       "      <td>zyvujnBGGpG3WWiDPkil9w</td>\n",
       "      <td>W_R-gVF8OHNrIhtmyhDnyg</td>\n",
       "    </tr>\n",
       "    <tr>\n",
       "      <th>409418</th>\n",
       "      <td>zyvujnBGGpG3WWiDPkil9w</td>\n",
       "      <td>Xe3roFVZWGe1ABkuhN9UCg</td>\n",
       "    </tr>\n",
       "    <tr>\n",
       "      <th>409419</th>\n",
       "      <td>zyvujnBGGpG3WWiDPkil9w</td>\n",
       "      <td>Yk37VAp452K7FwHWd1rrQw</td>\n",
       "    </tr>\n",
       "    <tr>\n",
       "      <th>409420</th>\n",
       "      <td>zyvujnBGGpG3WWiDPkil9w</td>\n",
       "      <td>Z88vOiGEJGtkQnGKFfoUSg</td>\n",
       "    </tr>\n",
       "    <tr>\n",
       "      <th>409421</th>\n",
       "      <td>zyvujnBGGpG3WWiDPkil9w</td>\n",
       "      <td>aL3twjz8GSRBaMiCPPDrlQ</td>\n",
       "    </tr>\n",
       "    <tr>\n",
       "      <th>409422</th>\n",
       "      <td>zyvujnBGGpG3WWiDPkil9w</td>\n",
       "      <td>b2XPhXPQ41qWysIK6RTsFw</td>\n",
       "    </tr>\n",
       "    <tr>\n",
       "      <th>409423</th>\n",
       "      <td>zyvujnBGGpG3WWiDPkil9w</td>\n",
       "      <td>dqmXlUQyDh6d5U2_Zjb-Iw</td>\n",
       "    </tr>\n",
       "    <tr>\n",
       "      <th>409424</th>\n",
       "      <td>zyvujnBGGpG3WWiDPkil9w</td>\n",
       "      <td>dtErUkGCDTwJNjy-U4az6A</td>\n",
       "    </tr>\n",
       "    <tr>\n",
       "      <th>409425</th>\n",
       "      <td>zyvujnBGGpG3WWiDPkil9w</td>\n",
       "      <td>e52xGElt_iDPnEYv294lAw</td>\n",
       "    </tr>\n",
       "    <tr>\n",
       "      <th>409426</th>\n",
       "      <td>zyvujnBGGpG3WWiDPkil9w</td>\n",
       "      <td>fTAHgfAthXwNsvjMCjPwHw</td>\n",
       "    </tr>\n",
       "    <tr>\n",
       "      <th>409427</th>\n",
       "      <td>zyvujnBGGpG3WWiDPkil9w</td>\n",
       "      <td>g6Rpm6VgsBilbnG4Y9i9Ng</td>\n",
       "    </tr>\n",
       "    <tr>\n",
       "      <th>409428</th>\n",
       "      <td>zyvujnBGGpG3WWiDPkil9w</td>\n",
       "      <td>gmr1F-8sjzNns30aK2nXkQ</td>\n",
       "    </tr>\n",
       "    <tr>\n",
       "      <th>409429</th>\n",
       "      <td>zyvujnBGGpG3WWiDPkil9w</td>\n",
       "      <td>hn_DclKLzdxABRGGAuqKgg</td>\n",
       "    </tr>\n",
       "    <tr>\n",
       "      <th>409430</th>\n",
       "      <td>zyvujnBGGpG3WWiDPkil9w</td>\n",
       "      <td>i94JgBKT4T7pGco7W1S0OA</td>\n",
       "    </tr>\n",
       "    <tr>\n",
       "      <th>409431</th>\n",
       "      <td>zyvujnBGGpG3WWiDPkil9w</td>\n",
       "      <td>iChZhRINmSKYoHhesh7grA</td>\n",
       "    </tr>\n",
       "    <tr>\n",
       "      <th>409432</th>\n",
       "      <td>zyvujnBGGpG3WWiDPkil9w</td>\n",
       "      <td>j-kShDJgp5acGhqJAkJHnA</td>\n",
       "    </tr>\n",
       "    <tr>\n",
       "      <th>409433</th>\n",
       "      <td>zyvujnBGGpG3WWiDPkil9w</td>\n",
       "      <td>j8pXbnZdwfdr_nlkdtnJMw</td>\n",
       "    </tr>\n",
       "    <tr>\n",
       "      <th>409434</th>\n",
       "      <td>zyvujnBGGpG3WWiDPkil9w</td>\n",
       "      <td>kOb1hWSwA6aD2mRVy6lqFQ</td>\n",
       "    </tr>\n",
       "    <tr>\n",
       "      <th>409435</th>\n",
       "      <td>zyvujnBGGpG3WWiDPkil9w</td>\n",
       "      <td>lBMCBwbAhfgb5oKqilA7CA</td>\n",
       "    </tr>\n",
       "    <tr>\n",
       "      <th>409436</th>\n",
       "      <td>zyvujnBGGpG3WWiDPkil9w</td>\n",
       "      <td>lgYDQKLxFyX74M0KfSOIjA</td>\n",
       "    </tr>\n",
       "    <tr>\n",
       "      <th>409437</th>\n",
       "      <td>zyvujnBGGpG3WWiDPkil9w</td>\n",
       "      <td>m7vtKWpZ9wdEQ95wJxrMrg</td>\n",
       "    </tr>\n",
       "    <tr>\n",
       "      <th>409438</th>\n",
       "      <td>zyvujnBGGpG3WWiDPkil9w</td>\n",
       "      <td>mXQa2d669tW0pQ1r0t4qsQ</td>\n",
       "    </tr>\n",
       "    <tr>\n",
       "      <th>409439</th>\n",
       "      <td>zyvujnBGGpG3WWiDPkil9w</td>\n",
       "      <td>pEVf8GRshP9HUkSpizc9LA</td>\n",
       "    </tr>\n",
       "    <tr>\n",
       "      <th>409440</th>\n",
       "      <td>zyvujnBGGpG3WWiDPkil9w</td>\n",
       "      <td>pQ6ij6cOBRB3yJGHbVZHUQ</td>\n",
       "    </tr>\n",
       "    <tr>\n",
       "      <th>409441</th>\n",
       "      <td>zyvujnBGGpG3WWiDPkil9w</td>\n",
       "      <td>qxnFi49a-i0O_t_RROWYdg</td>\n",
       "    </tr>\n",
       "    <tr>\n",
       "      <th>409442</th>\n",
       "      <td>zyvujnBGGpG3WWiDPkil9w</td>\n",
       "      <td>rX3BvECGJh8DLy23mgeaKg</td>\n",
       "    </tr>\n",
       "    <tr>\n",
       "      <th>409443</th>\n",
       "      <td>zyvujnBGGpG3WWiDPkil9w</td>\n",
       "      <td>wUEp87FqOB9ew27Iz6zk_w</td>\n",
       "    </tr>\n",
       "    <tr>\n",
       "      <th>409444</th>\n",
       "      <td>zyvujnBGGpG3WWiDPkil9w</td>\n",
       "      <td>wuCszpVPMIMyOCualnZtaw</td>\n",
       "    </tr>\n",
       "    <tr>\n",
       "      <th>409445</th>\n",
       "      <td>zyvujnBGGpG3WWiDPkil9w</td>\n",
       "      <td>y0kTrVVLQBIyPEH2lNCK4g</td>\n",
       "    </tr>\n",
       "  </tbody>\n",
       "</table>\n",
       "<p>409446 rows × 2 columns</p>\n",
       "</div>"
      ],
      "text/plain": [
       "                   business_id                 user_id\n",
       "0       --5jkZ3-nUPZxUvtcbr8Uw  0BT613A1PBxuwxUzjEb6VQ\n",
       "1       --5jkZ3-nUPZxUvtcbr8Uw  2dWZiZonDmR2rDoBrqYOFQ\n",
       "2       --5jkZ3-nUPZxUvtcbr8Uw  7QfecHRoPxw-Uu2GMkGyzQ\n",
       "3       --5jkZ3-nUPZxUvtcbr8Uw  8DEtfP9Fmp5X1DG6iTtXnQ\n",
       "4       --5jkZ3-nUPZxUvtcbr8Uw  8KKUnoYOGRs8nMQLbwoFfA\n",
       "5       --5jkZ3-nUPZxUvtcbr8Uw  ARP1hjIwpYOGdQAg7iEBqA\n",
       "6       --5jkZ3-nUPZxUvtcbr8Uw  BWPbFAPZIv_Prl_ib88jpw\n",
       "7       --5jkZ3-nUPZxUvtcbr8Uw  BZSM6JL92epbwz-Oj3u8KQ\n",
       "8       --5jkZ3-nUPZxUvtcbr8Uw  Br9mpMhkVunsp8Un5GpYWA\n",
       "9       --5jkZ3-nUPZxUvtcbr8Uw  Cp-PV8rsypbO-xBrQ6KmQg\n",
       "10      --5jkZ3-nUPZxUvtcbr8Uw  CwkdQfIWMLFPpa14i8it9g\n",
       "11      --5jkZ3-nUPZxUvtcbr8Uw  F6QsMoJdvtohlbnST-fDyQ\n",
       "12      --5jkZ3-nUPZxUvtcbr8Uw  JHmO-lVrHA0njKnQnZ8qLA\n",
       "13      --5jkZ3-nUPZxUvtcbr8Uw  JpNMQXWX1Z2904D1BGl_Og\n",
       "14      --5jkZ3-nUPZxUvtcbr8Uw  Ki71iAFTxsPPQfX430c99Q\n",
       "15      --5jkZ3-nUPZxUvtcbr8Uw  Kqvfep2mxS10S50FbVDi4Q\n",
       "16      --5jkZ3-nUPZxUvtcbr8Uw  NNdfPF-UhvLB8FxbsuSC5A\n",
       "17      --5jkZ3-nUPZxUvtcbr8Uw  OpN1MhESDpc4_mPpx2Pd9Q\n",
       "18      --5jkZ3-nUPZxUvtcbr8Uw  P1fXuGmbdTz_jfEZLbWYcA\n",
       "19      --5jkZ3-nUPZxUvtcbr8Uw  QAtL9roCZeqQlLDB-Ara7g\n",
       "20      --5jkZ3-nUPZxUvtcbr8Uw  ST8Yzlk2MqKlcaLqL2djBg\n",
       "21      --5jkZ3-nUPZxUvtcbr8Uw  X1C6Ufo9Y0OxoxORBYPOLA\n",
       "22      --5jkZ3-nUPZxUvtcbr8Uw  X8Kwao6QzXNIjoaXyrGO5g\n",
       "23      --5jkZ3-nUPZxUvtcbr8Uw  XTFE2ERq7YvaqGUgQYzVNA\n",
       "24      --5jkZ3-nUPZxUvtcbr8Uw  Z_si9YlkrwzPN114kOCMIQ\n",
       "25      --5jkZ3-nUPZxUvtcbr8Uw  a8gpBi7biN9VAoJwKgl3Xw\n",
       "26      --5jkZ3-nUPZxUvtcbr8Uw  hB0XY4B9ps6ALpBD2k_ZgQ\n",
       "27      --5jkZ3-nUPZxUvtcbr8Uw  kffxYQVQsEpF1DVlQlcGCg\n",
       "28      --5jkZ3-nUPZxUvtcbr8Uw  kugDSIQMepXHDTFnkcB9mg\n",
       "29      --5jkZ3-nUPZxUvtcbr8Uw  p1F6Unak4Wlj0CouSEO6aQ\n",
       "...                        ...                     ...\n",
       "409416  zyvujnBGGpG3WWiDPkil9w  WRsNHFBaDZDVW9Qt0Vn1WQ\n",
       "409417  zyvujnBGGpG3WWiDPkil9w  W_R-gVF8OHNrIhtmyhDnyg\n",
       "409418  zyvujnBGGpG3WWiDPkil9w  Xe3roFVZWGe1ABkuhN9UCg\n",
       "409419  zyvujnBGGpG3WWiDPkil9w  Yk37VAp452K7FwHWd1rrQw\n",
       "409420  zyvujnBGGpG3WWiDPkil9w  Z88vOiGEJGtkQnGKFfoUSg\n",
       "409421  zyvujnBGGpG3WWiDPkil9w  aL3twjz8GSRBaMiCPPDrlQ\n",
       "409422  zyvujnBGGpG3WWiDPkil9w  b2XPhXPQ41qWysIK6RTsFw\n",
       "409423  zyvujnBGGpG3WWiDPkil9w  dqmXlUQyDh6d5U2_Zjb-Iw\n",
       "409424  zyvujnBGGpG3WWiDPkil9w  dtErUkGCDTwJNjy-U4az6A\n",
       "409425  zyvujnBGGpG3WWiDPkil9w  e52xGElt_iDPnEYv294lAw\n",
       "409426  zyvujnBGGpG3WWiDPkil9w  fTAHgfAthXwNsvjMCjPwHw\n",
       "409427  zyvujnBGGpG3WWiDPkil9w  g6Rpm6VgsBilbnG4Y9i9Ng\n",
       "409428  zyvujnBGGpG3WWiDPkil9w  gmr1F-8sjzNns30aK2nXkQ\n",
       "409429  zyvujnBGGpG3WWiDPkil9w  hn_DclKLzdxABRGGAuqKgg\n",
       "409430  zyvujnBGGpG3WWiDPkil9w  i94JgBKT4T7pGco7W1S0OA\n",
       "409431  zyvujnBGGpG3WWiDPkil9w  iChZhRINmSKYoHhesh7grA\n",
       "409432  zyvujnBGGpG3WWiDPkil9w  j-kShDJgp5acGhqJAkJHnA\n",
       "409433  zyvujnBGGpG3WWiDPkil9w  j8pXbnZdwfdr_nlkdtnJMw\n",
       "409434  zyvujnBGGpG3WWiDPkil9w  kOb1hWSwA6aD2mRVy6lqFQ\n",
       "409435  zyvujnBGGpG3WWiDPkil9w  lBMCBwbAhfgb5oKqilA7CA\n",
       "409436  zyvujnBGGpG3WWiDPkil9w  lgYDQKLxFyX74M0KfSOIjA\n",
       "409437  zyvujnBGGpG3WWiDPkil9w  m7vtKWpZ9wdEQ95wJxrMrg\n",
       "409438  zyvujnBGGpG3WWiDPkil9w  mXQa2d669tW0pQ1r0t4qsQ\n",
       "409439  zyvujnBGGpG3WWiDPkil9w  pEVf8GRshP9HUkSpizc9LA\n",
       "409440  zyvujnBGGpG3WWiDPkil9w  pQ6ij6cOBRB3yJGHbVZHUQ\n",
       "409441  zyvujnBGGpG3WWiDPkil9w  qxnFi49a-i0O_t_RROWYdg\n",
       "409442  zyvujnBGGpG3WWiDPkil9w  rX3BvECGJh8DLy23mgeaKg\n",
       "409443  zyvujnBGGpG3WWiDPkil9w  wUEp87FqOB9ew27Iz6zk_w\n",
       "409444  zyvujnBGGpG3WWiDPkil9w  wuCszpVPMIMyOCualnZtaw\n",
       "409445  zyvujnBGGpG3WWiDPkil9w  y0kTrVVLQBIyPEH2lNCK4g\n",
       "\n",
       "[409446 rows x 2 columns]"
      ]
     },
     "execution_count": 280,
     "metadata": {},
     "output_type": "execute_result"
    }
   ],
   "source": [
    "all_value_idx"
   ]
  },
  {
   "cell_type": "code",
   "execution_count": 279,
   "metadata": {
    "ExecuteTime": {
     "end_time": "2017-01-31T14:55:49.591384",
     "start_time": "2017-01-31T14:55:49.532727"
    },
    "collapsed": true,
    "run_control": {
     "frozen": false,
     "read_only": false
    }
   },
   "outputs": [],
   "source": [
    "all_value_idx = pd.DataFrame.from_records(all_value_idx, columns=['business_id', 'user_id'])"
   ]
  },
  {
   "cell_type": "code",
   "execution_count": 113,
   "metadata": {
    "ExecuteTime": {
     "end_time": "2017-01-31T13:05:20.881006",
     "start_time": "2017-01-31T13:05:20.776136"
    },
    "collapsed": false,
    "run_control": {
     "frozen": false,
     "read_only": false
    }
   },
   "outputs": [
    {
     "data": {
      "text/plain": [
       "(409446,)"
      ]
     },
     "execution_count": 113,
     "metadata": {},
     "output_type": "execute_result"
    }
   ],
   "source": [
    "Y.lookup(all_value_idx.business_id, all_value_idx.user_id).shape"
   ]
  },
  {
   "cell_type": "code",
   "execution_count": 114,
   "metadata": {
    "ExecuteTime": {
     "end_time": "2017-01-31T13:05:22.863202",
     "start_time": "2017-01-31T13:05:22.712369"
    },
    "collapsed": false,
    "run_control": {
     "frozen": false,
     "read_only": false
    }
   },
   "outputs": [],
   "source": [
    "query_r = all_value_idx.business_id\n",
    "r = Y.index.values\n",
    "aridx = np.argsort(r)\n",
    "all_row_ids = aridx[np.searchsorted(r,query_r,sorter=aridx)]"
   ]
  },
  {
   "cell_type": "code",
   "execution_count": 115,
   "metadata": {
    "ExecuteTime": {
     "end_time": "2017-01-31T13:05:23.655281",
     "start_time": "2017-01-31T13:05:23.285035"
    },
    "collapsed": false,
    "run_control": {
     "frozen": false,
     "read_only": false
    }
   },
   "outputs": [],
   "source": [
    "query_c = all_value_idx.user_id\n",
    "c = Y.columns.values\n",
    "acidx = np.argsort(c)\n",
    "all_col_ids = acidx[np.searchsorted(c,query_c,sorter=acidx)]"
   ]
  },
  {
   "cell_type": "code",
   "execution_count": 116,
   "metadata": {
    "ExecuteTime": {
     "end_time": "2017-01-31T13:05:24.750790",
     "start_time": "2017-01-31T13:05:24.519673"
    },
    "collapsed": false,
    "run_control": {
     "frozen": false,
     "read_only": false
    }
   },
   "outputs": [
    {
     "data": {
      "text/plain": [
       "0.94389492143042064"
      ]
     },
     "execution_count": 116,
     "metadata": {},
     "output_type": "execute_result"
    }
   ],
   "source": [
    "((np.round(predictions[all_row_ids, all_col_ids]) >= 3) & (Y.lookup(all_value_idx.business_id, all_value_idx.user_id) >= 3) | \n",
    " (predictions[all_row_ids, all_col_ids] < 3) & (Y.lookup(all_value_idx.business_id, all_value_idx.user_id) < 3)).mean()"
   ]
  },
  {
   "cell_type": "code",
   "execution_count": 130,
   "metadata": {
    "ExecuteTime": {
     "end_time": "2017-01-30T12:23:40.599196",
     "start_time": "2017-01-30T12:23:40.596186"
    },
    "collapsed": true,
    "run_control": {
     "frozen": false,
     "read_only": false
    }
   },
   "outputs": [],
   "source": [
    "# for 50 features lambda 1, 20 iterations, the accuracy is 0.9878\n",
    "# for 75 features lambda 10, 100 iterations, the accuracy is 0.9442"
   ]
  },
  {
   "cell_type": "code",
   "execution_count": 150,
   "metadata": {
    "ExecuteTime": {
     "end_time": "2017-01-31T13:16:15.395079",
     "start_time": "2017-01-31T13:16:15.154274"
    },
    "collapsed": true,
    "run_control": {
     "frozen": false,
     "read_only": false
    }
   },
   "outputs": [],
   "source": [
    "import matplotlib.pyplot as plt"
   ]
  },
  {
   "cell_type": "code",
   "execution_count": 165,
   "metadata": {
    "ExecuteTime": {
     "end_time": "2017-01-31T13:19:09.421983",
     "start_time": "2017-01-31T13:19:09.279607"
    },
    "collapsed": false,
    "run_control": {
     "frozen": false,
     "read_only": false
    }
   },
   "outputs": [
    {
     "data": {
      "image/png": "[encoded data removed]",
      "text/plain": [
       "<matplotlib.figure.Figure at 0x260e0feb9e8>"
      ]
     },
     "metadata": {},
     "output_type": "display_data"
    }
   ],
   "source": [
    "i = 0\n",
    "plt.plot(predictions[np.argsort(np.ravel(predictions[:,i]))[::-1], i])\n",
    "plt.show()"
   ]
  },
  {
   "cell_type": "markdown",
   "metadata": {
    "run_control": {
     "frozen": false,
     "read_only": false
    }
   },
   "source": [
    "# Conclusion of Performance:\n",
    "* **The overall accuracy of the dataset, including the masked values is about 98.8% (maybe overfitting) or 94.4%**\n",
    "\n",
    "* **The recommender system model captures the ratings with a good accuracy based on hit or miss evaluation**\n",
    "\n",
    "* **The performance on the test set was better with 75 features, lambda=10, 100 iterations with an MSE = 1.07**"
   ]
  },
  {
   "cell_type": "markdown",
   "metadata": {
    "run_control": {
     "frozen": false,
     "read_only": false
    }
   },
   "source": [
    "# Recommend businesses to users"
   ]
  },
  {
   "cell_type": "code",
   "execution_count": 439,
   "metadata": {
    "ExecuteTime": {
     "end_time": "2017-01-31T18:00:33.997750",
     "start_time": "2017-01-31T18:00:33.988727"
    },
    "collapsed": false,
    "run_control": {
     "frozen": false,
     "read_only": false
    }
   },
   "outputs": [],
   "source": [
    "# The recommend function take the Y matrix, and predictions matrix and the user_id\n",
    "# Returns: the recommended businesses (in desc sorted order), business_id and business index positions\n",
    "def recommend(Y, predictions, user_id):\n",
    "    # get index position of user_id\n",
    "    user_idx = Y.columns.get_loc(user_id)    \n",
    "    # find index positions of non reviewed businesses for this user:\n",
    "    all_recommendation_indices = np.squeeze(np.asarray(np.argsort(predictions[:,user_idx], axis=0)[::-1]))\n",
    "    # find reviewed businesses, find predictions(recommendations) for our user, return businesses in descending sorted order\n",
    "    # remove reviewed businesses from recommendations\n",
    "    rated_businesses = [Y.loc[:,user_id].index.get_loc(i) for i in Y.loc[:,user_id][Y.loc[:,user_id].notnull()].index.tolist()]\n",
    "    all_recommendation_indices = all_recommendation_indices[~np.in1d(all_recommendation_indices,rated_businesses)]\n",
    "    return Y.index[all_recommendation_indices], all_recommendation_indices\n"
   ]
  },
  {
   "cell_type": "code",
   "execution_count": 410,
   "metadata": {
    "ExecuteTime": {
     "end_time": "2017-01-31T17:48:04.996518",
     "start_time": "2017-01-31T17:48:04.989980"
    },
    "collapsed": false
   },
   "outputs": [
    {
     "data": {
      "text/plain": [
       "matrix([[5367],\n",
       "        [1572],\n",
       "        [ 527],\n",
       "        ..., \n",
       "        [6223],\n",
       "        [5783],\n",
       "        [6788]], dtype=int64)"
      ]
     },
     "execution_count": 410,
     "metadata": {},
     "output_type": "execute_result"
    }
   ],
   "source": [
    " np.argsort(predictions[:,1], axis=0)[::-1]"
   ]
  },
  {
   "cell_type": "code",
   "execution_count": 438,
   "metadata": {
    "ExecuteTime": {
     "end_time": "2017-01-31T18:00:26.990259",
     "start_time": "2017-01-31T18:00:26.966745"
    },
    "collapsed": false,
    "run_control": {
     "frozen": false,
     "read_only": false
    }
   },
   "outputs": [
    {
     "ename": "NameError",
     "evalue": "name 'all_recommendations' is not defined",
     "output_type": "error",
     "traceback": [
      "\u001b[0;31m---------------------------------------------------------------------------\u001b[0m",
      "\u001b[0;31mNameError\u001b[0m                                 Traceback (most recent call last)",
      "\u001b[0;32m<ipython-input-438-e751ba220638>\u001b[0m in \u001b[0;36m<module>\u001b[0;34m()\u001b[0m\n\u001b[0;32m----> 1\u001b[0;31m \u001b[0mrecommended_business_names\u001b[0m\u001b[1;33m,\u001b[0m \u001b[0mrecommended_business_idx\u001b[0m \u001b[1;33m=\u001b[0m \u001b[0mrecommend\u001b[0m\u001b[1;33m(\u001b[0m\u001b[0mY\u001b[0m\u001b[1;33m,\u001b[0m \u001b[0mpredictions\u001b[0m\u001b[1;33m,\u001b[0m \u001b[0mY\u001b[0m\u001b[1;33m.\u001b[0m\u001b[0mcolumns\u001b[0m\u001b[1;33m[\u001b[0m\u001b[1;36m1\u001b[0m\u001b[1;33m]\u001b[0m\u001b[1;33m)\u001b[0m\u001b[1;33m\u001b[0m\u001b[0m\n\u001b[0m",
      "\u001b[0;32m<ipython-input-437-a31830a2217c>\u001b[0m in \u001b[0;36mrecommend\u001b[0;34m(Y, predictions, user_id)\u001b[0m\n\u001b[1;32m     10\u001b[0m     \u001b[0mrated_businesses\u001b[0m \u001b[1;33m=\u001b[0m \u001b[1;33m[\u001b[0m\u001b[0mY\u001b[0m\u001b[1;33m.\u001b[0m\u001b[0mloc\u001b[0m\u001b[1;33m[\u001b[0m\u001b[1;33m:\u001b[0m\u001b[1;33m,\u001b[0m\u001b[0muser_id\u001b[0m\u001b[1;33m]\u001b[0m\u001b[1;33m.\u001b[0m\u001b[0mindex\u001b[0m\u001b[1;33m.\u001b[0m\u001b[0mget_loc\u001b[0m\u001b[1;33m(\u001b[0m\u001b[0mi\u001b[0m\u001b[1;33m)\u001b[0m \u001b[1;32mfor\u001b[0m \u001b[0mi\u001b[0m \u001b[1;32min\u001b[0m \u001b[0mY\u001b[0m\u001b[1;33m.\u001b[0m\u001b[0mloc\u001b[0m\u001b[1;33m[\u001b[0m\u001b[1;33m:\u001b[0m\u001b[1;33m,\u001b[0m\u001b[0muser_id\u001b[0m\u001b[1;33m]\u001b[0m\u001b[1;33m[\u001b[0m\u001b[0mY\u001b[0m\u001b[1;33m.\u001b[0m\u001b[0mloc\u001b[0m\u001b[1;33m[\u001b[0m\u001b[1;33m:\u001b[0m\u001b[1;33m,\u001b[0m\u001b[0muser_id\u001b[0m\u001b[1;33m]\u001b[0m\u001b[1;33m.\u001b[0m\u001b[0mnotnull\u001b[0m\u001b[1;33m(\u001b[0m\u001b[1;33m)\u001b[0m\u001b[1;33m]\u001b[0m\u001b[1;33m.\u001b[0m\u001b[0mindex\u001b[0m\u001b[1;33m.\u001b[0m\u001b[0mtolist\u001b[0m\u001b[1;33m(\u001b[0m\u001b[1;33m)\u001b[0m\u001b[1;33m]\u001b[0m\u001b[1;33m\u001b[0m\u001b[0m\n\u001b[1;32m     11\u001b[0m     \u001b[0mall_recommendation_indices\u001b[0m \u001b[1;33m=\u001b[0m \u001b[0mall_recommendation_indices\u001b[0m\u001b[1;33m[\u001b[0m\u001b[1;33m~\u001b[0m\u001b[0mnp\u001b[0m\u001b[1;33m.\u001b[0m\u001b[0min1d\u001b[0m\u001b[1;33m(\u001b[0m\u001b[0mall_recommendation_indices\u001b[0m\u001b[1;33m,\u001b[0m\u001b[0mrated_businesses\u001b[0m\u001b[1;33m)\u001b[0m\u001b[1;33m]\u001b[0m\u001b[1;33m\u001b[0m\u001b[0m\n\u001b[0;32m---> 12\u001b[0;31m     \u001b[1;32mreturn\u001b[0m \u001b[0mY\u001b[0m\u001b[1;33m.\u001b[0m\u001b[0mindex\u001b[0m\u001b[1;33m[\u001b[0m\u001b[0mall_recommendations\u001b[0m\u001b[1;33m]\u001b[0m\u001b[1;33m,\u001b[0m \u001b[0mall_recommendation_indices\u001b[0m\u001b[1;33m\u001b[0m\u001b[0m\n\u001b[0m",
      "\u001b[0;31mNameError\u001b[0m: name 'all_recommendations' is not defined"
     ]
    }
   ],
   "source": [
    "recommended_business_names, recommended_business_idx = recommend(Y, predictions, Y.columns[1])"
   ]
  },
  {
   "cell_type": "code",
   "execution_count": 436,
   "metadata": {
    "ExecuteTime": {
     "end_time": "2017-01-31T17:58:01.564866",
     "start_time": "2017-01-31T17:58:01.558842"
    },
    "collapsed": false
   },
   "outputs": [
    {
     "data": {
      "text/plain": [
       "array([6788, 5783, 6223, ...,  527, 1572, 5367], dtype=int64)"
      ]
     },
     "execution_count": 436,
     "metadata": {},
     "output_type": "execute_result"
    }
   ],
   "source": [
    "recommended_business_idx"
   ]
  },
  {
   "cell_type": "code",
   "execution_count": 415,
   "metadata": {
    "ExecuteTime": {
     "end_time": "2017-01-31T17:48:51.081942",
     "start_time": "2017-01-31T17:48:51.067905"
    },
    "collapsed": false
   },
   "outputs": [],
   "source": [
    "# This could have been done from the beginning, keeping the business_id index\n",
    "business.set_index('business_id', drop=False, verify_integrity=True, inplace=True)"
   ]
  },
  {
   "cell_type": "code",
   "execution_count": 416,
   "metadata": {
    "ExecuteTime": {
     "end_time": "2017-01-31T17:48:51.783373",
     "start_time": "2017-01-31T17:48:51.728722"
    },
    "collapsed": false,
    "scrolled": true
   },
   "outputs": [
    {
     "data": {
      "text/html": [
       "<div>\n",
       "<table border=\"1\" class=\"dataframe\">\n",
       "  <thead>\n",
       "    <tr style=\"text-align: right;\">\n",
       "      <th></th>\n",
       "      <th>attributes</th>\n",
       "      <th>business_id</th>\n",
       "      <th>categories</th>\n",
       "      <th>city</th>\n",
       "      <th>full_address</th>\n",
       "      <th>hours</th>\n",
       "      <th>latitude</th>\n",
       "      <th>longitude</th>\n",
       "      <th>name</th>\n",
       "      <th>neighborhoods</th>\n",
       "      <th>open</th>\n",
       "      <th>review_count</th>\n",
       "      <th>stars</th>\n",
       "      <th>state</th>\n",
       "      <th>type</th>\n",
       "    </tr>\n",
       "    <tr>\n",
       "      <th>business_id</th>\n",
       "      <th></th>\n",
       "      <th></th>\n",
       "      <th></th>\n",
       "      <th></th>\n",
       "      <th></th>\n",
       "      <th></th>\n",
       "      <th></th>\n",
       "      <th></th>\n",
       "      <th></th>\n",
       "      <th></th>\n",
       "      <th></th>\n",
       "      <th></th>\n",
       "      <th></th>\n",
       "      <th></th>\n",
       "      <th></th>\n",
       "    </tr>\n",
       "  </thead>\n",
       "  <tbody>\n",
       "    <tr>\n",
       "      <th>vARjqeIkSNsazHltujiq4Q</th>\n",
       "      <td>{'Good For': {'dessert': False, 'breakfast': F...</td>\n",
       "      <td>vARjqeIkSNsazHltujiq4Q</td>\n",
       "      <td>[British, Restaurants]</td>\n",
       "      <td>Mesa</td>\n",
       "      <td>1941 W Guadalupe Rd\\nSte 101\\nMesa, AZ 85202</td>\n",
       "      <td>{'Wednesday': {'open': '11:00', 'close': '00:0...</td>\n",
       "      <td>33.362700</td>\n",
       "      <td>-111.876051</td>\n",
       "      <td>Cornish Pasty Company</td>\n",
       "      <td>[]</td>\n",
       "      <td>True</td>\n",
       "      <td>884</td>\n",
       "      <td>4.5</td>\n",
       "      <td>AZ</td>\n",
       "      <td>business</td>\n",
       "    </tr>\n",
       "    <tr>\n",
       "      <th>mQde7KRomOQoUyPGTqeXhA</th>\n",
       "      <td>{}</td>\n",
       "      <td>mQde7KRomOQoUyPGTqeXhA</td>\n",
       "      <td>[Animal Shelters, Veterinarians, Pet Stores, P...</td>\n",
       "      <td>Phoenix</td>\n",
       "      <td>1521 W Dobbins Rd\\nPhoenix, AZ 85041</td>\n",
       "      <td>{'Wednesday': {'open': '11:00', 'close': '18:0...</td>\n",
       "      <td>33.362442</td>\n",
       "      <td>-112.092663</td>\n",
       "      <td>Arizona Humane Society</td>\n",
       "      <td>[]</td>\n",
       "      <td>True</td>\n",
       "      <td>64</td>\n",
       "      <td>4.5</td>\n",
       "      <td>AZ</td>\n",
       "      <td>business</td>\n",
       "    </tr>\n",
       "    <tr>\n",
       "      <th>qMkIbQFrROSnPaQ7at85-w</th>\n",
       "      <td>{'Wheelchair Accessible': True, 'Smoking': 'no...</td>\n",
       "      <td>qMkIbQFrROSnPaQ7at85-w</td>\n",
       "      <td>[Arts &amp; Entertainment, Music Venues, Parks, Ni...</td>\n",
       "      <td>Phoenix</td>\n",
       "      <td>1201 N Galvin Pkwy\\nPhoenix, AZ 85008</td>\n",
       "      <td>{'Wednesday': {'open': '08:00', 'close': '20:0...</td>\n",
       "      <td>33.462167</td>\n",
       "      <td>-111.944972</td>\n",
       "      <td>Desert Botanical Garden</td>\n",
       "      <td>[]</td>\n",
       "      <td>True</td>\n",
       "      <td>598</td>\n",
       "      <td>4.5</td>\n",
       "      <td>AZ</td>\n",
       "      <td>business</td>\n",
       "    </tr>\n",
       "  </tbody>\n",
       "</table>\n",
       "</div>"
      ],
      "text/plain": [
       "                                                               attributes  \\\n",
       "business_id                                                                 \n",
       "vARjqeIkSNsazHltujiq4Q  {'Good For': {'dessert': False, 'breakfast': F...   \n",
       "mQde7KRomOQoUyPGTqeXhA                                                 {}   \n",
       "qMkIbQFrROSnPaQ7at85-w  {'Wheelchair Accessible': True, 'Smoking': 'no...   \n",
       "\n",
       "                                   business_id  \\\n",
       "business_id                                      \n",
       "vARjqeIkSNsazHltujiq4Q  vARjqeIkSNsazHltujiq4Q   \n",
       "mQde7KRomOQoUyPGTqeXhA  mQde7KRomOQoUyPGTqeXhA   \n",
       "qMkIbQFrROSnPaQ7at85-w  qMkIbQFrROSnPaQ7at85-w   \n",
       "\n",
       "                                                               categories  \\\n",
       "business_id                                                                 \n",
       "vARjqeIkSNsazHltujiq4Q                             [British, Restaurants]   \n",
       "mQde7KRomOQoUyPGTqeXhA  [Animal Shelters, Veterinarians, Pet Stores, P...   \n",
       "qMkIbQFrROSnPaQ7at85-w  [Arts & Entertainment, Music Venues, Parks, Ni...   \n",
       "\n",
       "                           city                                  full_address  \\\n",
       "business_id                                                                     \n",
       "vARjqeIkSNsazHltujiq4Q     Mesa  1941 W Guadalupe Rd\\nSte 101\\nMesa, AZ 85202   \n",
       "mQde7KRomOQoUyPGTqeXhA  Phoenix          1521 W Dobbins Rd\\nPhoenix, AZ 85041   \n",
       "qMkIbQFrROSnPaQ7at85-w  Phoenix         1201 N Galvin Pkwy\\nPhoenix, AZ 85008   \n",
       "\n",
       "                                                                    hours  \\\n",
       "business_id                                                                 \n",
       "vARjqeIkSNsazHltujiq4Q  {'Wednesday': {'open': '11:00', 'close': '00:0...   \n",
       "mQde7KRomOQoUyPGTqeXhA  {'Wednesday': {'open': '11:00', 'close': '18:0...   \n",
       "qMkIbQFrROSnPaQ7at85-w  {'Wednesday': {'open': '08:00', 'close': '20:0...   \n",
       "\n",
       "                         latitude   longitude                     name  \\\n",
       "business_id                                                              \n",
       "vARjqeIkSNsazHltujiq4Q  33.362700 -111.876051    Cornish Pasty Company   \n",
       "mQde7KRomOQoUyPGTqeXhA  33.362442 -112.092663   Arizona Humane Society   \n",
       "qMkIbQFrROSnPaQ7at85-w  33.462167 -111.944972  Desert Botanical Garden   \n",
       "\n",
       "                       neighborhoods  open  review_count  stars state  \\\n",
       "business_id                                                             \n",
       "vARjqeIkSNsazHltujiq4Q            []  True           884    4.5    AZ   \n",
       "mQde7KRomOQoUyPGTqeXhA            []  True            64    4.5    AZ   \n",
       "qMkIbQFrROSnPaQ7at85-w            []  True           598    4.5    AZ   \n",
       "\n",
       "                            type  \n",
       "business_id                       \n",
       "vARjqeIkSNsazHltujiq4Q  business  \n",
       "mQde7KRomOQoUyPGTqeXhA  business  \n",
       "qMkIbQFrROSnPaQ7at85-w  business  "
      ]
     },
     "execution_count": 416,
     "metadata": {},
     "output_type": "execute_result"
    }
   ],
   "source": [
    "business.loc[recommended_business_names][:3]"
   ]
  },
  {
   "cell_type": "markdown",
   "metadata": {},
   "source": [
    "# Filtering Recommendations to only businesses within states that user had been to (based on user reviewed businesses)"
   ]
  },
  {
   "cell_type": "code",
   "execution_count": 418,
   "metadata": {
    "ExecuteTime": {
     "end_time": "2017-01-31T17:49:19.998107",
     "start_time": "2017-01-31T17:49:19.983044"
    },
    "collapsed": false
   },
   "outputs": [
    {
     "data": {
      "text/plain": [
       "Index(['vARjqeIkSNsazHltujiq4Q', 'mQde7KRomOQoUyPGTqeXhA',\n",
       "       'qMkIbQFrROSnPaQ7at85-w', 'QBHcPkoRsPb68Oq7zRj44A',\n",
       "       'CZBYYCb4xBwNlSIYNc6Eiw', 'L-bwqJzTbT7ODisS4sepJg',\n",
       "       'nYer89hXYAoddMEKTxw7kA', 'qcF6SHcGRML7gihfpNl_zA',\n",
       "       '84NQRcMC0ldIC86yRw0vpA', '_tYT5_N3zCwrpkdfVhqrnw',\n",
       "       ...\n",
       "       'KVYSUfN89b-nih-_9HhF6g', 'GQ6bCvYZxdGY6ZQyeZFeVg',\n",
       "       '_G5pDGRJL0mhLRgIViW2sA', 'cSYSUZ3YbwR_RTughnoy5A',\n",
       "       'PEyRw3HOWcDnd2XHRLq5RQ', 'wyqwO4ZqZyRR6pGk1pTBrA',\n",
       "       'UuBZkKnckkRmYt3jFn2gaQ', '3e9IUI5Dt-ktDKEQNkENVA',\n",
       "       'CJ8IURVsHxTIu2Kzp2Kumw', 'inDYSqSDMyrfBhOZc702rw'],\n",
       "      dtype='object', name='business_id', length=7235)"
      ]
     },
     "execution_count": 418,
     "metadata": {},
     "output_type": "execute_result"
    }
   ],
   "source": [
    "recommended_business_names, recommended_business_idx = recommend(Y, predictions, Y.columns[1])\n",
    "recommended_business_names"
   ]
  },
  {
   "cell_type": "code",
   "execution_count": 425,
   "metadata": {
    "ExecuteTime": {
     "end_time": "2017-01-31T17:54:45.070107",
     "start_time": "2017-01-31T17:54:45.036482"
    },
    "collapsed": false,
    "scrolled": true
   },
   "outputs": [
    {
     "ename": "ValueError",
     "evalue": "Lengths must be equal",
     "output_type": "error",
     "traceback": [
      "\u001b[0;31m---------------------------------------------------------------------------\u001b[0m",
      "\u001b[0;31mValueError\u001b[0m                                Traceback (most recent call last)",
      "\u001b[0;32m<ipython-input-425-ca911b2d9de0>\u001b[0m in \u001b[0;36m<module>\u001b[0;34m()\u001b[0m\n\u001b[0;32m----> 1\u001b[0;31m \u001b[0mbusiness\u001b[0m\u001b[1;33m.\u001b[0m\u001b[0mloc\u001b[0m\u001b[1;33m[\u001b[0m\u001b[0mrecommended_business_names\u001b[0m\u001b[1;33m]\u001b[0m\u001b[1;33m.\u001b[0m\u001b[0mstars\u001b[0m\u001b[1;33m.\u001b[0m\u001b[0madd\u001b[0m\u001b[1;33m(\u001b[0m \u001b[0mpredictions\u001b[0m\u001b[1;33m[\u001b[0m\u001b[0mnp\u001b[0m\u001b[1;33m.\u001b[0m\u001b[0margsort\u001b[0m\u001b[1;33m(\u001b[0m\u001b[0mpredictions\u001b[0m\u001b[1;33m[\u001b[0m\u001b[1;33m:\u001b[0m\u001b[1;33m,\u001b[0m\u001b[1;36m1\u001b[0m\u001b[1;33m]\u001b[0m\u001b[1;33m,\u001b[0m \u001b[0maxis\u001b[0m\u001b[1;33m=\u001b[0m\u001b[1;36m0\u001b[0m\u001b[1;33m)\u001b[0m\u001b[1;33m[\u001b[0m\u001b[1;33m:\u001b[0m\u001b[1;33m:\u001b[0m\u001b[1;33m-\u001b[0m\u001b[1;36m1\u001b[0m\u001b[1;33m]\u001b[0m\u001b[1;33m,\u001b[0m\u001b[1;36m1\u001b[0m\u001b[1;33m]\u001b[0m\u001b[1;33m)\u001b[0m\u001b[1;33m\u001b[0m\u001b[0m\n\u001b[0m",
      "\u001b[0;32mC:\\Users\\ali_a\\Anaconda3\\lib\\site-packages\\pandas\\core\\ops.py\u001b[0m in \u001b[0;36mflex_wrapper\u001b[0;34m(self, other, level, fill_value, axis)\u001b[0m\n\u001b[1;32m   1046\u001b[0m         \u001b[1;32melif\u001b[0m \u001b[0misinstance\u001b[0m\u001b[1;33m(\u001b[0m\u001b[0mother\u001b[0m\u001b[1;33m,\u001b[0m \u001b[1;33m(\u001b[0m\u001b[0mnp\u001b[0m\u001b[1;33m.\u001b[0m\u001b[0mndarray\u001b[0m\u001b[1;33m,\u001b[0m \u001b[0mlist\u001b[0m\u001b[1;33m,\u001b[0m \u001b[0mtuple\u001b[0m\u001b[1;33m)\u001b[0m\u001b[1;33m)\u001b[0m\u001b[1;33m:\u001b[0m\u001b[1;33m\u001b[0m\u001b[0m\n\u001b[1;32m   1047\u001b[0m             \u001b[1;32mif\u001b[0m \u001b[0mlen\u001b[0m\u001b[1;33m(\u001b[0m\u001b[0mother\u001b[0m\u001b[1;33m)\u001b[0m \u001b[1;33m!=\u001b[0m \u001b[0mlen\u001b[0m\u001b[1;33m(\u001b[0m\u001b[0mself\u001b[0m\u001b[1;33m)\u001b[0m\u001b[1;33m:\u001b[0m\u001b[1;33m\u001b[0m\u001b[0m\n\u001b[0;32m-> 1048\u001b[0;31m                 \u001b[1;32mraise\u001b[0m \u001b[0mValueError\u001b[0m\u001b[1;33m(\u001b[0m\u001b[1;34m'Lengths must be equal'\u001b[0m\u001b[1;33m)\u001b[0m\u001b[1;33m\u001b[0m\u001b[0m\n\u001b[0m\u001b[1;32m   1049\u001b[0m             return self._binop(self._constructor(other, self.index), op,\n\u001b[1;32m   1050\u001b[0m                                level=level, fill_value=fill_value)\n",
      "\u001b[0;31mValueError\u001b[0m: Lengths must be equal"
     ]
    }
   ],
   "source": [
    "business.loc[recommended_business_names].stars.add( predictions[np.argsort(predictions[:,1], axis=0)[::-1],1])"
   ]
  },
  {
   "cell_type": "code",
   "execution_count": 374,
   "metadata": {
    "ExecuteTime": {
     "end_time": "2017-01-31T16:53:33.400753",
     "start_time": "2017-01-31T16:53:33.267399"
    },
    "collapsed": false
   },
   "outputs": [
    {
     "data": {
      "text/plain": [
       "array(['AZ', 'NV'], dtype=object)"
      ]
     },
     "execution_count": 374,
     "metadata": {},
     "output_type": "execute_result"
    }
   ],
   "source": [
    "business.loc[rev_biz_usr[rev_biz_usr.user_id == Y.columns[1]].business_id.unique()].state.unique()"
   ]
  },
  {
   "cell_type": "markdown",
   "metadata": {},
   "source": [
    "# REACHED HERE: CHECK if rev_biz_usr  is needed (use Y instead?)\n",
    "## Check order of recommendations"
   ]
  },
  {
   "cell_type": "code",
   "execution_count": 446,
   "metadata": {
    "ExecuteTime": {
     "end_time": "2017-01-31T18:05:00.188999",
     "start_time": "2017-01-31T18:05:00.185000"
    },
    "collapsed": false
   },
   "outputs": [],
   "source": [
    "user_id = Y.columns[1]"
   ]
  },
  {
   "cell_type": "code",
   "execution_count": 447,
   "metadata": {
    "ExecuteTime": {
     "end_time": "2017-01-31T18:05:03.511046",
     "start_time": "2017-01-31T18:05:03.496528"
    },
    "collapsed": false
   },
   "outputs": [
    {
     "data": {
      "text/plain": [
       "[100,\n",
       " 224,\n",
       " 244,\n",
       " 252,\n",
       " 271,\n",
       " 446,\n",
       " 507,\n",
       " 517,\n",
       " 542,\n",
       " 545,\n",
       " 626,\n",
       " 738,\n",
       " 743,\n",
       " 764,\n",
       " 858,\n",
       " 900,\n",
       " 1192,\n",
       " 1357,\n",
       " 1366,\n",
       " 1379,\n",
       " 1490,\n",
       " 1575,\n",
       " 1634,\n",
       " 1639,\n",
       " 1673,\n",
       " 1683,\n",
       " 1732,\n",
       " 1742,\n",
       " 1814,\n",
       " 1962,\n",
       " 1969,\n",
       " 1971,\n",
       " 1988,\n",
       " 2023,\n",
       " 2079,\n",
       " 2256,\n",
       " 2261,\n",
       " 2304,\n",
       " 2306,\n",
       " 2371,\n",
       " 2401,\n",
       " 2414,\n",
       " 2450,\n",
       " 2596,\n",
       " 2600,\n",
       " 2680,\n",
       " 2693,\n",
       " 2853,\n",
       " 3106,\n",
       " 3146,\n",
       " 3227,\n",
       " 3538,\n",
       " 3541,\n",
       " 3559,\n",
       " 3562,\n",
       " 3592,\n",
       " 3607,\n",
       " 3621,\n",
       " 3712,\n",
       " 3768,\n",
       " 3866,\n",
       " 3903,\n",
       " 3967,\n",
       " 3968,\n",
       " 4106,\n",
       " 4287,\n",
       " 4318,\n",
       " 4383,\n",
       " 4430,\n",
       " 4436,\n",
       " 4479,\n",
       " 4601,\n",
       " 4613,\n",
       " 4658,\n",
       " 4700,\n",
       " 4701,\n",
       " 4749,\n",
       " 4864,\n",
       " 4878,\n",
       " 4881,\n",
       " 4899,\n",
       " 4905,\n",
       " 5055,\n",
       " 5057,\n",
       " 5240,\n",
       " 5312,\n",
       " 5318,\n",
       " 5421,\n",
       " 5446,\n",
       " 5458,\n",
       " 5516,\n",
       " 5601,\n",
       " 5723,\n",
       " 5742,\n",
       " 5835,\n",
       " 5900,\n",
       " 5976,\n",
       " 6009,\n",
       " 6120,\n",
       " 6191,\n",
       " 6239,\n",
       " 6282,\n",
       " 6311,\n",
       " 6319,\n",
       " 6330,\n",
       " 6365,\n",
       " 6501,\n",
       " 6504,\n",
       " 6557,\n",
       " 6565,\n",
       " 6649,\n",
       " 7051,\n",
       " 7054,\n",
       " 7055,\n",
       " 7056,\n",
       " 7134,\n",
       " 7181,\n",
       " 7214,\n",
       " 7228,\n",
       " 7229,\n",
       " 7232,\n",
       " 7273,\n",
       " 7343,\n",
       " 7348,\n",
       " 7358]"
      ]
     },
     "execution_count": 447,
     "metadata": {},
     "output_type": "execute_result"
    }
   ],
   "source": [
    "[Y.loc[:,user_id].index.get_loc(i) for i in Y.loc[:,user_id][Y.loc[:,user_id].notnull()].index.tolist()]"
   ]
  },
  {
   "cell_type": "code",
   "execution_count": 442,
   "metadata": {
    "ExecuteTime": {
     "end_time": "2017-01-31T18:02:29.224877",
     "start_time": "2017-01-31T18:02:29.201314"
    },
    "collapsed": false
   },
   "outputs": [
    {
     "data": {
      "text/html": [
       "<div>\n",
       "<table border=\"1\" class=\"dataframe\">\n",
       "  <thead>\n",
       "    <tr style=\"text-align: right;\">\n",
       "      <th></th>\n",
       "      <th>business_id</th>\n",
       "      <th>stars_x</th>\n",
       "      <th>user_id</th>\n",
       "    </tr>\n",
       "  </thead>\n",
       "  <tbody>\n",
       "    <tr>\n",
       "      <th>42</th>\n",
       "      <td>2SwC8wqpZC4B9iFVTgYT9A</td>\n",
       "      <td>3</td>\n",
       "      <td>tAKjY3bQXH51msJbOHYPmQ</td>\n",
       "    </tr>\n",
       "    <tr>\n",
       "      <th>43</th>\n",
       "      <td>kj3qws3WSMgOotUeACSdFA</td>\n",
       "      <td>3</td>\n",
       "      <td>tAKjY3bQXH51msJbOHYPmQ</td>\n",
       "    </tr>\n",
       "    <tr>\n",
       "      <th>49</th>\n",
       "      <td>vgXE1I7c9ElcfYyZfQiN1Q</td>\n",
       "      <td>2</td>\n",
       "      <td>tAKjY3bQXH51msJbOHYPmQ</td>\n",
       "    </tr>\n",
       "    <tr>\n",
       "      <th>51</th>\n",
       "      <td>bwu0cUZfksuu-uzTPrrl2A</td>\n",
       "      <td>3</td>\n",
       "      <td>tAKjY3bQXH51msJbOHYPmQ</td>\n",
       "    </tr>\n",
       "    <tr>\n",
       "      <th>52</th>\n",
       "      <td>dVf7896SPwE8jEenEhI6Pg</td>\n",
       "      <td>4</td>\n",
       "      <td>tAKjY3bQXH51msJbOHYPmQ</td>\n",
       "    </tr>\n",
       "    <tr>\n",
       "      <th>53</th>\n",
       "      <td>3WgM6mvYrPDxGJ5fADSkUw</td>\n",
       "      <td>4</td>\n",
       "      <td>tAKjY3bQXH51msJbOHYPmQ</td>\n",
       "    </tr>\n",
       "    <tr>\n",
       "      <th>54</th>\n",
       "      <td>q_2HooHFCE9wAwmXQPkuyg</td>\n",
       "      <td>3</td>\n",
       "      <td>tAKjY3bQXH51msJbOHYPmQ</td>\n",
       "    </tr>\n",
       "    <tr>\n",
       "      <th>55</th>\n",
       "      <td>QGWyhvvLjaT1Szw-segoOg</td>\n",
       "      <td>2</td>\n",
       "      <td>tAKjY3bQXH51msJbOHYPmQ</td>\n",
       "    </tr>\n",
       "    <tr>\n",
       "      <th>57</th>\n",
       "      <td>d3ni6cKglu4L3JeveOqQDQ</td>\n",
       "      <td>3</td>\n",
       "      <td>tAKjY3bQXH51msJbOHYPmQ</td>\n",
       "    </tr>\n",
       "    <tr>\n",
       "      <th>58</th>\n",
       "      <td>RhOTBt7ISr2rhXisSMLTSw</td>\n",
       "      <td>5</td>\n",
       "      <td>tAKjY3bQXH51msJbOHYPmQ</td>\n",
       "    </tr>\n",
       "    <tr>\n",
       "      <th>59</th>\n",
       "      <td>Q4ULAiIE2qCA4RYplCTrUQ</td>\n",
       "      <td>2</td>\n",
       "      <td>tAKjY3bQXH51msJbOHYPmQ</td>\n",
       "    </tr>\n",
       "    <tr>\n",
       "      <th>60</th>\n",
       "      <td>YPoHtUq85TmNrBpqj_zmuA</td>\n",
       "      <td>4</td>\n",
       "      <td>tAKjY3bQXH51msJbOHYPmQ</td>\n",
       "    </tr>\n",
       "    <tr>\n",
       "      <th>61</th>\n",
       "      <td>1zKH87sjLpRr8XDKmk7j1g</td>\n",
       "      <td>2</td>\n",
       "      <td>tAKjY3bQXH51msJbOHYPmQ</td>\n",
       "    </tr>\n",
       "    <tr>\n",
       "      <th>62</th>\n",
       "      <td>v7e-GIGgEIFANhHsywlhrw</td>\n",
       "      <td>4</td>\n",
       "      <td>tAKjY3bQXH51msJbOHYPmQ</td>\n",
       "    </tr>\n",
       "    <tr>\n",
       "      <th>63</th>\n",
       "      <td>XtN9tcefxJtubhUSH_Xg3g</td>\n",
       "      <td>5</td>\n",
       "      <td>tAKjY3bQXH51msJbOHYPmQ</td>\n",
       "    </tr>\n",
       "    <tr>\n",
       "      <th>64</th>\n",
       "      <td>escSqSs7Gma9mu0CXkQIiA</td>\n",
       "      <td>4</td>\n",
       "      <td>tAKjY3bQXH51msJbOHYPmQ</td>\n",
       "    </tr>\n",
       "    <tr>\n",
       "      <th>65</th>\n",
       "      <td>escSqSs7Gma9mu0CXkQIiA</td>\n",
       "      <td>4</td>\n",
       "      <td>tAKjY3bQXH51msJbOHYPmQ</td>\n",
       "    </tr>\n",
       "    <tr>\n",
       "      <th>68</th>\n",
       "      <td>mDOBApO3-M2024kWjhMNDg</td>\n",
       "      <td>4</td>\n",
       "      <td>tAKjY3bQXH51msJbOHYPmQ</td>\n",
       "    </tr>\n",
       "    <tr>\n",
       "      <th>69</th>\n",
       "      <td>mDOBApO3-M2024kWjhMNDg</td>\n",
       "      <td>4</td>\n",
       "      <td>tAKjY3bQXH51msJbOHYPmQ</td>\n",
       "    </tr>\n",
       "    <tr>\n",
       "      <th>70</th>\n",
       "      <td>rR_szXNwNQB-MgEoTElb8Q</td>\n",
       "      <td>3</td>\n",
       "      <td>tAKjY3bQXH51msJbOHYPmQ</td>\n",
       "    </tr>\n",
       "    <tr>\n",
       "      <th>72</th>\n",
       "      <td>H18C9tH4BPHkxan96bkMXQ</td>\n",
       "      <td>4</td>\n",
       "      <td>tAKjY3bQXH51msJbOHYPmQ</td>\n",
       "    </tr>\n",
       "    <tr>\n",
       "      <th>74</th>\n",
       "      <td>7xNe2WZAQUGMp1_CxGVKnQ</td>\n",
       "      <td>4</td>\n",
       "      <td>tAKjY3bQXH51msJbOHYPmQ</td>\n",
       "    </tr>\n",
       "    <tr>\n",
       "      <th>77</th>\n",
       "      <td>HHYSvEjbhYAFghUsC66QEw</td>\n",
       "      <td>5</td>\n",
       "      <td>tAKjY3bQXH51msJbOHYPmQ</td>\n",
       "    </tr>\n",
       "    <tr>\n",
       "      <th>80</th>\n",
       "      <td>kg4AP5am_IUczgp1neOvMw</td>\n",
       "      <td>2</td>\n",
       "      <td>tAKjY3bQXH51msJbOHYPmQ</td>\n",
       "    </tr>\n",
       "    <tr>\n",
       "      <th>81</th>\n",
       "      <td>-Xl2R863UWrQEyp4dSzMaA</td>\n",
       "      <td>4</td>\n",
       "      <td>tAKjY3bQXH51msJbOHYPmQ</td>\n",
       "    </tr>\n",
       "    <tr>\n",
       "      <th>82</th>\n",
       "      <td>Oq01QS2G1OvCsunccVSgxQ</td>\n",
       "      <td>3</td>\n",
       "      <td>tAKjY3bQXH51msJbOHYPmQ</td>\n",
       "    </tr>\n",
       "    <tr>\n",
       "      <th>84</th>\n",
       "      <td>X7844DdJO4y2oVbcpxD-NA</td>\n",
       "      <td>4</td>\n",
       "      <td>tAKjY3bQXH51msJbOHYPmQ</td>\n",
       "    </tr>\n",
       "    <tr>\n",
       "      <th>85</th>\n",
       "      <td>x8GTTMIAtUJ5EsIMnsOacQ</td>\n",
       "      <td>4</td>\n",
       "      <td>tAKjY3bQXH51msJbOHYPmQ</td>\n",
       "    </tr>\n",
       "    <tr>\n",
       "      <th>86</th>\n",
       "      <td>ewN984Rvux04uuQFrGu7mw</td>\n",
       "      <td>3</td>\n",
       "      <td>tAKjY3bQXH51msJbOHYPmQ</td>\n",
       "    </tr>\n",
       "    <tr>\n",
       "      <th>88</th>\n",
       "      <td>SsGNAc9U-aKPZccnaDtFkA</td>\n",
       "      <td>3</td>\n",
       "      <td>tAKjY3bQXH51msJbOHYPmQ</td>\n",
       "    </tr>\n",
       "    <tr>\n",
       "      <th>...</th>\n",
       "      <td>...</td>\n",
       "      <td>...</td>\n",
       "      <td>...</td>\n",
       "    </tr>\n",
       "    <tr>\n",
       "      <th>1222290</th>\n",
       "      <td>PT8kPZPnrY2UYRZ_An58WA</td>\n",
       "      <td>5</td>\n",
       "      <td>C2RiYrCAdvj7Sh0p6I8G7Q</td>\n",
       "    </tr>\n",
       "    <tr>\n",
       "      <th>1222291</th>\n",
       "      <td>PT8kPZPnrY2UYRZ_An58WA</td>\n",
       "      <td>5</td>\n",
       "      <td>C2RiYrCAdvj7Sh0p6I8G7Q</td>\n",
       "    </tr>\n",
       "    <tr>\n",
       "      <th>1222292</th>\n",
       "      <td>PT8kPZPnrY2UYRZ_An58WA</td>\n",
       "      <td>5</td>\n",
       "      <td>C2RiYrCAdvj7Sh0p6I8G7Q</td>\n",
       "    </tr>\n",
       "    <tr>\n",
       "      <th>1222293</th>\n",
       "      <td>PT8kPZPnrY2UYRZ_An58WA</td>\n",
       "      <td>5</td>\n",
       "      <td>C2RiYrCAdvj7Sh0p6I8G7Q</td>\n",
       "    </tr>\n",
       "    <tr>\n",
       "      <th>1222294</th>\n",
       "      <td>PT8kPZPnrY2UYRZ_An58WA</td>\n",
       "      <td>5</td>\n",
       "      <td>C2RiYrCAdvj7Sh0p6I8G7Q</td>\n",
       "    </tr>\n",
       "    <tr>\n",
       "      <th>1222295</th>\n",
       "      <td>0i0PwU8lpj4evYKQogWxcA</td>\n",
       "      <td>1</td>\n",
       "      <td>C2RiYrCAdvj7Sh0p6I8G7Q</td>\n",
       "    </tr>\n",
       "    <tr>\n",
       "      <th>1222296</th>\n",
       "      <td>25fxw_jOqZtJwl18cCarIA</td>\n",
       "      <td>1</td>\n",
       "      <td>C2RiYrCAdvj7Sh0p6I8G7Q</td>\n",
       "    </tr>\n",
       "    <tr>\n",
       "      <th>1222297</th>\n",
       "      <td>6O9iAmAv7vUl-Eeqb9bmpw</td>\n",
       "      <td>5</td>\n",
       "      <td>C2RiYrCAdvj7Sh0p6I8G7Q</td>\n",
       "    </tr>\n",
       "    <tr>\n",
       "      <th>1222298</th>\n",
       "      <td>6O9iAmAv7vUl-Eeqb9bmpw</td>\n",
       "      <td>5</td>\n",
       "      <td>C2RiYrCAdvj7Sh0p6I8G7Q</td>\n",
       "    </tr>\n",
       "    <tr>\n",
       "      <th>1222299</th>\n",
       "      <td>6O9iAmAv7vUl-Eeqb9bmpw</td>\n",
       "      <td>5</td>\n",
       "      <td>C2RiYrCAdvj7Sh0p6I8G7Q</td>\n",
       "    </tr>\n",
       "    <tr>\n",
       "      <th>1222300</th>\n",
       "      <td>6O9iAmAv7vUl-Eeqb9bmpw</td>\n",
       "      <td>5</td>\n",
       "      <td>C2RiYrCAdvj7Sh0p6I8G7Q</td>\n",
       "    </tr>\n",
       "    <tr>\n",
       "      <th>1222301</th>\n",
       "      <td>6O9iAmAv7vUl-Eeqb9bmpw</td>\n",
       "      <td>5</td>\n",
       "      <td>C2RiYrCAdvj7Sh0p6I8G7Q</td>\n",
       "    </tr>\n",
       "    <tr>\n",
       "      <th>1222302</th>\n",
       "      <td>6O9iAmAv7vUl-Eeqb9bmpw</td>\n",
       "      <td>5</td>\n",
       "      <td>C2RiYrCAdvj7Sh0p6I8G7Q</td>\n",
       "    </tr>\n",
       "    <tr>\n",
       "      <th>1222303</th>\n",
       "      <td>6O9iAmAv7vUl-Eeqb9bmpw</td>\n",
       "      <td>5</td>\n",
       "      <td>C2RiYrCAdvj7Sh0p6I8G7Q</td>\n",
       "    </tr>\n",
       "    <tr>\n",
       "      <th>1222304</th>\n",
       "      <td>6O9iAmAv7vUl-Eeqb9bmpw</td>\n",
       "      <td>5</td>\n",
       "      <td>C2RiYrCAdvj7Sh0p6I8G7Q</td>\n",
       "    </tr>\n",
       "    <tr>\n",
       "      <th>1222305</th>\n",
       "      <td>6O9iAmAv7vUl-Eeqb9bmpw</td>\n",
       "      <td>5</td>\n",
       "      <td>C2RiYrCAdvj7Sh0p6I8G7Q</td>\n",
       "    </tr>\n",
       "    <tr>\n",
       "      <th>1222306</th>\n",
       "      <td>6O9iAmAv7vUl-Eeqb9bmpw</td>\n",
       "      <td>5</td>\n",
       "      <td>C2RiYrCAdvj7Sh0p6I8G7Q</td>\n",
       "    </tr>\n",
       "    <tr>\n",
       "      <th>1222307</th>\n",
       "      <td>6O9iAmAv7vUl-Eeqb9bmpw</td>\n",
       "      <td>5</td>\n",
       "      <td>C2RiYrCAdvj7Sh0p6I8G7Q</td>\n",
       "    </tr>\n",
       "    <tr>\n",
       "      <th>1222308</th>\n",
       "      <td>6O9iAmAv7vUl-Eeqb9bmpw</td>\n",
       "      <td>5</td>\n",
       "      <td>C2RiYrCAdvj7Sh0p6I8G7Q</td>\n",
       "    </tr>\n",
       "    <tr>\n",
       "      <th>1222309</th>\n",
       "      <td>6O9iAmAv7vUl-Eeqb9bmpw</td>\n",
       "      <td>5</td>\n",
       "      <td>C2RiYrCAdvj7Sh0p6I8G7Q</td>\n",
       "    </tr>\n",
       "    <tr>\n",
       "      <th>1222310</th>\n",
       "      <td>6O9iAmAv7vUl-Eeqb9bmpw</td>\n",
       "      <td>5</td>\n",
       "      <td>C2RiYrCAdvj7Sh0p6I8G7Q</td>\n",
       "    </tr>\n",
       "    <tr>\n",
       "      <th>1222311</th>\n",
       "      <td>6O9iAmAv7vUl-Eeqb9bmpw</td>\n",
       "      <td>5</td>\n",
       "      <td>C2RiYrCAdvj7Sh0p6I8G7Q</td>\n",
       "    </tr>\n",
       "    <tr>\n",
       "      <th>1222312</th>\n",
       "      <td>6O9iAmAv7vUl-Eeqb9bmpw</td>\n",
       "      <td>5</td>\n",
       "      <td>C2RiYrCAdvj7Sh0p6I8G7Q</td>\n",
       "    </tr>\n",
       "    <tr>\n",
       "      <th>1222313</th>\n",
       "      <td>MN0OLvP8i0SirMJ7AMuMzA</td>\n",
       "      <td>1</td>\n",
       "      <td>C2RiYrCAdvj7Sh0p6I8G7Q</td>\n",
       "    </tr>\n",
       "    <tr>\n",
       "      <th>1222314</th>\n",
       "      <td>-1ERbsOf9XOC9wGbZYFr7g</td>\n",
       "      <td>1</td>\n",
       "      <td>C2RiYrCAdvj7Sh0p6I8G7Q</td>\n",
       "    </tr>\n",
       "    <tr>\n",
       "      <th>1222315</th>\n",
       "      <td>wmr3ROnBokPZXKZGLGLp8A</td>\n",
       "      <td>1</td>\n",
       "      <td>C2RiYrCAdvj7Sh0p6I8G7Q</td>\n",
       "    </tr>\n",
       "    <tr>\n",
       "      <th>1222316</th>\n",
       "      <td>JAAjvGyYdAaBTf3z5KhrkA</td>\n",
       "      <td>2</td>\n",
       "      <td>C2RiYrCAdvj7Sh0p6I8G7Q</td>\n",
       "    </tr>\n",
       "    <tr>\n",
       "      <th>1222317</th>\n",
       "      <td>CB6WrK7wvzm4j0MZSOl9-g</td>\n",
       "      <td>1</td>\n",
       "      <td>C2RiYrCAdvj7Sh0p6I8G7Q</td>\n",
       "    </tr>\n",
       "    <tr>\n",
       "      <th>1222318</th>\n",
       "      <td>K-EsWLiY80nX-Jlyh8wJ8A</td>\n",
       "      <td>1</td>\n",
       "      <td>C2RiYrCAdvj7Sh0p6I8G7Q</td>\n",
       "    </tr>\n",
       "    <tr>\n",
       "      <th>1222319</th>\n",
       "      <td>K-EsWLiY80nX-Jlyh8wJ8A</td>\n",
       "      <td>1</td>\n",
       "      <td>C2RiYrCAdvj7Sh0p6I8G7Q</td>\n",
       "    </tr>\n",
       "  </tbody>\n",
       "</table>\n",
       "<p>487156 rows × 3 columns</p>\n",
       "</div>"
      ],
      "text/plain": [
       "                    business_id  stars_x                 user_id\n",
       "42       2SwC8wqpZC4B9iFVTgYT9A        3  tAKjY3bQXH51msJbOHYPmQ\n",
       "43       kj3qws3WSMgOotUeACSdFA        3  tAKjY3bQXH51msJbOHYPmQ\n",
       "49       vgXE1I7c9ElcfYyZfQiN1Q        2  tAKjY3bQXH51msJbOHYPmQ\n",
       "51       bwu0cUZfksuu-uzTPrrl2A        3  tAKjY3bQXH51msJbOHYPmQ\n",
       "52       dVf7896SPwE8jEenEhI6Pg        4  tAKjY3bQXH51msJbOHYPmQ\n",
       "53       3WgM6mvYrPDxGJ5fADSkUw        4  tAKjY3bQXH51msJbOHYPmQ\n",
       "54       q_2HooHFCE9wAwmXQPkuyg        3  tAKjY3bQXH51msJbOHYPmQ\n",
       "55       QGWyhvvLjaT1Szw-segoOg        2  tAKjY3bQXH51msJbOHYPmQ\n",
       "57       d3ni6cKglu4L3JeveOqQDQ        3  tAKjY3bQXH51msJbOHYPmQ\n",
       "58       RhOTBt7ISr2rhXisSMLTSw        5  tAKjY3bQXH51msJbOHYPmQ\n",
       "59       Q4ULAiIE2qCA4RYplCTrUQ        2  tAKjY3bQXH51msJbOHYPmQ\n",
       "60       YPoHtUq85TmNrBpqj_zmuA        4  tAKjY3bQXH51msJbOHYPmQ\n",
       "61       1zKH87sjLpRr8XDKmk7j1g        2  tAKjY3bQXH51msJbOHYPmQ\n",
       "62       v7e-GIGgEIFANhHsywlhrw        4  tAKjY3bQXH51msJbOHYPmQ\n",
       "63       XtN9tcefxJtubhUSH_Xg3g        5  tAKjY3bQXH51msJbOHYPmQ\n",
       "64       escSqSs7Gma9mu0CXkQIiA        4  tAKjY3bQXH51msJbOHYPmQ\n",
       "65       escSqSs7Gma9mu0CXkQIiA        4  tAKjY3bQXH51msJbOHYPmQ\n",
       "68       mDOBApO3-M2024kWjhMNDg        4  tAKjY3bQXH51msJbOHYPmQ\n",
       "69       mDOBApO3-M2024kWjhMNDg        4  tAKjY3bQXH51msJbOHYPmQ\n",
       "70       rR_szXNwNQB-MgEoTElb8Q        3  tAKjY3bQXH51msJbOHYPmQ\n",
       "72       H18C9tH4BPHkxan96bkMXQ        4  tAKjY3bQXH51msJbOHYPmQ\n",
       "74       7xNe2WZAQUGMp1_CxGVKnQ        4  tAKjY3bQXH51msJbOHYPmQ\n",
       "77       HHYSvEjbhYAFghUsC66QEw        5  tAKjY3bQXH51msJbOHYPmQ\n",
       "80       kg4AP5am_IUczgp1neOvMw        2  tAKjY3bQXH51msJbOHYPmQ\n",
       "81       -Xl2R863UWrQEyp4dSzMaA        4  tAKjY3bQXH51msJbOHYPmQ\n",
       "82       Oq01QS2G1OvCsunccVSgxQ        3  tAKjY3bQXH51msJbOHYPmQ\n",
       "84       X7844DdJO4y2oVbcpxD-NA        4  tAKjY3bQXH51msJbOHYPmQ\n",
       "85       x8GTTMIAtUJ5EsIMnsOacQ        4  tAKjY3bQXH51msJbOHYPmQ\n",
       "86       ewN984Rvux04uuQFrGu7mw        3  tAKjY3bQXH51msJbOHYPmQ\n",
       "88       SsGNAc9U-aKPZccnaDtFkA        3  tAKjY3bQXH51msJbOHYPmQ\n",
       "...                         ...      ...                     ...\n",
       "1222290  PT8kPZPnrY2UYRZ_An58WA        5  C2RiYrCAdvj7Sh0p6I8G7Q\n",
       "1222291  PT8kPZPnrY2UYRZ_An58WA        5  C2RiYrCAdvj7Sh0p6I8G7Q\n",
       "1222292  PT8kPZPnrY2UYRZ_An58WA        5  C2RiYrCAdvj7Sh0p6I8G7Q\n",
       "1222293  PT8kPZPnrY2UYRZ_An58WA        5  C2RiYrCAdvj7Sh0p6I8G7Q\n",
       "1222294  PT8kPZPnrY2UYRZ_An58WA        5  C2RiYrCAdvj7Sh0p6I8G7Q\n",
       "1222295  0i0PwU8lpj4evYKQogWxcA        1  C2RiYrCAdvj7Sh0p6I8G7Q\n",
       "1222296  25fxw_jOqZtJwl18cCarIA        1  C2RiYrCAdvj7Sh0p6I8G7Q\n",
       "1222297  6O9iAmAv7vUl-Eeqb9bmpw        5  C2RiYrCAdvj7Sh0p6I8G7Q\n",
       "1222298  6O9iAmAv7vUl-Eeqb9bmpw        5  C2RiYrCAdvj7Sh0p6I8G7Q\n",
       "1222299  6O9iAmAv7vUl-Eeqb9bmpw        5  C2RiYrCAdvj7Sh0p6I8G7Q\n",
       "1222300  6O9iAmAv7vUl-Eeqb9bmpw        5  C2RiYrCAdvj7Sh0p6I8G7Q\n",
       "1222301  6O9iAmAv7vUl-Eeqb9bmpw        5  C2RiYrCAdvj7Sh0p6I8G7Q\n",
       "1222302  6O9iAmAv7vUl-Eeqb9bmpw        5  C2RiYrCAdvj7Sh0p6I8G7Q\n",
       "1222303  6O9iAmAv7vUl-Eeqb9bmpw        5  C2RiYrCAdvj7Sh0p6I8G7Q\n",
       "1222304  6O9iAmAv7vUl-Eeqb9bmpw        5  C2RiYrCAdvj7Sh0p6I8G7Q\n",
       "1222305  6O9iAmAv7vUl-Eeqb9bmpw        5  C2RiYrCAdvj7Sh0p6I8G7Q\n",
       "1222306  6O9iAmAv7vUl-Eeqb9bmpw        5  C2RiYrCAdvj7Sh0p6I8G7Q\n",
       "1222307  6O9iAmAv7vUl-Eeqb9bmpw        5  C2RiYrCAdvj7Sh0p6I8G7Q\n",
       "1222308  6O9iAmAv7vUl-Eeqb9bmpw        5  C2RiYrCAdvj7Sh0p6I8G7Q\n",
       "1222309  6O9iAmAv7vUl-Eeqb9bmpw        5  C2RiYrCAdvj7Sh0p6I8G7Q\n",
       "1222310  6O9iAmAv7vUl-Eeqb9bmpw        5  C2RiYrCAdvj7Sh0p6I8G7Q\n",
       "1222311  6O9iAmAv7vUl-Eeqb9bmpw        5  C2RiYrCAdvj7Sh0p6I8G7Q\n",
       "1222312  6O9iAmAv7vUl-Eeqb9bmpw        5  C2RiYrCAdvj7Sh0p6I8G7Q\n",
       "1222313  MN0OLvP8i0SirMJ7AMuMzA        1  C2RiYrCAdvj7Sh0p6I8G7Q\n",
       "1222314  -1ERbsOf9XOC9wGbZYFr7g        1  C2RiYrCAdvj7Sh0p6I8G7Q\n",
       "1222315  wmr3ROnBokPZXKZGLGLp8A        1  C2RiYrCAdvj7Sh0p6I8G7Q\n",
       "1222316  JAAjvGyYdAaBTf3z5KhrkA        2  C2RiYrCAdvj7Sh0p6I8G7Q\n",
       "1222317  CB6WrK7wvzm4j0MZSOl9-g        1  C2RiYrCAdvj7Sh0p6I8G7Q\n",
       "1222318  K-EsWLiY80nX-Jlyh8wJ8A        1  C2RiYrCAdvj7Sh0p6I8G7Q\n",
       "1222319  K-EsWLiY80nX-Jlyh8wJ8A        1  C2RiYrCAdvj7Sh0p6I8G7Q\n",
       "\n",
       "[487156 rows x 3 columns]"
      ]
     },
     "execution_count": 442,
     "metadata": {},
     "output_type": "execute_result"
    }
   ],
   "source": [
    "rev_biz_usr"
   ]
  },
  {
   "cell_type": "code",
   "execution_count": 376,
   "metadata": {
    "ExecuteTime": {
     "end_time": "2017-01-31T16:53:50.750439",
     "start_time": "2017-01-31T16:53:50.616081"
    },
    "collapsed": false
   },
   "outputs": [
    {
     "data": {
      "text/plain": [
       "array(['AZ', 'NV'], dtype=object)"
      ]
     },
     "execution_count": 376,
     "metadata": {},
     "output_type": "execute_result"
    }
   ],
   "source": [
    "user_states = business.loc[rev_biz_usr[rev_biz_usr.user_id == Y.columns[1]].business_id.unique()].state.unique()\n",
    "user_states"
   ]
  },
  {
   "cell_type": "code",
   "execution_count": 391,
   "metadata": {
    "ExecuteTime": {
     "end_time": "2017-01-31T17:03:53.255671",
     "start_time": "2017-01-31T17:03:53.045132"
    },
    "collapsed": false,
    "scrolled": true
   },
   "outputs": [
    {
     "name": "stderr",
     "output_type": "stream",
     "text": [
      "C:\\Users\\ali_a\\Anaconda3\\lib\\site-packages\\ipykernel\\__main__.py:1: UserWarning: Boolean Series key will be reindexed to match DataFrame index.\n",
      "  if __name__ == '__main__':\n"
     ]
    },
    {
     "data": {
      "text/html": [
       "<div>\n",
       "<table border=\"1\" class=\"dataframe\">\n",
       "  <thead>\n",
       "    <tr style=\"text-align: right;\">\n",
       "      <th></th>\n",
       "      <th>attributes</th>\n",
       "      <th>business_id</th>\n",
       "      <th>categories</th>\n",
       "      <th>city</th>\n",
       "      <th>full_address</th>\n",
       "      <th>hours</th>\n",
       "      <th>latitude</th>\n",
       "      <th>longitude</th>\n",
       "      <th>name</th>\n",
       "      <th>neighborhoods</th>\n",
       "      <th>open</th>\n",
       "      <th>review_count</th>\n",
       "      <th>stars</th>\n",
       "      <th>state</th>\n",
       "      <th>type</th>\n",
       "    </tr>\n",
       "    <tr>\n",
       "      <th>business_id</th>\n",
       "      <th></th>\n",
       "      <th></th>\n",
       "      <th></th>\n",
       "      <th></th>\n",
       "      <th></th>\n",
       "      <th></th>\n",
       "      <th></th>\n",
       "      <th></th>\n",
       "      <th></th>\n",
       "      <th></th>\n",
       "      <th></th>\n",
       "      <th></th>\n",
       "      <th></th>\n",
       "      <th></th>\n",
       "      <th></th>\n",
       "    </tr>\n",
       "  </thead>\n",
       "  <tbody>\n",
       "    <tr>\n",
       "      <th>inDYSqSDMyrfBhOZc702rw</th>\n",
       "      <td>{'Accepts Credit Cards': True, 'By Appointment...</td>\n",
       "      <td>inDYSqSDMyrfBhOZc702rw</td>\n",
       "      <td>[Professional Services, Television Service Pro...</td>\n",
       "      <td>Phoenix</td>\n",
       "      <td>Phoenix, AZ 85027</td>\n",
       "      <td>{'Wednesday': {'open': '00:00', 'close': '00:0...</td>\n",
       "      <td>33.678238</td>\n",
       "      <td>-112.101291</td>\n",
       "      <td>Cox Communications</td>\n",
       "      <td>[]</td>\n",
       "      <td>True</td>\n",
       "      <td>517</td>\n",
       "      <td>1.5</td>\n",
       "      <td>AZ</td>\n",
       "      <td>business</td>\n",
       "    </tr>\n",
       "    <tr>\n",
       "      <th>CJ8IURVsHxTIu2Kzp2Kumw</th>\n",
       "      <td>{'Wheelchair Accessible': True, 'Attire': 'cas...</td>\n",
       "      <td>CJ8IURVsHxTIu2Kzp2Kumw</td>\n",
       "      <td>[Buffets, Restaurants]</td>\n",
       "      <td>Las Vegas</td>\n",
       "      <td>Imperial Palace Hotel &amp; Casino\\n3535 Las Vegas...</td>\n",
       "      <td>{'Wednesday': {'open': '07:00', 'close': '21:0...</td>\n",
       "      <td>36.118346</td>\n",
       "      <td>-115.170129</td>\n",
       "      <td>Emperor's Buffet</td>\n",
       "      <td>[The Strip]</td>\n",
       "      <td>False</td>\n",
       "      <td>57</td>\n",
       "      <td>1.5</td>\n",
       "      <td>NV</td>\n",
       "      <td>business</td>\n",
       "    </tr>\n",
       "    <tr>\n",
       "      <th>3e9IUI5Dt-ktDKEQNkENVA</th>\n",
       "      <td>{'Wheelchair Accessible': True, 'Take-out': Fa...</td>\n",
       "      <td>3e9IUI5Dt-ktDKEQNkENVA</td>\n",
       "      <td>[Food, Department Stores, Grocery, Fashion, Sh...</td>\n",
       "      <td>Phoenix</td>\n",
       "      <td>3721 E Thomas Rd\\nPhoenix, AZ 85018</td>\n",
       "      <td>{}</td>\n",
       "      <td>33.479007</td>\n",
       "      <td>-112.000813</td>\n",
       "      <td>Walmart Supercenter</td>\n",
       "      <td>[]</td>\n",
       "      <td>True</td>\n",
       "      <td>100</td>\n",
       "      <td>1.5</td>\n",
       "      <td>AZ</td>\n",
       "      <td>business</td>\n",
       "    </tr>\n",
       "    <tr>\n",
       "      <th>UuBZkKnckkRmYt3jFn2gaQ</th>\n",
       "      <td>{'Good For': {'dessert': False, 'breakfast': T...</td>\n",
       "      <td>UuBZkKnckkRmYt3jFn2gaQ</td>\n",
       "      <td>[Casinos, Arts &amp; Entertainment, American (New)...</td>\n",
       "      <td>Las Vegas</td>\n",
       "      <td>Circus Circus Las Vegas\\n2800 Las Vegas Blvd S...</td>\n",
       "      <td>{'Wednesday': {'open': '16:30', 'close': '21:0...</td>\n",
       "      <td>36.137667</td>\n",
       "      <td>-115.164659</td>\n",
       "      <td>Circus Buffet</td>\n",
       "      <td>[The Strip]</td>\n",
       "      <td>True</td>\n",
       "      <td>272</td>\n",
       "      <td>2.0</td>\n",
       "      <td>NV</td>\n",
       "      <td>business</td>\n",
       "    </tr>\n",
       "    <tr>\n",
       "      <th>wyqwO4ZqZyRR6pGk1pTBrA</th>\n",
       "      <td>{}</td>\n",
       "      <td>wyqwO4ZqZyRR6pGk1pTBrA</td>\n",
       "      <td>[Hotels &amp; Travel, Car Rental]</td>\n",
       "      <td>Las Vegas</td>\n",
       "      <td>7135 Gilespie St\\nSoutheast\\nLas Vegas, NV 89119</td>\n",
       "      <td>{'Wednesday': {'open': '00:00', 'close': '00:0...</td>\n",
       "      <td>36.060061</td>\n",
       "      <td>-115.165044</td>\n",
       "      <td>Payless Car Rental</td>\n",
       "      <td>[Southeast]</td>\n",
       "      <td>True</td>\n",
       "      <td>474</td>\n",
       "      <td>1.5</td>\n",
       "      <td>NV</td>\n",
       "      <td>business</td>\n",
       "    </tr>\n",
       "    <tr>\n",
       "      <th>PEyRw3HOWcDnd2XHRLq5RQ</th>\n",
       "      <td>{'Good for Kids': False}</td>\n",
       "      <td>PEyRw3HOWcDnd2XHRLq5RQ</td>\n",
       "      <td>[Arts &amp; Entertainment, Festivals]</td>\n",
       "      <td>Glendale</td>\n",
       "      <td>5812 W Glendale Ave\\nGlendale, AZ 85301</td>\n",
       "      <td>{}</td>\n",
       "      <td>33.539228</td>\n",
       "      <td>-112.184329</td>\n",
       "      <td>Glendale's Best Street Food Festival</td>\n",
       "      <td>[]</td>\n",
       "      <td>True</td>\n",
       "      <td>49</td>\n",
       "      <td>1.5</td>\n",
       "      <td>AZ</td>\n",
       "      <td>business</td>\n",
       "    </tr>\n",
       "    <tr>\n",
       "      <th>cSYSUZ3YbwR_RTughnoy5A</th>\n",
       "      <td>{'Wheelchair Accessible': True, 'Accepts Credi...</td>\n",
       "      <td>cSYSUZ3YbwR_RTughnoy5A</td>\n",
       "      <td>[Shopping Centers, Shopping]</td>\n",
       "      <td>Phoenix</td>\n",
       "      <td>9617 N Metro Pkwy W\\nPhoenix, AZ 85051</td>\n",
       "      <td>{'Wednesday': {'open': '10:00', 'close': '21:0...</td>\n",
       "      <td>33.576494</td>\n",
       "      <td>-112.120861</td>\n",
       "      <td>Metrocenter Mall</td>\n",
       "      <td>[]</td>\n",
       "      <td>True</td>\n",
       "      <td>125</td>\n",
       "      <td>2.0</td>\n",
       "      <td>AZ</td>\n",
       "      <td>business</td>\n",
       "    </tr>\n",
       "    <tr>\n",
       "      <th>_G5pDGRJL0mhLRgIViW2sA</th>\n",
       "      <td>{'Good For Groups': True, 'Music': {'live': Tr...</td>\n",
       "      <td>_G5pDGRJL0mhLRgIViW2sA</td>\n",
       "      <td>[Arts &amp; Entertainment, Performing Arts]</td>\n",
       "      <td>Las Vegas</td>\n",
       "      <td>Luxor Las Vegas\\n3900 Las Vegas Blvd S\\nThe St...</td>\n",
       "      <td>{'Friday': {'open': '12:00', 'close': '22:00'}...</td>\n",
       "      <td>36.095580</td>\n",
       "      <td>-115.175818</td>\n",
       "      <td>Cirque du Soleil - Criss Angel Believe</td>\n",
       "      <td>[The Strip]</td>\n",
       "      <td>False</td>\n",
       "      <td>833</td>\n",
       "      <td>1.5</td>\n",
       "      <td>NV</td>\n",
       "      <td>business</td>\n",
       "    </tr>\n",
       "    <tr>\n",
       "      <th>GQ6bCvYZxdGY6ZQyeZFeVg</th>\n",
       "      <td>{'Accepts Credit Cards': True, 'By Appointment...</td>\n",
       "      <td>GQ6bCvYZxdGY6ZQyeZFeVg</td>\n",
       "      <td>[Professional Services, Television Service Pro...</td>\n",
       "      <td>Las Vegas</td>\n",
       "      <td>1700 Vegas Dr\\nLas Vegas, NV 89106</td>\n",
       "      <td>{'Wednesday': {'open': '07:00', 'close': '21:0...</td>\n",
       "      <td>36.189293</td>\n",
       "      <td>-115.162965</td>\n",
       "      <td>Cox Communications</td>\n",
       "      <td>[]</td>\n",
       "      <td>True</td>\n",
       "      <td>253</td>\n",
       "      <td>1.5</td>\n",
       "      <td>NV</td>\n",
       "      <td>business</td>\n",
       "    </tr>\n",
       "    <tr>\n",
       "      <th>KVYSUfN89b-nih-_9HhF6g</th>\n",
       "      <td>{'Attire': 'casual', 'Caters': False, 'Take-ou...</td>\n",
       "      <td>KVYSUfN89b-nih-_9HhF6g</td>\n",
       "      <td>[Bars, American (New), Nightlife, Dance Clubs,...</td>\n",
       "      <td>Glendale</td>\n",
       "      <td>9425 W Coyotes Blvd\\nGlendale, AZ 85305</td>\n",
       "      <td>{'Wednesday': {'open': '11:00', 'close': '02:0...</td>\n",
       "      <td>33.533049</td>\n",
       "      <td>-112.262036</td>\n",
       "      <td>McFadden's Restaurant &amp; Saloon</td>\n",
       "      <td>[]</td>\n",
       "      <td>True</td>\n",
       "      <td>311</td>\n",
       "      <td>1.5</td>\n",
       "      <td>AZ</td>\n",
       "      <td>business</td>\n",
       "    </tr>\n",
       "    <tr>\n",
       "      <th>0InQd9vuhRc98OksC3Ks8Q</th>\n",
       "      <td>{'Good For': {'dessert': False, 'breakfast': T...</td>\n",
       "      <td>0InQd9vuhRc98OksC3Ks8Q</td>\n",
       "      <td>[American (Traditional), Buffets, Restaurants]</td>\n",
       "      <td>Las Vegas</td>\n",
       "      <td>Excalibur Hotel Casino\\n3850 Las Vegas Blvd S\\...</td>\n",
       "      <td>{'Wednesday': {'open': '07:00', 'close': '22:0...</td>\n",
       "      <td>36.098878</td>\n",
       "      <td>-115.175641</td>\n",
       "      <td>Buffet Roundtable</td>\n",
       "      <td>[The Strip]</td>\n",
       "      <td>False</td>\n",
       "      <td>190</td>\n",
       "      <td>2.0</td>\n",
       "      <td>NV</td>\n",
       "      <td>business</td>\n",
       "    </tr>\n",
       "    <tr>\n",
       "      <th>gnafBL9EZE1kn0xD7Yf3_w</th>\n",
       "      <td>{'Good for Kids': False}</td>\n",
       "      <td>gnafBL9EZE1kn0xD7Yf3_w</td>\n",
       "      <td>[Arts &amp; Entertainment, Performing Arts]</td>\n",
       "      <td>Las Vegas</td>\n",
       "      <td>Treasure Island\\n3300 Las Vegas Blvd S\\nThe St...</td>\n",
       "      <td>{}</td>\n",
       "      <td>36.124823</td>\n",
       "      <td>-115.171971</td>\n",
       "      <td>Sirens of Treasure Island</td>\n",
       "      <td>[The Strip]</td>\n",
       "      <td>False</td>\n",
       "      <td>143</td>\n",
       "      <td>2.0</td>\n",
       "      <td>NV</td>\n",
       "      <td>business</td>\n",
       "    </tr>\n",
       "    <tr>\n",
       "      <th>XoitWJUjHcdBl9GqHTsdjw</th>\n",
       "      <td>{'Good For': {'dessert': False, 'breakfast': F...</td>\n",
       "      <td>XoitWJUjHcdBl9GqHTsdjw</td>\n",
       "      <td>[American (Traditional), Southern, Restaurants]</td>\n",
       "      <td>Las Vegas</td>\n",
       "      <td>6593 Las Vegas Blvd S\\nSoutheast\\nLas Vegas, N...</td>\n",
       "      <td>{}</td>\n",
       "      <td>36.067199</td>\n",
       "      <td>-115.172232</td>\n",
       "      <td>Ranch House Kitchen</td>\n",
       "      <td>[Southeast]</td>\n",
       "      <td>False</td>\n",
       "      <td>69</td>\n",
       "      <td>2.0</td>\n",
       "      <td>NV</td>\n",
       "      <td>business</td>\n",
       "    </tr>\n",
       "    <tr>\n",
       "      <th>8z-v_pn00BcnrWs9bacYUQ</th>\n",
       "      <td>{'Accepts Credit Cards': True, 'Price Range': ...</td>\n",
       "      <td>8z-v_pn00BcnrWs9bacYUQ</td>\n",
       "      <td>[Hotels &amp; Travel, Arts &amp; Entertainment, Casino...</td>\n",
       "      <td>Las Vegas</td>\n",
       "      <td>The Quad Las Vegas Resort &amp; Casino\\n3535 S Las...</td>\n",
       "      <td>{'Wednesday': {'open': '00:00', 'close': '00:0...</td>\n",
       "      <td>36.123843</td>\n",
       "      <td>-115.170220</td>\n",
       "      <td>The Quad Las Vegas Resort &amp; Casino</td>\n",
       "      <td>[The Strip]</td>\n",
       "      <td>False</td>\n",
       "      <td>609</td>\n",
       "      <td>2.0</td>\n",
       "      <td>NV</td>\n",
       "      <td>business</td>\n",
       "    </tr>\n",
       "    <tr>\n",
       "      <th>6sqAj_mXmYkZ3UKsyRGGHQ</th>\n",
       "      <td>{'Wheelchair Accessible': True, 'Attire': 'cas...</td>\n",
       "      <td>6sqAj_mXmYkZ3UKsyRGGHQ</td>\n",
       "      <td>[Hotels &amp; Travel, Arts &amp; Entertainment, Casino...</td>\n",
       "      <td>Las Vegas</td>\n",
       "      <td>18 E Fremont St\\nDowntown\\nLas Vegas, NV 89101</td>\n",
       "      <td>{}</td>\n",
       "      <td>36.172075</td>\n",
       "      <td>-115.145689</td>\n",
       "      <td>Las Vegas Club Hotel &amp; Casino</td>\n",
       "      <td>[Downtown]</td>\n",
       "      <td>False</td>\n",
       "      <td>98</td>\n",
       "      <td>2.0</td>\n",
       "      <td>NV</td>\n",
       "      <td>business</td>\n",
       "    </tr>\n",
       "    <tr>\n",
       "      <th>lRALdho4l9cpiw9WdGkV1A</th>\n",
       "      <td>{}</td>\n",
       "      <td>lRALdho4l9cpiw9WdGkV1A</td>\n",
       "      <td>[Hotels &amp; Travel, Airlines, Transportation]</td>\n",
       "      <td>Mesa</td>\n",
       "      <td>5835 S Sossaman Rd\\nMesa, AZ 85212</td>\n",
       "      <td>{}</td>\n",
       "      <td>33.309792</td>\n",
       "      <td>-111.669200</td>\n",
       "      <td>Allegiant</td>\n",
       "      <td>[]</td>\n",
       "      <td>True</td>\n",
       "      <td>166</td>\n",
       "      <td>1.5</td>\n",
       "      <td>AZ</td>\n",
       "      <td>business</td>\n",
       "    </tr>\n",
       "    <tr>\n",
       "      <th>26ecLqpDHrB3socZGfDuhQ</th>\n",
       "      <td>{}</td>\n",
       "      <td>26ecLqpDHrB3socZGfDuhQ</td>\n",
       "      <td>[Hotels &amp; Travel, Travel Services, Tours, Tran...</td>\n",
       "      <td>Las Vegas</td>\n",
       "      <td>1550 S Industrial Rd\\nDowntown\\nLas Vegas, NV ...</td>\n",
       "      <td>{'Wednesday': {'open': '00:00', 'close': '00:0...</td>\n",
       "      <td>36.154658</td>\n",
       "      <td>-115.159219</td>\n",
       "      <td>Showtime Tours</td>\n",
       "      <td>[Downtown]</td>\n",
       "      <td>True</td>\n",
       "      <td>358</td>\n",
       "      <td>1.5</td>\n",
       "      <td>NV</td>\n",
       "      <td>business</td>\n",
       "    </tr>\n",
       "    <tr>\n",
       "      <th>pjtB4FadDdq_DeyedjDsOw</th>\n",
       "      <td>{'Accepts Credit Cards': True}</td>\n",
       "      <td>pjtB4FadDdq_DeyedjDsOw</td>\n",
       "      <td>[Car Wash, Automotive]</td>\n",
       "      <td>Phoenix</td>\n",
       "      <td>1954 E Highland Ave\\nPhoenix, AZ 85016</td>\n",
       "      <td>{'Wednesday': {'open': '07:30', 'close': '18:0...</td>\n",
       "      <td>33.506275</td>\n",
       "      <td>-112.039655</td>\n",
       "      <td>Danny's Family Carousel Car Wash</td>\n",
       "      <td>[]</td>\n",
       "      <td>False</td>\n",
       "      <td>177</td>\n",
       "      <td>1.5</td>\n",
       "      <td>AZ</td>\n",
       "      <td>business</td>\n",
       "    </tr>\n",
       "    <tr>\n",
       "      <th>aEol06ruyQJZYlDMPJGfUg</th>\n",
       "      <td>{'Wheelchair Accessible': True, 'Alcohol': 'no...</td>\n",
       "      <td>aEol06ruyQJZYlDMPJGfUg</td>\n",
       "      <td>[Bakeries, Food]</td>\n",
       "      <td>Las Vegas</td>\n",
       "      <td>Downtown Summerlin\\n2010 Festival Plaza, 150\\n...</td>\n",
       "      <td>{'Wednesday': {'open': '10:00', 'close': '21:0...</td>\n",
       "      <td>36.154862</td>\n",
       "      <td>-115.331429</td>\n",
       "      <td>Wonderland Bakery</td>\n",
       "      <td>[South Summerlin]</td>\n",
       "      <td>True</td>\n",
       "      <td>75</td>\n",
       "      <td>2.5</td>\n",
       "      <td>NV</td>\n",
       "      <td>business</td>\n",
       "    </tr>\n",
       "    <tr>\n",
       "      <th>K5kU2IN6mXvMo-Cx0oQFZg</th>\n",
       "      <td>{'Good For': {'dessert': False, 'breakfast': F...</td>\n",
       "      <td>K5kU2IN6mXvMo-Cx0oQFZg</td>\n",
       "      <td>[Mexican, Restaurants]</td>\n",
       "      <td>Glendale</td>\n",
       "      <td>6770 N Sunrise Blvd\\nSte G109\\nGlendale, AZ 85303</td>\n",
       "      <td>{'Wednesday': {'open': '11:00', 'close': '02:0...</td>\n",
       "      <td>33.533158</td>\n",
       "      <td>-112.260384</td>\n",
       "      <td>Calico Jack's</td>\n",
       "      <td>[]</td>\n",
       "      <td>True</td>\n",
       "      <td>174</td>\n",
       "      <td>1.5</td>\n",
       "      <td>AZ</td>\n",
       "      <td>business</td>\n",
       "    </tr>\n",
       "    <tr>\n",
       "      <th>bdsKG7MQIMmZ73lgOaTZ0A</th>\n",
       "      <td>{'Good For': {'dessert': False, 'breakfast': F...</td>\n",
       "      <td>bdsKG7MQIMmZ73lgOaTZ0A</td>\n",
       "      <td>[Asian Fusion, Restaurants]</td>\n",
       "      <td>Las Vegas</td>\n",
       "      <td>3545 Las Vegas Blvd S\\nThe Strip\\nLas Vegas, N...</td>\n",
       "      <td>{'Wednesday': {'open': '12:00', 'close': '00:0...</td>\n",
       "      <td>36.117748</td>\n",
       "      <td>-115.170475</td>\n",
       "      <td>FAME</td>\n",
       "      <td>[The Strip]</td>\n",
       "      <td>False</td>\n",
       "      <td>93</td>\n",
       "      <td>2.0</td>\n",
       "      <td>NV</td>\n",
       "      <td>business</td>\n",
       "    </tr>\n",
       "    <tr>\n",
       "      <th>TmTB0Nel-U_zOr04OTUreA</th>\n",
       "      <td>{'Accepts Credit Cards': True}</td>\n",
       "      <td>TmTB0Nel-U_zOr04OTUreA</td>\n",
       "      <td>[Local Services, Shipping Centers, Post Office...</td>\n",
       "      <td>Las Vegas</td>\n",
       "      <td>455 E Pebble Rd\\nSoutheast\\nLas Vegas, NV 89123</td>\n",
       "      <td>{'Wednesday': {'open': '08:30', 'close': '17:0...</td>\n",
       "      <td>36.027059</td>\n",
       "      <td>-115.153343</td>\n",
       "      <td>US Post Office</td>\n",
       "      <td>[Southeast]</td>\n",
       "      <td>True</td>\n",
       "      <td>75</td>\n",
       "      <td>1.5</td>\n",
       "      <td>NV</td>\n",
       "      <td>business</td>\n",
       "    </tr>\n",
       "    <tr>\n",
       "      <th>qdCbbg7FyD6mzf0L_g64uA</th>\n",
       "      <td>{'Good For': {'dessert': False, 'breakfast': F...</td>\n",
       "      <td>qdCbbg7FyD6mzf0L_g64uA</td>\n",
       "      <td>[Burgers, Fast Food, Chicken Wings, Restaurants]</td>\n",
       "      <td>Las Vegas</td>\n",
       "      <td>7925 S Rainbow Blvd\\nSouthwest\\nLas Vegas, NV ...</td>\n",
       "      <td>{}</td>\n",
       "      <td>36.044874</td>\n",
       "      <td>-115.243900</td>\n",
       "      <td>Church's Chicken</td>\n",
       "      <td>[Southwest]</td>\n",
       "      <td>True</td>\n",
       "      <td>80</td>\n",
       "      <td>2.0</td>\n",
       "      <td>NV</td>\n",
       "      <td>business</td>\n",
       "    </tr>\n",
       "    <tr>\n",
       "      <th>E-ads7TQcLMAoVp-H311UA</th>\n",
       "      <td>{'Wheelchair Accessible': True, 'Smoking': 'ye...</td>\n",
       "      <td>E-ads7TQcLMAoVp-H311UA</td>\n",
       "      <td>[Lounges, Bars, Nightlife, Dance Clubs]</td>\n",
       "      <td>Las Vegas</td>\n",
       "      <td>Planet Hollywood\\n3667 Las Vegas Blvd S\\nEasts...</td>\n",
       "      <td>{}</td>\n",
       "      <td>36.124423</td>\n",
       "      <td>-115.146372</td>\n",
       "      <td>Privé</td>\n",
       "      <td>[Eastside]</td>\n",
       "      <td>False</td>\n",
       "      <td>231</td>\n",
       "      <td>2.5</td>\n",
       "      <td>NV</td>\n",
       "      <td>business</td>\n",
       "    </tr>\n",
       "    <tr>\n",
       "      <th>FM3JgsDg5vLJ2x1_NM9CcA</th>\n",
       "      <td>{'Smoking': 'outdoor', 'Caters': False, 'Take-...</td>\n",
       "      <td>FM3JgsDg5vLJ2x1_NM9CcA</td>\n",
       "      <td>[Bars, Mexican, Nightlife, Restaurants]</td>\n",
       "      <td>Las Vegas</td>\n",
       "      <td>6605 S Las Vegas Blvd\\nSte 207\\nSoutheast\\nLas...</td>\n",
       "      <td>{'Wednesday': {'open': '12:00', 'close': '21:0...</td>\n",
       "      <td>36.068778</td>\n",
       "      <td>-115.176840</td>\n",
       "      <td>Coconuts Beach Bar &amp; Mexican Grill</td>\n",
       "      <td>[Southeast]</td>\n",
       "      <td>False</td>\n",
       "      <td>113</td>\n",
       "      <td>2.5</td>\n",
       "      <td>NV</td>\n",
       "      <td>business</td>\n",
       "    </tr>\n",
       "    <tr>\n",
       "      <th>WT-v-DgQvW38DewVyTLdTA</th>\n",
       "      <td>{'Good For': {'dessert': False, 'breakfast': T...</td>\n",
       "      <td>WT-v-DgQvW38DewVyTLdTA</td>\n",
       "      <td>[Hotels &amp; Travel, Arts &amp; Entertainment, Casino...</td>\n",
       "      <td>Las Vegas</td>\n",
       "      <td>2880 S Las Vegas Blvd\\nThe Strip\\nLas Vegas, N...</td>\n",
       "      <td>{'Wednesday': {'open': '06:00', 'close': '06:0...</td>\n",
       "      <td>36.136978</td>\n",
       "      <td>-115.163628</td>\n",
       "      <td>Circus Circus Las Vegas Hotel and Casino</td>\n",
       "      <td>[The Strip]</td>\n",
       "      <td>True</td>\n",
       "      <td>1592</td>\n",
       "      <td>2.5</td>\n",
       "      <td>NV</td>\n",
       "      <td>business</td>\n",
       "    </tr>\n",
       "    <tr>\n",
       "      <th>RUz4d1D83xRRXcc-ffkM5g</th>\n",
       "      <td>{'Good For': {'dessert': False, 'breakfast': F...</td>\n",
       "      <td>RUz4d1D83xRRXcc-ffkM5g</td>\n",
       "      <td>[Buffets, Restaurants]</td>\n",
       "      <td>Las Vegas</td>\n",
       "      <td>Eastside Cannery\\n5255 Boulder Hwy\\nLas Vegas,...</td>\n",
       "      <td>{'Wednesday': {'open': '16:00', 'close': '20:0...</td>\n",
       "      <td>36.107901</td>\n",
       "      <td>-115.056372</td>\n",
       "      <td>Cannery Row Buffet</td>\n",
       "      <td>[]</td>\n",
       "      <td>True</td>\n",
       "      <td>46</td>\n",
       "      <td>2.0</td>\n",
       "      <td>NV</td>\n",
       "      <td>business</td>\n",
       "    </tr>\n",
       "    <tr>\n",
       "      <th>EF5vR_UUavzPjtgMYFCg5Q</th>\n",
       "      <td>{'Good For': {'dessert': False, 'breakfast': F...</td>\n",
       "      <td>EF5vR_UUavzPjtgMYFCg5Q</td>\n",
       "      <td>[Mexican, Restaurants]</td>\n",
       "      <td>Las Vegas</td>\n",
       "      <td>Flamingo Hotel\\n3555 Las Vegas Blvd S\\nThe Str...</td>\n",
       "      <td>{'Wednesday': {'open': '08:00', 'close': '02:0...</td>\n",
       "      <td>36.127615</td>\n",
       "      <td>-115.170364</td>\n",
       "      <td>Carlos' N' Charlie's</td>\n",
       "      <td>[The Strip]</td>\n",
       "      <td>True</td>\n",
       "      <td>272</td>\n",
       "      <td>2.0</td>\n",
       "      <td>NV</td>\n",
       "      <td>business</td>\n",
       "    </tr>\n",
       "    <tr>\n",
       "      <th>Ca_u-CVUEswSkdmW0oscvA</th>\n",
       "      <td>{}</td>\n",
       "      <td>Ca_u-CVUEswSkdmW0oscvA</td>\n",
       "      <td>[Hotels &amp; Travel, Car Rental]</td>\n",
       "      <td>Las Vegas</td>\n",
       "      <td>Mccarran Int'L Airport\\n7135 Gillespie Street\\...</td>\n",
       "      <td>{}</td>\n",
       "      <td>36.060061</td>\n",
       "      <td>-115.165044</td>\n",
       "      <td>Dollar Rent A Car</td>\n",
       "      <td>[Southeast]</td>\n",
       "      <td>True</td>\n",
       "      <td>289</td>\n",
       "      <td>2.0</td>\n",
       "      <td>NV</td>\n",
       "      <td>business</td>\n",
       "    </tr>\n",
       "    <tr>\n",
       "      <th>w2laxcyc6QS28DLbXnfAMg</th>\n",
       "      <td>{'Good For': {'dessert': False, 'breakfast': F...</td>\n",
       "      <td>w2laxcyc6QS28DLbXnfAMg</td>\n",
       "      <td>[Sushi Bars, Japanese, Restaurants]</td>\n",
       "      <td>Las Vegas</td>\n",
       "      <td>9285 S Cimarron Rd\\nSte 100\\nSouthwest\\nLas Ve...</td>\n",
       "      <td>{'Wednesday': {'open': '11:00', 'close': '23:0...</td>\n",
       "      <td>36.019655</td>\n",
       "      <td>-115.271216</td>\n",
       "      <td>Inaka Sushi</td>\n",
       "      <td>[Southwest]</td>\n",
       "      <td>True</td>\n",
       "      <td>119</td>\n",
       "      <td>2.5</td>\n",
       "      <td>NV</td>\n",
       "      <td>business</td>\n",
       "    </tr>\n",
       "    <tr>\n",
       "      <th>...</th>\n",
       "      <td>...</td>\n",
       "      <td>...</td>\n",
       "      <td>...</td>\n",
       "      <td>...</td>\n",
       "      <td>...</td>\n",
       "      <td>...</td>\n",
       "      <td>...</td>\n",
       "      <td>...</td>\n",
       "      <td>...</td>\n",
       "      <td>...</td>\n",
       "      <td>...</td>\n",
       "      <td>...</td>\n",
       "      <td>...</td>\n",
       "      <td>...</td>\n",
       "      <td>...</td>\n",
       "    </tr>\n",
       "    <tr>\n",
       "      <th>Q9pYlR8ckKpbLe1fn8apGg</th>\n",
       "      <td>{'Accepts Credit Cards': True}</td>\n",
       "      <td>Q9pYlR8ckKpbLe1fn8apGg</td>\n",
       "      <td>[Auto Repair, Automotive]</td>\n",
       "      <td>Las Vegas</td>\n",
       "      <td>544 E Silverado Ranch Blvd\\nSte 104\\nSoutheast...</td>\n",
       "      <td>{'Friday': {'open': '08:00', 'close': '17:00'}...</td>\n",
       "      <td>36.013730</td>\n",
       "      <td>-115.151623</td>\n",
       "      <td>Professional Brake Service</td>\n",
       "      <td>[Southeast]</td>\n",
       "      <td>True</td>\n",
       "      <td>184</td>\n",
       "      <td>5.0</td>\n",
       "      <td>NV</td>\n",
       "      <td>business</td>\n",
       "    </tr>\n",
       "    <tr>\n",
       "      <th>QnAzW6KMSciUcuJ20oI3Bw</th>\n",
       "      <td>{'Attire': 'casual', 'Caters': False, 'Take-ou...</td>\n",
       "      <td>QnAzW6KMSciUcuJ20oI3Bw</td>\n",
       "      <td>[American (Traditional), Pizza, Salad, Restaur...</td>\n",
       "      <td>Gilbert</td>\n",
       "      <td>3000 E Ray Rd\\nBldg 1\\nGilbert, AZ 85296</td>\n",
       "      <td>{'Wednesday': {'open': '08:00', 'close': '21:0...</td>\n",
       "      <td>33.321062</td>\n",
       "      <td>-111.723919</td>\n",
       "      <td>Joe's Farm Grill</td>\n",
       "      <td>[]</td>\n",
       "      <td>True</td>\n",
       "      <td>1368</td>\n",
       "      <td>4.0</td>\n",
       "      <td>AZ</td>\n",
       "      <td>business</td>\n",
       "    </tr>\n",
       "    <tr>\n",
       "      <th>GwSdGrvaXi4BdXNSWKn-EA</th>\n",
       "      <td>{'Wheelchair Accessible': True, 'Accepts Credi...</td>\n",
       "      <td>GwSdGrvaXi4BdXNSWKn-EA</td>\n",
       "      <td>[Books, Mags, Music &amp; Video, Shopping, Booksto...</td>\n",
       "      <td>Tempe</td>\n",
       "      <td>6428 S McClintock Dr\\nTempe, AZ 85283</td>\n",
       "      <td>{'Wednesday': {'open': '10:00', 'close': '21:0...</td>\n",
       "      <td>33.362466</td>\n",
       "      <td>-111.912620</td>\n",
       "      <td>Changing Hands Bookstore</td>\n",
       "      <td>[]</td>\n",
       "      <td>True</td>\n",
       "      <td>238</td>\n",
       "      <td>4.5</td>\n",
       "      <td>AZ</td>\n",
       "      <td>business</td>\n",
       "    </tr>\n",
       "    <tr>\n",
       "      <th>vnKzoJr2C2YOTSQPt_F-tA</th>\n",
       "      <td>{'Accepts Credit Cards': True}</td>\n",
       "      <td>vnKzoJr2C2YOTSQPt_F-tA</td>\n",
       "      <td>[Auto Repair, Automotive, Body Shops]</td>\n",
       "      <td>Las Vegas</td>\n",
       "      <td>5350 Spring Mountain Rd\\nSte 200\\nChinatown\\nL...</td>\n",
       "      <td>{'Friday': {'open': '08:00', 'close': '18:00'}...</td>\n",
       "      <td>36.126201</td>\n",
       "      <td>-115.214819</td>\n",
       "      <td>Japanese Car Service</td>\n",
       "      <td>[Chinatown]</td>\n",
       "      <td>True</td>\n",
       "      <td>106</td>\n",
       "      <td>4.5</td>\n",
       "      <td>NV</td>\n",
       "      <td>business</td>\n",
       "    </tr>\n",
       "    <tr>\n",
       "      <th>VqU4Pl4URJjjgFS1UhseMg</th>\n",
       "      <td>{'Good For': {'dessert': True, 'breakfast': Fa...</td>\n",
       "      <td>VqU4Pl4URJjjgFS1UhseMg</td>\n",
       "      <td>[Food, Tea Rooms, Desserts, Bubble Tea]</td>\n",
       "      <td>Las Vegas</td>\n",
       "      <td>7380 S Rainbow Blvd\\nSte 101\\nSouthwest\\nLas V...</td>\n",
       "      <td>{'Wednesday': {'open': '11:00', 'close': '22:0...</td>\n",
       "      <td>36.054195</td>\n",
       "      <td>-115.242443</td>\n",
       "      <td>Brew Tea Bar</td>\n",
       "      <td>[Southwest]</td>\n",
       "      <td>True</td>\n",
       "      <td>579</td>\n",
       "      <td>5.0</td>\n",
       "      <td>NV</td>\n",
       "      <td>business</td>\n",
       "    </tr>\n",
       "    <tr>\n",
       "      <th>bMQ6SGTC7h4aY0KD40kpNQ</th>\n",
       "      <td>{'Accepts Credit Cards': True, 'Price Range': ...</td>\n",
       "      <td>bMQ6SGTC7h4aY0KD40kpNQ</td>\n",
       "      <td>[Food Banks, Local Services, Community Service...</td>\n",
       "      <td>Las Vegas</td>\n",
       "      <td>4190 N Pecos Rd\\nLas Vegas, NV 89115</td>\n",
       "      <td>{'Wednesday': {'open': '08:00', 'close': '17:0...</td>\n",
       "      <td>36.236090</td>\n",
       "      <td>-115.096374</td>\n",
       "      <td>Three Square</td>\n",
       "      <td>[]</td>\n",
       "      <td>True</td>\n",
       "      <td>38</td>\n",
       "      <td>5.0</td>\n",
       "      <td>NV</td>\n",
       "      <td>business</td>\n",
       "    </tr>\n",
       "    <tr>\n",
       "      <th>4bnLfKXorJ9HVmt7Oc8lcw</th>\n",
       "      <td>{'Good for Kids': False}</td>\n",
       "      <td>4bnLfKXorJ9HVmt7Oc8lcw</td>\n",
       "      <td>[Local Flavor]</td>\n",
       "      <td>Phoenix</td>\n",
       "      <td>La Grande Orange Bake Shop\\n4410 N 40th St\\nPh...</td>\n",
       "      <td>{}</td>\n",
       "      <td>33.502139</td>\n",
       "      <td>-111.995748</td>\n",
       "      <td>CMYE: Yelp's Sweet Bake-In at La Grande Orange...</td>\n",
       "      <td>[]</td>\n",
       "      <td>True</td>\n",
       "      <td>34</td>\n",
       "      <td>5.0</td>\n",
       "      <td>AZ</td>\n",
       "      <td>business</td>\n",
       "    </tr>\n",
       "    <tr>\n",
       "      <th>IwFpnIKo8xCVvoUCwluoXA</th>\n",
       "      <td>{'Wheelchair Accessible': True, 'Smoking': 'no...</td>\n",
       "      <td>IwFpnIKo8xCVvoUCwluoXA</td>\n",
       "      <td>[Arts &amp; Entertainment, Performing Arts]</td>\n",
       "      <td>Las Vegas</td>\n",
       "      <td>Harrah's Las Vegas Hotel Casino\\n3475 Las Vega...</td>\n",
       "      <td>{'Friday': {'open': '13:00', 'close': '15:00'}...</td>\n",
       "      <td>36.119310</td>\n",
       "      <td>-115.171770</td>\n",
       "      <td>The Mac King Comedy Magic Show</td>\n",
       "      <td>[The Strip]</td>\n",
       "      <td>True</td>\n",
       "      <td>390</td>\n",
       "      <td>4.5</td>\n",
       "      <td>NV</td>\n",
       "      <td>business</td>\n",
       "    </tr>\n",
       "    <tr>\n",
       "      <th>szcPQs5JVAl3iDvRBpvghQ</th>\n",
       "      <td>{'Good For': {'dessert': True, 'breakfast': Fa...</td>\n",
       "      <td>szcPQs5JVAl3iDvRBpvghQ</td>\n",
       "      <td>[Food, Shaved Ice, Food Stands, Restaurants]</td>\n",
       "      <td>Las Vegas</td>\n",
       "      <td>Las Vegas, NV 89101</td>\n",
       "      <td>{}</td>\n",
       "      <td>36.169710</td>\n",
       "      <td>-115.123695</td>\n",
       "      <td>Snow Ono Shave Ice</td>\n",
       "      <td>[]</td>\n",
       "      <td>False</td>\n",
       "      <td>138</td>\n",
       "      <td>5.0</td>\n",
       "      <td>NV</td>\n",
       "      <td>business</td>\n",
       "    </tr>\n",
       "    <tr>\n",
       "      <th>hrnvVr3hmb2oD3oUnJrNSw</th>\n",
       "      <td>{'Wheelchair Accessible': True, 'Smoking': 'ou...</td>\n",
       "      <td>hrnvVr3hmb2oD3oUnJrNSw</td>\n",
       "      <td>[Arts &amp; Entertainment, Performing Arts, Music ...</td>\n",
       "      <td>Tempe</td>\n",
       "      <td>700 W Rio Salado Pkwy\\nTempe, AZ 85281</td>\n",
       "      <td>{'Friday': {'open': '10:00', 'close': '18:00'}...</td>\n",
       "      <td>33.431771</td>\n",
       "      <td>-111.948574</td>\n",
       "      <td>Tempe Center for the Arts</td>\n",
       "      <td>[]</td>\n",
       "      <td>True</td>\n",
       "      <td>54</td>\n",
       "      <td>4.5</td>\n",
       "      <td>AZ</td>\n",
       "      <td>business</td>\n",
       "    </tr>\n",
       "    <tr>\n",
       "      <th>Y_P4hdBnB5TZD3-nsi9-jQ</th>\n",
       "      <td>{'Accepts Credit Cards': True}</td>\n",
       "      <td>Y_P4hdBnB5TZD3-nsi9-jQ</td>\n",
       "      <td>[Automotive, Parking]</td>\n",
       "      <td>Phoenix</td>\n",
       "      <td>3150 S 48th st\\nPhoenix, AZ 85040</td>\n",
       "      <td>{'Wednesday': {'open': '00:00', 'close': '00:0...</td>\n",
       "      <td>33.419917</td>\n",
       "      <td>-111.980971</td>\n",
       "      <td>Blue Sky Airport Parking</td>\n",
       "      <td>[]</td>\n",
       "      <td>True</td>\n",
       "      <td>159</td>\n",
       "      <td>4.5</td>\n",
       "      <td>AZ</td>\n",
       "      <td>business</td>\n",
       "    </tr>\n",
       "    <tr>\n",
       "      <th>2e2e7WgqU1BnpxmQL5jbfw</th>\n",
       "      <td>{'Good For': {'dessert': False, 'breakfast': F...</td>\n",
       "      <td>2e2e7WgqU1BnpxmQL5jbfw</td>\n",
       "      <td>[Sandwiches, Restaurants]</td>\n",
       "      <td>Las Vegas</td>\n",
       "      <td>Planet Hollywood Resort &amp; Casino\\n3667 Las Veg...</td>\n",
       "      <td>{'Wednesday': {'open': '00:00', 'close': '00:0...</td>\n",
       "      <td>36.109930</td>\n",
       "      <td>-115.170862</td>\n",
       "      <td>Earl of Sandwich</td>\n",
       "      <td>[The Strip]</td>\n",
       "      <td>True</td>\n",
       "      <td>4687</td>\n",
       "      <td>4.5</td>\n",
       "      <td>NV</td>\n",
       "      <td>business</td>\n",
       "    </tr>\n",
       "    <tr>\n",
       "      <th>a-VGlZ06IaFTCX0vd0xm-A</th>\n",
       "      <td>{}</td>\n",
       "      <td>a-VGlZ06IaFTCX0vd0xm-A</td>\n",
       "      <td>[Churches, Religious Organizations]</td>\n",
       "      <td>Henderson</td>\n",
       "      <td>1001 New Beginnings Dr\\nHenderson, NV 89011</td>\n",
       "      <td>{'Wednesday': {'open': '09:00', 'close': '17:0...</td>\n",
       "      <td>36.080529</td>\n",
       "      <td>-115.038136</td>\n",
       "      <td>Central Church - Henderson</td>\n",
       "      <td>[]</td>\n",
       "      <td>True</td>\n",
       "      <td>76</td>\n",
       "      <td>4.5</td>\n",
       "      <td>NV</td>\n",
       "      <td>business</td>\n",
       "    </tr>\n",
       "    <tr>\n",
       "      <th>RPDbyZWiN_ayXevgko0zOA</th>\n",
       "      <td>{'Good For': {'dessert': True, 'breakfast': Fa...</td>\n",
       "      <td>RPDbyZWiN_ayXevgko0zOA</td>\n",
       "      <td>[Korean, Barbeque, Restaurants]</td>\n",
       "      <td>Las Vegas</td>\n",
       "      <td>5808 spring mountain rd\\nSte 101\\nChinatown\\nL...</td>\n",
       "      <td>{'Wednesday': {'open': '11:30', 'close': '04:0...</td>\n",
       "      <td>36.126006</td>\n",
       "      <td>-115.222520</td>\n",
       "      <td>Hobak Korean BBQ</td>\n",
       "      <td>[Chinatown]</td>\n",
       "      <td>True</td>\n",
       "      <td>542</td>\n",
       "      <td>5.0</td>\n",
       "      <td>NV</td>\n",
       "      <td>business</td>\n",
       "    </tr>\n",
       "    <tr>\n",
       "      <th>qrjPKkSPzodIfP0kW1mtEw</th>\n",
       "      <td>{'Wheelchair Accessible': True, 'Smoking': 'ou...</td>\n",
       "      <td>qrjPKkSPzodIfP0kW1mtEw</td>\n",
       "      <td>[Hair Salons, Skin Care, Hair Removal, Beauty ...</td>\n",
       "      <td>Scottsdale</td>\n",
       "      <td>4328 N Wells Fargo Ave\\nSte 2\\nScottsdale, AZ ...</td>\n",
       "      <td>{'Wednesday': {'open': '10:00', 'close': '19:0...</td>\n",
       "      <td>33.499149</td>\n",
       "      <td>-111.923063</td>\n",
       "      <td>Salon D'Shayn</td>\n",
       "      <td>[]</td>\n",
       "      <td>True</td>\n",
       "      <td>230</td>\n",
       "      <td>4.5</td>\n",
       "      <td>AZ</td>\n",
       "      <td>business</td>\n",
       "    </tr>\n",
       "    <tr>\n",
       "      <th>JXUX_oiCrfHm6b1sbqQd7A</th>\n",
       "      <td>{'Good For': {'dessert': False, 'breakfast': F...</td>\n",
       "      <td>JXUX_oiCrfHm6b1sbqQd7A</td>\n",
       "      <td>[Food, Poke]</td>\n",
       "      <td>North Las Vegas</td>\n",
       "      <td>655 W Craig Rd\\nSte 118\\nNorth Las Vegas, NV 8...</td>\n",
       "      <td>{'Wednesday': {'open': '10:00', 'close': '18:0...</td>\n",
       "      <td>36.238246</td>\n",
       "      <td>-115.150921</td>\n",
       "      <td>Poke Express</td>\n",
       "      <td>[]</td>\n",
       "      <td>True</td>\n",
       "      <td>387</td>\n",
       "      <td>5.0</td>\n",
       "      <td>NV</td>\n",
       "      <td>business</td>\n",
       "    </tr>\n",
       "    <tr>\n",
       "      <th>f8luua75t2Is5iP6nxcXQQ</th>\n",
       "      <td>{'Wheelchair Accessible': True, 'Take-out': Tr...</td>\n",
       "      <td>f8luua75t2Is5iP6nxcXQQ</td>\n",
       "      <td>[Food, Ice Cream &amp; Frozen Yogurt]</td>\n",
       "      <td>Goodyear</td>\n",
       "      <td>14175 W Indian School Rd\\nSte A-5\\nGoodyear, A...</td>\n",
       "      <td>{'Wednesday': {'open': '11:00', 'close': '22:0...</td>\n",
       "      <td>33.484449</td>\n",
       "      <td>-112.364198</td>\n",
       "      <td>Yogurtini</td>\n",
       "      <td>[]</td>\n",
       "      <td>True</td>\n",
       "      <td>53</td>\n",
       "      <td>5.0</td>\n",
       "      <td>AZ</td>\n",
       "      <td>business</td>\n",
       "    </tr>\n",
       "    <tr>\n",
       "      <th>Nu_IcBFRt63p2OHzF2hUig</th>\n",
       "      <td>{'Wheelchair Accessible': False, 'Caters': Fal...</td>\n",
       "      <td>Nu_IcBFRt63p2OHzF2hUig</td>\n",
       "      <td>[Food, Desserts, Gelato, Ice Cream &amp; Frozen Yo...</td>\n",
       "      <td>Las Vegas</td>\n",
       "      <td>1616 S Las Vegas Blvd\\nSte 130\\nDowntown\\nLas ...</td>\n",
       "      <td>{'Wednesday': {'open': '13:00', 'close': '22:0...</td>\n",
       "      <td>36.151555</td>\n",
       "      <td>-115.152610</td>\n",
       "      <td>Art of Flavors</td>\n",
       "      <td>[Downtown]</td>\n",
       "      <td>False</td>\n",
       "      <td>363</td>\n",
       "      <td>5.0</td>\n",
       "      <td>NV</td>\n",
       "      <td>business</td>\n",
       "    </tr>\n",
       "    <tr>\n",
       "      <th>1hY0Q3BYDq6CJDQay2xRQA</th>\n",
       "      <td>{'Wheelchair Accessible': True, 'Accepts Credi...</td>\n",
       "      <td>1hY0Q3BYDq6CJDQay2xRQA</td>\n",
       "      <td>[Health Markets, Food, Shopping, Vitamins &amp; Su...</td>\n",
       "      <td>Las Vegas</td>\n",
       "      <td>9680 S Eastern Ave\\nSte 120\\nSoutheast\\nLas Ve...</td>\n",
       "      <td>{'Wednesday': {'open': '09:00', 'close': '21:0...</td>\n",
       "      <td>36.013838</td>\n",
       "      <td>-115.117968</td>\n",
       "      <td>Vegas Discount Nutrition</td>\n",
       "      <td>[Southeast]</td>\n",
       "      <td>True</td>\n",
       "      <td>223</td>\n",
       "      <td>5.0</td>\n",
       "      <td>NV</td>\n",
       "      <td>business</td>\n",
       "    </tr>\n",
       "    <tr>\n",
       "      <th>Us-93TD-lG_kVJzDPvmppw</th>\n",
       "      <td>{'Accepts Credit Cards': True}</td>\n",
       "      <td>Us-93TD-lG_kVJzDPvmppw</td>\n",
       "      <td>[Local Services, Carpet Cleaning]</td>\n",
       "      <td>Phoenix</td>\n",
       "      <td>5444 E Camelback Rd\\nPhoenix, AZ 85018</td>\n",
       "      <td>{'Wednesday': {'open': '00:00', 'close': '00:0...</td>\n",
       "      <td>33.501848</td>\n",
       "      <td>-111.964967</td>\n",
       "      <td>I Clean Carpets</td>\n",
       "      <td>[]</td>\n",
       "      <td>True</td>\n",
       "      <td>250</td>\n",
       "      <td>5.0</td>\n",
       "      <td>AZ</td>\n",
       "      <td>business</td>\n",
       "    </tr>\n",
       "    <tr>\n",
       "      <th>_tYT5_N3zCwrpkdfVhqrnw</th>\n",
       "      <td>{'Wheelchair Accessible': True, 'Good for Kids...</td>\n",
       "      <td>_tYT5_N3zCwrpkdfVhqrnw</td>\n",
       "      <td>[Paint &amp; Sip, Art Classes, Arts &amp; Entertainmen...</td>\n",
       "      <td>Scottsdale</td>\n",
       "      <td>4165 N Craftsman Ct\\nScottsdale, AZ 85251</td>\n",
       "      <td>{'Wednesday': {'open': '10:00', 'close': '17:0...</td>\n",
       "      <td>33.496715</td>\n",
       "      <td>-111.927408</td>\n",
       "      <td>The Brush Bar</td>\n",
       "      <td>[]</td>\n",
       "      <td>True</td>\n",
       "      <td>77</td>\n",
       "      <td>5.0</td>\n",
       "      <td>AZ</td>\n",
       "      <td>business</td>\n",
       "    </tr>\n",
       "    <tr>\n",
       "      <th>84NQRcMC0ldIC86yRw0vpA</th>\n",
       "      <td>{'Wheelchair Accessible': True, 'Take-out': Tr...</td>\n",
       "      <td>84NQRcMC0ldIC86yRw0vpA</td>\n",
       "      <td>[Food, Ice Cream &amp; Frozen Yogurt, Gelato, Dess...</td>\n",
       "      <td>Mesa</td>\n",
       "      <td>5251 E Brown Rd\\nSte 104\\nMesa, AZ 85205</td>\n",
       "      <td>{'Wednesday': {'open': '11:00', 'close': '21:3...</td>\n",
       "      <td>33.437338</td>\n",
       "      <td>-111.717932</td>\n",
       "      <td>Gelato Dolce Vita</td>\n",
       "      <td>[]</td>\n",
       "      <td>True</td>\n",
       "      <td>178</td>\n",
       "      <td>5.0</td>\n",
       "      <td>AZ</td>\n",
       "      <td>business</td>\n",
       "    </tr>\n",
       "    <tr>\n",
       "      <th>qcF6SHcGRML7gihfpNl_zA</th>\n",
       "      <td>{'Wheelchair Accessible': True, 'Accepts Credi...</td>\n",
       "      <td>qcF6SHcGRML7gihfpNl_zA</td>\n",
       "      <td>[Skin Care, Threading Services, Laser Hair Rem...</td>\n",
       "      <td>Las Vegas</td>\n",
       "      <td>2960 S Durango Dr\\nSte 112\\nWestside\\nLas Vega...</td>\n",
       "      <td>{'Wednesday': {'open': '10:00', 'close': '20:0...</td>\n",
       "      <td>36.135543</td>\n",
       "      <td>-115.277850</td>\n",
       "      <td>Fabulous Eyebrow Threading</td>\n",
       "      <td>[Westside]</td>\n",
       "      <td>True</td>\n",
       "      <td>413</td>\n",
       "      <td>5.0</td>\n",
       "      <td>NV</td>\n",
       "      <td>business</td>\n",
       "    </tr>\n",
       "    <tr>\n",
       "      <th>nYer89hXYAoddMEKTxw7kA</th>\n",
       "      <td>{'Good for Kids': False}</td>\n",
       "      <td>nYer89hXYAoddMEKTxw7kA</td>\n",
       "      <td>[Yelp Events, Local Flavor]</td>\n",
       "      <td>Phoenix</td>\n",
       "      <td>FilmBar\\n815 N 2nd St\\nPhoenix, AZ 85004</td>\n",
       "      <td>{}</td>\n",
       "      <td>33.457106</td>\n",
       "      <td>-112.071074</td>\n",
       "      <td>Yelp's Secret Cinema: Made In Arizona</td>\n",
       "      <td>[]</td>\n",
       "      <td>True</td>\n",
       "      <td>38</td>\n",
       "      <td>5.0</td>\n",
       "      <td>AZ</td>\n",
       "      <td>business</td>\n",
       "    </tr>\n",
       "    <tr>\n",
       "      <th>L-bwqJzTbT7ODisS4sepJg</th>\n",
       "      <td>{'Wheelchair Accessible': True, 'Alcohol': 'no...</td>\n",
       "      <td>L-bwqJzTbT7ODisS4sepJg</td>\n",
       "      <td>[Food, Coffee &amp; Tea, Juice Bars &amp; Smoothies, O...</td>\n",
       "      <td>Las Vegas</td>\n",
       "      <td>6145 S Fort Apache Rd\\nSte 506\\nSpring Valley\\...</td>\n",
       "      <td>{'Wednesday': {'open': '07:00', 'close': '20:0...</td>\n",
       "      <td>36.075943</td>\n",
       "      <td>-115.298020</td>\n",
       "      <td>Pressed For Juice</td>\n",
       "      <td>[Spring Valley]</td>\n",
       "      <td>True</td>\n",
       "      <td>105</td>\n",
       "      <td>4.5</td>\n",
       "      <td>NV</td>\n",
       "      <td>business</td>\n",
       "    </tr>\n",
       "    <tr>\n",
       "      <th>CZBYYCb4xBwNlSIYNc6Eiw</th>\n",
       "      <td>{'Accepts Credit Cards': True, 'By Appointment...</td>\n",
       "      <td>CZBYYCb4xBwNlSIYNc6Eiw</td>\n",
       "      <td>[Active Life, Hiking]</td>\n",
       "      <td>Apache Junction</td>\n",
       "      <td>6109 N. Apache Trail\\nApache Junction, AZ 85219</td>\n",
       "      <td>{}</td>\n",
       "      <td>33.461401</td>\n",
       "      <td>-111.485730</td>\n",
       "      <td>Siphon Draw Trail inc. Flatiron, Superstition ...</td>\n",
       "      <td>[]</td>\n",
       "      <td>True</td>\n",
       "      <td>49</td>\n",
       "      <td>5.0</td>\n",
       "      <td>AZ</td>\n",
       "      <td>business</td>\n",
       "    </tr>\n",
       "    <tr>\n",
       "      <th>QBHcPkoRsPb68Oq7zRj44A</th>\n",
       "      <td>{'Good For': {'dessert': True, 'breakfast': Fa...</td>\n",
       "      <td>QBHcPkoRsPb68Oq7zRj44A</td>\n",
       "      <td>[Food, Desserts, Shaved Ice, Food Trucks]</td>\n",
       "      <td>Henderson</td>\n",
       "      <td>898 S Boulder Hwy\\nHenderson, NV 89015</td>\n",
       "      <td>{'Wednesday': {'open': '12:00', 'close': '20:0...</td>\n",
       "      <td>36.025234</td>\n",
       "      <td>-114.965485</td>\n",
       "      <td>Frost Bites Shavery</td>\n",
       "      <td>[]</td>\n",
       "      <td>False</td>\n",
       "      <td>72</td>\n",
       "      <td>5.0</td>\n",
       "      <td>NV</td>\n",
       "      <td>business</td>\n",
       "    </tr>\n",
       "    <tr>\n",
       "      <th>qMkIbQFrROSnPaQ7at85-w</th>\n",
       "      <td>{'Wheelchair Accessible': True, 'Smoking': 'no...</td>\n",
       "      <td>qMkIbQFrROSnPaQ7at85-w</td>\n",
       "      <td>[Arts &amp; Entertainment, Music Venues, Parks, Ni...</td>\n",
       "      <td>Phoenix</td>\n",
       "      <td>1201 N Galvin Pkwy\\nPhoenix, AZ 85008</td>\n",
       "      <td>{'Wednesday': {'open': '08:00', 'close': '20:0...</td>\n",
       "      <td>33.462167</td>\n",
       "      <td>-111.944972</td>\n",
       "      <td>Desert Botanical Garden</td>\n",
       "      <td>[]</td>\n",
       "      <td>True</td>\n",
       "      <td>598</td>\n",
       "      <td>4.5</td>\n",
       "      <td>AZ</td>\n",
       "      <td>business</td>\n",
       "    </tr>\n",
       "    <tr>\n",
       "      <th>mQde7KRomOQoUyPGTqeXhA</th>\n",
       "      <td>{}</td>\n",
       "      <td>mQde7KRomOQoUyPGTqeXhA</td>\n",
       "      <td>[Animal Shelters, Veterinarians, Pet Stores, P...</td>\n",
       "      <td>Phoenix</td>\n",
       "      <td>1521 W Dobbins Rd\\nPhoenix, AZ 85041</td>\n",
       "      <td>{'Wednesday': {'open': '11:00', 'close': '18:0...</td>\n",
       "      <td>33.362442</td>\n",
       "      <td>-112.092663</td>\n",
       "      <td>Arizona Humane Society</td>\n",
       "      <td>[]</td>\n",
       "      <td>True</td>\n",
       "      <td>64</td>\n",
       "      <td>4.5</td>\n",
       "      <td>AZ</td>\n",
       "      <td>business</td>\n",
       "    </tr>\n",
       "    <tr>\n",
       "      <th>vARjqeIkSNsazHltujiq4Q</th>\n",
       "      <td>{'Good For': {'dessert': False, 'breakfast': F...</td>\n",
       "      <td>vARjqeIkSNsazHltujiq4Q</td>\n",
       "      <td>[British, Restaurants]</td>\n",
       "      <td>Mesa</td>\n",
       "      <td>1941 W Guadalupe Rd\\nSte 101\\nMesa, AZ 85202</td>\n",
       "      <td>{'Wednesday': {'open': '11:00', 'close': '00:0...</td>\n",
       "      <td>33.362700</td>\n",
       "      <td>-111.876051</td>\n",
       "      <td>Cornish Pasty Company</td>\n",
       "      <td>[]</td>\n",
       "      <td>True</td>\n",
       "      <td>884</td>\n",
       "      <td>4.5</td>\n",
       "      <td>AZ</td>\n",
       "      <td>business</td>\n",
       "    </tr>\n",
       "  </tbody>\n",
       "</table>\n",
       "<p>6317 rows × 15 columns</p>\n",
       "</div>"
      ],
      "text/plain": [
       "                                                               attributes  \\\n",
       "business_id                                                                 \n",
       "inDYSqSDMyrfBhOZc702rw  {'Accepts Credit Cards': True, 'By Appointment...   \n",
       "CJ8IURVsHxTIu2Kzp2Kumw  {'Wheelchair Accessible': True, 'Attire': 'cas...   \n",
       "3e9IUI5Dt-ktDKEQNkENVA  {'Wheelchair Accessible': True, 'Take-out': Fa...   \n",
       "UuBZkKnckkRmYt3jFn2gaQ  {'Good For': {'dessert': False, 'breakfast': T...   \n",
       "wyqwO4ZqZyRR6pGk1pTBrA                                                 {}   \n",
       "PEyRw3HOWcDnd2XHRLq5RQ                           {'Good for Kids': False}   \n",
       "cSYSUZ3YbwR_RTughnoy5A  {'Wheelchair Accessible': True, 'Accepts Credi...   \n",
       "_G5pDGRJL0mhLRgIViW2sA  {'Good For Groups': True, 'Music': {'live': Tr...   \n",
       "GQ6bCvYZxdGY6ZQyeZFeVg  {'Accepts Credit Cards': True, 'By Appointment...   \n",
       "KVYSUfN89b-nih-_9HhF6g  {'Attire': 'casual', 'Caters': False, 'Take-ou...   \n",
       "0InQd9vuhRc98OksC3Ks8Q  {'Good For': {'dessert': False, 'breakfast': T...   \n",
       "gnafBL9EZE1kn0xD7Yf3_w                           {'Good for Kids': False}   \n",
       "XoitWJUjHcdBl9GqHTsdjw  {'Good For': {'dessert': False, 'breakfast': F...   \n",
       "8z-v_pn00BcnrWs9bacYUQ  {'Accepts Credit Cards': True, 'Price Range': ...   \n",
       "6sqAj_mXmYkZ3UKsyRGGHQ  {'Wheelchair Accessible': True, 'Attire': 'cas...   \n",
       "lRALdho4l9cpiw9WdGkV1A                                                 {}   \n",
       "26ecLqpDHrB3socZGfDuhQ                                                 {}   \n",
       "pjtB4FadDdq_DeyedjDsOw                     {'Accepts Credit Cards': True}   \n",
       "aEol06ruyQJZYlDMPJGfUg  {'Wheelchair Accessible': True, 'Alcohol': 'no...   \n",
       "K5kU2IN6mXvMo-Cx0oQFZg  {'Good For': {'dessert': False, 'breakfast': F...   \n",
       "bdsKG7MQIMmZ73lgOaTZ0A  {'Good For': {'dessert': False, 'breakfast': F...   \n",
       "TmTB0Nel-U_zOr04OTUreA                     {'Accepts Credit Cards': True}   \n",
       "qdCbbg7FyD6mzf0L_g64uA  {'Good For': {'dessert': False, 'breakfast': F...   \n",
       "E-ads7TQcLMAoVp-H311UA  {'Wheelchair Accessible': True, 'Smoking': 'ye...   \n",
       "FM3JgsDg5vLJ2x1_NM9CcA  {'Smoking': 'outdoor', 'Caters': False, 'Take-...   \n",
       "WT-v-DgQvW38DewVyTLdTA  {'Good For': {'dessert': False, 'breakfast': T...   \n",
       "RUz4d1D83xRRXcc-ffkM5g  {'Good For': {'dessert': False, 'breakfast': F...   \n",
       "EF5vR_UUavzPjtgMYFCg5Q  {'Good For': {'dessert': False, 'breakfast': F...   \n",
       "Ca_u-CVUEswSkdmW0oscvA                                                 {}   \n",
       "w2laxcyc6QS28DLbXnfAMg  {'Good For': {'dessert': False, 'breakfast': F...   \n",
       "...                                                                   ...   \n",
       "Q9pYlR8ckKpbLe1fn8apGg                     {'Accepts Credit Cards': True}   \n",
       "QnAzW6KMSciUcuJ20oI3Bw  {'Attire': 'casual', 'Caters': False, 'Take-ou...   \n",
       "GwSdGrvaXi4BdXNSWKn-EA  {'Wheelchair Accessible': True, 'Accepts Credi...   \n",
       "vnKzoJr2C2YOTSQPt_F-tA                     {'Accepts Credit Cards': True}   \n",
       "VqU4Pl4URJjjgFS1UhseMg  {'Good For': {'dessert': True, 'breakfast': Fa...   \n",
       "bMQ6SGTC7h4aY0KD40kpNQ  {'Accepts Credit Cards': True, 'Price Range': ...   \n",
       "4bnLfKXorJ9HVmt7Oc8lcw                           {'Good for Kids': False}   \n",
       "IwFpnIKo8xCVvoUCwluoXA  {'Wheelchair Accessible': True, 'Smoking': 'no...   \n",
       "szcPQs5JVAl3iDvRBpvghQ  {'Good For': {'dessert': True, 'breakfast': Fa...   \n",
       "hrnvVr3hmb2oD3oUnJrNSw  {'Wheelchair Accessible': True, 'Smoking': 'ou...   \n",
       "Y_P4hdBnB5TZD3-nsi9-jQ                     {'Accepts Credit Cards': True}   \n",
       "2e2e7WgqU1BnpxmQL5jbfw  {'Good For': {'dessert': False, 'breakfast': F...   \n",
       "a-VGlZ06IaFTCX0vd0xm-A                                                 {}   \n",
       "RPDbyZWiN_ayXevgko0zOA  {'Good For': {'dessert': True, 'breakfast': Fa...   \n",
       "qrjPKkSPzodIfP0kW1mtEw  {'Wheelchair Accessible': True, 'Smoking': 'ou...   \n",
       "JXUX_oiCrfHm6b1sbqQd7A  {'Good For': {'dessert': False, 'breakfast': F...   \n",
       "f8luua75t2Is5iP6nxcXQQ  {'Wheelchair Accessible': True, 'Take-out': Tr...   \n",
       "Nu_IcBFRt63p2OHzF2hUig  {'Wheelchair Accessible': False, 'Caters': Fal...   \n",
       "1hY0Q3BYDq6CJDQay2xRQA  {'Wheelchair Accessible': True, 'Accepts Credi...   \n",
       "Us-93TD-lG_kVJzDPvmppw                     {'Accepts Credit Cards': True}   \n",
       "_tYT5_N3zCwrpkdfVhqrnw  {'Wheelchair Accessible': True, 'Good for Kids...   \n",
       "84NQRcMC0ldIC86yRw0vpA  {'Wheelchair Accessible': True, 'Take-out': Tr...   \n",
       "qcF6SHcGRML7gihfpNl_zA  {'Wheelchair Accessible': True, 'Accepts Credi...   \n",
       "nYer89hXYAoddMEKTxw7kA                           {'Good for Kids': False}   \n",
       "L-bwqJzTbT7ODisS4sepJg  {'Wheelchair Accessible': True, 'Alcohol': 'no...   \n",
       "CZBYYCb4xBwNlSIYNc6Eiw  {'Accepts Credit Cards': True, 'By Appointment...   \n",
       "QBHcPkoRsPb68Oq7zRj44A  {'Good For': {'dessert': True, 'breakfast': Fa...   \n",
       "qMkIbQFrROSnPaQ7at85-w  {'Wheelchair Accessible': True, 'Smoking': 'no...   \n",
       "mQde7KRomOQoUyPGTqeXhA                                                 {}   \n",
       "vARjqeIkSNsazHltujiq4Q  {'Good For': {'dessert': False, 'breakfast': F...   \n",
       "\n",
       "                                   business_id  \\\n",
       "business_id                                      \n",
       "inDYSqSDMyrfBhOZc702rw  inDYSqSDMyrfBhOZc702rw   \n",
       "CJ8IURVsHxTIu2Kzp2Kumw  CJ8IURVsHxTIu2Kzp2Kumw   \n",
       "3e9IUI5Dt-ktDKEQNkENVA  3e9IUI5Dt-ktDKEQNkENVA   \n",
       "UuBZkKnckkRmYt3jFn2gaQ  UuBZkKnckkRmYt3jFn2gaQ   \n",
       "wyqwO4ZqZyRR6pGk1pTBrA  wyqwO4ZqZyRR6pGk1pTBrA   \n",
       "PEyRw3HOWcDnd2XHRLq5RQ  PEyRw3HOWcDnd2XHRLq5RQ   \n",
       "cSYSUZ3YbwR_RTughnoy5A  cSYSUZ3YbwR_RTughnoy5A   \n",
       "_G5pDGRJL0mhLRgIViW2sA  _G5pDGRJL0mhLRgIViW2sA   \n",
       "GQ6bCvYZxdGY6ZQyeZFeVg  GQ6bCvYZxdGY6ZQyeZFeVg   \n",
       "KVYSUfN89b-nih-_9HhF6g  KVYSUfN89b-nih-_9HhF6g   \n",
       "0InQd9vuhRc98OksC3Ks8Q  0InQd9vuhRc98OksC3Ks8Q   \n",
       "gnafBL9EZE1kn0xD7Yf3_w  gnafBL9EZE1kn0xD7Yf3_w   \n",
       "XoitWJUjHcdBl9GqHTsdjw  XoitWJUjHcdBl9GqHTsdjw   \n",
       "8z-v_pn00BcnrWs9bacYUQ  8z-v_pn00BcnrWs9bacYUQ   \n",
       "6sqAj_mXmYkZ3UKsyRGGHQ  6sqAj_mXmYkZ3UKsyRGGHQ   \n",
       "lRALdho4l9cpiw9WdGkV1A  lRALdho4l9cpiw9WdGkV1A   \n",
       "26ecLqpDHrB3socZGfDuhQ  26ecLqpDHrB3socZGfDuhQ   \n",
       "pjtB4FadDdq_DeyedjDsOw  pjtB4FadDdq_DeyedjDsOw   \n",
       "aEol06ruyQJZYlDMPJGfUg  aEol06ruyQJZYlDMPJGfUg   \n",
       "K5kU2IN6mXvMo-Cx0oQFZg  K5kU2IN6mXvMo-Cx0oQFZg   \n",
       "bdsKG7MQIMmZ73lgOaTZ0A  bdsKG7MQIMmZ73lgOaTZ0A   \n",
       "TmTB0Nel-U_zOr04OTUreA  TmTB0Nel-U_zOr04OTUreA   \n",
       "qdCbbg7FyD6mzf0L_g64uA  qdCbbg7FyD6mzf0L_g64uA   \n",
       "E-ads7TQcLMAoVp-H311UA  E-ads7TQcLMAoVp-H311UA   \n",
       "FM3JgsDg5vLJ2x1_NM9CcA  FM3JgsDg5vLJ2x1_NM9CcA   \n",
       "WT-v-DgQvW38DewVyTLdTA  WT-v-DgQvW38DewVyTLdTA   \n",
       "RUz4d1D83xRRXcc-ffkM5g  RUz4d1D83xRRXcc-ffkM5g   \n",
       "EF5vR_UUavzPjtgMYFCg5Q  EF5vR_UUavzPjtgMYFCg5Q   \n",
       "Ca_u-CVUEswSkdmW0oscvA  Ca_u-CVUEswSkdmW0oscvA   \n",
       "w2laxcyc6QS28DLbXnfAMg  w2laxcyc6QS28DLbXnfAMg   \n",
       "...                                        ...   \n",
       "Q9pYlR8ckKpbLe1fn8apGg  Q9pYlR8ckKpbLe1fn8apGg   \n",
       "QnAzW6KMSciUcuJ20oI3Bw  QnAzW6KMSciUcuJ20oI3Bw   \n",
       "GwSdGrvaXi4BdXNSWKn-EA  GwSdGrvaXi4BdXNSWKn-EA   \n",
       "vnKzoJr2C2YOTSQPt_F-tA  vnKzoJr2C2YOTSQPt_F-tA   \n",
       "VqU4Pl4URJjjgFS1UhseMg  VqU4Pl4URJjjgFS1UhseMg   \n",
       "bMQ6SGTC7h4aY0KD40kpNQ  bMQ6SGTC7h4aY0KD40kpNQ   \n",
       "4bnLfKXorJ9HVmt7Oc8lcw  4bnLfKXorJ9HVmt7Oc8lcw   \n",
       "IwFpnIKo8xCVvoUCwluoXA  IwFpnIKo8xCVvoUCwluoXA   \n",
       "szcPQs5JVAl3iDvRBpvghQ  szcPQs5JVAl3iDvRBpvghQ   \n",
       "hrnvVr3hmb2oD3oUnJrNSw  hrnvVr3hmb2oD3oUnJrNSw   \n",
       "Y_P4hdBnB5TZD3-nsi9-jQ  Y_P4hdBnB5TZD3-nsi9-jQ   \n",
       "2e2e7WgqU1BnpxmQL5jbfw  2e2e7WgqU1BnpxmQL5jbfw   \n",
       "a-VGlZ06IaFTCX0vd0xm-A  a-VGlZ06IaFTCX0vd0xm-A   \n",
       "RPDbyZWiN_ayXevgko0zOA  RPDbyZWiN_ayXevgko0zOA   \n",
       "qrjPKkSPzodIfP0kW1mtEw  qrjPKkSPzodIfP0kW1mtEw   \n",
       "JXUX_oiCrfHm6b1sbqQd7A  JXUX_oiCrfHm6b1sbqQd7A   \n",
       "f8luua75t2Is5iP6nxcXQQ  f8luua75t2Is5iP6nxcXQQ   \n",
       "Nu_IcBFRt63p2OHzF2hUig  Nu_IcBFRt63p2OHzF2hUig   \n",
       "1hY0Q3BYDq6CJDQay2xRQA  1hY0Q3BYDq6CJDQay2xRQA   \n",
       "Us-93TD-lG_kVJzDPvmppw  Us-93TD-lG_kVJzDPvmppw   \n",
       "_tYT5_N3zCwrpkdfVhqrnw  _tYT5_N3zCwrpkdfVhqrnw   \n",
       "84NQRcMC0ldIC86yRw0vpA  84NQRcMC0ldIC86yRw0vpA   \n",
       "qcF6SHcGRML7gihfpNl_zA  qcF6SHcGRML7gihfpNl_zA   \n",
       "nYer89hXYAoddMEKTxw7kA  nYer89hXYAoddMEKTxw7kA   \n",
       "L-bwqJzTbT7ODisS4sepJg  L-bwqJzTbT7ODisS4sepJg   \n",
       "CZBYYCb4xBwNlSIYNc6Eiw  CZBYYCb4xBwNlSIYNc6Eiw   \n",
       "QBHcPkoRsPb68Oq7zRj44A  QBHcPkoRsPb68Oq7zRj44A   \n",
       "qMkIbQFrROSnPaQ7at85-w  qMkIbQFrROSnPaQ7at85-w   \n",
       "mQde7KRomOQoUyPGTqeXhA  mQde7KRomOQoUyPGTqeXhA   \n",
       "vARjqeIkSNsazHltujiq4Q  vARjqeIkSNsazHltujiq4Q   \n",
       "\n",
       "                                                               categories  \\\n",
       "business_id                                                                 \n",
       "inDYSqSDMyrfBhOZc702rw  [Professional Services, Television Service Pro...   \n",
       "CJ8IURVsHxTIu2Kzp2Kumw                             [Buffets, Restaurants]   \n",
       "3e9IUI5Dt-ktDKEQNkENVA  [Food, Department Stores, Grocery, Fashion, Sh...   \n",
       "UuBZkKnckkRmYt3jFn2gaQ  [Casinos, Arts & Entertainment, American (New)...   \n",
       "wyqwO4ZqZyRR6pGk1pTBrA                      [Hotels & Travel, Car Rental]   \n",
       "PEyRw3HOWcDnd2XHRLq5RQ                  [Arts & Entertainment, Festivals]   \n",
       "cSYSUZ3YbwR_RTughnoy5A                       [Shopping Centers, Shopping]   \n",
       "_G5pDGRJL0mhLRgIViW2sA            [Arts & Entertainment, Performing Arts]   \n",
       "GQ6bCvYZxdGY6ZQyeZFeVg  [Professional Services, Television Service Pro...   \n",
       "KVYSUfN89b-nih-_9HhF6g  [Bars, American (New), Nightlife, Dance Clubs,...   \n",
       "0InQd9vuhRc98OksC3Ks8Q     [American (Traditional), Buffets, Restaurants]   \n",
       "gnafBL9EZE1kn0xD7Yf3_w            [Arts & Entertainment, Performing Arts]   \n",
       "XoitWJUjHcdBl9GqHTsdjw    [American (Traditional), Southern, Restaurants]   \n",
       "8z-v_pn00BcnrWs9bacYUQ  [Hotels & Travel, Arts & Entertainment, Casino...   \n",
       "6sqAj_mXmYkZ3UKsyRGGHQ  [Hotels & Travel, Arts & Entertainment, Casino...   \n",
       "lRALdho4l9cpiw9WdGkV1A        [Hotels & Travel, Airlines, Transportation]   \n",
       "26ecLqpDHrB3socZGfDuhQ  [Hotels & Travel, Travel Services, Tours, Tran...   \n",
       "pjtB4FadDdq_DeyedjDsOw                             [Car Wash, Automotive]   \n",
       "aEol06ruyQJZYlDMPJGfUg                                   [Bakeries, Food]   \n",
       "K5kU2IN6mXvMo-Cx0oQFZg                             [Mexican, Restaurants]   \n",
       "bdsKG7MQIMmZ73lgOaTZ0A                        [Asian Fusion, Restaurants]   \n",
       "TmTB0Nel-U_zOr04OTUreA  [Local Services, Shipping Centers, Post Office...   \n",
       "qdCbbg7FyD6mzf0L_g64uA   [Burgers, Fast Food, Chicken Wings, Restaurants]   \n",
       "E-ads7TQcLMAoVp-H311UA            [Lounges, Bars, Nightlife, Dance Clubs]   \n",
       "FM3JgsDg5vLJ2x1_NM9CcA            [Bars, Mexican, Nightlife, Restaurants]   \n",
       "WT-v-DgQvW38DewVyTLdTA  [Hotels & Travel, Arts & Entertainment, Casino...   \n",
       "RUz4d1D83xRRXcc-ffkM5g                             [Buffets, Restaurants]   \n",
       "EF5vR_UUavzPjtgMYFCg5Q                             [Mexican, Restaurants]   \n",
       "Ca_u-CVUEswSkdmW0oscvA                      [Hotels & Travel, Car Rental]   \n",
       "w2laxcyc6QS28DLbXnfAMg                [Sushi Bars, Japanese, Restaurants]   \n",
       "...                                                                   ...   \n",
       "Q9pYlR8ckKpbLe1fn8apGg                          [Auto Repair, Automotive]   \n",
       "QnAzW6KMSciUcuJ20oI3Bw  [American (Traditional), Pizza, Salad, Restaur...   \n",
       "GwSdGrvaXi4BdXNSWKn-EA  [Books, Mags, Music & Video, Shopping, Booksto...   \n",
       "vnKzoJr2C2YOTSQPt_F-tA              [Auto Repair, Automotive, Body Shops]   \n",
       "VqU4Pl4URJjjgFS1UhseMg            [Food, Tea Rooms, Desserts, Bubble Tea]   \n",
       "bMQ6SGTC7h4aY0KD40kpNQ  [Food Banks, Local Services, Community Service...   \n",
       "4bnLfKXorJ9HVmt7Oc8lcw                                     [Local Flavor]   \n",
       "IwFpnIKo8xCVvoUCwluoXA            [Arts & Entertainment, Performing Arts]   \n",
       "szcPQs5JVAl3iDvRBpvghQ       [Food, Shaved Ice, Food Stands, Restaurants]   \n",
       "hrnvVr3hmb2oD3oUnJrNSw  [Arts & Entertainment, Performing Arts, Music ...   \n",
       "Y_P4hdBnB5TZD3-nsi9-jQ                              [Automotive, Parking]   \n",
       "2e2e7WgqU1BnpxmQL5jbfw                          [Sandwiches, Restaurants]   \n",
       "a-VGlZ06IaFTCX0vd0xm-A                [Churches, Religious Organizations]   \n",
       "RPDbyZWiN_ayXevgko0zOA                    [Korean, Barbeque, Restaurants]   \n",
       "qrjPKkSPzodIfP0kW1mtEw  [Hair Salons, Skin Care, Hair Removal, Beauty ...   \n",
       "JXUX_oiCrfHm6b1sbqQd7A                                       [Food, Poke]   \n",
       "f8luua75t2Is5iP6nxcXQQ                  [Food, Ice Cream & Frozen Yogurt]   \n",
       "Nu_IcBFRt63p2OHzF2hUig  [Food, Desserts, Gelato, Ice Cream & Frozen Yo...   \n",
       "1hY0Q3BYDq6CJDQay2xRQA  [Health Markets, Food, Shopping, Vitamins & Su...   \n",
       "Us-93TD-lG_kVJzDPvmppw                  [Local Services, Carpet Cleaning]   \n",
       "_tYT5_N3zCwrpkdfVhqrnw  [Paint & Sip, Art Classes, Arts & Entertainmen...   \n",
       "84NQRcMC0ldIC86yRw0vpA  [Food, Ice Cream & Frozen Yogurt, Gelato, Dess...   \n",
       "qcF6SHcGRML7gihfpNl_zA  [Skin Care, Threading Services, Laser Hair Rem...   \n",
       "nYer89hXYAoddMEKTxw7kA                        [Yelp Events, Local Flavor]   \n",
       "L-bwqJzTbT7ODisS4sepJg  [Food, Coffee & Tea, Juice Bars & Smoothies, O...   \n",
       "CZBYYCb4xBwNlSIYNc6Eiw                              [Active Life, Hiking]   \n",
       "QBHcPkoRsPb68Oq7zRj44A          [Food, Desserts, Shaved Ice, Food Trucks]   \n",
       "qMkIbQFrROSnPaQ7at85-w  [Arts & Entertainment, Music Venues, Parks, Ni...   \n",
       "mQde7KRomOQoUyPGTqeXhA  [Animal Shelters, Veterinarians, Pet Stores, P...   \n",
       "vARjqeIkSNsazHltujiq4Q                             [British, Restaurants]   \n",
       "\n",
       "                                   city  \\\n",
       "business_id                               \n",
       "inDYSqSDMyrfBhOZc702rw          Phoenix   \n",
       "CJ8IURVsHxTIu2Kzp2Kumw        Las Vegas   \n",
       "3e9IUI5Dt-ktDKEQNkENVA          Phoenix   \n",
       "UuBZkKnckkRmYt3jFn2gaQ        Las Vegas   \n",
       "wyqwO4ZqZyRR6pGk1pTBrA        Las Vegas   \n",
       "PEyRw3HOWcDnd2XHRLq5RQ         Glendale   \n",
       "cSYSUZ3YbwR_RTughnoy5A          Phoenix   \n",
       "_G5pDGRJL0mhLRgIViW2sA        Las Vegas   \n",
       "GQ6bCvYZxdGY6ZQyeZFeVg        Las Vegas   \n",
       "KVYSUfN89b-nih-_9HhF6g         Glendale   \n",
       "0InQd9vuhRc98OksC3Ks8Q        Las Vegas   \n",
       "gnafBL9EZE1kn0xD7Yf3_w        Las Vegas   \n",
       "XoitWJUjHcdBl9GqHTsdjw        Las Vegas   \n",
       "8z-v_pn00BcnrWs9bacYUQ        Las Vegas   \n",
       "6sqAj_mXmYkZ3UKsyRGGHQ        Las Vegas   \n",
       "lRALdho4l9cpiw9WdGkV1A             Mesa   \n",
       "26ecLqpDHrB3socZGfDuhQ        Las Vegas   \n",
       "pjtB4FadDdq_DeyedjDsOw          Phoenix   \n",
       "aEol06ruyQJZYlDMPJGfUg        Las Vegas   \n",
       "K5kU2IN6mXvMo-Cx0oQFZg         Glendale   \n",
       "bdsKG7MQIMmZ73lgOaTZ0A        Las Vegas   \n",
       "TmTB0Nel-U_zOr04OTUreA        Las Vegas   \n",
       "qdCbbg7FyD6mzf0L_g64uA        Las Vegas   \n",
       "E-ads7TQcLMAoVp-H311UA        Las Vegas   \n",
       "FM3JgsDg5vLJ2x1_NM9CcA        Las Vegas   \n",
       "WT-v-DgQvW38DewVyTLdTA        Las Vegas   \n",
       "RUz4d1D83xRRXcc-ffkM5g        Las Vegas   \n",
       "EF5vR_UUavzPjtgMYFCg5Q        Las Vegas   \n",
       "Ca_u-CVUEswSkdmW0oscvA        Las Vegas   \n",
       "w2laxcyc6QS28DLbXnfAMg        Las Vegas   \n",
       "...                                 ...   \n",
       "Q9pYlR8ckKpbLe1fn8apGg        Las Vegas   \n",
       "QnAzW6KMSciUcuJ20oI3Bw          Gilbert   \n",
       "GwSdGrvaXi4BdXNSWKn-EA            Tempe   \n",
       "vnKzoJr2C2YOTSQPt_F-tA        Las Vegas   \n",
       "VqU4Pl4URJjjgFS1UhseMg        Las Vegas   \n",
       "bMQ6SGTC7h4aY0KD40kpNQ        Las Vegas   \n",
       "4bnLfKXorJ9HVmt7Oc8lcw          Phoenix   \n",
       "IwFpnIKo8xCVvoUCwluoXA        Las Vegas   \n",
       "szcPQs5JVAl3iDvRBpvghQ        Las Vegas   \n",
       "hrnvVr3hmb2oD3oUnJrNSw            Tempe   \n",
       "Y_P4hdBnB5TZD3-nsi9-jQ          Phoenix   \n",
       "2e2e7WgqU1BnpxmQL5jbfw        Las Vegas   \n",
       "a-VGlZ06IaFTCX0vd0xm-A        Henderson   \n",
       "RPDbyZWiN_ayXevgko0zOA        Las Vegas   \n",
       "qrjPKkSPzodIfP0kW1mtEw       Scottsdale   \n",
       "JXUX_oiCrfHm6b1sbqQd7A  North Las Vegas   \n",
       "f8luua75t2Is5iP6nxcXQQ         Goodyear   \n",
       "Nu_IcBFRt63p2OHzF2hUig        Las Vegas   \n",
       "1hY0Q3BYDq6CJDQay2xRQA        Las Vegas   \n",
       "Us-93TD-lG_kVJzDPvmppw          Phoenix   \n",
       "_tYT5_N3zCwrpkdfVhqrnw       Scottsdale   \n",
       "84NQRcMC0ldIC86yRw0vpA             Mesa   \n",
       "qcF6SHcGRML7gihfpNl_zA        Las Vegas   \n",
       "nYer89hXYAoddMEKTxw7kA          Phoenix   \n",
       "L-bwqJzTbT7ODisS4sepJg        Las Vegas   \n",
       "CZBYYCb4xBwNlSIYNc6Eiw  Apache Junction   \n",
       "QBHcPkoRsPb68Oq7zRj44A        Henderson   \n",
       "qMkIbQFrROSnPaQ7at85-w          Phoenix   \n",
       "mQde7KRomOQoUyPGTqeXhA          Phoenix   \n",
       "vARjqeIkSNsazHltujiq4Q             Mesa   \n",
       "\n",
       "                                                             full_address  \\\n",
       "business_id                                                                 \n",
       "inDYSqSDMyrfBhOZc702rw                                  Phoenix, AZ 85027   \n",
       "CJ8IURVsHxTIu2Kzp2Kumw  Imperial Palace Hotel & Casino\\n3535 Las Vegas...   \n",
       "3e9IUI5Dt-ktDKEQNkENVA                3721 E Thomas Rd\\nPhoenix, AZ 85018   \n",
       "UuBZkKnckkRmYt3jFn2gaQ  Circus Circus Las Vegas\\n2800 Las Vegas Blvd S...   \n",
       "wyqwO4ZqZyRR6pGk1pTBrA   7135 Gilespie St\\nSoutheast\\nLas Vegas, NV 89119   \n",
       "PEyRw3HOWcDnd2XHRLq5RQ            5812 W Glendale Ave\\nGlendale, AZ 85301   \n",
       "cSYSUZ3YbwR_RTughnoy5A             9617 N Metro Pkwy W\\nPhoenix, AZ 85051   \n",
       "_G5pDGRJL0mhLRgIViW2sA  Luxor Las Vegas\\n3900 Las Vegas Blvd S\\nThe St...   \n",
       "GQ6bCvYZxdGY6ZQyeZFeVg                 1700 Vegas Dr\\nLas Vegas, NV 89106   \n",
       "KVYSUfN89b-nih-_9HhF6g            9425 W Coyotes Blvd\\nGlendale, AZ 85305   \n",
       "0InQd9vuhRc98OksC3Ks8Q  Excalibur Hotel Casino\\n3850 Las Vegas Blvd S\\...   \n",
       "gnafBL9EZE1kn0xD7Yf3_w  Treasure Island\\n3300 Las Vegas Blvd S\\nThe St...   \n",
       "XoitWJUjHcdBl9GqHTsdjw  6593 Las Vegas Blvd S\\nSoutheast\\nLas Vegas, N...   \n",
       "8z-v_pn00BcnrWs9bacYUQ  The Quad Las Vegas Resort & Casino\\n3535 S Las...   \n",
       "6sqAj_mXmYkZ3UKsyRGGHQ     18 E Fremont St\\nDowntown\\nLas Vegas, NV 89101   \n",
       "lRALdho4l9cpiw9WdGkV1A                 5835 S Sossaman Rd\\nMesa, AZ 85212   \n",
       "26ecLqpDHrB3socZGfDuhQ  1550 S Industrial Rd\\nDowntown\\nLas Vegas, NV ...   \n",
       "pjtB4FadDdq_DeyedjDsOw             1954 E Highland Ave\\nPhoenix, AZ 85016   \n",
       "aEol06ruyQJZYlDMPJGfUg  Downtown Summerlin\\n2010 Festival Plaza, 150\\n...   \n",
       "K5kU2IN6mXvMo-Cx0oQFZg  6770 N Sunrise Blvd\\nSte G109\\nGlendale, AZ 85303   \n",
       "bdsKG7MQIMmZ73lgOaTZ0A  3545 Las Vegas Blvd S\\nThe Strip\\nLas Vegas, N...   \n",
       "TmTB0Nel-U_zOr04OTUreA    455 E Pebble Rd\\nSoutheast\\nLas Vegas, NV 89123   \n",
       "qdCbbg7FyD6mzf0L_g64uA  7925 S Rainbow Blvd\\nSouthwest\\nLas Vegas, NV ...   \n",
       "E-ads7TQcLMAoVp-H311UA  Planet Hollywood\\n3667 Las Vegas Blvd S\\nEasts...   \n",
       "FM3JgsDg5vLJ2x1_NM9CcA  6605 S Las Vegas Blvd\\nSte 207\\nSoutheast\\nLas...   \n",
       "WT-v-DgQvW38DewVyTLdTA  2880 S Las Vegas Blvd\\nThe Strip\\nLas Vegas, N...   \n",
       "RUz4d1D83xRRXcc-ffkM5g  Eastside Cannery\\n5255 Boulder Hwy\\nLas Vegas,...   \n",
       "EF5vR_UUavzPjtgMYFCg5Q  Flamingo Hotel\\n3555 Las Vegas Blvd S\\nThe Str...   \n",
       "Ca_u-CVUEswSkdmW0oscvA  Mccarran Int'L Airport\\n7135 Gillespie Street\\...   \n",
       "w2laxcyc6QS28DLbXnfAMg  9285 S Cimarron Rd\\nSte 100\\nSouthwest\\nLas Ve...   \n",
       "...                                                                   ...   \n",
       "Q9pYlR8ckKpbLe1fn8apGg  544 E Silverado Ranch Blvd\\nSte 104\\nSoutheast...   \n",
       "QnAzW6KMSciUcuJ20oI3Bw           3000 E Ray Rd\\nBldg 1\\nGilbert, AZ 85296   \n",
       "GwSdGrvaXi4BdXNSWKn-EA              6428 S McClintock Dr\\nTempe, AZ 85283   \n",
       "vnKzoJr2C2YOTSQPt_F-tA  5350 Spring Mountain Rd\\nSte 200\\nChinatown\\nL...   \n",
       "VqU4Pl4URJjjgFS1UhseMg  7380 S Rainbow Blvd\\nSte 101\\nSouthwest\\nLas V...   \n",
       "bMQ6SGTC7h4aY0KD40kpNQ               4190 N Pecos Rd\\nLas Vegas, NV 89115   \n",
       "4bnLfKXorJ9HVmt7Oc8lcw  La Grande Orange Bake Shop\\n4410 N 40th St\\nPh...   \n",
       "IwFpnIKo8xCVvoUCwluoXA  Harrah's Las Vegas Hotel Casino\\n3475 Las Vega...   \n",
       "szcPQs5JVAl3iDvRBpvghQ                                Las Vegas, NV 89101   \n",
       "hrnvVr3hmb2oD3oUnJrNSw             700 W Rio Salado Pkwy\\nTempe, AZ 85281   \n",
       "Y_P4hdBnB5TZD3-nsi9-jQ                  3150 S 48th st\\nPhoenix, AZ 85040   \n",
       "2e2e7WgqU1BnpxmQL5jbfw  Planet Hollywood Resort & Casino\\n3667 Las Veg...   \n",
       "a-VGlZ06IaFTCX0vd0xm-A        1001 New Beginnings Dr\\nHenderson, NV 89011   \n",
       "RPDbyZWiN_ayXevgko0zOA  5808 spring mountain rd\\nSte 101\\nChinatown\\nL...   \n",
       "qrjPKkSPzodIfP0kW1mtEw  4328 N Wells Fargo Ave\\nSte 2\\nScottsdale, AZ ...   \n",
       "JXUX_oiCrfHm6b1sbqQd7A  655 W Craig Rd\\nSte 118\\nNorth Las Vegas, NV 8...   \n",
       "f8luua75t2Is5iP6nxcXQQ  14175 W Indian School Rd\\nSte A-5\\nGoodyear, A...   \n",
       "Nu_IcBFRt63p2OHzF2hUig  1616 S Las Vegas Blvd\\nSte 130\\nDowntown\\nLas ...   \n",
       "1hY0Q3BYDq6CJDQay2xRQA  9680 S Eastern Ave\\nSte 120\\nSoutheast\\nLas Ve...   \n",
       "Us-93TD-lG_kVJzDPvmppw             5444 E Camelback Rd\\nPhoenix, AZ 85018   \n",
       "_tYT5_N3zCwrpkdfVhqrnw          4165 N Craftsman Ct\\nScottsdale, AZ 85251   \n",
       "84NQRcMC0ldIC86yRw0vpA           5251 E Brown Rd\\nSte 104\\nMesa, AZ 85205   \n",
       "qcF6SHcGRML7gihfpNl_zA  2960 S Durango Dr\\nSte 112\\nWestside\\nLas Vega...   \n",
       "nYer89hXYAoddMEKTxw7kA           FilmBar\\n815 N 2nd St\\nPhoenix, AZ 85004   \n",
       "L-bwqJzTbT7ODisS4sepJg  6145 S Fort Apache Rd\\nSte 506\\nSpring Valley\\...   \n",
       "CZBYYCb4xBwNlSIYNc6Eiw    6109 N. Apache Trail\\nApache Junction, AZ 85219   \n",
       "QBHcPkoRsPb68Oq7zRj44A             898 S Boulder Hwy\\nHenderson, NV 89015   \n",
       "qMkIbQFrROSnPaQ7at85-w              1201 N Galvin Pkwy\\nPhoenix, AZ 85008   \n",
       "mQde7KRomOQoUyPGTqeXhA               1521 W Dobbins Rd\\nPhoenix, AZ 85041   \n",
       "vARjqeIkSNsazHltujiq4Q       1941 W Guadalupe Rd\\nSte 101\\nMesa, AZ 85202   \n",
       "\n",
       "                                                                    hours  \\\n",
       "business_id                                                                 \n",
       "inDYSqSDMyrfBhOZc702rw  {'Wednesday': {'open': '00:00', 'close': '00:0...   \n",
       "CJ8IURVsHxTIu2Kzp2Kumw  {'Wednesday': {'open': '07:00', 'close': '21:0...   \n",
       "3e9IUI5Dt-ktDKEQNkENVA                                                 {}   \n",
       "UuBZkKnckkRmYt3jFn2gaQ  {'Wednesday': {'open': '16:30', 'close': '21:0...   \n",
       "wyqwO4ZqZyRR6pGk1pTBrA  {'Wednesday': {'open': '00:00', 'close': '00:0...   \n",
       "PEyRw3HOWcDnd2XHRLq5RQ                                                 {}   \n",
       "cSYSUZ3YbwR_RTughnoy5A  {'Wednesday': {'open': '10:00', 'close': '21:0...   \n",
       "_G5pDGRJL0mhLRgIViW2sA  {'Friday': {'open': '12:00', 'close': '22:00'}...   \n",
       "GQ6bCvYZxdGY6ZQyeZFeVg  {'Wednesday': {'open': '07:00', 'close': '21:0...   \n",
       "KVYSUfN89b-nih-_9HhF6g  {'Wednesday': {'open': '11:00', 'close': '02:0...   \n",
       "0InQd9vuhRc98OksC3Ks8Q  {'Wednesday': {'open': '07:00', 'close': '22:0...   \n",
       "gnafBL9EZE1kn0xD7Yf3_w                                                 {}   \n",
       "XoitWJUjHcdBl9GqHTsdjw                                                 {}   \n",
       "8z-v_pn00BcnrWs9bacYUQ  {'Wednesday': {'open': '00:00', 'close': '00:0...   \n",
       "6sqAj_mXmYkZ3UKsyRGGHQ                                                 {}   \n",
       "lRALdho4l9cpiw9WdGkV1A                                                 {}   \n",
       "26ecLqpDHrB3socZGfDuhQ  {'Wednesday': {'open': '00:00', 'close': '00:0...   \n",
       "pjtB4FadDdq_DeyedjDsOw  {'Wednesday': {'open': '07:30', 'close': '18:0...   \n",
       "aEol06ruyQJZYlDMPJGfUg  {'Wednesday': {'open': '10:00', 'close': '21:0...   \n",
       "K5kU2IN6mXvMo-Cx0oQFZg  {'Wednesday': {'open': '11:00', 'close': '02:0...   \n",
       "bdsKG7MQIMmZ73lgOaTZ0A  {'Wednesday': {'open': '12:00', 'close': '00:0...   \n",
       "TmTB0Nel-U_zOr04OTUreA  {'Wednesday': {'open': '08:30', 'close': '17:0...   \n",
       "qdCbbg7FyD6mzf0L_g64uA                                                 {}   \n",
       "E-ads7TQcLMAoVp-H311UA                                                 {}   \n",
       "FM3JgsDg5vLJ2x1_NM9CcA  {'Wednesday': {'open': '12:00', 'close': '21:0...   \n",
       "WT-v-DgQvW38DewVyTLdTA  {'Wednesday': {'open': '06:00', 'close': '06:0...   \n",
       "RUz4d1D83xRRXcc-ffkM5g  {'Wednesday': {'open': '16:00', 'close': '20:0...   \n",
       "EF5vR_UUavzPjtgMYFCg5Q  {'Wednesday': {'open': '08:00', 'close': '02:0...   \n",
       "Ca_u-CVUEswSkdmW0oscvA                                                 {}   \n",
       "w2laxcyc6QS28DLbXnfAMg  {'Wednesday': {'open': '11:00', 'close': '23:0...   \n",
       "...                                                                   ...   \n",
       "Q9pYlR8ckKpbLe1fn8apGg  {'Friday': {'open': '08:00', 'close': '17:00'}...   \n",
       "QnAzW6KMSciUcuJ20oI3Bw  {'Wednesday': {'open': '08:00', 'close': '21:0...   \n",
       "GwSdGrvaXi4BdXNSWKn-EA  {'Wednesday': {'open': '10:00', 'close': '21:0...   \n",
       "vnKzoJr2C2YOTSQPt_F-tA  {'Friday': {'open': '08:00', 'close': '18:00'}...   \n",
       "VqU4Pl4URJjjgFS1UhseMg  {'Wednesday': {'open': '11:00', 'close': '22:0...   \n",
       "bMQ6SGTC7h4aY0KD40kpNQ  {'Wednesday': {'open': '08:00', 'close': '17:0...   \n",
       "4bnLfKXorJ9HVmt7Oc8lcw                                                 {}   \n",
       "IwFpnIKo8xCVvoUCwluoXA  {'Friday': {'open': '13:00', 'close': '15:00'}...   \n",
       "szcPQs5JVAl3iDvRBpvghQ                                                 {}   \n",
       "hrnvVr3hmb2oD3oUnJrNSw  {'Friday': {'open': '10:00', 'close': '18:00'}...   \n",
       "Y_P4hdBnB5TZD3-nsi9-jQ  {'Wednesday': {'open': '00:00', 'close': '00:0...   \n",
       "2e2e7WgqU1BnpxmQL5jbfw  {'Wednesday': {'open': '00:00', 'close': '00:0...   \n",
       "a-VGlZ06IaFTCX0vd0xm-A  {'Wednesday': {'open': '09:00', 'close': '17:0...   \n",
       "RPDbyZWiN_ayXevgko0zOA  {'Wednesday': {'open': '11:30', 'close': '04:0...   \n",
       "qrjPKkSPzodIfP0kW1mtEw  {'Wednesday': {'open': '10:00', 'close': '19:0...   \n",
       "JXUX_oiCrfHm6b1sbqQd7A  {'Wednesday': {'open': '10:00', 'close': '18:0...   \n",
       "f8luua75t2Is5iP6nxcXQQ  {'Wednesday': {'open': '11:00', 'close': '22:0...   \n",
       "Nu_IcBFRt63p2OHzF2hUig  {'Wednesday': {'open': '13:00', 'close': '22:0...   \n",
       "1hY0Q3BYDq6CJDQay2xRQA  {'Wednesday': {'open': '09:00', 'close': '21:0...   \n",
       "Us-93TD-lG_kVJzDPvmppw  {'Wednesday': {'open': '00:00', 'close': '00:0...   \n",
       "_tYT5_N3zCwrpkdfVhqrnw  {'Wednesday': {'open': '10:00', 'close': '17:0...   \n",
       "84NQRcMC0ldIC86yRw0vpA  {'Wednesday': {'open': '11:00', 'close': '21:3...   \n",
       "qcF6SHcGRML7gihfpNl_zA  {'Wednesday': {'open': '10:00', 'close': '20:0...   \n",
       "nYer89hXYAoddMEKTxw7kA                                                 {}   \n",
       "L-bwqJzTbT7ODisS4sepJg  {'Wednesday': {'open': '07:00', 'close': '20:0...   \n",
       "CZBYYCb4xBwNlSIYNc6Eiw                                                 {}   \n",
       "QBHcPkoRsPb68Oq7zRj44A  {'Wednesday': {'open': '12:00', 'close': '20:0...   \n",
       "qMkIbQFrROSnPaQ7at85-w  {'Wednesday': {'open': '08:00', 'close': '20:0...   \n",
       "mQde7KRomOQoUyPGTqeXhA  {'Wednesday': {'open': '11:00', 'close': '18:0...   \n",
       "vARjqeIkSNsazHltujiq4Q  {'Wednesday': {'open': '11:00', 'close': '00:0...   \n",
       "\n",
       "                         latitude   longitude  \\\n",
       "business_id                                     \n",
       "inDYSqSDMyrfBhOZc702rw  33.678238 -112.101291   \n",
       "CJ8IURVsHxTIu2Kzp2Kumw  36.118346 -115.170129   \n",
       "3e9IUI5Dt-ktDKEQNkENVA  33.479007 -112.000813   \n",
       "UuBZkKnckkRmYt3jFn2gaQ  36.137667 -115.164659   \n",
       "wyqwO4ZqZyRR6pGk1pTBrA  36.060061 -115.165044   \n",
       "PEyRw3HOWcDnd2XHRLq5RQ  33.539228 -112.184329   \n",
       "cSYSUZ3YbwR_RTughnoy5A  33.576494 -112.120861   \n",
       "_G5pDGRJL0mhLRgIViW2sA  36.095580 -115.175818   \n",
       "GQ6bCvYZxdGY6ZQyeZFeVg  36.189293 -115.162965   \n",
       "KVYSUfN89b-nih-_9HhF6g  33.533049 -112.262036   \n",
       "0InQd9vuhRc98OksC3Ks8Q  36.098878 -115.175641   \n",
       "gnafBL9EZE1kn0xD7Yf3_w  36.124823 -115.171971   \n",
       "XoitWJUjHcdBl9GqHTsdjw  36.067199 -115.172232   \n",
       "8z-v_pn00BcnrWs9bacYUQ  36.123843 -115.170220   \n",
       "6sqAj_mXmYkZ3UKsyRGGHQ  36.172075 -115.145689   \n",
       "lRALdho4l9cpiw9WdGkV1A  33.309792 -111.669200   \n",
       "26ecLqpDHrB3socZGfDuhQ  36.154658 -115.159219   \n",
       "pjtB4FadDdq_DeyedjDsOw  33.506275 -112.039655   \n",
       "aEol06ruyQJZYlDMPJGfUg  36.154862 -115.331429   \n",
       "K5kU2IN6mXvMo-Cx0oQFZg  33.533158 -112.260384   \n",
       "bdsKG7MQIMmZ73lgOaTZ0A  36.117748 -115.170475   \n",
       "TmTB0Nel-U_zOr04OTUreA  36.027059 -115.153343   \n",
       "qdCbbg7FyD6mzf0L_g64uA  36.044874 -115.243900   \n",
       "E-ads7TQcLMAoVp-H311UA  36.124423 -115.146372   \n",
       "FM3JgsDg5vLJ2x1_NM9CcA  36.068778 -115.176840   \n",
       "WT-v-DgQvW38DewVyTLdTA  36.136978 -115.163628   \n",
       "RUz4d1D83xRRXcc-ffkM5g  36.107901 -115.056372   \n",
       "EF5vR_UUavzPjtgMYFCg5Q  36.127615 -115.170364   \n",
       "Ca_u-CVUEswSkdmW0oscvA  36.060061 -115.165044   \n",
       "w2laxcyc6QS28DLbXnfAMg  36.019655 -115.271216   \n",
       "...                           ...         ...   \n",
       "Q9pYlR8ckKpbLe1fn8apGg  36.013730 -115.151623   \n",
       "QnAzW6KMSciUcuJ20oI3Bw  33.321062 -111.723919   \n",
       "GwSdGrvaXi4BdXNSWKn-EA  33.362466 -111.912620   \n",
       "vnKzoJr2C2YOTSQPt_F-tA  36.126201 -115.214819   \n",
       "VqU4Pl4URJjjgFS1UhseMg  36.054195 -115.242443   \n",
       "bMQ6SGTC7h4aY0KD40kpNQ  36.236090 -115.096374   \n",
       "4bnLfKXorJ9HVmt7Oc8lcw  33.502139 -111.995748   \n",
       "IwFpnIKo8xCVvoUCwluoXA  36.119310 -115.171770   \n",
       "szcPQs5JVAl3iDvRBpvghQ  36.169710 -115.123695   \n",
       "hrnvVr3hmb2oD3oUnJrNSw  33.431771 -111.948574   \n",
       "Y_P4hdBnB5TZD3-nsi9-jQ  33.419917 -111.980971   \n",
       "2e2e7WgqU1BnpxmQL5jbfw  36.109930 -115.170862   \n",
       "a-VGlZ06IaFTCX0vd0xm-A  36.080529 -115.038136   \n",
       "RPDbyZWiN_ayXevgko0zOA  36.126006 -115.222520   \n",
       "qrjPKkSPzodIfP0kW1mtEw  33.499149 -111.923063   \n",
       "JXUX_oiCrfHm6b1sbqQd7A  36.238246 -115.150921   \n",
       "f8luua75t2Is5iP6nxcXQQ  33.484449 -112.364198   \n",
       "Nu_IcBFRt63p2OHzF2hUig  36.151555 -115.152610   \n",
       "1hY0Q3BYDq6CJDQay2xRQA  36.013838 -115.117968   \n",
       "Us-93TD-lG_kVJzDPvmppw  33.501848 -111.964967   \n",
       "_tYT5_N3zCwrpkdfVhqrnw  33.496715 -111.927408   \n",
       "84NQRcMC0ldIC86yRw0vpA  33.437338 -111.717932   \n",
       "qcF6SHcGRML7gihfpNl_zA  36.135543 -115.277850   \n",
       "nYer89hXYAoddMEKTxw7kA  33.457106 -112.071074   \n",
       "L-bwqJzTbT7ODisS4sepJg  36.075943 -115.298020   \n",
       "CZBYYCb4xBwNlSIYNc6Eiw  33.461401 -111.485730   \n",
       "QBHcPkoRsPb68Oq7zRj44A  36.025234 -114.965485   \n",
       "qMkIbQFrROSnPaQ7at85-w  33.462167 -111.944972   \n",
       "mQde7KRomOQoUyPGTqeXhA  33.362442 -112.092663   \n",
       "vARjqeIkSNsazHltujiq4Q  33.362700 -111.876051   \n",
       "\n",
       "                                                                     name  \\\n",
       "business_id                                                                 \n",
       "inDYSqSDMyrfBhOZc702rw                                 Cox Communications   \n",
       "CJ8IURVsHxTIu2Kzp2Kumw                                   Emperor's Buffet   \n",
       "3e9IUI5Dt-ktDKEQNkENVA                                Walmart Supercenter   \n",
       "UuBZkKnckkRmYt3jFn2gaQ                                      Circus Buffet   \n",
       "wyqwO4ZqZyRR6pGk1pTBrA                                 Payless Car Rental   \n",
       "PEyRw3HOWcDnd2XHRLq5RQ               Glendale's Best Street Food Festival   \n",
       "cSYSUZ3YbwR_RTughnoy5A                                   Metrocenter Mall   \n",
       "_G5pDGRJL0mhLRgIViW2sA             Cirque du Soleil - Criss Angel Believe   \n",
       "GQ6bCvYZxdGY6ZQyeZFeVg                                 Cox Communications   \n",
       "KVYSUfN89b-nih-_9HhF6g                     McFadden's Restaurant & Saloon   \n",
       "0InQd9vuhRc98OksC3Ks8Q                                  Buffet Roundtable   \n",
       "gnafBL9EZE1kn0xD7Yf3_w                          Sirens of Treasure Island   \n",
       "XoitWJUjHcdBl9GqHTsdjw                                Ranch House Kitchen   \n",
       "8z-v_pn00BcnrWs9bacYUQ                 The Quad Las Vegas Resort & Casino   \n",
       "6sqAj_mXmYkZ3UKsyRGGHQ                      Las Vegas Club Hotel & Casino   \n",
       "lRALdho4l9cpiw9WdGkV1A                                          Allegiant   \n",
       "26ecLqpDHrB3socZGfDuhQ                                     Showtime Tours   \n",
       "pjtB4FadDdq_DeyedjDsOw                   Danny's Family Carousel Car Wash   \n",
       "aEol06ruyQJZYlDMPJGfUg                                  Wonderland Bakery   \n",
       "K5kU2IN6mXvMo-Cx0oQFZg                                      Calico Jack's   \n",
       "bdsKG7MQIMmZ73lgOaTZ0A                                               FAME   \n",
       "TmTB0Nel-U_zOr04OTUreA                                     US Post Office   \n",
       "qdCbbg7FyD6mzf0L_g64uA                                   Church's Chicken   \n",
       "E-ads7TQcLMAoVp-H311UA                                              Privé   \n",
       "FM3JgsDg5vLJ2x1_NM9CcA                 Coconuts Beach Bar & Mexican Grill   \n",
       "WT-v-DgQvW38DewVyTLdTA           Circus Circus Las Vegas Hotel and Casino   \n",
       "RUz4d1D83xRRXcc-ffkM5g                                 Cannery Row Buffet   \n",
       "EF5vR_UUavzPjtgMYFCg5Q                               Carlos' N' Charlie's   \n",
       "Ca_u-CVUEswSkdmW0oscvA                                  Dollar Rent A Car   \n",
       "w2laxcyc6QS28DLbXnfAMg                                        Inaka Sushi   \n",
       "...                                                                   ...   \n",
       "Q9pYlR8ckKpbLe1fn8apGg                         Professional Brake Service   \n",
       "QnAzW6KMSciUcuJ20oI3Bw                                   Joe's Farm Grill   \n",
       "GwSdGrvaXi4BdXNSWKn-EA                           Changing Hands Bookstore   \n",
       "vnKzoJr2C2YOTSQPt_F-tA                               Japanese Car Service   \n",
       "VqU4Pl4URJjjgFS1UhseMg                                       Brew Tea Bar   \n",
       "bMQ6SGTC7h4aY0KD40kpNQ                                       Three Square   \n",
       "4bnLfKXorJ9HVmt7Oc8lcw  CMYE: Yelp's Sweet Bake-In at La Grande Orange...   \n",
       "IwFpnIKo8xCVvoUCwluoXA                     The Mac King Comedy Magic Show   \n",
       "szcPQs5JVAl3iDvRBpvghQ                                 Snow Ono Shave Ice   \n",
       "hrnvVr3hmb2oD3oUnJrNSw                          Tempe Center for the Arts   \n",
       "Y_P4hdBnB5TZD3-nsi9-jQ                           Blue Sky Airport Parking   \n",
       "2e2e7WgqU1BnpxmQL5jbfw                                   Earl of Sandwich   \n",
       "a-VGlZ06IaFTCX0vd0xm-A                         Central Church - Henderson   \n",
       "RPDbyZWiN_ayXevgko0zOA                                   Hobak Korean BBQ   \n",
       "qrjPKkSPzodIfP0kW1mtEw                                      Salon D'Shayn   \n",
       "JXUX_oiCrfHm6b1sbqQd7A                                       Poke Express   \n",
       "f8luua75t2Is5iP6nxcXQQ                                          Yogurtini   \n",
       "Nu_IcBFRt63p2OHzF2hUig                                     Art of Flavors   \n",
       "1hY0Q3BYDq6CJDQay2xRQA                           Vegas Discount Nutrition   \n",
       "Us-93TD-lG_kVJzDPvmppw                                    I Clean Carpets   \n",
       "_tYT5_N3zCwrpkdfVhqrnw                                      The Brush Bar   \n",
       "84NQRcMC0ldIC86yRw0vpA                                  Gelato Dolce Vita   \n",
       "qcF6SHcGRML7gihfpNl_zA                         Fabulous Eyebrow Threading   \n",
       "nYer89hXYAoddMEKTxw7kA              Yelp's Secret Cinema: Made In Arizona   \n",
       "L-bwqJzTbT7ODisS4sepJg                                  Pressed For Juice   \n",
       "CZBYYCb4xBwNlSIYNc6Eiw  Siphon Draw Trail inc. Flatiron, Superstition ...   \n",
       "QBHcPkoRsPb68Oq7zRj44A                                Frost Bites Shavery   \n",
       "qMkIbQFrROSnPaQ7at85-w                            Desert Botanical Garden   \n",
       "mQde7KRomOQoUyPGTqeXhA                             Arizona Humane Society   \n",
       "vARjqeIkSNsazHltujiq4Q                              Cornish Pasty Company   \n",
       "\n",
       "                            neighborhoods   open  review_count  stars state  \\\n",
       "business_id                                                                   \n",
       "inDYSqSDMyrfBhOZc702rw                 []   True           517    1.5    AZ   \n",
       "CJ8IURVsHxTIu2Kzp2Kumw        [The Strip]  False            57    1.5    NV   \n",
       "3e9IUI5Dt-ktDKEQNkENVA                 []   True           100    1.5    AZ   \n",
       "UuBZkKnckkRmYt3jFn2gaQ        [The Strip]   True           272    2.0    NV   \n",
       "wyqwO4ZqZyRR6pGk1pTBrA        [Southeast]   True           474    1.5    NV   \n",
       "PEyRw3HOWcDnd2XHRLq5RQ                 []   True            49    1.5    AZ   \n",
       "cSYSUZ3YbwR_RTughnoy5A                 []   True           125    2.0    AZ   \n",
       "_G5pDGRJL0mhLRgIViW2sA        [The Strip]  False           833    1.5    NV   \n",
       "GQ6bCvYZxdGY6ZQyeZFeVg                 []   True           253    1.5    NV   \n",
       "KVYSUfN89b-nih-_9HhF6g                 []   True           311    1.5    AZ   \n",
       "0InQd9vuhRc98OksC3Ks8Q        [The Strip]  False           190    2.0    NV   \n",
       "gnafBL9EZE1kn0xD7Yf3_w        [The Strip]  False           143    2.0    NV   \n",
       "XoitWJUjHcdBl9GqHTsdjw        [Southeast]  False            69    2.0    NV   \n",
       "8z-v_pn00BcnrWs9bacYUQ        [The Strip]  False           609    2.0    NV   \n",
       "6sqAj_mXmYkZ3UKsyRGGHQ         [Downtown]  False            98    2.0    NV   \n",
       "lRALdho4l9cpiw9WdGkV1A                 []   True           166    1.5    AZ   \n",
       "26ecLqpDHrB3socZGfDuhQ         [Downtown]   True           358    1.5    NV   \n",
       "pjtB4FadDdq_DeyedjDsOw                 []  False           177    1.5    AZ   \n",
       "aEol06ruyQJZYlDMPJGfUg  [South Summerlin]   True            75    2.5    NV   \n",
       "K5kU2IN6mXvMo-Cx0oQFZg                 []   True           174    1.5    AZ   \n",
       "bdsKG7MQIMmZ73lgOaTZ0A        [The Strip]  False            93    2.0    NV   \n",
       "TmTB0Nel-U_zOr04OTUreA        [Southeast]   True            75    1.5    NV   \n",
       "qdCbbg7FyD6mzf0L_g64uA        [Southwest]   True            80    2.0    NV   \n",
       "E-ads7TQcLMAoVp-H311UA         [Eastside]  False           231    2.5    NV   \n",
       "FM3JgsDg5vLJ2x1_NM9CcA        [Southeast]  False           113    2.5    NV   \n",
       "WT-v-DgQvW38DewVyTLdTA        [The Strip]   True          1592    2.5    NV   \n",
       "RUz4d1D83xRRXcc-ffkM5g                 []   True            46    2.0    NV   \n",
       "EF5vR_UUavzPjtgMYFCg5Q        [The Strip]   True           272    2.0    NV   \n",
       "Ca_u-CVUEswSkdmW0oscvA        [Southeast]   True           289    2.0    NV   \n",
       "w2laxcyc6QS28DLbXnfAMg        [Southwest]   True           119    2.5    NV   \n",
       "...                                   ...    ...           ...    ...   ...   \n",
       "Q9pYlR8ckKpbLe1fn8apGg        [Southeast]   True           184    5.0    NV   \n",
       "QnAzW6KMSciUcuJ20oI3Bw                 []   True          1368    4.0    AZ   \n",
       "GwSdGrvaXi4BdXNSWKn-EA                 []   True           238    4.5    AZ   \n",
       "vnKzoJr2C2YOTSQPt_F-tA        [Chinatown]   True           106    4.5    NV   \n",
       "VqU4Pl4URJjjgFS1UhseMg        [Southwest]   True           579    5.0    NV   \n",
       "bMQ6SGTC7h4aY0KD40kpNQ                 []   True            38    5.0    NV   \n",
       "4bnLfKXorJ9HVmt7Oc8lcw                 []   True            34    5.0    AZ   \n",
       "IwFpnIKo8xCVvoUCwluoXA        [The Strip]   True           390    4.5    NV   \n",
       "szcPQs5JVAl3iDvRBpvghQ                 []  False           138    5.0    NV   \n",
       "hrnvVr3hmb2oD3oUnJrNSw                 []   True            54    4.5    AZ   \n",
       "Y_P4hdBnB5TZD3-nsi9-jQ                 []   True           159    4.5    AZ   \n",
       "2e2e7WgqU1BnpxmQL5jbfw        [The Strip]   True          4687    4.5    NV   \n",
       "a-VGlZ06IaFTCX0vd0xm-A                 []   True            76    4.5    NV   \n",
       "RPDbyZWiN_ayXevgko0zOA        [Chinatown]   True           542    5.0    NV   \n",
       "qrjPKkSPzodIfP0kW1mtEw                 []   True           230    4.5    AZ   \n",
       "JXUX_oiCrfHm6b1sbqQd7A                 []   True           387    5.0    NV   \n",
       "f8luua75t2Is5iP6nxcXQQ                 []   True            53    5.0    AZ   \n",
       "Nu_IcBFRt63p2OHzF2hUig         [Downtown]  False           363    5.0    NV   \n",
       "1hY0Q3BYDq6CJDQay2xRQA        [Southeast]   True           223    5.0    NV   \n",
       "Us-93TD-lG_kVJzDPvmppw                 []   True           250    5.0    AZ   \n",
       "_tYT5_N3zCwrpkdfVhqrnw                 []   True            77    5.0    AZ   \n",
       "84NQRcMC0ldIC86yRw0vpA                 []   True           178    5.0    AZ   \n",
       "qcF6SHcGRML7gihfpNl_zA         [Westside]   True           413    5.0    NV   \n",
       "nYer89hXYAoddMEKTxw7kA                 []   True            38    5.0    AZ   \n",
       "L-bwqJzTbT7ODisS4sepJg    [Spring Valley]   True           105    4.5    NV   \n",
       "CZBYYCb4xBwNlSIYNc6Eiw                 []   True            49    5.0    AZ   \n",
       "QBHcPkoRsPb68Oq7zRj44A                 []  False            72    5.0    NV   \n",
       "qMkIbQFrROSnPaQ7at85-w                 []   True           598    4.5    AZ   \n",
       "mQde7KRomOQoUyPGTqeXhA                 []   True            64    4.5    AZ   \n",
       "vARjqeIkSNsazHltujiq4Q                 []   True           884    4.5    AZ   \n",
       "\n",
       "                            type  \n",
       "business_id                       \n",
       "inDYSqSDMyrfBhOZc702rw  business  \n",
       "CJ8IURVsHxTIu2Kzp2Kumw  business  \n",
       "3e9IUI5Dt-ktDKEQNkENVA  business  \n",
       "UuBZkKnckkRmYt3jFn2gaQ  business  \n",
       "wyqwO4ZqZyRR6pGk1pTBrA  business  \n",
       "PEyRw3HOWcDnd2XHRLq5RQ  business  \n",
       "cSYSUZ3YbwR_RTughnoy5A  business  \n",
       "_G5pDGRJL0mhLRgIViW2sA  business  \n",
       "GQ6bCvYZxdGY6ZQyeZFeVg  business  \n",
       "KVYSUfN89b-nih-_9HhF6g  business  \n",
       "0InQd9vuhRc98OksC3Ks8Q  business  \n",
       "gnafBL9EZE1kn0xD7Yf3_w  business  \n",
       "XoitWJUjHcdBl9GqHTsdjw  business  \n",
       "8z-v_pn00BcnrWs9bacYUQ  business  \n",
       "6sqAj_mXmYkZ3UKsyRGGHQ  business  \n",
       "lRALdho4l9cpiw9WdGkV1A  business  \n",
       "26ecLqpDHrB3socZGfDuhQ  business  \n",
       "pjtB4FadDdq_DeyedjDsOw  business  \n",
       "aEol06ruyQJZYlDMPJGfUg  business  \n",
       "K5kU2IN6mXvMo-Cx0oQFZg  business  \n",
       "bdsKG7MQIMmZ73lgOaTZ0A  business  \n",
       "TmTB0Nel-U_zOr04OTUreA  business  \n",
       "qdCbbg7FyD6mzf0L_g64uA  business  \n",
       "E-ads7TQcLMAoVp-H311UA  business  \n",
       "FM3JgsDg5vLJ2x1_NM9CcA  business  \n",
       "WT-v-DgQvW38DewVyTLdTA  business  \n",
       "RUz4d1D83xRRXcc-ffkM5g  business  \n",
       "EF5vR_UUavzPjtgMYFCg5Q  business  \n",
       "Ca_u-CVUEswSkdmW0oscvA  business  \n",
       "w2laxcyc6QS28DLbXnfAMg  business  \n",
       "...                          ...  \n",
       "Q9pYlR8ckKpbLe1fn8apGg  business  \n",
       "QnAzW6KMSciUcuJ20oI3Bw  business  \n",
       "GwSdGrvaXi4BdXNSWKn-EA  business  \n",
       "vnKzoJr2C2YOTSQPt_F-tA  business  \n",
       "VqU4Pl4URJjjgFS1UhseMg  business  \n",
       "bMQ6SGTC7h4aY0KD40kpNQ  business  \n",
       "4bnLfKXorJ9HVmt7Oc8lcw  business  \n",
       "IwFpnIKo8xCVvoUCwluoXA  business  \n",
       "szcPQs5JVAl3iDvRBpvghQ  business  \n",
       "hrnvVr3hmb2oD3oUnJrNSw  business  \n",
       "Y_P4hdBnB5TZD3-nsi9-jQ  business  \n",
       "2e2e7WgqU1BnpxmQL5jbfw  business  \n",
       "a-VGlZ06IaFTCX0vd0xm-A  business  \n",
       "RPDbyZWiN_ayXevgko0zOA  business  \n",
       "qrjPKkSPzodIfP0kW1mtEw  business  \n",
       "JXUX_oiCrfHm6b1sbqQd7A  business  \n",
       "f8luua75t2Is5iP6nxcXQQ  business  \n",
       "Nu_IcBFRt63p2OHzF2hUig  business  \n",
       "1hY0Q3BYDq6CJDQay2xRQA  business  \n",
       "Us-93TD-lG_kVJzDPvmppw  business  \n",
       "_tYT5_N3zCwrpkdfVhqrnw  business  \n",
       "84NQRcMC0ldIC86yRw0vpA  business  \n",
       "qcF6SHcGRML7gihfpNl_zA  business  \n",
       "nYer89hXYAoddMEKTxw7kA  business  \n",
       "L-bwqJzTbT7ODisS4sepJg  business  \n",
       "CZBYYCb4xBwNlSIYNc6Eiw  business  \n",
       "QBHcPkoRsPb68Oq7zRj44A  business  \n",
       "qMkIbQFrROSnPaQ7at85-w  business  \n",
       "mQde7KRomOQoUyPGTqeXhA  business  \n",
       "vARjqeIkSNsazHltujiq4Q  business  \n",
       "\n",
       "[6317 rows x 15 columns]"
      ]
     },
     "execution_count": 391,
     "metadata": {},
     "output_type": "execute_result"
    }
   ],
   "source": [
    "business.loc[recommended_business_names][business.state.isin(user_states)]"
   ]
  },
  {
   "cell_type": "code",
   "execution_count": 392,
   "metadata": {
    "ExecuteTime": {
     "end_time": "2017-01-31T17:05:05.068012",
     "start_time": "2017-01-31T17:05:05.038431"
    },
    "collapsed": false
   },
   "outputs": [
    {
     "data": {
      "text/plain": [
       "state\n",
       "AZ    3206\n",
       "NC     536\n",
       "NV    3111\n",
       "PA     372\n",
       "QC       4\n",
       "SC       5\n",
       "WI       1\n",
       "dtype: int64"
      ]
     },
     "execution_count": 392,
     "metadata": {},
     "output_type": "execute_result"
    }
   ],
   "source": [
    "business.loc[recommended_business_names].groupby('state').size()"
   ]
  },
  {
   "cell_type": "code",
   "execution_count": null,
   "metadata": {
    "collapsed": true
   },
   "outputs": [],
   "source": []
  },
  {
   "cell_type": "code",
   "execution_count": null,
   "metadata": {
    "collapsed": true
   },
   "outputs": [],
   "source": []
  },
  {
   "cell_type": "code",
   "execution_count": null,
   "metadata": {
    "collapsed": true
   },
   "outputs": [],
   "source": []
  },
  {
   "cell_type": "markdown",
   "metadata": {
    "run_control": {
     "frozen": false,
     "read_only": false
    }
   },
   "source": [
    "# APPENDIX: Testing the cost function with Andrew Ng's Example"
   ]
  },
  {
   "cell_type": "code",
   "execution_count": 443,
   "metadata": {
    "ExecuteTime": {
     "end_time": "2017-01-27T17:19:12.055449",
     "start_time": "2017-01-27T17:19:11.963658"
    },
    "collapsed": false,
    "run_control": {
     "frozen": false,
     "read_only": false
    }
   },
   "outputs": [],
   "source": [
    "# Testing the cost function and implementation on a dataset with a known answer(Andrew Ng's)\n",
    "def testing():\n",
    "    from scipy.io import loadmat\n",
    "    data = loadmat('ex8_movies.mat')\n",
    "#     Y = data['Y']\n",
    "#     R = data['R']\n",
    "#     Y.shape, R.shape\n",
    "#     users = 4  \n",
    "#     movies = 5  \n",
    "#     features = 3\n",
    "\n",
    "#     params_data = loadmat('ex8_movieParams.mat')  \n",
    "#     X = params_data['X']  \n",
    "#     Theta = params_data['Theta']\n",
    "\n",
    "#     X_sub = X[:movies, :features]  \n",
    "#     Theta_sub = Theta[:users, :features]  \n",
    "#     Y_sub = Y[:movies, :users]  \n",
    "#     R_sub = R[:movies, :users]\n",
    "#     params = np.concatenate((np.ravel(X_sub), np.ravel(Theta_sub)))\n",
    "    \n",
    "\n",
    "    \n",
    "    movie_idx = {}  \n",
    "    f = open('movie_ids.txt')  \n",
    "    for line in f:  \n",
    "        tokens = line.split(' ')\n",
    "        tokens[-1] = tokens[-1][:-1]\n",
    "        movie_idx[int(tokens[0]) - 1] = ' '.join(tokens[1:])\n",
    "\n",
    "    ratings = np.zeros((1682, 1))\n",
    "\n",
    "    ratings[0] = 4  \n",
    "    ratings[6] = 3  \n",
    "    ratings[11] = 5  \n",
    "    ratings[53] = 4  \n",
    "    ratings[63] = 5  \n",
    "    ratings[65] = 3  \n",
    "    ratings[68] = 5  \n",
    "    ratings[97] = 2  \n",
    "    ratings[182] = 4  \n",
    "    ratings[225] = 5  \n",
    "    ratings[354] = 5\n",
    "    \n",
    "    R = data['R']\n",
    "    Y = data['Y']\n",
    "    Y = np.append(Y, ratings, axis=1)  \n",
    "    R = np.append(R, ratings != 0, axis=1)  \n",
    "    from scipy.optimize import minimize\n",
    "\n",
    "    movies = Y.shape[0]  \n",
    "    users = Y.shape[1]  \n",
    "    features = 10  \n",
    "    learning_rate = 10.\n",
    "\n",
    "    X = np.random.random(size=(movies, features))  \n",
    "    Theta = np.random.random(size=(users, features))  \n",
    "    params = np.concatenate((np.ravel(X), np.ravel(Theta)))\n",
    "\n",
    "    Ymean = np.zeros((movies, 1))  \n",
    "    Ynorm = np.zeros((movies, users))\n",
    "\n",
    "    for i in range(movies):  \n",
    "        idx = np.where(R[i,:] == 1)[0]\n",
    "        Ymean[i] = Y[i,idx].mean()\n",
    "        Ynorm[i,idx] = Y[i,idx] - Ymean[i]\n",
    "\n",
    "    fmin = minimize(fun=cost, x0=params, args=(Ynorm, R, movies, users, features, learning_rate),  \n",
    "                    method='CG', jac=True, options={'maxiter': 100, 'disp':True})\n",
    "    print(fmin)\n",
    "    X = np.matrix(np.reshape(fmin.x[:movies * features], (movies, features)))  \n",
    "    Theta = np.matrix(np.reshape(fmin.x[movies * features:], (users, features)))\n",
    "    \n",
    "    predictions = X * Theta.T\n",
    "    my_preds = predictions[:, -1] + Ymean\n",
    "    idx = np.argsort(my_preds, axis=0)[::-1]  \n",
    "    print(\"Top 10 movie predictions:\")  \n",
    "    for i in range(10):  \n",
    "        j = int(idx[i])\n",
    "        print('Predicted rating of {0} for movie {1}.'.format(str(float(my_preds[j])), movie_idx[j]))\n",
    "    #return cost(params, pd.DataFrame(Y_sub), pd.DataFrame(R_sub), features, 1.5)"
   ]
  },
  {
   "cell_type": "code",
   "execution_count": 444,
   "metadata": {
    "ExecuteTime": {
     "end_time": "2017-01-27T17:19:25.672902",
     "start_time": "2017-01-27T17:19:12.696603"
    },
    "collapsed": false,
    "run_control": {
     "frozen": false,
     "read_only": false
    },
    "scrolled": true
   },
   "outputs": [
    {
     "name": "stdout",
     "output_type": "stream",
     "text": [
      "The cost is currently equal to......... 434829.17492\n",
      "The cost is currently equal to......... 434829.17492\n",
      "The cost is currently equal to......... 408754.420477\n",
      "The cost is currently equal to......... 319567.708067\n",
      "The cost is currently equal to......... 141671.966108\n",
      "The cost is currently equal to......... 826367.504943\n",
      "The cost is currently equal to......... 104206.23712\n",
      "The cost is currently equal to......... 86914.1501693\n",
      "The cost is currently equal to......... 67517.3621203\n",
      "The cost is currently equal to......... 70794.9155707\n",
      "The cost is currently equal to......... 60246.3512986\n",
      "The cost is currently equal to......... 52793.4544583\n",
      "The cost is currently equal to......... 50083.9248201\n",
      "The cost is currently equal to......... 48203.6543201\n",
      "The cost is currently equal to......... 45924.5158052\n",
      "The cost is currently equal to......... 45100.3193639\n",
      "The cost is currently equal to......... 44979.2361376\n",
      "The cost is currently equal to......... 43544.4022095\n",
      "The cost is currently equal to......... 43015.027213\n",
      "The cost is currently equal to......... 42523.0173984\n",
      "The cost is currently equal to......... 41557.6378884\n",
      "The cost is currently equal to......... 41832.6850504\n",
      "The cost is currently equal to......... 41065.36779\n",
      "The cost is currently equal to......... 40547.1642301\n",
      "The cost is currently equal to......... 40337.4499047\n",
      "The cost is currently equal to......... 40219.9659658\n",
      "The cost is currently equal to......... 39949.7759889\n",
      "The cost is currently equal to......... 40080.0735641\n",
      "The cost is currently equal to......... 39832.5631529\n",
      "The cost is currently equal to......... 39680.9632615\n",
      "The cost is currently equal to......... 39608.300902\n",
      "The cost is currently equal to......... 39580.3043779\n",
      "The cost is currently equal to......... 39494.2243377\n",
      "The cost is currently equal to......... 39428.248508\n",
      "The cost is currently equal to......... 39367.4123875\n",
      "The cost is currently equal to......... 39294.4649524\n",
      "The cost is currently equal to......... 39263.5951103\n",
      "The cost is currently equal to......... 39248.1982662\n",
      "The cost is currently equal to......... 39225.962368\n",
      "The cost is currently equal to......... 39217.4547863\n",
      "The cost is currently equal to......... 39202.5401123\n",
      "The cost is currently equal to......... 39196.9390675\n",
      "The cost is currently equal to......... 39172.1769389\n",
      "The cost is currently equal to......... 39158.1968802\n",
      "The cost is currently equal to......... 39154.8890661\n",
      "The cost is currently equal to......... 39135.8748684\n",
      "The cost is currently equal to......... 39125.0338734\n",
      "The cost is currently equal to......... 39122.4389272\n",
      "The cost is currently equal to......... 39108.3068835\n",
      "The cost is currently equal to......... 39098.0734611\n",
      "The cost is currently equal to......... 39097.7887522\n",
      "The cost is currently equal to......... 39092.6978392\n",
      "The cost is currently equal to......... 39085.3768798\n",
      "The cost is currently equal to......... 39079.0552571\n",
      "The cost is currently equal to......... 39076.6895154\n",
      "The cost is currently equal to......... 39075.1408974\n",
      "The cost is currently equal to......... 39070.7610502\n",
      "The cost is currently equal to......... 39067.2274395\n",
      "The cost is currently equal to......... 39064.9509587\n",
      "The cost is currently equal to......... 39061.2923397\n",
      "The cost is currently equal to......... 39059.3246991\n",
      "The cost is currently equal to......... 39052.2558015\n",
      "The cost is currently equal to......... 39051.2089966\n",
      "The cost is currently equal to......... 39048.4096738\n",
      "The cost is currently equal to......... 39046.5874542\n",
      "The cost is currently equal to......... 39045.8687143\n",
      "The cost is currently equal to......... 39042.850077\n",
      "The cost is currently equal to......... 39039.3992467\n",
      "The cost is currently equal to......... 39034.8490024\n",
      "The cost is currently equal to......... 39034.2373493\n",
      "The cost is currently equal to......... 39032.3835428\n",
      "The cost is currently equal to......... 39029.0425841\n",
      "The cost is currently equal to......... 39025.8334791\n",
      "The cost is currently equal to......... 39023.2507082\n",
      "The cost is currently equal to......... 39019.6133102\n",
      "The cost is currently equal to......... 39017.8714992\n",
      "The cost is currently equal to......... 39017.2048003\n",
      "The cost is currently equal to......... 39021.1234466\n",
      "The cost is currently equal to......... 39016.5337033\n",
      "The cost is currently equal to......... 39015.6869462\n",
      "The cost is currently equal to......... 39014.7570268\n",
      "The cost is currently equal to......... 39013.3306246\n",
      "The cost is currently equal to......... 39012.8061876\n",
      "The cost is currently equal to......... 39010.0263545\n",
      "The cost is currently equal to......... 39009.5315058\n",
      "The cost is currently equal to......... 39007.2415912\n",
      "The cost is currently equal to......... 39009.730367\n",
      "The cost is currently equal to......... 39006.4579712\n",
      "The cost is currently equal to......... 39005.2977806\n",
      "The cost is currently equal to......... 39004.9749773\n",
      "The cost is currently equal to......... 39003.8125869\n",
      "The cost is currently equal to......... 39003.146698\n",
      "The cost is currently equal to......... 39002.9939536\n",
      "The cost is currently equal to......... 39001.9762999\n",
      "The cost is currently equal to......... 39001.6089731\n",
      "The cost is currently equal to......... 39001.3494358\n",
      "The cost is currently equal to......... 39000.9767036\n",
      "The cost is currently equal to......... 39000.9002589\n",
      "The cost is currently equal to......... 39000.3546994\n",
      "The cost is currently equal to......... 38999.5599755\n",
      "The cost is currently equal to......... 38999.3655243\n",
      "The cost is currently equal to......... 38998.1137047\n",
      "The cost is currently equal to......... 38996.6792835\n",
      "The cost is currently equal to......... 38994.8569752\n",
      "The cost is currently equal to......... 38993.4957456\n",
      "The cost is currently equal to......... 38992.8256017\n",
      "The cost is currently equal to......... 38992.579677\n",
      "The cost is currently equal to......... 38991.1153201\n",
      "The cost is currently equal to......... 38990.3650852\n",
      "The cost is currently equal to......... 38988.9048788\n",
      "The cost is currently equal to......... 38990.1906888\n",
      "The cost is currently equal to......... 38988.3916608\n",
      "The cost is currently equal to......... 38987.5026165\n",
      "The cost is currently equal to......... 38986.5701557\n",
      "The cost is currently equal to......... 38988.9672358\n",
      "The cost is currently equal to......... 38986.0138455\n",
      "The cost is currently equal to......... 38985.2375261\n",
      "The cost is currently equal to......... 38984.9711361\n",
      "The cost is currently equal to......... 38984.7649728\n",
      "The cost is currently equal to......... 38984.0753184\n",
      "The cost is currently equal to......... 38983.9068946\n",
      "The cost is currently equal to......... 38982.5673232\n",
      "The cost is currently equal to......... 38982.0134741\n",
      "The cost is currently equal to......... 38979.2932858\n",
      "The cost is currently equal to......... 38978.8497216\n",
      "The cost is currently equal to......... 38979.9076855\n",
      "The cost is currently equal to......... 38977.4586635\n",
      "The cost is currently equal to......... 38976.466562\n",
      "The cost is currently equal to......... 38976.2116291\n",
      "The cost is currently equal to......... 38975.8965417\n",
      "The cost is currently equal to......... 38975.1357829\n",
      "The cost is currently equal to......... 38974.9857806\n",
      "The cost is currently equal to......... 38974.7102129\n",
      "The cost is currently equal to......... 38974.3785649\n",
      "The cost is currently equal to......... 38973.9363453\n",
      "The cost is currently equal to......... 38973.4712003\n",
      "The cost is currently equal to......... 38973.2323172\n",
      "The cost is currently equal to......... 38973.1561838\n",
      "The cost is currently equal to......... 38972.9143223\n",
      "The cost is currently equal to......... 38972.5769776\n",
      "The cost is currently equal to......... 38972.2191156\n",
      "The cost is currently equal to......... 38972.0763843\n",
      "The cost is currently equal to......... 38971.9939601\n",
      "The cost is currently equal to......... 38971.8727788\n",
      "The cost is currently equal to......... 38971.8389584\n",
      "The cost is currently equal to......... 38971.6057878\n",
      "The cost is currently equal to......... 38971.5320212\n",
      "The cost is currently equal to......... 38971.0536039\n",
      "The cost is currently equal to......... 38970.8571542\n",
      "The cost is currently equal to......... 38969.8032219\n",
      "The cost is currently equal to......... 38969.4711534\n",
      "The cost is currently equal to......... 38969.2716141\n",
      "The cost is currently equal to......... 38968.6873126\n",
      "The cost is currently equal to......... 38967.7541221\n",
      "Warning: Maximum number of iterations has been exceeded.\n",
      "         Current function value: 38967.754122\n",
      "         Iterations: 100\n",
      "         Function evaluations: 153\n",
      "         Gradient evaluations: 153\n",
      "     fun: 38967.75412211966\n",
      "     jac: array([ 0.02578867,  0.07779672,  0.08979825, ...,  0.01828284,\n",
      "        0.02904954,  0.03389644])\n",
      " message: 'Maximum number of iterations has been exceeded.'\n",
      "    nfev: 153\n",
      "     nit: 100\n",
      "    njev: 153\n",
      "  status: 1\n",
      " success: False\n",
      "       x: array([ 0.59997592,  0.8960935 ,  0.43250488, ..., -0.05479102,\n",
      "       -0.12235213, -0.07836623])\n",
      "Top 10 movie predictions:\n",
      "Predicted rating of 5.00000319059781 for movie Prefontaine (1997).\n",
      "Predicted rating of 5.000001458407162 for movie Great Day in Harlem, A (1994).\n",
      "Predicted rating of 5.000000356818402 for movie Aiqing wansui (1994).\n",
      "Predicted rating of 5.000000263081312 for movie Marlene Dietrich: Shadow and Light (1996) .\n",
      "Predicted rating of 5.000000168835147 for movie Entertaining Angels: The Dorothy Day Story (1996).\n",
      "Predicted rating of 4.999999587242086 for movie They Made Me a Criminal (1939).\n",
      "Predicted rating of 4.999999578154717 for movie Someone Else's America (1995).\n",
      "Predicted rating of 4.999999539817084 for movie Saint of Fort Washington, The (1993).\n",
      "Predicted rating of 4.9999945176245895 for movie Santa with Muscles (1996).\n",
      "Predicted rating of 4.999991871263635 for movie Star Kid (1997).\n"
     ]
    }
   ],
   "source": [
    "testing()"
   ]
  },
  {
   "cell_type": "markdown",
   "metadata": {
    "run_control": {
     "frozen": false,
     "read_only": false
    }
   },
   "source": [
    "# Old stuff below"
   ]
  },
  {
   "cell_type": "markdown",
   "metadata": {
    "run_control": {
     "frozen": false,
     "read_only": false
    }
   },
   "source": [
    "## Check some values after conversion"
   ]
  },
  {
   "cell_type": "code",
   "execution_count": 143,
   "metadata": {
    "ExecuteTime": {
     "end_time": "2017-01-19T17:19:59.068310",
     "start_time": "2017-01-19T17:19:59.061290"
    },
    "collapsed": false,
    "run_control": {
     "frozen": false,
     "read_only": false
    }
   },
   "outputs": [
    {
     "data": {
      "text/plain": [
       "nan"
      ]
     },
     "execution_count": 143,
     "metadata": {},
     "output_type": "execute_result"
    }
   ],
   "source": [
    "Y_mat[1,2]"
   ]
  },
  {
   "cell_type": "code",
   "execution_count": 160,
   "metadata": {
    "ExecuteTime": {
     "end_time": "2017-01-19T17:29:02.400378",
     "start_time": "2017-01-19T17:29:01.853871"
    },
    "collapsed": false,
    "run_control": {
     "frozen": false,
     "read_only": false
    }
   },
   "outputs": [
    {
     "data": {
      "text/plain": [
       "'--5jkZ3-nUPZxUvtcbr8Uw'"
      ]
     },
     "execution_count": 160,
     "metadata": {},
     "output_type": "execute_result"
    }
   ],
   "source": [
    "Y.first_valid_index()"
   ]
  },
  {
   "cell_type": "code",
   "execution_count": 170,
   "metadata": {
    "ExecuteTime": {
     "end_time": "2017-01-27T12:35:42.179432",
     "start_time": "2017-01-27T12:35:42.169418"
    },
    "collapsed": false,
    "run_control": {
     "frozen": false,
     "read_only": false
    }
   },
   "outputs": [
    {
     "data": {
      "text/plain": [
       "'0BT613A1PBxuwxUzjEb6VQ'"
      ]
     },
     "execution_count": 170,
     "metadata": {},
     "output_type": "execute_result"
    }
   ],
   "source": [
    "Y.loc['--5jkZ3-nUPZxUvtcbr8Uw'].first_valid_index()"
   ]
  },
  {
   "cell_type": "code",
   "execution_count": 169,
   "metadata": {
    "ExecuteTime": {
     "end_time": "2017-01-27T12:35:39.161506",
     "start_time": "2017-01-27T12:35:39.154487"
    },
    "collapsed": false,
    "run_control": {
     "frozen": false,
     "read_only": false
    }
   },
   "outputs": [
    {
     "data": {
      "text/plain": [
       "4.0"
      ]
     },
     "execution_count": 169,
     "metadata": {},
     "output_type": "execute_result"
    }
   ],
   "source": [
    "Y.loc['--5jkZ3-nUPZxUvtcbr8Uw','0BT613A1PBxuwxUzjEb6VQ']"
   ]
  },
  {
   "cell_type": "code",
   "execution_count": 167,
   "metadata": {
    "ExecuteTime": {
     "end_time": "2017-01-27T12:35:21.102005",
     "start_time": "2017-01-27T12:35:21.083958"
    },
    "collapsed": false,
    "run_control": {
     "frozen": false,
     "read_only": false
    }
   },
   "outputs": [
    {
     "data": {
      "text/plain": [
       "0"
      ]
     },
     "execution_count": 167,
     "metadata": {},
     "output_type": "execute_result"
    }
   ],
   "source": [
    "Y.index.get_loc('--5jkZ3-nUPZxUvtcbr8Uw')"
   ]
  },
  {
   "cell_type": "code",
   "execution_count": 168,
   "metadata": {
    "ExecuteTime": {
     "end_time": "2017-01-27T12:35:22.979682",
     "start_time": "2017-01-27T12:35:22.969656"
    },
    "collapsed": false,
    "run_control": {
     "frozen": false,
     "read_only": false
    }
   },
   "outputs": [
    {
     "data": {
      "text/plain": [
       "162"
      ]
     },
     "execution_count": 168,
     "metadata": {},
     "output_type": "execute_result"
    }
   ],
   "source": [
    "Y.loc['--5jkZ3-nUPZxUvtcbr8Uw'].index.get_loc('0BT613A1PBxuwxUzjEb6VQ')"
   ]
  },
  {
   "cell_type": "code",
   "execution_count": 187,
   "metadata": {
    "ExecuteTime": {
     "end_time": "2017-01-19T18:03:10.306400",
     "start_time": "2017-01-19T18:03:10.299883"
    },
    "collapsed": false,
    "run_control": {
     "frozen": false,
     "read_only": false
    }
   },
   "outputs": [
    {
     "data": {
      "text/plain": [
       "4.0"
      ]
     },
     "execution_count": 187,
     "metadata": {},
     "output_type": "execute_result"
    }
   ],
   "source": [
    "Y_mat[0,227]"
   ]
  },
  {
   "cell_type": "code",
   "execution_count": 171,
   "metadata": {
    "ExecuteTime": {
     "end_time": "2017-01-27T12:35:47.135300",
     "start_time": "2017-01-27T12:35:47.120246"
    },
    "collapsed": false,
    "run_control": {
     "frozen": false,
     "read_only": false
    }
   },
   "outputs": [
    {
     "ename": "NameError",
     "evalue": "name 'Y_mat' is not defined",
     "output_type": "error",
     "traceback": [
      "\u001b[0;31m---------------------------------------------------------------------------\u001b[0m",
      "\u001b[0;31mNameError\u001b[0m                                 Traceback (most recent call last)",
      "\u001b[0;32m<ipython-input-171-8b25dd9a8786>\u001b[0m in \u001b[0;36m<module>\u001b[0;34m()\u001b[0m\n\u001b[0;32m----> 1\u001b[0;31m \u001b[0mY_mat\u001b[0m\u001b[1;33m[\u001b[0m\u001b[1;36m0\u001b[0m\u001b[1;33m,\u001b[0m\u001b[1;36m0\u001b[0m\u001b[1;33m]\u001b[0m\u001b[1;33m\u001b[0m\u001b[0m\n\u001b[0m",
      "\u001b[0;31mNameError\u001b[0m: name 'Y_mat' is not defined"
     ]
    }
   ],
   "source": [
    "Y_mat[0,0]"
   ]
  },
  {
   "cell_type": "code",
   "execution_count": 171,
   "metadata": {
    "ExecuteTime": {
     "end_time": "2017-01-19T17:39:48.296479",
     "start_time": "2017-01-19T17:39:44.722592"
    },
    "collapsed": false,
    "run_control": {
     "frozen": false,
     "read_only": false
    },
    "scrolled": true
   },
   "outputs": [],
   "source": [
    "Y_mat = np.nan_to_num(Y_mat)"
   ]
  },
  {
   "cell_type": "code",
   "execution_count": 178,
   "metadata": {
    "ExecuteTime": {
     "end_time": "2017-01-19T17:41:14.778951",
     "start_time": "2017-01-19T17:41:14.427514"
    },
    "collapsed": false,
    "run_control": {
     "frozen": false,
     "read_only": false
    },
    "scrolled": true
   },
   "outputs": [
    {
     "data": {
      "text/plain": [
       "0"
      ]
     },
     "execution_count": 178,
     "metadata": {},
     "output_type": "execute_result"
    }
   ],
   "source": [
    "np.isnan(Y_mat).sum()"
   ]
  },
  {
   "cell_type": "markdown",
   "metadata": {
    "run_control": {
     "frozen": false,
     "read_only": false
    }
   },
   "source": [
    "# Using a sparse matrix:\n",
    "http://stackoverflow.com/questions/31661604/efficiently-create-sparse-pivot-tables-in-pandas"
   ]
  },
  {
   "cell_type": "code",
   "execution_count": 96,
   "metadata": {
    "ExecuteTime": {
     "end_time": "2017-01-18T15:33:24.219933",
     "start_time": "2017-01-18T15:33:22.116530"
    },
    "collapsed": false,
    "run_control": {
     "frozen": false,
     "read_only": false
    }
   },
   "outputs": [],
   "source": [
    "from scipy.sparse import csr_matrix\n",
    "\n",
    "users = list(sorted(rev_biz_usr.user_id.unique()))\n",
    "businesses = list(sorted(rev_biz_usr.business_id.unique()))\n",
    "\n",
    "stars = rev_biz_usr['stars_x'].tolist()\n",
    "row = rev_biz_usr.user_id.astype('category', categories=users).cat.codes\n",
    "col = rev_biz_usr.business_id.astype('category', categories=businesses).cat.codes\n",
    "sparse_matrix = csr_matrix((stars, (row, col)), shape=(len(users), len(businesses)))"
   ]
  },
  {
   "cell_type": "code",
   "execution_count": 37,
   "metadata": {
    "ExecuteTime": {
     "end_time": "2017-01-19T11:26:49.140819",
     "start_time": "2017-01-19T11:26:49.129809"
    },
    "collapsed": false,
    "run_control": {
     "frozen": false,
     "read_only": false
    }
   },
   "outputs": [
    {
     "ename": "NameError",
     "evalue": "name 'sparse_matrix' is not defined",
     "output_type": "error",
     "traceback": [
      "\u001b[0;31m---------------------------------------------------------------------------\u001b[0m",
      "\u001b[0;31mNameError\u001b[0m                                 Traceback (most recent call last)",
      "\u001b[0;32m<ipython-input-37-d3708ee28b70>\u001b[0m in \u001b[0;36m<module>\u001b[0;34m()\u001b[0m\n\u001b[0;32m----> 1\u001b[0;31m \u001b[0msparse_matrix\u001b[0m\u001b[1;33m\u001b[0m\u001b[0m\n\u001b[0m",
      "\u001b[0;31mNameError\u001b[0m: name 'sparse_matrix' is not defined"
     ]
    }
   ],
   "source": [
    "sparse_matrix"
   ]
  },
  {
   "cell_type": "code",
   "execution_count": 196,
   "metadata": {
    "ExecuteTime": {
     "end_time": "2017-01-17T19:33:53.795022",
     "start_time": "2017-01-17T19:33:53.790009"
    },
    "collapsed": false,
    "run_control": {
     "frozen": false,
     "read_only": false
    }
   },
   "outputs": [
    {
     "data": {
      "text/plain": [
       "<144265x25629 sparse matrix of type '<class 'numpy.int32'>'\n",
       "\twith 1201156 stored elements in Compressed Sparse Row format>"
      ]
     },
     "execution_count": 196,
     "metadata": {},
     "output_type": "execute_result"
    }
   ],
   "source": [
    "sparse_matrix"
   ]
  },
  {
   "cell_type": "code",
   "execution_count": 197,
   "metadata": {
    "ExecuteTime": {
     "end_time": "2017-01-17T19:33:57.078845",
     "start_time": "2017-01-17T19:33:57.073832"
    },
    "collapsed": false,
    "run_control": {
     "frozen": false,
     "read_only": false
    }
   },
   "outputs": [
    {
     "data": {
      "text/plain": [
       "144266"
      ]
     },
     "execution_count": 197,
     "metadata": {},
     "output_type": "execute_result"
    }
   ],
   "source": [
    "len(sparse_matrix.indptr)"
   ]
  },
  {
   "cell_type": "markdown",
   "metadata": {
    "run_control": {
     "frozen": false,
     "read_only": false
    }
   },
   "source": [
    "## The R matrix can be easily obtained by first converting the csr to coo and using the ij values"
   ]
  },
  {
   "cell_type": "markdown",
   "metadata": {
    "ExecuteTime": {
     "end_time": "2017-01-17T16:35:13.651326",
     "start_time": "2017-01-17T16:35:13.509950"
    },
    "run_control": {
     "frozen": false,
     "read_only": false
    }
   },
   "source": [
    "```\n",
    "sr_matrix.tocoo(copy=True)\n",
    "\n",
    "    Convert this matrix to COOrdinate format.\n",
    "\n",
    "    With copy=False, the data/indices may be shared between this matrix and the resultant coo_matrix.\n",
    "```"
   ]
  },
  {
   "cell_type": "code",
   "execution_count": 199,
   "metadata": {
    "ExecuteTime": {
     "end_time": "2017-01-17T19:34:24.547416",
     "start_time": "2017-01-17T19:34:24.530872"
    },
    "collapsed": true,
    "run_control": {
     "frozen": false,
     "read_only": false
    }
   },
   "outputs": [],
   "source": [
    "coo_mat = sparse_matrix.tocoo()"
   ]
  },
  {
   "cell_type": "code",
   "execution_count": 200,
   "metadata": {
    "ExecuteTime": {
     "end_time": "2017-01-17T19:34:25.371416",
     "start_time": "2017-01-17T19:34:25.366923"
    },
    "collapsed": false,
    "run_control": {
     "frozen": false,
     "read_only": false
    }
   },
   "outputs": [
    {
     "data": {
      "text/plain": [
       "1201156"
      ]
     },
     "execution_count": 200,
     "metadata": {},
     "output_type": "execute_result"
    }
   ],
   "source": [
    "len(coo_mat.row)"
   ]
  },
  {
   "cell_type": "code",
   "execution_count": 201,
   "metadata": {
    "ExecuteTime": {
     "end_time": "2017-01-17T19:34:28.831723",
     "start_time": "2017-01-17T19:34:27.769386"
    },
    "collapsed": false,
    "run_control": {
     "frozen": false,
     "read_only": false
    }
   },
   "outputs": [],
   "source": [
    "R = list(zip(coo_mat.row,coo_mat.col))"
   ]
  },
  {
   "cell_type": "code",
   "execution_count": 203,
   "metadata": {
    "ExecuteTime": {
     "end_time": "2017-01-17T19:35:05.462887",
     "start_time": "2017-01-17T19:35:05.224733"
    },
    "collapsed": false,
    "run_control": {
     "frozen": false,
     "read_only": false
    }
   },
   "outputs": [
    {
     "data": {
      "text/plain": [
       "[(0, 15977),\n",
       " (1, 6023),\n",
       " (1, 10013),\n",
       " (1, 12667),\n",
       " (1, 17546),\n",
       " (1, 19296),\n",
       " (1, 22532),\n",
       " (2, 24831),\n",
       " (3, 447),\n",
       " (3, 3221),\n",
       " (3, 8781),\n",
       " (3, 11898),\n",
       " (4, 652),\n",
       " (4, 4332),\n",
       " (4, 4645),\n",
       " (4, 4721),\n",
       " (4, 4984),\n",
       " (4, 5948),\n",
       " (4, 6324),\n",
       " (4, 7945),\n",
       " (4, 8192),\n",
       " (4, 9895),\n",
       " (4, 10773),\n",
       " (4, 10826),\n",
       " (4, 11546),\n",
       " (4, 12097),\n",
       " (4, 13059),\n",
       " (4, 13246),\n",
       " (4, 13502),\n",
       " (4, 13605),\n",
       " (4, 14262),\n",
       " (4, 14961),\n",
       " (4, 15180),\n",
       " (4, 15795),\n",
       " (4, 16131),\n",
       " (4, 16960),\n",
       " (4, 18093),\n",
       " (4, 18538),\n",
       " (4, 19564),\n",
       " (4, 19983),\n",
       " (4, 21848),\n",
       " (4, 23434),\n",
       " (5, 1484),\n",
       " (5, 1592),\n",
       " (5, 2213),\n",
       " (5, 2281),\n",
       " (5, 9698),\n",
       " (5, 10180),\n",
       " (5, 12386),\n",
       " (5, 14886),\n",
       " (5, 15513),\n",
       " (5, 18589),\n",
       " (5, 18843),\n",
       " (5, 22498),\n",
       " (5, 24981),\n",
       " (6, 363),\n",
       " (6, 814),\n",
       " (6, 831),\n",
       " (6, 874),\n",
       " (6, 900),\n",
       " (6, 972),\n",
       " (6, 1243),\n",
       " (6, 1571),\n",
       " (6, 1808),\n",
       " (6, 1831),\n",
       " (6, 1917),\n",
       " (6, 1931),\n",
       " (6, 2232),\n",
       " (6, 2613),\n",
       " (6, 2631),\n",
       " (6, 2694),\n",
       " (6, 3016),\n",
       " (6, 3102),\n",
       " (6, 3165),\n",
       " (6, 4110),\n",
       " (6, 4682),\n",
       " (6, 4711),\n",
       " (6, 4754),\n",
       " (6, 5099),\n",
       " (6, 5401),\n",
       " (6, 5603),\n",
       " (6, 5618),\n",
       " (6, 5707),\n",
       " (6, 5759),\n",
       " (6, 5940),\n",
       " (6, 5982),\n",
       " (6, 6196),\n",
       " (6, 6698),\n",
       " (6, 6717),\n",
       " (6, 6726),\n",
       " (6, 6821),\n",
       " (6, 6951),\n",
       " (6, 7156),\n",
       " (6, 7231),\n",
       " (6, 7348),\n",
       " (6, 7819),\n",
       " (6, 7829),\n",
       " (6, 8022),\n",
       " (6, 8034),\n",
       " (6, 8261),\n",
       " (6, 8373),\n",
       " (6, 8418),\n",
       " (6, 8544),\n",
       " (6, 9105),\n",
       " (6, 9117),\n",
       " (6, 9351),\n",
       " (6, 9386),\n",
       " (6, 9862),\n",
       " (6, 10785),\n",
       " (6, 10922),\n",
       " (6, 11220),\n",
       " (6, 12066),\n",
       " (6, 12462),\n",
       " (6, 12473),\n",
       " (6, 12515),\n",
       " (6, 12524),\n",
       " (6, 12610),\n",
       " (6, 12641),\n",
       " (6, 12679),\n",
       " (6, 12979),\n",
       " (6, 13147),\n",
       " (6, 13191),\n",
       " (6, 13522),\n",
       " (6, 13644),\n",
       " (6, 13908),\n",
       " (6, 13909),\n",
       " (6, 14328),\n",
       " (6, 14955),\n",
       " (6, 15055),\n",
       " (6, 15285),\n",
       " (6, 15470),\n",
       " (6, 15499),\n",
       " (6, 15652),\n",
       " (6, 16115),\n",
       " (6, 16135),\n",
       " (6, 16291),\n",
       " (6, 16418),\n",
       " (6, 16426),\n",
       " (6, 16580),\n",
       " (6, 16978),\n",
       " (6, 17017),\n",
       " (6, 17022),\n",
       " (6, 17075),\n",
       " (6, 17098),\n",
       " (6, 17426),\n",
       " (6, 17668),\n",
       " (6, 17672),\n",
       " (6, 18355),\n",
       " (6, 18643),\n",
       " (6, 18659),\n",
       " (6, 18927),\n",
       " (6, 18990),\n",
       " (6, 19011),\n",
       " (6, 19092),\n",
       " (6, 19166),\n",
       " (6, 19356),\n",
       " (6, 19660),\n",
       " (6, 20071),\n",
       " (6, 20140),\n",
       " (6, 20461),\n",
       " (6, 20693),\n",
       " (6, 20917),\n",
       " (6, 21044),\n",
       " (6, 21437),\n",
       " (6, 21678),\n",
       " (6, 21839),\n",
       " (6, 21857),\n",
       " (6, 21905),\n",
       " (6, 21976),\n",
       " (6, 22069),\n",
       " (6, 22100),\n",
       " (6, 22127),\n",
       " (6, 22232),\n",
       " (6, 22554),\n",
       " (6, 22711),\n",
       " (6, 22720),\n",
       " (6, 22898),\n",
       " (6, 22922),\n",
       " (6, 23243),\n",
       " (6, 24534),\n",
       " (6, 24555),\n",
       " (6, 24558),\n",
       " (6, 24561),\n",
       " (6, 24808),\n",
       " (6, 24951),\n",
       " (6, 25039),\n",
       " (6, 25091),\n",
       " (6, 25095),\n",
       " (6, 25109),\n",
       " (6, 25271),\n",
       " (6, 25569),\n",
       " (6, 25575),\n",
       " (6, 25611),\n",
       " (6, 25620),\n",
       " (7, 1113),\n",
       " (7, 7801),\n",
       " (7, 9403),\n",
       " (8, 151),\n",
       " (8, 5099),\n",
       " (8, 10012),\n",
       " (9, 572),\n",
       " (9, 2434),\n",
       " (9, 5105),\n",
       " (9, 8162),\n",
       " (9, 10846),\n",
       " (9, 11702),\n",
       " (9, 12370),\n",
       " (9, 13259),\n",
       " (9, 14307),\n",
       " (9, 17096),\n",
       " (9, 17964),\n",
       " (9, 20833),\n",
       " (10, 2111),\n",
       " (11, 458),\n",
       " (11, 2732),\n",
       " (11, 3318),\n",
       " (11, 4542),\n",
       " (11, 9257),\n",
       " (11, 14346),\n",
       " (11, 15211),\n",
       " (11, 16844),\n",
       " (11, 17813),\n",
       " (11, 17822),\n",
       " (11, 17920),\n",
       " (11, 18396),\n",
       " (11, 19670),\n",
       " (11, 21597),\n",
       " (11, 21758),\n",
       " (11, 22839),\n",
       " (11, 22894),\n",
       " (12, 6328),\n",
       " (12, 7629),\n",
       " (12, 17086),\n",
       " (13, 5645),\n",
       " (13, 22620),\n",
       " (13, 23165),\n",
       " (13, 25265),\n",
       " (14, 5705),\n",
       " (14, 7937),\n",
       " (14, 8847),\n",
       " (14, 11258),\n",
       " (14, 11509),\n",
       " (14, 13306),\n",
       " (14, 14392),\n",
       " (14, 15122),\n",
       " (14, 15178),\n",
       " (14, 15507),\n",
       " (14, 16356),\n",
       " (14, 25424),\n",
       " (15, 575),\n",
       " (15, 2213),\n",
       " (15, 2857),\n",
       " (15, 3186),\n",
       " (15, 5050),\n",
       " (15, 5486),\n",
       " (15, 6040),\n",
       " (15, 7572),\n",
       " (15, 7927),\n",
       " (15, 12860),\n",
       " (15, 13087),\n",
       " (15, 14348),\n",
       " (15, 17343),\n",
       " (15, 20189),\n",
       " (15, 20472),\n",
       " (15, 20779),\n",
       " (15, 21762),\n",
       " (15, 25370),\n",
       " (16, 176),\n",
       " (16, 1255),\n",
       " (17, 297),\n",
       " (17, 4413),\n",
       " (17, 5815),\n",
       " (17, 6325),\n",
       " (17, 7937),\n",
       " (17, 9905),\n",
       " (17, 10962),\n",
       " (17, 15352),\n",
       " (17, 19943),\n",
       " (17, 22015),\n",
       " (17, 23353),\n",
       " (17, 24870),\n",
       " (18, 1822),\n",
       " (19, 7800),\n",
       " (19, 20208),\n",
       " (20, 9333),\n",
       " (20, 14337),\n",
       " (20, 22123),\n",
       " (21, 3770),\n",
       " (21, 10928),\n",
       " (21, 12657),\n",
       " (21, 13958),\n",
       " (21, 15077),\n",
       " (21, 15158),\n",
       " (21, 19406),\n",
       " (21, 21880),\n",
       " (21, 22239),\n",
       " (21, 23839),\n",
       " (21, 24836),\n",
       " (22, 6932),\n",
       " (22, 11208),\n",
       " (22, 24728),\n",
       " (23, 368),\n",
       " (23, 3441),\n",
       " (23, 3763),\n",
       " (23, 3994),\n",
       " (23, 4709),\n",
       " (23, 5766),\n",
       " (23, 5982),\n",
       " (23, 6657),\n",
       " (23, 6874),\n",
       " (23, 8209),\n",
       " (23, 8536),\n",
       " (23, 8892),\n",
       " (23, 9309),\n",
       " (23, 9741),\n",
       " (23, 10108),\n",
       " (23, 10468),\n",
       " (23, 11161),\n",
       " (23, 11731),\n",
       " (23, 12372),\n",
       " (23, 14160),\n",
       " (23, 17068),\n",
       " (23, 17077),\n",
       " (23, 17436),\n",
       " (23, 18672),\n",
       " (23, 18852),\n",
       " (23, 19054),\n",
       " (23, 19987),\n",
       " (23, 20733),\n",
       " (23, 20890),\n",
       " (23, 22159),\n",
       " (23, 22263),\n",
       " (23, 23463),\n",
       " (23, 24654),\n",
       " (23, 24808),\n",
       " (23, 25574),\n",
       " (24, 13703),\n",
       " (25, 11243),\n",
       " (25, 12744),\n",
       " (25, 15313),\n",
       " (25, 24470),\n",
       " (26, 891),\n",
       " (26, 1177),\n",
       " (26, 1554),\n",
       " (26, 1559),\n",
       " (26, 7137),\n",
       " (26, 9718),\n",
       " (26, 9721),\n",
       " (26, 11469),\n",
       " (26, 13503),\n",
       " (26, 19480),\n",
       " (26, 20560),\n",
       " (26, 20671),\n",
       " (26, 21398),\n",
       " (26, 24870),\n",
       " (27, 11295),\n",
       " (28, 1798),\n",
       " (28, 5528),\n",
       " (28, 7782),\n",
       " (28, 8884),\n",
       " (28, 13159),\n",
       " (28, 13233),\n",
       " (28, 14333),\n",
       " (28, 15936),\n",
       " (28, 16729),\n",
       " (28, 17157),\n",
       " (28, 18392),\n",
       " (28, 18837),\n",
       " (28, 21178),\n",
       " (28, 21794),\n",
       " (28, 21961),\n",
       " (28, 22042),\n",
       " (28, 25113),\n",
       " (29, 41),\n",
       " (30, 3673),\n",
       " (31, 3960),\n",
       " (31, 8618),\n",
       " (31, 9236),\n",
       " (31, 10926),\n",
       " (31, 11243),\n",
       " (31, 12685),\n",
       " (31, 14348),\n",
       " (31, 15639),\n",
       " (31, 15677),\n",
       " (31, 16305),\n",
       " (31, 18708),\n",
       " (31, 23007),\n",
       " (31, 23317),\n",
       " (32, 1988),\n",
       " (32, 5869),\n",
       " (32, 7043),\n",
       " (32, 10868),\n",
       " (32, 11001),\n",
       " (32, 18489),\n",
       " (32, 22391),\n",
       " (32, 22976),\n",
       " (32, 23317),\n",
       " (33, 23081),\n",
       " (34, 11386),\n",
       " (35, 16305),\n",
       " (35, 20329),\n",
       " (35, 23978),\n",
       " (36, 7521),\n",
       " (36, 17108),\n",
       " (37, 76),\n",
       " (37, 250),\n",
       " (37, 16989),\n",
       " (38, 3),\n",
       " (38, 3270),\n",
       " (38, 3996),\n",
       " (38, 4739),\n",
       " (38, 7635),\n",
       " (38, 7651),\n",
       " (38, 8336),\n",
       " (38, 10061),\n",
       " (38, 11794),\n",
       " (38, 12848),\n",
       " (38, 14078),\n",
       " (38, 15169),\n",
       " (38, 15429),\n",
       " (38, 19818),\n",
       " (38, 21530),\n",
       " (38, 23132),\n",
       " (38, 24812),\n",
       " (39, 9093),\n",
       " (39, 14432),\n",
       " (40, 21653),\n",
       " (41, 1656),\n",
       " (41, 2441),\n",
       " (41, 6040),\n",
       " (41, 22620),\n",
       " (41, 23337),\n",
       " (42, 5905),\n",
       " (43, 18771),\n",
       " (44, 9307),\n",
       " (45, 1489),\n",
       " (45, 13507),\n",
       " (45, 25599),\n",
       " (46, 1248),\n",
       " (46, 6412),\n",
       " (46, 8046),\n",
       " (46, 13276),\n",
       " (47, 4851),\n",
       " (48, 7961),\n",
       " (49, 22725),\n",
       " (50, 250),\n",
       " (50, 384),\n",
       " (50, 596),\n",
       " (50, 872),\n",
       " (50, 897),\n",
       " (50, 1347),\n",
       " (50, 1417),\n",
       " (50, 1436),\n",
       " (50, 1748),\n",
       " (50, 2026),\n",
       " (50, 2353),\n",
       " (50, 2397),\n",
       " (50, 2467),\n",
       " (50, 3140),\n",
       " (50, 3142),\n",
       " (50, 3356),\n",
       " (50, 3473),\n",
       " (50, 3488),\n",
       " (50, 3853),\n",
       " (50, 4031),\n",
       " (50, 4206),\n",
       " (50, 4573),\n",
       " (50, 5110),\n",
       " (50, 5264),\n",
       " (50, 5275),\n",
       " (50, 6426),\n",
       " (50, 7169),\n",
       " (50, 7342),\n",
       " (50, 7403),\n",
       " (50, 8412),\n",
       " (50, 9573),\n",
       " (50, 9940),\n",
       " (50, 10016),\n",
       " (50, 10836),\n",
       " (50, 10967),\n",
       " (50, 11114),\n",
       " (50, 11564),\n",
       " (50, 11639),\n",
       " (50, 12123),\n",
       " (50, 12493),\n",
       " (50, 12695),\n",
       " (50, 12697),\n",
       " (50, 12782),\n",
       " (50, 12783),\n",
       " (50, 13673),\n",
       " (50, 14102),\n",
       " (50, 14227),\n",
       " (50, 14498),\n",
       " (50, 14557),\n",
       " (50, 14646),\n",
       " (50, 16165),\n",
       " (50, 16434),\n",
       " (50, 18411),\n",
       " (50, 18453),\n",
       " (50, 18511),\n",
       " (50, 18965),\n",
       " (50, 19076),\n",
       " (50, 19475),\n",
       " (50, 19853),\n",
       " (50, 19950),\n",
       " (50, 20053),\n",
       " (50, 20718),\n",
       " (50, 21303),\n",
       " (50, 21792),\n",
       " (50, 22261),\n",
       " (50, 22343),\n",
       " (50, 22365),\n",
       " (50, 22374),\n",
       " (50, 22496),\n",
       " (50, 22543),\n",
       " (50, 22832),\n",
       " (50, 23089),\n",
       " (50, 23990),\n",
       " (50, 24167),\n",
       " (50, 24373),\n",
       " (51, 313),\n",
       " (51, 1890),\n",
       " (51, 6155),\n",
       " (51, 9062),\n",
       " (51, 14609),\n",
       " (51, 15630),\n",
       " (51, 22620),\n",
       " (51, 23103),\n",
       " (52, 993),\n",
       " (52, 1274),\n",
       " (52, 3302),\n",
       " (52, 5664),\n",
       " (52, 7028),\n",
       " (52, 7487),\n",
       " (52, 7522),\n",
       " (52, 7864),\n",
       " (52, 8585),\n",
       " (52, 11027),\n",
       " (52, 11661),\n",
       " (52, 12206),\n",
       " (52, 15461),\n",
       " (52, 15617),\n",
       " (52, 16953),\n",
       " (52, 18929),\n",
       " (52, 20453),\n",
       " (52, 21616),\n",
       " (52, 22437),\n",
       " (52, 23831),\n",
       " (53, 3478),\n",
       " (54, 1113),\n",
       " (55, 13522),\n",
       " (55, 14371),\n",
       " (55, 17134),\n",
       " (56, 11122),\n",
       " (57, 1710),\n",
       " (57, 2969),\n",
       " (57, 4370),\n",
       " (57, 7240),\n",
       " (57, 8169),\n",
       " (57, 13243),\n",
       " (57, 19870),\n",
       " (57, 20668),\n",
       " (57, 21776),\n",
       " (57, 23999),\n",
       " (58, 24836),\n",
       " (59, 3803),\n",
       " (59, 6925),\n",
       " (60, 1545),\n",
       " (60, 16422),\n",
       " (60, 16769),\n",
       " (60, 17848),\n",
       " (60, 18121),\n",
       " (60, 20262),\n",
       " (60, 21023),\n",
       " (60, 22675),\n",
       " (60, 22859),\n",
       " (60, 24672),\n",
       " (61, 5692),\n",
       " (61, 14851),\n",
       " (61, 18073),\n",
       " (61, 24858),\n",
       " (62, 9009),\n",
       " (62, 15725),\n",
       " (63, 816),\n",
       " (63, 1321),\n",
       " (63, 1575),\n",
       " (63, 1700),\n",
       " (63, 2844),\n",
       " (63, 3713),\n",
       " (63, 4639),\n",
       " (63, 4723),\n",
       " (63, 4818),\n",
       " (63, 4994),\n",
       " (63, 6925),\n",
       " (63, 7390),\n",
       " (63, 7521),\n",
       " (63, 9751),\n",
       " (63, 11450),\n",
       " (63, 12032),\n",
       " (63, 12115),\n",
       " (63, 12303),\n",
       " (63, 12719),\n",
       " (63, 13356),\n",
       " (63, 15440),\n",
       " (63, 16239),\n",
       " (63, 16588),\n",
       " (63, 16996),\n",
       " (63, 17278),\n",
       " (63, 17945),\n",
       " (63, 19330),\n",
       " (63, 20415),\n",
       " (63, 23259),\n",
       " (63, 25124),\n",
       " (64, 2465),\n",
       " (64, 20061),\n",
       " (65, 25511),\n",
       " (66, 10663),\n",
       " (66, 13797),\n",
       " (66, 15800),\n",
       " (67, 337),\n",
       " (67, 2969),\n",
       " (67, 8565),\n",
       " (67, 19942),\n",
       " (67, 21532),\n",
       " (67, 22391),\n",
       " (67, 23310),\n",
       " (67, 24724),\n",
       " (67, 25048),\n",
       " (68, 1375),\n",
       " (68, 2902),\n",
       " (68, 4854),\n",
       " (68, 7754),\n",
       " (68, 11585),\n",
       " (68, 13432),\n",
       " (68, 14338),\n",
       " (68, 15557),\n",
       " (68, 16216),\n",
       " (68, 17249),\n",
       " (68, 18557),\n",
       " (68, 20836),\n",
       " (68, 23808),\n",
       " (68, 25116),\n",
       " (69, 463),\n",
       " (69, 6123),\n",
       " (69, 18693),\n",
       " (69, 23300),\n",
       " (70, 17948),\n",
       " (71, 22888),\n",
       " (72, 2395),\n",
       " (72, 2544),\n",
       " (72, 9004),\n",
       " (73, 2448),\n",
       " (73, 13020),\n",
       " (73, 22868),\n",
       " (74, 22620),\n",
       " (75, 12741),\n",
       " (75, 24470),\n",
       " (76, 13138),\n",
       " (76, 17536),\n",
       " (76, 22183),\n",
       " (77, 2265),\n",
       " (78, 20927),\n",
       " (79, 2919),\n",
       " (79, 9937),\n",
       " (80, 3803),\n",
       " (80, 7188),\n",
       " (80, 7428),\n",
       " (80, 8721),\n",
       " (80, 9236),\n",
       " (80, 10762),\n",
       " (80, 12389),\n",
       " (80, 13560),\n",
       " (80, 21330),\n",
       " (81, 11925),\n",
       " (81, 24736),\n",
       " (82, 1885),\n",
       " (82, 4920),\n",
       " (82, 5829),\n",
       " (82, 7521),\n",
       " (82, 8767),\n",
       " (82, 11295),\n",
       " (82, 13385),\n",
       " (82, 14446),\n",
       " (82, 15378),\n",
       " (82, 17108),\n",
       " (82, 19259),\n",
       " (82, 19518),\n",
       " (83, 14609),\n",
       " (84, 1954),\n",
       " (85, 1409),\n",
       " (85, 1842),\n",
       " (85, 4494),\n",
       " (85, 7456),\n",
       " (85, 14037),\n",
       " (85, 16084),\n",
       " (85, 18601),\n",
       " (86, 4730),\n",
       " (87, 5183),\n",
       " (87, 10928),\n",
       " (88, 5471),\n",
       " (89, 716),\n",
       " (89, 4388),\n",
       " (89, 6208),\n",
       " (89, 6638),\n",
       " (89, 13212),\n",
       " (89, 17086),\n",
       " (89, 19353),\n",
       " (89, 21007),\n",
       " (89, 23520),\n",
       " (89, 24375),\n",
       " (89, 25085),\n",
       " (90, 9562),\n",
       " (91, 2771),\n",
       " (91, 9809),\n",
       " (92, 1700),\n",
       " (92, 4824),\n",
       " (92, 5584),\n",
       " (92, 6608),\n",
       " (92, 12032),\n",
       " (92, 16449),\n",
       " (92, 19677),\n",
       " (93, 2265),\n",
       " (93, 5023),\n",
       " (93, 5059),\n",
       " (93, 10928),\n",
       " (93, 12380),\n",
       " (93, 14087),\n",
       " (93, 14614),\n",
       " (93, 19518),\n",
       " (93, 21337),\n",
       " (93, 24787),\n",
       " (93, 25204),\n",
       " (94, 938),\n",
       " (94, 1933),\n",
       " (94, 8420),\n",
       " (94, 8424),\n",
       " (94, 13390),\n",
       " (94, 19354),\n",
       " (95, 806),\n",
       " (95, 2299),\n",
       " (95, 2774),\n",
       " (95, 3061),\n",
       " (95, 4085),\n",
       " (95, 6701),\n",
       " (95, 8323),\n",
       " (95, 11051),\n",
       " (95, 11479),\n",
       " (95, 12653),\n",
       " (95, 13872),\n",
       " (95, 14717),\n",
       " (95, 14786),\n",
       " (95, 14859),\n",
       " (95, 14915),\n",
       " (95, 15069),\n",
       " (95, 15844),\n",
       " (95, 16646),\n",
       " (95, 17515),\n",
       " (95, 18590),\n",
       " (95, 20071),\n",
       " (95, 20964),\n",
       " (95, 22045),\n",
       " (96, 3131),\n",
       " (96, 4004),\n",
       " (96, 8722),\n",
       " (96, 12678),\n",
       " (96, 15893),\n",
       " (96, 23960),\n",
       " (97, 6900),\n",
       " (97, 16283),\n",
       " (97, 18708),\n",
       " (98, 1658),\n",
       " (98, 1766),\n",
       " (98, 3388),\n",
       " (98, 3793),\n",
       " (98, 3932),\n",
       " (98, 8668),\n",
       " (98, 9714),\n",
       " (98, 13225),\n",
       " (98, 18726),\n",
       " (98, 19583),\n",
       " (98, 19702),\n",
       " (98, 21336),\n",
       " (98, 21410),\n",
       " (99, 16345),\n",
       " (99, 22329),\n",
       " (100, 5829),\n",
       " (100, 6894),\n",
       " (100, 14446),\n",
       " (100, 24145),\n",
       " (100, 24416),\n",
       " (101, 3017),\n",
       " (101, 10683),\n",
       " (101, 12828),\n",
       " (101, 17931),\n",
       " (101, 20171),\n",
       " (101, 22391),\n",
       " (102, 6040),\n",
       " (102, 23165),\n",
       " (103, 15054),\n",
       " (104, 7565),\n",
       " (105, 363),\n",
       " (105, 2465),\n",
       " (105, 2570),\n",
       " (105, 2685),\n",
       " (105, 4071),\n",
       " (105, 4100),\n",
       " (105, 4114),\n",
       " (105, 4332),\n",
       " (105, 9297),\n",
       " (105, 10286),\n",
       " (105, 10866),\n",
       " (105, 10917),\n",
       " (105, 11161),\n",
       " (105, 12356),\n",
       " (105, 12979),\n",
       " (105, 13020),\n",
       " (105, 13484),\n",
       " (105, 15898),\n",
       " (105, 16006),\n",
       " (105, 16255),\n",
       " (105, 16698),\n",
       " (105, 17068),\n",
       " (105, 18054),\n",
       " (105, 18104),\n",
       " (105, 18300),\n",
       " (105, 19356),\n",
       " (105, 19787),\n",
       " (105, 20061),\n",
       " (105, 20429),\n",
       " (105, 21268),\n",
       " (105, 22943),\n",
       " (105, 24034),\n",
       " (105, 24741),\n",
       " (105, 24800),\n",
       " (105, 24804),\n",
       " (105, 25014),\n",
       " (105, 25265),\n",
       " (106, 8721),\n",
       " (106, 11930),\n",
       " (106, 12127),\n",
       " (106, 20908),\n",
       " (107, 2564),\n",
       " (107, 3144),\n",
       " (107, 9166),\n",
       " (107, 17775),\n",
       " (108, 21714),\n",
       " (109, 2969),\n",
       " (110, 5480),\n",
       " (110, 16424),\n",
       " (111, 15688),\n",
       " (111, 22314),\n",
       " (112, 5829),\n",
       " (112, 6093),\n",
       " (112, 20739),\n",
       " (113, 814),\n",
       " (113, 1541),\n",
       " (113, 1545),\n",
       " (113, 2265),\n",
       " (113, 2487),\n",
       " (113, 2557),\n",
       " (113, 2868),\n",
       " (113, 3233),\n",
       " (113, 3241),\n",
       " (113, 4029),\n",
       " (113, 4092),\n",
       " (113, 4602),\n",
       " (113, 4681),\n",
       " (113, 5434),\n",
       " (113, 5497),\n",
       " (113, 5656),\n",
       " (113, 6056),\n",
       " (113, 7261),\n",
       " (113, 7425),\n",
       " (113, 8031),\n",
       " (113, 8694),\n",
       " (113, 8934),\n",
       " (113, 9004),\n",
       " (113, 9081),\n",
       " (113, 9177),\n",
       " (113, 9318),\n",
       " (113, 9409),\n",
       " (113, 9625),\n",
       " (113, 9672),\n",
       " (113, 9682),\n",
       " (113, 9791),\n",
       " (113, 9923),\n",
       " (113, 10398),\n",
       " (113, 10750),\n",
       " (113, 11529),\n",
       " (113, 11930),\n",
       " (113, 12167),\n",
       " (113, 12274),\n",
       " (113, 12477),\n",
       " (113, 12629),\n",
       " (113, 12879),\n",
       " (113, 13254),\n",
       " (113, 13930),\n",
       " (113, 13936),\n",
       " (113, 14019),\n",
       " (113, 14244),\n",
       " (113, 14339),\n",
       " (113, 14695),\n",
       " (113, 15406),\n",
       " (113, 15432),\n",
       " (113, 15452),\n",
       " (113, 15561),\n",
       " (113, 15951),\n",
       " (113, 16799),\n",
       " (113, 17271),\n",
       " (113, 17393),\n",
       " (113, 18622),\n",
       " (113, 18930),\n",
       " (113, 19030),\n",
       " (113, 19120),\n",
       " (113, 19394),\n",
       " (113, 19806),\n",
       " (113, 19840),\n",
       " (113, 20411),\n",
       " (113, 20620),\n",
       " (113, 20658),\n",
       " (113, 20678),\n",
       " (113, 20779),\n",
       " (113, 20874),\n",
       " (113, 21364),\n",
       " (113, 21581),\n",
       " (113, 21755),\n",
       " (113, 21834),\n",
       " (113, 22012),\n",
       " (113, 22053),\n",
       " (113, 22145),\n",
       " (113, 22406),\n",
       " (113, 22476),\n",
       " (113, 22620),\n",
       " (113, 22870),\n",
       " (113, 23335),\n",
       " (113, 23382),\n",
       " (113, 23580),\n",
       " (113, 23715),\n",
       " (113, 24315),\n",
       " (113, 25208),\n",
       " (113, 25319),\n",
       " (113, 25332),\n",
       " (113, 25401),\n",
       " (113, 25599),\n",
       " (114, 59),\n",
       " (114, 133),\n",
       " (114, 1489),\n",
       " (114, 4169),\n",
       " (114, 7629),\n",
       " (114, 7897),\n",
       " (114, 11243),\n",
       " (114, 11473),\n",
       " (114, 13486),\n",
       " (114, 14878),\n",
       " (114, 16036),\n",
       " (114, 25599),\n",
       " (115, 2228),\n",
       " (115, 8532),\n",
       " (116, 13363),\n",
       " (116, 24896),\n",
       " (117, 6794),\n",
       " (117, 7663),\n",
       " (117, 8031),\n",
       " (117, 8061),\n",
       " (117, 12035),\n",
       " (117, 15041),\n",
       " (117, 17068),\n",
       " (117, 17343),\n",
       " (117, 17783),\n",
       " (117, 18253),\n",
       " (117, 18454),\n",
       " (117, 18698),\n",
       " (117, 23606),\n",
       " (117, 24395),\n",
       " (118, 5801),\n",
       " (119, 9236),\n",
       " (119, 14087),\n",
       " (120, 15812),\n",
       " (120, 22620),\n",
       " (121, 14840),\n",
       " (122, 7792),\n",
       " (123, 1489),\n",
       " (123, 6915),\n",
       " (123, 15452),\n",
       " (124, 18455),\n",
       " (125, 466),\n",
       " (125, 2786),\n",
       " (125, 3123),\n",
       " (125, 3960),\n",
       " (125, 7069),\n",
       " (125, 7521),\n",
       " (125, 9307),\n",
       " (125, 10684),\n",
       " (125, 13046),\n",
       " (125, 14564),\n",
       " (125, 23875),\n",
       " (125, 24044),\n",
       " (125, 25599),\n",
       " (126, 24728),\n",
       " (127, 15452),\n",
       " ...]"
      ]
     },
     "execution_count": 203,
     "metadata": {},
     "output_type": "execute_result"
    }
   ],
   "source": [
    "sorted(R)"
   ]
  },
  {
   "cell_type": "markdown",
   "metadata": {
    "nbpresent": {
     "id": "29dbc245-88e9-405b-bad8-b4541ea24b1b"
    },
    "run_control": {
     "frozen": false,
     "read_only": false
    }
   },
   "source": [
    "# Check if cities and distances between them may be used instead of distances between businesses\n",
    "\n",
    "##  No: cities are small, with distances that can be 3 miles"
   ]
  },
  {
   "cell_type": "markdown",
   "metadata": {
    "ExecuteTime": {
     "end_time": "2017-01-16T13:20:24.945581",
     "start_time": "2017-01-16T13:20:24.942048"
    },
    "nbpresent": {
     "id": "36eda043-28a6-4548-a4df-82f9dbd30046"
    },
    "run_control": {
     "frozen": false,
     "read_only": false
    }
   },
   "source": [
    "# assume 30 km as maximum distance willing to travel, to find vicinity within state"
   ]
  },
  {
   "cell_type": "code",
   "execution_count": 40,
   "metadata": {
    "ExecuteTime": {
     "end_time": "2017-01-17T00:50:52.347466",
     "start_time": "2017-01-17T00:50:52.339462"
    },
    "collapsed": false,
    "nbpresent": {
     "id": "ca3351cf-6305-40fb-bf75-c5e405f225ed"
    },
    "run_control": {
     "frozen": false,
     "read_only": false
    }
   },
   "outputs": [
    {
     "data": {
      "text/plain": [
       "(32.865882499999998, 56.033777299999997)"
      ]
     },
     "execution_count": 40,
     "metadata": {},
     "output_type": "execute_result"
    }
   ],
   "source": [
    "business.latitude.min(), business.latitude.max()"
   ]
  },
  {
   "cell_type": "code",
   "execution_count": 59,
   "metadata": {
    "ExecuteTime": {
     "end_time": "2017-01-17T01:05:23.185866",
     "start_time": "2017-01-17T01:05:23.177360"
    },
    "collapsed": false,
    "nbpresent": {
     "id": "dbe2518c-29ad-4d60-8b10-884c742fae2b"
    },
    "run_control": {
     "frozen": false,
     "read_only": false
    }
   },
   "outputs": [
    {
     "data": {
      "text/plain": [
       "(-115.38655, 8.5492494004572208)"
      ]
     },
     "execution_count": 59,
     "metadata": {},
     "output_type": "execute_result"
    }
   ],
   "source": [
    "business.longitude.min(), business.longitude.max()"
   ]
  },
  {
   "cell_type": "code",
   "execution_count": 41,
   "metadata": {
    "ExecuteTime": {
     "end_time": "2017-01-17T00:51:29.879005",
     "start_time": "2017-01-17T00:51:29.873509"
    },
    "collapsed": false,
    "nbpresent": {
     "id": "803fc052-f3c8-47ab-9f82-628da85ffb68"
    },
    "run_control": {
     "frozen": false,
     "read_only": false
    }
   },
   "outputs": [
    {
     "data": {
      "text/plain": [
       "60.77164272792849"
      ]
     },
     "execution_count": 41,
     "metadata": {},
     "output_type": "execute_result"
    }
   ],
   "source": [
    "vincenty((57, -71), (57, -72)).km"
   ]
  },
  {
   "cell_type": "code",
   "execution_count": 42,
   "metadata": {
    "ExecuteTime": {
     "end_time": "2017-01-17T00:51:42.759674",
     "start_time": "2017-01-17T00:51:42.753631"
    },
    "collapsed": false,
    "nbpresent": {
     "id": "b2e09784-ceb3-4c10-acef-8943ab611714"
    },
    "run_control": {
     "frozen": false,
     "read_only": false
    }
   },
   "outputs": [
    {
     "data": {
      "text/plain": [
       "94.49280502196765"
      ]
     },
     "execution_count": 42,
     "metadata": {},
     "output_type": "execute_result"
    }
   ],
   "source": [
    "vincenty((32, -71), (32, -72)).km"
   ]
  },
  {
   "cell_type": "code",
   "execution_count": 58,
   "metadata": {
    "ExecuteTime": {
     "end_time": "2017-01-17T01:03:16.089764",
     "start_time": "2017-01-17T01:03:16.083760"
    },
    "collapsed": false,
    "nbpresent": {
     "id": "fcd7c44e-9ad6-4631-8ae9-6e16f2d3ad8e"
    },
    "run_control": {
     "frozen": false,
     "read_only": false
    }
   },
   "outputs": [
    {
     "data": {
      "text/plain": [
       "78.8463347093115"
      ]
     },
     "execution_count": 58,
     "metadata": {},
     "output_type": "execute_result"
    }
   ],
   "source": [
    "vincenty((45, -71), (45, -72)).km"
   ]
  },
  {
   "cell_type": "markdown",
   "metadata": {
    "ExecuteTime": {
     "end_time": "2017-01-17T00:54:19.991268",
     "start_time": "2017-01-17T00:54:19.986255"
    },
    "nbpresent": {
     "id": "65c26e77-57da-4694-9280-3de203b7bea7"
    },
    "run_control": {
     "frozen": false,
     "read_only": false
    }
   },
   "source": [
    "for out dataset, businesses lie within latitudes 32 and 56 North\n",
    "\n",
    "where 1 degree in longitude ranges between 60 to 95 km\n",
    "\n",
    "so nearby business ( < 30) should also be within 0.5 degree of longitude (near 32N distances will be < 47km)\n",
    "\n",
    "for latitudes, one degree difference is about 110 km, so will adopt 0.3 difference to consider nearby businesses"
   ]
  },
  {
   "cell_type": "code",
   "execution_count": 53,
   "metadata": {
    "ExecuteTime": {
     "end_time": "2017-01-17T00:56:36.191396",
     "start_time": "2017-01-17T00:56:36.185887"
    },
    "collapsed": false,
    "nbpresent": {
     "id": "0ea1d239-0b7a-4225-9b54-5a011434d340"
    },
    "run_control": {
     "frozen": false,
     "read_only": false
    }
   },
   "outputs": [
    {
     "data": {
      "text/plain": [
       "111.12200826241184"
      ]
     },
     "execution_count": 53,
     "metadata": {},
     "output_type": "execute_result"
    }
   ],
   "source": [
    "vincenty((44, -71), (45, -71)).km"
   ]
  },
  {
   "cell_type": "code",
   "execution_count": 54,
   "metadata": {
    "ExecuteTime": {
     "end_time": "2017-01-17T00:57:19.192488",
     "start_time": "2017-01-17T00:57:19.186448"
    },
    "collapsed": false,
    "nbpresent": {
     "id": "a496656b-ee5d-45cc-9618-79b0dbd4838b"
    },
    "run_control": {
     "frozen": false,
     "read_only": false
    }
   },
   "outputs": [
    {
     "data": {
      "text/plain": [
       "111.12200826241184"
      ]
     },
     "execution_count": 54,
     "metadata": {},
     "output_type": "execute_result"
    }
   ],
   "source": [
    "vincenty((44, -70), (45, -70)).km"
   ]
  },
  {
   "cell_type": "code",
   "execution_count": 55,
   "metadata": {
    "ExecuteTime": {
     "end_time": "2017-01-17T00:57:19.192488",
     "start_time": "2017-01-17T00:57:19.186448"
    },
    "collapsed": false,
    "nbpresent": {
     "id": "fc96fc91-6588-4ba5-9b98-0a198791e3a5"
    },
    "run_control": {
     "frozen": false,
     "read_only": false
    }
   },
   "outputs": [
    {
     "data": {
      "text/plain": [
       "111.33269933263972"
      ]
     },
     "execution_count": 55,
     "metadata": {},
     "output_type": "execute_result"
    }
   ],
   "source": [
    "vincenty((55, -71), (56, -71)).km"
   ]
  },
  {
   "cell_type": "code",
   "execution_count": 56,
   "metadata": {
    "ExecuteTime": {
     "end_time": "2017-01-17T00:57:19.192488",
     "start_time": "2017-01-17T00:57:19.186448"
    },
    "collapsed": false,
    "nbpresent": {
     "id": "72d43d75-be30-4576-a6a0-aa089e283b29"
    },
    "run_control": {
     "frozen": false,
     "read_only": false
    }
   },
   "outputs": [
    {
     "data": {
      "text/plain": [
       "110.89560891986069"
      ]
     },
     "execution_count": 56,
     "metadata": {},
     "output_type": "execute_result"
    }
   ],
   "source": [
    "vincenty((32, -71), (33, -71)).km"
   ]
  },
  {
   "cell_type": "code",
   "execution_count": 65,
   "metadata": {
    "ExecuteTime": {
     "end_time": "2017-01-17T01:10:38.487376",
     "start_time": "2017-01-17T01:10:38.466330"
    },
    "collapsed": false,
    "nbpresent": {
     "id": "bc582ca3-9c96-413c-ba84-2f31a1f001fd"
    },
    "run_control": {
     "frozen": false,
     "read_only": false
    }
   },
   "outputs": [
    {
     "data": {
      "text/html": [
       "<div>\n",
       "<table border=\"1\" class=\"dataframe\">\n",
       "  <thead>\n",
       "    <tr style=\"text-align: right;\">\n",
       "      <th></th>\n",
       "      <th>attributes</th>\n",
       "      <th>business_id</th>\n",
       "      <th>categories</th>\n",
       "      <th>city</th>\n",
       "      <th>full_address</th>\n",
       "      <th>hours</th>\n",
       "      <th>latitude</th>\n",
       "      <th>longitude</th>\n",
       "      <th>name</th>\n",
       "      <th>neighborhoods</th>\n",
       "      <th>open</th>\n",
       "      <th>review_count</th>\n",
       "      <th>stars</th>\n",
       "      <th>state</th>\n",
       "      <th>type</th>\n",
       "    </tr>\n",
       "  </thead>\n",
       "  <tbody>\n",
       "    <tr>\n",
       "      <th>47693</th>\n",
       "      <td>{}</td>\n",
       "      <td>4Yh57FsAyvDtZsq5F7fCWg</td>\n",
       "      <td>[Hotels &amp; Travel, Public Transportation, Trans...</td>\n",
       "      <td>Inverkeithing</td>\n",
       "      <td>Boreland Rd\\nInverkeithing KY11 1NJ</td>\n",
       "      <td>{}</td>\n",
       "      <td>56.033777</td>\n",
       "      <td>-3.393267</td>\n",
       "      <td>Inverkeithing Railway Station</td>\n",
       "      <td>[]</td>\n",
       "      <td>True</td>\n",
       "      <td>3</td>\n",
       "      <td>3.0</td>\n",
       "      <td>FIF</td>\n",
       "      <td>business</td>\n",
       "    </tr>\n",
       "  </tbody>\n",
       "</table>\n",
       "</div>"
      ],
      "text/plain": [
       "      attributes             business_id  \\\n",
       "47693         {}  4Yh57FsAyvDtZsq5F7fCWg   \n",
       "\n",
       "                                              categories           city  \\\n",
       "47693  [Hotels & Travel, Public Transportation, Trans...  Inverkeithing   \n",
       "\n",
       "                              full_address hours   latitude  longitude  \\\n",
       "47693  Boreland Rd\\nInverkeithing KY11 1NJ    {}  56.033777  -3.393267   \n",
       "\n",
       "                                name neighborhoods  open  review_count  stars  \\\n",
       "47693  Inverkeithing Railway Station            []  True             3    3.0   \n",
       "\n",
       "      state      type  \n",
       "47693   FIF  business  "
      ]
     },
     "execution_count": 65,
     "metadata": {},
     "output_type": "execute_result"
    }
   ],
   "source": [
    "business[business.latitude > 56.033]"
   ]
  },
  {
   "cell_type": "code",
   "execution_count": 101,
   "metadata": {
    "ExecuteTime": {
     "end_time": "2017-01-17T17:31:48.558739",
     "start_time": "2017-01-17T17:31:48.398313"
    },
    "collapsed": false,
    "nbpresent": {
     "id": "bc4391c0-3c7f-4ab2-bdde-ace9d6097922"
    },
    "run_control": {
     "frozen": false,
     "read_only": false
    },
    "scrolled": true
   },
   "outputs": [
    {
     "data": {
      "text/plain": [
       "array(['PA', 'NC', 'SC', 'WI', 'IL', 'AZ', 'NV', 'QC', 'ON', 'EDH', 'MLN',\n",
       "       'BW'], dtype=object)"
      ]
     },
     "execution_count": 101,
     "metadata": {},
     "output_type": "execute_result"
    }
   ],
   "source": [
    "business.groupby(['state']).filter(lambda r: len(r) > 20).state.unique()"
   ]
  },
  {
   "cell_type": "code",
   "execution_count": 102,
   "metadata": {
    "ExecuteTime": {
     "end_time": "2017-01-17T17:31:59.164234",
     "start_time": "2017-01-17T17:31:59.045919"
    },
    "collapsed": false,
    "nbpresent": {
     "id": "73ccc3ef-d640-4367-80a2-c91132e4ebac"
    },
    "run_control": {
     "frozen": false,
     "read_only": false
    }
   },
   "outputs": [],
   "source": [
    "# ignore states with less than 20 businesses... we have 12 states with more than 20 businesses\n",
    "business_state = business.groupby(['state']).filter(lambda r: len(r) >= 20)"
   ]
  },
  {
   "cell_type": "code",
   "execution_count": 103,
   "metadata": {
    "ExecuteTime": {
     "end_time": "2017-01-17T17:32:02.432096",
     "start_time": "2017-01-17T17:32:02.406002"
    },
    "collapsed": false,
    "nbpresent": {
     "id": "da1e4244-773d-40d9-aa88-6d7e02602e29"
    },
    "run_control": {
     "frozen": false,
     "read_only": false
    }
   },
   "outputs": [
    {
     "data": {
      "text/plain": [
       "state\n",
       "AZ     36500\n",
       "BW      1055\n",
       "EDH     3297\n",
       "IL       808\n",
       "MLN      161\n",
       "NC      6835\n",
       "NV     23591\n",
       "ON       530\n",
       "PA      4086\n",
       "QC      5591\n",
       "SC       325\n",
       "WI      3066\n",
       "dtype: int64"
      ]
     },
     "execution_count": 103,
     "metadata": {},
     "output_type": "execute_result"
    }
   ],
   "source": [
    "business_state.groupby('state').size()"
   ]
  },
  {
   "cell_type": "code",
   "execution_count": 106,
   "metadata": {
    "ExecuteTime": {
     "end_time": "2017-01-17T17:33:03.006468",
     "start_time": "2017-01-17T17:33:03.000475"
    },
    "collapsed": false,
    "run_control": {
     "frozen": false,
     "read_only": false
    }
   },
   "outputs": [
    {
     "data": {
      "text/plain": [
       "(85845, 15)"
      ]
     },
     "execution_count": 106,
     "metadata": {},
     "output_type": "execute_result"
    }
   ],
   "source": [
    "business_state.shape"
   ]
  },
  {
   "cell_type": "code",
   "execution_count": 111,
   "metadata": {
    "ExecuteTime": {
     "end_time": "2017-01-17T17:34:34.911083",
     "start_time": "2017-01-17T17:34:34.832373"
    },
    "collapsed": false,
    "run_control": {
     "frozen": false,
     "read_only": false
    }
   },
   "outputs": [
    {
     "data": {
      "text/plain": [
       "attributes       25673\n",
       "business_id      25673\n",
       "categories       25673\n",
       "city             25673\n",
       "full_address     25673\n",
       "hours            25673\n",
       "latitude         25673\n",
       "longitude        25673\n",
       "name             25673\n",
       "neighborhoods    25673\n",
       "open             25673\n",
       "review_count     25673\n",
       "stars            25673\n",
       "state            25673\n",
       "type             25673\n",
       "dtype: int64"
      ]
     },
     "execution_count": 111,
     "metadata": {},
     "output_type": "execute_result"
    }
   ],
   "source": [
    "business_state[business_state.review_count > 20].count()"
   ]
  },
  {
   "cell_type": "code",
   "execution_count": 127,
   "metadata": {
    "ExecuteTime": {
     "end_time": "2017-01-17T03:04:23.806427",
     "start_time": "2017-01-17T03:04:21.878769"
    },
    "collapsed": false,
    "nbpresent": {
     "id": "0da6b673-7e0a-4df5-8001-ed1a67ed8368"
    },
    "run_control": {
     "frozen": false,
     "read_only": false
    },
    "scrolled": false
   },
   "outputs": [
    {
     "name": "stderr",
     "output_type": "stream",
     "text": [
      "C:\\Users\\ali_a\\Anaconda3\\lib\\site-packages\\ipykernel\\__main__.py:1: UserWarning: Boolean Series key will be reindexed to match DataFrame index.\n",
      "  if __name__ == '__main__':\n"
     ]
    },
    {
     "data": {
      "text/plain": [
       "247028"
      ]
     },
     "execution_count": 127,
     "metadata": {},
     "output_type": "execute_result"
    }
   ],
   "source": [
    "len(business_state[business.state == 'AZ'].merge(review, how='inner', left_on='business_id', right_on='business_id').user_id.unique())"
   ]
  },
  {
   "cell_type": "code",
   "execution_count": 168,
   "metadata": {
    "ExecuteTime": {
     "end_time": "2017-01-17T03:34:13.502544",
     "start_time": "2017-01-17T03:34:13.496489"
    },
    "collapsed": false,
    "nbpresent": {
     "id": "2e506b90-7384-4b90-81b4-8c38e650616a"
    },
    "run_control": {
     "frozen": false,
     "read_only": false
    }
   },
   "outputs": [
    {
     "data": {
      "text/plain": [
       "{'breakfast': False,\n",
       " 'brunch': False,\n",
       " 'dessert': False,\n",
       " 'dinner': False,\n",
       " 'latenight': False,\n",
       " 'lunch': True}"
      ]
     },
     "execution_count": 168,
     "metadata": {},
     "output_type": "execute_result"
    }
   ],
   "source": [
    "# To classify a business as Food:\n",
    "business.attributes.iloc[3]['Good For']"
   ]
  },
  {
   "cell_type": "code",
   "execution_count": 166,
   "metadata": {
    "ExecuteTime": {
     "end_time": "2017-01-17T03:33:54.216863",
     "start_time": "2017-01-17T03:33:54.209836"
    },
    "collapsed": false,
    "nbpresent": {
     "id": "076acc56-ab0b-410b-bcce-b43057e934bd"
    },
    "run_control": {
     "frozen": false,
     "read_only": false
    },
    "scrolled": false
   },
   "outputs": [
    {
     "data": {
      "text/plain": [
       "1"
      ]
     },
     "execution_count": 166,
     "metadata": {},
     "output_type": "execute_result"
    }
   ],
   "source": [
    "sum(business.attributes.iloc[3]['Good For'].values())"
   ]
  },
  {
   "cell_type": "code",
   "execution_count": 76,
   "metadata": {
    "ExecuteTime": {
     "end_time": "2017-01-17T01:13:24.912591",
     "start_time": "2017-01-17T01:13:24.904569"
    },
    "collapsed": false,
    "nbpresent": {
     "id": "3753c04e-32e1-4593-bccb-9f40afaf4989"
    },
    "run_control": {
     "frozen": false,
     "read_only": false
    }
   },
   "outputs": [
    {
     "data": {
      "text/plain": [
       "8.5492494004572208"
      ]
     },
     "execution_count": 76,
     "metadata": {},
     "output_type": "execute_result"
    }
   ],
   "source": [
    "business_state.longitude.max()"
   ]
  },
  {
   "cell_type": "code",
   "execution_count": 70,
   "metadata": {
    "ExecuteTime": {
     "end_time": "2017-01-17T01:12:14.134047",
     "start_time": "2017-01-17T01:12:14.130537"
    },
    "collapsed": false,
    "nbpresent": {
     "id": "981ae89e-0655-434f-a874-996256085418"
    },
    "run_control": {
     "frozen": false,
     "read_only": false
    }
   },
   "outputs": [],
   "source": [
    "business_groups = business_state.groupby('state')"
   ]
  },
  {
   "cell_type": "code",
   "execution_count": 71,
   "metadata": {
    "ExecuteTime": {
     "end_time": "2017-01-17T01:12:18.840890",
     "start_time": "2017-01-17T01:12:18.817327"
    },
    "collapsed": false,
    "nbpresent": {
     "id": "479f09b2-166f-4936-bba7-7dcd20f62790"
    },
    "run_control": {
     "frozen": false,
     "read_only": false
    }
   },
   "outputs": [],
   "source": [
    "group = business_groups.get_group('EDH')"
   ]
  },
  {
   "cell_type": "code",
   "execution_count": 72,
   "metadata": {
    "ExecuteTime": {
     "end_time": "2017-01-17T01:12:38.151193",
     "start_time": "2017-01-17T01:12:38.146175"
    },
    "collapsed": false,
    "nbpresent": {
     "id": "bd6d139f-1f6c-4581-a907-a9bf4bd3bbf7"
    },
    "run_control": {
     "frozen": false,
     "read_only": false
    },
    "scrolled": true
   },
   "outputs": [
    {
     "data": {
      "text/plain": [
       "56.000421000000003"
      ]
     },
     "execution_count": 72,
     "metadata": {},
     "output_type": "execute_result"
    }
   ],
   "source": [
    "group.latitude.max()"
   ]
  },
  {
   "cell_type": "code",
   "execution_count": 766,
   "metadata": {
    "ExecuteTime": {
     "end_time": "2017-01-16T22:41:07.278187",
     "start_time": "2017-01-16T18:36:06.543485"
    },
    "collapsed": false,
    "nbpresent": {
     "id": "85b02429-f118-42f6-9277-50ed4500a0b6"
    },
    "run_control": {
     "frozen": false,
     "read_only": false
    },
    "scrolled": true
   },
   "outputs": [
    {
     "ename": "KeyboardInterrupt",
     "evalue": "",
     "output_type": "error",
     "traceback": [
      "\u001b[0;31m---------------------------------------------------------------------------\u001b[0m",
      "\u001b[0;31mKeyboardInterrupt\u001b[0m                         Traceback (most recent call last)",
      "\u001b[0;32m<ipython-input-766-f8a55ad2fa48>\u001b[0m in \u001b[0;36m<module>\u001b[0;34m()\u001b[0m\n\u001b[1;32m     11\u001b[0m         \u001b[1;32mfor\u001b[0m \u001b[0mj\u001b[0m \u001b[1;32min\u001b[0m \u001b[0mrange\u001b[0m\u001b[1;33m(\u001b[0m\u001b[1;36m0\u001b[0m\u001b[1;33m,\u001b[0m \u001b[0mlen\u001b[0m\u001b[1;33m(\u001b[0m\u001b[0mnear_group\u001b[0m\u001b[1;33m)\u001b[0m\u001b[1;33m)\u001b[0m\u001b[1;33m:\u001b[0m\u001b[1;33m\u001b[0m\u001b[0m\n\u001b[1;32m     12\u001b[0m \u001b[1;33m\u001b[0m\u001b[0m\n\u001b[0;32m---> 13\u001b[0;31m             \u001b[0mdistance\u001b[0m \u001b[1;33m=\u001b[0m \u001b[0mvincenty\u001b[0m\u001b[1;33m(\u001b[0m\u001b[0mtuple\u001b[0m\u001b[1;33m(\u001b[0m\u001b[0mgroup\u001b[0m\u001b[1;33m.\u001b[0m\u001b[0miloc\u001b[0m\u001b[1;33m[\u001b[0m\u001b[0mi\u001b[0m\u001b[1;33m]\u001b[0m\u001b[1;33m[\u001b[0m\u001b[1;33m[\u001b[0m\u001b[1;34m'latitude'\u001b[0m\u001b[1;33m,\u001b[0m\u001b[1;34m'longitude'\u001b[0m\u001b[1;33m]\u001b[0m\u001b[1;33m]\u001b[0m\u001b[1;33m)\u001b[0m\u001b[1;33m,\u001b[0m \u001b[0mtuple\u001b[0m\u001b[1;33m(\u001b[0m\u001b[0mnear_group\u001b[0m\u001b[1;33m.\u001b[0m\u001b[0miloc\u001b[0m\u001b[1;33m[\u001b[0m\u001b[0mj\u001b[0m\u001b[1;33m]\u001b[0m\u001b[1;33m[\u001b[0m\u001b[1;33m[\u001b[0m\u001b[1;34m'latitude'\u001b[0m\u001b[1;33m,\u001b[0m\u001b[1;34m'longitude'\u001b[0m\u001b[1;33m]\u001b[0m\u001b[1;33m]\u001b[0m\u001b[1;33m)\u001b[0m\u001b[1;33m)\u001b[0m\u001b[1;33m.\u001b[0m\u001b[0mkm\u001b[0m\u001b[1;33m\u001b[0m\u001b[0m\n\u001b[0m\u001b[1;32m     14\u001b[0m             \u001b[1;32mif\u001b[0m \u001b[0mdistance\u001b[0m \u001b[1;33m<\u001b[0m \u001b[1;36m30\u001b[0m\u001b[1;33m:\u001b[0m\u001b[1;33m\u001b[0m\u001b[0m\n\u001b[1;32m     15\u001b[0m                 \u001b[0mc\u001b[0m \u001b[1;33m+=\u001b[0m \u001b[1;36m1\u001b[0m\u001b[1;33m\u001b[0m\u001b[0m\n",
      "\u001b[0;32mC:\\Users\\ali_a\\Anaconda3\\lib\\site-packages\\pandas\\core\\indexing.py\u001b[0m in \u001b[0;36m__getitem__\u001b[0;34m(self, key)\u001b[0m\n\u001b[1;32m   1310\u001b[0m             \u001b[1;32mreturn\u001b[0m \u001b[0mself\u001b[0m\u001b[1;33m.\u001b[0m\u001b[0m_getitem_tuple\u001b[0m\u001b[1;33m(\u001b[0m\u001b[0mkey\u001b[0m\u001b[1;33m)\u001b[0m\u001b[1;33m\u001b[0m\u001b[0m\n\u001b[1;32m   1311\u001b[0m         \u001b[1;32melse\u001b[0m\u001b[1;33m:\u001b[0m\u001b[1;33m\u001b[0m\u001b[0m\n\u001b[0;32m-> 1312\u001b[0;31m             \u001b[1;32mreturn\u001b[0m \u001b[0mself\u001b[0m\u001b[1;33m.\u001b[0m\u001b[0m_getitem_axis\u001b[0m\u001b[1;33m(\u001b[0m\u001b[0mkey\u001b[0m\u001b[1;33m,\u001b[0m \u001b[0maxis\u001b[0m\u001b[1;33m=\u001b[0m\u001b[1;36m0\u001b[0m\u001b[1;33m)\u001b[0m\u001b[1;33m\u001b[0m\u001b[0m\n\u001b[0m\u001b[1;32m   1313\u001b[0m \u001b[1;33m\u001b[0m\u001b[0m\n\u001b[1;32m   1314\u001b[0m     \u001b[1;32mdef\u001b[0m \u001b[0m_getitem_axis\u001b[0m\u001b[1;33m(\u001b[0m\u001b[0mself\u001b[0m\u001b[1;33m,\u001b[0m \u001b[0mkey\u001b[0m\u001b[1;33m,\u001b[0m \u001b[0maxis\u001b[0m\u001b[1;33m=\u001b[0m\u001b[1;36m0\u001b[0m\u001b[1;33m)\u001b[0m\u001b[1;33m:\u001b[0m\u001b[1;33m\u001b[0m\u001b[0m\n",
      "\u001b[0;32mC:\\Users\\ali_a\\Anaconda3\\lib\\site-packages\\pandas\\core\\indexing.py\u001b[0m in \u001b[0;36m_getitem_axis\u001b[0;34m(self, key, axis)\u001b[0m\n\u001b[1;32m   1628\u001b[0m                 \u001b[0mself\u001b[0m\u001b[1;33m.\u001b[0m\u001b[0m_is_valid_integer\u001b[0m\u001b[1;33m(\u001b[0m\u001b[0mkey\u001b[0m\u001b[1;33m,\u001b[0m \u001b[0maxis\u001b[0m\u001b[1;33m)\u001b[0m\u001b[1;33m\u001b[0m\u001b[0m\n\u001b[1;32m   1629\u001b[0m \u001b[1;33m\u001b[0m\u001b[0m\n\u001b[0;32m-> 1630\u001b[0;31m             \u001b[1;32mreturn\u001b[0m \u001b[0mself\u001b[0m\u001b[1;33m.\u001b[0m\u001b[0m_get_loc\u001b[0m\u001b[1;33m(\u001b[0m\u001b[0mkey\u001b[0m\u001b[1;33m,\u001b[0m \u001b[0maxis\u001b[0m\u001b[1;33m=\u001b[0m\u001b[0maxis\u001b[0m\u001b[1;33m)\u001b[0m\u001b[1;33m\u001b[0m\u001b[0m\n\u001b[0m\u001b[1;32m   1631\u001b[0m \u001b[1;33m\u001b[0m\u001b[0m\n\u001b[1;32m   1632\u001b[0m     \u001b[1;32mdef\u001b[0m \u001b[0m_convert_to_indexer\u001b[0m\u001b[1;33m(\u001b[0m\u001b[0mself\u001b[0m\u001b[1;33m,\u001b[0m \u001b[0mobj\u001b[0m\u001b[1;33m,\u001b[0m \u001b[0maxis\u001b[0m\u001b[1;33m=\u001b[0m\u001b[1;36m0\u001b[0m\u001b[1;33m,\u001b[0m \u001b[0mis_setter\u001b[0m\u001b[1;33m=\u001b[0m\u001b[1;32mFalse\u001b[0m\u001b[1;33m)\u001b[0m\u001b[1;33m:\u001b[0m\u001b[1;33m\u001b[0m\u001b[0m\n",
      "\u001b[0;32mC:\\Users\\ali_a\\Anaconda3\\lib\\site-packages\\pandas\\core\\indexing.py\u001b[0m in \u001b[0;36m_get_loc\u001b[0;34m(self, key, axis)\u001b[0m\n\u001b[1;32m    103\u001b[0m \u001b[1;33m\u001b[0m\u001b[0m\n\u001b[1;32m    104\u001b[0m     \u001b[1;32mdef\u001b[0m \u001b[0m_get_loc\u001b[0m\u001b[1;33m(\u001b[0m\u001b[0mself\u001b[0m\u001b[1;33m,\u001b[0m \u001b[0mkey\u001b[0m\u001b[1;33m,\u001b[0m \u001b[0maxis\u001b[0m\u001b[1;33m=\u001b[0m\u001b[1;36m0\u001b[0m\u001b[1;33m)\u001b[0m\u001b[1;33m:\u001b[0m\u001b[1;33m\u001b[0m\u001b[0m\n\u001b[0;32m--> 105\u001b[0;31m         \u001b[1;32mreturn\u001b[0m \u001b[0mself\u001b[0m\u001b[1;33m.\u001b[0m\u001b[0mobj\u001b[0m\u001b[1;33m.\u001b[0m\u001b[0m_ixs\u001b[0m\u001b[1;33m(\u001b[0m\u001b[0mkey\u001b[0m\u001b[1;33m,\u001b[0m \u001b[0maxis\u001b[0m\u001b[1;33m=\u001b[0m\u001b[0maxis\u001b[0m\u001b[1;33m)\u001b[0m\u001b[1;33m\u001b[0m\u001b[0m\n\u001b[0m\u001b[1;32m    106\u001b[0m \u001b[1;33m\u001b[0m\u001b[0m\n\u001b[1;32m    107\u001b[0m     \u001b[1;32mdef\u001b[0m \u001b[0m_slice\u001b[0m\u001b[1;33m(\u001b[0m\u001b[0mself\u001b[0m\u001b[1;33m,\u001b[0m \u001b[0mobj\u001b[0m\u001b[1;33m,\u001b[0m \u001b[0maxis\u001b[0m\u001b[1;33m=\u001b[0m\u001b[1;36m0\u001b[0m\u001b[1;33m,\u001b[0m \u001b[0mkind\u001b[0m\u001b[1;33m=\u001b[0m\u001b[1;32mNone\u001b[0m\u001b[1;33m)\u001b[0m\u001b[1;33m:\u001b[0m\u001b[1;33m\u001b[0m\u001b[0m\n",
      "\u001b[0;32mC:\\Users\\ali_a\\Anaconda3\\lib\\site-packages\\pandas\\core\\frame.py\u001b[0m in \u001b[0;36m_ixs\u001b[0;34m(self, i, axis)\u001b[0m\n\u001b[1;32m   1974\u001b[0m                     \u001b[0mcopy\u001b[0m \u001b[1;33m=\u001b[0m \u001b[1;32mTrue\u001b[0m\u001b[1;33m\u001b[0m\u001b[0m\n\u001b[1;32m   1975\u001b[0m                 \u001b[1;32melse\u001b[0m\u001b[1;33m:\u001b[0m\u001b[1;33m\u001b[0m\u001b[0m\n\u001b[0;32m-> 1976\u001b[0;31m                     \u001b[0mnew_values\u001b[0m \u001b[1;33m=\u001b[0m \u001b[0mself\u001b[0m\u001b[1;33m.\u001b[0m\u001b[0m_data\u001b[0m\u001b[1;33m.\u001b[0m\u001b[0mfast_xs\u001b[0m\u001b[1;33m(\u001b[0m\u001b[0mi\u001b[0m\u001b[1;33m)\u001b[0m\u001b[1;33m\u001b[0m\u001b[0m\n\u001b[0m\u001b[1;32m   1977\u001b[0m                     \u001b[1;32mif\u001b[0m \u001b[0mis_scalar\u001b[0m\u001b[1;33m(\u001b[0m\u001b[0mnew_values\u001b[0m\u001b[1;33m)\u001b[0m\u001b[1;33m:\u001b[0m\u001b[1;33m\u001b[0m\u001b[0m\n\u001b[1;32m   1978\u001b[0m                         \u001b[1;32mreturn\u001b[0m \u001b[0mnew_values\u001b[0m\u001b[1;33m\u001b[0m\u001b[0m\n",
      "\u001b[0;32mC:\\Users\\ali_a\\Anaconda3\\lib\\site-packages\\pandas\\core\\internals.py\u001b[0m in \u001b[0;36mfast_xs\u001b[0;34m(self, loc)\u001b[0m\n\u001b[1;32m   3507\u001b[0m             \u001b[1;31m# result[blk.mgr_locs] = blk._slice((slice(None), loc))\u001b[0m\u001b[1;33m\u001b[0m\u001b[1;33m\u001b[0m\u001b[0m\n\u001b[1;32m   3508\u001b[0m             \u001b[1;32mfor\u001b[0m \u001b[0mi\u001b[0m\u001b[1;33m,\u001b[0m \u001b[0mrl\u001b[0m \u001b[1;32min\u001b[0m \u001b[0menumerate\u001b[0m\u001b[1;33m(\u001b[0m\u001b[0mblk\u001b[0m\u001b[1;33m.\u001b[0m\u001b[0mmgr_locs\u001b[0m\u001b[1;33m)\u001b[0m\u001b[1;33m:\u001b[0m\u001b[1;33m\u001b[0m\u001b[0m\n\u001b[0;32m-> 3509\u001b[0;31m                 \u001b[0mresult\u001b[0m\u001b[1;33m[\u001b[0m\u001b[0mrl\u001b[0m\u001b[1;33m]\u001b[0m \u001b[1;33m=\u001b[0m \u001b[0mblk\u001b[0m\u001b[1;33m.\u001b[0m\u001b[0m_try_coerce_result\u001b[0m\u001b[1;33m(\u001b[0m\u001b[0mblk\u001b[0m\u001b[1;33m.\u001b[0m\u001b[0miget\u001b[0m\u001b[1;33m(\u001b[0m\u001b[1;33m(\u001b[0m\u001b[0mi\u001b[0m\u001b[1;33m,\u001b[0m \u001b[0mloc\u001b[0m\u001b[1;33m)\u001b[0m\u001b[1;33m)\u001b[0m\u001b[1;33m)\u001b[0m\u001b[1;33m\u001b[0m\u001b[0m\n\u001b[0m\u001b[1;32m   3510\u001b[0m \u001b[1;33m\u001b[0m\u001b[0m\n\u001b[1;32m   3511\u001b[0m         \u001b[1;32mreturn\u001b[0m \u001b[0mresult\u001b[0m\u001b[1;33m\u001b[0m\u001b[0m\n",
      "\u001b[0;31mKeyboardInterrupt\u001b[0m: "
     ]
    }
   ],
   "source": [
    "nearby ={}\n",
    "max_nearbies = 0\n",
    "\n",
    "business_groups = business_state.groupby('state')\n",
    "\n",
    "for name, group in business_groups:\n",
    "    for i in range(0, len(group)):\n",
    "        if group.latitude.iloc[i] < 80:\n",
    "            near_group = group[(group.latitude < (group.latitude.iloc[i] + 1)) & (group.latitude > (group.latitude.iloc[i] - 1)) & \n",
    "                          (group.longitude < (group.longitude.iloc[i] + 1)) & (group.longitude > (group.longitude.iloc[i] - 1))]\n",
    "        for j in range(0, len(near_group)):\n",
    "\n",
    "            distance = vincenty(tuple(group.iloc[i][['latitude','longitude']]), tuple(near_group.iloc[j][['latitude','longitude']])).km\n",
    "            if distance < 30:\n",
    "                c += 1\n",
    "                try:\n",
    "                    nearby[group.business_id.iloc[i]].extend([near_group.business_id.iloc[j]])\n",
    "                except KeyError as e:\n",
    "                    nearby[group.business_id.iloc[i]] = [near_group.business_id.iloc[j]]\n",
    "                try:\n",
    "                    nearby[near_group.business_id.iloc[j]].extend([group.business_id.iloc[i]])\n",
    "                except KeyError as e:\n",
    "                    nearby[near_group.business_id.iloc[j]] = [group.business_id.iloc[i]]\n",
    "        if max_nearbies < c:\n",
    "            max_nearbies = c\n",
    "    print (len(group))\n"
   ]
  },
  {
   "cell_type": "code",
   "execution_count": 755,
   "metadata": {
    "ExecuteTime": {
     "end_time": "2017-01-16T18:13:07.465834",
     "start_time": "2017-01-16T18:13:07.250740"
    },
    "collapsed": false,
    "nbpresent": {
     "id": "e68f9139-f0dc-4dea-a384-b210d94fdc79"
    },
    "run_control": {
     "frozen": false,
     "read_only": false
    }
   },
   "outputs": [
    {
     "data": {
      "text/html": [
       "<div>\n",
       "<table border=\"1\" class=\"dataframe\">\n",
       "  <thead>\n",
       "    <tr style=\"text-align: right;\">\n",
       "      <th></th>\n",
       "      <th>attributes</th>\n",
       "      <th>business_id</th>\n",
       "      <th>categories</th>\n",
       "      <th>city</th>\n",
       "      <th>full_address</th>\n",
       "      <th>hours</th>\n",
       "      <th>latitude</th>\n",
       "      <th>longitude</th>\n",
       "      <th>name</th>\n",
       "      <th>neighborhoods</th>\n",
       "      <th>open</th>\n",
       "      <th>review_count</th>\n",
       "      <th>stars</th>\n",
       "      <th>state</th>\n",
       "      <th>type</th>\n",
       "    </tr>\n",
       "  </thead>\n",
       "  <tbody>\n",
       "    <tr>\n",
       "      <th>0</th>\n",
       "      <td>{'Take-out': True, 'Has TV': False, 'Noise Lev...</td>\n",
       "      <td>5UmKMjUEUNdYWqANhGckJw</td>\n",
       "      <td>[Fast Food, Restaurants]</td>\n",
       "      <td>Dravosburg</td>\n",
       "      <td>4734 Lebanon Church Rd\\nDravosburg, PA 15034</td>\n",
       "      <td>{'Tuesday': {'open': '11:00', 'close': '21:00'...</td>\n",
       "      <td>40.354327</td>\n",
       "      <td>-79.900706</td>\n",
       "      <td>Mr Hoagie</td>\n",
       "      <td>[]</td>\n",
       "      <td>True</td>\n",
       "      <td>7</td>\n",
       "      <td>3.5</td>\n",
       "      <td>PA</td>\n",
       "      <td>business</td>\n",
       "    </tr>\n",
       "    <tr>\n",
       "      <th>1</th>\n",
       "      <td>{'Outdoor Seating': False, 'Good For Groups': ...</td>\n",
       "      <td>UsFtqoBl7naz8AVUBZMjQQ</td>\n",
       "      <td>[Nightlife]</td>\n",
       "      <td>Dravosburg</td>\n",
       "      <td>202 McClure St\\nDravosburg, PA 15034</td>\n",
       "      <td>{}</td>\n",
       "      <td>40.350553</td>\n",
       "      <td>-79.886814</td>\n",
       "      <td>Clancy's Pub</td>\n",
       "      <td>[]</td>\n",
       "      <td>True</td>\n",
       "      <td>5</td>\n",
       "      <td>3.0</td>\n",
       "      <td>PA</td>\n",
       "      <td>business</td>\n",
       "    </tr>\n",
       "    <tr>\n",
       "      <th>2</th>\n",
       "      <td>{'Good for Kids': True}</td>\n",
       "      <td>cE27W9VPgO88Qxe4ol6y_g</td>\n",
       "      <td>[Active Life, Mini Golf, Golf]</td>\n",
       "      <td>Bethel Park</td>\n",
       "      <td>1530 Hamilton Rd\\nBethel Park, PA 15234</td>\n",
       "      <td>{}</td>\n",
       "      <td>40.354115</td>\n",
       "      <td>-80.014660</td>\n",
       "      <td>Cool Springs Golf Center</td>\n",
       "      <td>[]</td>\n",
       "      <td>False</td>\n",
       "      <td>5</td>\n",
       "      <td>2.5</td>\n",
       "      <td>PA</td>\n",
       "      <td>business</td>\n",
       "    </tr>\n",
       "    <tr>\n",
       "      <th>3</th>\n",
       "      <td>{'Good For Groups': True, 'Has TV': True, 'Smo...</td>\n",
       "      <td>mVHrayjG3uZ_RLHkLj-AMg</td>\n",
       "      <td>[Bars, American (New), Nightlife, Lounges, Res...</td>\n",
       "      <td>Braddock</td>\n",
       "      <td>414 Hawkins Ave\\nBraddock, PA 15104</td>\n",
       "      <td>{'Tuesday': {'open': '10:00', 'close': '19:00'...</td>\n",
       "      <td>40.408830</td>\n",
       "      <td>-79.866211</td>\n",
       "      <td>Emil's Lounge</td>\n",
       "      <td>[]</td>\n",
       "      <td>True</td>\n",
       "      <td>26</td>\n",
       "      <td>4.5</td>\n",
       "      <td>PA</td>\n",
       "      <td>business</td>\n",
       "    </tr>\n",
       "    <tr>\n",
       "      <th>4</th>\n",
       "      <td>{'Parking': {'valet': False, 'validated': Fals...</td>\n",
       "      <td>mYSpR_SLPgUVymYOvTQd_Q</td>\n",
       "      <td>[Active Life, Golf]</td>\n",
       "      <td>Braddock</td>\n",
       "      <td>1000 Clubhouse Dr\\nBraddock, PA 15104</td>\n",
       "      <td>{'Thursday': {'open': '11:00', 'close': '20:00...</td>\n",
       "      <td>40.403405</td>\n",
       "      <td>-79.855782</td>\n",
       "      <td>Grand View Golf Club</td>\n",
       "      <td>[]</td>\n",
       "      <td>True</td>\n",
       "      <td>3</td>\n",
       "      <td>5.0</td>\n",
       "      <td>PA</td>\n",
       "      <td>business</td>\n",
       "    </tr>\n",
       "    <tr>\n",
       "      <th>5</th>\n",
       "      <td>{'Good For Groups': True, 'Has TV': True, 'Smo...</td>\n",
       "      <td>KayYbHCt-RkbGcPdGOThNg</td>\n",
       "      <td>[Bars, American (Traditional), Nightlife, Rest...</td>\n",
       "      <td>Carnegie</td>\n",
       "      <td>141 Hawthorne St\\nGreentree\\nCarnegie, PA 15106</td>\n",
       "      <td>{'Monday': {'open': '11:00', 'close': '02:00'}...</td>\n",
       "      <td>40.415486</td>\n",
       "      <td>-80.067549</td>\n",
       "      <td>Alexion's Bar &amp; Grill</td>\n",
       "      <td>[Greentree]</td>\n",
       "      <td>True</td>\n",
       "      <td>23</td>\n",
       "      <td>4.0</td>\n",
       "      <td>PA</td>\n",
       "      <td>business</td>\n",
       "    </tr>\n",
       "    <tr>\n",
       "      <th>6</th>\n",
       "      <td>{'Accepts Credit Cards': True}</td>\n",
       "      <td>b12U9TFESStdy7CsTtcOeg</td>\n",
       "      <td>[Auto Repair, Automotive, Tires]</td>\n",
       "      <td>Carnegie</td>\n",
       "      <td>718A Hope Hollow Rd\\nCarnegie, PA 15106</td>\n",
       "      <td>{'Monday': {'open': '07:30', 'close': '18:00'}...</td>\n",
       "      <td>40.394588</td>\n",
       "      <td>-80.084454</td>\n",
       "      <td>Flynn's Tire &amp; Auto Service</td>\n",
       "      <td>[]</td>\n",
       "      <td>True</td>\n",
       "      <td>9</td>\n",
       "      <td>2.5</td>\n",
       "      <td>PA</td>\n",
       "      <td>business</td>\n",
       "    </tr>\n",
       "    <tr>\n",
       "      <th>7</th>\n",
       "      <td>{'Good for Kids': True}</td>\n",
       "      <td>Sktj1eHQFuVa-M4bgnEh8g</td>\n",
       "      <td>[Active Life, Mini Golf]</td>\n",
       "      <td>Carnegie</td>\n",
       "      <td>920 Forsythe Rd\\nCarnegie\\nCarnegie, PA 15106</td>\n",
       "      <td>{}</td>\n",
       "      <td>40.405404</td>\n",
       "      <td>-80.076267</td>\n",
       "      <td>Forsythe Miniature Golf &amp; Snacks</td>\n",
       "      <td>[Carnegie]</td>\n",
       "      <td>False</td>\n",
       "      <td>4</td>\n",
       "      <td>4.0</td>\n",
       "      <td>PA</td>\n",
       "      <td>business</td>\n",
       "    </tr>\n",
       "    <tr>\n",
       "      <th>8</th>\n",
       "      <td>{}</td>\n",
       "      <td>3ZVKmuK2l7uXPE6lXY4Dbg</td>\n",
       "      <td>[Roofing, Home Services, Decks &amp; Railing, Cont...</td>\n",
       "      <td>Carnegie</td>\n",
       "      <td>8 Logan St\\nCarnegie\\nCarnegie, PA 15106</td>\n",
       "      <td>{}</td>\n",
       "      <td>40.406281</td>\n",
       "      <td>-80.090390</td>\n",
       "      <td>Quaker State Construction</td>\n",
       "      <td>[Carnegie]</td>\n",
       "      <td>True</td>\n",
       "      <td>3</td>\n",
       "      <td>2.5</td>\n",
       "      <td>PA</td>\n",
       "      <td>business</td>\n",
       "    </tr>\n",
       "    <tr>\n",
       "      <th>9</th>\n",
       "      <td>{}</td>\n",
       "      <td>QoDa50dc7g62xciFygXB9w</td>\n",
       "      <td>[Veterinarians, Pets]</td>\n",
       "      <td>Pittsburgh</td>\n",
       "      <td>2080 Greentree Rd\\nPittsburgh, PA 15220</td>\n",
       "      <td>{}</td>\n",
       "      <td>40.392207</td>\n",
       "      <td>-80.069134</td>\n",
       "      <td>Greentree Animal Clinic</td>\n",
       "      <td>[]</td>\n",
       "      <td>True</td>\n",
       "      <td>7</td>\n",
       "      <td>4.0</td>\n",
       "      <td>PA</td>\n",
       "      <td>business</td>\n",
       "    </tr>\n",
       "    <tr>\n",
       "      <th>10</th>\n",
       "      <td>{'Wi-Fi': 'free'}</td>\n",
       "      <td>1_lU0-eSWJCRvNGk78Zh9Q</td>\n",
       "      <td>[Libraries, Public Services &amp; Government]</td>\n",
       "      <td>Carnegie</td>\n",
       "      <td>300 Beechwood Ave\\nCarnegie\\nCarnegie, PA 15106</td>\n",
       "      <td>{}</td>\n",
       "      <td>40.406842</td>\n",
       "      <td>-80.085866</td>\n",
       "      <td>Carnegie Free Library</td>\n",
       "      <td>[Carnegie]</td>\n",
       "      <td>True</td>\n",
       "      <td>4</td>\n",
       "      <td>4.5</td>\n",
       "      <td>PA</td>\n",
       "      <td>business</td>\n",
       "    </tr>\n",
       "    <tr>\n",
       "      <th>11</th>\n",
       "      <td>{}</td>\n",
       "      <td>_qopVQ6_Mz6W7-Pmbi56GQ</td>\n",
       "      <td>[Automotive, Auto Parts &amp; Supplies]</td>\n",
       "      <td>Carnegie</td>\n",
       "      <td>1011 Washington Ave\\nCarnegie, PA 15106</td>\n",
       "      <td>{}</td>\n",
       "      <td>40.398353</td>\n",
       "      <td>-80.082452</td>\n",
       "      <td>Advance Auto Parts</td>\n",
       "      <td>[]</td>\n",
       "      <td>True</td>\n",
       "      <td>3</td>\n",
       "      <td>3.5</td>\n",
       "      <td>PA</td>\n",
       "      <td>business</td>\n",
       "    </tr>\n",
       "    <tr>\n",
       "      <th>12</th>\n",
       "      <td>{'Take-out': True, 'Good For Groups': True, 'P...</td>\n",
       "      <td>wJr6kSA5dchdgOdwH6dZ2w</td>\n",
       "      <td>[Burgers, Breakfast &amp; Brunch, American (Tradit...</td>\n",
       "      <td>Carnegie</td>\n",
       "      <td>2100 Washington Pike\\nCarnegie, PA 15106</td>\n",
       "      <td>{'Monday': {'open': '08:00', 'close': '02:00'}...</td>\n",
       "      <td>40.387512</td>\n",
       "      <td>-80.093215</td>\n",
       "      <td>Kings Family Restaurant</td>\n",
       "      <td>[]</td>\n",
       "      <td>True</td>\n",
       "      <td>10</td>\n",
       "      <td>3.5</td>\n",
       "      <td>PA</td>\n",
       "      <td>business</td>\n",
       "    </tr>\n",
       "    <tr>\n",
       "      <th>13</th>\n",
       "      <td>{'Parking': {'valet': False, 'validated': Fals...</td>\n",
       "      <td>yXuao0pFz1AxB21vJjDf5w</td>\n",
       "      <td>[Food, Grocery]</td>\n",
       "      <td>Carnegie</td>\n",
       "      <td>2100 Washington Pike\\nCarnegie, PA 15106</td>\n",
       "      <td>{'Monday': {'open': '00:00', 'close': '00:00'}...</td>\n",
       "      <td>40.387512</td>\n",
       "      <td>-80.093215</td>\n",
       "      <td>Shop N' Save</td>\n",
       "      <td>[]</td>\n",
       "      <td>True</td>\n",
       "      <td>5</td>\n",
       "      <td>4.0</td>\n",
       "      <td>PA</td>\n",
       "      <td>business</td>\n",
       "    </tr>\n",
       "    <tr>\n",
       "      <th>14</th>\n",
       "      <td>{}</td>\n",
       "      <td>LLJMI-_fSp6OYQuY4rwarw</td>\n",
       "      <td>[Automotive, Gas &amp; Service Stations]</td>\n",
       "      <td>Carnegie</td>\n",
       "      <td>341 E Main St\\nCarnegie\\nCarnegie, PA 15106</td>\n",
       "      <td>{}</td>\n",
       "      <td>40.409998</td>\n",
       "      <td>-80.083366</td>\n",
       "      <td>Knorr's Sunoco Service</td>\n",
       "      <td>[Carnegie]</td>\n",
       "      <td>True</td>\n",
       "      <td>3</td>\n",
       "      <td>3.5</td>\n",
       "      <td>PA</td>\n",
       "      <td>business</td>\n",
       "    </tr>\n",
       "    <tr>\n",
       "      <th>15</th>\n",
       "      <td>{'Accepts Credit Cards': True}</td>\n",
       "      <td>F04xyOUA2xnUoCiWpx9iJA</td>\n",
       "      <td>[Local Services, Dry Cleaning &amp; Laundry, Sewin...</td>\n",
       "      <td>Carnegie</td>\n",
       "      <td>Bower Hill Rd &amp; Vanadium Rd\\nCarnegie, PA 15106</td>\n",
       "      <td>{}</td>\n",
       "      <td>40.368825</td>\n",
       "      <td>-80.084354</td>\n",
       "      <td>Rossi Tailoring &amp; Cleaners</td>\n",
       "      <td>[]</td>\n",
       "      <td>True</td>\n",
       "      <td>3</td>\n",
       "      <td>3.0</td>\n",
       "      <td>PA</td>\n",
       "      <td>business</td>\n",
       "    </tr>\n",
       "    <tr>\n",
       "      <th>16</th>\n",
       "      <td>{}</td>\n",
       "      <td>Cdcus0NADzyY3XiJM2O5Sg</td>\n",
       "      <td>[Automotive, Gas &amp; Service Stations]</td>\n",
       "      <td>Carnegie</td>\n",
       "      <td>1927 E Railroad St\\nCarnegie, PA 15106</td>\n",
       "      <td>{}</td>\n",
       "      <td>40.388284</td>\n",
       "      <td>-80.089241</td>\n",
       "      <td>Heidelberg B P</td>\n",
       "      <td>[]</td>\n",
       "      <td>False</td>\n",
       "      <td>4</td>\n",
       "      <td>3.0</td>\n",
       "      <td>PA</td>\n",
       "      <td>business</td>\n",
       "    </tr>\n",
       "    <tr>\n",
       "      <th>17</th>\n",
       "      <td>{'Dogs Allowed': False, 'Good For Groups': Tru...</td>\n",
       "      <td>fNGIbpazjTRdXgwRY_NIXA</td>\n",
       "      <td>[Bars, American (Traditional), Nightlife, Loun...</td>\n",
       "      <td>Carnegie</td>\n",
       "      <td>1201 Washington Ave\\nCarnegie, PA 15106</td>\n",
       "      <td>{'Monday': {'open': '11:00', 'close': '23:00'}...</td>\n",
       "      <td>40.396469</td>\n",
       "      <td>-80.084942</td>\n",
       "      <td>Rocky's Lounge</td>\n",
       "      <td>[]</td>\n",
       "      <td>True</td>\n",
       "      <td>10</td>\n",
       "      <td>4.0</td>\n",
       "      <td>PA</td>\n",
       "      <td>business</td>\n",
       "    </tr>\n",
       "    <tr>\n",
       "      <th>18</th>\n",
       "      <td>{'Good For Groups': False, 'Has TV': True, 'Co...</td>\n",
       "      <td>b9WZJp5L1RZr4F1nxclOoQ</td>\n",
       "      <td>[Breakfast &amp; Brunch, Sandwiches, Restaurants]</td>\n",
       "      <td>Carnegie</td>\n",
       "      <td>1073 Washington Ave\\nCarnegie, PA 15106</td>\n",
       "      <td>{'Monday': {'open': '06:00', 'close': '14:30'}...</td>\n",
       "      <td>40.398001</td>\n",
       "      <td>-80.083458</td>\n",
       "      <td>Gab &amp; Eat</td>\n",
       "      <td>[]</td>\n",
       "      <td>True</td>\n",
       "      <td>69</td>\n",
       "      <td>4.5</td>\n",
       "      <td>PA</td>\n",
       "      <td>business</td>\n",
       "    </tr>\n",
       "    <tr>\n",
       "      <th>19</th>\n",
       "      <td>{'Take-out': True, 'Has TV': False, 'Noise Lev...</td>\n",
       "      <td>zaXDakTd3RXyOa7sMrUE1g</td>\n",
       "      <td>[Cafes, Restaurants]</td>\n",
       "      <td>Carnegie</td>\n",
       "      <td>202 3rd Ave\\nCarnegie\\nCarnegie, PA 15106</td>\n",
       "      <td>{'Monday': {'open': '07:00', 'close': '14:00'}...</td>\n",
       "      <td>40.404638</td>\n",
       "      <td>-80.089985</td>\n",
       "      <td>Barb's Country Junction Cafe</td>\n",
       "      <td>[Carnegie]</td>\n",
       "      <td>True</td>\n",
       "      <td>9</td>\n",
       "      <td>4.0</td>\n",
       "      <td>PA</td>\n",
       "      <td>business</td>\n",
       "    </tr>\n",
       "    <tr>\n",
       "      <th>20</th>\n",
       "      <td>{'Price Range': 2, 'Wi-Fi': 'free', 'Accepts C...</td>\n",
       "      <td>zgy27FSnvwdINfk5cXBIyQ</td>\n",
       "      <td>[Hotels &amp; Travel, Event Planning &amp; Services, H...</td>\n",
       "      <td>Carnegie</td>\n",
       "      <td>520 North Bell Avenue\\nCarnegie\\nCarnegie, PA ...</td>\n",
       "      <td>{'Monday': {'open': '00:00', 'close': '00:00'}...</td>\n",
       "      <td>40.417419</td>\n",
       "      <td>-80.088557</td>\n",
       "      <td>Extended Stay America - Pittsburgh - Carnegie</td>\n",
       "      <td>[Carnegie]</td>\n",
       "      <td>True</td>\n",
       "      <td>11</td>\n",
       "      <td>3.5</td>\n",
       "      <td>PA</td>\n",
       "      <td>business</td>\n",
       "    </tr>\n",
       "    <tr>\n",
       "      <th>21</th>\n",
       "      <td>{'Take-out': True, 'Has TV': True, 'Noise Leve...</td>\n",
       "      <td>WETE_LykpcnrC1sFcQ5EGg</td>\n",
       "      <td>[Pubs, Irish, Nightlife, Bars, Restaurants]</td>\n",
       "      <td>Carnegie</td>\n",
       "      <td>215 E Main St\\nCarnegie\\nCarnegie, PA 15106</td>\n",
       "      <td>{}</td>\n",
       "      <td>40.408670</td>\n",
       "      <td>-80.085279</td>\n",
       "      <td>Paddy's Pour House</td>\n",
       "      <td>[Carnegie]</td>\n",
       "      <td>False</td>\n",
       "      <td>8</td>\n",
       "      <td>3.5</td>\n",
       "      <td>PA</td>\n",
       "      <td>business</td>\n",
       "    </tr>\n",
       "    <tr>\n",
       "      <th>22</th>\n",
       "      <td>{}</td>\n",
       "      <td>6o3RK6rTcN3nw-j-r2nQmA</td>\n",
       "      <td>[Pizza, Restaurants]</td>\n",
       "      <td>Carnegie</td>\n",
       "      <td>231 E Main St\\nCarnegie\\nCarnegie, PA 15106</td>\n",
       "      <td>{'Monday': {'open': '11:00', 'close': '22:00'}...</td>\n",
       "      <td>40.408832</td>\n",
       "      <td>-80.084934</td>\n",
       "      <td>Porto Fino Pizzaria &amp; Gyro</td>\n",
       "      <td>[Carnegie]</td>\n",
       "      <td>True</td>\n",
       "      <td>4</td>\n",
       "      <td>2.5</td>\n",
       "      <td>PA</td>\n",
       "      <td>business</td>\n",
       "    </tr>\n",
       "    <tr>\n",
       "      <th>23</th>\n",
       "      <td>{'Accepts Credit Cards': False}</td>\n",
       "      <td>woOVJ0Z2f6XNCDntHA3b_g</td>\n",
       "      <td>[Local Services, Sewing &amp; Alterations]</td>\n",
       "      <td>Carnegie</td>\n",
       "      <td>117 E Mall Plz\\nCarnegie\\nCarnegie, PA 15106</td>\n",
       "      <td>{'Monday': {'open': '08:30', 'close': '19:00'}...</td>\n",
       "      <td>40.406871</td>\n",
       "      <td>-80.087605</td>\n",
       "      <td>Alteration World</td>\n",
       "      <td>[Carnegie]</td>\n",
       "      <td>True</td>\n",
       "      <td>10</td>\n",
       "      <td>4.5</td>\n",
       "      <td>PA</td>\n",
       "      <td>business</td>\n",
       "    </tr>\n",
       "    <tr>\n",
       "      <th>24</th>\n",
       "      <td>{'Take-out': True, 'Has TV': False, 'Noise Lev...</td>\n",
       "      <td>rv7CY8G_XibTx82YhuqQRw</td>\n",
       "      <td>[Restaurants]</td>\n",
       "      <td>Carnegie</td>\n",
       "      <td>Raceway Plz\\nCarnegie, PA 15106</td>\n",
       "      <td>{}</td>\n",
       "      <td>40.386891</td>\n",
       "      <td>-80.093704</td>\n",
       "      <td>Long John Silver's</td>\n",
       "      <td>[]</td>\n",
       "      <td>True</td>\n",
       "      <td>6</td>\n",
       "      <td>3.0</td>\n",
       "      <td>PA</td>\n",
       "      <td>business</td>\n",
       "    </tr>\n",
       "    <tr>\n",
       "      <th>25</th>\n",
       "      <td>{'By Appointment Only': True}</td>\n",
       "      <td>e_U_FnpdKVgNb4mUN2cU_Q</td>\n",
       "      <td>[Health &amp; Medical, Dentists, General Dentistry]</td>\n",
       "      <td>Carnegie</td>\n",
       "      <td>2323 Greentree Rd\\nCarnegie, PA 15106</td>\n",
       "      <td>{}</td>\n",
       "      <td>40.390760</td>\n",
       "      <td>-80.078657</td>\n",
       "      <td>Weinberg Lisa, DMD</td>\n",
       "      <td>[]</td>\n",
       "      <td>True</td>\n",
       "      <td>8</td>\n",
       "      <td>2.5</td>\n",
       "      <td>PA</td>\n",
       "      <td>business</td>\n",
       "    </tr>\n",
       "    <tr>\n",
       "      <th>26</th>\n",
       "      <td>{'Take-out': True, 'Has TV': True, 'Noise Leve...</td>\n",
       "      <td>SQ0j7bgSTazkVQlF5AnqyQ</td>\n",
       "      <td>[Chinese, Restaurants]</td>\n",
       "      <td>Carnegie</td>\n",
       "      <td>214 E Main St\\nCarnegie\\nCarnegie, PA 15106</td>\n",
       "      <td>{}</td>\n",
       "      <td>40.408347</td>\n",
       "      <td>-80.084962</td>\n",
       "      <td>Don Don Chinese Restaurant</td>\n",
       "      <td>[Carnegie]</td>\n",
       "      <td>True</td>\n",
       "      <td>10</td>\n",
       "      <td>2.5</td>\n",
       "      <td>PA</td>\n",
       "      <td>business</td>\n",
       "    </tr>\n",
       "    <tr>\n",
       "      <th>27</th>\n",
       "      <td>{}</td>\n",
       "      <td>LTXS986DAz-4jE_sV2Ui4w</td>\n",
       "      <td>[Veterinarians, Pets]</td>\n",
       "      <td>Heidelberg</td>\n",
       "      <td>1747 E Railroad St\\nHeidelberg, PA 15106</td>\n",
       "      <td>{'Monday': {'open': '09:00', 'close': '19:00'}...</td>\n",
       "      <td>40.390569</td>\n",
       "      <td>-80.087898</td>\n",
       "      <td>Chartiers Animal Hospital</td>\n",
       "      <td>[]</td>\n",
       "      <td>True</td>\n",
       "      <td>3</td>\n",
       "      <td>3.5</td>\n",
       "      <td>PA</td>\n",
       "      <td>business</td>\n",
       "    </tr>\n",
       "    <tr>\n",
       "      <th>28</th>\n",
       "      <td>{'Take-out': True, 'Has TV': False, 'Noise Lev...</td>\n",
       "      <td>wqu7ILomIOPSduRwoWp4AQ</td>\n",
       "      <td>[Breakfast &amp; Brunch, American (Traditional), D...</td>\n",
       "      <td>Pittsburgh</td>\n",
       "      <td>2180 Greentree Rd\\nPittsburgh, PA 15220</td>\n",
       "      <td>{'Monday': {'open': '00:00', 'close': '00:00'}...</td>\n",
       "      <td>40.391140</td>\n",
       "      <td>-80.073788</td>\n",
       "      <td>Denny's</td>\n",
       "      <td>[]</td>\n",
       "      <td>True</td>\n",
       "      <td>16</td>\n",
       "      <td>3.5</td>\n",
       "      <td>PA</td>\n",
       "      <td>business</td>\n",
       "    </tr>\n",
       "    <tr>\n",
       "      <th>29</th>\n",
       "      <td>{'Parking': {'valet': False, 'validated': Fals...</td>\n",
       "      <td>1u2NauOy8xDj7aFQET680A</td>\n",
       "      <td>[Active Life, Boxing, Gyms, Fitness &amp; Instruct...</td>\n",
       "      <td>Carnegie</td>\n",
       "      <td>100 Roessler Rd\\nCarnegie, PA 15106</td>\n",
       "      <td>{'Monday': {'open': '05:30', 'close': '22:00'}...</td>\n",
       "      <td>40.394305</td>\n",
       "      <td>-80.060154</td>\n",
       "      <td>Amerifit</td>\n",
       "      <td>[]</td>\n",
       "      <td>True</td>\n",
       "      <td>8</td>\n",
       "      <td>3.0</td>\n",
       "      <td>PA</td>\n",
       "      <td>business</td>\n",
       "    </tr>\n",
       "    <tr>\n",
       "      <th>...</th>\n",
       "      <td>...</td>\n",
       "      <td>...</td>\n",
       "      <td>...</td>\n",
       "      <td>...</td>\n",
       "      <td>...</td>\n",
       "      <td>...</td>\n",
       "      <td>...</td>\n",
       "      <td>...</td>\n",
       "      <td>...</td>\n",
       "      <td>...</td>\n",
       "      <td>...</td>\n",
       "      <td>...</td>\n",
       "      <td>...</td>\n",
       "      <td>...</td>\n",
       "      <td>...</td>\n",
       "    </tr>\n",
       "    <tr>\n",
       "      <th>85866</th>\n",
       "      <td>{'Accepts Credit Cards': True, 'Good for Kids'...</td>\n",
       "      <td>ceobxf5bpSmIZMWqwWad1w</td>\n",
       "      <td>[Soup, Sandwiches, Salad, Restaurants]</td>\n",
       "      <td>Tempe</td>\n",
       "      <td>Tempe Marketplace\\n2000 E Rio Salado Pkwy\\nTem...</td>\n",
       "      <td>{}</td>\n",
       "      <td>33.432927</td>\n",
       "      <td>-111.905575</td>\n",
       "      <td>Panera Bread</td>\n",
       "      <td>[]</td>\n",
       "      <td>True</td>\n",
       "      <td>9</td>\n",
       "      <td>2.5</td>\n",
       "      <td>AZ</td>\n",
       "      <td>business</td>\n",
       "    </tr>\n",
       "    <tr>\n",
       "      <th>85867</th>\n",
       "      <td>{'Take-out': True, 'Has TV': False, 'Noise Lev...</td>\n",
       "      <td>D-vMDv5NlLb9od6sqXtX8A</td>\n",
       "      <td>[Food, Fast Food, Asian Fusion, Poke, Restaura...</td>\n",
       "      <td>Las Vegas</td>\n",
       "      <td>6040 W Badura Ave\\nSte 150\\nSpring Valley\\nLas...</td>\n",
       "      <td>{'Monday': {'open': '11:00', 'close': '21:00'}...</td>\n",
       "      <td>36.062737</td>\n",
       "      <td>-115.223679</td>\n",
       "      <td>Soho Sushi Bowlrrito</td>\n",
       "      <td>[Spring Valley]</td>\n",
       "      <td>True</td>\n",
       "      <td>27</td>\n",
       "      <td>4.5</td>\n",
       "      <td>NV</td>\n",
       "      <td>business</td>\n",
       "    </tr>\n",
       "    <tr>\n",
       "      <th>85868</th>\n",
       "      <td>{'Parking': {'valet': False, 'validated': Fals...</td>\n",
       "      <td>xppcCbZet-xToM83enlieg</td>\n",
       "      <td>[Active Life, Dance Studios, Pilates, Yoga, Fi...</td>\n",
       "      <td>Las Vegas</td>\n",
       "      <td>4720 West Sahara Ave\\nWestside\\nLas Vegas, NV ...</td>\n",
       "      <td>{'Monday': {'open': '10:00', 'close': '20:00'}...</td>\n",
       "      <td>36.147556</td>\n",
       "      <td>-115.207116</td>\n",
       "      <td>DYP Dance And Fitness</td>\n",
       "      <td>[Westside]</td>\n",
       "      <td>True</td>\n",
       "      <td>7</td>\n",
       "      <td>5.0</td>\n",
       "      <td>NV</td>\n",
       "      <td>business</td>\n",
       "    </tr>\n",
       "    <tr>\n",
       "      <th>85869</th>\n",
       "      <td>{'Outdoor Seating': True, 'Has TV': True, 'Whe...</td>\n",
       "      <td>YoryL0t3x8T2wfD96Xs6Kw</td>\n",
       "      <td>[Adult Entertainment, Party &amp; Event Planning, ...</td>\n",
       "      <td>Las Vegas</td>\n",
       "      <td>The Strip\\nLas Vegas, NV</td>\n",
       "      <td>{'Monday': {'open': '00:00', 'close': '00:00'}...</td>\n",
       "      <td>36.133201</td>\n",
       "      <td>-115.164227</td>\n",
       "      <td>Chris Cowette - Vegas Club Promoter</td>\n",
       "      <td>[The Strip]</td>\n",
       "      <td>True</td>\n",
       "      <td>6</td>\n",
       "      <td>5.0</td>\n",
       "      <td>NV</td>\n",
       "      <td>business</td>\n",
       "    </tr>\n",
       "    <tr>\n",
       "      <th>85870</th>\n",
       "      <td>{'Take-out': True, 'Has TV': False, 'Noise Lev...</td>\n",
       "      <td>OqZhUPDGmzu_k8jiyEhX6g</td>\n",
       "      <td>[American (Traditional), Fast Food, Chicken Wi...</td>\n",
       "      <td>Chandler</td>\n",
       "      <td>4075 S Arizona Ave\\nChandler, AZ 85248</td>\n",
       "      <td>{'Monday': {'open': '09:00', 'close': '00:00'}...</td>\n",
       "      <td>33.246349</td>\n",
       "      <td>-111.840639</td>\n",
       "      <td>Raising Cane's</td>\n",
       "      <td>[]</td>\n",
       "      <td>True</td>\n",
       "      <td>13</td>\n",
       "      <td>4.0</td>\n",
       "      <td>AZ</td>\n",
       "      <td>business</td>\n",
       "    </tr>\n",
       "    <tr>\n",
       "      <th>85871</th>\n",
       "      <td>{'Parking': {'valet': False, 'validated': Fals...</td>\n",
       "      <td>EB7_p4M5whur3KWesXE6gw</td>\n",
       "      <td>[Active Life, Gyms, Trainers, Fitness &amp; Instru...</td>\n",
       "      <td>Las Vegas</td>\n",
       "      <td>4775 Quality Ct\\nLas Vegas, NV 89103</td>\n",
       "      <td>{'Monday': {'open': '05:00', 'close': '21:00'}...</td>\n",
       "      <td>36.105608</td>\n",
       "      <td>-115.205611</td>\n",
       "      <td>Kanoa Strength Gym</td>\n",
       "      <td>[]</td>\n",
       "      <td>True</td>\n",
       "      <td>5</td>\n",
       "      <td>5.0</td>\n",
       "      <td>NV</td>\n",
       "      <td>business</td>\n",
       "    </tr>\n",
       "    <tr>\n",
       "      <th>85873</th>\n",
       "      <td>{}</td>\n",
       "      <td>iFX50dGCzWkVyunSZUzoiw</td>\n",
       "      <td>[Bakeries, Bars, Food, Wine Bars, Nightlife, I...</td>\n",
       "      <td>Scottsdale</td>\n",
       "      <td>11485 N 136th St\\nScottsdale, AZ 85259</td>\n",
       "      <td>{'Tuesday': {'open': '17:00', 'close': '22:00'...</td>\n",
       "      <td>33.590790</td>\n",
       "      <td>-111.786674</td>\n",
       "      <td>CM2 Pizzeria &amp; Bakeshop</td>\n",
       "      <td>[]</td>\n",
       "      <td>True</td>\n",
       "      <td>6</td>\n",
       "      <td>5.0</td>\n",
       "      <td>AZ</td>\n",
       "      <td>business</td>\n",
       "    </tr>\n",
       "    <tr>\n",
       "      <th>85874</th>\n",
       "      <td>{'Outdoor Seating': True, 'Take-out': True, 'G...</td>\n",
       "      <td>5PGbTsWR0UN9QuzN2XljyQ</td>\n",
       "      <td>[Food, Coffee &amp; Tea]</td>\n",
       "      <td>Phoenix</td>\n",
       "      <td>718 N Central Ave\\nPhoenix, AZ 85004</td>\n",
       "      <td>{'Monday': {'open': '06:00', 'close': '00:00'}...</td>\n",
       "      <td>33.456388</td>\n",
       "      <td>-112.074092</td>\n",
       "      <td>The Grand Central Coffee Company</td>\n",
       "      <td>[]</td>\n",
       "      <td>True</td>\n",
       "      <td>16</td>\n",
       "      <td>4.0</td>\n",
       "      <td>AZ</td>\n",
       "      <td>business</td>\n",
       "    </tr>\n",
       "    <tr>\n",
       "      <th>85875</th>\n",
       "      <td>{}</td>\n",
       "      <td>xoMhBZHpY40EAyy6iQ_I-A</td>\n",
       "      <td>[Hair Salons, Hair Extensions, Nail Salons, Ey...</td>\n",
       "      <td>Las Vegas</td>\n",
       "      <td>8680 W Warm Springs Rd\\nSte 13\\nSouthwest\\nLas...</td>\n",
       "      <td>{'Monday': {'open': '08:00', 'close': '22:00'}...</td>\n",
       "      <td>36.056214</td>\n",
       "      <td>-115.281151</td>\n",
       "      <td>Sexy3D Extensions</td>\n",
       "      <td>[Southwest, Spring Valley]</td>\n",
       "      <td>True</td>\n",
       "      <td>7</td>\n",
       "      <td>5.0</td>\n",
       "      <td>NV</td>\n",
       "      <td>business</td>\n",
       "    </tr>\n",
       "    <tr>\n",
       "      <th>85878</th>\n",
       "      <td>{'Good for Kids': True}</td>\n",
       "      <td>5JDMpRduKnuPz-1OsF0I_A</td>\n",
       "      <td>[Local Flavor]</td>\n",
       "      <td>Las Vegas</td>\n",
       "      <td>300 Stewart Ave\\nDowntown\\nLas Vegas, NV 89101</td>\n",
       "      <td>{'Tuesday': {'open': '18:00', 'close': '20:00'}}</td>\n",
       "      <td>36.172815</td>\n",
       "      <td>-115.141243</td>\n",
       "      <td>YEE: \"Greed\" at The Mob Museum</td>\n",
       "      <td>[Downtown]</td>\n",
       "      <td>True</td>\n",
       "      <td>8</td>\n",
       "      <td>5.0</td>\n",
       "      <td>NV</td>\n",
       "      <td>business</td>\n",
       "    </tr>\n",
       "    <tr>\n",
       "      <th>85879</th>\n",
       "      <td>{}</td>\n",
       "      <td>C6_IoaDD3mddplTXdbKGEg</td>\n",
       "      <td>[Yelp Events, Local Flavor]</td>\n",
       "      <td>Charlotte</td>\n",
       "      <td>1608 East Blvd\\nDilworth\\nCharlotte, NC 28203</td>\n",
       "      <td>{}</td>\n",
       "      <td>35.199185</td>\n",
       "      <td>-80.841449</td>\n",
       "      <td>YEE: An Evening With Kid Cashew</td>\n",
       "      <td>[Dilworth]</td>\n",
       "      <td>True</td>\n",
       "      <td>32</td>\n",
       "      <td>5.0</td>\n",
       "      <td>NC</td>\n",
       "      <td>business</td>\n",
       "    </tr>\n",
       "    <tr>\n",
       "      <th>85880</th>\n",
       "      <td>{'Take-out': True, 'Has TV': False, 'Noise Lev...</td>\n",
       "      <td>UByngND8rAr6Qu2il34Qrw</td>\n",
       "      <td>[Sandwiches, Salad, Restaurants]</td>\n",
       "      <td>Scottsdale</td>\n",
       "      <td>16495 N Scottsdale Rd\\nSte 105\\nScottsdale, AZ...</td>\n",
       "      <td>{'Monday': {'open': '11:00', 'close': '19:00'}...</td>\n",
       "      <td>33.635558</td>\n",
       "      <td>-111.921071</td>\n",
       "      <td>The Chicken Scoop</td>\n",
       "      <td>[]</td>\n",
       "      <td>True</td>\n",
       "      <td>23</td>\n",
       "      <td>4.0</td>\n",
       "      <td>AZ</td>\n",
       "      <td>business</td>\n",
       "    </tr>\n",
       "    <tr>\n",
       "      <th>85881</th>\n",
       "      <td>{'Price Range': 3, 'Take-out': True, 'Has TV':...</td>\n",
       "      <td>FcvkAc_OTDOOLLEln3jlxA</td>\n",
       "      <td>[Asian Fusion, Sushi Bars, Japanese, Restaurants]</td>\n",
       "      <td>Phoenix</td>\n",
       "      <td>5538 N 7th St\\nSte 110\\nPhoenix, AZ 85014</td>\n",
       "      <td>{'Monday': {'open': '11:00', 'close': '22:00'}...</td>\n",
       "      <td>33.517942</td>\n",
       "      <td>-112.065448</td>\n",
       "      <td>Pure Sushi Colony</td>\n",
       "      <td>[]</td>\n",
       "      <td>True</td>\n",
       "      <td>18</td>\n",
       "      <td>4.0</td>\n",
       "      <td>AZ</td>\n",
       "      <td>business</td>\n",
       "    </tr>\n",
       "    <tr>\n",
       "      <th>85882</th>\n",
       "      <td>{'Parking': {'valet': False, 'validated': Fals...</td>\n",
       "      <td>h1aZ3B_i83ccUcjgtRfMaA</td>\n",
       "      <td>[Skin Care, Waxing, Hair Removal, Beauty &amp; Spas]</td>\n",
       "      <td>Scottsdale</td>\n",
       "      <td>3301 N Miller Rd\\nScottsdale, AZ 85251</td>\n",
       "      <td>{'Monday': {'open': '13:00', 'close': '19:00'}...</td>\n",
       "      <td>33.486405</td>\n",
       "      <td>-111.917149</td>\n",
       "      <td>Skin Awakened</td>\n",
       "      <td>[]</td>\n",
       "      <td>True</td>\n",
       "      <td>3</td>\n",
       "      <td>5.0</td>\n",
       "      <td>AZ</td>\n",
       "      <td>business</td>\n",
       "    </tr>\n",
       "    <tr>\n",
       "      <th>85883</th>\n",
       "      <td>{}</td>\n",
       "      <td>ieZDYoAEq0xV4budBDOU6w</td>\n",
       "      <td>[Real Estate, Home Services, Real Estate Agents]</td>\n",
       "      <td>Las Vegas</td>\n",
       "      <td>1200 South Fourth St\\nDowntown\\nLas Vegas, NV ...</td>\n",
       "      <td>{'Monday': {'open': '09:00', 'close': '00:00'}...</td>\n",
       "      <td>36.157447</td>\n",
       "      <td>-115.150340</td>\n",
       "      <td>Brad Winston, CPA/Realtor-King of Condos, Inc.</td>\n",
       "      <td>[Downtown]</td>\n",
       "      <td>True</td>\n",
       "      <td>4</td>\n",
       "      <td>5.0</td>\n",
       "      <td>NV</td>\n",
       "      <td>business</td>\n",
       "    </tr>\n",
       "    <tr>\n",
       "      <th>85884</th>\n",
       "      <td>{'Price Range': 1, 'Take-out': True, 'Has TV':...</td>\n",
       "      <td>BiufIB-tejW9JqJdxUZJ5w</td>\n",
       "      <td>[Sandwiches, Restaurants]</td>\n",
       "      <td>Phoenix</td>\n",
       "      <td>4910 East Ray Rd\\nPhoenix, AZ 85044</td>\n",
       "      <td>{'Monday': {'open': '10:00', 'close': '22:00'}...</td>\n",
       "      <td>33.320454</td>\n",
       "      <td>-111.977342</td>\n",
       "      <td>Pita Pit</td>\n",
       "      <td>[]</td>\n",
       "      <td>True</td>\n",
       "      <td>5</td>\n",
       "      <td>5.0</td>\n",
       "      <td>AZ</td>\n",
       "      <td>business</td>\n",
       "    </tr>\n",
       "    <tr>\n",
       "      <th>85885</th>\n",
       "      <td>{'Outdoor Seating': False, 'Take-out': True, '...</td>\n",
       "      <td>ECRjdXYLhGzQjCoZKeq6qg</td>\n",
       "      <td>[Sushi Bars, Japanese, Restaurants]</td>\n",
       "      <td>North Las Vegas</td>\n",
       "      <td>4210 W Craig Rd\\nSte 100\\nNorth Las Vegas, NV ...</td>\n",
       "      <td>{'Monday': {'open': '11:30', 'close': '22:00'}...</td>\n",
       "      <td>36.239686</td>\n",
       "      <td>-115.196967</td>\n",
       "      <td>Tokyo Sushi House II</td>\n",
       "      <td>[]</td>\n",
       "      <td>True</td>\n",
       "      <td>15</td>\n",
       "      <td>3.0</td>\n",
       "      <td>NV</td>\n",
       "      <td>business</td>\n",
       "    </tr>\n",
       "    <tr>\n",
       "      <th>85886</th>\n",
       "      <td>{'Take-out': True, 'Has TV': False, 'Noise Lev...</td>\n",
       "      <td>mCiSmiZ7iNI08F6dGXP7tw</td>\n",
       "      <td>[Food, Desserts, Restaurants, Bakeries, Sandwi...</td>\n",
       "      <td>Las Vegas</td>\n",
       "      <td>7100 W Craig Rd\\nNorthwest\\nLas Vegas, NV 89129</td>\n",
       "      <td>{'Monday': {'open': '07:00', 'close': '22:00'}...</td>\n",
       "      <td>36.240983</td>\n",
       "      <td>-115.249473</td>\n",
       "      <td>Kneaders Bakery &amp; Cafe</td>\n",
       "      <td>[Northwest]</td>\n",
       "      <td>True</td>\n",
       "      <td>24</td>\n",
       "      <td>3.5</td>\n",
       "      <td>NV</td>\n",
       "      <td>business</td>\n",
       "    </tr>\n",
       "    <tr>\n",
       "      <th>85887</th>\n",
       "      <td>{'Parking': {'valet': False, 'validated': Fals...</td>\n",
       "      <td>csnolzm2mzbsohha4jSi-g</td>\n",
       "      <td>[Food, Beer, Wine &amp; Spirits, Grocery, Shopping...</td>\n",
       "      <td>Phoenix</td>\n",
       "      <td>1311 E Bell Rd\\nPhoenix, AZ 85022</td>\n",
       "      <td>{'Monday': {'open': '09:00', 'close': '21:00'}...</td>\n",
       "      <td>33.639310</td>\n",
       "      <td>-112.054317</td>\n",
       "      <td>Frys Marketplace</td>\n",
       "      <td>[]</td>\n",
       "      <td>True</td>\n",
       "      <td>21</td>\n",
       "      <td>2.5</td>\n",
       "      <td>AZ</td>\n",
       "      <td>business</td>\n",
       "    </tr>\n",
       "    <tr>\n",
       "      <th>85888</th>\n",
       "      <td>{'Accepts Credit Cards': True}</td>\n",
       "      <td>0c5BWTHCjKyxh4461H14IQ</td>\n",
       "      <td>[Pet Services, Event Photography, Photographer...</td>\n",
       "      <td>Las Vegas</td>\n",
       "      <td>Downtown\\nLas Vegas, NV</td>\n",
       "      <td>{'Monday': {'open': '08:00', 'close': '20:00'}...</td>\n",
       "      <td>36.171909</td>\n",
       "      <td>-115.139969</td>\n",
       "      <td>Photobetty Photography</td>\n",
       "      <td>[Downtown]</td>\n",
       "      <td>True</td>\n",
       "      <td>3</td>\n",
       "      <td>5.0</td>\n",
       "      <td>NV</td>\n",
       "      <td>business</td>\n",
       "    </tr>\n",
       "    <tr>\n",
       "      <th>85889</th>\n",
       "      <td>{'Dogs Allowed': True, 'Take-out': True, 'Has ...</td>\n",
       "      <td>TFCPmrQj9PD1WvnZGYO85Q</td>\n",
       "      <td>[Breakfast &amp; Brunch, American (New), Ramen, Ja...</td>\n",
       "      <td>Phoenix</td>\n",
       "      <td>4350 E Camelback Rd\\nBldg I-100\\nPhoenix, AZ 8...</td>\n",
       "      <td>{'Monday': {'open': '07:00', 'close': '14:00'}...</td>\n",
       "      <td>33.510044</td>\n",
       "      <td>-111.987108</td>\n",
       "      <td>Chestnut</td>\n",
       "      <td>[]</td>\n",
       "      <td>True</td>\n",
       "      <td>168</td>\n",
       "      <td>3.5</td>\n",
       "      <td>AZ</td>\n",
       "      <td>business</td>\n",
       "    </tr>\n",
       "    <tr>\n",
       "      <th>85890</th>\n",
       "      <td>{'Price Range': 2, 'Take-out': True, 'Has TV':...</td>\n",
       "      <td>hNX62vEzvdVsMUMmYYHoPQ</td>\n",
       "      <td>[Bars, American (Traditional), Breakfast &amp; Bru...</td>\n",
       "      <td>Laveen</td>\n",
       "      <td>5020 W Baseline Rd\\nSte 123\\nLaveen, AZ 85339</td>\n",
       "      <td>{'Monday': {'open': '07:00', 'close': '23:00'}...</td>\n",
       "      <td>33.378922</td>\n",
       "      <td>-112.166458</td>\n",
       "      <td>Greathouse Sports Grill</td>\n",
       "      <td>[]</td>\n",
       "      <td>True</td>\n",
       "      <td>4</td>\n",
       "      <td>2.0</td>\n",
       "      <td>AZ</td>\n",
       "      <td>business</td>\n",
       "    </tr>\n",
       "    <tr>\n",
       "      <th>85891</th>\n",
       "      <td>{}</td>\n",
       "      <td>Tc_jU5vqV6208ElA6lNk-A</td>\n",
       "      <td>[Bars, Nightlife]</td>\n",
       "      <td>Glendale</td>\n",
       "      <td>6770 North Sunrise Blvd\\nSte G109\\nGlendale, A...</td>\n",
       "      <td>{}</td>\n",
       "      <td>33.532930</td>\n",
       "      <td>-112.260691</td>\n",
       "      <td>Bar Louie</td>\n",
       "      <td>[]</td>\n",
       "      <td>False</td>\n",
       "      <td>18</td>\n",
       "      <td>2.5</td>\n",
       "      <td>AZ</td>\n",
       "      <td>business</td>\n",
       "    </tr>\n",
       "    <tr>\n",
       "      <th>85892</th>\n",
       "      <td>{'Accepts Credit Cards': True}</td>\n",
       "      <td>ezB4DWv1MjWwjbIjVNAb9A</td>\n",
       "      <td>[Home Services, Real Estate, Apartments]</td>\n",
       "      <td>Las Vegas</td>\n",
       "      <td>304 E Silverado Ranch Blvd\\nSoutheast\\nLas Veg...</td>\n",
       "      <td>{'Monday': {'open': '09:00', 'close': '18:00'}...</td>\n",
       "      <td>36.014080</td>\n",
       "      <td>-115.159018</td>\n",
       "      <td>Lyric Apartments</td>\n",
       "      <td>[Southeast]</td>\n",
       "      <td>True</td>\n",
       "      <td>5</td>\n",
       "      <td>2.0</td>\n",
       "      <td>NV</td>\n",
       "      <td>business</td>\n",
       "    </tr>\n",
       "    <tr>\n",
       "      <th>85894</th>\n",
       "      <td>{'Parking': {'valet': False, 'validated': Fals...</td>\n",
       "      <td>BxqRovZ76pJudWJE1tNXbg</td>\n",
       "      <td>[Hair Salons, Makeup Artists, Beauty &amp; Spas]</td>\n",
       "      <td>Phoenix</td>\n",
       "      <td>505 W Dunlap Ave\\nPhoenix, AZ 85021</td>\n",
       "      <td>{}</td>\n",
       "      <td>33.567251</td>\n",
       "      <td>-112.081407</td>\n",
       "      <td>Aries Unisex Salon</td>\n",
       "      <td>[]</td>\n",
       "      <td>True</td>\n",
       "      <td>4</td>\n",
       "      <td>5.0</td>\n",
       "      <td>AZ</td>\n",
       "      <td>business</td>\n",
       "    </tr>\n",
       "    <tr>\n",
       "      <th>85895</th>\n",
       "      <td>{}</td>\n",
       "      <td>R4BA2eTM1jeIEq31EVlE4g</td>\n",
       "      <td>[Gift Shops, Flowers &amp; Gifts, Shopping, Souven...</td>\n",
       "      <td>Las Vegas</td>\n",
       "      <td>3377 S Las Vegas Blvd\\nSte 2020\\nThe Strip\\nLa...</td>\n",
       "      <td>{'Monday': {'open': '10:00', 'close': '23:00'}...</td>\n",
       "      <td>36.121243</td>\n",
       "      <td>-115.171349</td>\n",
       "      <td>Citta Delle Luci</td>\n",
       "      <td>[The Strip]</td>\n",
       "      <td>True</td>\n",
       "      <td>3</td>\n",
       "      <td>3.0</td>\n",
       "      <td>NV</td>\n",
       "      <td>business</td>\n",
       "    </tr>\n",
       "    <tr>\n",
       "      <th>85896</th>\n",
       "      <td>{'Accepts Credit Cards': True}</td>\n",
       "      <td>m7-3lyY0CJEhePfJKWtD3w</td>\n",
       "      <td>[Bridal, Fashion, Shopping, Formal Wear]</td>\n",
       "      <td>Las Vegas</td>\n",
       "      <td>3899 East Sunset Rd\\nSte 105\\nLas Vegas, NV 89120</td>\n",
       "      <td>{'Tuesday': {'open': '10:00', 'close': '18:00'...</td>\n",
       "      <td>36.070535</td>\n",
       "      <td>-115.089318</td>\n",
       "      <td>Bowties Bridal</td>\n",
       "      <td>[]</td>\n",
       "      <td>True</td>\n",
       "      <td>61</td>\n",
       "      <td>4.0</td>\n",
       "      <td>NV</td>\n",
       "      <td>business</td>\n",
       "    </tr>\n",
       "    <tr>\n",
       "      <th>85897</th>\n",
       "      <td>{'Take-out': True, 'Has TV': True, 'Noise Leve...</td>\n",
       "      <td>g0vvhkZWZKlwF8BUeSPaTA</td>\n",
       "      <td>[Mexican, Restaurants]</td>\n",
       "      <td>Goodyear</td>\n",
       "      <td>525 N Estrella Pkwy\\nSte 100\\nGoodyear, AZ 85338</td>\n",
       "      <td>{}</td>\n",
       "      <td>33.452205</td>\n",
       "      <td>-112.392009</td>\n",
       "      <td>Senor Taco</td>\n",
       "      <td>[]</td>\n",
       "      <td>True</td>\n",
       "      <td>89</td>\n",
       "      <td>3.5</td>\n",
       "      <td>AZ</td>\n",
       "      <td>business</td>\n",
       "    </tr>\n",
       "    <tr>\n",
       "      <th>85898</th>\n",
       "      <td>{}</td>\n",
       "      <td>46L_7y9QXffPpOaXNLX8hg</td>\n",
       "      <td>[Car Wash, Automotive]</td>\n",
       "      <td>Phoenix</td>\n",
       "      <td>9215 North 7th St\\nPhoenix, AZ 85020</td>\n",
       "      <td>{'Monday': {'open': '07:00', 'close': '18:00'}...</td>\n",
       "      <td>33.570417</td>\n",
       "      <td>-112.064854</td>\n",
       "      <td>Cobblestone Auto Spa</td>\n",
       "      <td>[]</td>\n",
       "      <td>True</td>\n",
       "      <td>7</td>\n",
       "      <td>3.0</td>\n",
       "      <td>AZ</td>\n",
       "      <td>business</td>\n",
       "    </tr>\n",
       "    <tr>\n",
       "      <th>85900</th>\n",
       "      <td>{}</td>\n",
       "      <td>DH2Ujt_hwcMBIz8VvCb0Lg</td>\n",
       "      <td>[Mexican, Restaurants]</td>\n",
       "      <td>Charlotte</td>\n",
       "      <td>Charlotte Douglas International Airport Termin...</td>\n",
       "      <td>{}</td>\n",
       "      <td>35.224223</td>\n",
       "      <td>-80.940290</td>\n",
       "      <td>Salsarita's Express</td>\n",
       "      <td>[]</td>\n",
       "      <td>True</td>\n",
       "      <td>57</td>\n",
       "      <td>2.5</td>\n",
       "      <td>NC</td>\n",
       "      <td>business</td>\n",
       "    </tr>\n",
       "  </tbody>\n",
       "</table>\n",
       "<p>72145 rows × 15 columns</p>\n",
       "</div>"
      ],
      "text/plain": [
       "                                              attributes  \\\n",
       "0      {'Take-out': True, 'Has TV': False, 'Noise Lev...   \n",
       "1      {'Outdoor Seating': False, 'Good For Groups': ...   \n",
       "2                                {'Good for Kids': True}   \n",
       "3      {'Good For Groups': True, 'Has TV': True, 'Smo...   \n",
       "4      {'Parking': {'valet': False, 'validated': Fals...   \n",
       "5      {'Good For Groups': True, 'Has TV': True, 'Smo...   \n",
       "6                         {'Accepts Credit Cards': True}   \n",
       "7                                {'Good for Kids': True}   \n",
       "8                                                     {}   \n",
       "9                                                     {}   \n",
       "10                                     {'Wi-Fi': 'free'}   \n",
       "11                                                    {}   \n",
       "12     {'Take-out': True, 'Good For Groups': True, 'P...   \n",
       "13     {'Parking': {'valet': False, 'validated': Fals...   \n",
       "14                                                    {}   \n",
       "15                        {'Accepts Credit Cards': True}   \n",
       "16                                                    {}   \n",
       "17     {'Dogs Allowed': False, 'Good For Groups': Tru...   \n",
       "18     {'Good For Groups': False, 'Has TV': True, 'Co...   \n",
       "19     {'Take-out': True, 'Has TV': False, 'Noise Lev...   \n",
       "20     {'Price Range': 2, 'Wi-Fi': 'free', 'Accepts C...   \n",
       "21     {'Take-out': True, 'Has TV': True, 'Noise Leve...   \n",
       "22                                                    {}   \n",
       "23                       {'Accepts Credit Cards': False}   \n",
       "24     {'Take-out': True, 'Has TV': False, 'Noise Lev...   \n",
       "25                         {'By Appointment Only': True}   \n",
       "26     {'Take-out': True, 'Has TV': True, 'Noise Leve...   \n",
       "27                                                    {}   \n",
       "28     {'Take-out': True, 'Has TV': False, 'Noise Lev...   \n",
       "29     {'Parking': {'valet': False, 'validated': Fals...   \n",
       "...                                                  ...   \n",
       "85866  {'Accepts Credit Cards': True, 'Good for Kids'...   \n",
       "85867  {'Take-out': True, 'Has TV': False, 'Noise Lev...   \n",
       "85868  {'Parking': {'valet': False, 'validated': Fals...   \n",
       "85869  {'Outdoor Seating': True, 'Has TV': True, 'Whe...   \n",
       "85870  {'Take-out': True, 'Has TV': False, 'Noise Lev...   \n",
       "85871  {'Parking': {'valet': False, 'validated': Fals...   \n",
       "85873                                                 {}   \n",
       "85874  {'Outdoor Seating': True, 'Take-out': True, 'G...   \n",
       "85875                                                 {}   \n",
       "85878                            {'Good for Kids': True}   \n",
       "85879                                                 {}   \n",
       "85880  {'Take-out': True, 'Has TV': False, 'Noise Lev...   \n",
       "85881  {'Price Range': 3, 'Take-out': True, 'Has TV':...   \n",
       "85882  {'Parking': {'valet': False, 'validated': Fals...   \n",
       "85883                                                 {}   \n",
       "85884  {'Price Range': 1, 'Take-out': True, 'Has TV':...   \n",
       "85885  {'Outdoor Seating': False, 'Take-out': True, '...   \n",
       "85886  {'Take-out': True, 'Has TV': False, 'Noise Lev...   \n",
       "85887  {'Parking': {'valet': False, 'validated': Fals...   \n",
       "85888                     {'Accepts Credit Cards': True}   \n",
       "85889  {'Dogs Allowed': True, 'Take-out': True, 'Has ...   \n",
       "85890  {'Price Range': 2, 'Take-out': True, 'Has TV':...   \n",
       "85891                                                 {}   \n",
       "85892                     {'Accepts Credit Cards': True}   \n",
       "85894  {'Parking': {'valet': False, 'validated': Fals...   \n",
       "85895                                                 {}   \n",
       "85896                     {'Accepts Credit Cards': True}   \n",
       "85897  {'Take-out': True, 'Has TV': True, 'Noise Leve...   \n",
       "85898                                                 {}   \n",
       "85900                                                 {}   \n",
       "\n",
       "                  business_id  \\\n",
       "0      5UmKMjUEUNdYWqANhGckJw   \n",
       "1      UsFtqoBl7naz8AVUBZMjQQ   \n",
       "2      cE27W9VPgO88Qxe4ol6y_g   \n",
       "3      mVHrayjG3uZ_RLHkLj-AMg   \n",
       "4      mYSpR_SLPgUVymYOvTQd_Q   \n",
       "5      KayYbHCt-RkbGcPdGOThNg   \n",
       "6      b12U9TFESStdy7CsTtcOeg   \n",
       "7      Sktj1eHQFuVa-M4bgnEh8g   \n",
       "8      3ZVKmuK2l7uXPE6lXY4Dbg   \n",
       "9      QoDa50dc7g62xciFygXB9w   \n",
       "10     1_lU0-eSWJCRvNGk78Zh9Q   \n",
       "11     _qopVQ6_Mz6W7-Pmbi56GQ   \n",
       "12     wJr6kSA5dchdgOdwH6dZ2w   \n",
       "13     yXuao0pFz1AxB21vJjDf5w   \n",
       "14     LLJMI-_fSp6OYQuY4rwarw   \n",
       "15     F04xyOUA2xnUoCiWpx9iJA   \n",
       "16     Cdcus0NADzyY3XiJM2O5Sg   \n",
       "17     fNGIbpazjTRdXgwRY_NIXA   \n",
       "18     b9WZJp5L1RZr4F1nxclOoQ   \n",
       "19     zaXDakTd3RXyOa7sMrUE1g   \n",
       "20     zgy27FSnvwdINfk5cXBIyQ   \n",
       "21     WETE_LykpcnrC1sFcQ5EGg   \n",
       "22     6o3RK6rTcN3nw-j-r2nQmA   \n",
       "23     woOVJ0Z2f6XNCDntHA3b_g   \n",
       "24     rv7CY8G_XibTx82YhuqQRw   \n",
       "25     e_U_FnpdKVgNb4mUN2cU_Q   \n",
       "26     SQ0j7bgSTazkVQlF5AnqyQ   \n",
       "27     LTXS986DAz-4jE_sV2Ui4w   \n",
       "28     wqu7ILomIOPSduRwoWp4AQ   \n",
       "29     1u2NauOy8xDj7aFQET680A   \n",
       "...                       ...   \n",
       "85866  ceobxf5bpSmIZMWqwWad1w   \n",
       "85867  D-vMDv5NlLb9od6sqXtX8A   \n",
       "85868  xppcCbZet-xToM83enlieg   \n",
       "85869  YoryL0t3x8T2wfD96Xs6Kw   \n",
       "85870  OqZhUPDGmzu_k8jiyEhX6g   \n",
       "85871  EB7_p4M5whur3KWesXE6gw   \n",
       "85873  iFX50dGCzWkVyunSZUzoiw   \n",
       "85874  5PGbTsWR0UN9QuzN2XljyQ   \n",
       "85875  xoMhBZHpY40EAyy6iQ_I-A   \n",
       "85878  5JDMpRduKnuPz-1OsF0I_A   \n",
       "85879  C6_IoaDD3mddplTXdbKGEg   \n",
       "85880  UByngND8rAr6Qu2il34Qrw   \n",
       "85881  FcvkAc_OTDOOLLEln3jlxA   \n",
       "85882  h1aZ3B_i83ccUcjgtRfMaA   \n",
       "85883  ieZDYoAEq0xV4budBDOU6w   \n",
       "85884  BiufIB-tejW9JqJdxUZJ5w   \n",
       "85885  ECRjdXYLhGzQjCoZKeq6qg   \n",
       "85886  mCiSmiZ7iNI08F6dGXP7tw   \n",
       "85887  csnolzm2mzbsohha4jSi-g   \n",
       "85888  0c5BWTHCjKyxh4461H14IQ   \n",
       "85889  TFCPmrQj9PD1WvnZGYO85Q   \n",
       "85890  hNX62vEzvdVsMUMmYYHoPQ   \n",
       "85891  Tc_jU5vqV6208ElA6lNk-A   \n",
       "85892  ezB4DWv1MjWwjbIjVNAb9A   \n",
       "85894  BxqRovZ76pJudWJE1tNXbg   \n",
       "85895  R4BA2eTM1jeIEq31EVlE4g   \n",
       "85896  m7-3lyY0CJEhePfJKWtD3w   \n",
       "85897  g0vvhkZWZKlwF8BUeSPaTA   \n",
       "85898  46L_7y9QXffPpOaXNLX8hg   \n",
       "85900  DH2Ujt_hwcMBIz8VvCb0Lg   \n",
       "\n",
       "                                              categories             city  \\\n",
       "0                               [Fast Food, Restaurants]       Dravosburg   \n",
       "1                                            [Nightlife]       Dravosburg   \n",
       "2                         [Active Life, Mini Golf, Golf]      Bethel Park   \n",
       "3      [Bars, American (New), Nightlife, Lounges, Res...         Braddock   \n",
       "4                                    [Active Life, Golf]         Braddock   \n",
       "5      [Bars, American (Traditional), Nightlife, Rest...         Carnegie   \n",
       "6                       [Auto Repair, Automotive, Tires]         Carnegie   \n",
       "7                               [Active Life, Mini Golf]         Carnegie   \n",
       "8      [Roofing, Home Services, Decks & Railing, Cont...         Carnegie   \n",
       "9                                  [Veterinarians, Pets]       Pittsburgh   \n",
       "10             [Libraries, Public Services & Government]         Carnegie   \n",
       "11                   [Automotive, Auto Parts & Supplies]         Carnegie   \n",
       "12     [Burgers, Breakfast & Brunch, American (Tradit...         Carnegie   \n",
       "13                                       [Food, Grocery]         Carnegie   \n",
       "14                  [Automotive, Gas & Service Stations]         Carnegie   \n",
       "15     [Local Services, Dry Cleaning & Laundry, Sewin...         Carnegie   \n",
       "16                  [Automotive, Gas & Service Stations]         Carnegie   \n",
       "17     [Bars, American (Traditional), Nightlife, Loun...         Carnegie   \n",
       "18         [Breakfast & Brunch, Sandwiches, Restaurants]         Carnegie   \n",
       "19                                  [Cafes, Restaurants]         Carnegie   \n",
       "20     [Hotels & Travel, Event Planning & Services, H...         Carnegie   \n",
       "21           [Pubs, Irish, Nightlife, Bars, Restaurants]         Carnegie   \n",
       "22                                  [Pizza, Restaurants]         Carnegie   \n",
       "23                [Local Services, Sewing & Alterations]         Carnegie   \n",
       "24                                         [Restaurants]         Carnegie   \n",
       "25       [Health & Medical, Dentists, General Dentistry]         Carnegie   \n",
       "26                                [Chinese, Restaurants]         Carnegie   \n",
       "27                                 [Veterinarians, Pets]       Heidelberg   \n",
       "28     [Breakfast & Brunch, American (Traditional), D...       Pittsburgh   \n",
       "29     [Active Life, Boxing, Gyms, Fitness & Instruct...         Carnegie   \n",
       "...                                                  ...              ...   \n",
       "85866             [Soup, Sandwiches, Salad, Restaurants]            Tempe   \n",
       "85867  [Food, Fast Food, Asian Fusion, Poke, Restaura...        Las Vegas   \n",
       "85868  [Active Life, Dance Studios, Pilates, Yoga, Fi...        Las Vegas   \n",
       "85869  [Adult Entertainment, Party & Event Planning, ...        Las Vegas   \n",
       "85870  [American (Traditional), Fast Food, Chicken Wi...         Chandler   \n",
       "85871  [Active Life, Gyms, Trainers, Fitness & Instru...        Las Vegas   \n",
       "85873  [Bakeries, Bars, Food, Wine Bars, Nightlife, I...       Scottsdale   \n",
       "85874                               [Food, Coffee & Tea]          Phoenix   \n",
       "85875  [Hair Salons, Hair Extensions, Nail Salons, Ey...        Las Vegas   \n",
       "85878                                     [Local Flavor]        Las Vegas   \n",
       "85879                        [Yelp Events, Local Flavor]        Charlotte   \n",
       "85880                   [Sandwiches, Salad, Restaurants]       Scottsdale   \n",
       "85881  [Asian Fusion, Sushi Bars, Japanese, Restaurants]          Phoenix   \n",
       "85882   [Skin Care, Waxing, Hair Removal, Beauty & Spas]       Scottsdale   \n",
       "85883   [Real Estate, Home Services, Real Estate Agents]        Las Vegas   \n",
       "85884                          [Sandwiches, Restaurants]          Phoenix   \n",
       "85885                [Sushi Bars, Japanese, Restaurants]  North Las Vegas   \n",
       "85886  [Food, Desserts, Restaurants, Bakeries, Sandwi...        Las Vegas   \n",
       "85887  [Food, Beer, Wine & Spirits, Grocery, Shopping...          Phoenix   \n",
       "85888  [Pet Services, Event Photography, Photographer...        Las Vegas   \n",
       "85889  [Breakfast & Brunch, American (New), Ramen, Ja...          Phoenix   \n",
       "85890  [Bars, American (Traditional), Breakfast & Bru...           Laveen   \n",
       "85891                                  [Bars, Nightlife]         Glendale   \n",
       "85892           [Home Services, Real Estate, Apartments]        Las Vegas   \n",
       "85894       [Hair Salons, Makeup Artists, Beauty & Spas]          Phoenix   \n",
       "85895  [Gift Shops, Flowers & Gifts, Shopping, Souven...        Las Vegas   \n",
       "85896           [Bridal, Fashion, Shopping, Formal Wear]        Las Vegas   \n",
       "85897                             [Mexican, Restaurants]         Goodyear   \n",
       "85898                             [Car Wash, Automotive]          Phoenix   \n",
       "85900                             [Mexican, Restaurants]        Charlotte   \n",
       "\n",
       "                                            full_address  \\\n",
       "0           4734 Lebanon Church Rd\\nDravosburg, PA 15034   \n",
       "1                   202 McClure St\\nDravosburg, PA 15034   \n",
       "2                1530 Hamilton Rd\\nBethel Park, PA 15234   \n",
       "3                    414 Hawkins Ave\\nBraddock, PA 15104   \n",
       "4                  1000 Clubhouse Dr\\nBraddock, PA 15104   \n",
       "5        141 Hawthorne St\\nGreentree\\nCarnegie, PA 15106   \n",
       "6                718A Hope Hollow Rd\\nCarnegie, PA 15106   \n",
       "7          920 Forsythe Rd\\nCarnegie\\nCarnegie, PA 15106   \n",
       "8               8 Logan St\\nCarnegie\\nCarnegie, PA 15106   \n",
       "9                2080 Greentree Rd\\nPittsburgh, PA 15220   \n",
       "10       300 Beechwood Ave\\nCarnegie\\nCarnegie, PA 15106   \n",
       "11               1011 Washington Ave\\nCarnegie, PA 15106   \n",
       "12              2100 Washington Pike\\nCarnegie, PA 15106   \n",
       "13              2100 Washington Pike\\nCarnegie, PA 15106   \n",
       "14           341 E Main St\\nCarnegie\\nCarnegie, PA 15106   \n",
       "15       Bower Hill Rd & Vanadium Rd\\nCarnegie, PA 15106   \n",
       "16                1927 E Railroad St\\nCarnegie, PA 15106   \n",
       "17               1201 Washington Ave\\nCarnegie, PA 15106   \n",
       "18               1073 Washington Ave\\nCarnegie, PA 15106   \n",
       "19             202 3rd Ave\\nCarnegie\\nCarnegie, PA 15106   \n",
       "20     520 North Bell Avenue\\nCarnegie\\nCarnegie, PA ...   \n",
       "21           215 E Main St\\nCarnegie\\nCarnegie, PA 15106   \n",
       "22           231 E Main St\\nCarnegie\\nCarnegie, PA 15106   \n",
       "23          117 E Mall Plz\\nCarnegie\\nCarnegie, PA 15106   \n",
       "24                       Raceway Plz\\nCarnegie, PA 15106   \n",
       "25                 2323 Greentree Rd\\nCarnegie, PA 15106   \n",
       "26           214 E Main St\\nCarnegie\\nCarnegie, PA 15106   \n",
       "27              1747 E Railroad St\\nHeidelberg, PA 15106   \n",
       "28               2180 Greentree Rd\\nPittsburgh, PA 15220   \n",
       "29                   100 Roessler Rd\\nCarnegie, PA 15106   \n",
       "...                                                  ...   \n",
       "85866  Tempe Marketplace\\n2000 E Rio Salado Pkwy\\nTem...   \n",
       "85867  6040 W Badura Ave\\nSte 150\\nSpring Valley\\nLas...   \n",
       "85868  4720 West Sahara Ave\\nWestside\\nLas Vegas, NV ...   \n",
       "85869                           The Strip\\nLas Vegas, NV   \n",
       "85870             4075 S Arizona Ave\\nChandler, AZ 85248   \n",
       "85871               4775 Quality Ct\\nLas Vegas, NV 89103   \n",
       "85873             11485 N 136th St\\nScottsdale, AZ 85259   \n",
       "85874               718 N Central Ave\\nPhoenix, AZ 85004   \n",
       "85875  8680 W Warm Springs Rd\\nSte 13\\nSouthwest\\nLas...   \n",
       "85878     300 Stewart Ave\\nDowntown\\nLas Vegas, NV 89101   \n",
       "85879      1608 East Blvd\\nDilworth\\nCharlotte, NC 28203   \n",
       "85880  16495 N Scottsdale Rd\\nSte 105\\nScottsdale, AZ...   \n",
       "85881          5538 N 7th St\\nSte 110\\nPhoenix, AZ 85014   \n",
       "85882             3301 N Miller Rd\\nScottsdale, AZ 85251   \n",
       "85883  1200 South Fourth St\\nDowntown\\nLas Vegas, NV ...   \n",
       "85884                4910 East Ray Rd\\nPhoenix, AZ 85044   \n",
       "85885  4210 W Craig Rd\\nSte 100\\nNorth Las Vegas, NV ...   \n",
       "85886    7100 W Craig Rd\\nNorthwest\\nLas Vegas, NV 89129   \n",
       "85887                  1311 E Bell Rd\\nPhoenix, AZ 85022   \n",
       "85888                            Downtown\\nLas Vegas, NV   \n",
       "85889  4350 E Camelback Rd\\nBldg I-100\\nPhoenix, AZ 8...   \n",
       "85890      5020 W Baseline Rd\\nSte 123\\nLaveen, AZ 85339   \n",
       "85891  6770 North Sunrise Blvd\\nSte G109\\nGlendale, A...   \n",
       "85892  304 E Silverado Ranch Blvd\\nSoutheast\\nLas Veg...   \n",
       "85894                505 W Dunlap Ave\\nPhoenix, AZ 85021   \n",
       "85895  3377 S Las Vegas Blvd\\nSte 2020\\nThe Strip\\nLa...   \n",
       "85896  3899 East Sunset Rd\\nSte 105\\nLas Vegas, NV 89120   \n",
       "85897   525 N Estrella Pkwy\\nSte 100\\nGoodyear, AZ 85338   \n",
       "85898               9215 North 7th St\\nPhoenix, AZ 85020   \n",
       "85900  Charlotte Douglas International Airport Termin...   \n",
       "\n",
       "                                                   hours   latitude  \\\n",
       "0      {'Tuesday': {'open': '11:00', 'close': '21:00'...  40.354327   \n",
       "1                                                     {}  40.350553   \n",
       "2                                                     {}  40.354115   \n",
       "3      {'Tuesday': {'open': '10:00', 'close': '19:00'...  40.408830   \n",
       "4      {'Thursday': {'open': '11:00', 'close': '20:00...  40.403405   \n",
       "5      {'Monday': {'open': '11:00', 'close': '02:00'}...  40.415486   \n",
       "6      {'Monday': {'open': '07:30', 'close': '18:00'}...  40.394588   \n",
       "7                                                     {}  40.405404   \n",
       "8                                                     {}  40.406281   \n",
       "9                                                     {}  40.392207   \n",
       "10                                                    {}  40.406842   \n",
       "11                                                    {}  40.398353   \n",
       "12     {'Monday': {'open': '08:00', 'close': '02:00'}...  40.387512   \n",
       "13     {'Monday': {'open': '00:00', 'close': '00:00'}...  40.387512   \n",
       "14                                                    {}  40.409998   \n",
       "15                                                    {}  40.368825   \n",
       "16                                                    {}  40.388284   \n",
       "17     {'Monday': {'open': '11:00', 'close': '23:00'}...  40.396469   \n",
       "18     {'Monday': {'open': '06:00', 'close': '14:30'}...  40.398001   \n",
       "19     {'Monday': {'open': '07:00', 'close': '14:00'}...  40.404638   \n",
       "20     {'Monday': {'open': '00:00', 'close': '00:00'}...  40.417419   \n",
       "21                                                    {}  40.408670   \n",
       "22     {'Monday': {'open': '11:00', 'close': '22:00'}...  40.408832   \n",
       "23     {'Monday': {'open': '08:30', 'close': '19:00'}...  40.406871   \n",
       "24                                                    {}  40.386891   \n",
       "25                                                    {}  40.390760   \n",
       "26                                                    {}  40.408347   \n",
       "27     {'Monday': {'open': '09:00', 'close': '19:00'}...  40.390569   \n",
       "28     {'Monday': {'open': '00:00', 'close': '00:00'}...  40.391140   \n",
       "29     {'Monday': {'open': '05:30', 'close': '22:00'}...  40.394305   \n",
       "...                                                  ...        ...   \n",
       "85866                                                 {}  33.432927   \n",
       "85867  {'Monday': {'open': '11:00', 'close': '21:00'}...  36.062737   \n",
       "85868  {'Monday': {'open': '10:00', 'close': '20:00'}...  36.147556   \n",
       "85869  {'Monday': {'open': '00:00', 'close': '00:00'}...  36.133201   \n",
       "85870  {'Monday': {'open': '09:00', 'close': '00:00'}...  33.246349   \n",
       "85871  {'Monday': {'open': '05:00', 'close': '21:00'}...  36.105608   \n",
       "85873  {'Tuesday': {'open': '17:00', 'close': '22:00'...  33.590790   \n",
       "85874  {'Monday': {'open': '06:00', 'close': '00:00'}...  33.456388   \n",
       "85875  {'Monday': {'open': '08:00', 'close': '22:00'}...  36.056214   \n",
       "85878   {'Tuesday': {'open': '18:00', 'close': '20:00'}}  36.172815   \n",
       "85879                                                 {}  35.199185   \n",
       "85880  {'Monday': {'open': '11:00', 'close': '19:00'}...  33.635558   \n",
       "85881  {'Monday': {'open': '11:00', 'close': '22:00'}...  33.517942   \n",
       "85882  {'Monday': {'open': '13:00', 'close': '19:00'}...  33.486405   \n",
       "85883  {'Monday': {'open': '09:00', 'close': '00:00'}...  36.157447   \n",
       "85884  {'Monday': {'open': '10:00', 'close': '22:00'}...  33.320454   \n",
       "85885  {'Monday': {'open': '11:30', 'close': '22:00'}...  36.239686   \n",
       "85886  {'Monday': {'open': '07:00', 'close': '22:00'}...  36.240983   \n",
       "85887  {'Monday': {'open': '09:00', 'close': '21:00'}...  33.639310   \n",
       "85888  {'Monday': {'open': '08:00', 'close': '20:00'}...  36.171909   \n",
       "85889  {'Monday': {'open': '07:00', 'close': '14:00'}...  33.510044   \n",
       "85890  {'Monday': {'open': '07:00', 'close': '23:00'}...  33.378922   \n",
       "85891                                                 {}  33.532930   \n",
       "85892  {'Monday': {'open': '09:00', 'close': '18:00'}...  36.014080   \n",
       "85894                                                 {}  33.567251   \n",
       "85895  {'Monday': {'open': '10:00', 'close': '23:00'}...  36.121243   \n",
       "85896  {'Tuesday': {'open': '10:00', 'close': '18:00'...  36.070535   \n",
       "85897                                                 {}  33.452205   \n",
       "85898  {'Monday': {'open': '07:00', 'close': '18:00'}...  33.570417   \n",
       "85900                                                 {}  35.224223   \n",
       "\n",
       "        longitude                                            name  \\\n",
       "0      -79.900706                                       Mr Hoagie   \n",
       "1      -79.886814                                    Clancy's Pub   \n",
       "2      -80.014660                        Cool Springs Golf Center   \n",
       "3      -79.866211                                   Emil's Lounge   \n",
       "4      -79.855782                            Grand View Golf Club   \n",
       "5      -80.067549                           Alexion's Bar & Grill   \n",
       "6      -80.084454                     Flynn's Tire & Auto Service   \n",
       "7      -80.076267                Forsythe Miniature Golf & Snacks   \n",
       "8      -80.090390                       Quaker State Construction   \n",
       "9      -80.069134                         Greentree Animal Clinic   \n",
       "10     -80.085866                           Carnegie Free Library   \n",
       "11     -80.082452                              Advance Auto Parts   \n",
       "12     -80.093215                         Kings Family Restaurant   \n",
       "13     -80.093215                                    Shop N' Save   \n",
       "14     -80.083366                          Knorr's Sunoco Service   \n",
       "15     -80.084354                      Rossi Tailoring & Cleaners   \n",
       "16     -80.089241                                  Heidelberg B P   \n",
       "17     -80.084942                                  Rocky's Lounge   \n",
       "18     -80.083458                                       Gab & Eat   \n",
       "19     -80.089985                    Barb's Country Junction Cafe   \n",
       "20     -80.088557   Extended Stay America - Pittsburgh - Carnegie   \n",
       "21     -80.085279                              Paddy's Pour House   \n",
       "22     -80.084934                      Porto Fino Pizzaria & Gyro   \n",
       "23     -80.087605                                Alteration World   \n",
       "24     -80.093704                              Long John Silver's   \n",
       "25     -80.078657                              Weinberg Lisa, DMD   \n",
       "26     -80.084962                      Don Don Chinese Restaurant   \n",
       "27     -80.087898                       Chartiers Animal Hospital   \n",
       "28     -80.073788                                         Denny's   \n",
       "29     -80.060154                                        Amerifit   \n",
       "...           ...                                             ...   \n",
       "85866 -111.905575                                    Panera Bread   \n",
       "85867 -115.223679                            Soho Sushi Bowlrrito   \n",
       "85868 -115.207116                           DYP Dance And Fitness   \n",
       "85869 -115.164227             Chris Cowette - Vegas Club Promoter   \n",
       "85870 -111.840639                                  Raising Cane's   \n",
       "85871 -115.205611                              Kanoa Strength Gym   \n",
       "85873 -111.786674                         CM2 Pizzeria & Bakeshop   \n",
       "85874 -112.074092                The Grand Central Coffee Company   \n",
       "85875 -115.281151                               Sexy3D Extensions   \n",
       "85878 -115.141243                  YEE: \"Greed\" at The Mob Museum   \n",
       "85879  -80.841449                 YEE: An Evening With Kid Cashew   \n",
       "85880 -111.921071                               The Chicken Scoop   \n",
       "85881 -112.065448                               Pure Sushi Colony   \n",
       "85882 -111.917149                                   Skin Awakened   \n",
       "85883 -115.150340  Brad Winston, CPA/Realtor-King of Condos, Inc.   \n",
       "85884 -111.977342                                        Pita Pit   \n",
       "85885 -115.196967                            Tokyo Sushi House II   \n",
       "85886 -115.249473                          Kneaders Bakery & Cafe   \n",
       "85887 -112.054317                                Frys Marketplace   \n",
       "85888 -115.139969                          Photobetty Photography   \n",
       "85889 -111.987108                                        Chestnut   \n",
       "85890 -112.166458                         Greathouse Sports Grill   \n",
       "85891 -112.260691                                       Bar Louie   \n",
       "85892 -115.159018                                Lyric Apartments   \n",
       "85894 -112.081407                              Aries Unisex Salon   \n",
       "85895 -115.171349                                Citta Delle Luci   \n",
       "85896 -115.089318                                  Bowties Bridal   \n",
       "85897 -112.392009                                      Senor Taco   \n",
       "85898 -112.064854                            Cobblestone Auto Spa   \n",
       "85900  -80.940290                             Salsarita's Express   \n",
       "\n",
       "                    neighborhoods   open  review_count  stars state      type  \n",
       "0                              []   True             7    3.5    PA  business  \n",
       "1                              []   True             5    3.0    PA  business  \n",
       "2                              []  False             5    2.5    PA  business  \n",
       "3                              []   True            26    4.5    PA  business  \n",
       "4                              []   True             3    5.0    PA  business  \n",
       "5                     [Greentree]   True            23    4.0    PA  business  \n",
       "6                              []   True             9    2.5    PA  business  \n",
       "7                      [Carnegie]  False             4    4.0    PA  business  \n",
       "8                      [Carnegie]   True             3    2.5    PA  business  \n",
       "9                              []   True             7    4.0    PA  business  \n",
       "10                     [Carnegie]   True             4    4.5    PA  business  \n",
       "11                             []   True             3    3.5    PA  business  \n",
       "12                             []   True            10    3.5    PA  business  \n",
       "13                             []   True             5    4.0    PA  business  \n",
       "14                     [Carnegie]   True             3    3.5    PA  business  \n",
       "15                             []   True             3    3.0    PA  business  \n",
       "16                             []  False             4    3.0    PA  business  \n",
       "17                             []   True            10    4.0    PA  business  \n",
       "18                             []   True            69    4.5    PA  business  \n",
       "19                     [Carnegie]   True             9    4.0    PA  business  \n",
       "20                     [Carnegie]   True            11    3.5    PA  business  \n",
       "21                     [Carnegie]  False             8    3.5    PA  business  \n",
       "22                     [Carnegie]   True             4    2.5    PA  business  \n",
       "23                     [Carnegie]   True            10    4.5    PA  business  \n",
       "24                             []   True             6    3.0    PA  business  \n",
       "25                             []   True             8    2.5    PA  business  \n",
       "26                     [Carnegie]   True            10    2.5    PA  business  \n",
       "27                             []   True             3    3.5    PA  business  \n",
       "28                             []   True            16    3.5    PA  business  \n",
       "29                             []   True             8    3.0    PA  business  \n",
       "...                           ...    ...           ...    ...   ...       ...  \n",
       "85866                          []   True             9    2.5    AZ  business  \n",
       "85867             [Spring Valley]   True            27    4.5    NV  business  \n",
       "85868                  [Westside]   True             7    5.0    NV  business  \n",
       "85869                 [The Strip]   True             6    5.0    NV  business  \n",
       "85870                          []   True            13    4.0    AZ  business  \n",
       "85871                          []   True             5    5.0    NV  business  \n",
       "85873                          []   True             6    5.0    AZ  business  \n",
       "85874                          []   True            16    4.0    AZ  business  \n",
       "85875  [Southwest, Spring Valley]   True             7    5.0    NV  business  \n",
       "85878                  [Downtown]   True             8    5.0    NV  business  \n",
       "85879                  [Dilworth]   True            32    5.0    NC  business  \n",
       "85880                          []   True            23    4.0    AZ  business  \n",
       "85881                          []   True            18    4.0    AZ  business  \n",
       "85882                          []   True             3    5.0    AZ  business  \n",
       "85883                  [Downtown]   True             4    5.0    NV  business  \n",
       "85884                          []   True             5    5.0    AZ  business  \n",
       "85885                          []   True            15    3.0    NV  business  \n",
       "85886                 [Northwest]   True            24    3.5    NV  business  \n",
       "85887                          []   True            21    2.5    AZ  business  \n",
       "85888                  [Downtown]   True             3    5.0    NV  business  \n",
       "85889                          []   True           168    3.5    AZ  business  \n",
       "85890                          []   True             4    2.0    AZ  business  \n",
       "85891                          []  False            18    2.5    AZ  business  \n",
       "85892                 [Southeast]   True             5    2.0    NV  business  \n",
       "85894                          []   True             4    5.0    AZ  business  \n",
       "85895                 [The Strip]   True             3    3.0    NV  business  \n",
       "85896                          []   True            61    4.0    NV  business  \n",
       "85897                          []   True            89    3.5    AZ  business  \n",
       "85898                          []   True             7    3.0    AZ  business  \n",
       "85900                          []   True            57    2.5    NC  business  \n",
       "\n",
       "[72145 rows x 15 columns]"
      ]
     },
     "execution_count": 755,
     "metadata": {},
     "output_type": "execute_result"
    }
   ],
   "source": [
    "business_state[(abs(business_state.latitude) < (business_state.latitude[0] + 1))]"
   ]
  },
  {
   "cell_type": "code",
   "execution_count": null,
   "metadata": {
    "ExecuteTime": {
     "start_time": "2017-01-16T22:56:14.999Z"
    },
    "collapsed": true,
    "nbpresent": {
     "id": "86065e35-84a1-4422-9262-9297c893b8ed"
    },
    "run_control": {
     "frozen": false,
     "read_only": false
    }
   },
   "outputs": [],
   "source": [
    "len(nearby)"
   ]
  },
  {
   "cell_type": "code",
   "execution_count": null,
   "metadata": {
    "collapsed": true,
    "nbpresent": {
     "id": "c958721d-dc6a-4df4-8add-71cd3672c177"
    },
    "run_control": {
     "frozen": false,
     "read_only": false
    }
   },
   "outputs": [],
   "source": [
    "import pickle\n",
    "# save the nearby dictionary as it take a long time to build\n",
    "with open('nearby_businesses_dict.pickle', 'wb') as handle:\n",
    "    pickle.dump(nearby, handle, protocol=pickle.HIGHEST_PROTOCOL)\n",
    "# To load the dictionary un-comment the following:___\n",
    "# with open('nearby_businesses_dict.pickle', 'rb') as handle:\n",
    "#     b = pickle.load(handle)"
   ]
  },
  {
   "cell_type": "code",
   "execution_count": null,
   "metadata": {
    "collapsed": true,
    "nbpresent": {
     "id": "af9dff89-7757-4094-9fb5-28accee7b4e2"
    },
    "run_control": {
     "frozen": false,
     "read_only": false
    }
   },
   "outputs": [],
   "source": []
  },
  {
   "cell_type": "code",
   "execution_count": 534,
   "metadata": {
    "ExecuteTime": {
     "end_time": "2017-01-16T14:08:06.290253",
     "start_time": "2017-01-16T14:04:21.928476"
    },
    "collapsed": false,
    "nbpresent": {
     "id": "011c8ad0-9450-41bb-b79b-85bc2efbb672"
    },
    "run_control": {
     "frozen": false,
     "read_only": false
    }
   },
   "outputs": [],
   "source": [
    "# nearby ={}\n",
    "# max_nearbies = 0\n",
    "# business_groups = business_state.groupby('state')\n",
    "# for group in business_groups:\n",
    "    \n",
    "    \n",
    "    \n",
    "# for i in range(0, len(business)):\n",
    "#     nearby[business.business_id.iloc[i]]=[]\n",
    "#     c = 0\n",
    "#     for j in range(0, len(business)):\n",
    "#         if i==j: continue\n",
    "#         distance = vincenty(tuple(business.iloc[i][['latitude','longitude']]), tuple(business.iloc[j][['latitude','longitude']])).km\n",
    "#         if distance < 30:\n",
    "#             c += 1\n",
    "#             nearby[business.business_id.iloc[i]].extend([business.business_id.iloc[j]])        \n",
    "#     if c > max_nearbies:\n",
    "#         max_nearbies = c"
   ]
  },
  {
   "cell_type": "code",
   "execution_count": null,
   "metadata": {
    "collapsed": true,
    "nbpresent": {
     "id": "ed6c67d3-39b3-4223-a9fb-4def19bf2a69"
    },
    "run_control": {
     "frozen": false,
     "read_only": false
    }
   },
   "outputs": [],
   "source": []
  },
  {
   "cell_type": "code",
   "execution_count": null,
   "metadata": {
    "collapsed": true,
    "nbpresent": {
     "id": "6e27fe5f-44cc-41aa-9122-fdf57f560b67"
    },
    "run_control": {
     "frozen": false,
     "read_only": false
    }
   },
   "outputs": [],
   "source": []
  },
  {
   "cell_type": "code",
   "execution_count": null,
   "metadata": {
    "collapsed": true,
    "nbpresent": {
     "id": "49ec5ae5-aa4b-4462-8003-b49dde3ccc17"
    },
    "run_control": {
     "frozen": false,
     "read_only": false
    }
   },
   "outputs": [],
   "source": []
  },
  {
   "cell_type": "code",
   "execution_count": null,
   "metadata": {
    "collapsed": true,
    "nbpresent": {
     "id": "e0452aa1-48de-4080-bcb7-27848c159b88"
    },
    "run_control": {
     "frozen": false,
     "read_only": false
    }
   },
   "outputs": [],
   "source": []
  },
  {
   "cell_type": "code",
   "execution_count": null,
   "metadata": {
    "collapsed": true,
    "nbpresent": {
     "id": "e395b5c6-7a74-4853-a039-22b430d795ff"
    },
    "run_control": {
     "frozen": false,
     "read_only": false
    }
   },
   "outputs": [],
   "source": []
  },
  {
   "cell_type": "code",
   "execution_count": null,
   "metadata": {
    "collapsed": true,
    "nbpresent": {
     "id": "505bc7e2-04ee-468e-bcfe-64893c53247b"
    },
    "run_control": {
     "frozen": false,
     "read_only": false
    }
   },
   "outputs": [],
   "source": []
  },
  {
   "cell_type": "code",
   "execution_count": null,
   "metadata": {
    "collapsed": true,
    "nbpresent": {
     "id": "cc36359e-00fa-4831-8808-169e108cd21f"
    },
    "run_control": {
     "frozen": false,
     "read_only": false
    }
   },
   "outputs": [],
   "source": []
  },
  {
   "cell_type": "code",
   "execution_count": null,
   "metadata": {
    "collapsed": true,
    "nbpresent": {
     "id": "031a68b7-7734-41a0-aacb-162e948019aa"
    },
    "run_control": {
     "frozen": false,
     "read_only": false
    }
   },
   "outputs": [],
   "source": []
  },
  {
   "cell_type": "code",
   "execution_count": null,
   "metadata": {
    "collapsed": true,
    "nbpresent": {
     "id": "6d00d214-e08d-4ae2-a34f-0b491192fa6b"
    },
    "run_control": {
     "frozen": false,
     "read_only": false
    }
   },
   "outputs": [],
   "source": []
  },
  {
   "cell_type": "code",
   "execution_count": 170,
   "metadata": {
    "ExecuteTime": {
     "end_time": "2017-01-17T03:58:24.816850",
     "start_time": "2017-01-17T03:58:24.811826"
    },
    "collapsed": false,
    "nbpresent": {
     "id": "3f4d13a9-1646-4049-b96c-b4c336565e4a"
    },
    "run_control": {
     "frozen": false,
     "read_only": false
    }
   },
   "outputs": [
    {
     "data": {
      "text/plain": [
       "'0.19.2'"
      ]
     },
     "execution_count": 170,
     "metadata": {},
     "output_type": "execute_result"
    }
   ],
   "source": [
    "pd.__version__"
   ]
  },
  {
   "cell_type": "code",
   "execution_count": null,
   "metadata": {
    "collapsed": true,
    "nbpresent": {
     "id": "2236c6cc-08e4-4faf-a79f-0ab40ffa1036"
    },
    "run_control": {
     "frozen": false,
     "read_only": false
    }
   },
   "outputs": [],
   "source": []
  }
 ],
 "metadata": {
  "anaconda-cloud": {},
  "celltoolbar": "Raw Cell Format",
  "kernelspec": {
   "display_name": "Python [conda root]",
   "language": "python",
   "name": "conda-root-py"
  },
  "language_info": {
   "codemirror_mode": {
    "name": "ipython",
    "version": 3
   },
   "file_extension": ".py",
   "mimetype": "text/x-python",
   "name": "python",
   "nbconvert_exporter": "python",
   "pygments_lexer": "ipython3",
   "version": "3.5.2"
  },
  "nbpresent": {
   "slides": {
    "44a7b797-e8ec-4ff1-a241-09b680ce442c": {
     "id": "44a7b797-e8ec-4ff1-a241-09b680ce442c",
     "prev": null,
     "regions": {
      "942895c2-5d21-478b-915f-532c3df32b70": {
       "attrs": {
        "height": 0.8,
        "width": 0.45,
        "x": 0.5,
        "y": 0.1
       },
       "id": "942895c2-5d21-478b-915f-532c3df32b70"
      },
      "d705ec05-9a89-40a4-84a3-429e28e36ce4": {
       "attrs": {
        "height": 0.8,
        "width": 0.45,
        "x": 0.05,
        "y": 0.1
       },
       "id": "d705ec05-9a89-40a4-84a3-429e28e36ce4"
      }
     }
    }
   },
   "themes": {}
  },
  "toc": {
   "colors": {
    "hover_highlight": "#DAA520",
    "running_highlight": "#FF0000",
    "selected_highlight": "#FFD700"
   },
   "moveMenuLeft": true,
   "nav_menu": {
    "height": "177px",
    "width": "252px"
   },
   "navigate_menu": true,
   "number_sections": true,
   "sideBar": false,
   "threshold": 4,
   "toc_cell": false,
   "toc_position": {
    "height": "333px",
    "left": "658px",
    "right": "278px",
    "top": "237px",
    "width": "600px"
   },
   "toc_section_display": "block",
   "toc_window_display": false
  }
 },
 "nbformat": 4,
 "nbformat_minor": 1
}
