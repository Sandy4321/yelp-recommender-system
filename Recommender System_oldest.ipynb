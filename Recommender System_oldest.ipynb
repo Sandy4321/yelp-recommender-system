{
 "cells": [
  {
   "cell_type": "code",
   "execution_count": 1,
   "metadata": {
    "ExecuteTime": {
     "end_time": "2017-01-17T00:27:25.588530",
     "start_time": "2017-01-17T00:27:25.576499"
    },
    "collapsed": false,
    "run_control": {
     "frozen": false,
     "read_only": false
    }
   },
   "outputs": [
    {
     "data": {
      "text/html": [
       "<style>/*@font-face {\n",
       "\tfont-family: \"Computer Modern\";\n",
       "\tsrc: url('http://9dbb143991406a7c655e-aa5fcb0a5a4ec34cff238a2d56ca4144.r56.cf5.rackcdn.com/cmunss.otf');\n",
       "}\n",
       "@font-face {\n",
       "\tfont-family: \"Computer Modern\";\n",
       "\tfont-weight: bold;\n",
       "\tsrc: url('http://9dbb143991406a7c655e-aa5fcb0a5a4ec34cff238a2d56ca4144.r56.cf5.rackcdn.com/cmunsx.otf');\n",
       "}\n",
       "@font-face {\n",
       "\tfont-family: \"Computer Modern\";\n",
       "\tfont-style: oblique;\n",
       "\tsrc: url('http://9dbb143991406a7c655e-aa5fcb0a5a4ec34cff238a2d56ca4144.r56.cf5.rackcdn.com/cmunsi.otf');\n",
       "}\n",
       "@font-face {\n",
       "\tfont-family: \"Computer Modern\";\n",
       "\tfont-weight: bold;\n",
       "\tfont-style: oblique;\n",
       "\tsrc: url('http://9dbb143991406a7c655e-aa5fcb0a5a4ec34cff238a2d56ca4144.r56.cf5.rackcdn.com/cmunso.otf');\n",
       "}*/\n",
       "\n",
       ".navbar-brand, .current_kernel_logo {display:none}\n",
       ".container {\n",
       "    width:80%;    \n",
       "}\n",
       "\n",
       "h1 {\n",
       "\tfont-family: Helvetica, serif;\n",
       "}\n",
       "h4{\n",
       "\tmargin-top:12px;\n",
       "\tmargin-bottom: 3px;\n",
       "   }\n",
       "div.text_cell_render{\n",
       "\tfont-family: Computer Modern, \"Helvetica Neue\", Arial, Helvetica, Geneva, sans-serif;\n",
       "\tline-height: 145%;\n",
       "\tfont-size: 100%;\n",
       "\twidth:100%;\n",
       "\tmargin-left:auto;\n",
       "\tmargin-right:auto;\n",
       "}\n",
       ".CodeMirror{\n",
       "\t\tfont-family: \"Source Code Pro\", source-code-pro,Consolas, monospace;\n",
       "}\n",
       "/*.prompt{\n",
       "\tdisplay: None;\n",
       "}*/\n",
       ".text_cell_render h5 {\n",
       "\tfont-weight: 300;\n",
       "\tfont-size: 22pt;\n",
       "\t/*color: #4057A1;*/\n",
       "\tfont-style: italic;\n",
       "\tmargin-bottom: .5em;\n",
       "\tmargin-top: 0.5em;\n",
       "\tdisplay: block;\n",
       "}\n",
       "\n",
       ".warning{\n",
       "\tcolor: rgb( 240, 20, 20 )\n",
       "\t}   \n",
       "\n",
       "div.spoiler {\n",
       "\tdisplay: none;\n",
       "}\n",
       "\n",
       ".rendered_html code {\n",
       "\tborder: 0;\n",
       "\t/*background-color: #eee;*/\n",
       "\tfont-size: 100%;\n",
       "\tpadding: 1px 2px;\n",
       "}\n",
       "</style>"
      ],
      "text/plain": [
       "<IPython.core.display.HTML object>"
      ]
     },
     "execution_count": 1,
     "metadata": {},
     "output_type": "execute_result"
    }
   ],
   "source": [
    "from utils import css_from_file\n",
    "css_from_file('style/style.css')"
   ]
  },
  {
   "cell_type": "markdown",
   "metadata": {
    "run_control": {
     "frozen": false,
     "read_only": false
    }
   },
   "source": [
    "# Using Pandas read_json function:"
   ]
  },
  {
   "cell_type": "code",
   "execution_count": 91,
   "metadata": {
    "ExecuteTime": {
     "end_time": "2017-01-17T02:01:14.185878",
     "start_time": "2017-01-17T02:01:14.182347"
    },
    "collapsed": true,
    "run_control": {
     "frozen": false,
     "read_only": false
    }
   },
   "outputs": [],
   "source": [
    "import pandas as pd\n",
    "import numpy as np"
   ]
  },
  {
   "cell_type": "code",
   "execution_count": 3,
   "metadata": {
    "ExecuteTime": {
     "end_time": "2017-01-17T00:27:38.125220",
     "start_time": "2017-01-17T00:27:32.054098"
    },
    "collapsed": false,
    "run_control": {
     "frozen": false,
     "read_only": false
    }
   },
   "outputs": [],
   "source": [
    "with open('yelp_dataset/yelp_academic_dataset_tip.json') as file:\n",
    "        tip = pd.read_json(file, lines = True)"
   ]
  },
  {
   "cell_type": "code",
   "execution_count": 4,
   "metadata": {
    "ExecuteTime": {
     "end_time": "2017-01-17T00:28:56.251320",
     "start_time": "2017-01-17T00:27:38.126724"
    },
    "collapsed": false,
    "run_control": {
     "frozen": false,
     "read_only": false
    }
   },
   "outputs": [],
   "source": [
    "with open('yelp_dataset/yelp_academic_dataset_review.json') as file:\n",
    "        review = pd.read_json(file, lines = True)"
   ]
  },
  {
   "cell_type": "code",
   "execution_count": 5,
   "metadata": {
    "ExecuteTime": {
     "end_time": "2017-01-17T00:28:59.987454",
     "start_time": "2017-01-17T00:28:56.253326"
    },
    "collapsed": false,
    "run_control": {
     "frozen": false,
     "read_only": false
    }
   },
   "outputs": [],
   "source": [
    "with open('yelp_dataset/yelp_academic_dataset_business.json') as file:\n",
    "        business = pd.read_json(file, lines = True)"
   ]
  },
  {
   "cell_type": "code",
   "execution_count": null,
   "metadata": {
    "ExecuteTime": {
     "start_time": "2017-01-16T23:16:04.552Z"
    },
    "collapsed": false,
    "run_control": {
     "frozen": false,
     "read_only": false
    }
   },
   "outputs": [],
   "source": [
    "with open('yelp_dataset/yelp_academic_dataset_checkin.json') as file:\n",
    "        checkin = pd.read_json(file, lines = True)"
   ]
  },
  {
   "cell_type": "code",
   "execution_count": 6,
   "metadata": {
    "ExecuteTime": {
     "end_time": "2017-01-17T00:29:17.165439",
     "start_time": "2017-01-17T00:28:59.989472"
    },
    "collapsed": false,
    "run_control": {
     "frozen": false,
     "read_only": false
    }
   },
   "outputs": [],
   "source": [
    "with open('yelp_dataset/yelp_academic_dataset_user.json') as file:\n",
    "        user = pd.read_json(file, lines = True)"
   ]
  },
  {
   "cell_type": "code",
   "execution_count": 8,
   "metadata": {
    "ExecuteTime": {
     "end_time": "2017-01-14T15:05:20.060687",
     "start_time": "2017-01-14T15:05:20.056695"
    },
    "collapsed": true,
    "run_control": {
     "frozen": false,
     "read_only": false
    }
   },
   "outputs": [],
   "source": [
    "# dfs = ['tip', 'review', 'business', 'checkin', 'user']"
   ]
  },
  {
   "cell_type": "markdown",
   "metadata": {
    "run_control": {
     "frozen": false,
     "read_only": false
    }
   },
   "source": [
    "tip:  ['business_id' 'date' 'likes' 'text' 'type' 'user_id']\n",
    "review:  ['business_id' 'date' 'review_id' 'stars' 'text' 'type' 'user_id' 'votes']\n",
    "business:  ['attributes' 'business_id' 'categories' 'city' 'full_address' 'hours'\n",
    " 'latitude' 'longitude' 'name' 'neighborhoods' 'open' 'review_count'\n",
    " 'stars' 'state' 'type']\n",
    "checkin:  ['business_id' 'checkin_info' 'type']\n",
    "user:  ['average_stars' 'compliments' 'elite' 'fans' 'friends' 'name'\n",
    " 'review_count' 'type' 'user_id' 'votes' 'yelping_since']"
   ]
  },
  {
   "cell_type": "code",
   "execution_count": 428,
   "metadata": {
    "ExecuteTime": {
     "end_time": "2017-01-16T12:40:32.374737",
     "start_time": "2017-01-16T12:40:32.370726"
    },
    "collapsed": false,
    "run_control": {
     "frozen": false,
     "read_only": false
    }
   },
   "outputs": [],
   "source": [
    "a = business.groupby(business.city)"
   ]
  },
  {
   "cell_type": "code",
   "execution_count": 433,
   "metadata": {
    "ExecuteTime": {
     "end_time": "2017-01-16T12:42:02.405583",
     "start_time": "2017-01-16T12:42:02.379510"
    },
    "collapsed": false,
    "run_control": {
     "frozen": false,
     "read_only": false
    }
   },
   "outputs": [
    {
     "data": {
      "text/html": [
       "<div>\n",
       "<table border=\"1\" class=\"dataframe\">\n",
       "  <thead>\n",
       "    <tr style=\"text-align: right;\">\n",
       "      <th></th>\n",
       "      <th>city</th>\n",
       "      <th>avg_stars</th>\n",
       "      <th>count</th>\n",
       "    </tr>\n",
       "  </thead>\n",
       "  <tbody>\n",
       "    <tr>\n",
       "      <th>0</th>\n",
       "      <td></td>\n",
       "      <td>4.500000</td>\n",
       "      <td>2</td>\n",
       "    </tr>\n",
       "    <tr>\n",
       "      <th>1</th>\n",
       "      <td>110 Las Vegas</td>\n",
       "      <td>5.000000</td>\n",
       "      <td>1</td>\n",
       "    </tr>\n",
       "    <tr>\n",
       "      <th>2</th>\n",
       "      <td>Ahwahtukee</td>\n",
       "      <td>5.000000</td>\n",
       "      <td>1</td>\n",
       "    </tr>\n",
       "    <tr>\n",
       "      <th>3</th>\n",
       "      <td>Ahwatukee</td>\n",
       "      <td>3.750000</td>\n",
       "      <td>12</td>\n",
       "    </tr>\n",
       "    <tr>\n",
       "      <th>4</th>\n",
       "      <td>Ahwatukee Foothills Village</td>\n",
       "      <td>5.000000</td>\n",
       "      <td>1</td>\n",
       "    </tr>\n",
       "    <tr>\n",
       "      <th>5</th>\n",
       "      <td>Allegheny</td>\n",
       "      <td>5.000000</td>\n",
       "      <td>1</td>\n",
       "    </tr>\n",
       "    <tr>\n",
       "      <th>6</th>\n",
       "      <td>Allentown</td>\n",
       "      <td>3.500000</td>\n",
       "      <td>2</td>\n",
       "    </tr>\n",
       "    <tr>\n",
       "      <th>7</th>\n",
       "      <td>Anjou</td>\n",
       "      <td>3.318182</td>\n",
       "      <td>11</td>\n",
       "    </tr>\n",
       "    <tr>\n",
       "      <th>8</th>\n",
       "      <td>Anthem</td>\n",
       "      <td>3.696296</td>\n",
       "      <td>135</td>\n",
       "    </tr>\n",
       "    <tr>\n",
       "      <th>9</th>\n",
       "      <td>Apache Junction</td>\n",
       "      <td>3.596774</td>\n",
       "      <td>186</td>\n",
       "    </tr>\n",
       "    <tr>\n",
       "      <th>10</th>\n",
       "      <td>Arlington</td>\n",
       "      <td>3.750000</td>\n",
       "      <td>2</td>\n",
       "    </tr>\n",
       "    <tr>\n",
       "      <th>11</th>\n",
       "      <td>Arlington Heights</td>\n",
       "      <td>4.500000</td>\n",
       "      <td>1</td>\n",
       "    </tr>\n",
       "    <tr>\n",
       "      <th>12</th>\n",
       "      <td>Asheville</td>\n",
       "      <td>4.500000</td>\n",
       "      <td>1</td>\n",
       "    </tr>\n",
       "    <tr>\n",
       "      <th>13</th>\n",
       "      <td>Aspinwall</td>\n",
       "      <td>3.916667</td>\n",
       "      <td>12</td>\n",
       "    </tr>\n",
       "    <tr>\n",
       "      <th>14</th>\n",
       "      <td>Avalon</td>\n",
       "      <td>3.500000</td>\n",
       "      <td>4</td>\n",
       "    </tr>\n",
       "    <tr>\n",
       "      <th>15</th>\n",
       "      <td>Avondale</td>\n",
       "      <td>3.532787</td>\n",
       "      <td>427</td>\n",
       "    </tr>\n",
       "    <tr>\n",
       "      <th>16</th>\n",
       "      <td>Baie-D'urfe</td>\n",
       "      <td>3.500000</td>\n",
       "      <td>1</td>\n",
       "    </tr>\n",
       "    <tr>\n",
       "      <th>17</th>\n",
       "      <td>Balerno</td>\n",
       "      <td>2.000000</td>\n",
       "      <td>1</td>\n",
       "    </tr>\n",
       "    <tr>\n",
       "      <th>18</th>\n",
       "      <td>Banksville</td>\n",
       "      <td>3.000000</td>\n",
       "      <td>1</td>\n",
       "    </tr>\n",
       "    <tr>\n",
       "      <th>19</th>\n",
       "      <td>Beaconsfield</td>\n",
       "      <td>4.200000</td>\n",
       "      <td>5</td>\n",
       "    </tr>\n",
       "    <tr>\n",
       "      <th>20</th>\n",
       "      <td>Bellevue</td>\n",
       "      <td>3.833333</td>\n",
       "      <td>24</td>\n",
       "    </tr>\n",
       "    <tr>\n",
       "      <th>21</th>\n",
       "      <td>Bellvue</td>\n",
       "      <td>3.833333</td>\n",
       "      <td>3</td>\n",
       "    </tr>\n",
       "    <tr>\n",
       "      <th>22</th>\n",
       "      <td>Belmont</td>\n",
       "      <td>3.759036</td>\n",
       "      <td>83</td>\n",
       "    </tr>\n",
       "    <tr>\n",
       "      <th>23</th>\n",
       "      <td>Bethel Park</td>\n",
       "      <td>2.666667</td>\n",
       "      <td>3</td>\n",
       "    </tr>\n",
       "    <tr>\n",
       "      <th>24</th>\n",
       "      <td>Bietigheim</td>\n",
       "      <td>3.625000</td>\n",
       "      <td>4</td>\n",
       "    </tr>\n",
       "    <tr>\n",
       "      <th>25</th>\n",
       "      <td>Black Canyon City</td>\n",
       "      <td>3.333333</td>\n",
       "      <td>3</td>\n",
       "    </tr>\n",
       "    <tr>\n",
       "      <th>26</th>\n",
       "      <td>Blainville</td>\n",
       "      <td>3.750000</td>\n",
       "      <td>2</td>\n",
       "    </tr>\n",
       "    <tr>\n",
       "      <th>27</th>\n",
       "      <td>Blawnox</td>\n",
       "      <td>4.250000</td>\n",
       "      <td>2</td>\n",
       "    </tr>\n",
       "    <tr>\n",
       "      <th>28</th>\n",
       "      <td>Bloomfield</td>\n",
       "      <td>4.000000</td>\n",
       "      <td>1</td>\n",
       "    </tr>\n",
       "    <tr>\n",
       "      <th>29</th>\n",
       "      <td>Blue Diamond</td>\n",
       "      <td>4.500000</td>\n",
       "      <td>1</td>\n",
       "    </tr>\n",
       "    <tr>\n",
       "      <th>...</th>\n",
       "      <td>...</td>\n",
       "      <td>...</td>\n",
       "      <td>...</td>\n",
       "    </tr>\n",
       "    <tr>\n",
       "      <th>414</th>\n",
       "      <td>W Summerlin</td>\n",
       "      <td>3.000000</td>\n",
       "      <td>1</td>\n",
       "    </tr>\n",
       "    <tr>\n",
       "      <th>415</th>\n",
       "      <td>Waddell</td>\n",
       "      <td>3.375000</td>\n",
       "      <td>8</td>\n",
       "    </tr>\n",
       "    <tr>\n",
       "      <th>416</th>\n",
       "      <td>Waldbronn</td>\n",
       "      <td>4.166667</td>\n",
       "      <td>9</td>\n",
       "    </tr>\n",
       "    <tr>\n",
       "      <th>417</th>\n",
       "      <td>Water of Leith</td>\n",
       "      <td>4.500000</td>\n",
       "      <td>1</td>\n",
       "    </tr>\n",
       "    <tr>\n",
       "      <th>418</th>\n",
       "      <td>Waterloo</td>\n",
       "      <td>3.496633</td>\n",
       "      <td>297</td>\n",
       "    </tr>\n",
       "    <tr>\n",
       "      <th>419</th>\n",
       "      <td>Waunakee</td>\n",
       "      <td>3.597561</td>\n",
       "      <td>41</td>\n",
       "    </tr>\n",
       "    <tr>\n",
       "      <th>420</th>\n",
       "      <td>Waxhaw</td>\n",
       "      <td>4.000000</td>\n",
       "      <td>5</td>\n",
       "    </tr>\n",
       "    <tr>\n",
       "      <th>421</th>\n",
       "      <td>Weddington</td>\n",
       "      <td>4.500000</td>\n",
       "      <td>4</td>\n",
       "    </tr>\n",
       "    <tr>\n",
       "      <th>422</th>\n",
       "      <td>Weingarten</td>\n",
       "      <td>4.090909</td>\n",
       "      <td>11</td>\n",
       "    </tr>\n",
       "    <tr>\n",
       "      <th>423</th>\n",
       "      <td>Weingarten (Baden)</td>\n",
       "      <td>4.166667</td>\n",
       "      <td>3</td>\n",
       "    </tr>\n",
       "    <tr>\n",
       "      <th>424</th>\n",
       "      <td>Wesley Chapel</td>\n",
       "      <td>3.625000</td>\n",
       "      <td>8</td>\n",
       "    </tr>\n",
       "    <tr>\n",
       "      <th>425</th>\n",
       "      <td>West Homestead</td>\n",
       "      <td>3.458333</td>\n",
       "      <td>12</td>\n",
       "    </tr>\n",
       "    <tr>\n",
       "      <th>426</th>\n",
       "      <td>West Las Vegas</td>\n",
       "      <td>2.500000</td>\n",
       "      <td>1</td>\n",
       "    </tr>\n",
       "    <tr>\n",
       "      <th>427</th>\n",
       "      <td>West Mifflin</td>\n",
       "      <td>3.666667</td>\n",
       "      <td>36</td>\n",
       "    </tr>\n",
       "    <tr>\n",
       "      <th>428</th>\n",
       "      <td>Westmount</td>\n",
       "      <td>3.745763</td>\n",
       "      <td>59</td>\n",
       "    </tr>\n",
       "    <tr>\n",
       "      <th>429</th>\n",
       "      <td>Westworld Scottsdale</td>\n",
       "      <td>3.000000</td>\n",
       "      <td>1</td>\n",
       "    </tr>\n",
       "    <tr>\n",
       "      <th>430</th>\n",
       "      <td>Whitehall</td>\n",
       "      <td>3.000000</td>\n",
       "      <td>1</td>\n",
       "    </tr>\n",
       "    <tr>\n",
       "      <th>431</th>\n",
       "      <td>Whitney</td>\n",
       "      <td>4.500000</td>\n",
       "      <td>1</td>\n",
       "    </tr>\n",
       "    <tr>\n",
       "      <th>432</th>\n",
       "      <td>Wickenburg</td>\n",
       "      <td>3.794872</td>\n",
       "      <td>78</td>\n",
       "    </tr>\n",
       "    <tr>\n",
       "      <th>433</th>\n",
       "      <td>Wilkinsburg</td>\n",
       "      <td>3.444444</td>\n",
       "      <td>9</td>\n",
       "    </tr>\n",
       "    <tr>\n",
       "      <th>434</th>\n",
       "      <td>Windsor</td>\n",
       "      <td>3.400000</td>\n",
       "      <td>10</td>\n",
       "    </tr>\n",
       "    <tr>\n",
       "      <th>435</th>\n",
       "      <td>Wittmann</td>\n",
       "      <td>3.500000</td>\n",
       "      <td>1</td>\n",
       "    </tr>\n",
       "    <tr>\n",
       "      <th>436</th>\n",
       "      <td>Wörth</td>\n",
       "      <td>4.000000</td>\n",
       "      <td>1</td>\n",
       "    </tr>\n",
       "    <tr>\n",
       "      <th>437</th>\n",
       "      <td>Wörth am Rhein</td>\n",
       "      <td>4.062500</td>\n",
       "      <td>8</td>\n",
       "    </tr>\n",
       "    <tr>\n",
       "      <th>438</th>\n",
       "      <td>Youngtown</td>\n",
       "      <td>4.000000</td>\n",
       "      <td>30</td>\n",
       "    </tr>\n",
       "    <tr>\n",
       "      <th>439</th>\n",
       "      <td>glendale</td>\n",
       "      <td>4.333333</td>\n",
       "      <td>3</td>\n",
       "    </tr>\n",
       "    <tr>\n",
       "      <th>440</th>\n",
       "      <td>phoenix</td>\n",
       "      <td>3.875000</td>\n",
       "      <td>4</td>\n",
       "    </tr>\n",
       "    <tr>\n",
       "      <th>441</th>\n",
       "      <td>pleasant hills</td>\n",
       "      <td>2.000000</td>\n",
       "      <td>1</td>\n",
       "    </tr>\n",
       "    <tr>\n",
       "      <th>442</th>\n",
       "      <td>scottsdale</td>\n",
       "      <td>4.666667</td>\n",
       "      <td>3</td>\n",
       "    </tr>\n",
       "    <tr>\n",
       "      <th>443</th>\n",
       "      <td>Île des Soeurs</td>\n",
       "      <td>4.000000</td>\n",
       "      <td>1</td>\n",
       "    </tr>\n",
       "  </tbody>\n",
       "</table>\n",
       "<p>444 rows × 3 columns</p>\n",
       "</div>"
      ],
      "text/plain": [
       "                            city  avg_stars  count\n",
       "0                                  4.500000      2\n",
       "1                  110 Las Vegas   5.000000      1\n",
       "2                     Ahwahtukee   5.000000      1\n",
       "3                      Ahwatukee   3.750000     12\n",
       "4    Ahwatukee Foothills Village   5.000000      1\n",
       "5                      Allegheny   5.000000      1\n",
       "6                      Allentown   3.500000      2\n",
       "7                          Anjou   3.318182     11\n",
       "8                         Anthem   3.696296    135\n",
       "9                Apache Junction   3.596774    186\n",
       "10                     Arlington   3.750000      2\n",
       "11             Arlington Heights   4.500000      1\n",
       "12                     Asheville   4.500000      1\n",
       "13                     Aspinwall   3.916667     12\n",
       "14                        Avalon   3.500000      4\n",
       "15                      Avondale   3.532787    427\n",
       "16                   Baie-D'urfe   3.500000      1\n",
       "17                       Balerno   2.000000      1\n",
       "18                    Banksville   3.000000      1\n",
       "19                  Beaconsfield   4.200000      5\n",
       "20                      Bellevue   3.833333     24\n",
       "21                       Bellvue   3.833333      3\n",
       "22                       Belmont   3.759036     83\n",
       "23                   Bethel Park   2.666667      3\n",
       "24                    Bietigheim   3.625000      4\n",
       "25             Black Canyon City   3.333333      3\n",
       "26                    Blainville   3.750000      2\n",
       "27                       Blawnox   4.250000      2\n",
       "28                    Bloomfield   4.000000      1\n",
       "29                  Blue Diamond   4.500000      1\n",
       "..                           ...        ...    ...\n",
       "414                  W Summerlin   3.000000      1\n",
       "415                      Waddell   3.375000      8\n",
       "416                    Waldbronn   4.166667      9\n",
       "417               Water of Leith   4.500000      1\n",
       "418                     Waterloo   3.496633    297\n",
       "419                     Waunakee   3.597561     41\n",
       "420                       Waxhaw   4.000000      5\n",
       "421                   Weddington   4.500000      4\n",
       "422                   Weingarten   4.090909     11\n",
       "423           Weingarten (Baden)   4.166667      3\n",
       "424                Wesley Chapel   3.625000      8\n",
       "425               West Homestead   3.458333     12\n",
       "426               West Las Vegas   2.500000      1\n",
       "427                 West Mifflin   3.666667     36\n",
       "428                    Westmount   3.745763     59\n",
       "429         Westworld Scottsdale   3.000000      1\n",
       "430                    Whitehall   3.000000      1\n",
       "431                      Whitney   4.500000      1\n",
       "432                   Wickenburg   3.794872     78\n",
       "433                  Wilkinsburg   3.444444      9\n",
       "434                      Windsor   3.400000     10\n",
       "435                     Wittmann   3.500000      1\n",
       "436                        Wörth   4.000000      1\n",
       "437               Wörth am Rhein   4.062500      8\n",
       "438                    Youngtown   4.000000     30\n",
       "439                     glendale   4.333333      3\n",
       "440                      phoenix   3.875000      4\n",
       "441               pleasant hills   2.000000      1\n",
       "442                   scottsdale   4.666667      3\n",
       "443               Île des Soeurs   4.000000      1\n",
       "\n",
       "[444 rows x 3 columns]"
      ]
     },
     "execution_count": 433,
     "metadata": {},
     "output_type": "execute_result"
    }
   ],
   "source": [
    "pd.DataFrame({'count':a.size(), 'avg_stars': a.stars.mean()}).reset_index()"
   ]
  },
  {
   "cell_type": "markdown",
   "metadata": {
    "ExecuteTime": {
     "end_time": "2017-01-16T10:51:16.522572",
     "start_time": "2017-01-16T10:51:16.519063"
    },
    "run_control": {
     "frozen": false,
     "read_only": false
    }
   },
   "source": [
    "# Building a recommender system\n",
    "First, get the relevant data: user-business stars... create matrices Y, R\n",
    "\n",
    "** Y ** that contains #business as rows, #user as columns, values = stars\n",
    "\n",
    "** R ** same size as Y, values = 1 if a user has rated a business **\n",
    "\n"
   ]
  },
  {
   "cell_type": "markdown",
   "metadata": {
    "ExecuteTime": {
     "end_time": "2017-01-16T11:37:05.223228",
     "start_time": "2017-01-16T11:37:05.219214"
    },
    "collapsed": true,
    "run_control": {
     "frozen": false,
     "read_only": false
    }
   },
   "source": [
    "## Need to determine businesses and users to include in the model"
   ]
  },
  {
   "cell_type": "code",
   "execution_count": 379,
   "metadata": {
    "ExecuteTime": {
     "end_time": "2017-01-16T11:39:58.705448",
     "start_time": "2017-01-16T11:39:58.513939"
    },
    "collapsed": false,
    "run_control": {
     "frozen": false,
     "read_only": false
    }
   },
   "outputs": [
    {
     "data": {
      "text/plain": [
       "85539"
      ]
     },
     "execution_count": 379,
     "metadata": {},
     "output_type": "execute_result"
    }
   ],
   "source": [
    "len(review.business_id.unique())"
   ]
  },
  {
   "cell_type": "code",
   "execution_count": 380,
   "metadata": {
    "ExecuteTime": {
     "end_time": "2017-01-16T11:40:10.092606",
     "start_time": "2017-01-16T11:40:09.416791"
    },
    "collapsed": false,
    "run_control": {
     "frozen": false,
     "read_only": false
    }
   },
   "outputs": [
    {
     "data": {
      "text/plain": [
       "686556"
      ]
     },
     "execution_count": 380,
     "metadata": {},
     "output_type": "execute_result"
    }
   ],
   "source": [
    "len(review.user_id.unique())"
   ]
  },
  {
   "cell_type": "code",
   "execution_count": 382,
   "metadata": {
    "ExecuteTime": {
     "end_time": "2017-01-16T11:42:09.928295",
     "start_time": "2017-01-16T11:42:09.918771"
    },
    "collapsed": false,
    "run_control": {
     "frozen": false,
     "read_only": false
    }
   },
   "outputs": [
    {
     "ename": "MemoryError",
     "evalue": "",
     "output_type": "error",
     "traceback": [
      "\u001b[0;31m---------------------------------------------------------------------------\u001b[0m",
      "\u001b[0;31mMemoryError\u001b[0m                               Traceback (most recent call last)",
      "\u001b[0;32m<ipython-input-382-3fcaf8d80604>\u001b[0m in \u001b[0;36m<module>\u001b[0;34m()\u001b[0m\n\u001b[0;32m----> 1\u001b[0;31m \u001b[0mnp\u001b[0m\u001b[1;33m.\u001b[0m\u001b[0mzeros\u001b[0m\u001b[1;33m(\u001b[0m\u001b[1;33m[\u001b[0m\u001b[1;36m85539\u001b[0m\u001b[1;33m,\u001b[0m\u001b[1;36m686556\u001b[0m\u001b[1;33m]\u001b[0m\u001b[1;33m)\u001b[0m\u001b[1;33m\u001b[0m\u001b[0m\n\u001b[0m",
      "\u001b[0;31mMemoryError\u001b[0m: "
     ]
    }
   ],
   "source": [
    "np.zeros([85539,686556])"
   ]
  },
  {
   "cell_type": "markdown",
   "metadata": {
    "ExecuteTime": {
     "end_time": "2017-01-16T11:47:59.941636",
     "start_time": "2017-01-16T11:47:59.938127"
    },
    "collapsed": true,
    "run_control": {
     "frozen": false,
     "read_only": false
    }
   },
   "source": [
    "## city-based grouping and recommendation"
   ]
  },
  {
   "cell_type": "code",
   "execution_count": 8,
   "metadata": {
    "ExecuteTime": {
     "end_time": "2017-01-17T00:41:32.750951",
     "start_time": "2017-01-17T00:41:30.569247"
    },
    "collapsed": false,
    "run_control": {
     "frozen": false,
     "read_only": false
    }
   },
   "outputs": [],
   "source": [
    "rev_biz = review.merge(business, right_on='business_id', left_on='business_id')"
   ]
  },
  {
   "cell_type": "code",
   "execution_count": 9,
   "metadata": {
    "ExecuteTime": {
     "end_time": "2017-01-17T00:41:33.791759",
     "start_time": "2017-01-17T00:41:33.784239"
    },
    "collapsed": false,
    "run_control": {
     "frozen": false,
     "read_only": false
    },
    "scrolled": true
   },
   "outputs": [
    {
     "data": {
      "text/plain": [
       "Index(['business_id', 'date', 'review_id', 'stars_x', 'text', 'type_x',\n",
       "       'user_id', 'votes', 'attributes', 'categories', 'city', 'full_address',\n",
       "       'hours', 'latitude', 'longitude', 'name', 'neighborhoods', 'open',\n",
       "       'review_count', 'stars_y', 'state', 'type_y'],\n",
       "      dtype='object')"
      ]
     },
     "execution_count": 9,
     "metadata": {},
     "output_type": "execute_result"
    }
   ],
   "source": [
    "rev_biz.columns"
   ]
  },
  {
   "cell_type": "code",
   "execution_count": 10,
   "metadata": {
    "ExecuteTime": {
     "end_time": "2017-01-17T00:41:34.785255",
     "start_time": "2017-01-17T00:41:34.779753"
    },
    "collapsed": false,
    "run_control": {
     "frozen": false,
     "read_only": false
    }
   },
   "outputs": [
    {
     "data": {
      "text/plain": [
       "(2685066, 22)"
      ]
     },
     "execution_count": 10,
     "metadata": {},
     "output_type": "execute_result"
    }
   ],
   "source": [
    "rev_biz.shape"
   ]
  },
  {
   "cell_type": "code",
   "execution_count": 11,
   "metadata": {
    "ExecuteTime": {
     "end_time": "2017-01-17T00:41:46.767857",
     "start_time": "2017-01-17T00:41:38.392776"
    },
    "collapsed": false,
    "run_control": {
     "frozen": false,
     "read_only": false
    }
   },
   "outputs": [],
   "source": [
    "rev_biz_usr = rev_biz.merge(user, left_on = 'user_id', right_on='user_id')"
   ]
  },
  {
   "cell_type": "code",
   "execution_count": 12,
   "metadata": {
    "ExecuteTime": {
     "end_time": "2017-01-17T00:41:50.344020",
     "start_time": "2017-01-17T00:41:50.339008"
    },
    "collapsed": false,
    "run_control": {
     "frozen": false,
     "read_only": false
    }
   },
   "outputs": [
    {
     "data": {
      "text/plain": [
       "(2685066, 32)"
      ]
     },
     "execution_count": 12,
     "metadata": {},
     "output_type": "execute_result"
    }
   ],
   "source": [
    "rev_biz_usr.shape"
   ]
  },
  {
   "cell_type": "code",
   "execution_count": 13,
   "metadata": {
    "ExecuteTime": {
     "end_time": "2017-01-17T00:42:00.969464",
     "start_time": "2017-01-17T00:42:00.963464"
    },
    "collapsed": false,
    "run_control": {
     "frozen": false,
     "read_only": false
    }
   },
   "outputs": [
    {
     "data": {
      "text/plain": [
       "Index(['attributes', 'average_stars', 'categories', 'city', 'compliments',\n",
       "       'date', 'elite', 'fans', 'friends', 'full_address', 'hours', 'latitude',\n",
       "       'longitude', 'name_x', 'name_y', 'neighborhoods', 'open',\n",
       "       'review_count_x', 'review_count_y', 'review_id', 'stars_y', 'state',\n",
       "       'text', 'type', 'type_x', 'type_y', 'votes_x', 'votes_y',\n",
       "       'yelping_since'],\n",
       "      dtype='object')"
      ]
     },
     "execution_count": 13,
     "metadata": {},
     "output_type": "execute_result"
    }
   ],
   "source": [
    "col_drop = rev_biz_usr.columns.difference(['business_id', 'user_id', 'stars_x'])\n",
    "col_drop"
   ]
  },
  {
   "cell_type": "code",
   "execution_count": 14,
   "metadata": {
    "ExecuteTime": {
     "end_time": "2017-01-17T00:42:09.981878",
     "start_time": "2017-01-17T00:42:05.287293"
    },
    "collapsed": false,
    "run_control": {
     "frozen": false,
     "read_only": false
    }
   },
   "outputs": [],
   "source": [
    "rev_biz_usr.drop(col_drop, axis=1, inplace=True)"
   ]
  },
  {
   "cell_type": "code",
   "execution_count": 16,
   "metadata": {
    "ExecuteTime": {
     "end_time": "2017-01-17T00:42:17.619182",
     "start_time": "2017-01-17T00:42:17.613166"
    },
    "collapsed": false,
    "run_control": {
     "frozen": false,
     "read_only": false
    }
   },
   "outputs": [
    {
     "data": {
      "text/plain": [
       "Index(['business_id', 'stars_x', 'user_id'], dtype='object')"
      ]
     },
     "execution_count": 16,
     "metadata": {},
     "output_type": "execute_result"
    }
   ],
   "source": [
    "rev_biz_usr.columns"
   ]
  },
  {
   "cell_type": "code",
   "execution_count": 767,
   "metadata": {
    "ExecuteTime": {
     "end_time": "2017-01-16T22:41:10.482876",
     "start_time": "2017-01-16T22:41:10.450503"
    },
    "collapsed": false,
    "run_control": {
     "frozen": false,
     "read_only": false
    }
   },
   "outputs": [
    {
     "data": {
      "text/plain": [
       "85900"
      ]
     },
     "execution_count": 767,
     "metadata": {},
     "output_type": "execute_result"
    }
   ],
   "source": [
    "len(business.business_id.unique())"
   ]
  },
  {
   "cell_type": "code",
   "execution_count": 17,
   "metadata": {
    "ExecuteTime": {
     "end_time": "2017-01-17T00:43:39.991739",
     "start_time": "2017-01-17T00:43:39.220692"
    },
    "collapsed": false,
    "run_control": {
     "frozen": false,
     "read_only": false
    }
   },
   "outputs": [
    {
     "data": {
      "text/plain": [
       "85539"
      ]
     },
     "execution_count": 17,
     "metadata": {},
     "output_type": "execute_result"
    }
   ],
   "source": [
    "len(rev_biz_usr.business_id.unique())"
   ]
  },
  {
   "cell_type": "code",
   "execution_count": 768,
   "metadata": {
    "ExecuteTime": {
     "end_time": "2017-01-16T22:41:25.164321",
     "start_time": "2017-01-16T22:41:24.923137"
    },
    "collapsed": false,
    "run_control": {
     "frozen": false,
     "read_only": false
    }
   },
   "outputs": [
    {
     "data": {
      "text/plain": [
       "686556"
      ]
     },
     "execution_count": 768,
     "metadata": {},
     "output_type": "execute_result"
    }
   ],
   "source": [
    "len(user.user_id.unique())"
   ]
  },
  {
   "cell_type": "code",
   "execution_count": 18,
   "metadata": {
    "ExecuteTime": {
     "end_time": "2017-01-17T00:44:18.675775",
     "start_time": "2017-01-17T00:44:18.106262"
    },
    "collapsed": false,
    "run_control": {
     "frozen": false,
     "read_only": false
    }
   },
   "outputs": [
    {
     "data": {
      "text/plain": [
       "686556"
      ]
     },
     "execution_count": 18,
     "metadata": {},
     "output_type": "execute_result"
    }
   ],
   "source": [
    "len(rev_biz_usr.user_id.unique())"
   ]
  },
  {
   "cell_type": "markdown",
   "metadata": {
    "run_control": {
     "frozen": false,
     "read_only": false
    }
   },
   "source": [
    "## The following pivot table gives an error due to out of memory, not negagtive dimensions:\n",
    "memory needed assuming 8 bytes per value is:\n",
    "686556 x 85539 x 8 / 1024 / 1024/ 1024 = 438 GB"
   ]
  },
  {
   "cell_type": "code",
   "execution_count": 19,
   "metadata": {
    "ExecuteTime": {
     "end_time": "2017-01-17T00:44:51.159992",
     "start_time": "2017-01-17T00:44:51.154457"
    },
    "collapsed": false,
    "run_control": {
     "frozen": false,
     "read_only": false
    }
   },
   "outputs": [
    {
     "data": {
      "text/plain": [
       "437.5525838434696"
      ]
     },
     "execution_count": 19,
     "metadata": {},
     "output_type": "execute_result"
    }
   ],
   "source": [
    "686556 * 85539 * 8 / 1024 / 1024/ 1024"
   ]
  },
  {
   "cell_type": "code",
   "execution_count": 20,
   "metadata": {
    "ExecuteTime": {
     "end_time": "2017-01-17T00:45:18.546695",
     "start_time": "2017-01-17T00:45:18.542687"
    },
    "collapsed": false,
    "run_control": {
     "frozen": false,
     "read_only": false
    },
    "scrolled": true
   },
   "outputs": [],
   "source": [
    "# rev_biz_usr.pivot(index='business_id', columns='user_id', values='stars_x')"
   ]
  },
  {
   "cell_type": "code",
   "execution_count": 21,
   "metadata": {
    "ExecuteTime": {
     "end_time": "2017-01-17T00:45:25.188768",
     "start_time": "2017-01-17T00:45:25.185250"
    },
    "collapsed": false,
    "run_control": {
     "frozen": false,
     "read_only": false
    },
    "scrolled": true
   },
   "outputs": [],
   "source": [
    "# Y = pd.pivot_table(rev_biz_usr, index='business_id', columns='user_id', values='stars_x', dropna=False, aggfunc='mean')"
   ]
  },
  {
   "cell_type": "code",
   "execution_count": 23,
   "metadata": {
    "ExecuteTime": {
     "end_time": "2017-01-17T00:46:15.765846",
     "start_time": "2017-01-17T00:46:15.585333"
    },
    "collapsed": true,
    "run_control": {
     "frozen": false,
     "read_only": false
    }
   },
   "outputs": [],
   "source": [
    "from geopy.distance import vincenty"
   ]
  },
  {
   "cell_type": "code",
   "execution_count": 22,
   "metadata": {
    "ExecuteTime": {
     "end_time": "2017-01-17T00:46:03.517775",
     "start_time": "2017-01-17T00:46:03.514283"
    },
    "collapsed": false,
    "run_control": {
     "frozen": false,
     "read_only": false
    }
   },
   "outputs": [],
   "source": [
    "# vincenty((41.49008, -71.312796), (41.499498, -81.695391)).km"
   ]
  },
  {
   "cell_type": "code",
   "execution_count": 26,
   "metadata": {
    "ExecuteTime": {
     "end_time": "2017-01-17T00:47:06.751429",
     "start_time": "2017-01-17T00:47:06.746412"
    },
    "collapsed": false,
    "run_control": {
     "frozen": false,
     "read_only": false
    }
   },
   "outputs": [
    {
     "data": {
      "text/plain": [
       "19.39324680137632"
      ]
     },
     "execution_count": 26,
     "metadata": {},
     "output_type": "execute_result"
    }
   ],
   "source": [
    "vincenty((80, -70), (80, -71)).km"
   ]
  },
  {
   "cell_type": "code",
   "execution_count": 27,
   "metadata": {
    "ExecuteTime": {
     "end_time": "2017-01-17T00:47:25.463913",
     "start_time": "2017-01-17T00:47:25.457910"
    },
    "collapsed": false,
    "run_control": {
     "frozen": false,
     "read_only": false
    }
   },
   "outputs": [
    {
     "data": {
      "text/plain": [
       "19.39324680137632"
      ]
     },
     "execution_count": 27,
     "metadata": {},
     "output_type": "execute_result"
    }
   ],
   "source": [
    "vincenty((80, -71), (80, -72)).km"
   ]
  },
  {
   "cell_type": "code",
   "execution_count": 771,
   "metadata": {
    "ExecuteTime": {
     "end_time": "2017-01-16T23:10:42.633373",
     "start_time": "2017-01-16T23:10:42.629881"
    },
    "collapsed": true,
    "run_control": {
     "frozen": false,
     "read_only": false
    }
   },
   "outputs": [],
   "source": [
    "import shapely"
   ]
  },
  {
   "cell_type": "code",
   "execution_count": 7,
   "metadata": {
    "ExecuteTime": {
     "end_time": "2017-01-17T00:31:55.743010",
     "start_time": "2017-01-17T00:31:55.587596"
    },
    "collapsed": true,
    "run_control": {
     "frozen": false,
     "read_only": false
    }
   },
   "outputs": [],
   "source": [
    "import geopandas"
   ]
  },
  {
   "cell_type": "markdown",
   "metadata": {
    "run_control": {
     "frozen": false,
     "read_only": false
    }
   },
   "source": [
    "# Check if cities and distances between them may be used instead of distances between businesses\n",
    "\n",
    "##  No: cities are small, with distances that can be 3 miles"
   ]
  },
  {
   "cell_type": "markdown",
   "metadata": {
    "ExecuteTime": {
     "end_time": "2017-01-16T13:20:24.945581",
     "start_time": "2017-01-16T13:20:24.942048"
    },
    "run_control": {
     "frozen": false,
     "read_only": false
    }
   },
   "source": [
    "# assume 30 km as maximum distance willing to travel, to find vicinity within state"
   ]
  },
  {
   "cell_type": "code",
   "execution_count": 40,
   "metadata": {
    "ExecuteTime": {
     "end_time": "2017-01-17T00:50:52.347466",
     "start_time": "2017-01-17T00:50:52.339462"
    },
    "collapsed": false,
    "run_control": {
     "frozen": false,
     "read_only": false
    }
   },
   "outputs": [
    {
     "data": {
      "text/plain": [
       "(32.865882499999998, 56.033777299999997)"
      ]
     },
     "execution_count": 40,
     "metadata": {},
     "output_type": "execute_result"
    }
   ],
   "source": [
    "business.latitude.min(), business.latitude.max()"
   ]
  },
  {
   "cell_type": "code",
   "execution_count": 59,
   "metadata": {
    "ExecuteTime": {
     "end_time": "2017-01-17T01:05:23.185866",
     "start_time": "2017-01-17T01:05:23.177360"
    },
    "collapsed": false,
    "run_control": {
     "frozen": false,
     "read_only": false
    }
   },
   "outputs": [
    {
     "data": {
      "text/plain": [
       "(-115.38655, 8.5492494004572208)"
      ]
     },
     "execution_count": 59,
     "metadata": {},
     "output_type": "execute_result"
    }
   ],
   "source": [
    "business.longitude.min(), business.longitude.max()"
   ]
  },
  {
   "cell_type": "code",
   "execution_count": 41,
   "metadata": {
    "ExecuteTime": {
     "end_time": "2017-01-17T00:51:29.879005",
     "start_time": "2017-01-17T00:51:29.873509"
    },
    "collapsed": false,
    "run_control": {
     "frozen": false,
     "read_only": false
    }
   },
   "outputs": [
    {
     "data": {
      "text/plain": [
       "60.77164272792849"
      ]
     },
     "execution_count": 41,
     "metadata": {},
     "output_type": "execute_result"
    }
   ],
   "source": [
    "vincenty((57, -71), (57, -72)).km"
   ]
  },
  {
   "cell_type": "code",
   "execution_count": 42,
   "metadata": {
    "ExecuteTime": {
     "end_time": "2017-01-17T00:51:42.759674",
     "start_time": "2017-01-17T00:51:42.753631"
    },
    "collapsed": false,
    "run_control": {
     "frozen": false,
     "read_only": false
    }
   },
   "outputs": [
    {
     "data": {
      "text/plain": [
       "94.49280502196765"
      ]
     },
     "execution_count": 42,
     "metadata": {},
     "output_type": "execute_result"
    }
   ],
   "source": [
    "vincenty((32, -71), (32, -72)).km"
   ]
  },
  {
   "cell_type": "code",
   "execution_count": 58,
   "metadata": {
    "ExecuteTime": {
     "end_time": "2017-01-17T01:03:16.089764",
     "start_time": "2017-01-17T01:03:16.083760"
    },
    "collapsed": false,
    "run_control": {
     "frozen": false,
     "read_only": false
    }
   },
   "outputs": [
    {
     "data": {
      "text/plain": [
       "78.8463347093115"
      ]
     },
     "execution_count": 58,
     "metadata": {},
     "output_type": "execute_result"
    }
   ],
   "source": [
    "vincenty((45, -71), (45, -72)).km"
   ]
  },
  {
   "cell_type": "markdown",
   "metadata": {
    "ExecuteTime": {
     "end_time": "2017-01-17T00:54:19.991268",
     "start_time": "2017-01-17T00:54:19.986255"
    },
    "run_control": {
     "frozen": false,
     "read_only": false
    }
   },
   "source": [
    "for out dataset, businesses lie within latitudes 32 and 56 North\n",
    "\n",
    "where 1 degree in longitude ranges between 60 to 95 km\n",
    "\n",
    "so nearby business ( < 30) should also be within 0.5 degree of longitude (near 32N distances will be < 47km)\n",
    "\n",
    "for latitudes, one degree difference is about 110 km, so will adopt 0.3 difference to consider nearby businesses"
   ]
  },
  {
   "cell_type": "code",
   "execution_count": 53,
   "metadata": {
    "ExecuteTime": {
     "end_time": "2017-01-17T00:56:36.191396",
     "start_time": "2017-01-17T00:56:36.185887"
    },
    "collapsed": false,
    "run_control": {
     "frozen": false,
     "read_only": false
    }
   },
   "outputs": [
    {
     "data": {
      "text/plain": [
       "111.12200826241184"
      ]
     },
     "execution_count": 53,
     "metadata": {},
     "output_type": "execute_result"
    }
   ],
   "source": [
    "vincenty((44, -71), (45, -71)).km"
   ]
  },
  {
   "cell_type": "code",
   "execution_count": 54,
   "metadata": {
    "ExecuteTime": {
     "end_time": "2017-01-17T00:57:19.192488",
     "start_time": "2017-01-17T00:57:19.186448"
    },
    "collapsed": false,
    "run_control": {
     "frozen": false,
     "read_only": false
    }
   },
   "outputs": [
    {
     "data": {
      "text/plain": [
       "111.12200826241184"
      ]
     },
     "execution_count": 54,
     "metadata": {},
     "output_type": "execute_result"
    }
   ],
   "source": [
    "vincenty((44, -70), (45, -70)).km"
   ]
  },
  {
   "cell_type": "code",
   "execution_count": 55,
   "metadata": {
    "ExecuteTime": {
     "end_time": "2017-01-17T00:57:19.192488",
     "start_time": "2017-01-17T00:57:19.186448"
    },
    "collapsed": false,
    "run_control": {
     "frozen": false,
     "read_only": false
    }
   },
   "outputs": [
    {
     "data": {
      "text/plain": [
       "111.33269933263972"
      ]
     },
     "execution_count": 55,
     "metadata": {},
     "output_type": "execute_result"
    }
   ],
   "source": [
    "vincenty((55, -71), (56, -71)).km"
   ]
  },
  {
   "cell_type": "code",
   "execution_count": 56,
   "metadata": {
    "ExecuteTime": {
     "end_time": "2017-01-17T00:57:19.192488",
     "start_time": "2017-01-17T00:57:19.186448"
    },
    "collapsed": false,
    "run_control": {
     "frozen": false,
     "read_only": false
    }
   },
   "outputs": [
    {
     "data": {
      "text/plain": [
       "110.89560891986069"
      ]
     },
     "execution_count": 56,
     "metadata": {},
     "output_type": "execute_result"
    }
   ],
   "source": [
    "vincenty((32, -71), (33, -71)).km"
   ]
  },
  {
   "cell_type": "code",
   "execution_count": 65,
   "metadata": {
    "ExecuteTime": {
     "end_time": "2017-01-17T01:10:38.487376",
     "start_time": "2017-01-17T01:10:38.466330"
    },
    "collapsed": false,
    "run_control": {
     "frozen": false,
     "read_only": false
    }
   },
   "outputs": [
    {
     "data": {
      "text/html": [
       "<div>\n",
       "<table border=\"1\" class=\"dataframe\">\n",
       "  <thead>\n",
       "    <tr style=\"text-align: right;\">\n",
       "      <th></th>\n",
       "      <th>attributes</th>\n",
       "      <th>business_id</th>\n",
       "      <th>categories</th>\n",
       "      <th>city</th>\n",
       "      <th>full_address</th>\n",
       "      <th>hours</th>\n",
       "      <th>latitude</th>\n",
       "      <th>longitude</th>\n",
       "      <th>name</th>\n",
       "      <th>neighborhoods</th>\n",
       "      <th>open</th>\n",
       "      <th>review_count</th>\n",
       "      <th>stars</th>\n",
       "      <th>state</th>\n",
       "      <th>type</th>\n",
       "    </tr>\n",
       "  </thead>\n",
       "  <tbody>\n",
       "    <tr>\n",
       "      <th>47693</th>\n",
       "      <td>{}</td>\n",
       "      <td>4Yh57FsAyvDtZsq5F7fCWg</td>\n",
       "      <td>[Hotels &amp; Travel, Public Transportation, Trans...</td>\n",
       "      <td>Inverkeithing</td>\n",
       "      <td>Boreland Rd\\nInverkeithing KY11 1NJ</td>\n",
       "      <td>{}</td>\n",
       "      <td>56.033777</td>\n",
       "      <td>-3.393267</td>\n",
       "      <td>Inverkeithing Railway Station</td>\n",
       "      <td>[]</td>\n",
       "      <td>True</td>\n",
       "      <td>3</td>\n",
       "      <td>3.0</td>\n",
       "      <td>FIF</td>\n",
       "      <td>business</td>\n",
       "    </tr>\n",
       "  </tbody>\n",
       "</table>\n",
       "</div>"
      ],
      "text/plain": [
       "      attributes             business_id  \\\n",
       "47693         {}  4Yh57FsAyvDtZsq5F7fCWg   \n",
       "\n",
       "                                              categories           city  \\\n",
       "47693  [Hotels & Travel, Public Transportation, Trans...  Inverkeithing   \n",
       "\n",
       "                              full_address hours   latitude  longitude  \\\n",
       "47693  Boreland Rd\\nInverkeithing KY11 1NJ    {}  56.033777  -3.393267   \n",
       "\n",
       "                                name neighborhoods  open  review_count  stars  \\\n",
       "47693  Inverkeithing Railway Station            []  True             3    3.0   \n",
       "\n",
       "      state      type  \n",
       "47693   FIF  business  "
      ]
     },
     "execution_count": 65,
     "metadata": {},
     "output_type": "execute_result"
    }
   ],
   "source": [
    "business[business.latitude > 56.033]"
   ]
  },
  {
   "cell_type": "code",
   "execution_count": 66,
   "metadata": {
    "ExecuteTime": {
     "end_time": "2017-01-17T01:11:20.537029",
     "start_time": "2017-01-17T01:11:20.377622"
    },
    "collapsed": false,
    "run_control": {
     "frozen": false,
     "read_only": false
    }
   },
   "outputs": [
    {
     "data": {
      "text/plain": [
       "array(['PA', 'NC', 'SC', 'WI', 'IL', 'AZ', 'NV', 'QC', 'ON', 'EDH', 'MLN',\n",
       "       'BW'], dtype=object)"
      ]
     },
     "execution_count": 66,
     "metadata": {},
     "output_type": "execute_result"
    }
   ],
   "source": [
    "business.groupby(['state']).filter(lambda r: len(r) > 20).state.unique()"
   ]
  },
  {
   "cell_type": "code",
   "execution_count": 67,
   "metadata": {
    "ExecuteTime": {
     "end_time": "2017-01-17T01:11:46.048364",
     "start_time": "2017-01-17T01:11:45.932554"
    },
    "collapsed": false,
    "run_control": {
     "frozen": false,
     "read_only": false
    }
   },
   "outputs": [],
   "source": [
    "# ignore states with less than 20 businesses... we have 12 states with more than 20 businesses\n",
    "business_state = business.groupby(['state']).filter(lambda r: len(r) >= 20)"
   ]
  },
  {
   "cell_type": "code",
   "execution_count": 121,
   "metadata": {
    "ExecuteTime": {
     "end_time": "2017-01-17T03:00:03.544469",
     "start_time": "2017-01-17T03:00:03.503831"
    },
    "collapsed": false,
    "run_control": {
     "frozen": false,
     "read_only": false
    }
   },
   "outputs": [
    {
     "data": {
      "text/plain": [
       "state\n",
       "AZ     36500\n",
       "BW      1055\n",
       "EDH     3297\n",
       "IL       808\n",
       "MLN      161\n",
       "NC      6835\n",
       "NV     23591\n",
       "ON       530\n",
       "PA      4086\n",
       "QC      5591\n",
       "SC       325\n",
       "WI      3066\n",
       "dtype: int64"
      ]
     },
     "execution_count": 121,
     "metadata": {},
     "output_type": "execute_result"
    }
   ],
   "source": [
    "business_state.groupby('state').size()"
   ]
  },
  {
   "cell_type": "code",
   "execution_count": 127,
   "metadata": {
    "ExecuteTime": {
     "end_time": "2017-01-17T03:04:23.806427",
     "start_time": "2017-01-17T03:04:21.878769"
    },
    "collapsed": false,
    "run_control": {
     "frozen": false,
     "read_only": false
    },
    "scrolled": true
   },
   "outputs": [
    {
     "name": "stderr",
     "output_type": "stream",
     "text": [
      "C:\\Users\\ali_a\\Anaconda3\\lib\\site-packages\\ipykernel\\__main__.py:1: UserWarning: Boolean Series key will be reindexed to match DataFrame index.\n",
      "  if __name__ == '__main__':\n"
     ]
    },
    {
     "data": {
      "text/plain": [
       "247028"
      ]
     },
     "execution_count": 127,
     "metadata": {},
     "output_type": "execute_result"
    }
   ],
   "source": [
    "len(business_state[business.state == 'AZ'].merge(review, how='inner', left_on='business_id', right_on='business_id').user_id.unique())"
   ]
  },
  {
   "cell_type": "code",
   "execution_count": 168,
   "metadata": {
    "ExecuteTime": {
     "end_time": "2017-01-17T03:34:13.502544",
     "start_time": "2017-01-17T03:34:13.496489"
    },
    "collapsed": false,
    "run_control": {
     "frozen": false,
     "read_only": false
    }
   },
   "outputs": [
    {
     "data": {
      "text/plain": [
       "{'breakfast': False,\n",
       " 'brunch': False,\n",
       " 'dessert': False,\n",
       " 'dinner': False,\n",
       " 'latenight': False,\n",
       " 'lunch': True}"
      ]
     },
     "execution_count": 168,
     "metadata": {},
     "output_type": "execute_result"
    }
   ],
   "source": [
    "# To classify a business as Food:\n",
    "business.attributes.iloc[3]['Good For']"
   ]
  },
  {
   "cell_type": "code",
   "execution_count": 166,
   "metadata": {
    "ExecuteTime": {
     "end_time": "2017-01-17T03:33:54.216863",
     "start_time": "2017-01-17T03:33:54.209836"
    },
    "collapsed": false,
    "run_control": {
     "frozen": false,
     "read_only": false
    },
    "scrolled": false
   },
   "outputs": [
    {
     "data": {
      "text/plain": [
       "1"
      ]
     },
     "execution_count": 166,
     "metadata": {},
     "output_type": "execute_result"
    }
   ],
   "source": [
    "sum(business.attributes.iloc[3]['Good For'].values())"
   ]
  },
  {
   "cell_type": "code",
   "execution_count": 76,
   "metadata": {
    "ExecuteTime": {
     "end_time": "2017-01-17T01:13:24.912591",
     "start_time": "2017-01-17T01:13:24.904569"
    },
    "collapsed": false,
    "run_control": {
     "frozen": false,
     "read_only": false
    }
   },
   "outputs": [
    {
     "data": {
      "text/plain": [
       "8.5492494004572208"
      ]
     },
     "execution_count": 76,
     "metadata": {},
     "output_type": "execute_result"
    }
   ],
   "source": [
    "business_state.longitude.max()"
   ]
  },
  {
   "cell_type": "code",
   "execution_count": 70,
   "metadata": {
    "ExecuteTime": {
     "end_time": "2017-01-17T01:12:14.134047",
     "start_time": "2017-01-17T01:12:14.130537"
    },
    "collapsed": false,
    "run_control": {
     "frozen": false,
     "read_only": false
    }
   },
   "outputs": [],
   "source": [
    "business_groups = business_state.groupby('state')"
   ]
  },
  {
   "cell_type": "code",
   "execution_count": 71,
   "metadata": {
    "ExecuteTime": {
     "end_time": "2017-01-17T01:12:18.840890",
     "start_time": "2017-01-17T01:12:18.817327"
    },
    "collapsed": false,
    "run_control": {
     "frozen": false,
     "read_only": false
    }
   },
   "outputs": [],
   "source": [
    "group = business_groups.get_group('EDH')"
   ]
  },
  {
   "cell_type": "code",
   "execution_count": 72,
   "metadata": {
    "ExecuteTime": {
     "end_time": "2017-01-17T01:12:38.151193",
     "start_time": "2017-01-17T01:12:38.146175"
    },
    "collapsed": false,
    "run_control": {
     "frozen": false,
     "read_only": false
    },
    "scrolled": true
   },
   "outputs": [
    {
     "data": {
      "text/plain": [
       "56.000421000000003"
      ]
     },
     "execution_count": 72,
     "metadata": {},
     "output_type": "execute_result"
    }
   ],
   "source": [
    "group.latitude.max()"
   ]
  },
  {
   "cell_type": "code",
   "execution_count": 766,
   "metadata": {
    "ExecuteTime": {
     "end_time": "2017-01-16T22:41:07.278187",
     "start_time": "2017-01-16T18:36:06.543485"
    },
    "collapsed": false,
    "run_control": {
     "frozen": false,
     "read_only": false
    },
    "scrolled": true
   },
   "outputs": [
    {
     "ename": "KeyboardInterrupt",
     "evalue": "",
     "output_type": "error",
     "traceback": [
      "\u001b[0;31m---------------------------------------------------------------------------\u001b[0m",
      "\u001b[0;31mKeyboardInterrupt\u001b[0m                         Traceback (most recent call last)",
      "\u001b[0;32m<ipython-input-766-f8a55ad2fa48>\u001b[0m in \u001b[0;36m<module>\u001b[0;34m()\u001b[0m\n\u001b[1;32m     11\u001b[0m         \u001b[1;32mfor\u001b[0m \u001b[0mj\u001b[0m \u001b[1;32min\u001b[0m \u001b[0mrange\u001b[0m\u001b[1;33m(\u001b[0m\u001b[1;36m0\u001b[0m\u001b[1;33m,\u001b[0m \u001b[0mlen\u001b[0m\u001b[1;33m(\u001b[0m\u001b[0mnear_group\u001b[0m\u001b[1;33m)\u001b[0m\u001b[1;33m)\u001b[0m\u001b[1;33m:\u001b[0m\u001b[1;33m\u001b[0m\u001b[0m\n\u001b[1;32m     12\u001b[0m \u001b[1;33m\u001b[0m\u001b[0m\n\u001b[0;32m---> 13\u001b[0;31m             \u001b[0mdistance\u001b[0m \u001b[1;33m=\u001b[0m \u001b[0mvincenty\u001b[0m\u001b[1;33m(\u001b[0m\u001b[0mtuple\u001b[0m\u001b[1;33m(\u001b[0m\u001b[0mgroup\u001b[0m\u001b[1;33m.\u001b[0m\u001b[0miloc\u001b[0m\u001b[1;33m[\u001b[0m\u001b[0mi\u001b[0m\u001b[1;33m]\u001b[0m\u001b[1;33m[\u001b[0m\u001b[1;33m[\u001b[0m\u001b[1;34m'latitude'\u001b[0m\u001b[1;33m,\u001b[0m\u001b[1;34m'longitude'\u001b[0m\u001b[1;33m]\u001b[0m\u001b[1;33m]\u001b[0m\u001b[1;33m)\u001b[0m\u001b[1;33m,\u001b[0m \u001b[0mtuple\u001b[0m\u001b[1;33m(\u001b[0m\u001b[0mnear_group\u001b[0m\u001b[1;33m.\u001b[0m\u001b[0miloc\u001b[0m\u001b[1;33m[\u001b[0m\u001b[0mj\u001b[0m\u001b[1;33m]\u001b[0m\u001b[1;33m[\u001b[0m\u001b[1;33m[\u001b[0m\u001b[1;34m'latitude'\u001b[0m\u001b[1;33m,\u001b[0m\u001b[1;34m'longitude'\u001b[0m\u001b[1;33m]\u001b[0m\u001b[1;33m]\u001b[0m\u001b[1;33m)\u001b[0m\u001b[1;33m)\u001b[0m\u001b[1;33m.\u001b[0m\u001b[0mkm\u001b[0m\u001b[1;33m\u001b[0m\u001b[0m\n\u001b[0m\u001b[1;32m     14\u001b[0m             \u001b[1;32mif\u001b[0m \u001b[0mdistance\u001b[0m \u001b[1;33m<\u001b[0m \u001b[1;36m30\u001b[0m\u001b[1;33m:\u001b[0m\u001b[1;33m\u001b[0m\u001b[0m\n\u001b[1;32m     15\u001b[0m                 \u001b[0mc\u001b[0m \u001b[1;33m+=\u001b[0m \u001b[1;36m1\u001b[0m\u001b[1;33m\u001b[0m\u001b[0m\n",
      "\u001b[0;32mC:\\Users\\ali_a\\Anaconda3\\lib\\site-packages\\pandas\\core\\indexing.py\u001b[0m in \u001b[0;36m__getitem__\u001b[0;34m(self, key)\u001b[0m\n\u001b[1;32m   1310\u001b[0m             \u001b[1;32mreturn\u001b[0m \u001b[0mself\u001b[0m\u001b[1;33m.\u001b[0m\u001b[0m_getitem_tuple\u001b[0m\u001b[1;33m(\u001b[0m\u001b[0mkey\u001b[0m\u001b[1;33m)\u001b[0m\u001b[1;33m\u001b[0m\u001b[0m\n\u001b[1;32m   1311\u001b[0m         \u001b[1;32melse\u001b[0m\u001b[1;33m:\u001b[0m\u001b[1;33m\u001b[0m\u001b[0m\n\u001b[0;32m-> 1312\u001b[0;31m             \u001b[1;32mreturn\u001b[0m \u001b[0mself\u001b[0m\u001b[1;33m.\u001b[0m\u001b[0m_getitem_axis\u001b[0m\u001b[1;33m(\u001b[0m\u001b[0mkey\u001b[0m\u001b[1;33m,\u001b[0m \u001b[0maxis\u001b[0m\u001b[1;33m=\u001b[0m\u001b[1;36m0\u001b[0m\u001b[1;33m)\u001b[0m\u001b[1;33m\u001b[0m\u001b[0m\n\u001b[0m\u001b[1;32m   1313\u001b[0m \u001b[1;33m\u001b[0m\u001b[0m\n\u001b[1;32m   1314\u001b[0m     \u001b[1;32mdef\u001b[0m \u001b[0m_getitem_axis\u001b[0m\u001b[1;33m(\u001b[0m\u001b[0mself\u001b[0m\u001b[1;33m,\u001b[0m \u001b[0mkey\u001b[0m\u001b[1;33m,\u001b[0m \u001b[0maxis\u001b[0m\u001b[1;33m=\u001b[0m\u001b[1;36m0\u001b[0m\u001b[1;33m)\u001b[0m\u001b[1;33m:\u001b[0m\u001b[1;33m\u001b[0m\u001b[0m\n",
      "\u001b[0;32mC:\\Users\\ali_a\\Anaconda3\\lib\\site-packages\\pandas\\core\\indexing.py\u001b[0m in \u001b[0;36m_getitem_axis\u001b[0;34m(self, key, axis)\u001b[0m\n\u001b[1;32m   1628\u001b[0m                 \u001b[0mself\u001b[0m\u001b[1;33m.\u001b[0m\u001b[0m_is_valid_integer\u001b[0m\u001b[1;33m(\u001b[0m\u001b[0mkey\u001b[0m\u001b[1;33m,\u001b[0m \u001b[0maxis\u001b[0m\u001b[1;33m)\u001b[0m\u001b[1;33m\u001b[0m\u001b[0m\n\u001b[1;32m   1629\u001b[0m \u001b[1;33m\u001b[0m\u001b[0m\n\u001b[0;32m-> 1630\u001b[0;31m             \u001b[1;32mreturn\u001b[0m \u001b[0mself\u001b[0m\u001b[1;33m.\u001b[0m\u001b[0m_get_loc\u001b[0m\u001b[1;33m(\u001b[0m\u001b[0mkey\u001b[0m\u001b[1;33m,\u001b[0m \u001b[0maxis\u001b[0m\u001b[1;33m=\u001b[0m\u001b[0maxis\u001b[0m\u001b[1;33m)\u001b[0m\u001b[1;33m\u001b[0m\u001b[0m\n\u001b[0m\u001b[1;32m   1631\u001b[0m \u001b[1;33m\u001b[0m\u001b[0m\n\u001b[1;32m   1632\u001b[0m     \u001b[1;32mdef\u001b[0m \u001b[0m_convert_to_indexer\u001b[0m\u001b[1;33m(\u001b[0m\u001b[0mself\u001b[0m\u001b[1;33m,\u001b[0m \u001b[0mobj\u001b[0m\u001b[1;33m,\u001b[0m \u001b[0maxis\u001b[0m\u001b[1;33m=\u001b[0m\u001b[1;36m0\u001b[0m\u001b[1;33m,\u001b[0m \u001b[0mis_setter\u001b[0m\u001b[1;33m=\u001b[0m\u001b[1;32mFalse\u001b[0m\u001b[1;33m)\u001b[0m\u001b[1;33m:\u001b[0m\u001b[1;33m\u001b[0m\u001b[0m\n",
      "\u001b[0;32mC:\\Users\\ali_a\\Anaconda3\\lib\\site-packages\\pandas\\core\\indexing.py\u001b[0m in \u001b[0;36m_get_loc\u001b[0;34m(self, key, axis)\u001b[0m\n\u001b[1;32m    103\u001b[0m \u001b[1;33m\u001b[0m\u001b[0m\n\u001b[1;32m    104\u001b[0m     \u001b[1;32mdef\u001b[0m \u001b[0m_get_loc\u001b[0m\u001b[1;33m(\u001b[0m\u001b[0mself\u001b[0m\u001b[1;33m,\u001b[0m \u001b[0mkey\u001b[0m\u001b[1;33m,\u001b[0m \u001b[0maxis\u001b[0m\u001b[1;33m=\u001b[0m\u001b[1;36m0\u001b[0m\u001b[1;33m)\u001b[0m\u001b[1;33m:\u001b[0m\u001b[1;33m\u001b[0m\u001b[0m\n\u001b[0;32m--> 105\u001b[0;31m         \u001b[1;32mreturn\u001b[0m \u001b[0mself\u001b[0m\u001b[1;33m.\u001b[0m\u001b[0mobj\u001b[0m\u001b[1;33m.\u001b[0m\u001b[0m_ixs\u001b[0m\u001b[1;33m(\u001b[0m\u001b[0mkey\u001b[0m\u001b[1;33m,\u001b[0m \u001b[0maxis\u001b[0m\u001b[1;33m=\u001b[0m\u001b[0maxis\u001b[0m\u001b[1;33m)\u001b[0m\u001b[1;33m\u001b[0m\u001b[0m\n\u001b[0m\u001b[1;32m    106\u001b[0m \u001b[1;33m\u001b[0m\u001b[0m\n\u001b[1;32m    107\u001b[0m     \u001b[1;32mdef\u001b[0m \u001b[0m_slice\u001b[0m\u001b[1;33m(\u001b[0m\u001b[0mself\u001b[0m\u001b[1;33m,\u001b[0m \u001b[0mobj\u001b[0m\u001b[1;33m,\u001b[0m \u001b[0maxis\u001b[0m\u001b[1;33m=\u001b[0m\u001b[1;36m0\u001b[0m\u001b[1;33m,\u001b[0m \u001b[0mkind\u001b[0m\u001b[1;33m=\u001b[0m\u001b[1;32mNone\u001b[0m\u001b[1;33m)\u001b[0m\u001b[1;33m:\u001b[0m\u001b[1;33m\u001b[0m\u001b[0m\n",
      "\u001b[0;32mC:\\Users\\ali_a\\Anaconda3\\lib\\site-packages\\pandas\\core\\frame.py\u001b[0m in \u001b[0;36m_ixs\u001b[0;34m(self, i, axis)\u001b[0m\n\u001b[1;32m   1974\u001b[0m                     \u001b[0mcopy\u001b[0m \u001b[1;33m=\u001b[0m \u001b[1;32mTrue\u001b[0m\u001b[1;33m\u001b[0m\u001b[0m\n\u001b[1;32m   1975\u001b[0m                 \u001b[1;32melse\u001b[0m\u001b[1;33m:\u001b[0m\u001b[1;33m\u001b[0m\u001b[0m\n\u001b[0;32m-> 1976\u001b[0;31m                     \u001b[0mnew_values\u001b[0m \u001b[1;33m=\u001b[0m \u001b[0mself\u001b[0m\u001b[1;33m.\u001b[0m\u001b[0m_data\u001b[0m\u001b[1;33m.\u001b[0m\u001b[0mfast_xs\u001b[0m\u001b[1;33m(\u001b[0m\u001b[0mi\u001b[0m\u001b[1;33m)\u001b[0m\u001b[1;33m\u001b[0m\u001b[0m\n\u001b[0m\u001b[1;32m   1977\u001b[0m                     \u001b[1;32mif\u001b[0m \u001b[0mis_scalar\u001b[0m\u001b[1;33m(\u001b[0m\u001b[0mnew_values\u001b[0m\u001b[1;33m)\u001b[0m\u001b[1;33m:\u001b[0m\u001b[1;33m\u001b[0m\u001b[0m\n\u001b[1;32m   1978\u001b[0m                         \u001b[1;32mreturn\u001b[0m \u001b[0mnew_values\u001b[0m\u001b[1;33m\u001b[0m\u001b[0m\n",
      "\u001b[0;32mC:\\Users\\ali_a\\Anaconda3\\lib\\site-packages\\pandas\\core\\internals.py\u001b[0m in \u001b[0;36mfast_xs\u001b[0;34m(self, loc)\u001b[0m\n\u001b[1;32m   3507\u001b[0m             \u001b[1;31m# result[blk.mgr_locs] = blk._slice((slice(None), loc))\u001b[0m\u001b[1;33m\u001b[0m\u001b[1;33m\u001b[0m\u001b[0m\n\u001b[1;32m   3508\u001b[0m             \u001b[1;32mfor\u001b[0m \u001b[0mi\u001b[0m\u001b[1;33m,\u001b[0m \u001b[0mrl\u001b[0m \u001b[1;32min\u001b[0m \u001b[0menumerate\u001b[0m\u001b[1;33m(\u001b[0m\u001b[0mblk\u001b[0m\u001b[1;33m.\u001b[0m\u001b[0mmgr_locs\u001b[0m\u001b[1;33m)\u001b[0m\u001b[1;33m:\u001b[0m\u001b[1;33m\u001b[0m\u001b[0m\n\u001b[0;32m-> 3509\u001b[0;31m                 \u001b[0mresult\u001b[0m\u001b[1;33m[\u001b[0m\u001b[0mrl\u001b[0m\u001b[1;33m]\u001b[0m \u001b[1;33m=\u001b[0m \u001b[0mblk\u001b[0m\u001b[1;33m.\u001b[0m\u001b[0m_try_coerce_result\u001b[0m\u001b[1;33m(\u001b[0m\u001b[0mblk\u001b[0m\u001b[1;33m.\u001b[0m\u001b[0miget\u001b[0m\u001b[1;33m(\u001b[0m\u001b[1;33m(\u001b[0m\u001b[0mi\u001b[0m\u001b[1;33m,\u001b[0m \u001b[0mloc\u001b[0m\u001b[1;33m)\u001b[0m\u001b[1;33m)\u001b[0m\u001b[1;33m)\u001b[0m\u001b[1;33m\u001b[0m\u001b[0m\n\u001b[0m\u001b[1;32m   3510\u001b[0m \u001b[1;33m\u001b[0m\u001b[0m\n\u001b[1;32m   3511\u001b[0m         \u001b[1;32mreturn\u001b[0m \u001b[0mresult\u001b[0m\u001b[1;33m\u001b[0m\u001b[0m\n",
      "\u001b[0;31mKeyboardInterrupt\u001b[0m: "
     ]
    }
   ],
   "source": [
    "nearby ={}\n",
    "max_nearbies = 0\n",
    "\n",
    "business_groups = business_state.groupby('state')\n",
    "\n",
    "for name, group in business_groups:\n",
    "    for i in range(0, len(group)):\n",
    "        if group.latitude.iloc[i] < 80:\n",
    "            near_group = group[(group.latitude < (group.latitude.iloc[i] + 1)) & (group.latitude > (group.latitude.iloc[i] - 1)) & \n",
    "                          (group.longitude < (group.longitude.iloc[i] + 1)) & (group.longitude > (group.longitude.iloc[i] - 1))]\n",
    "        for j in range(0, len(near_group)):\n",
    "\n",
    "            distance = vincenty(tuple(group.iloc[i][['latitude','longitude']]), tuple(near_group.iloc[j][['latitude','longitude']])).km\n",
    "            if distance < 30:\n",
    "                c += 1\n",
    "                try:\n",
    "                    nearby[group.business_id.iloc[i]].extend([near_group.business_id.iloc[j]])\n",
    "                except KeyError as e:\n",
    "                    nearby[group.business_id.iloc[i]] = [near_group.business_id.iloc[j]]\n",
    "                try:\n",
    "                    nearby[near_group.business_id.iloc[j]].extend([group.business_id.iloc[i]])\n",
    "                except KeyError as e:\n",
    "                    nearby[near_group.business_id.iloc[j]] = [group.business_id.iloc[i]]\n",
    "        if max_nearbies < c:\n",
    "            max_nearbies = c\n",
    "    print (len(group))\n"
   ]
  },
  {
   "cell_type": "code",
   "execution_count": 755,
   "metadata": {
    "ExecuteTime": {
     "end_time": "2017-01-16T18:13:07.465834",
     "start_time": "2017-01-16T18:13:07.250740"
    },
    "collapsed": false,
    "run_control": {
     "frozen": false,
     "read_only": false
    }
   },
   "outputs": [
    {
     "data": {
      "text/html": [
       "<div>\n",
       "<table border=\"1\" class=\"dataframe\">\n",
       "  <thead>\n",
       "    <tr style=\"text-align: right;\">\n",
       "      <th></th>\n",
       "      <th>attributes</th>\n",
       "      <th>business_id</th>\n",
       "      <th>categories</th>\n",
       "      <th>city</th>\n",
       "      <th>full_address</th>\n",
       "      <th>hours</th>\n",
       "      <th>latitude</th>\n",
       "      <th>longitude</th>\n",
       "      <th>name</th>\n",
       "      <th>neighborhoods</th>\n",
       "      <th>open</th>\n",
       "      <th>review_count</th>\n",
       "      <th>stars</th>\n",
       "      <th>state</th>\n",
       "      <th>type</th>\n",
       "    </tr>\n",
       "  </thead>\n",
       "  <tbody>\n",
       "    <tr>\n",
       "      <th>0</th>\n",
       "      <td>{'Take-out': True, 'Has TV': False, 'Noise Lev...</td>\n",
       "      <td>5UmKMjUEUNdYWqANhGckJw</td>\n",
       "      <td>[Fast Food, Restaurants]</td>\n",
       "      <td>Dravosburg</td>\n",
       "      <td>4734 Lebanon Church Rd\\nDravosburg, PA 15034</td>\n",
       "      <td>{'Tuesday': {'open': '11:00', 'close': '21:00'...</td>\n",
       "      <td>40.354327</td>\n",
       "      <td>-79.900706</td>\n",
       "      <td>Mr Hoagie</td>\n",
       "      <td>[]</td>\n",
       "      <td>True</td>\n",
       "      <td>7</td>\n",
       "      <td>3.5</td>\n",
       "      <td>PA</td>\n",
       "      <td>business</td>\n",
       "    </tr>\n",
       "    <tr>\n",
       "      <th>1</th>\n",
       "      <td>{'Outdoor Seating': False, 'Good For Groups': ...</td>\n",
       "      <td>UsFtqoBl7naz8AVUBZMjQQ</td>\n",
       "      <td>[Nightlife]</td>\n",
       "      <td>Dravosburg</td>\n",
       "      <td>202 McClure St\\nDravosburg, PA 15034</td>\n",
       "      <td>{}</td>\n",
       "      <td>40.350553</td>\n",
       "      <td>-79.886814</td>\n",
       "      <td>Clancy's Pub</td>\n",
       "      <td>[]</td>\n",
       "      <td>True</td>\n",
       "      <td>5</td>\n",
       "      <td>3.0</td>\n",
       "      <td>PA</td>\n",
       "      <td>business</td>\n",
       "    </tr>\n",
       "    <tr>\n",
       "      <th>2</th>\n",
       "      <td>{'Good for Kids': True}</td>\n",
       "      <td>cE27W9VPgO88Qxe4ol6y_g</td>\n",
       "      <td>[Active Life, Mini Golf, Golf]</td>\n",
       "      <td>Bethel Park</td>\n",
       "      <td>1530 Hamilton Rd\\nBethel Park, PA 15234</td>\n",
       "      <td>{}</td>\n",
       "      <td>40.354115</td>\n",
       "      <td>-80.014660</td>\n",
       "      <td>Cool Springs Golf Center</td>\n",
       "      <td>[]</td>\n",
       "      <td>False</td>\n",
       "      <td>5</td>\n",
       "      <td>2.5</td>\n",
       "      <td>PA</td>\n",
       "      <td>business</td>\n",
       "    </tr>\n",
       "    <tr>\n",
       "      <th>3</th>\n",
       "      <td>{'Good For Groups': True, 'Has TV': True, 'Smo...</td>\n",
       "      <td>mVHrayjG3uZ_RLHkLj-AMg</td>\n",
       "      <td>[Bars, American (New), Nightlife, Lounges, Res...</td>\n",
       "      <td>Braddock</td>\n",
       "      <td>414 Hawkins Ave\\nBraddock, PA 15104</td>\n",
       "      <td>{'Tuesday': {'open': '10:00', 'close': '19:00'...</td>\n",
       "      <td>40.408830</td>\n",
       "      <td>-79.866211</td>\n",
       "      <td>Emil's Lounge</td>\n",
       "      <td>[]</td>\n",
       "      <td>True</td>\n",
       "      <td>26</td>\n",
       "      <td>4.5</td>\n",
       "      <td>PA</td>\n",
       "      <td>business</td>\n",
       "    </tr>\n",
       "    <tr>\n",
       "      <th>4</th>\n",
       "      <td>{'Parking': {'valet': False, 'validated': Fals...</td>\n",
       "      <td>mYSpR_SLPgUVymYOvTQd_Q</td>\n",
       "      <td>[Active Life, Golf]</td>\n",
       "      <td>Braddock</td>\n",
       "      <td>1000 Clubhouse Dr\\nBraddock, PA 15104</td>\n",
       "      <td>{'Thursday': {'open': '11:00', 'close': '20:00...</td>\n",
       "      <td>40.403405</td>\n",
       "      <td>-79.855782</td>\n",
       "      <td>Grand View Golf Club</td>\n",
       "      <td>[]</td>\n",
       "      <td>True</td>\n",
       "      <td>3</td>\n",
       "      <td>5.0</td>\n",
       "      <td>PA</td>\n",
       "      <td>business</td>\n",
       "    </tr>\n",
       "    <tr>\n",
       "      <th>5</th>\n",
       "      <td>{'Good For Groups': True, 'Has TV': True, 'Smo...</td>\n",
       "      <td>KayYbHCt-RkbGcPdGOThNg</td>\n",
       "      <td>[Bars, American (Traditional), Nightlife, Rest...</td>\n",
       "      <td>Carnegie</td>\n",
       "      <td>141 Hawthorne St\\nGreentree\\nCarnegie, PA 15106</td>\n",
       "      <td>{'Monday': {'open': '11:00', 'close': '02:00'}...</td>\n",
       "      <td>40.415486</td>\n",
       "      <td>-80.067549</td>\n",
       "      <td>Alexion's Bar &amp; Grill</td>\n",
       "      <td>[Greentree]</td>\n",
       "      <td>True</td>\n",
       "      <td>23</td>\n",
       "      <td>4.0</td>\n",
       "      <td>PA</td>\n",
       "      <td>business</td>\n",
       "    </tr>\n",
       "    <tr>\n",
       "      <th>6</th>\n",
       "      <td>{'Accepts Credit Cards': True}</td>\n",
       "      <td>b12U9TFESStdy7CsTtcOeg</td>\n",
       "      <td>[Auto Repair, Automotive, Tires]</td>\n",
       "      <td>Carnegie</td>\n",
       "      <td>718A Hope Hollow Rd\\nCarnegie, PA 15106</td>\n",
       "      <td>{'Monday': {'open': '07:30', 'close': '18:00'}...</td>\n",
       "      <td>40.394588</td>\n",
       "      <td>-80.084454</td>\n",
       "      <td>Flynn's Tire &amp; Auto Service</td>\n",
       "      <td>[]</td>\n",
       "      <td>True</td>\n",
       "      <td>9</td>\n",
       "      <td>2.5</td>\n",
       "      <td>PA</td>\n",
       "      <td>business</td>\n",
       "    </tr>\n",
       "    <tr>\n",
       "      <th>7</th>\n",
       "      <td>{'Good for Kids': True}</td>\n",
       "      <td>Sktj1eHQFuVa-M4bgnEh8g</td>\n",
       "      <td>[Active Life, Mini Golf]</td>\n",
       "      <td>Carnegie</td>\n",
       "      <td>920 Forsythe Rd\\nCarnegie\\nCarnegie, PA 15106</td>\n",
       "      <td>{}</td>\n",
       "      <td>40.405404</td>\n",
       "      <td>-80.076267</td>\n",
       "      <td>Forsythe Miniature Golf &amp; Snacks</td>\n",
       "      <td>[Carnegie]</td>\n",
       "      <td>False</td>\n",
       "      <td>4</td>\n",
       "      <td>4.0</td>\n",
       "      <td>PA</td>\n",
       "      <td>business</td>\n",
       "    </tr>\n",
       "    <tr>\n",
       "      <th>8</th>\n",
       "      <td>{}</td>\n",
       "      <td>3ZVKmuK2l7uXPE6lXY4Dbg</td>\n",
       "      <td>[Roofing, Home Services, Decks &amp; Railing, Cont...</td>\n",
       "      <td>Carnegie</td>\n",
       "      <td>8 Logan St\\nCarnegie\\nCarnegie, PA 15106</td>\n",
       "      <td>{}</td>\n",
       "      <td>40.406281</td>\n",
       "      <td>-80.090390</td>\n",
       "      <td>Quaker State Construction</td>\n",
       "      <td>[Carnegie]</td>\n",
       "      <td>True</td>\n",
       "      <td>3</td>\n",
       "      <td>2.5</td>\n",
       "      <td>PA</td>\n",
       "      <td>business</td>\n",
       "    </tr>\n",
       "    <tr>\n",
       "      <th>9</th>\n",
       "      <td>{}</td>\n",
       "      <td>QoDa50dc7g62xciFygXB9w</td>\n",
       "      <td>[Veterinarians, Pets]</td>\n",
       "      <td>Pittsburgh</td>\n",
       "      <td>2080 Greentree Rd\\nPittsburgh, PA 15220</td>\n",
       "      <td>{}</td>\n",
       "      <td>40.392207</td>\n",
       "      <td>-80.069134</td>\n",
       "      <td>Greentree Animal Clinic</td>\n",
       "      <td>[]</td>\n",
       "      <td>True</td>\n",
       "      <td>7</td>\n",
       "      <td>4.0</td>\n",
       "      <td>PA</td>\n",
       "      <td>business</td>\n",
       "    </tr>\n",
       "    <tr>\n",
       "      <th>10</th>\n",
       "      <td>{'Wi-Fi': 'free'}</td>\n",
       "      <td>1_lU0-eSWJCRvNGk78Zh9Q</td>\n",
       "      <td>[Libraries, Public Services &amp; Government]</td>\n",
       "      <td>Carnegie</td>\n",
       "      <td>300 Beechwood Ave\\nCarnegie\\nCarnegie, PA 15106</td>\n",
       "      <td>{}</td>\n",
       "      <td>40.406842</td>\n",
       "      <td>-80.085866</td>\n",
       "      <td>Carnegie Free Library</td>\n",
       "      <td>[Carnegie]</td>\n",
       "      <td>True</td>\n",
       "      <td>4</td>\n",
       "      <td>4.5</td>\n",
       "      <td>PA</td>\n",
       "      <td>business</td>\n",
       "    </tr>\n",
       "    <tr>\n",
       "      <th>11</th>\n",
       "      <td>{}</td>\n",
       "      <td>_qopVQ6_Mz6W7-Pmbi56GQ</td>\n",
       "      <td>[Automotive, Auto Parts &amp; Supplies]</td>\n",
       "      <td>Carnegie</td>\n",
       "      <td>1011 Washington Ave\\nCarnegie, PA 15106</td>\n",
       "      <td>{}</td>\n",
       "      <td>40.398353</td>\n",
       "      <td>-80.082452</td>\n",
       "      <td>Advance Auto Parts</td>\n",
       "      <td>[]</td>\n",
       "      <td>True</td>\n",
       "      <td>3</td>\n",
       "      <td>3.5</td>\n",
       "      <td>PA</td>\n",
       "      <td>business</td>\n",
       "    </tr>\n",
       "    <tr>\n",
       "      <th>12</th>\n",
       "      <td>{'Take-out': True, 'Good For Groups': True, 'P...</td>\n",
       "      <td>wJr6kSA5dchdgOdwH6dZ2w</td>\n",
       "      <td>[Burgers, Breakfast &amp; Brunch, American (Tradit...</td>\n",
       "      <td>Carnegie</td>\n",
       "      <td>2100 Washington Pike\\nCarnegie, PA 15106</td>\n",
       "      <td>{'Monday': {'open': '08:00', 'close': '02:00'}...</td>\n",
       "      <td>40.387512</td>\n",
       "      <td>-80.093215</td>\n",
       "      <td>Kings Family Restaurant</td>\n",
       "      <td>[]</td>\n",
       "      <td>True</td>\n",
       "      <td>10</td>\n",
       "      <td>3.5</td>\n",
       "      <td>PA</td>\n",
       "      <td>business</td>\n",
       "    </tr>\n",
       "    <tr>\n",
       "      <th>13</th>\n",
       "      <td>{'Parking': {'valet': False, 'validated': Fals...</td>\n",
       "      <td>yXuao0pFz1AxB21vJjDf5w</td>\n",
       "      <td>[Food, Grocery]</td>\n",
       "      <td>Carnegie</td>\n",
       "      <td>2100 Washington Pike\\nCarnegie, PA 15106</td>\n",
       "      <td>{'Monday': {'open': '00:00', 'close': '00:00'}...</td>\n",
       "      <td>40.387512</td>\n",
       "      <td>-80.093215</td>\n",
       "      <td>Shop N' Save</td>\n",
       "      <td>[]</td>\n",
       "      <td>True</td>\n",
       "      <td>5</td>\n",
       "      <td>4.0</td>\n",
       "      <td>PA</td>\n",
       "      <td>business</td>\n",
       "    </tr>\n",
       "    <tr>\n",
       "      <th>14</th>\n",
       "      <td>{}</td>\n",
       "      <td>LLJMI-_fSp6OYQuY4rwarw</td>\n",
       "      <td>[Automotive, Gas &amp; Service Stations]</td>\n",
       "      <td>Carnegie</td>\n",
       "      <td>341 E Main St\\nCarnegie\\nCarnegie, PA 15106</td>\n",
       "      <td>{}</td>\n",
       "      <td>40.409998</td>\n",
       "      <td>-80.083366</td>\n",
       "      <td>Knorr's Sunoco Service</td>\n",
       "      <td>[Carnegie]</td>\n",
       "      <td>True</td>\n",
       "      <td>3</td>\n",
       "      <td>3.5</td>\n",
       "      <td>PA</td>\n",
       "      <td>business</td>\n",
       "    </tr>\n",
       "    <tr>\n",
       "      <th>15</th>\n",
       "      <td>{'Accepts Credit Cards': True}</td>\n",
       "      <td>F04xyOUA2xnUoCiWpx9iJA</td>\n",
       "      <td>[Local Services, Dry Cleaning &amp; Laundry, Sewin...</td>\n",
       "      <td>Carnegie</td>\n",
       "      <td>Bower Hill Rd &amp; Vanadium Rd\\nCarnegie, PA 15106</td>\n",
       "      <td>{}</td>\n",
       "      <td>40.368825</td>\n",
       "      <td>-80.084354</td>\n",
       "      <td>Rossi Tailoring &amp; Cleaners</td>\n",
       "      <td>[]</td>\n",
       "      <td>True</td>\n",
       "      <td>3</td>\n",
       "      <td>3.0</td>\n",
       "      <td>PA</td>\n",
       "      <td>business</td>\n",
       "    </tr>\n",
       "    <tr>\n",
       "      <th>16</th>\n",
       "      <td>{}</td>\n",
       "      <td>Cdcus0NADzyY3XiJM2O5Sg</td>\n",
       "      <td>[Automotive, Gas &amp; Service Stations]</td>\n",
       "      <td>Carnegie</td>\n",
       "      <td>1927 E Railroad St\\nCarnegie, PA 15106</td>\n",
       "      <td>{}</td>\n",
       "      <td>40.388284</td>\n",
       "      <td>-80.089241</td>\n",
       "      <td>Heidelberg B P</td>\n",
       "      <td>[]</td>\n",
       "      <td>False</td>\n",
       "      <td>4</td>\n",
       "      <td>3.0</td>\n",
       "      <td>PA</td>\n",
       "      <td>business</td>\n",
       "    </tr>\n",
       "    <tr>\n",
       "      <th>17</th>\n",
       "      <td>{'Dogs Allowed': False, 'Good For Groups': Tru...</td>\n",
       "      <td>fNGIbpazjTRdXgwRY_NIXA</td>\n",
       "      <td>[Bars, American (Traditional), Nightlife, Loun...</td>\n",
       "      <td>Carnegie</td>\n",
       "      <td>1201 Washington Ave\\nCarnegie, PA 15106</td>\n",
       "      <td>{'Monday': {'open': '11:00', 'close': '23:00'}...</td>\n",
       "      <td>40.396469</td>\n",
       "      <td>-80.084942</td>\n",
       "      <td>Rocky's Lounge</td>\n",
       "      <td>[]</td>\n",
       "      <td>True</td>\n",
       "      <td>10</td>\n",
       "      <td>4.0</td>\n",
       "      <td>PA</td>\n",
       "      <td>business</td>\n",
       "    </tr>\n",
       "    <tr>\n",
       "      <th>18</th>\n",
       "      <td>{'Good For Groups': False, 'Has TV': True, 'Co...</td>\n",
       "      <td>b9WZJp5L1RZr4F1nxclOoQ</td>\n",
       "      <td>[Breakfast &amp; Brunch, Sandwiches, Restaurants]</td>\n",
       "      <td>Carnegie</td>\n",
       "      <td>1073 Washington Ave\\nCarnegie, PA 15106</td>\n",
       "      <td>{'Monday': {'open': '06:00', 'close': '14:30'}...</td>\n",
       "      <td>40.398001</td>\n",
       "      <td>-80.083458</td>\n",
       "      <td>Gab &amp; Eat</td>\n",
       "      <td>[]</td>\n",
       "      <td>True</td>\n",
       "      <td>69</td>\n",
       "      <td>4.5</td>\n",
       "      <td>PA</td>\n",
       "      <td>business</td>\n",
       "    </tr>\n",
       "    <tr>\n",
       "      <th>19</th>\n",
       "      <td>{'Take-out': True, 'Has TV': False, 'Noise Lev...</td>\n",
       "      <td>zaXDakTd3RXyOa7sMrUE1g</td>\n",
       "      <td>[Cafes, Restaurants]</td>\n",
       "      <td>Carnegie</td>\n",
       "      <td>202 3rd Ave\\nCarnegie\\nCarnegie, PA 15106</td>\n",
       "      <td>{'Monday': {'open': '07:00', 'close': '14:00'}...</td>\n",
       "      <td>40.404638</td>\n",
       "      <td>-80.089985</td>\n",
       "      <td>Barb's Country Junction Cafe</td>\n",
       "      <td>[Carnegie]</td>\n",
       "      <td>True</td>\n",
       "      <td>9</td>\n",
       "      <td>4.0</td>\n",
       "      <td>PA</td>\n",
       "      <td>business</td>\n",
       "    </tr>\n",
       "    <tr>\n",
       "      <th>20</th>\n",
       "      <td>{'Price Range': 2, 'Wi-Fi': 'free', 'Accepts C...</td>\n",
       "      <td>zgy27FSnvwdINfk5cXBIyQ</td>\n",
       "      <td>[Hotels &amp; Travel, Event Planning &amp; Services, H...</td>\n",
       "      <td>Carnegie</td>\n",
       "      <td>520 North Bell Avenue\\nCarnegie\\nCarnegie, PA ...</td>\n",
       "      <td>{'Monday': {'open': '00:00', 'close': '00:00'}...</td>\n",
       "      <td>40.417419</td>\n",
       "      <td>-80.088557</td>\n",
       "      <td>Extended Stay America - Pittsburgh - Carnegie</td>\n",
       "      <td>[Carnegie]</td>\n",
       "      <td>True</td>\n",
       "      <td>11</td>\n",
       "      <td>3.5</td>\n",
       "      <td>PA</td>\n",
       "      <td>business</td>\n",
       "    </tr>\n",
       "    <tr>\n",
       "      <th>21</th>\n",
       "      <td>{'Take-out': True, 'Has TV': True, 'Noise Leve...</td>\n",
       "      <td>WETE_LykpcnrC1sFcQ5EGg</td>\n",
       "      <td>[Pubs, Irish, Nightlife, Bars, Restaurants]</td>\n",
       "      <td>Carnegie</td>\n",
       "      <td>215 E Main St\\nCarnegie\\nCarnegie, PA 15106</td>\n",
       "      <td>{}</td>\n",
       "      <td>40.408670</td>\n",
       "      <td>-80.085279</td>\n",
       "      <td>Paddy's Pour House</td>\n",
       "      <td>[Carnegie]</td>\n",
       "      <td>False</td>\n",
       "      <td>8</td>\n",
       "      <td>3.5</td>\n",
       "      <td>PA</td>\n",
       "      <td>business</td>\n",
       "    </tr>\n",
       "    <tr>\n",
       "      <th>22</th>\n",
       "      <td>{}</td>\n",
       "      <td>6o3RK6rTcN3nw-j-r2nQmA</td>\n",
       "      <td>[Pizza, Restaurants]</td>\n",
       "      <td>Carnegie</td>\n",
       "      <td>231 E Main St\\nCarnegie\\nCarnegie, PA 15106</td>\n",
       "      <td>{'Monday': {'open': '11:00', 'close': '22:00'}...</td>\n",
       "      <td>40.408832</td>\n",
       "      <td>-80.084934</td>\n",
       "      <td>Porto Fino Pizzaria &amp; Gyro</td>\n",
       "      <td>[Carnegie]</td>\n",
       "      <td>True</td>\n",
       "      <td>4</td>\n",
       "      <td>2.5</td>\n",
       "      <td>PA</td>\n",
       "      <td>business</td>\n",
       "    </tr>\n",
       "    <tr>\n",
       "      <th>23</th>\n",
       "      <td>{'Accepts Credit Cards': False}</td>\n",
       "      <td>woOVJ0Z2f6XNCDntHA3b_g</td>\n",
       "      <td>[Local Services, Sewing &amp; Alterations]</td>\n",
       "      <td>Carnegie</td>\n",
       "      <td>117 E Mall Plz\\nCarnegie\\nCarnegie, PA 15106</td>\n",
       "      <td>{'Monday': {'open': '08:30', 'close': '19:00'}...</td>\n",
       "      <td>40.406871</td>\n",
       "      <td>-80.087605</td>\n",
       "      <td>Alteration World</td>\n",
       "      <td>[Carnegie]</td>\n",
       "      <td>True</td>\n",
       "      <td>10</td>\n",
       "      <td>4.5</td>\n",
       "      <td>PA</td>\n",
       "      <td>business</td>\n",
       "    </tr>\n",
       "    <tr>\n",
       "      <th>24</th>\n",
       "      <td>{'Take-out': True, 'Has TV': False, 'Noise Lev...</td>\n",
       "      <td>rv7CY8G_XibTx82YhuqQRw</td>\n",
       "      <td>[Restaurants]</td>\n",
       "      <td>Carnegie</td>\n",
       "      <td>Raceway Plz\\nCarnegie, PA 15106</td>\n",
       "      <td>{}</td>\n",
       "      <td>40.386891</td>\n",
       "      <td>-80.093704</td>\n",
       "      <td>Long John Silver's</td>\n",
       "      <td>[]</td>\n",
       "      <td>True</td>\n",
       "      <td>6</td>\n",
       "      <td>3.0</td>\n",
       "      <td>PA</td>\n",
       "      <td>business</td>\n",
       "    </tr>\n",
       "    <tr>\n",
       "      <th>25</th>\n",
       "      <td>{'By Appointment Only': True}</td>\n",
       "      <td>e_U_FnpdKVgNb4mUN2cU_Q</td>\n",
       "      <td>[Health &amp; Medical, Dentists, General Dentistry]</td>\n",
       "      <td>Carnegie</td>\n",
       "      <td>2323 Greentree Rd\\nCarnegie, PA 15106</td>\n",
       "      <td>{}</td>\n",
       "      <td>40.390760</td>\n",
       "      <td>-80.078657</td>\n",
       "      <td>Weinberg Lisa, DMD</td>\n",
       "      <td>[]</td>\n",
       "      <td>True</td>\n",
       "      <td>8</td>\n",
       "      <td>2.5</td>\n",
       "      <td>PA</td>\n",
       "      <td>business</td>\n",
       "    </tr>\n",
       "    <tr>\n",
       "      <th>26</th>\n",
       "      <td>{'Take-out': True, 'Has TV': True, 'Noise Leve...</td>\n",
       "      <td>SQ0j7bgSTazkVQlF5AnqyQ</td>\n",
       "      <td>[Chinese, Restaurants]</td>\n",
       "      <td>Carnegie</td>\n",
       "      <td>214 E Main St\\nCarnegie\\nCarnegie, PA 15106</td>\n",
       "      <td>{}</td>\n",
       "      <td>40.408347</td>\n",
       "      <td>-80.084962</td>\n",
       "      <td>Don Don Chinese Restaurant</td>\n",
       "      <td>[Carnegie]</td>\n",
       "      <td>True</td>\n",
       "      <td>10</td>\n",
       "      <td>2.5</td>\n",
       "      <td>PA</td>\n",
       "      <td>business</td>\n",
       "    </tr>\n",
       "    <tr>\n",
       "      <th>27</th>\n",
       "      <td>{}</td>\n",
       "      <td>LTXS986DAz-4jE_sV2Ui4w</td>\n",
       "      <td>[Veterinarians, Pets]</td>\n",
       "      <td>Heidelberg</td>\n",
       "      <td>1747 E Railroad St\\nHeidelberg, PA 15106</td>\n",
       "      <td>{'Monday': {'open': '09:00', 'close': '19:00'}...</td>\n",
       "      <td>40.390569</td>\n",
       "      <td>-80.087898</td>\n",
       "      <td>Chartiers Animal Hospital</td>\n",
       "      <td>[]</td>\n",
       "      <td>True</td>\n",
       "      <td>3</td>\n",
       "      <td>3.5</td>\n",
       "      <td>PA</td>\n",
       "      <td>business</td>\n",
       "    </tr>\n",
       "    <tr>\n",
       "      <th>28</th>\n",
       "      <td>{'Take-out': True, 'Has TV': False, 'Noise Lev...</td>\n",
       "      <td>wqu7ILomIOPSduRwoWp4AQ</td>\n",
       "      <td>[Breakfast &amp; Brunch, American (Traditional), D...</td>\n",
       "      <td>Pittsburgh</td>\n",
       "      <td>2180 Greentree Rd\\nPittsburgh, PA 15220</td>\n",
       "      <td>{'Monday': {'open': '00:00', 'close': '00:00'}...</td>\n",
       "      <td>40.391140</td>\n",
       "      <td>-80.073788</td>\n",
       "      <td>Denny's</td>\n",
       "      <td>[]</td>\n",
       "      <td>True</td>\n",
       "      <td>16</td>\n",
       "      <td>3.5</td>\n",
       "      <td>PA</td>\n",
       "      <td>business</td>\n",
       "    </tr>\n",
       "    <tr>\n",
       "      <th>29</th>\n",
       "      <td>{'Parking': {'valet': False, 'validated': Fals...</td>\n",
       "      <td>1u2NauOy8xDj7aFQET680A</td>\n",
       "      <td>[Active Life, Boxing, Gyms, Fitness &amp; Instruct...</td>\n",
       "      <td>Carnegie</td>\n",
       "      <td>100 Roessler Rd\\nCarnegie, PA 15106</td>\n",
       "      <td>{'Monday': {'open': '05:30', 'close': '22:00'}...</td>\n",
       "      <td>40.394305</td>\n",
       "      <td>-80.060154</td>\n",
       "      <td>Amerifit</td>\n",
       "      <td>[]</td>\n",
       "      <td>True</td>\n",
       "      <td>8</td>\n",
       "      <td>3.0</td>\n",
       "      <td>PA</td>\n",
       "      <td>business</td>\n",
       "    </tr>\n",
       "    <tr>\n",
       "      <th>...</th>\n",
       "      <td>...</td>\n",
       "      <td>...</td>\n",
       "      <td>...</td>\n",
       "      <td>...</td>\n",
       "      <td>...</td>\n",
       "      <td>...</td>\n",
       "      <td>...</td>\n",
       "      <td>...</td>\n",
       "      <td>...</td>\n",
       "      <td>...</td>\n",
       "      <td>...</td>\n",
       "      <td>...</td>\n",
       "      <td>...</td>\n",
       "      <td>...</td>\n",
       "      <td>...</td>\n",
       "    </tr>\n",
       "    <tr>\n",
       "      <th>85866</th>\n",
       "      <td>{'Accepts Credit Cards': True, 'Good for Kids'...</td>\n",
       "      <td>ceobxf5bpSmIZMWqwWad1w</td>\n",
       "      <td>[Soup, Sandwiches, Salad, Restaurants]</td>\n",
       "      <td>Tempe</td>\n",
       "      <td>Tempe Marketplace\\n2000 E Rio Salado Pkwy\\nTem...</td>\n",
       "      <td>{}</td>\n",
       "      <td>33.432927</td>\n",
       "      <td>-111.905575</td>\n",
       "      <td>Panera Bread</td>\n",
       "      <td>[]</td>\n",
       "      <td>True</td>\n",
       "      <td>9</td>\n",
       "      <td>2.5</td>\n",
       "      <td>AZ</td>\n",
       "      <td>business</td>\n",
       "    </tr>\n",
       "    <tr>\n",
       "      <th>85867</th>\n",
       "      <td>{'Take-out': True, 'Has TV': False, 'Noise Lev...</td>\n",
       "      <td>D-vMDv5NlLb9od6sqXtX8A</td>\n",
       "      <td>[Food, Fast Food, Asian Fusion, Poke, Restaura...</td>\n",
       "      <td>Las Vegas</td>\n",
       "      <td>6040 W Badura Ave\\nSte 150\\nSpring Valley\\nLas...</td>\n",
       "      <td>{'Monday': {'open': '11:00', 'close': '21:00'}...</td>\n",
       "      <td>36.062737</td>\n",
       "      <td>-115.223679</td>\n",
       "      <td>Soho Sushi Bowlrrito</td>\n",
       "      <td>[Spring Valley]</td>\n",
       "      <td>True</td>\n",
       "      <td>27</td>\n",
       "      <td>4.5</td>\n",
       "      <td>NV</td>\n",
       "      <td>business</td>\n",
       "    </tr>\n",
       "    <tr>\n",
       "      <th>85868</th>\n",
       "      <td>{'Parking': {'valet': False, 'validated': Fals...</td>\n",
       "      <td>xppcCbZet-xToM83enlieg</td>\n",
       "      <td>[Active Life, Dance Studios, Pilates, Yoga, Fi...</td>\n",
       "      <td>Las Vegas</td>\n",
       "      <td>4720 West Sahara Ave\\nWestside\\nLas Vegas, NV ...</td>\n",
       "      <td>{'Monday': {'open': '10:00', 'close': '20:00'}...</td>\n",
       "      <td>36.147556</td>\n",
       "      <td>-115.207116</td>\n",
       "      <td>DYP Dance And Fitness</td>\n",
       "      <td>[Westside]</td>\n",
       "      <td>True</td>\n",
       "      <td>7</td>\n",
       "      <td>5.0</td>\n",
       "      <td>NV</td>\n",
       "      <td>business</td>\n",
       "    </tr>\n",
       "    <tr>\n",
       "      <th>85869</th>\n",
       "      <td>{'Outdoor Seating': True, 'Has TV': True, 'Whe...</td>\n",
       "      <td>YoryL0t3x8T2wfD96Xs6Kw</td>\n",
       "      <td>[Adult Entertainment, Party &amp; Event Planning, ...</td>\n",
       "      <td>Las Vegas</td>\n",
       "      <td>The Strip\\nLas Vegas, NV</td>\n",
       "      <td>{'Monday': {'open': '00:00', 'close': '00:00'}...</td>\n",
       "      <td>36.133201</td>\n",
       "      <td>-115.164227</td>\n",
       "      <td>Chris Cowette - Vegas Club Promoter</td>\n",
       "      <td>[The Strip]</td>\n",
       "      <td>True</td>\n",
       "      <td>6</td>\n",
       "      <td>5.0</td>\n",
       "      <td>NV</td>\n",
       "      <td>business</td>\n",
       "    </tr>\n",
       "    <tr>\n",
       "      <th>85870</th>\n",
       "      <td>{'Take-out': True, 'Has TV': False, 'Noise Lev...</td>\n",
       "      <td>OqZhUPDGmzu_k8jiyEhX6g</td>\n",
       "      <td>[American (Traditional), Fast Food, Chicken Wi...</td>\n",
       "      <td>Chandler</td>\n",
       "      <td>4075 S Arizona Ave\\nChandler, AZ 85248</td>\n",
       "      <td>{'Monday': {'open': '09:00', 'close': '00:00'}...</td>\n",
       "      <td>33.246349</td>\n",
       "      <td>-111.840639</td>\n",
       "      <td>Raising Cane's</td>\n",
       "      <td>[]</td>\n",
       "      <td>True</td>\n",
       "      <td>13</td>\n",
       "      <td>4.0</td>\n",
       "      <td>AZ</td>\n",
       "      <td>business</td>\n",
       "    </tr>\n",
       "    <tr>\n",
       "      <th>85871</th>\n",
       "      <td>{'Parking': {'valet': False, 'validated': Fals...</td>\n",
       "      <td>EB7_p4M5whur3KWesXE6gw</td>\n",
       "      <td>[Active Life, Gyms, Trainers, Fitness &amp; Instru...</td>\n",
       "      <td>Las Vegas</td>\n",
       "      <td>4775 Quality Ct\\nLas Vegas, NV 89103</td>\n",
       "      <td>{'Monday': {'open': '05:00', 'close': '21:00'}...</td>\n",
       "      <td>36.105608</td>\n",
       "      <td>-115.205611</td>\n",
       "      <td>Kanoa Strength Gym</td>\n",
       "      <td>[]</td>\n",
       "      <td>True</td>\n",
       "      <td>5</td>\n",
       "      <td>5.0</td>\n",
       "      <td>NV</td>\n",
       "      <td>business</td>\n",
       "    </tr>\n",
       "    <tr>\n",
       "      <th>85873</th>\n",
       "      <td>{}</td>\n",
       "      <td>iFX50dGCzWkVyunSZUzoiw</td>\n",
       "      <td>[Bakeries, Bars, Food, Wine Bars, Nightlife, I...</td>\n",
       "      <td>Scottsdale</td>\n",
       "      <td>11485 N 136th St\\nScottsdale, AZ 85259</td>\n",
       "      <td>{'Tuesday': {'open': '17:00', 'close': '22:00'...</td>\n",
       "      <td>33.590790</td>\n",
       "      <td>-111.786674</td>\n",
       "      <td>CM2 Pizzeria &amp; Bakeshop</td>\n",
       "      <td>[]</td>\n",
       "      <td>True</td>\n",
       "      <td>6</td>\n",
       "      <td>5.0</td>\n",
       "      <td>AZ</td>\n",
       "      <td>business</td>\n",
       "    </tr>\n",
       "    <tr>\n",
       "      <th>85874</th>\n",
       "      <td>{'Outdoor Seating': True, 'Take-out': True, 'G...</td>\n",
       "      <td>5PGbTsWR0UN9QuzN2XljyQ</td>\n",
       "      <td>[Food, Coffee &amp; Tea]</td>\n",
       "      <td>Phoenix</td>\n",
       "      <td>718 N Central Ave\\nPhoenix, AZ 85004</td>\n",
       "      <td>{'Monday': {'open': '06:00', 'close': '00:00'}...</td>\n",
       "      <td>33.456388</td>\n",
       "      <td>-112.074092</td>\n",
       "      <td>The Grand Central Coffee Company</td>\n",
       "      <td>[]</td>\n",
       "      <td>True</td>\n",
       "      <td>16</td>\n",
       "      <td>4.0</td>\n",
       "      <td>AZ</td>\n",
       "      <td>business</td>\n",
       "    </tr>\n",
       "    <tr>\n",
       "      <th>85875</th>\n",
       "      <td>{}</td>\n",
       "      <td>xoMhBZHpY40EAyy6iQ_I-A</td>\n",
       "      <td>[Hair Salons, Hair Extensions, Nail Salons, Ey...</td>\n",
       "      <td>Las Vegas</td>\n",
       "      <td>8680 W Warm Springs Rd\\nSte 13\\nSouthwest\\nLas...</td>\n",
       "      <td>{'Monday': {'open': '08:00', 'close': '22:00'}...</td>\n",
       "      <td>36.056214</td>\n",
       "      <td>-115.281151</td>\n",
       "      <td>Sexy3D Extensions</td>\n",
       "      <td>[Southwest, Spring Valley]</td>\n",
       "      <td>True</td>\n",
       "      <td>7</td>\n",
       "      <td>5.0</td>\n",
       "      <td>NV</td>\n",
       "      <td>business</td>\n",
       "    </tr>\n",
       "    <tr>\n",
       "      <th>85878</th>\n",
       "      <td>{'Good for Kids': True}</td>\n",
       "      <td>5JDMpRduKnuPz-1OsF0I_A</td>\n",
       "      <td>[Local Flavor]</td>\n",
       "      <td>Las Vegas</td>\n",
       "      <td>300 Stewart Ave\\nDowntown\\nLas Vegas, NV 89101</td>\n",
       "      <td>{'Tuesday': {'open': '18:00', 'close': '20:00'}}</td>\n",
       "      <td>36.172815</td>\n",
       "      <td>-115.141243</td>\n",
       "      <td>YEE: \"Greed\" at The Mob Museum</td>\n",
       "      <td>[Downtown]</td>\n",
       "      <td>True</td>\n",
       "      <td>8</td>\n",
       "      <td>5.0</td>\n",
       "      <td>NV</td>\n",
       "      <td>business</td>\n",
       "    </tr>\n",
       "    <tr>\n",
       "      <th>85879</th>\n",
       "      <td>{}</td>\n",
       "      <td>C6_IoaDD3mddplTXdbKGEg</td>\n",
       "      <td>[Yelp Events, Local Flavor]</td>\n",
       "      <td>Charlotte</td>\n",
       "      <td>1608 East Blvd\\nDilworth\\nCharlotte, NC 28203</td>\n",
       "      <td>{}</td>\n",
       "      <td>35.199185</td>\n",
       "      <td>-80.841449</td>\n",
       "      <td>YEE: An Evening With Kid Cashew</td>\n",
       "      <td>[Dilworth]</td>\n",
       "      <td>True</td>\n",
       "      <td>32</td>\n",
       "      <td>5.0</td>\n",
       "      <td>NC</td>\n",
       "      <td>business</td>\n",
       "    </tr>\n",
       "    <tr>\n",
       "      <th>85880</th>\n",
       "      <td>{'Take-out': True, 'Has TV': False, 'Noise Lev...</td>\n",
       "      <td>UByngND8rAr6Qu2il34Qrw</td>\n",
       "      <td>[Sandwiches, Salad, Restaurants]</td>\n",
       "      <td>Scottsdale</td>\n",
       "      <td>16495 N Scottsdale Rd\\nSte 105\\nScottsdale, AZ...</td>\n",
       "      <td>{'Monday': {'open': '11:00', 'close': '19:00'}...</td>\n",
       "      <td>33.635558</td>\n",
       "      <td>-111.921071</td>\n",
       "      <td>The Chicken Scoop</td>\n",
       "      <td>[]</td>\n",
       "      <td>True</td>\n",
       "      <td>23</td>\n",
       "      <td>4.0</td>\n",
       "      <td>AZ</td>\n",
       "      <td>business</td>\n",
       "    </tr>\n",
       "    <tr>\n",
       "      <th>85881</th>\n",
       "      <td>{'Price Range': 3, 'Take-out': True, 'Has TV':...</td>\n",
       "      <td>FcvkAc_OTDOOLLEln3jlxA</td>\n",
       "      <td>[Asian Fusion, Sushi Bars, Japanese, Restaurants]</td>\n",
       "      <td>Phoenix</td>\n",
       "      <td>5538 N 7th St\\nSte 110\\nPhoenix, AZ 85014</td>\n",
       "      <td>{'Monday': {'open': '11:00', 'close': '22:00'}...</td>\n",
       "      <td>33.517942</td>\n",
       "      <td>-112.065448</td>\n",
       "      <td>Pure Sushi Colony</td>\n",
       "      <td>[]</td>\n",
       "      <td>True</td>\n",
       "      <td>18</td>\n",
       "      <td>4.0</td>\n",
       "      <td>AZ</td>\n",
       "      <td>business</td>\n",
       "    </tr>\n",
       "    <tr>\n",
       "      <th>85882</th>\n",
       "      <td>{'Parking': {'valet': False, 'validated': Fals...</td>\n",
       "      <td>h1aZ3B_i83ccUcjgtRfMaA</td>\n",
       "      <td>[Skin Care, Waxing, Hair Removal, Beauty &amp; Spas]</td>\n",
       "      <td>Scottsdale</td>\n",
       "      <td>3301 N Miller Rd\\nScottsdale, AZ 85251</td>\n",
       "      <td>{'Monday': {'open': '13:00', 'close': '19:00'}...</td>\n",
       "      <td>33.486405</td>\n",
       "      <td>-111.917149</td>\n",
       "      <td>Skin Awakened</td>\n",
       "      <td>[]</td>\n",
       "      <td>True</td>\n",
       "      <td>3</td>\n",
       "      <td>5.0</td>\n",
       "      <td>AZ</td>\n",
       "      <td>business</td>\n",
       "    </tr>\n",
       "    <tr>\n",
       "      <th>85883</th>\n",
       "      <td>{}</td>\n",
       "      <td>ieZDYoAEq0xV4budBDOU6w</td>\n",
       "      <td>[Real Estate, Home Services, Real Estate Agents]</td>\n",
       "      <td>Las Vegas</td>\n",
       "      <td>1200 South Fourth St\\nDowntown\\nLas Vegas, NV ...</td>\n",
       "      <td>{'Monday': {'open': '09:00', 'close': '00:00'}...</td>\n",
       "      <td>36.157447</td>\n",
       "      <td>-115.150340</td>\n",
       "      <td>Brad Winston, CPA/Realtor-King of Condos, Inc.</td>\n",
       "      <td>[Downtown]</td>\n",
       "      <td>True</td>\n",
       "      <td>4</td>\n",
       "      <td>5.0</td>\n",
       "      <td>NV</td>\n",
       "      <td>business</td>\n",
       "    </tr>\n",
       "    <tr>\n",
       "      <th>85884</th>\n",
       "      <td>{'Price Range': 1, 'Take-out': True, 'Has TV':...</td>\n",
       "      <td>BiufIB-tejW9JqJdxUZJ5w</td>\n",
       "      <td>[Sandwiches, Restaurants]</td>\n",
       "      <td>Phoenix</td>\n",
       "      <td>4910 East Ray Rd\\nPhoenix, AZ 85044</td>\n",
       "      <td>{'Monday': {'open': '10:00', 'close': '22:00'}...</td>\n",
       "      <td>33.320454</td>\n",
       "      <td>-111.977342</td>\n",
       "      <td>Pita Pit</td>\n",
       "      <td>[]</td>\n",
       "      <td>True</td>\n",
       "      <td>5</td>\n",
       "      <td>5.0</td>\n",
       "      <td>AZ</td>\n",
       "      <td>business</td>\n",
       "    </tr>\n",
       "    <tr>\n",
       "      <th>85885</th>\n",
       "      <td>{'Outdoor Seating': False, 'Take-out': True, '...</td>\n",
       "      <td>ECRjdXYLhGzQjCoZKeq6qg</td>\n",
       "      <td>[Sushi Bars, Japanese, Restaurants]</td>\n",
       "      <td>North Las Vegas</td>\n",
       "      <td>4210 W Craig Rd\\nSte 100\\nNorth Las Vegas, NV ...</td>\n",
       "      <td>{'Monday': {'open': '11:30', 'close': '22:00'}...</td>\n",
       "      <td>36.239686</td>\n",
       "      <td>-115.196967</td>\n",
       "      <td>Tokyo Sushi House II</td>\n",
       "      <td>[]</td>\n",
       "      <td>True</td>\n",
       "      <td>15</td>\n",
       "      <td>3.0</td>\n",
       "      <td>NV</td>\n",
       "      <td>business</td>\n",
       "    </tr>\n",
       "    <tr>\n",
       "      <th>85886</th>\n",
       "      <td>{'Take-out': True, 'Has TV': False, 'Noise Lev...</td>\n",
       "      <td>mCiSmiZ7iNI08F6dGXP7tw</td>\n",
       "      <td>[Food, Desserts, Restaurants, Bakeries, Sandwi...</td>\n",
       "      <td>Las Vegas</td>\n",
       "      <td>7100 W Craig Rd\\nNorthwest\\nLas Vegas, NV 89129</td>\n",
       "      <td>{'Monday': {'open': '07:00', 'close': '22:00'}...</td>\n",
       "      <td>36.240983</td>\n",
       "      <td>-115.249473</td>\n",
       "      <td>Kneaders Bakery &amp; Cafe</td>\n",
       "      <td>[Northwest]</td>\n",
       "      <td>True</td>\n",
       "      <td>24</td>\n",
       "      <td>3.5</td>\n",
       "      <td>NV</td>\n",
       "      <td>business</td>\n",
       "    </tr>\n",
       "    <tr>\n",
       "      <th>85887</th>\n",
       "      <td>{'Parking': {'valet': False, 'validated': Fals...</td>\n",
       "      <td>csnolzm2mzbsohha4jSi-g</td>\n",
       "      <td>[Food, Beer, Wine &amp; Spirits, Grocery, Shopping...</td>\n",
       "      <td>Phoenix</td>\n",
       "      <td>1311 E Bell Rd\\nPhoenix, AZ 85022</td>\n",
       "      <td>{'Monday': {'open': '09:00', 'close': '21:00'}...</td>\n",
       "      <td>33.639310</td>\n",
       "      <td>-112.054317</td>\n",
       "      <td>Frys Marketplace</td>\n",
       "      <td>[]</td>\n",
       "      <td>True</td>\n",
       "      <td>21</td>\n",
       "      <td>2.5</td>\n",
       "      <td>AZ</td>\n",
       "      <td>business</td>\n",
       "    </tr>\n",
       "    <tr>\n",
       "      <th>85888</th>\n",
       "      <td>{'Accepts Credit Cards': True}</td>\n",
       "      <td>0c5BWTHCjKyxh4461H14IQ</td>\n",
       "      <td>[Pet Services, Event Photography, Photographer...</td>\n",
       "      <td>Las Vegas</td>\n",
       "      <td>Downtown\\nLas Vegas, NV</td>\n",
       "      <td>{'Monday': {'open': '08:00', 'close': '20:00'}...</td>\n",
       "      <td>36.171909</td>\n",
       "      <td>-115.139969</td>\n",
       "      <td>Photobetty Photography</td>\n",
       "      <td>[Downtown]</td>\n",
       "      <td>True</td>\n",
       "      <td>3</td>\n",
       "      <td>5.0</td>\n",
       "      <td>NV</td>\n",
       "      <td>business</td>\n",
       "    </tr>\n",
       "    <tr>\n",
       "      <th>85889</th>\n",
       "      <td>{'Dogs Allowed': True, 'Take-out': True, 'Has ...</td>\n",
       "      <td>TFCPmrQj9PD1WvnZGYO85Q</td>\n",
       "      <td>[Breakfast &amp; Brunch, American (New), Ramen, Ja...</td>\n",
       "      <td>Phoenix</td>\n",
       "      <td>4350 E Camelback Rd\\nBldg I-100\\nPhoenix, AZ 8...</td>\n",
       "      <td>{'Monday': {'open': '07:00', 'close': '14:00'}...</td>\n",
       "      <td>33.510044</td>\n",
       "      <td>-111.987108</td>\n",
       "      <td>Chestnut</td>\n",
       "      <td>[]</td>\n",
       "      <td>True</td>\n",
       "      <td>168</td>\n",
       "      <td>3.5</td>\n",
       "      <td>AZ</td>\n",
       "      <td>business</td>\n",
       "    </tr>\n",
       "    <tr>\n",
       "      <th>85890</th>\n",
       "      <td>{'Price Range': 2, 'Take-out': True, 'Has TV':...</td>\n",
       "      <td>hNX62vEzvdVsMUMmYYHoPQ</td>\n",
       "      <td>[Bars, American (Traditional), Breakfast &amp; Bru...</td>\n",
       "      <td>Laveen</td>\n",
       "      <td>5020 W Baseline Rd\\nSte 123\\nLaveen, AZ 85339</td>\n",
       "      <td>{'Monday': {'open': '07:00', 'close': '23:00'}...</td>\n",
       "      <td>33.378922</td>\n",
       "      <td>-112.166458</td>\n",
       "      <td>Greathouse Sports Grill</td>\n",
       "      <td>[]</td>\n",
       "      <td>True</td>\n",
       "      <td>4</td>\n",
       "      <td>2.0</td>\n",
       "      <td>AZ</td>\n",
       "      <td>business</td>\n",
       "    </tr>\n",
       "    <tr>\n",
       "      <th>85891</th>\n",
       "      <td>{}</td>\n",
       "      <td>Tc_jU5vqV6208ElA6lNk-A</td>\n",
       "      <td>[Bars, Nightlife]</td>\n",
       "      <td>Glendale</td>\n",
       "      <td>6770 North Sunrise Blvd\\nSte G109\\nGlendale, A...</td>\n",
       "      <td>{}</td>\n",
       "      <td>33.532930</td>\n",
       "      <td>-112.260691</td>\n",
       "      <td>Bar Louie</td>\n",
       "      <td>[]</td>\n",
       "      <td>False</td>\n",
       "      <td>18</td>\n",
       "      <td>2.5</td>\n",
       "      <td>AZ</td>\n",
       "      <td>business</td>\n",
       "    </tr>\n",
       "    <tr>\n",
       "      <th>85892</th>\n",
       "      <td>{'Accepts Credit Cards': True}</td>\n",
       "      <td>ezB4DWv1MjWwjbIjVNAb9A</td>\n",
       "      <td>[Home Services, Real Estate, Apartments]</td>\n",
       "      <td>Las Vegas</td>\n",
       "      <td>304 E Silverado Ranch Blvd\\nSoutheast\\nLas Veg...</td>\n",
       "      <td>{'Monday': {'open': '09:00', 'close': '18:00'}...</td>\n",
       "      <td>36.014080</td>\n",
       "      <td>-115.159018</td>\n",
       "      <td>Lyric Apartments</td>\n",
       "      <td>[Southeast]</td>\n",
       "      <td>True</td>\n",
       "      <td>5</td>\n",
       "      <td>2.0</td>\n",
       "      <td>NV</td>\n",
       "      <td>business</td>\n",
       "    </tr>\n",
       "    <tr>\n",
       "      <th>85894</th>\n",
       "      <td>{'Parking': {'valet': False, 'validated': Fals...</td>\n",
       "      <td>BxqRovZ76pJudWJE1tNXbg</td>\n",
       "      <td>[Hair Salons, Makeup Artists, Beauty &amp; Spas]</td>\n",
       "      <td>Phoenix</td>\n",
       "      <td>505 W Dunlap Ave\\nPhoenix, AZ 85021</td>\n",
       "      <td>{}</td>\n",
       "      <td>33.567251</td>\n",
       "      <td>-112.081407</td>\n",
       "      <td>Aries Unisex Salon</td>\n",
       "      <td>[]</td>\n",
       "      <td>True</td>\n",
       "      <td>4</td>\n",
       "      <td>5.0</td>\n",
       "      <td>AZ</td>\n",
       "      <td>business</td>\n",
       "    </tr>\n",
       "    <tr>\n",
       "      <th>85895</th>\n",
       "      <td>{}</td>\n",
       "      <td>R4BA2eTM1jeIEq31EVlE4g</td>\n",
       "      <td>[Gift Shops, Flowers &amp; Gifts, Shopping, Souven...</td>\n",
       "      <td>Las Vegas</td>\n",
       "      <td>3377 S Las Vegas Blvd\\nSte 2020\\nThe Strip\\nLa...</td>\n",
       "      <td>{'Monday': {'open': '10:00', 'close': '23:00'}...</td>\n",
       "      <td>36.121243</td>\n",
       "      <td>-115.171349</td>\n",
       "      <td>Citta Delle Luci</td>\n",
       "      <td>[The Strip]</td>\n",
       "      <td>True</td>\n",
       "      <td>3</td>\n",
       "      <td>3.0</td>\n",
       "      <td>NV</td>\n",
       "      <td>business</td>\n",
       "    </tr>\n",
       "    <tr>\n",
       "      <th>85896</th>\n",
       "      <td>{'Accepts Credit Cards': True}</td>\n",
       "      <td>m7-3lyY0CJEhePfJKWtD3w</td>\n",
       "      <td>[Bridal, Fashion, Shopping, Formal Wear]</td>\n",
       "      <td>Las Vegas</td>\n",
       "      <td>3899 East Sunset Rd\\nSte 105\\nLas Vegas, NV 89120</td>\n",
       "      <td>{'Tuesday': {'open': '10:00', 'close': '18:00'...</td>\n",
       "      <td>36.070535</td>\n",
       "      <td>-115.089318</td>\n",
       "      <td>Bowties Bridal</td>\n",
       "      <td>[]</td>\n",
       "      <td>True</td>\n",
       "      <td>61</td>\n",
       "      <td>4.0</td>\n",
       "      <td>NV</td>\n",
       "      <td>business</td>\n",
       "    </tr>\n",
       "    <tr>\n",
       "      <th>85897</th>\n",
       "      <td>{'Take-out': True, 'Has TV': True, 'Noise Leve...</td>\n",
       "      <td>g0vvhkZWZKlwF8BUeSPaTA</td>\n",
       "      <td>[Mexican, Restaurants]</td>\n",
       "      <td>Goodyear</td>\n",
       "      <td>525 N Estrella Pkwy\\nSte 100\\nGoodyear, AZ 85338</td>\n",
       "      <td>{}</td>\n",
       "      <td>33.452205</td>\n",
       "      <td>-112.392009</td>\n",
       "      <td>Senor Taco</td>\n",
       "      <td>[]</td>\n",
       "      <td>True</td>\n",
       "      <td>89</td>\n",
       "      <td>3.5</td>\n",
       "      <td>AZ</td>\n",
       "      <td>business</td>\n",
       "    </tr>\n",
       "    <tr>\n",
       "      <th>85898</th>\n",
       "      <td>{}</td>\n",
       "      <td>46L_7y9QXffPpOaXNLX8hg</td>\n",
       "      <td>[Car Wash, Automotive]</td>\n",
       "      <td>Phoenix</td>\n",
       "      <td>9215 North 7th St\\nPhoenix, AZ 85020</td>\n",
       "      <td>{'Monday': {'open': '07:00', 'close': '18:00'}...</td>\n",
       "      <td>33.570417</td>\n",
       "      <td>-112.064854</td>\n",
       "      <td>Cobblestone Auto Spa</td>\n",
       "      <td>[]</td>\n",
       "      <td>True</td>\n",
       "      <td>7</td>\n",
       "      <td>3.0</td>\n",
       "      <td>AZ</td>\n",
       "      <td>business</td>\n",
       "    </tr>\n",
       "    <tr>\n",
       "      <th>85900</th>\n",
       "      <td>{}</td>\n",
       "      <td>DH2Ujt_hwcMBIz8VvCb0Lg</td>\n",
       "      <td>[Mexican, Restaurants]</td>\n",
       "      <td>Charlotte</td>\n",
       "      <td>Charlotte Douglas International Airport Termin...</td>\n",
       "      <td>{}</td>\n",
       "      <td>35.224223</td>\n",
       "      <td>-80.940290</td>\n",
       "      <td>Salsarita's Express</td>\n",
       "      <td>[]</td>\n",
       "      <td>True</td>\n",
       "      <td>57</td>\n",
       "      <td>2.5</td>\n",
       "      <td>NC</td>\n",
       "      <td>business</td>\n",
       "    </tr>\n",
       "  </tbody>\n",
       "</table>\n",
       "<p>72145 rows × 15 columns</p>\n",
       "</div>"
      ],
      "text/plain": [
       "                                              attributes  \\\n",
       "0      {'Take-out': True, 'Has TV': False, 'Noise Lev...   \n",
       "1      {'Outdoor Seating': False, 'Good For Groups': ...   \n",
       "2                                {'Good for Kids': True}   \n",
       "3      {'Good For Groups': True, 'Has TV': True, 'Smo...   \n",
       "4      {'Parking': {'valet': False, 'validated': Fals...   \n",
       "5      {'Good For Groups': True, 'Has TV': True, 'Smo...   \n",
       "6                         {'Accepts Credit Cards': True}   \n",
       "7                                {'Good for Kids': True}   \n",
       "8                                                     {}   \n",
       "9                                                     {}   \n",
       "10                                     {'Wi-Fi': 'free'}   \n",
       "11                                                    {}   \n",
       "12     {'Take-out': True, 'Good For Groups': True, 'P...   \n",
       "13     {'Parking': {'valet': False, 'validated': Fals...   \n",
       "14                                                    {}   \n",
       "15                        {'Accepts Credit Cards': True}   \n",
       "16                                                    {}   \n",
       "17     {'Dogs Allowed': False, 'Good For Groups': Tru...   \n",
       "18     {'Good For Groups': False, 'Has TV': True, 'Co...   \n",
       "19     {'Take-out': True, 'Has TV': False, 'Noise Lev...   \n",
       "20     {'Price Range': 2, 'Wi-Fi': 'free', 'Accepts C...   \n",
       "21     {'Take-out': True, 'Has TV': True, 'Noise Leve...   \n",
       "22                                                    {}   \n",
       "23                       {'Accepts Credit Cards': False}   \n",
       "24     {'Take-out': True, 'Has TV': False, 'Noise Lev...   \n",
       "25                         {'By Appointment Only': True}   \n",
       "26     {'Take-out': True, 'Has TV': True, 'Noise Leve...   \n",
       "27                                                    {}   \n",
       "28     {'Take-out': True, 'Has TV': False, 'Noise Lev...   \n",
       "29     {'Parking': {'valet': False, 'validated': Fals...   \n",
       "...                                                  ...   \n",
       "85866  {'Accepts Credit Cards': True, 'Good for Kids'...   \n",
       "85867  {'Take-out': True, 'Has TV': False, 'Noise Lev...   \n",
       "85868  {'Parking': {'valet': False, 'validated': Fals...   \n",
       "85869  {'Outdoor Seating': True, 'Has TV': True, 'Whe...   \n",
       "85870  {'Take-out': True, 'Has TV': False, 'Noise Lev...   \n",
       "85871  {'Parking': {'valet': False, 'validated': Fals...   \n",
       "85873                                                 {}   \n",
       "85874  {'Outdoor Seating': True, 'Take-out': True, 'G...   \n",
       "85875                                                 {}   \n",
       "85878                            {'Good for Kids': True}   \n",
       "85879                                                 {}   \n",
       "85880  {'Take-out': True, 'Has TV': False, 'Noise Lev...   \n",
       "85881  {'Price Range': 3, 'Take-out': True, 'Has TV':...   \n",
       "85882  {'Parking': {'valet': False, 'validated': Fals...   \n",
       "85883                                                 {}   \n",
       "85884  {'Price Range': 1, 'Take-out': True, 'Has TV':...   \n",
       "85885  {'Outdoor Seating': False, 'Take-out': True, '...   \n",
       "85886  {'Take-out': True, 'Has TV': False, 'Noise Lev...   \n",
       "85887  {'Parking': {'valet': False, 'validated': Fals...   \n",
       "85888                     {'Accepts Credit Cards': True}   \n",
       "85889  {'Dogs Allowed': True, 'Take-out': True, 'Has ...   \n",
       "85890  {'Price Range': 2, 'Take-out': True, 'Has TV':...   \n",
       "85891                                                 {}   \n",
       "85892                     {'Accepts Credit Cards': True}   \n",
       "85894  {'Parking': {'valet': False, 'validated': Fals...   \n",
       "85895                                                 {}   \n",
       "85896                     {'Accepts Credit Cards': True}   \n",
       "85897  {'Take-out': True, 'Has TV': True, 'Noise Leve...   \n",
       "85898                                                 {}   \n",
       "85900                                                 {}   \n",
       "\n",
       "                  business_id  \\\n",
       "0      5UmKMjUEUNdYWqANhGckJw   \n",
       "1      UsFtqoBl7naz8AVUBZMjQQ   \n",
       "2      cE27W9VPgO88Qxe4ol6y_g   \n",
       "3      mVHrayjG3uZ_RLHkLj-AMg   \n",
       "4      mYSpR_SLPgUVymYOvTQd_Q   \n",
       "5      KayYbHCt-RkbGcPdGOThNg   \n",
       "6      b12U9TFESStdy7CsTtcOeg   \n",
       "7      Sktj1eHQFuVa-M4bgnEh8g   \n",
       "8      3ZVKmuK2l7uXPE6lXY4Dbg   \n",
       "9      QoDa50dc7g62xciFygXB9w   \n",
       "10     1_lU0-eSWJCRvNGk78Zh9Q   \n",
       "11     _qopVQ6_Mz6W7-Pmbi56GQ   \n",
       "12     wJr6kSA5dchdgOdwH6dZ2w   \n",
       "13     yXuao0pFz1AxB21vJjDf5w   \n",
       "14     LLJMI-_fSp6OYQuY4rwarw   \n",
       "15     F04xyOUA2xnUoCiWpx9iJA   \n",
       "16     Cdcus0NADzyY3XiJM2O5Sg   \n",
       "17     fNGIbpazjTRdXgwRY_NIXA   \n",
       "18     b9WZJp5L1RZr4F1nxclOoQ   \n",
       "19     zaXDakTd3RXyOa7sMrUE1g   \n",
       "20     zgy27FSnvwdINfk5cXBIyQ   \n",
       "21     WETE_LykpcnrC1sFcQ5EGg   \n",
       "22     6o3RK6rTcN3nw-j-r2nQmA   \n",
       "23     woOVJ0Z2f6XNCDntHA3b_g   \n",
       "24     rv7CY8G_XibTx82YhuqQRw   \n",
       "25     e_U_FnpdKVgNb4mUN2cU_Q   \n",
       "26     SQ0j7bgSTazkVQlF5AnqyQ   \n",
       "27     LTXS986DAz-4jE_sV2Ui4w   \n",
       "28     wqu7ILomIOPSduRwoWp4AQ   \n",
       "29     1u2NauOy8xDj7aFQET680A   \n",
       "...                       ...   \n",
       "85866  ceobxf5bpSmIZMWqwWad1w   \n",
       "85867  D-vMDv5NlLb9od6sqXtX8A   \n",
       "85868  xppcCbZet-xToM83enlieg   \n",
       "85869  YoryL0t3x8T2wfD96Xs6Kw   \n",
       "85870  OqZhUPDGmzu_k8jiyEhX6g   \n",
       "85871  EB7_p4M5whur3KWesXE6gw   \n",
       "85873  iFX50dGCzWkVyunSZUzoiw   \n",
       "85874  5PGbTsWR0UN9QuzN2XljyQ   \n",
       "85875  xoMhBZHpY40EAyy6iQ_I-A   \n",
       "85878  5JDMpRduKnuPz-1OsF0I_A   \n",
       "85879  C6_IoaDD3mddplTXdbKGEg   \n",
       "85880  UByngND8rAr6Qu2il34Qrw   \n",
       "85881  FcvkAc_OTDOOLLEln3jlxA   \n",
       "85882  h1aZ3B_i83ccUcjgtRfMaA   \n",
       "85883  ieZDYoAEq0xV4budBDOU6w   \n",
       "85884  BiufIB-tejW9JqJdxUZJ5w   \n",
       "85885  ECRjdXYLhGzQjCoZKeq6qg   \n",
       "85886  mCiSmiZ7iNI08F6dGXP7tw   \n",
       "85887  csnolzm2mzbsohha4jSi-g   \n",
       "85888  0c5BWTHCjKyxh4461H14IQ   \n",
       "85889  TFCPmrQj9PD1WvnZGYO85Q   \n",
       "85890  hNX62vEzvdVsMUMmYYHoPQ   \n",
       "85891  Tc_jU5vqV6208ElA6lNk-A   \n",
       "85892  ezB4DWv1MjWwjbIjVNAb9A   \n",
       "85894  BxqRovZ76pJudWJE1tNXbg   \n",
       "85895  R4BA2eTM1jeIEq31EVlE4g   \n",
       "85896  m7-3lyY0CJEhePfJKWtD3w   \n",
       "85897  g0vvhkZWZKlwF8BUeSPaTA   \n",
       "85898  46L_7y9QXffPpOaXNLX8hg   \n",
       "85900  DH2Ujt_hwcMBIz8VvCb0Lg   \n",
       "\n",
       "                                              categories             city  \\\n",
       "0                               [Fast Food, Restaurants]       Dravosburg   \n",
       "1                                            [Nightlife]       Dravosburg   \n",
       "2                         [Active Life, Mini Golf, Golf]      Bethel Park   \n",
       "3      [Bars, American (New), Nightlife, Lounges, Res...         Braddock   \n",
       "4                                    [Active Life, Golf]         Braddock   \n",
       "5      [Bars, American (Traditional), Nightlife, Rest...         Carnegie   \n",
       "6                       [Auto Repair, Automotive, Tires]         Carnegie   \n",
       "7                               [Active Life, Mini Golf]         Carnegie   \n",
       "8      [Roofing, Home Services, Decks & Railing, Cont...         Carnegie   \n",
       "9                                  [Veterinarians, Pets]       Pittsburgh   \n",
       "10             [Libraries, Public Services & Government]         Carnegie   \n",
       "11                   [Automotive, Auto Parts & Supplies]         Carnegie   \n",
       "12     [Burgers, Breakfast & Brunch, American (Tradit...         Carnegie   \n",
       "13                                       [Food, Grocery]         Carnegie   \n",
       "14                  [Automotive, Gas & Service Stations]         Carnegie   \n",
       "15     [Local Services, Dry Cleaning & Laundry, Sewin...         Carnegie   \n",
       "16                  [Automotive, Gas & Service Stations]         Carnegie   \n",
       "17     [Bars, American (Traditional), Nightlife, Loun...         Carnegie   \n",
       "18         [Breakfast & Brunch, Sandwiches, Restaurants]         Carnegie   \n",
       "19                                  [Cafes, Restaurants]         Carnegie   \n",
       "20     [Hotels & Travel, Event Planning & Services, H...         Carnegie   \n",
       "21           [Pubs, Irish, Nightlife, Bars, Restaurants]         Carnegie   \n",
       "22                                  [Pizza, Restaurants]         Carnegie   \n",
       "23                [Local Services, Sewing & Alterations]         Carnegie   \n",
       "24                                         [Restaurants]         Carnegie   \n",
       "25       [Health & Medical, Dentists, General Dentistry]         Carnegie   \n",
       "26                                [Chinese, Restaurants]         Carnegie   \n",
       "27                                 [Veterinarians, Pets]       Heidelberg   \n",
       "28     [Breakfast & Brunch, American (Traditional), D...       Pittsburgh   \n",
       "29     [Active Life, Boxing, Gyms, Fitness & Instruct...         Carnegie   \n",
       "...                                                  ...              ...   \n",
       "85866             [Soup, Sandwiches, Salad, Restaurants]            Tempe   \n",
       "85867  [Food, Fast Food, Asian Fusion, Poke, Restaura...        Las Vegas   \n",
       "85868  [Active Life, Dance Studios, Pilates, Yoga, Fi...        Las Vegas   \n",
       "85869  [Adult Entertainment, Party & Event Planning, ...        Las Vegas   \n",
       "85870  [American (Traditional), Fast Food, Chicken Wi...         Chandler   \n",
       "85871  [Active Life, Gyms, Trainers, Fitness & Instru...        Las Vegas   \n",
       "85873  [Bakeries, Bars, Food, Wine Bars, Nightlife, I...       Scottsdale   \n",
       "85874                               [Food, Coffee & Tea]          Phoenix   \n",
       "85875  [Hair Salons, Hair Extensions, Nail Salons, Ey...        Las Vegas   \n",
       "85878                                     [Local Flavor]        Las Vegas   \n",
       "85879                        [Yelp Events, Local Flavor]        Charlotte   \n",
       "85880                   [Sandwiches, Salad, Restaurants]       Scottsdale   \n",
       "85881  [Asian Fusion, Sushi Bars, Japanese, Restaurants]          Phoenix   \n",
       "85882   [Skin Care, Waxing, Hair Removal, Beauty & Spas]       Scottsdale   \n",
       "85883   [Real Estate, Home Services, Real Estate Agents]        Las Vegas   \n",
       "85884                          [Sandwiches, Restaurants]          Phoenix   \n",
       "85885                [Sushi Bars, Japanese, Restaurants]  North Las Vegas   \n",
       "85886  [Food, Desserts, Restaurants, Bakeries, Sandwi...        Las Vegas   \n",
       "85887  [Food, Beer, Wine & Spirits, Grocery, Shopping...          Phoenix   \n",
       "85888  [Pet Services, Event Photography, Photographer...        Las Vegas   \n",
       "85889  [Breakfast & Brunch, American (New), Ramen, Ja...          Phoenix   \n",
       "85890  [Bars, American (Traditional), Breakfast & Bru...           Laveen   \n",
       "85891                                  [Bars, Nightlife]         Glendale   \n",
       "85892           [Home Services, Real Estate, Apartments]        Las Vegas   \n",
       "85894       [Hair Salons, Makeup Artists, Beauty & Spas]          Phoenix   \n",
       "85895  [Gift Shops, Flowers & Gifts, Shopping, Souven...        Las Vegas   \n",
       "85896           [Bridal, Fashion, Shopping, Formal Wear]        Las Vegas   \n",
       "85897                             [Mexican, Restaurants]         Goodyear   \n",
       "85898                             [Car Wash, Automotive]          Phoenix   \n",
       "85900                             [Mexican, Restaurants]        Charlotte   \n",
       "\n",
       "                                            full_address  \\\n",
       "0           4734 Lebanon Church Rd\\nDravosburg, PA 15034   \n",
       "1                   202 McClure St\\nDravosburg, PA 15034   \n",
       "2                1530 Hamilton Rd\\nBethel Park, PA 15234   \n",
       "3                    414 Hawkins Ave\\nBraddock, PA 15104   \n",
       "4                  1000 Clubhouse Dr\\nBraddock, PA 15104   \n",
       "5        141 Hawthorne St\\nGreentree\\nCarnegie, PA 15106   \n",
       "6                718A Hope Hollow Rd\\nCarnegie, PA 15106   \n",
       "7          920 Forsythe Rd\\nCarnegie\\nCarnegie, PA 15106   \n",
       "8               8 Logan St\\nCarnegie\\nCarnegie, PA 15106   \n",
       "9                2080 Greentree Rd\\nPittsburgh, PA 15220   \n",
       "10       300 Beechwood Ave\\nCarnegie\\nCarnegie, PA 15106   \n",
       "11               1011 Washington Ave\\nCarnegie, PA 15106   \n",
       "12              2100 Washington Pike\\nCarnegie, PA 15106   \n",
       "13              2100 Washington Pike\\nCarnegie, PA 15106   \n",
       "14           341 E Main St\\nCarnegie\\nCarnegie, PA 15106   \n",
       "15       Bower Hill Rd & Vanadium Rd\\nCarnegie, PA 15106   \n",
       "16                1927 E Railroad St\\nCarnegie, PA 15106   \n",
       "17               1201 Washington Ave\\nCarnegie, PA 15106   \n",
       "18               1073 Washington Ave\\nCarnegie, PA 15106   \n",
       "19             202 3rd Ave\\nCarnegie\\nCarnegie, PA 15106   \n",
       "20     520 North Bell Avenue\\nCarnegie\\nCarnegie, PA ...   \n",
       "21           215 E Main St\\nCarnegie\\nCarnegie, PA 15106   \n",
       "22           231 E Main St\\nCarnegie\\nCarnegie, PA 15106   \n",
       "23          117 E Mall Plz\\nCarnegie\\nCarnegie, PA 15106   \n",
       "24                       Raceway Plz\\nCarnegie, PA 15106   \n",
       "25                 2323 Greentree Rd\\nCarnegie, PA 15106   \n",
       "26           214 E Main St\\nCarnegie\\nCarnegie, PA 15106   \n",
       "27              1747 E Railroad St\\nHeidelberg, PA 15106   \n",
       "28               2180 Greentree Rd\\nPittsburgh, PA 15220   \n",
       "29                   100 Roessler Rd\\nCarnegie, PA 15106   \n",
       "...                                                  ...   \n",
       "85866  Tempe Marketplace\\n2000 E Rio Salado Pkwy\\nTem...   \n",
       "85867  6040 W Badura Ave\\nSte 150\\nSpring Valley\\nLas...   \n",
       "85868  4720 West Sahara Ave\\nWestside\\nLas Vegas, NV ...   \n",
       "85869                           The Strip\\nLas Vegas, NV   \n",
       "85870             4075 S Arizona Ave\\nChandler, AZ 85248   \n",
       "85871               4775 Quality Ct\\nLas Vegas, NV 89103   \n",
       "85873             11485 N 136th St\\nScottsdale, AZ 85259   \n",
       "85874               718 N Central Ave\\nPhoenix, AZ 85004   \n",
       "85875  8680 W Warm Springs Rd\\nSte 13\\nSouthwest\\nLas...   \n",
       "85878     300 Stewart Ave\\nDowntown\\nLas Vegas, NV 89101   \n",
       "85879      1608 East Blvd\\nDilworth\\nCharlotte, NC 28203   \n",
       "85880  16495 N Scottsdale Rd\\nSte 105\\nScottsdale, AZ...   \n",
       "85881          5538 N 7th St\\nSte 110\\nPhoenix, AZ 85014   \n",
       "85882             3301 N Miller Rd\\nScottsdale, AZ 85251   \n",
       "85883  1200 South Fourth St\\nDowntown\\nLas Vegas, NV ...   \n",
       "85884                4910 East Ray Rd\\nPhoenix, AZ 85044   \n",
       "85885  4210 W Craig Rd\\nSte 100\\nNorth Las Vegas, NV ...   \n",
       "85886    7100 W Craig Rd\\nNorthwest\\nLas Vegas, NV 89129   \n",
       "85887                  1311 E Bell Rd\\nPhoenix, AZ 85022   \n",
       "85888                            Downtown\\nLas Vegas, NV   \n",
       "85889  4350 E Camelback Rd\\nBldg I-100\\nPhoenix, AZ 8...   \n",
       "85890      5020 W Baseline Rd\\nSte 123\\nLaveen, AZ 85339   \n",
       "85891  6770 North Sunrise Blvd\\nSte G109\\nGlendale, A...   \n",
       "85892  304 E Silverado Ranch Blvd\\nSoutheast\\nLas Veg...   \n",
       "85894                505 W Dunlap Ave\\nPhoenix, AZ 85021   \n",
       "85895  3377 S Las Vegas Blvd\\nSte 2020\\nThe Strip\\nLa...   \n",
       "85896  3899 East Sunset Rd\\nSte 105\\nLas Vegas, NV 89120   \n",
       "85897   525 N Estrella Pkwy\\nSte 100\\nGoodyear, AZ 85338   \n",
       "85898               9215 North 7th St\\nPhoenix, AZ 85020   \n",
       "85900  Charlotte Douglas International Airport Termin...   \n",
       "\n",
       "                                                   hours   latitude  \\\n",
       "0      {'Tuesday': {'open': '11:00', 'close': '21:00'...  40.354327   \n",
       "1                                                     {}  40.350553   \n",
       "2                                                     {}  40.354115   \n",
       "3      {'Tuesday': {'open': '10:00', 'close': '19:00'...  40.408830   \n",
       "4      {'Thursday': {'open': '11:00', 'close': '20:00...  40.403405   \n",
       "5      {'Monday': {'open': '11:00', 'close': '02:00'}...  40.415486   \n",
       "6      {'Monday': {'open': '07:30', 'close': '18:00'}...  40.394588   \n",
       "7                                                     {}  40.405404   \n",
       "8                                                     {}  40.406281   \n",
       "9                                                     {}  40.392207   \n",
       "10                                                    {}  40.406842   \n",
       "11                                                    {}  40.398353   \n",
       "12     {'Monday': {'open': '08:00', 'close': '02:00'}...  40.387512   \n",
       "13     {'Monday': {'open': '00:00', 'close': '00:00'}...  40.387512   \n",
       "14                                                    {}  40.409998   \n",
       "15                                                    {}  40.368825   \n",
       "16                                                    {}  40.388284   \n",
       "17     {'Monday': {'open': '11:00', 'close': '23:00'}...  40.396469   \n",
       "18     {'Monday': {'open': '06:00', 'close': '14:30'}...  40.398001   \n",
       "19     {'Monday': {'open': '07:00', 'close': '14:00'}...  40.404638   \n",
       "20     {'Monday': {'open': '00:00', 'close': '00:00'}...  40.417419   \n",
       "21                                                    {}  40.408670   \n",
       "22     {'Monday': {'open': '11:00', 'close': '22:00'}...  40.408832   \n",
       "23     {'Monday': {'open': '08:30', 'close': '19:00'}...  40.406871   \n",
       "24                                                    {}  40.386891   \n",
       "25                                                    {}  40.390760   \n",
       "26                                                    {}  40.408347   \n",
       "27     {'Monday': {'open': '09:00', 'close': '19:00'}...  40.390569   \n",
       "28     {'Monday': {'open': '00:00', 'close': '00:00'}...  40.391140   \n",
       "29     {'Monday': {'open': '05:30', 'close': '22:00'}...  40.394305   \n",
       "...                                                  ...        ...   \n",
       "85866                                                 {}  33.432927   \n",
       "85867  {'Monday': {'open': '11:00', 'close': '21:00'}...  36.062737   \n",
       "85868  {'Monday': {'open': '10:00', 'close': '20:00'}...  36.147556   \n",
       "85869  {'Monday': {'open': '00:00', 'close': '00:00'}...  36.133201   \n",
       "85870  {'Monday': {'open': '09:00', 'close': '00:00'}...  33.246349   \n",
       "85871  {'Monday': {'open': '05:00', 'close': '21:00'}...  36.105608   \n",
       "85873  {'Tuesday': {'open': '17:00', 'close': '22:00'...  33.590790   \n",
       "85874  {'Monday': {'open': '06:00', 'close': '00:00'}...  33.456388   \n",
       "85875  {'Monday': {'open': '08:00', 'close': '22:00'}...  36.056214   \n",
       "85878   {'Tuesday': {'open': '18:00', 'close': '20:00'}}  36.172815   \n",
       "85879                                                 {}  35.199185   \n",
       "85880  {'Monday': {'open': '11:00', 'close': '19:00'}...  33.635558   \n",
       "85881  {'Monday': {'open': '11:00', 'close': '22:00'}...  33.517942   \n",
       "85882  {'Monday': {'open': '13:00', 'close': '19:00'}...  33.486405   \n",
       "85883  {'Monday': {'open': '09:00', 'close': '00:00'}...  36.157447   \n",
       "85884  {'Monday': {'open': '10:00', 'close': '22:00'}...  33.320454   \n",
       "85885  {'Monday': {'open': '11:30', 'close': '22:00'}...  36.239686   \n",
       "85886  {'Monday': {'open': '07:00', 'close': '22:00'}...  36.240983   \n",
       "85887  {'Monday': {'open': '09:00', 'close': '21:00'}...  33.639310   \n",
       "85888  {'Monday': {'open': '08:00', 'close': '20:00'}...  36.171909   \n",
       "85889  {'Monday': {'open': '07:00', 'close': '14:00'}...  33.510044   \n",
       "85890  {'Monday': {'open': '07:00', 'close': '23:00'}...  33.378922   \n",
       "85891                                                 {}  33.532930   \n",
       "85892  {'Monday': {'open': '09:00', 'close': '18:00'}...  36.014080   \n",
       "85894                                                 {}  33.567251   \n",
       "85895  {'Monday': {'open': '10:00', 'close': '23:00'}...  36.121243   \n",
       "85896  {'Tuesday': {'open': '10:00', 'close': '18:00'...  36.070535   \n",
       "85897                                                 {}  33.452205   \n",
       "85898  {'Monday': {'open': '07:00', 'close': '18:00'}...  33.570417   \n",
       "85900                                                 {}  35.224223   \n",
       "\n",
       "        longitude                                            name  \\\n",
       "0      -79.900706                                       Mr Hoagie   \n",
       "1      -79.886814                                    Clancy's Pub   \n",
       "2      -80.014660                        Cool Springs Golf Center   \n",
       "3      -79.866211                                   Emil's Lounge   \n",
       "4      -79.855782                            Grand View Golf Club   \n",
       "5      -80.067549                           Alexion's Bar & Grill   \n",
       "6      -80.084454                     Flynn's Tire & Auto Service   \n",
       "7      -80.076267                Forsythe Miniature Golf & Snacks   \n",
       "8      -80.090390                       Quaker State Construction   \n",
       "9      -80.069134                         Greentree Animal Clinic   \n",
       "10     -80.085866                           Carnegie Free Library   \n",
       "11     -80.082452                              Advance Auto Parts   \n",
       "12     -80.093215                         Kings Family Restaurant   \n",
       "13     -80.093215                                    Shop N' Save   \n",
       "14     -80.083366                          Knorr's Sunoco Service   \n",
       "15     -80.084354                      Rossi Tailoring & Cleaners   \n",
       "16     -80.089241                                  Heidelberg B P   \n",
       "17     -80.084942                                  Rocky's Lounge   \n",
       "18     -80.083458                                       Gab & Eat   \n",
       "19     -80.089985                    Barb's Country Junction Cafe   \n",
       "20     -80.088557   Extended Stay America - Pittsburgh - Carnegie   \n",
       "21     -80.085279                              Paddy's Pour House   \n",
       "22     -80.084934                      Porto Fino Pizzaria & Gyro   \n",
       "23     -80.087605                                Alteration World   \n",
       "24     -80.093704                              Long John Silver's   \n",
       "25     -80.078657                              Weinberg Lisa, DMD   \n",
       "26     -80.084962                      Don Don Chinese Restaurant   \n",
       "27     -80.087898                       Chartiers Animal Hospital   \n",
       "28     -80.073788                                         Denny's   \n",
       "29     -80.060154                                        Amerifit   \n",
       "...           ...                                             ...   \n",
       "85866 -111.905575                                    Panera Bread   \n",
       "85867 -115.223679                            Soho Sushi Bowlrrito   \n",
       "85868 -115.207116                           DYP Dance And Fitness   \n",
       "85869 -115.164227             Chris Cowette - Vegas Club Promoter   \n",
       "85870 -111.840639                                  Raising Cane's   \n",
       "85871 -115.205611                              Kanoa Strength Gym   \n",
       "85873 -111.786674                         CM2 Pizzeria & Bakeshop   \n",
       "85874 -112.074092                The Grand Central Coffee Company   \n",
       "85875 -115.281151                               Sexy3D Extensions   \n",
       "85878 -115.141243                  YEE: \"Greed\" at The Mob Museum   \n",
       "85879  -80.841449                 YEE: An Evening With Kid Cashew   \n",
       "85880 -111.921071                               The Chicken Scoop   \n",
       "85881 -112.065448                               Pure Sushi Colony   \n",
       "85882 -111.917149                                   Skin Awakened   \n",
       "85883 -115.150340  Brad Winston, CPA/Realtor-King of Condos, Inc.   \n",
       "85884 -111.977342                                        Pita Pit   \n",
       "85885 -115.196967                            Tokyo Sushi House II   \n",
       "85886 -115.249473                          Kneaders Bakery & Cafe   \n",
       "85887 -112.054317                                Frys Marketplace   \n",
       "85888 -115.139969                          Photobetty Photography   \n",
       "85889 -111.987108                                        Chestnut   \n",
       "85890 -112.166458                         Greathouse Sports Grill   \n",
       "85891 -112.260691                                       Bar Louie   \n",
       "85892 -115.159018                                Lyric Apartments   \n",
       "85894 -112.081407                              Aries Unisex Salon   \n",
       "85895 -115.171349                                Citta Delle Luci   \n",
       "85896 -115.089318                                  Bowties Bridal   \n",
       "85897 -112.392009                                      Senor Taco   \n",
       "85898 -112.064854                            Cobblestone Auto Spa   \n",
       "85900  -80.940290                             Salsarita's Express   \n",
       "\n",
       "                    neighborhoods   open  review_count  stars state      type  \n",
       "0                              []   True             7    3.5    PA  business  \n",
       "1                              []   True             5    3.0    PA  business  \n",
       "2                              []  False             5    2.5    PA  business  \n",
       "3                              []   True            26    4.5    PA  business  \n",
       "4                              []   True             3    5.0    PA  business  \n",
       "5                     [Greentree]   True            23    4.0    PA  business  \n",
       "6                              []   True             9    2.5    PA  business  \n",
       "7                      [Carnegie]  False             4    4.0    PA  business  \n",
       "8                      [Carnegie]   True             3    2.5    PA  business  \n",
       "9                              []   True             7    4.0    PA  business  \n",
       "10                     [Carnegie]   True             4    4.5    PA  business  \n",
       "11                             []   True             3    3.5    PA  business  \n",
       "12                             []   True            10    3.5    PA  business  \n",
       "13                             []   True             5    4.0    PA  business  \n",
       "14                     [Carnegie]   True             3    3.5    PA  business  \n",
       "15                             []   True             3    3.0    PA  business  \n",
       "16                             []  False             4    3.0    PA  business  \n",
       "17                             []   True            10    4.0    PA  business  \n",
       "18                             []   True            69    4.5    PA  business  \n",
       "19                     [Carnegie]   True             9    4.0    PA  business  \n",
       "20                     [Carnegie]   True            11    3.5    PA  business  \n",
       "21                     [Carnegie]  False             8    3.5    PA  business  \n",
       "22                     [Carnegie]   True             4    2.5    PA  business  \n",
       "23                     [Carnegie]   True            10    4.5    PA  business  \n",
       "24                             []   True             6    3.0    PA  business  \n",
       "25                             []   True             8    2.5    PA  business  \n",
       "26                     [Carnegie]   True            10    2.5    PA  business  \n",
       "27                             []   True             3    3.5    PA  business  \n",
       "28                             []   True            16    3.5    PA  business  \n",
       "29                             []   True             8    3.0    PA  business  \n",
       "...                           ...    ...           ...    ...   ...       ...  \n",
       "85866                          []   True             9    2.5    AZ  business  \n",
       "85867             [Spring Valley]   True            27    4.5    NV  business  \n",
       "85868                  [Westside]   True             7    5.0    NV  business  \n",
       "85869                 [The Strip]   True             6    5.0    NV  business  \n",
       "85870                          []   True            13    4.0    AZ  business  \n",
       "85871                          []   True             5    5.0    NV  business  \n",
       "85873                          []   True             6    5.0    AZ  business  \n",
       "85874                          []   True            16    4.0    AZ  business  \n",
       "85875  [Southwest, Spring Valley]   True             7    5.0    NV  business  \n",
       "85878                  [Downtown]   True             8    5.0    NV  business  \n",
       "85879                  [Dilworth]   True            32    5.0    NC  business  \n",
       "85880                          []   True            23    4.0    AZ  business  \n",
       "85881                          []   True            18    4.0    AZ  business  \n",
       "85882                          []   True             3    5.0    AZ  business  \n",
       "85883                  [Downtown]   True             4    5.0    NV  business  \n",
       "85884                          []   True             5    5.0    AZ  business  \n",
       "85885                          []   True            15    3.0    NV  business  \n",
       "85886                 [Northwest]   True            24    3.5    NV  business  \n",
       "85887                          []   True            21    2.5    AZ  business  \n",
       "85888                  [Downtown]   True             3    5.0    NV  business  \n",
       "85889                          []   True           168    3.5    AZ  business  \n",
       "85890                          []   True             4    2.0    AZ  business  \n",
       "85891                          []  False            18    2.5    AZ  business  \n",
       "85892                 [Southeast]   True             5    2.0    NV  business  \n",
       "85894                          []   True             4    5.0    AZ  business  \n",
       "85895                 [The Strip]   True             3    3.0    NV  business  \n",
       "85896                          []   True            61    4.0    NV  business  \n",
       "85897                          []   True            89    3.5    AZ  business  \n",
       "85898                          []   True             7    3.0    AZ  business  \n",
       "85900                          []   True            57    2.5    NC  business  \n",
       "\n",
       "[72145 rows x 15 columns]"
      ]
     },
     "execution_count": 755,
     "metadata": {},
     "output_type": "execute_result"
    }
   ],
   "source": [
    "business_state[(abs(business_state.latitude) < (business_state.latitude[0] + 1))]"
   ]
  },
  {
   "cell_type": "code",
   "execution_count": null,
   "metadata": {
    "ExecuteTime": {
     "start_time": "2017-01-16T22:56:14.999Z"
    },
    "collapsed": true,
    "run_control": {
     "frozen": false,
     "read_only": false
    }
   },
   "outputs": [],
   "source": [
    "len(nearby)"
   ]
  },
  {
   "cell_type": "code",
   "execution_count": null,
   "metadata": {
    "collapsed": true,
    "run_control": {
     "frozen": false,
     "read_only": false
    }
   },
   "outputs": [],
   "source": [
    "import pickle\n",
    "# save the nearby dictionary as it take a long time to build\n",
    "with open('nearby_businesses_dict.pickle', 'wb') as handle:\n",
    "    pickle.dump(nearby, handle, protocol=pickle.HIGHEST_PROTOCOL)\n",
    "# To load the dictionary un-comment the following:___\n",
    "# with open('nearby_businesses_dict.pickle', 'rb') as handle:\n",
    "#     b = pickle.load(handle)"
   ]
  },
  {
   "cell_type": "code",
   "execution_count": null,
   "metadata": {
    "collapsed": true,
    "run_control": {
     "frozen": false,
     "read_only": false
    }
   },
   "outputs": [],
   "source": []
  },
  {
   "cell_type": "code",
   "execution_count": 534,
   "metadata": {
    "ExecuteTime": {
     "end_time": "2017-01-16T14:08:06.290253",
     "start_time": "2017-01-16T14:04:21.928476"
    },
    "collapsed": false,
    "run_control": {
     "frozen": false,
     "read_only": false
    }
   },
   "outputs": [],
   "source": [
    "# nearby ={}\n",
    "# max_nearbies = 0\n",
    "# business_groups = business_state.groupby('state')\n",
    "# for group in business_groups:\n",
    "    \n",
    "    \n",
    "    \n",
    "# for i in range(0, len(business)):\n",
    "#     nearby[business.business_id.iloc[i]]=[]\n",
    "#     c = 0\n",
    "#     for j in range(0, len(business)):\n",
    "#         if i==j: continue\n",
    "#         distance = vincenty(tuple(business.iloc[i][['latitude','longitude']]), tuple(business.iloc[j][['latitude','longitude']])).km\n",
    "#         if distance < 30:\n",
    "#             c += 1\n",
    "#             nearby[business.business_id.iloc[i]].extend([business.business_id.iloc[j]])        \n",
    "#     if c > max_nearbies:\n",
    "#         max_nearbies = c"
   ]
  },
  {
   "cell_type": "code",
   "execution_count": null,
   "metadata": {
    "collapsed": true,
    "run_control": {
     "frozen": false,
     "read_only": false
    }
   },
   "outputs": [],
   "source": []
  },
  {
   "cell_type": "code",
   "execution_count": null,
   "metadata": {
    "collapsed": true,
    "run_control": {
     "frozen": false,
     "read_only": false
    }
   },
   "outputs": [],
   "source": []
  },
  {
   "cell_type": "code",
   "execution_count": null,
   "metadata": {
    "collapsed": true,
    "run_control": {
     "frozen": false,
     "read_only": false
    }
   },
   "outputs": [],
   "source": []
  },
  {
   "cell_type": "code",
   "execution_count": null,
   "metadata": {
    "collapsed": true,
    "run_control": {
     "frozen": false,
     "read_only": false
    }
   },
   "outputs": [],
   "source": []
  },
  {
   "cell_type": "code",
   "execution_count": null,
   "metadata": {
    "collapsed": true,
    "run_control": {
     "frozen": false,
     "read_only": false
    }
   },
   "outputs": [],
   "source": []
  },
  {
   "cell_type": "code",
   "execution_count": null,
   "metadata": {
    "collapsed": true,
    "run_control": {
     "frozen": false,
     "read_only": false
    }
   },
   "outputs": [],
   "source": []
  },
  {
   "cell_type": "code",
   "execution_count": null,
   "metadata": {
    "collapsed": true,
    "run_control": {
     "frozen": false,
     "read_only": false
    }
   },
   "outputs": [],
   "source": []
  },
  {
   "cell_type": "code",
   "execution_count": null,
   "metadata": {
    "collapsed": true,
    "run_control": {
     "frozen": false,
     "read_only": false
    }
   },
   "outputs": [],
   "source": []
  },
  {
   "cell_type": "code",
   "execution_count": null,
   "metadata": {
    "collapsed": true,
    "run_control": {
     "frozen": false,
     "read_only": false
    }
   },
   "outputs": [],
   "source": []
  },
  {
   "cell_type": "code",
   "execution_count": 170,
   "metadata": {
    "ExecuteTime": {
     "end_time": "2017-01-17T03:58:24.816850",
     "start_time": "2017-01-17T03:58:24.811826"
    },
    "collapsed": false,
    "run_control": {
     "frozen": false,
     "read_only": false
    }
   },
   "outputs": [
    {
     "data": {
      "text/plain": [
       "'0.19.2'"
      ]
     },
     "execution_count": 170,
     "metadata": {},
     "output_type": "execute_result"
    }
   ],
   "source": [
    "pd.__version__"
   ]
  },
  {
   "cell_type": "code",
   "execution_count": null,
   "metadata": {
    "collapsed": true,
    "run_control": {
     "frozen": false,
     "read_only": false
    }
   },
   "outputs": [],
   "source": []
  }
 ],
 "metadata": {
  "anaconda-cloud": {},
  "celltoolbar": "Raw Cell Format",
  "kernelspec": {
   "display_name": "Python [conda root]",
   "language": "python",
   "name": "conda-root-py"
  },
  "language_info": {
   "codemirror_mode": {
    "name": "ipython",
    "version": 3
   },
   "file_extension": ".py",
   "mimetype": "text/x-python",
   "name": "python",
   "nbconvert_exporter": "python",
   "pygments_lexer": "ipython3",
   "version": "3.5.2"
  },
  "toc": {
   "colors": {
    "hover_highlight": "#DAA520",
    "running_highlight": "#FF0000",
    "selected_highlight": "#FFD700"
   },
   "moveMenuLeft": true,
   "nav_menu": {
    "height": "177px",
    "width": "252px"
   },
   "navigate_menu": true,
   "number_sections": true,
   "sideBar": true,
   "threshold": 4,
   "toc_cell": false,
   "toc_section_display": "block",
   "toc_window_display": false
  }
 },
 "nbformat": 4,
 "nbformat_minor": 1
}
