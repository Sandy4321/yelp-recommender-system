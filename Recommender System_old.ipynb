{
 "cells": [
  {
   "cell_type": "markdown",
   "metadata": {
    "nbpresent": {
     "id": "b9298927-8339-493e-a961-d6738f2a24d9"
    },
    "run_control": {
     "frozen": false,
     "read_only": false
    }
   },
   "source": [
    "# Using Pandas read_json function:"
   ]
  },
  {
   "cell_type": "code",
   "execution_count": 1,
   "metadata": {
    "ExecuteTime": {
     "end_time": "2017-02-01T13:16:11.601019",
     "start_time": "2017-02-01T13:16:10.767516"
    },
    "collapsed": true,
    "nbpresent": {
     "id": "7d1823d2-e566-42f2-8cd7-189b930a466e"
    },
    "run_control": {
     "frozen": false,
     "read_only": false
    }
   },
   "outputs": [],
   "source": [
    "import pandas as pd\n",
    "import numpy as np\n",
    "from scipy.optimize import minimize"
   ]
  },
  {
   "cell_type": "code",
   "execution_count": 2,
   "metadata": {
    "ExecuteTime": {
     "end_time": "2017-02-01T13:17:50.097291",
     "start_time": "2017-02-01T13:16:11.602022"
    },
    "collapsed": false,
    "nbpresent": {
     "id": "9218107c-758c-4804-b329-5b24878a7ca7"
    },
    "run_control": {
     "frozen": false,
     "read_only": false
    }
   },
   "outputs": [],
   "source": [
    "with open('yelp_dataset/yelp_academic_dataset_review.json') as file:\n",
    "        review = pd.read_json(file, lines = True)\n",
    "\n",
    "with open('yelp_dataset/yelp_academic_dataset_business.json') as file:\n",
    "        business = pd.read_json(file, lines = True)\n",
    "\n",
    "with open('yelp_dataset/yelp_academic_dataset_user.json') as file:\n",
    "        user = pd.read_json(file, lines = True)"
   ]
  },
  {
   "cell_type": "code",
   "execution_count": 3,
   "metadata": {
    "ExecuteTime": {
     "end_time": "2017-02-01T13:17:50.102780",
     "start_time": "2017-02-01T13:17:50.098769"
    },
    "collapsed": true,
    "nbpresent": {
     "id": "f5efde52-8126-4f63-b5bd-bfda847d36a0"
    },
    "run_control": {
     "frozen": false,
     "read_only": false
    }
   },
   "outputs": [],
   "source": [
    "# with open('yelp_dataset/yelp_academic_dataset_tip.json') as file:\n",
    "#         tip = pd.read_json(file, lines = True)\n",
    "\n",
    "# with open('yelp_dataset/yelp_academic_dataset_checkin.json') as file:\n",
    "#         checkin = pd.read_json(file, lines = True)\n",
    "\n",
    "# dfs = ['tip', 'review', 'business', 'checkin', 'user']"
   ]
  },
  {
   "cell_type": "markdown",
   "metadata": {
    "nbpresent": {
     "id": "d4dd6ee2-19e8-4620-b413-e6aea6c5e295"
    },
    "run_control": {
     "frozen": false,
     "read_only": true
    }
   },
   "source": [
    "tip:  ['business_id' 'date' 'likes' 'text' 'type' 'user_id']\n",
    "review:  ['business_id' 'date' 'review_id' 'stars' 'text' 'type' 'user_id' 'votes']\n",
    "business:  ['attributes' 'business_id' 'categories' 'city' 'full_address' 'hours'\n",
    " 'latitude' 'longitude' 'name' 'neighborhoods' 'open' 'review_count'\n",
    " 'stars' 'state' 'type']\n",
    "checkin:  ['business_id' 'checkin_info' 'type']\n",
    "user:  ['average_stars' 'compliments' 'elite' 'fans' 'friends' 'name'\n",
    " 'review_count' 'type' 'user_id' 'votes' 'yelping_since']"
   ]
  },
  {
   "cell_type": "markdown",
   "metadata": {
    "ExecuteTime": {
     "end_time": "2017-01-16T10:51:16.522572",
     "start_time": "2017-01-16T10:51:16.519063"
    },
    "nbpresent": {
     "id": "20af1a3d-9b4a-4968-8303-4e8c81e30581"
    },
    "run_control": {
     "frozen": false,
     "read_only": false
    }
   },
   "source": [
    "# Building a recommender system\n",
    "First, get the relevant data: user-business stars... create matrices Y, R\n",
    "\n",
    "** Y ** that contains #business as rows, #user as columns, values = stars\n",
    "\n",
    "** R ** same size as Y, values = 1 if a user has rated a business **\n",
    "\n"
   ]
  },
  {
   "cell_type": "markdown",
   "metadata": {
    "ExecuteTime": {
     "end_time": "2017-01-16T11:37:05.223228",
     "start_time": "2017-01-16T11:37:05.219214"
    },
    "collapsed": true,
    "nbpresent": {
     "id": "a5a7565b-440a-4112-9058-6bb40c2c303c"
    },
    "run_control": {
     "frozen": false,
     "read_only": false
    }
   },
   "source": [
    "# Need to determine businesses and users to include in the model"
   ]
  },
  {
   "cell_type": "markdown",
   "metadata": {
    "run_control": {
     "frozen": false,
     "read_only": false
    }
   },
   "source": [
    "## Drop businesses and users with review counts less than 20"
   ]
  },
  {
   "cell_type": "code",
   "execution_count": 4,
   "metadata": {
    "ExecuteTime": {
     "end_time": "2017-02-01T13:17:50.641211",
     "start_time": "2017-02-01T13:17:50.105286"
    },
    "collapsed": false,
    "run_control": {
     "frozen": false,
     "read_only": false
    }
   },
   "outputs": [],
   "source": [
    "user = user[user.review_count > 20]"
   ]
  },
  {
   "cell_type": "code",
   "execution_count": 5,
   "metadata": {
    "ExecuteTime": {
     "end_time": "2017-02-01T13:17:50.654749",
     "start_time": "2017-02-01T13:17:50.643217"
    },
    "collapsed": false,
    "run_control": {
     "frozen": false,
     "read_only": false
    }
   },
   "outputs": [
    {
     "data": {
      "text/plain": [
       "(148994, 11)"
      ]
     },
     "execution_count": 5,
     "metadata": {},
     "output_type": "execute_result"
    }
   ],
   "source": [
    "user.shape"
   ]
  },
  {
   "cell_type": "code",
   "execution_count": 6,
   "metadata": {
    "ExecuteTime": {
     "end_time": "2017-02-01T13:17:50.662795",
     "start_time": "2017-02-01T13:17:50.657255"
    },
    "collapsed": false,
    "run_control": {
     "frozen": false,
     "read_only": false
    }
   },
   "outputs": [
    {
     "data": {
      "text/plain": [
       "(85901, 15)"
      ]
     },
     "execution_count": 6,
     "metadata": {},
     "output_type": "execute_result"
    }
   ],
   "source": [
    "business.shape"
   ]
  },
  {
   "cell_type": "code",
   "execution_count": 7,
   "metadata": {
    "ExecuteTime": {
     "end_time": "2017-02-01T13:17:50.835758",
     "start_time": "2017-02-01T13:17:50.665276"
    },
    "collapsed": true,
    "run_control": {
     "frozen": false,
     "read_only": false
    }
   },
   "outputs": [],
   "source": [
    "business = business[business.review_count > 20]"
   ]
  },
  {
   "cell_type": "code",
   "execution_count": 8,
   "metadata": {
    "ExecuteTime": {
     "end_time": "2017-02-01T13:17:50.842248",
     "start_time": "2017-02-01T13:17:50.837236"
    },
    "collapsed": false,
    "run_control": {
     "frozen": false,
     "read_only": false
    }
   },
   "outputs": [
    {
     "data": {
      "text/plain": [
       "(25680, 15)"
      ]
     },
     "execution_count": 8,
     "metadata": {},
     "output_type": "execute_result"
    }
   ],
   "source": [
    "business.shape"
   ]
  },
  {
   "cell_type": "code",
   "execution_count": 9,
   "metadata": {
    "ExecuteTime": {
     "end_time": "2017-02-01T13:17:50.857289",
     "start_time": "2017-02-01T13:17:50.844279"
    },
    "collapsed": false,
    "run_control": {
     "frozen": false,
     "read_only": false
    }
   },
   "outputs": [
    {
     "data": {
      "text/plain": [
       "state\n",
       "AZ     10754\n",
       "BW       133\n",
       "CA         3\n",
       "EDH      525\n",
       "FIF        1\n",
       "IL       253\n",
       "MLN       15\n",
       "NC      1897\n",
       "NV      8645\n",
       "ON        85\n",
       "PA      1315\n",
       "QC      1125\n",
       "RP         1\n",
       "SC        68\n",
       "TX         1\n",
       "WI       858\n",
       "XGL        1\n",
       "dtype: int64"
      ]
     },
     "execution_count": 9,
     "metadata": {},
     "output_type": "execute_result"
    }
   ],
   "source": [
    "business.groupby('state').size()"
   ]
  },
  {
   "cell_type": "markdown",
   "metadata": {
    "run_control": {
     "frozen": false,
     "read_only": false
    }
   },
   "source": [
    "## Drop states with less than 20 businesses (recommend within state if #>20)"
   ]
  },
  {
   "cell_type": "code",
   "execution_count": 10,
   "metadata": {
    "ExecuteTime": {
     "end_time": "2017-02-01T13:17:50.903061",
     "start_time": "2017-02-01T13:17:50.859292"
    },
    "collapsed": false,
    "run_control": {
     "frozen": false,
     "read_only": false
    }
   },
   "outputs": [],
   "source": [
    "business = business.groupby('state').filter(lambda r: len(r) > 20)"
   ]
  },
  {
   "cell_type": "code",
   "execution_count": 11,
   "metadata": {
    "ExecuteTime": {
     "end_time": "2017-02-01T13:17:50.915093",
     "start_time": "2017-02-01T13:17:50.904071"
    },
    "collapsed": false,
    "run_control": {
     "frozen": false,
     "read_only": false
    }
   },
   "outputs": [
    {
     "data": {
      "text/plain": [
       "state\n",
       "AZ     10754\n",
       "BW       133\n",
       "EDH      525\n",
       "IL       253\n",
       "NC      1897\n",
       "NV      8645\n",
       "ON        85\n",
       "PA      1315\n",
       "QC      1125\n",
       "SC        68\n",
       "WI       858\n",
       "dtype: int64"
      ]
     },
     "execution_count": 11,
     "metadata": {},
     "output_type": "execute_result"
    }
   ],
   "source": [
    "business.groupby('state').size()"
   ]
  },
  {
   "cell_type": "code",
   "execution_count": 12,
   "metadata": {
    "ExecuteTime": {
     "end_time": "2017-02-01T13:17:50.921122",
     "start_time": "2017-02-01T13:17:50.917099"
    },
    "collapsed": false,
    "run_control": {
     "frozen": false,
     "read_only": false
    }
   },
   "outputs": [
    {
     "data": {
      "text/plain": [
       "(25658, 15)"
      ]
     },
     "execution_count": 12,
     "metadata": {},
     "output_type": "execute_result"
    }
   ],
   "source": [
    "business.shape"
   ]
  },
  {
   "cell_type": "markdown",
   "metadata": {
    "ExecuteTime": {
     "end_time": "2017-01-16T11:47:59.941636",
     "start_time": "2017-01-16T11:47:59.938127"
    },
    "collapsed": true,
    "nbpresent": {
     "id": "c749e340-fbf1-4c2d-b4c2-3e196960d547"
    },
    "run_control": {
     "frozen": false,
     "read_only": false
    }
   },
   "source": [
    "## Merge review+business+user"
   ]
  },
  {
   "cell_type": "code",
   "execution_count": 13,
   "metadata": {
    "ExecuteTime": {
     "end_time": "2017-02-01T13:17:56.765464",
     "start_time": "2017-02-01T13:17:50.923115"
    },
    "collapsed": true,
    "run_control": {
     "frozen": false,
     "read_only": false
    }
   },
   "outputs": [],
   "source": [
    "rev_biz_usr = pd.merge(pd.merge(review, business, on='business_id'), user, on='user_id')"
   ]
  },
  {
   "cell_type": "code",
   "execution_count": 14,
   "metadata": {
    "ExecuteTime": {
     "end_time": "2017-02-01T13:17:56.772482",
     "start_time": "2017-02-01T13:17:56.767470"
    },
    "collapsed": false,
    "run_control": {
     "frozen": false,
     "read_only": false
    }
   },
   "outputs": [
    {
     "data": {
      "text/plain": [
       "(1251142, 32)"
      ]
     },
     "execution_count": 14,
     "metadata": {},
     "output_type": "execute_result"
    }
   ],
   "source": [
    "rev_biz_usr.shape"
   ]
  },
  {
   "cell_type": "markdown",
   "metadata": {
    "run_control": {
     "frozen": false,
     "read_only": false
    }
   },
   "source": [
    "### Remove not needed columns from the dataframe, to reduce memory use:"
   ]
  },
  {
   "cell_type": "code",
   "execution_count": 15,
   "metadata": {
    "ExecuteTime": {
     "end_time": "2017-02-01T13:17:56.778503",
     "start_time": "2017-02-01T13:17:56.774493"
    },
    "collapsed": false,
    "nbpresent": {
     "id": "5df73afa-8def-4186-b57c-8a453aa25899"
    },
    "run_control": {
     "frozen": false,
     "read_only": false
    }
   },
   "outputs": [],
   "source": [
    "col_drop = rev_biz_usr.columns.difference(['business_id', 'user_id', 'stars_x'])"
   ]
  },
  {
   "cell_type": "code",
   "execution_count": 16,
   "metadata": {
    "ExecuteTime": {
     "end_time": "2017-02-01T13:17:58.798195",
     "start_time": "2017-02-01T13:17:56.780521"
    },
    "collapsed": false,
    "nbpresent": {
     "id": "a969e096-2df4-4c2e-a812-c7e75d751c23"
    },
    "run_control": {
     "frozen": false,
     "read_only": false
    }
   },
   "outputs": [],
   "source": [
    "rev_biz_usr.drop(col_drop, axis=1, inplace=True)"
   ]
  },
  {
   "cell_type": "code",
   "execution_count": 17,
   "metadata": {
    "ExecuteTime": {
     "end_time": "2017-02-01T13:17:58.805215",
     "start_time": "2017-02-01T13:17:58.800203"
    },
    "collapsed": false,
    "run_control": {
     "frozen": false,
     "read_only": false
    }
   },
   "outputs": [
    {
     "data": {
      "text/plain": [
       "(1251142, 3)"
      ]
     },
     "execution_count": 17,
     "metadata": {},
     "output_type": "execute_result"
    }
   ],
   "source": [
    "rev_biz_usr.shape"
   ]
  },
  {
   "cell_type": "markdown",
   "metadata": {
    "run_control": {
     "frozen": false,
     "read_only": false
    }
   },
   "source": [
    "### drop users and businesses with less than 20 reviews in the review dataframe  \n",
    "**RUN multiple times until steady state**"
   ]
  },
  {
   "cell_type": "code",
   "execution_count": 18,
   "metadata": {
    "ExecuteTime": {
     "end_time": "2017-02-01T13:17:58.811740",
     "start_time": "2017-02-01T13:17:58.807220"
    },
    "collapsed": false,
    "run_control": {
     "frozen": false,
     "read_only": false
    }
   },
   "outputs": [],
   "source": [
    "#rev_biz_usr.groupby('user_id').size().reset_index(name='count').sort_values(by='count', ascending=True)"
   ]
  },
  {
   "cell_type": "code",
   "execution_count": 19,
   "metadata": {
    "ExecuteTime": {
     "end_time": "2017-02-01T13:18:36.638697",
     "start_time": "2017-02-01T13:17:58.814241"
    },
    "collapsed": false,
    "run_control": {
     "frozen": false,
     "read_only": false
    }
   },
   "outputs": [
    {
     "data": {
      "text/plain": [
       "(487156, 3)"
      ]
     },
     "execution_count": 19,
     "metadata": {},
     "output_type": "execute_result"
    }
   ],
   "source": [
    "for _ in range(8):\n",
    "    rev_biz_usr = rev_biz_usr.groupby('business_id').filter(lambda r: len(r) >= 20)\n",
    "    \n",
    "    rev_biz_usr = rev_biz_usr.groupby('user_id').filter(lambda r: len(r) >= 20)\n",
    "    \n",
    "\n",
    "rev_biz_usr.shape # (487156, 32)"
   ]
  },
  {
   "cell_type": "markdown",
   "metadata": {
    "run_control": {
     "frozen": false,
     "read_only": false
    }
   },
   "source": [
    "### Convert dtype of stars to int32 instead of int64 (since their values are from 1-5), also to reduce memory use:"
   ]
  },
  {
   "cell_type": "code",
   "execution_count": 20,
   "metadata": {
    "ExecuteTime": {
     "end_time": "2017-02-01T13:18:36.649299",
     "start_time": "2017-02-01T13:18:36.641231"
    },
    "collapsed": true,
    "run_control": {
     "frozen": false,
     "read_only": false
    }
   },
   "outputs": [],
   "source": [
    "rev_biz_usr.stars_x = rev_biz_usr.stars_x.astype(int)"
   ]
  },
  {
   "cell_type": "markdown",
   "metadata": {
    "run_control": {
     "frozen": false,
     "read_only": false
    }
   },
   "source": [
    "## Pivoting the table needed for the recommender system algorithm"
   ]
  },
  {
   "cell_type": "markdown",
   "metadata": {
    "nbpresent": {
     "id": "a6e028c8-dede-4e9d-8d97-ffaccd1b973d"
    },
    "run_control": {
     "frozen": false,
     "read_only": false
    }
   },
   "source": [
    "#### Before filtering users and businesses, the following pivot table gave an error due to out of memory, not negagtive dimensions. However, after reducing dataset, the pivoted table fits in my laptop's 32GB memory (total code occupying nearly 8GB):\n",
    "memory needed before reducing the dataset, assuming 8 bytes per value is:\n",
    "686556 x 85539 x 8 / 1024 / 1024/ 1024 = 438 GB"
   ]
  },
  {
   "cell_type": "code",
   "execution_count": 21,
   "metadata": {
    "ExecuteTime": {
     "end_time": "2017-02-01T13:18:36.937120",
     "start_time": "2017-02-01T13:18:36.652342"
    },
    "collapsed": false,
    "run_control": {
     "frozen": false,
     "read_only": false
    }
   },
   "outputs": [
    {
     "data": {
      "text/plain": [
       "0.6321526765823364"
      ]
     },
     "execution_count": 21,
     "metadata": {},
     "output_type": "execute_result"
    }
   ],
   "source": [
    "# memory requirements for pivoting the table after reducing the dataset is still large ~ 27.5 GB\n",
    "# Now the table can fit in memory ~ 1.33 GB\n",
    "len(rev_biz_usr.business_id.unique()) * len(rev_biz_usr.user_id.unique()) * 8 / 1024/1024/1024"
   ]
  },
  {
   "cell_type": "code",
   "execution_count": 22,
   "metadata": {
    "ExecuteTime": {
     "end_time": "2017-02-01T13:18:36.947166",
     "start_time": "2017-02-01T13:18:36.939126"
    },
    "collapsed": false,
    "run_control": {
     "frozen": false,
     "read_only": false
    },
    "scrolled": true
   },
   "outputs": [
    {
     "data": {
      "text/plain": [
       "Index          3897248\n",
       "business_id    3897248\n",
       "stars_x        1948624\n",
       "user_id        3897248\n",
       "dtype: int64"
      ]
     },
     "execution_count": 22,
     "metadata": {},
     "output_type": "execute_result"
    }
   ],
   "source": [
    "rev_biz_usr.memory_usage()"
   ]
  },
  {
   "cell_type": "markdown",
   "metadata": {
    "run_control": {
     "frozen": false,
     "read_only": false
    }
   },
   "source": [
    "### Note that some users rated the same business multiple times, pivot table will save the average value, which is acceptable"
   ]
  },
  {
   "cell_type": "code",
   "execution_count": 23,
   "metadata": {
    "ExecuteTime": {
     "end_time": "2017-02-01T13:18:36.954166",
     "start_time": "2017-02-01T13:18:36.949655"
    },
    "collapsed": false,
    "run_control": {
     "frozen": false,
     "read_only": false
    },
    "scrolled": true
   },
   "outputs": [],
   "source": [
    "#ev_biz_usr[(rev_biz_usr.business_id == '-584fn2GxYe9sLsgN2WeQA') & (rev_biz_usr.user_id == 'qqtmFGhyyHc37coT4qJxaw')]"
   ]
  },
  {
   "cell_type": "code",
   "execution_count": 24,
   "metadata": {
    "ExecuteTime": {
     "end_time": "2017-02-01T13:18:36.960207",
     "start_time": "2017-02-01T13:18:36.956672"
    },
    "collapsed": false,
    "run_control": {
     "frozen": false,
     "read_only": false
    },
    "scrolled": true
   },
   "outputs": [],
   "source": [
    "#review[(review.business_id == '-584fn2GxYe9sLsgN2WeQA') & (review.user_id == 'qqtmFGhyyHc37coT4qJxaw')]"
   ]
  },
  {
   "cell_type": "markdown",
   "metadata": {
    "ExecuteTime": {
     "end_time": "2017-01-18T16:58:13.410448",
     "start_time": "2017-01-18T16:58:13.406438"
    },
    "run_control": {
     "frozen": false,
     "read_only": false
    }
   },
   "source": [
    "## The Y Matrix for the recommender system"
   ]
  },
  {
   "cell_type": "markdown",
   "metadata": {
    "run_control": {
     "frozen": false,
     "read_only": false
    }
   },
   "source": [
    "### Do not fill NaNs with zeros as zeros occupy more memory than NaNs, and the pivoting command will run out of memory."
   ]
  },
  {
   "cell_type": "code",
   "execution_count": 25,
   "metadata": {
    "ExecuteTime": {
     "end_time": "2017-02-01T13:18:38.823306",
     "start_time": "2017-02-01T13:18:36.962202"
    },
    "collapsed": false,
    "nbpresent": {
     "id": "f6b531f5-994c-4b30-a75e-5319c6dc0595"
    },
    "run_control": {
     "frozen": false,
     "read_only": false
    },
    "scrolled": true
   },
   "outputs": [],
   "source": [
    "Y = pd.pivot_table(rev_biz_usr, index='business_id', columns='user_id', values='stars_x')#, fill_value=0)"
   ]
  },
  {
   "cell_type": "code",
   "execution_count": 26,
   "metadata": {
    "ExecuteTime": {
     "end_time": "2017-02-01T13:18:38.834839",
     "start_time": "2017-02-01T13:18:38.825312"
    },
    "collapsed": false,
    "run_control": {
     "frozen": false,
     "read_only": false
    }
   },
   "outputs": [
    {
     "data": {
      "text/plain": [
       "4.666666666666667"
      ]
     },
     "execution_count": 26,
     "metadata": {},
     "output_type": "execute_result"
    }
   ],
   "source": [
    "Y.loc['-584fn2GxYe9sLsgN2WeQA', 'qqtmFGhyyHc37coT4qJxaw']"
   ]
  },
  {
   "cell_type": "code",
   "execution_count": 27,
   "metadata": {
    "ExecuteTime": {
     "end_time": "2017-02-01T13:18:38.842357",
     "start_time": "2017-02-01T13:18:38.836843"
    },
    "collapsed": false,
    "run_control": {
     "frozen": false,
     "read_only": false
    }
   },
   "outputs": [
    {
     "data": {
      "text/plain": [
       "(8208, 10337)"
      ]
     },
     "execution_count": 27,
     "metadata": {},
     "output_type": "execute_result"
    }
   ],
   "source": [
    "Y.shape # before dropna: (8208, 10337)"
   ]
  },
  {
   "cell_type": "markdown",
   "metadata": {},
   "source": [
    "### Remove users and bussiness with less than 20 entries in the Y matrix. Some users have more than one review for the same business. this is different than removing businesses or users with less than 20 reviews"
   ]
  },
  {
   "cell_type": "code",
   "execution_count": 28,
   "metadata": {
    "ExecuteTime": {
     "end_time": "2017-02-01T13:18:39.325643",
     "start_time": "2017-02-01T13:18:38.844362"
    },
    "collapsed": false,
    "run_control": {
     "frozen": false,
     "read_only": false
    }
   },
   "outputs": [],
   "source": [
    "Y = Y.dropna(thresh=20, axis=1)"
   ]
  },
  {
   "cell_type": "code",
   "execution_count": 29,
   "metadata": {
    "ExecuteTime": {
     "end_time": "2017-02-01T13:18:39.332687",
     "start_time": "2017-02-01T13:18:39.327669"
    },
    "collapsed": false,
    "run_control": {
     "frozen": false,
     "read_only": false
    }
   },
   "outputs": [
    {
     "data": {
      "text/plain": [
       "(8208, 9773)"
      ]
     },
     "execution_count": 29,
     "metadata": {},
     "output_type": "execute_result"
    }
   ],
   "source": [
    "Y.shape"
   ]
  },
  {
   "cell_type": "code",
   "execution_count": 30,
   "metadata": {
    "ExecuteTime": {
     "end_time": "2017-02-01T13:18:39.826977",
     "start_time": "2017-02-01T13:18:39.334683"
    },
    "collapsed": false,
    "run_control": {
     "frozen": false,
     "read_only": false
    },
    "scrolled": true
   },
   "outputs": [],
   "source": [
    "Y = Y.dropna(thresh=20, axis=0)"
   ]
  },
  {
   "cell_type": "code",
   "execution_count": 31,
   "metadata": {
    "ExecuteTime": {
     "end_time": "2017-02-01T13:18:39.833994",
     "start_time": "2017-02-01T13:18:39.828481"
    },
    "collapsed": false,
    "run_control": {
     "frozen": false,
     "read_only": false
    }
   },
   "outputs": [
    {
     "data": {
      "text/plain": [
       "(7630, 9773)"
      ]
     },
     "execution_count": 31,
     "metadata": {},
     "output_type": "execute_result"
    }
   ],
   "source": [
    "Y.shape"
   ]
  },
  {
   "cell_type": "code",
   "execution_count": 32,
   "metadata": {
    "ExecuteTime": {
     "end_time": "2017-02-01T13:18:49.241487",
     "start_time": "2017-02-01T13:18:39.836000"
    },
    "collapsed": false,
    "run_control": {
     "frozen": false,
     "read_only": false
    }
   },
   "outputs": [
    {
     "data": {
      "text/plain": [
       "(7360, 9234)"
      ]
     },
     "execution_count": 32,
     "metadata": {},
     "output_type": "execute_result"
    }
   ],
   "source": [
    "# REPEAT A FEW TIME UNTIL WE GET A STABLE SHAPE of (7360, 9234)\n",
    "for _ in range(10):\n",
    "    Y = Y.dropna(thresh=20, axis=1)\n",
    "    Y = Y.dropna(thresh=20, axis=0)\n",
    "Y.shape"
   ]
  },
  {
   "cell_type": "code",
   "execution_count": 33,
   "metadata": {
    "ExecuteTime": {
     "end_time": "2017-02-01T13:18:49.247503",
     "start_time": "2017-02-01T13:18:49.242991"
    },
    "collapsed": false,
    "run_control": {
     "frozen": false,
     "read_only": false
    }
   },
   "outputs": [],
   "source": [
    "#Y.drop(Y.columns[Y.count(axis=0) < 20], axis=1)"
   ]
  },
  {
   "cell_type": "code",
   "execution_count": 34,
   "metadata": {
    "ExecuteTime": {
     "end_time": "2017-02-01T13:18:49.254023",
     "start_time": "2017-02-01T13:18:49.250512"
    },
    "collapsed": false,
    "run_control": {
     "frozen": false,
     "read_only": false
    },
    "scrolled": true
   },
   "outputs": [],
   "source": [
    "#Y.columns[Y.count(axis=0) < 20]"
   ]
  },
  {
   "cell_type": "code",
   "execution_count": 35,
   "metadata": {
    "ExecuteTime": {
     "end_time": "2017-02-01T13:18:49.441371",
     "start_time": "2017-02-01T13:18:49.256528"
    },
    "collapsed": false,
    "run_control": {
     "frozen": false,
     "read_only": false
    },
    "scrolled": true
   },
   "outputs": [
    {
     "data": {
      "text/plain": [
       "0"
      ]
     },
     "execution_count": 35,
     "metadata": {},
     "output_type": "execute_result"
    }
   ],
   "source": [
    "(Y.count(axis=1) < 20).sum()"
   ]
  },
  {
   "cell_type": "code",
   "execution_count": 36,
   "metadata": {
    "ExecuteTime": {
     "end_time": "2017-02-01T13:18:49.641126",
     "start_time": "2017-02-01T13:18:49.443363"
    },
    "collapsed": false,
    "run_control": {
     "frozen": false,
     "read_only": false
    }
   },
   "outputs": [
    {
     "data": {
      "text/plain": [
       "20"
      ]
     },
     "execution_count": 36,
     "metadata": {},
     "output_type": "execute_result"
    }
   ],
   "source": [
    "Y.count(axis=0).min()"
   ]
  },
  {
   "cell_type": "code",
   "execution_count": 37,
   "metadata": {
    "ExecuteTime": {
     "end_time": "2017-02-01T13:18:49.648670",
     "start_time": "2017-02-01T13:18:49.643153"
    },
    "collapsed": false,
    "run_control": {
     "frozen": false,
     "read_only": false
    }
   },
   "outputs": [
    {
     "data": {
      "text/plain": [
       "67962240"
      ]
     },
     "execution_count": 37,
     "metadata": {},
     "output_type": "execute_result"
    }
   ],
   "source": [
    "7360*9234"
   ]
  },
  {
   "cell_type": "code",
   "execution_count": 38,
   "metadata": {
    "ExecuteTime": {
     "end_time": "2017-02-01T13:18:49.845820",
     "start_time": "2017-02-01T13:18:49.650652"
    },
    "collapsed": false,
    "run_control": {
     "frozen": false,
     "read_only": false
    }
   },
   "outputs": [
    {
     "data": {
      "text/plain": [
       "423296"
      ]
     },
     "execution_count": 38,
     "metadata": {},
     "output_type": "execute_result"
    }
   ],
   "source": [
    "Y.count().sum()"
   ]
  },
  {
   "cell_type": "code",
   "execution_count": 39,
   "metadata": {
    "ExecuteTime": {
     "end_time": "2017-02-01T13:18:50.044928",
     "start_time": "2017-02-01T13:18:49.847825"
    },
    "collapsed": false,
    "run_control": {
     "frozen": false,
     "read_only": false
    }
   },
   "outputs": [
    {
     "data": {
      "text/plain": [
       "67538944"
      ]
     },
     "execution_count": 39,
     "metadata": {},
     "output_type": "execute_result"
    }
   ],
   "source": [
    "7360*9234 - Y.count().sum()"
   ]
  },
  {
   "cell_type": "code",
   "execution_count": 40,
   "metadata": {
    "ExecuteTime": {
     "end_time": "2017-02-01T13:18:50.804009",
     "start_time": "2017-02-01T13:18:50.047434"
    },
    "collapsed": false,
    "run_control": {
     "frozen": false,
     "read_only": false
    }
   },
   "outputs": [
    {
     "data": {
      "text/plain": [
       "67538944"
      ]
     },
     "execution_count": 40,
     "metadata": {},
     "output_type": "execute_result"
    }
   ],
   "source": [
    "Y.isnull().sum().sum()"
   ]
  },
  {
   "cell_type": "code",
   "execution_count": 41,
   "metadata": {
    "ExecuteTime": {
     "end_time": "2017-02-01T13:18:51.158892",
     "start_time": "2017-02-01T13:18:50.806014"
    },
    "collapsed": false,
    "run_control": {
     "frozen": false,
     "read_only": false
    },
    "scrolled": true
   },
   "outputs": [
    {
     "data": {
      "text/plain": [
       "0.5064129829406738"
      ]
     },
     "execution_count": 41,
     "metadata": {},
     "output_type": "execute_result"
    }
   ],
   "source": [
    "Y.memory_usage().sum()/1024/1024/1024"
   ]
  },
  {
   "cell_type": "code",
   "execution_count": 42,
   "metadata": {
    "ExecuteTime": {
     "end_time": "2017-02-01T13:18:51.163899",
     "start_time": "2017-02-01T13:18:51.160877"
    },
    "collapsed": false,
    "run_control": {
     "frozen": false,
     "read_only": false
    }
   },
   "outputs": [],
   "source": [
    "# len(rev_biz_usr.business_id.unique()) , len(rev_biz_usr.user_id.unique())"
   ]
  },
  {
   "cell_type": "markdown",
   "metadata": {
    "run_control": {
     "frozen": false,
     "read_only": false
    }
   },
   "source": [
    "# Split the data as training and test sets:\n",
    "\n",
    "Select a random number of columns (30% of total)users, and remove some of the given ratings (-> nan)\n"
   ]
  },
  {
   "cell_type": "code",
   "execution_count": 43,
   "metadata": {
    "ExecuteTime": {
     "end_time": "2017-02-01T13:18:51.172908",
     "start_time": "2017-02-01T13:18:51.165890"
    },
    "collapsed": false,
    "run_control": {
     "frozen": false,
     "read_only": false
    }
   },
   "outputs": [],
   "source": [
    "test_split_ratio = 0.3\n",
    "test_size = int(Y.shape[1] * test_split_ratio)\n",
    "train_size = Y.shape[1] - test_size\n",
    "# rand_test_user_mask = random.sample(range(Y.shape[1]), test_size)\n",
    "rand_column_mask = np.random.choice(Y.shape[1], test_size, replace=False)"
   ]
  },
  {
   "cell_type": "code",
   "execution_count": 44,
   "metadata": {
    "ExecuteTime": {
     "end_time": "2017-02-01T13:18:51.544685",
     "start_time": "2017-02-01T13:18:51.174915"
    },
    "collapsed": false,
    "run_control": {
     "frozen": false,
     "read_only": false
    }
   },
   "outputs": [],
   "source": [
    "# Since number of reviews by each user is > 20, select 5 ratings as test per test user\n",
    "Y_test = Y.iloc[:,rand_column_mask].copy()"
   ]
  },
  {
   "cell_type": "code",
   "execution_count": 45,
   "metadata": {
    "ExecuteTime": {
     "end_time": "2017-02-01T13:18:53.620381",
     "start_time": "2017-02-01T13:18:51.546700"
    },
    "collapsed": false,
    "run_control": {
     "frozen": false,
     "read_only": false
    }
   },
   "outputs": [],
   "source": [
    "# Tried to define a function to mask random values in each column and apply it to the DF.\n",
    "# However, the function is applied (by design) twice to the first column, resulting in an error\n",
    "# Better use a simple for loop\n",
    "\n",
    "for col in Y_test:\n",
    "    mask_size = 5\n",
    "    mask = np.random.choice(Y_test[col].notnull().nonzero()[0], mask_size, replace=False)\n",
    "    Y_test[col][mask] = np.nan"
   ]
  },
  {
   "cell_type": "code",
   "execution_count": 46,
   "metadata": {
    "ExecuteTime": {
     "end_time": "2017-02-01T13:18:53.681045",
     "start_time": "2017-02-01T13:18:53.621897"
    },
    "collapsed": false,
    "run_control": {
     "frozen": false,
     "read_only": false
    }
   },
   "outputs": [
    {
     "data": {
      "text/plain": [
       "111207"
      ]
     },
     "execution_count": 46,
     "metadata": {},
     "output_type": "execute_result"
    }
   ],
   "source": [
    "Y_test.count().sum()"
   ]
  },
  {
   "cell_type": "markdown",
   "metadata": {
    "run_control": {
     "frozen": false,
     "read_only": false
    }
   },
   "source": [
    "## Locations of test values"
   ]
  },
  {
   "cell_type": "code",
   "execution_count": 47,
   "metadata": {
    "ExecuteTime": {
     "end_time": "2017-02-01T13:18:54.759558",
     "start_time": "2017-02-01T13:18:53.683050"
    },
    "collapsed": false,
    "run_control": {
     "frozen": false,
     "read_only": false
    }
   },
   "outputs": [],
   "source": [
    "value_locations_premask = Y.iloc[:,rand_column_mask][Y.iloc[:,rand_column_mask].notnull()].stack().index.tolist()"
   ]
  },
  {
   "cell_type": "code",
   "execution_count": 48,
   "metadata": {
    "ExecuteTime": {
     "end_time": "2017-02-01T13:18:55.859589",
     "start_time": "2017-02-01T13:18:54.760534"
    },
    "collapsed": false,
    "run_control": {
     "frozen": false,
     "read_only": false
    }
   },
   "outputs": [],
   "source": [
    "value_locations_masked = Y_test[Y_test.notnull()].stack().index.tolist()"
   ]
  },
  {
   "cell_type": "code",
   "execution_count": 49,
   "metadata": {
    "ExecuteTime": {
     "end_time": "2017-02-01T13:18:55.926927",
     "start_time": "2017-02-01T13:18:55.861244"
    },
    "collapsed": false,
    "run_control": {
     "frozen": false,
     "read_only": false
    }
   },
   "outputs": [],
   "source": [
    "test_values_locations = list(set(value_locations_premask) - set(value_locations_masked))"
   ]
  },
  {
   "cell_type": "code",
   "execution_count": 50,
   "metadata": {
    "ExecuteTime": {
     "end_time": "2017-02-01T13:18:55.938957",
     "start_time": "2017-02-01T13:18:55.928928"
    },
    "collapsed": false,
    "run_control": {
     "frozen": false,
     "read_only": false
    }
   },
   "outputs": [],
   "source": [
    "# Convert to dataframe in order to be able to use during lookup operation, which requires list of rows, and list of columns\n",
    "test_values_locations = pd.DataFrame.from_records(test_values_locations, columns=['business_id', 'user_id'])"
   ]
  },
  {
   "cell_type": "code",
   "execution_count": 51,
   "metadata": {
    "ExecuteTime": {
     "end_time": "2017-02-01T13:18:55.970035",
     "start_time": "2017-02-01T13:18:55.940958"
    },
    "collapsed": false,
    "run_control": {
     "frozen": false,
     "read_only": false
    }
   },
   "outputs": [],
   "source": [
    "# Get location positions:\n",
    "query_rows = test_values_locations.business_id\n",
    "rows = Y.index.values\n",
    "sidx = np.argsort(rows)\n",
    "row_ids = sidx[np.searchsorted(rows,query_rows,sorter=sidx)]"
   ]
  },
  {
   "cell_type": "code",
   "execution_count": 52,
   "metadata": {
    "ExecuteTime": {
     "end_time": "2017-02-01T13:18:55.996109",
     "start_time": "2017-02-01T13:18:55.972040"
    },
    "collapsed": false,
    "run_control": {
     "frozen": false,
     "read_only": false
    }
   },
   "outputs": [],
   "source": [
    "# Get location positions:\n",
    "query_cols = test_values_locations.user_id\n",
    "cols = Y.columns.values\n",
    "sidx = np.argsort(cols)\n",
    "col_ids = sidx[np.searchsorted(cols,query_cols,sorter=sidx)]"
   ]
  },
  {
   "cell_type": "code",
   "execution_count": 53,
   "metadata": {
    "ExecuteTime": {
     "end_time": "2017-02-01T13:18:56.004132",
     "start_time": "2017-02-01T13:18:55.998626"
    },
    "collapsed": false,
    "run_control": {
     "frozen": false,
     "read_only": false
    }
   },
   "outputs": [
    {
     "data": {
      "text/plain": [
       "array([8327, 2879, 8461, 3558,  401], dtype=int64)"
      ]
     },
     "execution_count": 53,
     "metadata": {},
     "output_type": "execute_result"
    }
   ],
   "source": [
    "col_ids[0:5]"
   ]
  },
  {
   "cell_type": "code",
   "execution_count": 54,
   "metadata": {
    "ExecuteTime": {
     "end_time": "2017-02-01T13:18:56.013158",
     "start_time": "2017-02-01T13:18:56.006141"
    },
    "collapsed": false,
    "run_control": {
     "frozen": false,
     "read_only": false
    }
   },
   "outputs": [
    {
     "data": {
      "text/plain": [
       "401"
      ]
     },
     "execution_count": 54,
     "metadata": {},
     "output_type": "execute_result"
    }
   ],
   "source": [
    "Y.columns.get_loc(test_values_locations.user_id[4])"
   ]
  },
  {
   "cell_type": "code",
   "execution_count": 55,
   "metadata": {
    "ExecuteTime": {
     "end_time": "2017-02-01T13:18:56.020180",
     "start_time": "2017-02-01T13:18:56.015162"
    },
    "collapsed": false,
    "run_control": {
     "frozen": false,
     "read_only": false
    }
   },
   "outputs": [
    {
     "data": {
      "text/plain": [
       "1648"
      ]
     },
     "execution_count": 55,
     "metadata": {},
     "output_type": "execute_result"
    }
   ],
   "source": [
    "Y.index.get_loc(test_values_locations.business_id[5])"
   ]
  },
  {
   "cell_type": "code",
   "execution_count": 56,
   "metadata": {
    "ExecuteTime": {
     "end_time": "2017-02-01T13:18:56.028197",
     "start_time": "2017-02-01T13:18:56.022180"
    },
    "collapsed": false,
    "run_control": {
     "frozen": false,
     "read_only": false
    }
   },
   "outputs": [
    {
     "data": {
      "text/plain": [
       "array([8327, 2879, 8461, ..., 4772, 8408, 2422], dtype=int64)"
      ]
     },
     "execution_count": 56,
     "metadata": {},
     "output_type": "execute_result"
    }
   ],
   "source": [
    "col_ids"
   ]
  },
  {
   "cell_type": "markdown",
   "metadata": {
    "run_control": {
     "frozen": false,
     "read_only": false
    }
   },
   "source": [
    "## Get test values "
   ]
  },
  {
   "cell_type": "code",
   "execution_count": 57,
   "metadata": {
    "ExecuteTime": {
     "end_time": "2017-02-01T13:18:56.042235",
     "start_time": "2017-02-01T13:18:56.030205"
    },
    "collapsed": false,
    "run_control": {
     "frozen": false,
     "read_only": false
    },
    "scrolled": true
   },
   "outputs": [
    {
     "data": {
      "text/plain": [
       "array([ 5.,  4.,  2., ...,  4.,  5.,  5.])"
      ]
     },
     "execution_count": 57,
     "metadata": {},
     "output_type": "execute_result"
    }
   ],
   "source": [
    "Y.lookup(test_values_locations.business_id, test_values_locations.user_id)"
   ]
  },
  {
   "cell_type": "code",
   "execution_count": 58,
   "metadata": {
    "ExecuteTime": {
     "end_time": "2017-02-01T13:18:56.051259",
     "start_time": "2017-02-01T13:18:56.044241"
    },
    "collapsed": false,
    "run_control": {
     "frozen": false,
     "read_only": false
    }
   },
   "outputs": [
    {
     "data": {
      "text/plain": [
       "array([ 5.,  4.,  2., ...,  4.,  5.,  5.])"
      ]
     },
     "execution_count": 58,
     "metadata": {},
     "output_type": "execute_result"
    }
   ],
   "source": [
    "Y.values[row_ids, col_ids]"
   ]
  },
  {
   "cell_type": "markdown",
   "metadata": {
    "run_control": {
     "frozen": false,
     "read_only": false
    }
   },
   "source": [
    "## Verify masking procedeure"
   ]
  },
  {
   "cell_type": "markdown",
   "metadata": {
    "run_control": {
     "frozen": false,
     "read_only": false
    }
   },
   "source": [
    "To test the masking steps:  \n",
    "Test sample size = 0.3 * Original Size = 0.3 * 9234 = 2770  \n",
    "Randomly pick 5 notnan values from these columns and set them to nan  \n",
    "Number of nans should increase by 2770 * 5 = 13850"
   ]
  },
  {
   "cell_type": "code",
   "execution_count": 59,
   "metadata": {
    "ExecuteTime": {
     "end_time": "2017-02-01T13:18:56.058283",
     "start_time": "2017-02-01T13:18:56.053264"
    },
    "collapsed": false,
    "run_control": {
     "frozen": false,
     "read_only": false
    }
   },
   "outputs": [
    {
     "data": {
      "text/plain": [
       "13850"
      ]
     },
     "execution_count": 59,
     "metadata": {},
     "output_type": "execute_result"
    }
   ],
   "source": [
    "int(Y.shape[1]*0.3) * 5"
   ]
  },
  {
   "cell_type": "code",
   "execution_count": 60,
   "metadata": {
    "ExecuteTime": {
     "end_time": "2017-02-01T13:18:56.267336",
     "start_time": "2017-02-01T13:18:56.060284"
    },
    "collapsed": false,
    "run_control": {
     "frozen": false,
     "read_only": false
    }
   },
   "outputs": [
    {
     "data": {
      "text/plain": [
       "125057"
      ]
     },
     "execution_count": 60,
     "metadata": {},
     "output_type": "execute_result"
    }
   ],
   "source": [
    "Y.iloc[:,rand_column_mask].count().sum()"
   ]
  },
  {
   "cell_type": "code",
   "execution_count": 61,
   "metadata": {
    "ExecuteTime": {
     "end_time": "2017-02-01T13:18:56.324488",
     "start_time": "2017-02-01T13:18:56.269341"
    },
    "collapsed": false,
    "run_control": {
     "frozen": false,
     "read_only": false
    }
   },
   "outputs": [
    {
     "data": {
      "text/plain": [
       "111207"
      ]
     },
     "execution_count": 61,
     "metadata": {},
     "output_type": "execute_result"
    }
   ],
   "source": [
    "Y_test.count().sum()"
   ]
  },
  {
   "cell_type": "code",
   "execution_count": 62,
   "metadata": {
    "ExecuteTime": {
     "end_time": "2017-02-01T13:18:56.585182",
     "start_time": "2017-02-01T13:18:56.326502"
    },
    "collapsed": false,
    "run_control": {
     "frozen": false,
     "read_only": false
    }
   },
   "outputs": [
    {
     "data": {
      "text/plain": [
       "13850"
      ]
     },
     "execution_count": 62,
     "metadata": {},
     "output_type": "execute_result"
    }
   ],
   "source": [
    "Y.iloc[:,rand_column_mask].count().sum() - Y_test.count().sum()"
   ]
  },
  {
   "cell_type": "markdown",
   "metadata": {
    "run_control": {
     "frozen": false,
     "read_only": false
    }
   },
   "source": [
    "# Now insert the new Nans into the original Y matrix"
   ]
  },
  {
   "cell_type": "code",
   "execution_count": 63,
   "metadata": {
    "ExecuteTime": {
     "end_time": "2017-02-01T13:18:56.931102",
     "start_time": "2017-02-01T13:18:56.587186"
    },
    "collapsed": true,
    "run_control": {
     "frozen": false,
     "read_only": false
    }
   },
   "outputs": [],
   "source": [
    "Y_test_original = Y.iloc[:,rand_column_mask].copy()"
   ]
  },
  {
   "cell_type": "code",
   "execution_count": 64,
   "metadata": {
    "ExecuteTime": {
     "end_time": "2017-02-01T13:18:57.675672",
     "start_time": "2017-02-01T13:18:56.933106"
    },
    "collapsed": false,
    "run_control": {
     "frozen": false,
     "read_only": false
    }
   },
   "outputs": [],
   "source": [
    "Y.iloc[:,rand_column_mask] = Y_test.copy()"
   ]
  },
  {
   "cell_type": "code",
   "execution_count": 65,
   "metadata": {
    "ExecuteTime": {
     "end_time": "2017-02-01T13:18:57.868685",
     "start_time": "2017-02-01T13:18:57.677177"
    },
    "collapsed": false,
    "run_control": {
     "frozen": false,
     "read_only": false
    }
   },
   "outputs": [
    {
     "data": {
      "text/plain": [
       "409446"
      ]
     },
     "execution_count": 65,
     "metadata": {},
     "output_type": "execute_result"
    }
   ],
   "source": [
    "Y.count().sum()"
   ]
  },
  {
   "cell_type": "markdown",
   "metadata": {
    "run_control": {
     "frozen": false,
     "read_only": false
    }
   },
   "source": [
    "## The R Matrix for the recommender system"
   ]
  },
  {
   "cell_type": "code",
   "execution_count": 66,
   "metadata": {
    "ExecuteTime": {
     "end_time": "2017-02-01T13:18:57.874202",
     "start_time": "2017-02-01T13:18:57.870700"
    },
    "collapsed": true,
    "run_control": {
     "frozen": false,
     "read_only": false
    }
   },
   "outputs": [],
   "source": [
    "# The R matrix shold be based on the new Y matrix"
   ]
  },
  {
   "cell_type": "code",
   "execution_count": 67,
   "metadata": {
    "ExecuteTime": {
     "end_time": "2017-02-01T13:18:57.961433",
     "start_time": "2017-02-01T13:18:57.876205"
    },
    "collapsed": false,
    "run_control": {
     "frozen": false,
     "read_only": false
    }
   },
   "outputs": [],
   "source": [
    "R = Y.notnull()"
   ]
  },
  {
   "cell_type": "code",
   "execution_count": 68,
   "metadata": {
    "ExecuteTime": {
     "end_time": "2017-02-01T13:18:58.543480",
     "start_time": "2017-02-01T13:18:57.962936"
    },
    "collapsed": false,
    "run_control": {
     "frozen": false,
     "read_only": false
    }
   },
   "outputs": [
    {
     "data": {
      "text/plain": [
       "409446"
      ]
     },
     "execution_count": 68,
     "metadata": {},
     "output_type": "execute_result"
    }
   ],
   "source": [
    "R.sum().sum()"
   ]
  },
  {
   "cell_type": "code",
   "execution_count": 69,
   "metadata": {
    "ExecuteTime": {
     "end_time": "2017-02-01T13:18:58.551027",
     "start_time": "2017-02-01T13:18:58.545486"
    },
    "collapsed": false,
    "run_control": {
     "frozen": false,
     "read_only": false
    }
   },
   "outputs": [
    {
     "data": {
      "text/plain": [
       "(7360, 9234)"
      ]
     },
     "execution_count": 69,
     "metadata": {},
     "output_type": "execute_result"
    }
   ],
   "source": [
    "R.shape"
   ]
  },
  {
   "cell_type": "code",
   "execution_count": 70,
   "metadata": {
    "ExecuteTime": {
     "end_time": "2017-02-01T13:18:59.164190",
     "start_time": "2017-02-01T13:18:58.553006"
    },
    "collapsed": false,
    "run_control": {
     "frozen": false,
     "read_only": false
    }
   },
   "outputs": [
    {
     "data": {
      "text/plain": [
       "64.8699951171875"
      ]
     },
     "execution_count": 70,
     "metadata": {},
     "output_type": "execute_result"
    }
   ],
   "source": [
    "R.memory_usage().sum()/1024/1024 # 170 MB"
   ]
  },
  {
   "cell_type": "markdown",
   "metadata": {
    "run_control": {
     "frozen": false,
     "read_only": false
    }
   },
   "source": [
    "### To find the mean of Y rows using the 1s in R\n",
    "**For accessing reviewed items only using R**"
   ]
  },
  {
   "cell_type": "code",
   "execution_count": 71,
   "metadata": {
    "ExecuteTime": {
     "end_time": "2017-02-01T13:18:59.171682",
     "start_time": "2017-02-01T13:18:59.166172"
    },
    "collapsed": false,
    "run_control": {
     "frozen": false,
     "read_only": false
    }
   },
   "outputs": [
    {
     "data": {
      "text/plain": [
       "0.0029239766081871343"
      ]
     },
     "execution_count": 71,
     "metadata": {},
     "output_type": "execute_result"
    }
   ],
   "source": [
    "R.iloc[1,:].mean()"
   ]
  },
  {
   "cell_type": "code",
   "execution_count": 72,
   "metadata": {
    "ExecuteTime": {
     "end_time": "2017-02-01T13:18:59.182737",
     "start_time": "2017-02-01T13:18:59.173687"
    },
    "collapsed": false,
    "run_control": {
     "frozen": false,
     "read_only": false
    }
   },
   "outputs": [
    {
     "data": {
      "text/plain": [
       "4.0"
      ]
     },
     "execution_count": 72,
     "metadata": {},
     "output_type": "execute_result"
    }
   ],
   "source": [
    "Y.iloc[1,list(R.iloc[1,:])].mean()"
   ]
  },
  {
   "cell_type": "code",
   "execution_count": 73,
   "metadata": {
    "ExecuteTime": {
     "end_time": "2017-02-01T13:18:59.192765",
     "start_time": "2017-02-01T13:18:59.185222"
    },
    "collapsed": false,
    "run_control": {
     "frozen": false,
     "read_only": false
    }
   },
   "outputs": [
    {
     "data": {
      "text/plain": [
       "business_id\n",
       "--5jkZ3-nUPZxUvtcbr8Uw    4.437500\n",
       "--BlvDO_RG2yElKu9XA1_g    4.000000\n",
       "--UE_y6auTgq3FXlvUMkbw    3.369565\n",
       "--pOlFxITWnhzc7SHSIP0A    4.063636\n",
       "-0Ackw6MF82PXO9f9Jh_Kg    3.509615\n",
       "-0Oh0BEtQEC9OmmzZ_H5Bg    4.472222\n",
       "dtype: float64"
      ]
     },
     "execution_count": 73,
     "metadata": {},
     "output_type": "execute_result"
    }
   ],
   "source": [
    "Y.iloc[:6,:].mean(axis=1)"
   ]
  },
  {
   "cell_type": "markdown",
   "metadata": {
    "run_control": {
     "frozen": false,
     "read_only": false
    }
   },
   "source": [
    "# Define the Cost Function\n",
    "Initializing the parameters ($\\theta$, X)\n",
    "\n",
    "$\\theta$: Model parameter \n",
    "\n",
    "X: model features\n",
    "\n",
    "$Y = X * \\theta^T$\n",
    "\n",
    "for non zero values of R\n",
    "\n",
    "$\\theta$ shape = #users * #features\n",
    "\n",
    "X shape = #business * #features\n",
    "\n",
    "Y shape = #business * #users\n",
    "\n",
    "Choose number of features = 100"
   ]
  },
  {
   "cell_type": "code",
   "execution_count": 74,
   "metadata": {
    "ExecuteTime": {
     "end_time": "2017-02-01T13:18:59.205275",
     "start_time": "2017-02-01T13:18:59.194743"
    },
    "collapsed": false,
    "run_control": {
     "frozen": false,
     "read_only": false
    }
   },
   "outputs": [],
   "source": [
    "def cost(params, Y, R, num_business, num_user, num_features, lamda):\n",
    "    # lamda is the regularization coefficient lambda (python keyword)\n",
    "    # Convert the dataframe to ndarray, fill nans with zeros, and leave the answer array for easier linear algebra operations\n",
    "#     Y_mat = np.nan_to_num(Y.as_matrix())\n",
    "#     R_mat = np.nan_to_num(R.as_matrix())\n",
    "\n",
    "    # unfold X and theta from the 1D params array\n",
    "    X = np.reshape(params[:num_business*num_features], (num_business, num_features))\n",
    "    theta = np.reshape(params[num_business*num_features:], (num_user, num_features))    \n",
    "    \n",
    "    J = 0.5*np.sum(pow((X@theta.T - Y)*R,2)) + lamda/2*(np.sum(pow(theta,2)) + np.sum(pow(X,2)))\n",
    "    \n",
    "    X_grad = (X@theta.T - Y)*R@theta + lamda*X\n",
    "    theta_grad = (X@theta.T - Y).T * R.T@X + lamda*theta\n",
    "    \n",
    "    grad = np.concatenate((np.ravel(X_grad), np.ravel(theta_grad)))\n",
    "    print('The cost is currently equal to.........', J)\n",
    "    return J, grad\n",
    "    "
   ]
  },
  {
   "cell_type": "code",
   "execution_count": 112,
   "metadata": {
    "ExecuteTime": {
     "end_time": "2017-02-01T14:10:51.268881",
     "start_time": "2017-02-01T14:10:51.264872"
    },
    "collapsed": false,
    "run_control": {
     "frozen": false,
     "read_only": false
    },
    "scrolled": true
   },
   "outputs": [],
   "source": [
    "# J, grad = cost(params, np.nan_to_num(Y.as_matrix()), np.nan_to_num(R.as_matrix()), num_business, num_user, num_features, 0)\n",
    "# J"
   ]
  },
  {
   "cell_type": "code",
   "execution_count": null,
   "metadata": {
    "ExecuteTime": {
     "end_time": "2017-02-01T13:18:59.372236",
     "start_time": "2017-02-01T12:16:35.533Z"
    },
    "collapsed": false,
    "run_control": {
     "frozen": false,
     "read_only": false
    }
   },
   "outputs": [],
   "source": [
    "# checking some numpy matrix operations\n",
    "a = np.array([[1.,2],[3,4]])\n",
    "print('a=', a)\n",
    "\n",
    "b = np.array([[5,6],[7,8]])\n",
    "print('b=', b)\n",
    "\n",
    "print('*', a*b)\n",
    "\n",
    "print('@',a@b)\n",
    "\n",
    "c = np.asmatrix(a)\n",
    "print('c=', c)\n",
    "\n",
    "print('*', c*b)\n",
    "\n",
    "np.sum(c)"
   ]
  },
  {
   "cell_type": "markdown",
   "metadata": {
    "run_control": {
     "frozen": false,
     "read_only": false
    }
   },
   "source": [
    "# Set the number of features, number of businesses and users:"
   ]
  },
  {
   "cell_type": "code",
   "execution_count": 76,
   "metadata": {
    "ExecuteTime": {
     "end_time": "2017-02-01T13:42:20.187483",
     "start_time": "2017-02-01T13:42:20.183476"
    },
    "collapsed": true,
    "run_control": {
     "frozen": false,
     "read_only": false
    }
   },
   "outputs": [],
   "source": [
    "num_features = 75\n",
    "num_business = Y.shape[0]\n",
    "num_user = Y.shape[1]"
   ]
  },
  {
   "cell_type": "markdown",
   "metadata": {
    "run_control": {
     "frozen": false,
     "read_only": false
    }
   },
   "source": [
    "# Initialize and train the model:\n",
    "\n"
   ]
  },
  {
   "cell_type": "code",
   "execution_count": 77,
   "metadata": {
    "ExecuteTime": {
     "end_time": "2017-02-01T13:42:25.643890",
     "start_time": "2017-02-01T13:42:22.070752"
    },
    "collapsed": false,
    "run_control": {
     "frozen": false,
     "read_only": false
    }
   },
   "outputs": [],
   "source": [
    "lamda = 10\n",
    "\n",
    "X = np.random.randn(num_business, num_features)\n",
    "theta = np.random.randn(num_user, num_features)\n",
    "params = np.concatenate((np.ravel(X), np.ravel(theta)))\n",
    "\n",
    "Y_mat = Y.as_matrix()\n",
    "\n",
    "Ymean = np.nanmean(Y_mat, axis=1, keepdims=True)\n",
    "\n",
    "Y_mat = np.nan_to_num(Y_mat)\n",
    "R_mat = np.nan_to_num(R.as_matrix())\n",
    "\n",
    "# Ymean = np.zeros((num_business, 1))  \n",
    "# Ynorm = np.zeros((num_business, num_user))\n",
    "\n",
    "Ynorm = np.nan_to_num(Y.subtract(Y.mean(axis=1), axis=0).as_matrix())\n",
    "\n",
    "# for i in range(num_business):  \n",
    "#     idx = np.where(R_mat[i,:] == 1)[0]\n",
    "#     Ymean[i] = Y.iloc[i,idx].mean()\n",
    "#     Ynorm[i,idx] = Y.iloc[i,idx] - Ymean[i]\n",
    "\n",
    "# Ynorm = Y - Y.mean()"
   ]
  },
  {
   "cell_type": "code",
   "execution_count": 78,
   "metadata": {
    "ExecuteTime": {
     "end_time": "2017-02-01T13:42:25.652400",
     "start_time": "2017-02-01T13:42:25.645371"
    },
    "collapsed": false,
    "run_control": {
     "frozen": false,
     "read_only": false
    },
    "scrolled": false
   },
   "outputs": [
    {
     "data": {
      "text/plain": [
       "array([[ 4.4375    ],\n",
       "       [ 4.        ],\n",
       "       [ 3.36956522],\n",
       "       [ 4.06363636],\n",
       "       [ 3.50961538]])"
      ]
     },
     "execution_count": 78,
     "metadata": {},
     "output_type": "execute_result"
    }
   ],
   "source": [
    "Ymean[:5]"
   ]
  },
  {
   "cell_type": "code",
   "execution_count": 79,
   "metadata": {
    "ExecuteTime": {
     "end_time": "2017-02-01T13:42:25.663420",
     "start_time": "2017-02-01T13:42:25.654896"
    },
    "collapsed": false,
    "run_control": {
     "frozen": false,
     "read_only": false
    }
   },
   "outputs": [
    {
     "data": {
      "text/plain": [
       "array([False, False, False, ..., False, False, False], dtype=bool)"
      ]
     },
     "execution_count": 79,
     "metadata": {},
     "output_type": "execute_result"
    }
   ],
   "source": [
    "(Y_mat[0,:] - Ymean[0]) == Ynorm[0,:]"
   ]
  },
  {
   "cell_type": "code",
   "execution_count": 80,
   "metadata": {
    "ExecuteTime": {
     "end_time": "2017-02-01T13:42:25.672469",
     "start_time": "2017-02-01T13:42:25.666427"
    },
    "collapsed": false,
    "run_control": {
     "frozen": false,
     "read_only": false
    }
   },
   "outputs": [
    {
     "data": {
      "text/plain": [
       "array([-4.4375, -4.4375, -4.4375, ..., -4.4375, -4.4375, -4.4375])"
      ]
     },
     "execution_count": 80,
     "metadata": {},
     "output_type": "execute_result"
    }
   ],
   "source": [
    "Y_mat[0,:] - Ymean[0]"
   ]
  },
  {
   "cell_type": "code",
   "execution_count": 81,
   "metadata": {
    "ExecuteTime": {
     "end_time": "2017-02-01T13:42:26.022374",
     "start_time": "2017-02-01T13:42:25.674449"
    },
    "collapsed": false,
    "run_control": {
     "frozen": false,
     "read_only": false
    }
   },
   "outputs": [
    {
     "data": {
      "text/plain": [
       "(array([   0,    0,    0, ..., 7359, 7359, 7359], dtype=int64),\n",
       " array([ 162,  519, 1229, ..., 8798, 8915, 8940], dtype=int64))"
      ]
     },
     "execution_count": 81,
     "metadata": {},
     "output_type": "execute_result"
    }
   ],
   "source": [
    "np.where(R_mat == 1)"
   ]
  },
  {
   "cell_type": "code",
   "execution_count": 82,
   "metadata": {
    "ExecuteTime": {
     "end_time": "2017-02-01T13:42:26.029393",
     "start_time": "2017-02-01T13:42:26.024379"
    },
    "collapsed": false,
    "run_control": {
     "frozen": false,
     "read_only": false
    }
   },
   "outputs": [
    {
     "data": {
      "text/plain": [
       "-0.4375"
      ]
     },
     "execution_count": 82,
     "metadata": {},
     "output_type": "execute_result"
    }
   ],
   "source": [
    "Ynorm[0,162]"
   ]
  },
  {
   "cell_type": "code",
   "execution_count": 83,
   "metadata": {
    "ExecuteTime": {
     "end_time": "2017-02-01T13:42:26.038440",
     "start_time": "2017-02-01T13:42:26.032902"
    },
    "collapsed": false,
    "run_control": {
     "frozen": false,
     "read_only": false
    }
   },
   "outputs": [
    {
     "data": {
      "text/plain": [
       "-0.4375"
      ]
     },
     "execution_count": 83,
     "metadata": {},
     "output_type": "execute_result"
    }
   ],
   "source": [
    "Ynorm[0,162]"
   ]
  },
  {
   "cell_type": "code",
   "execution_count": 84,
   "metadata": {
    "ExecuteTime": {
     "end_time": "2017-02-01T13:42:26.044502",
     "start_time": "2017-02-01T13:42:26.040492"
    },
    "collapsed": false,
    "run_control": {
     "frozen": false,
     "read_only": false
    }
   },
   "outputs": [
    {
     "data": {
      "text/plain": [
       "4.0"
      ]
     },
     "execution_count": 84,
     "metadata": {},
     "output_type": "execute_result"
    }
   ],
   "source": [
    "Y_mat[0,162]"
   ]
  },
  {
   "cell_type": "code",
   "execution_count": 85,
   "metadata": {
    "ExecuteTime": {
     "end_time": "2017-02-01T13:42:26.052527",
     "start_time": "2017-02-01T13:42:26.047510"
    },
    "collapsed": false,
    "run_control": {
     "frozen": false,
     "read_only": false
    }
   },
   "outputs": [
    {
     "data": {
      "text/plain": [
       "array([-0.4375])"
      ]
     },
     "execution_count": 85,
     "metadata": {},
     "output_type": "execute_result"
    }
   ],
   "source": [
    "4 - Ymean[0]"
   ]
  },
  {
   "cell_type": "code",
   "execution_count": 86,
   "metadata": {
    "ExecuteTime": {
     "end_time": "2017-02-01T13:42:26.624803",
     "start_time": "2017-02-01T13:42:26.385206"
    },
    "collapsed": false,
    "run_control": {
     "frozen": false,
     "read_only": false
    }
   },
   "outputs": [
    {
     "data": {
      "text/plain": [
       "-0.4375"
      ]
     },
     "execution_count": 86,
     "metadata": {},
     "output_type": "execute_result"
    }
   ],
   "source": [
    "(Y_mat- Ymean)[0, 162]"
   ]
  },
  {
   "cell_type": "code",
   "execution_count": 87,
   "metadata": {
    "ExecuteTime": {
     "end_time": "2017-02-01T13:51:48.173605",
     "start_time": "2017-02-01T13:42:26.806825"
    },
    "collapsed": false,
    "run_control": {
     "frozen": false,
     "read_only": false
    },
    "scrolled": true
   },
   "outputs": [
    {
     "name": "stdout",
     "output_type": "stream",
     "text": [
      "The cost is currently equal to......... 21641556.9677\n",
      "The cost is currently equal to......... 21641556.9677\n",
      "The cost is currently equal to......... 21530344.5822\n",
      "The cost is currently equal to......... 21091643.998\n",
      "The cost is currently equal to......... 19432632.8211\n",
      "The cost is currently equal to......... 14171718.9177\n",
      "The cost is currently equal to......... 7191248.10419\n",
      "The cost is currently equal to......... 159081050.481\n",
      "The cost is currently equal to......... 4685133.46663\n",
      "The cost is currently equal to......... 4564078.4431\n",
      "The cost is currently equal to......... 3762515.06481\n",
      "The cost is currently equal to......... 2923914.53544\n",
      "The cost is currently equal to......... 2233741.22411\n",
      "The cost is currently equal to......... 2967682.43851\n",
      "The cost is currently equal to......... 1918955.26395\n",
      "The cost is currently equal to......... 1669402.45761\n",
      "The cost is currently equal to......... 1276371.27256\n",
      "The cost is currently equal to......... 3688709.86127\n",
      "The cost is currently equal to......... 1001589.8411\n",
      "The cost is currently equal to......... 1536188.96402\n",
      "The cost is currently equal to......... 775573.000576\n",
      "The cost is currently equal to......... 659900.132976\n",
      "The cost is currently equal to......... 519912.420408\n",
      "The cost is currently equal to......... 408493.351961\n",
      "The cost is currently equal to......... 343565.407885\n",
      "The cost is currently equal to......... 328687.463905\n",
      "The cost is currently equal to......... 305244.271045\n",
      "The cost is currently equal to......... 276030.57488\n",
      "The cost is currently equal to......... 235538.933179\n",
      "The cost is currently equal to......... 482861.274118\n",
      "The cost is currently equal to......... 222552.337228\n",
      "The cost is currently equal to......... 214943.07105\n",
      "The cost is currently equal to......... 202268.044272\n",
      "The cost is currently equal to......... 191078.330434\n",
      "The cost is currently equal to......... 205042.788533\n",
      "The cost is currently equal to......... 187267.331048\n",
      "The cost is currently equal to......... 183681.018638\n",
      "The cost is currently equal to......... 179921.773511\n",
      "The cost is currently equal to......... 177948.805618\n",
      "The cost is currently equal to......... 185490.094013\n",
      "The cost is currently equal to......... 177430.063591\n",
      "The cost is currently equal to......... 176558.624386\n",
      "The cost is currently equal to......... 175672.567501\n",
      "The cost is currently equal to......... 175109.984024\n",
      "The cost is currently equal to......... 174677.032303\n",
      "The cost is currently equal to......... 173687.951714\n",
      "The cost is currently equal to......... 172985.274586\n",
      "The cost is currently equal to......... 172845.156601\n",
      "The cost is currently equal to......... 172575.63741\n",
      "The cost is currently equal to......... 172076.735649\n",
      "The cost is currently equal to......... 171600.598907\n",
      "The cost is currently equal to......... 171378.809173\n",
      "The cost is currently equal to......... 171295.055635\n",
      "The cost is currently equal to......... 171114.258592\n",
      "The cost is currently equal to......... 171077.45803\n",
      "The cost is currently equal to......... 170850.139075\n",
      "The cost is currently equal to......... 170548.854023\n",
      "The cost is currently equal to......... 170269.000784\n",
      "The cost is currently equal to......... 170140.89482\n",
      "The cost is currently equal to......... 170085.891965\n",
      "The cost is currently equal to......... 169866.886742\n",
      "The cost is currently equal to......... 169864.252603\n",
      "The cost is currently equal to......... 169755.038863\n",
      "The cost is currently equal to......... 169734.397851\n",
      "The cost is currently equal to......... 169692.323047\n",
      "The cost is currently equal to......... 169603.955352\n",
      "The cost is currently equal to......... 169538.692124\n",
      "The cost is currently equal to......... 169529.686283\n",
      "The cost is currently equal to......... 169503.194768\n",
      "The cost is currently equal to......... 169445.529978\n",
      "The cost is currently equal to......... 169411.481239\n",
      "The cost is currently equal to......... 169346.1954\n",
      "The cost is currently equal to......... 169332.033602\n",
      "The cost is currently equal to......... 169309.276446\n",
      "The cost is currently equal to......... 169254.816406\n",
      "The cost is currently equal to......... 169240.092416\n",
      "The cost is currently equal to......... 169195.628859\n",
      "The cost is currently equal to......... 169200.15259\n",
      "The cost is currently equal to......... 169174.214926\n",
      "The cost is currently equal to......... 169137.185664\n",
      "The cost is currently equal to......... 169099.041812\n",
      "The cost is currently equal to......... 169071.566351\n",
      "The cost is currently equal to......... 169052.697198\n",
      "The cost is currently equal to......... 169032.705681\n",
      "The cost is currently equal to......... 169022.813776\n",
      "The cost is currently equal to......... 168976.250536\n",
      "The cost is currently equal to......... 168957.095696\n",
      "The cost is currently equal to......... 168880.27281\n",
      "The cost is currently equal to......... 168773.652596\n",
      "The cost is currently equal to......... 169099.951219\n",
      "The cost is currently equal to......... 168752.095437\n",
      "The cost is currently equal to......... 168750.078654\n",
      "The cost is currently equal to......... 168740.674808\n",
      "The cost is currently equal to......... 168722.569016\n",
      "The cost is currently equal to......... 168713.823569\n",
      "The cost is currently equal to......... 168675.081145\n",
      "The cost is currently equal to......... 168666.1741\n",
      "The cost is currently equal to......... 168597.702676\n",
      "The cost is currently equal to......... 168583.213042\n",
      "The cost is currently equal to......... 168530.93022\n",
      "The cost is currently equal to......... 168521.446237\n",
      "The cost is currently equal to......... 168496.985127\n",
      "The cost is currently equal to......... 168482.51186\n",
      "The cost is currently equal to......... 168473.725121\n",
      "The cost is currently equal to......... 168460.368739\n",
      "The cost is currently equal to......... 168443.560145\n",
      "The cost is currently equal to......... 168436.008839\n",
      "The cost is currently equal to......... 168432.648028\n",
      "The cost is currently equal to......... 168419.525509\n",
      "The cost is currently equal to......... 168415.068426\n",
      "The cost is currently equal to......... 168411.54869\n",
      "The cost is currently equal to......... 168401.092683\n",
      "The cost is currently equal to......... 168396.244605\n",
      "The cost is currently equal to......... 168394.243715\n",
      "The cost is currently equal to......... 168386.513833\n",
      "The cost is currently equal to......... 168375.791535\n",
      "The cost is currently equal to......... 168366.873236\n",
      "The cost is currently equal to......... 168365.678838\n",
      "The cost is currently equal to......... 168362.04193\n",
      "The cost is currently equal to......... 168353.75066\n",
      "The cost is currently equal to......... 168345.83196\n",
      "The cost is currently equal to......... 168331.134925\n",
      "The cost is currently equal to......... 168325.747148\n",
      "The cost is currently equal to......... 168322.074052\n",
      "The cost is currently equal to......... 168311.133314\n",
      "The cost is currently equal to......... 168308.539946\n",
      "The cost is currently equal to......... 168304.868258\n",
      "The cost is currently equal to......... 168300.685297\n",
      "The cost is currently equal to......... 168294.328011\n",
      "The cost is currently equal to......... 168292.187503\n",
      "The cost is currently equal to......... 168278.568208\n",
      "The cost is currently equal to......... 168271.438834\n",
      "The cost is currently equal to......... 168255.798202\n",
      "The cost is currently equal to......... 168257.210759\n",
      "The cost is currently equal to......... 168248.215526\n",
      "The cost is currently equal to......... 168238.06631\n",
      "The cost is currently equal to......... 168241.081798\n",
      "The cost is currently equal to......... 168233.601739\n",
      "The cost is currently equal to......... 168234.290718\n",
      "The cost is currently equal to......... 168231.505002\n",
      "The cost is currently equal to......... 168228.443543\n",
      "The cost is currently equal to......... 168227.687885\n",
      "The cost is currently equal to......... 168221.641712\n",
      "The cost is currently equal to......... 168218.731008\n",
      "The cost is currently equal to......... 168212.315101\n",
      "The cost is currently equal to......... 168208.42041\n",
      "The cost is currently equal to......... 168202.503035\n",
      "The cost is currently equal to......... 168200.490098\n",
      "The cost is currently equal to......... 168191.476615\n",
      "The cost is currently equal to......... 168181.202544\n",
      "The cost is currently equal to......... 168170.54012\n",
      "The cost is currently equal to......... 168164.707023\n",
      "The cost is currently equal to......... 168163.145768\n",
      "The cost is currently equal to......... 168160.021976\n",
      "The cost is currently equal to......... 168158.424343\n",
      "The cost is currently equal to......... 168154.152172\n",
      "The cost is currently equal to......... 168148.903665\n",
      "The cost is currently equal to......... 168145.894392\n",
      "The cost is currently equal to......... 168145.204917\n",
      "The cost is currently equal to......... 168142.594539\n",
      "The cost is currently equal to......... 168139.569821\n"
     ]
    }
   ],
   "source": [
    "fmin = minimize(fun=cost, x0=params, args=(Ynorm, R_mat, num_business, num_user, num_features, lamda),  \n",
    "                method='CG', jac=True, options={'maxiter': 100})\n",
    "X = np.matrix(np.reshape(fmin.x[:num_business * num_features], (num_business, num_features)))  \n",
    "theta = np.matrix(np.reshape(fmin.x[num_business * num_features:], (num_user, num_features)))"
   ]
  },
  {
   "cell_type": "code",
   "execution_count": 88,
   "metadata": {
    "ExecuteTime": {
     "end_time": "2017-02-01T13:51:48.181125",
     "start_time": "2017-02-01T13:51:48.176112"
    },
    "collapsed": true,
    "run_control": {
     "frozen": false,
     "read_only": false
    }
   },
   "outputs": [],
   "source": [
    "## lamda = 10:\n",
    "# For 100 features after 20 iterations cost = 271'813 @ 2m 8s\n",
    "# For 50 features after 20 iterations cost = 186'694 @ 1m 0s\n",
    "# For 50 features after 100 iterations cost = 168'915 @ 8m 37s\n",
    "## lamda = 1:\n",
    "# For 50 features after 20 iterations cost = 142325 @ 2m 0s (might be overfitting)\n",
    "## lambda = 10\n",
    "# For 75 features after 100 iterations cost = 168131 @ 7m 55s \n",
    "\n",
    "## NOTE: nmubers will vary slightly every run due to randomness of algorithm (and selected masks)"
   ]
  },
  {
   "cell_type": "markdown",
   "metadata": {
    "run_control": {
     "frozen": false,
     "read_only": false
    }
   },
   "source": [
    "## Get Predictions"
   ]
  },
  {
   "cell_type": "code",
   "execution_count": 89,
   "metadata": {
    "ExecuteTime": {
     "end_time": "2017-02-01T13:51:48.738106",
     "start_time": "2017-02-01T13:51:48.183632"
    },
    "collapsed": true,
    "run_control": {
     "frozen": false,
     "read_only": false
    }
   },
   "outputs": [],
   "source": [
    "predictions = X * theta.T + Ymean"
   ]
  },
  {
   "cell_type": "code",
   "execution_count": 90,
   "metadata": {
    "ExecuteTime": {
     "end_time": "2017-02-01T13:51:48.745125",
     "start_time": "2017-02-01T13:51:48.740111"
    },
    "collapsed": false,
    "run_control": {
     "frozen": false,
     "read_only": false
    }
   },
   "outputs": [
    {
     "data": {
      "text/plain": [
       "4.3727989285558984"
      ]
     },
     "execution_count": 90,
     "metadata": {},
     "output_type": "execute_result"
    }
   ],
   "source": [
    "predictions[0,162]"
   ]
  },
  {
   "cell_type": "markdown",
   "metadata": {
    "run_control": {
     "frozen": false,
     "read_only": false
    }
   },
   "source": [
    "## Evaluate Recommender System"
   ]
  },
  {
   "cell_type": "code",
   "execution_count": 91,
   "metadata": {
    "ExecuteTime": {
     "end_time": "2017-02-01T13:51:48.767685",
     "start_time": "2017-02-01T13:51:48.748135"
    },
    "collapsed": false,
    "run_control": {
     "frozen": false,
     "read_only": false
    }
   },
   "outputs": [
    {
     "data": {
      "text/plain": [
       "array([ nan,  nan,  nan, ...,  nan,  nan,  nan])"
      ]
     },
     "execution_count": 91,
     "metadata": {},
     "output_type": "execute_result"
    }
   ],
   "source": [
    "Y.lookup(test_values_locations.business_id, test_values_locations.user_id)"
   ]
  },
  {
   "cell_type": "code",
   "execution_count": 92,
   "metadata": {
    "ExecuteTime": {
     "end_time": "2017-02-01T13:51:48.777210",
     "start_time": "2017-02-01T13:51:48.770194"
    },
    "collapsed": false,
    "run_control": {
     "frozen": false,
     "read_only": false
    }
   },
   "outputs": [
    {
     "data": {
      "text/plain": [
       "array([ nan,  nan,  nan, ...,  nan,  nan,  nan])"
      ]
     },
     "execution_count": 92,
     "metadata": {},
     "output_type": "execute_result"
    }
   ],
   "source": [
    "Y.values[row_ids, col_ids]"
   ]
  },
  {
   "cell_type": "code",
   "execution_count": 93,
   "metadata": {
    "ExecuteTime": {
     "end_time": "2017-02-01T13:51:48.799269",
     "start_time": "2017-02-01T13:51:48.779216"
    },
    "collapsed": false,
    "run_control": {
     "frozen": false,
     "read_only": false
    }
   },
   "outputs": [
    {
     "data": {
      "text/plain": [
       "array([ 5.,  4.,  2., ...,  4.,  5.,  5.])"
      ]
     },
     "execution_count": 93,
     "metadata": {},
     "output_type": "execute_result"
    }
   ],
   "source": [
    "Y_test_original.lookup(test_values_locations.business_id, test_values_locations.user_id)"
   ]
  },
  {
   "cell_type": "code",
   "execution_count": 94,
   "metadata": {
    "ExecuteTime": {
     "end_time": "2017-02-01T13:51:48.808293",
     "start_time": "2017-02-01T13:51:48.801776"
    },
    "collapsed": false,
    "run_control": {
     "frozen": false,
     "read_only": false
    }
   },
   "outputs": [
    {
     "data": {
      "text/plain": [
       "matrix([[ 3.9954655 ,  3.93438189,  2.572222  , ...,  3.92178146,\n",
       "          4.61897786,  4.24144613]])"
      ]
     },
     "execution_count": 94,
     "metadata": {},
     "output_type": "execute_result"
    }
   ],
   "source": [
    "predictions[row_ids, col_ids]"
   ]
  },
  {
   "cell_type": "markdown",
   "metadata": {
    "run_control": {
     "frozen": false,
     "read_only": false
    }
   },
   "source": [
    "### Clip the predictions between 1 and 5"
   ]
  },
  {
   "cell_type": "code",
   "execution_count": 95,
   "metadata": {
    "ExecuteTime": {
     "end_time": "2017-02-01T13:51:48.854416",
     "start_time": "2017-02-01T13:51:48.811315"
    },
    "collapsed": false,
    "run_control": {
     "frozen": false,
     "read_only": false
    }
   },
   "outputs": [
    {
     "data": {
      "text/plain": [
       "7.0016844102792399"
      ]
     },
     "execution_count": 95,
     "metadata": {},
     "output_type": "execute_result"
    }
   ],
   "source": [
    "predictions.max()"
   ]
  },
  {
   "cell_type": "code",
   "execution_count": 96,
   "metadata": {
    "ExecuteTime": {
     "end_time": "2017-02-01T13:51:49.089542",
     "start_time": "2017-02-01T13:51:48.856422"
    },
    "collapsed": false,
    "run_control": {
     "frozen": false,
     "read_only": false
    }
   },
   "outputs": [
    {
     "data": {
      "text/plain": [
       "matrix([[ 4.47276052,  4.47614103,  4.42139339, ...,  4.45173819,\n",
       "          4.44043731,  4.43084585],\n",
       "        [ 3.98173482,  3.91458223,  4.10119118, ...,  3.98663829,\n",
       "          3.9790745 ,  3.98707113],\n",
       "        [ 3.44413853,  3.47790872,  3.46858878, ...,  3.35842283,\n",
       "          3.24374619,  3.34322825],\n",
       "        ..., \n",
       "        [ 3.84280016,  4.01849474,  3.92831617, ...,  3.84729004,\n",
       "          3.99919431,  3.82727975],\n",
       "        [ 3.77490738,  3.46858855,  3.62237952, ...,  3.61773926,\n",
       "          3.46809442,  3.60368218],\n",
       "        [ 4.2580482 ,  4.12862309,  4.2388529 , ...,  4.14735044,\n",
       "          4.14157282,  4.19798093]])"
      ]
     },
     "execution_count": 96,
     "metadata": {},
     "output_type": "execute_result"
    }
   ],
   "source": [
    "predictions.clip(1, 5)"
   ]
  },
  {
   "cell_type": "markdown",
   "metadata": {
    "run_control": {
     "frozen": false,
     "read_only": false
    }
   },
   "source": [
    "## Find the mean squared error (MSE) for the test set"
   ]
  },
  {
   "cell_type": "markdown",
   "metadata": {
    "ExecuteTime": {
     "end_time": "2017-01-29T22:36:29.259125",
     "start_time": "2017-01-29T22:36:29.255634"
    },
    "run_control": {
     "frozen": false,
     "read_only": false
    }
   },
   "source": [
    "### With clipping the values to [1, 5] and rounding the results to nearest integer"
   ]
  },
  {
   "cell_type": "code",
   "execution_count": 98,
   "metadata": {
    "ExecuteTime": {
     "end_time": "2017-02-01T14:09:23.331437",
     "start_time": "2017-02-01T14:09:23.303361"
    },
    "collapsed": false,
    "run_control": {
     "frozen": false,
     "read_only": false
    }
   },
   "outputs": [
    {
     "data": {
      "text/plain": [
       "1.155131263196896"
      ]
     },
     "execution_count": 98,
     "metadata": {},
     "output_type": "execute_result"
    }
   ],
   "source": [
    "np.mean(np.power((np.round(predictions[row_ids, col_ids].clip(1,5)) - Y_test_original.lookup(test_values_locations.business_id, test_values_locations.user_id)),2))"
   ]
  },
  {
   "cell_type": "code",
   "execution_count": 99,
   "metadata": {
    "ExecuteTime": {
     "end_time": "2017-02-01T14:09:25.521974",
     "start_time": "2017-02-01T14:09:25.518452"
    },
    "collapsed": true,
    "run_control": {
     "frozen": false,
     "read_only": false
    }
   },
   "outputs": [],
   "source": [
    "# for 50 features lambda 1, 20 iterations, the MSE is 2.59\n",
    "# for 75 features lambda 10, 100 iterations, the MSE is 1.15"
   ]
  },
  {
   "cell_type": "markdown",
   "metadata": {
    "ExecuteTime": {
     "end_time": "2017-01-29T22:36:56.966329",
     "start_time": "2017-01-29T22:36:56.963323"
    },
    "run_control": {
     "frozen": false,
     "read_only": false
    }
   },
   "source": [
    "### With clipping but without rounding the results"
   ]
  },
  {
   "cell_type": "code",
   "execution_count": 100,
   "metadata": {
    "ExecuteTime": {
     "end_time": "2017-02-01T14:09:27.123845",
     "start_time": "2017-02-01T14:09:27.105315"
    },
    "collapsed": false,
    "run_control": {
     "frozen": false,
     "read_only": false
    },
    "scrolled": true
   },
   "outputs": [
    {
     "data": {
      "text/plain": [
       "1.0753387689488585"
      ]
     },
     "execution_count": 100,
     "metadata": {},
     "output_type": "execute_result"
    }
   ],
   "source": [
    "np.mean(np.power((predictions[row_ids, col_ids].clip(1,5) - Y_test_original.lookup(test_values_locations.business_id, test_values_locations.user_id)),2))"
   ]
  },
  {
   "cell_type": "code",
   "execution_count": 101,
   "metadata": {
    "ExecuteTime": {
     "end_time": "2017-02-01T14:09:28.201380",
     "start_time": "2017-02-01T14:09:28.198371"
    },
    "collapsed": true,
    "run_control": {
     "frozen": false,
     "read_only": false
    }
   },
   "outputs": [],
   "source": [
    "# for 50 features lambda 1, 20 iterations, the MSE is 2.51\n",
    "# for 75 features lambda 10, 100 iterations, the MSE is 1.07"
   ]
  },
  {
   "cell_type": "markdown",
   "metadata": {
    "run_control": {
     "frozen": false,
     "read_only": false
    }
   },
   "source": [
    "### Without clipping nor rounding:"
   ]
  },
  {
   "cell_type": "code",
   "execution_count": 102,
   "metadata": {
    "ExecuteTime": {
     "end_time": "2017-02-01T14:09:29.936828",
     "start_time": "2017-02-01T14:09:29.921290"
    },
    "collapsed": false,
    "run_control": {
     "frozen": false,
     "read_only": false
    }
   },
   "outputs": [
    {
     "data": {
      "text/plain": [
       "1.0754238895899881"
      ]
     },
     "execution_count": 102,
     "metadata": {},
     "output_type": "execute_result"
    }
   ],
   "source": [
    "np.mean(np.power((predictions[row_ids, col_ids] - Y_test_original.lookup(test_values_locations.business_id, test_values_locations.user_id)),2))"
   ]
  },
  {
   "cell_type": "code",
   "execution_count": 103,
   "metadata": {
    "ExecuteTime": {
     "end_time": "2017-02-01T14:09:32.839420",
     "start_time": "2017-02-01T14:09:32.835434"
    },
    "collapsed": true,
    "run_control": {
     "frozen": false,
     "read_only": false
    }
   },
   "outputs": [],
   "source": [
    "# for 50 features lambda 1, 20 iterations, the MSE is 3.83\n",
    "# for 75 features lambda 10, 100 iterations, the MSE is 1.07"
   ]
  },
  {
   "cell_type": "markdown",
   "metadata": {
    "run_control": {
     "frozen": false,
     "read_only": false
    }
   },
   "source": [
    "### Acuracy: not a good measure for recommendation systems"
   ]
  },
  {
   "cell_type": "code",
   "execution_count": 104,
   "metadata": {
    "ExecuteTime": {
     "end_time": "2017-02-01T14:09:33.526399",
     "start_time": "2017-02-01T14:09:33.510386"
    },
    "collapsed": false,
    "run_control": {
     "frozen": false,
     "read_only": false
    }
   },
   "outputs": [
    {
     "data": {
      "text/plain": [
       "array([ 0.36259928])"
      ]
     },
     "execution_count": 104,
     "metadata": {},
     "output_type": "execute_result"
    }
   ],
   "source": [
    "(np.round(predictions[row_ids, col_ids]) == Y_test_original.lookup(test_values_locations.business_id, test_values_locations.user_id)).sum()/row_ids.shape"
   ]
  },
  {
   "cell_type": "code",
   "execution_count": 105,
   "metadata": {
    "ExecuteTime": {
     "end_time": "2017-02-01T14:09:34.105501",
     "start_time": "2017-02-01T14:09:34.101985"
    },
    "collapsed": true,
    "run_control": {
     "frozen": false,
     "read_only": false
    }
   },
   "outputs": [],
   "source": [
    "# for 50 features lambda 1, 20 iterations, the accuracy is 0.02275\n",
    "# for 75 features lambda 10, 100 iterations, the accuracy is 0.36383"
   ]
  },
  {
   "cell_type": "markdown",
   "metadata": {
    "run_control": {
     "frozen": false,
     "read_only": false
    }
   },
   "source": [
    "## Another Evaluation metric: \n",
    "If predictions >= 3 and Original test value also >= 3, then the recommendation is correct, the same for values < 3 \n",
    "\n",
    "otherwise, the recommendation is incorrect \n",
    "\n",
    "Can use precision/recall/F1 score\n"
   ]
  },
  {
   "cell_type": "code",
   "execution_count": 106,
   "metadata": {
    "ExecuteTime": {
     "end_time": "2017-02-01T14:09:35.605603",
     "start_time": "2017-02-01T14:09:35.577507"
    },
    "collapsed": false,
    "run_control": {
     "frozen": false,
     "read_only": false
    }
   },
   "outputs": [
    {
     "data": {
      "text/plain": [
       "0.88014440433212993"
      ]
     },
     "execution_count": 106,
     "metadata": {},
     "output_type": "execute_result"
    }
   ],
   "source": [
    "# Accuracy:\n",
    "((np.round(predictions[row_ids, col_ids]) >= 3) & (Y_test_original.lookup(test_values_locations.business_id, test_values_locations.user_id) >= 3) | \n",
    " (predictions[row_ids, col_ids] < 3) & (Y_test_original.lookup(test_values_locations.business_id, test_values_locations.user_id) < 3)).mean()"
   ]
  },
  {
   "cell_type": "code",
   "execution_count": 107,
   "metadata": {
    "ExecuteTime": {
     "end_time": "2017-02-01T14:09:40.744929",
     "start_time": "2017-02-01T14:09:40.741442"
    },
    "collapsed": true,
    "run_control": {
     "frozen": false,
     "read_only": false
    }
   },
   "outputs": [],
   "source": [
    "# for 50 features lambda 1, 20 iterations, the accuracy is 0.75466\n",
    "# for 75 features lambda 10, 100 iterations, the accuracy is 0.87740"
   ]
  },
  {
   "cell_type": "code",
   "execution_count": 108,
   "metadata": {
    "ExecuteTime": {
     "end_time": "2017-02-01T14:09:41.620192",
     "start_time": "2017-02-01T14:09:41.614175"
    },
    "collapsed": false,
    "run_control": {
     "frozen": false,
     "read_only": false
    }
   },
   "outputs": [
    {
     "data": {
      "text/plain": [
       "True"
      ]
     },
     "execution_count": 108,
     "metadata": {},
     "output_type": "execute_result"
    }
   ],
   "source": [
    "(3 >= 3) & (4 > 3) | (2 < 3 and 4 < 3)"
   ]
  },
  {
   "cell_type": "code",
   "execution_count": 109,
   "metadata": {
    "ExecuteTime": {
     "end_time": "2017-02-01T14:09:41.785215",
     "start_time": "2017-02-01T14:09:41.777714"
    },
    "collapsed": false,
    "run_control": {
     "frozen": false,
     "read_only": false
    }
   },
   "outputs": [
    {
     "data": {
      "text/plain": [
       "(7359, 9231)"
      ]
     },
     "execution_count": 109,
     "metadata": {},
     "output_type": "execute_result"
    }
   ],
   "source": [
    "row_ids.max(), col_ids.max()"
   ]
  },
  {
   "cell_type": "code",
   "execution_count": 110,
   "metadata": {
    "ExecuteTime": {
     "end_time": "2017-02-01T14:09:41.976942",
     "start_time": "2017-02-01T14:09:41.971907"
    },
    "collapsed": false,
    "run_control": {
     "frozen": false,
     "read_only": false
    }
   },
   "outputs": [
    {
     "data": {
      "text/plain": [
       "(7360, 9234)"
      ]
     },
     "execution_count": 110,
     "metadata": {},
     "output_type": "execute_result"
    }
   ],
   "source": [
    "predictions.shape"
   ]
  },
  {
   "cell_type": "code",
   "execution_count": 111,
   "metadata": {
    "ExecuteTime": {
     "end_time": "2017-02-01T14:09:42.111297",
     "start_time": "2017-02-01T14:09:42.102253"
    },
    "collapsed": false,
    "run_control": {
     "frozen": false,
     "read_only": false
    },
    "scrolled": true
   },
   "outputs": [
    {
     "data": {
      "text/plain": [
       "Index(['BZSM6JL92epbwz-Oj3u8KQ', 'jccGOMPTOGS22Tp2m9PAog',\n",
       "       'J1QAHLBeLMcmJHKldRsHpA', '0O0WByGmSVbF7iNs4uxi0w',\n",
       "       'TnfUID7Q9MnRrH9Gl85AwA', '7n0h0HrdWpL1Tevi6e_yRA',\n",
       "       '0PS7ramgZYYoNGeJULFn7A', 'J5VmRqpwB-9j9rK7qMWv3Q',\n",
       "       'XmpqbfSu9X7mjwJGUXTrAQ', 'E7wgX0rRA8eZc_8uLdn89A',\n",
       "       ...\n",
       "       's_w52PBWQ7uv7r2W1wCAYQ', 'tiyg_cQaPdUuSG95Xpi_sA',\n",
       "       'T7eyOatIKKQyW9WopkKI9w', 'r5PLUa4fVwF0vXOgOQFiuA',\n",
       "       'rR5W8Bj-IGu6sw1_1v4m7g', 'fxglTLwS2HqcmWiuKwUT4A',\n",
       "       'LxQBaFGmoVGN18gcfLBhfw', 'YzNZNgpOy9tthDnczS_ajg',\n",
       "       'Rg4gzsz3w00vRlIOXcGUIA', 'VH1WbmbrUvgvSWQr68QA6g'],\n",
       "      dtype='object', name='user_id', length=2770)"
      ]
     },
     "execution_count": 111,
     "metadata": {},
     "output_type": "execute_result"
    }
   ],
   "source": [
    "# compare the Y_test to predicted values\n",
    "Y_test.columns"
   ]
  },
  {
   "cell_type": "code",
   "execution_count": 113,
   "metadata": {
    "ExecuteTime": {
     "end_time": "2017-02-01T14:11:23.559944",
     "start_time": "2017-02-01T14:11:23.547912"
    },
    "collapsed": false,
    "run_control": {
     "frozen": false,
     "read_only": false
    }
   },
   "outputs": [
    {
     "data": {
      "text/plain": [
       "matrix([[ 5.05279064],\n",
       "        [ 5.04829199],\n",
       "        [ 4.96894257],\n",
       "        ..., \n",
       "        [ 1.59402195],\n",
       "        [ 1.4747566 ],\n",
       "        [ 1.43832335]])"
      ]
     },
     "execution_count": 113,
     "metadata": {},
     "output_type": "execute_result"
    }
   ],
   "source": [
    "predictions[predictions[:,1].argsort(axis=0)[::-1],1]"
   ]
  },
  {
   "cell_type": "code",
   "execution_count": 114,
   "metadata": {
    "ExecuteTime": {
     "end_time": "2017-02-01T14:11:28.877338",
     "start_time": "2017-02-01T14:11:28.871312"
    },
    "collapsed": false,
    "run_control": {
     "frozen": false,
     "read_only": false
    }
   },
   "outputs": [
    {
     "data": {
      "text/plain": [
       "5.0527906392258126"
      ]
     },
     "execution_count": 114,
     "metadata": {},
     "output_type": "execute_result"
    }
   ],
   "source": [
    "predictions[:,1].max()"
   ]
  },
  {
   "cell_type": "code",
   "execution_count": 115,
   "metadata": {
    "ExecuteTime": {
     "end_time": "2017-02-01T14:11:30.053787",
     "start_time": "2017-02-01T14:11:30.042759"
    },
    "collapsed": false,
    "run_control": {
     "frozen": false,
     "read_only": false
    }
   },
   "outputs": [
    {
     "data": {
      "text/plain": [
       "5.0"
      ]
     },
     "execution_count": 115,
     "metadata": {},
     "output_type": "execute_result"
    }
   ],
   "source": [
    "Y.iloc[:,1].max()"
   ]
  },
  {
   "cell_type": "code",
   "execution_count": 116,
   "metadata": {
    "ExecuteTime": {
     "end_time": "2017-02-01T14:11:30.614838",
     "start_time": "2017-02-01T14:11:30.606816"
    },
    "collapsed": false,
    "run_control": {
     "frozen": false,
     "read_only": false
    }
   },
   "outputs": [
    {
     "data": {
      "text/plain": [
       "(7360, 9234)"
      ]
     },
     "execution_count": 116,
     "metadata": {},
     "output_type": "execute_result"
    }
   ],
   "source": [
    "predictions.shape"
   ]
  },
  {
   "cell_type": "markdown",
   "metadata": {
    "run_control": {
     "frozen": false,
     "read_only": false
    }
   },
   "source": [
    "## Evaluate the whole Y matrix (not null values)"
   ]
  },
  {
   "cell_type": "code",
   "execution_count": 117,
   "metadata": {
    "ExecuteTime": {
     "end_time": "2017-02-01T14:11:38.394064",
     "start_time": "2017-02-01T14:11:31.456343"
    },
    "collapsed": true,
    "run_control": {
     "frozen": false,
     "read_only": false
    }
   },
   "outputs": [],
   "source": [
    "# Find label locations (business, user) of rated businesses\n",
    "all_value_idx = Y[Y.notnull()].stack().index.tolist()"
   ]
  },
  {
   "cell_type": "code",
   "execution_count": 118,
   "metadata": {
    "ExecuteTime": {
     "end_time": "2017-02-01T14:11:38.449220",
     "start_time": "2017-02-01T14:11:38.395568"
    },
    "collapsed": false,
    "run_control": {
     "frozen": false,
     "read_only": false
    }
   },
   "outputs": [
    {
     "data": {
      "text/plain": [
       "[('--5jkZ3-nUPZxUvtcbr8Uw', '0BT613A1PBxuwxUzjEb6VQ'),\n",
       " ('--5jkZ3-nUPZxUvtcbr8Uw', '2dWZiZonDmR2rDoBrqYOFQ'),\n",
       " ('--5jkZ3-nUPZxUvtcbr8Uw', '7QfecHRoPxw-Uu2GMkGyzQ'),\n",
       " ('--5jkZ3-nUPZxUvtcbr8Uw', '8DEtfP9Fmp5X1DG6iTtXnQ'),\n",
       " ('--5jkZ3-nUPZxUvtcbr8Uw', '8KKUnoYOGRs8nMQLbwoFfA'),\n",
       " ('--5jkZ3-nUPZxUvtcbr8Uw', 'ARP1hjIwpYOGdQAg7iEBqA'),\n",
       " ('--5jkZ3-nUPZxUvtcbr8Uw', 'BWPbFAPZIv_Prl_ib88jpw'),\n",
       " ('--5jkZ3-nUPZxUvtcbr8Uw', 'BZSM6JL92epbwz-Oj3u8KQ'),\n",
       " ('--5jkZ3-nUPZxUvtcbr8Uw', 'Br9mpMhkVunsp8Un5GpYWA'),\n",
       " ('--5jkZ3-nUPZxUvtcbr8Uw', 'Cp-PV8rsypbO-xBrQ6KmQg'),\n",
       " ('--5jkZ3-nUPZxUvtcbr8Uw', 'CwkdQfIWMLFPpa14i8it9g'),\n",
       " ('--5jkZ3-nUPZxUvtcbr8Uw', 'F6QsMoJdvtohlbnST-fDyQ'),\n",
       " ('--5jkZ3-nUPZxUvtcbr8Uw', 'JHmO-lVrHA0njKnQnZ8qLA'),\n",
       " ('--5jkZ3-nUPZxUvtcbr8Uw', 'JpNMQXWX1Z2904D1BGl_Og'),\n",
       " ('--5jkZ3-nUPZxUvtcbr8Uw', 'Ki71iAFTxsPPQfX430c99Q'),\n",
       " ('--5jkZ3-nUPZxUvtcbr8Uw', 'Kqvfep2mxS10S50FbVDi4Q'),\n",
       " ('--5jkZ3-nUPZxUvtcbr8Uw', 'NNdfPF-UhvLB8FxbsuSC5A'),\n",
       " ('--5jkZ3-nUPZxUvtcbr8Uw', 'OpN1MhESDpc4_mPpx2Pd9Q'),\n",
       " ('--5jkZ3-nUPZxUvtcbr8Uw', 'P1fXuGmbdTz_jfEZLbWYcA'),\n",
       " ('--5jkZ3-nUPZxUvtcbr8Uw', 'QAtL9roCZeqQlLDB-Ara7g'),\n",
       " ('--5jkZ3-nUPZxUvtcbr8Uw', 'ST8Yzlk2MqKlcaLqL2djBg'),\n",
       " ('--5jkZ3-nUPZxUvtcbr8Uw', 'X1C6Ufo9Y0OxoxORBYPOLA'),\n",
       " ('--5jkZ3-nUPZxUvtcbr8Uw', 'XTFE2ERq7YvaqGUgQYzVNA'),\n",
       " ('--5jkZ3-nUPZxUvtcbr8Uw', 'Z_si9YlkrwzPN114kOCMIQ'),\n",
       " ('--5jkZ3-nUPZxUvtcbr8Uw', 'a8gpBi7biN9VAoJwKgl3Xw'),\n",
       " ('--5jkZ3-nUPZxUvtcbr8Uw', 'hB0XY4B9ps6ALpBD2k_ZgQ'),\n",
       " ('--5jkZ3-nUPZxUvtcbr8Uw', 'kffxYQVQsEpF1DVlQlcGCg'),\n",
       " ('--5jkZ3-nUPZxUvtcbr8Uw', 'p1F6Unak4Wlj0CouSEO6aQ'),\n",
       " ('--5jkZ3-nUPZxUvtcbr8Uw', 'qKqvVFP6PmxlS7-u0xjs3g'),\n",
       " ('--5jkZ3-nUPZxUvtcbr8Uw', 'sDyaN_3DEZyhnJPUFIwoEg'),\n",
       " ('--5jkZ3-nUPZxUvtcbr8Uw', 't6cniYnYdM9uUoW4CXaSzA'),\n",
       " ('--5jkZ3-nUPZxUvtcbr8Uw', 'uOdEsOgPW48Ky4j8U8CEcw'),\n",
       " ('--BlvDO_RG2yElKu9XA1_g', '0bNXP9quoJEgyVZu9ipGgQ'),\n",
       " ('--BlvDO_RG2yElKu9XA1_g', '3uR5YTXgW4hatuFnaNxSGg'),\n",
       " ('--BlvDO_RG2yElKu9XA1_g', '4CgusCZkipvUhvBZrRD46w'),\n",
       " ('--BlvDO_RG2yElKu9XA1_g', '90a6z--_CUrl84aCzZyPsg'),\n",
       " ('--BlvDO_RG2yElKu9XA1_g', '9MJAacmjxtctbI3xncsK5Q'),\n",
       " ('--BlvDO_RG2yElKu9XA1_g', 'B_gXPNJkP9zeH7qshbwK2w'),\n",
       " ('--BlvDO_RG2yElKu9XA1_g', 'BatP9LqtEkiww0owJIf_jg'),\n",
       " ('--BlvDO_RG2yElKu9XA1_g', 'GoymUzKqvET2QOZkIWZi9w'),\n",
       " ('--BlvDO_RG2yElKu9XA1_g', 'HPxji3cX5H460ECCgtnGHw'),\n",
       " ('--BlvDO_RG2yElKu9XA1_g', 'Jr11o_s3zIkKtOM8a8H8rw'),\n",
       " ('--BlvDO_RG2yElKu9XA1_g', 'LwfP-eD5RvdxR2Upr6ReOw'),\n",
       " ('--BlvDO_RG2yElKu9XA1_g', 'MRpr7424VPPicEVPcj7RCg'),\n",
       " ('--BlvDO_RG2yElKu9XA1_g', 'O4AFqy0d3v2LlJ31Z0khiA'),\n",
       " ('--BlvDO_RG2yElKu9XA1_g', 'RHLKZQWKlfraZcFNjJYxpQ'),\n",
       " ('--BlvDO_RG2yElKu9XA1_g', 'RsUNADZTrJ5xFXVMXJC1MQ'),\n",
       " ('--BlvDO_RG2yElKu9XA1_g', 'TPqXQMBaRdn7wYUP_diphQ'),\n",
       " ('--BlvDO_RG2yElKu9XA1_g', 'VexAJmqOClKzm8KbY7xs5g'),\n",
       " ('--BlvDO_RG2yElKu9XA1_g', 'YLE6GoJ61fb0QBF7JTkaJg'),\n",
       " ('--BlvDO_RG2yElKu9XA1_g', 'aanQAeF8EDsbZ6l5YddEsQ'),\n",
       " ('--BlvDO_RG2yElKu9XA1_g', 'btLssxZq0qOFKKBbYP8L6w'),\n",
       " ('--BlvDO_RG2yElKu9XA1_g', 'cSAACR699NuLMqBPuKL8nw'),\n",
       " ('--BlvDO_RG2yElKu9XA1_g', 'faVvuyxRutEkKX1hK1GuQA'),\n",
       " ('--BlvDO_RG2yElKu9XA1_g', 'omGocLsyIYeiHPviDOAa3w'),\n",
       " ('--BlvDO_RG2yElKu9XA1_g', 'p3QX1ZoFOCrin4ojNOVkBg'),\n",
       " ('--BlvDO_RG2yElKu9XA1_g', 'pDSMS-IW5wyZK0XBi4jnDw'),\n",
       " ('--BlvDO_RG2yElKu9XA1_g', 'zHgmWv6NbwZepUSqA_FlLw'),\n",
       " ('--BlvDO_RG2yElKu9XA1_g', 'zRnoNCqk0DG3iOQxtpVXug'),\n",
       " ('--UE_y6auTgq3FXlvUMkbw', '2UC3rwRm6swuNFt_GhKOhw'),\n",
       " ('--UE_y6auTgq3FXlvUMkbw', '57tPrvg7i2R3QjsxTiY-Xg'),\n",
       " ('--UE_y6auTgq3FXlvUMkbw', '63Pop3d15pTuHZ7qoex46w'),\n",
       " ('--UE_y6auTgq3FXlvUMkbw', '6QhWTugzBJ3cdv2N4WZcSA'),\n",
       " ('--UE_y6auTgq3FXlvUMkbw', '9Ify25DK87s5_u2EhK0_Rg'),\n",
       " ('--UE_y6auTgq3FXlvUMkbw', '9OZH1Ecw-qUkCW5MS0NefA'),\n",
       " ('--UE_y6auTgq3FXlvUMkbw', 'D1G8W0SgCbsKTv7cAqKcNg'),\n",
       " ('--UE_y6auTgq3FXlvUMkbw', 'DLu1Bum8EXNE62xno-v0VA'),\n",
       " ('--UE_y6auTgq3FXlvUMkbw', 'Hys6HzKi24j2809kI_7dKA'),\n",
       " ('--UE_y6auTgq3FXlvUMkbw', 'J_q8jN623uew8ZzMChXBCA'),\n",
       " ('--UE_y6auTgq3FXlvUMkbw', 'KSS6v5fcZNoelu4eEZCFcw'),\n",
       " ('--UE_y6auTgq3FXlvUMkbw', 'L_1ldS4LQxCt7cVN1tfWAQ'),\n",
       " ('--UE_y6auTgq3FXlvUMkbw', 'LhgQq1x4n9ardg1PFo8vgg'),\n",
       " ('--UE_y6auTgq3FXlvUMkbw', 'MSuyK2p8G9hEqyWf5IgnYQ'),\n",
       " ('--UE_y6auTgq3FXlvUMkbw', 'N8koJfNRHsL6ZcQsitYPtw'),\n",
       " ('--UE_y6auTgq3FXlvUMkbw', 'N_cH3QA_eXXmnzz-nzEeKA'),\n",
       " ('--UE_y6auTgq3FXlvUMkbw', 'NkWH_i-Ubu6LE317wG6yfQ'),\n",
       " ('--UE_y6auTgq3FXlvUMkbw', 'QcGi0cDzzGLb3LmiI33Psg'),\n",
       " ('--UE_y6auTgq3FXlvUMkbw', 'RSExP0-Boucr4QyIEzZi0A'),\n",
       " ('--UE_y6auTgq3FXlvUMkbw', 'T_wjLgPOPXry7Bea4MzoVQ'),\n",
       " ('--UE_y6auTgq3FXlvUMkbw', 'TckShYnQa0eD3WQxdoE3GQ'),\n",
       " ('--UE_y6auTgq3FXlvUMkbw', 'UD7Y1CqfY6mDmRwIuCf6nA'),\n",
       " ('--UE_y6auTgq3FXlvUMkbw', 'UZhNbC4E31-Hjx7SVA3hdw'),\n",
       " ('--UE_y6auTgq3FXlvUMkbw', 'UnGPr6ZnGe9YOSZRopnS5g'),\n",
       " ('--UE_y6auTgq3FXlvUMkbw', 'WzaaorVCmUTQvu4mScunNg'),\n",
       " ('--UE_y6auTgq3FXlvUMkbw', 'Z-TW_TppnxT4TkFeavNaQw'),\n",
       " ('--UE_y6auTgq3FXlvUMkbw', '_vS9qNQvx8wVUOIkj4qfAg'),\n",
       " ('--UE_y6auTgq3FXlvUMkbw', 'dapbOj1WwSchUr-7V63IBg'),\n",
       " ('--UE_y6auTgq3FXlvUMkbw', 'e7iHB7gZbVuD-UvJVKe3cQ'),\n",
       " ('--UE_y6auTgq3FXlvUMkbw', 'es9l0E8GJT4eWyCTSU4C2A'),\n",
       " ('--UE_y6auTgq3FXlvUMkbw', 'gtJJBaQwTwE45NnNF0coVA'),\n",
       " ('--UE_y6auTgq3FXlvUMkbw', 'hru2IDwSyN61sgWPtJw_hA'),\n",
       " ('--UE_y6auTgq3FXlvUMkbw', 'iSJLdur495--oPDE0b1Vpw'),\n",
       " ('--UE_y6auTgq3FXlvUMkbw', 'j2UOrL-m5tvtqKXV4-RkYw'),\n",
       " ('--UE_y6auTgq3FXlvUMkbw', 'jJ0Sn00IBzKzlJGSktE1aQ'),\n",
       " ('--UE_y6auTgq3FXlvUMkbw', 'lh4K6-KALpqgJ3mZOUBN4w'),\n",
       " ('--UE_y6auTgq3FXlvUMkbw', 'nx2PS25Qe3MCEFUdO_XOtw'),\n",
       " ('--UE_y6auTgq3FXlvUMkbw', 'o9XGClSBzCsQxbcCzTPdnQ'),\n",
       " ('--UE_y6auTgq3FXlvUMkbw', 'q7MrNVt1FE23rwtWmPYWHg'),\n",
       " ('--UE_y6auTgq3FXlvUMkbw', 'qPGLUQUG43b3aBZKDUBlMw'),\n",
       " ('--UE_y6auTgq3FXlvUMkbw', 'rGaYsX8fzbjpAAqSm62UOA'),\n",
       " ('--UE_y6auTgq3FXlvUMkbw', 'rONxiM8Hafy5kba3ZLoCbA'),\n",
       " ('--UE_y6auTgq3FXlvUMkbw', 'u2F_wCshIRLCKO0Un2R3ow'),\n",
       " ('--UE_y6auTgq3FXlvUMkbw', 'ukrBUZXE5K1J57FI7ve_RQ'),\n",
       " ('--UE_y6auTgq3FXlvUMkbw', 'ulik60Aw4MMl3fKi78B_fg'),\n",
       " ('--UE_y6auTgq3FXlvUMkbw', 'z5ap03HKlU_9sWjIjFN0Eg'),\n",
       " ('--pOlFxITWnhzc7SHSIP0A', '-_1ctLaz3jhPYc12hKXsEQ'),\n",
       " ('--pOlFxITWnhzc7SHSIP0A', '3Kn23qXbgPFmtV-CbHPJ2A'),\n",
       " ('--pOlFxITWnhzc7SHSIP0A', '4bIXGkoeMczOe6goszBJkQ'),\n",
       " ('--pOlFxITWnhzc7SHSIP0A', '5hhvqWu2vCo4HSKFw4H0pQ'),\n",
       " ('--pOlFxITWnhzc7SHSIP0A', '6f9xCzChuA5eBoxoR6EmAQ'),\n",
       " ('--pOlFxITWnhzc7SHSIP0A', '6n1Gb-yHpw4ke0oSAFOOnQ'),\n",
       " ('--pOlFxITWnhzc7SHSIP0A', '9P_5UGjc3t3Bo_yJ5A7iAQ'),\n",
       " ('--pOlFxITWnhzc7SHSIP0A', 'A6bPFcUjuuayRBoyybedDQ'),\n",
       " ('--pOlFxITWnhzc7SHSIP0A', 'E4cWjfDvTwKwhgXoZDwlBA'),\n",
       " ('--pOlFxITWnhzc7SHSIP0A', 'ETCwKbo2RBSDoLtIGW96eg'),\n",
       " ('--pOlFxITWnhzc7SHSIP0A', 'HZtUdfqNNi3Klqadu7247w'),\n",
       " ('--pOlFxITWnhzc7SHSIP0A', 'He6ZibRNyBAGvC-QHOrPkw'),\n",
       " ('--pOlFxITWnhzc7SHSIP0A', 'I1WILQ2Ok1U8igHUE9iIdQ'),\n",
       " ('--pOlFxITWnhzc7SHSIP0A', 'JCDjFVSmtF8oLyVj07fUSg'),\n",
       " ('--pOlFxITWnhzc7SHSIP0A', 'JG4BZ6PWmhB3XHgpRKaicQ'),\n",
       " ('--pOlFxITWnhzc7SHSIP0A', 'JLxAeGv8JCxYOlAxkDYGsQ'),\n",
       " ('--pOlFxITWnhzc7SHSIP0A', 'Kybm9SJyOfEgDAXFUPRdCQ'),\n",
       " ('--pOlFxITWnhzc7SHSIP0A', 'M6MieaY1qYTjv40qUrhAmQ'),\n",
       " ('--pOlFxITWnhzc7SHSIP0A', 'NESzjLpjWixicUlFd5Oxtw'),\n",
       " ('--pOlFxITWnhzc7SHSIP0A', 'OXzYyZSHo9Dl6Qd0s_o2Ig'),\n",
       " ('--pOlFxITWnhzc7SHSIP0A', 'PDVT8Lshz0z6Cy4A4Ee3zA'),\n",
       " ('--pOlFxITWnhzc7SHSIP0A', 'PMBwthnhhwL8Rw8Alis8Ew'),\n",
       " ('--pOlFxITWnhzc7SHSIP0A', 'PpkKVodWC0sdn74TbHQLzA'),\n",
       " ('--pOlFxITWnhzc7SHSIP0A', 'SC9GM-QpmR8x1Ga3reIb_w'),\n",
       " ('--pOlFxITWnhzc7SHSIP0A', 'Suk3mDCt1WPNdKpuTaxZnQ'),\n",
       " ('--pOlFxITWnhzc7SHSIP0A', 'Ty9Hlih7lscLIwWp4oaeXQ'),\n",
       " ('--pOlFxITWnhzc7SHSIP0A', 'UmCAhWcU_abaaESenKUiLw'),\n",
       " ('--pOlFxITWnhzc7SHSIP0A', 'UtVpoTzxnhkWk5eIyON6WQ'),\n",
       " ('--pOlFxITWnhzc7SHSIP0A', 'VS2eqJXJIGNwkD6IGY031Q'),\n",
       " ('--pOlFxITWnhzc7SHSIP0A', 'VhI6xyylcAxi0wOy2HOX3w'),\n",
       " ('--pOlFxITWnhzc7SHSIP0A', 'ZQU0VKHqCBpoU5SYx454KQ'),\n",
       " ('--pOlFxITWnhzc7SHSIP0A', 'aezHXN4Vw6n8JYtN9zI7NQ'),\n",
       " ('--pOlFxITWnhzc7SHSIP0A', 'cZjX4HsWB8mTLHI4uhbB-g'),\n",
       " ('--pOlFxITWnhzc7SHSIP0A', 'd4-0-wEjkANvDuuq9SmmKw'),\n",
       " ('--pOlFxITWnhzc7SHSIP0A', 'dJlo6PovBYJk6zCkd7Y10Q'),\n",
       " ('--pOlFxITWnhzc7SHSIP0A', 'dXkJ91eJ60KppeHC9dmavA'),\n",
       " ('--pOlFxITWnhzc7SHSIP0A', 'daOPsL58Yz0DaBtuGtod-w'),\n",
       " ('--pOlFxITWnhzc7SHSIP0A', 'dufkE7-rD8qURGEkOE172g'),\n",
       " ('--pOlFxITWnhzc7SHSIP0A', 'eppXd18fTZSY5d7etGre4g'),\n",
       " ('--pOlFxITWnhzc7SHSIP0A', 'h6ANB0LnT4vAELRSj_uAOg'),\n",
       " ('--pOlFxITWnhzc7SHSIP0A', 'hEFiiqzLHkqNSePBD2jnqA'),\n",
       " ('--pOlFxITWnhzc7SHSIP0A', 'iXw0rFSizCrA5n4bpELiPQ'),\n",
       " ('--pOlFxITWnhzc7SHSIP0A', 'kzTw297vLneC9KgZv92MwA'),\n",
       " ('--pOlFxITWnhzc7SHSIP0A', 'l4nJ5rCyw_qaFiO0-NLhtw'),\n",
       " ('--pOlFxITWnhzc7SHSIP0A', 'mTKWYLN9PmqF7UflA7tnPQ'),\n",
       " ('--pOlFxITWnhzc7SHSIP0A', 'nHsj0cHOiroAsmDfF50BtA'),\n",
       " ('--pOlFxITWnhzc7SHSIP0A', 'oqk2nivNciQDKL11Q2O7QA'),\n",
       " ('--pOlFxITWnhzc7SHSIP0A', 'rHdD5wi1iL5R3SR4MngfjA'),\n",
       " ('--pOlFxITWnhzc7SHSIP0A', 'tha1bsWQNbDTnHYMk48vGA'),\n",
       " ('--pOlFxITWnhzc7SHSIP0A', 'ts7EG6Zv2zdMDg29nyqGfA'),\n",
       " ('--pOlFxITWnhzc7SHSIP0A', 'u6uKeOcA8MB1SPvuVlP0uA'),\n",
       " ('--pOlFxITWnhzc7SHSIP0A', 'uJDeOEoqsdQihpSwUfVLdg'),\n",
       " ('--pOlFxITWnhzc7SHSIP0A', 'uL7TIJ56Eb9Rx4nkt2ej_Q'),\n",
       " ('--pOlFxITWnhzc7SHSIP0A', 'wiSyra98q3ZZwfXMvCWu0Q'),\n",
       " ('--pOlFxITWnhzc7SHSIP0A', 'z89zLtkHdvYwMw7ikLAigw'),\n",
       " ('-0Ackw6MF82PXO9f9Jh_Kg', '-AXrmhjaQ8PbZJFe5V9Hjw'),\n",
       " ('-0Ackw6MF82PXO9f9Jh_Kg', '1Un-MiG32ww25kTNxPxCug'),\n",
       " ('-0Ackw6MF82PXO9f9Jh_Kg', '2D2PBuvLtxA0G7OxM_IWqQ'),\n",
       " ('-0Ackw6MF82PXO9f9Jh_Kg', '2LZNE87dqxcn-TU5u5UKdg'),\n",
       " ('-0Ackw6MF82PXO9f9Jh_Kg', '2bAbL28lhrnyOlYiZ8yMdg'),\n",
       " ('-0Ackw6MF82PXO9f9Jh_Kg', '3P8YxDrEdFuzZcnEafVDBA'),\n",
       " ('-0Ackw6MF82PXO9f9Jh_Kg', '3nbqYfQfn1hC4gDWAV6_mg'),\n",
       " ('-0Ackw6MF82PXO9f9Jh_Kg', '3sWSeGT-5fQ2Z6uAW78VMA'),\n",
       " ('-0Ackw6MF82PXO9f9Jh_Kg', '4BZbyy12azmRsZErsiTWwQ'),\n",
       " ('-0Ackw6MF82PXO9f9Jh_Kg', '5Fd93L51CcW9oiJxPPfgEQ'),\n",
       " ('-0Ackw6MF82PXO9f9Jh_Kg', '6BI2XAnVHwhH8LiheWHQqw'),\n",
       " ('-0Ackw6MF82PXO9f9Jh_Kg', '7aY-XYK4q7ueEv2-oDgaHA'),\n",
       " ('-0Ackw6MF82PXO9f9Jh_Kg', '7h7IlYzn2j2b7AH-801EtQ'),\n",
       " ('-0Ackw6MF82PXO9f9Jh_Kg', '88FemXA1-xBMkrKqbemjtA'),\n",
       " ('-0Ackw6MF82PXO9f9Jh_Kg', 'Asi2hACYNaZkK916a8YbBw'),\n",
       " ('-0Ackw6MF82PXO9f9Jh_Kg', 'BlLKSPOVNVozkOMFYNHdYw'),\n",
       " ('-0Ackw6MF82PXO9f9Jh_Kg', 'CcTiVSitn50PDxHuy9dV7Q'),\n",
       " ('-0Ackw6MF82PXO9f9Jh_Kg', 'DS6Gi20MMMA5KP6rRdey9w'),\n",
       " ('-0Ackw6MF82PXO9f9Jh_Kg', 'DxJ87tigSia0ga5YMj6AeQ'),\n",
       " ('-0Ackw6MF82PXO9f9Jh_Kg', 'GDORQxUWjO5wSETJ782FMQ'),\n",
       " ('-0Ackw6MF82PXO9f9Jh_Kg', 'GJsvq6TXHSol66a3H8SOfw'),\n",
       " ('-0Ackw6MF82PXO9f9Jh_Kg', 'IWdbAR6CrCrq0cYEgQX08w'),\n",
       " ('-0Ackw6MF82PXO9f9Jh_Kg', 'IrzHAVpjBUSLnnrY5jG2OQ'),\n",
       " ('-0Ackw6MF82PXO9f9Jh_Kg', 'Iu3Jo9ROp2IWC9FwtWOaUQ'),\n",
       " ('-0Ackw6MF82PXO9f9Jh_Kg', 'JEfRjBaNqdInGz2_Zx3mxQ'),\n",
       " ('-0Ackw6MF82PXO9f9Jh_Kg', 'LPmph859UUDQTXU5XaZGtQ'),\n",
       " ('-0Ackw6MF82PXO9f9Jh_Kg', 'N7wNlo3_EaHUWHiFDyGh5g'),\n",
       " ('-0Ackw6MF82PXO9f9Jh_Kg', 'NjOYSgr2LNMoSPi4e140Ig'),\n",
       " ('-0Ackw6MF82PXO9f9Jh_Kg', 'P-kkhXZpL_hUN8Zu3t7BDQ'),\n",
       " ('-0Ackw6MF82PXO9f9Jh_Kg', 'P3zg5hDD28V2XQwcnoJ_Lw'),\n",
       " ('-0Ackw6MF82PXO9f9Jh_Kg', 'RaCj9KJeiy0W3uQd-Bj6Ng'),\n",
       " ('-0Ackw6MF82PXO9f9Jh_Kg', 'T7emU3xCiPYnickSWN2y5g'),\n",
       " ('-0Ackw6MF82PXO9f9Jh_Kg', 'VRHbJQaRb_T16u1O9Dy2nw'),\n",
       " ('-0Ackw6MF82PXO9f9Jh_Kg', 'WmAyExqSWoiYZ5XEqpk_Uw'),\n",
       " ('-0Ackw6MF82PXO9f9Jh_Kg', 'XHkzCzmIAB3DnjQO7v6jww'),\n",
       " ('-0Ackw6MF82PXO9f9Jh_Kg', 'YAjMnT_aU3pNDgYO-rUUFg'),\n",
       " ('-0Ackw6MF82PXO9f9Jh_Kg', 'ap4taRzgmqmEvAe_x-tQYg'),\n",
       " ('-0Ackw6MF82PXO9f9Jh_Kg', 'bf2Y2uOcgwCA3XZDMNW7SA'),\n",
       " ('-0Ackw6MF82PXO9f9Jh_Kg', 'e9tbHJ2i8vE8AJjoHtA6kQ'),\n",
       " ('-0Ackw6MF82PXO9f9Jh_Kg', 'hRdhlyNVtVvcf7oLn2J1Xw'),\n",
       " ('-0Ackw6MF82PXO9f9Jh_Kg', 'hpv_0rLsQ512O_tomr4xiQ'),\n",
       " ('-0Ackw6MF82PXO9f9Jh_Kg', 'k5p3YP1ZjCa8ZS3xqXgBug'),\n",
       " ('-0Ackw6MF82PXO9f9Jh_Kg', 'mO2Qw9O4oTHio4TlaHTSfw'),\n",
       " ('-0Ackw6MF82PXO9f9Jh_Kg', 'mrIiiPUsp4CIt1fPNzsDfg'),\n",
       " ('-0Ackw6MF82PXO9f9Jh_Kg', 'psf7Etrt3azIdhMhoPKmpA'),\n",
       " ('-0Ackw6MF82PXO9f9Jh_Kg', 'puEh1nAiAwxgNkPJFmlN7w'),\n",
       " ('-0Ackw6MF82PXO9f9Jh_Kg', 'qhOMHfr_rrcdRFIZcIU7Dg'),\n",
       " ('-0Ackw6MF82PXO9f9Jh_Kg', 'tGMgfgBXibTtE_SFtelKNw'),\n",
       " ('-0Ackw6MF82PXO9f9Jh_Kg', 'vpfVuYOBech1P220ho1KFA'),\n",
       " ('-0Ackw6MF82PXO9f9Jh_Kg', 'vsR6VM-x-phiOsjU6QQEuA'),\n",
       " ('-0Ackw6MF82PXO9f9Jh_Kg', 'ydaYTc4HzEbByz4HhNzC0w'),\n",
       " ('-0Ackw6MF82PXO9f9Jh_Kg', 'zdd-2iKL09VLFMrOVNI4-Q'),\n",
       " ('-0Oh0BEtQEC9OmmzZ_H5Bg', '-M8nC6CF0ESYI20Zkhjplg'),\n",
       " ('-0Oh0BEtQEC9OmmzZ_H5Bg', '45b5rr4_gTTBCYQqeXGt9Q'),\n",
       " ('-0Oh0BEtQEC9OmmzZ_H5Bg', '4xg7zKItKzrPiZnt9bpeoQ'),\n",
       " ('-0Oh0BEtQEC9OmmzZ_H5Bg', '60i9h-gPKH1f0YC_bZXDhg'),\n",
       " ('-0Oh0BEtQEC9OmmzZ_H5Bg', '6ZoAjSFzK-zbdCjgUE4r2Q'),\n",
       " ('-0Oh0BEtQEC9OmmzZ_H5Bg', '7dVb_A9s34R-EVQYetmLCA'),\n",
       " ('-0Oh0BEtQEC9OmmzZ_H5Bg', 'BjxA4zrE0Jy1jh5SQLkLlA'),\n",
       " ('-0Oh0BEtQEC9OmmzZ_H5Bg', 'CYHX8nnPoqclfWSsl1JWnA'),\n",
       " ('-0Oh0BEtQEC9OmmzZ_H5Bg', 'Ce3r59dubVnVxSPAfetr2w'),\n",
       " ('-0Oh0BEtQEC9OmmzZ_H5Bg', 'DwU7KVfebA70AlVtX0iOWw'),\n",
       " ('-0Oh0BEtQEC9OmmzZ_H5Bg', 'E5qFR0RBQBoXx8FbrOkdbw'),\n",
       " ('-0Oh0BEtQEC9OmmzZ_H5Bg', 'GGOH_X7npmcf3xYNtMeWcA'),\n",
       " ('-0Oh0BEtQEC9OmmzZ_H5Bg', 'H1lVApo6vxkozQIA2FoaHQ'),\n",
       " ('-0Oh0BEtQEC9OmmzZ_H5Bg', 'IDHrwv_RCildFvmfWTkj5Q'),\n",
       " ('-0Oh0BEtQEC9OmmzZ_H5Bg', 'JIHbz6V2TJ6ho0yUaBsckQ'),\n",
       " ('-0Oh0BEtQEC9OmmzZ_H5Bg', 'NEM5_z4ImMeaa24zmOwBrw'),\n",
       " ('-0Oh0BEtQEC9OmmzZ_H5Bg', 'ODhV53XhesCBLJVfGsJGNA'),\n",
       " ('-0Oh0BEtQEC9OmmzZ_H5Bg', 'OOxLwlNadygUwL_aG8KnSQ'),\n",
       " ('-0Oh0BEtQEC9OmmzZ_H5Bg', 'OgF3ZL2aDJhzCj9uLRpyQA'),\n",
       " ('-0Oh0BEtQEC9OmmzZ_H5Bg', 'OpN1MhESDpc4_mPpx2Pd9Q'),\n",
       " ('-0Oh0BEtQEC9OmmzZ_H5Bg', 'RsUNADZTrJ5xFXVMXJC1MQ'),\n",
       " ('-0Oh0BEtQEC9OmmzZ_H5Bg', 'RyX1dtn2eACiehBSj7rxEw'),\n",
       " ('-0Oh0BEtQEC9OmmzZ_H5Bg', 'VtMiUqswOapKPTXf1FIE7g'),\n",
       " ('-0Oh0BEtQEC9OmmzZ_H5Bg', 'YSf4D_rt75nnb_gRgYLY_A'),\n",
       " ('-0Oh0BEtQEC9OmmzZ_H5Bg', 'cAs84AMuiSsgzlWv3JP1uQ'),\n",
       " ('-0Oh0BEtQEC9OmmzZ_H5Bg', 'eXFNV1o6x7oWRP6V_tf5BA'),\n",
       " ('-0Oh0BEtQEC9OmmzZ_H5Bg', 'oAfKMcbHzxD1qMo90ksCMA'),\n",
       " ('-0Oh0BEtQEC9OmmzZ_H5Bg', 'p7dvahRPZIWL7T6pFA_0dg'),\n",
       " ('-0Oh0BEtQEC9OmmzZ_H5Bg', 'poVxDmOPrxbnmvKp6eCs3Q'),\n",
       " ('-0Oh0BEtQEC9OmmzZ_H5Bg', 'qfKtIq30I6wzbokZ4IZ7VQ'),\n",
       " ('-0Oh0BEtQEC9OmmzZ_H5Bg', 'teO4xBunbWqYpClcc5wxwQ'),\n",
       " ('-0Oh0BEtQEC9OmmzZ_H5Bg', 'uZbTb-u-GVjTa2gtQfry5g'),\n",
       " ('-0Oh0BEtQEC9OmmzZ_H5Bg', 'vy0nm2MYGayJ2JcRtfaWxg'),\n",
       " ('-0Oh0BEtQEC9OmmzZ_H5Bg', 'wUEp87FqOB9ew27Iz6zk_w'),\n",
       " ('-0Oh0BEtQEC9OmmzZ_H5Bg', 'xFYguuRPof7hLuWfLbQEZA'),\n",
       " ('-0Oh0BEtQEC9OmmzZ_H5Bg', 'xuVvzfQ583-brRngrMYhbw'),\n",
       " ('-0ZDRoepf3gwd9fpsw1bRQ', '6n1Gb-yHpw4ke0oSAFOOnQ'),\n",
       " ('-0ZDRoepf3gwd9fpsw1bRQ', 'GLJazgesK2b_mRYQaEc8rA'),\n",
       " ('-0ZDRoepf3gwd9fpsw1bRQ', 'LP0bl3GKToABt3lnpSvA2w'),\n",
       " ('-0ZDRoepf3gwd9fpsw1bRQ', 'LRd5CZ8tkdV2Pa4Zz2pSbw'),\n",
       " ('-0ZDRoepf3gwd9fpsw1bRQ', 'M-TwsqjrGVH9-qyw2KcvdQ'),\n",
       " ('-0ZDRoepf3gwd9fpsw1bRQ', 'MOaDlqJ6wWvnJN4wGqreqw'),\n",
       " ('-0ZDRoepf3gwd9fpsw1bRQ', 'NESzjLpjWixicUlFd5Oxtw'),\n",
       " ('-0ZDRoepf3gwd9fpsw1bRQ', 'QJLI1ifWAs-JV8ArBg_Y6w'),\n",
       " ('-0ZDRoepf3gwd9fpsw1bRQ', 'W6LTsXcY1R76M9EdeN0G6A'),\n",
       " ('-0ZDRoepf3gwd9fpsw1bRQ', 'XeDbXueGKrfMLyIG45QIOg'),\n",
       " ('-0ZDRoepf3gwd9fpsw1bRQ', 'ZcEstCa4fDhNXrkZ8_Gh0Q'),\n",
       " ('-0ZDRoepf3gwd9fpsw1bRQ', '_X0Xt2z5Q7GESxxRzvy4_g'),\n",
       " ('-0ZDRoepf3gwd9fpsw1bRQ', 'cxTh9xxqbs-m8Paq6jAumg'),\n",
       " ('-0ZDRoepf3gwd9fpsw1bRQ', 'd1bRcn4uVYN7ONDRO_s9IQ'),\n",
       " ('-0ZDRoepf3gwd9fpsw1bRQ', 'gExkcQH-gW8UUV34VTnK_Q'),\n",
       " ('-0ZDRoepf3gwd9fpsw1bRQ', 'lpZtfD-vCqUER1yGKEvUPw'),\n",
       " ('-0ZDRoepf3gwd9fpsw1bRQ', 'ovzXqT-2ZBaKX282t8WrIg'),\n",
       " ('-0ZDRoepf3gwd9fpsw1bRQ', 'qlYjP4O4BJXE9XaF9MqTYA'),\n",
       " ('-0ZDRoepf3gwd9fpsw1bRQ', 'svkcc6NiBYPp2wfqRo1FQw'),\n",
       " ('-0ZDRoepf3gwd9fpsw1bRQ', 'tf_e7UpwE9PntjCGa7NWig'),\n",
       " ('-0ZDRoepf3gwd9fpsw1bRQ', 'tha1bsWQNbDTnHYMk48vGA'),\n",
       " ('-0ZDRoepf3gwd9fpsw1bRQ', 'vjW8zjAsCTFWhhUb6-HyBA'),\n",
       " ('-1ERbsOf9XOC9wGbZYFr7g', '-G73-qB8IHAawJEJkwr7pA'),\n",
       " ('-1ERbsOf9XOC9wGbZYFr7g', '05b8Uk-4rgyCDlBx7e0rMQ'),\n",
       " ('-1ERbsOf9XOC9wGbZYFr7g', '0HnPDzem6Yx7i0a-jklk1Q'),\n",
       " ('-1ERbsOf9XOC9wGbZYFr7g', '1aN5gfWMNfLkFMkNr60P-A'),\n",
       " ('-1ERbsOf9XOC9wGbZYFr7g', '2l2lRFuHLdyGjAuusqPDag'),\n",
       " ('-1ERbsOf9XOC9wGbZYFr7g', '38JK-SfO9NkAGs1RwlH2Gw'),\n",
       " ('-1ERbsOf9XOC9wGbZYFr7g', '42W2_gxwX7sWcpn_ea2f6A'),\n",
       " ('-1ERbsOf9XOC9wGbZYFr7g', '6l_ATA06SBvvPDMvMiKQgw'),\n",
       " ('-1ERbsOf9XOC9wGbZYFr7g', '8UA0UcT-5hucroSxnHZWeg'),\n",
       " ('-1ERbsOf9XOC9wGbZYFr7g', '9A2-wSoBUxlMd3LwmlGrrQ'),\n",
       " ('-1ERbsOf9XOC9wGbZYFr7g', 'CD2126M9pqK80sAPY0Wu_w'),\n",
       " ('-1ERbsOf9XOC9wGbZYFr7g', 'CbY45zEM2jdopLOoUkOL8Q'),\n",
       " ('-1ERbsOf9XOC9wGbZYFr7g', 'EaVmK7PPnV5TAEvB_tg-sw'),\n",
       " ('-1ERbsOf9XOC9wGbZYFr7g', 'FFfeFVf1bICg4FEubiF-Dw'),\n",
       " ('-1ERbsOf9XOC9wGbZYFr7g', 'FeufuarJRBpDs4IEZaXcbg'),\n",
       " ('-1ERbsOf9XOC9wGbZYFr7g', 'GL8QryVyVRgxKpKjIoW_ig'),\n",
       " ('-1ERbsOf9XOC9wGbZYFr7g', 'GPIV41wpKGS5XNvQeBtYjQ'),\n",
       " ('-1ERbsOf9XOC9wGbZYFr7g', 'HtKDIcnUK9FKWmJjrT65-g'),\n",
       " ('-1ERbsOf9XOC9wGbZYFr7g', 'Iu3Jo9ROp2IWC9FwtWOaUQ'),\n",
       " ('-1ERbsOf9XOC9wGbZYFr7g', 'Lh6CL9jY5Yusmltp9jeyyg'),\n",
       " ('-1ERbsOf9XOC9wGbZYFr7g', 'Lo4auWwU5mV87pDkuozu4A'),\n",
       " ('-1ERbsOf9XOC9wGbZYFr7g', 'Mhlo8hKUnTbk2zTREqGgMA'),\n",
       " ('-1ERbsOf9XOC9wGbZYFr7g', 'T-b619yiMFLJuDYjmrjbXg'),\n",
       " ('-1ERbsOf9XOC9wGbZYFr7g', 'UEYmdOJORe0vD0H0i5PyMg'),\n",
       " ('-1ERbsOf9XOC9wGbZYFr7g', 'UL7WSQULfYNpxaOi_wS9pw'),\n",
       " ('-1ERbsOf9XOC9wGbZYFr7g', 'Vi77s0AS-cIzPoBq5AbEaQ'),\n",
       " ('-1ERbsOf9XOC9wGbZYFr7g', 'Z0e50zAZ7VhLyop4G8MLCQ'),\n",
       " ('-1ERbsOf9XOC9wGbZYFr7g', '_J2QO7SGgR1Fzs0bKLDIFQ'),\n",
       " ('-1ERbsOf9XOC9wGbZYFr7g', '__nLCwboY2RhiLd6hVSexQ'),\n",
       " ('-1ERbsOf9XOC9wGbZYFr7g', 'dqpp_QWTVMpUBtFRdpZ7gw'),\n",
       " ('-1ERbsOf9XOC9wGbZYFr7g', 'dz1dFc2jo6Sq5jvSnCzjMQ'),\n",
       " ('-1ERbsOf9XOC9wGbZYFr7g', 'eIntLM-mK4OxcO5kfUw5dg'),\n",
       " ('-1ERbsOf9XOC9wGbZYFr7g', 'g1a4OLgGSWMLOGEwcsb3fQ'),\n",
       " ('-1ERbsOf9XOC9wGbZYFr7g', 'i12pkZvWH4elKnoeVvRT7A'),\n",
       " ('-1ERbsOf9XOC9wGbZYFr7g', 'k3itmpGK28_JGNXnAo8W6Q'),\n",
       " ('-1ERbsOf9XOC9wGbZYFr7g', 'nnN2os8AyJwerJeZ_KQKMw'),\n",
       " ('-1ERbsOf9XOC9wGbZYFr7g', 'oOayyTrVO-PbVeXXsh_JEQ'),\n",
       " ('-1ERbsOf9XOC9wGbZYFr7g', 'olM9Qkh8dnW3sw8vW0CPWg'),\n",
       " ('-1ERbsOf9XOC9wGbZYFr7g', 'ou-yGrDISZPfe9gDqXMIXw'),\n",
       " ('-1ERbsOf9XOC9wGbZYFr7g', 'pnEzSccoQlXf5ZvOCAw_XA'),\n",
       " ('-1ERbsOf9XOC9wGbZYFr7g', 'q6rtK--sgc0JoGQyf7CuRg'),\n",
       " ('-1ERbsOf9XOC9wGbZYFr7g', 'spua98OQihmtKuhZXeyUaw'),\n",
       " ('-1ERbsOf9XOC9wGbZYFr7g', 'vjyPJBAkpiWonAMVuUEKJA'),\n",
       " ('-1ERbsOf9XOC9wGbZYFr7g', 'xQpO4Jfi-Np3HLmJrQAe0Q'),\n",
       " ('-1ERbsOf9XOC9wGbZYFr7g', 'xj6NkHKs40GSnhRrWOuzUQ'),\n",
       " ('-1bOb2izeJBZjHC7NWxiPA', '100Df1wcVrl9rJgB7EG6xw'),\n",
       " ('-1bOb2izeJBZjHC7NWxiPA', '1cR5-LZcSYcACxhGe3DEVA'),\n",
       " ('-1bOb2izeJBZjHC7NWxiPA', '2KyJLMY3jmASmwtnmlBuvw'),\n",
       " ('-1bOb2izeJBZjHC7NWxiPA', '8Fhyi6U9-3OZC0j8DY3TPQ'),\n",
       " ('-1bOb2izeJBZjHC7NWxiPA', '9tXL9eJNIi9SL5pdCYeyZQ'),\n",
       " ('-1bOb2izeJBZjHC7NWxiPA', '9uuPzUWC1m_TnMUV9kXu9g'),\n",
       " ('-1bOb2izeJBZjHC7NWxiPA', 'AYGHNy8gPxl2Q-etTT3hZw'),\n",
       " ('-1bOb2izeJBZjHC7NWxiPA', 'BV8c4QZEzvPWA00ZqJp-jQ'),\n",
       " ('-1bOb2izeJBZjHC7NWxiPA', 'CZ2c7VGCAFYuJdhwsqRChQ'),\n",
       " ('-1bOb2izeJBZjHC7NWxiPA', 'E5qFR0RBQBoXx8FbrOkdbw'),\n",
       " ('-1bOb2izeJBZjHC7NWxiPA', 'F6QsMoJdvtohlbnST-fDyQ'),\n",
       " ('-1bOb2izeJBZjHC7NWxiPA', 'GP-h9colXgkT79BW7aDJeg'),\n",
       " ('-1bOb2izeJBZjHC7NWxiPA', 'HWi8ntFMy81BVjAsgAwbrQ'),\n",
       " ('-1bOb2izeJBZjHC7NWxiPA', 'HY9qpAamqLXFoa7xMwNntg'),\n",
       " ('-1bOb2izeJBZjHC7NWxiPA', 'Hi7VohxSS5OBt98w4j8t4A'),\n",
       " ('-1bOb2izeJBZjHC7NWxiPA', 'JkMOQaMjlBHMqp6gj-hL3w'),\n",
       " ('-1bOb2izeJBZjHC7NWxiPA', 'K568ApQJB1-0F4jOncooNw'),\n",
       " ('-1bOb2izeJBZjHC7NWxiPA', 'O6gv84PCivRYWp52Nlr2hg'),\n",
       " ('-1bOb2izeJBZjHC7NWxiPA', 'QBQlErZajdIyXX84dvFUnQ'),\n",
       " ('-1bOb2izeJBZjHC7NWxiPA', 'RtXYLYuI5qReCOSqTGDXOQ'),\n",
       " ('-1bOb2izeJBZjHC7NWxiPA', 'Ry48Bta6spNowOkiMNC_xg'),\n",
       " ('-1bOb2izeJBZjHC7NWxiPA', 'THYIqfnLV54VZ_v2hCfq2Q'),\n",
       " ('-1bOb2izeJBZjHC7NWxiPA', 'XxA5k_iyzf9HdvPMp_J27w'),\n",
       " ('-1bOb2izeJBZjHC7NWxiPA', '_8b_Jg3LPUL7P2WzZp5QXQ'),\n",
       " ('-1bOb2izeJBZjHC7NWxiPA', 'bl69-2c_Amf4SGqoAmANig'),\n",
       " ('-1bOb2izeJBZjHC7NWxiPA', 'bmDivXQy-KB4_dPIS9ZA8w'),\n",
       " ('-1bOb2izeJBZjHC7NWxiPA', 'btfv0CFoDX6vJCPms6-Irg'),\n",
       " ('-1bOb2izeJBZjHC7NWxiPA', 'cg4em4uXe5ab5qH7pB01gg'),\n",
       " ('-1bOb2izeJBZjHC7NWxiPA', 'e-GOQDdx_pPSi_dHJ87oKQ'),\n",
       " ('-1bOb2izeJBZjHC7NWxiPA', 'gGNAr-cmCQUgA9B0QjVqAg'),\n",
       " ('-1bOb2izeJBZjHC7NWxiPA', 'hFtlFksrcLaWHGPNa6SmeA'),\n",
       " ('-1bOb2izeJBZjHC7NWxiPA', 'hQ1rEj-8VY9vFYYNsjXoxQ'),\n",
       " ('-1bOb2izeJBZjHC7NWxiPA', 'ioTuTA_pI-ZgiM4uISDQPg'),\n",
       " ('-1bOb2izeJBZjHC7NWxiPA', 'j472C2lnLtcdyXz4qA0YrA'),\n",
       " ('-1bOb2izeJBZjHC7NWxiPA', 'kffxYQVQsEpF1DVlQlcGCg'),\n",
       " ('-1bOb2izeJBZjHC7NWxiPA', 'kk05snSafuIFK0lsxoMNzA'),\n",
       " ('-1bOb2izeJBZjHC7NWxiPA', 'l53FUDHRHLg7BQ89KgAtxQ'),\n",
       " ('-1bOb2izeJBZjHC7NWxiPA', 'mxwQi0rr25dIvHUaCs7EFQ'),\n",
       " ('-1bOb2izeJBZjHC7NWxiPA', 'oSvQ_t8qNWp_s7s26AOgtw'),\n",
       " ('-1bOb2izeJBZjHC7NWxiPA', 'q9zdZyN95FNX9Q9vJK_jWg'),\n",
       " ('-1bOb2izeJBZjHC7NWxiPA', 'qyy2X0sjuwcikplzdATfGg'),\n",
       " ('-1bOb2izeJBZjHC7NWxiPA', 'ru1AtKcp7Ch80-KkJbQyJg'),\n",
       " ('-1bOb2izeJBZjHC7NWxiPA', 'u-M4jMYKXsj-l1BYdyNpRQ'),\n",
       " ('-1bOb2izeJBZjHC7NWxiPA', 'w4suxL1zlxsihVlugZZDAQ'),\n",
       " ('-1bOb2izeJBZjHC7NWxiPA', 'xkTbpCc-YhU8-EXZDA7u0g'),\n",
       " ('-1bOb2izeJBZjHC7NWxiPA', 'ysBQMZiuZ7VSu_YAh-lE0Q'),\n",
       " ('-1lvWTeV_RI1weq8FTnPRw', '10dhZs996tBtJq2nd_mcRg'),\n",
       " ('-1lvWTeV_RI1weq8FTnPRw', '2UC3rwRm6swuNFt_GhKOhw'),\n",
       " ('-1lvWTeV_RI1weq8FTnPRw', '57tPrvg7i2R3QjsxTiY-Xg'),\n",
       " ('-1lvWTeV_RI1weq8FTnPRw', '5eBYTs1PL2lPy-ng6co5yA'),\n",
       " ('-1lvWTeV_RI1weq8FTnPRw', 'JbWnXwjLaO1kncUkQOMajg'),\n",
       " ('-1lvWTeV_RI1weq8FTnPRw', 'K1oHkXNn1ZRmdnSN5AFsGw'),\n",
       " ('-1lvWTeV_RI1weq8FTnPRw', 'Nhvkukz5MECqEUQVfh6A6w'),\n",
       " ('-1lvWTeV_RI1weq8FTnPRw', 'NkWH_i-Ubu6LE317wG6yfQ'),\n",
       " ('-1lvWTeV_RI1weq8FTnPRw', 'RSExP0-Boucr4QyIEzZi0A'),\n",
       " ('-1lvWTeV_RI1weq8FTnPRw', 'UnGPr6ZnGe9YOSZRopnS5g'),\n",
       " ('-1lvWTeV_RI1weq8FTnPRw', 'b9WOuVFcnHxEGYXWdCeIVA'),\n",
       " ('-1lvWTeV_RI1weq8FTnPRw', 'go2dZIDfrEBqfsGKnA4m7g'),\n",
       " ('-1lvWTeV_RI1weq8FTnPRw', 'hFhHmfwRPkN81NJZkrnRjQ'),\n",
       " ('-1lvWTeV_RI1weq8FTnPRw', 'jfvv8uvdSJYa5NWEAloxpQ'),\n",
       " ('-1lvWTeV_RI1weq8FTnPRw', 'lh4K6-KALpqgJ3mZOUBN4w'),\n",
       " ('-1lvWTeV_RI1weq8FTnPRw', 'nEYPahVwXGD2Pjvgkm7QqQ'),\n",
       " ('-1lvWTeV_RI1weq8FTnPRw', 'y9Q2mHM8av_2fiqvvers-Q'),\n",
       " ('-1lvWTeV_RI1weq8FTnPRw', 'z5Y8aIWjwyaa0110WAZorg'),\n",
       " ('-1tQu_yKCOgOj-WtXmMYIA', '1GctU54Fu5vePOpg-RAI8Q'),\n",
       " ('-1tQu_yKCOgOj-WtXmMYIA', '5XfAUaix9pBTgreBG79I9Q'),\n",
       " ('-1tQu_yKCOgOj-WtXmMYIA', '6xrk6A61OWwOtmQAErZTvA'),\n",
       " ('-1tQu_yKCOgOj-WtXmMYIA', '7x3-B0yaO_hqXm42VKStzw'),\n",
       " ('-1tQu_yKCOgOj-WtXmMYIA', '8l351svY2y1yX5LFm8H3vQ'),\n",
       " ('-1tQu_yKCOgOj-WtXmMYIA', '9sygeXb0FMcUFyjhopN49Q'),\n",
       " ('-1tQu_yKCOgOj-WtXmMYIA', 'Aj29RhdOWiaZ5q3FMj_lAw'),\n",
       " ('-1tQu_yKCOgOj-WtXmMYIA', 'B-mWdlaF3Ct7XtnZVIAGZg'),\n",
       " ('-1tQu_yKCOgOj-WtXmMYIA', 'B5xxPxit_ga3UXiiQ7O-Uw'),\n",
       " ('-1tQu_yKCOgOj-WtXmMYIA', 'CWqDJ99YEXmqrbXNy7NHLQ'),\n",
       " ('-1tQu_yKCOgOj-WtXmMYIA', 'EMmbF8kouGBGD09gyDsMbg'),\n",
       " ('-1tQu_yKCOgOj-WtXmMYIA', 'EgxV8qTrxd4AH_kphKtagA'),\n",
       " ('-1tQu_yKCOgOj-WtXmMYIA', 'G3VAaHJMDOfODFk_xHFWTw'),\n",
       " ('-1tQu_yKCOgOj-WtXmMYIA', 'IGKeaC4zBGGbIZTBOYdUVg'),\n",
       " ('-1tQu_yKCOgOj-WtXmMYIA', 'KoKaA5HoQa_-Z-Sm8YC4ow'),\n",
       " ('-1tQu_yKCOgOj-WtXmMYIA', 'LRn__BXFBmHka4HX2iuikA'),\n",
       " ('-1tQu_yKCOgOj-WtXmMYIA', 'MvteA_wOszf3gffkM_CKDQ'),\n",
       " ('-1tQu_yKCOgOj-WtXmMYIA', 'Mwqg2idMELX87TRGvi6bPQ'),\n",
       " ('-1tQu_yKCOgOj-WtXmMYIA', 'ND6DMIKxM8Q1ShEMZuA5rA'),\n",
       " ('-1tQu_yKCOgOj-WtXmMYIA', 'NgH_HOPkWzMep_u6an0ZLA'),\n",
       " ('-1tQu_yKCOgOj-WtXmMYIA', 'O0M67gJRWwVSGnnsF5aVqA'),\n",
       " ('-1tQu_yKCOgOj-WtXmMYIA', 'OQcQobX4jeyniUUOjQABxg'),\n",
       " ('-1tQu_yKCOgOj-WtXmMYIA', 'P2FD7E392y01VcBVWli6og'),\n",
       " ('-1tQu_yKCOgOj-WtXmMYIA', 'PNNTE3-u1pnfodLbHlF3tw'),\n",
       " ('-1tQu_yKCOgOj-WtXmMYIA', 'PQhnVoe0n6ELH5lfwprHKg'),\n",
       " ('-1tQu_yKCOgOj-WtXmMYIA', 'PRcfYRZGxTPFQgFqpnvp0Q'),\n",
       " ('-1tQu_yKCOgOj-WtXmMYIA', 'PlRa4Mjmo1Qppt2D19_0cw'),\n",
       " ('-1tQu_yKCOgOj-WtXmMYIA', 'QEPAhwPFhRwnsgzJgJPYPA'),\n",
       " ('-1tQu_yKCOgOj-WtXmMYIA', 'QMnKC-8Me2MPysWgQzTkdw'),\n",
       " ('-1tQu_yKCOgOj-WtXmMYIA', 'QhtTrWSAt-KGyEnkSZZb4g'),\n",
       " ('-1tQu_yKCOgOj-WtXmMYIA', 'ST-pgG7BsmULkIyqcah6zA'),\n",
       " ('-1tQu_yKCOgOj-WtXmMYIA', 'UL7WSQULfYNpxaOi_wS9pw'),\n",
       " ('-1tQu_yKCOgOj-WtXmMYIA', 'UMAs1Tzg9tGCuwNnz6K7_Q'),\n",
       " ('-1tQu_yKCOgOj-WtXmMYIA', 'VHxulgyzd1Ftr6Aq3UgfwA'),\n",
       " ('-1tQu_yKCOgOj-WtXmMYIA', 'VKQkwyGzN-GYVMB6kAhPMQ'),\n",
       " ('-1tQu_yKCOgOj-WtXmMYIA', 'Ynu8aZO7mopygHywhUAekg'),\n",
       " ('-1tQu_yKCOgOj-WtXmMYIA', 'ZHAaOdWzZJ_SEjIng4MZBg'),\n",
       " ('-1tQu_yKCOgOj-WtXmMYIA', 'ZTk05PSFDo8csT0YKmwYnQ'),\n",
       " ('-1tQu_yKCOgOj-WtXmMYIA', 'b3wY6lLmqqYUl0AHzdPKgQ'),\n",
       " ('-1tQu_yKCOgOj-WtXmMYIA', 'bKMvjHdaq_4lNPyuXeKzyw'),\n",
       " ('-1tQu_yKCOgOj-WtXmMYIA', 'bf2Y2uOcgwCA3XZDMNW7SA'),\n",
       " ('-1tQu_yKCOgOj-WtXmMYIA', 'ehV2bbIj5w-Y7aOCmsDZ0w'),\n",
       " ('-1tQu_yKCOgOj-WtXmMYIA', 'fzPHZzdGgiEaKT-j42K1yQ'),\n",
       " ('-1tQu_yKCOgOj-WtXmMYIA', 'gqcpNd8NyV4_HU0CpGMuhA'),\n",
       " ('-1tQu_yKCOgOj-WtXmMYIA', 'hRXu6-MJhuhPF5jvYCoVrg'),\n",
       " ('-1tQu_yKCOgOj-WtXmMYIA', 'i12pkZvWH4elKnoeVvRT7A'),\n",
       " ('-1tQu_yKCOgOj-WtXmMYIA', 'ia1nTRAQEaFWv0cwADeK7g'),\n",
       " ('-1tQu_yKCOgOj-WtXmMYIA', 'pohOrw04qI6sIX07ZpuIGQ'),\n",
       " ('-1tQu_yKCOgOj-WtXmMYIA', 'qzb1AwNqJbVly1Cm2ziY6A'),\n",
       " ('-1tQu_yKCOgOj-WtXmMYIA', 'rjd3TA9fTNRRKkZ-BLlarA'),\n",
       " ('-1tQu_yKCOgOj-WtXmMYIA', 'rzHZ3iYVQe_8h2e42DbUsw'),\n",
       " ('-1tQu_yKCOgOj-WtXmMYIA', 'sCt0ThPjS0bidnx9-u3OoA'),\n",
       " ('-1tQu_yKCOgOj-WtXmMYIA', 'uFjo2KVq3BlBRqoo9se-ZQ'),\n",
       " ('-1tQu_yKCOgOj-WtXmMYIA', 'ue7ak2JMORJXyor0MmW3Jw'),\n",
       " ('-1tQu_yKCOgOj-WtXmMYIA', 'w-m8f8bn20iNNKc6k-R7ig'),\n",
       " ('-1tQu_yKCOgOj-WtXmMYIA', 'wbIU917ctOGp8-NdeVxIWw'),\n",
       " ('-1tQu_yKCOgOj-WtXmMYIA', 'x3t9jU7yIwsGbdsrm9Fg-w'),\n",
       " ('-1tQu_yKCOgOj-WtXmMYIA', 'xMigC1uS2tFanbGcG--sYA'),\n",
       " ('-1tQu_yKCOgOj-WtXmMYIA', 'xOL4L2B8XKFUIC_dQOgh1Q'),\n",
       " ('-1tQu_yKCOgOj-WtXmMYIA', 'xsavzkTWCziXDQwXeZt3iA'),\n",
       " ('-2n-OHbbwIv3SY8RP9bgTQ', '-ANkfLbDf8aiBQ7vywIL6w'),\n",
       " ('-2n-OHbbwIv3SY8RP9bgTQ', '-K3ZjROK0ml2P-Rk7ttHzA'),\n",
       " ('-2n-OHbbwIv3SY8RP9bgTQ', '-XfJ0wZcTakfHtjb8alXsw'),\n",
       " ('-2n-OHbbwIv3SY8RP9bgTQ', '-ZBV14rN7PvIBNuTZI7sjQ'),\n",
       " ('-2n-OHbbwIv3SY8RP9bgTQ', '0duVb6iU3QOiFDRpSiOfKA'),\n",
       " ('-2n-OHbbwIv3SY8RP9bgTQ', '0y9qZZLauQ3sPp-G-NcE7Q'),\n",
       " ('-2n-OHbbwIv3SY8RP9bgTQ', '0zVI2BY9q4ry5u5JhIlZyA'),\n",
       " ('-2n-OHbbwIv3SY8RP9bgTQ', '1X4vP8jG-EhpkF73yuJPmQ'),\n",
       " ('-2n-OHbbwIv3SY8RP9bgTQ', '2BVPZZgv-LEBGUdkW325uA'),\n",
       " ('-2n-OHbbwIv3SY8RP9bgTQ', '2EFfBwZSQKgZSsC4eeq03g'),\n",
       " ('-2n-OHbbwIv3SY8RP9bgTQ', '2J0ShTCTUqSULHxIr7wy0A'),\n",
       " ('-2n-OHbbwIv3SY8RP9bgTQ', '2rlBbFPHyZjXSFSE8r551w'),\n",
       " ('-2n-OHbbwIv3SY8RP9bgTQ', '3KCu4c1IOZsUla9pqQc48A'),\n",
       " ('-2n-OHbbwIv3SY8RP9bgTQ', '3auTHeW0hMUHO-_XbmsFTA'),\n",
       " ('-2n-OHbbwIv3SY8RP9bgTQ', '46xrtwjJidLUkqd-XOYg7w'),\n",
       " ('-2n-OHbbwIv3SY8RP9bgTQ', '4I20VXHPK2V3pY8yTYm6sA'),\n",
       " ('-2n-OHbbwIv3SY8RP9bgTQ', '54ruPtv7T-BlWUg6q4OXrw'),\n",
       " ('-2n-OHbbwIv3SY8RP9bgTQ', '57LhN8-B5Gjnso6ogOmM0g'),\n",
       " ('-2n-OHbbwIv3SY8RP9bgTQ', '58PgPEDGX8hLNNVbvCc8cw'),\n",
       " ('-2n-OHbbwIv3SY8RP9bgTQ', '5lq4LkrviYgQ4LJNsBYHcA'),\n",
       " ('-2n-OHbbwIv3SY8RP9bgTQ', '5m6BSB5HJNyJwsdNHAPN4Q'),\n",
       " ('-2n-OHbbwIv3SY8RP9bgTQ', '5uH0xiqIaF_0BSWiglZPJg'),\n",
       " ('-2n-OHbbwIv3SY8RP9bgTQ', '5w2jfKmIopYpWD1bXqVi5A'),\n",
       " ('-2n-OHbbwIv3SY8RP9bgTQ', '6YfNPJx3hiNUM5oA2k1R0Q'),\n",
       " ('-2n-OHbbwIv3SY8RP9bgTQ', '6xrk6A61OWwOtmQAErZTvA'),\n",
       " ('-2n-OHbbwIv3SY8RP9bgTQ', '7e_ZAEu3pJIhOcqikTkOVQ'),\n",
       " ('-2n-OHbbwIv3SY8RP9bgTQ', '7gMsfouCnpNRQ8U-ovBKJw'),\n",
       " ('-2n-OHbbwIv3SY8RP9bgTQ', '7iO7qVaIgPGcQkJNryS-Mg'),\n",
       " ('-2n-OHbbwIv3SY8RP9bgTQ', '7x3-B0yaO_hqXm42VKStzw'),\n",
       " ('-2n-OHbbwIv3SY8RP9bgTQ', '8T0evnkvRaTomru7ghPGeg'),\n",
       " ('-2n-OHbbwIv3SY8RP9bgTQ', '8YEndFDktmgebMCYlnlhGg'),\n",
       " ('-2n-OHbbwIv3SY8RP9bgTQ', '9VLkQJJBieggMLk_3l5FLQ'),\n",
       " ('-2n-OHbbwIv3SY8RP9bgTQ', '9XPgaXr0cq3CGEpY3G3IJQ'),\n",
       " ('-2n-OHbbwIv3SY8RP9bgTQ', 'AMaiA4EVbEQ4tm1FsYPdbg'),\n",
       " ('-2n-OHbbwIv3SY8RP9bgTQ', 'AVsGQ953vbOTq4m9e81_ig'),\n",
       " ('-2n-OHbbwIv3SY8RP9bgTQ', 'AZHup0_NTWo2H_cd3ZKL6Q'),\n",
       " ('-2n-OHbbwIv3SY8RP9bgTQ', 'AgtFQVxo-PGQVsOdY6Nvdg'),\n",
       " ('-2n-OHbbwIv3SY8RP9bgTQ', 'B-mWdlaF3Ct7XtnZVIAGZg'),\n",
       " ('-2n-OHbbwIv3SY8RP9bgTQ', 'BN99keJ3sks1YLHBPY3u7w'),\n",
       " ('-2n-OHbbwIv3SY8RP9bgTQ', 'Bd26eetCpGkFTX--KoOxkQ'),\n",
       " ('-2n-OHbbwIv3SY8RP9bgTQ', 'Bf_3lZAWvB3rclxGRuXpbA'),\n",
       " ('-2n-OHbbwIv3SY8RP9bgTQ', 'C4WMKcNSxiqy95hDzsQAhg'),\n",
       " ('-2n-OHbbwIv3SY8RP9bgTQ', 'CAXlysheDCG0oZwB5ECSAA'),\n",
       " ('-2n-OHbbwIv3SY8RP9bgTQ', 'CBU_h5_-4kVpCPJvfaF_pg'),\n",
       " ('-2n-OHbbwIv3SY8RP9bgTQ', 'CWoA0NAsrsrF9VJ6nUpewg'),\n",
       " ('-2n-OHbbwIv3SY8RP9bgTQ', 'CfXtDbLPFH2CkONh1aDcXg'),\n",
       " ('-2n-OHbbwIv3SY8RP9bgTQ', 'Cw3UMmYeqqx1u4HIWaWw3w'),\n",
       " ('-2n-OHbbwIv3SY8RP9bgTQ', 'DEceDCEAbyMuHzE98MtY3A'),\n",
       " ('-2n-OHbbwIv3SY8RP9bgTQ', 'DInIFTmJWQR-SYL7EcPdbA'),\n",
       " ('-2n-OHbbwIv3SY8RP9bgTQ', 'DqZQKC8CDVCUxerxTt9Daw'),\n",
       " ('-2n-OHbbwIv3SY8RP9bgTQ', 'EAsQ5R656xsM-NJ1pKGNUg'),\n",
       " ('-2n-OHbbwIv3SY8RP9bgTQ', 'EENe59mZsIqNrqpqMHm4dA'),\n",
       " ('-2n-OHbbwIv3SY8RP9bgTQ', 'EKJVvRrFZiBjbkp6OcF4AQ'),\n",
       " ('-2n-OHbbwIv3SY8RP9bgTQ', 'E_KAdo61uMDvIvqFcOX1Gw'),\n",
       " ('-2n-OHbbwIv3SY8RP9bgTQ', 'EhcZKrQJIS226xdm_qJ71w'),\n",
       " ('-2n-OHbbwIv3SY8RP9bgTQ', 'EjhVxYFeMUYimoImjMduzQ'),\n",
       " ('-2n-OHbbwIv3SY8RP9bgTQ', 'FC-GbgPCTKPGYRhsftjOqg'),\n",
       " ('-2n-OHbbwIv3SY8RP9bgTQ', 'FE891sOKvscJDfckmPmAAw'),\n",
       " ('-2n-OHbbwIv3SY8RP9bgTQ', 'FFjHdQL152Dj-z4Az1oRPA'),\n",
       " ('-2n-OHbbwIv3SY8RP9bgTQ', 'FOZR8RABw65IBlcifUNyVQ'),\n",
       " ('-2n-OHbbwIv3SY8RP9bgTQ', 'FaR5dMfPJrNJ2llVu4tM_Q'),\n",
       " ('-2n-OHbbwIv3SY8RP9bgTQ', 'FbdB9KXyuvT8rC_zmqRSuQ'),\n",
       " ('-2n-OHbbwIv3SY8RP9bgTQ', 'G3NuvANiCbBi3qm9OnYc-A'),\n",
       " ('-2n-OHbbwIv3SY8RP9bgTQ', 'Gqwllb04HqnPMZfIxfl8Bw'),\n",
       " ('-2n-OHbbwIv3SY8RP9bgTQ', 'GzCK2q4opam7eeyqlUDywg'),\n",
       " ('-2n-OHbbwIv3SY8RP9bgTQ', 'He2K5rZceWrOf8ShpeX23g'),\n",
       " ('-2n-OHbbwIv3SY8RP9bgTQ', 'HlVqy-Mv0FnhMbHz1W57yA'),\n",
       " ('-2n-OHbbwIv3SY8RP9bgTQ', 'HmOlCg682hbhu6_0Dc6z7g'),\n",
       " ('-2n-OHbbwIv3SY8RP9bgTQ', 'HnbRoBXIDHONocrG61IqxA'),\n",
       " ('-2n-OHbbwIv3SY8RP9bgTQ', 'HvfgiWOSk7p3BaEsjkOMQw'),\n",
       " ('-2n-OHbbwIv3SY8RP9bgTQ', 'Hw41XohE7-9g2ICWm77eXw'),\n",
       " ('-2n-OHbbwIv3SY8RP9bgTQ', 'IF1oemfjhwzXXWSaWDC15w'),\n",
       " ('-2n-OHbbwIv3SY8RP9bgTQ', 'IJJ1nCtBQVujChSKlg_QhA'),\n",
       " ('-2n-OHbbwIv3SY8RP9bgTQ', 'J3SnO1QkK6D37q18lVh02A'),\n",
       " ('-2n-OHbbwIv3SY8RP9bgTQ', 'JLl4qyEs8lCWxtLzGwuLkQ'),\n",
       " ('-2n-OHbbwIv3SY8RP9bgTQ', 'KOGgZ66tSU_j_Ivt2znGDA'),\n",
       " ('-2n-OHbbwIv3SY8RP9bgTQ', 'KOI1cDE5lZsv-kCOYLlzLA'),\n",
       " ('-2n-OHbbwIv3SY8RP9bgTQ', 'KRI1kCT7SY6XMX9fBALQYA'),\n",
       " ('-2n-OHbbwIv3SY8RP9bgTQ', 'Kq199LP7rle0SZBYQZmhhw'),\n",
       " ('-2n-OHbbwIv3SY8RP9bgTQ', 'L1pW7368hbsoGT7oMnz9JA'),\n",
       " ('-2n-OHbbwIv3SY8RP9bgTQ', 'Lak_dFs8cEFJkS5aC9owGw'),\n",
       " ('-2n-OHbbwIv3SY8RP9bgTQ', 'LkY1nuEqnUMHiMn9auDd5A'),\n",
       " ('-2n-OHbbwIv3SY8RP9bgTQ', 'LnRG0MlAdOs7cnLKbRv4BA'),\n",
       " ('-2n-OHbbwIv3SY8RP9bgTQ', 'Ly72PZoHkGZUVWgLH8W2-A'),\n",
       " ('-2n-OHbbwIv3SY8RP9bgTQ', 'M5654oz7KI1dRdI6og6flA'),\n",
       " ('-2n-OHbbwIv3SY8RP9bgTQ', 'MuF1JfULuUwed_QqYjQazg'),\n",
       " ('-2n-OHbbwIv3SY8RP9bgTQ', 'N4YJSuyAsloDpqwxYfMrHA'),\n",
       " ('-2n-OHbbwIv3SY8RP9bgTQ', 'NijrDmccBqD1th8iWIFSsg'),\n",
       " ('-2n-OHbbwIv3SY8RP9bgTQ', 'Njphjhi6V2nCnR1RxhkG2Q'),\n",
       " ('-2n-OHbbwIv3SY8RP9bgTQ', 'Nky3oNpprLdskqK3ivCkGQ'),\n",
       " ('-2n-OHbbwIv3SY8RP9bgTQ', 'Nz8zk34zJkeP6uSoEfqVpg'),\n",
       " ('-2n-OHbbwIv3SY8RP9bgTQ', 'OHnUVMcHQHF8rLSAoGxcjg'),\n",
       " ('-2n-OHbbwIv3SY8RP9bgTQ', 'Oa2GOM0oMhVxbfh-53N88w'),\n",
       " ('-2n-OHbbwIv3SY8RP9bgTQ', 'Osxzw4UoVahfJXzsSNi5xA'),\n",
       " ('-2n-OHbbwIv3SY8RP9bgTQ', 'Ot6PMbyWmzYMYS8miApFAA'),\n",
       " ('-2n-OHbbwIv3SY8RP9bgTQ', 'P79_ZHeXWQgbNRG54rw1EQ'),\n",
       " ('-2n-OHbbwIv3SY8RP9bgTQ', 'PRcfYRZGxTPFQgFqpnvp0Q'),\n",
       " ('-2n-OHbbwIv3SY8RP9bgTQ', 'PTY5DM38QqeqbKSyfb9lww'),\n",
       " ('-2n-OHbbwIv3SY8RP9bgTQ', 'PV5voYSD43Cn_3gHmxG7DA'),\n",
       " ('-2n-OHbbwIv3SY8RP9bgTQ', 'Qw_d8QV6_B6Ztre-X8L8cA'),\n",
       " ('-2n-OHbbwIv3SY8RP9bgTQ', 'Qx9MnE4R-g70HyF468O8dA'),\n",
       " ('-2n-OHbbwIv3SY8RP9bgTQ', 'QxbCdWRE7gOuo0p1NFKolg'),\n",
       " ('-2n-OHbbwIv3SY8RP9bgTQ', 'RT6sRtEXqk1_NHaQyo3n-Q'),\n",
       " ('-2n-OHbbwIv3SY8RP9bgTQ', 'RdMfsYb8dTZQYoxU-3OIFg'),\n",
       " ('-2n-OHbbwIv3SY8RP9bgTQ', 'SlmDWYRp56UWknWw9Pz4pw'),\n",
       " ('-2n-OHbbwIv3SY8RP9bgTQ', 'TNMIYXoC6eancS2TcvhWEw'),\n",
       " ('-2n-OHbbwIv3SY8RP9bgTQ', 'Tkbhkxi6uikVv7YzlzPgRA'),\n",
       " ('-2n-OHbbwIv3SY8RP9bgTQ', 'UHPHGCYBMLIvKr7d-8Opww'),\n",
       " ('-2n-OHbbwIv3SY8RP9bgTQ', 'UPtysDF6cUDUxq2KY-6Dcg'),\n",
       " ('-2n-OHbbwIv3SY8RP9bgTQ', 'VH16pzDUZ763trRZirqT5w'),\n",
       " ('-2n-OHbbwIv3SY8RP9bgTQ', 'VJjlRu2Hg2VgaN1P2GVdbA'),\n",
       " ('-2n-OHbbwIv3SY8RP9bgTQ', 'W-hPWK-F7OzfM-rXMMBpsw'),\n",
       " ('-2n-OHbbwIv3SY8RP9bgTQ', 'WYSgraaT4xrzigSmwDCsRg'),\n",
       " ('-2n-OHbbwIv3SY8RP9bgTQ', 'WmAyExqSWoiYZ5XEqpk_Uw'),\n",
       " ('-2n-OHbbwIv3SY8RP9bgTQ', 'WmL9RRDjTO7oru2ywyVEEQ'),\n",
       " ('-2n-OHbbwIv3SY8RP9bgTQ', 'XTE0t9SQ0K-5ahqVp_wiYg'),\n",
       " ('-2n-OHbbwIv3SY8RP9bgTQ', 'XhcM4_Tzxr05wjbYCrBhPw'),\n",
       " ('-2n-OHbbwIv3SY8RP9bgTQ', 'YPVy6s2pQVtWSjR6BimtJg'),\n",
       " ('-2n-OHbbwIv3SY8RP9bgTQ', 'YbL9gA8iE3AxtOrey_XukQ'),\n",
       " ('-2n-OHbbwIv3SY8RP9bgTQ', 'YyPncV7fwWflne10BiCf6Q'),\n",
       " ('-2n-OHbbwIv3SY8RP9bgTQ', 'ZHZecnm385z0q6-dx0RSzA'),\n",
       " ('-2n-OHbbwIv3SY8RP9bgTQ', 'ZY1qKEWM8mUYTpyQYXfxKg'),\n",
       " ('-2n-OHbbwIv3SY8RP9bgTQ', 'Zc4egf4Q_bN8-EUarnWRFg'),\n",
       " ('-2n-OHbbwIv3SY8RP9bgTQ', 'ZtFf2ervN53wKa-NoccTpA'),\n",
       " ('-2n-OHbbwIv3SY8RP9bgTQ', 'Zuqri2nyntU1bzfDaFU_fw'),\n",
       " ('-2n-OHbbwIv3SY8RP9bgTQ', 'ZvvxtxeTad9t3ZoxdNYe_g'),\n",
       " ('-2n-OHbbwIv3SY8RP9bgTQ', '_C2IH3mQPZWrBdra_Zrq0Q'),\n",
       " ('-2n-OHbbwIv3SY8RP9bgTQ', '_QX4t-scgBgG2wJ3V8Y-2A'),\n",
       " ('-2n-OHbbwIv3SY8RP9bgTQ', 'aprrNxu7TgDtSEKNtgygtg'),\n",
       " ('-2n-OHbbwIv3SY8RP9bgTQ', 'aqzDiZ9SDKLi6J6mmEF82g'),\n",
       " ('-2n-OHbbwIv3SY8RP9bgTQ', 'b4uFPtRcwAuFQhc2EopePw'),\n",
       " ('-2n-OHbbwIv3SY8RP9bgTQ', 'bEOf20giEPtmtiYRTp10Jw'),\n",
       " ('-2n-OHbbwIv3SY8RP9bgTQ', 'bNrr3RJGMO_gOrKpDudP9Q'),\n",
       " ('-2n-OHbbwIv3SY8RP9bgTQ', 'bf2Y2uOcgwCA3XZDMNW7SA'),\n",
       " ('-2n-OHbbwIv3SY8RP9bgTQ', 'biifI-JRFI-2IfAA9TdZ-w'),\n",
       " ('-2n-OHbbwIv3SY8RP9bgTQ', 'cH-RV8qS7M5Kg0cENqiU-Q'),\n",
       " ('-2n-OHbbwIv3SY8RP9bgTQ', 'dEFBM__-WLwfojHPhwa5VA'),\n",
       " ('-2n-OHbbwIv3SY8RP9bgTQ', 'dqpp_QWTVMpUBtFRdpZ7gw'),\n",
       " ('-2n-OHbbwIv3SY8RP9bgTQ', 'dwhyaxMHSdwAGsANdNrxnQ'),\n",
       " ('-2n-OHbbwIv3SY8RP9bgTQ', 'eD9VAnbyW3a1Vg3bfLoX9w'),\n",
       " ('-2n-OHbbwIv3SY8RP9bgTQ', 'eK0tzr8Oh0LhpG22v_Fj_g'),\n",
       " ('-2n-OHbbwIv3SY8RP9bgTQ', 'ePyH2VOpnJhMMSDvv46Ujw'),\n",
       " ('-2n-OHbbwIv3SY8RP9bgTQ', 'f5vgLcoKpFcTvD4lOUxcTQ'),\n",
       " ('-2n-OHbbwIv3SY8RP9bgTQ', 'ff1T6JPPfz3kwujmJ4Jw7Q'),\n",
       " ('-2n-OHbbwIv3SY8RP9bgTQ', 'fgYkHiNSY_uyMRoU633aeA'),\n",
       " ('-2n-OHbbwIv3SY8RP9bgTQ', 'fm5-O3_otnzaAFHYH4pYRw'),\n",
       " ('-2n-OHbbwIv3SY8RP9bgTQ', 'fuxwfk8b4-p1oVPVx9v3rQ'),\n",
       " ('-2n-OHbbwIv3SY8RP9bgTQ', 'fwsJGulnozT2U6FefsLiFw'),\n",
       " ('-2n-OHbbwIv3SY8RP9bgTQ', 'gWGyXWZ8cCLknf74VNDi-g'),\n",
       " ('-2n-OHbbwIv3SY8RP9bgTQ', 'gXvP7LWHZJhoP7njsJ97dw'),\n",
       " ('-2n-OHbbwIv3SY8RP9bgTQ', 'ghxfRXPGpvQtFZGYoSGbcw'),\n",
       " ('-2n-OHbbwIv3SY8RP9bgTQ', 'gl2G7T_-B3kLJOcmoRZNeA'),\n",
       " ('-2n-OHbbwIv3SY8RP9bgTQ', 'hTSY6GKey36WxoWKDR_r0A'),\n",
       " ('-2n-OHbbwIv3SY8RP9bgTQ', 'hY4gS8WfSUgBySKnoDUdrA'),\n",
       " ('-2n-OHbbwIv3SY8RP9bgTQ', 'i8KMQX7nekLSCzb_DVb6yA'),\n",
       " ('-2n-OHbbwIv3SY8RP9bgTQ', 'iGomG4ZgDIkpcL5uvXIj4g'),\n",
       " ('-2n-OHbbwIv3SY8RP9bgTQ', 'iLybO2Ah12R4ejowFCOfLw'),\n",
       " ('-2n-OHbbwIv3SY8RP9bgTQ', 'ijVrgg3-AIkcR7LHUTtt_w'),\n",
       " ('-2n-OHbbwIv3SY8RP9bgTQ', 'jB-jmupliZ40B6a9-h1TGQ'),\n",
       " ('-2n-OHbbwIv3SY8RP9bgTQ', 'jLadSL623Ca5iDcIHK676Q'),\n",
       " ('-2n-OHbbwIv3SY8RP9bgTQ', 'jMhh2HOWeFGBe57mDXCaQA'),\n",
       " ('-2n-OHbbwIv3SY8RP9bgTQ', 'jlbPUcCRiXlMtarzi9sW5w'),\n",
       " ('-2n-OHbbwIv3SY8RP9bgTQ', 'jlgEAcUtJjMNA-RQseM0Rw'),\n",
       " ('-2n-OHbbwIv3SY8RP9bgTQ', 'jqiDWycSAWIhSHIfN_PjAw'),\n",
       " ('-2n-OHbbwIv3SY8RP9bgTQ', 'jv-ICiy4CzYM84_5DXWIpA'),\n",
       " ('-2n-OHbbwIv3SY8RP9bgTQ', 'k5p3YP1ZjCa8ZS3xqXgBug'),\n",
       " ('-2n-OHbbwIv3SY8RP9bgTQ', 'lrQfSNnNMw3C90WowGVUnQ'),\n",
       " ('-2n-OHbbwIv3SY8RP9bgTQ', 'muvcUzT4CyXD5MKxGN8SSA'),\n",
       " ('-2n-OHbbwIv3SY8RP9bgTQ', 'n-bUaPHAfi5wge36axLP0Q'),\n",
       " ('-2n-OHbbwIv3SY8RP9bgTQ', 'nRUke0vqaTzdzY-vIk-m9Q'),\n",
       " ('-2n-OHbbwIv3SY8RP9bgTQ', 'nYKao-8w_IOj4Mv8QWb2vg'),\n",
       " ('-2n-OHbbwIv3SY8RP9bgTQ', 'ngUiYmG59Vbhgjx2RH4mww'),\n",
       " ('-2n-OHbbwIv3SY8RP9bgTQ', 'nvtGOilRudNHkusp8Y546w'),\n",
       " ('-2n-OHbbwIv3SY8RP9bgTQ', 'oBmLhOsrubS-SnHc-B7MHA'),\n",
       " ('-2n-OHbbwIv3SY8RP9bgTQ', 'oMnzDh86ilR6i_d2cQxHcQ'),\n",
       " ('-2n-OHbbwIv3SY8RP9bgTQ', 'oOayyTrVO-PbVeXXsh_JEQ'),\n",
       " ('-2n-OHbbwIv3SY8RP9bgTQ', 'oRA5ppvW0wMnMeCWpDYo7A'),\n",
       " ('-2n-OHbbwIv3SY8RP9bgTQ', 'orxwdyuvc5jxZBypYpWVDg'),\n",
       " ('-2n-OHbbwIv3SY8RP9bgTQ', 'p03i60W0IHPRCKCBcW1Jtw'),\n",
       " ('-2n-OHbbwIv3SY8RP9bgTQ', 'pVxaBEaPyDvS_WxO6jJFpg'),\n",
       " ('-2n-OHbbwIv3SY8RP9bgTQ', 'pfrGhASSk9MW1KogIZMqrQ'),\n",
       " ('-2n-OHbbwIv3SY8RP9bgTQ', 'q4KBfYFqCj4G3OBMXdYsfw'),\n",
       " ('-2n-OHbbwIv3SY8RP9bgTQ', 'qLoI0lFbGJCOBGyvbPR2gw'),\n",
       " ('-2n-OHbbwIv3SY8RP9bgTQ', 'qXzyeA8mgR3EfXaza7lcNQ'),\n",
       " ('-2n-OHbbwIv3SY8RP9bgTQ', 'qqtmFGhyyHc37coT4qJxaw'),\n",
       " ('-2n-OHbbwIv3SY8RP9bgTQ', 'qyy2X0sjuwcikplzdATfGg'),\n",
       " ('-2n-OHbbwIv3SY8RP9bgTQ', 'rXXbSOG1yx9s-c-YpJz4YQ'),\n",
       " ('-2n-OHbbwIv3SY8RP9bgTQ', 'ricpeJygoFTJCz-P7ZXD7Q'),\n",
       " ('-2n-OHbbwIv3SY8RP9bgTQ', 'rzHZ3iYVQe_8h2e42DbUsw'),\n",
       " ('-2n-OHbbwIv3SY8RP9bgTQ', 'sN5sIPTkSF6N0gw1CQeTVw'),\n",
       " ('-2n-OHbbwIv3SY8RP9bgTQ', 'sPq8eg0xuivUzBpJMu5ICw'),\n",
       " ('-2n-OHbbwIv3SY8RP9bgTQ', 'segRxemFobkHWDBIkMb4Qg'),\n",
       " ('-2n-OHbbwIv3SY8RP9bgTQ', 'tGMgfgBXibTtE_SFtelKNw'),\n",
       " ('-2n-OHbbwIv3SY8RP9bgTQ', 'uPcR2D5dyvLlgvdEMgitUg'),\n",
       " ('-2n-OHbbwIv3SY8RP9bgTQ', 'ucKJFC8_cVK0NbW5uk4xTQ'),\n",
       " ('-2n-OHbbwIv3SY8RP9bgTQ', 'urQxpxxdIqZtlMzPYpK5cw'),\n",
       " ('-2n-OHbbwIv3SY8RP9bgTQ', 'vpfVuYOBech1P220ho1KFA'),\n",
       " ('-2n-OHbbwIv3SY8RP9bgTQ', 'vsR6VM-x-phiOsjU6QQEuA'),\n",
       " ('-2n-OHbbwIv3SY8RP9bgTQ', 'wOWztTvjFaLiw-1cfa7cnw'),\n",
       " ('-2n-OHbbwIv3SY8RP9bgTQ', 'wY05e7eTtMLvkg0bcZ6zwA'),\n",
       " ('-2n-OHbbwIv3SY8RP9bgTQ', 'wf-kXtB1zpzz5VBiMSqDxQ'),\n",
       " ('-2n-OHbbwIv3SY8RP9bgTQ', 'xV1hf20ZFDSoaMZmwLoHNg'),\n",
       " ('-2n-OHbbwIv3SY8RP9bgTQ', 'xj6NkHKs40GSnhRrWOuzUQ'),\n",
       " ('-2n-OHbbwIv3SY8RP9bgTQ', 'xoJmsnZLd2ysI5w4A85r5Q'),\n",
       " ('-2n-OHbbwIv3SY8RP9bgTQ', 'ymG1JEiSZKPOwo5GeBPEFQ'),\n",
       " ('-2n-OHbbwIv3SY8RP9bgTQ', 'zw8b_u1zuAYO2JgALq5UGw'),\n",
       " ('-36CwMJZJigqPMYrx9BJzw', '2og8bPmCjlj5RreNzRGL9A'),\n",
       " ('-36CwMJZJigqPMYrx9BJzw', '3MbuK8sBX0GNFd4WKeVHCg'),\n",
       " ('-36CwMJZJigqPMYrx9BJzw', '3ddgt3q1NYDgD-83G3-kew'),\n",
       " ('-36CwMJZJigqPMYrx9BJzw', '42g4FeE8w1scpowvVb809Q'),\n",
       " ('-36CwMJZJigqPMYrx9BJzw', '5hBsVMJOc8sXMPt8S3NjmA'),\n",
       " ('-36CwMJZJigqPMYrx9BJzw', '5mHPtvzOpfT_FUp6F-AJKw'),\n",
       " ('-36CwMJZJigqPMYrx9BJzw', '7h7IlYzn2j2b7AH-801EtQ'),\n",
       " ('-36CwMJZJigqPMYrx9BJzw', 'A5v672a60tAPAwYjYNngKw'),\n",
       " ('-36CwMJZJigqPMYrx9BJzw', 'AMaiA4EVbEQ4tm1FsYPdbg'),\n",
       " ('-36CwMJZJigqPMYrx9BJzw', 'F8pTi7KgaL-tjXOYEXQcMQ'),\n",
       " ('-36CwMJZJigqPMYrx9BJzw', 'FKOcIu_mK2rqLyWm5MqCkQ'),\n",
       " ('-36CwMJZJigqPMYrx9BJzw', 'FMKpRPcko3VHWj1YuHOuAQ'),\n",
       " ('-36CwMJZJigqPMYrx9BJzw', 'Gmgh8dF9wzybtfwCtnaGoA'),\n",
       " ('-36CwMJZJigqPMYrx9BJzw', 'J0SEk_wHYZkqJLRlVcvRnQ'),\n",
       " ('-36CwMJZJigqPMYrx9BJzw', 'Kq199LP7rle0SZBYQZmhhw'),\n",
       " ('-36CwMJZJigqPMYrx9BJzw', 'NQ1FQJvmmpdt2Amll84gMA'),\n",
       " ('-36CwMJZJigqPMYrx9BJzw', 'OsE7rfPZqpfjJZJeiANQUQ'),\n",
       " ('-36CwMJZJigqPMYrx9BJzw', 'PJeiXjIWuODjiUKeIsvEwg'),\n",
       " ('-36CwMJZJigqPMYrx9BJzw', 'Pbtl5zDW5r8DfvduiEl7Jw'),\n",
       " ('-36CwMJZJigqPMYrx9BJzw', 'PlRa4Mjmo1Qppt2D19_0cw'),\n",
       " ('-36CwMJZJigqPMYrx9BJzw', 'Ps1Db9zOatoF_76FZNO5CQ'),\n",
       " ('-36CwMJZJigqPMYrx9BJzw', 'Rpgyk5ljNeQ2kWhaYRVELQ'),\n",
       " ('-36CwMJZJigqPMYrx9BJzw', 'TOmZtoICPC554B0TFNczyw'),\n",
       " ('-36CwMJZJigqPMYrx9BJzw', 'UDOe7JEQDTNMMaMO4X8zYQ'),\n",
       " ('-36CwMJZJigqPMYrx9BJzw', 'VUF3nyOc-yKdnWxOHM0RuA'),\n",
       " ('-36CwMJZJigqPMYrx9BJzw', 'VVfrXmdlKwcYAPduosC0Ig'),\n",
       " ('-36CwMJZJigqPMYrx9BJzw', 'VvrOVlFzCbkOVX4PsF3BOw'),\n",
       " ('-36CwMJZJigqPMYrx9BJzw', 'WcoAg3PrPUshNa0EBScPJA'),\n",
       " ('-36CwMJZJigqPMYrx9BJzw', 'WnsPLkIKlGvp4h7OdTEskg'),\n",
       " ('-36CwMJZJigqPMYrx9BJzw', 'YAkSGD9vjQiGZ7QPGBp-Yw'),\n",
       " ('-36CwMJZJigqPMYrx9BJzw', 'Zuqri2nyntU1bzfDaFU_fw'),\n",
       " ('-36CwMJZJigqPMYrx9BJzw', 'bMpF5OPrf916Y0Gu13VIMg'),\n",
       " ('-36CwMJZJigqPMYrx9BJzw', 'bvxME2B6t2AdSLdZSLaAbw'),\n",
       " ('-36CwMJZJigqPMYrx9BJzw', 'cvqEWBbHpRIkjqalvWANWw'),\n",
       " ('-36CwMJZJigqPMYrx9BJzw', 'dBxiDix_jf7Fh1QSY2uwEQ'),\n",
       " ('-36CwMJZJigqPMYrx9BJzw', 'hwCzBS6H66yCcMoIX4HXTg'),\n",
       " ('-36CwMJZJigqPMYrx9BJzw', 'i8KMQX7nekLSCzb_DVb6yA'),\n",
       " ('-36CwMJZJigqPMYrx9BJzw', 'iHbJlgmSTdZro6j8od1Phw'),\n",
       " ('-36CwMJZJigqPMYrx9BJzw', 'j_R81tns71fV58H65wShkg'),\n",
       " ('-36CwMJZJigqPMYrx9BJzw', 'k_5vdNtNqoxbI4hwd4syoA'),\n",
       " ('-36CwMJZJigqPMYrx9BJzw', 'ndTSxAa_Guy7Oz_tg3VmQA'),\n",
       " ('-36CwMJZJigqPMYrx9BJzw', 'riz4ifpVnanXlvsHK5IrKg'),\n",
       " ('-36CwMJZJigqPMYrx9BJzw', 'sLxyYIYCorS-pTtUU4VLuw'),\n",
       " ('-36CwMJZJigqPMYrx9BJzw', 'wlyLr1GzvQFS-UW0_XknWg'),\n",
       " ('-36CwMJZJigqPMYrx9BJzw', 'xATZSxO5r4fWHQhyvostrg'),\n",
       " ('-36CwMJZJigqPMYrx9BJzw', 'zIWHwd2lpPVegydJtauKxg'),\n",
       " ('-3WVw1TNQbPBzaKCaQQ1AQ', '-QT_e-7VSun5c2z85k_k5A'),\n",
       " ('-3WVw1TNQbPBzaKCaQQ1AQ', '-weRL-FCmlR07rjcJguwew'),\n",
       " ('-3WVw1TNQbPBzaKCaQQ1AQ', '02mA_muC-5A_Oe_tv8tg0g'),\n",
       " ('-3WVw1TNQbPBzaKCaQQ1AQ', '08_x9Um9czH-fYCUNZfSEQ'),\n",
       " ('-3WVw1TNQbPBzaKCaQQ1AQ', '0oRtnPHtvZIE1UNxCDDTPw'),\n",
       " ('-3WVw1TNQbPBzaKCaQQ1AQ', '0qIsBt4EzBDCKrIviV55Ew'),\n",
       " ('-3WVw1TNQbPBzaKCaQQ1AQ', '100Df1wcVrl9rJgB7EG6xw'),\n",
       " ('-3WVw1TNQbPBzaKCaQQ1AQ', '12Hx_yFzAIdNSHU5tzbbQQ'),\n",
       " ('-3WVw1TNQbPBzaKCaQQ1AQ', '1g8Crb6WGQUsA2l2X3yVGA'),\n",
       " ('-3WVw1TNQbPBzaKCaQQ1AQ', '1uhipArheEVbwWyoAbKAGg'),\n",
       " ('-3WVw1TNQbPBzaKCaQQ1AQ', '2AbBZM7n9EMwa0nK1yl0CA'),\n",
       " ('-3WVw1TNQbPBzaKCaQQ1AQ', '2BzcoI6Kiq-2RQ9EUFR5Tw'),\n",
       " ('-3WVw1TNQbPBzaKCaQQ1AQ', '2LCrT_BOJvGV4xi_lmoRcA'),\n",
       " ('-3WVw1TNQbPBzaKCaQQ1AQ', '2uz3B-11DieFlELzqUCAlw'),\n",
       " ('-3WVw1TNQbPBzaKCaQQ1AQ', '2zRxVpcvfoVBUVJVEsuj8Q'),\n",
       " ('-3WVw1TNQbPBzaKCaQQ1AQ', '3gIfcQq5KxAegwCPXc83cQ'),\n",
       " ('-3WVw1TNQbPBzaKCaQQ1AQ', '43NCZMFc_guSFBbo9g_0rw'),\n",
       " ('-3WVw1TNQbPBzaKCaQQ1AQ', '4EdjIhe1Q0OkC76hP2e3Ow'),\n",
       " ('-3WVw1TNQbPBzaKCaQQ1AQ', '4UUIpbOTPmu43wuC2aSGkg'),\n",
       " ('-3WVw1TNQbPBzaKCaQQ1AQ', '4lkTIhTuMhLprQprGlTRlA'),\n",
       " ('-3WVw1TNQbPBzaKCaQQ1AQ', '6e7pZofhDuIlD_rX2oYirQ'),\n",
       " ('-3WVw1TNQbPBzaKCaQQ1AQ', '7-ly4LI9XWLXkFiM2vHxrw'),\n",
       " ('-3WVw1TNQbPBzaKCaQQ1AQ', '7F-DVLnGmC5hHPUVfSfxDw'),\n",
       " ('-3WVw1TNQbPBzaKCaQQ1AQ', '7cR92zkDv4W3kqzii6axvg'),\n",
       " ('-3WVw1TNQbPBzaKCaQQ1AQ', '7zDqr2I0-xpw9HF5Ha54cA'),\n",
       " ('-3WVw1TNQbPBzaKCaQQ1AQ', '8j3sObCxxUA7iHzhxXj_KQ'),\n",
       " ('-3WVw1TNQbPBzaKCaQQ1AQ', '8p8HZNmrkUBtMx_vmW9dNQ'),\n",
       " ('-3WVw1TNQbPBzaKCaQQ1AQ', '9bP3urjM__IP5csFh9ZsuQ'),\n",
       " ('-3WVw1TNQbPBzaKCaQQ1AQ', '9ebaAGLVIgGKpDLFwmvaiQ'),\n",
       " ('-3WVw1TNQbPBzaKCaQQ1AQ', 'AZuecYaQ7aVpt3mXxmCcSw'),\n",
       " ('-3WVw1TNQbPBzaKCaQQ1AQ', 'AcErO3j0GFTXbdJHbuD2-Q'),\n",
       " ('-3WVw1TNQbPBzaKCaQQ1AQ', 'Aggpf1EWooD85fhOhoRxPg'),\n",
       " ('-3WVw1TNQbPBzaKCaQQ1AQ', 'AnH84g9V10x41CXmCvcaFg'),\n",
       " ('-3WVw1TNQbPBzaKCaQQ1AQ', 'Ayx_wLGPjTVPIYoFerF82Q'),\n",
       " ('-3WVw1TNQbPBzaKCaQQ1AQ', 'C8ZTiwa7qWoPSMIivTeSfw'),\n",
       " ('-3WVw1TNQbPBzaKCaQQ1AQ', 'D30Zx1lFfgOPsFJDA5WgTA'),\n",
       " ('-3WVw1TNQbPBzaKCaQQ1AQ', 'DJIwm4UCnM-SOxXbARjPsQ'),\n",
       " ('-3WVw1TNQbPBzaKCaQQ1AQ', 'DP-ZeMS81oTQBPHeKkhw1A'),\n",
       " ('-3WVw1TNQbPBzaKCaQQ1AQ', 'DghMl81bONCh5ELnrgn4Fw'),\n",
       " ('-3WVw1TNQbPBzaKCaQQ1AQ', 'EaPbAu2q7Om6cXF9bqUG5Q'),\n",
       " ('-3WVw1TNQbPBzaKCaQQ1AQ', 'EacK6XwZjsTD6QYSIRlJ7Q'),\n",
       " ('-3WVw1TNQbPBzaKCaQQ1AQ', 'F3MuccVKGKuWM34d1epDLg'),\n",
       " ('-3WVw1TNQbPBzaKCaQQ1AQ', 'GP-h9colXgkT79BW7aDJeg'),\n",
       " ('-3WVw1TNQbPBzaKCaQQ1AQ', 'GeGDZ02UfARKBRl7LqKZuA'),\n",
       " ('-3WVw1TNQbPBzaKCaQQ1AQ', 'GrSixRnGIxNUJ1Cn5DNX9A'),\n",
       " ('-3WVw1TNQbPBzaKCaQQ1AQ', 'GubdNFoDAsiwE6bWIr97cQ'),\n",
       " ('-3WVw1TNQbPBzaKCaQQ1AQ', 'HuGmiFh9v-YxY9FUGx2xHg'),\n",
       " ('-3WVw1TNQbPBzaKCaQQ1AQ', 'IjafRfMSAQpInLlw-Vi0Cg'),\n",
       " ('-3WVw1TNQbPBzaKCaQQ1AQ', 'JWEVvmf4DMaZbLZNk_1dMA'),\n",
       " ('-3WVw1TNQbPBzaKCaQQ1AQ', 'KBpoIbLAQcEfMbmPIWFpiA'),\n",
       " ('-3WVw1TNQbPBzaKCaQQ1AQ', 'KI4sBf9jWLs4aGm_mIsFQA'),\n",
       " ('-3WVw1TNQbPBzaKCaQQ1AQ', 'KvWny9qUZJKrqo_LYesgSg'),\n",
       " ('-3WVw1TNQbPBzaKCaQQ1AQ', 'Lr6hbHj23X3q6m35mjMWOQ'),\n",
       " ('-3WVw1TNQbPBzaKCaQQ1AQ', 'M6oU3OBf_E6gqlfkLGlStQ'),\n",
       " ('-3WVw1TNQbPBzaKCaQQ1AQ', 'MLaaZKZiNkLqeBOH5y98GA'),\n",
       " ('-3WVw1TNQbPBzaKCaQQ1AQ', 'N7lSh49zQ13sG3Jpa9E6cw'),\n",
       " ('-3WVw1TNQbPBzaKCaQQ1AQ', 'NopyXj4o5FfGsioMNvCMqw'),\n",
       " ('-3WVw1TNQbPBzaKCaQQ1AQ', 'ODhV53XhesCBLJVfGsJGNA'),\n",
       " ('-3WVw1TNQbPBzaKCaQQ1AQ', 'PKuaSU63uQHAmZeQRS_gWg'),\n",
       " ('-3WVw1TNQbPBzaKCaQQ1AQ', 'QT-7jpsEuCR-pFro59KBtQ'),\n",
       " ('-3WVw1TNQbPBzaKCaQQ1AQ', 'QrOSr8bzAjpIgyNftDLUBg'),\n",
       " ('-3WVw1TNQbPBzaKCaQQ1AQ', 'Qvr5glP5aUctOvUbBWVKVA'),\n",
       " ('-3WVw1TNQbPBzaKCaQQ1AQ', 'RAWy3YCE-jwfyuGvwzUaqQ'),\n",
       " ('-3WVw1TNQbPBzaKCaQQ1AQ', 'RxfFQxUtSIGYwTKU_rvAeg'),\n",
       " ('-3WVw1TNQbPBzaKCaQQ1AQ', 'RyX1dtn2eACiehBSj7rxEw'),\n",
       " ('-3WVw1TNQbPBzaKCaQQ1AQ', 'RyzzI97Vq4IelbSp5wwGtg'),\n",
       " ('-3WVw1TNQbPBzaKCaQQ1AQ', 'S3bvMOL50vgS_8-TtlGi4w'),\n",
       " ('-3WVw1TNQbPBzaKCaQQ1AQ', 'THYIqfnLV54VZ_v2hCfq2Q'),\n",
       " ('-3WVw1TNQbPBzaKCaQQ1AQ', 'UoBfwbXaixelZBghbJ2cSg'),\n",
       " ('-3WVw1TNQbPBzaKCaQQ1AQ', 'VBEbhE0ISjg6xowGNiGmgQ'),\n",
       " ('-3WVw1TNQbPBzaKCaQQ1AQ', 'WJkmgkrSPMHTfDTD3VgqqA'),\n",
       " ('-3WVw1TNQbPBzaKCaQQ1AQ', 'W_QXYA7A0IhMrvbckz7eVg'),\n",
       " ('-3WVw1TNQbPBzaKCaQQ1AQ', 'W_R-gVF8OHNrIhtmyhDnyg'),\n",
       " ('-3WVw1TNQbPBzaKCaQQ1AQ', 'XBHJCDzNh--mBhJkzyM_iA'),\n",
       " ('-3WVw1TNQbPBzaKCaQQ1AQ', 'X_kPh3nt0AJPNPHye2rTlA'),\n",
       " ('-3WVw1TNQbPBzaKCaQQ1AQ', 'Xe3roFVZWGe1ABkuhN9UCg'),\n",
       " ('-3WVw1TNQbPBzaKCaQQ1AQ', 'Z02XdD0muEz2FFQKPERMYQ'),\n",
       " ('-3WVw1TNQbPBzaKCaQQ1AQ', 'ZD-EVptauNE0vaszVPIOgA'),\n",
       " ('-3WVw1TNQbPBzaKCaQQ1AQ', '_GVAV2LjUWEs9fGjslex_A'),\n",
       " ('-3WVw1TNQbPBzaKCaQQ1AQ', '_LsbT_uW0UE6rhsWiAIrsg'),\n",
       " ('-3WVw1TNQbPBzaKCaQQ1AQ', '_PzSNcfrCjeBxSLXRoMmgQ'),\n",
       " ('-3WVw1TNQbPBzaKCaQQ1AQ', '_cfkppu33JhdiZknBSM50A'),\n",
       " ('-3WVw1TNQbPBzaKCaQQ1AQ', '_p9EnnLQg6KDlIRU2fYEJA'),\n",
       " ('-3WVw1TNQbPBzaKCaQQ1AQ', 'a1DUUGOKHbjuoL_Z90AnuQ'),\n",
       " ('-3WVw1TNQbPBzaKCaQQ1AQ', 'aJxjuUfwmdoUlY9wMvRvzg'),\n",
       " ('-3WVw1TNQbPBzaKCaQQ1AQ', 'aLTl_OkLo0BFRxdz1n6sYA'),\n",
       " ('-3WVw1TNQbPBzaKCaQQ1AQ', 'aaHyqSTcpdkismEP0bj0rQ'),\n",
       " ('-3WVw1TNQbPBzaKCaQQ1AQ', 'ajEWtu_h76FDdEDxwdTWmg'),\n",
       " ('-3WVw1TNQbPBzaKCaQQ1AQ', 'b0a6nLH0c8p5WJy1w7aO6Q'),\n",
       " ('-3WVw1TNQbPBzaKCaQQ1AQ', 'bkPFUCENKOYFDit-eV2PSw'),\n",
       " ('-3WVw1TNQbPBzaKCaQQ1AQ', 'bl69-2c_Amf4SGqoAmANig'),\n",
       " ('-3WVw1TNQbPBzaKCaQQ1AQ', 'c6udjafo7ogZESH16qWRyw'),\n",
       " ('-3WVw1TNQbPBzaKCaQQ1AQ', 'dqmXlUQyDh6d5U2_Zjb-Iw'),\n",
       " ('-3WVw1TNQbPBzaKCaQQ1AQ', 'eryLfrk7fabe8G1HPBkNAg'),\n",
       " ('-3WVw1TNQbPBzaKCaQQ1AQ', 'f5nCzPxSauEc811_Zt5k4A'),\n",
       " ('-3WVw1TNQbPBzaKCaQQ1AQ', 'fczQCSmaWF78toLEmb0Zsw'),\n",
       " ('-3WVw1TNQbPBzaKCaQQ1AQ', 'fySRKhGmZtVBr6SsxWCHaQ'),\n",
       " ('-3WVw1TNQbPBzaKCaQQ1AQ', 'gcyEUr4DXcbjnGRAWFtfAQ'),\n",
       " ('-3WVw1TNQbPBzaKCaQQ1AQ', 'gq_G5VCDziyEV2-bzGuqzw'),\n",
       " ('-3WVw1TNQbPBzaKCaQQ1AQ', 'hFh2O43n69ne6kjxeMVGSg'),\n",
       " ('-3WVw1TNQbPBzaKCaQQ1AQ', 'hFtlFksrcLaWHGPNa6SmeA'),\n",
       " ('-3WVw1TNQbPBzaKCaQQ1AQ', 'hXA-SSp0qMdohIKl8dUuWQ'),\n",
       " ('-3WVw1TNQbPBzaKCaQQ1AQ', 'hcctCQy3bdZMezrUKkZLtA'),\n",
       " ('-3WVw1TNQbPBzaKCaQQ1AQ', 'hn_DclKLzdxABRGGAuqKgg'),\n",
       " ('-3WVw1TNQbPBzaKCaQQ1AQ', 'i94JgBKT4T7pGco7W1S0OA'),\n",
       " ('-3WVw1TNQbPBzaKCaQQ1AQ', 'itn1IcuJSiFb8z34Zv5yGQ'),\n",
       " ('-3WVw1TNQbPBzaKCaQQ1AQ', 'iwWBF3nKoRMoy1sbkLJwvg'),\n",
       " ('-3WVw1TNQbPBzaKCaQQ1AQ', 'jAO9zgmbTXk4LaTxdSP_TA'),\n",
       " ('-3WVw1TNQbPBzaKCaQQ1AQ', 'jWvzAN1czxypi-GM1KY62g'),\n",
       " ('-3WVw1TNQbPBzaKCaQQ1AQ', 'jopndPrv-H5KW2CfScnw9A'),\n",
       " ('-3WVw1TNQbPBzaKCaQQ1AQ', 'jqVeTSin5GeRm0ceSg-PBA'),\n",
       " ('-3WVw1TNQbPBzaKCaQQ1AQ', 'kG5qfayYnULas_kNgKxwWQ'),\n",
       " ('-3WVw1TNQbPBzaKCaQQ1AQ', 'kSyETvyqGhEVwNWbCrIX7Q'),\n",
       " ('-3WVw1TNQbPBzaKCaQQ1AQ', 'kffxYQVQsEpF1DVlQlcGCg'),\n",
       " ('-3WVw1TNQbPBzaKCaQQ1AQ', 'lC4X2crUuxT9Ac9BlOX4Uw'),\n",
       " ('-3WVw1TNQbPBzaKCaQQ1AQ', 'lLY75QmKzN-qxmey_AzcyQ'),\n",
       " ('-3WVw1TNQbPBzaKCaQQ1AQ', 'lPaYMDmJbAnv_3pmZH_inw'),\n",
       " ('-3WVw1TNQbPBzaKCaQQ1AQ', 'm21EE2_CqPzpXdKsYsbVIA'),\n",
       " ('-3WVw1TNQbPBzaKCaQQ1AQ', 'm7vtKWpZ9wdEQ95wJxrMrg'),\n",
       " ('-3WVw1TNQbPBzaKCaQQ1AQ', 'milzi9DDC_g-GyVY_rLgTA'),\n",
       " ('-3WVw1TNQbPBzaKCaQQ1AQ', 'n-2gSytw4x3Q_rbweZnfuQ'),\n",
       " ('-3WVw1TNQbPBzaKCaQQ1AQ', 'n3Jk5bX72a9_dWGekwqmPA'),\n",
       " ('-3WVw1TNQbPBzaKCaQQ1AQ', 'nCu2AQILfu5uLE7Dk4m4Vg'),\n",
       " ('-3WVw1TNQbPBzaKCaQQ1AQ', 'nP_vZUqkoajeBC4qTV0Mlg'),\n",
       " ('-3WVw1TNQbPBzaKCaQQ1AQ', 'o8J-ergbGYjrUy85I_rxzw'),\n",
       " ('-3WVw1TNQbPBzaKCaQQ1AQ', 'oSvQ_t8qNWp_s7s26AOgtw'),\n",
       " ('-3WVw1TNQbPBzaKCaQQ1AQ', 'oXkbuOiN9HDS3WgOQONfRg'),\n",
       " ('-3WVw1TNQbPBzaKCaQQ1AQ', 'rIkxXjBKAeKKSYfLMgocLA'),\n",
       " ('-3WVw1TNQbPBzaKCaQQ1AQ', 'sMIOqXFpm6XuBlaokNdpAA'),\n",
       " ('-3WVw1TNQbPBzaKCaQQ1AQ', 'saiZmxzBIowJbMgPBW1Now'),\n",
       " ('-3WVw1TNQbPBzaKCaQQ1AQ', 'uCfdp7AH45qanhjzWhYZsw'),\n",
       " ('-3WVw1TNQbPBzaKCaQQ1AQ', 'vhxFLqRok6r-D_aQz0s-JQ'),\n",
       " ('-3WVw1TNQbPBzaKCaQQ1AQ', 'vsXP832M0kOxKpfduD7dWw'),\n",
       " ('-3WVw1TNQbPBzaKCaQQ1AQ', 'wC1CPV5bf--bDLtlhNSPLg'),\n",
       " ('-3WVw1TNQbPBzaKCaQQ1AQ', 'wUEp87FqOB9ew27Iz6zk_w'),\n",
       " ('-3WVw1TNQbPBzaKCaQQ1AQ', 'wcOqMTV92kxOornA42KyoA'),\n",
       " ('-3WVw1TNQbPBzaKCaQQ1AQ', 'x8y1nxyvDJ7fOySblW8mww'),\n",
       " ('-3WVw1TNQbPBzaKCaQQ1AQ', 'xB9Yze6uC1mJXEzA8wpWSw'),\n",
       " ('-3WVw1TNQbPBzaKCaQQ1AQ', 'y0BOBHqoMaqkOjLn_zvYQg'),\n",
       " ('-3WVw1TNQbPBzaKCaQQ1AQ', 'z2aIK__6KMpQBx1czvv8BA'),\n",
       " ('-3WVw1TNQbPBzaKCaQQ1AQ', 'zn81QpflLDUaGZkCMUowCg'),\n",
       " ('-3xbryp44xhpN4BohxXDdQ', '-W5cmxmNtDeLiJ4c_Zxojg'),\n",
       " ('-3xbryp44xhpN4BohxXDdQ', '-kIvLyWpY17aRa0vPp-RmA'),\n",
       " ('-3xbryp44xhpN4BohxXDdQ', '0ouMuScWJ3GuNtWEmmsziw'),\n",
       " ('-3xbryp44xhpN4BohxXDdQ', '1ywdfDnRYTJLj_L3FeCN0g'),\n",
       " ('-3xbryp44xhpN4BohxXDdQ', '2qgjgzarF6jvIkpprvF9pg'),\n",
       " ('-3xbryp44xhpN4BohxXDdQ', '4E_nPWw89FLFHdNsEgMH-g'),\n",
       " ('-3xbryp44xhpN4BohxXDdQ', '52hYzmoL4yUFyc9Ct1Zukg'),\n",
       " ('-3xbryp44xhpN4BohxXDdQ', '588oY8EejEFCr-ym_2TR0Q'),\n",
       " ('-3xbryp44xhpN4BohxXDdQ', '7zJeiY6YGosO7jakhlK91A'),\n",
       " ('-3xbryp44xhpN4BohxXDdQ', '81hpuEdYu2C4hp6oL7EPZw'),\n",
       " ('-3xbryp44xhpN4BohxXDdQ', '8LOfSX768pyIupTVHQOuTQ'),\n",
       " ('-3xbryp44xhpN4BohxXDdQ', 'Bvgg9e2Z3hAUC1Atye9wPQ'),\n",
       " ('-3xbryp44xhpN4BohxXDdQ', 'E4HbTIHd9PVjUnEKpysaLw'),\n",
       " ('-3xbryp44xhpN4BohxXDdQ', 'G4O27ezNFD2dD-bymdzZ3g'),\n",
       " ('-3xbryp44xhpN4BohxXDdQ', 'GclKzrLecMvhq7hQpzP_cA'),\n",
       " ('-3xbryp44xhpN4BohxXDdQ', 'GzOZ2iuyzT3cwYk49Vb8dA'),\n",
       " ('-3xbryp44xhpN4BohxXDdQ', 'I1Qj9NnnTEXQpEqQqGV6WA'),\n",
       " ('-3xbryp44xhpN4BohxXDdQ', 'JVeCUlDmcwJ3pteEdmzeHg'),\n",
       " ('-3xbryp44xhpN4BohxXDdQ', 'K7tZpQlSqGYhPrwzHKSubA'),\n",
       " ('-3xbryp44xhpN4BohxXDdQ', 'KvWny9qUZJKrqo_LYesgSg'),\n",
       " ('-3xbryp44xhpN4BohxXDdQ', 'MUHoBFzwRoXpCpgYSN8KRA'),\n",
       " ('-3xbryp44xhpN4BohxXDdQ', 'N69-RgMXqRaZbIBbx2eH2w'),\n",
       " ('-3xbryp44xhpN4BohxXDdQ', 'P_LzcrlVXFdgBq_24UnlUw'),\n",
       " ('-3xbryp44xhpN4BohxXDdQ', 'PzTP2RCSdBrZLbaxXgZ3kA'),\n",
       " ('-3xbryp44xhpN4BohxXDdQ', 'QSQeU6bDea42m6yH_pOQ8A'),\n",
       " ('-3xbryp44xhpN4BohxXDdQ', 'RL9-QudgjWYw9l78d__uyA'),\n",
       " ('-3xbryp44xhpN4BohxXDdQ', 'SHlkGMta-B3lXzlQBtrUvg'),\n",
       " ('-3xbryp44xhpN4BohxXDdQ', 'VD4E91XNSP8_B5fit__u8w'),\n",
       " ('-3xbryp44xhpN4BohxXDdQ', 'VYrcEmzV6JtkpnKDinaqEQ'),\n",
       " ('-3xbryp44xhpN4BohxXDdQ', 'XFLeKAsj3UKv5VPoIQjdIw'),\n",
       " ('-3xbryp44xhpN4BohxXDdQ', 'ZUx-B52hGRhmeUDVukmjrg'),\n",
       " ('-3xbryp44xhpN4BohxXDdQ', 'ZZxAeeKT-W2D8Ieplzu1nQ'),\n",
       " ('-3xbryp44xhpN4BohxXDdQ', 'ZwZ_fm6s2TeR45X8rGYfPA'),\n",
       " ('-3xbryp44xhpN4BohxXDdQ', '_LsbT_uW0UE6rhsWiAIrsg'),\n",
       " ('-3xbryp44xhpN4BohxXDdQ', '_gZjcAu7mQEzyZsYeqfIMA'),\n",
       " ('-3xbryp44xhpN4BohxXDdQ', 'adY0jMsMhaD7nsO7F7ue4Q'),\n",
       " ('-3xbryp44xhpN4BohxXDdQ', 'bomxdD965gZr9j4iuUIqjw'),\n",
       " ('-3xbryp44xhpN4BohxXDdQ', 'bswV-wIGU9Bw4mbxSPdykg'),\n",
       " ('-3xbryp44xhpN4BohxXDdQ', 'btfv0CFoDX6vJCPms6-Irg'),\n",
       " ('-3xbryp44xhpN4BohxXDdQ', 'cJ8sSqRh7CKpNpQaBB2uSg'),\n",
       " ('-3xbryp44xhpN4BohxXDdQ', 'cSAACR699NuLMqBPuKL8nw'),\n",
       " ('-3xbryp44xhpN4BohxXDdQ', 'fksrAfKZYrhCzOjUIoFudw'),\n",
       " ('-3xbryp44xhpN4BohxXDdQ', 'h7v_M_0-YVpSVZ2WD7FpAA'),\n",
       " ('-3xbryp44xhpN4BohxXDdQ', 'hFh2O43n69ne6kjxeMVGSg'),\n",
       " ('-3xbryp44xhpN4BohxXDdQ', 'hRdhlyNVtVvcf7oLn2J1Xw'),\n",
       " ('-3xbryp44xhpN4BohxXDdQ', 'huE7A2WBkTJTyEr2K8Owzw'),\n",
       " ('-3xbryp44xhpN4BohxXDdQ', 'k6ZQA3DJ2EfZJMmadBlWNw'),\n",
       " ('-3xbryp44xhpN4BohxXDdQ', 'kMwq6s0ROH4Zjn4mHCxejw'),\n",
       " ('-3xbryp44xhpN4BohxXDdQ', 'lS1yBzrxGoYY-k2auRMAMA'),\n",
       " ('-3xbryp44xhpN4BohxXDdQ', 'lgYDQKLxFyX74M0KfSOIjA'),\n",
       " ('-3xbryp44xhpN4BohxXDdQ', 'lmiDCrmas8TxRsbIGZX9Pg'),\n",
       " ('-3xbryp44xhpN4BohxXDdQ', 'mCMEbr78s4sFEG1ve_OhYQ'),\n",
       " ('-3xbryp44xhpN4BohxXDdQ', 'nP2HH7Qe5UtSsjeEH3NZuQ'),\n",
       " ('-3xbryp44xhpN4BohxXDdQ', 'r7_VklTHwA0a1GMLiHbAyw'),\n",
       " ('-3xbryp44xhpN4BohxXDdQ', 'rLtl8ZkDX5vH5nAx9C3q5Q'),\n",
       " ('-3xbryp44xhpN4BohxXDdQ', 'tHz9cWxwSfcP4qRaPIHvww'),\n",
       " ('-3xbryp44xhpN4BohxXDdQ', 'tmTxuDadTVc-KFyhvPuseQ'),\n",
       " ('-3xbryp44xhpN4BohxXDdQ', 'vK0-o9jIxY1wpJWHOySpDQ'),\n",
       " ('-3xbryp44xhpN4BohxXDdQ', 'wNqwKWaRjClmcKsoJJRFow'),\n",
       " ('-3xbryp44xhpN4BohxXDdQ', 'xMOxea5qgjhb2QjfIltKdA'),\n",
       " ('-3xbryp44xhpN4BohxXDdQ', 'yEdoJsi3f0IEar6FOHgwjw'),\n",
       " ('-3xbryp44xhpN4BohxXDdQ', 'zs9EphhkXylrxHCzxhC_ag'),\n",
       " ('-4A5xmN21zi_TXnUESauUQ', '-UNKM08X9Bh0CHMwN6O2gA'),\n",
       " ('-4A5xmN21zi_TXnUESauUQ', '0AK16f_pNjdBGNjpjk7Xvg'),\n",
       " ('-4A5xmN21zi_TXnUESauUQ', '0bNXP9quoJEgyVZu9ipGgQ'),\n",
       " ('-4A5xmN21zi_TXnUESauUQ', '16djaKDikBivsWVKtYTchA'),\n",
       " ('-4A5xmN21zi_TXnUESauUQ', '1EThs7Vakny7bGBRQk6x2w'),\n",
       " ('-4A5xmN21zi_TXnUESauUQ', '1JlPVFzAp6kIUVph80EKjw'),\n",
       " ('-4A5xmN21zi_TXnUESauUQ', '2FtCOwNwd6UsBgScSc1_Ug'),\n",
       " ('-4A5xmN21zi_TXnUESauUQ', '2h0A-NirfNl2p2SquFWYHQ'),\n",
       " ('-4A5xmN21zi_TXnUESauUQ', '3TGup17SCV6uHsifmTKirg'),\n",
       " ('-4A5xmN21zi_TXnUESauUQ', '3U2qakfROY1qoAtcyRJc_w'),\n",
       " ('-4A5xmN21zi_TXnUESauUQ', '47zERAXIAs4LDWM_OE7gxw'),\n",
       " ('-4A5xmN21zi_TXnUESauUQ', '4n8ZSc3caCOJ_gSjlHqPOA'),\n",
       " ('-4A5xmN21zi_TXnUESauUQ', '4ozupHULqGyO42s3zNUzOQ'),\n",
       " ('-4A5xmN21zi_TXnUESauUQ', '5HEYxH5vtO7ZNoNBnibbzA'),\n",
       " ('-4A5xmN21zi_TXnUESauUQ', '6APehMlb8BvvVY8kvVRYUw'),\n",
       " ('-4A5xmN21zi_TXnUESauUQ', '6EORc3auy_M-8LhgL2r4-w'),\n",
       " ('-4A5xmN21zi_TXnUESauUQ', '7FCQyCvu6My5WkKsLInVKw'),\n",
       " ('-4A5xmN21zi_TXnUESauUQ', '7aQvAhgpdXqkTQEp8b8Szw'),\n",
       " ('-4A5xmN21zi_TXnUESauUQ', '7bdCfESkLLta4vwxO5tyHw'),\n",
       " ('-4A5xmN21zi_TXnUESauUQ', '7bz7S7nQU9kMenVcPsCC_w'),\n",
       " ('-4A5xmN21zi_TXnUESauUQ', '7cqS0TZkUUcLhcMkACSXcg'),\n",
       " ('-4A5xmN21zi_TXnUESauUQ', '7zDqr2I0-xpw9HF5Ha54cA'),\n",
       " ('-4A5xmN21zi_TXnUESauUQ', '8KKUnoYOGRs8nMQLbwoFfA'),\n",
       " ('-4A5xmN21zi_TXnUESauUQ', '9SZBVZ-mxebOVa1BlWFtWw'),\n",
       " ('-4A5xmN21zi_TXnUESauUQ', '9UNGbiE9k0fvMpCMJp0Gww'),\n",
       " ('-4A5xmN21zi_TXnUESauUQ', '9Z05mtXrXJ-22PElwp1ahA'),\n",
       " ('-4A5xmN21zi_TXnUESauUQ', '9dx-Atgssn3g71cOVVhuNA'),\n",
       " ('-4A5xmN21zi_TXnUESauUQ', '9zuPDV5lge3dBTtYOHYvJQ'),\n",
       " ('-4A5xmN21zi_TXnUESauUQ', 'A9S8rLw35WF4sMCoCYrl3A'),\n",
       " ('-4A5xmN21zi_TXnUESauUQ', 'AMqz-URZwF-LPjEJ2qKLzw'),\n",
       " ('-4A5xmN21zi_TXnUESauUQ', 'APLIPfq1Rf8QyhHHk2uAyA'),\n",
       " ('-4A5xmN21zi_TXnUESauUQ', 'AkJFqLqHHAKY3H5R8p7cPQ'),\n",
       " ('-4A5xmN21zi_TXnUESauUQ', 'B8t1hkG4EX7ar4r9PCEJMA'),\n",
       " ('-4A5xmN21zi_TXnUESauUQ', 'BWPbFAPZIv_Prl_ib88jpw'),\n",
       " ('-4A5xmN21zi_TXnUESauUQ', 'BjwXX-sChcjx2E55B_7rXg'),\n",
       " ('-4A5xmN21zi_TXnUESauUQ', 'C8ZTiwa7qWoPSMIivTeSfw'),\n",
       " ('-4A5xmN21zi_TXnUESauUQ', 'Cp-PV8rsypbO-xBrQ6KmQg'),\n",
       " ('-4A5xmN21zi_TXnUESauUQ', 'CtuoM6_Im-xBZMAqPKMQ8A'),\n",
       " ('-4A5xmN21zi_TXnUESauUQ', 'CuiLmQpUszzhLqGifzKHiQ'),\n",
       " ('-4A5xmN21zi_TXnUESauUQ', 'D5J4mKahKvUBJUTWanZwdA'),\n",
       " ('-4A5xmN21zi_TXnUESauUQ', 'DfJ8B8T1fgNA6_ZT-aeUlQ'),\n",
       " ('-4A5xmN21zi_TXnUESauUQ', 'EA5JiRv7RocRiKFTaCUHCw'),\n",
       " ('-4A5xmN21zi_TXnUESauUQ', 'EGiAtB4sgZhDdYpRkDneig'),\n",
       " ('-4A5xmN21zi_TXnUESauUQ', 'EP3cGJvYiuOwumerwADplg'),\n",
       " ('-4A5xmN21zi_TXnUESauUQ', 'FAxy_JuEOhhZl3C10LMY1A'),\n",
       " ('-4A5xmN21zi_TXnUESauUQ', 'FDvk3ZhF5qJVlsGqqIndLA'),\n",
       " ('-4A5xmN21zi_TXnUESauUQ', 'FKViOrC8nGcyUH8HNuBFgA'),\n",
       " ('-4A5xmN21zi_TXnUESauUQ', 'Fgpm_uoRYBi3lg6OLRM4gw'),\n",
       " ('-4A5xmN21zi_TXnUESauUQ', 'FyY_lBFItdSHgRagaTVu5Q'),\n",
       " ('-4A5xmN21zi_TXnUESauUQ', 'GNCh2HzSVYsS12o76qtUiQ'),\n",
       " ('-4A5xmN21zi_TXnUESauUQ', 'GRgBu4K7GOb3354esp_xkg'),\n",
       " ('-4A5xmN21zi_TXnUESauUQ', 'GvcCXI77qSPwddCa2_Gs6Q'),\n",
       " ('-4A5xmN21zi_TXnUESauUQ', 'HRmeBNs6ZpByoh6_rONZzw'),\n",
       " ('-4A5xmN21zi_TXnUESauUQ', 'Hb49IsEZltm85wLz3uMrmw'),\n",
       " ('-4A5xmN21zi_TXnUESauUQ', 'I5MumqKdvisU378muyB4yw'),\n",
       " ('-4A5xmN21zi_TXnUESauUQ', 'JgDkCER12uiv4lbpmkZ9VA'),\n",
       " ('-4A5xmN21zi_TXnUESauUQ', 'JlCjjf4H8rs2_lkj7xWRZA'),\n",
       " ('-4A5xmN21zi_TXnUESauUQ', 'K0euQLFAcKhQPZ6JxGAryg'),\n",
       " ('-4A5xmN21zi_TXnUESauUQ', 'Ki71iAFTxsPPQfX430c99Q'),\n",
       " ('-4A5xmN21zi_TXnUESauUQ', 'L9-X4KASFfdhOeVeYSDgvA'),\n",
       " ('-4A5xmN21zi_TXnUESauUQ', 'LdhwY7eudLlx1KFQQe9GwA'),\n",
       " ('-4A5xmN21zi_TXnUESauUQ', 'LqgGgWi3FLHBViX9tmZ9sw'),\n",
       " ('-4A5xmN21zi_TXnUESauUQ', 'LwfP-eD5RvdxR2Upr6ReOw'),\n",
       " ('-4A5xmN21zi_TXnUESauUQ', 'MOpFJnB5HyXdXW1sMwz7Bg'),\n",
       " ('-4A5xmN21zi_TXnUESauUQ', 'O3F9oWq1WAVdw7v6RMTBAA'),\n",
       " ('-4A5xmN21zi_TXnUESauUQ', 'OOxLwlNadygUwL_aG8KnSQ'),\n",
       " ('-4A5xmN21zi_TXnUESauUQ', 'P1fXuGmbdTz_jfEZLbWYcA'),\n",
       " ('-4A5xmN21zi_TXnUESauUQ', 'P2kVk4cIWyK4e4h14RhK-Q'),\n",
       " ('-4A5xmN21zi_TXnUESauUQ', 'PKwZWyQxR-O14RzZirkndg'),\n",
       " ('-4A5xmN21zi_TXnUESauUQ', 'PNAkqna65eJq8Od5dl1iDA'),\n",
       " ('-4A5xmN21zi_TXnUESauUQ', 'PO1H81tZBIjRK84sWpCsVQ'),\n",
       " ('-4A5xmN21zi_TXnUESauUQ', 'QHdHXy73PHc-XDGP7vvQlg'),\n",
       " ('-4A5xmN21zi_TXnUESauUQ', 'QWDy_aciIuQJlgmxiyJ-Gg'),\n",
       " ('-4A5xmN21zi_TXnUESauUQ', 'Qvr5glP5aUctOvUbBWVKVA'),\n",
       " ('-4A5xmN21zi_TXnUESauUQ', 'QxKjiAVoyl7qo-VYekHuDw'),\n",
       " ('-4A5xmN21zi_TXnUESauUQ', 'ST8Yzlk2MqKlcaLqL2djBg'),\n",
       " ('-4A5xmN21zi_TXnUESauUQ', 'T-SKJo372IHScyKTlgpJhA'),\n",
       " ('-4A5xmN21zi_TXnUESauUQ', 'T2xLn3YJooQNVl3pG7_ryg'),\n",
       " ('-4A5xmN21zi_TXnUESauUQ', 'TQk12TubEuI_6ldf2bjemQ'),\n",
       " ('-4A5xmN21zi_TXnUESauUQ', 'Tb9wutjuM6VciBJ95k_a7Q'),\n",
       " ('-4A5xmN21zi_TXnUESauUQ', 'U14IHoSXcztl-4PjyY0pug'),\n",
       " ('-4A5xmN21zi_TXnUESauUQ', 'U2Ez3lMr3CHuNl8NFww4QA'),\n",
       " ('-4A5xmN21zi_TXnUESauUQ', 'U8ayzBXrBzgjdrCYOzwNOg'),\n",
       " ('-4A5xmN21zi_TXnUESauUQ', 'UHWSMoTUnoBuUgujsYIXhw'),\n",
       " ('-4A5xmN21zi_TXnUESauUQ', 'Uj40Euddax8Tla63PqEIMw'),\n",
       " ('-4A5xmN21zi_TXnUESauUQ', 'UsULgP4bKA8RMzs8dQzcsA'),\n",
       " ('-4A5xmN21zi_TXnUESauUQ', 'WehCZQtQu96-VL6RawV_BQ'),\n",
       " ('-4A5xmN21zi_TXnUESauUQ', 'Wh4MXndOJFw4bC4bDideHQ'),\n",
       " ('-4A5xmN21zi_TXnUESauUQ', 'XTFE2ERq7YvaqGUgQYzVNA'),\n",
       " ('-4A5xmN21zi_TXnUESauUQ', 'X_kPh3nt0AJPNPHye2rTlA'),\n",
       " ('-4A5xmN21zi_TXnUESauUQ', 'Y7KS04okqSFAbg1NyImHkQ'),\n",
       " ('-4A5xmN21zi_TXnUESauUQ', 'YPwFl3RCRwr-kyN-890STA'),\n",
       " ('-4A5xmN21zi_TXnUESauUQ', 'Yoa2y89jR7tAnWRLSDca7Q'),\n",
       " ('-4A5xmN21zi_TXnUESauUQ', 'YrbcT9CB_kW3RQutizG4Uw'),\n",
       " ('-4A5xmN21zi_TXnUESauUQ', 'ZW8jy6ehrNzn9A5iCubVGg'),\n",
       " ('-4A5xmN21zi_TXnUESauUQ', 'Zcx66YAlgyClDEhi5W86Hg'),\n",
       " ('-4A5xmN21zi_TXnUESauUQ', 'Znu5KKqytHfmjbXfQo3f4Q'),\n",
       " ('-4A5xmN21zi_TXnUESauUQ', 'Zwtx7FLZcK5F2P0-Tz8mHg'),\n",
       " ('-4A5xmN21zi_TXnUESauUQ', '_VflT6d9twJtfOXmYMAYyw'),\n",
       " ('-4A5xmN21zi_TXnUESauUQ', '_lyR-OYpih8fXTficqZW2g'),\n",
       " ('-4A5xmN21zi_TXnUESauUQ', '_ua7fp2GH3fuHUwqN76KqA'),\n",
       " ('-4A5xmN21zi_TXnUESauUQ', 'a8gpBi7biN9VAoJwKgl3Xw'),\n",
       " ('-4A5xmN21zi_TXnUESauUQ', 'aJMXwwUYzKCBWilNDCJhgQ'),\n",
       " ('-4A5xmN21zi_TXnUESauUQ', 'b4C9E7vTJrOdkJQA86xYSg'),\n",
       " ('-4A5xmN21zi_TXnUESauUQ', 'bwmXfjwrogAaGqV33kSVpQ'),\n",
       " ('-4A5xmN21zi_TXnUESauUQ', 'cMmQsFyrYBv6hIE6NffqZQ'),\n",
       " ...]"
      ]
     },
     "execution_count": 118,
     "metadata": {},
     "output_type": "execute_result"
    }
   ],
   "source": [
    "all_value_idx"
   ]
  },
  {
   "cell_type": "code",
   "execution_count": 119,
   "metadata": {
    "ExecuteTime": {
     "end_time": "2017-02-01T14:11:38.531933",
     "start_time": "2017-02-01T14:11:38.452218"
    },
    "collapsed": true,
    "run_control": {
     "frozen": false,
     "read_only": false
    }
   },
   "outputs": [],
   "source": [
    "all_value_idx = pd.DataFrame.from_records(all_value_idx, columns=['business_id', 'user_id'])"
   ]
  },
  {
   "cell_type": "code",
   "execution_count": 120,
   "metadata": {
    "ExecuteTime": {
     "end_time": "2017-02-01T14:11:38.662276",
     "start_time": "2017-02-01T14:11:38.534938"
    },
    "collapsed": false,
    "run_control": {
     "frozen": false,
     "read_only": false
    }
   },
   "outputs": [
    {
     "data": {
      "text/plain": [
       "(409446,)"
      ]
     },
     "execution_count": 120,
     "metadata": {},
     "output_type": "execute_result"
    }
   ],
   "source": [
    "Y.lookup(all_value_idx.business_id, all_value_idx.user_id).shape"
   ]
  },
  {
   "cell_type": "code",
   "execution_count": 121,
   "metadata": {
    "ExecuteTime": {
     "end_time": "2017-02-01T14:11:38.846767",
     "start_time": "2017-02-01T14:11:38.665285"
    },
    "collapsed": false,
    "run_control": {
     "frozen": false,
     "read_only": false
    }
   },
   "outputs": [],
   "source": [
    "query_r = all_value_idx.business_id\n",
    "r = Y.index.values\n",
    "aridx = np.argsort(r)\n",
    "all_row_ids = aridx[np.searchsorted(r,query_r,sorter=aridx)]"
   ]
  },
  {
   "cell_type": "code",
   "execution_count": 122,
   "metadata": {
    "ExecuteTime": {
     "end_time": "2017-02-01T14:11:39.546168",
     "start_time": "2017-02-01T14:11:38.852282"
    },
    "collapsed": false,
    "run_control": {
     "frozen": false,
     "read_only": false
    }
   },
   "outputs": [],
   "source": [
    "query_c = all_value_idx.user_id\n",
    "c = Y.columns.values\n",
    "acidx = np.argsort(c)\n",
    "all_col_ids = acidx[np.searchsorted(c,query_c,sorter=acidx)]"
   ]
  },
  {
   "cell_type": "code",
   "execution_count": 123,
   "metadata": {
    "ExecuteTime": {
     "end_time": "2017-02-01T14:11:39.822863",
     "start_time": "2017-02-01T14:11:39.548133"
    },
    "collapsed": false,
    "run_control": {
     "frozen": false,
     "read_only": false
    }
   },
   "outputs": [
    {
     "data": {
      "text/plain": [
       "0.94417578874869945"
      ]
     },
     "execution_count": 123,
     "metadata": {},
     "output_type": "execute_result"
    }
   ],
   "source": [
    "((np.round(predictions[all_row_ids, all_col_ids]) >= 3) & (Y.lookup(all_value_idx.business_id, all_value_idx.user_id) >= 3) | \n",
    " (predictions[all_row_ids, all_col_ids] < 3) & (Y.lookup(all_value_idx.business_id, all_value_idx.user_id) < 3)).mean()"
   ]
  },
  {
   "cell_type": "code",
   "execution_count": 124,
   "metadata": {
    "ExecuteTime": {
     "end_time": "2017-02-01T14:11:41.332386",
     "start_time": "2017-02-01T14:11:41.329372"
    },
    "collapsed": true,
    "run_control": {
     "frozen": false,
     "read_only": false
    }
   },
   "outputs": [],
   "source": [
    "# for 50 features lambda 1, 20 iterations, the accuracy is 0.9878\n",
    "# for 75 features lambda 10, 100 iterations, the accuracy is 0.9442"
   ]
  },
  {
   "cell_type": "code",
   "execution_count": 125,
   "metadata": {
    "ExecuteTime": {
     "end_time": "2017-02-01T14:11:42.113182",
     "start_time": "2017-02-01T14:11:41.855051"
    },
    "collapsed": true,
    "run_control": {
     "frozen": false,
     "read_only": false
    }
   },
   "outputs": [],
   "source": [
    "import matplotlib.pyplot as plt"
   ]
  },
  {
   "cell_type": "code",
   "execution_count": 126,
   "metadata": {
    "ExecuteTime": {
     "end_time": "2017-02-01T14:11:42.733035",
     "start_time": "2017-02-01T14:11:42.544034"
    },
    "collapsed": false,
    "run_control": {
     "frozen": false,
     "read_only": false
    }
   },
   "outputs": [
    {
     "data": {
      "image/png": "[encoded data removed]",
      "text/plain": [
       "<matplotlib.figure.Figure at 0x25099d97668>"
      ]
     },
     "metadata": {},
     "output_type": "display_data"
    }
   ],
   "source": [
    "i = 0\n",
    "plt.plot(predictions[np.argsort(np.ravel(predictions[:,i]))[::-1], i])\n",
    "plt.show()"
   ]
  },
  {
   "cell_type": "markdown",
   "metadata": {
    "run_control": {
     "frozen": false,
     "read_only": false
    }
   },
   "source": [
    "# Conclusion of Performance:\n",
    "* **The overall accuracy of the dataset, including the masked values is about 98.8% (maybe overfitting) or 94.4%**\n",
    "\n",
    "* **The recommender system model captures the ratings with a good accuracy based on hit or miss evaluation**\n",
    "\n",
    "* **The performance on the test set was better with 75 features, lambda=10, 100 iterations with an MSE = 1.07**"
   ]
  },
  {
   "cell_type": "markdown",
   "metadata": {
    "run_control": {
     "frozen": false,
     "read_only": false
    }
   },
   "source": [
    "# Recommend businesses to users"
   ]
  },
  {
   "cell_type": "code",
   "execution_count": 127,
   "metadata": {
    "ExecuteTime": {
     "end_time": "2017-02-01T14:11:48.135823",
     "start_time": "2017-02-01T14:11:48.128304"
    },
    "collapsed": false,
    "run_control": {
     "frozen": false,
     "read_only": false
    }
   },
   "outputs": [],
   "source": [
    "# The recommend function take the Y matrix, and predictions matrix and the user_id\n",
    "# Returns: the recommended businesses (in desc sorted order), business_id and business index positions\n",
    "def recommend(Y, predictions, user_id):\n",
    "    # get index position of user_id\n",
    "    user_idx = Y.columns.get_loc(user_id)    \n",
    "    # find index positions of non reviewed businesses for this user:\n",
    "    all_recommendation_indices = np.squeeze(np.asarray(np.argsort(predictions[:,user_idx], axis=0)[::-1]))\n",
    "    # find reviewed businesses, find predictions(recommendations) for our user, return businesses in descending sorted order\n",
    "    # remove reviewed businesses from recommendations\n",
    "    rated_businesses = [Y.loc[:,user_id].index.get_loc(i) for i in Y.loc[:,user_id][Y.loc[:,user_id].notnull()].index.tolist()]\n",
    "    all_recommendation_indices = all_recommendation_indices[~np.in1d(all_recommendation_indices,rated_businesses)]\n",
    "    return Y.index[all_recommendation_indices], all_recommendation_indices\n"
   ]
  },
  {
   "cell_type": "code",
   "execution_count": 128,
   "metadata": {
    "ExecuteTime": {
     "end_time": "2017-02-01T14:11:48.970104",
     "start_time": "2017-02-01T14:11:48.963087"
    },
    "collapsed": false,
    "run_control": {
     "frozen": false,
     "read_only": false
    }
   },
   "outputs": [
    {
     "data": {
      "text/plain": [
       "matrix([[5706],\n",
       "        [6788],\n",
       "        [5783],\n",
       "        ..., \n",
       "        [7016],\n",
       "        [5367],\n",
       "        [1572]], dtype=int64)"
      ]
     },
     "execution_count": 128,
     "metadata": {},
     "output_type": "execute_result"
    }
   ],
   "source": [
    " np.argsort(predictions[:,1], axis=0)[::-1]"
   ]
  },
  {
   "cell_type": "code",
   "execution_count": 129,
   "metadata": {
    "ExecuteTime": {
     "end_time": "2017-02-01T14:11:50.285581",
     "start_time": "2017-02-01T14:11:50.269544"
    },
    "collapsed": false,
    "run_control": {
     "frozen": false,
     "read_only": false
    }
   },
   "outputs": [],
   "source": [
    "recommended_business_names, recommended_business_idx = recommend(Y, predictions, Y.columns[1])"
   ]
  },
  {
   "cell_type": "code",
   "execution_count": 130,
   "metadata": {
    "ExecuteTime": {
     "end_time": "2017-02-01T14:31:45.385801",
     "start_time": "2017-02-01T14:31:45.379284"
    },
    "collapsed": false,
    "run_control": {
     "frozen": false,
     "read_only": false
    }
   },
   "outputs": [
    {
     "data": {
      "text/plain": [
       "array([5706, 6788, 5783, ..., 7016, 5367, 1572], dtype=int64)"
      ]
     },
     "execution_count": 130,
     "metadata": {},
     "output_type": "execute_result"
    }
   ],
   "source": [
    "recommended_business_idx"
   ]
  },
  {
   "cell_type": "code",
   "execution_count": 131,
   "metadata": {
    "ExecuteTime": {
     "end_time": "2017-02-01T14:31:46.698736",
     "start_time": "2017-02-01T14:31:46.676656"
    },
    "collapsed": false,
    "run_control": {
     "frozen": false,
     "read_only": false
    }
   },
   "outputs": [],
   "source": [
    "# This could have been done from the beginning, keeping the business_id index\n",
    "business.set_index('business_id', drop=False, verify_integrity=True, inplace=True)"
   ]
  },
  {
   "cell_type": "code",
   "execution_count": 132,
   "metadata": {
    "ExecuteTime": {
     "end_time": "2017-02-01T14:31:50.570124",
     "start_time": "2017-02-01T14:31:50.491918"
    },
    "collapsed": false,
    "run_control": {
     "frozen": false,
     "read_only": false
    },
    "scrolled": true
   },
   "outputs": [
    {
     "data": {
      "text/html": [
       "<div>\n",
       "<table border=\"1\" class=\"dataframe\">\n",
       "  <thead>\n",
       "    <tr style=\"text-align: right;\">\n",
       "      <th></th>\n",
       "      <th>attributes</th>\n",
       "      <th>business_id</th>\n",
       "      <th>categories</th>\n",
       "      <th>city</th>\n",
       "      <th>full_address</th>\n",
       "      <th>hours</th>\n",
       "      <th>latitude</th>\n",
       "      <th>longitude</th>\n",
       "      <th>name</th>\n",
       "      <th>neighborhoods</th>\n",
       "      <th>open</th>\n",
       "      <th>review_count</th>\n",
       "      <th>stars</th>\n",
       "      <th>state</th>\n",
       "      <th>type</th>\n",
       "    </tr>\n",
       "    <tr>\n",
       "      <th>business_id</th>\n",
       "      <th></th>\n",
       "      <th></th>\n",
       "      <th></th>\n",
       "      <th></th>\n",
       "      <th></th>\n",
       "      <th></th>\n",
       "      <th></th>\n",
       "      <th></th>\n",
       "      <th></th>\n",
       "      <th></th>\n",
       "      <th></th>\n",
       "      <th></th>\n",
       "      <th></th>\n",
       "      <th></th>\n",
       "      <th></th>\n",
       "    </tr>\n",
       "  </thead>\n",
       "  <tbody>\n",
       "    <tr>\n",
       "      <th>lliksv-tglfUz1T3B3vgvA</th>\n",
       "      <td>{'Caters': False, 'Takes Reservations': True, ...</td>\n",
       "      <td>lliksv-tglfUz1T3B3vgvA</td>\n",
       "      <td>[Thai, Restaurants]</td>\n",
       "      <td>Las Vegas</td>\n",
       "      <td>953 E Sahara Ave\\nSte A5\\nEastside\\nLas Vegas,...</td>\n",
       "      <td>{'Tuesday': {'open': '17:30', 'close': '22:00'...</td>\n",
       "      <td>36.143767</td>\n",
       "      <td>-115.140885</td>\n",
       "      <td>Lotus of Siam</td>\n",
       "      <td>[Eastside, Downtown]</td>\n",
       "      <td>True</td>\n",
       "      <td>3225</td>\n",
       "      <td>4.0</td>\n",
       "      <td>NV</td>\n",
       "      <td>business</td>\n",
       "    </tr>\n",
       "    <tr>\n",
       "      <th>vARjqeIkSNsazHltujiq4Q</th>\n",
       "      <td>{'Has TV': False, 'Takes Reservations': False,...</td>\n",
       "      <td>vARjqeIkSNsazHltujiq4Q</td>\n",
       "      <td>[British, Restaurants]</td>\n",
       "      <td>Mesa</td>\n",
       "      <td>1941 W Guadalupe Rd\\nSte 101\\nMesa, AZ 85202</td>\n",
       "      <td>{'Tuesday': {'open': '11:00', 'close': '00:00'...</td>\n",
       "      <td>33.362700</td>\n",
       "      <td>-111.876051</td>\n",
       "      <td>Cornish Pasty Company</td>\n",
       "      <td>[]</td>\n",
       "      <td>True</td>\n",
       "      <td>884</td>\n",
       "      <td>4.5</td>\n",
       "      <td>AZ</td>\n",
       "      <td>business</td>\n",
       "    </tr>\n",
       "    <tr>\n",
       "      <th>mQde7KRomOQoUyPGTqeXhA</th>\n",
       "      <td>{}</td>\n",
       "      <td>mQde7KRomOQoUyPGTqeXhA</td>\n",
       "      <td>[Animal Shelters, Veterinarians, Pet Stores, P...</td>\n",
       "      <td>Phoenix</td>\n",
       "      <td>1521 W Dobbins Rd\\nPhoenix, AZ 85041</td>\n",
       "      <td>{'Tuesday': {'open': '11:00', 'close': '18:00'...</td>\n",
       "      <td>33.362442</td>\n",
       "      <td>-112.092663</td>\n",
       "      <td>Arizona Humane Society</td>\n",
       "      <td>[]</td>\n",
       "      <td>True</td>\n",
       "      <td>64</td>\n",
       "      <td>4.5</td>\n",
       "      <td>AZ</td>\n",
       "      <td>business</td>\n",
       "    </tr>\n",
       "  </tbody>\n",
       "</table>\n",
       "</div>"
      ],
      "text/plain": [
       "                                                               attributes  \\\n",
       "business_id                                                                 \n",
       "lliksv-tglfUz1T3B3vgvA  {'Caters': False, 'Takes Reservations': True, ...   \n",
       "vARjqeIkSNsazHltujiq4Q  {'Has TV': False, 'Takes Reservations': False,...   \n",
       "mQde7KRomOQoUyPGTqeXhA                                                 {}   \n",
       "\n",
       "                                   business_id  \\\n",
       "business_id                                      \n",
       "lliksv-tglfUz1T3B3vgvA  lliksv-tglfUz1T3B3vgvA   \n",
       "vARjqeIkSNsazHltujiq4Q  vARjqeIkSNsazHltujiq4Q   \n",
       "mQde7KRomOQoUyPGTqeXhA  mQde7KRomOQoUyPGTqeXhA   \n",
       "\n",
       "                                                               categories  \\\n",
       "business_id                                                                 \n",
       "lliksv-tglfUz1T3B3vgvA                                [Thai, Restaurants]   \n",
       "vARjqeIkSNsazHltujiq4Q                             [British, Restaurants]   \n",
       "mQde7KRomOQoUyPGTqeXhA  [Animal Shelters, Veterinarians, Pet Stores, P...   \n",
       "\n",
       "                             city  \\\n",
       "business_id                         \n",
       "lliksv-tglfUz1T3B3vgvA  Las Vegas   \n",
       "vARjqeIkSNsazHltujiq4Q       Mesa   \n",
       "mQde7KRomOQoUyPGTqeXhA    Phoenix   \n",
       "\n",
       "                                                             full_address  \\\n",
       "business_id                                                                 \n",
       "lliksv-tglfUz1T3B3vgvA  953 E Sahara Ave\\nSte A5\\nEastside\\nLas Vegas,...   \n",
       "vARjqeIkSNsazHltujiq4Q       1941 W Guadalupe Rd\\nSte 101\\nMesa, AZ 85202   \n",
       "mQde7KRomOQoUyPGTqeXhA               1521 W Dobbins Rd\\nPhoenix, AZ 85041   \n",
       "\n",
       "                                                                    hours  \\\n",
       "business_id                                                                 \n",
       "lliksv-tglfUz1T3B3vgvA  {'Tuesday': {'open': '17:30', 'close': '22:00'...   \n",
       "vARjqeIkSNsazHltujiq4Q  {'Tuesday': {'open': '11:00', 'close': '00:00'...   \n",
       "mQde7KRomOQoUyPGTqeXhA  {'Tuesday': {'open': '11:00', 'close': '18:00'...   \n",
       "\n",
       "                         latitude   longitude                    name  \\\n",
       "business_id                                                             \n",
       "lliksv-tglfUz1T3B3vgvA  36.143767 -115.140885           Lotus of Siam   \n",
       "vARjqeIkSNsazHltujiq4Q  33.362700 -111.876051   Cornish Pasty Company   \n",
       "mQde7KRomOQoUyPGTqeXhA  33.362442 -112.092663  Arizona Humane Society   \n",
       "\n",
       "                               neighborhoods  open  review_count  stars state  \\\n",
       "business_id                                                                     \n",
       "lliksv-tglfUz1T3B3vgvA  [Eastside, Downtown]  True          3225    4.0    NV   \n",
       "vARjqeIkSNsazHltujiq4Q                    []  True           884    4.5    AZ   \n",
       "mQde7KRomOQoUyPGTqeXhA                    []  True            64    4.5    AZ   \n",
       "\n",
       "                            type  \n",
       "business_id                       \n",
       "lliksv-tglfUz1T3B3vgvA  business  \n",
       "vARjqeIkSNsazHltujiq4Q  business  \n",
       "mQde7KRomOQoUyPGTqeXhA  business  "
      ]
     },
     "execution_count": 132,
     "metadata": {},
     "output_type": "execute_result"
    }
   ],
   "source": [
    "business.loc[recommended_business_names][:3]"
   ]
  },
  {
   "cell_type": "markdown",
   "metadata": {
    "run_control": {
     "frozen": false,
     "read_only": false
    }
   },
   "source": [
    "# Filtering Recommendations to only businesses within states that user had been to (based on user reviewed businesses)"
   ]
  },
  {
   "cell_type": "code",
   "execution_count": 133,
   "metadata": {
    "ExecuteTime": {
     "end_time": "2017-02-01T14:31:55.348732",
     "start_time": "2017-02-01T14:31:55.327168"
    },
    "collapsed": false,
    "run_control": {
     "frozen": false,
     "read_only": false
    }
   },
   "outputs": [
    {
     "data": {
      "text/plain": [
       "Index(['lliksv-tglfUz1T3B3vgvA', 'vARjqeIkSNsazHltujiq4Q',\n",
       "       'mQde7KRomOQoUyPGTqeXhA', 'CZBYYCb4xBwNlSIYNc6Eiw',\n",
       "       'nYer89hXYAoddMEKTxw7kA', 'QBHcPkoRsPb68Oq7zRj44A',\n",
       "       'Y_P4hdBnB5TZD3-nsi9-jQ', '84NQRcMC0ldIC86yRw0vpA',\n",
       "       'H_SuH7uLiYahDMbNBB9kog', 'a-VGlZ06IaFTCX0vd0xm-A',\n",
       "       ...\n",
       "       'vKtMsWeAaThimXGo9Ic_Og', '_G5pDGRJL0mhLRgIViW2sA',\n",
       "       'PEyRw3HOWcDnd2XHRLq5RQ', 'UuBZkKnckkRmYt3jFn2gaQ',\n",
       "       '3e9IUI5Dt-ktDKEQNkENVA', 'cSYSUZ3YbwR_RTughnoy5A',\n",
       "       'GQ6bCvYZxdGY6ZQyeZFeVg', 'wyqwO4ZqZyRR6pGk1pTBrA',\n",
       "       'inDYSqSDMyrfBhOZc702rw', 'CJ8IURVsHxTIu2Kzp2Kumw'],\n",
       "      dtype='object', name='business_id', length=7240)"
      ]
     },
     "execution_count": 133,
     "metadata": {},
     "output_type": "execute_result"
    }
   ],
   "source": [
    "recommended_business_names, recommended_business_idx = recommend(Y, predictions, Y.columns[1])\n",
    "recommended_business_names"
   ]
  },
  {
   "cell_type": "code",
   "execution_count": 331,
   "metadata": {
    "ExecuteTime": {
     "end_time": "2017-02-01T16:48:34.252876",
     "start_time": "2017-02-01T16:48:34.073899"
    },
    "collapsed": false
   },
   "outputs": [
    {
     "data": {
      "text/html": [
       "<div>\n",
       "<table border=\"1\" class=\"dataframe\">\n",
       "  <thead>\n",
       "    <tr style=\"text-align: right;\">\n",
       "      <th></th>\n",
       "      <th>attributes</th>\n",
       "      <th>business_id</th>\n",
       "      <th>categories</th>\n",
       "      <th>city</th>\n",
       "      <th>full_address</th>\n",
       "      <th>hours</th>\n",
       "      <th>latitude</th>\n",
       "      <th>longitude</th>\n",
       "      <th>name</th>\n",
       "      <th>neighborhoods</th>\n",
       "      <th>open</th>\n",
       "      <th>review_count</th>\n",
       "      <th>stars</th>\n",
       "      <th>state</th>\n",
       "      <th>type</th>\n",
       "    </tr>\n",
       "    <tr>\n",
       "      <th>business_id</th>\n",
       "      <th></th>\n",
       "      <th></th>\n",
       "      <th></th>\n",
       "      <th></th>\n",
       "      <th></th>\n",
       "      <th></th>\n",
       "      <th></th>\n",
       "      <th></th>\n",
       "      <th></th>\n",
       "      <th></th>\n",
       "      <th></th>\n",
       "      <th></th>\n",
       "      <th></th>\n",
       "      <th></th>\n",
       "      <th></th>\n",
       "    </tr>\n",
       "  </thead>\n",
       "  <tbody>\n",
       "    <tr>\n",
       "      <th>lliksv-tglfUz1T3B3vgvA</th>\n",
       "      <td>{'Caters': False, 'Takes Reservations': True, ...</td>\n",
       "      <td>lliksv-tglfUz1T3B3vgvA</td>\n",
       "      <td>[Thai, Restaurants]</td>\n",
       "      <td>Las Vegas</td>\n",
       "      <td>953 E Sahara Ave\\nSte A5\\nEastside\\nLas Vegas,...</td>\n",
       "      <td>{'Tuesday': {'open': '17:30', 'close': '22:00'...</td>\n",
       "      <td>36.143767</td>\n",
       "      <td>-115.140885</td>\n",
       "      <td>Lotus of Siam</td>\n",
       "      <td>[Eastside, Downtown]</td>\n",
       "      <td>True</td>\n",
       "      <td>3225</td>\n",
       "      <td>4.0</td>\n",
       "      <td>NV</td>\n",
       "      <td>business</td>\n",
       "    </tr>\n",
       "    <tr>\n",
       "      <th>vARjqeIkSNsazHltujiq4Q</th>\n",
       "      <td>{'Has TV': False, 'Takes Reservations': False,...</td>\n",
       "      <td>vARjqeIkSNsazHltujiq4Q</td>\n",
       "      <td>[British, Restaurants]</td>\n",
       "      <td>Mesa</td>\n",
       "      <td>1941 W Guadalupe Rd\\nSte 101\\nMesa, AZ 85202</td>\n",
       "      <td>{'Tuesday': {'open': '11:00', 'close': '00:00'...</td>\n",
       "      <td>33.362700</td>\n",
       "      <td>-111.876051</td>\n",
       "      <td>Cornish Pasty Company</td>\n",
       "      <td>[]</td>\n",
       "      <td>True</td>\n",
       "      <td>884</td>\n",
       "      <td>4.5</td>\n",
       "      <td>AZ</td>\n",
       "      <td>business</td>\n",
       "    </tr>\n",
       "    <tr>\n",
       "      <th>mQde7KRomOQoUyPGTqeXhA</th>\n",
       "      <td>{}</td>\n",
       "      <td>mQde7KRomOQoUyPGTqeXhA</td>\n",
       "      <td>[Animal Shelters, Veterinarians, Pet Stores, P...</td>\n",
       "      <td>Phoenix</td>\n",
       "      <td>1521 W Dobbins Rd\\nPhoenix, AZ 85041</td>\n",
       "      <td>{'Tuesday': {'open': '11:00', 'close': '18:00'...</td>\n",
       "      <td>33.362442</td>\n",
       "      <td>-112.092663</td>\n",
       "      <td>Arizona Humane Society</td>\n",
       "      <td>[]</td>\n",
       "      <td>True</td>\n",
       "      <td>64</td>\n",
       "      <td>4.5</td>\n",
       "      <td>AZ</td>\n",
       "      <td>business</td>\n",
       "    </tr>\n",
       "    <tr>\n",
       "      <th>CZBYYCb4xBwNlSIYNc6Eiw</th>\n",
       "      <td>{'Parking': {'validated': False, 'lot': True, ...</td>\n",
       "      <td>CZBYYCb4xBwNlSIYNc6Eiw</td>\n",
       "      <td>[Active Life, Hiking]</td>\n",
       "      <td>Apache Junction</td>\n",
       "      <td>6109 N. Apache Trail\\nApache Junction, AZ 85219</td>\n",
       "      <td>{}</td>\n",
       "      <td>33.461401</td>\n",
       "      <td>-111.485730</td>\n",
       "      <td>Siphon Draw Trail inc. Flatiron, Superstition ...</td>\n",
       "      <td>[]</td>\n",
       "      <td>True</td>\n",
       "      <td>49</td>\n",
       "      <td>5.0</td>\n",
       "      <td>AZ</td>\n",
       "      <td>business</td>\n",
       "    </tr>\n",
       "    <tr>\n",
       "      <th>nYer89hXYAoddMEKTxw7kA</th>\n",
       "      <td>{'Good for Kids': False}</td>\n",
       "      <td>nYer89hXYAoddMEKTxw7kA</td>\n",
       "      <td>[Yelp Events, Local Flavor]</td>\n",
       "      <td>Phoenix</td>\n",
       "      <td>FilmBar\\n815 N 2nd St\\nPhoenix, AZ 85004</td>\n",
       "      <td>{}</td>\n",
       "      <td>33.457106</td>\n",
       "      <td>-112.071074</td>\n",
       "      <td>Yelp's Secret Cinema: Made In Arizona</td>\n",
       "      <td>[]</td>\n",
       "      <td>True</td>\n",
       "      <td>38</td>\n",
       "      <td>5.0</td>\n",
       "      <td>AZ</td>\n",
       "      <td>business</td>\n",
       "    </tr>\n",
       "    <tr>\n",
       "      <th>QBHcPkoRsPb68Oq7zRj44A</th>\n",
       "      <td>{'Has TV': False, 'Takes Reservations': False,...</td>\n",
       "      <td>QBHcPkoRsPb68Oq7zRj44A</td>\n",
       "      <td>[Food, Desserts, Shaved Ice, Food Trucks]</td>\n",
       "      <td>Henderson</td>\n",
       "      <td>898 S Boulder Hwy\\nHenderson, NV 89015</td>\n",
       "      <td>{'Tuesday': {'open': '12:00', 'close': '20:00'...</td>\n",
       "      <td>36.025234</td>\n",
       "      <td>-114.965485</td>\n",
       "      <td>Frost Bites Shavery</td>\n",
       "      <td>[]</td>\n",
       "      <td>False</td>\n",
       "      <td>72</td>\n",
       "      <td>5.0</td>\n",
       "      <td>NV</td>\n",
       "      <td>business</td>\n",
       "    </tr>\n",
       "    <tr>\n",
       "      <th>Y_P4hdBnB5TZD3-nsi9-jQ</th>\n",
       "      <td>{'Accepts Credit Cards': True}</td>\n",
       "      <td>Y_P4hdBnB5TZD3-nsi9-jQ</td>\n",
       "      <td>[Automotive, Parking]</td>\n",
       "      <td>Phoenix</td>\n",
       "      <td>3150 S 48th st\\nPhoenix, AZ 85040</td>\n",
       "      <td>{'Tuesday': {'open': '00:00', 'close': '00:00'...</td>\n",
       "      <td>33.419917</td>\n",
       "      <td>-111.980971</td>\n",
       "      <td>Blue Sky Airport Parking</td>\n",
       "      <td>[]</td>\n",
       "      <td>True</td>\n",
       "      <td>159</td>\n",
       "      <td>4.5</td>\n",
       "      <td>AZ</td>\n",
       "      <td>business</td>\n",
       "    </tr>\n",
       "    <tr>\n",
       "      <th>84NQRcMC0ldIC86yRw0vpA</th>\n",
       "      <td>{'Wi-Fi': 'free', 'Wheelchair Accessible': Tru...</td>\n",
       "      <td>84NQRcMC0ldIC86yRw0vpA</td>\n",
       "      <td>[Food, Ice Cream &amp; Frozen Yogurt, Gelato, Dess...</td>\n",
       "      <td>Mesa</td>\n",
       "      <td>5251 E Brown Rd\\nSte 104\\nMesa, AZ 85205</td>\n",
       "      <td>{'Tuesday': {'open': '11:00', 'close': '21:30'...</td>\n",
       "      <td>33.437338</td>\n",
       "      <td>-111.717932</td>\n",
       "      <td>Gelato Dolce Vita</td>\n",
       "      <td>[]</td>\n",
       "      <td>True</td>\n",
       "      <td>178</td>\n",
       "      <td>5.0</td>\n",
       "      <td>AZ</td>\n",
       "      <td>business</td>\n",
       "    </tr>\n",
       "    <tr>\n",
       "      <th>H_SuH7uLiYahDMbNBB9kog</th>\n",
       "      <td>{'Has TV': True, 'Takes Reservations': True, '...</td>\n",
       "      <td>H_SuH7uLiYahDMbNBB9kog</td>\n",
       "      <td>[Korean, Asian Fusion, Mexican, Restaurants]</td>\n",
       "      <td>Las Vegas</td>\n",
       "      <td>633 N Decatur Blvd\\nSte H\\nLas Vegas, NV 89107</td>\n",
       "      <td>{'Tuesday': {'open': '11:00', 'close': '20:00'...</td>\n",
       "      <td>36.179939</td>\n",
       "      <td>-115.206417</td>\n",
       "      <td>KoMex Fusion</td>\n",
       "      <td>[]</td>\n",
       "      <td>True</td>\n",
       "      <td>1124</td>\n",
       "      <td>4.5</td>\n",
       "      <td>NV</td>\n",
       "      <td>business</td>\n",
       "    </tr>\n",
       "    <tr>\n",
       "      <th>a-VGlZ06IaFTCX0vd0xm-A</th>\n",
       "      <td>{}</td>\n",
       "      <td>a-VGlZ06IaFTCX0vd0xm-A</td>\n",
       "      <td>[Churches, Religious Organizations]</td>\n",
       "      <td>Henderson</td>\n",
       "      <td>1001 New Beginnings Dr\\nHenderson, NV 89011</td>\n",
       "      <td>{'Tuesday': {'open': '09:00', 'close': '17:00'...</td>\n",
       "      <td>36.080529</td>\n",
       "      <td>-115.038136</td>\n",
       "      <td>Central Church - Henderson</td>\n",
       "      <td>[]</td>\n",
       "      <td>True</td>\n",
       "      <td>76</td>\n",
       "      <td>4.5</td>\n",
       "      <td>NV</td>\n",
       "      <td>business</td>\n",
       "    </tr>\n",
       "    <tr>\n",
       "      <th>_tYT5_N3zCwrpkdfVhqrnw</th>\n",
       "      <td>{'Parking': {'validated': False, 'lot': False,...</td>\n",
       "      <td>_tYT5_N3zCwrpkdfVhqrnw</td>\n",
       "      <td>[Paint &amp; Sip, Art Classes, Arts &amp; Entertainmen...</td>\n",
       "      <td>Scottsdale</td>\n",
       "      <td>4165 N Craftsman Ct\\nScottsdale, AZ 85251</td>\n",
       "      <td>{'Tuesday': {'open': '10:00', 'close': '14:00'...</td>\n",
       "      <td>33.496715</td>\n",
       "      <td>-111.927408</td>\n",
       "      <td>The Brush Bar</td>\n",
       "      <td>[]</td>\n",
       "      <td>True</td>\n",
       "      <td>77</td>\n",
       "      <td>5.0</td>\n",
       "      <td>AZ</td>\n",
       "      <td>business</td>\n",
       "    </tr>\n",
       "    <tr>\n",
       "      <th>qcF6SHcGRML7gihfpNl_zA</th>\n",
       "      <td>{'Wheelchair Accessible': True, 'Parking': {'v...</td>\n",
       "      <td>qcF6SHcGRML7gihfpNl_zA</td>\n",
       "      <td>[Skin Care, Threading Services, Laser Hair Rem...</td>\n",
       "      <td>Las Vegas</td>\n",
       "      <td>2960 S Durango Dr\\nSte 112\\nWestside\\nLas Vega...</td>\n",
       "      <td>{'Tuesday': {'open': '10:00', 'close': '20:00'...</td>\n",
       "      <td>36.135543</td>\n",
       "      <td>-115.277850</td>\n",
       "      <td>Fabulous Eyebrow Threading</td>\n",
       "      <td>[Westside]</td>\n",
       "      <td>True</td>\n",
       "      <td>413</td>\n",
       "      <td>5.0</td>\n",
       "      <td>NV</td>\n",
       "      <td>business</td>\n",
       "    </tr>\n",
       "    <tr>\n",
       "      <th>f8luua75t2Is5iP6nxcXQQ</th>\n",
       "      <td>{'Wi-Fi': 'free', 'Wheelchair Accessible': Tru...</td>\n",
       "      <td>f8luua75t2Is5iP6nxcXQQ</td>\n",
       "      <td>[Food, Ice Cream &amp; Frozen Yogurt]</td>\n",
       "      <td>Goodyear</td>\n",
       "      <td>14175 W Indian School Rd\\nSte A-5\\nGoodyear, A...</td>\n",
       "      <td>{'Tuesday': {'open': '11:00', 'close': '22:00'...</td>\n",
       "      <td>33.484449</td>\n",
       "      <td>-112.364198</td>\n",
       "      <td>Yogurtini</td>\n",
       "      <td>[]</td>\n",
       "      <td>True</td>\n",
       "      <td>53</td>\n",
       "      <td>5.0</td>\n",
       "      <td>AZ</td>\n",
       "      <td>business</td>\n",
       "    </tr>\n",
       "    <tr>\n",
       "      <th>Us-93TD-lG_kVJzDPvmppw</th>\n",
       "      <td>{'Accepts Credit Cards': True}</td>\n",
       "      <td>Us-93TD-lG_kVJzDPvmppw</td>\n",
       "      <td>[Local Services, Carpet Cleaning]</td>\n",
       "      <td>Phoenix</td>\n",
       "      <td>5444 E Camelback Rd\\nPhoenix, AZ 85018</td>\n",
       "      <td>{'Tuesday': {'open': '00:00', 'close': '00:00'...</td>\n",
       "      <td>33.501848</td>\n",
       "      <td>-111.964967</td>\n",
       "      <td>I Clean Carpets</td>\n",
       "      <td>[]</td>\n",
       "      <td>True</td>\n",
       "      <td>250</td>\n",
       "      <td>5.0</td>\n",
       "      <td>AZ</td>\n",
       "      <td>business</td>\n",
       "    </tr>\n",
       "    <tr>\n",
       "      <th>qrjPKkSPzodIfP0kW1mtEw</th>\n",
       "      <td>{'Wi-Fi': 'free', 'Wheelchair Accessible': Tru...</td>\n",
       "      <td>qrjPKkSPzodIfP0kW1mtEw</td>\n",
       "      <td>[Hair Salons, Skin Care, Hair Removal, Beauty ...</td>\n",
       "      <td>Scottsdale</td>\n",
       "      <td>4328 N Wells Fargo Ave\\nSte 2\\nScottsdale, AZ ...</td>\n",
       "      <td>{'Tuesday': {'open': '10:00', 'close': '19:00'...</td>\n",
       "      <td>33.499149</td>\n",
       "      <td>-111.923063</td>\n",
       "      <td>Salon D'Shayn</td>\n",
       "      <td>[]</td>\n",
       "      <td>True</td>\n",
       "      <td>230</td>\n",
       "      <td>4.5</td>\n",
       "      <td>AZ</td>\n",
       "      <td>business</td>\n",
       "    </tr>\n",
       "    <tr>\n",
       "      <th>rcCGdKxMPJk4lCzZZ1i_bA</th>\n",
       "      <td>{'Has TV': False, 'Takes Reservations': False,...</td>\n",
       "      <td>rcCGdKxMPJk4lCzZZ1i_bA</td>\n",
       "      <td>[Argentine, Restaurants]</td>\n",
       "      <td>Pittsburgh</td>\n",
       "      <td>1607 Penn Ave\\nStrip District\\nPittsburgh, PA ...</td>\n",
       "      <td>{'Saturday': {'open': '11:00', 'close': '22:00...</td>\n",
       "      <td>40.449077</td>\n",
       "      <td>-79.987519</td>\n",
       "      <td>Gaucho Parrilla Argentina</td>\n",
       "      <td>[Strip District]</td>\n",
       "      <td>True</td>\n",
       "      <td>893</td>\n",
       "      <td>4.5</td>\n",
       "      <td>PA</td>\n",
       "      <td>business</td>\n",
       "    </tr>\n",
       "    <tr>\n",
       "      <th>L-bwqJzTbT7ODisS4sepJg</th>\n",
       "      <td>{'Wi-Fi': 'free', 'Wheelchair Accessible': Tru...</td>\n",
       "      <td>L-bwqJzTbT7ODisS4sepJg</td>\n",
       "      <td>[Food, Coffee &amp; Tea, Juice Bars &amp; Smoothies, O...</td>\n",
       "      <td>Las Vegas</td>\n",
       "      <td>6145 S Fort Apache Rd\\nSte 506\\nSpring Valley\\...</td>\n",
       "      <td>{'Tuesday': {'open': '07:00', 'close': '20:00'...</td>\n",
       "      <td>36.075943</td>\n",
       "      <td>-115.298020</td>\n",
       "      <td>Pressed For Juice</td>\n",
       "      <td>[Spring Valley]</td>\n",
       "      <td>True</td>\n",
       "      <td>105</td>\n",
       "      <td>4.5</td>\n",
       "      <td>NV</td>\n",
       "      <td>business</td>\n",
       "    </tr>\n",
       "    <tr>\n",
       "      <th>9ylfrWjdX6CltGs_Qcv7Ng</th>\n",
       "      <td>{'Parking': {'validated': False, 'lot': True, ...</td>\n",
       "      <td>9ylfrWjdX6CltGs_Qcv7Ng</td>\n",
       "      <td>[Active Life, Arts &amp; Entertainment, Stadiums &amp;...</td>\n",
       "      <td>Pittsburgh</td>\n",
       "      <td>115 Federal St\\nNorth Side\\nPittsburgh, PA 15272</td>\n",
       "      <td>{}</td>\n",
       "      <td>40.446899</td>\n",
       "      <td>-80.005687</td>\n",
       "      <td>PNC Park</td>\n",
       "      <td>[North Side]</td>\n",
       "      <td>True</td>\n",
       "      <td>403</td>\n",
       "      <td>4.5</td>\n",
       "      <td>PA</td>\n",
       "      <td>business</td>\n",
       "    </tr>\n",
       "    <tr>\n",
       "      <th>O8OkOlkXTRvYWqUQwskPwg</th>\n",
       "      <td>{}</td>\n",
       "      <td>O8OkOlkXTRvYWqUQwskPwg</td>\n",
       "      <td>[Yelp Events, Local Flavor]</td>\n",
       "      <td>Pittsburgh</td>\n",
       "      <td>4141 Fifth Ave\\nOakland\\nPittsburgh, PA 15213</td>\n",
       "      <td>{}</td>\n",
       "      <td>40.445051</td>\n",
       "      <td>-79.956439</td>\n",
       "      <td>Yelp's Swingin' to Summer</td>\n",
       "      <td>[Oakland]</td>\n",
       "      <td>True</td>\n",
       "      <td>44</td>\n",
       "      <td>5.0</td>\n",
       "      <td>PA</td>\n",
       "      <td>business</td>\n",
       "    </tr>\n",
       "    <tr>\n",
       "      <th>pwF_phwjD1ZHsY1xC9H7mA</th>\n",
       "      <td>{'Has TV': False, 'Takes Reservations': False,...</td>\n",
       "      <td>pwF_phwjD1ZHsY1xC9H7mA</td>\n",
       "      <td>[Food, Coffee &amp; Tea, Vegan, Restaurants]</td>\n",
       "      <td>Las Vegas</td>\n",
       "      <td>3130 E Sunset Rd\\nSte A\\nSoutheast\\nLas Vegas,...</td>\n",
       "      <td>{'Tuesday': {'open': '06:00', 'close': '21:00'...</td>\n",
       "      <td>36.071946</td>\n",
       "      <td>-115.106902</td>\n",
       "      <td>Sunrise Coffee</td>\n",
       "      <td>[Southeast]</td>\n",
       "      <td>True</td>\n",
       "      <td>780</td>\n",
       "      <td>4.5</td>\n",
       "      <td>NV</td>\n",
       "      <td>business</td>\n",
       "    </tr>\n",
       "    <tr>\n",
       "      <th>IwFpnIKo8xCVvoUCwluoXA</th>\n",
       "      <td>{'Wheelchair Accessible': True, 'Music': {'vid...</td>\n",
       "      <td>IwFpnIKo8xCVvoUCwluoXA</td>\n",
       "      <td>[Arts &amp; Entertainment, Performing Arts]</td>\n",
       "      <td>Las Vegas</td>\n",
       "      <td>Harrah's Las Vegas Hotel Casino\\n3475 Las Vega...</td>\n",
       "      <td>{'Saturday': {'open': '13:00', 'close': '15:00...</td>\n",
       "      <td>36.119310</td>\n",
       "      <td>-115.171770</td>\n",
       "      <td>The Mac King Comedy Magic Show</td>\n",
       "      <td>[The Strip]</td>\n",
       "      <td>True</td>\n",
       "      <td>390</td>\n",
       "      <td>4.5</td>\n",
       "      <td>NV</td>\n",
       "      <td>business</td>\n",
       "    </tr>\n",
       "    <tr>\n",
       "      <th>zWS7hGTbydfkmubhS8qKRQ</th>\n",
       "      <td>{'Smoking': 'no', 'Has TV': False, 'Wheelchair...</td>\n",
       "      <td>zWS7hGTbydfkmubhS8qKRQ</td>\n",
       "      <td>[Arts &amp; Entertainment, Performing Arts, Nightl...</td>\n",
       "      <td>Las Vegas</td>\n",
       "      <td>Mirage Hotel and Casino\\n3400 Las Vegas Blvd S...</td>\n",
       "      <td>{'Saturday': {'open': '19:30', 'close': '21:00...</td>\n",
       "      <td>36.121143</td>\n",
       "      <td>-115.174134</td>\n",
       "      <td>Boyz II Men</td>\n",
       "      <td>[The Strip]</td>\n",
       "      <td>True</td>\n",
       "      <td>150</td>\n",
       "      <td>5.0</td>\n",
       "      <td>NV</td>\n",
       "      <td>business</td>\n",
       "    </tr>\n",
       "    <tr>\n",
       "      <th>4bnLfKXorJ9HVmt7Oc8lcw</th>\n",
       "      <td>{'Good for Kids': False}</td>\n",
       "      <td>4bnLfKXorJ9HVmt7Oc8lcw</td>\n",
       "      <td>[Local Flavor]</td>\n",
       "      <td>Phoenix</td>\n",
       "      <td>La Grande Orange Bake Shop\\n4410 N 40th St\\nPh...</td>\n",
       "      <td>{}</td>\n",
       "      <td>33.502139</td>\n",
       "      <td>-111.995748</td>\n",
       "      <td>CMYE: Yelp's Sweet Bake-In at La Grande Orange...</td>\n",
       "      <td>[]</td>\n",
       "      <td>True</td>\n",
       "      <td>34</td>\n",
       "      <td>5.0</td>\n",
       "      <td>AZ</td>\n",
       "      <td>business</td>\n",
       "    </tr>\n",
       "    <tr>\n",
       "      <th>VqU4Pl4URJjjgFS1UhseMg</th>\n",
       "      <td>{'Has TV': False, 'Takes Reservations': False,...</td>\n",
       "      <td>VqU4Pl4URJjjgFS1UhseMg</td>\n",
       "      <td>[Food, Tea Rooms, Desserts, Bubble Tea]</td>\n",
       "      <td>Las Vegas</td>\n",
       "      <td>7380 S Rainbow Blvd\\nSte 101\\nSouthwest\\nLas V...</td>\n",
       "      <td>{'Tuesday': {'open': '11:00', 'close': '22:00'...</td>\n",
       "      <td>36.054195</td>\n",
       "      <td>-115.242443</td>\n",
       "      <td>Brew Tea Bar</td>\n",
       "      <td>[Southwest]</td>\n",
       "      <td>True</td>\n",
       "      <td>579</td>\n",
       "      <td>5.0</td>\n",
       "      <td>NV</td>\n",
       "      <td>business</td>\n",
       "    </tr>\n",
       "    <tr>\n",
       "      <th>cA9cTalUXibyWZZYjh-kiQ</th>\n",
       "      <td>{'Accepts Credit Cards': True, 'By Appointment...</td>\n",
       "      <td>cA9cTalUXibyWZZYjh-kiQ</td>\n",
       "      <td>[Local Services, Damage Restoration, Air Duct ...</td>\n",
       "      <td>Las Vegas</td>\n",
       "      <td>8985 S Durango Dr\\nSouthwest\\nLas Vegas, NV 89113</td>\n",
       "      <td>{'Tuesday': {'open': '08:00', 'close': '18:00'...</td>\n",
       "      <td>36.025675</td>\n",
       "      <td>-115.279201</td>\n",
       "      <td>Carpet Monkey Of Las Vegas</td>\n",
       "      <td>[Southwest]</td>\n",
       "      <td>True</td>\n",
       "      <td>273</td>\n",
       "      <td>5.0</td>\n",
       "      <td>NV</td>\n",
       "      <td>business</td>\n",
       "    </tr>\n",
       "    <tr>\n",
       "      <th>02CV16hndzI60LuI2kDkOA</th>\n",
       "      <td>{'Accepts Credit Cards': True, 'By Appointment...</td>\n",
       "      <td>02CV16hndzI60LuI2kDkOA</td>\n",
       "      <td>[Movers, Local Services, Home Services, Self S...</td>\n",
       "      <td>Phoenix</td>\n",
       "      <td>2330 N 31st Ave\\nPhoenix, AZ 85009</td>\n",
       "      <td>{'Tuesday': {'open': '08:30', 'close': '18:30'...</td>\n",
       "      <td>33.474558</td>\n",
       "      <td>-112.126114</td>\n",
       "      <td>Camelback Moving</td>\n",
       "      <td>[]</td>\n",
       "      <td>True</td>\n",
       "      <td>311</td>\n",
       "      <td>4.5</td>\n",
       "      <td>AZ</td>\n",
       "      <td>business</td>\n",
       "    </tr>\n",
       "    <tr>\n",
       "      <th>1hY0Q3BYDq6CJDQay2xRQA</th>\n",
       "      <td>{'Parking': {'validated': False, 'lot': True, ...</td>\n",
       "      <td>1hY0Q3BYDq6CJDQay2xRQA</td>\n",
       "      <td>[Health Markets, Food, Shopping, Vitamins &amp; Su...</td>\n",
       "      <td>Las Vegas</td>\n",
       "      <td>9680 S Eastern Ave\\nSte 120\\nSoutheast\\nLas Ve...</td>\n",
       "      <td>{'Tuesday': {'open': '09:00', 'close': '21:00'...</td>\n",
       "      <td>36.013838</td>\n",
       "      <td>-115.117968</td>\n",
       "      <td>Vegas Discount Nutrition</td>\n",
       "      <td>[Southeast]</td>\n",
       "      <td>True</td>\n",
       "      <td>223</td>\n",
       "      <td>5.0</td>\n",
       "      <td>NV</td>\n",
       "      <td>business</td>\n",
       "    </tr>\n",
       "    <tr>\n",
       "      <th>8clKtz2RxFRDLnzZwMgA4w</th>\n",
       "      <td>{}</td>\n",
       "      <td>8clKtz2RxFRDLnzZwMgA4w</td>\n",
       "      <td>[Pet Services, Pet Boarding/Pet Sitting, Pets]</td>\n",
       "      <td>Las Vegas</td>\n",
       "      <td>5175 S Valley View Blvd\\nLas Vegas, NV 89118</td>\n",
       "      <td>{'Tuesday': {'open': '07:00', 'close': '19:00'...</td>\n",
       "      <td>36.095841</td>\n",
       "      <td>-115.190338</td>\n",
       "      <td>Camp Bow Wow Las Vegas</td>\n",
       "      <td>[]</td>\n",
       "      <td>True</td>\n",
       "      <td>127</td>\n",
       "      <td>4.5</td>\n",
       "      <td>NV</td>\n",
       "      <td>business</td>\n",
       "    </tr>\n",
       "    <tr>\n",
       "      <th>kOY6CQ4VijKg8PnCUsTXgg</th>\n",
       "      <td>{'Wheelchair Accessible': True, 'By Appointmen...</td>\n",
       "      <td>kOY6CQ4VijKg8PnCUsTXgg</td>\n",
       "      <td>[Food, Beer, Wine &amp; Spirits]</td>\n",
       "      <td>Pittsburgh</td>\n",
       "      <td>300 39th St\\nLawrenceville\\nPittsburgh, PA 15201</td>\n",
       "      <td>{'Saturday': {'open': '12:00', 'close': '21:00...</td>\n",
       "      <td>40.464971</td>\n",
       "      <td>-79.961066</td>\n",
       "      <td>Arsenal Cider House &amp; Wine Cellar</td>\n",
       "      <td>[Lawrenceville]</td>\n",
       "      <td>True</td>\n",
       "      <td>147</td>\n",
       "      <td>5.0</td>\n",
       "      <td>PA</td>\n",
       "      <td>business</td>\n",
       "    </tr>\n",
       "    <tr>\n",
       "      <th>tR8-0OWg4UbwE16s6w6Y2A</th>\n",
       "      <td>{'Has TV': False, 'Good For Dancing': False, '...</td>\n",
       "      <td>tR8-0OWg4UbwE16s6w6Y2A</td>\n",
       "      <td>[Arts &amp; Entertainment, Nightlife, Music Venues]</td>\n",
       "      <td>Las Vegas</td>\n",
       "      <td>3570 Las Vegas Blvd S\\nSte1\\nThe Strip\\nLas Ve...</td>\n",
       "      <td>{}</td>\n",
       "      <td>36.117680</td>\n",
       "      <td>-115.176857</td>\n",
       "      <td>Elton John-The Million Dollar Piano</td>\n",
       "      <td>[The Strip]</td>\n",
       "      <td>True</td>\n",
       "      <td>93</td>\n",
       "      <td>4.5</td>\n",
       "      <td>NV</td>\n",
       "      <td>business</td>\n",
       "    </tr>\n",
       "    <tr>\n",
       "      <th>...</th>\n",
       "      <td>...</td>\n",
       "      <td>...</td>\n",
       "      <td>...</td>\n",
       "      <td>...</td>\n",
       "      <td>...</td>\n",
       "      <td>...</td>\n",
       "      <td>...</td>\n",
       "      <td>...</td>\n",
       "      <td>...</td>\n",
       "      <td>...</td>\n",
       "      <td>...</td>\n",
       "      <td>...</td>\n",
       "      <td>...</td>\n",
       "      <td>...</td>\n",
       "      <td>...</td>\n",
       "    </tr>\n",
       "    <tr>\n",
       "      <th>ipNveHQxPlRmgSe9CSt9dw</th>\n",
       "      <td>{'Has TV': True, 'Takes Reservations': False, ...</td>\n",
       "      <td>ipNveHQxPlRmgSe9CSt9dw</td>\n",
       "      <td>[Arts &amp; Entertainment, Music Venues, Bars, Cas...</td>\n",
       "      <td>Fort McDowell</td>\n",
       "      <td>10424 N Fort Mcdowell Rd\\nFort McDowell, AZ 85264</td>\n",
       "      <td>{}</td>\n",
       "      <td>33.582272</td>\n",
       "      <td>-111.680414</td>\n",
       "      <td>Fort Mcdowell Casino</td>\n",
       "      <td>[]</td>\n",
       "      <td>True</td>\n",
       "      <td>85</td>\n",
       "      <td>2.5</td>\n",
       "      <td>AZ</td>\n",
       "      <td>business</td>\n",
       "    </tr>\n",
       "    <tr>\n",
       "      <th>Kma0nPwuWfqelROxRIwLRw</th>\n",
       "      <td>{'Has TV': True, 'Takes Reservations': False, ...</td>\n",
       "      <td>Kma0nPwuWfqelROxRIwLRw</td>\n",
       "      <td>[Mexican, Restaurants]</td>\n",
       "      <td>Las Vegas</td>\n",
       "      <td>5630 Centennial Center Blvd\\nNorthwest\\nLas Ve...</td>\n",
       "      <td>{'Tuesday': {'open': '11:00', 'close': '21:00'...</td>\n",
       "      <td>36.264599</td>\n",
       "      <td>-115.256412</td>\n",
       "      <td>On the Border Mexican Grill &amp; Cantina</td>\n",
       "      <td>[Northwest, Centennial]</td>\n",
       "      <td>True</td>\n",
       "      <td>168</td>\n",
       "      <td>2.5</td>\n",
       "      <td>NV</td>\n",
       "      <td>business</td>\n",
       "    </tr>\n",
       "    <tr>\n",
       "      <th>TmTB0Nel-U_zOr04OTUreA</th>\n",
       "      <td>{'Accepts Credit Cards': True}</td>\n",
       "      <td>TmTB0Nel-U_zOr04OTUreA</td>\n",
       "      <td>[Local Services, Shipping Centers, Post Office...</td>\n",
       "      <td>Las Vegas</td>\n",
       "      <td>455 E Pebble Rd\\nSoutheast\\nLas Vegas, NV 89123</td>\n",
       "      <td>{'Tuesday': {'open': '08:30', 'close': '17:00'...</td>\n",
       "      <td>36.027059</td>\n",
       "      <td>-115.153343</td>\n",
       "      <td>US Post Office</td>\n",
       "      <td>[Southeast]</td>\n",
       "      <td>True</td>\n",
       "      <td>75</td>\n",
       "      <td>1.5</td>\n",
       "      <td>NV</td>\n",
       "      <td>business</td>\n",
       "    </tr>\n",
       "    <tr>\n",
       "      <th>58G5uy89YPe7sIJa7Ze99g</th>\n",
       "      <td>{}</td>\n",
       "      <td>58G5uy89YPe7sIJa7Ze99g</td>\n",
       "      <td>[Hotels &amp; Travel, Car Rental]</td>\n",
       "      <td>Las Vegas</td>\n",
       "      <td>7135 Gilespie St\\nSoutheast\\nLas Vegas, NV 89119</td>\n",
       "      <td>{'Tuesday': {'open': '00:00', 'close': '00:00'...</td>\n",
       "      <td>36.060061</td>\n",
       "      <td>-115.165044</td>\n",
       "      <td>Budget Car Rental</td>\n",
       "      <td>[Southeast]</td>\n",
       "      <td>True</td>\n",
       "      <td>295</td>\n",
       "      <td>1.5</td>\n",
       "      <td>NV</td>\n",
       "      <td>business</td>\n",
       "    </tr>\n",
       "    <tr>\n",
       "      <th>RUz4d1D83xRRXcc-ffkM5g</th>\n",
       "      <td>{'Has TV': False, 'Takes Reservations': False,...</td>\n",
       "      <td>RUz4d1D83xRRXcc-ffkM5g</td>\n",
       "      <td>[Buffets, Restaurants]</td>\n",
       "      <td>Las Vegas</td>\n",
       "      <td>Eastside Cannery\\n5255 Boulder Hwy\\nLas Vegas,...</td>\n",
       "      <td>{'Tuesday': {'open': '16:00', 'close': '20:00'...</td>\n",
       "      <td>36.107901</td>\n",
       "      <td>-115.056372</td>\n",
       "      <td>Cannery Row Buffet</td>\n",
       "      <td>[]</td>\n",
       "      <td>True</td>\n",
       "      <td>46</td>\n",
       "      <td>2.0</td>\n",
       "      <td>NV</td>\n",
       "      <td>business</td>\n",
       "    </tr>\n",
       "    <tr>\n",
       "      <th>bdsKG7MQIMmZ73lgOaTZ0A</th>\n",
       "      <td>{'Has TV': True, 'Takes Reservations': False, ...</td>\n",
       "      <td>bdsKG7MQIMmZ73lgOaTZ0A</td>\n",
       "      <td>[Asian Fusion, Restaurants]</td>\n",
       "      <td>Las Vegas</td>\n",
       "      <td>3545 Las Vegas Blvd S\\nThe Strip\\nLas Vegas, N...</td>\n",
       "      <td>{'Tuesday': {'open': '12:00', 'close': '00:00'...</td>\n",
       "      <td>36.117748</td>\n",
       "      <td>-115.170475</td>\n",
       "      <td>FAME</td>\n",
       "      <td>[The Strip]</td>\n",
       "      <td>False</td>\n",
       "      <td>93</td>\n",
       "      <td>2.0</td>\n",
       "      <td>NV</td>\n",
       "      <td>business</td>\n",
       "    </tr>\n",
       "    <tr>\n",
       "      <th>EF5vR_UUavzPjtgMYFCg5Q</th>\n",
       "      <td>{'Has TV': True, 'Takes Reservations': True, '...</td>\n",
       "      <td>EF5vR_UUavzPjtgMYFCg5Q</td>\n",
       "      <td>[Mexican, Restaurants]</td>\n",
       "      <td>Las Vegas</td>\n",
       "      <td>Flamingo Hotel\\n3555 Las Vegas Blvd S\\nThe Str...</td>\n",
       "      <td>{'Tuesday': {'open': '08:00', 'close': '02:00'...</td>\n",
       "      <td>36.127615</td>\n",
       "      <td>-115.170364</td>\n",
       "      <td>Carlos' N' Charlie's</td>\n",
       "      <td>[The Strip]</td>\n",
       "      <td>True</td>\n",
       "      <td>272</td>\n",
       "      <td>2.0</td>\n",
       "      <td>NV</td>\n",
       "      <td>business</td>\n",
       "    </tr>\n",
       "    <tr>\n",
       "      <th>qdCbbg7FyD6mzf0L_g64uA</th>\n",
       "      <td>{'Has TV': False, 'Takes Reservations': False,...</td>\n",
       "      <td>qdCbbg7FyD6mzf0L_g64uA</td>\n",
       "      <td>[Burgers, Fast Food, Chicken Wings, Restaurants]</td>\n",
       "      <td>Las Vegas</td>\n",
       "      <td>7925 S Rainbow Blvd\\nSouthwest\\nLas Vegas, NV ...</td>\n",
       "      <td>{}</td>\n",
       "      <td>36.044874</td>\n",
       "      <td>-115.243900</td>\n",
       "      <td>Church's Chicken</td>\n",
       "      <td>[Southwest]</td>\n",
       "      <td>True</td>\n",
       "      <td>80</td>\n",
       "      <td>2.0</td>\n",
       "      <td>NV</td>\n",
       "      <td>business</td>\n",
       "    </tr>\n",
       "    <tr>\n",
       "      <th>67-DcR8Npwuc9lRph194cw</th>\n",
       "      <td>{'Has TV': False, 'Takes Reservations': False,...</td>\n",
       "      <td>67-DcR8Npwuc9lRph194cw</td>\n",
       "      <td>[Arts &amp; Entertainment, Restaurants, Festivals,...</td>\n",
       "      <td>Las Vegas</td>\n",
       "      <td>628 W Craig Rd\\nLas Vegas, NV 89032</td>\n",
       "      <td>{}</td>\n",
       "      <td>36.241289</td>\n",
       "      <td>-115.149580</td>\n",
       "      <td>San Gennaro Feast</td>\n",
       "      <td>[]</td>\n",
       "      <td>True</td>\n",
       "      <td>85</td>\n",
       "      <td>2.5</td>\n",
       "      <td>NV</td>\n",
       "      <td>business</td>\n",
       "    </tr>\n",
       "    <tr>\n",
       "      <th>26ecLqpDHrB3socZGfDuhQ</th>\n",
       "      <td>{}</td>\n",
       "      <td>26ecLqpDHrB3socZGfDuhQ</td>\n",
       "      <td>[Hotels &amp; Travel, Travel Services, Tours, Tran...</td>\n",
       "      <td>Las Vegas</td>\n",
       "      <td>1550 S Industrial Rd\\nDowntown\\nLas Vegas, NV ...</td>\n",
       "      <td>{'Tuesday': {'open': '00:00', 'close': '00:00'...</td>\n",
       "      <td>36.154658</td>\n",
       "      <td>-115.159219</td>\n",
       "      <td>Showtime Tours</td>\n",
       "      <td>[Downtown]</td>\n",
       "      <td>True</td>\n",
       "      <td>358</td>\n",
       "      <td>1.5</td>\n",
       "      <td>NV</td>\n",
       "      <td>business</td>\n",
       "    </tr>\n",
       "    <tr>\n",
       "      <th>aEol06ruyQJZYlDMPJGfUg</th>\n",
       "      <td>{'Wheelchair Accessible': True, 'Price Range':...</td>\n",
       "      <td>aEol06ruyQJZYlDMPJGfUg</td>\n",
       "      <td>[Bakeries, Food]</td>\n",
       "      <td>Las Vegas</td>\n",
       "      <td>Downtown Summerlin\\n2010 Festival Plaza, 150\\n...</td>\n",
       "      <td>{'Tuesday': {'open': '10:00', 'close': '21:00'...</td>\n",
       "      <td>36.154862</td>\n",
       "      <td>-115.331429</td>\n",
       "      <td>Wonderland Bakery</td>\n",
       "      <td>[South Summerlin]</td>\n",
       "      <td>True</td>\n",
       "      <td>75</td>\n",
       "      <td>2.5</td>\n",
       "      <td>NV</td>\n",
       "      <td>business</td>\n",
       "    </tr>\n",
       "    <tr>\n",
       "      <th>lRALdho4l9cpiw9WdGkV1A</th>\n",
       "      <td>{}</td>\n",
       "      <td>lRALdho4l9cpiw9WdGkV1A</td>\n",
       "      <td>[Hotels &amp; Travel, Airlines, Transportation]</td>\n",
       "      <td>Mesa</td>\n",
       "      <td>5835 S Sossaman Rd\\nMesa, AZ 85212</td>\n",
       "      <td>{}</td>\n",
       "      <td>33.309792</td>\n",
       "      <td>-111.669200</td>\n",
       "      <td>Allegiant</td>\n",
       "      <td>[]</td>\n",
       "      <td>True</td>\n",
       "      <td>166</td>\n",
       "      <td>1.5</td>\n",
       "      <td>AZ</td>\n",
       "      <td>business</td>\n",
       "    </tr>\n",
       "    <tr>\n",
       "      <th>K5kU2IN6mXvMo-Cx0oQFZg</th>\n",
       "      <td>{'Has TV': True, 'Takes Reservations': False, ...</td>\n",
       "      <td>K5kU2IN6mXvMo-Cx0oQFZg</td>\n",
       "      <td>[Mexican, Restaurants]</td>\n",
       "      <td>Glendale</td>\n",
       "      <td>6770 N Sunrise Blvd\\nSte G109\\nGlendale, AZ 85303</td>\n",
       "      <td>{'Tuesday': {'open': '11:00', 'close': '02:00'...</td>\n",
       "      <td>33.533158</td>\n",
       "      <td>-112.260384</td>\n",
       "      <td>Calico Jack's</td>\n",
       "      <td>[]</td>\n",
       "      <td>True</td>\n",
       "      <td>174</td>\n",
       "      <td>1.5</td>\n",
       "      <td>AZ</td>\n",
       "      <td>business</td>\n",
       "    </tr>\n",
       "    <tr>\n",
       "      <th>6sqAj_mXmYkZ3UKsyRGGHQ</th>\n",
       "      <td>{'Has TV': True, 'Takes Reservations': True, '...</td>\n",
       "      <td>6sqAj_mXmYkZ3UKsyRGGHQ</td>\n",
       "      <td>[Hotels &amp; Travel, Arts &amp; Entertainment, Casino...</td>\n",
       "      <td>Las Vegas</td>\n",
       "      <td>18 E Fremont St\\nDowntown\\nLas Vegas, NV 89101</td>\n",
       "      <td>{}</td>\n",
       "      <td>36.172075</td>\n",
       "      <td>-115.145689</td>\n",
       "      <td>Las Vegas Club Hotel &amp; Casino</td>\n",
       "      <td>[Downtown]</td>\n",
       "      <td>False</td>\n",
       "      <td>98</td>\n",
       "      <td>2.0</td>\n",
       "      <td>NV</td>\n",
       "      <td>business</td>\n",
       "    </tr>\n",
       "    <tr>\n",
       "      <th>GhQQsSApIRfUmIcqzmSaGA</th>\n",
       "      <td>{}</td>\n",
       "      <td>GhQQsSApIRfUmIcqzmSaGA</td>\n",
       "      <td>[Hotels &amp; Travel, Airlines, Transportation]</td>\n",
       "      <td>Las Vegas</td>\n",
       "      <td>5757 Wayne Newton Blvd\\nSoutheast\\nLas Vegas, ...</td>\n",
       "      <td>{}</td>\n",
       "      <td>36.085729</td>\n",
       "      <td>-115.153140</td>\n",
       "      <td>Spirit Airlines</td>\n",
       "      <td>[Southeast]</td>\n",
       "      <td>True</td>\n",
       "      <td>739</td>\n",
       "      <td>1.5</td>\n",
       "      <td>NV</td>\n",
       "      <td>business</td>\n",
       "    </tr>\n",
       "    <tr>\n",
       "      <th>gnafBL9EZE1kn0xD7Yf3_w</th>\n",
       "      <td>{'Good for Kids': False}</td>\n",
       "      <td>gnafBL9EZE1kn0xD7Yf3_w</td>\n",
       "      <td>[Arts &amp; Entertainment, Performing Arts]</td>\n",
       "      <td>Las Vegas</td>\n",
       "      <td>Treasure Island\\n3300 Las Vegas Blvd S\\nThe St...</td>\n",
       "      <td>{}</td>\n",
       "      <td>36.124823</td>\n",
       "      <td>-115.171971</td>\n",
       "      <td>Sirens of Treasure Island</td>\n",
       "      <td>[The Strip]</td>\n",
       "      <td>False</td>\n",
       "      <td>143</td>\n",
       "      <td>2.0</td>\n",
       "      <td>NV</td>\n",
       "      <td>business</td>\n",
       "    </tr>\n",
       "    <tr>\n",
       "      <th>XoitWJUjHcdBl9GqHTsdjw</th>\n",
       "      <td>{'Has TV': True, 'Takes Reservations': True, '...</td>\n",
       "      <td>XoitWJUjHcdBl9GqHTsdjw</td>\n",
       "      <td>[American (Traditional), Southern, Restaurants]</td>\n",
       "      <td>Las Vegas</td>\n",
       "      <td>6593 Las Vegas Blvd S\\nSoutheast\\nLas Vegas, N...</td>\n",
       "      <td>{}</td>\n",
       "      <td>36.067199</td>\n",
       "      <td>-115.172232</td>\n",
       "      <td>Ranch House Kitchen</td>\n",
       "      <td>[Southeast]</td>\n",
       "      <td>False</td>\n",
       "      <td>69</td>\n",
       "      <td>2.0</td>\n",
       "      <td>NV</td>\n",
       "      <td>business</td>\n",
       "    </tr>\n",
       "    <tr>\n",
       "      <th>8z-v_pn00BcnrWs9bacYUQ</th>\n",
       "      <td>{'Wi-Fi': 'paid', 'Price Range': 2, 'Good for ...</td>\n",
       "      <td>8z-v_pn00BcnrWs9bacYUQ</td>\n",
       "      <td>[Hotels &amp; Travel, Arts &amp; Entertainment, Casino...</td>\n",
       "      <td>Las Vegas</td>\n",
       "      <td>The Quad Las Vegas Resort &amp; Casino\\n3535 S Las...</td>\n",
       "      <td>{'Tuesday': {'open': '00:00', 'close': '00:00'...</td>\n",
       "      <td>36.123843</td>\n",
       "      <td>-115.170220</td>\n",
       "      <td>The Quad Las Vegas Resort &amp; Casino</td>\n",
       "      <td>[The Strip]</td>\n",
       "      <td>False</td>\n",
       "      <td>609</td>\n",
       "      <td>2.0</td>\n",
       "      <td>NV</td>\n",
       "      <td>business</td>\n",
       "    </tr>\n",
       "    <tr>\n",
       "      <th>0InQd9vuhRc98OksC3Ks8Q</th>\n",
       "      <td>{'Has TV': False, 'Takes Reservations': False,...</td>\n",
       "      <td>0InQd9vuhRc98OksC3Ks8Q</td>\n",
       "      <td>[American (Traditional), Buffets, Restaurants]</td>\n",
       "      <td>Las Vegas</td>\n",
       "      <td>Excalibur Hotel Casino\\n3850 Las Vegas Blvd S\\...</td>\n",
       "      <td>{'Tuesday': {'open': '07:00', 'close': '22:00'...</td>\n",
       "      <td>36.098878</td>\n",
       "      <td>-115.175641</td>\n",
       "      <td>Buffet Roundtable</td>\n",
       "      <td>[The Strip]</td>\n",
       "      <td>False</td>\n",
       "      <td>190</td>\n",
       "      <td>2.0</td>\n",
       "      <td>NV</td>\n",
       "      <td>business</td>\n",
       "    </tr>\n",
       "    <tr>\n",
       "      <th>KVYSUfN89b-nih-_9HhF6g</th>\n",
       "      <td>{'Takes Reservations': True, 'Attire': 'casual...</td>\n",
       "      <td>KVYSUfN89b-nih-_9HhF6g</td>\n",
       "      <td>[Bars, American (New), Nightlife, Dance Clubs,...</td>\n",
       "      <td>Glendale</td>\n",
       "      <td>9425 W Coyotes Blvd\\nGlendale, AZ 85305</td>\n",
       "      <td>{'Tuesday': {'open': '11:00', 'close': '02:00'...</td>\n",
       "      <td>33.533049</td>\n",
       "      <td>-112.262036</td>\n",
       "      <td>McFadden's Restaurant &amp; Saloon</td>\n",
       "      <td>[]</td>\n",
       "      <td>True</td>\n",
       "      <td>311</td>\n",
       "      <td>1.5</td>\n",
       "      <td>AZ</td>\n",
       "      <td>business</td>\n",
       "    </tr>\n",
       "    <tr>\n",
       "      <th>vKtMsWeAaThimXGo9Ic_Og</th>\n",
       "      <td>{'Accepts Credit Cards': True}</td>\n",
       "      <td>vKtMsWeAaThimXGo9Ic_Og</td>\n",
       "      <td>[Professional Services, Home Services, Home Au...</td>\n",
       "      <td>Charlotte</td>\n",
       "      <td>316 E Morehead St\\nSouth End\\nCharlotte, NC 28203</td>\n",
       "      <td>{'Tuesday': {'open': '08:00', 'close': '19:00'...</td>\n",
       "      <td>35.218730</td>\n",
       "      <td>-80.849720</td>\n",
       "      <td>Time Warner Cable</td>\n",
       "      <td>[South End, Dilworth]</td>\n",
       "      <td>True</td>\n",
       "      <td>91</td>\n",
       "      <td>1.5</td>\n",
       "      <td>NC</td>\n",
       "      <td>business</td>\n",
       "    </tr>\n",
       "    <tr>\n",
       "      <th>_G5pDGRJL0mhLRgIViW2sA</th>\n",
       "      <td>{'Wheelchair Accessible': True, 'Good for Kids...</td>\n",
       "      <td>_G5pDGRJL0mhLRgIViW2sA</td>\n",
       "      <td>[Arts &amp; Entertainment, Performing Arts]</td>\n",
       "      <td>Las Vegas</td>\n",
       "      <td>Luxor Las Vegas\\n3900 Las Vegas Blvd S\\nThe St...</td>\n",
       "      <td>{'Saturday': {'open': '12:00', 'close': '22:00...</td>\n",
       "      <td>36.095580</td>\n",
       "      <td>-115.175818</td>\n",
       "      <td>Cirque du Soleil - Criss Angel Believe</td>\n",
       "      <td>[The Strip]</td>\n",
       "      <td>False</td>\n",
       "      <td>833</td>\n",
       "      <td>1.5</td>\n",
       "      <td>NV</td>\n",
       "      <td>business</td>\n",
       "    </tr>\n",
       "    <tr>\n",
       "      <th>PEyRw3HOWcDnd2XHRLq5RQ</th>\n",
       "      <td>{'Good for Kids': False}</td>\n",
       "      <td>PEyRw3HOWcDnd2XHRLq5RQ</td>\n",
       "      <td>[Arts &amp; Entertainment, Festivals]</td>\n",
       "      <td>Glendale</td>\n",
       "      <td>5812 W Glendale Ave\\nGlendale, AZ 85301</td>\n",
       "      <td>{}</td>\n",
       "      <td>33.539228</td>\n",
       "      <td>-112.184329</td>\n",
       "      <td>Glendale's Best Street Food Festival</td>\n",
       "      <td>[]</td>\n",
       "      <td>True</td>\n",
       "      <td>49</td>\n",
       "      <td>1.5</td>\n",
       "      <td>AZ</td>\n",
       "      <td>business</td>\n",
       "    </tr>\n",
       "    <tr>\n",
       "      <th>UuBZkKnckkRmYt3jFn2gaQ</th>\n",
       "      <td>{'Has TV': False, 'Takes Reservations': False,...</td>\n",
       "      <td>UuBZkKnckkRmYt3jFn2gaQ</td>\n",
       "      <td>[Casinos, Arts &amp; Entertainment, American (New)...</td>\n",
       "      <td>Las Vegas</td>\n",
       "      <td>Circus Circus Las Vegas\\n2800 Las Vegas Blvd S...</td>\n",
       "      <td>{'Tuesday': {'open': '16:30', 'close': '21:00'...</td>\n",
       "      <td>36.137667</td>\n",
       "      <td>-115.164659</td>\n",
       "      <td>Circus Buffet</td>\n",
       "      <td>[The Strip]</td>\n",
       "      <td>True</td>\n",
       "      <td>272</td>\n",
       "      <td>2.0</td>\n",
       "      <td>NV</td>\n",
       "      <td>business</td>\n",
       "    </tr>\n",
       "    <tr>\n",
       "      <th>3e9IUI5Dt-ktDKEQNkENVA</th>\n",
       "      <td>{'Wheelchair Accessible': True, 'By Appointmen...</td>\n",
       "      <td>3e9IUI5Dt-ktDKEQNkENVA</td>\n",
       "      <td>[Food, Department Stores, Grocery, Fashion, Sh...</td>\n",
       "      <td>Phoenix</td>\n",
       "      <td>3721 E Thomas Rd\\nPhoenix, AZ 85018</td>\n",
       "      <td>{}</td>\n",
       "      <td>33.479007</td>\n",
       "      <td>-112.000813</td>\n",
       "      <td>Walmart Supercenter</td>\n",
       "      <td>[]</td>\n",
       "      <td>True</td>\n",
       "      <td>100</td>\n",
       "      <td>1.5</td>\n",
       "      <td>AZ</td>\n",
       "      <td>business</td>\n",
       "    </tr>\n",
       "    <tr>\n",
       "      <th>cSYSUZ3YbwR_RTughnoy5A</th>\n",
       "      <td>{'Parking': {'validated': False, 'lot': True, ...</td>\n",
       "      <td>cSYSUZ3YbwR_RTughnoy5A</td>\n",
       "      <td>[Shopping Centers, Shopping]</td>\n",
       "      <td>Phoenix</td>\n",
       "      <td>9617 N Metro Pkwy W\\nPhoenix, AZ 85051</td>\n",
       "      <td>{'Tuesday': {'open': '10:00', 'close': '21:00'...</td>\n",
       "      <td>33.576494</td>\n",
       "      <td>-112.120861</td>\n",
       "      <td>Metrocenter Mall</td>\n",
       "      <td>[]</td>\n",
       "      <td>True</td>\n",
       "      <td>125</td>\n",
       "      <td>2.0</td>\n",
       "      <td>AZ</td>\n",
       "      <td>business</td>\n",
       "    </tr>\n",
       "    <tr>\n",
       "      <th>GQ6bCvYZxdGY6ZQyeZFeVg</th>\n",
       "      <td>{'Accepts Credit Cards': True, 'By Appointment...</td>\n",
       "      <td>GQ6bCvYZxdGY6ZQyeZFeVg</td>\n",
       "      <td>[Professional Services, Television Service Pro...</td>\n",
       "      <td>Las Vegas</td>\n",
       "      <td>1700 Vegas Dr\\nLas Vegas, NV 89106</td>\n",
       "      <td>{'Tuesday': {'open': '07:00', 'close': '21:00'...</td>\n",
       "      <td>36.189293</td>\n",
       "      <td>-115.162965</td>\n",
       "      <td>Cox Communications</td>\n",
       "      <td>[]</td>\n",
       "      <td>True</td>\n",
       "      <td>253</td>\n",
       "      <td>1.5</td>\n",
       "      <td>NV</td>\n",
       "      <td>business</td>\n",
       "    </tr>\n",
       "    <tr>\n",
       "      <th>wyqwO4ZqZyRR6pGk1pTBrA</th>\n",
       "      <td>{}</td>\n",
       "      <td>wyqwO4ZqZyRR6pGk1pTBrA</td>\n",
       "      <td>[Hotels &amp; Travel, Car Rental]</td>\n",
       "      <td>Las Vegas</td>\n",
       "      <td>7135 Gilespie St\\nSoutheast\\nLas Vegas, NV 89119</td>\n",
       "      <td>{'Tuesday': {'open': '00:00', 'close': '00:00'...</td>\n",
       "      <td>36.060061</td>\n",
       "      <td>-115.165044</td>\n",
       "      <td>Payless Car Rental</td>\n",
       "      <td>[Southeast]</td>\n",
       "      <td>True</td>\n",
       "      <td>474</td>\n",
       "      <td>1.5</td>\n",
       "      <td>NV</td>\n",
       "      <td>business</td>\n",
       "    </tr>\n",
       "    <tr>\n",
       "      <th>inDYSqSDMyrfBhOZc702rw</th>\n",
       "      <td>{'Accepts Credit Cards': True, 'By Appointment...</td>\n",
       "      <td>inDYSqSDMyrfBhOZc702rw</td>\n",
       "      <td>[Professional Services, Television Service Pro...</td>\n",
       "      <td>Phoenix</td>\n",
       "      <td>Phoenix, AZ 85027</td>\n",
       "      <td>{'Tuesday': {'open': '00:00', 'close': '00:00'...</td>\n",
       "      <td>33.678238</td>\n",
       "      <td>-112.101291</td>\n",
       "      <td>Cox Communications</td>\n",
       "      <td>[]</td>\n",
       "      <td>True</td>\n",
       "      <td>517</td>\n",
       "      <td>1.5</td>\n",
       "      <td>AZ</td>\n",
       "      <td>business</td>\n",
       "    </tr>\n",
       "    <tr>\n",
       "      <th>CJ8IURVsHxTIu2Kzp2Kumw</th>\n",
       "      <td>{'Caters': False, 'Has TV': False, 'Takes Rese...</td>\n",
       "      <td>CJ8IURVsHxTIu2Kzp2Kumw</td>\n",
       "      <td>[Buffets, Restaurants]</td>\n",
       "      <td>Las Vegas</td>\n",
       "      <td>Imperial Palace Hotel &amp; Casino\\n3535 Las Vegas...</td>\n",
       "      <td>{'Tuesday': {'open': '07:00', 'close': '21:00'...</td>\n",
       "      <td>36.118346</td>\n",
       "      <td>-115.170129</td>\n",
       "      <td>Emperor's Buffet</td>\n",
       "      <td>[The Strip]</td>\n",
       "      <td>False</td>\n",
       "      <td>57</td>\n",
       "      <td>1.5</td>\n",
       "      <td>NV</td>\n",
       "      <td>business</td>\n",
       "    </tr>\n",
       "  </tbody>\n",
       "</table>\n",
       "<p>7240 rows × 15 columns</p>\n",
       "</div>"
      ],
      "text/plain": [
       "                                                               attributes  \\\n",
       "business_id                                                                 \n",
       "lliksv-tglfUz1T3B3vgvA  {'Caters': False, 'Takes Reservations': True, ...   \n",
       "vARjqeIkSNsazHltujiq4Q  {'Has TV': False, 'Takes Reservations': False,...   \n",
       "mQde7KRomOQoUyPGTqeXhA                                                 {}   \n",
       "CZBYYCb4xBwNlSIYNc6Eiw  {'Parking': {'validated': False, 'lot': True, ...   \n",
       "nYer89hXYAoddMEKTxw7kA                           {'Good for Kids': False}   \n",
       "QBHcPkoRsPb68Oq7zRj44A  {'Has TV': False, 'Takes Reservations': False,...   \n",
       "Y_P4hdBnB5TZD3-nsi9-jQ                     {'Accepts Credit Cards': True}   \n",
       "84NQRcMC0ldIC86yRw0vpA  {'Wi-Fi': 'free', 'Wheelchair Accessible': Tru...   \n",
       "H_SuH7uLiYahDMbNBB9kog  {'Has TV': True, 'Takes Reservations': True, '...   \n",
       "a-VGlZ06IaFTCX0vd0xm-A                                                 {}   \n",
       "_tYT5_N3zCwrpkdfVhqrnw  {'Parking': {'validated': False, 'lot': False,...   \n",
       "qcF6SHcGRML7gihfpNl_zA  {'Wheelchair Accessible': True, 'Parking': {'v...   \n",
       "f8luua75t2Is5iP6nxcXQQ  {'Wi-Fi': 'free', 'Wheelchair Accessible': Tru...   \n",
       "Us-93TD-lG_kVJzDPvmppw                     {'Accepts Credit Cards': True}   \n",
       "qrjPKkSPzodIfP0kW1mtEw  {'Wi-Fi': 'free', 'Wheelchair Accessible': Tru...   \n",
       "rcCGdKxMPJk4lCzZZ1i_bA  {'Has TV': False, 'Takes Reservations': False,...   \n",
       "L-bwqJzTbT7ODisS4sepJg  {'Wi-Fi': 'free', 'Wheelchair Accessible': Tru...   \n",
       "9ylfrWjdX6CltGs_Qcv7Ng  {'Parking': {'validated': False, 'lot': True, ...   \n",
       "O8OkOlkXTRvYWqUQwskPwg                                                 {}   \n",
       "pwF_phwjD1ZHsY1xC9H7mA  {'Has TV': False, 'Takes Reservations': False,...   \n",
       "IwFpnIKo8xCVvoUCwluoXA  {'Wheelchair Accessible': True, 'Music': {'vid...   \n",
       "zWS7hGTbydfkmubhS8qKRQ  {'Smoking': 'no', 'Has TV': False, 'Wheelchair...   \n",
       "4bnLfKXorJ9HVmt7Oc8lcw                           {'Good for Kids': False}   \n",
       "VqU4Pl4URJjjgFS1UhseMg  {'Has TV': False, 'Takes Reservations': False,...   \n",
       "cA9cTalUXibyWZZYjh-kiQ  {'Accepts Credit Cards': True, 'By Appointment...   \n",
       "02CV16hndzI60LuI2kDkOA  {'Accepts Credit Cards': True, 'By Appointment...   \n",
       "1hY0Q3BYDq6CJDQay2xRQA  {'Parking': {'validated': False, 'lot': True, ...   \n",
       "8clKtz2RxFRDLnzZwMgA4w                                                 {}   \n",
       "kOY6CQ4VijKg8PnCUsTXgg  {'Wheelchair Accessible': True, 'By Appointmen...   \n",
       "tR8-0OWg4UbwE16s6w6Y2A  {'Has TV': False, 'Good For Dancing': False, '...   \n",
       "...                                                                   ...   \n",
       "ipNveHQxPlRmgSe9CSt9dw  {'Has TV': True, 'Takes Reservations': False, ...   \n",
       "Kma0nPwuWfqelROxRIwLRw  {'Has TV': True, 'Takes Reservations': False, ...   \n",
       "TmTB0Nel-U_zOr04OTUreA                     {'Accepts Credit Cards': True}   \n",
       "58G5uy89YPe7sIJa7Ze99g                                                 {}   \n",
       "RUz4d1D83xRRXcc-ffkM5g  {'Has TV': False, 'Takes Reservations': False,...   \n",
       "bdsKG7MQIMmZ73lgOaTZ0A  {'Has TV': True, 'Takes Reservations': False, ...   \n",
       "EF5vR_UUavzPjtgMYFCg5Q  {'Has TV': True, 'Takes Reservations': True, '...   \n",
       "qdCbbg7FyD6mzf0L_g64uA  {'Has TV': False, 'Takes Reservations': False,...   \n",
       "67-DcR8Npwuc9lRph194cw  {'Has TV': False, 'Takes Reservations': False,...   \n",
       "26ecLqpDHrB3socZGfDuhQ                                                 {}   \n",
       "aEol06ruyQJZYlDMPJGfUg  {'Wheelchair Accessible': True, 'Price Range':...   \n",
       "lRALdho4l9cpiw9WdGkV1A                                                 {}   \n",
       "K5kU2IN6mXvMo-Cx0oQFZg  {'Has TV': True, 'Takes Reservations': False, ...   \n",
       "6sqAj_mXmYkZ3UKsyRGGHQ  {'Has TV': True, 'Takes Reservations': True, '...   \n",
       "GhQQsSApIRfUmIcqzmSaGA                                                 {}   \n",
       "gnafBL9EZE1kn0xD7Yf3_w                           {'Good for Kids': False}   \n",
       "XoitWJUjHcdBl9GqHTsdjw  {'Has TV': True, 'Takes Reservations': True, '...   \n",
       "8z-v_pn00BcnrWs9bacYUQ  {'Wi-Fi': 'paid', 'Price Range': 2, 'Good for ...   \n",
       "0InQd9vuhRc98OksC3Ks8Q  {'Has TV': False, 'Takes Reservations': False,...   \n",
       "KVYSUfN89b-nih-_9HhF6g  {'Takes Reservations': True, 'Attire': 'casual...   \n",
       "vKtMsWeAaThimXGo9Ic_Og                     {'Accepts Credit Cards': True}   \n",
       "_G5pDGRJL0mhLRgIViW2sA  {'Wheelchair Accessible': True, 'Good for Kids...   \n",
       "PEyRw3HOWcDnd2XHRLq5RQ                           {'Good for Kids': False}   \n",
       "UuBZkKnckkRmYt3jFn2gaQ  {'Has TV': False, 'Takes Reservations': False,...   \n",
       "3e9IUI5Dt-ktDKEQNkENVA  {'Wheelchair Accessible': True, 'By Appointmen...   \n",
       "cSYSUZ3YbwR_RTughnoy5A  {'Parking': {'validated': False, 'lot': True, ...   \n",
       "GQ6bCvYZxdGY6ZQyeZFeVg  {'Accepts Credit Cards': True, 'By Appointment...   \n",
       "wyqwO4ZqZyRR6pGk1pTBrA                                                 {}   \n",
       "inDYSqSDMyrfBhOZc702rw  {'Accepts Credit Cards': True, 'By Appointment...   \n",
       "CJ8IURVsHxTIu2Kzp2Kumw  {'Caters': False, 'Has TV': False, 'Takes Rese...   \n",
       "\n",
       "                                   business_id  \\\n",
       "business_id                                      \n",
       "lliksv-tglfUz1T3B3vgvA  lliksv-tglfUz1T3B3vgvA   \n",
       "vARjqeIkSNsazHltujiq4Q  vARjqeIkSNsazHltujiq4Q   \n",
       "mQde7KRomOQoUyPGTqeXhA  mQde7KRomOQoUyPGTqeXhA   \n",
       "CZBYYCb4xBwNlSIYNc6Eiw  CZBYYCb4xBwNlSIYNc6Eiw   \n",
       "nYer89hXYAoddMEKTxw7kA  nYer89hXYAoddMEKTxw7kA   \n",
       "QBHcPkoRsPb68Oq7zRj44A  QBHcPkoRsPb68Oq7zRj44A   \n",
       "Y_P4hdBnB5TZD3-nsi9-jQ  Y_P4hdBnB5TZD3-nsi9-jQ   \n",
       "84NQRcMC0ldIC86yRw0vpA  84NQRcMC0ldIC86yRw0vpA   \n",
       "H_SuH7uLiYahDMbNBB9kog  H_SuH7uLiYahDMbNBB9kog   \n",
       "a-VGlZ06IaFTCX0vd0xm-A  a-VGlZ06IaFTCX0vd0xm-A   \n",
       "_tYT5_N3zCwrpkdfVhqrnw  _tYT5_N3zCwrpkdfVhqrnw   \n",
       "qcF6SHcGRML7gihfpNl_zA  qcF6SHcGRML7gihfpNl_zA   \n",
       "f8luua75t2Is5iP6nxcXQQ  f8luua75t2Is5iP6nxcXQQ   \n",
       "Us-93TD-lG_kVJzDPvmppw  Us-93TD-lG_kVJzDPvmppw   \n",
       "qrjPKkSPzodIfP0kW1mtEw  qrjPKkSPzodIfP0kW1mtEw   \n",
       "rcCGdKxMPJk4lCzZZ1i_bA  rcCGdKxMPJk4lCzZZ1i_bA   \n",
       "L-bwqJzTbT7ODisS4sepJg  L-bwqJzTbT7ODisS4sepJg   \n",
       "9ylfrWjdX6CltGs_Qcv7Ng  9ylfrWjdX6CltGs_Qcv7Ng   \n",
       "O8OkOlkXTRvYWqUQwskPwg  O8OkOlkXTRvYWqUQwskPwg   \n",
       "pwF_phwjD1ZHsY1xC9H7mA  pwF_phwjD1ZHsY1xC9H7mA   \n",
       "IwFpnIKo8xCVvoUCwluoXA  IwFpnIKo8xCVvoUCwluoXA   \n",
       "zWS7hGTbydfkmubhS8qKRQ  zWS7hGTbydfkmubhS8qKRQ   \n",
       "4bnLfKXorJ9HVmt7Oc8lcw  4bnLfKXorJ9HVmt7Oc8lcw   \n",
       "VqU4Pl4URJjjgFS1UhseMg  VqU4Pl4URJjjgFS1UhseMg   \n",
       "cA9cTalUXibyWZZYjh-kiQ  cA9cTalUXibyWZZYjh-kiQ   \n",
       "02CV16hndzI60LuI2kDkOA  02CV16hndzI60LuI2kDkOA   \n",
       "1hY0Q3BYDq6CJDQay2xRQA  1hY0Q3BYDq6CJDQay2xRQA   \n",
       "8clKtz2RxFRDLnzZwMgA4w  8clKtz2RxFRDLnzZwMgA4w   \n",
       "kOY6CQ4VijKg8PnCUsTXgg  kOY6CQ4VijKg8PnCUsTXgg   \n",
       "tR8-0OWg4UbwE16s6w6Y2A  tR8-0OWg4UbwE16s6w6Y2A   \n",
       "...                                        ...   \n",
       "ipNveHQxPlRmgSe9CSt9dw  ipNveHQxPlRmgSe9CSt9dw   \n",
       "Kma0nPwuWfqelROxRIwLRw  Kma0nPwuWfqelROxRIwLRw   \n",
       "TmTB0Nel-U_zOr04OTUreA  TmTB0Nel-U_zOr04OTUreA   \n",
       "58G5uy89YPe7sIJa7Ze99g  58G5uy89YPe7sIJa7Ze99g   \n",
       "RUz4d1D83xRRXcc-ffkM5g  RUz4d1D83xRRXcc-ffkM5g   \n",
       "bdsKG7MQIMmZ73lgOaTZ0A  bdsKG7MQIMmZ73lgOaTZ0A   \n",
       "EF5vR_UUavzPjtgMYFCg5Q  EF5vR_UUavzPjtgMYFCg5Q   \n",
       "qdCbbg7FyD6mzf0L_g64uA  qdCbbg7FyD6mzf0L_g64uA   \n",
       "67-DcR8Npwuc9lRph194cw  67-DcR8Npwuc9lRph194cw   \n",
       "26ecLqpDHrB3socZGfDuhQ  26ecLqpDHrB3socZGfDuhQ   \n",
       "aEol06ruyQJZYlDMPJGfUg  aEol06ruyQJZYlDMPJGfUg   \n",
       "lRALdho4l9cpiw9WdGkV1A  lRALdho4l9cpiw9WdGkV1A   \n",
       "K5kU2IN6mXvMo-Cx0oQFZg  K5kU2IN6mXvMo-Cx0oQFZg   \n",
       "6sqAj_mXmYkZ3UKsyRGGHQ  6sqAj_mXmYkZ3UKsyRGGHQ   \n",
       "GhQQsSApIRfUmIcqzmSaGA  GhQQsSApIRfUmIcqzmSaGA   \n",
       "gnafBL9EZE1kn0xD7Yf3_w  gnafBL9EZE1kn0xD7Yf3_w   \n",
       "XoitWJUjHcdBl9GqHTsdjw  XoitWJUjHcdBl9GqHTsdjw   \n",
       "8z-v_pn00BcnrWs9bacYUQ  8z-v_pn00BcnrWs9bacYUQ   \n",
       "0InQd9vuhRc98OksC3Ks8Q  0InQd9vuhRc98OksC3Ks8Q   \n",
       "KVYSUfN89b-nih-_9HhF6g  KVYSUfN89b-nih-_9HhF6g   \n",
       "vKtMsWeAaThimXGo9Ic_Og  vKtMsWeAaThimXGo9Ic_Og   \n",
       "_G5pDGRJL0mhLRgIViW2sA  _G5pDGRJL0mhLRgIViW2sA   \n",
       "PEyRw3HOWcDnd2XHRLq5RQ  PEyRw3HOWcDnd2XHRLq5RQ   \n",
       "UuBZkKnckkRmYt3jFn2gaQ  UuBZkKnckkRmYt3jFn2gaQ   \n",
       "3e9IUI5Dt-ktDKEQNkENVA  3e9IUI5Dt-ktDKEQNkENVA   \n",
       "cSYSUZ3YbwR_RTughnoy5A  cSYSUZ3YbwR_RTughnoy5A   \n",
       "GQ6bCvYZxdGY6ZQyeZFeVg  GQ6bCvYZxdGY6ZQyeZFeVg   \n",
       "wyqwO4ZqZyRR6pGk1pTBrA  wyqwO4ZqZyRR6pGk1pTBrA   \n",
       "inDYSqSDMyrfBhOZc702rw  inDYSqSDMyrfBhOZc702rw   \n",
       "CJ8IURVsHxTIu2Kzp2Kumw  CJ8IURVsHxTIu2Kzp2Kumw   \n",
       "\n",
       "                                                               categories  \\\n",
       "business_id                                                                 \n",
       "lliksv-tglfUz1T3B3vgvA                                [Thai, Restaurants]   \n",
       "vARjqeIkSNsazHltujiq4Q                             [British, Restaurants]   \n",
       "mQde7KRomOQoUyPGTqeXhA  [Animal Shelters, Veterinarians, Pet Stores, P...   \n",
       "CZBYYCb4xBwNlSIYNc6Eiw                              [Active Life, Hiking]   \n",
       "nYer89hXYAoddMEKTxw7kA                        [Yelp Events, Local Flavor]   \n",
       "QBHcPkoRsPb68Oq7zRj44A          [Food, Desserts, Shaved Ice, Food Trucks]   \n",
       "Y_P4hdBnB5TZD3-nsi9-jQ                              [Automotive, Parking]   \n",
       "84NQRcMC0ldIC86yRw0vpA  [Food, Ice Cream & Frozen Yogurt, Gelato, Dess...   \n",
       "H_SuH7uLiYahDMbNBB9kog       [Korean, Asian Fusion, Mexican, Restaurants]   \n",
       "a-VGlZ06IaFTCX0vd0xm-A                [Churches, Religious Organizations]   \n",
       "_tYT5_N3zCwrpkdfVhqrnw  [Paint & Sip, Art Classes, Arts & Entertainmen...   \n",
       "qcF6SHcGRML7gihfpNl_zA  [Skin Care, Threading Services, Laser Hair Rem...   \n",
       "f8luua75t2Is5iP6nxcXQQ                  [Food, Ice Cream & Frozen Yogurt]   \n",
       "Us-93TD-lG_kVJzDPvmppw                  [Local Services, Carpet Cleaning]   \n",
       "qrjPKkSPzodIfP0kW1mtEw  [Hair Salons, Skin Care, Hair Removal, Beauty ...   \n",
       "rcCGdKxMPJk4lCzZZ1i_bA                           [Argentine, Restaurants]   \n",
       "L-bwqJzTbT7ODisS4sepJg  [Food, Coffee & Tea, Juice Bars & Smoothies, O...   \n",
       "9ylfrWjdX6CltGs_Qcv7Ng  [Active Life, Arts & Entertainment, Stadiums &...   \n",
       "O8OkOlkXTRvYWqUQwskPwg                        [Yelp Events, Local Flavor]   \n",
       "pwF_phwjD1ZHsY1xC9H7mA           [Food, Coffee & Tea, Vegan, Restaurants]   \n",
       "IwFpnIKo8xCVvoUCwluoXA            [Arts & Entertainment, Performing Arts]   \n",
       "zWS7hGTbydfkmubhS8qKRQ  [Arts & Entertainment, Performing Arts, Nightl...   \n",
       "4bnLfKXorJ9HVmt7Oc8lcw                                     [Local Flavor]   \n",
       "VqU4Pl4URJjjgFS1UhseMg            [Food, Tea Rooms, Desserts, Bubble Tea]   \n",
       "cA9cTalUXibyWZZYjh-kiQ  [Local Services, Damage Restoration, Air Duct ...   \n",
       "02CV16hndzI60LuI2kDkOA  [Movers, Local Services, Home Services, Self S...   \n",
       "1hY0Q3BYDq6CJDQay2xRQA  [Health Markets, Food, Shopping, Vitamins & Su...   \n",
       "8clKtz2RxFRDLnzZwMgA4w     [Pet Services, Pet Boarding/Pet Sitting, Pets]   \n",
       "kOY6CQ4VijKg8PnCUsTXgg                       [Food, Beer, Wine & Spirits]   \n",
       "tR8-0OWg4UbwE16s6w6Y2A    [Arts & Entertainment, Nightlife, Music Venues]   \n",
       "...                                                                   ...   \n",
       "ipNveHQxPlRmgSe9CSt9dw  [Arts & Entertainment, Music Venues, Bars, Cas...   \n",
       "Kma0nPwuWfqelROxRIwLRw                             [Mexican, Restaurants]   \n",
       "TmTB0Nel-U_zOr04OTUreA  [Local Services, Shipping Centers, Post Office...   \n",
       "58G5uy89YPe7sIJa7Ze99g                      [Hotels & Travel, Car Rental]   \n",
       "RUz4d1D83xRRXcc-ffkM5g                             [Buffets, Restaurants]   \n",
       "bdsKG7MQIMmZ73lgOaTZ0A                        [Asian Fusion, Restaurants]   \n",
       "EF5vR_UUavzPjtgMYFCg5Q                             [Mexican, Restaurants]   \n",
       "qdCbbg7FyD6mzf0L_g64uA   [Burgers, Fast Food, Chicken Wings, Restaurants]   \n",
       "67-DcR8Npwuc9lRph194cw  [Arts & Entertainment, Restaurants, Festivals,...   \n",
       "26ecLqpDHrB3socZGfDuhQ  [Hotels & Travel, Travel Services, Tours, Tran...   \n",
       "aEol06ruyQJZYlDMPJGfUg                                   [Bakeries, Food]   \n",
       "lRALdho4l9cpiw9WdGkV1A        [Hotels & Travel, Airlines, Transportation]   \n",
       "K5kU2IN6mXvMo-Cx0oQFZg                             [Mexican, Restaurants]   \n",
       "6sqAj_mXmYkZ3UKsyRGGHQ  [Hotels & Travel, Arts & Entertainment, Casino...   \n",
       "GhQQsSApIRfUmIcqzmSaGA        [Hotels & Travel, Airlines, Transportation]   \n",
       "gnafBL9EZE1kn0xD7Yf3_w            [Arts & Entertainment, Performing Arts]   \n",
       "XoitWJUjHcdBl9GqHTsdjw    [American (Traditional), Southern, Restaurants]   \n",
       "8z-v_pn00BcnrWs9bacYUQ  [Hotels & Travel, Arts & Entertainment, Casino...   \n",
       "0InQd9vuhRc98OksC3Ks8Q     [American (Traditional), Buffets, Restaurants]   \n",
       "KVYSUfN89b-nih-_9HhF6g  [Bars, American (New), Nightlife, Dance Clubs,...   \n",
       "vKtMsWeAaThimXGo9Ic_Og  [Professional Services, Home Services, Home Au...   \n",
       "_G5pDGRJL0mhLRgIViW2sA            [Arts & Entertainment, Performing Arts]   \n",
       "PEyRw3HOWcDnd2XHRLq5RQ                  [Arts & Entertainment, Festivals]   \n",
       "UuBZkKnckkRmYt3jFn2gaQ  [Casinos, Arts & Entertainment, American (New)...   \n",
       "3e9IUI5Dt-ktDKEQNkENVA  [Food, Department Stores, Grocery, Fashion, Sh...   \n",
       "cSYSUZ3YbwR_RTughnoy5A                       [Shopping Centers, Shopping]   \n",
       "GQ6bCvYZxdGY6ZQyeZFeVg  [Professional Services, Television Service Pro...   \n",
       "wyqwO4ZqZyRR6pGk1pTBrA                      [Hotels & Travel, Car Rental]   \n",
       "inDYSqSDMyrfBhOZc702rw  [Professional Services, Television Service Pro...   \n",
       "CJ8IURVsHxTIu2Kzp2Kumw                             [Buffets, Restaurants]   \n",
       "\n",
       "                                   city  \\\n",
       "business_id                               \n",
       "lliksv-tglfUz1T3B3vgvA        Las Vegas   \n",
       "vARjqeIkSNsazHltujiq4Q             Mesa   \n",
       "mQde7KRomOQoUyPGTqeXhA          Phoenix   \n",
       "CZBYYCb4xBwNlSIYNc6Eiw  Apache Junction   \n",
       "nYer89hXYAoddMEKTxw7kA          Phoenix   \n",
       "QBHcPkoRsPb68Oq7zRj44A        Henderson   \n",
       "Y_P4hdBnB5TZD3-nsi9-jQ          Phoenix   \n",
       "84NQRcMC0ldIC86yRw0vpA             Mesa   \n",
       "H_SuH7uLiYahDMbNBB9kog        Las Vegas   \n",
       "a-VGlZ06IaFTCX0vd0xm-A        Henderson   \n",
       "_tYT5_N3zCwrpkdfVhqrnw       Scottsdale   \n",
       "qcF6SHcGRML7gihfpNl_zA        Las Vegas   \n",
       "f8luua75t2Is5iP6nxcXQQ         Goodyear   \n",
       "Us-93TD-lG_kVJzDPvmppw          Phoenix   \n",
       "qrjPKkSPzodIfP0kW1mtEw       Scottsdale   \n",
       "rcCGdKxMPJk4lCzZZ1i_bA       Pittsburgh   \n",
       "L-bwqJzTbT7ODisS4sepJg        Las Vegas   \n",
       "9ylfrWjdX6CltGs_Qcv7Ng       Pittsburgh   \n",
       "O8OkOlkXTRvYWqUQwskPwg       Pittsburgh   \n",
       "pwF_phwjD1ZHsY1xC9H7mA        Las Vegas   \n",
       "IwFpnIKo8xCVvoUCwluoXA        Las Vegas   \n",
       "zWS7hGTbydfkmubhS8qKRQ        Las Vegas   \n",
       "4bnLfKXorJ9HVmt7Oc8lcw          Phoenix   \n",
       "VqU4Pl4URJjjgFS1UhseMg        Las Vegas   \n",
       "cA9cTalUXibyWZZYjh-kiQ        Las Vegas   \n",
       "02CV16hndzI60LuI2kDkOA          Phoenix   \n",
       "1hY0Q3BYDq6CJDQay2xRQA        Las Vegas   \n",
       "8clKtz2RxFRDLnzZwMgA4w        Las Vegas   \n",
       "kOY6CQ4VijKg8PnCUsTXgg       Pittsburgh   \n",
       "tR8-0OWg4UbwE16s6w6Y2A        Las Vegas   \n",
       "...                                 ...   \n",
       "ipNveHQxPlRmgSe9CSt9dw    Fort McDowell   \n",
       "Kma0nPwuWfqelROxRIwLRw        Las Vegas   \n",
       "TmTB0Nel-U_zOr04OTUreA        Las Vegas   \n",
       "58G5uy89YPe7sIJa7Ze99g        Las Vegas   \n",
       "RUz4d1D83xRRXcc-ffkM5g        Las Vegas   \n",
       "bdsKG7MQIMmZ73lgOaTZ0A        Las Vegas   \n",
       "EF5vR_UUavzPjtgMYFCg5Q        Las Vegas   \n",
       "qdCbbg7FyD6mzf0L_g64uA        Las Vegas   \n",
       "67-DcR8Npwuc9lRph194cw        Las Vegas   \n",
       "26ecLqpDHrB3socZGfDuhQ        Las Vegas   \n",
       "aEol06ruyQJZYlDMPJGfUg        Las Vegas   \n",
       "lRALdho4l9cpiw9WdGkV1A             Mesa   \n",
       "K5kU2IN6mXvMo-Cx0oQFZg         Glendale   \n",
       "6sqAj_mXmYkZ3UKsyRGGHQ        Las Vegas   \n",
       "GhQQsSApIRfUmIcqzmSaGA        Las Vegas   \n",
       "gnafBL9EZE1kn0xD7Yf3_w        Las Vegas   \n",
       "XoitWJUjHcdBl9GqHTsdjw        Las Vegas   \n",
       "8z-v_pn00BcnrWs9bacYUQ        Las Vegas   \n",
       "0InQd9vuhRc98OksC3Ks8Q        Las Vegas   \n",
       "KVYSUfN89b-nih-_9HhF6g         Glendale   \n",
       "vKtMsWeAaThimXGo9Ic_Og        Charlotte   \n",
       "_G5pDGRJL0mhLRgIViW2sA        Las Vegas   \n",
       "PEyRw3HOWcDnd2XHRLq5RQ         Glendale   \n",
       "UuBZkKnckkRmYt3jFn2gaQ        Las Vegas   \n",
       "3e9IUI5Dt-ktDKEQNkENVA          Phoenix   \n",
       "cSYSUZ3YbwR_RTughnoy5A          Phoenix   \n",
       "GQ6bCvYZxdGY6ZQyeZFeVg        Las Vegas   \n",
       "wyqwO4ZqZyRR6pGk1pTBrA        Las Vegas   \n",
       "inDYSqSDMyrfBhOZc702rw          Phoenix   \n",
       "CJ8IURVsHxTIu2Kzp2Kumw        Las Vegas   \n",
       "\n",
       "                                                             full_address  \\\n",
       "business_id                                                                 \n",
       "lliksv-tglfUz1T3B3vgvA  953 E Sahara Ave\\nSte A5\\nEastside\\nLas Vegas,...   \n",
       "vARjqeIkSNsazHltujiq4Q       1941 W Guadalupe Rd\\nSte 101\\nMesa, AZ 85202   \n",
       "mQde7KRomOQoUyPGTqeXhA               1521 W Dobbins Rd\\nPhoenix, AZ 85041   \n",
       "CZBYYCb4xBwNlSIYNc6Eiw    6109 N. Apache Trail\\nApache Junction, AZ 85219   \n",
       "nYer89hXYAoddMEKTxw7kA           FilmBar\\n815 N 2nd St\\nPhoenix, AZ 85004   \n",
       "QBHcPkoRsPb68Oq7zRj44A             898 S Boulder Hwy\\nHenderson, NV 89015   \n",
       "Y_P4hdBnB5TZD3-nsi9-jQ                  3150 S 48th st\\nPhoenix, AZ 85040   \n",
       "84NQRcMC0ldIC86yRw0vpA           5251 E Brown Rd\\nSte 104\\nMesa, AZ 85205   \n",
       "H_SuH7uLiYahDMbNBB9kog     633 N Decatur Blvd\\nSte H\\nLas Vegas, NV 89107   \n",
       "a-VGlZ06IaFTCX0vd0xm-A        1001 New Beginnings Dr\\nHenderson, NV 89011   \n",
       "_tYT5_N3zCwrpkdfVhqrnw          4165 N Craftsman Ct\\nScottsdale, AZ 85251   \n",
       "qcF6SHcGRML7gihfpNl_zA  2960 S Durango Dr\\nSte 112\\nWestside\\nLas Vega...   \n",
       "f8luua75t2Is5iP6nxcXQQ  14175 W Indian School Rd\\nSte A-5\\nGoodyear, A...   \n",
       "Us-93TD-lG_kVJzDPvmppw             5444 E Camelback Rd\\nPhoenix, AZ 85018   \n",
       "qrjPKkSPzodIfP0kW1mtEw  4328 N Wells Fargo Ave\\nSte 2\\nScottsdale, AZ ...   \n",
       "rcCGdKxMPJk4lCzZZ1i_bA  1607 Penn Ave\\nStrip District\\nPittsburgh, PA ...   \n",
       "L-bwqJzTbT7ODisS4sepJg  6145 S Fort Apache Rd\\nSte 506\\nSpring Valley\\...   \n",
       "9ylfrWjdX6CltGs_Qcv7Ng   115 Federal St\\nNorth Side\\nPittsburgh, PA 15272   \n",
       "O8OkOlkXTRvYWqUQwskPwg      4141 Fifth Ave\\nOakland\\nPittsburgh, PA 15213   \n",
       "pwF_phwjD1ZHsY1xC9H7mA  3130 E Sunset Rd\\nSte A\\nSoutheast\\nLas Vegas,...   \n",
       "IwFpnIKo8xCVvoUCwluoXA  Harrah's Las Vegas Hotel Casino\\n3475 Las Vega...   \n",
       "zWS7hGTbydfkmubhS8qKRQ  Mirage Hotel and Casino\\n3400 Las Vegas Blvd S...   \n",
       "4bnLfKXorJ9HVmt7Oc8lcw  La Grande Orange Bake Shop\\n4410 N 40th St\\nPh...   \n",
       "VqU4Pl4URJjjgFS1UhseMg  7380 S Rainbow Blvd\\nSte 101\\nSouthwest\\nLas V...   \n",
       "cA9cTalUXibyWZZYjh-kiQ  8985 S Durango Dr\\nSouthwest\\nLas Vegas, NV 89113   \n",
       "02CV16hndzI60LuI2kDkOA                 2330 N 31st Ave\\nPhoenix, AZ 85009   \n",
       "1hY0Q3BYDq6CJDQay2xRQA  9680 S Eastern Ave\\nSte 120\\nSoutheast\\nLas Ve...   \n",
       "8clKtz2RxFRDLnzZwMgA4w       5175 S Valley View Blvd\\nLas Vegas, NV 89118   \n",
       "kOY6CQ4VijKg8PnCUsTXgg   300 39th St\\nLawrenceville\\nPittsburgh, PA 15201   \n",
       "tR8-0OWg4UbwE16s6w6Y2A  3570 Las Vegas Blvd S\\nSte1\\nThe Strip\\nLas Ve...   \n",
       "...                                                                   ...   \n",
       "ipNveHQxPlRmgSe9CSt9dw  10424 N Fort Mcdowell Rd\\nFort McDowell, AZ 85264   \n",
       "Kma0nPwuWfqelROxRIwLRw  5630 Centennial Center Blvd\\nNorthwest\\nLas Ve...   \n",
       "TmTB0Nel-U_zOr04OTUreA    455 E Pebble Rd\\nSoutheast\\nLas Vegas, NV 89123   \n",
       "58G5uy89YPe7sIJa7Ze99g   7135 Gilespie St\\nSoutheast\\nLas Vegas, NV 89119   \n",
       "RUz4d1D83xRRXcc-ffkM5g  Eastside Cannery\\n5255 Boulder Hwy\\nLas Vegas,...   \n",
       "bdsKG7MQIMmZ73lgOaTZ0A  3545 Las Vegas Blvd S\\nThe Strip\\nLas Vegas, N...   \n",
       "EF5vR_UUavzPjtgMYFCg5Q  Flamingo Hotel\\n3555 Las Vegas Blvd S\\nThe Str...   \n",
       "qdCbbg7FyD6mzf0L_g64uA  7925 S Rainbow Blvd\\nSouthwest\\nLas Vegas, NV ...   \n",
       "67-DcR8Npwuc9lRph194cw                628 W Craig Rd\\nLas Vegas, NV 89032   \n",
       "26ecLqpDHrB3socZGfDuhQ  1550 S Industrial Rd\\nDowntown\\nLas Vegas, NV ...   \n",
       "aEol06ruyQJZYlDMPJGfUg  Downtown Summerlin\\n2010 Festival Plaza, 150\\n...   \n",
       "lRALdho4l9cpiw9WdGkV1A                 5835 S Sossaman Rd\\nMesa, AZ 85212   \n",
       "K5kU2IN6mXvMo-Cx0oQFZg  6770 N Sunrise Blvd\\nSte G109\\nGlendale, AZ 85303   \n",
       "6sqAj_mXmYkZ3UKsyRGGHQ     18 E Fremont St\\nDowntown\\nLas Vegas, NV 89101   \n",
       "GhQQsSApIRfUmIcqzmSaGA  5757 Wayne Newton Blvd\\nSoutheast\\nLas Vegas, ...   \n",
       "gnafBL9EZE1kn0xD7Yf3_w  Treasure Island\\n3300 Las Vegas Blvd S\\nThe St...   \n",
       "XoitWJUjHcdBl9GqHTsdjw  6593 Las Vegas Blvd S\\nSoutheast\\nLas Vegas, N...   \n",
       "8z-v_pn00BcnrWs9bacYUQ  The Quad Las Vegas Resort & Casino\\n3535 S Las...   \n",
       "0InQd9vuhRc98OksC3Ks8Q  Excalibur Hotel Casino\\n3850 Las Vegas Blvd S\\...   \n",
       "KVYSUfN89b-nih-_9HhF6g            9425 W Coyotes Blvd\\nGlendale, AZ 85305   \n",
       "vKtMsWeAaThimXGo9Ic_Og  316 E Morehead St\\nSouth End\\nCharlotte, NC 28203   \n",
       "_G5pDGRJL0mhLRgIViW2sA  Luxor Las Vegas\\n3900 Las Vegas Blvd S\\nThe St...   \n",
       "PEyRw3HOWcDnd2XHRLq5RQ            5812 W Glendale Ave\\nGlendale, AZ 85301   \n",
       "UuBZkKnckkRmYt3jFn2gaQ  Circus Circus Las Vegas\\n2800 Las Vegas Blvd S...   \n",
       "3e9IUI5Dt-ktDKEQNkENVA                3721 E Thomas Rd\\nPhoenix, AZ 85018   \n",
       "cSYSUZ3YbwR_RTughnoy5A             9617 N Metro Pkwy W\\nPhoenix, AZ 85051   \n",
       "GQ6bCvYZxdGY6ZQyeZFeVg                 1700 Vegas Dr\\nLas Vegas, NV 89106   \n",
       "wyqwO4ZqZyRR6pGk1pTBrA   7135 Gilespie St\\nSoutheast\\nLas Vegas, NV 89119   \n",
       "inDYSqSDMyrfBhOZc702rw                                  Phoenix, AZ 85027   \n",
       "CJ8IURVsHxTIu2Kzp2Kumw  Imperial Palace Hotel & Casino\\n3535 Las Vegas...   \n",
       "\n",
       "                                                                    hours  \\\n",
       "business_id                                                                 \n",
       "lliksv-tglfUz1T3B3vgvA  {'Tuesday': {'open': '17:30', 'close': '22:00'...   \n",
       "vARjqeIkSNsazHltujiq4Q  {'Tuesday': {'open': '11:00', 'close': '00:00'...   \n",
       "mQde7KRomOQoUyPGTqeXhA  {'Tuesday': {'open': '11:00', 'close': '18:00'...   \n",
       "CZBYYCb4xBwNlSIYNc6Eiw                                                 {}   \n",
       "nYer89hXYAoddMEKTxw7kA                                                 {}   \n",
       "QBHcPkoRsPb68Oq7zRj44A  {'Tuesday': {'open': '12:00', 'close': '20:00'...   \n",
       "Y_P4hdBnB5TZD3-nsi9-jQ  {'Tuesday': {'open': '00:00', 'close': '00:00'...   \n",
       "84NQRcMC0ldIC86yRw0vpA  {'Tuesday': {'open': '11:00', 'close': '21:30'...   \n",
       "H_SuH7uLiYahDMbNBB9kog  {'Tuesday': {'open': '11:00', 'close': '20:00'...   \n",
       "a-VGlZ06IaFTCX0vd0xm-A  {'Tuesday': {'open': '09:00', 'close': '17:00'...   \n",
       "_tYT5_N3zCwrpkdfVhqrnw  {'Tuesday': {'open': '10:00', 'close': '14:00'...   \n",
       "qcF6SHcGRML7gihfpNl_zA  {'Tuesday': {'open': '10:00', 'close': '20:00'...   \n",
       "f8luua75t2Is5iP6nxcXQQ  {'Tuesday': {'open': '11:00', 'close': '22:00'...   \n",
       "Us-93TD-lG_kVJzDPvmppw  {'Tuesday': {'open': '00:00', 'close': '00:00'...   \n",
       "qrjPKkSPzodIfP0kW1mtEw  {'Tuesday': {'open': '10:00', 'close': '19:00'...   \n",
       "rcCGdKxMPJk4lCzZZ1i_bA  {'Saturday': {'open': '11:00', 'close': '22:00...   \n",
       "L-bwqJzTbT7ODisS4sepJg  {'Tuesday': {'open': '07:00', 'close': '20:00'...   \n",
       "9ylfrWjdX6CltGs_Qcv7Ng                                                 {}   \n",
       "O8OkOlkXTRvYWqUQwskPwg                                                 {}   \n",
       "pwF_phwjD1ZHsY1xC9H7mA  {'Tuesday': {'open': '06:00', 'close': '21:00'...   \n",
       "IwFpnIKo8xCVvoUCwluoXA  {'Saturday': {'open': '13:00', 'close': '15:00...   \n",
       "zWS7hGTbydfkmubhS8qKRQ  {'Saturday': {'open': '19:30', 'close': '21:00...   \n",
       "4bnLfKXorJ9HVmt7Oc8lcw                                                 {}   \n",
       "VqU4Pl4URJjjgFS1UhseMg  {'Tuesday': {'open': '11:00', 'close': '22:00'...   \n",
       "cA9cTalUXibyWZZYjh-kiQ  {'Tuesday': {'open': '08:00', 'close': '18:00'...   \n",
       "02CV16hndzI60LuI2kDkOA  {'Tuesday': {'open': '08:30', 'close': '18:30'...   \n",
       "1hY0Q3BYDq6CJDQay2xRQA  {'Tuesday': {'open': '09:00', 'close': '21:00'...   \n",
       "8clKtz2RxFRDLnzZwMgA4w  {'Tuesday': {'open': '07:00', 'close': '19:00'...   \n",
       "kOY6CQ4VijKg8PnCUsTXgg  {'Saturday': {'open': '12:00', 'close': '21:00...   \n",
       "tR8-0OWg4UbwE16s6w6Y2A                                                 {}   \n",
       "...                                                                   ...   \n",
       "ipNveHQxPlRmgSe9CSt9dw                                                 {}   \n",
       "Kma0nPwuWfqelROxRIwLRw  {'Tuesday': {'open': '11:00', 'close': '21:00'...   \n",
       "TmTB0Nel-U_zOr04OTUreA  {'Tuesday': {'open': '08:30', 'close': '17:00'...   \n",
       "58G5uy89YPe7sIJa7Ze99g  {'Tuesday': {'open': '00:00', 'close': '00:00'...   \n",
       "RUz4d1D83xRRXcc-ffkM5g  {'Tuesday': {'open': '16:00', 'close': '20:00'...   \n",
       "bdsKG7MQIMmZ73lgOaTZ0A  {'Tuesday': {'open': '12:00', 'close': '00:00'...   \n",
       "EF5vR_UUavzPjtgMYFCg5Q  {'Tuesday': {'open': '08:00', 'close': '02:00'...   \n",
       "qdCbbg7FyD6mzf0L_g64uA                                                 {}   \n",
       "67-DcR8Npwuc9lRph194cw                                                 {}   \n",
       "26ecLqpDHrB3socZGfDuhQ  {'Tuesday': {'open': '00:00', 'close': '00:00'...   \n",
       "aEol06ruyQJZYlDMPJGfUg  {'Tuesday': {'open': '10:00', 'close': '21:00'...   \n",
       "lRALdho4l9cpiw9WdGkV1A                                                 {}   \n",
       "K5kU2IN6mXvMo-Cx0oQFZg  {'Tuesday': {'open': '11:00', 'close': '02:00'...   \n",
       "6sqAj_mXmYkZ3UKsyRGGHQ                                                 {}   \n",
       "GhQQsSApIRfUmIcqzmSaGA                                                 {}   \n",
       "gnafBL9EZE1kn0xD7Yf3_w                                                 {}   \n",
       "XoitWJUjHcdBl9GqHTsdjw                                                 {}   \n",
       "8z-v_pn00BcnrWs9bacYUQ  {'Tuesday': {'open': '00:00', 'close': '00:00'...   \n",
       "0InQd9vuhRc98OksC3Ks8Q  {'Tuesday': {'open': '07:00', 'close': '22:00'...   \n",
       "KVYSUfN89b-nih-_9HhF6g  {'Tuesday': {'open': '11:00', 'close': '02:00'...   \n",
       "vKtMsWeAaThimXGo9Ic_Og  {'Tuesday': {'open': '08:00', 'close': '19:00'...   \n",
       "_G5pDGRJL0mhLRgIViW2sA  {'Saturday': {'open': '12:00', 'close': '22:00...   \n",
       "PEyRw3HOWcDnd2XHRLq5RQ                                                 {}   \n",
       "UuBZkKnckkRmYt3jFn2gaQ  {'Tuesday': {'open': '16:30', 'close': '21:00'...   \n",
       "3e9IUI5Dt-ktDKEQNkENVA                                                 {}   \n",
       "cSYSUZ3YbwR_RTughnoy5A  {'Tuesday': {'open': '10:00', 'close': '21:00'...   \n",
       "GQ6bCvYZxdGY6ZQyeZFeVg  {'Tuesday': {'open': '07:00', 'close': '21:00'...   \n",
       "wyqwO4ZqZyRR6pGk1pTBrA  {'Tuesday': {'open': '00:00', 'close': '00:00'...   \n",
       "inDYSqSDMyrfBhOZc702rw  {'Tuesday': {'open': '00:00', 'close': '00:00'...   \n",
       "CJ8IURVsHxTIu2Kzp2Kumw  {'Tuesday': {'open': '07:00', 'close': '21:00'...   \n",
       "\n",
       "                         latitude   longitude  \\\n",
       "business_id                                     \n",
       "lliksv-tglfUz1T3B3vgvA  36.143767 -115.140885   \n",
       "vARjqeIkSNsazHltujiq4Q  33.362700 -111.876051   \n",
       "mQde7KRomOQoUyPGTqeXhA  33.362442 -112.092663   \n",
       "CZBYYCb4xBwNlSIYNc6Eiw  33.461401 -111.485730   \n",
       "nYer89hXYAoddMEKTxw7kA  33.457106 -112.071074   \n",
       "QBHcPkoRsPb68Oq7zRj44A  36.025234 -114.965485   \n",
       "Y_P4hdBnB5TZD3-nsi9-jQ  33.419917 -111.980971   \n",
       "84NQRcMC0ldIC86yRw0vpA  33.437338 -111.717932   \n",
       "H_SuH7uLiYahDMbNBB9kog  36.179939 -115.206417   \n",
       "a-VGlZ06IaFTCX0vd0xm-A  36.080529 -115.038136   \n",
       "_tYT5_N3zCwrpkdfVhqrnw  33.496715 -111.927408   \n",
       "qcF6SHcGRML7gihfpNl_zA  36.135543 -115.277850   \n",
       "f8luua75t2Is5iP6nxcXQQ  33.484449 -112.364198   \n",
       "Us-93TD-lG_kVJzDPvmppw  33.501848 -111.964967   \n",
       "qrjPKkSPzodIfP0kW1mtEw  33.499149 -111.923063   \n",
       "rcCGdKxMPJk4lCzZZ1i_bA  40.449077  -79.987519   \n",
       "L-bwqJzTbT7ODisS4sepJg  36.075943 -115.298020   \n",
       "9ylfrWjdX6CltGs_Qcv7Ng  40.446899  -80.005687   \n",
       "O8OkOlkXTRvYWqUQwskPwg  40.445051  -79.956439   \n",
       "pwF_phwjD1ZHsY1xC9H7mA  36.071946 -115.106902   \n",
       "IwFpnIKo8xCVvoUCwluoXA  36.119310 -115.171770   \n",
       "zWS7hGTbydfkmubhS8qKRQ  36.121143 -115.174134   \n",
       "4bnLfKXorJ9HVmt7Oc8lcw  33.502139 -111.995748   \n",
       "VqU4Pl4URJjjgFS1UhseMg  36.054195 -115.242443   \n",
       "cA9cTalUXibyWZZYjh-kiQ  36.025675 -115.279201   \n",
       "02CV16hndzI60LuI2kDkOA  33.474558 -112.126114   \n",
       "1hY0Q3BYDq6CJDQay2xRQA  36.013838 -115.117968   \n",
       "8clKtz2RxFRDLnzZwMgA4w  36.095841 -115.190338   \n",
       "kOY6CQ4VijKg8PnCUsTXgg  40.464971  -79.961066   \n",
       "tR8-0OWg4UbwE16s6w6Y2A  36.117680 -115.176857   \n",
       "...                           ...         ...   \n",
       "ipNveHQxPlRmgSe9CSt9dw  33.582272 -111.680414   \n",
       "Kma0nPwuWfqelROxRIwLRw  36.264599 -115.256412   \n",
       "TmTB0Nel-U_zOr04OTUreA  36.027059 -115.153343   \n",
       "58G5uy89YPe7sIJa7Ze99g  36.060061 -115.165044   \n",
       "RUz4d1D83xRRXcc-ffkM5g  36.107901 -115.056372   \n",
       "bdsKG7MQIMmZ73lgOaTZ0A  36.117748 -115.170475   \n",
       "EF5vR_UUavzPjtgMYFCg5Q  36.127615 -115.170364   \n",
       "qdCbbg7FyD6mzf0L_g64uA  36.044874 -115.243900   \n",
       "67-DcR8Npwuc9lRph194cw  36.241289 -115.149580   \n",
       "26ecLqpDHrB3socZGfDuhQ  36.154658 -115.159219   \n",
       "aEol06ruyQJZYlDMPJGfUg  36.154862 -115.331429   \n",
       "lRALdho4l9cpiw9WdGkV1A  33.309792 -111.669200   \n",
       "K5kU2IN6mXvMo-Cx0oQFZg  33.533158 -112.260384   \n",
       "6sqAj_mXmYkZ3UKsyRGGHQ  36.172075 -115.145689   \n",
       "GhQQsSApIRfUmIcqzmSaGA  36.085729 -115.153140   \n",
       "gnafBL9EZE1kn0xD7Yf3_w  36.124823 -115.171971   \n",
       "XoitWJUjHcdBl9GqHTsdjw  36.067199 -115.172232   \n",
       "8z-v_pn00BcnrWs9bacYUQ  36.123843 -115.170220   \n",
       "0InQd9vuhRc98OksC3Ks8Q  36.098878 -115.175641   \n",
       "KVYSUfN89b-nih-_9HhF6g  33.533049 -112.262036   \n",
       "vKtMsWeAaThimXGo9Ic_Og  35.218730  -80.849720   \n",
       "_G5pDGRJL0mhLRgIViW2sA  36.095580 -115.175818   \n",
       "PEyRw3HOWcDnd2XHRLq5RQ  33.539228 -112.184329   \n",
       "UuBZkKnckkRmYt3jFn2gaQ  36.137667 -115.164659   \n",
       "3e9IUI5Dt-ktDKEQNkENVA  33.479007 -112.000813   \n",
       "cSYSUZ3YbwR_RTughnoy5A  33.576494 -112.120861   \n",
       "GQ6bCvYZxdGY6ZQyeZFeVg  36.189293 -115.162965   \n",
       "wyqwO4ZqZyRR6pGk1pTBrA  36.060061 -115.165044   \n",
       "inDYSqSDMyrfBhOZc702rw  33.678238 -112.101291   \n",
       "CJ8IURVsHxTIu2Kzp2Kumw  36.118346 -115.170129   \n",
       "\n",
       "                                                                     name  \\\n",
       "business_id                                                                 \n",
       "lliksv-tglfUz1T3B3vgvA                                      Lotus of Siam   \n",
       "vARjqeIkSNsazHltujiq4Q                              Cornish Pasty Company   \n",
       "mQde7KRomOQoUyPGTqeXhA                             Arizona Humane Society   \n",
       "CZBYYCb4xBwNlSIYNc6Eiw  Siphon Draw Trail inc. Flatiron, Superstition ...   \n",
       "nYer89hXYAoddMEKTxw7kA              Yelp's Secret Cinema: Made In Arizona   \n",
       "QBHcPkoRsPb68Oq7zRj44A                                Frost Bites Shavery   \n",
       "Y_P4hdBnB5TZD3-nsi9-jQ                           Blue Sky Airport Parking   \n",
       "84NQRcMC0ldIC86yRw0vpA                                  Gelato Dolce Vita   \n",
       "H_SuH7uLiYahDMbNBB9kog                                       KoMex Fusion   \n",
       "a-VGlZ06IaFTCX0vd0xm-A                         Central Church - Henderson   \n",
       "_tYT5_N3zCwrpkdfVhqrnw                                      The Brush Bar   \n",
       "qcF6SHcGRML7gihfpNl_zA                         Fabulous Eyebrow Threading   \n",
       "f8luua75t2Is5iP6nxcXQQ                                          Yogurtini   \n",
       "Us-93TD-lG_kVJzDPvmppw                                    I Clean Carpets   \n",
       "qrjPKkSPzodIfP0kW1mtEw                                      Salon D'Shayn   \n",
       "rcCGdKxMPJk4lCzZZ1i_bA                          Gaucho Parrilla Argentina   \n",
       "L-bwqJzTbT7ODisS4sepJg                                  Pressed For Juice   \n",
       "9ylfrWjdX6CltGs_Qcv7Ng                                           PNC Park   \n",
       "O8OkOlkXTRvYWqUQwskPwg                          Yelp's Swingin' to Summer   \n",
       "pwF_phwjD1ZHsY1xC9H7mA                                     Sunrise Coffee   \n",
       "IwFpnIKo8xCVvoUCwluoXA                     The Mac King Comedy Magic Show   \n",
       "zWS7hGTbydfkmubhS8qKRQ                                        Boyz II Men   \n",
       "4bnLfKXorJ9HVmt7Oc8lcw  CMYE: Yelp's Sweet Bake-In at La Grande Orange...   \n",
       "VqU4Pl4URJjjgFS1UhseMg                                       Brew Tea Bar   \n",
       "cA9cTalUXibyWZZYjh-kiQ                         Carpet Monkey Of Las Vegas   \n",
       "02CV16hndzI60LuI2kDkOA                                   Camelback Moving   \n",
       "1hY0Q3BYDq6CJDQay2xRQA                           Vegas Discount Nutrition   \n",
       "8clKtz2RxFRDLnzZwMgA4w                             Camp Bow Wow Las Vegas   \n",
       "kOY6CQ4VijKg8PnCUsTXgg                  Arsenal Cider House & Wine Cellar   \n",
       "tR8-0OWg4UbwE16s6w6Y2A                Elton John-The Million Dollar Piano   \n",
       "...                                                                   ...   \n",
       "ipNveHQxPlRmgSe9CSt9dw                               Fort Mcdowell Casino   \n",
       "Kma0nPwuWfqelROxRIwLRw              On the Border Mexican Grill & Cantina   \n",
       "TmTB0Nel-U_zOr04OTUreA                                     US Post Office   \n",
       "58G5uy89YPe7sIJa7Ze99g                                  Budget Car Rental   \n",
       "RUz4d1D83xRRXcc-ffkM5g                                 Cannery Row Buffet   \n",
       "bdsKG7MQIMmZ73lgOaTZ0A                                               FAME   \n",
       "EF5vR_UUavzPjtgMYFCg5Q                               Carlos' N' Charlie's   \n",
       "qdCbbg7FyD6mzf0L_g64uA                                   Church's Chicken   \n",
       "67-DcR8Npwuc9lRph194cw                                  San Gennaro Feast   \n",
       "26ecLqpDHrB3socZGfDuhQ                                     Showtime Tours   \n",
       "aEol06ruyQJZYlDMPJGfUg                                  Wonderland Bakery   \n",
       "lRALdho4l9cpiw9WdGkV1A                                          Allegiant   \n",
       "K5kU2IN6mXvMo-Cx0oQFZg                                      Calico Jack's   \n",
       "6sqAj_mXmYkZ3UKsyRGGHQ                      Las Vegas Club Hotel & Casino   \n",
       "GhQQsSApIRfUmIcqzmSaGA                                    Spirit Airlines   \n",
       "gnafBL9EZE1kn0xD7Yf3_w                          Sirens of Treasure Island   \n",
       "XoitWJUjHcdBl9GqHTsdjw                                Ranch House Kitchen   \n",
       "8z-v_pn00BcnrWs9bacYUQ                 The Quad Las Vegas Resort & Casino   \n",
       "0InQd9vuhRc98OksC3Ks8Q                                  Buffet Roundtable   \n",
       "KVYSUfN89b-nih-_9HhF6g                     McFadden's Restaurant & Saloon   \n",
       "vKtMsWeAaThimXGo9Ic_Og                                  Time Warner Cable   \n",
       "_G5pDGRJL0mhLRgIViW2sA             Cirque du Soleil - Criss Angel Believe   \n",
       "PEyRw3HOWcDnd2XHRLq5RQ               Glendale's Best Street Food Festival   \n",
       "UuBZkKnckkRmYt3jFn2gaQ                                      Circus Buffet   \n",
       "3e9IUI5Dt-ktDKEQNkENVA                                Walmart Supercenter   \n",
       "cSYSUZ3YbwR_RTughnoy5A                                   Metrocenter Mall   \n",
       "GQ6bCvYZxdGY6ZQyeZFeVg                                 Cox Communications   \n",
       "wyqwO4ZqZyRR6pGk1pTBrA                                 Payless Car Rental   \n",
       "inDYSqSDMyrfBhOZc702rw                                 Cox Communications   \n",
       "CJ8IURVsHxTIu2Kzp2Kumw                                   Emperor's Buffet   \n",
       "\n",
       "                                  neighborhoods   open  review_count  stars  \\\n",
       "business_id                                                                   \n",
       "lliksv-tglfUz1T3B3vgvA     [Eastside, Downtown]   True          3225    4.0   \n",
       "vARjqeIkSNsazHltujiq4Q                       []   True           884    4.5   \n",
       "mQde7KRomOQoUyPGTqeXhA                       []   True            64    4.5   \n",
       "CZBYYCb4xBwNlSIYNc6Eiw                       []   True            49    5.0   \n",
       "nYer89hXYAoddMEKTxw7kA                       []   True            38    5.0   \n",
       "QBHcPkoRsPb68Oq7zRj44A                       []  False            72    5.0   \n",
       "Y_P4hdBnB5TZD3-nsi9-jQ                       []   True           159    4.5   \n",
       "84NQRcMC0ldIC86yRw0vpA                       []   True           178    5.0   \n",
       "H_SuH7uLiYahDMbNBB9kog                       []   True          1124    4.5   \n",
       "a-VGlZ06IaFTCX0vd0xm-A                       []   True            76    4.5   \n",
       "_tYT5_N3zCwrpkdfVhqrnw                       []   True            77    5.0   \n",
       "qcF6SHcGRML7gihfpNl_zA               [Westside]   True           413    5.0   \n",
       "f8luua75t2Is5iP6nxcXQQ                       []   True            53    5.0   \n",
       "Us-93TD-lG_kVJzDPvmppw                       []   True           250    5.0   \n",
       "qrjPKkSPzodIfP0kW1mtEw                       []   True           230    4.5   \n",
       "rcCGdKxMPJk4lCzZZ1i_bA         [Strip District]   True           893    4.5   \n",
       "L-bwqJzTbT7ODisS4sepJg          [Spring Valley]   True           105    4.5   \n",
       "9ylfrWjdX6CltGs_Qcv7Ng             [North Side]   True           403    4.5   \n",
       "O8OkOlkXTRvYWqUQwskPwg                [Oakland]   True            44    5.0   \n",
       "pwF_phwjD1ZHsY1xC9H7mA              [Southeast]   True           780    4.5   \n",
       "IwFpnIKo8xCVvoUCwluoXA              [The Strip]   True           390    4.5   \n",
       "zWS7hGTbydfkmubhS8qKRQ              [The Strip]   True           150    5.0   \n",
       "4bnLfKXorJ9HVmt7Oc8lcw                       []   True            34    5.0   \n",
       "VqU4Pl4URJjjgFS1UhseMg              [Southwest]   True           579    5.0   \n",
       "cA9cTalUXibyWZZYjh-kiQ              [Southwest]   True           273    5.0   \n",
       "02CV16hndzI60LuI2kDkOA                       []   True           311    4.5   \n",
       "1hY0Q3BYDq6CJDQay2xRQA              [Southeast]   True           223    5.0   \n",
       "8clKtz2RxFRDLnzZwMgA4w                       []   True           127    4.5   \n",
       "kOY6CQ4VijKg8PnCUsTXgg          [Lawrenceville]   True           147    5.0   \n",
       "tR8-0OWg4UbwE16s6w6Y2A              [The Strip]   True            93    4.5   \n",
       "...                                         ...    ...           ...    ...   \n",
       "ipNveHQxPlRmgSe9CSt9dw                       []   True            85    2.5   \n",
       "Kma0nPwuWfqelROxRIwLRw  [Northwest, Centennial]   True           168    2.5   \n",
       "TmTB0Nel-U_zOr04OTUreA              [Southeast]   True            75    1.5   \n",
       "58G5uy89YPe7sIJa7Ze99g              [Southeast]   True           295    1.5   \n",
       "RUz4d1D83xRRXcc-ffkM5g                       []   True            46    2.0   \n",
       "bdsKG7MQIMmZ73lgOaTZ0A              [The Strip]  False            93    2.0   \n",
       "EF5vR_UUavzPjtgMYFCg5Q              [The Strip]   True           272    2.0   \n",
       "qdCbbg7FyD6mzf0L_g64uA              [Southwest]   True            80    2.0   \n",
       "67-DcR8Npwuc9lRph194cw                       []   True            85    2.5   \n",
       "26ecLqpDHrB3socZGfDuhQ               [Downtown]   True           358    1.5   \n",
       "aEol06ruyQJZYlDMPJGfUg        [South Summerlin]   True            75    2.5   \n",
       "lRALdho4l9cpiw9WdGkV1A                       []   True           166    1.5   \n",
       "K5kU2IN6mXvMo-Cx0oQFZg                       []   True           174    1.5   \n",
       "6sqAj_mXmYkZ3UKsyRGGHQ               [Downtown]  False            98    2.0   \n",
       "GhQQsSApIRfUmIcqzmSaGA              [Southeast]   True           739    1.5   \n",
       "gnafBL9EZE1kn0xD7Yf3_w              [The Strip]  False           143    2.0   \n",
       "XoitWJUjHcdBl9GqHTsdjw              [Southeast]  False            69    2.0   \n",
       "8z-v_pn00BcnrWs9bacYUQ              [The Strip]  False           609    2.0   \n",
       "0InQd9vuhRc98OksC3Ks8Q              [The Strip]  False           190    2.0   \n",
       "KVYSUfN89b-nih-_9HhF6g                       []   True           311    1.5   \n",
       "vKtMsWeAaThimXGo9Ic_Og    [South End, Dilworth]   True            91    1.5   \n",
       "_G5pDGRJL0mhLRgIViW2sA              [The Strip]  False           833    1.5   \n",
       "PEyRw3HOWcDnd2XHRLq5RQ                       []   True            49    1.5   \n",
       "UuBZkKnckkRmYt3jFn2gaQ              [The Strip]   True           272    2.0   \n",
       "3e9IUI5Dt-ktDKEQNkENVA                       []   True           100    1.5   \n",
       "cSYSUZ3YbwR_RTughnoy5A                       []   True           125    2.0   \n",
       "GQ6bCvYZxdGY6ZQyeZFeVg                       []   True           253    1.5   \n",
       "wyqwO4ZqZyRR6pGk1pTBrA              [Southeast]   True           474    1.5   \n",
       "inDYSqSDMyrfBhOZc702rw                       []   True           517    1.5   \n",
       "CJ8IURVsHxTIu2Kzp2Kumw              [The Strip]  False            57    1.5   \n",
       "\n",
       "                       state      type  \n",
       "business_id                             \n",
       "lliksv-tglfUz1T3B3vgvA    NV  business  \n",
       "vARjqeIkSNsazHltujiq4Q    AZ  business  \n",
       "mQde7KRomOQoUyPGTqeXhA    AZ  business  \n",
       "CZBYYCb4xBwNlSIYNc6Eiw    AZ  business  \n",
       "nYer89hXYAoddMEKTxw7kA    AZ  business  \n",
       "QBHcPkoRsPb68Oq7zRj44A    NV  business  \n",
       "Y_P4hdBnB5TZD3-nsi9-jQ    AZ  business  \n",
       "84NQRcMC0ldIC86yRw0vpA    AZ  business  \n",
       "H_SuH7uLiYahDMbNBB9kog    NV  business  \n",
       "a-VGlZ06IaFTCX0vd0xm-A    NV  business  \n",
       "_tYT5_N3zCwrpkdfVhqrnw    AZ  business  \n",
       "qcF6SHcGRML7gihfpNl_zA    NV  business  \n",
       "f8luua75t2Is5iP6nxcXQQ    AZ  business  \n",
       "Us-93TD-lG_kVJzDPvmppw    AZ  business  \n",
       "qrjPKkSPzodIfP0kW1mtEw    AZ  business  \n",
       "rcCGdKxMPJk4lCzZZ1i_bA    PA  business  \n",
       "L-bwqJzTbT7ODisS4sepJg    NV  business  \n",
       "9ylfrWjdX6CltGs_Qcv7Ng    PA  business  \n",
       "O8OkOlkXTRvYWqUQwskPwg    PA  business  \n",
       "pwF_phwjD1ZHsY1xC9H7mA    NV  business  \n",
       "IwFpnIKo8xCVvoUCwluoXA    NV  business  \n",
       "zWS7hGTbydfkmubhS8qKRQ    NV  business  \n",
       "4bnLfKXorJ9HVmt7Oc8lcw    AZ  business  \n",
       "VqU4Pl4URJjjgFS1UhseMg    NV  business  \n",
       "cA9cTalUXibyWZZYjh-kiQ    NV  business  \n",
       "02CV16hndzI60LuI2kDkOA    AZ  business  \n",
       "1hY0Q3BYDq6CJDQay2xRQA    NV  business  \n",
       "8clKtz2RxFRDLnzZwMgA4w    NV  business  \n",
       "kOY6CQ4VijKg8PnCUsTXgg    PA  business  \n",
       "tR8-0OWg4UbwE16s6w6Y2A    NV  business  \n",
       "...                      ...       ...  \n",
       "ipNveHQxPlRmgSe9CSt9dw    AZ  business  \n",
       "Kma0nPwuWfqelROxRIwLRw    NV  business  \n",
       "TmTB0Nel-U_zOr04OTUreA    NV  business  \n",
       "58G5uy89YPe7sIJa7Ze99g    NV  business  \n",
       "RUz4d1D83xRRXcc-ffkM5g    NV  business  \n",
       "bdsKG7MQIMmZ73lgOaTZ0A    NV  business  \n",
       "EF5vR_UUavzPjtgMYFCg5Q    NV  business  \n",
       "qdCbbg7FyD6mzf0L_g64uA    NV  business  \n",
       "67-DcR8Npwuc9lRph194cw    NV  business  \n",
       "26ecLqpDHrB3socZGfDuhQ    NV  business  \n",
       "aEol06ruyQJZYlDMPJGfUg    NV  business  \n",
       "lRALdho4l9cpiw9WdGkV1A    AZ  business  \n",
       "K5kU2IN6mXvMo-Cx0oQFZg    AZ  business  \n",
       "6sqAj_mXmYkZ3UKsyRGGHQ    NV  business  \n",
       "GhQQsSApIRfUmIcqzmSaGA    NV  business  \n",
       "gnafBL9EZE1kn0xD7Yf3_w    NV  business  \n",
       "XoitWJUjHcdBl9GqHTsdjw    NV  business  \n",
       "8z-v_pn00BcnrWs9bacYUQ    NV  business  \n",
       "0InQd9vuhRc98OksC3Ks8Q    NV  business  \n",
       "KVYSUfN89b-nih-_9HhF6g    AZ  business  \n",
       "vKtMsWeAaThimXGo9Ic_Og    NC  business  \n",
       "_G5pDGRJL0mhLRgIViW2sA    NV  business  \n",
       "PEyRw3HOWcDnd2XHRLq5RQ    AZ  business  \n",
       "UuBZkKnckkRmYt3jFn2gaQ    NV  business  \n",
       "3e9IUI5Dt-ktDKEQNkENVA    AZ  business  \n",
       "cSYSUZ3YbwR_RTughnoy5A    AZ  business  \n",
       "GQ6bCvYZxdGY6ZQyeZFeVg    NV  business  \n",
       "wyqwO4ZqZyRR6pGk1pTBrA    NV  business  \n",
       "inDYSqSDMyrfBhOZc702rw    AZ  business  \n",
       "CJ8IURVsHxTIu2Kzp2Kumw    NV  business  \n",
       "\n",
       "[7240 rows x 15 columns]"
      ]
     },
     "execution_count": 331,
     "metadata": {},
     "output_type": "execute_result"
    }
   ],
   "source": [
    "business.loc[recommended_business_names] # regardless of the state"
   ]
  },
  {
   "cell_type": "code",
   "execution_count": 136,
   "metadata": {
    "ExecuteTime": {
     "end_time": "2017-02-01T14:32:08.843176",
     "start_time": "2017-02-01T14:32:08.839132"
    },
    "collapsed": false,
    "run_control": {
     "frozen": false,
     "read_only": false
    }
   },
   "outputs": [],
   "source": [
    "user_id = Y.columns[1]"
   ]
  },
  {
   "cell_type": "code",
   "execution_count": 277,
   "metadata": {
    "ExecuteTime": {
     "end_time": "2017-02-01T15:59:44.599027",
     "start_time": "2017-02-01T15:59:44.587516"
    },
    "collapsed": false,
    "run_control": {
     "frozen": false,
     "read_only": false
    }
   },
   "outputs": [
    {
     "data": {
      "text/plain": [
       "array(['AZ', 'NV'], dtype=object)"
      ]
     },
     "execution_count": 277,
     "metadata": {},
     "output_type": "execute_result"
    }
   ],
   "source": [
    "user_states = business.loc[Y.iloc[:,i][Y.iloc[:,i].notnull()].index].state.unique()\n",
    "user_states"
   ]
  },
  {
   "cell_type": "code",
   "execution_count": 141,
   "metadata": {
    "ExecuteTime": {
     "end_time": "2017-02-01T14:32:31.138715",
     "start_time": "2017-02-01T14:32:31.110640"
    },
    "collapsed": false,
    "run_control": {
     "frozen": false,
     "read_only": false
    }
   },
   "outputs": [
    {
     "data": {
      "text/plain": [
       "state\n",
       "AZ    3211\n",
       "NC     536\n",
       "NV    3111\n",
       "PA     372\n",
       "QC       4\n",
       "SC       5\n",
       "WI       1\n",
       "dtype: int64"
      ]
     },
     "execution_count": 141,
     "metadata": {},
     "output_type": "execute_result"
    }
   ],
   "source": [
    "business.loc[recommended_business_names].groupby('state').size()"
   ]
  },
  {
   "cell_type": "markdown",
   "metadata": {},
   "source": [
    "## Business recommeded to a user"
   ]
  },
  {
   "cell_type": "code",
   "execution_count": 330,
   "metadata": {
    "ExecuteTime": {
     "end_time": "2017-02-01T16:46:46.330221",
     "start_time": "2017-02-01T16:46:46.115705"
    },
    "collapsed": false,
    "run_control": {
     "frozen": false,
     "read_only": false
    },
    "scrolled": true
   },
   "outputs": [
    {
     "data": {
      "text/html": [
       "<div>\n",
       "<table border=\"1\" class=\"dataframe\">\n",
       "  <thead>\n",
       "    <tr style=\"text-align: right;\">\n",
       "      <th></th>\n",
       "      <th>attributes</th>\n",
       "      <th>business_id</th>\n",
       "      <th>categories</th>\n",
       "      <th>city</th>\n",
       "      <th>full_address</th>\n",
       "      <th>hours</th>\n",
       "      <th>latitude</th>\n",
       "      <th>longitude</th>\n",
       "      <th>name</th>\n",
       "      <th>neighborhoods</th>\n",
       "      <th>open</th>\n",
       "      <th>review_count</th>\n",
       "      <th>stars</th>\n",
       "      <th>state</th>\n",
       "      <th>type</th>\n",
       "    </tr>\n",
       "    <tr>\n",
       "      <th>business_id</th>\n",
       "      <th></th>\n",
       "      <th></th>\n",
       "      <th></th>\n",
       "      <th></th>\n",
       "      <th></th>\n",
       "      <th></th>\n",
       "      <th></th>\n",
       "      <th></th>\n",
       "      <th></th>\n",
       "      <th></th>\n",
       "      <th></th>\n",
       "      <th></th>\n",
       "      <th></th>\n",
       "      <th></th>\n",
       "      <th></th>\n",
       "    </tr>\n",
       "  </thead>\n",
       "  <tbody>\n",
       "    <tr>\n",
       "      <th>lliksv-tglfUz1T3B3vgvA</th>\n",
       "      <td>{'Caters': False, 'Takes Reservations': True, ...</td>\n",
       "      <td>lliksv-tglfUz1T3B3vgvA</td>\n",
       "      <td>[Thai, Restaurants]</td>\n",
       "      <td>Las Vegas</td>\n",
       "      <td>953 E Sahara Ave\\nSte A5\\nEastside\\nLas Vegas,...</td>\n",
       "      <td>{'Tuesday': {'open': '17:30', 'close': '22:00'...</td>\n",
       "      <td>36.143767</td>\n",
       "      <td>-115.140885</td>\n",
       "      <td>Lotus of Siam</td>\n",
       "      <td>[Eastside, Downtown]</td>\n",
       "      <td>True</td>\n",
       "      <td>3225</td>\n",
       "      <td>4.0</td>\n",
       "      <td>NV</td>\n",
       "      <td>business</td>\n",
       "    </tr>\n",
       "    <tr>\n",
       "      <th>vARjqeIkSNsazHltujiq4Q</th>\n",
       "      <td>{'Has TV': False, 'Takes Reservations': False,...</td>\n",
       "      <td>vARjqeIkSNsazHltujiq4Q</td>\n",
       "      <td>[British, Restaurants]</td>\n",
       "      <td>Mesa</td>\n",
       "      <td>1941 W Guadalupe Rd\\nSte 101\\nMesa, AZ 85202</td>\n",
       "      <td>{'Tuesday': {'open': '11:00', 'close': '00:00'...</td>\n",
       "      <td>33.362700</td>\n",
       "      <td>-111.876051</td>\n",
       "      <td>Cornish Pasty Company</td>\n",
       "      <td>[]</td>\n",
       "      <td>True</td>\n",
       "      <td>884</td>\n",
       "      <td>4.5</td>\n",
       "      <td>AZ</td>\n",
       "      <td>business</td>\n",
       "    </tr>\n",
       "    <tr>\n",
       "      <th>mQde7KRomOQoUyPGTqeXhA</th>\n",
       "      <td>{}</td>\n",
       "      <td>mQde7KRomOQoUyPGTqeXhA</td>\n",
       "      <td>[Animal Shelters, Veterinarians, Pet Stores, P...</td>\n",
       "      <td>Phoenix</td>\n",
       "      <td>1521 W Dobbins Rd\\nPhoenix, AZ 85041</td>\n",
       "      <td>{'Tuesday': {'open': '11:00', 'close': '18:00'...</td>\n",
       "      <td>33.362442</td>\n",
       "      <td>-112.092663</td>\n",
       "      <td>Arizona Humane Society</td>\n",
       "      <td>[]</td>\n",
       "      <td>True</td>\n",
       "      <td>64</td>\n",
       "      <td>4.5</td>\n",
       "      <td>AZ</td>\n",
       "      <td>business</td>\n",
       "    </tr>\n",
       "    <tr>\n",
       "      <th>CZBYYCb4xBwNlSIYNc6Eiw</th>\n",
       "      <td>{'Parking': {'validated': False, 'lot': True, ...</td>\n",
       "      <td>CZBYYCb4xBwNlSIYNc6Eiw</td>\n",
       "      <td>[Active Life, Hiking]</td>\n",
       "      <td>Apache Junction</td>\n",
       "      <td>6109 N. Apache Trail\\nApache Junction, AZ 85219</td>\n",
       "      <td>{}</td>\n",
       "      <td>33.461401</td>\n",
       "      <td>-111.485730</td>\n",
       "      <td>Siphon Draw Trail inc. Flatiron, Superstition ...</td>\n",
       "      <td>[]</td>\n",
       "      <td>True</td>\n",
       "      <td>49</td>\n",
       "      <td>5.0</td>\n",
       "      <td>AZ</td>\n",
       "      <td>business</td>\n",
       "    </tr>\n",
       "    <tr>\n",
       "      <th>nYer89hXYAoddMEKTxw7kA</th>\n",
       "      <td>{'Good for Kids': False}</td>\n",
       "      <td>nYer89hXYAoddMEKTxw7kA</td>\n",
       "      <td>[Yelp Events, Local Flavor]</td>\n",
       "      <td>Phoenix</td>\n",
       "      <td>FilmBar\\n815 N 2nd St\\nPhoenix, AZ 85004</td>\n",
       "      <td>{}</td>\n",
       "      <td>33.457106</td>\n",
       "      <td>-112.071074</td>\n",
       "      <td>Yelp's Secret Cinema: Made In Arizona</td>\n",
       "      <td>[]</td>\n",
       "      <td>True</td>\n",
       "      <td>38</td>\n",
       "      <td>5.0</td>\n",
       "      <td>AZ</td>\n",
       "      <td>business</td>\n",
       "    </tr>\n",
       "    <tr>\n",
       "      <th>QBHcPkoRsPb68Oq7zRj44A</th>\n",
       "      <td>{'Has TV': False, 'Takes Reservations': False,...</td>\n",
       "      <td>QBHcPkoRsPb68Oq7zRj44A</td>\n",
       "      <td>[Food, Desserts, Shaved Ice, Food Trucks]</td>\n",
       "      <td>Henderson</td>\n",
       "      <td>898 S Boulder Hwy\\nHenderson, NV 89015</td>\n",
       "      <td>{'Tuesday': {'open': '12:00', 'close': '20:00'...</td>\n",
       "      <td>36.025234</td>\n",
       "      <td>-114.965485</td>\n",
       "      <td>Frost Bites Shavery</td>\n",
       "      <td>[]</td>\n",
       "      <td>False</td>\n",
       "      <td>72</td>\n",
       "      <td>5.0</td>\n",
       "      <td>NV</td>\n",
       "      <td>business</td>\n",
       "    </tr>\n",
       "    <tr>\n",
       "      <th>Y_P4hdBnB5TZD3-nsi9-jQ</th>\n",
       "      <td>{'Accepts Credit Cards': True}</td>\n",
       "      <td>Y_P4hdBnB5TZD3-nsi9-jQ</td>\n",
       "      <td>[Automotive, Parking]</td>\n",
       "      <td>Phoenix</td>\n",
       "      <td>3150 S 48th st\\nPhoenix, AZ 85040</td>\n",
       "      <td>{'Tuesday': {'open': '00:00', 'close': '00:00'...</td>\n",
       "      <td>33.419917</td>\n",
       "      <td>-111.980971</td>\n",
       "      <td>Blue Sky Airport Parking</td>\n",
       "      <td>[]</td>\n",
       "      <td>True</td>\n",
       "      <td>159</td>\n",
       "      <td>4.5</td>\n",
       "      <td>AZ</td>\n",
       "      <td>business</td>\n",
       "    </tr>\n",
       "    <tr>\n",
       "      <th>84NQRcMC0ldIC86yRw0vpA</th>\n",
       "      <td>{'Wi-Fi': 'free', 'Wheelchair Accessible': Tru...</td>\n",
       "      <td>84NQRcMC0ldIC86yRw0vpA</td>\n",
       "      <td>[Food, Ice Cream &amp; Frozen Yogurt, Gelato, Dess...</td>\n",
       "      <td>Mesa</td>\n",
       "      <td>5251 E Brown Rd\\nSte 104\\nMesa, AZ 85205</td>\n",
       "      <td>{'Tuesday': {'open': '11:00', 'close': '21:30'...</td>\n",
       "      <td>33.437338</td>\n",
       "      <td>-111.717932</td>\n",
       "      <td>Gelato Dolce Vita</td>\n",
       "      <td>[]</td>\n",
       "      <td>True</td>\n",
       "      <td>178</td>\n",
       "      <td>5.0</td>\n",
       "      <td>AZ</td>\n",
       "      <td>business</td>\n",
       "    </tr>\n",
       "    <tr>\n",
       "      <th>H_SuH7uLiYahDMbNBB9kog</th>\n",
       "      <td>{'Has TV': True, 'Takes Reservations': True, '...</td>\n",
       "      <td>H_SuH7uLiYahDMbNBB9kog</td>\n",
       "      <td>[Korean, Asian Fusion, Mexican, Restaurants]</td>\n",
       "      <td>Las Vegas</td>\n",
       "      <td>633 N Decatur Blvd\\nSte H\\nLas Vegas, NV 89107</td>\n",
       "      <td>{'Tuesday': {'open': '11:00', 'close': '20:00'...</td>\n",
       "      <td>36.179939</td>\n",
       "      <td>-115.206417</td>\n",
       "      <td>KoMex Fusion</td>\n",
       "      <td>[]</td>\n",
       "      <td>True</td>\n",
       "      <td>1124</td>\n",
       "      <td>4.5</td>\n",
       "      <td>NV</td>\n",
       "      <td>business</td>\n",
       "    </tr>\n",
       "    <tr>\n",
       "      <th>a-VGlZ06IaFTCX0vd0xm-A</th>\n",
       "      <td>{}</td>\n",
       "      <td>a-VGlZ06IaFTCX0vd0xm-A</td>\n",
       "      <td>[Churches, Religious Organizations]</td>\n",
       "      <td>Henderson</td>\n",
       "      <td>1001 New Beginnings Dr\\nHenderson, NV 89011</td>\n",
       "      <td>{'Tuesday': {'open': '09:00', 'close': '17:00'...</td>\n",
       "      <td>36.080529</td>\n",
       "      <td>-115.038136</td>\n",
       "      <td>Central Church - Henderson</td>\n",
       "      <td>[]</td>\n",
       "      <td>True</td>\n",
       "      <td>76</td>\n",
       "      <td>4.5</td>\n",
       "      <td>NV</td>\n",
       "      <td>business</td>\n",
       "    </tr>\n",
       "    <tr>\n",
       "      <th>_tYT5_N3zCwrpkdfVhqrnw</th>\n",
       "      <td>{'Parking': {'validated': False, 'lot': False,...</td>\n",
       "      <td>_tYT5_N3zCwrpkdfVhqrnw</td>\n",
       "      <td>[Paint &amp; Sip, Art Classes, Arts &amp; Entertainmen...</td>\n",
       "      <td>Scottsdale</td>\n",
       "      <td>4165 N Craftsman Ct\\nScottsdale, AZ 85251</td>\n",
       "      <td>{'Tuesday': {'open': '10:00', 'close': '14:00'...</td>\n",
       "      <td>33.496715</td>\n",
       "      <td>-111.927408</td>\n",
       "      <td>The Brush Bar</td>\n",
       "      <td>[]</td>\n",
       "      <td>True</td>\n",
       "      <td>77</td>\n",
       "      <td>5.0</td>\n",
       "      <td>AZ</td>\n",
       "      <td>business</td>\n",
       "    </tr>\n",
       "    <tr>\n",
       "      <th>qcF6SHcGRML7gihfpNl_zA</th>\n",
       "      <td>{'Wheelchair Accessible': True, 'Parking': {'v...</td>\n",
       "      <td>qcF6SHcGRML7gihfpNl_zA</td>\n",
       "      <td>[Skin Care, Threading Services, Laser Hair Rem...</td>\n",
       "      <td>Las Vegas</td>\n",
       "      <td>2960 S Durango Dr\\nSte 112\\nWestside\\nLas Vega...</td>\n",
       "      <td>{'Tuesday': {'open': '10:00', 'close': '20:00'...</td>\n",
       "      <td>36.135543</td>\n",
       "      <td>-115.277850</td>\n",
       "      <td>Fabulous Eyebrow Threading</td>\n",
       "      <td>[Westside]</td>\n",
       "      <td>True</td>\n",
       "      <td>413</td>\n",
       "      <td>5.0</td>\n",
       "      <td>NV</td>\n",
       "      <td>business</td>\n",
       "    </tr>\n",
       "    <tr>\n",
       "      <th>f8luua75t2Is5iP6nxcXQQ</th>\n",
       "      <td>{'Wi-Fi': 'free', 'Wheelchair Accessible': Tru...</td>\n",
       "      <td>f8luua75t2Is5iP6nxcXQQ</td>\n",
       "      <td>[Food, Ice Cream &amp; Frozen Yogurt]</td>\n",
       "      <td>Goodyear</td>\n",
       "      <td>14175 W Indian School Rd\\nSte A-5\\nGoodyear, A...</td>\n",
       "      <td>{'Tuesday': {'open': '11:00', 'close': '22:00'...</td>\n",
       "      <td>33.484449</td>\n",
       "      <td>-112.364198</td>\n",
       "      <td>Yogurtini</td>\n",
       "      <td>[]</td>\n",
       "      <td>True</td>\n",
       "      <td>53</td>\n",
       "      <td>5.0</td>\n",
       "      <td>AZ</td>\n",
       "      <td>business</td>\n",
       "    </tr>\n",
       "    <tr>\n",
       "      <th>Us-93TD-lG_kVJzDPvmppw</th>\n",
       "      <td>{'Accepts Credit Cards': True}</td>\n",
       "      <td>Us-93TD-lG_kVJzDPvmppw</td>\n",
       "      <td>[Local Services, Carpet Cleaning]</td>\n",
       "      <td>Phoenix</td>\n",
       "      <td>5444 E Camelback Rd\\nPhoenix, AZ 85018</td>\n",
       "      <td>{'Tuesday': {'open': '00:00', 'close': '00:00'...</td>\n",
       "      <td>33.501848</td>\n",
       "      <td>-111.964967</td>\n",
       "      <td>I Clean Carpets</td>\n",
       "      <td>[]</td>\n",
       "      <td>True</td>\n",
       "      <td>250</td>\n",
       "      <td>5.0</td>\n",
       "      <td>AZ</td>\n",
       "      <td>business</td>\n",
       "    </tr>\n",
       "    <tr>\n",
       "      <th>qrjPKkSPzodIfP0kW1mtEw</th>\n",
       "      <td>{'Wi-Fi': 'free', 'Wheelchair Accessible': Tru...</td>\n",
       "      <td>qrjPKkSPzodIfP0kW1mtEw</td>\n",
       "      <td>[Hair Salons, Skin Care, Hair Removal, Beauty ...</td>\n",
       "      <td>Scottsdale</td>\n",
       "      <td>4328 N Wells Fargo Ave\\nSte 2\\nScottsdale, AZ ...</td>\n",
       "      <td>{'Tuesday': {'open': '10:00', 'close': '19:00'...</td>\n",
       "      <td>33.499149</td>\n",
       "      <td>-111.923063</td>\n",
       "      <td>Salon D'Shayn</td>\n",
       "      <td>[]</td>\n",
       "      <td>True</td>\n",
       "      <td>230</td>\n",
       "      <td>4.5</td>\n",
       "      <td>AZ</td>\n",
       "      <td>business</td>\n",
       "    </tr>\n",
       "    <tr>\n",
       "      <th>L-bwqJzTbT7ODisS4sepJg</th>\n",
       "      <td>{'Wi-Fi': 'free', 'Wheelchair Accessible': Tru...</td>\n",
       "      <td>L-bwqJzTbT7ODisS4sepJg</td>\n",
       "      <td>[Food, Coffee &amp; Tea, Juice Bars &amp; Smoothies, O...</td>\n",
       "      <td>Las Vegas</td>\n",
       "      <td>6145 S Fort Apache Rd\\nSte 506\\nSpring Valley\\...</td>\n",
       "      <td>{'Tuesday': {'open': '07:00', 'close': '20:00'...</td>\n",
       "      <td>36.075943</td>\n",
       "      <td>-115.298020</td>\n",
       "      <td>Pressed For Juice</td>\n",
       "      <td>[Spring Valley]</td>\n",
       "      <td>True</td>\n",
       "      <td>105</td>\n",
       "      <td>4.5</td>\n",
       "      <td>NV</td>\n",
       "      <td>business</td>\n",
       "    </tr>\n",
       "    <tr>\n",
       "      <th>pwF_phwjD1ZHsY1xC9H7mA</th>\n",
       "      <td>{'Has TV': False, 'Takes Reservations': False,...</td>\n",
       "      <td>pwF_phwjD1ZHsY1xC9H7mA</td>\n",
       "      <td>[Food, Coffee &amp; Tea, Vegan, Restaurants]</td>\n",
       "      <td>Las Vegas</td>\n",
       "      <td>3130 E Sunset Rd\\nSte A\\nSoutheast\\nLas Vegas,...</td>\n",
       "      <td>{'Tuesday': {'open': '06:00', 'close': '21:00'...</td>\n",
       "      <td>36.071946</td>\n",
       "      <td>-115.106902</td>\n",
       "      <td>Sunrise Coffee</td>\n",
       "      <td>[Southeast]</td>\n",
       "      <td>True</td>\n",
       "      <td>780</td>\n",
       "      <td>4.5</td>\n",
       "      <td>NV</td>\n",
       "      <td>business</td>\n",
       "    </tr>\n",
       "    <tr>\n",
       "      <th>IwFpnIKo8xCVvoUCwluoXA</th>\n",
       "      <td>{'Wheelchair Accessible': True, 'Music': {'vid...</td>\n",
       "      <td>IwFpnIKo8xCVvoUCwluoXA</td>\n",
       "      <td>[Arts &amp; Entertainment, Performing Arts]</td>\n",
       "      <td>Las Vegas</td>\n",
       "      <td>Harrah's Las Vegas Hotel Casino\\n3475 Las Vega...</td>\n",
       "      <td>{'Saturday': {'open': '13:00', 'close': '15:00...</td>\n",
       "      <td>36.119310</td>\n",
       "      <td>-115.171770</td>\n",
       "      <td>The Mac King Comedy Magic Show</td>\n",
       "      <td>[The Strip]</td>\n",
       "      <td>True</td>\n",
       "      <td>390</td>\n",
       "      <td>4.5</td>\n",
       "      <td>NV</td>\n",
       "      <td>business</td>\n",
       "    </tr>\n",
       "    <tr>\n",
       "      <th>zWS7hGTbydfkmubhS8qKRQ</th>\n",
       "      <td>{'Smoking': 'no', 'Has TV': False, 'Wheelchair...</td>\n",
       "      <td>zWS7hGTbydfkmubhS8qKRQ</td>\n",
       "      <td>[Arts &amp; Entertainment, Performing Arts, Nightl...</td>\n",
       "      <td>Las Vegas</td>\n",
       "      <td>Mirage Hotel and Casino\\n3400 Las Vegas Blvd S...</td>\n",
       "      <td>{'Saturday': {'open': '19:30', 'close': '21:00...</td>\n",
       "      <td>36.121143</td>\n",
       "      <td>-115.174134</td>\n",
       "      <td>Boyz II Men</td>\n",
       "      <td>[The Strip]</td>\n",
       "      <td>True</td>\n",
       "      <td>150</td>\n",
       "      <td>5.0</td>\n",
       "      <td>NV</td>\n",
       "      <td>business</td>\n",
       "    </tr>\n",
       "    <tr>\n",
       "      <th>4bnLfKXorJ9HVmt7Oc8lcw</th>\n",
       "      <td>{'Good for Kids': False}</td>\n",
       "      <td>4bnLfKXorJ9HVmt7Oc8lcw</td>\n",
       "      <td>[Local Flavor]</td>\n",
       "      <td>Phoenix</td>\n",
       "      <td>La Grande Orange Bake Shop\\n4410 N 40th St\\nPh...</td>\n",
       "      <td>{}</td>\n",
       "      <td>33.502139</td>\n",
       "      <td>-111.995748</td>\n",
       "      <td>CMYE: Yelp's Sweet Bake-In at La Grande Orange...</td>\n",
       "      <td>[]</td>\n",
       "      <td>True</td>\n",
       "      <td>34</td>\n",
       "      <td>5.0</td>\n",
       "      <td>AZ</td>\n",
       "      <td>business</td>\n",
       "    </tr>\n",
       "    <tr>\n",
       "      <th>VqU4Pl4URJjjgFS1UhseMg</th>\n",
       "      <td>{'Has TV': False, 'Takes Reservations': False,...</td>\n",
       "      <td>VqU4Pl4URJjjgFS1UhseMg</td>\n",
       "      <td>[Food, Tea Rooms, Desserts, Bubble Tea]</td>\n",
       "      <td>Las Vegas</td>\n",
       "      <td>7380 S Rainbow Blvd\\nSte 101\\nSouthwest\\nLas V...</td>\n",
       "      <td>{'Tuesday': {'open': '11:00', 'close': '22:00'...</td>\n",
       "      <td>36.054195</td>\n",
       "      <td>-115.242443</td>\n",
       "      <td>Brew Tea Bar</td>\n",
       "      <td>[Southwest]</td>\n",
       "      <td>True</td>\n",
       "      <td>579</td>\n",
       "      <td>5.0</td>\n",
       "      <td>NV</td>\n",
       "      <td>business</td>\n",
       "    </tr>\n",
       "    <tr>\n",
       "      <th>cA9cTalUXibyWZZYjh-kiQ</th>\n",
       "      <td>{'Accepts Credit Cards': True, 'By Appointment...</td>\n",
       "      <td>cA9cTalUXibyWZZYjh-kiQ</td>\n",
       "      <td>[Local Services, Damage Restoration, Air Duct ...</td>\n",
       "      <td>Las Vegas</td>\n",
       "      <td>8985 S Durango Dr\\nSouthwest\\nLas Vegas, NV 89113</td>\n",
       "      <td>{'Tuesday': {'open': '08:00', 'close': '18:00'...</td>\n",
       "      <td>36.025675</td>\n",
       "      <td>-115.279201</td>\n",
       "      <td>Carpet Monkey Of Las Vegas</td>\n",
       "      <td>[Southwest]</td>\n",
       "      <td>True</td>\n",
       "      <td>273</td>\n",
       "      <td>5.0</td>\n",
       "      <td>NV</td>\n",
       "      <td>business</td>\n",
       "    </tr>\n",
       "    <tr>\n",
       "      <th>02CV16hndzI60LuI2kDkOA</th>\n",
       "      <td>{'Accepts Credit Cards': True, 'By Appointment...</td>\n",
       "      <td>02CV16hndzI60LuI2kDkOA</td>\n",
       "      <td>[Movers, Local Services, Home Services, Self S...</td>\n",
       "      <td>Phoenix</td>\n",
       "      <td>2330 N 31st Ave\\nPhoenix, AZ 85009</td>\n",
       "      <td>{'Tuesday': {'open': '08:30', 'close': '18:30'...</td>\n",
       "      <td>33.474558</td>\n",
       "      <td>-112.126114</td>\n",
       "      <td>Camelback Moving</td>\n",
       "      <td>[]</td>\n",
       "      <td>True</td>\n",
       "      <td>311</td>\n",
       "      <td>4.5</td>\n",
       "      <td>AZ</td>\n",
       "      <td>business</td>\n",
       "    </tr>\n",
       "    <tr>\n",
       "      <th>1hY0Q3BYDq6CJDQay2xRQA</th>\n",
       "      <td>{'Parking': {'validated': False, 'lot': True, ...</td>\n",
       "      <td>1hY0Q3BYDq6CJDQay2xRQA</td>\n",
       "      <td>[Health Markets, Food, Shopping, Vitamins &amp; Su...</td>\n",
       "      <td>Las Vegas</td>\n",
       "      <td>9680 S Eastern Ave\\nSte 120\\nSoutheast\\nLas Ve...</td>\n",
       "      <td>{'Tuesday': {'open': '09:00', 'close': '21:00'...</td>\n",
       "      <td>36.013838</td>\n",
       "      <td>-115.117968</td>\n",
       "      <td>Vegas Discount Nutrition</td>\n",
       "      <td>[Southeast]</td>\n",
       "      <td>True</td>\n",
       "      <td>223</td>\n",
       "      <td>5.0</td>\n",
       "      <td>NV</td>\n",
       "      <td>business</td>\n",
       "    </tr>\n",
       "    <tr>\n",
       "      <th>8clKtz2RxFRDLnzZwMgA4w</th>\n",
       "      <td>{}</td>\n",
       "      <td>8clKtz2RxFRDLnzZwMgA4w</td>\n",
       "      <td>[Pet Services, Pet Boarding/Pet Sitting, Pets]</td>\n",
       "      <td>Las Vegas</td>\n",
       "      <td>5175 S Valley View Blvd\\nLas Vegas, NV 89118</td>\n",
       "      <td>{'Tuesday': {'open': '07:00', 'close': '19:00'...</td>\n",
       "      <td>36.095841</td>\n",
       "      <td>-115.190338</td>\n",
       "      <td>Camp Bow Wow Las Vegas</td>\n",
       "      <td>[]</td>\n",
       "      <td>True</td>\n",
       "      <td>127</td>\n",
       "      <td>4.5</td>\n",
       "      <td>NV</td>\n",
       "      <td>business</td>\n",
       "    </tr>\n",
       "    <tr>\n",
       "      <th>tR8-0OWg4UbwE16s6w6Y2A</th>\n",
       "      <td>{'Has TV': False, 'Good For Dancing': False, '...</td>\n",
       "      <td>tR8-0OWg4UbwE16s6w6Y2A</td>\n",
       "      <td>[Arts &amp; Entertainment, Nightlife, Music Venues]</td>\n",
       "      <td>Las Vegas</td>\n",
       "      <td>3570 Las Vegas Blvd S\\nSte1\\nThe Strip\\nLas Ve...</td>\n",
       "      <td>{}</td>\n",
       "      <td>36.117680</td>\n",
       "      <td>-115.176857</td>\n",
       "      <td>Elton John-The Million Dollar Piano</td>\n",
       "      <td>[The Strip]</td>\n",
       "      <td>True</td>\n",
       "      <td>93</td>\n",
       "      <td>4.5</td>\n",
       "      <td>NV</td>\n",
       "      <td>business</td>\n",
       "    </tr>\n",
       "    <tr>\n",
       "      <th>QnAzW6KMSciUcuJ20oI3Bw</th>\n",
       "      <td>{'Caters': False, 'Takes Reservations': False,...</td>\n",
       "      <td>QnAzW6KMSciUcuJ20oI3Bw</td>\n",
       "      <td>[American (Traditional), Pizza, Salad, Restaur...</td>\n",
       "      <td>Gilbert</td>\n",
       "      <td>3000 E Ray Rd\\nBldg 1\\nGilbert, AZ 85296</td>\n",
       "      <td>{'Tuesday': {'open': '08:00', 'close': '21:00'...</td>\n",
       "      <td>33.321062</td>\n",
       "      <td>-111.723919</td>\n",
       "      <td>Joe's Farm Grill</td>\n",
       "      <td>[]</td>\n",
       "      <td>True</td>\n",
       "      <td>1368</td>\n",
       "      <td>4.0</td>\n",
       "      <td>AZ</td>\n",
       "      <td>business</td>\n",
       "    </tr>\n",
       "    <tr>\n",
       "      <th>3AoCAj24yffBkl1vh9lkuQ</th>\n",
       "      <td>{'Wheelchair Accessible': True, 'Parking': {'v...</td>\n",
       "      <td>3AoCAj24yffBkl1vh9lkuQ</td>\n",
       "      <td>[Automotive, Auto Customization, Auto Glass Se...</td>\n",
       "      <td>Las Vegas</td>\n",
       "      <td>4510 W Diablo Dr\\nSte A102\\nLas Vegas, NV 89118</td>\n",
       "      <td>{'Wednesday': {'open': '08:00', 'close': '18:3...</td>\n",
       "      <td>36.090223</td>\n",
       "      <td>-115.202364</td>\n",
       "      <td>Eco-Tint</td>\n",
       "      <td>[]</td>\n",
       "      <td>True</td>\n",
       "      <td>376</td>\n",
       "      <td>5.0</td>\n",
       "      <td>NV</td>\n",
       "      <td>business</td>\n",
       "    </tr>\n",
       "    <tr>\n",
       "      <th>b7GM0x9zZU5gq1aXErUf7Q</th>\n",
       "      <td>{'Has TV': False, 'Takes Reservations': True, ...</td>\n",
       "      <td>b7GM0x9zZU5gq1aXErUf7Q</td>\n",
       "      <td>[Bakeries, Food, Cafes, Chocolatiers &amp; Shops, ...</td>\n",
       "      <td>Phoenix</td>\n",
       "      <td>Biltmore Fashion Park\\n2502 E Camelback, Ste 1...</td>\n",
       "      <td>{'Tuesday': {'open': '10:00', 'close': '20:00'...</td>\n",
       "      <td>33.508269</td>\n",
       "      <td>-112.031716</td>\n",
       "      <td>Julia Baker Confections</td>\n",
       "      <td>[]</td>\n",
       "      <td>False</td>\n",
       "      <td>76</td>\n",
       "      <td>4.5</td>\n",
       "      <td>AZ</td>\n",
       "      <td>business</td>\n",
       "    </tr>\n",
       "    <tr>\n",
       "      <th>vnKzoJr2C2YOTSQPt_F-tA</th>\n",
       "      <td>{'Accepts Credit Cards': True}</td>\n",
       "      <td>vnKzoJr2C2YOTSQPt_F-tA</td>\n",
       "      <td>[Auto Repair, Automotive, Body Shops]</td>\n",
       "      <td>Las Vegas</td>\n",
       "      <td>5350 Spring Mountain Rd\\nSte 200\\nChinatown\\nL...</td>\n",
       "      <td>{'Wednesday': {'open': '08:00', 'close': '18:0...</td>\n",
       "      <td>36.126201</td>\n",
       "      <td>-115.214819</td>\n",
       "      <td>Japanese Car Service</td>\n",
       "      <td>[Chinatown]</td>\n",
       "      <td>True</td>\n",
       "      <td>106</td>\n",
       "      <td>4.5</td>\n",
       "      <td>NV</td>\n",
       "      <td>business</td>\n",
       "    </tr>\n",
       "    <tr>\n",
       "      <th>...</th>\n",
       "      <td>...</td>\n",
       "      <td>...</td>\n",
       "      <td>...</td>\n",
       "      <td>...</td>\n",
       "      <td>...</td>\n",
       "      <td>...</td>\n",
       "      <td>...</td>\n",
       "      <td>...</td>\n",
       "      <td>...</td>\n",
       "      <td>...</td>\n",
       "      <td>...</td>\n",
       "      <td>...</td>\n",
       "      <td>...</td>\n",
       "      <td>...</td>\n",
       "      <td>...</td>\n",
       "    </tr>\n",
       "    <tr>\n",
       "      <th>erBoatMp1TFi_NPxTigp6w</th>\n",
       "      <td>{'Takes Reservations': True, 'Wheelchair Acces...</td>\n",
       "      <td>erBoatMp1TFi_NPxTigp6w</td>\n",
       "      <td>[Mexican, Restaurants]</td>\n",
       "      <td>Scottsdale</td>\n",
       "      <td>7135 E Camelback Rd\\nScottsdale, AZ 85251</td>\n",
       "      <td>{}</td>\n",
       "      <td>33.501982</td>\n",
       "      <td>-111.927618</td>\n",
       "      <td>Pink Taco</td>\n",
       "      <td>[]</td>\n",
       "      <td>False</td>\n",
       "      <td>55</td>\n",
       "      <td>2.5</td>\n",
       "      <td>AZ</td>\n",
       "      <td>business</td>\n",
       "    </tr>\n",
       "    <tr>\n",
       "      <th>ipNveHQxPlRmgSe9CSt9dw</th>\n",
       "      <td>{'Has TV': True, 'Takes Reservations': False, ...</td>\n",
       "      <td>ipNveHQxPlRmgSe9CSt9dw</td>\n",
       "      <td>[Arts &amp; Entertainment, Music Venues, Bars, Cas...</td>\n",
       "      <td>Fort McDowell</td>\n",
       "      <td>10424 N Fort Mcdowell Rd\\nFort McDowell, AZ 85264</td>\n",
       "      <td>{}</td>\n",
       "      <td>33.582272</td>\n",
       "      <td>-111.680414</td>\n",
       "      <td>Fort Mcdowell Casino</td>\n",
       "      <td>[]</td>\n",
       "      <td>True</td>\n",
       "      <td>85</td>\n",
       "      <td>2.5</td>\n",
       "      <td>AZ</td>\n",
       "      <td>business</td>\n",
       "    </tr>\n",
       "    <tr>\n",
       "      <th>Kma0nPwuWfqelROxRIwLRw</th>\n",
       "      <td>{'Has TV': True, 'Takes Reservations': False, ...</td>\n",
       "      <td>Kma0nPwuWfqelROxRIwLRw</td>\n",
       "      <td>[Mexican, Restaurants]</td>\n",
       "      <td>Las Vegas</td>\n",
       "      <td>5630 Centennial Center Blvd\\nNorthwest\\nLas Ve...</td>\n",
       "      <td>{'Tuesday': {'open': '11:00', 'close': '21:00'...</td>\n",
       "      <td>36.264599</td>\n",
       "      <td>-115.256412</td>\n",
       "      <td>On the Border Mexican Grill &amp; Cantina</td>\n",
       "      <td>[Northwest, Centennial]</td>\n",
       "      <td>True</td>\n",
       "      <td>168</td>\n",
       "      <td>2.5</td>\n",
       "      <td>NV</td>\n",
       "      <td>business</td>\n",
       "    </tr>\n",
       "    <tr>\n",
       "      <th>TmTB0Nel-U_zOr04OTUreA</th>\n",
       "      <td>{'Accepts Credit Cards': True}</td>\n",
       "      <td>TmTB0Nel-U_zOr04OTUreA</td>\n",
       "      <td>[Local Services, Shipping Centers, Post Office...</td>\n",
       "      <td>Las Vegas</td>\n",
       "      <td>455 E Pebble Rd\\nSoutheast\\nLas Vegas, NV 89123</td>\n",
       "      <td>{'Tuesday': {'open': '08:30', 'close': '17:00'...</td>\n",
       "      <td>36.027059</td>\n",
       "      <td>-115.153343</td>\n",
       "      <td>US Post Office</td>\n",
       "      <td>[Southeast]</td>\n",
       "      <td>True</td>\n",
       "      <td>75</td>\n",
       "      <td>1.5</td>\n",
       "      <td>NV</td>\n",
       "      <td>business</td>\n",
       "    </tr>\n",
       "    <tr>\n",
       "      <th>58G5uy89YPe7sIJa7Ze99g</th>\n",
       "      <td>{}</td>\n",
       "      <td>58G5uy89YPe7sIJa7Ze99g</td>\n",
       "      <td>[Hotels &amp; Travel, Car Rental]</td>\n",
       "      <td>Las Vegas</td>\n",
       "      <td>7135 Gilespie St\\nSoutheast\\nLas Vegas, NV 89119</td>\n",
       "      <td>{'Tuesday': {'open': '00:00', 'close': '00:00'...</td>\n",
       "      <td>36.060061</td>\n",
       "      <td>-115.165044</td>\n",
       "      <td>Budget Car Rental</td>\n",
       "      <td>[Southeast]</td>\n",
       "      <td>True</td>\n",
       "      <td>295</td>\n",
       "      <td>1.5</td>\n",
       "      <td>NV</td>\n",
       "      <td>business</td>\n",
       "    </tr>\n",
       "    <tr>\n",
       "      <th>RUz4d1D83xRRXcc-ffkM5g</th>\n",
       "      <td>{'Has TV': False, 'Takes Reservations': False,...</td>\n",
       "      <td>RUz4d1D83xRRXcc-ffkM5g</td>\n",
       "      <td>[Buffets, Restaurants]</td>\n",
       "      <td>Las Vegas</td>\n",
       "      <td>Eastside Cannery\\n5255 Boulder Hwy\\nLas Vegas,...</td>\n",
       "      <td>{'Tuesday': {'open': '16:00', 'close': '20:00'...</td>\n",
       "      <td>36.107901</td>\n",
       "      <td>-115.056372</td>\n",
       "      <td>Cannery Row Buffet</td>\n",
       "      <td>[]</td>\n",
       "      <td>True</td>\n",
       "      <td>46</td>\n",
       "      <td>2.0</td>\n",
       "      <td>NV</td>\n",
       "      <td>business</td>\n",
       "    </tr>\n",
       "    <tr>\n",
       "      <th>bdsKG7MQIMmZ73lgOaTZ0A</th>\n",
       "      <td>{'Has TV': True, 'Takes Reservations': False, ...</td>\n",
       "      <td>bdsKG7MQIMmZ73lgOaTZ0A</td>\n",
       "      <td>[Asian Fusion, Restaurants]</td>\n",
       "      <td>Las Vegas</td>\n",
       "      <td>3545 Las Vegas Blvd S\\nThe Strip\\nLas Vegas, N...</td>\n",
       "      <td>{'Tuesday': {'open': '12:00', 'close': '00:00'...</td>\n",
       "      <td>36.117748</td>\n",
       "      <td>-115.170475</td>\n",
       "      <td>FAME</td>\n",
       "      <td>[The Strip]</td>\n",
       "      <td>False</td>\n",
       "      <td>93</td>\n",
       "      <td>2.0</td>\n",
       "      <td>NV</td>\n",
       "      <td>business</td>\n",
       "    </tr>\n",
       "    <tr>\n",
       "      <th>EF5vR_UUavzPjtgMYFCg5Q</th>\n",
       "      <td>{'Has TV': True, 'Takes Reservations': True, '...</td>\n",
       "      <td>EF5vR_UUavzPjtgMYFCg5Q</td>\n",
       "      <td>[Mexican, Restaurants]</td>\n",
       "      <td>Las Vegas</td>\n",
       "      <td>Flamingo Hotel\\n3555 Las Vegas Blvd S\\nThe Str...</td>\n",
       "      <td>{'Tuesday': {'open': '08:00', 'close': '02:00'...</td>\n",
       "      <td>36.127615</td>\n",
       "      <td>-115.170364</td>\n",
       "      <td>Carlos' N' Charlie's</td>\n",
       "      <td>[The Strip]</td>\n",
       "      <td>True</td>\n",
       "      <td>272</td>\n",
       "      <td>2.0</td>\n",
       "      <td>NV</td>\n",
       "      <td>business</td>\n",
       "    </tr>\n",
       "    <tr>\n",
       "      <th>qdCbbg7FyD6mzf0L_g64uA</th>\n",
       "      <td>{'Has TV': False, 'Takes Reservations': False,...</td>\n",
       "      <td>qdCbbg7FyD6mzf0L_g64uA</td>\n",
       "      <td>[Burgers, Fast Food, Chicken Wings, Restaurants]</td>\n",
       "      <td>Las Vegas</td>\n",
       "      <td>7925 S Rainbow Blvd\\nSouthwest\\nLas Vegas, NV ...</td>\n",
       "      <td>{}</td>\n",
       "      <td>36.044874</td>\n",
       "      <td>-115.243900</td>\n",
       "      <td>Church's Chicken</td>\n",
       "      <td>[Southwest]</td>\n",
       "      <td>True</td>\n",
       "      <td>80</td>\n",
       "      <td>2.0</td>\n",
       "      <td>NV</td>\n",
       "      <td>business</td>\n",
       "    </tr>\n",
       "    <tr>\n",
       "      <th>67-DcR8Npwuc9lRph194cw</th>\n",
       "      <td>{'Has TV': False, 'Takes Reservations': False,...</td>\n",
       "      <td>67-DcR8Npwuc9lRph194cw</td>\n",
       "      <td>[Arts &amp; Entertainment, Restaurants, Festivals,...</td>\n",
       "      <td>Las Vegas</td>\n",
       "      <td>628 W Craig Rd\\nLas Vegas, NV 89032</td>\n",
       "      <td>{}</td>\n",
       "      <td>36.241289</td>\n",
       "      <td>-115.149580</td>\n",
       "      <td>San Gennaro Feast</td>\n",
       "      <td>[]</td>\n",
       "      <td>True</td>\n",
       "      <td>85</td>\n",
       "      <td>2.5</td>\n",
       "      <td>NV</td>\n",
       "      <td>business</td>\n",
       "    </tr>\n",
       "    <tr>\n",
       "      <th>26ecLqpDHrB3socZGfDuhQ</th>\n",
       "      <td>{}</td>\n",
       "      <td>26ecLqpDHrB3socZGfDuhQ</td>\n",
       "      <td>[Hotels &amp; Travel, Travel Services, Tours, Tran...</td>\n",
       "      <td>Las Vegas</td>\n",
       "      <td>1550 S Industrial Rd\\nDowntown\\nLas Vegas, NV ...</td>\n",
       "      <td>{'Tuesday': {'open': '00:00', 'close': '00:00'...</td>\n",
       "      <td>36.154658</td>\n",
       "      <td>-115.159219</td>\n",
       "      <td>Showtime Tours</td>\n",
       "      <td>[Downtown]</td>\n",
       "      <td>True</td>\n",
       "      <td>358</td>\n",
       "      <td>1.5</td>\n",
       "      <td>NV</td>\n",
       "      <td>business</td>\n",
       "    </tr>\n",
       "    <tr>\n",
       "      <th>aEol06ruyQJZYlDMPJGfUg</th>\n",
       "      <td>{'Wheelchair Accessible': True, 'Price Range':...</td>\n",
       "      <td>aEol06ruyQJZYlDMPJGfUg</td>\n",
       "      <td>[Bakeries, Food]</td>\n",
       "      <td>Las Vegas</td>\n",
       "      <td>Downtown Summerlin\\n2010 Festival Plaza, 150\\n...</td>\n",
       "      <td>{'Tuesday': {'open': '10:00', 'close': '21:00'...</td>\n",
       "      <td>36.154862</td>\n",
       "      <td>-115.331429</td>\n",
       "      <td>Wonderland Bakery</td>\n",
       "      <td>[South Summerlin]</td>\n",
       "      <td>True</td>\n",
       "      <td>75</td>\n",
       "      <td>2.5</td>\n",
       "      <td>NV</td>\n",
       "      <td>business</td>\n",
       "    </tr>\n",
       "    <tr>\n",
       "      <th>lRALdho4l9cpiw9WdGkV1A</th>\n",
       "      <td>{}</td>\n",
       "      <td>lRALdho4l9cpiw9WdGkV1A</td>\n",
       "      <td>[Hotels &amp; Travel, Airlines, Transportation]</td>\n",
       "      <td>Mesa</td>\n",
       "      <td>5835 S Sossaman Rd\\nMesa, AZ 85212</td>\n",
       "      <td>{}</td>\n",
       "      <td>33.309792</td>\n",
       "      <td>-111.669200</td>\n",
       "      <td>Allegiant</td>\n",
       "      <td>[]</td>\n",
       "      <td>True</td>\n",
       "      <td>166</td>\n",
       "      <td>1.5</td>\n",
       "      <td>AZ</td>\n",
       "      <td>business</td>\n",
       "    </tr>\n",
       "    <tr>\n",
       "      <th>K5kU2IN6mXvMo-Cx0oQFZg</th>\n",
       "      <td>{'Has TV': True, 'Takes Reservations': False, ...</td>\n",
       "      <td>K5kU2IN6mXvMo-Cx0oQFZg</td>\n",
       "      <td>[Mexican, Restaurants]</td>\n",
       "      <td>Glendale</td>\n",
       "      <td>6770 N Sunrise Blvd\\nSte G109\\nGlendale, AZ 85303</td>\n",
       "      <td>{'Tuesday': {'open': '11:00', 'close': '02:00'...</td>\n",
       "      <td>33.533158</td>\n",
       "      <td>-112.260384</td>\n",
       "      <td>Calico Jack's</td>\n",
       "      <td>[]</td>\n",
       "      <td>True</td>\n",
       "      <td>174</td>\n",
       "      <td>1.5</td>\n",
       "      <td>AZ</td>\n",
       "      <td>business</td>\n",
       "    </tr>\n",
       "    <tr>\n",
       "      <th>6sqAj_mXmYkZ3UKsyRGGHQ</th>\n",
       "      <td>{'Has TV': True, 'Takes Reservations': True, '...</td>\n",
       "      <td>6sqAj_mXmYkZ3UKsyRGGHQ</td>\n",
       "      <td>[Hotels &amp; Travel, Arts &amp; Entertainment, Casino...</td>\n",
       "      <td>Las Vegas</td>\n",
       "      <td>18 E Fremont St\\nDowntown\\nLas Vegas, NV 89101</td>\n",
       "      <td>{}</td>\n",
       "      <td>36.172075</td>\n",
       "      <td>-115.145689</td>\n",
       "      <td>Las Vegas Club Hotel &amp; Casino</td>\n",
       "      <td>[Downtown]</td>\n",
       "      <td>False</td>\n",
       "      <td>98</td>\n",
       "      <td>2.0</td>\n",
       "      <td>NV</td>\n",
       "      <td>business</td>\n",
       "    </tr>\n",
       "    <tr>\n",
       "      <th>GhQQsSApIRfUmIcqzmSaGA</th>\n",
       "      <td>{}</td>\n",
       "      <td>GhQQsSApIRfUmIcqzmSaGA</td>\n",
       "      <td>[Hotels &amp; Travel, Airlines, Transportation]</td>\n",
       "      <td>Las Vegas</td>\n",
       "      <td>5757 Wayne Newton Blvd\\nSoutheast\\nLas Vegas, ...</td>\n",
       "      <td>{}</td>\n",
       "      <td>36.085729</td>\n",
       "      <td>-115.153140</td>\n",
       "      <td>Spirit Airlines</td>\n",
       "      <td>[Southeast]</td>\n",
       "      <td>True</td>\n",
       "      <td>739</td>\n",
       "      <td>1.5</td>\n",
       "      <td>NV</td>\n",
       "      <td>business</td>\n",
       "    </tr>\n",
       "    <tr>\n",
       "      <th>gnafBL9EZE1kn0xD7Yf3_w</th>\n",
       "      <td>{'Good for Kids': False}</td>\n",
       "      <td>gnafBL9EZE1kn0xD7Yf3_w</td>\n",
       "      <td>[Arts &amp; Entertainment, Performing Arts]</td>\n",
       "      <td>Las Vegas</td>\n",
       "      <td>Treasure Island\\n3300 Las Vegas Blvd S\\nThe St...</td>\n",
       "      <td>{}</td>\n",
       "      <td>36.124823</td>\n",
       "      <td>-115.171971</td>\n",
       "      <td>Sirens of Treasure Island</td>\n",
       "      <td>[The Strip]</td>\n",
       "      <td>False</td>\n",
       "      <td>143</td>\n",
       "      <td>2.0</td>\n",
       "      <td>NV</td>\n",
       "      <td>business</td>\n",
       "    </tr>\n",
       "    <tr>\n",
       "      <th>XoitWJUjHcdBl9GqHTsdjw</th>\n",
       "      <td>{'Has TV': True, 'Takes Reservations': True, '...</td>\n",
       "      <td>XoitWJUjHcdBl9GqHTsdjw</td>\n",
       "      <td>[American (Traditional), Southern, Restaurants]</td>\n",
       "      <td>Las Vegas</td>\n",
       "      <td>6593 Las Vegas Blvd S\\nSoutheast\\nLas Vegas, N...</td>\n",
       "      <td>{}</td>\n",
       "      <td>36.067199</td>\n",
       "      <td>-115.172232</td>\n",
       "      <td>Ranch House Kitchen</td>\n",
       "      <td>[Southeast]</td>\n",
       "      <td>False</td>\n",
       "      <td>69</td>\n",
       "      <td>2.0</td>\n",
       "      <td>NV</td>\n",
       "      <td>business</td>\n",
       "    </tr>\n",
       "    <tr>\n",
       "      <th>8z-v_pn00BcnrWs9bacYUQ</th>\n",
       "      <td>{'Wi-Fi': 'paid', 'Price Range': 2, 'Good for ...</td>\n",
       "      <td>8z-v_pn00BcnrWs9bacYUQ</td>\n",
       "      <td>[Hotels &amp; Travel, Arts &amp; Entertainment, Casino...</td>\n",
       "      <td>Las Vegas</td>\n",
       "      <td>The Quad Las Vegas Resort &amp; Casino\\n3535 S Las...</td>\n",
       "      <td>{'Tuesday': {'open': '00:00', 'close': '00:00'...</td>\n",
       "      <td>36.123843</td>\n",
       "      <td>-115.170220</td>\n",
       "      <td>The Quad Las Vegas Resort &amp; Casino</td>\n",
       "      <td>[The Strip]</td>\n",
       "      <td>False</td>\n",
       "      <td>609</td>\n",
       "      <td>2.0</td>\n",
       "      <td>NV</td>\n",
       "      <td>business</td>\n",
       "    </tr>\n",
       "    <tr>\n",
       "      <th>0InQd9vuhRc98OksC3Ks8Q</th>\n",
       "      <td>{'Has TV': False, 'Takes Reservations': False,...</td>\n",
       "      <td>0InQd9vuhRc98OksC3Ks8Q</td>\n",
       "      <td>[American (Traditional), Buffets, Restaurants]</td>\n",
       "      <td>Las Vegas</td>\n",
       "      <td>Excalibur Hotel Casino\\n3850 Las Vegas Blvd S\\...</td>\n",
       "      <td>{'Tuesday': {'open': '07:00', 'close': '22:00'...</td>\n",
       "      <td>36.098878</td>\n",
       "      <td>-115.175641</td>\n",
       "      <td>Buffet Roundtable</td>\n",
       "      <td>[The Strip]</td>\n",
       "      <td>False</td>\n",
       "      <td>190</td>\n",
       "      <td>2.0</td>\n",
       "      <td>NV</td>\n",
       "      <td>business</td>\n",
       "    </tr>\n",
       "    <tr>\n",
       "      <th>KVYSUfN89b-nih-_9HhF6g</th>\n",
       "      <td>{'Takes Reservations': True, 'Attire': 'casual...</td>\n",
       "      <td>KVYSUfN89b-nih-_9HhF6g</td>\n",
       "      <td>[Bars, American (New), Nightlife, Dance Clubs,...</td>\n",
       "      <td>Glendale</td>\n",
       "      <td>9425 W Coyotes Blvd\\nGlendale, AZ 85305</td>\n",
       "      <td>{'Tuesday': {'open': '11:00', 'close': '02:00'...</td>\n",
       "      <td>33.533049</td>\n",
       "      <td>-112.262036</td>\n",
       "      <td>McFadden's Restaurant &amp; Saloon</td>\n",
       "      <td>[]</td>\n",
       "      <td>True</td>\n",
       "      <td>311</td>\n",
       "      <td>1.5</td>\n",
       "      <td>AZ</td>\n",
       "      <td>business</td>\n",
       "    </tr>\n",
       "    <tr>\n",
       "      <th>_G5pDGRJL0mhLRgIViW2sA</th>\n",
       "      <td>{'Wheelchair Accessible': True, 'Good for Kids...</td>\n",
       "      <td>_G5pDGRJL0mhLRgIViW2sA</td>\n",
       "      <td>[Arts &amp; Entertainment, Performing Arts]</td>\n",
       "      <td>Las Vegas</td>\n",
       "      <td>Luxor Las Vegas\\n3900 Las Vegas Blvd S\\nThe St...</td>\n",
       "      <td>{'Saturday': {'open': '12:00', 'close': '22:00...</td>\n",
       "      <td>36.095580</td>\n",
       "      <td>-115.175818</td>\n",
       "      <td>Cirque du Soleil - Criss Angel Believe</td>\n",
       "      <td>[The Strip]</td>\n",
       "      <td>False</td>\n",
       "      <td>833</td>\n",
       "      <td>1.5</td>\n",
       "      <td>NV</td>\n",
       "      <td>business</td>\n",
       "    </tr>\n",
       "    <tr>\n",
       "      <th>PEyRw3HOWcDnd2XHRLq5RQ</th>\n",
       "      <td>{'Good for Kids': False}</td>\n",
       "      <td>PEyRw3HOWcDnd2XHRLq5RQ</td>\n",
       "      <td>[Arts &amp; Entertainment, Festivals]</td>\n",
       "      <td>Glendale</td>\n",
       "      <td>5812 W Glendale Ave\\nGlendale, AZ 85301</td>\n",
       "      <td>{}</td>\n",
       "      <td>33.539228</td>\n",
       "      <td>-112.184329</td>\n",
       "      <td>Glendale's Best Street Food Festival</td>\n",
       "      <td>[]</td>\n",
       "      <td>True</td>\n",
       "      <td>49</td>\n",
       "      <td>1.5</td>\n",
       "      <td>AZ</td>\n",
       "      <td>business</td>\n",
       "    </tr>\n",
       "    <tr>\n",
       "      <th>UuBZkKnckkRmYt3jFn2gaQ</th>\n",
       "      <td>{'Has TV': False, 'Takes Reservations': False,...</td>\n",
       "      <td>UuBZkKnckkRmYt3jFn2gaQ</td>\n",
       "      <td>[Casinos, Arts &amp; Entertainment, American (New)...</td>\n",
       "      <td>Las Vegas</td>\n",
       "      <td>Circus Circus Las Vegas\\n2800 Las Vegas Blvd S...</td>\n",
       "      <td>{'Tuesday': {'open': '16:30', 'close': '21:00'...</td>\n",
       "      <td>36.137667</td>\n",
       "      <td>-115.164659</td>\n",
       "      <td>Circus Buffet</td>\n",
       "      <td>[The Strip]</td>\n",
       "      <td>True</td>\n",
       "      <td>272</td>\n",
       "      <td>2.0</td>\n",
       "      <td>NV</td>\n",
       "      <td>business</td>\n",
       "    </tr>\n",
       "    <tr>\n",
       "      <th>3e9IUI5Dt-ktDKEQNkENVA</th>\n",
       "      <td>{'Wheelchair Accessible': True, 'By Appointmen...</td>\n",
       "      <td>3e9IUI5Dt-ktDKEQNkENVA</td>\n",
       "      <td>[Food, Department Stores, Grocery, Fashion, Sh...</td>\n",
       "      <td>Phoenix</td>\n",
       "      <td>3721 E Thomas Rd\\nPhoenix, AZ 85018</td>\n",
       "      <td>{}</td>\n",
       "      <td>33.479007</td>\n",
       "      <td>-112.000813</td>\n",
       "      <td>Walmart Supercenter</td>\n",
       "      <td>[]</td>\n",
       "      <td>True</td>\n",
       "      <td>100</td>\n",
       "      <td>1.5</td>\n",
       "      <td>AZ</td>\n",
       "      <td>business</td>\n",
       "    </tr>\n",
       "    <tr>\n",
       "      <th>cSYSUZ3YbwR_RTughnoy5A</th>\n",
       "      <td>{'Parking': {'validated': False, 'lot': True, ...</td>\n",
       "      <td>cSYSUZ3YbwR_RTughnoy5A</td>\n",
       "      <td>[Shopping Centers, Shopping]</td>\n",
       "      <td>Phoenix</td>\n",
       "      <td>9617 N Metro Pkwy W\\nPhoenix, AZ 85051</td>\n",
       "      <td>{'Tuesday': {'open': '10:00', 'close': '21:00'...</td>\n",
       "      <td>33.576494</td>\n",
       "      <td>-112.120861</td>\n",
       "      <td>Metrocenter Mall</td>\n",
       "      <td>[]</td>\n",
       "      <td>True</td>\n",
       "      <td>125</td>\n",
       "      <td>2.0</td>\n",
       "      <td>AZ</td>\n",
       "      <td>business</td>\n",
       "    </tr>\n",
       "    <tr>\n",
       "      <th>GQ6bCvYZxdGY6ZQyeZFeVg</th>\n",
       "      <td>{'Accepts Credit Cards': True, 'By Appointment...</td>\n",
       "      <td>GQ6bCvYZxdGY6ZQyeZFeVg</td>\n",
       "      <td>[Professional Services, Television Service Pro...</td>\n",
       "      <td>Las Vegas</td>\n",
       "      <td>1700 Vegas Dr\\nLas Vegas, NV 89106</td>\n",
       "      <td>{'Tuesday': {'open': '07:00', 'close': '21:00'...</td>\n",
       "      <td>36.189293</td>\n",
       "      <td>-115.162965</td>\n",
       "      <td>Cox Communications</td>\n",
       "      <td>[]</td>\n",
       "      <td>True</td>\n",
       "      <td>253</td>\n",
       "      <td>1.5</td>\n",
       "      <td>NV</td>\n",
       "      <td>business</td>\n",
       "    </tr>\n",
       "    <tr>\n",
       "      <th>wyqwO4ZqZyRR6pGk1pTBrA</th>\n",
       "      <td>{}</td>\n",
       "      <td>wyqwO4ZqZyRR6pGk1pTBrA</td>\n",
       "      <td>[Hotels &amp; Travel, Car Rental]</td>\n",
       "      <td>Las Vegas</td>\n",
       "      <td>7135 Gilespie St\\nSoutheast\\nLas Vegas, NV 89119</td>\n",
       "      <td>{'Tuesday': {'open': '00:00', 'close': '00:00'...</td>\n",
       "      <td>36.060061</td>\n",
       "      <td>-115.165044</td>\n",
       "      <td>Payless Car Rental</td>\n",
       "      <td>[Southeast]</td>\n",
       "      <td>True</td>\n",
       "      <td>474</td>\n",
       "      <td>1.5</td>\n",
       "      <td>NV</td>\n",
       "      <td>business</td>\n",
       "    </tr>\n",
       "    <tr>\n",
       "      <th>inDYSqSDMyrfBhOZc702rw</th>\n",
       "      <td>{'Accepts Credit Cards': True, 'By Appointment...</td>\n",
       "      <td>inDYSqSDMyrfBhOZc702rw</td>\n",
       "      <td>[Professional Services, Television Service Pro...</td>\n",
       "      <td>Phoenix</td>\n",
       "      <td>Phoenix, AZ 85027</td>\n",
       "      <td>{'Tuesday': {'open': '00:00', 'close': '00:00'...</td>\n",
       "      <td>33.678238</td>\n",
       "      <td>-112.101291</td>\n",
       "      <td>Cox Communications</td>\n",
       "      <td>[]</td>\n",
       "      <td>True</td>\n",
       "      <td>517</td>\n",
       "      <td>1.5</td>\n",
       "      <td>AZ</td>\n",
       "      <td>business</td>\n",
       "    </tr>\n",
       "    <tr>\n",
       "      <th>CJ8IURVsHxTIu2Kzp2Kumw</th>\n",
       "      <td>{'Caters': False, 'Has TV': False, 'Takes Rese...</td>\n",
       "      <td>CJ8IURVsHxTIu2Kzp2Kumw</td>\n",
       "      <td>[Buffets, Restaurants]</td>\n",
       "      <td>Las Vegas</td>\n",
       "      <td>Imperial Palace Hotel &amp; Casino\\n3535 Las Vegas...</td>\n",
       "      <td>{'Tuesday': {'open': '07:00', 'close': '21:00'...</td>\n",
       "      <td>36.118346</td>\n",
       "      <td>-115.170129</td>\n",
       "      <td>Emperor's Buffet</td>\n",
       "      <td>[The Strip]</td>\n",
       "      <td>False</td>\n",
       "      <td>57</td>\n",
       "      <td>1.5</td>\n",
       "      <td>NV</td>\n",
       "      <td>business</td>\n",
       "    </tr>\n",
       "  </tbody>\n",
       "</table>\n",
       "<p>6322 rows × 15 columns</p>\n",
       "</div>"
      ],
      "text/plain": [
       "                                                               attributes  \\\n",
       "business_id                                                                 \n",
       "lliksv-tglfUz1T3B3vgvA  {'Caters': False, 'Takes Reservations': True, ...   \n",
       "vARjqeIkSNsazHltujiq4Q  {'Has TV': False, 'Takes Reservations': False,...   \n",
       "mQde7KRomOQoUyPGTqeXhA                                                 {}   \n",
       "CZBYYCb4xBwNlSIYNc6Eiw  {'Parking': {'validated': False, 'lot': True, ...   \n",
       "nYer89hXYAoddMEKTxw7kA                           {'Good for Kids': False}   \n",
       "QBHcPkoRsPb68Oq7zRj44A  {'Has TV': False, 'Takes Reservations': False,...   \n",
       "Y_P4hdBnB5TZD3-nsi9-jQ                     {'Accepts Credit Cards': True}   \n",
       "84NQRcMC0ldIC86yRw0vpA  {'Wi-Fi': 'free', 'Wheelchair Accessible': Tru...   \n",
       "H_SuH7uLiYahDMbNBB9kog  {'Has TV': True, 'Takes Reservations': True, '...   \n",
       "a-VGlZ06IaFTCX0vd0xm-A                                                 {}   \n",
       "_tYT5_N3zCwrpkdfVhqrnw  {'Parking': {'validated': False, 'lot': False,...   \n",
       "qcF6SHcGRML7gihfpNl_zA  {'Wheelchair Accessible': True, 'Parking': {'v...   \n",
       "f8luua75t2Is5iP6nxcXQQ  {'Wi-Fi': 'free', 'Wheelchair Accessible': Tru...   \n",
       "Us-93TD-lG_kVJzDPvmppw                     {'Accepts Credit Cards': True}   \n",
       "qrjPKkSPzodIfP0kW1mtEw  {'Wi-Fi': 'free', 'Wheelchair Accessible': Tru...   \n",
       "L-bwqJzTbT7ODisS4sepJg  {'Wi-Fi': 'free', 'Wheelchair Accessible': Tru...   \n",
       "pwF_phwjD1ZHsY1xC9H7mA  {'Has TV': False, 'Takes Reservations': False,...   \n",
       "IwFpnIKo8xCVvoUCwluoXA  {'Wheelchair Accessible': True, 'Music': {'vid...   \n",
       "zWS7hGTbydfkmubhS8qKRQ  {'Smoking': 'no', 'Has TV': False, 'Wheelchair...   \n",
       "4bnLfKXorJ9HVmt7Oc8lcw                           {'Good for Kids': False}   \n",
       "VqU4Pl4URJjjgFS1UhseMg  {'Has TV': False, 'Takes Reservations': False,...   \n",
       "cA9cTalUXibyWZZYjh-kiQ  {'Accepts Credit Cards': True, 'By Appointment...   \n",
       "02CV16hndzI60LuI2kDkOA  {'Accepts Credit Cards': True, 'By Appointment...   \n",
       "1hY0Q3BYDq6CJDQay2xRQA  {'Parking': {'validated': False, 'lot': True, ...   \n",
       "8clKtz2RxFRDLnzZwMgA4w                                                 {}   \n",
       "tR8-0OWg4UbwE16s6w6Y2A  {'Has TV': False, 'Good For Dancing': False, '...   \n",
       "QnAzW6KMSciUcuJ20oI3Bw  {'Caters': False, 'Takes Reservations': False,...   \n",
       "3AoCAj24yffBkl1vh9lkuQ  {'Wheelchair Accessible': True, 'Parking': {'v...   \n",
       "b7GM0x9zZU5gq1aXErUf7Q  {'Has TV': False, 'Takes Reservations': True, ...   \n",
       "vnKzoJr2C2YOTSQPt_F-tA                     {'Accepts Credit Cards': True}   \n",
       "...                                                                   ...   \n",
       "erBoatMp1TFi_NPxTigp6w  {'Takes Reservations': True, 'Wheelchair Acces...   \n",
       "ipNveHQxPlRmgSe9CSt9dw  {'Has TV': True, 'Takes Reservations': False, ...   \n",
       "Kma0nPwuWfqelROxRIwLRw  {'Has TV': True, 'Takes Reservations': False, ...   \n",
       "TmTB0Nel-U_zOr04OTUreA                     {'Accepts Credit Cards': True}   \n",
       "58G5uy89YPe7sIJa7Ze99g                                                 {}   \n",
       "RUz4d1D83xRRXcc-ffkM5g  {'Has TV': False, 'Takes Reservations': False,...   \n",
       "bdsKG7MQIMmZ73lgOaTZ0A  {'Has TV': True, 'Takes Reservations': False, ...   \n",
       "EF5vR_UUavzPjtgMYFCg5Q  {'Has TV': True, 'Takes Reservations': True, '...   \n",
       "qdCbbg7FyD6mzf0L_g64uA  {'Has TV': False, 'Takes Reservations': False,...   \n",
       "67-DcR8Npwuc9lRph194cw  {'Has TV': False, 'Takes Reservations': False,...   \n",
       "26ecLqpDHrB3socZGfDuhQ                                                 {}   \n",
       "aEol06ruyQJZYlDMPJGfUg  {'Wheelchair Accessible': True, 'Price Range':...   \n",
       "lRALdho4l9cpiw9WdGkV1A                                                 {}   \n",
       "K5kU2IN6mXvMo-Cx0oQFZg  {'Has TV': True, 'Takes Reservations': False, ...   \n",
       "6sqAj_mXmYkZ3UKsyRGGHQ  {'Has TV': True, 'Takes Reservations': True, '...   \n",
       "GhQQsSApIRfUmIcqzmSaGA                                                 {}   \n",
       "gnafBL9EZE1kn0xD7Yf3_w                           {'Good for Kids': False}   \n",
       "XoitWJUjHcdBl9GqHTsdjw  {'Has TV': True, 'Takes Reservations': True, '...   \n",
       "8z-v_pn00BcnrWs9bacYUQ  {'Wi-Fi': 'paid', 'Price Range': 2, 'Good for ...   \n",
       "0InQd9vuhRc98OksC3Ks8Q  {'Has TV': False, 'Takes Reservations': False,...   \n",
       "KVYSUfN89b-nih-_9HhF6g  {'Takes Reservations': True, 'Attire': 'casual...   \n",
       "_G5pDGRJL0mhLRgIViW2sA  {'Wheelchair Accessible': True, 'Good for Kids...   \n",
       "PEyRw3HOWcDnd2XHRLq5RQ                           {'Good for Kids': False}   \n",
       "UuBZkKnckkRmYt3jFn2gaQ  {'Has TV': False, 'Takes Reservations': False,...   \n",
       "3e9IUI5Dt-ktDKEQNkENVA  {'Wheelchair Accessible': True, 'By Appointmen...   \n",
       "cSYSUZ3YbwR_RTughnoy5A  {'Parking': {'validated': False, 'lot': True, ...   \n",
       "GQ6bCvYZxdGY6ZQyeZFeVg  {'Accepts Credit Cards': True, 'By Appointment...   \n",
       "wyqwO4ZqZyRR6pGk1pTBrA                                                 {}   \n",
       "inDYSqSDMyrfBhOZc702rw  {'Accepts Credit Cards': True, 'By Appointment...   \n",
       "CJ8IURVsHxTIu2Kzp2Kumw  {'Caters': False, 'Has TV': False, 'Takes Rese...   \n",
       "\n",
       "                                   business_id  \\\n",
       "business_id                                      \n",
       "lliksv-tglfUz1T3B3vgvA  lliksv-tglfUz1T3B3vgvA   \n",
       "vARjqeIkSNsazHltujiq4Q  vARjqeIkSNsazHltujiq4Q   \n",
       "mQde7KRomOQoUyPGTqeXhA  mQde7KRomOQoUyPGTqeXhA   \n",
       "CZBYYCb4xBwNlSIYNc6Eiw  CZBYYCb4xBwNlSIYNc6Eiw   \n",
       "nYer89hXYAoddMEKTxw7kA  nYer89hXYAoddMEKTxw7kA   \n",
       "QBHcPkoRsPb68Oq7zRj44A  QBHcPkoRsPb68Oq7zRj44A   \n",
       "Y_P4hdBnB5TZD3-nsi9-jQ  Y_P4hdBnB5TZD3-nsi9-jQ   \n",
       "84NQRcMC0ldIC86yRw0vpA  84NQRcMC0ldIC86yRw0vpA   \n",
       "H_SuH7uLiYahDMbNBB9kog  H_SuH7uLiYahDMbNBB9kog   \n",
       "a-VGlZ06IaFTCX0vd0xm-A  a-VGlZ06IaFTCX0vd0xm-A   \n",
       "_tYT5_N3zCwrpkdfVhqrnw  _tYT5_N3zCwrpkdfVhqrnw   \n",
       "qcF6SHcGRML7gihfpNl_zA  qcF6SHcGRML7gihfpNl_zA   \n",
       "f8luua75t2Is5iP6nxcXQQ  f8luua75t2Is5iP6nxcXQQ   \n",
       "Us-93TD-lG_kVJzDPvmppw  Us-93TD-lG_kVJzDPvmppw   \n",
       "qrjPKkSPzodIfP0kW1mtEw  qrjPKkSPzodIfP0kW1mtEw   \n",
       "L-bwqJzTbT7ODisS4sepJg  L-bwqJzTbT7ODisS4sepJg   \n",
       "pwF_phwjD1ZHsY1xC9H7mA  pwF_phwjD1ZHsY1xC9H7mA   \n",
       "IwFpnIKo8xCVvoUCwluoXA  IwFpnIKo8xCVvoUCwluoXA   \n",
       "zWS7hGTbydfkmubhS8qKRQ  zWS7hGTbydfkmubhS8qKRQ   \n",
       "4bnLfKXorJ9HVmt7Oc8lcw  4bnLfKXorJ9HVmt7Oc8lcw   \n",
       "VqU4Pl4URJjjgFS1UhseMg  VqU4Pl4URJjjgFS1UhseMg   \n",
       "cA9cTalUXibyWZZYjh-kiQ  cA9cTalUXibyWZZYjh-kiQ   \n",
       "02CV16hndzI60LuI2kDkOA  02CV16hndzI60LuI2kDkOA   \n",
       "1hY0Q3BYDq6CJDQay2xRQA  1hY0Q3BYDq6CJDQay2xRQA   \n",
       "8clKtz2RxFRDLnzZwMgA4w  8clKtz2RxFRDLnzZwMgA4w   \n",
       "tR8-0OWg4UbwE16s6w6Y2A  tR8-0OWg4UbwE16s6w6Y2A   \n",
       "QnAzW6KMSciUcuJ20oI3Bw  QnAzW6KMSciUcuJ20oI3Bw   \n",
       "3AoCAj24yffBkl1vh9lkuQ  3AoCAj24yffBkl1vh9lkuQ   \n",
       "b7GM0x9zZU5gq1aXErUf7Q  b7GM0x9zZU5gq1aXErUf7Q   \n",
       "vnKzoJr2C2YOTSQPt_F-tA  vnKzoJr2C2YOTSQPt_F-tA   \n",
       "...                                        ...   \n",
       "erBoatMp1TFi_NPxTigp6w  erBoatMp1TFi_NPxTigp6w   \n",
       "ipNveHQxPlRmgSe9CSt9dw  ipNveHQxPlRmgSe9CSt9dw   \n",
       "Kma0nPwuWfqelROxRIwLRw  Kma0nPwuWfqelROxRIwLRw   \n",
       "TmTB0Nel-U_zOr04OTUreA  TmTB0Nel-U_zOr04OTUreA   \n",
       "58G5uy89YPe7sIJa7Ze99g  58G5uy89YPe7sIJa7Ze99g   \n",
       "RUz4d1D83xRRXcc-ffkM5g  RUz4d1D83xRRXcc-ffkM5g   \n",
       "bdsKG7MQIMmZ73lgOaTZ0A  bdsKG7MQIMmZ73lgOaTZ0A   \n",
       "EF5vR_UUavzPjtgMYFCg5Q  EF5vR_UUavzPjtgMYFCg5Q   \n",
       "qdCbbg7FyD6mzf0L_g64uA  qdCbbg7FyD6mzf0L_g64uA   \n",
       "67-DcR8Npwuc9lRph194cw  67-DcR8Npwuc9lRph194cw   \n",
       "26ecLqpDHrB3socZGfDuhQ  26ecLqpDHrB3socZGfDuhQ   \n",
       "aEol06ruyQJZYlDMPJGfUg  aEol06ruyQJZYlDMPJGfUg   \n",
       "lRALdho4l9cpiw9WdGkV1A  lRALdho4l9cpiw9WdGkV1A   \n",
       "K5kU2IN6mXvMo-Cx0oQFZg  K5kU2IN6mXvMo-Cx0oQFZg   \n",
       "6sqAj_mXmYkZ3UKsyRGGHQ  6sqAj_mXmYkZ3UKsyRGGHQ   \n",
       "GhQQsSApIRfUmIcqzmSaGA  GhQQsSApIRfUmIcqzmSaGA   \n",
       "gnafBL9EZE1kn0xD7Yf3_w  gnafBL9EZE1kn0xD7Yf3_w   \n",
       "XoitWJUjHcdBl9GqHTsdjw  XoitWJUjHcdBl9GqHTsdjw   \n",
       "8z-v_pn00BcnrWs9bacYUQ  8z-v_pn00BcnrWs9bacYUQ   \n",
       "0InQd9vuhRc98OksC3Ks8Q  0InQd9vuhRc98OksC3Ks8Q   \n",
       "KVYSUfN89b-nih-_9HhF6g  KVYSUfN89b-nih-_9HhF6g   \n",
       "_G5pDGRJL0mhLRgIViW2sA  _G5pDGRJL0mhLRgIViW2sA   \n",
       "PEyRw3HOWcDnd2XHRLq5RQ  PEyRw3HOWcDnd2XHRLq5RQ   \n",
       "UuBZkKnckkRmYt3jFn2gaQ  UuBZkKnckkRmYt3jFn2gaQ   \n",
       "3e9IUI5Dt-ktDKEQNkENVA  3e9IUI5Dt-ktDKEQNkENVA   \n",
       "cSYSUZ3YbwR_RTughnoy5A  cSYSUZ3YbwR_RTughnoy5A   \n",
       "GQ6bCvYZxdGY6ZQyeZFeVg  GQ6bCvYZxdGY6ZQyeZFeVg   \n",
       "wyqwO4ZqZyRR6pGk1pTBrA  wyqwO4ZqZyRR6pGk1pTBrA   \n",
       "inDYSqSDMyrfBhOZc702rw  inDYSqSDMyrfBhOZc702rw   \n",
       "CJ8IURVsHxTIu2Kzp2Kumw  CJ8IURVsHxTIu2Kzp2Kumw   \n",
       "\n",
       "                                                               categories  \\\n",
       "business_id                                                                 \n",
       "lliksv-tglfUz1T3B3vgvA                                [Thai, Restaurants]   \n",
       "vARjqeIkSNsazHltujiq4Q                             [British, Restaurants]   \n",
       "mQde7KRomOQoUyPGTqeXhA  [Animal Shelters, Veterinarians, Pet Stores, P...   \n",
       "CZBYYCb4xBwNlSIYNc6Eiw                              [Active Life, Hiking]   \n",
       "nYer89hXYAoddMEKTxw7kA                        [Yelp Events, Local Flavor]   \n",
       "QBHcPkoRsPb68Oq7zRj44A          [Food, Desserts, Shaved Ice, Food Trucks]   \n",
       "Y_P4hdBnB5TZD3-nsi9-jQ                              [Automotive, Parking]   \n",
       "84NQRcMC0ldIC86yRw0vpA  [Food, Ice Cream & Frozen Yogurt, Gelato, Dess...   \n",
       "H_SuH7uLiYahDMbNBB9kog       [Korean, Asian Fusion, Mexican, Restaurants]   \n",
       "a-VGlZ06IaFTCX0vd0xm-A                [Churches, Religious Organizations]   \n",
       "_tYT5_N3zCwrpkdfVhqrnw  [Paint & Sip, Art Classes, Arts & Entertainmen...   \n",
       "qcF6SHcGRML7gihfpNl_zA  [Skin Care, Threading Services, Laser Hair Rem...   \n",
       "f8luua75t2Is5iP6nxcXQQ                  [Food, Ice Cream & Frozen Yogurt]   \n",
       "Us-93TD-lG_kVJzDPvmppw                  [Local Services, Carpet Cleaning]   \n",
       "qrjPKkSPzodIfP0kW1mtEw  [Hair Salons, Skin Care, Hair Removal, Beauty ...   \n",
       "L-bwqJzTbT7ODisS4sepJg  [Food, Coffee & Tea, Juice Bars & Smoothies, O...   \n",
       "pwF_phwjD1ZHsY1xC9H7mA           [Food, Coffee & Tea, Vegan, Restaurants]   \n",
       "IwFpnIKo8xCVvoUCwluoXA            [Arts & Entertainment, Performing Arts]   \n",
       "zWS7hGTbydfkmubhS8qKRQ  [Arts & Entertainment, Performing Arts, Nightl...   \n",
       "4bnLfKXorJ9HVmt7Oc8lcw                                     [Local Flavor]   \n",
       "VqU4Pl4URJjjgFS1UhseMg            [Food, Tea Rooms, Desserts, Bubble Tea]   \n",
       "cA9cTalUXibyWZZYjh-kiQ  [Local Services, Damage Restoration, Air Duct ...   \n",
       "02CV16hndzI60LuI2kDkOA  [Movers, Local Services, Home Services, Self S...   \n",
       "1hY0Q3BYDq6CJDQay2xRQA  [Health Markets, Food, Shopping, Vitamins & Su...   \n",
       "8clKtz2RxFRDLnzZwMgA4w     [Pet Services, Pet Boarding/Pet Sitting, Pets]   \n",
       "tR8-0OWg4UbwE16s6w6Y2A    [Arts & Entertainment, Nightlife, Music Venues]   \n",
       "QnAzW6KMSciUcuJ20oI3Bw  [American (Traditional), Pizza, Salad, Restaur...   \n",
       "3AoCAj24yffBkl1vh9lkuQ  [Automotive, Auto Customization, Auto Glass Se...   \n",
       "b7GM0x9zZU5gq1aXErUf7Q  [Bakeries, Food, Cafes, Chocolatiers & Shops, ...   \n",
       "vnKzoJr2C2YOTSQPt_F-tA              [Auto Repair, Automotive, Body Shops]   \n",
       "...                                                                   ...   \n",
       "erBoatMp1TFi_NPxTigp6w                             [Mexican, Restaurants]   \n",
       "ipNveHQxPlRmgSe9CSt9dw  [Arts & Entertainment, Music Venues, Bars, Cas...   \n",
       "Kma0nPwuWfqelROxRIwLRw                             [Mexican, Restaurants]   \n",
       "TmTB0Nel-U_zOr04OTUreA  [Local Services, Shipping Centers, Post Office...   \n",
       "58G5uy89YPe7sIJa7Ze99g                      [Hotels & Travel, Car Rental]   \n",
       "RUz4d1D83xRRXcc-ffkM5g                             [Buffets, Restaurants]   \n",
       "bdsKG7MQIMmZ73lgOaTZ0A                        [Asian Fusion, Restaurants]   \n",
       "EF5vR_UUavzPjtgMYFCg5Q                             [Mexican, Restaurants]   \n",
       "qdCbbg7FyD6mzf0L_g64uA   [Burgers, Fast Food, Chicken Wings, Restaurants]   \n",
       "67-DcR8Npwuc9lRph194cw  [Arts & Entertainment, Restaurants, Festivals,...   \n",
       "26ecLqpDHrB3socZGfDuhQ  [Hotels & Travel, Travel Services, Tours, Tran...   \n",
       "aEol06ruyQJZYlDMPJGfUg                                   [Bakeries, Food]   \n",
       "lRALdho4l9cpiw9WdGkV1A        [Hotels & Travel, Airlines, Transportation]   \n",
       "K5kU2IN6mXvMo-Cx0oQFZg                             [Mexican, Restaurants]   \n",
       "6sqAj_mXmYkZ3UKsyRGGHQ  [Hotels & Travel, Arts & Entertainment, Casino...   \n",
       "GhQQsSApIRfUmIcqzmSaGA        [Hotels & Travel, Airlines, Transportation]   \n",
       "gnafBL9EZE1kn0xD7Yf3_w            [Arts & Entertainment, Performing Arts]   \n",
       "XoitWJUjHcdBl9GqHTsdjw    [American (Traditional), Southern, Restaurants]   \n",
       "8z-v_pn00BcnrWs9bacYUQ  [Hotels & Travel, Arts & Entertainment, Casino...   \n",
       "0InQd9vuhRc98OksC3Ks8Q     [American (Traditional), Buffets, Restaurants]   \n",
       "KVYSUfN89b-nih-_9HhF6g  [Bars, American (New), Nightlife, Dance Clubs,...   \n",
       "_G5pDGRJL0mhLRgIViW2sA            [Arts & Entertainment, Performing Arts]   \n",
       "PEyRw3HOWcDnd2XHRLq5RQ                  [Arts & Entertainment, Festivals]   \n",
       "UuBZkKnckkRmYt3jFn2gaQ  [Casinos, Arts & Entertainment, American (New)...   \n",
       "3e9IUI5Dt-ktDKEQNkENVA  [Food, Department Stores, Grocery, Fashion, Sh...   \n",
       "cSYSUZ3YbwR_RTughnoy5A                       [Shopping Centers, Shopping]   \n",
       "GQ6bCvYZxdGY6ZQyeZFeVg  [Professional Services, Television Service Pro...   \n",
       "wyqwO4ZqZyRR6pGk1pTBrA                      [Hotels & Travel, Car Rental]   \n",
       "inDYSqSDMyrfBhOZc702rw  [Professional Services, Television Service Pro...   \n",
       "CJ8IURVsHxTIu2Kzp2Kumw                             [Buffets, Restaurants]   \n",
       "\n",
       "                                   city  \\\n",
       "business_id                               \n",
       "lliksv-tglfUz1T3B3vgvA        Las Vegas   \n",
       "vARjqeIkSNsazHltujiq4Q             Mesa   \n",
       "mQde7KRomOQoUyPGTqeXhA          Phoenix   \n",
       "CZBYYCb4xBwNlSIYNc6Eiw  Apache Junction   \n",
       "nYer89hXYAoddMEKTxw7kA          Phoenix   \n",
       "QBHcPkoRsPb68Oq7zRj44A        Henderson   \n",
       "Y_P4hdBnB5TZD3-nsi9-jQ          Phoenix   \n",
       "84NQRcMC0ldIC86yRw0vpA             Mesa   \n",
       "H_SuH7uLiYahDMbNBB9kog        Las Vegas   \n",
       "a-VGlZ06IaFTCX0vd0xm-A        Henderson   \n",
       "_tYT5_N3zCwrpkdfVhqrnw       Scottsdale   \n",
       "qcF6SHcGRML7gihfpNl_zA        Las Vegas   \n",
       "f8luua75t2Is5iP6nxcXQQ         Goodyear   \n",
       "Us-93TD-lG_kVJzDPvmppw          Phoenix   \n",
       "qrjPKkSPzodIfP0kW1mtEw       Scottsdale   \n",
       "L-bwqJzTbT7ODisS4sepJg        Las Vegas   \n",
       "pwF_phwjD1ZHsY1xC9H7mA        Las Vegas   \n",
       "IwFpnIKo8xCVvoUCwluoXA        Las Vegas   \n",
       "zWS7hGTbydfkmubhS8qKRQ        Las Vegas   \n",
       "4bnLfKXorJ9HVmt7Oc8lcw          Phoenix   \n",
       "VqU4Pl4URJjjgFS1UhseMg        Las Vegas   \n",
       "cA9cTalUXibyWZZYjh-kiQ        Las Vegas   \n",
       "02CV16hndzI60LuI2kDkOA          Phoenix   \n",
       "1hY0Q3BYDq6CJDQay2xRQA        Las Vegas   \n",
       "8clKtz2RxFRDLnzZwMgA4w        Las Vegas   \n",
       "tR8-0OWg4UbwE16s6w6Y2A        Las Vegas   \n",
       "QnAzW6KMSciUcuJ20oI3Bw          Gilbert   \n",
       "3AoCAj24yffBkl1vh9lkuQ        Las Vegas   \n",
       "b7GM0x9zZU5gq1aXErUf7Q          Phoenix   \n",
       "vnKzoJr2C2YOTSQPt_F-tA        Las Vegas   \n",
       "...                                 ...   \n",
       "erBoatMp1TFi_NPxTigp6w       Scottsdale   \n",
       "ipNveHQxPlRmgSe9CSt9dw    Fort McDowell   \n",
       "Kma0nPwuWfqelROxRIwLRw        Las Vegas   \n",
       "TmTB0Nel-U_zOr04OTUreA        Las Vegas   \n",
       "58G5uy89YPe7sIJa7Ze99g        Las Vegas   \n",
       "RUz4d1D83xRRXcc-ffkM5g        Las Vegas   \n",
       "bdsKG7MQIMmZ73lgOaTZ0A        Las Vegas   \n",
       "EF5vR_UUavzPjtgMYFCg5Q        Las Vegas   \n",
       "qdCbbg7FyD6mzf0L_g64uA        Las Vegas   \n",
       "67-DcR8Npwuc9lRph194cw        Las Vegas   \n",
       "26ecLqpDHrB3socZGfDuhQ        Las Vegas   \n",
       "aEol06ruyQJZYlDMPJGfUg        Las Vegas   \n",
       "lRALdho4l9cpiw9WdGkV1A             Mesa   \n",
       "K5kU2IN6mXvMo-Cx0oQFZg         Glendale   \n",
       "6sqAj_mXmYkZ3UKsyRGGHQ        Las Vegas   \n",
       "GhQQsSApIRfUmIcqzmSaGA        Las Vegas   \n",
       "gnafBL9EZE1kn0xD7Yf3_w        Las Vegas   \n",
       "XoitWJUjHcdBl9GqHTsdjw        Las Vegas   \n",
       "8z-v_pn00BcnrWs9bacYUQ        Las Vegas   \n",
       "0InQd9vuhRc98OksC3Ks8Q        Las Vegas   \n",
       "KVYSUfN89b-nih-_9HhF6g         Glendale   \n",
       "_G5pDGRJL0mhLRgIViW2sA        Las Vegas   \n",
       "PEyRw3HOWcDnd2XHRLq5RQ         Glendale   \n",
       "UuBZkKnckkRmYt3jFn2gaQ        Las Vegas   \n",
       "3e9IUI5Dt-ktDKEQNkENVA          Phoenix   \n",
       "cSYSUZ3YbwR_RTughnoy5A          Phoenix   \n",
       "GQ6bCvYZxdGY6ZQyeZFeVg        Las Vegas   \n",
       "wyqwO4ZqZyRR6pGk1pTBrA        Las Vegas   \n",
       "inDYSqSDMyrfBhOZc702rw          Phoenix   \n",
       "CJ8IURVsHxTIu2Kzp2Kumw        Las Vegas   \n",
       "\n",
       "                                                             full_address  \\\n",
       "business_id                                                                 \n",
       "lliksv-tglfUz1T3B3vgvA  953 E Sahara Ave\\nSte A5\\nEastside\\nLas Vegas,...   \n",
       "vARjqeIkSNsazHltujiq4Q       1941 W Guadalupe Rd\\nSte 101\\nMesa, AZ 85202   \n",
       "mQde7KRomOQoUyPGTqeXhA               1521 W Dobbins Rd\\nPhoenix, AZ 85041   \n",
       "CZBYYCb4xBwNlSIYNc6Eiw    6109 N. Apache Trail\\nApache Junction, AZ 85219   \n",
       "nYer89hXYAoddMEKTxw7kA           FilmBar\\n815 N 2nd St\\nPhoenix, AZ 85004   \n",
       "QBHcPkoRsPb68Oq7zRj44A             898 S Boulder Hwy\\nHenderson, NV 89015   \n",
       "Y_P4hdBnB5TZD3-nsi9-jQ                  3150 S 48th st\\nPhoenix, AZ 85040   \n",
       "84NQRcMC0ldIC86yRw0vpA           5251 E Brown Rd\\nSte 104\\nMesa, AZ 85205   \n",
       "H_SuH7uLiYahDMbNBB9kog     633 N Decatur Blvd\\nSte H\\nLas Vegas, NV 89107   \n",
       "a-VGlZ06IaFTCX0vd0xm-A        1001 New Beginnings Dr\\nHenderson, NV 89011   \n",
       "_tYT5_N3zCwrpkdfVhqrnw          4165 N Craftsman Ct\\nScottsdale, AZ 85251   \n",
       "qcF6SHcGRML7gihfpNl_zA  2960 S Durango Dr\\nSte 112\\nWestside\\nLas Vega...   \n",
       "f8luua75t2Is5iP6nxcXQQ  14175 W Indian School Rd\\nSte A-5\\nGoodyear, A...   \n",
       "Us-93TD-lG_kVJzDPvmppw             5444 E Camelback Rd\\nPhoenix, AZ 85018   \n",
       "qrjPKkSPzodIfP0kW1mtEw  4328 N Wells Fargo Ave\\nSte 2\\nScottsdale, AZ ...   \n",
       "L-bwqJzTbT7ODisS4sepJg  6145 S Fort Apache Rd\\nSte 506\\nSpring Valley\\...   \n",
       "pwF_phwjD1ZHsY1xC9H7mA  3130 E Sunset Rd\\nSte A\\nSoutheast\\nLas Vegas,...   \n",
       "IwFpnIKo8xCVvoUCwluoXA  Harrah's Las Vegas Hotel Casino\\n3475 Las Vega...   \n",
       "zWS7hGTbydfkmubhS8qKRQ  Mirage Hotel and Casino\\n3400 Las Vegas Blvd S...   \n",
       "4bnLfKXorJ9HVmt7Oc8lcw  La Grande Orange Bake Shop\\n4410 N 40th St\\nPh...   \n",
       "VqU4Pl4URJjjgFS1UhseMg  7380 S Rainbow Blvd\\nSte 101\\nSouthwest\\nLas V...   \n",
       "cA9cTalUXibyWZZYjh-kiQ  8985 S Durango Dr\\nSouthwest\\nLas Vegas, NV 89113   \n",
       "02CV16hndzI60LuI2kDkOA                 2330 N 31st Ave\\nPhoenix, AZ 85009   \n",
       "1hY0Q3BYDq6CJDQay2xRQA  9680 S Eastern Ave\\nSte 120\\nSoutheast\\nLas Ve...   \n",
       "8clKtz2RxFRDLnzZwMgA4w       5175 S Valley View Blvd\\nLas Vegas, NV 89118   \n",
       "tR8-0OWg4UbwE16s6w6Y2A  3570 Las Vegas Blvd S\\nSte1\\nThe Strip\\nLas Ve...   \n",
       "QnAzW6KMSciUcuJ20oI3Bw           3000 E Ray Rd\\nBldg 1\\nGilbert, AZ 85296   \n",
       "3AoCAj24yffBkl1vh9lkuQ    4510 W Diablo Dr\\nSte A102\\nLas Vegas, NV 89118   \n",
       "b7GM0x9zZU5gq1aXErUf7Q  Biltmore Fashion Park\\n2502 E Camelback, Ste 1...   \n",
       "vnKzoJr2C2YOTSQPt_F-tA  5350 Spring Mountain Rd\\nSte 200\\nChinatown\\nL...   \n",
       "...                                                                   ...   \n",
       "erBoatMp1TFi_NPxTigp6w          7135 E Camelback Rd\\nScottsdale, AZ 85251   \n",
       "ipNveHQxPlRmgSe9CSt9dw  10424 N Fort Mcdowell Rd\\nFort McDowell, AZ 85264   \n",
       "Kma0nPwuWfqelROxRIwLRw  5630 Centennial Center Blvd\\nNorthwest\\nLas Ve...   \n",
       "TmTB0Nel-U_zOr04OTUreA    455 E Pebble Rd\\nSoutheast\\nLas Vegas, NV 89123   \n",
       "58G5uy89YPe7sIJa7Ze99g   7135 Gilespie St\\nSoutheast\\nLas Vegas, NV 89119   \n",
       "RUz4d1D83xRRXcc-ffkM5g  Eastside Cannery\\n5255 Boulder Hwy\\nLas Vegas,...   \n",
       "bdsKG7MQIMmZ73lgOaTZ0A  3545 Las Vegas Blvd S\\nThe Strip\\nLas Vegas, N...   \n",
       "EF5vR_UUavzPjtgMYFCg5Q  Flamingo Hotel\\n3555 Las Vegas Blvd S\\nThe Str...   \n",
       "qdCbbg7FyD6mzf0L_g64uA  7925 S Rainbow Blvd\\nSouthwest\\nLas Vegas, NV ...   \n",
       "67-DcR8Npwuc9lRph194cw                628 W Craig Rd\\nLas Vegas, NV 89032   \n",
       "26ecLqpDHrB3socZGfDuhQ  1550 S Industrial Rd\\nDowntown\\nLas Vegas, NV ...   \n",
       "aEol06ruyQJZYlDMPJGfUg  Downtown Summerlin\\n2010 Festival Plaza, 150\\n...   \n",
       "lRALdho4l9cpiw9WdGkV1A                 5835 S Sossaman Rd\\nMesa, AZ 85212   \n",
       "K5kU2IN6mXvMo-Cx0oQFZg  6770 N Sunrise Blvd\\nSte G109\\nGlendale, AZ 85303   \n",
       "6sqAj_mXmYkZ3UKsyRGGHQ     18 E Fremont St\\nDowntown\\nLas Vegas, NV 89101   \n",
       "GhQQsSApIRfUmIcqzmSaGA  5757 Wayne Newton Blvd\\nSoutheast\\nLas Vegas, ...   \n",
       "gnafBL9EZE1kn0xD7Yf3_w  Treasure Island\\n3300 Las Vegas Blvd S\\nThe St...   \n",
       "XoitWJUjHcdBl9GqHTsdjw  6593 Las Vegas Blvd S\\nSoutheast\\nLas Vegas, N...   \n",
       "8z-v_pn00BcnrWs9bacYUQ  The Quad Las Vegas Resort & Casino\\n3535 S Las...   \n",
       "0InQd9vuhRc98OksC3Ks8Q  Excalibur Hotel Casino\\n3850 Las Vegas Blvd S\\...   \n",
       "KVYSUfN89b-nih-_9HhF6g            9425 W Coyotes Blvd\\nGlendale, AZ 85305   \n",
       "_G5pDGRJL0mhLRgIViW2sA  Luxor Las Vegas\\n3900 Las Vegas Blvd S\\nThe St...   \n",
       "PEyRw3HOWcDnd2XHRLq5RQ            5812 W Glendale Ave\\nGlendale, AZ 85301   \n",
       "UuBZkKnckkRmYt3jFn2gaQ  Circus Circus Las Vegas\\n2800 Las Vegas Blvd S...   \n",
       "3e9IUI5Dt-ktDKEQNkENVA                3721 E Thomas Rd\\nPhoenix, AZ 85018   \n",
       "cSYSUZ3YbwR_RTughnoy5A             9617 N Metro Pkwy W\\nPhoenix, AZ 85051   \n",
       "GQ6bCvYZxdGY6ZQyeZFeVg                 1700 Vegas Dr\\nLas Vegas, NV 89106   \n",
       "wyqwO4ZqZyRR6pGk1pTBrA   7135 Gilespie St\\nSoutheast\\nLas Vegas, NV 89119   \n",
       "inDYSqSDMyrfBhOZc702rw                                  Phoenix, AZ 85027   \n",
       "CJ8IURVsHxTIu2Kzp2Kumw  Imperial Palace Hotel & Casino\\n3535 Las Vegas...   \n",
       "\n",
       "                                                                    hours  \\\n",
       "business_id                                                                 \n",
       "lliksv-tglfUz1T3B3vgvA  {'Tuesday': {'open': '17:30', 'close': '22:00'...   \n",
       "vARjqeIkSNsazHltujiq4Q  {'Tuesday': {'open': '11:00', 'close': '00:00'...   \n",
       "mQde7KRomOQoUyPGTqeXhA  {'Tuesday': {'open': '11:00', 'close': '18:00'...   \n",
       "CZBYYCb4xBwNlSIYNc6Eiw                                                 {}   \n",
       "nYer89hXYAoddMEKTxw7kA                                                 {}   \n",
       "QBHcPkoRsPb68Oq7zRj44A  {'Tuesday': {'open': '12:00', 'close': '20:00'...   \n",
       "Y_P4hdBnB5TZD3-nsi9-jQ  {'Tuesday': {'open': '00:00', 'close': '00:00'...   \n",
       "84NQRcMC0ldIC86yRw0vpA  {'Tuesday': {'open': '11:00', 'close': '21:30'...   \n",
       "H_SuH7uLiYahDMbNBB9kog  {'Tuesday': {'open': '11:00', 'close': '20:00'...   \n",
       "a-VGlZ06IaFTCX0vd0xm-A  {'Tuesday': {'open': '09:00', 'close': '17:00'...   \n",
       "_tYT5_N3zCwrpkdfVhqrnw  {'Tuesday': {'open': '10:00', 'close': '14:00'...   \n",
       "qcF6SHcGRML7gihfpNl_zA  {'Tuesday': {'open': '10:00', 'close': '20:00'...   \n",
       "f8luua75t2Is5iP6nxcXQQ  {'Tuesday': {'open': '11:00', 'close': '22:00'...   \n",
       "Us-93TD-lG_kVJzDPvmppw  {'Tuesday': {'open': '00:00', 'close': '00:00'...   \n",
       "qrjPKkSPzodIfP0kW1mtEw  {'Tuesday': {'open': '10:00', 'close': '19:00'...   \n",
       "L-bwqJzTbT7ODisS4sepJg  {'Tuesday': {'open': '07:00', 'close': '20:00'...   \n",
       "pwF_phwjD1ZHsY1xC9H7mA  {'Tuesday': {'open': '06:00', 'close': '21:00'...   \n",
       "IwFpnIKo8xCVvoUCwluoXA  {'Saturday': {'open': '13:00', 'close': '15:00...   \n",
       "zWS7hGTbydfkmubhS8qKRQ  {'Saturday': {'open': '19:30', 'close': '21:00...   \n",
       "4bnLfKXorJ9HVmt7Oc8lcw                                                 {}   \n",
       "VqU4Pl4URJjjgFS1UhseMg  {'Tuesday': {'open': '11:00', 'close': '22:00'...   \n",
       "cA9cTalUXibyWZZYjh-kiQ  {'Tuesday': {'open': '08:00', 'close': '18:00'...   \n",
       "02CV16hndzI60LuI2kDkOA  {'Tuesday': {'open': '08:30', 'close': '18:30'...   \n",
       "1hY0Q3BYDq6CJDQay2xRQA  {'Tuesday': {'open': '09:00', 'close': '21:00'...   \n",
       "8clKtz2RxFRDLnzZwMgA4w  {'Tuesday': {'open': '07:00', 'close': '19:00'...   \n",
       "tR8-0OWg4UbwE16s6w6Y2A                                                 {}   \n",
       "QnAzW6KMSciUcuJ20oI3Bw  {'Tuesday': {'open': '08:00', 'close': '21:00'...   \n",
       "3AoCAj24yffBkl1vh9lkuQ  {'Wednesday': {'open': '08:00', 'close': '18:3...   \n",
       "b7GM0x9zZU5gq1aXErUf7Q  {'Tuesday': {'open': '10:00', 'close': '20:00'...   \n",
       "vnKzoJr2C2YOTSQPt_F-tA  {'Wednesday': {'open': '08:00', 'close': '18:0...   \n",
       "...                                                                   ...   \n",
       "erBoatMp1TFi_NPxTigp6w                                                 {}   \n",
       "ipNveHQxPlRmgSe9CSt9dw                                                 {}   \n",
       "Kma0nPwuWfqelROxRIwLRw  {'Tuesday': {'open': '11:00', 'close': '21:00'...   \n",
       "TmTB0Nel-U_zOr04OTUreA  {'Tuesday': {'open': '08:30', 'close': '17:00'...   \n",
       "58G5uy89YPe7sIJa7Ze99g  {'Tuesday': {'open': '00:00', 'close': '00:00'...   \n",
       "RUz4d1D83xRRXcc-ffkM5g  {'Tuesday': {'open': '16:00', 'close': '20:00'...   \n",
       "bdsKG7MQIMmZ73lgOaTZ0A  {'Tuesday': {'open': '12:00', 'close': '00:00'...   \n",
       "EF5vR_UUavzPjtgMYFCg5Q  {'Tuesday': {'open': '08:00', 'close': '02:00'...   \n",
       "qdCbbg7FyD6mzf0L_g64uA                                                 {}   \n",
       "67-DcR8Npwuc9lRph194cw                                                 {}   \n",
       "26ecLqpDHrB3socZGfDuhQ  {'Tuesday': {'open': '00:00', 'close': '00:00'...   \n",
       "aEol06ruyQJZYlDMPJGfUg  {'Tuesday': {'open': '10:00', 'close': '21:00'...   \n",
       "lRALdho4l9cpiw9WdGkV1A                                                 {}   \n",
       "K5kU2IN6mXvMo-Cx0oQFZg  {'Tuesday': {'open': '11:00', 'close': '02:00'...   \n",
       "6sqAj_mXmYkZ3UKsyRGGHQ                                                 {}   \n",
       "GhQQsSApIRfUmIcqzmSaGA                                                 {}   \n",
       "gnafBL9EZE1kn0xD7Yf3_w                                                 {}   \n",
       "XoitWJUjHcdBl9GqHTsdjw                                                 {}   \n",
       "8z-v_pn00BcnrWs9bacYUQ  {'Tuesday': {'open': '00:00', 'close': '00:00'...   \n",
       "0InQd9vuhRc98OksC3Ks8Q  {'Tuesday': {'open': '07:00', 'close': '22:00'...   \n",
       "KVYSUfN89b-nih-_9HhF6g  {'Tuesday': {'open': '11:00', 'close': '02:00'...   \n",
       "_G5pDGRJL0mhLRgIViW2sA  {'Saturday': {'open': '12:00', 'close': '22:00...   \n",
       "PEyRw3HOWcDnd2XHRLq5RQ                                                 {}   \n",
       "UuBZkKnckkRmYt3jFn2gaQ  {'Tuesday': {'open': '16:30', 'close': '21:00'...   \n",
       "3e9IUI5Dt-ktDKEQNkENVA                                                 {}   \n",
       "cSYSUZ3YbwR_RTughnoy5A  {'Tuesday': {'open': '10:00', 'close': '21:00'...   \n",
       "GQ6bCvYZxdGY6ZQyeZFeVg  {'Tuesday': {'open': '07:00', 'close': '21:00'...   \n",
       "wyqwO4ZqZyRR6pGk1pTBrA  {'Tuesday': {'open': '00:00', 'close': '00:00'...   \n",
       "inDYSqSDMyrfBhOZc702rw  {'Tuesday': {'open': '00:00', 'close': '00:00'...   \n",
       "CJ8IURVsHxTIu2Kzp2Kumw  {'Tuesday': {'open': '07:00', 'close': '21:00'...   \n",
       "\n",
       "                         latitude   longitude  \\\n",
       "business_id                                     \n",
       "lliksv-tglfUz1T3B3vgvA  36.143767 -115.140885   \n",
       "vARjqeIkSNsazHltujiq4Q  33.362700 -111.876051   \n",
       "mQde7KRomOQoUyPGTqeXhA  33.362442 -112.092663   \n",
       "CZBYYCb4xBwNlSIYNc6Eiw  33.461401 -111.485730   \n",
       "nYer89hXYAoddMEKTxw7kA  33.457106 -112.071074   \n",
       "QBHcPkoRsPb68Oq7zRj44A  36.025234 -114.965485   \n",
       "Y_P4hdBnB5TZD3-nsi9-jQ  33.419917 -111.980971   \n",
       "84NQRcMC0ldIC86yRw0vpA  33.437338 -111.717932   \n",
       "H_SuH7uLiYahDMbNBB9kog  36.179939 -115.206417   \n",
       "a-VGlZ06IaFTCX0vd0xm-A  36.080529 -115.038136   \n",
       "_tYT5_N3zCwrpkdfVhqrnw  33.496715 -111.927408   \n",
       "qcF6SHcGRML7gihfpNl_zA  36.135543 -115.277850   \n",
       "f8luua75t2Is5iP6nxcXQQ  33.484449 -112.364198   \n",
       "Us-93TD-lG_kVJzDPvmppw  33.501848 -111.964967   \n",
       "qrjPKkSPzodIfP0kW1mtEw  33.499149 -111.923063   \n",
       "L-bwqJzTbT7ODisS4sepJg  36.075943 -115.298020   \n",
       "pwF_phwjD1ZHsY1xC9H7mA  36.071946 -115.106902   \n",
       "IwFpnIKo8xCVvoUCwluoXA  36.119310 -115.171770   \n",
       "zWS7hGTbydfkmubhS8qKRQ  36.121143 -115.174134   \n",
       "4bnLfKXorJ9HVmt7Oc8lcw  33.502139 -111.995748   \n",
       "VqU4Pl4URJjjgFS1UhseMg  36.054195 -115.242443   \n",
       "cA9cTalUXibyWZZYjh-kiQ  36.025675 -115.279201   \n",
       "02CV16hndzI60LuI2kDkOA  33.474558 -112.126114   \n",
       "1hY0Q3BYDq6CJDQay2xRQA  36.013838 -115.117968   \n",
       "8clKtz2RxFRDLnzZwMgA4w  36.095841 -115.190338   \n",
       "tR8-0OWg4UbwE16s6w6Y2A  36.117680 -115.176857   \n",
       "QnAzW6KMSciUcuJ20oI3Bw  33.321062 -111.723919   \n",
       "3AoCAj24yffBkl1vh9lkuQ  36.090223 -115.202364   \n",
       "b7GM0x9zZU5gq1aXErUf7Q  33.508269 -112.031716   \n",
       "vnKzoJr2C2YOTSQPt_F-tA  36.126201 -115.214819   \n",
       "...                           ...         ...   \n",
       "erBoatMp1TFi_NPxTigp6w  33.501982 -111.927618   \n",
       "ipNveHQxPlRmgSe9CSt9dw  33.582272 -111.680414   \n",
       "Kma0nPwuWfqelROxRIwLRw  36.264599 -115.256412   \n",
       "TmTB0Nel-U_zOr04OTUreA  36.027059 -115.153343   \n",
       "58G5uy89YPe7sIJa7Ze99g  36.060061 -115.165044   \n",
       "RUz4d1D83xRRXcc-ffkM5g  36.107901 -115.056372   \n",
       "bdsKG7MQIMmZ73lgOaTZ0A  36.117748 -115.170475   \n",
       "EF5vR_UUavzPjtgMYFCg5Q  36.127615 -115.170364   \n",
       "qdCbbg7FyD6mzf0L_g64uA  36.044874 -115.243900   \n",
       "67-DcR8Npwuc9lRph194cw  36.241289 -115.149580   \n",
       "26ecLqpDHrB3socZGfDuhQ  36.154658 -115.159219   \n",
       "aEol06ruyQJZYlDMPJGfUg  36.154862 -115.331429   \n",
       "lRALdho4l9cpiw9WdGkV1A  33.309792 -111.669200   \n",
       "K5kU2IN6mXvMo-Cx0oQFZg  33.533158 -112.260384   \n",
       "6sqAj_mXmYkZ3UKsyRGGHQ  36.172075 -115.145689   \n",
       "GhQQsSApIRfUmIcqzmSaGA  36.085729 -115.153140   \n",
       "gnafBL9EZE1kn0xD7Yf3_w  36.124823 -115.171971   \n",
       "XoitWJUjHcdBl9GqHTsdjw  36.067199 -115.172232   \n",
       "8z-v_pn00BcnrWs9bacYUQ  36.123843 -115.170220   \n",
       "0InQd9vuhRc98OksC3Ks8Q  36.098878 -115.175641   \n",
       "KVYSUfN89b-nih-_9HhF6g  33.533049 -112.262036   \n",
       "_G5pDGRJL0mhLRgIViW2sA  36.095580 -115.175818   \n",
       "PEyRw3HOWcDnd2XHRLq5RQ  33.539228 -112.184329   \n",
       "UuBZkKnckkRmYt3jFn2gaQ  36.137667 -115.164659   \n",
       "3e9IUI5Dt-ktDKEQNkENVA  33.479007 -112.000813   \n",
       "cSYSUZ3YbwR_RTughnoy5A  33.576494 -112.120861   \n",
       "GQ6bCvYZxdGY6ZQyeZFeVg  36.189293 -115.162965   \n",
       "wyqwO4ZqZyRR6pGk1pTBrA  36.060061 -115.165044   \n",
       "inDYSqSDMyrfBhOZc702rw  33.678238 -112.101291   \n",
       "CJ8IURVsHxTIu2Kzp2Kumw  36.118346 -115.170129   \n",
       "\n",
       "                                                                     name  \\\n",
       "business_id                                                                 \n",
       "lliksv-tglfUz1T3B3vgvA                                      Lotus of Siam   \n",
       "vARjqeIkSNsazHltujiq4Q                              Cornish Pasty Company   \n",
       "mQde7KRomOQoUyPGTqeXhA                             Arizona Humane Society   \n",
       "CZBYYCb4xBwNlSIYNc6Eiw  Siphon Draw Trail inc. Flatiron, Superstition ...   \n",
       "nYer89hXYAoddMEKTxw7kA              Yelp's Secret Cinema: Made In Arizona   \n",
       "QBHcPkoRsPb68Oq7zRj44A                                Frost Bites Shavery   \n",
       "Y_P4hdBnB5TZD3-nsi9-jQ                           Blue Sky Airport Parking   \n",
       "84NQRcMC0ldIC86yRw0vpA                                  Gelato Dolce Vita   \n",
       "H_SuH7uLiYahDMbNBB9kog                                       KoMex Fusion   \n",
       "a-VGlZ06IaFTCX0vd0xm-A                         Central Church - Henderson   \n",
       "_tYT5_N3zCwrpkdfVhqrnw                                      The Brush Bar   \n",
       "qcF6SHcGRML7gihfpNl_zA                         Fabulous Eyebrow Threading   \n",
       "f8luua75t2Is5iP6nxcXQQ                                          Yogurtini   \n",
       "Us-93TD-lG_kVJzDPvmppw                                    I Clean Carpets   \n",
       "qrjPKkSPzodIfP0kW1mtEw                                      Salon D'Shayn   \n",
       "L-bwqJzTbT7ODisS4sepJg                                  Pressed For Juice   \n",
       "pwF_phwjD1ZHsY1xC9H7mA                                     Sunrise Coffee   \n",
       "IwFpnIKo8xCVvoUCwluoXA                     The Mac King Comedy Magic Show   \n",
       "zWS7hGTbydfkmubhS8qKRQ                                        Boyz II Men   \n",
       "4bnLfKXorJ9HVmt7Oc8lcw  CMYE: Yelp's Sweet Bake-In at La Grande Orange...   \n",
       "VqU4Pl4URJjjgFS1UhseMg                                       Brew Tea Bar   \n",
       "cA9cTalUXibyWZZYjh-kiQ                         Carpet Monkey Of Las Vegas   \n",
       "02CV16hndzI60LuI2kDkOA                                   Camelback Moving   \n",
       "1hY0Q3BYDq6CJDQay2xRQA                           Vegas Discount Nutrition   \n",
       "8clKtz2RxFRDLnzZwMgA4w                             Camp Bow Wow Las Vegas   \n",
       "tR8-0OWg4UbwE16s6w6Y2A                Elton John-The Million Dollar Piano   \n",
       "QnAzW6KMSciUcuJ20oI3Bw                                   Joe's Farm Grill   \n",
       "3AoCAj24yffBkl1vh9lkuQ                                           Eco-Tint   \n",
       "b7GM0x9zZU5gq1aXErUf7Q                            Julia Baker Confections   \n",
       "vnKzoJr2C2YOTSQPt_F-tA                               Japanese Car Service   \n",
       "...                                                                   ...   \n",
       "erBoatMp1TFi_NPxTigp6w                                          Pink Taco   \n",
       "ipNveHQxPlRmgSe9CSt9dw                               Fort Mcdowell Casino   \n",
       "Kma0nPwuWfqelROxRIwLRw              On the Border Mexican Grill & Cantina   \n",
       "TmTB0Nel-U_zOr04OTUreA                                     US Post Office   \n",
       "58G5uy89YPe7sIJa7Ze99g                                  Budget Car Rental   \n",
       "RUz4d1D83xRRXcc-ffkM5g                                 Cannery Row Buffet   \n",
       "bdsKG7MQIMmZ73lgOaTZ0A                                               FAME   \n",
       "EF5vR_UUavzPjtgMYFCg5Q                               Carlos' N' Charlie's   \n",
       "qdCbbg7FyD6mzf0L_g64uA                                   Church's Chicken   \n",
       "67-DcR8Npwuc9lRph194cw                                  San Gennaro Feast   \n",
       "26ecLqpDHrB3socZGfDuhQ                                     Showtime Tours   \n",
       "aEol06ruyQJZYlDMPJGfUg                                  Wonderland Bakery   \n",
       "lRALdho4l9cpiw9WdGkV1A                                          Allegiant   \n",
       "K5kU2IN6mXvMo-Cx0oQFZg                                      Calico Jack's   \n",
       "6sqAj_mXmYkZ3UKsyRGGHQ                      Las Vegas Club Hotel & Casino   \n",
       "GhQQsSApIRfUmIcqzmSaGA                                    Spirit Airlines   \n",
       "gnafBL9EZE1kn0xD7Yf3_w                          Sirens of Treasure Island   \n",
       "XoitWJUjHcdBl9GqHTsdjw                                Ranch House Kitchen   \n",
       "8z-v_pn00BcnrWs9bacYUQ                 The Quad Las Vegas Resort & Casino   \n",
       "0InQd9vuhRc98OksC3Ks8Q                                  Buffet Roundtable   \n",
       "KVYSUfN89b-nih-_9HhF6g                     McFadden's Restaurant & Saloon   \n",
       "_G5pDGRJL0mhLRgIViW2sA             Cirque du Soleil - Criss Angel Believe   \n",
       "PEyRw3HOWcDnd2XHRLq5RQ               Glendale's Best Street Food Festival   \n",
       "UuBZkKnckkRmYt3jFn2gaQ                                      Circus Buffet   \n",
       "3e9IUI5Dt-ktDKEQNkENVA                                Walmart Supercenter   \n",
       "cSYSUZ3YbwR_RTughnoy5A                                   Metrocenter Mall   \n",
       "GQ6bCvYZxdGY6ZQyeZFeVg                                 Cox Communications   \n",
       "wyqwO4ZqZyRR6pGk1pTBrA                                 Payless Car Rental   \n",
       "inDYSqSDMyrfBhOZc702rw                                 Cox Communications   \n",
       "CJ8IURVsHxTIu2Kzp2Kumw                                   Emperor's Buffet   \n",
       "\n",
       "                                  neighborhoods   open  review_count  stars  \\\n",
       "business_id                                                                   \n",
       "lliksv-tglfUz1T3B3vgvA     [Eastside, Downtown]   True          3225    4.0   \n",
       "vARjqeIkSNsazHltujiq4Q                       []   True           884    4.5   \n",
       "mQde7KRomOQoUyPGTqeXhA                       []   True            64    4.5   \n",
       "CZBYYCb4xBwNlSIYNc6Eiw                       []   True            49    5.0   \n",
       "nYer89hXYAoddMEKTxw7kA                       []   True            38    5.0   \n",
       "QBHcPkoRsPb68Oq7zRj44A                       []  False            72    5.0   \n",
       "Y_P4hdBnB5TZD3-nsi9-jQ                       []   True           159    4.5   \n",
       "84NQRcMC0ldIC86yRw0vpA                       []   True           178    5.0   \n",
       "H_SuH7uLiYahDMbNBB9kog                       []   True          1124    4.5   \n",
       "a-VGlZ06IaFTCX0vd0xm-A                       []   True            76    4.5   \n",
       "_tYT5_N3zCwrpkdfVhqrnw                       []   True            77    5.0   \n",
       "qcF6SHcGRML7gihfpNl_zA               [Westside]   True           413    5.0   \n",
       "f8luua75t2Is5iP6nxcXQQ                       []   True            53    5.0   \n",
       "Us-93TD-lG_kVJzDPvmppw                       []   True           250    5.0   \n",
       "qrjPKkSPzodIfP0kW1mtEw                       []   True           230    4.5   \n",
       "L-bwqJzTbT7ODisS4sepJg          [Spring Valley]   True           105    4.5   \n",
       "pwF_phwjD1ZHsY1xC9H7mA              [Southeast]   True           780    4.5   \n",
       "IwFpnIKo8xCVvoUCwluoXA              [The Strip]   True           390    4.5   \n",
       "zWS7hGTbydfkmubhS8qKRQ              [The Strip]   True           150    5.0   \n",
       "4bnLfKXorJ9HVmt7Oc8lcw                       []   True            34    5.0   \n",
       "VqU4Pl4URJjjgFS1UhseMg              [Southwest]   True           579    5.0   \n",
       "cA9cTalUXibyWZZYjh-kiQ              [Southwest]   True           273    5.0   \n",
       "02CV16hndzI60LuI2kDkOA                       []   True           311    4.5   \n",
       "1hY0Q3BYDq6CJDQay2xRQA              [Southeast]   True           223    5.0   \n",
       "8clKtz2RxFRDLnzZwMgA4w                       []   True           127    4.5   \n",
       "tR8-0OWg4UbwE16s6w6Y2A              [The Strip]   True            93    4.5   \n",
       "QnAzW6KMSciUcuJ20oI3Bw                       []   True          1368    4.0   \n",
       "3AoCAj24yffBkl1vh9lkuQ                       []   True           376    5.0   \n",
       "b7GM0x9zZU5gq1aXErUf7Q                       []  False            76    4.5   \n",
       "vnKzoJr2C2YOTSQPt_F-tA              [Chinatown]   True           106    4.5   \n",
       "...                                         ...    ...           ...    ...   \n",
       "erBoatMp1TFi_NPxTigp6w                       []  False            55    2.5   \n",
       "ipNveHQxPlRmgSe9CSt9dw                       []   True            85    2.5   \n",
       "Kma0nPwuWfqelROxRIwLRw  [Northwest, Centennial]   True           168    2.5   \n",
       "TmTB0Nel-U_zOr04OTUreA              [Southeast]   True            75    1.5   \n",
       "58G5uy89YPe7sIJa7Ze99g              [Southeast]   True           295    1.5   \n",
       "RUz4d1D83xRRXcc-ffkM5g                       []   True            46    2.0   \n",
       "bdsKG7MQIMmZ73lgOaTZ0A              [The Strip]  False            93    2.0   \n",
       "EF5vR_UUavzPjtgMYFCg5Q              [The Strip]   True           272    2.0   \n",
       "qdCbbg7FyD6mzf0L_g64uA              [Southwest]   True            80    2.0   \n",
       "67-DcR8Npwuc9lRph194cw                       []   True            85    2.5   \n",
       "26ecLqpDHrB3socZGfDuhQ               [Downtown]   True           358    1.5   \n",
       "aEol06ruyQJZYlDMPJGfUg        [South Summerlin]   True            75    2.5   \n",
       "lRALdho4l9cpiw9WdGkV1A                       []   True           166    1.5   \n",
       "K5kU2IN6mXvMo-Cx0oQFZg                       []   True           174    1.5   \n",
       "6sqAj_mXmYkZ3UKsyRGGHQ               [Downtown]  False            98    2.0   \n",
       "GhQQsSApIRfUmIcqzmSaGA              [Southeast]   True           739    1.5   \n",
       "gnafBL9EZE1kn0xD7Yf3_w              [The Strip]  False           143    2.0   \n",
       "XoitWJUjHcdBl9GqHTsdjw              [Southeast]  False            69    2.0   \n",
       "8z-v_pn00BcnrWs9bacYUQ              [The Strip]  False           609    2.0   \n",
       "0InQd9vuhRc98OksC3Ks8Q              [The Strip]  False           190    2.0   \n",
       "KVYSUfN89b-nih-_9HhF6g                       []   True           311    1.5   \n",
       "_G5pDGRJL0mhLRgIViW2sA              [The Strip]  False           833    1.5   \n",
       "PEyRw3HOWcDnd2XHRLq5RQ                       []   True            49    1.5   \n",
       "UuBZkKnckkRmYt3jFn2gaQ              [The Strip]   True           272    2.0   \n",
       "3e9IUI5Dt-ktDKEQNkENVA                       []   True           100    1.5   \n",
       "cSYSUZ3YbwR_RTughnoy5A                       []   True           125    2.0   \n",
       "GQ6bCvYZxdGY6ZQyeZFeVg                       []   True           253    1.5   \n",
       "wyqwO4ZqZyRR6pGk1pTBrA              [Southeast]   True           474    1.5   \n",
       "inDYSqSDMyrfBhOZc702rw                       []   True           517    1.5   \n",
       "CJ8IURVsHxTIu2Kzp2Kumw              [The Strip]  False            57    1.5   \n",
       "\n",
       "                       state      type  \n",
       "business_id                             \n",
       "lliksv-tglfUz1T3B3vgvA    NV  business  \n",
       "vARjqeIkSNsazHltujiq4Q    AZ  business  \n",
       "mQde7KRomOQoUyPGTqeXhA    AZ  business  \n",
       "CZBYYCb4xBwNlSIYNc6Eiw    AZ  business  \n",
       "nYer89hXYAoddMEKTxw7kA    AZ  business  \n",
       "QBHcPkoRsPb68Oq7zRj44A    NV  business  \n",
       "Y_P4hdBnB5TZD3-nsi9-jQ    AZ  business  \n",
       "84NQRcMC0ldIC86yRw0vpA    AZ  business  \n",
       "H_SuH7uLiYahDMbNBB9kog    NV  business  \n",
       "a-VGlZ06IaFTCX0vd0xm-A    NV  business  \n",
       "_tYT5_N3zCwrpkdfVhqrnw    AZ  business  \n",
       "qcF6SHcGRML7gihfpNl_zA    NV  business  \n",
       "f8luua75t2Is5iP6nxcXQQ    AZ  business  \n",
       "Us-93TD-lG_kVJzDPvmppw    AZ  business  \n",
       "qrjPKkSPzodIfP0kW1mtEw    AZ  business  \n",
       "L-bwqJzTbT7ODisS4sepJg    NV  business  \n",
       "pwF_phwjD1ZHsY1xC9H7mA    NV  business  \n",
       "IwFpnIKo8xCVvoUCwluoXA    NV  business  \n",
       "zWS7hGTbydfkmubhS8qKRQ    NV  business  \n",
       "4bnLfKXorJ9HVmt7Oc8lcw    AZ  business  \n",
       "VqU4Pl4URJjjgFS1UhseMg    NV  business  \n",
       "cA9cTalUXibyWZZYjh-kiQ    NV  business  \n",
       "02CV16hndzI60LuI2kDkOA    AZ  business  \n",
       "1hY0Q3BYDq6CJDQay2xRQA    NV  business  \n",
       "8clKtz2RxFRDLnzZwMgA4w    NV  business  \n",
       "tR8-0OWg4UbwE16s6w6Y2A    NV  business  \n",
       "QnAzW6KMSciUcuJ20oI3Bw    AZ  business  \n",
       "3AoCAj24yffBkl1vh9lkuQ    NV  business  \n",
       "b7GM0x9zZU5gq1aXErUf7Q    AZ  business  \n",
       "vnKzoJr2C2YOTSQPt_F-tA    NV  business  \n",
       "...                      ...       ...  \n",
       "erBoatMp1TFi_NPxTigp6w    AZ  business  \n",
       "ipNveHQxPlRmgSe9CSt9dw    AZ  business  \n",
       "Kma0nPwuWfqelROxRIwLRw    NV  business  \n",
       "TmTB0Nel-U_zOr04OTUreA    NV  business  \n",
       "58G5uy89YPe7sIJa7Ze99g    NV  business  \n",
       "RUz4d1D83xRRXcc-ffkM5g    NV  business  \n",
       "bdsKG7MQIMmZ73lgOaTZ0A    NV  business  \n",
       "EF5vR_UUavzPjtgMYFCg5Q    NV  business  \n",
       "qdCbbg7FyD6mzf0L_g64uA    NV  business  \n",
       "67-DcR8Npwuc9lRph194cw    NV  business  \n",
       "26ecLqpDHrB3socZGfDuhQ    NV  business  \n",
       "aEol06ruyQJZYlDMPJGfUg    NV  business  \n",
       "lRALdho4l9cpiw9WdGkV1A    AZ  business  \n",
       "K5kU2IN6mXvMo-Cx0oQFZg    AZ  business  \n",
       "6sqAj_mXmYkZ3UKsyRGGHQ    NV  business  \n",
       "GhQQsSApIRfUmIcqzmSaGA    NV  business  \n",
       "gnafBL9EZE1kn0xD7Yf3_w    NV  business  \n",
       "XoitWJUjHcdBl9GqHTsdjw    NV  business  \n",
       "8z-v_pn00BcnrWs9bacYUQ    NV  business  \n",
       "0InQd9vuhRc98OksC3Ks8Q    NV  business  \n",
       "KVYSUfN89b-nih-_9HhF6g    AZ  business  \n",
       "_G5pDGRJL0mhLRgIViW2sA    NV  business  \n",
       "PEyRw3HOWcDnd2XHRLq5RQ    AZ  business  \n",
       "UuBZkKnckkRmYt3jFn2gaQ    NV  business  \n",
       "3e9IUI5Dt-ktDKEQNkENVA    AZ  business  \n",
       "cSYSUZ3YbwR_RTughnoy5A    AZ  business  \n",
       "GQ6bCvYZxdGY6ZQyeZFeVg    NV  business  \n",
       "wyqwO4ZqZyRR6pGk1pTBrA    NV  business  \n",
       "inDYSqSDMyrfBhOZc702rw    AZ  business  \n",
       "CJ8IURVsHxTIu2Kzp2Kumw    NV  business  \n",
       "\n",
       "[6322 rows x 15 columns]"
      ]
     },
     "execution_count": 330,
     "metadata": {},
     "output_type": "execute_result"
    }
   ],
   "source": [
    "# business.loc[recommended_business_names][business.state.isin(user_states)]  # UserWarning: Boolean Series key will be reindexed to match DataFrame index.\n",
    "business.loc[recommended_business_names][business.loc[recommended_business_names].state.isin(user_states)]"
   ]
  },
  {
   "cell_type": "code",
   "execution_count": 286,
   "metadata": {
    "ExecuteTime": {
     "end_time": "2017-02-01T16:04:53.572296",
     "start_time": "2017-02-01T16:04:53.568798"
    },
    "collapsed": false,
    "run_control": {
     "frozen": false,
     "read_only": false
    }
   },
   "outputs": [],
   "source": [
    "# Get ordinal index position of businesses rated by user_id\n",
    "# [Y.loc[:,user_id].index.get_loc(i) for i in Y.loc[:,user_id][Y.loc[:,user_id].notnull()].index.tolist()]"
   ]
  },
  {
   "cell_type": "code",
   "execution_count": 284,
   "metadata": {
    "ExecuteTime": {
     "end_time": "2017-02-01T16:04:21.483869",
     "start_time": "2017-02-01T16:04:21.480360"
    },
    "collapsed": false
   },
   "outputs": [],
   "source": [
    "# We cant use rev_biz_usr because it contained some entries that were removed in the Y matrix\n",
    "# business.loc[rev_biz_usr[rev_biz_usr.user_id == user_id].business_id.unique()]"
   ]
  },
  {
   "cell_type": "code",
   "execution_count": null,
   "metadata": {
    "ExecuteTime": {
     "end_time": "2017-02-01T16:02:32.454135",
     "start_time": "2017-02-01T16:02:32.239568"
    },
    "collapsed": false,
    "run_control": {
     "frozen": false,
     "read_only": false
    },
    "scrolled": true
   },
   "outputs": [],
   "source": []
  },
  {
   "cell_type": "markdown",
   "metadata": {
    "run_control": {
     "frozen": false,
     "read_only": false
    }
   },
   "source": [
    "# APPENDIX: Testing the cost function with Andrew Ng's Example"
   ]
  },
  {
   "cell_type": "code",
   "execution_count": 443,
   "metadata": {
    "ExecuteTime": {
     "end_time": "2017-01-27T17:19:12.055449",
     "start_time": "2017-01-27T17:19:11.963658"
    },
    "collapsed": false,
    "run_control": {
     "frozen": false,
     "read_only": false
    }
   },
   "outputs": [],
   "source": [
    "# Testing the cost function and implementation on a dataset with a known answer(Andrew Ng's)\n",
    "def testing():\n",
    "    from scipy.io import loadmat\n",
    "    data = loadmat('ex8_movies.mat')\n",
    "#     Y = data['Y']\n",
    "#     R = data['R']\n",
    "#     Y.shape, R.shape\n",
    "#     users = 4  \n",
    "#     movies = 5  \n",
    "#     features = 3\n",
    "\n",
    "#     params_data = loadmat('ex8_movieParams.mat')  \n",
    "#     X = params_data['X']  \n",
    "#     Theta = params_data['Theta']\n",
    "\n",
    "#     X_sub = X[:movies, :features]  \n",
    "#     Theta_sub = Theta[:users, :features]  \n",
    "#     Y_sub = Y[:movies, :users]  \n",
    "#     R_sub = R[:movies, :users]\n",
    "#     params = np.concatenate((np.ravel(X_sub), np.ravel(Theta_sub)))\n",
    "    \n",
    "\n",
    "    \n",
    "    movie_idx = {}  \n",
    "    f = open('movie_ids.txt')  \n",
    "    for line in f:  \n",
    "        tokens = line.split(' ')\n",
    "        tokens[-1] = tokens[-1][:-1]\n",
    "        movie_idx[int(tokens[0]) - 1] = ' '.join(tokens[1:])\n",
    "\n",
    "    ratings = np.zeros((1682, 1))\n",
    "\n",
    "    ratings[0] = 4  \n",
    "    ratings[6] = 3  \n",
    "    ratings[11] = 5  \n",
    "    ratings[53] = 4  \n",
    "    ratings[63] = 5  \n",
    "    ratings[65] = 3  \n",
    "    ratings[68] = 5  \n",
    "    ratings[97] = 2  \n",
    "    ratings[182] = 4  \n",
    "    ratings[225] = 5  \n",
    "    ratings[354] = 5\n",
    "    \n",
    "    R = data['R']\n",
    "    Y = data['Y']\n",
    "    Y = np.append(Y, ratings, axis=1)  \n",
    "    R = np.append(R, ratings != 0, axis=1)  \n",
    "    from scipy.optimize import minimize\n",
    "\n",
    "    movies = Y.shape[0]  \n",
    "    users = Y.shape[1]  \n",
    "    features = 10  \n",
    "    learning_rate = 10.\n",
    "\n",
    "    X = np.random.random(size=(movies, features))  \n",
    "    Theta = np.random.random(size=(users, features))  \n",
    "    params = np.concatenate((np.ravel(X), np.ravel(Theta)))\n",
    "\n",
    "    Ymean = np.zeros((movies, 1))  \n",
    "    Ynorm = np.zeros((movies, users))\n",
    "\n",
    "    for i in range(movies):  \n",
    "        idx = np.where(R[i,:] == 1)[0]\n",
    "        Ymean[i] = Y[i,idx].mean()\n",
    "        Ynorm[i,idx] = Y[i,idx] - Ymean[i]\n",
    "\n",
    "    fmin = minimize(fun=cost, x0=params, args=(Ynorm, R, movies, users, features, learning_rate),  \n",
    "                    method='CG', jac=True, options={'maxiter': 100, 'disp':True})\n",
    "    print(fmin)\n",
    "    X = np.matrix(np.reshape(fmin.x[:movies * features], (movies, features)))  \n",
    "    Theta = np.matrix(np.reshape(fmin.x[movies * features:], (users, features)))\n",
    "    \n",
    "    predictions = X * Theta.T\n",
    "    my_preds = predictions[:, -1] + Ymean\n",
    "    idx = np.argsort(my_preds, axis=0)[::-1]  \n",
    "    print(\"Top 10 movie predictions:\")  \n",
    "    for i in range(10):  \n",
    "        j = int(idx[i])\n",
    "        print('Predicted rating of {0} for movie {1}.'.format(str(float(my_preds[j])), movie_idx[j]))\n",
    "    #return cost(params, pd.DataFrame(Y_sub), pd.DataFrame(R_sub), features, 1.5)"
   ]
  },
  {
   "cell_type": "code",
   "execution_count": 444,
   "metadata": {
    "ExecuteTime": {
     "end_time": "2017-01-27T17:19:25.672902",
     "start_time": "2017-01-27T17:19:12.696603"
    },
    "collapsed": false,
    "run_control": {
     "frozen": false,
     "read_only": false
    },
    "scrolled": true
   },
   "outputs": [
    {
     "name": "stdout",
     "output_type": "stream",
     "text": [
      "The cost is currently equal to......... 434829.17492\n",
      "The cost is currently equal to......... 434829.17492\n",
      "The cost is currently equal to......... 408754.420477\n",
      "The cost is currently equal to......... 319567.708067\n",
      "The cost is currently equal to......... 141671.966108\n",
      "The cost is currently equal to......... 826367.504943\n",
      "The cost is currently equal to......... 104206.23712\n",
      "The cost is currently equal to......... 86914.1501693\n",
      "The cost is currently equal to......... 67517.3621203\n",
      "The cost is currently equal to......... 70794.9155707\n",
      "The cost is currently equal to......... 60246.3512986\n",
      "The cost is currently equal to......... 52793.4544583\n",
      "The cost is currently equal to......... 50083.9248201\n",
      "The cost is currently equal to......... 48203.6543201\n",
      "The cost is currently equal to......... 45924.5158052\n",
      "The cost is currently equal to......... 45100.3193639\n",
      "The cost is currently equal to......... 44979.2361376\n",
      "The cost is currently equal to......... 43544.4022095\n",
      "The cost is currently equal to......... 43015.027213\n",
      "The cost is currently equal to......... 42523.0173984\n",
      "The cost is currently equal to......... 41557.6378884\n",
      "The cost is currently equal to......... 41832.6850504\n",
      "The cost is currently equal to......... 41065.36779\n",
      "The cost is currently equal to......... 40547.1642301\n",
      "The cost is currently equal to......... 40337.4499047\n",
      "The cost is currently equal to......... 40219.9659658\n",
      "The cost is currently equal to......... 39949.7759889\n",
      "The cost is currently equal to......... 40080.0735641\n",
      "The cost is currently equal to......... 39832.5631529\n",
      "The cost is currently equal to......... 39680.9632615\n",
      "The cost is currently equal to......... 39608.300902\n",
      "The cost is currently equal to......... 39580.3043779\n",
      "The cost is currently equal to......... 39494.2243377\n",
      "The cost is currently equal to......... 39428.248508\n",
      "The cost is currently equal to......... 39367.4123875\n",
      "The cost is currently equal to......... 39294.4649524\n",
      "The cost is currently equal to......... 39263.5951103\n",
      "The cost is currently equal to......... 39248.1982662\n",
      "The cost is currently equal to......... 39225.962368\n",
      "The cost is currently equal to......... 39217.4547863\n",
      "The cost is currently equal to......... 39202.5401123\n",
      "The cost is currently equal to......... 39196.9390675\n",
      "The cost is currently equal to......... 39172.1769389\n",
      "The cost is currently equal to......... 39158.1968802\n",
      "The cost is currently equal to......... 39154.8890661\n",
      "The cost is currently equal to......... 39135.8748684\n",
      "The cost is currently equal to......... 39125.0338734\n",
      "The cost is currently equal to......... 39122.4389272\n",
      "The cost is currently equal to......... 39108.3068835\n",
      "The cost is currently equal to......... 39098.0734611\n",
      "The cost is currently equal to......... 39097.7887522\n",
      "The cost is currently equal to......... 39092.6978392\n",
      "The cost is currently equal to......... 39085.3768798\n",
      "The cost is currently equal to......... 39079.0552571\n",
      "The cost is currently equal to......... 39076.6895154\n",
      "The cost is currently equal to......... 39075.1408974\n",
      "The cost is currently equal to......... 39070.7610502\n",
      "The cost is currently equal to......... 39067.2274395\n",
      "The cost is currently equal to......... 39064.9509587\n",
      "The cost is currently equal to......... 39061.2923397\n",
      "The cost is currently equal to......... 39059.3246991\n",
      "The cost is currently equal to......... 39052.2558015\n",
      "The cost is currently equal to......... 39051.2089966\n",
      "The cost is currently equal to......... 39048.4096738\n",
      "The cost is currently equal to......... 39046.5874542\n",
      "The cost is currently equal to......... 39045.8687143\n",
      "The cost is currently equal to......... 39042.850077\n",
      "The cost is currently equal to......... 39039.3992467\n",
      "The cost is currently equal to......... 39034.8490024\n",
      "The cost is currently equal to......... 39034.2373493\n",
      "The cost is currently equal to......... 39032.3835428\n",
      "The cost is currently equal to......... 39029.0425841\n",
      "The cost is currently equal to......... 39025.8334791\n",
      "The cost is currently equal to......... 39023.2507082\n",
      "The cost is currently equal to......... 39019.6133102\n",
      "The cost is currently equal to......... 39017.8714992\n",
      "The cost is currently equal to......... 39017.2048003\n",
      "The cost is currently equal to......... 39021.1234466\n",
      "The cost is currently equal to......... 39016.5337033\n",
      "The cost is currently equal to......... 39015.6869462\n",
      "The cost is currently equal to......... 39014.7570268\n",
      "The cost is currently equal to......... 39013.3306246\n",
      "The cost is currently equal to......... 39012.8061876\n",
      "The cost is currently equal to......... 39010.0263545\n",
      "The cost is currently equal to......... 39009.5315058\n",
      "The cost is currently equal to......... 39007.2415912\n",
      "The cost is currently equal to......... 39009.730367\n",
      "The cost is currently equal to......... 39006.4579712\n",
      "The cost is currently equal to......... 39005.2977806\n",
      "The cost is currently equal to......... 39004.9749773\n",
      "The cost is currently equal to......... 39003.8125869\n",
      "The cost is currently equal to......... 39003.146698\n",
      "The cost is currently equal to......... 39002.9939536\n",
      "The cost is currently equal to......... 39001.9762999\n",
      "The cost is currently equal to......... 39001.6089731\n",
      "The cost is currently equal to......... 39001.3494358\n",
      "The cost is currently equal to......... 39000.9767036\n",
      "The cost is currently equal to......... 39000.9002589\n",
      "The cost is currently equal to......... 39000.3546994\n",
      "The cost is currently equal to......... 38999.5599755\n",
      "The cost is currently equal to......... 38999.3655243\n",
      "The cost is currently equal to......... 38998.1137047\n",
      "The cost is currently equal to......... 38996.6792835\n",
      "The cost is currently equal to......... 38994.8569752\n",
      "The cost is currently equal to......... 38993.4957456\n",
      "The cost is currently equal to......... 38992.8256017\n",
      "The cost is currently equal to......... 38992.579677\n",
      "The cost is currently equal to......... 38991.1153201\n",
      "The cost is currently equal to......... 38990.3650852\n",
      "The cost is currently equal to......... 38988.9048788\n",
      "The cost is currently equal to......... 38990.1906888\n",
      "The cost is currently equal to......... 38988.3916608\n",
      "The cost is currently equal to......... 38987.5026165\n",
      "The cost is currently equal to......... 38986.5701557\n",
      "The cost is currently equal to......... 38988.9672358\n",
      "The cost is currently equal to......... 38986.0138455\n",
      "The cost is currently equal to......... 38985.2375261\n",
      "The cost is currently equal to......... 38984.9711361\n",
      "The cost is currently equal to......... 38984.7649728\n",
      "The cost is currently equal to......... 38984.0753184\n",
      "The cost is currently equal to......... 38983.9068946\n",
      "The cost is currently equal to......... 38982.5673232\n",
      "The cost is currently equal to......... 38982.0134741\n",
      "The cost is currently equal to......... 38979.2932858\n",
      "The cost is currently equal to......... 38978.8497216\n",
      "The cost is currently equal to......... 38979.9076855\n",
      "The cost is currently equal to......... 38977.4586635\n",
      "The cost is currently equal to......... 38976.466562\n",
      "The cost is currently equal to......... 38976.2116291\n",
      "The cost is currently equal to......... 38975.8965417\n",
      "The cost is currently equal to......... 38975.1357829\n",
      "The cost is currently equal to......... 38974.9857806\n",
      "The cost is currently equal to......... 38974.7102129\n",
      "The cost is currently equal to......... 38974.3785649\n",
      "The cost is currently equal to......... 38973.9363453\n",
      "The cost is currently equal to......... 38973.4712003\n",
      "The cost is currently equal to......... 38973.2323172\n",
      "The cost is currently equal to......... 38973.1561838\n",
      "The cost is currently equal to......... 38972.9143223\n",
      "The cost is currently equal to......... 38972.5769776\n",
      "The cost is currently equal to......... 38972.2191156\n",
      "The cost is currently equal to......... 38972.0763843\n",
      "The cost is currently equal to......... 38971.9939601\n",
      "The cost is currently equal to......... 38971.8727788\n",
      "The cost is currently equal to......... 38971.8389584\n",
      "The cost is currently equal to......... 38971.6057878\n",
      "The cost is currently equal to......... 38971.5320212\n",
      "The cost is currently equal to......... 38971.0536039\n",
      "The cost is currently equal to......... 38970.8571542\n",
      "The cost is currently equal to......... 38969.8032219\n",
      "The cost is currently equal to......... 38969.4711534\n",
      "The cost is currently equal to......... 38969.2716141\n",
      "The cost is currently equal to......... 38968.6873126\n",
      "The cost is currently equal to......... 38967.7541221\n",
      "Warning: Maximum number of iterations has been exceeded.\n",
      "         Current function value: 38967.754122\n",
      "         Iterations: 100\n",
      "         Function evaluations: 153\n",
      "         Gradient evaluations: 153\n",
      "     fun: 38967.75412211966\n",
      "     jac: array([ 0.02578867,  0.07779672,  0.08979825, ...,  0.01828284,\n",
      "        0.02904954,  0.03389644])\n",
      " message: 'Maximum number of iterations has been exceeded.'\n",
      "    nfev: 153\n",
      "     nit: 100\n",
      "    njev: 153\n",
      "  status: 1\n",
      " success: False\n",
      "       x: array([ 0.59997592,  0.8960935 ,  0.43250488, ..., -0.05479102,\n",
      "       -0.12235213, -0.07836623])\n",
      "Top 10 movie predictions:\n",
      "Predicted rating of 5.00000319059781 for movie Prefontaine (1997).\n",
      "Predicted rating of 5.000001458407162 for movie Great Day in Harlem, A (1994).\n",
      "Predicted rating of 5.000000356818402 for movie Aiqing wansui (1994).\n",
      "Predicted rating of 5.000000263081312 for movie Marlene Dietrich: Shadow and Light (1996) .\n",
      "Predicted rating of 5.000000168835147 for movie Entertaining Angels: The Dorothy Day Story (1996).\n",
      "Predicted rating of 4.999999587242086 for movie They Made Me a Criminal (1939).\n",
      "Predicted rating of 4.999999578154717 for movie Someone Else's America (1995).\n",
      "Predicted rating of 4.999999539817084 for movie Saint of Fort Washington, The (1993).\n",
      "Predicted rating of 4.9999945176245895 for movie Santa with Muscles (1996).\n",
      "Predicted rating of 4.999991871263635 for movie Star Kid (1997).\n"
     ]
    }
   ],
   "source": [
    "testing()"
   ]
  },
  {
   "cell_type": "markdown",
   "metadata": {
    "run_control": {
     "frozen": false,
     "read_only": false
    }
   },
   "source": [
    "# Old stuff below"
   ]
  },
  {
   "cell_type": "markdown",
   "metadata": {
    "run_control": {
     "frozen": false,
     "read_only": false
    }
   },
   "source": [
    "## Check some values after conversion"
   ]
  },
  {
   "cell_type": "code",
   "execution_count": 143,
   "metadata": {
    "ExecuteTime": {
     "end_time": "2017-01-19T17:19:59.068310",
     "start_time": "2017-01-19T17:19:59.061290"
    },
    "collapsed": false,
    "run_control": {
     "frozen": false,
     "read_only": false
    }
   },
   "outputs": [
    {
     "data": {
      "text/plain": [
       "nan"
      ]
     },
     "execution_count": 143,
     "metadata": {},
     "output_type": "execute_result"
    }
   ],
   "source": [
    "Y_mat[1,2]"
   ]
  },
  {
   "cell_type": "code",
   "execution_count": 160,
   "metadata": {
    "ExecuteTime": {
     "end_time": "2017-01-19T17:29:02.400378",
     "start_time": "2017-01-19T17:29:01.853871"
    },
    "collapsed": false,
    "run_control": {
     "frozen": false,
     "read_only": false
    }
   },
   "outputs": [
    {
     "data": {
      "text/plain": [
       "'--5jkZ3-nUPZxUvtcbr8Uw'"
      ]
     },
     "execution_count": 160,
     "metadata": {},
     "output_type": "execute_result"
    }
   ],
   "source": [
    "Y.first_valid_index()"
   ]
  },
  {
   "cell_type": "code",
   "execution_count": 170,
   "metadata": {
    "ExecuteTime": {
     "end_time": "2017-01-27T12:35:42.179432",
     "start_time": "2017-01-27T12:35:42.169418"
    },
    "collapsed": false,
    "run_control": {
     "frozen": false,
     "read_only": false
    }
   },
   "outputs": [
    {
     "data": {
      "text/plain": [
       "'0BT613A1PBxuwxUzjEb6VQ'"
      ]
     },
     "execution_count": 170,
     "metadata": {},
     "output_type": "execute_result"
    }
   ],
   "source": [
    "Y.loc['--5jkZ3-nUPZxUvtcbr8Uw'].first_valid_index()"
   ]
  },
  {
   "cell_type": "code",
   "execution_count": 169,
   "metadata": {
    "ExecuteTime": {
     "end_time": "2017-01-27T12:35:39.161506",
     "start_time": "2017-01-27T12:35:39.154487"
    },
    "collapsed": false,
    "run_control": {
     "frozen": false,
     "read_only": false
    }
   },
   "outputs": [
    {
     "data": {
      "text/plain": [
       "4.0"
      ]
     },
     "execution_count": 169,
     "metadata": {},
     "output_type": "execute_result"
    }
   ],
   "source": [
    "Y.loc['--5jkZ3-nUPZxUvtcbr8Uw','0BT613A1PBxuwxUzjEb6VQ']"
   ]
  },
  {
   "cell_type": "code",
   "execution_count": 167,
   "metadata": {
    "ExecuteTime": {
     "end_time": "2017-01-27T12:35:21.102005",
     "start_time": "2017-01-27T12:35:21.083958"
    },
    "collapsed": false,
    "run_control": {
     "frozen": false,
     "read_only": false
    }
   },
   "outputs": [
    {
     "data": {
      "text/plain": [
       "0"
      ]
     },
     "execution_count": 167,
     "metadata": {},
     "output_type": "execute_result"
    }
   ],
   "source": [
    "Y.index.get_loc('--5jkZ3-nUPZxUvtcbr8Uw')"
   ]
  },
  {
   "cell_type": "code",
   "execution_count": 168,
   "metadata": {
    "ExecuteTime": {
     "end_time": "2017-01-27T12:35:22.979682",
     "start_time": "2017-01-27T12:35:22.969656"
    },
    "collapsed": false,
    "run_control": {
     "frozen": false,
     "read_only": false
    }
   },
   "outputs": [
    {
     "data": {
      "text/plain": [
       "162"
      ]
     },
     "execution_count": 168,
     "metadata": {},
     "output_type": "execute_result"
    }
   ],
   "source": [
    "Y.loc['--5jkZ3-nUPZxUvtcbr8Uw'].index.get_loc('0BT613A1PBxuwxUzjEb6VQ')"
   ]
  },
  {
   "cell_type": "code",
   "execution_count": 187,
   "metadata": {
    "ExecuteTime": {
     "end_time": "2017-01-19T18:03:10.306400",
     "start_time": "2017-01-19T18:03:10.299883"
    },
    "collapsed": false,
    "run_control": {
     "frozen": false,
     "read_only": false
    }
   },
   "outputs": [
    {
     "data": {
      "text/plain": [
       "4.0"
      ]
     },
     "execution_count": 187,
     "metadata": {},
     "output_type": "execute_result"
    }
   ],
   "source": [
    "Y_mat[0,227]"
   ]
  },
  {
   "cell_type": "code",
   "execution_count": 171,
   "metadata": {
    "ExecuteTime": {
     "end_time": "2017-01-27T12:35:47.135300",
     "start_time": "2017-01-27T12:35:47.120246"
    },
    "collapsed": false,
    "run_control": {
     "frozen": false,
     "read_only": false
    }
   },
   "outputs": [
    {
     "ename": "NameError",
     "evalue": "name 'Y_mat' is not defined",
     "output_type": "error",
     "traceback": [
      "\u001b[0;31m---------------------------------------------------------------------------\u001b[0m",
      "\u001b[0;31mNameError\u001b[0m                                 Traceback (most recent call last)",
      "\u001b[0;32m<ipython-input-171-8b25dd9a8786>\u001b[0m in \u001b[0;36m<module>\u001b[0;34m()\u001b[0m\n\u001b[0;32m----> 1\u001b[0;31m \u001b[0mY_mat\u001b[0m\u001b[1;33m[\u001b[0m\u001b[1;36m0\u001b[0m\u001b[1;33m,\u001b[0m\u001b[1;36m0\u001b[0m\u001b[1;33m]\u001b[0m\u001b[1;33m\u001b[0m\u001b[0m\n\u001b[0m",
      "\u001b[0;31mNameError\u001b[0m: name 'Y_mat' is not defined"
     ]
    }
   ],
   "source": [
    "Y_mat[0,0]"
   ]
  },
  {
   "cell_type": "code",
   "execution_count": 171,
   "metadata": {
    "ExecuteTime": {
     "end_time": "2017-01-19T17:39:48.296479",
     "start_time": "2017-01-19T17:39:44.722592"
    },
    "collapsed": false,
    "run_control": {
     "frozen": false,
     "read_only": false
    },
    "scrolled": true
   },
   "outputs": [],
   "source": [
    "Y_mat = np.nan_to_num(Y_mat)"
   ]
  },
  {
   "cell_type": "code",
   "execution_count": 178,
   "metadata": {
    "ExecuteTime": {
     "end_time": "2017-01-19T17:41:14.778951",
     "start_time": "2017-01-19T17:41:14.427514"
    },
    "collapsed": false,
    "run_control": {
     "frozen": false,
     "read_only": false
    },
    "scrolled": true
   },
   "outputs": [
    {
     "data": {
      "text/plain": [
       "0"
      ]
     },
     "execution_count": 178,
     "metadata": {},
     "output_type": "execute_result"
    }
   ],
   "source": [
    "np.isnan(Y_mat).sum()"
   ]
  },
  {
   "cell_type": "markdown",
   "metadata": {
    "run_control": {
     "frozen": false,
     "read_only": false
    }
   },
   "source": [
    "# Using a sparse matrix:\n",
    "http://stackoverflow.com/questions/31661604/efficiently-create-sparse-pivot-tables-in-pandas"
   ]
  },
  {
   "cell_type": "code",
   "execution_count": 96,
   "metadata": {
    "ExecuteTime": {
     "end_time": "2017-01-18T15:33:24.219933",
     "start_time": "2017-01-18T15:33:22.116530"
    },
    "collapsed": false,
    "run_control": {
     "frozen": false,
     "read_only": false
    }
   },
   "outputs": [],
   "source": [
    "from scipy.sparse import csr_matrix\n",
    "\n",
    "users = list(sorted(rev_biz_usr.user_id.unique()))\n",
    "businesses = list(sorted(rev_biz_usr.business_id.unique()))\n",
    "\n",
    "stars = rev_biz_usr['stars_x'].tolist()\n",
    "row = rev_biz_usr.user_id.astype('category', categories=users).cat.codes\n",
    "col = rev_biz_usr.business_id.astype('category', categories=businesses).cat.codes\n",
    "sparse_matrix = csr_matrix((stars, (row, col)), shape=(len(users), len(businesses)))"
   ]
  },
  {
   "cell_type": "code",
   "execution_count": 37,
   "metadata": {
    "ExecuteTime": {
     "end_time": "2017-01-19T11:26:49.140819",
     "start_time": "2017-01-19T11:26:49.129809"
    },
    "collapsed": false,
    "run_control": {
     "frozen": false,
     "read_only": false
    }
   },
   "outputs": [
    {
     "ename": "NameError",
     "evalue": "name 'sparse_matrix' is not defined",
     "output_type": "error",
     "traceback": [
      "\u001b[0;31m---------------------------------------------------------------------------\u001b[0m",
      "\u001b[0;31mNameError\u001b[0m                                 Traceback (most recent call last)",
      "\u001b[0;32m<ipython-input-37-d3708ee28b70>\u001b[0m in \u001b[0;36m<module>\u001b[0;34m()\u001b[0m\n\u001b[0;32m----> 1\u001b[0;31m \u001b[0msparse_matrix\u001b[0m\u001b[1;33m\u001b[0m\u001b[0m\n\u001b[0m",
      "\u001b[0;31mNameError\u001b[0m: name 'sparse_matrix' is not defined"
     ]
    }
   ],
   "source": [
    "sparse_matrix"
   ]
  },
  {
   "cell_type": "code",
   "execution_count": 196,
   "metadata": {
    "ExecuteTime": {
     "end_time": "2017-01-17T19:33:53.795022",
     "start_time": "2017-01-17T19:33:53.790009"
    },
    "collapsed": false,
    "run_control": {
     "frozen": false,
     "read_only": false
    }
   },
   "outputs": [
    {
     "data": {
      "text/plain": [
       "<144265x25629 sparse matrix of type '<class 'numpy.int32'>'\n",
       "\twith 1201156 stored elements in Compressed Sparse Row format>"
      ]
     },
     "execution_count": 196,
     "metadata": {},
     "output_type": "execute_result"
    }
   ],
   "source": [
    "sparse_matrix"
   ]
  },
  {
   "cell_type": "code",
   "execution_count": 197,
   "metadata": {
    "ExecuteTime": {
     "end_time": "2017-01-17T19:33:57.078845",
     "start_time": "2017-01-17T19:33:57.073832"
    },
    "collapsed": false,
    "run_control": {
     "frozen": false,
     "read_only": false
    }
   },
   "outputs": [
    {
     "data": {
      "text/plain": [
       "144266"
      ]
     },
     "execution_count": 197,
     "metadata": {},
     "output_type": "execute_result"
    }
   ],
   "source": [
    "len(sparse_matrix.indptr)"
   ]
  },
  {
   "cell_type": "markdown",
   "metadata": {
    "run_control": {
     "frozen": false,
     "read_only": false
    }
   },
   "source": [
    "## The R matrix can be easily obtained by first converting the csr to coo and using the ij values"
   ]
  },
  {
   "cell_type": "markdown",
   "metadata": {
    "ExecuteTime": {
     "end_time": "2017-01-17T16:35:13.651326",
     "start_time": "2017-01-17T16:35:13.509950"
    },
    "run_control": {
     "frozen": false,
     "read_only": false
    }
   },
   "source": [
    "```\n",
    "sr_matrix.tocoo(copy=True)\n",
    "\n",
    "    Convert this matrix to COOrdinate format.\n",
    "\n",
    "    With copy=False, the data/indices may be shared between this matrix and the resultant coo_matrix.\n",
    "```"
   ]
  },
  {
   "cell_type": "code",
   "execution_count": 199,
   "metadata": {
    "ExecuteTime": {
     "end_time": "2017-01-17T19:34:24.547416",
     "start_time": "2017-01-17T19:34:24.530872"
    },
    "collapsed": true,
    "run_control": {
     "frozen": false,
     "read_only": false
    }
   },
   "outputs": [],
   "source": [
    "coo_mat = sparse_matrix.tocoo()"
   ]
  },
  {
   "cell_type": "code",
   "execution_count": 200,
   "metadata": {
    "ExecuteTime": {
     "end_time": "2017-01-17T19:34:25.371416",
     "start_time": "2017-01-17T19:34:25.366923"
    },
    "collapsed": false,
    "run_control": {
     "frozen": false,
     "read_only": false
    }
   },
   "outputs": [
    {
     "data": {
      "text/plain": [
       "1201156"
      ]
     },
     "execution_count": 200,
     "metadata": {},
     "output_type": "execute_result"
    }
   ],
   "source": [
    "len(coo_mat.row)"
   ]
  },
  {
   "cell_type": "code",
   "execution_count": 201,
   "metadata": {
    "ExecuteTime": {
     "end_time": "2017-01-17T19:34:28.831723",
     "start_time": "2017-01-17T19:34:27.769386"
    },
    "collapsed": false,
    "run_control": {
     "frozen": false,
     "read_only": false
    }
   },
   "outputs": [],
   "source": [
    "R = list(zip(coo_mat.row,coo_mat.col))"
   ]
  },
  {
   "cell_type": "code",
   "execution_count": 203,
   "metadata": {
    "ExecuteTime": {
     "end_time": "2017-01-17T19:35:05.462887",
     "start_time": "2017-01-17T19:35:05.224733"
    },
    "collapsed": false,
    "run_control": {
     "frozen": false,
     "read_only": false
    }
   },
   "outputs": [
    {
     "data": {
      "text/plain": [
       "[(0, 15977),\n",
       " (1, 6023),\n",
       " (1, 10013),\n",
       " (1, 12667),\n",
       " (1, 17546),\n",
       " (1, 19296),\n",
       " (1, 22532),\n",
       " (2, 24831),\n",
       " (3, 447),\n",
       " (3, 3221),\n",
       " (3, 8781),\n",
       " (3, 11898),\n",
       " (4, 652),\n",
       " (4, 4332),\n",
       " (4, 4645),\n",
       " (4, 4721),\n",
       " (4, 4984),\n",
       " (4, 5948),\n",
       " (4, 6324),\n",
       " (4, 7945),\n",
       " (4, 8192),\n",
       " (4, 9895),\n",
       " (4, 10773),\n",
       " (4, 10826),\n",
       " (4, 11546),\n",
       " (4, 12097),\n",
       " (4, 13059),\n",
       " (4, 13246),\n",
       " (4, 13502),\n",
       " (4, 13605),\n",
       " (4, 14262),\n",
       " (4, 14961),\n",
       " (4, 15180),\n",
       " (4, 15795),\n",
       " (4, 16131),\n",
       " (4, 16960),\n",
       " (4, 18093),\n",
       " (4, 18538),\n",
       " (4, 19564),\n",
       " (4, 19983),\n",
       " (4, 21848),\n",
       " (4, 23434),\n",
       " (5, 1484),\n",
       " (5, 1592),\n",
       " (5, 2213),\n",
       " (5, 2281),\n",
       " (5, 9698),\n",
       " (5, 10180),\n",
       " (5, 12386),\n",
       " (5, 14886),\n",
       " (5, 15513),\n",
       " (5, 18589),\n",
       " (5, 18843),\n",
       " (5, 22498),\n",
       " (5, 24981),\n",
       " (6, 363),\n",
       " (6, 814),\n",
       " (6, 831),\n",
       " (6, 874),\n",
       " (6, 900),\n",
       " (6, 972),\n",
       " (6, 1243),\n",
       " (6, 1571),\n",
       " (6, 1808),\n",
       " (6, 1831),\n",
       " (6, 1917),\n",
       " (6, 1931),\n",
       " (6, 2232),\n",
       " (6, 2613),\n",
       " (6, 2631),\n",
       " (6, 2694),\n",
       " (6, 3016),\n",
       " (6, 3102),\n",
       " (6, 3165),\n",
       " (6, 4110),\n",
       " (6, 4682),\n",
       " (6, 4711),\n",
       " (6, 4754),\n",
       " (6, 5099),\n",
       " (6, 5401),\n",
       " (6, 5603),\n",
       " (6, 5618),\n",
       " (6, 5707),\n",
       " (6, 5759),\n",
       " (6, 5940),\n",
       " (6, 5982),\n",
       " (6, 6196),\n",
       " (6, 6698),\n",
       " (6, 6717),\n",
       " (6, 6726),\n",
       " (6, 6821),\n",
       " (6, 6951),\n",
       " (6, 7156),\n",
       " (6, 7231),\n",
       " (6, 7348),\n",
       " (6, 7819),\n",
       " (6, 7829),\n",
       " (6, 8022),\n",
       " (6, 8034),\n",
       " (6, 8261),\n",
       " (6, 8373),\n",
       " (6, 8418),\n",
       " (6, 8544),\n",
       " (6, 9105),\n",
       " (6, 9117),\n",
       " (6, 9351),\n",
       " (6, 9386),\n",
       " (6, 9862),\n",
       " (6, 10785),\n",
       " (6, 10922),\n",
       " (6, 11220),\n",
       " (6, 12066),\n",
       " (6, 12462),\n",
       " (6, 12473),\n",
       " (6, 12515),\n",
       " (6, 12524),\n",
       " (6, 12610),\n",
       " (6, 12641),\n",
       " (6, 12679),\n",
       " (6, 12979),\n",
       " (6, 13147),\n",
       " (6, 13191),\n",
       " (6, 13522),\n",
       " (6, 13644),\n",
       " (6, 13908),\n",
       " (6, 13909),\n",
       " (6, 14328),\n",
       " (6, 14955),\n",
       " (6, 15055),\n",
       " (6, 15285),\n",
       " (6, 15470),\n",
       " (6, 15499),\n",
       " (6, 15652),\n",
       " (6, 16115),\n",
       " (6, 16135),\n",
       " (6, 16291),\n",
       " (6, 16418),\n",
       " (6, 16426),\n",
       " (6, 16580),\n",
       " (6, 16978),\n",
       " (6, 17017),\n",
       " (6, 17022),\n",
       " (6, 17075),\n",
       " (6, 17098),\n",
       " (6, 17426),\n",
       " (6, 17668),\n",
       " (6, 17672),\n",
       " (6, 18355),\n",
       " (6, 18643),\n",
       " (6, 18659),\n",
       " (6, 18927),\n",
       " (6, 18990),\n",
       " (6, 19011),\n",
       " (6, 19092),\n",
       " (6, 19166),\n",
       " (6, 19356),\n",
       " (6, 19660),\n",
       " (6, 20071),\n",
       " (6, 20140),\n",
       " (6, 20461),\n",
       " (6, 20693),\n",
       " (6, 20917),\n",
       " (6, 21044),\n",
       " (6, 21437),\n",
       " (6, 21678),\n",
       " (6, 21839),\n",
       " (6, 21857),\n",
       " (6, 21905),\n",
       " (6, 21976),\n",
       " (6, 22069),\n",
       " (6, 22100),\n",
       " (6, 22127),\n",
       " (6, 22232),\n",
       " (6, 22554),\n",
       " (6, 22711),\n",
       " (6, 22720),\n",
       " (6, 22898),\n",
       " (6, 22922),\n",
       " (6, 23243),\n",
       " (6, 24534),\n",
       " (6, 24555),\n",
       " (6, 24558),\n",
       " (6, 24561),\n",
       " (6, 24808),\n",
       " (6, 24951),\n",
       " (6, 25039),\n",
       " (6, 25091),\n",
       " (6, 25095),\n",
       " (6, 25109),\n",
       " (6, 25271),\n",
       " (6, 25569),\n",
       " (6, 25575),\n",
       " (6, 25611),\n",
       " (6, 25620),\n",
       " (7, 1113),\n",
       " (7, 7801),\n",
       " (7, 9403),\n",
       " (8, 151),\n",
       " (8, 5099),\n",
       " (8, 10012),\n",
       " (9, 572),\n",
       " (9, 2434),\n",
       " (9, 5105),\n",
       " (9, 8162),\n",
       " (9, 10846),\n",
       " (9, 11702),\n",
       " (9, 12370),\n",
       " (9, 13259),\n",
       " (9, 14307),\n",
       " (9, 17096),\n",
       " (9, 17964),\n",
       " (9, 20833),\n",
       " (10, 2111),\n",
       " (11, 458),\n",
       " (11, 2732),\n",
       " (11, 3318),\n",
       " (11, 4542),\n",
       " (11, 9257),\n",
       " (11, 14346),\n",
       " (11, 15211),\n",
       " (11, 16844),\n",
       " (11, 17813),\n",
       " (11, 17822),\n",
       " (11, 17920),\n",
       " (11, 18396),\n",
       " (11, 19670),\n",
       " (11, 21597),\n",
       " (11, 21758),\n",
       " (11, 22839),\n",
       " (11, 22894),\n",
       " (12, 6328),\n",
       " (12, 7629),\n",
       " (12, 17086),\n",
       " (13, 5645),\n",
       " (13, 22620),\n",
       " (13, 23165),\n",
       " (13, 25265),\n",
       " (14, 5705),\n",
       " (14, 7937),\n",
       " (14, 8847),\n",
       " (14, 11258),\n",
       " (14, 11509),\n",
       " (14, 13306),\n",
       " (14, 14392),\n",
       " (14, 15122),\n",
       " (14, 15178),\n",
       " (14, 15507),\n",
       " (14, 16356),\n",
       " (14, 25424),\n",
       " (15, 575),\n",
       " (15, 2213),\n",
       " (15, 2857),\n",
       " (15, 3186),\n",
       " (15, 5050),\n",
       " (15, 5486),\n",
       " (15, 6040),\n",
       " (15, 7572),\n",
       " (15, 7927),\n",
       " (15, 12860),\n",
       " (15, 13087),\n",
       " (15, 14348),\n",
       " (15, 17343),\n",
       " (15, 20189),\n",
       " (15, 20472),\n",
       " (15, 20779),\n",
       " (15, 21762),\n",
       " (15, 25370),\n",
       " (16, 176),\n",
       " (16, 1255),\n",
       " (17, 297),\n",
       " (17, 4413),\n",
       " (17, 5815),\n",
       " (17, 6325),\n",
       " (17, 7937),\n",
       " (17, 9905),\n",
       " (17, 10962),\n",
       " (17, 15352),\n",
       " (17, 19943),\n",
       " (17, 22015),\n",
       " (17, 23353),\n",
       " (17, 24870),\n",
       " (18, 1822),\n",
       " (19, 7800),\n",
       " (19, 20208),\n",
       " (20, 9333),\n",
       " (20, 14337),\n",
       " (20, 22123),\n",
       " (21, 3770),\n",
       " (21, 10928),\n",
       " (21, 12657),\n",
       " (21, 13958),\n",
       " (21, 15077),\n",
       " (21, 15158),\n",
       " (21, 19406),\n",
       " (21, 21880),\n",
       " (21, 22239),\n",
       " (21, 23839),\n",
       " (21, 24836),\n",
       " (22, 6932),\n",
       " (22, 11208),\n",
       " (22, 24728),\n",
       " (23, 368),\n",
       " (23, 3441),\n",
       " (23, 3763),\n",
       " (23, 3994),\n",
       " (23, 4709),\n",
       " (23, 5766),\n",
       " (23, 5982),\n",
       " (23, 6657),\n",
       " (23, 6874),\n",
       " (23, 8209),\n",
       " (23, 8536),\n",
       " (23, 8892),\n",
       " (23, 9309),\n",
       " (23, 9741),\n",
       " (23, 10108),\n",
       " (23, 10468),\n",
       " (23, 11161),\n",
       " (23, 11731),\n",
       " (23, 12372),\n",
       " (23, 14160),\n",
       " (23, 17068),\n",
       " (23, 17077),\n",
       " (23, 17436),\n",
       " (23, 18672),\n",
       " (23, 18852),\n",
       " (23, 19054),\n",
       " (23, 19987),\n",
       " (23, 20733),\n",
       " (23, 20890),\n",
       " (23, 22159),\n",
       " (23, 22263),\n",
       " (23, 23463),\n",
       " (23, 24654),\n",
       " (23, 24808),\n",
       " (23, 25574),\n",
       " (24, 13703),\n",
       " (25, 11243),\n",
       " (25, 12744),\n",
       " (25, 15313),\n",
       " (25, 24470),\n",
       " (26, 891),\n",
       " (26, 1177),\n",
       " (26, 1554),\n",
       " (26, 1559),\n",
       " (26, 7137),\n",
       " (26, 9718),\n",
       " (26, 9721),\n",
       " (26, 11469),\n",
       " (26, 13503),\n",
       " (26, 19480),\n",
       " (26, 20560),\n",
       " (26, 20671),\n",
       " (26, 21398),\n",
       " (26, 24870),\n",
       " (27, 11295),\n",
       " (28, 1798),\n",
       " (28, 5528),\n",
       " (28, 7782),\n",
       " (28, 8884),\n",
       " (28, 13159),\n",
       " (28, 13233),\n",
       " (28, 14333),\n",
       " (28, 15936),\n",
       " (28, 16729),\n",
       " (28, 17157),\n",
       " (28, 18392),\n",
       " (28, 18837),\n",
       " (28, 21178),\n",
       " (28, 21794),\n",
       " (28, 21961),\n",
       " (28, 22042),\n",
       " (28, 25113),\n",
       " (29, 41),\n",
       " (30, 3673),\n",
       " (31, 3960),\n",
       " (31, 8618),\n",
       " (31, 9236),\n",
       " (31, 10926),\n",
       " (31, 11243),\n",
       " (31, 12685),\n",
       " (31, 14348),\n",
       " (31, 15639),\n",
       " (31, 15677),\n",
       " (31, 16305),\n",
       " (31, 18708),\n",
       " (31, 23007),\n",
       " (31, 23317),\n",
       " (32, 1988),\n",
       " (32, 5869),\n",
       " (32, 7043),\n",
       " (32, 10868),\n",
       " (32, 11001),\n",
       " (32, 18489),\n",
       " (32, 22391),\n",
       " (32, 22976),\n",
       " (32, 23317),\n",
       " (33, 23081),\n",
       " (34, 11386),\n",
       " (35, 16305),\n",
       " (35, 20329),\n",
       " (35, 23978),\n",
       " (36, 7521),\n",
       " (36, 17108),\n",
       " (37, 76),\n",
       " (37, 250),\n",
       " (37, 16989),\n",
       " (38, 3),\n",
       " (38, 3270),\n",
       " (38, 3996),\n",
       " (38, 4739),\n",
       " (38, 7635),\n",
       " (38, 7651),\n",
       " (38, 8336),\n",
       " (38, 10061),\n",
       " (38, 11794),\n",
       " (38, 12848),\n",
       " (38, 14078),\n",
       " (38, 15169),\n",
       " (38, 15429),\n",
       " (38, 19818),\n",
       " (38, 21530),\n",
       " (38, 23132),\n",
       " (38, 24812),\n",
       " (39, 9093),\n",
       " (39, 14432),\n",
       " (40, 21653),\n",
       " (41, 1656),\n",
       " (41, 2441),\n",
       " (41, 6040),\n",
       " (41, 22620),\n",
       " (41, 23337),\n",
       " (42, 5905),\n",
       " (43, 18771),\n",
       " (44, 9307),\n",
       " (45, 1489),\n",
       " (45, 13507),\n",
       " (45, 25599),\n",
       " (46, 1248),\n",
       " (46, 6412),\n",
       " (46, 8046),\n",
       " (46, 13276),\n",
       " (47, 4851),\n",
       " (48, 7961),\n",
       " (49, 22725),\n",
       " (50, 250),\n",
       " (50, 384),\n",
       " (50, 596),\n",
       " (50, 872),\n",
       " (50, 897),\n",
       " (50, 1347),\n",
       " (50, 1417),\n",
       " (50, 1436),\n",
       " (50, 1748),\n",
       " (50, 2026),\n",
       " (50, 2353),\n",
       " (50, 2397),\n",
       " (50, 2467),\n",
       " (50, 3140),\n",
       " (50, 3142),\n",
       " (50, 3356),\n",
       " (50, 3473),\n",
       " (50, 3488),\n",
       " (50, 3853),\n",
       " (50, 4031),\n",
       " (50, 4206),\n",
       " (50, 4573),\n",
       " (50, 5110),\n",
       " (50, 5264),\n",
       " (50, 5275),\n",
       " (50, 6426),\n",
       " (50, 7169),\n",
       " (50, 7342),\n",
       " (50, 7403),\n",
       " (50, 8412),\n",
       " (50, 9573),\n",
       " (50, 9940),\n",
       " (50, 10016),\n",
       " (50, 10836),\n",
       " (50, 10967),\n",
       " (50, 11114),\n",
       " (50, 11564),\n",
       " (50, 11639),\n",
       " (50, 12123),\n",
       " (50, 12493),\n",
       " (50, 12695),\n",
       " (50, 12697),\n",
       " (50, 12782),\n",
       " (50, 12783),\n",
       " (50, 13673),\n",
       " (50, 14102),\n",
       " (50, 14227),\n",
       " (50, 14498),\n",
       " (50, 14557),\n",
       " (50, 14646),\n",
       " (50, 16165),\n",
       " (50, 16434),\n",
       " (50, 18411),\n",
       " (50, 18453),\n",
       " (50, 18511),\n",
       " (50, 18965),\n",
       " (50, 19076),\n",
       " (50, 19475),\n",
       " (50, 19853),\n",
       " (50, 19950),\n",
       " (50, 20053),\n",
       " (50, 20718),\n",
       " (50, 21303),\n",
       " (50, 21792),\n",
       " (50, 22261),\n",
       " (50, 22343),\n",
       " (50, 22365),\n",
       " (50, 22374),\n",
       " (50, 22496),\n",
       " (50, 22543),\n",
       " (50, 22832),\n",
       " (50, 23089),\n",
       " (50, 23990),\n",
       " (50, 24167),\n",
       " (50, 24373),\n",
       " (51, 313),\n",
       " (51, 1890),\n",
       " (51, 6155),\n",
       " (51, 9062),\n",
       " (51, 14609),\n",
       " (51, 15630),\n",
       " (51, 22620),\n",
       " (51, 23103),\n",
       " (52, 993),\n",
       " (52, 1274),\n",
       " (52, 3302),\n",
       " (52, 5664),\n",
       " (52, 7028),\n",
       " (52, 7487),\n",
       " (52, 7522),\n",
       " (52, 7864),\n",
       " (52, 8585),\n",
       " (52, 11027),\n",
       " (52, 11661),\n",
       " (52, 12206),\n",
       " (52, 15461),\n",
       " (52, 15617),\n",
       " (52, 16953),\n",
       " (52, 18929),\n",
       " (52, 20453),\n",
       " (52, 21616),\n",
       " (52, 22437),\n",
       " (52, 23831),\n",
       " (53, 3478),\n",
       " (54, 1113),\n",
       " (55, 13522),\n",
       " (55, 14371),\n",
       " (55, 17134),\n",
       " (56, 11122),\n",
       " (57, 1710),\n",
       " (57, 2969),\n",
       " (57, 4370),\n",
       " (57, 7240),\n",
       " (57, 8169),\n",
       " (57, 13243),\n",
       " (57, 19870),\n",
       " (57, 20668),\n",
       " (57, 21776),\n",
       " (57, 23999),\n",
       " (58, 24836),\n",
       " (59, 3803),\n",
       " (59, 6925),\n",
       " (60, 1545),\n",
       " (60, 16422),\n",
       " (60, 16769),\n",
       " (60, 17848),\n",
       " (60, 18121),\n",
       " (60, 20262),\n",
       " (60, 21023),\n",
       " (60, 22675),\n",
       " (60, 22859),\n",
       " (60, 24672),\n",
       " (61, 5692),\n",
       " (61, 14851),\n",
       " (61, 18073),\n",
       " (61, 24858),\n",
       " (62, 9009),\n",
       " (62, 15725),\n",
       " (63, 816),\n",
       " (63, 1321),\n",
       " (63, 1575),\n",
       " (63, 1700),\n",
       " (63, 2844),\n",
       " (63, 3713),\n",
       " (63, 4639),\n",
       " (63, 4723),\n",
       " (63, 4818),\n",
       " (63, 4994),\n",
       " (63, 6925),\n",
       " (63, 7390),\n",
       " (63, 7521),\n",
       " (63, 9751),\n",
       " (63, 11450),\n",
       " (63, 12032),\n",
       " (63, 12115),\n",
       " (63, 12303),\n",
       " (63, 12719),\n",
       " (63, 13356),\n",
       " (63, 15440),\n",
       " (63, 16239),\n",
       " (63, 16588),\n",
       " (63, 16996),\n",
       " (63, 17278),\n",
       " (63, 17945),\n",
       " (63, 19330),\n",
       " (63, 20415),\n",
       " (63, 23259),\n",
       " (63, 25124),\n",
       " (64, 2465),\n",
       " (64, 20061),\n",
       " (65, 25511),\n",
       " (66, 10663),\n",
       " (66, 13797),\n",
       " (66, 15800),\n",
       " (67, 337),\n",
       " (67, 2969),\n",
       " (67, 8565),\n",
       " (67, 19942),\n",
       " (67, 21532),\n",
       " (67, 22391),\n",
       " (67, 23310),\n",
       " (67, 24724),\n",
       " (67, 25048),\n",
       " (68, 1375),\n",
       " (68, 2902),\n",
       " (68, 4854),\n",
       " (68, 7754),\n",
       " (68, 11585),\n",
       " (68, 13432),\n",
       " (68, 14338),\n",
       " (68, 15557),\n",
       " (68, 16216),\n",
       " (68, 17249),\n",
       " (68, 18557),\n",
       " (68, 20836),\n",
       " (68, 23808),\n",
       " (68, 25116),\n",
       " (69, 463),\n",
       " (69, 6123),\n",
       " (69, 18693),\n",
       " (69, 23300),\n",
       " (70, 17948),\n",
       " (71, 22888),\n",
       " (72, 2395),\n",
       " (72, 2544),\n",
       " (72, 9004),\n",
       " (73, 2448),\n",
       " (73, 13020),\n",
       " (73, 22868),\n",
       " (74, 22620),\n",
       " (75, 12741),\n",
       " (75, 24470),\n",
       " (76, 13138),\n",
       " (76, 17536),\n",
       " (76, 22183),\n",
       " (77, 2265),\n",
       " (78, 20927),\n",
       " (79, 2919),\n",
       " (79, 9937),\n",
       " (80, 3803),\n",
       " (80, 7188),\n",
       " (80, 7428),\n",
       " (80, 8721),\n",
       " (80, 9236),\n",
       " (80, 10762),\n",
       " (80, 12389),\n",
       " (80, 13560),\n",
       " (80, 21330),\n",
       " (81, 11925),\n",
       " (81, 24736),\n",
       " (82, 1885),\n",
       " (82, 4920),\n",
       " (82, 5829),\n",
       " (82, 7521),\n",
       " (82, 8767),\n",
       " (82, 11295),\n",
       " (82, 13385),\n",
       " (82, 14446),\n",
       " (82, 15378),\n",
       " (82, 17108),\n",
       " (82, 19259),\n",
       " (82, 19518),\n",
       " (83, 14609),\n",
       " (84, 1954),\n",
       " (85, 1409),\n",
       " (85, 1842),\n",
       " (85, 4494),\n",
       " (85, 7456),\n",
       " (85, 14037),\n",
       " (85, 16084),\n",
       " (85, 18601),\n",
       " (86, 4730),\n",
       " (87, 5183),\n",
       " (87, 10928),\n",
       " (88, 5471),\n",
       " (89, 716),\n",
       " (89, 4388),\n",
       " (89, 6208),\n",
       " (89, 6638),\n",
       " (89, 13212),\n",
       " (89, 17086),\n",
       " (89, 19353),\n",
       " (89, 21007),\n",
       " (89, 23520),\n",
       " (89, 24375),\n",
       " (89, 25085),\n",
       " (90, 9562),\n",
       " (91, 2771),\n",
       " (91, 9809),\n",
       " (92, 1700),\n",
       " (92, 4824),\n",
       " (92, 5584),\n",
       " (92, 6608),\n",
       " (92, 12032),\n",
       " (92, 16449),\n",
       " (92, 19677),\n",
       " (93, 2265),\n",
       " (93, 5023),\n",
       " (93, 5059),\n",
       " (93, 10928),\n",
       " (93, 12380),\n",
       " (93, 14087),\n",
       " (93, 14614),\n",
       " (93, 19518),\n",
       " (93, 21337),\n",
       " (93, 24787),\n",
       " (93, 25204),\n",
       " (94, 938),\n",
       " (94, 1933),\n",
       " (94, 8420),\n",
       " (94, 8424),\n",
       " (94, 13390),\n",
       " (94, 19354),\n",
       " (95, 806),\n",
       " (95, 2299),\n",
       " (95, 2774),\n",
       " (95, 3061),\n",
       " (95, 4085),\n",
       " (95, 6701),\n",
       " (95, 8323),\n",
       " (95, 11051),\n",
       " (95, 11479),\n",
       " (95, 12653),\n",
       " (95, 13872),\n",
       " (95, 14717),\n",
       " (95, 14786),\n",
       " (95, 14859),\n",
       " (95, 14915),\n",
       " (95, 15069),\n",
       " (95, 15844),\n",
       " (95, 16646),\n",
       " (95, 17515),\n",
       " (95, 18590),\n",
       " (95, 20071),\n",
       " (95, 20964),\n",
       " (95, 22045),\n",
       " (96, 3131),\n",
       " (96, 4004),\n",
       " (96, 8722),\n",
       " (96, 12678),\n",
       " (96, 15893),\n",
       " (96, 23960),\n",
       " (97, 6900),\n",
       " (97, 16283),\n",
       " (97, 18708),\n",
       " (98, 1658),\n",
       " (98, 1766),\n",
       " (98, 3388),\n",
       " (98, 3793),\n",
       " (98, 3932),\n",
       " (98, 8668),\n",
       " (98, 9714),\n",
       " (98, 13225),\n",
       " (98, 18726),\n",
       " (98, 19583),\n",
       " (98, 19702),\n",
       " (98, 21336),\n",
       " (98, 21410),\n",
       " (99, 16345),\n",
       " (99, 22329),\n",
       " (100, 5829),\n",
       " (100, 6894),\n",
       " (100, 14446),\n",
       " (100, 24145),\n",
       " (100, 24416),\n",
       " (101, 3017),\n",
       " (101, 10683),\n",
       " (101, 12828),\n",
       " (101, 17931),\n",
       " (101, 20171),\n",
       " (101, 22391),\n",
       " (102, 6040),\n",
       " (102, 23165),\n",
       " (103, 15054),\n",
       " (104, 7565),\n",
       " (105, 363),\n",
       " (105, 2465),\n",
       " (105, 2570),\n",
       " (105, 2685),\n",
       " (105, 4071),\n",
       " (105, 4100),\n",
       " (105, 4114),\n",
       " (105, 4332),\n",
       " (105, 9297),\n",
       " (105, 10286),\n",
       " (105, 10866),\n",
       " (105, 10917),\n",
       " (105, 11161),\n",
       " (105, 12356),\n",
       " (105, 12979),\n",
       " (105, 13020),\n",
       " (105, 13484),\n",
       " (105, 15898),\n",
       " (105, 16006),\n",
       " (105, 16255),\n",
       " (105, 16698),\n",
       " (105, 17068),\n",
       " (105, 18054),\n",
       " (105, 18104),\n",
       " (105, 18300),\n",
       " (105, 19356),\n",
       " (105, 19787),\n",
       " (105, 20061),\n",
       " (105, 20429),\n",
       " (105, 21268),\n",
       " (105, 22943),\n",
       " (105, 24034),\n",
       " (105, 24741),\n",
       " (105, 24800),\n",
       " (105, 24804),\n",
       " (105, 25014),\n",
       " (105, 25265),\n",
       " (106, 8721),\n",
       " (106, 11930),\n",
       " (106, 12127),\n",
       " (106, 20908),\n",
       " (107, 2564),\n",
       " (107, 3144),\n",
       " (107, 9166),\n",
       " (107, 17775),\n",
       " (108, 21714),\n",
       " (109, 2969),\n",
       " (110, 5480),\n",
       " (110, 16424),\n",
       " (111, 15688),\n",
       " (111, 22314),\n",
       " (112, 5829),\n",
       " (112, 6093),\n",
       " (112, 20739),\n",
       " (113, 814),\n",
       " (113, 1541),\n",
       " (113, 1545),\n",
       " (113, 2265),\n",
       " (113, 2487),\n",
       " (113, 2557),\n",
       " (113, 2868),\n",
       " (113, 3233),\n",
       " (113, 3241),\n",
       " (113, 4029),\n",
       " (113, 4092),\n",
       " (113, 4602),\n",
       " (113, 4681),\n",
       " (113, 5434),\n",
       " (113, 5497),\n",
       " (113, 5656),\n",
       " (113, 6056),\n",
       " (113, 7261),\n",
       " (113, 7425),\n",
       " (113, 8031),\n",
       " (113, 8694),\n",
       " (113, 8934),\n",
       " (113, 9004),\n",
       " (113, 9081),\n",
       " (113, 9177),\n",
       " (113, 9318),\n",
       " (113, 9409),\n",
       " (113, 9625),\n",
       " (113, 9672),\n",
       " (113, 9682),\n",
       " (113, 9791),\n",
       " (113, 9923),\n",
       " (113, 10398),\n",
       " (113, 10750),\n",
       " (113, 11529),\n",
       " (113, 11930),\n",
       " (113, 12167),\n",
       " (113, 12274),\n",
       " (113, 12477),\n",
       " (113, 12629),\n",
       " (113, 12879),\n",
       " (113, 13254),\n",
       " (113, 13930),\n",
       " (113, 13936),\n",
       " (113, 14019),\n",
       " (113, 14244),\n",
       " (113, 14339),\n",
       " (113, 14695),\n",
       " (113, 15406),\n",
       " (113, 15432),\n",
       " (113, 15452),\n",
       " (113, 15561),\n",
       " (113, 15951),\n",
       " (113, 16799),\n",
       " (113, 17271),\n",
       " (113, 17393),\n",
       " (113, 18622),\n",
       " (113, 18930),\n",
       " (113, 19030),\n",
       " (113, 19120),\n",
       " (113, 19394),\n",
       " (113, 19806),\n",
       " (113, 19840),\n",
       " (113, 20411),\n",
       " (113, 20620),\n",
       " (113, 20658),\n",
       " (113, 20678),\n",
       " (113, 20779),\n",
       " (113, 20874),\n",
       " (113, 21364),\n",
       " (113, 21581),\n",
       " (113, 21755),\n",
       " (113, 21834),\n",
       " (113, 22012),\n",
       " (113, 22053),\n",
       " (113, 22145),\n",
       " (113, 22406),\n",
       " (113, 22476),\n",
       " (113, 22620),\n",
       " (113, 22870),\n",
       " (113, 23335),\n",
       " (113, 23382),\n",
       " (113, 23580),\n",
       " (113, 23715),\n",
       " (113, 24315),\n",
       " (113, 25208),\n",
       " (113, 25319),\n",
       " (113, 25332),\n",
       " (113, 25401),\n",
       " (113, 25599),\n",
       " (114, 59),\n",
       " (114, 133),\n",
       " (114, 1489),\n",
       " (114, 4169),\n",
       " (114, 7629),\n",
       " (114, 7897),\n",
       " (114, 11243),\n",
       " (114, 11473),\n",
       " (114, 13486),\n",
       " (114, 14878),\n",
       " (114, 16036),\n",
       " (114, 25599),\n",
       " (115, 2228),\n",
       " (115, 8532),\n",
       " (116, 13363),\n",
       " (116, 24896),\n",
       " (117, 6794),\n",
       " (117, 7663),\n",
       " (117, 8031),\n",
       " (117, 8061),\n",
       " (117, 12035),\n",
       " (117, 15041),\n",
       " (117, 17068),\n",
       " (117, 17343),\n",
       " (117, 17783),\n",
       " (117, 18253),\n",
       " (117, 18454),\n",
       " (117, 18698),\n",
       " (117, 23606),\n",
       " (117, 24395),\n",
       " (118, 5801),\n",
       " (119, 9236),\n",
       " (119, 14087),\n",
       " (120, 15812),\n",
       " (120, 22620),\n",
       " (121, 14840),\n",
       " (122, 7792),\n",
       " (123, 1489),\n",
       " (123, 6915),\n",
       " (123, 15452),\n",
       " (124, 18455),\n",
       " (125, 466),\n",
       " (125, 2786),\n",
       " (125, 3123),\n",
       " (125, 3960),\n",
       " (125, 7069),\n",
       " (125, 7521),\n",
       " (125, 9307),\n",
       " (125, 10684),\n",
       " (125, 13046),\n",
       " (125, 14564),\n",
       " (125, 23875),\n",
       " (125, 24044),\n",
       " (125, 25599),\n",
       " (126, 24728),\n",
       " (127, 15452),\n",
       " ...]"
      ]
     },
     "execution_count": 203,
     "metadata": {},
     "output_type": "execute_result"
    }
   ],
   "source": [
    "sorted(R)"
   ]
  },
  {
   "cell_type": "markdown",
   "metadata": {
    "nbpresent": {
     "id": "29dbc245-88e9-405b-bad8-b4541ea24b1b"
    },
    "run_control": {
     "frozen": false,
     "read_only": false
    }
   },
   "source": [
    "# Check if cities and distances between them may be used instead of distances between businesses\n",
    "\n",
    "##  No: cities are small, with distances that can be 3 miles"
   ]
  },
  {
   "cell_type": "markdown",
   "metadata": {
    "ExecuteTime": {
     "end_time": "2017-01-16T13:20:24.945581",
     "start_time": "2017-01-16T13:20:24.942048"
    },
    "nbpresent": {
     "id": "36eda043-28a6-4548-a4df-82f9dbd30046"
    },
    "run_control": {
     "frozen": false,
     "read_only": false
    }
   },
   "source": [
    "# assume 30 km as maximum distance willing to travel, to find vicinity within state"
   ]
  },
  {
   "cell_type": "code",
   "execution_count": 40,
   "metadata": {
    "ExecuteTime": {
     "end_time": "2017-01-17T00:50:52.347466",
     "start_time": "2017-01-17T00:50:52.339462"
    },
    "collapsed": false,
    "nbpresent": {
     "id": "ca3351cf-6305-40fb-bf75-c5e405f225ed"
    },
    "run_control": {
     "frozen": false,
     "read_only": false
    }
   },
   "outputs": [
    {
     "data": {
      "text/plain": [
       "(32.865882499999998, 56.033777299999997)"
      ]
     },
     "execution_count": 40,
     "metadata": {},
     "output_type": "execute_result"
    }
   ],
   "source": [
    "business.latitude.min(), business.latitude.max()"
   ]
  },
  {
   "cell_type": "code",
   "execution_count": 59,
   "metadata": {
    "ExecuteTime": {
     "end_time": "2017-01-17T01:05:23.185866",
     "start_time": "2017-01-17T01:05:23.177360"
    },
    "collapsed": false,
    "nbpresent": {
     "id": "dbe2518c-29ad-4d60-8b10-884c742fae2b"
    },
    "run_control": {
     "frozen": false,
     "read_only": false
    }
   },
   "outputs": [
    {
     "data": {
      "text/plain": [
       "(-115.38655, 8.5492494004572208)"
      ]
     },
     "execution_count": 59,
     "metadata": {},
     "output_type": "execute_result"
    }
   ],
   "source": [
    "business.longitude.min(), business.longitude.max()"
   ]
  },
  {
   "cell_type": "code",
   "execution_count": 41,
   "metadata": {
    "ExecuteTime": {
     "end_time": "2017-01-17T00:51:29.879005",
     "start_time": "2017-01-17T00:51:29.873509"
    },
    "collapsed": false,
    "nbpresent": {
     "id": "803fc052-f3c8-47ab-9f82-628da85ffb68"
    },
    "run_control": {
     "frozen": false,
     "read_only": false
    }
   },
   "outputs": [
    {
     "data": {
      "text/plain": [
       "60.77164272792849"
      ]
     },
     "execution_count": 41,
     "metadata": {},
     "output_type": "execute_result"
    }
   ],
   "source": [
    "vincenty((57, -71), (57, -72)).km"
   ]
  },
  {
   "cell_type": "code",
   "execution_count": 42,
   "metadata": {
    "ExecuteTime": {
     "end_time": "2017-01-17T00:51:42.759674",
     "start_time": "2017-01-17T00:51:42.753631"
    },
    "collapsed": false,
    "nbpresent": {
     "id": "b2e09784-ceb3-4c10-acef-8943ab611714"
    },
    "run_control": {
     "frozen": false,
     "read_only": false
    }
   },
   "outputs": [
    {
     "data": {
      "text/plain": [
       "94.49280502196765"
      ]
     },
     "execution_count": 42,
     "metadata": {},
     "output_type": "execute_result"
    }
   ],
   "source": [
    "vincenty((32, -71), (32, -72)).km"
   ]
  },
  {
   "cell_type": "code",
   "execution_count": 58,
   "metadata": {
    "ExecuteTime": {
     "end_time": "2017-01-17T01:03:16.089764",
     "start_time": "2017-01-17T01:03:16.083760"
    },
    "collapsed": false,
    "nbpresent": {
     "id": "fcd7c44e-9ad6-4631-8ae9-6e16f2d3ad8e"
    },
    "run_control": {
     "frozen": false,
     "read_only": false
    }
   },
   "outputs": [
    {
     "data": {
      "text/plain": [
       "78.8463347093115"
      ]
     },
     "execution_count": 58,
     "metadata": {},
     "output_type": "execute_result"
    }
   ],
   "source": [
    "vincenty((45, -71), (45, -72)).km"
   ]
  },
  {
   "cell_type": "markdown",
   "metadata": {
    "ExecuteTime": {
     "end_time": "2017-01-17T00:54:19.991268",
     "start_time": "2017-01-17T00:54:19.986255"
    },
    "nbpresent": {
     "id": "65c26e77-57da-4694-9280-3de203b7bea7"
    },
    "run_control": {
     "frozen": false,
     "read_only": false
    }
   },
   "source": [
    "for out dataset, businesses lie within latitudes 32 and 56 North\n",
    "\n",
    "where 1 degree in longitude ranges between 60 to 95 km\n",
    "\n",
    "so nearby business ( < 30) should also be within 0.5 degree of longitude (near 32N distances will be < 47km)\n",
    "\n",
    "for latitudes, one degree difference is about 110 km, so will adopt 0.3 difference to consider nearby businesses"
   ]
  },
  {
   "cell_type": "code",
   "execution_count": 53,
   "metadata": {
    "ExecuteTime": {
     "end_time": "2017-01-17T00:56:36.191396",
     "start_time": "2017-01-17T00:56:36.185887"
    },
    "collapsed": false,
    "nbpresent": {
     "id": "0ea1d239-0b7a-4225-9b54-5a011434d340"
    },
    "run_control": {
     "frozen": false,
     "read_only": false
    }
   },
   "outputs": [
    {
     "data": {
      "text/plain": [
       "111.12200826241184"
      ]
     },
     "execution_count": 53,
     "metadata": {},
     "output_type": "execute_result"
    }
   ],
   "source": [
    "vincenty((44, -71), (45, -71)).km"
   ]
  },
  {
   "cell_type": "code",
   "execution_count": 54,
   "metadata": {
    "ExecuteTime": {
     "end_time": "2017-01-17T00:57:19.192488",
     "start_time": "2017-01-17T00:57:19.186448"
    },
    "collapsed": false,
    "nbpresent": {
     "id": "a496656b-ee5d-45cc-9618-79b0dbd4838b"
    },
    "run_control": {
     "frozen": false,
     "read_only": false
    }
   },
   "outputs": [
    {
     "data": {
      "text/plain": [
       "111.12200826241184"
      ]
     },
     "execution_count": 54,
     "metadata": {},
     "output_type": "execute_result"
    }
   ],
   "source": [
    "vincenty((44, -70), (45, -70)).km"
   ]
  },
  {
   "cell_type": "code",
   "execution_count": 55,
   "metadata": {
    "ExecuteTime": {
     "end_time": "2017-01-17T00:57:19.192488",
     "start_time": "2017-01-17T00:57:19.186448"
    },
    "collapsed": false,
    "nbpresent": {
     "id": "fc96fc91-6588-4ba5-9b98-0a198791e3a5"
    },
    "run_control": {
     "frozen": false,
     "read_only": false
    }
   },
   "outputs": [
    {
     "data": {
      "text/plain": [
       "111.33269933263972"
      ]
     },
     "execution_count": 55,
     "metadata": {},
     "output_type": "execute_result"
    }
   ],
   "source": [
    "vincenty((55, -71), (56, -71)).km"
   ]
  },
  {
   "cell_type": "code",
   "execution_count": 56,
   "metadata": {
    "ExecuteTime": {
     "end_time": "2017-01-17T00:57:19.192488",
     "start_time": "2017-01-17T00:57:19.186448"
    },
    "collapsed": false,
    "nbpresent": {
     "id": "72d43d75-be30-4576-a6a0-aa089e283b29"
    },
    "run_control": {
     "frozen": false,
     "read_only": false
    }
   },
   "outputs": [
    {
     "data": {
      "text/plain": [
       "110.89560891986069"
      ]
     },
     "execution_count": 56,
     "metadata": {},
     "output_type": "execute_result"
    }
   ],
   "source": [
    "vincenty((32, -71), (33, -71)).km"
   ]
  },
  {
   "cell_type": "code",
   "execution_count": 65,
   "metadata": {
    "ExecuteTime": {
     "end_time": "2017-01-17T01:10:38.487376",
     "start_time": "2017-01-17T01:10:38.466330"
    },
    "collapsed": false,
    "nbpresent": {
     "id": "bc582ca3-9c96-413c-ba84-2f31a1f001fd"
    },
    "run_control": {
     "frozen": false,
     "read_only": false
    }
   },
   "outputs": [
    {
     "data": {
      "text/html": [
       "<div>\n",
       "<table border=\"1\" class=\"dataframe\">\n",
       "  <thead>\n",
       "    <tr style=\"text-align: right;\">\n",
       "      <th></th>\n",
       "      <th>attributes</th>\n",
       "      <th>business_id</th>\n",
       "      <th>categories</th>\n",
       "      <th>city</th>\n",
       "      <th>full_address</th>\n",
       "      <th>hours</th>\n",
       "      <th>latitude</th>\n",
       "      <th>longitude</th>\n",
       "      <th>name</th>\n",
       "      <th>neighborhoods</th>\n",
       "      <th>open</th>\n",
       "      <th>review_count</th>\n",
       "      <th>stars</th>\n",
       "      <th>state</th>\n",
       "      <th>type</th>\n",
       "    </tr>\n",
       "  </thead>\n",
       "  <tbody>\n",
       "    <tr>\n",
       "      <th>47693</th>\n",
       "      <td>{}</td>\n",
       "      <td>4Yh57FsAyvDtZsq5F7fCWg</td>\n",
       "      <td>[Hotels &amp; Travel, Public Transportation, Trans...</td>\n",
       "      <td>Inverkeithing</td>\n",
       "      <td>Boreland Rd\\nInverkeithing KY11 1NJ</td>\n",
       "      <td>{}</td>\n",
       "      <td>56.033777</td>\n",
       "      <td>-3.393267</td>\n",
       "      <td>Inverkeithing Railway Station</td>\n",
       "      <td>[]</td>\n",
       "      <td>True</td>\n",
       "      <td>3</td>\n",
       "      <td>3.0</td>\n",
       "      <td>FIF</td>\n",
       "      <td>business</td>\n",
       "    </tr>\n",
       "  </tbody>\n",
       "</table>\n",
       "</div>"
      ],
      "text/plain": [
       "      attributes             business_id  \\\n",
       "47693         {}  4Yh57FsAyvDtZsq5F7fCWg   \n",
       "\n",
       "                                              categories           city  \\\n",
       "47693  [Hotels & Travel, Public Transportation, Trans...  Inverkeithing   \n",
       "\n",
       "                              full_address hours   latitude  longitude  \\\n",
       "47693  Boreland Rd\\nInverkeithing KY11 1NJ    {}  56.033777  -3.393267   \n",
       "\n",
       "                                name neighborhoods  open  review_count  stars  \\\n",
       "47693  Inverkeithing Railway Station            []  True             3    3.0   \n",
       "\n",
       "      state      type  \n",
       "47693   FIF  business  "
      ]
     },
     "execution_count": 65,
     "metadata": {},
     "output_type": "execute_result"
    }
   ],
   "source": [
    "business[business.latitude > 56.033]"
   ]
  },
  {
   "cell_type": "code",
   "execution_count": 101,
   "metadata": {
    "ExecuteTime": {
     "end_time": "2017-01-17T17:31:48.558739",
     "start_time": "2017-01-17T17:31:48.398313"
    },
    "collapsed": false,
    "nbpresent": {
     "id": "bc4391c0-3c7f-4ab2-bdde-ace9d6097922"
    },
    "run_control": {
     "frozen": false,
     "read_only": false
    },
    "scrolled": true
   },
   "outputs": [
    {
     "data": {
      "text/plain": [
       "array(['PA', 'NC', 'SC', 'WI', 'IL', 'AZ', 'NV', 'QC', 'ON', 'EDH', 'MLN',\n",
       "       'BW'], dtype=object)"
      ]
     },
     "execution_count": 101,
     "metadata": {},
     "output_type": "execute_result"
    }
   ],
   "source": [
    "business.groupby(['state']).filter(lambda r: len(r) > 20).state.unique()"
   ]
  },
  {
   "cell_type": "code",
   "execution_count": 102,
   "metadata": {
    "ExecuteTime": {
     "end_time": "2017-01-17T17:31:59.164234",
     "start_time": "2017-01-17T17:31:59.045919"
    },
    "collapsed": false,
    "nbpresent": {
     "id": "73ccc3ef-d640-4367-80a2-c91132e4ebac"
    },
    "run_control": {
     "frozen": false,
     "read_only": false
    }
   },
   "outputs": [],
   "source": [
    "# ignore states with less than 20 businesses... we have 12 states with more than 20 businesses\n",
    "business_state = business.groupby(['state']).filter(lambda r: len(r) >= 20)"
   ]
  },
  {
   "cell_type": "code",
   "execution_count": 103,
   "metadata": {
    "ExecuteTime": {
     "end_time": "2017-01-17T17:32:02.432096",
     "start_time": "2017-01-17T17:32:02.406002"
    },
    "collapsed": false,
    "nbpresent": {
     "id": "da1e4244-773d-40d9-aa88-6d7e02602e29"
    },
    "run_control": {
     "frozen": false,
     "read_only": false
    }
   },
   "outputs": [
    {
     "data": {
      "text/plain": [
       "state\n",
       "AZ     36500\n",
       "BW      1055\n",
       "EDH     3297\n",
       "IL       808\n",
       "MLN      161\n",
       "NC      6835\n",
       "NV     23591\n",
       "ON       530\n",
       "PA      4086\n",
       "QC      5591\n",
       "SC       325\n",
       "WI      3066\n",
       "dtype: int64"
      ]
     },
     "execution_count": 103,
     "metadata": {},
     "output_type": "execute_result"
    }
   ],
   "source": [
    "business_state.groupby('state').size()"
   ]
  },
  {
   "cell_type": "code",
   "execution_count": 106,
   "metadata": {
    "ExecuteTime": {
     "end_time": "2017-01-17T17:33:03.006468",
     "start_time": "2017-01-17T17:33:03.000475"
    },
    "collapsed": false,
    "run_control": {
     "frozen": false,
     "read_only": false
    }
   },
   "outputs": [
    {
     "data": {
      "text/plain": [
       "(85845, 15)"
      ]
     },
     "execution_count": 106,
     "metadata": {},
     "output_type": "execute_result"
    }
   ],
   "source": [
    "business_state.shape"
   ]
  },
  {
   "cell_type": "code",
   "execution_count": 111,
   "metadata": {
    "ExecuteTime": {
     "end_time": "2017-01-17T17:34:34.911083",
     "start_time": "2017-01-17T17:34:34.832373"
    },
    "collapsed": false,
    "run_control": {
     "frozen": false,
     "read_only": false
    }
   },
   "outputs": [
    {
     "data": {
      "text/plain": [
       "attributes       25673\n",
       "business_id      25673\n",
       "categories       25673\n",
       "city             25673\n",
       "full_address     25673\n",
       "hours            25673\n",
       "latitude         25673\n",
       "longitude        25673\n",
       "name             25673\n",
       "neighborhoods    25673\n",
       "open             25673\n",
       "review_count     25673\n",
       "stars            25673\n",
       "state            25673\n",
       "type             25673\n",
       "dtype: int64"
      ]
     },
     "execution_count": 111,
     "metadata": {},
     "output_type": "execute_result"
    }
   ],
   "source": [
    "business_state[business_state.review_count > 20].count()"
   ]
  },
  {
   "cell_type": "code",
   "execution_count": 127,
   "metadata": {
    "ExecuteTime": {
     "end_time": "2017-01-17T03:04:23.806427",
     "start_time": "2017-01-17T03:04:21.878769"
    },
    "collapsed": false,
    "nbpresent": {
     "id": "0da6b673-7e0a-4df5-8001-ed1a67ed8368"
    },
    "run_control": {
     "frozen": false,
     "read_only": false
    },
    "scrolled": false
   },
   "outputs": [
    {
     "name": "stderr",
     "output_type": "stream",
     "text": [
      "C:\\Users\\ali_a\\Anaconda3\\lib\\site-packages\\ipykernel\\__main__.py:1: UserWarning: Boolean Series key will be reindexed to match DataFrame index.\n",
      "  if __name__ == '__main__':\n"
     ]
    },
    {
     "data": {
      "text/plain": [
       "247028"
      ]
     },
     "execution_count": 127,
     "metadata": {},
     "output_type": "execute_result"
    }
   ],
   "source": [
    "len(business_state[business.state == 'AZ'].merge(review, how='inner', left_on='business_id', right_on='business_id').user_id.unique())"
   ]
  },
  {
   "cell_type": "code",
   "execution_count": 168,
   "metadata": {
    "ExecuteTime": {
     "end_time": "2017-01-17T03:34:13.502544",
     "start_time": "2017-01-17T03:34:13.496489"
    },
    "collapsed": false,
    "nbpresent": {
     "id": "2e506b90-7384-4b90-81b4-8c38e650616a"
    },
    "run_control": {
     "frozen": false,
     "read_only": false
    }
   },
   "outputs": [
    {
     "data": {
      "text/plain": [
       "{'breakfast': False,\n",
       " 'brunch': False,\n",
       " 'dessert': False,\n",
       " 'dinner': False,\n",
       " 'latenight': False,\n",
       " 'lunch': True}"
      ]
     },
     "execution_count": 168,
     "metadata": {},
     "output_type": "execute_result"
    }
   ],
   "source": [
    "# To classify a business as Food:\n",
    "business.attributes.iloc[3]['Good For']"
   ]
  },
  {
   "cell_type": "code",
   "execution_count": 166,
   "metadata": {
    "ExecuteTime": {
     "end_time": "2017-01-17T03:33:54.216863",
     "start_time": "2017-01-17T03:33:54.209836"
    },
    "collapsed": false,
    "nbpresent": {
     "id": "076acc56-ab0b-410b-bcce-b43057e934bd"
    },
    "run_control": {
     "frozen": false,
     "read_only": false
    },
    "scrolled": false
   },
   "outputs": [
    {
     "data": {
      "text/plain": [
       "1"
      ]
     },
     "execution_count": 166,
     "metadata": {},
     "output_type": "execute_result"
    }
   ],
   "source": [
    "sum(business.attributes.iloc[3]['Good For'].values())"
   ]
  },
  {
   "cell_type": "code",
   "execution_count": 76,
   "metadata": {
    "ExecuteTime": {
     "end_time": "2017-01-17T01:13:24.912591",
     "start_time": "2017-01-17T01:13:24.904569"
    },
    "collapsed": false,
    "nbpresent": {
     "id": "3753c04e-32e1-4593-bccb-9f40afaf4989"
    },
    "run_control": {
     "frozen": false,
     "read_only": false
    }
   },
   "outputs": [
    {
     "data": {
      "text/plain": [
       "8.5492494004572208"
      ]
     },
     "execution_count": 76,
     "metadata": {},
     "output_type": "execute_result"
    }
   ],
   "source": [
    "business_state.longitude.max()"
   ]
  },
  {
   "cell_type": "code",
   "execution_count": 70,
   "metadata": {
    "ExecuteTime": {
     "end_time": "2017-01-17T01:12:14.134047",
     "start_time": "2017-01-17T01:12:14.130537"
    },
    "collapsed": false,
    "nbpresent": {
     "id": "981ae89e-0655-434f-a874-996256085418"
    },
    "run_control": {
     "frozen": false,
     "read_only": false
    }
   },
   "outputs": [],
   "source": [
    "business_groups = business_state.groupby('state')"
   ]
  },
  {
   "cell_type": "code",
   "execution_count": 71,
   "metadata": {
    "ExecuteTime": {
     "end_time": "2017-01-17T01:12:18.840890",
     "start_time": "2017-01-17T01:12:18.817327"
    },
    "collapsed": false,
    "nbpresent": {
     "id": "479f09b2-166f-4936-bba7-7dcd20f62790"
    },
    "run_control": {
     "frozen": false,
     "read_only": false
    }
   },
   "outputs": [],
   "source": [
    "group = business_groups.get_group('EDH')"
   ]
  },
  {
   "cell_type": "code",
   "execution_count": 72,
   "metadata": {
    "ExecuteTime": {
     "end_time": "2017-01-17T01:12:38.151193",
     "start_time": "2017-01-17T01:12:38.146175"
    },
    "collapsed": false,
    "nbpresent": {
     "id": "bd6d139f-1f6c-4581-a907-a9bf4bd3bbf7"
    },
    "run_control": {
     "frozen": false,
     "read_only": false
    },
    "scrolled": true
   },
   "outputs": [
    {
     "data": {
      "text/plain": [
       "56.000421000000003"
      ]
     },
     "execution_count": 72,
     "metadata": {},
     "output_type": "execute_result"
    }
   ],
   "source": [
    "group.latitude.max()"
   ]
  },
  {
   "cell_type": "code",
   "execution_count": 766,
   "metadata": {
    "ExecuteTime": {
     "end_time": "2017-01-16T22:41:07.278187",
     "start_time": "2017-01-16T18:36:06.543485"
    },
    "collapsed": false,
    "nbpresent": {
     "id": "85b02429-f118-42f6-9277-50ed4500a0b6"
    },
    "run_control": {
     "frozen": false,
     "read_only": false
    },
    "scrolled": true
   },
   "outputs": [
    {
     "ename": "KeyboardInterrupt",
     "evalue": "",
     "output_type": "error",
     "traceback": [
      "\u001b[0;31m---------------------------------------------------------------------------\u001b[0m",
      "\u001b[0;31mKeyboardInterrupt\u001b[0m                         Traceback (most recent call last)",
      "\u001b[0;32m<ipython-input-766-f8a55ad2fa48>\u001b[0m in \u001b[0;36m<module>\u001b[0;34m()\u001b[0m\n\u001b[1;32m     11\u001b[0m         \u001b[1;32mfor\u001b[0m \u001b[0mj\u001b[0m \u001b[1;32min\u001b[0m \u001b[0mrange\u001b[0m\u001b[1;33m(\u001b[0m\u001b[1;36m0\u001b[0m\u001b[1;33m,\u001b[0m \u001b[0mlen\u001b[0m\u001b[1;33m(\u001b[0m\u001b[0mnear_group\u001b[0m\u001b[1;33m)\u001b[0m\u001b[1;33m)\u001b[0m\u001b[1;33m:\u001b[0m\u001b[1;33m\u001b[0m\u001b[0m\n\u001b[1;32m     12\u001b[0m \u001b[1;33m\u001b[0m\u001b[0m\n\u001b[0;32m---> 13\u001b[0;31m             \u001b[0mdistance\u001b[0m \u001b[1;33m=\u001b[0m \u001b[0mvincenty\u001b[0m\u001b[1;33m(\u001b[0m\u001b[0mtuple\u001b[0m\u001b[1;33m(\u001b[0m\u001b[0mgroup\u001b[0m\u001b[1;33m.\u001b[0m\u001b[0miloc\u001b[0m\u001b[1;33m[\u001b[0m\u001b[0mi\u001b[0m\u001b[1;33m]\u001b[0m\u001b[1;33m[\u001b[0m\u001b[1;33m[\u001b[0m\u001b[1;34m'latitude'\u001b[0m\u001b[1;33m,\u001b[0m\u001b[1;34m'longitude'\u001b[0m\u001b[1;33m]\u001b[0m\u001b[1;33m]\u001b[0m\u001b[1;33m)\u001b[0m\u001b[1;33m,\u001b[0m \u001b[0mtuple\u001b[0m\u001b[1;33m(\u001b[0m\u001b[0mnear_group\u001b[0m\u001b[1;33m.\u001b[0m\u001b[0miloc\u001b[0m\u001b[1;33m[\u001b[0m\u001b[0mj\u001b[0m\u001b[1;33m]\u001b[0m\u001b[1;33m[\u001b[0m\u001b[1;33m[\u001b[0m\u001b[1;34m'latitude'\u001b[0m\u001b[1;33m,\u001b[0m\u001b[1;34m'longitude'\u001b[0m\u001b[1;33m]\u001b[0m\u001b[1;33m]\u001b[0m\u001b[1;33m)\u001b[0m\u001b[1;33m)\u001b[0m\u001b[1;33m.\u001b[0m\u001b[0mkm\u001b[0m\u001b[1;33m\u001b[0m\u001b[0m\n\u001b[0m\u001b[1;32m     14\u001b[0m             \u001b[1;32mif\u001b[0m \u001b[0mdistance\u001b[0m \u001b[1;33m<\u001b[0m \u001b[1;36m30\u001b[0m\u001b[1;33m:\u001b[0m\u001b[1;33m\u001b[0m\u001b[0m\n\u001b[1;32m     15\u001b[0m                 \u001b[0mc\u001b[0m \u001b[1;33m+=\u001b[0m \u001b[1;36m1\u001b[0m\u001b[1;33m\u001b[0m\u001b[0m\n",
      "\u001b[0;32mC:\\Users\\ali_a\\Anaconda3\\lib\\site-packages\\pandas\\core\\indexing.py\u001b[0m in \u001b[0;36m__getitem__\u001b[0;34m(self, key)\u001b[0m\n\u001b[1;32m   1310\u001b[0m             \u001b[1;32mreturn\u001b[0m \u001b[0mself\u001b[0m\u001b[1;33m.\u001b[0m\u001b[0m_getitem_tuple\u001b[0m\u001b[1;33m(\u001b[0m\u001b[0mkey\u001b[0m\u001b[1;33m)\u001b[0m\u001b[1;33m\u001b[0m\u001b[0m\n\u001b[1;32m   1311\u001b[0m         \u001b[1;32melse\u001b[0m\u001b[1;33m:\u001b[0m\u001b[1;33m\u001b[0m\u001b[0m\n\u001b[0;32m-> 1312\u001b[0;31m             \u001b[1;32mreturn\u001b[0m \u001b[0mself\u001b[0m\u001b[1;33m.\u001b[0m\u001b[0m_getitem_axis\u001b[0m\u001b[1;33m(\u001b[0m\u001b[0mkey\u001b[0m\u001b[1;33m,\u001b[0m \u001b[0maxis\u001b[0m\u001b[1;33m=\u001b[0m\u001b[1;36m0\u001b[0m\u001b[1;33m)\u001b[0m\u001b[1;33m\u001b[0m\u001b[0m\n\u001b[0m\u001b[1;32m   1313\u001b[0m \u001b[1;33m\u001b[0m\u001b[0m\n\u001b[1;32m   1314\u001b[0m     \u001b[1;32mdef\u001b[0m \u001b[0m_getitem_axis\u001b[0m\u001b[1;33m(\u001b[0m\u001b[0mself\u001b[0m\u001b[1;33m,\u001b[0m \u001b[0mkey\u001b[0m\u001b[1;33m,\u001b[0m \u001b[0maxis\u001b[0m\u001b[1;33m=\u001b[0m\u001b[1;36m0\u001b[0m\u001b[1;33m)\u001b[0m\u001b[1;33m:\u001b[0m\u001b[1;33m\u001b[0m\u001b[0m\n",
      "\u001b[0;32mC:\\Users\\ali_a\\Anaconda3\\lib\\site-packages\\pandas\\core\\indexing.py\u001b[0m in \u001b[0;36m_getitem_axis\u001b[0;34m(self, key, axis)\u001b[0m\n\u001b[1;32m   1628\u001b[0m                 \u001b[0mself\u001b[0m\u001b[1;33m.\u001b[0m\u001b[0m_is_valid_integer\u001b[0m\u001b[1;33m(\u001b[0m\u001b[0mkey\u001b[0m\u001b[1;33m,\u001b[0m \u001b[0maxis\u001b[0m\u001b[1;33m)\u001b[0m\u001b[1;33m\u001b[0m\u001b[0m\n\u001b[1;32m   1629\u001b[0m \u001b[1;33m\u001b[0m\u001b[0m\n\u001b[0;32m-> 1630\u001b[0;31m             \u001b[1;32mreturn\u001b[0m \u001b[0mself\u001b[0m\u001b[1;33m.\u001b[0m\u001b[0m_get_loc\u001b[0m\u001b[1;33m(\u001b[0m\u001b[0mkey\u001b[0m\u001b[1;33m,\u001b[0m \u001b[0maxis\u001b[0m\u001b[1;33m=\u001b[0m\u001b[0maxis\u001b[0m\u001b[1;33m)\u001b[0m\u001b[1;33m\u001b[0m\u001b[0m\n\u001b[0m\u001b[1;32m   1631\u001b[0m \u001b[1;33m\u001b[0m\u001b[0m\n\u001b[1;32m   1632\u001b[0m     \u001b[1;32mdef\u001b[0m \u001b[0m_convert_to_indexer\u001b[0m\u001b[1;33m(\u001b[0m\u001b[0mself\u001b[0m\u001b[1;33m,\u001b[0m \u001b[0mobj\u001b[0m\u001b[1;33m,\u001b[0m \u001b[0maxis\u001b[0m\u001b[1;33m=\u001b[0m\u001b[1;36m0\u001b[0m\u001b[1;33m,\u001b[0m \u001b[0mis_setter\u001b[0m\u001b[1;33m=\u001b[0m\u001b[1;32mFalse\u001b[0m\u001b[1;33m)\u001b[0m\u001b[1;33m:\u001b[0m\u001b[1;33m\u001b[0m\u001b[0m\n",
      "\u001b[0;32mC:\\Users\\ali_a\\Anaconda3\\lib\\site-packages\\pandas\\core\\indexing.py\u001b[0m in \u001b[0;36m_get_loc\u001b[0;34m(self, key, axis)\u001b[0m\n\u001b[1;32m    103\u001b[0m \u001b[1;33m\u001b[0m\u001b[0m\n\u001b[1;32m    104\u001b[0m     \u001b[1;32mdef\u001b[0m \u001b[0m_get_loc\u001b[0m\u001b[1;33m(\u001b[0m\u001b[0mself\u001b[0m\u001b[1;33m,\u001b[0m \u001b[0mkey\u001b[0m\u001b[1;33m,\u001b[0m \u001b[0maxis\u001b[0m\u001b[1;33m=\u001b[0m\u001b[1;36m0\u001b[0m\u001b[1;33m)\u001b[0m\u001b[1;33m:\u001b[0m\u001b[1;33m\u001b[0m\u001b[0m\n\u001b[0;32m--> 105\u001b[0;31m         \u001b[1;32mreturn\u001b[0m \u001b[0mself\u001b[0m\u001b[1;33m.\u001b[0m\u001b[0mobj\u001b[0m\u001b[1;33m.\u001b[0m\u001b[0m_ixs\u001b[0m\u001b[1;33m(\u001b[0m\u001b[0mkey\u001b[0m\u001b[1;33m,\u001b[0m \u001b[0maxis\u001b[0m\u001b[1;33m=\u001b[0m\u001b[0maxis\u001b[0m\u001b[1;33m)\u001b[0m\u001b[1;33m\u001b[0m\u001b[0m\n\u001b[0m\u001b[1;32m    106\u001b[0m \u001b[1;33m\u001b[0m\u001b[0m\n\u001b[1;32m    107\u001b[0m     \u001b[1;32mdef\u001b[0m \u001b[0m_slice\u001b[0m\u001b[1;33m(\u001b[0m\u001b[0mself\u001b[0m\u001b[1;33m,\u001b[0m \u001b[0mobj\u001b[0m\u001b[1;33m,\u001b[0m \u001b[0maxis\u001b[0m\u001b[1;33m=\u001b[0m\u001b[1;36m0\u001b[0m\u001b[1;33m,\u001b[0m \u001b[0mkind\u001b[0m\u001b[1;33m=\u001b[0m\u001b[1;32mNone\u001b[0m\u001b[1;33m)\u001b[0m\u001b[1;33m:\u001b[0m\u001b[1;33m\u001b[0m\u001b[0m\n",
      "\u001b[0;32mC:\\Users\\ali_a\\Anaconda3\\lib\\site-packages\\pandas\\core\\frame.py\u001b[0m in \u001b[0;36m_ixs\u001b[0;34m(self, i, axis)\u001b[0m\n\u001b[1;32m   1974\u001b[0m                     \u001b[0mcopy\u001b[0m \u001b[1;33m=\u001b[0m \u001b[1;32mTrue\u001b[0m\u001b[1;33m\u001b[0m\u001b[0m\n\u001b[1;32m   1975\u001b[0m                 \u001b[1;32melse\u001b[0m\u001b[1;33m:\u001b[0m\u001b[1;33m\u001b[0m\u001b[0m\n\u001b[0;32m-> 1976\u001b[0;31m                     \u001b[0mnew_values\u001b[0m \u001b[1;33m=\u001b[0m \u001b[0mself\u001b[0m\u001b[1;33m.\u001b[0m\u001b[0m_data\u001b[0m\u001b[1;33m.\u001b[0m\u001b[0mfast_xs\u001b[0m\u001b[1;33m(\u001b[0m\u001b[0mi\u001b[0m\u001b[1;33m)\u001b[0m\u001b[1;33m\u001b[0m\u001b[0m\n\u001b[0m\u001b[1;32m   1977\u001b[0m                     \u001b[1;32mif\u001b[0m \u001b[0mis_scalar\u001b[0m\u001b[1;33m(\u001b[0m\u001b[0mnew_values\u001b[0m\u001b[1;33m)\u001b[0m\u001b[1;33m:\u001b[0m\u001b[1;33m\u001b[0m\u001b[0m\n\u001b[1;32m   1978\u001b[0m                         \u001b[1;32mreturn\u001b[0m \u001b[0mnew_values\u001b[0m\u001b[1;33m\u001b[0m\u001b[0m\n",
      "\u001b[0;32mC:\\Users\\ali_a\\Anaconda3\\lib\\site-packages\\pandas\\core\\internals.py\u001b[0m in \u001b[0;36mfast_xs\u001b[0;34m(self, loc)\u001b[0m\n\u001b[1;32m   3507\u001b[0m             \u001b[1;31m# result[blk.mgr_locs] = blk._slice((slice(None), loc))\u001b[0m\u001b[1;33m\u001b[0m\u001b[1;33m\u001b[0m\u001b[0m\n\u001b[1;32m   3508\u001b[0m             \u001b[1;32mfor\u001b[0m \u001b[0mi\u001b[0m\u001b[1;33m,\u001b[0m \u001b[0mrl\u001b[0m \u001b[1;32min\u001b[0m \u001b[0menumerate\u001b[0m\u001b[1;33m(\u001b[0m\u001b[0mblk\u001b[0m\u001b[1;33m.\u001b[0m\u001b[0mmgr_locs\u001b[0m\u001b[1;33m)\u001b[0m\u001b[1;33m:\u001b[0m\u001b[1;33m\u001b[0m\u001b[0m\n\u001b[0;32m-> 3509\u001b[0;31m                 \u001b[0mresult\u001b[0m\u001b[1;33m[\u001b[0m\u001b[0mrl\u001b[0m\u001b[1;33m]\u001b[0m \u001b[1;33m=\u001b[0m \u001b[0mblk\u001b[0m\u001b[1;33m.\u001b[0m\u001b[0m_try_coerce_result\u001b[0m\u001b[1;33m(\u001b[0m\u001b[0mblk\u001b[0m\u001b[1;33m.\u001b[0m\u001b[0miget\u001b[0m\u001b[1;33m(\u001b[0m\u001b[1;33m(\u001b[0m\u001b[0mi\u001b[0m\u001b[1;33m,\u001b[0m \u001b[0mloc\u001b[0m\u001b[1;33m)\u001b[0m\u001b[1;33m)\u001b[0m\u001b[1;33m)\u001b[0m\u001b[1;33m\u001b[0m\u001b[0m\n\u001b[0m\u001b[1;32m   3510\u001b[0m \u001b[1;33m\u001b[0m\u001b[0m\n\u001b[1;32m   3511\u001b[0m         \u001b[1;32mreturn\u001b[0m \u001b[0mresult\u001b[0m\u001b[1;33m\u001b[0m\u001b[0m\n",
      "\u001b[0;31mKeyboardInterrupt\u001b[0m: "
     ]
    }
   ],
   "source": [
    "nearby ={}\n",
    "max_nearbies = 0\n",
    "\n",
    "business_groups = business_state.groupby('state')\n",
    "\n",
    "for name, group in business_groups:\n",
    "    for i in range(0, len(group)):\n",
    "        if group.latitude.iloc[i] < 80:\n",
    "            near_group = group[(group.latitude < (group.latitude.iloc[i] + 1)) & (group.latitude > (group.latitude.iloc[i] - 1)) & \n",
    "                          (group.longitude < (group.longitude.iloc[i] + 1)) & (group.longitude > (group.longitude.iloc[i] - 1))]\n",
    "        for j in range(0, len(near_group)):\n",
    "\n",
    "            distance = vincenty(tuple(group.iloc[i][['latitude','longitude']]), tuple(near_group.iloc[j][['latitude','longitude']])).km\n",
    "            if distance < 30:\n",
    "                c += 1\n",
    "                try:\n",
    "                    nearby[group.business_id.iloc[i]].extend([near_group.business_id.iloc[j]])\n",
    "                except KeyError as e:\n",
    "                    nearby[group.business_id.iloc[i]] = [near_group.business_id.iloc[j]]\n",
    "                try:\n",
    "                    nearby[near_group.business_id.iloc[j]].extend([group.business_id.iloc[i]])\n",
    "                except KeyError as e:\n",
    "                    nearby[near_group.business_id.iloc[j]] = [group.business_id.iloc[i]]\n",
    "        if max_nearbies < c:\n",
    "            max_nearbies = c\n",
    "    print (len(group))\n"
   ]
  },
  {
   "cell_type": "code",
   "execution_count": 755,
   "metadata": {
    "ExecuteTime": {
     "end_time": "2017-01-16T18:13:07.465834",
     "start_time": "2017-01-16T18:13:07.250740"
    },
    "collapsed": false,
    "nbpresent": {
     "id": "e68f9139-f0dc-4dea-a384-b210d94fdc79"
    },
    "run_control": {
     "frozen": false,
     "read_only": false
    }
   },
   "outputs": [
    {
     "data": {
      "text/html": [
       "<div>\n",
       "<table border=\"1\" class=\"dataframe\">\n",
       "  <thead>\n",
       "    <tr style=\"text-align: right;\">\n",
       "      <th></th>\n",
       "      <th>attributes</th>\n",
       "      <th>business_id</th>\n",
       "      <th>categories</th>\n",
       "      <th>city</th>\n",
       "      <th>full_address</th>\n",
       "      <th>hours</th>\n",
       "      <th>latitude</th>\n",
       "      <th>longitude</th>\n",
       "      <th>name</th>\n",
       "      <th>neighborhoods</th>\n",
       "      <th>open</th>\n",
       "      <th>review_count</th>\n",
       "      <th>stars</th>\n",
       "      <th>state</th>\n",
       "      <th>type</th>\n",
       "    </tr>\n",
       "  </thead>\n",
       "  <tbody>\n",
       "    <tr>\n",
       "      <th>0</th>\n",
       "      <td>{'Take-out': True, 'Has TV': False, 'Noise Lev...</td>\n",
       "      <td>5UmKMjUEUNdYWqANhGckJw</td>\n",
       "      <td>[Fast Food, Restaurants]</td>\n",
       "      <td>Dravosburg</td>\n",
       "      <td>4734 Lebanon Church Rd\\nDravosburg, PA 15034</td>\n",
       "      <td>{'Tuesday': {'open': '11:00', 'close': '21:00'...</td>\n",
       "      <td>40.354327</td>\n",
       "      <td>-79.900706</td>\n",
       "      <td>Mr Hoagie</td>\n",
       "      <td>[]</td>\n",
       "      <td>True</td>\n",
       "      <td>7</td>\n",
       "      <td>3.5</td>\n",
       "      <td>PA</td>\n",
       "      <td>business</td>\n",
       "    </tr>\n",
       "    <tr>\n",
       "      <th>1</th>\n",
       "      <td>{'Outdoor Seating': False, 'Good For Groups': ...</td>\n",
       "      <td>UsFtqoBl7naz8AVUBZMjQQ</td>\n",
       "      <td>[Nightlife]</td>\n",
       "      <td>Dravosburg</td>\n",
       "      <td>202 McClure St\\nDravosburg, PA 15034</td>\n",
       "      <td>{}</td>\n",
       "      <td>40.350553</td>\n",
       "      <td>-79.886814</td>\n",
       "      <td>Clancy's Pub</td>\n",
       "      <td>[]</td>\n",
       "      <td>True</td>\n",
       "      <td>5</td>\n",
       "      <td>3.0</td>\n",
       "      <td>PA</td>\n",
       "      <td>business</td>\n",
       "    </tr>\n",
       "    <tr>\n",
       "      <th>2</th>\n",
       "      <td>{'Good for Kids': True}</td>\n",
       "      <td>cE27W9VPgO88Qxe4ol6y_g</td>\n",
       "      <td>[Active Life, Mini Golf, Golf]</td>\n",
       "      <td>Bethel Park</td>\n",
       "      <td>1530 Hamilton Rd\\nBethel Park, PA 15234</td>\n",
       "      <td>{}</td>\n",
       "      <td>40.354115</td>\n",
       "      <td>-80.014660</td>\n",
       "      <td>Cool Springs Golf Center</td>\n",
       "      <td>[]</td>\n",
       "      <td>False</td>\n",
       "      <td>5</td>\n",
       "      <td>2.5</td>\n",
       "      <td>PA</td>\n",
       "      <td>business</td>\n",
       "    </tr>\n",
       "    <tr>\n",
       "      <th>3</th>\n",
       "      <td>{'Good For Groups': True, 'Has TV': True, 'Smo...</td>\n",
       "      <td>mVHrayjG3uZ_RLHkLj-AMg</td>\n",
       "      <td>[Bars, American (New), Nightlife, Lounges, Res...</td>\n",
       "      <td>Braddock</td>\n",
       "      <td>414 Hawkins Ave\\nBraddock, PA 15104</td>\n",
       "      <td>{'Tuesday': {'open': '10:00', 'close': '19:00'...</td>\n",
       "      <td>40.408830</td>\n",
       "      <td>-79.866211</td>\n",
       "      <td>Emil's Lounge</td>\n",
       "      <td>[]</td>\n",
       "      <td>True</td>\n",
       "      <td>26</td>\n",
       "      <td>4.5</td>\n",
       "      <td>PA</td>\n",
       "      <td>business</td>\n",
       "    </tr>\n",
       "    <tr>\n",
       "      <th>4</th>\n",
       "      <td>{'Parking': {'valet': False, 'validated': Fals...</td>\n",
       "      <td>mYSpR_SLPgUVymYOvTQd_Q</td>\n",
       "      <td>[Active Life, Golf]</td>\n",
       "      <td>Braddock</td>\n",
       "      <td>1000 Clubhouse Dr\\nBraddock, PA 15104</td>\n",
       "      <td>{'Thursday': {'open': '11:00', 'close': '20:00...</td>\n",
       "      <td>40.403405</td>\n",
       "      <td>-79.855782</td>\n",
       "      <td>Grand View Golf Club</td>\n",
       "      <td>[]</td>\n",
       "      <td>True</td>\n",
       "      <td>3</td>\n",
       "      <td>5.0</td>\n",
       "      <td>PA</td>\n",
       "      <td>business</td>\n",
       "    </tr>\n",
       "    <tr>\n",
       "      <th>5</th>\n",
       "      <td>{'Good For Groups': True, 'Has TV': True, 'Smo...</td>\n",
       "      <td>KayYbHCt-RkbGcPdGOThNg</td>\n",
       "      <td>[Bars, American (Traditional), Nightlife, Rest...</td>\n",
       "      <td>Carnegie</td>\n",
       "      <td>141 Hawthorne St\\nGreentree\\nCarnegie, PA 15106</td>\n",
       "      <td>{'Monday': {'open': '11:00', 'close': '02:00'}...</td>\n",
       "      <td>40.415486</td>\n",
       "      <td>-80.067549</td>\n",
       "      <td>Alexion's Bar &amp; Grill</td>\n",
       "      <td>[Greentree]</td>\n",
       "      <td>True</td>\n",
       "      <td>23</td>\n",
       "      <td>4.0</td>\n",
       "      <td>PA</td>\n",
       "      <td>business</td>\n",
       "    </tr>\n",
       "    <tr>\n",
       "      <th>6</th>\n",
       "      <td>{'Accepts Credit Cards': True}</td>\n",
       "      <td>b12U9TFESStdy7CsTtcOeg</td>\n",
       "      <td>[Auto Repair, Automotive, Tires]</td>\n",
       "      <td>Carnegie</td>\n",
       "      <td>718A Hope Hollow Rd\\nCarnegie, PA 15106</td>\n",
       "      <td>{'Monday': {'open': '07:30', 'close': '18:00'}...</td>\n",
       "      <td>40.394588</td>\n",
       "      <td>-80.084454</td>\n",
       "      <td>Flynn's Tire &amp; Auto Service</td>\n",
       "      <td>[]</td>\n",
       "      <td>True</td>\n",
       "      <td>9</td>\n",
       "      <td>2.5</td>\n",
       "      <td>PA</td>\n",
       "      <td>business</td>\n",
       "    </tr>\n",
       "    <tr>\n",
       "      <th>7</th>\n",
       "      <td>{'Good for Kids': True}</td>\n",
       "      <td>Sktj1eHQFuVa-M4bgnEh8g</td>\n",
       "      <td>[Active Life, Mini Golf]</td>\n",
       "      <td>Carnegie</td>\n",
       "      <td>920 Forsythe Rd\\nCarnegie\\nCarnegie, PA 15106</td>\n",
       "      <td>{}</td>\n",
       "      <td>40.405404</td>\n",
       "      <td>-80.076267</td>\n",
       "      <td>Forsythe Miniature Golf &amp; Snacks</td>\n",
       "      <td>[Carnegie]</td>\n",
       "      <td>False</td>\n",
       "      <td>4</td>\n",
       "      <td>4.0</td>\n",
       "      <td>PA</td>\n",
       "      <td>business</td>\n",
       "    </tr>\n",
       "    <tr>\n",
       "      <th>8</th>\n",
       "      <td>{}</td>\n",
       "      <td>3ZVKmuK2l7uXPE6lXY4Dbg</td>\n",
       "      <td>[Roofing, Home Services, Decks &amp; Railing, Cont...</td>\n",
       "      <td>Carnegie</td>\n",
       "      <td>8 Logan St\\nCarnegie\\nCarnegie, PA 15106</td>\n",
       "      <td>{}</td>\n",
       "      <td>40.406281</td>\n",
       "      <td>-80.090390</td>\n",
       "      <td>Quaker State Construction</td>\n",
       "      <td>[Carnegie]</td>\n",
       "      <td>True</td>\n",
       "      <td>3</td>\n",
       "      <td>2.5</td>\n",
       "      <td>PA</td>\n",
       "      <td>business</td>\n",
       "    </tr>\n",
       "    <tr>\n",
       "      <th>9</th>\n",
       "      <td>{}</td>\n",
       "      <td>QoDa50dc7g62xciFygXB9w</td>\n",
       "      <td>[Veterinarians, Pets]</td>\n",
       "      <td>Pittsburgh</td>\n",
       "      <td>2080 Greentree Rd\\nPittsburgh, PA 15220</td>\n",
       "      <td>{}</td>\n",
       "      <td>40.392207</td>\n",
       "      <td>-80.069134</td>\n",
       "      <td>Greentree Animal Clinic</td>\n",
       "      <td>[]</td>\n",
       "      <td>True</td>\n",
       "      <td>7</td>\n",
       "      <td>4.0</td>\n",
       "      <td>PA</td>\n",
       "      <td>business</td>\n",
       "    </tr>\n",
       "    <tr>\n",
       "      <th>10</th>\n",
       "      <td>{'Wi-Fi': 'free'}</td>\n",
       "      <td>1_lU0-eSWJCRvNGk78Zh9Q</td>\n",
       "      <td>[Libraries, Public Services &amp; Government]</td>\n",
       "      <td>Carnegie</td>\n",
       "      <td>300 Beechwood Ave\\nCarnegie\\nCarnegie, PA 15106</td>\n",
       "      <td>{}</td>\n",
       "      <td>40.406842</td>\n",
       "      <td>-80.085866</td>\n",
       "      <td>Carnegie Free Library</td>\n",
       "      <td>[Carnegie]</td>\n",
       "      <td>True</td>\n",
       "      <td>4</td>\n",
       "      <td>4.5</td>\n",
       "      <td>PA</td>\n",
       "      <td>business</td>\n",
       "    </tr>\n",
       "    <tr>\n",
       "      <th>11</th>\n",
       "      <td>{}</td>\n",
       "      <td>_qopVQ6_Mz6W7-Pmbi56GQ</td>\n",
       "      <td>[Automotive, Auto Parts &amp; Supplies]</td>\n",
       "      <td>Carnegie</td>\n",
       "      <td>1011 Washington Ave\\nCarnegie, PA 15106</td>\n",
       "      <td>{}</td>\n",
       "      <td>40.398353</td>\n",
       "      <td>-80.082452</td>\n",
       "      <td>Advance Auto Parts</td>\n",
       "      <td>[]</td>\n",
       "      <td>True</td>\n",
       "      <td>3</td>\n",
       "      <td>3.5</td>\n",
       "      <td>PA</td>\n",
       "      <td>business</td>\n",
       "    </tr>\n",
       "    <tr>\n",
       "      <th>12</th>\n",
       "      <td>{'Take-out': True, 'Good For Groups': True, 'P...</td>\n",
       "      <td>wJr6kSA5dchdgOdwH6dZ2w</td>\n",
       "      <td>[Burgers, Breakfast &amp; Brunch, American (Tradit...</td>\n",
       "      <td>Carnegie</td>\n",
       "      <td>2100 Washington Pike\\nCarnegie, PA 15106</td>\n",
       "      <td>{'Monday': {'open': '08:00', 'close': '02:00'}...</td>\n",
       "      <td>40.387512</td>\n",
       "      <td>-80.093215</td>\n",
       "      <td>Kings Family Restaurant</td>\n",
       "      <td>[]</td>\n",
       "      <td>True</td>\n",
       "      <td>10</td>\n",
       "      <td>3.5</td>\n",
       "      <td>PA</td>\n",
       "      <td>business</td>\n",
       "    </tr>\n",
       "    <tr>\n",
       "      <th>13</th>\n",
       "      <td>{'Parking': {'valet': False, 'validated': Fals...</td>\n",
       "      <td>yXuao0pFz1AxB21vJjDf5w</td>\n",
       "      <td>[Food, Grocery]</td>\n",
       "      <td>Carnegie</td>\n",
       "      <td>2100 Washington Pike\\nCarnegie, PA 15106</td>\n",
       "      <td>{'Monday': {'open': '00:00', 'close': '00:00'}...</td>\n",
       "      <td>40.387512</td>\n",
       "      <td>-80.093215</td>\n",
       "      <td>Shop N' Save</td>\n",
       "      <td>[]</td>\n",
       "      <td>True</td>\n",
       "      <td>5</td>\n",
       "      <td>4.0</td>\n",
       "      <td>PA</td>\n",
       "      <td>business</td>\n",
       "    </tr>\n",
       "    <tr>\n",
       "      <th>14</th>\n",
       "      <td>{}</td>\n",
       "      <td>LLJMI-_fSp6OYQuY4rwarw</td>\n",
       "      <td>[Automotive, Gas &amp; Service Stations]</td>\n",
       "      <td>Carnegie</td>\n",
       "      <td>341 E Main St\\nCarnegie\\nCarnegie, PA 15106</td>\n",
       "      <td>{}</td>\n",
       "      <td>40.409998</td>\n",
       "      <td>-80.083366</td>\n",
       "      <td>Knorr's Sunoco Service</td>\n",
       "      <td>[Carnegie]</td>\n",
       "      <td>True</td>\n",
       "      <td>3</td>\n",
       "      <td>3.5</td>\n",
       "      <td>PA</td>\n",
       "      <td>business</td>\n",
       "    </tr>\n",
       "    <tr>\n",
       "      <th>15</th>\n",
       "      <td>{'Accepts Credit Cards': True}</td>\n",
       "      <td>F04xyOUA2xnUoCiWpx9iJA</td>\n",
       "      <td>[Local Services, Dry Cleaning &amp; Laundry, Sewin...</td>\n",
       "      <td>Carnegie</td>\n",
       "      <td>Bower Hill Rd &amp; Vanadium Rd\\nCarnegie, PA 15106</td>\n",
       "      <td>{}</td>\n",
       "      <td>40.368825</td>\n",
       "      <td>-80.084354</td>\n",
       "      <td>Rossi Tailoring &amp; Cleaners</td>\n",
       "      <td>[]</td>\n",
       "      <td>True</td>\n",
       "      <td>3</td>\n",
       "      <td>3.0</td>\n",
       "      <td>PA</td>\n",
       "      <td>business</td>\n",
       "    </tr>\n",
       "    <tr>\n",
       "      <th>16</th>\n",
       "      <td>{}</td>\n",
       "      <td>Cdcus0NADzyY3XiJM2O5Sg</td>\n",
       "      <td>[Automotive, Gas &amp; Service Stations]</td>\n",
       "      <td>Carnegie</td>\n",
       "      <td>1927 E Railroad St\\nCarnegie, PA 15106</td>\n",
       "      <td>{}</td>\n",
       "      <td>40.388284</td>\n",
       "      <td>-80.089241</td>\n",
       "      <td>Heidelberg B P</td>\n",
       "      <td>[]</td>\n",
       "      <td>False</td>\n",
       "      <td>4</td>\n",
       "      <td>3.0</td>\n",
       "      <td>PA</td>\n",
       "      <td>business</td>\n",
       "    </tr>\n",
       "    <tr>\n",
       "      <th>17</th>\n",
       "      <td>{'Dogs Allowed': False, 'Good For Groups': Tru...</td>\n",
       "      <td>fNGIbpazjTRdXgwRY_NIXA</td>\n",
       "      <td>[Bars, American (Traditional), Nightlife, Loun...</td>\n",
       "      <td>Carnegie</td>\n",
       "      <td>1201 Washington Ave\\nCarnegie, PA 15106</td>\n",
       "      <td>{'Monday': {'open': '11:00', 'close': '23:00'}...</td>\n",
       "      <td>40.396469</td>\n",
       "      <td>-80.084942</td>\n",
       "      <td>Rocky's Lounge</td>\n",
       "      <td>[]</td>\n",
       "      <td>True</td>\n",
       "      <td>10</td>\n",
       "      <td>4.0</td>\n",
       "      <td>PA</td>\n",
       "      <td>business</td>\n",
       "    </tr>\n",
       "    <tr>\n",
       "      <th>18</th>\n",
       "      <td>{'Good For Groups': False, 'Has TV': True, 'Co...</td>\n",
       "      <td>b9WZJp5L1RZr4F1nxclOoQ</td>\n",
       "      <td>[Breakfast &amp; Brunch, Sandwiches, Restaurants]</td>\n",
       "      <td>Carnegie</td>\n",
       "      <td>1073 Washington Ave\\nCarnegie, PA 15106</td>\n",
       "      <td>{'Monday': {'open': '06:00', 'close': '14:30'}...</td>\n",
       "      <td>40.398001</td>\n",
       "      <td>-80.083458</td>\n",
       "      <td>Gab &amp; Eat</td>\n",
       "      <td>[]</td>\n",
       "      <td>True</td>\n",
       "      <td>69</td>\n",
       "      <td>4.5</td>\n",
       "      <td>PA</td>\n",
       "      <td>business</td>\n",
       "    </tr>\n",
       "    <tr>\n",
       "      <th>19</th>\n",
       "      <td>{'Take-out': True, 'Has TV': False, 'Noise Lev...</td>\n",
       "      <td>zaXDakTd3RXyOa7sMrUE1g</td>\n",
       "      <td>[Cafes, Restaurants]</td>\n",
       "      <td>Carnegie</td>\n",
       "      <td>202 3rd Ave\\nCarnegie\\nCarnegie, PA 15106</td>\n",
       "      <td>{'Monday': {'open': '07:00', 'close': '14:00'}...</td>\n",
       "      <td>40.404638</td>\n",
       "      <td>-80.089985</td>\n",
       "      <td>Barb's Country Junction Cafe</td>\n",
       "      <td>[Carnegie]</td>\n",
       "      <td>True</td>\n",
       "      <td>9</td>\n",
       "      <td>4.0</td>\n",
       "      <td>PA</td>\n",
       "      <td>business</td>\n",
       "    </tr>\n",
       "    <tr>\n",
       "      <th>20</th>\n",
       "      <td>{'Price Range': 2, 'Wi-Fi': 'free', 'Accepts C...</td>\n",
       "      <td>zgy27FSnvwdINfk5cXBIyQ</td>\n",
       "      <td>[Hotels &amp; Travel, Event Planning &amp; Services, H...</td>\n",
       "      <td>Carnegie</td>\n",
       "      <td>520 North Bell Avenue\\nCarnegie\\nCarnegie, PA ...</td>\n",
       "      <td>{'Monday': {'open': '00:00', 'close': '00:00'}...</td>\n",
       "      <td>40.417419</td>\n",
       "      <td>-80.088557</td>\n",
       "      <td>Extended Stay America - Pittsburgh - Carnegie</td>\n",
       "      <td>[Carnegie]</td>\n",
       "      <td>True</td>\n",
       "      <td>11</td>\n",
       "      <td>3.5</td>\n",
       "      <td>PA</td>\n",
       "      <td>business</td>\n",
       "    </tr>\n",
       "    <tr>\n",
       "      <th>21</th>\n",
       "      <td>{'Take-out': True, 'Has TV': True, 'Noise Leve...</td>\n",
       "      <td>WETE_LykpcnrC1sFcQ5EGg</td>\n",
       "      <td>[Pubs, Irish, Nightlife, Bars, Restaurants]</td>\n",
       "      <td>Carnegie</td>\n",
       "      <td>215 E Main St\\nCarnegie\\nCarnegie, PA 15106</td>\n",
       "      <td>{}</td>\n",
       "      <td>40.408670</td>\n",
       "      <td>-80.085279</td>\n",
       "      <td>Paddy's Pour House</td>\n",
       "      <td>[Carnegie]</td>\n",
       "      <td>False</td>\n",
       "      <td>8</td>\n",
       "      <td>3.5</td>\n",
       "      <td>PA</td>\n",
       "      <td>business</td>\n",
       "    </tr>\n",
       "    <tr>\n",
       "      <th>22</th>\n",
       "      <td>{}</td>\n",
       "      <td>6o3RK6rTcN3nw-j-r2nQmA</td>\n",
       "      <td>[Pizza, Restaurants]</td>\n",
       "      <td>Carnegie</td>\n",
       "      <td>231 E Main St\\nCarnegie\\nCarnegie, PA 15106</td>\n",
       "      <td>{'Monday': {'open': '11:00', 'close': '22:00'}...</td>\n",
       "      <td>40.408832</td>\n",
       "      <td>-80.084934</td>\n",
       "      <td>Porto Fino Pizzaria &amp; Gyro</td>\n",
       "      <td>[Carnegie]</td>\n",
       "      <td>True</td>\n",
       "      <td>4</td>\n",
       "      <td>2.5</td>\n",
       "      <td>PA</td>\n",
       "      <td>business</td>\n",
       "    </tr>\n",
       "    <tr>\n",
       "      <th>23</th>\n",
       "      <td>{'Accepts Credit Cards': False}</td>\n",
       "      <td>woOVJ0Z2f6XNCDntHA3b_g</td>\n",
       "      <td>[Local Services, Sewing &amp; Alterations]</td>\n",
       "      <td>Carnegie</td>\n",
       "      <td>117 E Mall Plz\\nCarnegie\\nCarnegie, PA 15106</td>\n",
       "      <td>{'Monday': {'open': '08:30', 'close': '19:00'}...</td>\n",
       "      <td>40.406871</td>\n",
       "      <td>-80.087605</td>\n",
       "      <td>Alteration World</td>\n",
       "      <td>[Carnegie]</td>\n",
       "      <td>True</td>\n",
       "      <td>10</td>\n",
       "      <td>4.5</td>\n",
       "      <td>PA</td>\n",
       "      <td>business</td>\n",
       "    </tr>\n",
       "    <tr>\n",
       "      <th>24</th>\n",
       "      <td>{'Take-out': True, 'Has TV': False, 'Noise Lev...</td>\n",
       "      <td>rv7CY8G_XibTx82YhuqQRw</td>\n",
       "      <td>[Restaurants]</td>\n",
       "      <td>Carnegie</td>\n",
       "      <td>Raceway Plz\\nCarnegie, PA 15106</td>\n",
       "      <td>{}</td>\n",
       "      <td>40.386891</td>\n",
       "      <td>-80.093704</td>\n",
       "      <td>Long John Silver's</td>\n",
       "      <td>[]</td>\n",
       "      <td>True</td>\n",
       "      <td>6</td>\n",
       "      <td>3.0</td>\n",
       "      <td>PA</td>\n",
       "      <td>business</td>\n",
       "    </tr>\n",
       "    <tr>\n",
       "      <th>25</th>\n",
       "      <td>{'By Appointment Only': True}</td>\n",
       "      <td>e_U_FnpdKVgNb4mUN2cU_Q</td>\n",
       "      <td>[Health &amp; Medical, Dentists, General Dentistry]</td>\n",
       "      <td>Carnegie</td>\n",
       "      <td>2323 Greentree Rd\\nCarnegie, PA 15106</td>\n",
       "      <td>{}</td>\n",
       "      <td>40.390760</td>\n",
       "      <td>-80.078657</td>\n",
       "      <td>Weinberg Lisa, DMD</td>\n",
       "      <td>[]</td>\n",
       "      <td>True</td>\n",
       "      <td>8</td>\n",
       "      <td>2.5</td>\n",
       "      <td>PA</td>\n",
       "      <td>business</td>\n",
       "    </tr>\n",
       "    <tr>\n",
       "      <th>26</th>\n",
       "      <td>{'Take-out': True, 'Has TV': True, 'Noise Leve...</td>\n",
       "      <td>SQ0j7bgSTazkVQlF5AnqyQ</td>\n",
       "      <td>[Chinese, Restaurants]</td>\n",
       "      <td>Carnegie</td>\n",
       "      <td>214 E Main St\\nCarnegie\\nCarnegie, PA 15106</td>\n",
       "      <td>{}</td>\n",
       "      <td>40.408347</td>\n",
       "      <td>-80.084962</td>\n",
       "      <td>Don Don Chinese Restaurant</td>\n",
       "      <td>[Carnegie]</td>\n",
       "      <td>True</td>\n",
       "      <td>10</td>\n",
       "      <td>2.5</td>\n",
       "      <td>PA</td>\n",
       "      <td>business</td>\n",
       "    </tr>\n",
       "    <tr>\n",
       "      <th>27</th>\n",
       "      <td>{}</td>\n",
       "      <td>LTXS986DAz-4jE_sV2Ui4w</td>\n",
       "      <td>[Veterinarians, Pets]</td>\n",
       "      <td>Heidelberg</td>\n",
       "      <td>1747 E Railroad St\\nHeidelberg, PA 15106</td>\n",
       "      <td>{'Monday': {'open': '09:00', 'close': '19:00'}...</td>\n",
       "      <td>40.390569</td>\n",
       "      <td>-80.087898</td>\n",
       "      <td>Chartiers Animal Hospital</td>\n",
       "      <td>[]</td>\n",
       "      <td>True</td>\n",
       "      <td>3</td>\n",
       "      <td>3.5</td>\n",
       "      <td>PA</td>\n",
       "      <td>business</td>\n",
       "    </tr>\n",
       "    <tr>\n",
       "      <th>28</th>\n",
       "      <td>{'Take-out': True, 'Has TV': False, 'Noise Lev...</td>\n",
       "      <td>wqu7ILomIOPSduRwoWp4AQ</td>\n",
       "      <td>[Breakfast &amp; Brunch, American (Traditional), D...</td>\n",
       "      <td>Pittsburgh</td>\n",
       "      <td>2180 Greentree Rd\\nPittsburgh, PA 15220</td>\n",
       "      <td>{'Monday': {'open': '00:00', 'close': '00:00'}...</td>\n",
       "      <td>40.391140</td>\n",
       "      <td>-80.073788</td>\n",
       "      <td>Denny's</td>\n",
       "      <td>[]</td>\n",
       "      <td>True</td>\n",
       "      <td>16</td>\n",
       "      <td>3.5</td>\n",
       "      <td>PA</td>\n",
       "      <td>business</td>\n",
       "    </tr>\n",
       "    <tr>\n",
       "      <th>29</th>\n",
       "      <td>{'Parking': {'valet': False, 'validated': Fals...</td>\n",
       "      <td>1u2NauOy8xDj7aFQET680A</td>\n",
       "      <td>[Active Life, Boxing, Gyms, Fitness &amp; Instruct...</td>\n",
       "      <td>Carnegie</td>\n",
       "      <td>100 Roessler Rd\\nCarnegie, PA 15106</td>\n",
       "      <td>{'Monday': {'open': '05:30', 'close': '22:00'}...</td>\n",
       "      <td>40.394305</td>\n",
       "      <td>-80.060154</td>\n",
       "      <td>Amerifit</td>\n",
       "      <td>[]</td>\n",
       "      <td>True</td>\n",
       "      <td>8</td>\n",
       "      <td>3.0</td>\n",
       "      <td>PA</td>\n",
       "      <td>business</td>\n",
       "    </tr>\n",
       "    <tr>\n",
       "      <th>...</th>\n",
       "      <td>...</td>\n",
       "      <td>...</td>\n",
       "      <td>...</td>\n",
       "      <td>...</td>\n",
       "      <td>...</td>\n",
       "      <td>...</td>\n",
       "      <td>...</td>\n",
       "      <td>...</td>\n",
       "      <td>...</td>\n",
       "      <td>...</td>\n",
       "      <td>...</td>\n",
       "      <td>...</td>\n",
       "      <td>...</td>\n",
       "      <td>...</td>\n",
       "      <td>...</td>\n",
       "    </tr>\n",
       "    <tr>\n",
       "      <th>85866</th>\n",
       "      <td>{'Accepts Credit Cards': True, 'Good for Kids'...</td>\n",
       "      <td>ceobxf5bpSmIZMWqwWad1w</td>\n",
       "      <td>[Soup, Sandwiches, Salad, Restaurants]</td>\n",
       "      <td>Tempe</td>\n",
       "      <td>Tempe Marketplace\\n2000 E Rio Salado Pkwy\\nTem...</td>\n",
       "      <td>{}</td>\n",
       "      <td>33.432927</td>\n",
       "      <td>-111.905575</td>\n",
       "      <td>Panera Bread</td>\n",
       "      <td>[]</td>\n",
       "      <td>True</td>\n",
       "      <td>9</td>\n",
       "      <td>2.5</td>\n",
       "      <td>AZ</td>\n",
       "      <td>business</td>\n",
       "    </tr>\n",
       "    <tr>\n",
       "      <th>85867</th>\n",
       "      <td>{'Take-out': True, 'Has TV': False, 'Noise Lev...</td>\n",
       "      <td>D-vMDv5NlLb9od6sqXtX8A</td>\n",
       "      <td>[Food, Fast Food, Asian Fusion, Poke, Restaura...</td>\n",
       "      <td>Las Vegas</td>\n",
       "      <td>6040 W Badura Ave\\nSte 150\\nSpring Valley\\nLas...</td>\n",
       "      <td>{'Monday': {'open': '11:00', 'close': '21:00'}...</td>\n",
       "      <td>36.062737</td>\n",
       "      <td>-115.223679</td>\n",
       "      <td>Soho Sushi Bowlrrito</td>\n",
       "      <td>[Spring Valley]</td>\n",
       "      <td>True</td>\n",
       "      <td>27</td>\n",
       "      <td>4.5</td>\n",
       "      <td>NV</td>\n",
       "      <td>business</td>\n",
       "    </tr>\n",
       "    <tr>\n",
       "      <th>85868</th>\n",
       "      <td>{'Parking': {'valet': False, 'validated': Fals...</td>\n",
       "      <td>xppcCbZet-xToM83enlieg</td>\n",
       "      <td>[Active Life, Dance Studios, Pilates, Yoga, Fi...</td>\n",
       "      <td>Las Vegas</td>\n",
       "      <td>4720 West Sahara Ave\\nWestside\\nLas Vegas, NV ...</td>\n",
       "      <td>{'Monday': {'open': '10:00', 'close': '20:00'}...</td>\n",
       "      <td>36.147556</td>\n",
       "      <td>-115.207116</td>\n",
       "      <td>DYP Dance And Fitness</td>\n",
       "      <td>[Westside]</td>\n",
       "      <td>True</td>\n",
       "      <td>7</td>\n",
       "      <td>5.0</td>\n",
       "      <td>NV</td>\n",
       "      <td>business</td>\n",
       "    </tr>\n",
       "    <tr>\n",
       "      <th>85869</th>\n",
       "      <td>{'Outdoor Seating': True, 'Has TV': True, 'Whe...</td>\n",
       "      <td>YoryL0t3x8T2wfD96Xs6Kw</td>\n",
       "      <td>[Adult Entertainment, Party &amp; Event Planning, ...</td>\n",
       "      <td>Las Vegas</td>\n",
       "      <td>The Strip\\nLas Vegas, NV</td>\n",
       "      <td>{'Monday': {'open': '00:00', 'close': '00:00'}...</td>\n",
       "      <td>36.133201</td>\n",
       "      <td>-115.164227</td>\n",
       "      <td>Chris Cowette - Vegas Club Promoter</td>\n",
       "      <td>[The Strip]</td>\n",
       "      <td>True</td>\n",
       "      <td>6</td>\n",
       "      <td>5.0</td>\n",
       "      <td>NV</td>\n",
       "      <td>business</td>\n",
       "    </tr>\n",
       "    <tr>\n",
       "      <th>85870</th>\n",
       "      <td>{'Take-out': True, 'Has TV': False, 'Noise Lev...</td>\n",
       "      <td>OqZhUPDGmzu_k8jiyEhX6g</td>\n",
       "      <td>[American (Traditional), Fast Food, Chicken Wi...</td>\n",
       "      <td>Chandler</td>\n",
       "      <td>4075 S Arizona Ave\\nChandler, AZ 85248</td>\n",
       "      <td>{'Monday': {'open': '09:00', 'close': '00:00'}...</td>\n",
       "      <td>33.246349</td>\n",
       "      <td>-111.840639</td>\n",
       "      <td>Raising Cane's</td>\n",
       "      <td>[]</td>\n",
       "      <td>True</td>\n",
       "      <td>13</td>\n",
       "      <td>4.0</td>\n",
       "      <td>AZ</td>\n",
       "      <td>business</td>\n",
       "    </tr>\n",
       "    <tr>\n",
       "      <th>85871</th>\n",
       "      <td>{'Parking': {'valet': False, 'validated': Fals...</td>\n",
       "      <td>EB7_p4M5whur3KWesXE6gw</td>\n",
       "      <td>[Active Life, Gyms, Trainers, Fitness &amp; Instru...</td>\n",
       "      <td>Las Vegas</td>\n",
       "      <td>4775 Quality Ct\\nLas Vegas, NV 89103</td>\n",
       "      <td>{'Monday': {'open': '05:00', 'close': '21:00'}...</td>\n",
       "      <td>36.105608</td>\n",
       "      <td>-115.205611</td>\n",
       "      <td>Kanoa Strength Gym</td>\n",
       "      <td>[]</td>\n",
       "      <td>True</td>\n",
       "      <td>5</td>\n",
       "      <td>5.0</td>\n",
       "      <td>NV</td>\n",
       "      <td>business</td>\n",
       "    </tr>\n",
       "    <tr>\n",
       "      <th>85873</th>\n",
       "      <td>{}</td>\n",
       "      <td>iFX50dGCzWkVyunSZUzoiw</td>\n",
       "      <td>[Bakeries, Bars, Food, Wine Bars, Nightlife, I...</td>\n",
       "      <td>Scottsdale</td>\n",
       "      <td>11485 N 136th St\\nScottsdale, AZ 85259</td>\n",
       "      <td>{'Tuesday': {'open': '17:00', 'close': '22:00'...</td>\n",
       "      <td>33.590790</td>\n",
       "      <td>-111.786674</td>\n",
       "      <td>CM2 Pizzeria &amp; Bakeshop</td>\n",
       "      <td>[]</td>\n",
       "      <td>True</td>\n",
       "      <td>6</td>\n",
       "      <td>5.0</td>\n",
       "      <td>AZ</td>\n",
       "      <td>business</td>\n",
       "    </tr>\n",
       "    <tr>\n",
       "      <th>85874</th>\n",
       "      <td>{'Outdoor Seating': True, 'Take-out': True, 'G...</td>\n",
       "      <td>5PGbTsWR0UN9QuzN2XljyQ</td>\n",
       "      <td>[Food, Coffee &amp; Tea]</td>\n",
       "      <td>Phoenix</td>\n",
       "      <td>718 N Central Ave\\nPhoenix, AZ 85004</td>\n",
       "      <td>{'Monday': {'open': '06:00', 'close': '00:00'}...</td>\n",
       "      <td>33.456388</td>\n",
       "      <td>-112.074092</td>\n",
       "      <td>The Grand Central Coffee Company</td>\n",
       "      <td>[]</td>\n",
       "      <td>True</td>\n",
       "      <td>16</td>\n",
       "      <td>4.0</td>\n",
       "      <td>AZ</td>\n",
       "      <td>business</td>\n",
       "    </tr>\n",
       "    <tr>\n",
       "      <th>85875</th>\n",
       "      <td>{}</td>\n",
       "      <td>xoMhBZHpY40EAyy6iQ_I-A</td>\n",
       "      <td>[Hair Salons, Hair Extensions, Nail Salons, Ey...</td>\n",
       "      <td>Las Vegas</td>\n",
       "      <td>8680 W Warm Springs Rd\\nSte 13\\nSouthwest\\nLas...</td>\n",
       "      <td>{'Monday': {'open': '08:00', 'close': '22:00'}...</td>\n",
       "      <td>36.056214</td>\n",
       "      <td>-115.281151</td>\n",
       "      <td>Sexy3D Extensions</td>\n",
       "      <td>[Southwest, Spring Valley]</td>\n",
       "      <td>True</td>\n",
       "      <td>7</td>\n",
       "      <td>5.0</td>\n",
       "      <td>NV</td>\n",
       "      <td>business</td>\n",
       "    </tr>\n",
       "    <tr>\n",
       "      <th>85878</th>\n",
       "      <td>{'Good for Kids': True}</td>\n",
       "      <td>5JDMpRduKnuPz-1OsF0I_A</td>\n",
       "      <td>[Local Flavor]</td>\n",
       "      <td>Las Vegas</td>\n",
       "      <td>300 Stewart Ave\\nDowntown\\nLas Vegas, NV 89101</td>\n",
       "      <td>{'Tuesday': {'open': '18:00', 'close': '20:00'}}</td>\n",
       "      <td>36.172815</td>\n",
       "      <td>-115.141243</td>\n",
       "      <td>YEE: \"Greed\" at The Mob Museum</td>\n",
       "      <td>[Downtown]</td>\n",
       "      <td>True</td>\n",
       "      <td>8</td>\n",
       "      <td>5.0</td>\n",
       "      <td>NV</td>\n",
       "      <td>business</td>\n",
       "    </tr>\n",
       "    <tr>\n",
       "      <th>85879</th>\n",
       "      <td>{}</td>\n",
       "      <td>C6_IoaDD3mddplTXdbKGEg</td>\n",
       "      <td>[Yelp Events, Local Flavor]</td>\n",
       "      <td>Charlotte</td>\n",
       "      <td>1608 East Blvd\\nDilworth\\nCharlotte, NC 28203</td>\n",
       "      <td>{}</td>\n",
       "      <td>35.199185</td>\n",
       "      <td>-80.841449</td>\n",
       "      <td>YEE: An Evening With Kid Cashew</td>\n",
       "      <td>[Dilworth]</td>\n",
       "      <td>True</td>\n",
       "      <td>32</td>\n",
       "      <td>5.0</td>\n",
       "      <td>NC</td>\n",
       "      <td>business</td>\n",
       "    </tr>\n",
       "    <tr>\n",
       "      <th>85880</th>\n",
       "      <td>{'Take-out': True, 'Has TV': False, 'Noise Lev...</td>\n",
       "      <td>UByngND8rAr6Qu2il34Qrw</td>\n",
       "      <td>[Sandwiches, Salad, Restaurants]</td>\n",
       "      <td>Scottsdale</td>\n",
       "      <td>16495 N Scottsdale Rd\\nSte 105\\nScottsdale, AZ...</td>\n",
       "      <td>{'Monday': {'open': '11:00', 'close': '19:00'}...</td>\n",
       "      <td>33.635558</td>\n",
       "      <td>-111.921071</td>\n",
       "      <td>The Chicken Scoop</td>\n",
       "      <td>[]</td>\n",
       "      <td>True</td>\n",
       "      <td>23</td>\n",
       "      <td>4.0</td>\n",
       "      <td>AZ</td>\n",
       "      <td>business</td>\n",
       "    </tr>\n",
       "    <tr>\n",
       "      <th>85881</th>\n",
       "      <td>{'Price Range': 3, 'Take-out': True, 'Has TV':...</td>\n",
       "      <td>FcvkAc_OTDOOLLEln3jlxA</td>\n",
       "      <td>[Asian Fusion, Sushi Bars, Japanese, Restaurants]</td>\n",
       "      <td>Phoenix</td>\n",
       "      <td>5538 N 7th St\\nSte 110\\nPhoenix, AZ 85014</td>\n",
       "      <td>{'Monday': {'open': '11:00', 'close': '22:00'}...</td>\n",
       "      <td>33.517942</td>\n",
       "      <td>-112.065448</td>\n",
       "      <td>Pure Sushi Colony</td>\n",
       "      <td>[]</td>\n",
       "      <td>True</td>\n",
       "      <td>18</td>\n",
       "      <td>4.0</td>\n",
       "      <td>AZ</td>\n",
       "      <td>business</td>\n",
       "    </tr>\n",
       "    <tr>\n",
       "      <th>85882</th>\n",
       "      <td>{'Parking': {'valet': False, 'validated': Fals...</td>\n",
       "      <td>h1aZ3B_i83ccUcjgtRfMaA</td>\n",
       "      <td>[Skin Care, Waxing, Hair Removal, Beauty &amp; Spas]</td>\n",
       "      <td>Scottsdale</td>\n",
       "      <td>3301 N Miller Rd\\nScottsdale, AZ 85251</td>\n",
       "      <td>{'Monday': {'open': '13:00', 'close': '19:00'}...</td>\n",
       "      <td>33.486405</td>\n",
       "      <td>-111.917149</td>\n",
       "      <td>Skin Awakened</td>\n",
       "      <td>[]</td>\n",
       "      <td>True</td>\n",
       "      <td>3</td>\n",
       "      <td>5.0</td>\n",
       "      <td>AZ</td>\n",
       "      <td>business</td>\n",
       "    </tr>\n",
       "    <tr>\n",
       "      <th>85883</th>\n",
       "      <td>{}</td>\n",
       "      <td>ieZDYoAEq0xV4budBDOU6w</td>\n",
       "      <td>[Real Estate, Home Services, Real Estate Agents]</td>\n",
       "      <td>Las Vegas</td>\n",
       "      <td>1200 South Fourth St\\nDowntown\\nLas Vegas, NV ...</td>\n",
       "      <td>{'Monday': {'open': '09:00', 'close': '00:00'}...</td>\n",
       "      <td>36.157447</td>\n",
       "      <td>-115.150340</td>\n",
       "      <td>Brad Winston, CPA/Realtor-King of Condos, Inc.</td>\n",
       "      <td>[Downtown]</td>\n",
       "      <td>True</td>\n",
       "      <td>4</td>\n",
       "      <td>5.0</td>\n",
       "      <td>NV</td>\n",
       "      <td>business</td>\n",
       "    </tr>\n",
       "    <tr>\n",
       "      <th>85884</th>\n",
       "      <td>{'Price Range': 1, 'Take-out': True, 'Has TV':...</td>\n",
       "      <td>BiufIB-tejW9JqJdxUZJ5w</td>\n",
       "      <td>[Sandwiches, Restaurants]</td>\n",
       "      <td>Phoenix</td>\n",
       "      <td>4910 East Ray Rd\\nPhoenix, AZ 85044</td>\n",
       "      <td>{'Monday': {'open': '10:00', 'close': '22:00'}...</td>\n",
       "      <td>33.320454</td>\n",
       "      <td>-111.977342</td>\n",
       "      <td>Pita Pit</td>\n",
       "      <td>[]</td>\n",
       "      <td>True</td>\n",
       "      <td>5</td>\n",
       "      <td>5.0</td>\n",
       "      <td>AZ</td>\n",
       "      <td>business</td>\n",
       "    </tr>\n",
       "    <tr>\n",
       "      <th>85885</th>\n",
       "      <td>{'Outdoor Seating': False, 'Take-out': True, '...</td>\n",
       "      <td>ECRjdXYLhGzQjCoZKeq6qg</td>\n",
       "      <td>[Sushi Bars, Japanese, Restaurants]</td>\n",
       "      <td>North Las Vegas</td>\n",
       "      <td>4210 W Craig Rd\\nSte 100\\nNorth Las Vegas, NV ...</td>\n",
       "      <td>{'Monday': {'open': '11:30', 'close': '22:00'}...</td>\n",
       "      <td>36.239686</td>\n",
       "      <td>-115.196967</td>\n",
       "      <td>Tokyo Sushi House II</td>\n",
       "      <td>[]</td>\n",
       "      <td>True</td>\n",
       "      <td>15</td>\n",
       "      <td>3.0</td>\n",
       "      <td>NV</td>\n",
       "      <td>business</td>\n",
       "    </tr>\n",
       "    <tr>\n",
       "      <th>85886</th>\n",
       "      <td>{'Take-out': True, 'Has TV': False, 'Noise Lev...</td>\n",
       "      <td>mCiSmiZ7iNI08F6dGXP7tw</td>\n",
       "      <td>[Food, Desserts, Restaurants, Bakeries, Sandwi...</td>\n",
       "      <td>Las Vegas</td>\n",
       "      <td>7100 W Craig Rd\\nNorthwest\\nLas Vegas, NV 89129</td>\n",
       "      <td>{'Monday': {'open': '07:00', 'close': '22:00'}...</td>\n",
       "      <td>36.240983</td>\n",
       "      <td>-115.249473</td>\n",
       "      <td>Kneaders Bakery &amp; Cafe</td>\n",
       "      <td>[Northwest]</td>\n",
       "      <td>True</td>\n",
       "      <td>24</td>\n",
       "      <td>3.5</td>\n",
       "      <td>NV</td>\n",
       "      <td>business</td>\n",
       "    </tr>\n",
       "    <tr>\n",
       "      <th>85887</th>\n",
       "      <td>{'Parking': {'valet': False, 'validated': Fals...</td>\n",
       "      <td>csnolzm2mzbsohha4jSi-g</td>\n",
       "      <td>[Food, Beer, Wine &amp; Spirits, Grocery, Shopping...</td>\n",
       "      <td>Phoenix</td>\n",
       "      <td>1311 E Bell Rd\\nPhoenix, AZ 85022</td>\n",
       "      <td>{'Monday': {'open': '09:00', 'close': '21:00'}...</td>\n",
       "      <td>33.639310</td>\n",
       "      <td>-112.054317</td>\n",
       "      <td>Frys Marketplace</td>\n",
       "      <td>[]</td>\n",
       "      <td>True</td>\n",
       "      <td>21</td>\n",
       "      <td>2.5</td>\n",
       "      <td>AZ</td>\n",
       "      <td>business</td>\n",
       "    </tr>\n",
       "    <tr>\n",
       "      <th>85888</th>\n",
       "      <td>{'Accepts Credit Cards': True}</td>\n",
       "      <td>0c5BWTHCjKyxh4461H14IQ</td>\n",
       "      <td>[Pet Services, Event Photography, Photographer...</td>\n",
       "      <td>Las Vegas</td>\n",
       "      <td>Downtown\\nLas Vegas, NV</td>\n",
       "      <td>{'Monday': {'open': '08:00', 'close': '20:00'}...</td>\n",
       "      <td>36.171909</td>\n",
       "      <td>-115.139969</td>\n",
       "      <td>Photobetty Photography</td>\n",
       "      <td>[Downtown]</td>\n",
       "      <td>True</td>\n",
       "      <td>3</td>\n",
       "      <td>5.0</td>\n",
       "      <td>NV</td>\n",
       "      <td>business</td>\n",
       "    </tr>\n",
       "    <tr>\n",
       "      <th>85889</th>\n",
       "      <td>{'Dogs Allowed': True, 'Take-out': True, 'Has ...</td>\n",
       "      <td>TFCPmrQj9PD1WvnZGYO85Q</td>\n",
       "      <td>[Breakfast &amp; Brunch, American (New), Ramen, Ja...</td>\n",
       "      <td>Phoenix</td>\n",
       "      <td>4350 E Camelback Rd\\nBldg I-100\\nPhoenix, AZ 8...</td>\n",
       "      <td>{'Monday': {'open': '07:00', 'close': '14:00'}...</td>\n",
       "      <td>33.510044</td>\n",
       "      <td>-111.987108</td>\n",
       "      <td>Chestnut</td>\n",
       "      <td>[]</td>\n",
       "      <td>True</td>\n",
       "      <td>168</td>\n",
       "      <td>3.5</td>\n",
       "      <td>AZ</td>\n",
       "      <td>business</td>\n",
       "    </tr>\n",
       "    <tr>\n",
       "      <th>85890</th>\n",
       "      <td>{'Price Range': 2, 'Take-out': True, 'Has TV':...</td>\n",
       "      <td>hNX62vEzvdVsMUMmYYHoPQ</td>\n",
       "      <td>[Bars, American (Traditional), Breakfast &amp; Bru...</td>\n",
       "      <td>Laveen</td>\n",
       "      <td>5020 W Baseline Rd\\nSte 123\\nLaveen, AZ 85339</td>\n",
       "      <td>{'Monday': {'open': '07:00', 'close': '23:00'}...</td>\n",
       "      <td>33.378922</td>\n",
       "      <td>-112.166458</td>\n",
       "      <td>Greathouse Sports Grill</td>\n",
       "      <td>[]</td>\n",
       "      <td>True</td>\n",
       "      <td>4</td>\n",
       "      <td>2.0</td>\n",
       "      <td>AZ</td>\n",
       "      <td>business</td>\n",
       "    </tr>\n",
       "    <tr>\n",
       "      <th>85891</th>\n",
       "      <td>{}</td>\n",
       "      <td>Tc_jU5vqV6208ElA6lNk-A</td>\n",
       "      <td>[Bars, Nightlife]</td>\n",
       "      <td>Glendale</td>\n",
       "      <td>6770 North Sunrise Blvd\\nSte G109\\nGlendale, A...</td>\n",
       "      <td>{}</td>\n",
       "      <td>33.532930</td>\n",
       "      <td>-112.260691</td>\n",
       "      <td>Bar Louie</td>\n",
       "      <td>[]</td>\n",
       "      <td>False</td>\n",
       "      <td>18</td>\n",
       "      <td>2.5</td>\n",
       "      <td>AZ</td>\n",
       "      <td>business</td>\n",
       "    </tr>\n",
       "    <tr>\n",
       "      <th>85892</th>\n",
       "      <td>{'Accepts Credit Cards': True}</td>\n",
       "      <td>ezB4DWv1MjWwjbIjVNAb9A</td>\n",
       "      <td>[Home Services, Real Estate, Apartments]</td>\n",
       "      <td>Las Vegas</td>\n",
       "      <td>304 E Silverado Ranch Blvd\\nSoutheast\\nLas Veg...</td>\n",
       "      <td>{'Monday': {'open': '09:00', 'close': '18:00'}...</td>\n",
       "      <td>36.014080</td>\n",
       "      <td>-115.159018</td>\n",
       "      <td>Lyric Apartments</td>\n",
       "      <td>[Southeast]</td>\n",
       "      <td>True</td>\n",
       "      <td>5</td>\n",
       "      <td>2.0</td>\n",
       "      <td>NV</td>\n",
       "      <td>business</td>\n",
       "    </tr>\n",
       "    <tr>\n",
       "      <th>85894</th>\n",
       "      <td>{'Parking': {'valet': False, 'validated': Fals...</td>\n",
       "      <td>BxqRovZ76pJudWJE1tNXbg</td>\n",
       "      <td>[Hair Salons, Makeup Artists, Beauty &amp; Spas]</td>\n",
       "      <td>Phoenix</td>\n",
       "      <td>505 W Dunlap Ave\\nPhoenix, AZ 85021</td>\n",
       "      <td>{}</td>\n",
       "      <td>33.567251</td>\n",
       "      <td>-112.081407</td>\n",
       "      <td>Aries Unisex Salon</td>\n",
       "      <td>[]</td>\n",
       "      <td>True</td>\n",
       "      <td>4</td>\n",
       "      <td>5.0</td>\n",
       "      <td>AZ</td>\n",
       "      <td>business</td>\n",
       "    </tr>\n",
       "    <tr>\n",
       "      <th>85895</th>\n",
       "      <td>{}</td>\n",
       "      <td>R4BA2eTM1jeIEq31EVlE4g</td>\n",
       "      <td>[Gift Shops, Flowers &amp; Gifts, Shopping, Souven...</td>\n",
       "      <td>Las Vegas</td>\n",
       "      <td>3377 S Las Vegas Blvd\\nSte 2020\\nThe Strip\\nLa...</td>\n",
       "      <td>{'Monday': {'open': '10:00', 'close': '23:00'}...</td>\n",
       "      <td>36.121243</td>\n",
       "      <td>-115.171349</td>\n",
       "      <td>Citta Delle Luci</td>\n",
       "      <td>[The Strip]</td>\n",
       "      <td>True</td>\n",
       "      <td>3</td>\n",
       "      <td>3.0</td>\n",
       "      <td>NV</td>\n",
       "      <td>business</td>\n",
       "    </tr>\n",
       "    <tr>\n",
       "      <th>85896</th>\n",
       "      <td>{'Accepts Credit Cards': True}</td>\n",
       "      <td>m7-3lyY0CJEhePfJKWtD3w</td>\n",
       "      <td>[Bridal, Fashion, Shopping, Formal Wear]</td>\n",
       "      <td>Las Vegas</td>\n",
       "      <td>3899 East Sunset Rd\\nSte 105\\nLas Vegas, NV 89120</td>\n",
       "      <td>{'Tuesday': {'open': '10:00', 'close': '18:00'...</td>\n",
       "      <td>36.070535</td>\n",
       "      <td>-115.089318</td>\n",
       "      <td>Bowties Bridal</td>\n",
       "      <td>[]</td>\n",
       "      <td>True</td>\n",
       "      <td>61</td>\n",
       "      <td>4.0</td>\n",
       "      <td>NV</td>\n",
       "      <td>business</td>\n",
       "    </tr>\n",
       "    <tr>\n",
       "      <th>85897</th>\n",
       "      <td>{'Take-out': True, 'Has TV': True, 'Noise Leve...</td>\n",
       "      <td>g0vvhkZWZKlwF8BUeSPaTA</td>\n",
       "      <td>[Mexican, Restaurants]</td>\n",
       "      <td>Goodyear</td>\n",
       "      <td>525 N Estrella Pkwy\\nSte 100\\nGoodyear, AZ 85338</td>\n",
       "      <td>{}</td>\n",
       "      <td>33.452205</td>\n",
       "      <td>-112.392009</td>\n",
       "      <td>Senor Taco</td>\n",
       "      <td>[]</td>\n",
       "      <td>True</td>\n",
       "      <td>89</td>\n",
       "      <td>3.5</td>\n",
       "      <td>AZ</td>\n",
       "      <td>business</td>\n",
       "    </tr>\n",
       "    <tr>\n",
       "      <th>85898</th>\n",
       "      <td>{}</td>\n",
       "      <td>46L_7y9QXffPpOaXNLX8hg</td>\n",
       "      <td>[Car Wash, Automotive]</td>\n",
       "      <td>Phoenix</td>\n",
       "      <td>9215 North 7th St\\nPhoenix, AZ 85020</td>\n",
       "      <td>{'Monday': {'open': '07:00', 'close': '18:00'}...</td>\n",
       "      <td>33.570417</td>\n",
       "      <td>-112.064854</td>\n",
       "      <td>Cobblestone Auto Spa</td>\n",
       "      <td>[]</td>\n",
       "      <td>True</td>\n",
       "      <td>7</td>\n",
       "      <td>3.0</td>\n",
       "      <td>AZ</td>\n",
       "      <td>business</td>\n",
       "    </tr>\n",
       "    <tr>\n",
       "      <th>85900</th>\n",
       "      <td>{}</td>\n",
       "      <td>DH2Ujt_hwcMBIz8VvCb0Lg</td>\n",
       "      <td>[Mexican, Restaurants]</td>\n",
       "      <td>Charlotte</td>\n",
       "      <td>Charlotte Douglas International Airport Termin...</td>\n",
       "      <td>{}</td>\n",
       "      <td>35.224223</td>\n",
       "      <td>-80.940290</td>\n",
       "      <td>Salsarita's Express</td>\n",
       "      <td>[]</td>\n",
       "      <td>True</td>\n",
       "      <td>57</td>\n",
       "      <td>2.5</td>\n",
       "      <td>NC</td>\n",
       "      <td>business</td>\n",
       "    </tr>\n",
       "  </tbody>\n",
       "</table>\n",
       "<p>72145 rows × 15 columns</p>\n",
       "</div>"
      ],
      "text/plain": [
       "                                              attributes  \\\n",
       "0      {'Take-out': True, 'Has TV': False, 'Noise Lev...   \n",
       "1      {'Outdoor Seating': False, 'Good For Groups': ...   \n",
       "2                                {'Good for Kids': True}   \n",
       "3      {'Good For Groups': True, 'Has TV': True, 'Smo...   \n",
       "4      {'Parking': {'valet': False, 'validated': Fals...   \n",
       "5      {'Good For Groups': True, 'Has TV': True, 'Smo...   \n",
       "6                         {'Accepts Credit Cards': True}   \n",
       "7                                {'Good for Kids': True}   \n",
       "8                                                     {}   \n",
       "9                                                     {}   \n",
       "10                                     {'Wi-Fi': 'free'}   \n",
       "11                                                    {}   \n",
       "12     {'Take-out': True, 'Good For Groups': True, 'P...   \n",
       "13     {'Parking': {'valet': False, 'validated': Fals...   \n",
       "14                                                    {}   \n",
       "15                        {'Accepts Credit Cards': True}   \n",
       "16                                                    {}   \n",
       "17     {'Dogs Allowed': False, 'Good For Groups': Tru...   \n",
       "18     {'Good For Groups': False, 'Has TV': True, 'Co...   \n",
       "19     {'Take-out': True, 'Has TV': False, 'Noise Lev...   \n",
       "20     {'Price Range': 2, 'Wi-Fi': 'free', 'Accepts C...   \n",
       "21     {'Take-out': True, 'Has TV': True, 'Noise Leve...   \n",
       "22                                                    {}   \n",
       "23                       {'Accepts Credit Cards': False}   \n",
       "24     {'Take-out': True, 'Has TV': False, 'Noise Lev...   \n",
       "25                         {'By Appointment Only': True}   \n",
       "26     {'Take-out': True, 'Has TV': True, 'Noise Leve...   \n",
       "27                                                    {}   \n",
       "28     {'Take-out': True, 'Has TV': False, 'Noise Lev...   \n",
       "29     {'Parking': {'valet': False, 'validated': Fals...   \n",
       "...                                                  ...   \n",
       "85866  {'Accepts Credit Cards': True, 'Good for Kids'...   \n",
       "85867  {'Take-out': True, 'Has TV': False, 'Noise Lev...   \n",
       "85868  {'Parking': {'valet': False, 'validated': Fals...   \n",
       "85869  {'Outdoor Seating': True, 'Has TV': True, 'Whe...   \n",
       "85870  {'Take-out': True, 'Has TV': False, 'Noise Lev...   \n",
       "85871  {'Parking': {'valet': False, 'validated': Fals...   \n",
       "85873                                                 {}   \n",
       "85874  {'Outdoor Seating': True, 'Take-out': True, 'G...   \n",
       "85875                                                 {}   \n",
       "85878                            {'Good for Kids': True}   \n",
       "85879                                                 {}   \n",
       "85880  {'Take-out': True, 'Has TV': False, 'Noise Lev...   \n",
       "85881  {'Price Range': 3, 'Take-out': True, 'Has TV':...   \n",
       "85882  {'Parking': {'valet': False, 'validated': Fals...   \n",
       "85883                                                 {}   \n",
       "85884  {'Price Range': 1, 'Take-out': True, 'Has TV':...   \n",
       "85885  {'Outdoor Seating': False, 'Take-out': True, '...   \n",
       "85886  {'Take-out': True, 'Has TV': False, 'Noise Lev...   \n",
       "85887  {'Parking': {'valet': False, 'validated': Fals...   \n",
       "85888                     {'Accepts Credit Cards': True}   \n",
       "85889  {'Dogs Allowed': True, 'Take-out': True, 'Has ...   \n",
       "85890  {'Price Range': 2, 'Take-out': True, 'Has TV':...   \n",
       "85891                                                 {}   \n",
       "85892                     {'Accepts Credit Cards': True}   \n",
       "85894  {'Parking': {'valet': False, 'validated': Fals...   \n",
       "85895                                                 {}   \n",
       "85896                     {'Accepts Credit Cards': True}   \n",
       "85897  {'Take-out': True, 'Has TV': True, 'Noise Leve...   \n",
       "85898                                                 {}   \n",
       "85900                                                 {}   \n",
       "\n",
       "                  business_id  \\\n",
       "0      5UmKMjUEUNdYWqANhGckJw   \n",
       "1      UsFtqoBl7naz8AVUBZMjQQ   \n",
       "2      cE27W9VPgO88Qxe4ol6y_g   \n",
       "3      mVHrayjG3uZ_RLHkLj-AMg   \n",
       "4      mYSpR_SLPgUVymYOvTQd_Q   \n",
       "5      KayYbHCt-RkbGcPdGOThNg   \n",
       "6      b12U9TFESStdy7CsTtcOeg   \n",
       "7      Sktj1eHQFuVa-M4bgnEh8g   \n",
       "8      3ZVKmuK2l7uXPE6lXY4Dbg   \n",
       "9      QoDa50dc7g62xciFygXB9w   \n",
       "10     1_lU0-eSWJCRvNGk78Zh9Q   \n",
       "11     _qopVQ6_Mz6W7-Pmbi56GQ   \n",
       "12     wJr6kSA5dchdgOdwH6dZ2w   \n",
       "13     yXuao0pFz1AxB21vJjDf5w   \n",
       "14     LLJMI-_fSp6OYQuY4rwarw   \n",
       "15     F04xyOUA2xnUoCiWpx9iJA   \n",
       "16     Cdcus0NADzyY3XiJM2O5Sg   \n",
       "17     fNGIbpazjTRdXgwRY_NIXA   \n",
       "18     b9WZJp5L1RZr4F1nxclOoQ   \n",
       "19     zaXDakTd3RXyOa7sMrUE1g   \n",
       "20     zgy27FSnvwdINfk5cXBIyQ   \n",
       "21     WETE_LykpcnrC1sFcQ5EGg   \n",
       "22     6o3RK6rTcN3nw-j-r2nQmA   \n",
       "23     woOVJ0Z2f6XNCDntHA3b_g   \n",
       "24     rv7CY8G_XibTx82YhuqQRw   \n",
       "25     e_U_FnpdKVgNb4mUN2cU_Q   \n",
       "26     SQ0j7bgSTazkVQlF5AnqyQ   \n",
       "27     LTXS986DAz-4jE_sV2Ui4w   \n",
       "28     wqu7ILomIOPSduRwoWp4AQ   \n",
       "29     1u2NauOy8xDj7aFQET680A   \n",
       "...                       ...   \n",
       "85866  ceobxf5bpSmIZMWqwWad1w   \n",
       "85867  D-vMDv5NlLb9od6sqXtX8A   \n",
       "85868  xppcCbZet-xToM83enlieg   \n",
       "85869  YoryL0t3x8T2wfD96Xs6Kw   \n",
       "85870  OqZhUPDGmzu_k8jiyEhX6g   \n",
       "85871  EB7_p4M5whur3KWesXE6gw   \n",
       "85873  iFX50dGCzWkVyunSZUzoiw   \n",
       "85874  5PGbTsWR0UN9QuzN2XljyQ   \n",
       "85875  xoMhBZHpY40EAyy6iQ_I-A   \n",
       "85878  5JDMpRduKnuPz-1OsF0I_A   \n",
       "85879  C6_IoaDD3mddplTXdbKGEg   \n",
       "85880  UByngND8rAr6Qu2il34Qrw   \n",
       "85881  FcvkAc_OTDOOLLEln3jlxA   \n",
       "85882  h1aZ3B_i83ccUcjgtRfMaA   \n",
       "85883  ieZDYoAEq0xV4budBDOU6w   \n",
       "85884  BiufIB-tejW9JqJdxUZJ5w   \n",
       "85885  ECRjdXYLhGzQjCoZKeq6qg   \n",
       "85886  mCiSmiZ7iNI08F6dGXP7tw   \n",
       "85887  csnolzm2mzbsohha4jSi-g   \n",
       "85888  0c5BWTHCjKyxh4461H14IQ   \n",
       "85889  TFCPmrQj9PD1WvnZGYO85Q   \n",
       "85890  hNX62vEzvdVsMUMmYYHoPQ   \n",
       "85891  Tc_jU5vqV6208ElA6lNk-A   \n",
       "85892  ezB4DWv1MjWwjbIjVNAb9A   \n",
       "85894  BxqRovZ76pJudWJE1tNXbg   \n",
       "85895  R4BA2eTM1jeIEq31EVlE4g   \n",
       "85896  m7-3lyY0CJEhePfJKWtD3w   \n",
       "85897  g0vvhkZWZKlwF8BUeSPaTA   \n",
       "85898  46L_7y9QXffPpOaXNLX8hg   \n",
       "85900  DH2Ujt_hwcMBIz8VvCb0Lg   \n",
       "\n",
       "                                              categories             city  \\\n",
       "0                               [Fast Food, Restaurants]       Dravosburg   \n",
       "1                                            [Nightlife]       Dravosburg   \n",
       "2                         [Active Life, Mini Golf, Golf]      Bethel Park   \n",
       "3      [Bars, American (New), Nightlife, Lounges, Res...         Braddock   \n",
       "4                                    [Active Life, Golf]         Braddock   \n",
       "5      [Bars, American (Traditional), Nightlife, Rest...         Carnegie   \n",
       "6                       [Auto Repair, Automotive, Tires]         Carnegie   \n",
       "7                               [Active Life, Mini Golf]         Carnegie   \n",
       "8      [Roofing, Home Services, Decks & Railing, Cont...         Carnegie   \n",
       "9                                  [Veterinarians, Pets]       Pittsburgh   \n",
       "10             [Libraries, Public Services & Government]         Carnegie   \n",
       "11                   [Automotive, Auto Parts & Supplies]         Carnegie   \n",
       "12     [Burgers, Breakfast & Brunch, American (Tradit...         Carnegie   \n",
       "13                                       [Food, Grocery]         Carnegie   \n",
       "14                  [Automotive, Gas & Service Stations]         Carnegie   \n",
       "15     [Local Services, Dry Cleaning & Laundry, Sewin...         Carnegie   \n",
       "16                  [Automotive, Gas & Service Stations]         Carnegie   \n",
       "17     [Bars, American (Traditional), Nightlife, Loun...         Carnegie   \n",
       "18         [Breakfast & Brunch, Sandwiches, Restaurants]         Carnegie   \n",
       "19                                  [Cafes, Restaurants]         Carnegie   \n",
       "20     [Hotels & Travel, Event Planning & Services, H...         Carnegie   \n",
       "21           [Pubs, Irish, Nightlife, Bars, Restaurants]         Carnegie   \n",
       "22                                  [Pizza, Restaurants]         Carnegie   \n",
       "23                [Local Services, Sewing & Alterations]         Carnegie   \n",
       "24                                         [Restaurants]         Carnegie   \n",
       "25       [Health & Medical, Dentists, General Dentistry]         Carnegie   \n",
       "26                                [Chinese, Restaurants]         Carnegie   \n",
       "27                                 [Veterinarians, Pets]       Heidelberg   \n",
       "28     [Breakfast & Brunch, American (Traditional), D...       Pittsburgh   \n",
       "29     [Active Life, Boxing, Gyms, Fitness & Instruct...         Carnegie   \n",
       "...                                                  ...              ...   \n",
       "85866             [Soup, Sandwiches, Salad, Restaurants]            Tempe   \n",
       "85867  [Food, Fast Food, Asian Fusion, Poke, Restaura...        Las Vegas   \n",
       "85868  [Active Life, Dance Studios, Pilates, Yoga, Fi...        Las Vegas   \n",
       "85869  [Adult Entertainment, Party & Event Planning, ...        Las Vegas   \n",
       "85870  [American (Traditional), Fast Food, Chicken Wi...         Chandler   \n",
       "85871  [Active Life, Gyms, Trainers, Fitness & Instru...        Las Vegas   \n",
       "85873  [Bakeries, Bars, Food, Wine Bars, Nightlife, I...       Scottsdale   \n",
       "85874                               [Food, Coffee & Tea]          Phoenix   \n",
       "85875  [Hair Salons, Hair Extensions, Nail Salons, Ey...        Las Vegas   \n",
       "85878                                     [Local Flavor]        Las Vegas   \n",
       "85879                        [Yelp Events, Local Flavor]        Charlotte   \n",
       "85880                   [Sandwiches, Salad, Restaurants]       Scottsdale   \n",
       "85881  [Asian Fusion, Sushi Bars, Japanese, Restaurants]          Phoenix   \n",
       "85882   [Skin Care, Waxing, Hair Removal, Beauty & Spas]       Scottsdale   \n",
       "85883   [Real Estate, Home Services, Real Estate Agents]        Las Vegas   \n",
       "85884                          [Sandwiches, Restaurants]          Phoenix   \n",
       "85885                [Sushi Bars, Japanese, Restaurants]  North Las Vegas   \n",
       "85886  [Food, Desserts, Restaurants, Bakeries, Sandwi...        Las Vegas   \n",
       "85887  [Food, Beer, Wine & Spirits, Grocery, Shopping...          Phoenix   \n",
       "85888  [Pet Services, Event Photography, Photographer...        Las Vegas   \n",
       "85889  [Breakfast & Brunch, American (New), Ramen, Ja...          Phoenix   \n",
       "85890  [Bars, American (Traditional), Breakfast & Bru...           Laveen   \n",
       "85891                                  [Bars, Nightlife]         Glendale   \n",
       "85892           [Home Services, Real Estate, Apartments]        Las Vegas   \n",
       "85894       [Hair Salons, Makeup Artists, Beauty & Spas]          Phoenix   \n",
       "85895  [Gift Shops, Flowers & Gifts, Shopping, Souven...        Las Vegas   \n",
       "85896           [Bridal, Fashion, Shopping, Formal Wear]        Las Vegas   \n",
       "85897                             [Mexican, Restaurants]         Goodyear   \n",
       "85898                             [Car Wash, Automotive]          Phoenix   \n",
       "85900                             [Mexican, Restaurants]        Charlotte   \n",
       "\n",
       "                                            full_address  \\\n",
       "0           4734 Lebanon Church Rd\\nDravosburg, PA 15034   \n",
       "1                   202 McClure St\\nDravosburg, PA 15034   \n",
       "2                1530 Hamilton Rd\\nBethel Park, PA 15234   \n",
       "3                    414 Hawkins Ave\\nBraddock, PA 15104   \n",
       "4                  1000 Clubhouse Dr\\nBraddock, PA 15104   \n",
       "5        141 Hawthorne St\\nGreentree\\nCarnegie, PA 15106   \n",
       "6                718A Hope Hollow Rd\\nCarnegie, PA 15106   \n",
       "7          920 Forsythe Rd\\nCarnegie\\nCarnegie, PA 15106   \n",
       "8               8 Logan St\\nCarnegie\\nCarnegie, PA 15106   \n",
       "9                2080 Greentree Rd\\nPittsburgh, PA 15220   \n",
       "10       300 Beechwood Ave\\nCarnegie\\nCarnegie, PA 15106   \n",
       "11               1011 Washington Ave\\nCarnegie, PA 15106   \n",
       "12              2100 Washington Pike\\nCarnegie, PA 15106   \n",
       "13              2100 Washington Pike\\nCarnegie, PA 15106   \n",
       "14           341 E Main St\\nCarnegie\\nCarnegie, PA 15106   \n",
       "15       Bower Hill Rd & Vanadium Rd\\nCarnegie, PA 15106   \n",
       "16                1927 E Railroad St\\nCarnegie, PA 15106   \n",
       "17               1201 Washington Ave\\nCarnegie, PA 15106   \n",
       "18               1073 Washington Ave\\nCarnegie, PA 15106   \n",
       "19             202 3rd Ave\\nCarnegie\\nCarnegie, PA 15106   \n",
       "20     520 North Bell Avenue\\nCarnegie\\nCarnegie, PA ...   \n",
       "21           215 E Main St\\nCarnegie\\nCarnegie, PA 15106   \n",
       "22           231 E Main St\\nCarnegie\\nCarnegie, PA 15106   \n",
       "23          117 E Mall Plz\\nCarnegie\\nCarnegie, PA 15106   \n",
       "24                       Raceway Plz\\nCarnegie, PA 15106   \n",
       "25                 2323 Greentree Rd\\nCarnegie, PA 15106   \n",
       "26           214 E Main St\\nCarnegie\\nCarnegie, PA 15106   \n",
       "27              1747 E Railroad St\\nHeidelberg, PA 15106   \n",
       "28               2180 Greentree Rd\\nPittsburgh, PA 15220   \n",
       "29                   100 Roessler Rd\\nCarnegie, PA 15106   \n",
       "...                                                  ...   \n",
       "85866  Tempe Marketplace\\n2000 E Rio Salado Pkwy\\nTem...   \n",
       "85867  6040 W Badura Ave\\nSte 150\\nSpring Valley\\nLas...   \n",
       "85868  4720 West Sahara Ave\\nWestside\\nLas Vegas, NV ...   \n",
       "85869                           The Strip\\nLas Vegas, NV   \n",
       "85870             4075 S Arizona Ave\\nChandler, AZ 85248   \n",
       "85871               4775 Quality Ct\\nLas Vegas, NV 89103   \n",
       "85873             11485 N 136th St\\nScottsdale, AZ 85259   \n",
       "85874               718 N Central Ave\\nPhoenix, AZ 85004   \n",
       "85875  8680 W Warm Springs Rd\\nSte 13\\nSouthwest\\nLas...   \n",
       "85878     300 Stewart Ave\\nDowntown\\nLas Vegas, NV 89101   \n",
       "85879      1608 East Blvd\\nDilworth\\nCharlotte, NC 28203   \n",
       "85880  16495 N Scottsdale Rd\\nSte 105\\nScottsdale, AZ...   \n",
       "85881          5538 N 7th St\\nSte 110\\nPhoenix, AZ 85014   \n",
       "85882             3301 N Miller Rd\\nScottsdale, AZ 85251   \n",
       "85883  1200 South Fourth St\\nDowntown\\nLas Vegas, NV ...   \n",
       "85884                4910 East Ray Rd\\nPhoenix, AZ 85044   \n",
       "85885  4210 W Craig Rd\\nSte 100\\nNorth Las Vegas, NV ...   \n",
       "85886    7100 W Craig Rd\\nNorthwest\\nLas Vegas, NV 89129   \n",
       "85887                  1311 E Bell Rd\\nPhoenix, AZ 85022   \n",
       "85888                            Downtown\\nLas Vegas, NV   \n",
       "85889  4350 E Camelback Rd\\nBldg I-100\\nPhoenix, AZ 8...   \n",
       "85890      5020 W Baseline Rd\\nSte 123\\nLaveen, AZ 85339   \n",
       "85891  6770 North Sunrise Blvd\\nSte G109\\nGlendale, A...   \n",
       "85892  304 E Silverado Ranch Blvd\\nSoutheast\\nLas Veg...   \n",
       "85894                505 W Dunlap Ave\\nPhoenix, AZ 85021   \n",
       "85895  3377 S Las Vegas Blvd\\nSte 2020\\nThe Strip\\nLa...   \n",
       "85896  3899 East Sunset Rd\\nSte 105\\nLas Vegas, NV 89120   \n",
       "85897   525 N Estrella Pkwy\\nSte 100\\nGoodyear, AZ 85338   \n",
       "85898               9215 North 7th St\\nPhoenix, AZ 85020   \n",
       "85900  Charlotte Douglas International Airport Termin...   \n",
       "\n",
       "                                                   hours   latitude  \\\n",
       "0      {'Tuesday': {'open': '11:00', 'close': '21:00'...  40.354327   \n",
       "1                                                     {}  40.350553   \n",
       "2                                                     {}  40.354115   \n",
       "3      {'Tuesday': {'open': '10:00', 'close': '19:00'...  40.408830   \n",
       "4      {'Thursday': {'open': '11:00', 'close': '20:00...  40.403405   \n",
       "5      {'Monday': {'open': '11:00', 'close': '02:00'}...  40.415486   \n",
       "6      {'Monday': {'open': '07:30', 'close': '18:00'}...  40.394588   \n",
       "7                                                     {}  40.405404   \n",
       "8                                                     {}  40.406281   \n",
       "9                                                     {}  40.392207   \n",
       "10                                                    {}  40.406842   \n",
       "11                                                    {}  40.398353   \n",
       "12     {'Monday': {'open': '08:00', 'close': '02:00'}...  40.387512   \n",
       "13     {'Monday': {'open': '00:00', 'close': '00:00'}...  40.387512   \n",
       "14                                                    {}  40.409998   \n",
       "15                                                    {}  40.368825   \n",
       "16                                                    {}  40.388284   \n",
       "17     {'Monday': {'open': '11:00', 'close': '23:00'}...  40.396469   \n",
       "18     {'Monday': {'open': '06:00', 'close': '14:30'}...  40.398001   \n",
       "19     {'Monday': {'open': '07:00', 'close': '14:00'}...  40.404638   \n",
       "20     {'Monday': {'open': '00:00', 'close': '00:00'}...  40.417419   \n",
       "21                                                    {}  40.408670   \n",
       "22     {'Monday': {'open': '11:00', 'close': '22:00'}...  40.408832   \n",
       "23     {'Monday': {'open': '08:30', 'close': '19:00'}...  40.406871   \n",
       "24                                                    {}  40.386891   \n",
       "25                                                    {}  40.390760   \n",
       "26                                                    {}  40.408347   \n",
       "27     {'Monday': {'open': '09:00', 'close': '19:00'}...  40.390569   \n",
       "28     {'Monday': {'open': '00:00', 'close': '00:00'}...  40.391140   \n",
       "29     {'Monday': {'open': '05:30', 'close': '22:00'}...  40.394305   \n",
       "...                                                  ...        ...   \n",
       "85866                                                 {}  33.432927   \n",
       "85867  {'Monday': {'open': '11:00', 'close': '21:00'}...  36.062737   \n",
       "85868  {'Monday': {'open': '10:00', 'close': '20:00'}...  36.147556   \n",
       "85869  {'Monday': {'open': '00:00', 'close': '00:00'}...  36.133201   \n",
       "85870  {'Monday': {'open': '09:00', 'close': '00:00'}...  33.246349   \n",
       "85871  {'Monday': {'open': '05:00', 'close': '21:00'}...  36.105608   \n",
       "85873  {'Tuesday': {'open': '17:00', 'close': '22:00'...  33.590790   \n",
       "85874  {'Monday': {'open': '06:00', 'close': '00:00'}...  33.456388   \n",
       "85875  {'Monday': {'open': '08:00', 'close': '22:00'}...  36.056214   \n",
       "85878   {'Tuesday': {'open': '18:00', 'close': '20:00'}}  36.172815   \n",
       "85879                                                 {}  35.199185   \n",
       "85880  {'Monday': {'open': '11:00', 'close': '19:00'}...  33.635558   \n",
       "85881  {'Monday': {'open': '11:00', 'close': '22:00'}...  33.517942   \n",
       "85882  {'Monday': {'open': '13:00', 'close': '19:00'}...  33.486405   \n",
       "85883  {'Monday': {'open': '09:00', 'close': '00:00'}...  36.157447   \n",
       "85884  {'Monday': {'open': '10:00', 'close': '22:00'}...  33.320454   \n",
       "85885  {'Monday': {'open': '11:30', 'close': '22:00'}...  36.239686   \n",
       "85886  {'Monday': {'open': '07:00', 'close': '22:00'}...  36.240983   \n",
       "85887  {'Monday': {'open': '09:00', 'close': '21:00'}...  33.639310   \n",
       "85888  {'Monday': {'open': '08:00', 'close': '20:00'}...  36.171909   \n",
       "85889  {'Monday': {'open': '07:00', 'close': '14:00'}...  33.510044   \n",
       "85890  {'Monday': {'open': '07:00', 'close': '23:00'}...  33.378922   \n",
       "85891                                                 {}  33.532930   \n",
       "85892  {'Monday': {'open': '09:00', 'close': '18:00'}...  36.014080   \n",
       "85894                                                 {}  33.567251   \n",
       "85895  {'Monday': {'open': '10:00', 'close': '23:00'}...  36.121243   \n",
       "85896  {'Tuesday': {'open': '10:00', 'close': '18:00'...  36.070535   \n",
       "85897                                                 {}  33.452205   \n",
       "85898  {'Monday': {'open': '07:00', 'close': '18:00'}...  33.570417   \n",
       "85900                                                 {}  35.224223   \n",
       "\n",
       "        longitude                                            name  \\\n",
       "0      -79.900706                                       Mr Hoagie   \n",
       "1      -79.886814                                    Clancy's Pub   \n",
       "2      -80.014660                        Cool Springs Golf Center   \n",
       "3      -79.866211                                   Emil's Lounge   \n",
       "4      -79.855782                            Grand View Golf Club   \n",
       "5      -80.067549                           Alexion's Bar & Grill   \n",
       "6      -80.084454                     Flynn's Tire & Auto Service   \n",
       "7      -80.076267                Forsythe Miniature Golf & Snacks   \n",
       "8      -80.090390                       Quaker State Construction   \n",
       "9      -80.069134                         Greentree Animal Clinic   \n",
       "10     -80.085866                           Carnegie Free Library   \n",
       "11     -80.082452                              Advance Auto Parts   \n",
       "12     -80.093215                         Kings Family Restaurant   \n",
       "13     -80.093215                                    Shop N' Save   \n",
       "14     -80.083366                          Knorr's Sunoco Service   \n",
       "15     -80.084354                      Rossi Tailoring & Cleaners   \n",
       "16     -80.089241                                  Heidelberg B P   \n",
       "17     -80.084942                                  Rocky's Lounge   \n",
       "18     -80.083458                                       Gab & Eat   \n",
       "19     -80.089985                    Barb's Country Junction Cafe   \n",
       "20     -80.088557   Extended Stay America - Pittsburgh - Carnegie   \n",
       "21     -80.085279                              Paddy's Pour House   \n",
       "22     -80.084934                      Porto Fino Pizzaria & Gyro   \n",
       "23     -80.087605                                Alteration World   \n",
       "24     -80.093704                              Long John Silver's   \n",
       "25     -80.078657                              Weinberg Lisa, DMD   \n",
       "26     -80.084962                      Don Don Chinese Restaurant   \n",
       "27     -80.087898                       Chartiers Animal Hospital   \n",
       "28     -80.073788                                         Denny's   \n",
       "29     -80.060154                                        Amerifit   \n",
       "...           ...                                             ...   \n",
       "85866 -111.905575                                    Panera Bread   \n",
       "85867 -115.223679                            Soho Sushi Bowlrrito   \n",
       "85868 -115.207116                           DYP Dance And Fitness   \n",
       "85869 -115.164227             Chris Cowette - Vegas Club Promoter   \n",
       "85870 -111.840639                                  Raising Cane's   \n",
       "85871 -115.205611                              Kanoa Strength Gym   \n",
       "85873 -111.786674                         CM2 Pizzeria & Bakeshop   \n",
       "85874 -112.074092                The Grand Central Coffee Company   \n",
       "85875 -115.281151                               Sexy3D Extensions   \n",
       "85878 -115.141243                  YEE: \"Greed\" at The Mob Museum   \n",
       "85879  -80.841449                 YEE: An Evening With Kid Cashew   \n",
       "85880 -111.921071                               The Chicken Scoop   \n",
       "85881 -112.065448                               Pure Sushi Colony   \n",
       "85882 -111.917149                                   Skin Awakened   \n",
       "85883 -115.150340  Brad Winston, CPA/Realtor-King of Condos, Inc.   \n",
       "85884 -111.977342                                        Pita Pit   \n",
       "85885 -115.196967                            Tokyo Sushi House II   \n",
       "85886 -115.249473                          Kneaders Bakery & Cafe   \n",
       "85887 -112.054317                                Frys Marketplace   \n",
       "85888 -115.139969                          Photobetty Photography   \n",
       "85889 -111.987108                                        Chestnut   \n",
       "85890 -112.166458                         Greathouse Sports Grill   \n",
       "85891 -112.260691                                       Bar Louie   \n",
       "85892 -115.159018                                Lyric Apartments   \n",
       "85894 -112.081407                              Aries Unisex Salon   \n",
       "85895 -115.171349                                Citta Delle Luci   \n",
       "85896 -115.089318                                  Bowties Bridal   \n",
       "85897 -112.392009                                      Senor Taco   \n",
       "85898 -112.064854                            Cobblestone Auto Spa   \n",
       "85900  -80.940290                             Salsarita's Express   \n",
       "\n",
       "                    neighborhoods   open  review_count  stars state      type  \n",
       "0                              []   True             7    3.5    PA  business  \n",
       "1                              []   True             5    3.0    PA  business  \n",
       "2                              []  False             5    2.5    PA  business  \n",
       "3                              []   True            26    4.5    PA  business  \n",
       "4                              []   True             3    5.0    PA  business  \n",
       "5                     [Greentree]   True            23    4.0    PA  business  \n",
       "6                              []   True             9    2.5    PA  business  \n",
       "7                      [Carnegie]  False             4    4.0    PA  business  \n",
       "8                      [Carnegie]   True             3    2.5    PA  business  \n",
       "9                              []   True             7    4.0    PA  business  \n",
       "10                     [Carnegie]   True             4    4.5    PA  business  \n",
       "11                             []   True             3    3.5    PA  business  \n",
       "12                             []   True            10    3.5    PA  business  \n",
       "13                             []   True             5    4.0    PA  business  \n",
       "14                     [Carnegie]   True             3    3.5    PA  business  \n",
       "15                             []   True             3    3.0    PA  business  \n",
       "16                             []  False             4    3.0    PA  business  \n",
       "17                             []   True            10    4.0    PA  business  \n",
       "18                             []   True            69    4.5    PA  business  \n",
       "19                     [Carnegie]   True             9    4.0    PA  business  \n",
       "20                     [Carnegie]   True            11    3.5    PA  business  \n",
       "21                     [Carnegie]  False             8    3.5    PA  business  \n",
       "22                     [Carnegie]   True             4    2.5    PA  business  \n",
       "23                     [Carnegie]   True            10    4.5    PA  business  \n",
       "24                             []   True             6    3.0    PA  business  \n",
       "25                             []   True             8    2.5    PA  business  \n",
       "26                     [Carnegie]   True            10    2.5    PA  business  \n",
       "27                             []   True             3    3.5    PA  business  \n",
       "28                             []   True            16    3.5    PA  business  \n",
       "29                             []   True             8    3.0    PA  business  \n",
       "...                           ...    ...           ...    ...   ...       ...  \n",
       "85866                          []   True             9    2.5    AZ  business  \n",
       "85867             [Spring Valley]   True            27    4.5    NV  business  \n",
       "85868                  [Westside]   True             7    5.0    NV  business  \n",
       "85869                 [The Strip]   True             6    5.0    NV  business  \n",
       "85870                          []   True            13    4.0    AZ  business  \n",
       "85871                          []   True             5    5.0    NV  business  \n",
       "85873                          []   True             6    5.0    AZ  business  \n",
       "85874                          []   True            16    4.0    AZ  business  \n",
       "85875  [Southwest, Spring Valley]   True             7    5.0    NV  business  \n",
       "85878                  [Downtown]   True             8    5.0    NV  business  \n",
       "85879                  [Dilworth]   True            32    5.0    NC  business  \n",
       "85880                          []   True            23    4.0    AZ  business  \n",
       "85881                          []   True            18    4.0    AZ  business  \n",
       "85882                          []   True             3    5.0    AZ  business  \n",
       "85883                  [Downtown]   True             4    5.0    NV  business  \n",
       "85884                          []   True             5    5.0    AZ  business  \n",
       "85885                          []   True            15    3.0    NV  business  \n",
       "85886                 [Northwest]   True            24    3.5    NV  business  \n",
       "85887                          []   True            21    2.5    AZ  business  \n",
       "85888                  [Downtown]   True             3    5.0    NV  business  \n",
       "85889                          []   True           168    3.5    AZ  business  \n",
       "85890                          []   True             4    2.0    AZ  business  \n",
       "85891                          []  False            18    2.5    AZ  business  \n",
       "85892                 [Southeast]   True             5    2.0    NV  business  \n",
       "85894                          []   True             4    5.0    AZ  business  \n",
       "85895                 [The Strip]   True             3    3.0    NV  business  \n",
       "85896                          []   True            61    4.0    NV  business  \n",
       "85897                          []   True            89    3.5    AZ  business  \n",
       "85898                          []   True             7    3.0    AZ  business  \n",
       "85900                          []   True            57    2.5    NC  business  \n",
       "\n",
       "[72145 rows x 15 columns]"
      ]
     },
     "execution_count": 755,
     "metadata": {},
     "output_type": "execute_result"
    }
   ],
   "source": [
    "business_state[(abs(business_state.latitude) < (business_state.latitude[0] + 1))]"
   ]
  },
  {
   "cell_type": "code",
   "execution_count": null,
   "metadata": {
    "ExecuteTime": {
     "start_time": "2017-01-16T22:56:14.999Z"
    },
    "collapsed": true,
    "nbpresent": {
     "id": "86065e35-84a1-4422-9262-9297c893b8ed"
    },
    "run_control": {
     "frozen": false,
     "read_only": false
    }
   },
   "outputs": [],
   "source": [
    "len(nearby)"
   ]
  },
  {
   "cell_type": "code",
   "execution_count": null,
   "metadata": {
    "collapsed": true,
    "nbpresent": {
     "id": "c958721d-dc6a-4df4-8add-71cd3672c177"
    },
    "run_control": {
     "frozen": false,
     "read_only": false
    }
   },
   "outputs": [],
   "source": [
    "import pickle\n",
    "# save the nearby dictionary as it take a long time to build\n",
    "with open('nearby_businesses_dict.pickle', 'wb') as handle:\n",
    "    pickle.dump(nearby, handle, protocol=pickle.HIGHEST_PROTOCOL)\n",
    "# To load the dictionary un-comment the following:___\n",
    "# with open('nearby_businesses_dict.pickle', 'rb') as handle:\n",
    "#     b = pickle.load(handle)"
   ]
  },
  {
   "cell_type": "code",
   "execution_count": null,
   "metadata": {
    "collapsed": true,
    "nbpresent": {
     "id": "af9dff89-7757-4094-9fb5-28accee7b4e2"
    },
    "run_control": {
     "frozen": false,
     "read_only": false
    }
   },
   "outputs": [],
   "source": []
  },
  {
   "cell_type": "code",
   "execution_count": 534,
   "metadata": {
    "ExecuteTime": {
     "end_time": "2017-01-16T14:08:06.290253",
     "start_time": "2017-01-16T14:04:21.928476"
    },
    "collapsed": false,
    "nbpresent": {
     "id": "011c8ad0-9450-41bb-b79b-85bc2efbb672"
    },
    "run_control": {
     "frozen": false,
     "read_only": false
    }
   },
   "outputs": [],
   "source": [
    "# nearby ={}\n",
    "# max_nearbies = 0\n",
    "# business_groups = business_state.groupby('state')\n",
    "# for group in business_groups:\n",
    "    \n",
    "    \n",
    "    \n",
    "# for i in range(0, len(business)):\n",
    "#     nearby[business.business_id.iloc[i]]=[]\n",
    "#     c = 0\n",
    "#     for j in range(0, len(business)):\n",
    "#         if i==j: continue\n",
    "#         distance = vincenty(tuple(business.iloc[i][['latitude','longitude']]), tuple(business.iloc[j][['latitude','longitude']])).km\n",
    "#         if distance < 30:\n",
    "#             c += 1\n",
    "#             nearby[business.business_id.iloc[i]].extend([business.business_id.iloc[j]])        \n",
    "#     if c > max_nearbies:\n",
    "#         max_nearbies = c"
   ]
  },
  {
   "cell_type": "code",
   "execution_count": null,
   "metadata": {
    "collapsed": true,
    "nbpresent": {
     "id": "ed6c67d3-39b3-4223-a9fb-4def19bf2a69"
    },
    "run_control": {
     "frozen": false,
     "read_only": false
    }
   },
   "outputs": [],
   "source": []
  },
  {
   "cell_type": "code",
   "execution_count": null,
   "metadata": {
    "collapsed": true,
    "nbpresent": {
     "id": "6e27fe5f-44cc-41aa-9122-fdf57f560b67"
    },
    "run_control": {
     "frozen": false,
     "read_only": false
    }
   },
   "outputs": [],
   "source": []
  },
  {
   "cell_type": "code",
   "execution_count": null,
   "metadata": {
    "collapsed": true,
    "nbpresent": {
     "id": "49ec5ae5-aa4b-4462-8003-b49dde3ccc17"
    },
    "run_control": {
     "frozen": false,
     "read_only": false
    }
   },
   "outputs": [],
   "source": []
  },
  {
   "cell_type": "code",
   "execution_count": null,
   "metadata": {
    "collapsed": true,
    "nbpresent": {
     "id": "e0452aa1-48de-4080-bcb7-27848c159b88"
    },
    "run_control": {
     "frozen": false,
     "read_only": false
    }
   },
   "outputs": [],
   "source": []
  },
  {
   "cell_type": "code",
   "execution_count": null,
   "metadata": {
    "collapsed": true,
    "nbpresent": {
     "id": "e395b5c6-7a74-4853-a039-22b430d795ff"
    },
    "run_control": {
     "frozen": false,
     "read_only": false
    }
   },
   "outputs": [],
   "source": []
  },
  {
   "cell_type": "code",
   "execution_count": null,
   "metadata": {
    "collapsed": true,
    "nbpresent": {
     "id": "505bc7e2-04ee-468e-bcfe-64893c53247b"
    },
    "run_control": {
     "frozen": false,
     "read_only": false
    }
   },
   "outputs": [],
   "source": []
  },
  {
   "cell_type": "code",
   "execution_count": null,
   "metadata": {
    "collapsed": true,
    "nbpresent": {
     "id": "cc36359e-00fa-4831-8808-169e108cd21f"
    },
    "run_control": {
     "frozen": false,
     "read_only": false
    }
   },
   "outputs": [],
   "source": []
  },
  {
   "cell_type": "code",
   "execution_count": null,
   "metadata": {
    "collapsed": true,
    "nbpresent": {
     "id": "031a68b7-7734-41a0-aacb-162e948019aa"
    },
    "run_control": {
     "frozen": false,
     "read_only": false
    }
   },
   "outputs": [],
   "source": []
  },
  {
   "cell_type": "code",
   "execution_count": null,
   "metadata": {
    "collapsed": true,
    "nbpresent": {
     "id": "6d00d214-e08d-4ae2-a34f-0b491192fa6b"
    },
    "run_control": {
     "frozen": false,
     "read_only": false
    }
   },
   "outputs": [],
   "source": []
  },
  {
   "cell_type": "code",
   "execution_count": 170,
   "metadata": {
    "ExecuteTime": {
     "end_time": "2017-01-17T03:58:24.816850",
     "start_time": "2017-01-17T03:58:24.811826"
    },
    "collapsed": false,
    "nbpresent": {
     "id": "3f4d13a9-1646-4049-b96c-b4c336565e4a"
    },
    "run_control": {
     "frozen": false,
     "read_only": false
    }
   },
   "outputs": [
    {
     "data": {
      "text/plain": [
       "'0.19.2'"
      ]
     },
     "execution_count": 170,
     "metadata": {},
     "output_type": "execute_result"
    }
   ],
   "source": [
    "pd.__version__"
   ]
  },
  {
   "cell_type": "code",
   "execution_count": null,
   "metadata": {
    "collapsed": true,
    "nbpresent": {
     "id": "2236c6cc-08e4-4faf-a79f-0ab40ffa1036"
    },
    "run_control": {
     "frozen": false,
     "read_only": false
    }
   },
   "outputs": [],
   "source": []
  }
 ],
 "metadata": {
  "anaconda-cloud": {},
  "celltoolbar": "Raw Cell Format",
  "kernelspec": {
   "display_name": "Python [conda root]",
   "language": "python",
   "name": "conda-root-py"
  },
  "language_info": {
   "codemirror_mode": {
    "name": "ipython",
    "version": 3
   },
   "file_extension": ".py",
   "mimetype": "text/x-python",
   "name": "python",
   "nbconvert_exporter": "python",
   "pygments_lexer": "ipython3",
   "version": "3.5.2"
  },
  "nbpresent": {
   "slides": {
    "44a7b797-e8ec-4ff1-a241-09b680ce442c": {
     "id": "44a7b797-e8ec-4ff1-a241-09b680ce442c",
     "prev": null,
     "regions": {
      "942895c2-5d21-478b-915f-532c3df32b70": {
       "attrs": {
        "height": 0.8,
        "width": 0.45,
        "x": 0.5,
        "y": 0.1
       },
       "id": "942895c2-5d21-478b-915f-532c3df32b70"
      },
      "d705ec05-9a89-40a4-84a3-429e28e36ce4": {
       "attrs": {
        "height": 0.8,
        "width": 0.45,
        "x": 0.05,
        "y": 0.1
       },
       "id": "d705ec05-9a89-40a4-84a3-429e28e36ce4"
      }
     }
    }
   },
   "themes": {}
  },
  "toc": {
   "colors": {
    "hover_highlight": "#DAA520",
    "running_highlight": "#FF0000",
    "selected_highlight": "#FFD700"
   },
   "moveMenuLeft": true,
   "nav_menu": {
    "height": "177px",
    "width": "252px"
   },
   "navigate_menu": true,
   "number_sections": true,
   "sideBar": false,
   "threshold": 4,
   "toc_cell": false,
   "toc_position": {
    "height": "333px",
    "left": "658px",
    "right": "278px",
    "top": "237px",
    "width": "600px"
   },
   "toc_section_display": "block",
   "toc_window_display": false
  }
 },
 "nbformat": 4,
 "nbformat_minor": 1
}
